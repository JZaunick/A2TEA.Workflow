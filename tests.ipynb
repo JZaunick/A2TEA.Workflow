{
 "cells": [
  {
   "cell_type": "code",
   "execution_count": 1,
   "metadata": {},
   "outputs": [
    {
     "name": "stdout",
     "output_type": "stream",
     "text": [
      "/gpfs/scratch/cb/stoecker/A2TEA-devel/A2TEA\r\n"
     ]
    }
   ],
   "source": [
    "! pwd"
   ]
  },
  {
   "cell_type": "code",
   "execution_count": 2,
   "metadata": {},
   "outputs": [],
   "source": [
    "import pandas as pd"
   ]
  },
  {
   "cell_type": "code",
   "execution_count": 5,
   "metadata": {},
   "outputs": [
    {
     "data": {
      "text/html": [
       "<div>\n",
       "<style scoped>\n",
       "    .dataframe tbody tr th:only-of-type {\n",
       "        vertical-align: middle;\n",
       "    }\n",
       "\n",
       "    .dataframe tbody tr th {\n",
       "        vertical-align: top;\n",
       "    }\n",
       "\n",
       "    .dataframe thead th {\n",
       "        text-align: right;\n",
       "    }\n",
       "</style>\n",
       "<table border=\"1\" class=\"dataframe\">\n",
       "  <thead>\n",
       "    <tr style=\"text-align: right;\">\n",
       "      <th></th>\n",
       "      <th>species</th>\n",
       "      <th>pep_fasta</th>\n",
       "      <th>cDNA_fasta</th>\n",
       "      <th>gen_fasta</th>\n",
       "      <th>annotation</th>\n",
       "    </tr>\n",
       "  </thead>\n",
       "  <tbody>\n",
       "    <tr>\n",
       "      <th>0</th>\n",
       "      <td>Hordeum_vulgare</td>\n",
       "      <td>PS/Hordeum_vulgare.IBSC_v2.pep.all.fa</td>\n",
       "      <td>FGS/Hordeum_vulgare.IBSC_v2.cdna.all.fa.gz</td>\n",
       "      <td>FGS/Hordeum_vulgare.IBSC_v2.dna.toplevel.fa</td>\n",
       "      <td>ftp://ftp.ensemblgenomes.org/pub/plants/releas...</td>\n",
       "    </tr>\n",
       "    <tr>\n",
       "      <th>1</th>\n",
       "      <td>Zea_mays</td>\n",
       "      <td>PS/Zea_mays.B73_RefGen_v4.pep.all.fa</td>\n",
       "      <td>FGS/Zea_mays.B73_RefGen_v4.cdna.all.fa.gz</td>\n",
       "      <td>FGS/Zea_mays.B73_RefGen_v4.dna.toplevel.fa</td>\n",
       "      <td>ftp://ftp.ensemblgenomes.org/pub/plants/releas...</td>\n",
       "    </tr>\n",
       "  </tbody>\n",
       "</table>\n",
       "</div>"
      ],
      "text/plain": [
       "           species                              pep_fasta  \\\n",
       "0  Hordeum_vulgare  PS/Hordeum_vulgare.IBSC_v2.pep.all.fa   \n",
       "1         Zea_mays   PS/Zea_mays.B73_RefGen_v4.pep.all.fa   \n",
       "\n",
       "                                   cDNA_fasta  \\\n",
       "0  FGS/Hordeum_vulgare.IBSC_v2.cdna.all.fa.gz   \n",
       "1   FGS/Zea_mays.B73_RefGen_v4.cdna.all.fa.gz   \n",
       "\n",
       "                                     gen_fasta  \\\n",
       "0  FGS/Hordeum_vulgare.IBSC_v2.dna.toplevel.fa   \n",
       "1   FGS/Zea_mays.B73_RefGen_v4.dna.toplevel.fa   \n",
       "\n",
       "                                          annotation  \n",
       "0  ftp://ftp.ensemblgenomes.org/pub/plants/releas...  \n",
       "1  ftp://ftp.ensemblgenomes.org/pub/plants/releas...  "
      ]
     },
     "execution_count": 5,
     "metadata": {},
     "output_type": "execute_result"
    }
   ],
   "source": [
    "species_table = pd.read_table(\"species.tsv\")\n",
    "species = list(species_table.species.unique())\n",
    "species_table\n"
   ]
  },
  {
   "cell_type": "code",
   "execution_count": 4,
   "metadata": {},
   "outputs": [
    {
     "data": {
      "text/plain": [
       "['Hordeum_vulgare', 'Zea_mays']"
      ]
     },
     "execution_count": 4,
     "metadata": {},
     "output_type": "execute_result"
    }
   ],
   "source": [
    "species"
   ]
  },
  {
   "cell_type": "code",
   "execution_count": 6,
   "metadata": {},
   "outputs": [
    {
     "data": {
      "text/html": [
       "<div>\n",
       "<style scoped>\n",
       "    .dataframe tbody tr th:only-of-type {\n",
       "        vertical-align: middle;\n",
       "    }\n",
       "\n",
       "    .dataframe tbody tr th {\n",
       "        vertical-align: top;\n",
       "    }\n",
       "\n",
       "    .dataframe thead th {\n",
       "        text-align: right;\n",
       "    }\n",
       "</style>\n",
       "<table border=\"1\" class=\"dataframe\">\n",
       "  <thead>\n",
       "    <tr style=\"text-align: right;\">\n",
       "      <th></th>\n",
       "      <th>pep_fasta</th>\n",
       "      <th>cDNA_fasta</th>\n",
       "      <th>gen_fasta</th>\n",
       "      <th>annotation</th>\n",
       "    </tr>\n",
       "    <tr>\n",
       "      <th>species</th>\n",
       "      <th></th>\n",
       "      <th></th>\n",
       "      <th></th>\n",
       "      <th></th>\n",
       "    </tr>\n",
       "  </thead>\n",
       "  <tbody>\n",
       "    <tr>\n",
       "      <th>Hordeum_vulgare</th>\n",
       "      <td>PS/Hordeum_vulgare.IBSC_v2.pep.all.fa</td>\n",
       "      <td>FGS/Hordeum_vulgare.IBSC_v2.cdna.all.fa.gz</td>\n",
       "      <td>FGS/Hordeum_vulgare.IBSC_v2.dna.toplevel.fa</td>\n",
       "      <td>ftp://ftp.ensemblgenomes.org/pub/plants/releas...</td>\n",
       "    </tr>\n",
       "    <tr>\n",
       "      <th>Zea_mays</th>\n",
       "      <td>PS/Zea_mays.B73_RefGen_v4.pep.all.fa</td>\n",
       "      <td>FGS/Zea_mays.B73_RefGen_v4.cdna.all.fa.gz</td>\n",
       "      <td>FGS/Zea_mays.B73_RefGen_v4.dna.toplevel.fa</td>\n",
       "      <td>ftp://ftp.ensemblgenomes.org/pub/plants/releas...</td>\n",
       "    </tr>\n",
       "  </tbody>\n",
       "</table>\n",
       "</div>"
      ],
      "text/plain": [
       "                                             pep_fasta  \\\n",
       "species                                                  \n",
       "Hordeum_vulgare  PS/Hordeum_vulgare.IBSC_v2.pep.all.fa   \n",
       "Zea_mays          PS/Zea_mays.B73_RefGen_v4.pep.all.fa   \n",
       "\n",
       "                                                 cDNA_fasta  \\\n",
       "species                                                       \n",
       "Hordeum_vulgare  FGS/Hordeum_vulgare.IBSC_v2.cdna.all.fa.gz   \n",
       "Zea_mays          FGS/Zea_mays.B73_RefGen_v4.cdna.all.fa.gz   \n",
       "\n",
       "                                                   gen_fasta  \\\n",
       "species                                                        \n",
       "Hordeum_vulgare  FGS/Hordeum_vulgare.IBSC_v2.dna.toplevel.fa   \n",
       "Zea_mays          FGS/Zea_mays.B73_RefGen_v4.dna.toplevel.fa   \n",
       "\n",
       "                                                        annotation  \n",
       "species                                                             \n",
       "Hordeum_vulgare  ftp://ftp.ensemblgenomes.org/pub/plants/releas...  \n",
       "Zea_mays         ftp://ftp.ensemblgenomes.org/pub/plants/releas...  "
      ]
     },
     "execution_count": 6,
     "metadata": {},
     "output_type": "execute_result"
    }
   ],
   "source": [
    "species = pd.read_table(\"species.tsv\").set_index(\"species\")\n",
    "species"
   ]
  },
  {
   "cell_type": "code",
   "execution_count": 7,
   "metadata": {},
   "outputs": [
    {
     "data": {
      "text/plain": [
       "['Hordeum_vulgare', 'Zea_mays']"
      ]
     },
     "execution_count": 7,
     "metadata": {},
     "output_type": "execute_result"
    }
   ],
   "source": [
    "SPECIES = species.index.tolist()\n",
    "SPECIES"
   ]
  },
  {
   "cell_type": "code",
   "execution_count": 9,
   "metadata": {},
   "outputs": [
    {
     "data": {
      "text/html": [
       "<div>\n",
       "<style scoped>\n",
       "    .dataframe tbody tr th:only-of-type {\n",
       "        vertical-align: middle;\n",
       "    }\n",
       "\n",
       "    .dataframe tbody tr th {\n",
       "        vertical-align: top;\n",
       "    }\n",
       "\n",
       "    .dataframe thead th {\n",
       "        text-align: right;\n",
       "    }\n",
       "</style>\n",
       "<table border=\"1\" class=\"dataframe\">\n",
       "  <thead>\n",
       "    <tr style=\"text-align: right;\">\n",
       "      <th></th>\n",
       "      <th>pep_fasta</th>\n",
       "      <th>cDNA_fasta</th>\n",
       "      <th>gen_fasta</th>\n",
       "      <th>annotation</th>\n",
       "    </tr>\n",
       "    <tr>\n",
       "      <th>species</th>\n",
       "      <th></th>\n",
       "      <th></th>\n",
       "      <th></th>\n",
       "      <th></th>\n",
       "    </tr>\n",
       "  </thead>\n",
       "  <tbody>\n",
       "    <tr>\n",
       "      <th>Hordeum_vulgare</th>\n",
       "      <td>PS/Hordeum_vulgare.IBSC_v2.pep.all.fa</td>\n",
       "      <td>FGS/Hordeum_vulgare.IBSC_v2.cdna.all.fa.gz</td>\n",
       "      <td>FGS/Hordeum_vulgare.IBSC_v2.dna.toplevel.fa</td>\n",
       "      <td>ftp://ftp.ensemblgenomes.org/pub/plants/releas...</td>\n",
       "    </tr>\n",
       "    <tr>\n",
       "      <th>Zea_mays</th>\n",
       "      <td>PS/Zea_mays.B73_RefGen_v4.pep.all.fa</td>\n",
       "      <td>FGS/Zea_mays.B73_RefGen_v4.cdna.all.fa.gz</td>\n",
       "      <td>FGS/Zea_mays.B73_RefGen_v4.dna.toplevel.fa</td>\n",
       "      <td>ftp://ftp.ensemblgenomes.org/pub/plants/releas...</td>\n",
       "    </tr>\n",
       "  </tbody>\n",
       "</table>\n",
       "</div>"
      ],
      "text/plain": [
       "                                             pep_fasta  \\\n",
       "species                                                  \n",
       "Hordeum_vulgare  PS/Hordeum_vulgare.IBSC_v2.pep.all.fa   \n",
       "Zea_mays          PS/Zea_mays.B73_RefGen_v4.pep.all.fa   \n",
       "\n",
       "                                                 cDNA_fasta  \\\n",
       "species                                                       \n",
       "Hordeum_vulgare  FGS/Hordeum_vulgare.IBSC_v2.cdna.all.fa.gz   \n",
       "Zea_mays          FGS/Zea_mays.B73_RefGen_v4.cdna.all.fa.gz   \n",
       "\n",
       "                                                   gen_fasta  \\\n",
       "species                                                        \n",
       "Hordeum_vulgare  FGS/Hordeum_vulgare.IBSC_v2.dna.toplevel.fa   \n",
       "Zea_mays          FGS/Zea_mays.B73_RefGen_v4.dna.toplevel.fa   \n",
       "\n",
       "                                                        annotation  \n",
       "species                                                             \n",
       "Hordeum_vulgare  ftp://ftp.ensemblgenomes.org/pub/plants/releas...  \n",
       "Zea_mays         ftp://ftp.ensemblgenomes.org/pub/plants/releas...  "
      ]
     },
     "execution_count": 9,
     "metadata": {},
     "output_type": "execute_result"
    }
   ],
   "source": [
    "species_table = pd.read_table(\"species.tsv\").set_index(\"species\")\n",
    "species = species_table.index.tolist()\n",
    "species_table"
   ]
  },
  {
   "cell_type": "code",
   "execution_count": 16,
   "metadata": {},
   "outputs": [
    {
     "data": {
      "text/plain": [
       "species\n",
       "Hordeum_vulgare    FGS/Hordeum_vulgare.IBSC_v2.cdna.all.fa.gz\n",
       "Name: cDNA_fasta, dtype: object"
      ]
     },
     "execution_count": 16,
     "metadata": {},
     "output_type": "execute_result"
    }
   ],
   "source": [
    "species_table = pd.read_table(\"species.tsv\").set_index(\"species\")\n",
    "species = species_table.index.tolist()\n",
    "#species\n",
    "species_table.cDNA_fasta[species_table.index == \"Hordeum_vulgare\"]"
   ]
  },
  {
   "cell_type": "code",
   "execution_count": 17,
   "metadata": {},
   "outputs": [
    {
     "data": {
      "text/plain": [
       "0    FGS/Hordeum_vulgare.IBSC_v2.cdna.all.fa.gz\n",
       "Name: cDNA_fasta, dtype: object"
      ]
     },
     "execution_count": 17,
     "metadata": {},
     "output_type": "execute_result"
    }
   ],
   "source": [
    "species_table = pd.read_table(\"species.tsv\")\n",
    "species = list(species_table.species.unique())\n",
    "species_table.cDNA_fasta[species_table.species == \"Hordeum_vulgare\"]"
   ]
  },
  {
   "cell_type": "code",
   "execution_count": null,
   "metadata": {},
   "outputs": [],
   "source": []
  },
  {
   "cell_type": "code",
   "execution_count": 18,
   "metadata": {},
   "outputs": [],
   "source": [
    "import os"
   ]
  },
  {
   "cell_type": "code",
   "execution_count": 3,
   "metadata": {},
   "outputs": [],
   "source": [
    "species = pd.read_table(\"species.tsv\").set_index(\"species\")\n",
    "SPECIES = species.index.tolist()"
   ]
  },
  {
   "cell_type": "code",
   "execution_count": 21,
   "metadata": {},
   "outputs": [
    {
     "data": {
      "text/plain": [
       "'PS/Hordeum_vulgare.IBSC_v2.pep.all.fa'"
      ]
     },
     "execution_count": 21,
     "metadata": {},
     "output_type": "execute_result"
    }
   ],
   "source": [
    "def get_species_fasta():\n",
    "    return species.loc[\"Hordeum_vulgare\"][\"pep_fasta\"]\n",
    "get_species_fasta()"
   ]
  },
  {
   "cell_type": "code",
   "execution_count": 23,
   "metadata": {},
   "outputs": [
    {
     "data": {
      "text/plain": [
       "'PS/longest_isoforms/Hordeum_vulgare.IBSC_v2.pep.all.fa'"
      ]
     },
     "execution_count": 23,
     "metadata": {},
     "output_type": "execute_result"
    }
   ],
   "source": [
    "def get_longest_isoforms():\n",
    "    return os.path.join(\"PS/longest_isoforms/\", os.path.split(get_species_fasta())[1])\n"
   ]
  },
  {
   "cell_type": "code",
   "execution_count": null,
   "metadata": {},
   "outputs": [],
   "source": [
    "PS/longest_isoforms/Hordeum_vulgare.IBSC_v2.pep.all.fa"
   ]
  },
  {
   "cell_type": "code",
   "execution_count": 28,
   "metadata": {},
   "outputs": [],
   "source": [
    "! mkdir testos\n",
    "! mv test2.txt testos/"
   ]
  },
  {
   "cell_type": "code",
   "execution_count": 29,
   "metadata": {},
   "outputs": [],
   "source": [
    "os.rename(r'testos/test2.txt', r'testos/test3.txt')"
   ]
  },
  {
   "cell_type": "code",
   "execution_count": 30,
   "metadata": {},
   "outputs": [
    {
     "name": "stdout",
     "output_type": "stream",
     "text": [
      "test3.txt\r\n"
     ]
    }
   ],
   "source": [
    "! ls testos/"
   ]
  }
 ],
 "metadata": {
  "kernelspec": {
   "display_name": "Python 3",
   "language": "python",
   "name": "python3"
  },
  "language_info": {
   "codemirror_mode": {
    "name": "ipython",
    "version": 3
   },
   "file_extension": ".py",
   "mimetype": "text/x-python",
   "name": "python",
   "nbconvert_exporter": "python",
   "pygments_lexer": "ipython3",
   "version": "3.7.6"
  }
 },
 "nbformat": 4,
 "nbformat_minor": 4
}
