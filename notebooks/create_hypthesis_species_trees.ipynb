{
 "cells": [
  {
   "cell_type": "code",
   "execution_count": 4,
   "id": "fantastic-surrey",
   "metadata": {},
   "outputs": [],
   "source": [
    "library(readr)\n",
    "library(stringr)\n",
    "library(ape)"
   ]
  },
  {
   "cell_type": "code",
   "execution_count": 2,
   "id": "alternative-lindsay",
   "metadata": {},
   "outputs": [
    {
     "name": "stderr",
     "output_type": "stream",
     "text": [
      "\n",
      "\u001b[36m──\u001b[39m \u001b[1m\u001b[1mColumn specification\u001b[1m\u001b[22m \u001b[36m────────────────────────────────────────────────────────────────────────────────────────────────────────\u001b[39m\n",
      "cols(\n",
      "  hypothesis = \u001b[32mcol_double()\u001b[39m,\n",
      "  name = \u001b[31mcol_character()\u001b[39m,\n",
      "  expanded_in = \u001b[31mcol_character()\u001b[39m,\n",
      "  compared_to = \u001b[31mcol_character()\u001b[39m\n",
      ")\n",
      "\n",
      "\n"
     ]
    },
    {
     "data": {
      "text/html": [
       "'Arabidopsis_thaliana'"
      ],
      "text/latex": [
       "'Arabidopsis\\_thaliana'"
      ],
      "text/markdown": [
       "'Arabidopsis_thaliana'"
      ],
      "text/plain": [
       "[1] \"Arabidopsis_thaliana\""
      ]
     },
     "metadata": {},
     "output_type": "display_data"
    },
    {
     "data": {
      "text/html": [
       "'Hordeum_vulgare'"
      ],
      "text/latex": [
       "'Hordeum\\_vulgare'"
      ],
      "text/markdown": [
       "'Hordeum_vulgare'"
      ],
      "text/plain": [
       "[1] \"Hordeum_vulgare\""
      ]
     },
     "metadata": {},
     "output_type": "display_data"
    }
   ],
   "source": [
    "# read-in hypothesis object\n",
    "hypotheses <- read_delim(\"hypotheses.tsv\", delim = \"\\t\")\n",
    "hypotheses$expanded_in[1]\n",
    "hypotheses$expanded_in[2]"
   ]
  },
  {
   "cell_type": "code",
   "execution_count": 11,
   "id": "juvenile-graham",
   "metadata": {
    "collapsed": true
   },
   "outputs": [
    {
     "name": "stderr",
     "output_type": "stream",
     "text": [
      "Warning message in dir.create(paste(\"orthofinder/final-results/Species_Tree/\", \"hypothesis_specific/\", :\n",
      "“cannot create dir 'orthofinder/final-results/Species_Tree/hypothesis_specific/1', reason 'No such file or directory'”\n",
      "Warning message in file(file, ifelse(append, \"a\", \"w\")):\n",
      "“cannot open file 'orthofinder/final-results/Species_Tree/hypothesis_specific/1/SpeciesTree_rooted_node_labels.txt': No such file or directory”\n"
     ]
    },
    {
     "ename": "ERROR",
     "evalue": "Error in file(file, ifelse(append, \"a\", \"w\")): cannot open the connection\n",
     "output_type": "error",
     "traceback": [
      "Error in file(file, ifelse(append, \"a\", \"w\")): cannot open the connection\nTraceback:\n",
      "1. write.tree(speciesTree, file = paste0(\"orthofinder/final-results/Species_Tree/\", \n .     \"hypothesis_specific/\", hypothesis, \"/SpeciesTree_rooted_node_labels.txt\"), \n .     append = FALSE, tree.names = FALSE)",
      "2. cat(res, file = file, append = append, sep = \"\\n\")",
      "3. file(file, ifelse(append, \"a\", \"w\"))"
     ]
    }
   ],
   "source": [
    "# loop through hypotheses\n",
    "for (hypothesis in hypotheses$hypothesis) {\n",
    "\n",
    "# assign or subset the orthofinder species_tree based on the current hypothesis\n",
    "speciesTree <- ape::keep.tip(read.tree(\"orthofinder/final-results/Species_Tree/SpeciesTree_rooted_node_labels.txt\"), \n",
    "                                 c(unlist(str_split(hypotheses$expanded_in[hypothesis], \";\")), \n",
    "                                   unlist(str_split(hypotheses$compared_to[hypothesis], \";\"))))\n",
    "\n",
    "# create directories (handled by snakemake)\n",
    "#dir.create(paste(\"orthofinder/final-results/Species_Tree/\", \"hypothesis_specific/\", hypothesis, \"/\", sep = \"\"))\n",
    "    \n",
    "write.tree(speciesTree, \n",
    "           file = paste0(\"orthofinder/final-results/Species_Tree/\", \"hypothesis_specific/\", hypothesis,\n",
    "                         \"/SpeciesTree_rooted_node_labels.txt\"), \n",
    "           append = FALSE, \n",
    "           tree.names = FALSE)\n",
    "}"
   ]
  },
  {
   "cell_type": "code",
   "execution_count": 9,
   "id": "ceramic-layer",
   "metadata": {},
   "outputs": [
    {
     "data": {
      "text/html": [
       "'/scratch2/cropbio/stoecker/A2TEA-pipeline/a2tea'"
      ],
      "text/latex": [
       "'/scratch2/cropbio/stoecker/A2TEA-pipeline/a2tea'"
      ],
      "text/markdown": [
       "'/scratch2/cropbio/stoecker/A2TEA-pipeline/a2tea'"
      ],
      "text/plain": [
       "[1] \"/scratch2/cropbio/stoecker/A2TEA-pipeline/a2tea\""
      ]
     },
     "metadata": {},
     "output_type": "display_data"
    }
   ],
   "source": [
    "getwd()"
   ]
  },
  {
   "cell_type": "code",
   "execution_count": null,
   "id": "gross-lease",
   "metadata": {},
   "outputs": [],
   "source": []
  },
  {
   "cell_type": "code",
   "execution_count": null,
   "id": "middle-peace",
   "metadata": {},
   "outputs": [],
   "source": []
  }
 ],
 "metadata": {
  "kernelspec": {
   "display_name": "R",
   "language": "R",
   "name": "ir"
  },
  "language_info": {
   "codemirror_mode": "r",
   "file_extension": ".r",
   "mimetype": "text/x-r-source",
   "name": "R",
   "pygments_lexer": "r",
   "version": "4.0.2"
  }
 },
 "nbformat": 4,
 "nbformat_minor": 5
}
