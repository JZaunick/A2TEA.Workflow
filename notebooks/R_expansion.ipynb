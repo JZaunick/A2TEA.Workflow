{
 "cells": [
  {
   "cell_type": "code",
   "execution_count": null,
   "metadata": {},
   "outputs": [],
   "source": [
    "R.version"
   ]
  },
  {
   "cell_type": "code",
   "execution_count": 2,
   "metadata": {
    "collapsed": true,
    "jupyter": {
     "outputs_hidden": true
    },
    "tags": []
   },
   "outputs": [
    {
     "name": "stderr",
     "output_type": "stream",
     "text": [
      "also installing the dependency ‘Rcpp’\n",
      "\n",
      "\n",
      "Updating HTML index of packages in '.Library'\n",
      "\n",
      "Making 'packages.html' ...\n",
      " done\n",
      "\n",
      "also installing the dependencies ‘pkgconfig’, ‘purrr’, ‘generics’, ‘magrittr’, ‘R6’, ‘tibble’, ‘tidyselect’\n",
      "\n",
      "\n",
      "Updating HTML index of packages in '.Library'\n",
      "\n",
      "Making 'packages.html' ...\n",
      " done\n",
      "\n",
      "also installing the dependencies ‘bit’, ‘prettyunits’, ‘bit64’, ‘withr’, ‘progress’, ‘clipr’, ‘hms’, ‘vroom’, ‘cpp11’, ‘tzdb’\n",
      "\n",
      "\n",
      "Updating HTML index of packages in '.Library'\n",
      "\n",
      "Making 'packages.html' ...\n",
      " done\n",
      "\n",
      "also installing the dependency ‘stringi’\n",
      "\n",
      "\n",
      "Updating HTML index of packages in '.Library'\n",
      "\n",
      "Making 'packages.html' ...\n",
      " done\n",
      "\n",
      "Updating HTML index of packages in '.Library'\n",
      "\n",
      "Making 'packages.html' ...\n",
      " done\n",
      "\n",
      "Updating HTML index of packages in '.Library'\n",
      "\n",
      "Making 'packages.html' ...\n",
      " done\n",
      "\n"
     ]
    }
   ],
   "source": [
    "#install.packages(\"tidyverse\")\n",
    "install.packages(\"plyr\")\n",
    "install.packages(\"dplyr\")\n",
    "install.packages(\"readr\")\n",
    "install.packages(\"stringr\")\n",
    "install.packages(\"tidyr\")\n",
    "install.packages(\"tibble\")\n",
    "install.packages(\"reshape2\")"
   ]
  },
  {
   "cell_type": "code",
   "execution_count": 2,
   "metadata": {},
   "outputs": [],
   "source": [
    "#plyr before dplyr!\n",
    "#library(tidyverse)\n",
    "\n",
    "library(readr)\n",
    "library(plyr)\n",
    "library(dplyr)\n",
    "library(stringr)\n",
    "library(tidyr)\n",
    "library(tibble)\n",
    "library(reshape2)"
   ]
  },
  {
   "cell_type": "code",
   "execution_count": 3,
   "metadata": {},
   "outputs": [
    {
     "data": {
      "text/html": [
       "'/scratch2/cropbio/stoecker/A2TEA-pipeline/master_dev/a2tea/notebooks'"
      ],
      "text/latex": [
       "'/scratch2/cropbio/stoecker/A2TEA-pipeline/master\\_dev/a2tea/notebooks'"
      ],
      "text/markdown": [
       "'/scratch2/cropbio/stoecker/A2TEA-pipeline/master_dev/a2tea/notebooks'"
      ],
      "text/plain": [
       "[1] \"/scratch2/cropbio/stoecker/A2TEA-pipeline/master_dev/a2tea/notebooks\""
      ]
     },
     "metadata": {},
     "output_type": "display_data"
    }
   ],
   "source": [
    "getwd()"
   ]
  },
  {
   "cell_type": "code",
   "execution_count": 24,
   "metadata": {},
   "outputs": [],
   "source": [
    "#read-in \"name\", \"expanded_in\" and \"compared_to\" \n",
    "num = \"2\"\n",
    "name = \"Expanded in barley compared to maize\"\n",
    "#expanded_in = \"Arabidopsis_thaliana\"\n",
    "#compared_to = c(\"Hordeum_vulgare\", \"Zea_mays\")\n",
    "#expanded_in = \"Arabidopsis_thaliana\"\n",
    "#compared_to = c(\"Zea_mays\", \"Hordeum_vulgare\")\n",
    "expanded_in = \"Hordeum_vulgare\"\n",
    "compared_to = \"Zea_mays\""
   ]
  },
  {
   "cell_type": "code",
   "execution_count": 25,
   "metadata": {},
   "outputs": [
    {
     "name": "stderr",
     "output_type": "stream",
     "text": [
      "\u001b[1mRows: \u001b[22m\u001b[34m3372\u001b[39m \u001b[1mColumns: \u001b[22m\u001b[34m5\u001b[39m\n",
      "\u001b[36m──\u001b[39m \u001b[1mColumn specification\u001b[22m \u001b[36m──────────────────────────────────────────────────────────────────────────────────────────────────────────────────────────────────────────────────────────────────────────────\u001b[39m\n",
      "\u001b[1mDelimiter:\u001b[22m \"\\t\"\n",
      "\u001b[31mchr\u001b[39m (1): Orthogroup\n",
      "\u001b[32mdbl\u001b[39m (4): Arabidopsis_thaliana, Hordeum_vulgare, Zea_mays, Total\n",
      "\n",
      "\u001b[36mℹ\u001b[39m Use `spec()` to retrieve the full column specification for this data.\n",
      "\u001b[36mℹ\u001b[39m Specify the column types or set `show_col_types = FALSE` to quiet this message.\n"
     ]
    }
   ],
   "source": [
    "OG.GC <- readr::read_tsv(\"../orthofinder/final-results/Orthogroups/Orthogroups.GeneCount.tsv\")"
   ]
  },
  {
   "cell_type": "code",
   "execution_count": 26,
   "metadata": {},
   "outputs": [
    {
     "data": {
      "text/html": [
       "'Zea_mays'"
      ],
      "text/latex": [
       "'Zea\\_mays'"
      ],
      "text/markdown": [
       "'Zea_mays'"
      ],
      "text/plain": [
       "[1] \"Zea_mays\""
      ]
     },
     "metadata": {},
     "output_type": "display_data"
    }
   ],
   "source": [
    "#THis step is actually in the python functions; however here I I need a solution to test the downstream steps:\n",
    "#I can use strsplit to split the \";\" seperated columns\n",
    "#strsplit creates a list and the [[1]] selects the first list item (we only have one, in this case).\n",
    "#The result at this point is in list form, we can use \"unlist\" that works with the downstream steps.\n",
    "#compared_to\n",
    "#c_t_species <- unlist(strsplit(compared_to, \";\"))\n",
    "#compared_to\n",
    "c_t_species <- compared_to\n",
    "c_t_species"
   ]
  },
  {
   "cell_type": "code",
   "execution_count": 8,
   "metadata": {
    "scrolled": true
   },
   "outputs": [],
   "source": [
    "#get() function solves my problems of using the character functions inside dplyr\n",
    "#expanded_OGs <- OG.GC\n",
    "#for (i in c_t_species) {\n",
    "#    expanded_OGs <- expanded_OGs %>% dplyr::filter(get(expanded_in) > 3*(get(i)))\n",
    "#    }\n",
    "#expanded_OGs"
   ]
  },
  {
   "cell_type": "code",
   "execution_count": 6,
   "metadata": {},
   "outputs": [
    {
     "name": "stdout",
     "output_type": "stream",
     "text": [
      "[1] \"hello\"\n"
     ]
    }
   ],
   "source": [
    "print(\"hello\")"
   ]
  },
  {
   "cell_type": "code",
   "execution_count": null,
   "metadata": {},
   "outputs": [],
   "source": []
  },
  {
   "cell_type": "code",
   "execution_count": null,
   "metadata": {},
   "outputs": [],
   "source": [
    "##keeping in line with smaller scripts and modularity:\n",
    "\n",
    "#1) save Orthogroups for this hypothesis as first result; TEA directory; subd. GFEs ;subd. hypothesis number\n",
    "\n",
    "#2)parallel seperate rule\n",
    "#getting all BLAST hits and substituting for actual OG names\n",
    "\n",
    "#3) use hypothesis wildcard and new R script to perform BLAST filtering\n",
    "# -> write these results to file again\n",
    "\n",
    "#4) snakemake muscle, gblocks and fastTree (alternative programmes?)\n",
    "\n",
    "#5) load data into R, plot with ggtree; \n",
    "#-> here, stability and cleanup\n",
    "\n",
    "#6) and then all the other stuff"
   ]
  },
  {
   "cell_type": "code",
   "execution_count": 27,
   "metadata": {},
   "outputs": [],
   "source": [
    "#concatenate all BLAST seaches to one file and create parseable tibble with read_delim\n",
    "#could add that only BLAST searches of our species in this hypothesis are used - toDO for later\n",
    "#easiest and efficient way is to bind outside of the loop\n",
    "#do.call is a nice way rbind(bind_rows[[1]], bind_rows[[2]], ...)\n",
    "datalist = list()\n",
    "for (i in Sys.glob(\"../orthofinder/search/*.txt\")) {\n",
    "    datalist[[i]] <- readr::read_delim(file = i,\n",
    "                                delim = \"\\t\",\n",
    "                                col_names = c(\n",
    "                                    \"qseqid\",\n",
    "                                    \"sseqid\",\n",
    "                                    \"pident\",\n",
    "                                    \"length\",\n",
    "                                    \"mismatch\",\n",
    "                                    \"gapopen\",\n",
    "                                    \"qstart\",\n",
    "                                    \"qend\",\n",
    "                                    \"sstart\",\n",
    "                                    \"send\",\n",
    "                                    \"evalue\",\n",
    "                                    \"bitscore\"),\n",
    "                                col_types = c(\n",
    "                                    qseqid = col_character(),\n",
    "                                    sseqid = col_character(),\n",
    "                                    pident = col_double(),\n",
    "                                    length = col_double(),\n",
    "                                    mismatch = col_double(),\n",
    "                                    gapopen = col_double(),\n",
    "                                    qstart = col_double(),\n",
    "                                    qend = col_double(),\n",
    "                                    sstart = col_double(),\n",
    "                                    send = col_double(),\n",
    "                                    evalue = col_double(),\n",
    "                                    bitscore = col_double()\n",
    "                                                )\n",
    "                                )\n",
    "                                                }\n",
    "\n",
    "all_BLAST <- base::do.call(bind_rows, datalist)"
   ]
  },
  {
   "cell_type": "code",
   "execution_count": 28,
   "metadata": {},
   "outputs": [
    {
     "data": {
      "text/html": [
       "<table class=\"dataframe\">\n",
       "<caption>A tibble: 6 × 12</caption>\n",
       "<thead>\n",
       "\t<tr><th scope=col>qseqid</th><th scope=col>sseqid</th><th scope=col>pident</th><th scope=col>length</th><th scope=col>mismatch</th><th scope=col>gapopen</th><th scope=col>qstart</th><th scope=col>qend</th><th scope=col>sstart</th><th scope=col>send</th><th scope=col>evalue</th><th scope=col>bitscore</th></tr>\n",
       "\t<tr><th scope=col>&lt;chr&gt;</th><th scope=col>&lt;chr&gt;</th><th scope=col>&lt;dbl&gt;</th><th scope=col>&lt;dbl&gt;</th><th scope=col>&lt;dbl&gt;</th><th scope=col>&lt;dbl&gt;</th><th scope=col>&lt;dbl&gt;</th><th scope=col>&lt;dbl&gt;</th><th scope=col>&lt;dbl&gt;</th><th scope=col>&lt;dbl&gt;</th><th scope=col>&lt;dbl&gt;</th><th scope=col>&lt;dbl&gt;</th></tr>\n",
       "</thead>\n",
       "<tbody>\n",
       "\t<tr><td>0_0</td><td>0_0   </td><td>100.0</td><td>232</td><td>  0</td><td>0</td><td>  1</td><td>232</td><td> 1</td><td>232</td><td>2.94e-165</td><td> 452.0</td></tr>\n",
       "\t<tr><td>0_1</td><td>0_1   </td><td>100.0</td><td>562</td><td>  0</td><td>0</td><td>  1</td><td>562</td><td> 1</td><td>562</td><td> 0.00e+00</td><td>1101.0</td></tr>\n",
       "\t<tr><td>0_2</td><td>0_2   </td><td>100.0</td><td>506</td><td>  0</td><td>0</td><td>  1</td><td>506</td><td> 1</td><td>506</td><td> 0.00e+00</td><td>1003.0</td></tr>\n",
       "\t<tr><td>0_3</td><td>0_3   </td><td>100.0</td><td>515</td><td>  0</td><td>0</td><td>  1</td><td>515</td><td> 1</td><td>515</td><td> 0.00e+00</td><td>1039.0</td></tr>\n",
       "\t<tr><td>0_3</td><td>0_1827</td><td> 31.3</td><td> 99</td><td> 66</td><td>1</td><td>101</td><td>199</td><td>59</td><td>155</td><td> 2.10e-10</td><td>  57.0</td></tr>\n",
       "\t<tr><td>0_3</td><td>0_4020</td><td> 22.9</td><td>205</td><td>150</td><td>4</td><td> 59</td><td>257</td><td>17</td><td>219</td><td> 7.71e-10</td><td>  57.8</td></tr>\n",
       "</tbody>\n",
       "</table>\n"
      ],
      "text/latex": [
       "A tibble: 6 × 12\n",
       "\\begin{tabular}{llllllllllll}\n",
       " qseqid & sseqid & pident & length & mismatch & gapopen & qstart & qend & sstart & send & evalue & bitscore\\\\\n",
       " <chr> & <chr> & <dbl> & <dbl> & <dbl> & <dbl> & <dbl> & <dbl> & <dbl> & <dbl> & <dbl> & <dbl>\\\\\n",
       "\\hline\n",
       "\t 0\\_0 & 0\\_0    & 100.0 & 232 &   0 & 0 &   1 & 232 &  1 & 232 & 2.94e-165 &  452.0\\\\\n",
       "\t 0\\_1 & 0\\_1    & 100.0 & 562 &   0 & 0 &   1 & 562 &  1 & 562 &  0.00e+00 & 1101.0\\\\\n",
       "\t 0\\_2 & 0\\_2    & 100.0 & 506 &   0 & 0 &   1 & 506 &  1 & 506 &  0.00e+00 & 1003.0\\\\\n",
       "\t 0\\_3 & 0\\_3    & 100.0 & 515 &   0 & 0 &   1 & 515 &  1 & 515 &  0.00e+00 & 1039.0\\\\\n",
       "\t 0\\_3 & 0\\_1827 &  31.3 &  99 &  66 & 1 & 101 & 199 & 59 & 155 &  2.10e-10 &   57.0\\\\\n",
       "\t 0\\_3 & 0\\_4020 &  22.9 & 205 & 150 & 4 &  59 & 257 & 17 & 219 &  7.71e-10 &   57.8\\\\\n",
       "\\end{tabular}\n"
      ],
      "text/markdown": [
       "\n",
       "A tibble: 6 × 12\n",
       "\n",
       "| qseqid &lt;chr&gt; | sseqid &lt;chr&gt; | pident &lt;dbl&gt; | length &lt;dbl&gt; | mismatch &lt;dbl&gt; | gapopen &lt;dbl&gt; | qstart &lt;dbl&gt; | qend &lt;dbl&gt; | sstart &lt;dbl&gt; | send &lt;dbl&gt; | evalue &lt;dbl&gt; | bitscore &lt;dbl&gt; |\n",
       "|---|---|---|---|---|---|---|---|---|---|---|---|\n",
       "| 0_0 | 0_0    | 100.0 | 232 |   0 | 0 |   1 | 232 |  1 | 232 | 2.94e-165 |  452.0 |\n",
       "| 0_1 | 0_1    | 100.0 | 562 |   0 | 0 |   1 | 562 |  1 | 562 |  0.00e+00 | 1101.0 |\n",
       "| 0_2 | 0_2    | 100.0 | 506 |   0 | 0 |   1 | 506 |  1 | 506 |  0.00e+00 | 1003.0 |\n",
       "| 0_3 | 0_3    | 100.0 | 515 |   0 | 0 |   1 | 515 |  1 | 515 |  0.00e+00 | 1039.0 |\n",
       "| 0_3 | 0_1827 |  31.3 |  99 |  66 | 1 | 101 | 199 | 59 | 155 |  2.10e-10 |   57.0 |\n",
       "| 0_3 | 0_4020 |  22.9 | 205 | 150 | 4 |  59 | 257 | 17 | 219 |  7.71e-10 |   57.8 |\n",
       "\n"
      ],
      "text/plain": [
       "  qseqid sseqid pident length mismatch gapopen qstart qend sstart send\n",
       "1 0_0    0_0    100.0  232      0      0         1    232   1     232 \n",
       "2 0_1    0_1    100.0  562      0      0         1    562   1     562 \n",
       "3 0_2    0_2    100.0  506      0      0         1    506   1     506 \n",
       "4 0_3    0_3    100.0  515      0      0         1    515   1     515 \n",
       "5 0_3    0_1827  31.3   99     66      1       101    199  59     155 \n",
       "6 0_3    0_4020  22.9  205    150      4        59    257  17     219 \n",
       "  evalue    bitscore\n",
       "1 2.94e-165  452.0  \n",
       "2  0.00e+00 1101.0  \n",
       "3  0.00e+00 1003.0  \n",
       "4  0.00e+00 1039.0  \n",
       "5  2.10e-10   57.0  \n",
       "6  7.71e-10   57.8  "
      ]
     },
     "metadata": {},
     "output_type": "display_data"
    }
   ],
   "source": [
    "head(all_BLAST)"
   ]
  },
  {
   "cell_type": "code",
   "execution_count": 29,
   "metadata": {},
   "outputs": [],
   "source": [
    "#read-in the conversion table: orthofinder sequence IDs and corresponding actual gene/protein names\n",
    "#with \"str_remove_all\" I also easily get rid of the \":\"\n",
    "conversion <- readr::read_delim(file = \"../orthofinder/SequenceIDs.txt\",\n",
    "                delim = \" \",\n",
    "                col_names = c(\"seqid\", \"name\"),\n",
    "                col_types = c(\n",
    "                   seqid = col_character(),\n",
    "                   name = col_character())               \n",
    "               )\n",
    "conversion <- conversion %>%  dplyr::mutate(seqid = str_remove_all(seqid, \":\"))"
   ]
  },
  {
   "cell_type": "code",
   "execution_count": 30,
   "metadata": {
    "tags": []
   },
   "outputs": [
    {
     "data": {
      "text/html": [
       "<table class=\"dataframe\">\n",
       "<caption>A tibble: 6 × 2</caption>\n",
       "<thead>\n",
       "\t<tr><th scope=col>seqid</th><th scope=col>name</th></tr>\n",
       "\t<tr><th scope=col>&lt;chr&gt;</th><th scope=col>&lt;chr&gt;</th></tr>\n",
       "</thead>\n",
       "<tbody>\n",
       "\t<tr><td>0_0</td><td>AT2G27490</td></tr>\n",
       "\t<tr><td>0_1</td><td>AT2G17370</td></tr>\n",
       "\t<tr><td>0_2</td><td>AT2G34090</td></tr>\n",
       "\t<tr><td>0_3</td><td>AT2G01050</td></tr>\n",
       "\t<tr><td>0_4</td><td>AT2G07751</td></tr>\n",
       "\t<tr><td>0_5</td><td>AT2G40240</td></tr>\n",
       "</tbody>\n",
       "</table>\n"
      ],
      "text/latex": [
       "A tibble: 6 × 2\n",
       "\\begin{tabular}{ll}\n",
       " seqid & name\\\\\n",
       " <chr> & <chr>\\\\\n",
       "\\hline\n",
       "\t 0\\_0 & AT2G27490\\\\\n",
       "\t 0\\_1 & AT2G17370\\\\\n",
       "\t 0\\_2 & AT2G34090\\\\\n",
       "\t 0\\_3 & AT2G01050\\\\\n",
       "\t 0\\_4 & AT2G07751\\\\\n",
       "\t 0\\_5 & AT2G40240\\\\\n",
       "\\end{tabular}\n"
      ],
      "text/markdown": [
       "\n",
       "A tibble: 6 × 2\n",
       "\n",
       "| seqid &lt;chr&gt; | name &lt;chr&gt; |\n",
       "|---|---|\n",
       "| 0_0 | AT2G27490 |\n",
       "| 0_1 | AT2G17370 |\n",
       "| 0_2 | AT2G34090 |\n",
       "| 0_3 | AT2G01050 |\n",
       "| 0_4 | AT2G07751 |\n",
       "| 0_5 | AT2G40240 |\n",
       "\n"
      ],
      "text/plain": [
       "  seqid name     \n",
       "1 0_0   AT2G27490\n",
       "2 0_1   AT2G17370\n",
       "3 0_2   AT2G34090\n",
       "4 0_3   AT2G01050\n",
       "5 0_4   AT2G07751\n",
       "6 0_5   AT2G40240"
      ]
     },
     "metadata": {},
     "output_type": "display_data"
    }
   ],
   "source": [
    "head(conversion)"
   ]
  },
  {
   "cell_type": "code",
   "execution_count": 31,
   "metadata": {},
   "outputs": [],
   "source": [
    "#create new columns with the actual gene/protein names\n",
    "all_BLAST_reformatted <- all_BLAST %>% dplyr::left_join(conversion, by = c(\"qseqid\" = \"seqid\"))\n",
    "all_BLAST_reformatted <- all_BLAST_reformatted %>% dplyr::left_join(conversion, by = c(\"sseqid\" = \"seqid\"))\n",
    "#position after qseqid and sseqid respectively\n",
    "all_BLAST_reformatted <- all_BLAST_reformatted %>% dplyr::relocate(name.x, .after = qseqid)\n",
    "all_BLAST_reformatted <- all_BLAST_reformatted %>% dplyr::relocate(name.y, .after = sseqid)\n",
    "#rename to qseqid/sseqid_name\n",
    "all_BLAST_reformatted <- dplyr::rename(all_BLAST_reformatted,  qseqid_name = name.x)\n",
    "all_BLAST_reformatted <- dplyr::rename(all_BLAST_reformatted, sseqid_name = name.y)"
   ]
  },
  {
   "cell_type": "code",
   "execution_count": null,
   "metadata": {},
   "outputs": [],
   "source": [
    "#write to file; for reference\n",
    "#write_delim(as.data.frame(foo), \"test.tsv\", delim = \"\\t\")"
   ]
  },
  {
   "cell_type": "code",
   "execution_count": 32,
   "metadata": {},
   "outputs": [],
   "source": [
    "#read-in Orthogroups.txt old!!\n",
    "orthogroups <- readr::read_delim(file = \"../orthofinder/final-results/Orthogroups/Orthogroups.txt\",\n",
    "                          delim = \":\",\n",
    "                          col_names = c(\"OG\", \"genes\"),\n",
    "                          col_types = c(\n",
    "                              OG = col_character(),\n",
    "                              genes = col_character())\n",
    "                         )"
   ]
  },
  {
   "cell_type": "code",
   "execution_count": 33,
   "metadata": {
    "tags": []
   },
   "outputs": [
    {
     "name": "stderr",
     "output_type": "stream",
     "text": [
      "\u001b[1mRows: \u001b[22m\u001b[34m3441\u001b[39m \u001b[1mColumns: \u001b[22m\u001b[34m6\u001b[39m\n",
      "\u001b[36m──\u001b[39m \u001b[1mColumn specification\u001b[22m \u001b[36m──────────────────────────────────────────────────────────────────────────────────────────────────────────────────────────────────────────────────────────────────────────────\u001b[39m\n",
      "\u001b[1mDelimiter:\u001b[22m \"\\t\"\n",
      "\u001b[31mchr\u001b[39m (6): HOG, OG, Gene Tree Parent Clade, Arabidopsis_thaliana, Hordeum_vulg...\n",
      "\n",
      "\u001b[36mℹ\u001b[39m Use `spec()` to retrieve the full column specification for this data.\n",
      "\u001b[36mℹ\u001b[39m Specify the column types or set `show_col_types = FALSE` to quiet this message.\n"
     ]
    },
    {
     "data": {
      "text/html": [
       "<table class=\"dataframe\">\n",
       "<caption>A tibble: 6 × 3</caption>\n",
       "<thead>\n",
       "\t<tr><th scope=col>HOG</th><th scope=col>Hordeum_vulgare</th><th scope=col>Zea_mays</th></tr>\n",
       "\t<tr><th scope=col>&lt;chr&gt;</th><th scope=col>&lt;dbl&gt;</th><th scope=col>&lt;dbl&gt;</th></tr>\n",
       "</thead>\n",
       "<tbody>\n",
       "\t<tr><td>N0.HOG0000000</td><td>40</td><td> 1</td></tr>\n",
       "\t<tr><td>N0.HOG0000001</td><td> 4</td><td>36</td></tr>\n",
       "\t<tr><td>N0.HOG0000002</td><td>33</td><td> 0</td></tr>\n",
       "\t<tr><td>N0.HOG0000003</td><td> 2</td><td>26</td></tr>\n",
       "\t<tr><td>N0.HOG0000004</td><td> 1</td><td> 1</td></tr>\n",
       "\t<tr><td>N0.HOG0000005</td><td> 0</td><td> 1</td></tr>\n",
       "</tbody>\n",
       "</table>\n"
      ],
      "text/latex": [
       "A tibble: 6 × 3\n",
       "\\begin{tabular}{lll}\n",
       " HOG & Hordeum\\_vulgare & Zea\\_mays\\\\\n",
       " <chr> & <dbl> & <dbl>\\\\\n",
       "\\hline\n",
       "\t N0.HOG0000000 & 40 &  1\\\\\n",
       "\t N0.HOG0000001 &  4 & 36\\\\\n",
       "\t N0.HOG0000002 & 33 &  0\\\\\n",
       "\t N0.HOG0000003 &  2 & 26\\\\\n",
       "\t N0.HOG0000004 &  1 &  1\\\\\n",
       "\t N0.HOG0000005 &  0 &  1\\\\\n",
       "\\end{tabular}\n"
      ],
      "text/markdown": [
       "\n",
       "A tibble: 6 × 3\n",
       "\n",
       "| HOG &lt;chr&gt; | Hordeum_vulgare &lt;dbl&gt; | Zea_mays &lt;dbl&gt; |\n",
       "|---|---|---|\n",
       "| N0.HOG0000000 | 40 |  1 |\n",
       "| N0.HOG0000001 |  4 | 36 |\n",
       "| N0.HOG0000002 | 33 |  0 |\n",
       "| N0.HOG0000003 |  2 | 26 |\n",
       "| N0.HOG0000004 |  1 |  1 |\n",
       "| N0.HOG0000005 |  0 |  1 |\n",
       "\n"
      ],
      "text/plain": [
       "  HOG           Hordeum_vulgare Zea_mays\n",
       "1 N0.HOG0000000 40               1      \n",
       "2 N0.HOG0000001  4              36      \n",
       "3 N0.HOG0000002 33               0      \n",
       "4 N0.HOG0000003  2              26      \n",
       "5 N0.HOG0000004  1               1      \n",
       "6 N0.HOG0000005  0               1      "
      ]
     },
     "metadata": {},
     "output_type": "display_data"
    }
   ],
   "source": [
    "#read-in Orthogroups.txt new!!\n",
    "#expanded OG_s also have to be computed based on this..\n",
    "ph_orthogroups <- readr::read_delim(file = \"../orthofinder/final-results/Phylogenetic_Hierarchical_Orthogroups/N0.tsv\",\n",
    "                          delim = \"\\t\",\n",
    "#                          col_names = c(\"HOG\", \"genes\"),\n",
    "#                          col_types = c(\n",
    "#                              OG = col_character(),\n",
    "#                              genes = col_character())\n",
    "                         )\n",
    "#head(ph_orthogroups)\n",
    "#length(unlist(strsplit(ph_orthogroups[ph_orthogroups$HOG == \"N0.HOG0000103\",]$Arabidopsis_thaliana, \",\")))\n",
    "#length(unlist(strsplit(ph_orthogroups[\"N0.HOG0000103\",]$Arabidopsis_thaliana, \",\")))\n",
    "\n",
    "#get() function solves my problems of using the character functions inside dplyr\n",
    "\n",
    "#colnames(ph_orthogroups)\n",
    "#compared_to\n",
    "#length(unlist(strsplit(ph_orthogroups[ph_orthogroups[[compared_to]], \",\")))\n",
    "all_species <- c(expanded_in, compared_to)\n",
    "#all_species[1]\n",
    "#all_species[2]\n",
    "\n",
    "#create dataframe with numbers of genes per PHOG\n",
    "#we combine expanded_in and compared_to vectors to easily compute for everything we need\n",
    "\n",
    "HOG_df <- setNames(base::data.frame(matrix(ncol = 1 + length(all_species), nrow = 0)),\n",
    "                  c(\"HOG\", all_species))\n",
    "\n",
    "for (i in 1:nrow(ph_orthogroups)) {\n",
    "    \n",
    "    row = 0\n",
    "    \n",
    "    #print(ph_orthogroups[i,]$HOG)\n",
    "    row <- c(ph_orthogroups[i,]$HOG)\n",
    "    \n",
    "        for (j in c(all_species)) {\n",
    "            if (is.na(ph_orthogroups[i,][[j]]))\n",
    "            {\n",
    "                test = 0\n",
    "                row <- c(row, test)\n",
    "            }\n",
    "            else \n",
    "            {\n",
    "                test = length(unlist(strsplit(ph_orthogroups[i,][[j]], \",\")))\n",
    "                row <- c(row, test)\n",
    "            }\n",
    "}\n",
    "    HOG_df[i,] <- row\n",
    "} \n",
    "\n",
    "HOG_tibble <- as_tibble(HOG_df)\n",
    "\n",
    "for (k in 1:length(all_species)) {\n",
    "    o = all_species[k]\n",
    "    HOG_tibble[[o]] <- as.numeric(HOG_tibble[[o]])\n",
    "}\n",
    "head(HOG_tibble)\n",
    "\n",
    "#create \"copy\" as HOG_tibble is currently modified in the upcoming step\n",
    "HOG_tibble_complete <- HOG_tibble\n"
   ]
  },
  {
   "cell_type": "code",
   "execution_count": 17,
   "metadata": {
    "collapsed": true,
    "jupyter": {
     "outputs_hidden": true
    },
    "tags": []
   },
   "outputs": [
    {
     "data": {
      "text/html": [
       "<table class=\"dataframe\">\n",
       "<caption>A data.frame: 0 × 3</caption>\n",
       "<thead>\n",
       "\t<tr><th scope=col>HOG</th><th scope=col>Hordeum_vulgare</th><th scope=col>Triticum_aestivum</th></tr>\n",
       "\t<tr><th scope=col>&lt;lgl&gt;</th><th scope=col>&lt;lgl&gt;</th><th scope=col>&lt;lgl&gt;</th></tr>\n",
       "</thead>\n",
       "<tbody>\n",
       "</tbody>\n",
       "</table>\n"
      ],
      "text/latex": [
       "A data.frame: 0 × 3\n",
       "\\begin{tabular}{lll}\n",
       " HOG & Hordeum\\_vulgare & Triticum\\_aestivum\\\\\n",
       " <lgl> & <lgl> & <lgl>\\\\\n",
       "\\hline\n",
       "\\end{tabular}\n"
      ],
      "text/markdown": [
       "\n",
       "A data.frame: 0 × 3\n",
       "\n",
       "| HOG &lt;lgl&gt; | Hordeum_vulgare &lt;lgl&gt; | Triticum_aestivum &lt;lgl&gt; |\n",
       "|---|---|---|\n",
       "\n"
      ],
      "text/plain": [
       "     HOG Hordeum_vulgare Triticum_aestivum"
      ]
     },
     "metadata": {},
     "output_type": "display_data"
    },
    {
     "data": {
      "text/html": [
       "<table class=\"dataframe\">\n",
       "<caption>A tibble: 6 × 6</caption>\n",
       "<thead>\n",
       "\t<tr><th scope=col>HOG</th><th scope=col>OG</th><th scope=col>Gene Tree Parent Clade</th><th scope=col>Arabidopsis_thaliana</th><th scope=col>Hordeum_vulgare</th><th scope=col>Zea_mays</th></tr>\n",
       "\t<tr><th scope=col>&lt;chr&gt;</th><th scope=col>&lt;chr&gt;</th><th scope=col>&lt;chr&gt;</th><th scope=col>&lt;chr&gt;</th><th scope=col>&lt;chr&gt;</th><th scope=col>&lt;chr&gt;</th></tr>\n",
       "</thead>\n",
       "<tbody>\n",
       "\t<tr><td>N0.HOG0000000</td><td>OG0000000</td><td>n0</td><td>NA                                                   </td><td>HORVU2Hr1G079310, HORVU2Hr1G018660, HORVU2Hr1G032050, HORVU2Hr1G016160, HORVU2Hr1G016220, HORVU2Hr1G073620, HORVU2Hr1G055880, HORVU2Hr1G056850, HORVU2Hr1G026300, HORVU2Hr1G050830, HORVU2Hr1G127030, HORVU2Hr1G019750, HORVU2Hr1G057230, HORVU2Hr1G027100, HORVU2Hr1G059590, HORVU2Hr1G051710, HORVU2Hr1G055660, HORVU2Hr1G078940, HORVU2Hr1G060470, HORVU2Hr1G082290, HORVU2Hr1G127040, HORVU2Hr1G048780, HORVU2Hr1G072510, HORVU2Hr1G055670, HORVU2Hr1G051720, HORVU2Hr1G049810, HORVU2Hr1G059290, HORVU2Hr1G063970, HORVU2Hr1G054010, HORVU2Hr1G026290, HORVU2Hr1G047570, HORVU2Hr1G054990, HORVU2Hr1G034820, HORVU2Hr1G075560, HORVU2Hr1G029650, HORVU2Hr1G016150, HORVU2Hr1G127020, HORVU2Hr1G072520, HORVU2Hr1G027110, HORVU2Hr1G052470</td><td>Zm00001d007917                                                                                                                                                                                                                                                                                                                                                                                                                                                                                                                                                                                </td></tr>\n",
       "\t<tr><td>N0.HOG0000001</td><td>OG0000001</td><td>n0</td><td>NA                                                   </td><td>HORVU2Hr1G042650, HORVU2Hr1G050240, HORVU2Hr1G031550, HORVU2Hr1G031530                                                                                                                                                                                                                                                                                                                                                                                                                                                                                                                                                                                                                                                                        </td><td>Zm00001d006241, Zm00001d005991, Zm00001d006187, Zm00001d005363, Zm00001d003819, Zm00001d005166, Zm00001d004067, Zm00001d006695, Zm00001d002666, Zm00001d004347, Zm00001d004872, Zm00001d007023, Zm00001d007221, Zm00001d006074, Zm00001d002805, Zm00001d007537, Zm00001d003740, Zm00001d006849, Zm00001d002299, Zm00001d005805, Zm00001d004747, Zm00001d005840, Zm00001d007637, Zm00001d003578, Zm00001d006675, Zm00001d004912, Zm00001d001920, Zm00001d002637, Zm00001d006863, Zm00001d001921, Zm00001d004359, Zm00001d007964, Zm00001d005518, Zm00001d007562, Zm00001d003825, Zm00001d007563</td></tr>\n",
       "\t<tr><td>N0.HOG0000002</td><td>OG0000002</td><td>n0</td><td>AT2G11035, AT2G02520                                 </td><td>HORVU2Hr1G043320, HORVU2Hr1G113600, HORVU2Hr1G079320, HORVU2Hr1G059130, HORVU2Hr1G059280, HORVU2Hr1G067230, HORVU2Hr1G042730, HORVU2Hr1G026310, HORVU2Hr1G023890, HORVU2Hr1G057810, HORVU2Hr1G049770, HORVU2Hr1G081150, HORVU2Hr1G043140, HORVU2Hr1G063980, HORVU2Hr1G088300, HORVU2Hr1G056860, HORVU2Hr1G067190, HORVU2Hr1G088890, HORVU2Hr1G107730, HORVU2Hr1G055650, HORVU2Hr1G051700, HORVU2Hr1G102420, HORVU2Hr1G027090, HORVU2Hr1G083180, HORVU2Hr1G083210, HORVU2Hr1G044300, HORVU2Hr1G048790, HORVU2Hr1G017710, HORVU2Hr1G056080, HORVU2Hr1G097090, HORVU2Hr1G024690, HORVU2Hr1G038660, HORVU2Hr1G124520                                                                                                                              </td><td>NA                                                                                                                                                                                                                                                                                                                                                                                                                                                                                                                                                                                            </td></tr>\n",
       "\t<tr><td>N0.HOG0000003</td><td>OG0000003</td><td>n0</td><td>NA                                                   </td><td>HORVU2Hr1G033290, HORVU2Hr1G024470                                                                                                                                                                                                                                                                                                                                                                                                                                                                                                                                                                                                                                                                                                            </td><td>Zm00001d002634, Zm00001d006414, Zm00001d005541, Zm00001d002998, Zm00001d007210, Zm00001d005746, Zm00001d004084, Zm00001d005524, Zm00001d002635, Zm00001d006862, Zm00001d007521, Zm00001d001918, Zm00001d007551, Zm00001d005992, Zm00001d005365, Zm00001d006186, Zm00001d006239, Zm00001d006413, Zm00001d004065, Zm00001d006383, Zm00001d006087, Zm00001d007224, Zm00001d002804, Zm00001d006072, Zm00001d005258, Zm00001d007535                                                                                                                                                                </td></tr>\n",
       "\t<tr><td>N0.HOG0000004</td><td>OG0000004</td><td>n1</td><td>AT2G39620                                            </td><td>HORVU2Hr1G027440                                                                                                                                                                                                                                                                                                                                                                                                                                                                                                                                                                                                                                                                                                                              </td><td>Zm00001d004071                                                                                                                                                                                                                                                                                                                                                                                                                                                                                                                                                                                </td></tr>\n",
       "\t<tr><td>N0.HOG0000005</td><td>OG0000004</td><td>n4</td><td>AT2G03380, AT2G02750, AT2G37310, AT2G40720, AT2G04860</td><td>NA                                                                                                                                                                                                                                                                                                                                                                                                                                                                                                                                                                                                                                                                                                                                            </td><td>Zm00001d007100                                                                                                                                                                                                                                                                                                                                                                                                                                                                                                                                                                                </td></tr>\n",
       "</tbody>\n",
       "</table>\n"
      ],
      "text/latex": [
       "A tibble: 6 × 6\n",
       "\\begin{tabular}{llllll}\n",
       " HOG & OG & Gene Tree Parent Clade & Arabidopsis\\_thaliana & Hordeum\\_vulgare & Zea\\_mays\\\\\n",
       " <chr> & <chr> & <chr> & <chr> & <chr> & <chr>\\\\\n",
       "\\hline\n",
       "\t N0.HOG0000000 & OG0000000 & n0 & NA                                                    & HORVU2Hr1G079310, HORVU2Hr1G018660, HORVU2Hr1G032050, HORVU2Hr1G016160, HORVU2Hr1G016220, HORVU2Hr1G073620, HORVU2Hr1G055880, HORVU2Hr1G056850, HORVU2Hr1G026300, HORVU2Hr1G050830, HORVU2Hr1G127030, HORVU2Hr1G019750, HORVU2Hr1G057230, HORVU2Hr1G027100, HORVU2Hr1G059590, HORVU2Hr1G051710, HORVU2Hr1G055660, HORVU2Hr1G078940, HORVU2Hr1G060470, HORVU2Hr1G082290, HORVU2Hr1G127040, HORVU2Hr1G048780, HORVU2Hr1G072510, HORVU2Hr1G055670, HORVU2Hr1G051720, HORVU2Hr1G049810, HORVU2Hr1G059290, HORVU2Hr1G063970, HORVU2Hr1G054010, HORVU2Hr1G026290, HORVU2Hr1G047570, HORVU2Hr1G054990, HORVU2Hr1G034820, HORVU2Hr1G075560, HORVU2Hr1G029650, HORVU2Hr1G016150, HORVU2Hr1G127020, HORVU2Hr1G072520, HORVU2Hr1G027110, HORVU2Hr1G052470 & Zm00001d007917                                                                                                                                                                                                                                                                                                                                                                                                                                                                                                                                                                                \\\\\n",
       "\t N0.HOG0000001 & OG0000001 & n0 & NA                                                    & HORVU2Hr1G042650, HORVU2Hr1G050240, HORVU2Hr1G031550, HORVU2Hr1G031530                                                                                                                                                                                                                                                                                                                                                                                                                                                                                                                                                                                                                                                                         & Zm00001d006241, Zm00001d005991, Zm00001d006187, Zm00001d005363, Zm00001d003819, Zm00001d005166, Zm00001d004067, Zm00001d006695, Zm00001d002666, Zm00001d004347, Zm00001d004872, Zm00001d007023, Zm00001d007221, Zm00001d006074, Zm00001d002805, Zm00001d007537, Zm00001d003740, Zm00001d006849, Zm00001d002299, Zm00001d005805, Zm00001d004747, Zm00001d005840, Zm00001d007637, Zm00001d003578, Zm00001d006675, Zm00001d004912, Zm00001d001920, Zm00001d002637, Zm00001d006863, Zm00001d001921, Zm00001d004359, Zm00001d007964, Zm00001d005518, Zm00001d007562, Zm00001d003825, Zm00001d007563\\\\\n",
       "\t N0.HOG0000002 & OG0000002 & n0 & AT2G11035, AT2G02520                                  & HORVU2Hr1G043320, HORVU2Hr1G113600, HORVU2Hr1G079320, HORVU2Hr1G059130, HORVU2Hr1G059280, HORVU2Hr1G067230, HORVU2Hr1G042730, HORVU2Hr1G026310, HORVU2Hr1G023890, HORVU2Hr1G057810, HORVU2Hr1G049770, HORVU2Hr1G081150, HORVU2Hr1G043140, HORVU2Hr1G063980, HORVU2Hr1G088300, HORVU2Hr1G056860, HORVU2Hr1G067190, HORVU2Hr1G088890, HORVU2Hr1G107730, HORVU2Hr1G055650, HORVU2Hr1G051700, HORVU2Hr1G102420, HORVU2Hr1G027090, HORVU2Hr1G083180, HORVU2Hr1G083210, HORVU2Hr1G044300, HORVU2Hr1G048790, HORVU2Hr1G017710, HORVU2Hr1G056080, HORVU2Hr1G097090, HORVU2Hr1G024690, HORVU2Hr1G038660, HORVU2Hr1G124520                                                                                                                               & NA                                                                                                                                                                                                                                                                                                                                                                                                                                                                                                                                                                                            \\\\\n",
       "\t N0.HOG0000003 & OG0000003 & n0 & NA                                                    & HORVU2Hr1G033290, HORVU2Hr1G024470                                                                                                                                                                                                                                                                                                                                                                                                                                                                                                                                                                                                                                                                                                             & Zm00001d002634, Zm00001d006414, Zm00001d005541, Zm00001d002998, Zm00001d007210, Zm00001d005746, Zm00001d004084, Zm00001d005524, Zm00001d002635, Zm00001d006862, Zm00001d007521, Zm00001d001918, Zm00001d007551, Zm00001d005992, Zm00001d005365, Zm00001d006186, Zm00001d006239, Zm00001d006413, Zm00001d004065, Zm00001d006383, Zm00001d006087, Zm00001d007224, Zm00001d002804, Zm00001d006072, Zm00001d005258, Zm00001d007535                                                                                                                                                                \\\\\n",
       "\t N0.HOG0000004 & OG0000004 & n1 & AT2G39620                                             & HORVU2Hr1G027440                                                                                                                                                                                                                                                                                                                                                                                                                                                                                                                                                                                                                                                                                                                               & Zm00001d004071                                                                                                                                                                                                                                                                                                                                                                                                                                                                                                                                                                                \\\\\n",
       "\t N0.HOG0000005 & OG0000004 & n4 & AT2G03380, AT2G02750, AT2G37310, AT2G40720, AT2G04860 & NA                                                                                                                                                                                                                                                                                                                                                                                                                                                                                                                                                                                                                                                                                                                                             & Zm00001d007100                                                                                                                                                                                                                                                                                                                                                                                                                                                                                                                                                                                \\\\\n",
       "\\end{tabular}\n"
      ],
      "text/markdown": [
       "\n",
       "A tibble: 6 × 6\n",
       "\n",
       "| HOG &lt;chr&gt; | OG &lt;chr&gt; | Gene Tree Parent Clade &lt;chr&gt; | Arabidopsis_thaliana &lt;chr&gt; | Hordeum_vulgare &lt;chr&gt; | Zea_mays &lt;chr&gt; |\n",
       "|---|---|---|---|---|---|\n",
       "| N0.HOG0000000 | OG0000000 | n0 | NA                                                    | HORVU2Hr1G079310, HORVU2Hr1G018660, HORVU2Hr1G032050, HORVU2Hr1G016160, HORVU2Hr1G016220, HORVU2Hr1G073620, HORVU2Hr1G055880, HORVU2Hr1G056850, HORVU2Hr1G026300, HORVU2Hr1G050830, HORVU2Hr1G127030, HORVU2Hr1G019750, HORVU2Hr1G057230, HORVU2Hr1G027100, HORVU2Hr1G059590, HORVU2Hr1G051710, HORVU2Hr1G055660, HORVU2Hr1G078940, HORVU2Hr1G060470, HORVU2Hr1G082290, HORVU2Hr1G127040, HORVU2Hr1G048780, HORVU2Hr1G072510, HORVU2Hr1G055670, HORVU2Hr1G051720, HORVU2Hr1G049810, HORVU2Hr1G059290, HORVU2Hr1G063970, HORVU2Hr1G054010, HORVU2Hr1G026290, HORVU2Hr1G047570, HORVU2Hr1G054990, HORVU2Hr1G034820, HORVU2Hr1G075560, HORVU2Hr1G029650, HORVU2Hr1G016150, HORVU2Hr1G127020, HORVU2Hr1G072520, HORVU2Hr1G027110, HORVU2Hr1G052470 | Zm00001d007917                                                                                                                                                                                                                                                                                                                                                                                                                                                                                                                                                                                 |\n",
       "| N0.HOG0000001 | OG0000001 | n0 | NA                                                    | HORVU2Hr1G042650, HORVU2Hr1G050240, HORVU2Hr1G031550, HORVU2Hr1G031530                                                                                                                                                                                                                                                                                                                                                                                                                                                                                                                                                                                                                                                                         | Zm00001d006241, Zm00001d005991, Zm00001d006187, Zm00001d005363, Zm00001d003819, Zm00001d005166, Zm00001d004067, Zm00001d006695, Zm00001d002666, Zm00001d004347, Zm00001d004872, Zm00001d007023, Zm00001d007221, Zm00001d006074, Zm00001d002805, Zm00001d007537, Zm00001d003740, Zm00001d006849, Zm00001d002299, Zm00001d005805, Zm00001d004747, Zm00001d005840, Zm00001d007637, Zm00001d003578, Zm00001d006675, Zm00001d004912, Zm00001d001920, Zm00001d002637, Zm00001d006863, Zm00001d001921, Zm00001d004359, Zm00001d007964, Zm00001d005518, Zm00001d007562, Zm00001d003825, Zm00001d007563 |\n",
       "| N0.HOG0000002 | OG0000002 | n0 | AT2G11035, AT2G02520                                  | HORVU2Hr1G043320, HORVU2Hr1G113600, HORVU2Hr1G079320, HORVU2Hr1G059130, HORVU2Hr1G059280, HORVU2Hr1G067230, HORVU2Hr1G042730, HORVU2Hr1G026310, HORVU2Hr1G023890, HORVU2Hr1G057810, HORVU2Hr1G049770, HORVU2Hr1G081150, HORVU2Hr1G043140, HORVU2Hr1G063980, HORVU2Hr1G088300, HORVU2Hr1G056860, HORVU2Hr1G067190, HORVU2Hr1G088890, HORVU2Hr1G107730, HORVU2Hr1G055650, HORVU2Hr1G051700, HORVU2Hr1G102420, HORVU2Hr1G027090, HORVU2Hr1G083180, HORVU2Hr1G083210, HORVU2Hr1G044300, HORVU2Hr1G048790, HORVU2Hr1G017710, HORVU2Hr1G056080, HORVU2Hr1G097090, HORVU2Hr1G024690, HORVU2Hr1G038660, HORVU2Hr1G124520                                                                                                                               | NA                                                                                                                                                                                                                                                                                                                                                                                                                                                                                                                                                                                             |\n",
       "| N0.HOG0000003 | OG0000003 | n0 | NA                                                    | HORVU2Hr1G033290, HORVU2Hr1G024470                                                                                                                                                                                                                                                                                                                                                                                                                                                                                                                                                                                                                                                                                                             | Zm00001d002634, Zm00001d006414, Zm00001d005541, Zm00001d002998, Zm00001d007210, Zm00001d005746, Zm00001d004084, Zm00001d005524, Zm00001d002635, Zm00001d006862, Zm00001d007521, Zm00001d001918, Zm00001d007551, Zm00001d005992, Zm00001d005365, Zm00001d006186, Zm00001d006239, Zm00001d006413, Zm00001d004065, Zm00001d006383, Zm00001d006087, Zm00001d007224, Zm00001d002804, Zm00001d006072, Zm00001d005258, Zm00001d007535                                                                                                                                                                 |\n",
       "| N0.HOG0000004 | OG0000004 | n1 | AT2G39620                                             | HORVU2Hr1G027440                                                                                                                                                                                                                                                                                                                                                                                                                                                                                                                                                                                                                                                                                                                               | Zm00001d004071                                                                                                                                                                                                                                                                                                                                                                                                                                                                                                                                                                                 |\n",
       "| N0.HOG0000005 | OG0000004 | n4 | AT2G03380, AT2G02750, AT2G37310, AT2G40720, AT2G04860 | NA                                                                                                                                                                                                                                                                                                                                                                                                                                                                                                                                                                                                                                                                                                                                             | Zm00001d007100                                                                                                                                                                                                                                                                                                                                                                                                                                                                                                                                                                                 |\n",
       "\n"
      ],
      "text/plain": [
       "  HOG           OG        Gene Tree Parent Clade\n",
       "1 N0.HOG0000000 OG0000000 n0                    \n",
       "2 N0.HOG0000001 OG0000001 n0                    \n",
       "3 N0.HOG0000002 OG0000002 n0                    \n",
       "4 N0.HOG0000003 OG0000003 n0                    \n",
       "5 N0.HOG0000004 OG0000004 n1                    \n",
       "6 N0.HOG0000005 OG0000004 n4                    \n",
       "  Arabidopsis_thaliana                                 \n",
       "1 NA                                                   \n",
       "2 NA                                                   \n",
       "3 AT2G11035, AT2G02520                                 \n",
       "4 NA                                                   \n",
       "5 AT2G39620                                            \n",
       "6 AT2G03380, AT2G02750, AT2G37310, AT2G40720, AT2G04860\n",
       "  Hordeum_vulgare                                                                                                                                                                                                                                                                                                                                                                                                                                                                                                                                                                                                                                                                                                                               \n",
       "1 HORVU2Hr1G079310, HORVU2Hr1G018660, HORVU2Hr1G032050, HORVU2Hr1G016160, HORVU2Hr1G016220, HORVU2Hr1G073620, HORVU2Hr1G055880, HORVU2Hr1G056850, HORVU2Hr1G026300, HORVU2Hr1G050830, HORVU2Hr1G127030, HORVU2Hr1G019750, HORVU2Hr1G057230, HORVU2Hr1G027100, HORVU2Hr1G059590, HORVU2Hr1G051710, HORVU2Hr1G055660, HORVU2Hr1G078940, HORVU2Hr1G060470, HORVU2Hr1G082290, HORVU2Hr1G127040, HORVU2Hr1G048780, HORVU2Hr1G072510, HORVU2Hr1G055670, HORVU2Hr1G051720, HORVU2Hr1G049810, HORVU2Hr1G059290, HORVU2Hr1G063970, HORVU2Hr1G054010, HORVU2Hr1G026290, HORVU2Hr1G047570, HORVU2Hr1G054990, HORVU2Hr1G034820, HORVU2Hr1G075560, HORVU2Hr1G029650, HORVU2Hr1G016150, HORVU2Hr1G127020, HORVU2Hr1G072520, HORVU2Hr1G027110, HORVU2Hr1G052470\n",
       "2 HORVU2Hr1G042650, HORVU2Hr1G050240, HORVU2Hr1G031550, HORVU2Hr1G031530                                                                                                                                                                                                                                                                                                                                                                                                                                                                                                                                                                                                                                                                        \n",
       "3 HORVU2Hr1G043320, HORVU2Hr1G113600, HORVU2Hr1G079320, HORVU2Hr1G059130, HORVU2Hr1G059280, HORVU2Hr1G067230, HORVU2Hr1G042730, HORVU2Hr1G026310, HORVU2Hr1G023890, HORVU2Hr1G057810, HORVU2Hr1G049770, HORVU2Hr1G081150, HORVU2Hr1G043140, HORVU2Hr1G063980, HORVU2Hr1G088300, HORVU2Hr1G056860, HORVU2Hr1G067190, HORVU2Hr1G088890, HORVU2Hr1G107730, HORVU2Hr1G055650, HORVU2Hr1G051700, HORVU2Hr1G102420, HORVU2Hr1G027090, HORVU2Hr1G083180, HORVU2Hr1G083210, HORVU2Hr1G044300, HORVU2Hr1G048790, HORVU2Hr1G017710, HORVU2Hr1G056080, HORVU2Hr1G097090, HORVU2Hr1G024690, HORVU2Hr1G038660, HORVU2Hr1G124520                                                                                                                              \n",
       "4 HORVU2Hr1G033290, HORVU2Hr1G024470                                                                                                                                                                                                                                                                                                                                                                                                                                                                                                                                                                                                                                                                                                            \n",
       "5 HORVU2Hr1G027440                                                                                                                                                                                                                                                                                                                                                                                                                                                                                                                                                                                                                                                                                                                              \n",
       "6 NA                                                                                                                                                                                                                                                                                                                                                                                                                                                                                                                                                                                                                                                                                                                                            \n",
       "  Zea_mays                                                                                                                                                                                                                                                                                                                                                                                                                                                                                                                                                                                      \n",
       "1 Zm00001d007917                                                                                                                                                                                                                                                                                                                                                                                                                                                                                                                                                                                \n",
       "2 Zm00001d006241, Zm00001d005991, Zm00001d006187, Zm00001d005363, Zm00001d003819, Zm00001d005166, Zm00001d004067, Zm00001d006695, Zm00001d002666, Zm00001d004347, Zm00001d004872, Zm00001d007023, Zm00001d007221, Zm00001d006074, Zm00001d002805, Zm00001d007537, Zm00001d003740, Zm00001d006849, Zm00001d002299, Zm00001d005805, Zm00001d004747, Zm00001d005840, Zm00001d007637, Zm00001d003578, Zm00001d006675, Zm00001d004912, Zm00001d001920, Zm00001d002637, Zm00001d006863, Zm00001d001921, Zm00001d004359, Zm00001d007964, Zm00001d005518, Zm00001d007562, Zm00001d003825, Zm00001d007563\n",
       "3 NA                                                                                                                                                                                                                                                                                                                                                                                                                                                                                                                                                                                            \n",
       "4 Zm00001d002634, Zm00001d006414, Zm00001d005541, Zm00001d002998, Zm00001d007210, Zm00001d005746, Zm00001d004084, Zm00001d005524, Zm00001d002635, Zm00001d006862, Zm00001d007521, Zm00001d001918, Zm00001d007551, Zm00001d005992, Zm00001d005365, Zm00001d006186, Zm00001d006239, Zm00001d006413, Zm00001d004065, Zm00001d006383, Zm00001d006087, Zm00001d007224, Zm00001d002804, Zm00001d006072, Zm00001d005258, Zm00001d007535                                                                                                                                                                \n",
       "5 Zm00001d004071                                                                                                                                                                                                                                                                                                                                                                                                                                                                                                                                                                                \n",
       "6 Zm00001d007100                                                                                                                                                                                                                                                                                                                                                                                                                                                                                                                                                                                "
      ]
     },
     "metadata": {},
     "output_type": "display_data"
    }
   ],
   "source": [
    "head(HOG_df)\n",
    "head(ph_orthogroups)"
   ]
  },
  {
   "cell_type": "code",
   "execution_count": 34,
   "metadata": {
    "tags": []
   },
   "outputs": [
    {
     "data": {
      "text/html": [
       "<table class=\"dataframe\">\n",
       "<caption>A tibble: 1 × 3</caption>\n",
       "<thead>\n",
       "\t<tr><th scope=col>HOG</th><th scope=col>Hordeum_vulgare</th><th scope=col>Zea_mays</th></tr>\n",
       "\t<tr><th scope=col>&lt;chr&gt;</th><th scope=col>&lt;dbl&gt;</th><th scope=col>&lt;dbl&gt;</th></tr>\n",
       "</thead>\n",
       "<tbody>\n",
       "\t<tr><td>N0.HOG0000783</td><td>2</td><td>1</td></tr>\n",
       "</tbody>\n",
       "</table>\n"
      ],
      "text/latex": [
       "A tibble: 1 × 3\n",
       "\\begin{tabular}{lll}\n",
       " HOG & Hordeum\\_vulgare & Zea\\_mays\\\\\n",
       " <chr> & <dbl> & <dbl>\\\\\n",
       "\\hline\n",
       "\t N0.HOG0000783 & 2 & 1\\\\\n",
       "\\end{tabular}\n"
      ],
      "text/markdown": [
       "\n",
       "A tibble: 1 × 3\n",
       "\n",
       "| HOG &lt;chr&gt; | Hordeum_vulgare &lt;dbl&gt; | Zea_mays &lt;dbl&gt; |\n",
       "|---|---|---|\n",
       "| N0.HOG0000783 | 2 | 1 |\n",
       "\n"
      ],
      "text/plain": [
       "  HOG           Hordeum_vulgare Zea_mays\n",
       "1 N0.HOG0000783 2               1       "
      ]
     },
     "metadata": {},
     "output_type": "display_data"
    },
    {
     "data": {
      "text/html": [
       "<table class=\"dataframe\">\n",
       "<caption>A tibble: 1 × 3</caption>\n",
       "<thead>\n",
       "\t<tr><th scope=col>HOG</th><th scope=col>Hordeum_vulgare</th><th scope=col>Zea_mays</th></tr>\n",
       "\t<tr><th scope=col>&lt;chr&gt;</th><th scope=col>&lt;dbl&gt;</th><th scope=col>&lt;dbl&gt;</th></tr>\n",
       "</thead>\n",
       "<tbody>\n",
       "\t<tr><td>N0.HOG0000027</td><td>5</td><td>0</td></tr>\n",
       "</tbody>\n",
       "</table>\n"
      ],
      "text/latex": [
       "A tibble: 1 × 3\n",
       "\\begin{tabular}{lll}\n",
       " HOG & Hordeum\\_vulgare & Zea\\_mays\\\\\n",
       " <chr> & <dbl> & <dbl>\\\\\n",
       "\\hline\n",
       "\t N0.HOG0000027 & 5 & 0\\\\\n",
       "\\end{tabular}\n"
      ],
      "text/markdown": [
       "\n",
       "A tibble: 1 × 3\n",
       "\n",
       "| HOG &lt;chr&gt; | Hordeum_vulgare &lt;dbl&gt; | Zea_mays &lt;dbl&gt; |\n",
       "|---|---|---|\n",
       "| N0.HOG0000027 | 5 | 0 |\n",
       "\n"
      ],
      "text/plain": [
       "  HOG           Hordeum_vulgare Zea_mays\n",
       "1 N0.HOG0000027 5               0       "
      ]
     },
     "metadata": {},
     "output_type": "display_data"
    }
   ],
   "source": [
    "#head(my_tibble)\n",
    "#tail(my_tibble)\n",
    "#expanded_HOGs\n",
    "#head(ph_orthogroups[])\n",
    "HOG_tibble_complete[HOG_tibble_complete$HOG==\"N0.HOG0000783\",]\n",
    "HOG_tibble_complete[HOG_tibble_complete$HOG==\"N0.HOG0000027\",]"
   ]
  },
  {
   "cell_type": "code",
   "execution_count": null,
   "metadata": {},
   "outputs": [],
   "source": [
    "# function has to reduce input dataset; this way each iteration (compared species) is included\n",
    "# for all compared species first check for each HOG if expanded species is >= 3* \n",
    "# then keep rows in which expanded species has at least 3\n",
    "# since 3*1 = 3, we can simply choose to keep all rows with at least 3 in expanded_in since this \n",
    "## is performed after the other filtering ;D\n",
    "# this we should talk about... how to deal with 0 cases\n",
    "# in any case having this as user input shoud be the goal\n",
    "# with addition of the outer t loop now we can also have multiple expansion species ;D\n",
    "\n",
    "#for (i in c_t_species) {\n",
    "#        HOG_tibble <- HOG_tibble %>% dplyr::filter(get(expanded_in) >= 3*(get(i)))\n",
    "#        HOG_tibble <- HOG_tibble %>% dplyr::filter(get(expanded_in) >= 3)\n",
    "#        expanded_HOGs <- HOG_tibble\n",
    "#    }\n",
    "\n",
    "#for (t in expanded_in) {\n",
    "#for (i in c_t_species) {\n",
    "#        HOG_tibble <- HOG_tibble %>% dplyr::filter(get(expanded_in) >= expansion_factor*(get(i)))\n",
    "#        HOG_tibble <- HOG_tibble %>% dplyr::filter(get(expanded_in) >= expansion_factor)\n",
    "#    # this line will remove all HOGs with 0 cases in BOTH compared species\n",
    "#    # this means, that for now, a multispecies comparison demands that\n",
    "#    # for all compared_to species at least 1 gene has to be in the HOG!\n",
    "#        HOG_tibble <- HOG_tibble %>% dplyr::filter(get(i) > 0)\n",
    "#        expanded_HOGs <- HOG_tibble\n",
    "#    }\n",
    "#    }"
   ]
  },
  {
   "cell_type": "code",
   "execution_count": 19,
   "metadata": {
    "tags": []
   },
   "outputs": [],
   "source": [
    "#sessionInfo() "
   ]
  },
  {
   "cell_type": "markdown",
   "metadata": {
    "tags": []
   },
   "source": [
    "R version 4.1.0 (2021-05-18)\n",
    "Platform: x86_64-conda-linux-gnu (64-bit)\n",
    "Running under: Ubuntu 20.04.2 LTS\n",
    "\n",
    "Matrix products: default\n",
    "BLAS/LAPACK: /data/home/stoecker/miniconda3/lib/libopenblasp-r0.3.15.so\n",
    "\n",
    "locale:\n",
    " [1] LC_CTYPE=C.UTF-8       LC_NUMERIC=C           LC_TIME=C.UTF-8       \n",
    " [4] LC_COLLATE=C.UTF-8     LC_MONETARY=C.UTF-8    LC_MESSAGES=C.UTF-8   \n",
    " [7] LC_PAPER=C.UTF-8       LC_NAME=C              LC_ADDRESS=C          \n",
    "[10] LC_TELEPHONE=C         LC_MEASUREMENT=C.UTF-8 LC_IDENTIFICATION=C   \n",
    "\n",
    "attached base packages:\n",
    "[1] stats     graphics  grDevices utils     datasets  methods   base     \n",
    "\n",
    "other attached packages:\n",
    "[1] tibble_3.1.2  tidyr_1.1.3   stringr_1.4.0 dplyr_1.0.7   plyr_1.8.6   \n",
    "[6] readr_1.4.0  \n",
    "\n",
    "loaded via a namespace (and not attached):\n",
    " [1] Rcpp_1.0.7        pillar_1.6.1      compiler_4.1.0    base64enc_0.1-3  \n",
    " [5] tools_4.1.0       digest_0.6.27     uuid_0.1-4        jsonlite_1.7.2   \n",
    " [9] evaluate_0.14     lifecycle_1.0.0   pkgconfig_2.0.3   rlang_0.4.11     \n",
    "[13] IRdisplay_1.0     DBI_1.1.1         cli_2.5.0         rstudioapi_0.13  \n",
    "[17] IRkernel_1.2      repr_1.1.3        generics_0.1.0    vctrs_0.3.8      \n",
    "[21] hms_1.1.0         tidyselect_1.1.1  glue_1.4.2        R6_2.5.0         \n",
    "[25] fansi_0.5.0       pbdZMQ_0.3-5      purrr_0.3.4       magrittr_2.0.1   \n",
    "[29] ps_1.6.0          ellipsis_0.3.2    htmltools_0.5.1.1 assertthat_0.2.1 \n",
    "[33] utf8_1.2.1        stringi_1.7.3     crayon_1.4.1    "
   ]
  },
  {
   "cell_type": "code",
   "execution_count": 20,
   "metadata": {},
   "outputs": [
    {
     "ename": "ERROR",
     "evalue": "Error in eval(expr, envir, enclos): object 'hypotheses_table' not found\n",
     "output_type": "error",
     "traceback": [
      "Error in eval(expr, envir, enclos): object 'hypotheses_table' not found\nTraceback:\n"
     ]
    }
   ],
   "source": [
    "hypotheses_table"
   ]
  },
  {
   "cell_type": "code",
   "execution_count": 43,
   "metadata": {
    "scrolled": true
   },
   "outputs": [
    {
     "data": {
      "text/html": [
       "<table class=\"dataframe\">\n",
       "<caption>A tibble: 30 × 4</caption>\n",
       "<thead>\n",
       "\t<tr><th scope=col>HOG</th><th scope=col>Hordeum_vulgare</th><th scope=col>Zea_mays</th><th scope=col>exp_counter_Hordeum_vulgare</th></tr>\n",
       "\t<tr><th scope=col>&lt;chr&gt;</th><th scope=col>&lt;dbl&gt;</th><th scope=col>&lt;dbl&gt;</th><th scope=col>&lt;dbl&gt;</th></tr>\n",
       "</thead>\n",
       "<tbody>\n",
       "\t<tr><td>N0.HOG0000000</td><td>40</td><td>1</td><td>1</td></tr>\n",
       "\t<tr><td>N0.HOG0000007</td><td> 2</td><td>1</td><td>1</td></tr>\n",
       "\t<tr><td>N0.HOG0000009</td><td>25</td><td>2</td><td>1</td></tr>\n",
       "\t<tr><td>N0.HOG0000016</td><td>21</td><td>1</td><td>1</td></tr>\n",
       "\t<tr><td>N0.HOG0000017</td><td>16</td><td>5</td><td>1</td></tr>\n",
       "\t<tr><td>N0.HOG0000022</td><td>16</td><td>1</td><td>1</td></tr>\n",
       "\t<tr><td>N0.HOG0000029</td><td> 2</td><td>1</td><td>1</td></tr>\n",
       "\t<tr><td>N0.HOG0000038</td><td> 2</td><td>1</td><td>1</td></tr>\n",
       "\t<tr><td>N0.HOG0000039</td><td> 2</td><td>1</td><td>1</td></tr>\n",
       "\t<tr><td>N0.HOG0000046</td><td> 2</td><td>1</td><td>1</td></tr>\n",
       "\t<tr><td>N0.HOG0000053</td><td>10</td><td>1</td><td>1</td></tr>\n",
       "\t<tr><td>N0.HOG0000054</td><td>11</td><td>1</td><td>1</td></tr>\n",
       "\t<tr><td>N0.HOG0000061</td><td> 3</td><td>1</td><td>1</td></tr>\n",
       "\t<tr><td>N0.HOG0000066</td><td> 6</td><td>3</td><td>1</td></tr>\n",
       "\t<tr><td>N0.HOG0000072</td><td> 2</td><td>1</td><td>1</td></tr>\n",
       "\t<tr><td>N0.HOG0000079</td><td> 4</td><td>1</td><td>1</td></tr>\n",
       "\t<tr><td>N0.HOG0000082</td><td> 6</td><td>1</td><td>1</td></tr>\n",
       "\t<tr><td>N0.HOG0000083</td><td> 3</td><td>1</td><td>1</td></tr>\n",
       "\t<tr><td>N0.HOG0000084</td><td> 3</td><td>1</td><td>1</td></tr>\n",
       "\t<tr><td>N0.HOG0000091</td><td> 6</td><td>3</td><td>1</td></tr>\n",
       "\t<tr><td>N0.HOG0000093</td><td> 8</td><td>2</td><td>1</td></tr>\n",
       "\t<tr><td>N0.HOG0000094</td><td> 9</td><td>1</td><td>1</td></tr>\n",
       "\t<tr><td>N0.HOG0000105</td><td> 6</td><td>2</td><td>1</td></tr>\n",
       "\t<tr><td>N0.HOG0000113</td><td> 4</td><td>1</td><td>1</td></tr>\n",
       "\t<tr><td>N0.HOG0000119</td><td> 8</td><td>1</td><td>1</td></tr>\n",
       "\t<tr><td>N0.HOG0000120</td><td> 8</td><td>1</td><td>1</td></tr>\n",
       "\t<tr><td>N0.HOG0000122</td><td> 8</td><td>1</td><td>1</td></tr>\n",
       "\t<tr><td>N0.HOG0000124</td><td> 8</td><td>1</td><td>1</td></tr>\n",
       "\t<tr><td>N0.HOG0000126</td><td> 7</td><td>2</td><td>1</td></tr>\n",
       "\t<tr><td>N0.HOG0000129</td><td> 3</td><td>1</td><td>1</td></tr>\n",
       "</tbody>\n",
       "</table>\n"
      ],
      "text/latex": [
       "A tibble: 30 × 4\n",
       "\\begin{tabular}{llll}\n",
       " HOG & Hordeum\\_vulgare & Zea\\_mays & exp\\_counter\\_Hordeum\\_vulgare\\\\\n",
       " <chr> & <dbl> & <dbl> & <dbl>\\\\\n",
       "\\hline\n",
       "\t N0.HOG0000000 & 40 & 1 & 1\\\\\n",
       "\t N0.HOG0000007 &  2 & 1 & 1\\\\\n",
       "\t N0.HOG0000009 & 25 & 2 & 1\\\\\n",
       "\t N0.HOG0000016 & 21 & 1 & 1\\\\\n",
       "\t N0.HOG0000017 & 16 & 5 & 1\\\\\n",
       "\t N0.HOG0000022 & 16 & 1 & 1\\\\\n",
       "\t N0.HOG0000029 &  2 & 1 & 1\\\\\n",
       "\t N0.HOG0000038 &  2 & 1 & 1\\\\\n",
       "\t N0.HOG0000039 &  2 & 1 & 1\\\\\n",
       "\t N0.HOG0000046 &  2 & 1 & 1\\\\\n",
       "\t N0.HOG0000053 & 10 & 1 & 1\\\\\n",
       "\t N0.HOG0000054 & 11 & 1 & 1\\\\\n",
       "\t N0.HOG0000061 &  3 & 1 & 1\\\\\n",
       "\t N0.HOG0000066 &  6 & 3 & 1\\\\\n",
       "\t N0.HOG0000072 &  2 & 1 & 1\\\\\n",
       "\t N0.HOG0000079 &  4 & 1 & 1\\\\\n",
       "\t N0.HOG0000082 &  6 & 1 & 1\\\\\n",
       "\t N0.HOG0000083 &  3 & 1 & 1\\\\\n",
       "\t N0.HOG0000084 &  3 & 1 & 1\\\\\n",
       "\t N0.HOG0000091 &  6 & 3 & 1\\\\\n",
       "\t N0.HOG0000093 &  8 & 2 & 1\\\\\n",
       "\t N0.HOG0000094 &  9 & 1 & 1\\\\\n",
       "\t N0.HOG0000105 &  6 & 2 & 1\\\\\n",
       "\t N0.HOG0000113 &  4 & 1 & 1\\\\\n",
       "\t N0.HOG0000119 &  8 & 1 & 1\\\\\n",
       "\t N0.HOG0000120 &  8 & 1 & 1\\\\\n",
       "\t N0.HOG0000122 &  8 & 1 & 1\\\\\n",
       "\t N0.HOG0000124 &  8 & 1 & 1\\\\\n",
       "\t N0.HOG0000126 &  7 & 2 & 1\\\\\n",
       "\t N0.HOG0000129 &  3 & 1 & 1\\\\\n",
       "\\end{tabular}\n"
      ],
      "text/markdown": [
       "\n",
       "A tibble: 30 × 4\n",
       "\n",
       "| HOG &lt;chr&gt; | Hordeum_vulgare &lt;dbl&gt; | Zea_mays &lt;dbl&gt; | exp_counter_Hordeum_vulgare &lt;dbl&gt; |\n",
       "|---|---|---|---|\n",
       "| N0.HOG0000000 | 40 | 1 | 1 |\n",
       "| N0.HOG0000007 |  2 | 1 | 1 |\n",
       "| N0.HOG0000009 | 25 | 2 | 1 |\n",
       "| N0.HOG0000016 | 21 | 1 | 1 |\n",
       "| N0.HOG0000017 | 16 | 5 | 1 |\n",
       "| N0.HOG0000022 | 16 | 1 | 1 |\n",
       "| N0.HOG0000029 |  2 | 1 | 1 |\n",
       "| N0.HOG0000038 |  2 | 1 | 1 |\n",
       "| N0.HOG0000039 |  2 | 1 | 1 |\n",
       "| N0.HOG0000046 |  2 | 1 | 1 |\n",
       "| N0.HOG0000053 | 10 | 1 | 1 |\n",
       "| N0.HOG0000054 | 11 | 1 | 1 |\n",
       "| N0.HOG0000061 |  3 | 1 | 1 |\n",
       "| N0.HOG0000066 |  6 | 3 | 1 |\n",
       "| N0.HOG0000072 |  2 | 1 | 1 |\n",
       "| N0.HOG0000079 |  4 | 1 | 1 |\n",
       "| N0.HOG0000082 |  6 | 1 | 1 |\n",
       "| N0.HOG0000083 |  3 | 1 | 1 |\n",
       "| N0.HOG0000084 |  3 | 1 | 1 |\n",
       "| N0.HOG0000091 |  6 | 3 | 1 |\n",
       "| N0.HOG0000093 |  8 | 2 | 1 |\n",
       "| N0.HOG0000094 |  9 | 1 | 1 |\n",
       "| N0.HOG0000105 |  6 | 2 | 1 |\n",
       "| N0.HOG0000113 |  4 | 1 | 1 |\n",
       "| N0.HOG0000119 |  8 | 1 | 1 |\n",
       "| N0.HOG0000120 |  8 | 1 | 1 |\n",
       "| N0.HOG0000122 |  8 | 1 | 1 |\n",
       "| N0.HOG0000124 |  8 | 1 | 1 |\n",
       "| N0.HOG0000126 |  7 | 2 | 1 |\n",
       "| N0.HOG0000129 |  3 | 1 | 1 |\n",
       "\n"
      ],
      "text/plain": [
       "   HOG           Hordeum_vulgare Zea_mays exp_counter_Hordeum_vulgare\n",
       "1  N0.HOG0000000 40              1        1                          \n",
       "2  N0.HOG0000007  2              1        1                          \n",
       "3  N0.HOG0000009 25              2        1                          \n",
       "4  N0.HOG0000016 21              1        1                          \n",
       "5  N0.HOG0000017 16              5        1                          \n",
       "6  N0.HOG0000022 16              1        1                          \n",
       "7  N0.HOG0000029  2              1        1                          \n",
       "8  N0.HOG0000038  2              1        1                          \n",
       "9  N0.HOG0000039  2              1        1                          \n",
       "10 N0.HOG0000046  2              1        1                          \n",
       "11 N0.HOG0000053 10              1        1                          \n",
       "12 N0.HOG0000054 11              1        1                          \n",
       "13 N0.HOG0000061  3              1        1                          \n",
       "14 N0.HOG0000066  6              3        1                          \n",
       "15 N0.HOG0000072  2              1        1                          \n",
       "16 N0.HOG0000079  4              1        1                          \n",
       "17 N0.HOG0000082  6              1        1                          \n",
       "18 N0.HOG0000083  3              1        1                          \n",
       "19 N0.HOG0000084  3              1        1                          \n",
       "20 N0.HOG0000091  6              3        1                          \n",
       "21 N0.HOG0000093  8              2        1                          \n",
       "22 N0.HOG0000094  9              1        1                          \n",
       "23 N0.HOG0000105  6              2        1                          \n",
       "24 N0.HOG0000113  4              1        1                          \n",
       "25 N0.HOG0000119  8              1        1                          \n",
       "26 N0.HOG0000120  8              1        1                          \n",
       "27 N0.HOG0000122  8              1        1                          \n",
       "28 N0.HOG0000124  8              1        1                          \n",
       "29 N0.HOG0000126  7              2        1                          \n",
       "30 N0.HOG0000129  3              1        1                          "
      ]
     },
     "metadata": {},
     "output_type": "display_data"
    },
    {
     "data": {
      "text/html": [
       "<table class=\"dataframe\">\n",
       "<caption>A tibble: 10 × 3</caption>\n",
       "<thead>\n",
       "\t<tr><th scope=col>HOG</th><th scope=col>Hordeum_vulgare</th><th scope=col>Zea_mays</th></tr>\n",
       "\t<tr><th scope=col>&lt;chr&gt;</th><th scope=col>&lt;dbl&gt;</th><th scope=col>&lt;dbl&gt;</th></tr>\n",
       "</thead>\n",
       "<tbody>\n",
       "\t<tr><td>N0.HOG0000000</td><td>40</td><td>1</td></tr>\n",
       "\t<tr><td>N0.HOG0000007</td><td> 2</td><td>1</td></tr>\n",
       "\t<tr><td>N0.HOG0000009</td><td>25</td><td>2</td></tr>\n",
       "\t<tr><td>N0.HOG0000016</td><td>21</td><td>1</td></tr>\n",
       "\t<tr><td>N0.HOG0000017</td><td>16</td><td>5</td></tr>\n",
       "\t<tr><td>N0.HOG0000022</td><td>16</td><td>1</td></tr>\n",
       "\t<tr><td>N0.HOG0000029</td><td> 2</td><td>1</td></tr>\n",
       "\t<tr><td>N0.HOG0000038</td><td> 2</td><td>1</td></tr>\n",
       "\t<tr><td>N0.HOG0000039</td><td> 2</td><td>1</td></tr>\n",
       "\t<tr><td>N0.HOG0000046</td><td> 2</td><td>1</td></tr>\n",
       "</tbody>\n",
       "</table>\n"
      ],
      "text/latex": [
       "A tibble: 10 × 3\n",
       "\\begin{tabular}{lll}\n",
       " HOG & Hordeum\\_vulgare & Zea\\_mays\\\\\n",
       " <chr> & <dbl> & <dbl>\\\\\n",
       "\\hline\n",
       "\t N0.HOG0000000 & 40 & 1\\\\\n",
       "\t N0.HOG0000007 &  2 & 1\\\\\n",
       "\t N0.HOG0000009 & 25 & 2\\\\\n",
       "\t N0.HOG0000016 & 21 & 1\\\\\n",
       "\t N0.HOG0000017 & 16 & 5\\\\\n",
       "\t N0.HOG0000022 & 16 & 1\\\\\n",
       "\t N0.HOG0000029 &  2 & 1\\\\\n",
       "\t N0.HOG0000038 &  2 & 1\\\\\n",
       "\t N0.HOG0000039 &  2 & 1\\\\\n",
       "\t N0.HOG0000046 &  2 & 1\\\\\n",
       "\\end{tabular}\n"
      ],
      "text/markdown": [
       "\n",
       "A tibble: 10 × 3\n",
       "\n",
       "| HOG &lt;chr&gt; | Hordeum_vulgare &lt;dbl&gt; | Zea_mays &lt;dbl&gt; |\n",
       "|---|---|---|\n",
       "| N0.HOG0000000 | 40 | 1 |\n",
       "| N0.HOG0000007 |  2 | 1 |\n",
       "| N0.HOG0000009 | 25 | 2 |\n",
       "| N0.HOG0000016 | 21 | 1 |\n",
       "| N0.HOG0000017 | 16 | 5 |\n",
       "| N0.HOG0000022 | 16 | 1 |\n",
       "| N0.HOG0000029 |  2 | 1 |\n",
       "| N0.HOG0000038 |  2 | 1 |\n",
       "| N0.HOG0000039 |  2 | 1 |\n",
       "| N0.HOG0000046 |  2 | 1 |\n",
       "\n"
      ],
      "text/plain": [
       "   HOG           Hordeum_vulgare Zea_mays\n",
       "1  N0.HOG0000000 40              1       \n",
       "2  N0.HOG0000007  2              1       \n",
       "3  N0.HOG0000009 25              2       \n",
       "4  N0.HOG0000016 21              1       \n",
       "5  N0.HOG0000017 16              5       \n",
       "6  N0.HOG0000022 16              1       \n",
       "7  N0.HOG0000029  2              1       \n",
       "8  N0.HOG0000038  2              1       \n",
       "9  N0.HOG0000039  2              1       \n",
       "10 N0.HOG0000046  2              1       "
      ]
     },
     "metadata": {},
     "output_type": "display_data"
    },
    {
     "data": {
      "text/html": [
       "314"
      ],
      "text/latex": [
       "314"
      ],
      "text/markdown": [
       "314"
      ],
      "text/plain": [
       "[1] 314"
      ]
     },
     "metadata": {},
     "output_type": "display_data"
    }
   ],
   "source": [
    "HOG_tibble <- HOG_tibble_complete\n",
    "\n",
    "\n",
    "# read-in species.tsv - easy lookup of ploidy per species \n",
    "species_table <- read.delim(\"../config/species.tsv\", header = TRUE, sep = \"\\t\", row.names = \"species\")\n",
    "#species_table\n",
    "#species_table[expanded_in, \"ploidy\"]\n",
    "\n",
    "\n",
    "# via snakemake params - Nmin info for expanded/compared per HOG in hypothesis.tsv (hypothesis specific) are parsed \n",
    "# here read-in from table as example\n",
    "hypotheses_table <- read.delim(\"../config/hypotheses.tsv\", header = TRUE, sep = \"\\t\", row.names = \"hypothesis\")\n",
    "Nmin_expanded_in <- hypotheses_table[\"Nmin_expanded_in\",1]\n",
    "#Nmin_compared_to <- hypotheses_table[\"Nmin_compared_to\",1]\n",
    "Nmin_compared_to = 1\n",
    "\n",
    "# expansion factor also in hypotheses.tsv = hypothesis specific\n",
    "#expansion_factor <- as.numeric(hypotheses_table[\"min_expansion_factor\", 1])\n",
    "expansion_factor = 2\n",
    "\n",
    "expansion_difference = 10\n",
    "ploidy_normalization = \"YES\"\n",
    "\n",
    "for (e in expanded_in) {\n",
    "    # create expansion counter column for each expanded species\n",
    "    exp_species_name = paste0(\"exp_counter_\", e)\n",
    "    HOG_tibble <- HOG_tibble %>% tibble::add_column(!!(exp_species_name) := 0)\n",
    "\n",
    "    if (ploidy_normalization == \"YES\") {\n",
    "        for (c in c_t_species) {\n",
    "            HOG_tibble <- HOG_tibble %>% \n",
    "                            mutate(!!(exp_species_name) := \n",
    "                            dplyr::case_when(\n",
    "                                # although cases in which the ct species has no genes are ignored via \n",
    "                                # the multiplication in the 2nd step, this underlines that we do so\n",
    "                                # now with the second expansion distance criterium we should have it anyway\n",
    "                                get(c) > 0 &\n",
    "                                get(e)/species_table[e, \"ploidy\"]*2 >= expansion_factor*(get(c))/species_table[c, \"ploidy\"]*2 ~ get(exp_species_name) + 1,\n",
    "                                get(c) > 0 &\n",
    "                                get(e)/species_table[e, \"ploidy\"]*2 >= expansion_difference + (get(c))/species_table[c, \"ploidy\"]*2 ~ get(exp_species_name) + 1,\n",
    "                                TRUE ~ 0,\n",
    "                              )\n",
    "                        )  \n",
    "        }\n",
    "    }\n",
    "    #if the user did not set ploidy_normalization to \"YES\"\n",
    "    #here, no ploidy information is used to divide the number of genes per OG\n",
    "    else {\n",
    "        for (c in c_t_species) {\n",
    "            HOG_tibble <- HOG_tibble %>% \n",
    "                            mutate(!!(exp_species_name) := \n",
    "                            dplyr::case_when(\n",
    "                                get(c) > 0 &\n",
    "                                get(e) >= expansion_factor*(get(c)) ~ get(exp_species_name) + 1,\n",
    "                                get(c) > 0 &\n",
    "                                get(e) >= expansion_difference + get(c) ~ get(exp_species_name) + 1,\n",
    "                                TRUE ~ 0,\n",
    "                              )\n",
    "                        )\n",
    "        }\n",
    "    }\n",
    "       \n",
    "}\n",
    "\n",
    "\n",
    "HOG_tibble %>% \n",
    "  arrange(desc(exp_counter_Hordeum_vulgare)) %>% head(n=30)\n",
    "\n",
    "\n",
    "#print(HOG_tibble)\n",
    "\n",
    "# then perform summing over all exp_counter_ columns based on user choices\n",
    "# at least Nmin_expanded_in expanded species that are expanded in at least Nmin_compared_to compared_to species\n",
    "# create new column\n",
    "# for each exp_counter_* species check if value >= y\n",
    "# all passing exp_counter_* species are counted; if sum >= x retain HOG\n",
    "\n",
    "HOG_tibble <- HOG_tibble %>%\n",
    "  mutate(pass =\n",
    "    # selecting columns that we want to use use for subsequent function\n",
    "    select(., contains(\"exp_counter_\")) %>%\n",
    "    # use pmap on this subset to get a vector of min from each row\n",
    "    # dataframe is a list so pmap works on each element of the list; here, each row  \n",
    "    # we sum the occurences (per row!) of exp_counter_* cols that greater/equal to user cutoff \n",
    "    purrr::pmap_dbl(., ~ sum(c(...) >= Nmin_compared_to))\n",
    "  )\n",
    "\n",
    "\n",
    "# lastly, retain rows/HOGs that pass x cutoff = number of expanded species\n",
    "# & drop unnecessary columns\n",
    "HOG_tibble <- HOG_tibble %>%\n",
    "  filter(pass >= Nmin_expanded_in) %>%\n",
    "  select(-contains(\"exp_counter_\"), -pass)\n",
    "\n",
    "\n",
    "# additional optional filter1 - expanded_in gene family complete criterium\n",
    "expanded_in_genefam_complete = \"yes\"\n",
    "if (expanded_in_genefam_complete == \"yes\") {\n",
    "  HOG_tibble <- HOG_tibble %>%\n",
    "  # create column with per-row sum of expanded_in species that have at least 1 gene in the HOG\n",
    "  mutate(expanded_in_pass =\n",
    "    select(., contains(expanded_in)) %>%\n",
    "    purrr::pmap_dbl(., ~ sum(c(...) >= 1))\n",
    "  ) %>%\n",
    "  # only keep rows/HOGs in which at least 1 gene of each expanded_in species occurs\n",
    "  filter(expanded_in_pass >= length(expanded_in)) %>%\n",
    "  # remove expanded_in_pass column\n",
    "  select(-expanded_in_pass)\n",
    "}\n",
    "\n",
    "\n",
    "# additional optional filter2 - compared_to gene family complete criterium\n",
    "compared_to_genefam_complete = \"yes\"\n",
    "if (compared_to_genefam_complete == \"yes\") {\n",
    "  HOG_tibble <- HOG_tibble %>%\n",
    "  # create column with per-row sum of compared_to species that have at least 1 gene in the HOG\n",
    "  mutate(compared_to_pass =\n",
    "    select(., contains(compared_to)) %>%\n",
    "    purrr::pmap_dbl(., ~ sum(c(...) >= 1))\n",
    "  ) %>%\n",
    "  # only keep rows/HOGs in which at least 1 gene of each compared_to species occurs\n",
    "  filter(compared_to_pass >= length(compared_to)) %>%\n",
    "  # remove compared_to_pass column\n",
    "  select(-compared_to_pass)\n",
    "}\n",
    "\n",
    "\n",
    "expanded_HOGs <- HOG_tibble\n",
    "\n",
    "head(expanded_HOGs, n=10)\n",
    "nrow(expanded_HOGs)"
   ]
  },
  {
   "cell_type": "markdown",
   "metadata": {},
   "source": [
    "Hard criterium for having at least # genes of each expanded species inside every final OG!"
   ]
  },
  {
   "cell_type": "code",
   "execution_count": 99,
   "metadata": {},
   "outputs": [
    {
     "data": {
      "text/html": [
       "<table class=\"dataframe\">\n",
       "<caption>A tibble: 6 × 3</caption>\n",
       "<thead>\n",
       "\t<tr><th scope=col>HOG</th><th scope=col>Hordeum_vulgare</th><th scope=col>Zea_mays</th></tr>\n",
       "\t<tr><th scope=col>&lt;chr&gt;</th><th scope=col>&lt;dbl&gt;</th><th scope=col>&lt;dbl&gt;</th></tr>\n",
       "</thead>\n",
       "<tbody>\n",
       "\t<tr><td>N0.HOG0000000</td><td>40</td><td>1</td></tr>\n",
       "\t<tr><td>N0.HOG0000007</td><td> 2</td><td>1</td></tr>\n",
       "\t<tr><td>N0.HOG0000009</td><td>25</td><td>2</td></tr>\n",
       "\t<tr><td>N0.HOG0000016</td><td>21</td><td>1</td></tr>\n",
       "\t<tr><td>N0.HOG0000017</td><td>16</td><td>5</td></tr>\n",
       "\t<tr><td>N0.HOG0000022</td><td>16</td><td>1</td></tr>\n",
       "</tbody>\n",
       "</table>\n"
      ],
      "text/latex": [
       "A tibble: 6 × 3\n",
       "\\begin{tabular}{lll}\n",
       " HOG & Hordeum\\_vulgare & Zea\\_mays\\\\\n",
       " <chr> & <dbl> & <dbl>\\\\\n",
       "\\hline\n",
       "\t N0.HOG0000000 & 40 & 1\\\\\n",
       "\t N0.HOG0000007 &  2 & 1\\\\\n",
       "\t N0.HOG0000009 & 25 & 2\\\\\n",
       "\t N0.HOG0000016 & 21 & 1\\\\\n",
       "\t N0.HOG0000017 & 16 & 5\\\\\n",
       "\t N0.HOG0000022 & 16 & 1\\\\\n",
       "\\end{tabular}\n"
      ],
      "text/markdown": [
       "\n",
       "A tibble: 6 × 3\n",
       "\n",
       "| HOG &lt;chr&gt; | Hordeum_vulgare &lt;dbl&gt; | Zea_mays &lt;dbl&gt; |\n",
       "|---|---|---|\n",
       "| N0.HOG0000000 | 40 | 1 |\n",
       "| N0.HOG0000007 |  2 | 1 |\n",
       "| N0.HOG0000009 | 25 | 2 |\n",
       "| N0.HOG0000016 | 21 | 1 |\n",
       "| N0.HOG0000017 | 16 | 5 |\n",
       "| N0.HOG0000022 | 16 | 1 |\n",
       "\n"
      ],
      "text/plain": [
       "  HOG           Hordeum_vulgare Zea_mays\n",
       "1 N0.HOG0000000 40              1       \n",
       "2 N0.HOG0000007  2              1       \n",
       "3 N0.HOG0000009 25              2       \n",
       "4 N0.HOG0000016 21              1       \n",
       "5 N0.HOG0000017 16              5       \n",
       "6 N0.HOG0000022 16              1       "
      ]
     },
     "metadata": {},
     "output_type": "display_data"
    },
    {
     "data": {
      "text/html": [
       "'Hordeum_vulgare'"
      ],
      "text/latex": [
       "'Hordeum\\_vulgare'"
      ],
      "text/markdown": [
       "'Hordeum_vulgare'"
      ],
      "text/plain": [
       "[1] \"Hordeum_vulgare\""
      ]
     },
     "metadata": {},
     "output_type": "display_data"
    },
    {
     "data": {
      "text/html": [
       "<table class=\"dataframe\">\n",
       "<caption>A tibble: 3 × 3</caption>\n",
       "<thead>\n",
       "\t<tr><th scope=col>HOG</th><th scope=col>Hordeum_vulgare</th><th scope=col>Zea_mays</th></tr>\n",
       "\t<tr><th scope=col>&lt;chr&gt;</th><th scope=col>&lt;dbl&gt;</th><th scope=col>&lt;dbl&gt;</th></tr>\n",
       "</thead>\n",
       "<tbody>\n",
       "\t<tr><td>N0.HOG0000017</td><td>16</td><td>5</td></tr>\n",
       "\t<tr><td>N0.HOG0000066</td><td> 6</td><td>3</td></tr>\n",
       "\t<tr><td>N0.HOG0000091</td><td> 6</td><td>3</td></tr>\n",
       "</tbody>\n",
       "</table>\n"
      ],
      "text/latex": [
       "A tibble: 3 × 3\n",
       "\\begin{tabular}{lll}\n",
       " HOG & Hordeum\\_vulgare & Zea\\_mays\\\\\n",
       " <chr> & <dbl> & <dbl>\\\\\n",
       "\\hline\n",
       "\t N0.HOG0000017 & 16 & 5\\\\\n",
       "\t N0.HOG0000066 &  6 & 3\\\\\n",
       "\t N0.HOG0000091 &  6 & 3\\\\\n",
       "\\end{tabular}\n"
      ],
      "text/markdown": [
       "\n",
       "A tibble: 3 × 3\n",
       "\n",
       "| HOG &lt;chr&gt; | Hordeum_vulgare &lt;dbl&gt; | Zea_mays &lt;dbl&gt; |\n",
       "|---|---|---|\n",
       "| N0.HOG0000017 | 16 | 5 |\n",
       "| N0.HOG0000066 |  6 | 3 |\n",
       "| N0.HOG0000091 |  6 | 3 |\n",
       "\n"
      ],
      "text/plain": [
       "  HOG           Hordeum_vulgare Zea_mays\n",
       "1 N0.HOG0000017 16              5       \n",
       "2 N0.HOG0000066  6              3       \n",
       "3 N0.HOG0000091  6              3       "
      ]
     },
     "metadata": {},
     "output_type": "display_data"
    }
   ],
   "source": [
    "head(HOG_tibble)\n",
    "\n",
    "expanded_in\n",
    "all_species = c(\"Hordeum_vulgare\", \"Zea_mays\")\n",
    "\n",
    "expanded_genes_min = 20\n",
    "\n",
    "#HOG_tibble %>%\n",
    "#  filter(across(all_of(all_species)) > expanded_genes_min) %>%\n",
    "#  head()\n",
    "\n",
    "#HOG_tibble %>%\n",
    "#  filter(across(all_species, ~ . > 2)) %>%\n",
    "#  head()\n",
    "\n",
    "\n",
    "HOG_tibble %>%\n",
    "  filter(if_all(contains(all_species), ~ . > 2)) %>%\n",
    "  head()"
   ]
  },
  {
   "cell_type": "code",
   "execution_count": 22,
   "metadata": {},
   "outputs": [
    {
     "data": {
      "text/html": [
       "<table class=\"dataframe\">\n",
       "<caption>A tibble: 0 × 4</caption>\n",
       "<thead>\n",
       "\t<tr><th scope=col>HOG</th><th scope=col>Zea_mays</th><th scope=col>Hordeum_vulgare</th><th scope=col>Arabidopsis_thaliana</th></tr>\n",
       "\t<tr><th scope=col>&lt;chr&gt;</th><th scope=col>&lt;dbl&gt;</th><th scope=col>&lt;dbl&gt;</th><th scope=col>&lt;dbl&gt;</th></tr>\n",
       "</thead>\n",
       "<tbody>\n",
       "</tbody>\n",
       "</table>\n"
      ],
      "text/latex": [
       "A tibble: 0 × 4\n",
       "\\begin{tabular}{llll}\n",
       " HOG & Zea\\_mays & Hordeum\\_vulgare & Arabidopsis\\_thaliana\\\\\n",
       " <chr> & <dbl> & <dbl> & <dbl>\\\\\n",
       "\\hline\n",
       "\\end{tabular}\n"
      ],
      "text/markdown": [
       "\n",
       "A tibble: 0 × 4\n",
       "\n",
       "| HOG &lt;chr&gt; | Zea_mays &lt;dbl&gt; | Hordeum_vulgare &lt;dbl&gt; | Arabidopsis_thaliana &lt;dbl&gt; |\n",
       "|---|---|---|---|\n",
       "\n"
      ],
      "text/plain": [
       "     HOG Zea_mays Hordeum_vulgare Arabidopsis_thaliana"
      ]
     },
     "metadata": {},
     "output_type": "display_data"
    }
   ],
   "source": [
    "expanded_HOGs[expanded_HOGs$HOG==\"N0.HOG0000027\",]"
   ]
  },
  {
   "cell_type": "code",
   "execution_count": 36,
   "metadata": {
    "scrolled": true,
    "tags": []
   },
   "outputs": [
    {
     "data": {
      "text/html": [
       "<table class=\"dataframe\">\n",
       "<caption>A tibble: 3441 × 4</caption>\n",
       "<thead>\n",
       "\t<tr><th scope=col>HOG</th><th scope=col>Hordeum_vulgare</th><th scope=col>Zea_mays</th><th scope=col>expansion</th></tr>\n",
       "\t<tr><th scope=col>&lt;chr&gt;</th><th scope=col>&lt;dbl&gt;</th><th scope=col>&lt;dbl&gt;</th><th scope=col>&lt;chr&gt;</th></tr>\n",
       "</thead>\n",
       "<tbody>\n",
       "\t<tr><td>N0.HOG0000000</td><td>40</td><td> 1</td><td>yes</td></tr>\n",
       "\t<tr><td>N0.HOG0000001</td><td> 4</td><td>36</td><td>no </td></tr>\n",
       "\t<tr><td>N0.HOG0000002</td><td>33</td><td> 0</td><td>no </td></tr>\n",
       "\t<tr><td>N0.HOG0000003</td><td> 2</td><td>26</td><td>no </td></tr>\n",
       "\t<tr><td>N0.HOG0000004</td><td> 1</td><td> 1</td><td>no </td></tr>\n",
       "\t<tr><td>N0.HOG0000005</td><td> 0</td><td> 1</td><td>no </td></tr>\n",
       "\t<tr><td>N0.HOG0000006</td><td> 1</td><td> 0</td><td>no </td></tr>\n",
       "\t<tr><td>N0.HOG0000007</td><td> 2</td><td> 1</td><td>yes</td></tr>\n",
       "\t<tr><td>N0.HOG0000008</td><td> 0</td><td> 1</td><td>no </td></tr>\n",
       "\t<tr><td>N0.HOG0000009</td><td>25</td><td> 2</td><td>yes</td></tr>\n",
       "\t<tr><td>N0.HOG0000010</td><td> 1</td><td> 1</td><td>no </td></tr>\n",
       "\t<tr><td>N0.HOG0000011</td><td> 1</td><td> 2</td><td>no </td></tr>\n",
       "\t<tr><td>N0.HOG0000012</td><td> 0</td><td> 2</td><td>no </td></tr>\n",
       "\t<tr><td>N0.HOG0000013</td><td> 0</td><td> 0</td><td>no </td></tr>\n",
       "\t<tr><td>N0.HOG0000014</td><td> 2</td><td> 0</td><td>no </td></tr>\n",
       "\t<tr><td>N0.HOG0000015</td><td> 1</td><td> 0</td><td>no </td></tr>\n",
       "\t<tr><td>N0.HOG0000016</td><td>21</td><td> 1</td><td>yes</td></tr>\n",
       "\t<tr><td>N0.HOG0000017</td><td>16</td><td> 5</td><td>yes</td></tr>\n",
       "\t<tr><td>N0.HOG0000018</td><td>21</td><td> 0</td><td>no </td></tr>\n",
       "\t<tr><td>N0.HOG0000019</td><td> 0</td><td> 0</td><td>no </td></tr>\n",
       "\t<tr><td>N0.HOG0000020</td><td> 0</td><td> 0</td><td>no </td></tr>\n",
       "\t<tr><td>N0.HOG0000021</td><td> 0</td><td> 0</td><td>no </td></tr>\n",
       "\t<tr><td>N0.HOG0000022</td><td>16</td><td> 1</td><td>yes</td></tr>\n",
       "\t<tr><td>N0.HOG0000023</td><td> 2</td><td>14</td><td>no </td></tr>\n",
       "\t<tr><td>N0.HOG0000024</td><td> 1</td><td> 1</td><td>no </td></tr>\n",
       "\t<tr><td>N0.HOG0000025</td><td>15</td><td> 0</td><td>no </td></tr>\n",
       "\t<tr><td>N0.HOG0000026</td><td> 0</td><td>15</td><td>no </td></tr>\n",
       "\t<tr><td>N0.HOG0000027</td><td> 5</td><td> 0</td><td>no </td></tr>\n",
       "\t<tr><td>N0.HOG0000028</td><td> 2</td><td> 2</td><td>no </td></tr>\n",
       "\t<tr><td>N0.HOG0000029</td><td> 2</td><td> 1</td><td>yes</td></tr>\n",
       "\t<tr><td>⋮</td><td>⋮</td><td>⋮</td><td>⋮</td></tr>\n",
       "\t<tr><td>N0.HOG0003411</td><td>0</td><td>2</td><td>no</td></tr>\n",
       "\t<tr><td>N0.HOG0003412</td><td>0</td><td>2</td><td>no</td></tr>\n",
       "\t<tr><td>N0.HOG0003413</td><td>0</td><td>2</td><td>no</td></tr>\n",
       "\t<tr><td>N0.HOG0003414</td><td>0</td><td>2</td><td>no</td></tr>\n",
       "\t<tr><td>N0.HOG0003415</td><td>0</td><td>2</td><td>no</td></tr>\n",
       "\t<tr><td>N0.HOG0003416</td><td>0</td><td>2</td><td>no</td></tr>\n",
       "\t<tr><td>N0.HOG0003417</td><td>0</td><td>2</td><td>no</td></tr>\n",
       "\t<tr><td>N0.HOG0003418</td><td>0</td><td>2</td><td>no</td></tr>\n",
       "\t<tr><td>N0.HOG0003419</td><td>0</td><td>2</td><td>no</td></tr>\n",
       "\t<tr><td>N0.HOG0003420</td><td>0</td><td>2</td><td>no</td></tr>\n",
       "\t<tr><td>N0.HOG0003421</td><td>0</td><td>2</td><td>no</td></tr>\n",
       "\t<tr><td>N0.HOG0003422</td><td>0</td><td>2</td><td>no</td></tr>\n",
       "\t<tr><td>N0.HOG0003423</td><td>0</td><td>2</td><td>no</td></tr>\n",
       "\t<tr><td>N0.HOG0003424</td><td>0</td><td>2</td><td>no</td></tr>\n",
       "\t<tr><td>N0.HOG0003425</td><td>0</td><td>2</td><td>no</td></tr>\n",
       "\t<tr><td>N0.HOG0003426</td><td>0</td><td>2</td><td>no</td></tr>\n",
       "\t<tr><td>N0.HOG0003427</td><td>0</td><td>2</td><td>no</td></tr>\n",
       "\t<tr><td>N0.HOG0003428</td><td>0</td><td>2</td><td>no</td></tr>\n",
       "\t<tr><td>N0.HOG0003429</td><td>0</td><td>2</td><td>no</td></tr>\n",
       "\t<tr><td>N0.HOG0003430</td><td>0</td><td>2</td><td>no</td></tr>\n",
       "\t<tr><td>N0.HOG0003431</td><td>0</td><td>2</td><td>no</td></tr>\n",
       "\t<tr><td>N0.HOG0003432</td><td>0</td><td>2</td><td>no</td></tr>\n",
       "\t<tr><td>N0.HOG0003433</td><td>0</td><td>2</td><td>no</td></tr>\n",
       "\t<tr><td>N0.HOG0003434</td><td>0</td><td>2</td><td>no</td></tr>\n",
       "\t<tr><td>N0.HOG0003435</td><td>0</td><td>2</td><td>no</td></tr>\n",
       "\t<tr><td>N0.HOG0003436</td><td>0</td><td>2</td><td>no</td></tr>\n",
       "\t<tr><td>N0.HOG0003437</td><td>0</td><td>2</td><td>no</td></tr>\n",
       "\t<tr><td>N0.HOG0003438</td><td>0</td><td>2</td><td>no</td></tr>\n",
       "\t<tr><td>N0.HOG0003439</td><td>0</td><td>2</td><td>no</td></tr>\n",
       "\t<tr><td>N0.HOG0003440</td><td>0</td><td>2</td><td>no</td></tr>\n",
       "</tbody>\n",
       "</table>\n"
      ],
      "text/latex": [
       "A tibble: 3441 × 4\n",
       "\\begin{tabular}{llll}\n",
       " HOG & Hordeum\\_vulgare & Zea\\_mays & expansion\\\\\n",
       " <chr> & <dbl> & <dbl> & <chr>\\\\\n",
       "\\hline\n",
       "\t N0.HOG0000000 & 40 &  1 & yes\\\\\n",
       "\t N0.HOG0000001 &  4 & 36 & no \\\\\n",
       "\t N0.HOG0000002 & 33 &  0 & no \\\\\n",
       "\t N0.HOG0000003 &  2 & 26 & no \\\\\n",
       "\t N0.HOG0000004 &  1 &  1 & no \\\\\n",
       "\t N0.HOG0000005 &  0 &  1 & no \\\\\n",
       "\t N0.HOG0000006 &  1 &  0 & no \\\\\n",
       "\t N0.HOG0000007 &  2 &  1 & yes\\\\\n",
       "\t N0.HOG0000008 &  0 &  1 & no \\\\\n",
       "\t N0.HOG0000009 & 25 &  2 & yes\\\\\n",
       "\t N0.HOG0000010 &  1 &  1 & no \\\\\n",
       "\t N0.HOG0000011 &  1 &  2 & no \\\\\n",
       "\t N0.HOG0000012 &  0 &  2 & no \\\\\n",
       "\t N0.HOG0000013 &  0 &  0 & no \\\\\n",
       "\t N0.HOG0000014 &  2 &  0 & no \\\\\n",
       "\t N0.HOG0000015 &  1 &  0 & no \\\\\n",
       "\t N0.HOG0000016 & 21 &  1 & yes\\\\\n",
       "\t N0.HOG0000017 & 16 &  5 & yes\\\\\n",
       "\t N0.HOG0000018 & 21 &  0 & no \\\\\n",
       "\t N0.HOG0000019 &  0 &  0 & no \\\\\n",
       "\t N0.HOG0000020 &  0 &  0 & no \\\\\n",
       "\t N0.HOG0000021 &  0 &  0 & no \\\\\n",
       "\t N0.HOG0000022 & 16 &  1 & yes\\\\\n",
       "\t N0.HOG0000023 &  2 & 14 & no \\\\\n",
       "\t N0.HOG0000024 &  1 &  1 & no \\\\\n",
       "\t N0.HOG0000025 & 15 &  0 & no \\\\\n",
       "\t N0.HOG0000026 &  0 & 15 & no \\\\\n",
       "\t N0.HOG0000027 &  5 &  0 & no \\\\\n",
       "\t N0.HOG0000028 &  2 &  2 & no \\\\\n",
       "\t N0.HOG0000029 &  2 &  1 & yes\\\\\n",
       "\t ⋮ & ⋮ & ⋮ & ⋮\\\\\n",
       "\t N0.HOG0003411 & 0 & 2 & no\\\\\n",
       "\t N0.HOG0003412 & 0 & 2 & no\\\\\n",
       "\t N0.HOG0003413 & 0 & 2 & no\\\\\n",
       "\t N0.HOG0003414 & 0 & 2 & no\\\\\n",
       "\t N0.HOG0003415 & 0 & 2 & no\\\\\n",
       "\t N0.HOG0003416 & 0 & 2 & no\\\\\n",
       "\t N0.HOG0003417 & 0 & 2 & no\\\\\n",
       "\t N0.HOG0003418 & 0 & 2 & no\\\\\n",
       "\t N0.HOG0003419 & 0 & 2 & no\\\\\n",
       "\t N0.HOG0003420 & 0 & 2 & no\\\\\n",
       "\t N0.HOG0003421 & 0 & 2 & no\\\\\n",
       "\t N0.HOG0003422 & 0 & 2 & no\\\\\n",
       "\t N0.HOG0003423 & 0 & 2 & no\\\\\n",
       "\t N0.HOG0003424 & 0 & 2 & no\\\\\n",
       "\t N0.HOG0003425 & 0 & 2 & no\\\\\n",
       "\t N0.HOG0003426 & 0 & 2 & no\\\\\n",
       "\t N0.HOG0003427 & 0 & 2 & no\\\\\n",
       "\t N0.HOG0003428 & 0 & 2 & no\\\\\n",
       "\t N0.HOG0003429 & 0 & 2 & no\\\\\n",
       "\t N0.HOG0003430 & 0 & 2 & no\\\\\n",
       "\t N0.HOG0003431 & 0 & 2 & no\\\\\n",
       "\t N0.HOG0003432 & 0 & 2 & no\\\\\n",
       "\t N0.HOG0003433 & 0 & 2 & no\\\\\n",
       "\t N0.HOG0003434 & 0 & 2 & no\\\\\n",
       "\t N0.HOG0003435 & 0 & 2 & no\\\\\n",
       "\t N0.HOG0003436 & 0 & 2 & no\\\\\n",
       "\t N0.HOG0003437 & 0 & 2 & no\\\\\n",
       "\t N0.HOG0003438 & 0 & 2 & no\\\\\n",
       "\t N0.HOG0003439 & 0 & 2 & no\\\\\n",
       "\t N0.HOG0003440 & 0 & 2 & no\\\\\n",
       "\\end{tabular}\n"
      ],
      "text/markdown": [
       "\n",
       "A tibble: 3441 × 4\n",
       "\n",
       "| HOG &lt;chr&gt; | Hordeum_vulgare &lt;dbl&gt; | Zea_mays &lt;dbl&gt; | expansion &lt;chr&gt; |\n",
       "|---|---|---|---|\n",
       "| N0.HOG0000000 | 40 |  1 | yes |\n",
       "| N0.HOG0000001 |  4 | 36 | no  |\n",
       "| N0.HOG0000002 | 33 |  0 | no  |\n",
       "| N0.HOG0000003 |  2 | 26 | no  |\n",
       "| N0.HOG0000004 |  1 |  1 | no  |\n",
       "| N0.HOG0000005 |  0 |  1 | no  |\n",
       "| N0.HOG0000006 |  1 |  0 | no  |\n",
       "| N0.HOG0000007 |  2 |  1 | yes |\n",
       "| N0.HOG0000008 |  0 |  1 | no  |\n",
       "| N0.HOG0000009 | 25 |  2 | yes |\n",
       "| N0.HOG0000010 |  1 |  1 | no  |\n",
       "| N0.HOG0000011 |  1 |  2 | no  |\n",
       "| N0.HOG0000012 |  0 |  2 | no  |\n",
       "| N0.HOG0000013 |  0 |  0 | no  |\n",
       "| N0.HOG0000014 |  2 |  0 | no  |\n",
       "| N0.HOG0000015 |  1 |  0 | no  |\n",
       "| N0.HOG0000016 | 21 |  1 | yes |\n",
       "| N0.HOG0000017 | 16 |  5 | yes |\n",
       "| N0.HOG0000018 | 21 |  0 | no  |\n",
       "| N0.HOG0000019 |  0 |  0 | no  |\n",
       "| N0.HOG0000020 |  0 |  0 | no  |\n",
       "| N0.HOG0000021 |  0 |  0 | no  |\n",
       "| N0.HOG0000022 | 16 |  1 | yes |\n",
       "| N0.HOG0000023 |  2 | 14 | no  |\n",
       "| N0.HOG0000024 |  1 |  1 | no  |\n",
       "| N0.HOG0000025 | 15 |  0 | no  |\n",
       "| N0.HOG0000026 |  0 | 15 | no  |\n",
       "| N0.HOG0000027 |  5 |  0 | no  |\n",
       "| N0.HOG0000028 |  2 |  2 | no  |\n",
       "| N0.HOG0000029 |  2 |  1 | yes |\n",
       "| ⋮ | ⋮ | ⋮ | ⋮ |\n",
       "| N0.HOG0003411 | 0 | 2 | no |\n",
       "| N0.HOG0003412 | 0 | 2 | no |\n",
       "| N0.HOG0003413 | 0 | 2 | no |\n",
       "| N0.HOG0003414 | 0 | 2 | no |\n",
       "| N0.HOG0003415 | 0 | 2 | no |\n",
       "| N0.HOG0003416 | 0 | 2 | no |\n",
       "| N0.HOG0003417 | 0 | 2 | no |\n",
       "| N0.HOG0003418 | 0 | 2 | no |\n",
       "| N0.HOG0003419 | 0 | 2 | no |\n",
       "| N0.HOG0003420 | 0 | 2 | no |\n",
       "| N0.HOG0003421 | 0 | 2 | no |\n",
       "| N0.HOG0003422 | 0 | 2 | no |\n",
       "| N0.HOG0003423 | 0 | 2 | no |\n",
       "| N0.HOG0003424 | 0 | 2 | no |\n",
       "| N0.HOG0003425 | 0 | 2 | no |\n",
       "| N0.HOG0003426 | 0 | 2 | no |\n",
       "| N0.HOG0003427 | 0 | 2 | no |\n",
       "| N0.HOG0003428 | 0 | 2 | no |\n",
       "| N0.HOG0003429 | 0 | 2 | no |\n",
       "| N0.HOG0003430 | 0 | 2 | no |\n",
       "| N0.HOG0003431 | 0 | 2 | no |\n",
       "| N0.HOG0003432 | 0 | 2 | no |\n",
       "| N0.HOG0003433 | 0 | 2 | no |\n",
       "| N0.HOG0003434 | 0 | 2 | no |\n",
       "| N0.HOG0003435 | 0 | 2 | no |\n",
       "| N0.HOG0003436 | 0 | 2 | no |\n",
       "| N0.HOG0003437 | 0 | 2 | no |\n",
       "| N0.HOG0003438 | 0 | 2 | no |\n",
       "| N0.HOG0003439 | 0 | 2 | no |\n",
       "| N0.HOG0003440 | 0 | 2 | no |\n",
       "\n"
      ],
      "text/plain": [
       "     HOG           Hordeum_vulgare Zea_mays expansion\n",
       "1    N0.HOG0000000 40               1       yes      \n",
       "2    N0.HOG0000001  4              36       no       \n",
       "3    N0.HOG0000002 33               0       no       \n",
       "4    N0.HOG0000003  2              26       no       \n",
       "5    N0.HOG0000004  1               1       no       \n",
       "6    N0.HOG0000005  0               1       no       \n",
       "7    N0.HOG0000006  1               0       no       \n",
       "8    N0.HOG0000007  2               1       yes      \n",
       "9    N0.HOG0000008  0               1       no       \n",
       "10   N0.HOG0000009 25               2       yes      \n",
       "11   N0.HOG0000010  1               1       no       \n",
       "12   N0.HOG0000011  1               2       no       \n",
       "13   N0.HOG0000012  0               2       no       \n",
       "14   N0.HOG0000013  0               0       no       \n",
       "15   N0.HOG0000014  2               0       no       \n",
       "16   N0.HOG0000015  1               0       no       \n",
       "17   N0.HOG0000016 21               1       yes      \n",
       "18   N0.HOG0000017 16               5       yes      \n",
       "19   N0.HOG0000018 21               0       no       \n",
       "20   N0.HOG0000019  0               0       no       \n",
       "21   N0.HOG0000020  0               0       no       \n",
       "22   N0.HOG0000021  0               0       no       \n",
       "23   N0.HOG0000022 16               1       yes      \n",
       "24   N0.HOG0000023  2              14       no       \n",
       "25   N0.HOG0000024  1               1       no       \n",
       "26   N0.HOG0000025 15               0       no       \n",
       "27   N0.HOG0000026  0              15       no       \n",
       "28   N0.HOG0000027  5               0       no       \n",
       "29   N0.HOG0000028  2               2       no       \n",
       "30   N0.HOG0000029  2               1       yes      \n",
       "⋮    ⋮             ⋮               ⋮        ⋮        \n",
       "3412 N0.HOG0003411 0               2        no       \n",
       "3413 N0.HOG0003412 0               2        no       \n",
       "3414 N0.HOG0003413 0               2        no       \n",
       "3415 N0.HOG0003414 0               2        no       \n",
       "3416 N0.HOG0003415 0               2        no       \n",
       "3417 N0.HOG0003416 0               2        no       \n",
       "3418 N0.HOG0003417 0               2        no       \n",
       "3419 N0.HOG0003418 0               2        no       \n",
       "3420 N0.HOG0003419 0               2        no       \n",
       "3421 N0.HOG0003420 0               2        no       \n",
       "3422 N0.HOG0003421 0               2        no       \n",
       "3423 N0.HOG0003422 0               2        no       \n",
       "3424 N0.HOG0003423 0               2        no       \n",
       "3425 N0.HOG0003424 0               2        no       \n",
       "3426 N0.HOG0003425 0               2        no       \n",
       "3427 N0.HOG0003426 0               2        no       \n",
       "3428 N0.HOG0003427 0               2        no       \n",
       "3429 N0.HOG0003428 0               2        no       \n",
       "3430 N0.HOG0003429 0               2        no       \n",
       "3431 N0.HOG0003430 0               2        no       \n",
       "3432 N0.HOG0003431 0               2        no       \n",
       "3433 N0.HOG0003432 0               2        no       \n",
       "3434 N0.HOG0003433 0               2        no       \n",
       "3435 N0.HOG0003434 0               2        no       \n",
       "3436 N0.HOG0003435 0               2        no       \n",
       "3437 N0.HOG0003436 0               2        no       \n",
       "3438 N0.HOG0003437 0               2        no       \n",
       "3439 N0.HOG0003438 0               2        no       \n",
       "3440 N0.HOG0003439 0               2        no       \n",
       "3441 N0.HOG0003440 0               2        no       "
      ]
     },
     "metadata": {},
     "output_type": "display_data"
    }
   ],
   "source": [
    "# based on filtering criteria create per hypothesis table with:\n",
    "# all HOGs and gene counts + additional column expansion (yes/no)\n",
    "# this is later used in the creation of final tea outputs to create a HOG level table per hypothesis\n",
    "#HOG_tibble_complete \n",
    "\n",
    "#create expansion vector with length of expandsion HOGs\n",
    "expansion <- replicate(nrow(expanded_HOGs), \"yes\")\n",
    "\n",
    "#HOG_tibble_complete  add_column(expanded_HOGs, expansion, .after = \"HOG\")\n",
    "\n",
    "#?full_join\n",
    "\n",
    "expansion_tibble <- full_join(HOG_tibble_complete, add_column(expanded_HOGs, expansion, .after = \"HOG\"), \n",
    "                       by = c(\"HOG\"), suffix = c(\"\", \".remove\")) %>% \n",
    "                           replace_na(list(expansion = \"no\")) %>%\n",
    "                               select(-c(ends_with(\".remove\"))) \n",
    "\n",
    "expansion_tibble\n",
    "\n",
    "#saveRDS(expansion_tibble, paste(\"tea/\", num, \"/expansion_tibble/expansion_tibble.rds\", sep = \"\"))\n",
    "\n",
    "\n",
    "\n",
    "\n"
   ]
  },
  {
   "cell_type": "code",
   "execution_count": null,
   "metadata": {},
   "outputs": [],
   "source": [
    "#additional quotation mark as first element is introduced for some reason\n",
    "#(delim space after : isn't handled properly)\n",
    "#workaround, we get rid with trailing [-1]\n",
    "#exp_og_genes <- unlist(strsplit(orthogroups[orthogroups$OG == \"OG0005769\",]$genes, split = \" \"))[-1]\n",
    "#exp_og_genes\n",
    "#y <- dplyr::filter(all_BLAST_reformatted, qseqid_name %in% exp_og_genes | sseqid_name %in% exp_og_genes)\n",
    "#sort the results by evalue (ascending V11), bitscore (descending V12) and pident (descending 3)\n",
    "#w\n",
    "#w[order(w$evalue, -w$bitscore, -w$pident),]\n",
    "#y <- arrange(y, evalue, -bitscore, -pident)\n",
    "#y\n",
    "#y$qseqid_name\n",
    "#list_qseqid <- as.character(y$qseqid_name)\n",
    "#list_sseqid <- as.character(y$sseqid_name)\n",
    "#list_merged <- unique(c(list_qseqid, list_sseqid))\n",
    "#list_merged"
   ]
  },
  {
   "cell_type": "code",
   "execution_count": null,
   "metadata": {},
   "outputs": [],
   "source": [
    "#for each gene/protein name in an interesting OG do (is there a file just with names per OG?):\n",
    "#check \"all_BLAST_reformatted\" for all entries including these names and create new dataframe/tibble\n",
    "# then, perform filtering and retain certain set of genes/proteins per OG analysis\n",
    "#  then, create .txt file per OG with these gene names\n",
    "## come-up with filter criteria to have better trees?\n",
    "## I could of course just keep everything and save the evalues, etc.; well, problem for later.. ;D\n",
    "####> output for snakemake? what about inidividual OG txt files, because starting here parallelisation can really impact\n",
    "\n",
    "#additional quotation mark as first element is introduced for some reason\n",
    "#(delim space after : isn't handled properly)\n",
    "#workaround, we get rid with trailing [-1]\n",
    "\n",
    "#for (i in expanded_OGs$Orthogroup) {\n",
    "#    exp_og_genes <- unlist(strsplit(orthogroups[orthogroups$OG == i,]$genes, split = \" \"))[-1]\n",
    "#    BLAST_hits_exp_og_genes <- dplyr::filter(all_BLAST_reformatted, \n",
    "#                                             qseqid_name %in% exp_og_genes | sseqid_name %in% exp_og_genes)\n",
    "#    sorted_BLAST_hits_exp_og_genes <- arrange(BLAST_hits_exp_og_genes, evalue, -bitscore, -pident)\n",
    "#    list_qseqid <- as.character(sorted_BLAST_hits_exp_og_genes$qseqid_name)\n",
    "#    list_sseqid <- as.character(sorted_BLAST_hits_exp_og_genes$sseqid_name)\n",
    "#    list_merged <- unique(c(list_qseqid, list_sseqid))\n",
    "#    write_lines(list_merged,\n",
    "#           paste(\"tea/\", num, \"/exp_OGs_proteinnames/proteinnames_\", i, \".txt\", sep = \"\"))\n",
    "#}\n",
    "\n",
    "#lastly create .check to know it's done\n",
    "#exp_OGs_proteinnames.check <- \"check\"\n",
    "#write_file(exp_OGs_proteinnames.check, paste(\"checks/tea/\", num, \"/exp_OGs_proteinnames.check\", sep = \"\"))"
   ]
  },
  {
   "cell_type": "code",
   "execution_count": 37,
   "metadata": {
    "collapsed": true,
    "jupyter": {
     "outputs_hidden": true
    },
    "tags": []
   },
   "outputs": [
    {
     "data": {
      "text/html": [
       "<table class=\"dataframe\">\n",
       "<caption>A tibble: 6 × 5</caption>\n",
       "<thead>\n",
       "\t<tr><th scope=col>HOG</th><th scope=col>OG</th><th scope=col>Gene Tree Parent Clade</th><th scope=col>Arabidopsis_thaliana</th><th scope=col>genes</th></tr>\n",
       "\t<tr><th scope=col>&lt;chr&gt;</th><th scope=col>&lt;chr&gt;</th><th scope=col>&lt;chr&gt;</th><th scope=col>&lt;chr&gt;</th><th scope=col>&lt;chr&gt;</th></tr>\n",
       "</thead>\n",
       "<tbody>\n",
       "\t<tr><td>N0.HOG0000000</td><td>OG0000000</td><td>n0</td><td>NA                                                   </td><td>HORVU2Hr1G079310, HORVU2Hr1G018660, HORVU2Hr1G032050, HORVU2Hr1G016160, HORVU2Hr1G016220, HORVU2Hr1G073620, HORVU2Hr1G055880, HORVU2Hr1G056850, HORVU2Hr1G026300, HORVU2Hr1G050830, HORVU2Hr1G127030, HORVU2Hr1G019750, HORVU2Hr1G057230, HORVU2Hr1G027100, HORVU2Hr1G059590, HORVU2Hr1G051710, HORVU2Hr1G055660, HORVU2Hr1G078940, HORVU2Hr1G060470, HORVU2Hr1G082290, HORVU2Hr1G127040, HORVU2Hr1G048780, HORVU2Hr1G072510, HORVU2Hr1G055670, HORVU2Hr1G051720, HORVU2Hr1G049810, HORVU2Hr1G059290, HORVU2Hr1G063970, HORVU2Hr1G054010, HORVU2Hr1G026290, HORVU2Hr1G047570, HORVU2Hr1G054990, HORVU2Hr1G034820, HORVU2Hr1G075560, HORVU2Hr1G029650, HORVU2Hr1G016150, HORVU2Hr1G127020, HORVU2Hr1G072520, HORVU2Hr1G027110, HORVU2Hr1G052470, Zm00001d007917</td></tr>\n",
       "\t<tr><td>N0.HOG0000001</td><td>OG0000001</td><td>n0</td><td>NA                                                   </td><td>HORVU2Hr1G042650, HORVU2Hr1G050240, HORVU2Hr1G031550, HORVU2Hr1G031530, Zm00001d006241, Zm00001d005991, Zm00001d006187, Zm00001d005363, Zm00001d003819, Zm00001d005166, Zm00001d004067, Zm00001d006695, Zm00001d002666, Zm00001d004347, Zm00001d004872, Zm00001d007023, Zm00001d007221, Zm00001d006074, Zm00001d002805, Zm00001d007537, Zm00001d003740, Zm00001d006849, Zm00001d002299, Zm00001d005805, Zm00001d004747, Zm00001d005840, Zm00001d007637, Zm00001d003578, Zm00001d006675, Zm00001d004912, Zm00001d001920, Zm00001d002637, Zm00001d006863, Zm00001d001921, Zm00001d004359, Zm00001d007964, Zm00001d005518, Zm00001d007562, Zm00001d003825, Zm00001d007563                                                                                        </td></tr>\n",
       "\t<tr><td>N0.HOG0000002</td><td>OG0000002</td><td>n0</td><td>AT2G11035, AT2G02520                                 </td><td>HORVU2Hr1G043320, HORVU2Hr1G113600, HORVU2Hr1G079320, HORVU2Hr1G059130, HORVU2Hr1G059280, HORVU2Hr1G067230, HORVU2Hr1G042730, HORVU2Hr1G026310, HORVU2Hr1G023890, HORVU2Hr1G057810, HORVU2Hr1G049770, HORVU2Hr1G081150, HORVU2Hr1G043140, HORVU2Hr1G063980, HORVU2Hr1G088300, HORVU2Hr1G056860, HORVU2Hr1G067190, HORVU2Hr1G088890, HORVU2Hr1G107730, HORVU2Hr1G055650, HORVU2Hr1G051700, HORVU2Hr1G102420, HORVU2Hr1G027090, HORVU2Hr1G083180, HORVU2Hr1G083210, HORVU2Hr1G044300, HORVU2Hr1G048790, HORVU2Hr1G017710, HORVU2Hr1G056080, HORVU2Hr1G097090, HORVU2Hr1G024690, HORVU2Hr1G038660, HORVU2Hr1G124520                                                                                                                                              </td></tr>\n",
       "\t<tr><td>N0.HOG0000003</td><td>OG0000003</td><td>n0</td><td>NA                                                   </td><td>HORVU2Hr1G033290, HORVU2Hr1G024470, Zm00001d002634, Zm00001d006414, Zm00001d005541, Zm00001d002998, Zm00001d007210, Zm00001d005746, Zm00001d004084, Zm00001d005524, Zm00001d002635, Zm00001d006862, Zm00001d007521, Zm00001d001918, Zm00001d007551, Zm00001d005992, Zm00001d005365, Zm00001d006186, Zm00001d006239, Zm00001d006413, Zm00001d004065, Zm00001d006383, Zm00001d006087, Zm00001d007224, Zm00001d002804, Zm00001d006072, Zm00001d005258, Zm00001d007535                                                                                                                                                                                                                                                                                            </td></tr>\n",
       "\t<tr><td>N0.HOG0000004</td><td>OG0000004</td><td>n1</td><td>AT2G39620                                            </td><td>HORVU2Hr1G027440, Zm00001d004071                                                                                                                                                                                                                                                                                                                                                                                                                                                                                                                                                                                                                                                                                                                              </td></tr>\n",
       "\t<tr><td>N0.HOG0000005</td><td>OG0000004</td><td>n4</td><td>AT2G03380, AT2G02750, AT2G37310, AT2G40720, AT2G04860</td><td>Zm00001d007100                                                                                                                                                                                                                                                                                                                                                                                                                                                                                                                                                                                                                                                                                                                                                </td></tr>\n",
       "</tbody>\n",
       "</table>\n"
      ],
      "text/latex": [
       "A tibble: 6 × 5\n",
       "\\begin{tabular}{lllll}\n",
       " HOG & OG & Gene Tree Parent Clade & Arabidopsis\\_thaliana & genes\\\\\n",
       " <chr> & <chr> & <chr> & <chr> & <chr>\\\\\n",
       "\\hline\n",
       "\t N0.HOG0000000 & OG0000000 & n0 & NA                                                    & HORVU2Hr1G079310, HORVU2Hr1G018660, HORVU2Hr1G032050, HORVU2Hr1G016160, HORVU2Hr1G016220, HORVU2Hr1G073620, HORVU2Hr1G055880, HORVU2Hr1G056850, HORVU2Hr1G026300, HORVU2Hr1G050830, HORVU2Hr1G127030, HORVU2Hr1G019750, HORVU2Hr1G057230, HORVU2Hr1G027100, HORVU2Hr1G059590, HORVU2Hr1G051710, HORVU2Hr1G055660, HORVU2Hr1G078940, HORVU2Hr1G060470, HORVU2Hr1G082290, HORVU2Hr1G127040, HORVU2Hr1G048780, HORVU2Hr1G072510, HORVU2Hr1G055670, HORVU2Hr1G051720, HORVU2Hr1G049810, HORVU2Hr1G059290, HORVU2Hr1G063970, HORVU2Hr1G054010, HORVU2Hr1G026290, HORVU2Hr1G047570, HORVU2Hr1G054990, HORVU2Hr1G034820, HORVU2Hr1G075560, HORVU2Hr1G029650, HORVU2Hr1G016150, HORVU2Hr1G127020, HORVU2Hr1G072520, HORVU2Hr1G027110, HORVU2Hr1G052470, Zm00001d007917\\\\\n",
       "\t N0.HOG0000001 & OG0000001 & n0 & NA                                                    & HORVU2Hr1G042650, HORVU2Hr1G050240, HORVU2Hr1G031550, HORVU2Hr1G031530, Zm00001d006241, Zm00001d005991, Zm00001d006187, Zm00001d005363, Zm00001d003819, Zm00001d005166, Zm00001d004067, Zm00001d006695, Zm00001d002666, Zm00001d004347, Zm00001d004872, Zm00001d007023, Zm00001d007221, Zm00001d006074, Zm00001d002805, Zm00001d007537, Zm00001d003740, Zm00001d006849, Zm00001d002299, Zm00001d005805, Zm00001d004747, Zm00001d005840, Zm00001d007637, Zm00001d003578, Zm00001d006675, Zm00001d004912, Zm00001d001920, Zm00001d002637, Zm00001d006863, Zm00001d001921, Zm00001d004359, Zm00001d007964, Zm00001d005518, Zm00001d007562, Zm00001d003825, Zm00001d007563                                                                                        \\\\\n",
       "\t N0.HOG0000002 & OG0000002 & n0 & AT2G11035, AT2G02520                                  & HORVU2Hr1G043320, HORVU2Hr1G113600, HORVU2Hr1G079320, HORVU2Hr1G059130, HORVU2Hr1G059280, HORVU2Hr1G067230, HORVU2Hr1G042730, HORVU2Hr1G026310, HORVU2Hr1G023890, HORVU2Hr1G057810, HORVU2Hr1G049770, HORVU2Hr1G081150, HORVU2Hr1G043140, HORVU2Hr1G063980, HORVU2Hr1G088300, HORVU2Hr1G056860, HORVU2Hr1G067190, HORVU2Hr1G088890, HORVU2Hr1G107730, HORVU2Hr1G055650, HORVU2Hr1G051700, HORVU2Hr1G102420, HORVU2Hr1G027090, HORVU2Hr1G083180, HORVU2Hr1G083210, HORVU2Hr1G044300, HORVU2Hr1G048790, HORVU2Hr1G017710, HORVU2Hr1G056080, HORVU2Hr1G097090, HORVU2Hr1G024690, HORVU2Hr1G038660, HORVU2Hr1G124520                                                                                                                                              \\\\\n",
       "\t N0.HOG0000003 & OG0000003 & n0 & NA                                                    & HORVU2Hr1G033290, HORVU2Hr1G024470, Zm00001d002634, Zm00001d006414, Zm00001d005541, Zm00001d002998, Zm00001d007210, Zm00001d005746, Zm00001d004084, Zm00001d005524, Zm00001d002635, Zm00001d006862, Zm00001d007521, Zm00001d001918, Zm00001d007551, Zm00001d005992, Zm00001d005365, Zm00001d006186, Zm00001d006239, Zm00001d006413, Zm00001d004065, Zm00001d006383, Zm00001d006087, Zm00001d007224, Zm00001d002804, Zm00001d006072, Zm00001d005258, Zm00001d007535                                                                                                                                                                                                                                                                                            \\\\\n",
       "\t N0.HOG0000004 & OG0000004 & n1 & AT2G39620                                             & HORVU2Hr1G027440, Zm00001d004071                                                                                                                                                                                                                                                                                                                                                                                                                                                                                                                                                                                                                                                                                                                              \\\\\n",
       "\t N0.HOG0000005 & OG0000004 & n4 & AT2G03380, AT2G02750, AT2G37310, AT2G40720, AT2G04860 & Zm00001d007100                                                                                                                                                                                                                                                                                                                                                                                                                                                                                                                                                                                                                                                                                                                                                \\\\\n",
       "\\end{tabular}\n"
      ],
      "text/markdown": [
       "\n",
       "A tibble: 6 × 5\n",
       "\n",
       "| HOG &lt;chr&gt; | OG &lt;chr&gt; | Gene Tree Parent Clade &lt;chr&gt; | Arabidopsis_thaliana &lt;chr&gt; | genes &lt;chr&gt; |\n",
       "|---|---|---|---|---|\n",
       "| N0.HOG0000000 | OG0000000 | n0 | NA                                                    | HORVU2Hr1G079310, HORVU2Hr1G018660, HORVU2Hr1G032050, HORVU2Hr1G016160, HORVU2Hr1G016220, HORVU2Hr1G073620, HORVU2Hr1G055880, HORVU2Hr1G056850, HORVU2Hr1G026300, HORVU2Hr1G050830, HORVU2Hr1G127030, HORVU2Hr1G019750, HORVU2Hr1G057230, HORVU2Hr1G027100, HORVU2Hr1G059590, HORVU2Hr1G051710, HORVU2Hr1G055660, HORVU2Hr1G078940, HORVU2Hr1G060470, HORVU2Hr1G082290, HORVU2Hr1G127040, HORVU2Hr1G048780, HORVU2Hr1G072510, HORVU2Hr1G055670, HORVU2Hr1G051720, HORVU2Hr1G049810, HORVU2Hr1G059290, HORVU2Hr1G063970, HORVU2Hr1G054010, HORVU2Hr1G026290, HORVU2Hr1G047570, HORVU2Hr1G054990, HORVU2Hr1G034820, HORVU2Hr1G075560, HORVU2Hr1G029650, HORVU2Hr1G016150, HORVU2Hr1G127020, HORVU2Hr1G072520, HORVU2Hr1G027110, HORVU2Hr1G052470, Zm00001d007917 |\n",
       "| N0.HOG0000001 | OG0000001 | n0 | NA                                                    | HORVU2Hr1G042650, HORVU2Hr1G050240, HORVU2Hr1G031550, HORVU2Hr1G031530, Zm00001d006241, Zm00001d005991, Zm00001d006187, Zm00001d005363, Zm00001d003819, Zm00001d005166, Zm00001d004067, Zm00001d006695, Zm00001d002666, Zm00001d004347, Zm00001d004872, Zm00001d007023, Zm00001d007221, Zm00001d006074, Zm00001d002805, Zm00001d007537, Zm00001d003740, Zm00001d006849, Zm00001d002299, Zm00001d005805, Zm00001d004747, Zm00001d005840, Zm00001d007637, Zm00001d003578, Zm00001d006675, Zm00001d004912, Zm00001d001920, Zm00001d002637, Zm00001d006863, Zm00001d001921, Zm00001d004359, Zm00001d007964, Zm00001d005518, Zm00001d007562, Zm00001d003825, Zm00001d007563                                                                                         |\n",
       "| N0.HOG0000002 | OG0000002 | n0 | AT2G11035, AT2G02520                                  | HORVU2Hr1G043320, HORVU2Hr1G113600, HORVU2Hr1G079320, HORVU2Hr1G059130, HORVU2Hr1G059280, HORVU2Hr1G067230, HORVU2Hr1G042730, HORVU2Hr1G026310, HORVU2Hr1G023890, HORVU2Hr1G057810, HORVU2Hr1G049770, HORVU2Hr1G081150, HORVU2Hr1G043140, HORVU2Hr1G063980, HORVU2Hr1G088300, HORVU2Hr1G056860, HORVU2Hr1G067190, HORVU2Hr1G088890, HORVU2Hr1G107730, HORVU2Hr1G055650, HORVU2Hr1G051700, HORVU2Hr1G102420, HORVU2Hr1G027090, HORVU2Hr1G083180, HORVU2Hr1G083210, HORVU2Hr1G044300, HORVU2Hr1G048790, HORVU2Hr1G017710, HORVU2Hr1G056080, HORVU2Hr1G097090, HORVU2Hr1G024690, HORVU2Hr1G038660, HORVU2Hr1G124520                                                                                                                                               |\n",
       "| N0.HOG0000003 | OG0000003 | n0 | NA                                                    | HORVU2Hr1G033290, HORVU2Hr1G024470, Zm00001d002634, Zm00001d006414, Zm00001d005541, Zm00001d002998, Zm00001d007210, Zm00001d005746, Zm00001d004084, Zm00001d005524, Zm00001d002635, Zm00001d006862, Zm00001d007521, Zm00001d001918, Zm00001d007551, Zm00001d005992, Zm00001d005365, Zm00001d006186, Zm00001d006239, Zm00001d006413, Zm00001d004065, Zm00001d006383, Zm00001d006087, Zm00001d007224, Zm00001d002804, Zm00001d006072, Zm00001d005258, Zm00001d007535                                                                                                                                                                                                                                                                                             |\n",
       "| N0.HOG0000004 | OG0000004 | n1 | AT2G39620                                             | HORVU2Hr1G027440, Zm00001d004071                                                                                                                                                                                                                                                                                                                                                                                                                                                                                                                                                                                                                                                                                                                               |\n",
       "| N0.HOG0000005 | OG0000004 | n4 | AT2G03380, AT2G02750, AT2G37310, AT2G40720, AT2G04860 | Zm00001d007100                                                                                                                                                                                                                                                                                                                                                                                                                                                                                                                                                                                                                                                                                                                                                 |\n",
       "\n"
      ],
      "text/plain": [
       "  HOG           OG        Gene Tree Parent Clade\n",
       "1 N0.HOG0000000 OG0000000 n0                    \n",
       "2 N0.HOG0000001 OG0000001 n0                    \n",
       "3 N0.HOG0000002 OG0000002 n0                    \n",
       "4 N0.HOG0000003 OG0000003 n0                    \n",
       "5 N0.HOG0000004 OG0000004 n1                    \n",
       "6 N0.HOG0000005 OG0000004 n4                    \n",
       "  Arabidopsis_thaliana                                 \n",
       "1 NA                                                   \n",
       "2 NA                                                   \n",
       "3 AT2G11035, AT2G02520                                 \n",
       "4 NA                                                   \n",
       "5 AT2G39620                                            \n",
       "6 AT2G03380, AT2G02750, AT2G37310, AT2G40720, AT2G04860\n",
       "  genes                                                                                                                                                                                                                                                                                                                                                                                                                                                                                                                                                                                                                                                                                                                                                         \n",
       "1 HORVU2Hr1G079310, HORVU2Hr1G018660, HORVU2Hr1G032050, HORVU2Hr1G016160, HORVU2Hr1G016220, HORVU2Hr1G073620, HORVU2Hr1G055880, HORVU2Hr1G056850, HORVU2Hr1G026300, HORVU2Hr1G050830, HORVU2Hr1G127030, HORVU2Hr1G019750, HORVU2Hr1G057230, HORVU2Hr1G027100, HORVU2Hr1G059590, HORVU2Hr1G051710, HORVU2Hr1G055660, HORVU2Hr1G078940, HORVU2Hr1G060470, HORVU2Hr1G082290, HORVU2Hr1G127040, HORVU2Hr1G048780, HORVU2Hr1G072510, HORVU2Hr1G055670, HORVU2Hr1G051720, HORVU2Hr1G049810, HORVU2Hr1G059290, HORVU2Hr1G063970, HORVU2Hr1G054010, HORVU2Hr1G026290, HORVU2Hr1G047570, HORVU2Hr1G054990, HORVU2Hr1G034820, HORVU2Hr1G075560, HORVU2Hr1G029650, HORVU2Hr1G016150, HORVU2Hr1G127020, HORVU2Hr1G072520, HORVU2Hr1G027110, HORVU2Hr1G052470, Zm00001d007917\n",
       "2 HORVU2Hr1G042650, HORVU2Hr1G050240, HORVU2Hr1G031550, HORVU2Hr1G031530, Zm00001d006241, Zm00001d005991, Zm00001d006187, Zm00001d005363, Zm00001d003819, Zm00001d005166, Zm00001d004067, Zm00001d006695, Zm00001d002666, Zm00001d004347, Zm00001d004872, Zm00001d007023, Zm00001d007221, Zm00001d006074, Zm00001d002805, Zm00001d007537, Zm00001d003740, Zm00001d006849, Zm00001d002299, Zm00001d005805, Zm00001d004747, Zm00001d005840, Zm00001d007637, Zm00001d003578, Zm00001d006675, Zm00001d004912, Zm00001d001920, Zm00001d002637, Zm00001d006863, Zm00001d001921, Zm00001d004359, Zm00001d007964, Zm00001d005518, Zm00001d007562, Zm00001d003825, Zm00001d007563                                                                                        \n",
       "3 HORVU2Hr1G043320, HORVU2Hr1G113600, HORVU2Hr1G079320, HORVU2Hr1G059130, HORVU2Hr1G059280, HORVU2Hr1G067230, HORVU2Hr1G042730, HORVU2Hr1G026310, HORVU2Hr1G023890, HORVU2Hr1G057810, HORVU2Hr1G049770, HORVU2Hr1G081150, HORVU2Hr1G043140, HORVU2Hr1G063980, HORVU2Hr1G088300, HORVU2Hr1G056860, HORVU2Hr1G067190, HORVU2Hr1G088890, HORVU2Hr1G107730, HORVU2Hr1G055650, HORVU2Hr1G051700, HORVU2Hr1G102420, HORVU2Hr1G027090, HORVU2Hr1G083180, HORVU2Hr1G083210, HORVU2Hr1G044300, HORVU2Hr1G048790, HORVU2Hr1G017710, HORVU2Hr1G056080, HORVU2Hr1G097090, HORVU2Hr1G024690, HORVU2Hr1G038660, HORVU2Hr1G124520                                                                                                                                              \n",
       "4 HORVU2Hr1G033290, HORVU2Hr1G024470, Zm00001d002634, Zm00001d006414, Zm00001d005541, Zm00001d002998, Zm00001d007210, Zm00001d005746, Zm00001d004084, Zm00001d005524, Zm00001d002635, Zm00001d006862, Zm00001d007521, Zm00001d001918, Zm00001d007551, Zm00001d005992, Zm00001d005365, Zm00001d006186, Zm00001d006239, Zm00001d006413, Zm00001d004065, Zm00001d006383, Zm00001d006087, Zm00001d007224, Zm00001d002804, Zm00001d006072, Zm00001d005258, Zm00001d007535                                                                                                                                                                                                                                                                                            \n",
       "5 HORVU2Hr1G027440, Zm00001d004071                                                                                                                                                                                                                                                                                                                                                                                                                                                                                                                                                                                                                                                                                                                              \n",
       "6 Zm00001d007100                                                                                                                                                                                                                                                                                                                                                                                                                                                                                                                                                                                                                                                                                                                                                "
      ]
     },
     "metadata": {},
     "output_type": "display_data"
    }
   ],
   "source": [
    "# create genes column in ph_orthogroups file\n",
    "# row merge? - no unite function, really handy ;D\n",
    "\n",
    "head(ph_orthogroups %>% unite(\"genes\", all_of(all_species), sep =\", \", na.rm = TRUE, remove = TRUE))\n",
    "ref_ph_orthogroups <- ph_orthogroups %>% unite(\"genes\", all_of(all_species), sep =\", \", na.rm = TRUE, remove = TRUE)"
   ]
  },
  {
   "cell_type": "code",
   "execution_count": null,
   "metadata": {},
   "outputs": [],
   "source": [
    "#exp_og_genes <- unlist(strsplit(ref_ph_orthogroups[ref_ph_orthogroups$HOG == \"N0.HOG0000783\",]$genes, split = \", \"))\n",
    "#BLAST_hits_exp_og_genes <- dplyr::filter(all_BLAST_reformatted, \n",
    "#                                             qseqid_name %in% as.vector(exp_og_genes) | \n",
    "#                                             sseqid_name %in% exp_og_genes)# |\n",
    "#                                              sseqid_name %in% \"HORVU1Hr1G015850\")\n",
    "#BLAST_hits_exp_og_genes\n",
    "#exp_og_genes\n",
    "#head(all_BLAST_reformatted[all_BLAST_reformatted$sseqid_name==\"HORVU1Hr1G015850\",])\n",
    "#BLAST_hits_exp_og_genes\n",
    "#?filter\n",
    "#dput(exp_og_genes)\n",
    "\n",
    "#sorted_BLAST_hits_exp_og_genes <- arrange(BLAST_hits_exp_og_genes, evalue, -bitscore, -pident)\n",
    "#    list_qseqid <- as.character(sorted_BLAST_hits_exp_og_genes$qseqid_name)\n",
    "#    list_sseqid <- as.character(sorted_BLAST_hits_exp_og_genes$sseqid_name)\n",
    "#    list_merged <- unique(c(list_qseqid, list_sseqid))\n",
    "#list_merged"
   ]
  },
  {
   "cell_type": "markdown",
   "metadata": {},
   "source": [
    "##### playaround\n",
    "##### adding a specific number of additional best blast hits to a HOG"
   ]
  },
  {
   "cell_type": "code",
   "execution_count": 26,
   "metadata": {},
   "outputs": [
    {
     "data": {
      "text/html": [
       "24"
      ],
      "text/latex": [
       "24"
      ],
      "text/markdown": [
       "24"
      ],
      "text/plain": [
       "[1] 24"
      ]
     },
     "metadata": {},
     "output_type": "display_data"
    },
    {
     "data": {
      "text/html": [
       "44"
      ],
      "text/latex": [
       "44"
      ],
      "text/markdown": [
       "44"
      ],
      "text/plain": [
       "[1] 44"
      ]
     },
     "metadata": {},
     "output_type": "display_data"
    }
   ],
   "source": [
    "exp_og_genes <- unlist(strsplit(ref_ph_orthogroups[ref_ph_orthogroups$HOG == expanded_HOGs$HOG[47],]$genes, \n",
    "                                        split = \", \"))\n",
    "#exp_og_genes\n",
    "BLAST_hits_exp_og_genes <- dplyr::filter(all_BLAST_reformatted, \n",
    "                                             qseqid_name %in% exp_og_genes | sseqid_name %in% exp_og_genes)\n",
    "sorted_BLAST_hits_exp_og_genes <- arrange(BLAST_hits_exp_og_genes, evalue, -bitscore, -pident)\n",
    "length(exp_og_genes)\n",
    "#sorted_BLAST_hits_exp_og_genes\n",
    "add_blast_hits <- 20\n",
    "HOG_set_extended <- length(exp_og_genes) + add_blast_hits \n",
    "\n",
    "\n",
    "# if we have more than \"add_blast_hits\" further blast hits; limit the set to HOG + \"add_blast_hits\" param\n",
    "#if (length(unique(sorted_BLAST_hits_exp_og_genes$qseqid_name)) >= HOG_set_extended) {\n",
    "    list_qseqid <- as.character(unique(sorted_BLAST_hits_exp_og_genes$qseqid_name)[1:HOG_set_extended])\n",
    "#}\n",
    "# if we have less than \"add_blast_hits\" further blast hits; just take the complete set\n",
    "#else {\n",
    "#    list_qseqid <- as.character(sorted_BLAST_hits_exp_og_genes$qseqid_name)\n",
    "#}\n",
    "\n",
    "length(list_qseqid)"
   ]
  },
  {
   "cell_type": "code",
   "execution_count": null,
   "metadata": {},
   "outputs": [],
   "source": [
    "#exp_og_genes"
   ]
  },
  {
   "cell_type": "markdown",
   "metadata": {},
   "source": [
    "12.05.2021  \n",
    "- ok, so this is actually way less complicated because I can take advantage how vectors work in R\n",
    "- set1 represents qseqids and set2 represents sseqids\n",
    "- unique() on both vectors concatenated rowwise! will yield a non-redundant set, maintaing order of appearance in vectors\n",
    "- if we substract the set of HOG genes (represented by h), then the remaining set is the n next blast hits (in order of filtering)"
   ]
  },
  {
   "cell_type": "code",
   "execution_count": null,
   "metadata": {},
   "outputs": [],
   "source": [
    "set1 <- c(\"a\", \"b\", \"c\", \"d\", \"e\")\n",
    "set2 <- c(\"b\", \"g\", \"c\", \"c\", \"f\")\n",
    "\n",
    "h <- c(\"a\", \"b\", \"c\")\n",
    "\n",
    "m <- na.omit(unique(c(rbind(set1, set2))))\n",
    "m\n",
    "#na.omit(unique(c(rbind(set2, set1))))\n",
    "\n",
    "#setdiff will remove duplicates - which we shouldn't have here anymore\n",
    "setdiff(m, h)"
   ]
  },
  {
   "cell_type": "code",
   "execution_count": null,
   "metadata": {},
   "outputs": [],
   "source": [
    "expanded_HOGs$HOG[20]"
   ]
  },
  {
   "cell_type": "markdown",
   "metadata": {},
   "source": [
    "**retaining up to a specific number of additional BLAST hits + order and info of the BLAST**"
   ]
  },
  {
   "cell_type": "code",
   "execution_count": null,
   "metadata": {},
   "outputs": [],
   "source": [
    "exp_og_genes <- unlist(strsplit(ref_ph_orthogroups[ref_ph_orthogroups$HOG == expanded_HOGs$HOG[20],]$genes, \n",
    "                                        split = \", \"))\n",
    "\n",
    "BLAST_hits_exp_og_genes <- dplyr::filter(all_BLAST_reformatted, \n",
    "                                             qseqid_name %in% exp_og_genes | sseqid_name %in% exp_og_genes)\n",
    "\n",
    "sorted_BLAST_hits_exp_og_genes <- arrange(BLAST_hits_exp_og_genes, evalue, -bitscore, -pident)\n",
    "\n",
    "# sorted table of all HOG genes with their extended blast hits\n",
    "#sorted_BLAST_hits_exp_og_genes\n",
    "\n",
    "# set value to extend the BLAST hits\n",
    "add_blast_hits <- 40\n",
    "HOG_set_extended <- length(exp_og_genes) + add_blast_hits\n",
    "\n",
    "# inside of for loop create per HOG extended gene list based on the additional blast hits\n",
    "# if we have more than \"add_blast_hits\" further blast hits; limit the set to HOG + \"add_blast_hits\" param\n",
    "#if (length(unique(sorted_BLAST_hits_exp_og_genes$qseqid_name)) >= HOG_set_extended) {\n",
    "#   list_qseqid <- as.character(unique(sorted_BLAST_hits_exp_og_genes$qseqid_name)[1:HOG_set_extended])\n",
    "#}\n",
    "# if we have less than \"add_blast_hits\" further blast hits; just take the complete set\n",
    "#else {\n",
    "#    list_qseqid <- as.character(sorted_BLAST_hits_exp_og_genes$qseqid_name)\n",
    "#}\n",
    "\n",
    "#list_qseqid <- as.character(unique(sorted_BLAST_hits_exp_og_genes$qseqid_name)[1:HOG_set_extended])\n",
    "#list_sseqid <- as.character(unique(sorted_BLAST_hits_exp_og_genes$sseqid_name)[1:HOG_set_extended])\n",
    "#list_merged <- na.omit(unique(c(list_qseqid, list_sseqid)))\n",
    "                            \n",
    "# ...\n",
    "# final object is called \"list_merged\"\n",
    "#list_qseqid\n",
    "#list_sseqid\n",
    "#list_merged\n",
    "\n",
    "# use tail() to access last element in vector\n",
    "#tail(list_merged, n=1)\n",
    "\n",
    "# get row number of last appearance of last element in ssequid column\n",
    "# in some instances not as straightforward and last hit is actually on the query side\n",
    "# then use last entry rownumber there as subset cutoff\n",
    "#last <- sorted_BLAST_hits_exp_og_genes %>%\n",
    "#  rowid_to_column() %>%\n",
    "#  filter(\n",
    "#    case_when(\n",
    "#      sseqid_name != tail(list_merged, n=1) ~ qseqid_name == tail(list_merged, n=1),\n",
    "#      T ~ sseqid_name == tail(list_merged, n=1)\n",
    "##    )\n",
    "#  ) %>%\n",
    "#  tail(n=1)\n",
    "#last\n",
    "\n",
    "\n",
    "# get gene name of last gene to be added based on number of add_blast_hits\n",
    "all_blast_genes <- na.omit(\n",
    "       unique(\n",
    "         c(\n",
    "           rbind(\n",
    "             sorted_BLAST_hits_exp_og_genes$qseqid_name, \n",
    "             sorted_BLAST_hits_exp_og_genes$sseqid_name\n",
    "           )\n",
    "         )\n",
    "       )\n",
    "     ) \n",
    "\n",
    "#length(all_blast_genes)\n",
    "\n",
    "\n",
    "#length(unique(exp_og_genes))\n",
    "#length(unique(sorted_BLAST_hits_exp_og_genes$qseqid_name))\n",
    "\n",
    "# set of all extended blast hits (based on threshold) - vector of gene names (ordered!)\n",
    "# also nice: don't need a conditional since `%>% head(n = add_blast_hits)` will work,\n",
    "# even if add_blast_hits param is > setdiff(all_blast_genes, exp_og_genes) \n",
    "extended_blast_hits_genes <- setdiff(all_blast_genes, exp_og_genes) %>% head(n = add_blast_hits)\n",
    "#length(extended_blast_hits_genes)\n",
    "\n",
    "# non redundant set of gene names of HOG + n additional blast hits as defined in the user threshold\n",
    "HOG_and_ext_blast_hits_genes <- c(exp_og_genes, extended_blast_hits_genes)\n",
    "length(HOG_and_ext_blast_hits_genes)\n",
    "\n",
    "#create subset of sorted_BLAST_hits_exp_og_genes table in which only:\n",
    "# exp_og_genes & extended_blast_hits_genes are allowed to appear\n",
    "# this way we have cutoff for the nth best blast hit/gene but also keep all secondary hits\n",
    "HOG_and_ext_blast_hits_table <- sorted_BLAST_hits_exp_og_genes %>%\n",
    "                                        filter(qseqid_name %in% HOG_and_ext_blast_hits_genes) %>%\n",
    "                                        filter(sseqid_name %in% HOG_and_ext_blast_hits_genes)\n",
    "\n",
    "head(HOG_and_ext_blast_hits_table)\n",
    "\n",
    "# create a subset of the \"sorted_BLAST_hits_exp_og_genes\" dataframe based on the final extended gene list\n",
    "# take last gene of extended set, search sseqid until last appearance and cut dataframe there?..\n",
    "# just keep all vs all information - additonal filtering as part of the WebApp\n",
    "#subset_sorted_BLAST_hits_exp_og_genes <- sorted_BLAST_hits_exp_og_genes[1:last$rowid,]\n",
    "#subset_sorted_BLAST_hits_exp_og_genes\n",
    "\n",
    "\n",
    "\n",
    "# finally create object per HOG which stores the BLAST information\n",
    "# object@name_of_HOG <- prev. subsetted tibble of BLAST hits"
   ]
  },
  {
   "cell_type": "code",
   "execution_count": null,
   "metadata": {},
   "outputs": [],
   "source": []
  },
  {
   "cell_type": "code",
   "execution_count": null,
   "metadata": {
    "scrolled": true
   },
   "outputs": [],
   "source": [
    "## define custom class\n",
    "# need a list object to hold all data of this class\n",
    "extended_BLAST_hits <- list()\n",
    "\n",
    "# class for extended BLAST hits info\n",
    "setClass(\"extended_BLAST_hits\", \n",
    "         slots=list(blast_table=\"tbl_df\",\n",
    "                    nrow_table=\"numeric\",\n",
    "                    num_genes_HOG=\"numeric\",\n",
    "                    num_genes_extend=\"numeric\",\n",
    "                    num_genes_complete=\"numeric\",\n",
    "                    genes_HOG=\"tbl_df\")#,\n",
    "#                    genes_extend=\"tbl_df\",\n",
    "#                    genes_complete=\"tbl_df\")\n",
    "         )\n",
    "\n",
    "ext_B_hits <- new(\"extended_BLAST_hits\",\n",
    "      blast_table=subset_sorted_BLAST_hits_exp_og_genes,\n",
    "      nrow_table=nrow(subset_sorted_BLAST_hits_exp_og_genes),\n",
    "      num_genes_HOG=length(exp_og_genes),\n",
    "      num_genes_extend = length(\n",
    "                  unique(\n",
    "                    c(\n",
    "                      unique(subset_sorted_BLAST_hits_exp_og_genes$qseqid_name), \n",
    "                      unique(subset_sorted_BLAST_hits_exp_og_genes$sseqid_name)\n",
    "                      )\n",
    "                  )\n",
    "                ) - length(exp_og_genes),\n",
    "      num_genes_complete=length(\n",
    "                  unique(\n",
    "                    c(\n",
    "                      unique(subset_sorted_BLAST_hits_exp_og_genes$qseqid_name), \n",
    "                      unique(subset_sorted_BLAST_hits_exp_og_genes$sseqid_name)\n",
    "                      )\n",
    "                  )\n",
    "                ),\n",
    "      genes_HOG=as_tibble(exp_og_genes)#,\n",
    "#      genes_extend=as_tibble(unique(\n",
    "#                    c(\n",
    "#                      unique(subset_sorted_BLAST_hits_exp_og_genes$qseqid_name), \n",
    "#                      unique(subset_sorted_BLAST_hits_exp_og_genes$sseqid_name)\n",
    "#                      )) - exp_og_genes),\n",
    "#      genes_complete=as_tibble(unique(\n",
    "#                    c(\n",
    "#                      unique(subset_sorted_BLAST_hits_exp_og_genes$qseqid_name), \n",
    "#                      unique(subset_sorted_BLAST_hits_exp_og_genes$sseqid_name)\n",
    "#                      )))\n",
    "    )\n",
    "\n",
    "ext_B_hits <- list(ext_B_hits)\n",
    "names(ext_B_hits) <- paste0(expanded_HOGs$HOG[21])\n",
    "\n",
    "#x <- list(test)\n",
    "#names(x) <- paste0(expanded_HOGs$HOG[47])\n",
    "\n",
    "extended_BLAST_hits <- c(extended_BLAST_hits, ext_B_hits)\n",
    "\n",
    "summary(extended_BLAST_hits)\n",
    "str(extended_BLAST_hits)\n",
    "\n",
    "#ext_B_hits$N0.HOG0000250"
   ]
  },
  {
   "cell_type": "code",
   "execution_count": null,
   "metadata": {
    "scrolled": true
   },
   "outputs": [],
   "source": [
    "extended_BLAST_hits$N0.HOG0000101@genes_HOG"
   ]
  },
  {
   "cell_type": "code",
   "execution_count": null,
   "metadata": {},
   "outputs": [],
   "source": [
    "#now HOG based\n",
    "\n",
    "#for each gene/protein name in an interesting OG do (is there a file just with names per OG?):\n",
    "#check \"all_BLAST_reformatted\" for all entries including these names and create new dataframe/tibble\n",
    "# then, perform filtering and retain certain set of genes/proteins per OG analysis\n",
    "#  then, create .txt file per OG with these gene names\n",
    "## come-up with filter criteria to have better trees?\n",
    "## I could of course just keep everything and save the evalues, etc.; well, problem for later.. ;D\n",
    "####> output for snakemake? what about inidividual OG txt files, because starting here parallelisation can really impact\n",
    "\n",
    "#additional quotation mark as first element is introduced for some reason\n",
    "#(delim space after : isn't handled properly)\n",
    "#workaround, we get rid with trailing [-1]\n",
    "#not a problem anymore with N0.tsv table as input\n",
    "\n",
    "dir.create(paste(\"tea/\", num, \"/extended_BLAST_hits/\", sep = \"\"))\n",
    "\n",
    "# define the number of additional best blast hits to include in the follow-up analyses\n",
    "add_blast_hits <- 20\n",
    "\n",
    "## define custom class for extended blast hits\n",
    "# need a list object to hold all data of this class\n",
    "extended_BLAST_hits <- list()\n",
    "\n",
    "# class for extended BLAST hits info\n",
    "setClass(\"extended_BLAST_hits\", \n",
    "         slots=list(blast_table=\"tbl_df\",\n",
    "                    num_genes_HOG=\"numeric\",\n",
    "                    num_genes_extend=\"numeric\",\n",
    "                    num_genes_complete=\"numeric\",\n",
    "                    genes_HOG=\"tbl_df\",\n",
    "                    genes_extend_hits=\"tbl_df\")\n",
    "         )\n",
    "\n",
    "\n",
    "for (i in expanded_HOGs$HOG) {\n",
    "    # split = \", \" (instead of \" \") is super important; didn't see this bug at first but\n",
    "    # it led to most genes not being recognized due to additional \",\" at the end..! (see tests in prev. cell)\n",
    "    exp_og_genes <- unlist(strsplit(ref_ph_orthogroups[ref_ph_orthogroups$HOG == i,]$genes, split = \", \"))\n",
    "    BLAST_hits_exp_og_genes <- dplyr::filter(all_BLAST_reformatted, \n",
    "                                             qseqid_name %in% exp_og_genes | sseqid_name %in% exp_og_genes)\n",
    "    sorted_BLAST_hits_exp_og_genes <- arrange(BLAST_hits_exp_og_genes, evalue, -bitscore, -pident)\n",
    "    # add number of chosen additional best blast hits to size of HOG \n",
    "    HOG_set_extended <- length(exp_og_genes) + add_blast_hits\n",
    "    \n",
    "    ### first qseqid\n",
    "    ### if we have more than \"additional genes\" further blast hits; limit the set to HOG + \"additional genes\" param\n",
    "    #if (length(unique(sorted_BLAST_hits_exp_og_genes$qseqid_name)) >= HOG_set_extended) {\n",
    "    ##    list_qseqid <- as.character(unique(sorted_BLAST_hits_exp_og_genes$qseqid_name)[1:HOG_set_extended])\n",
    "    ##}\n",
    "    ## if we have less than \"additional genes\" further blast hits; just take the complete set\n",
    "    ##else {\n",
    "    ##    list_qseqid <- as.character(sorted_BLAST_hits_exp_og_genes$qseqid_name)\n",
    "    ##}\n",
    "    ### now for sseqid\n",
    "    ## if we have more than \"additional genes\" further blast hits; limit the set to HOG + \"additional genes\" param\n",
    "    ##if (length(unique(sorted_BLAST_hits_exp_og_genes$sseqid_name)) >= HOG_set_extended) {\n",
    "    ##    list_sseqid <- as.character(unique(sorted_BLAST_hits_exp_og_genes$sseqid_name)[1:HOG_set_extended])\n",
    "    ##}\n",
    "    ## if we have less than \"additional genes\" further blast hits; just take the complete set\n",
    "    ##else {\n",
    "    ##    list_sseqid <- as.character(sorted_BLAST_hits_exp_og_genes$sseqid_name)\n",
    "    ##}\n",
    "    ##list_merged <- unique(c(list_qseqid, list_sseqid))\n",
    "    \n",
    "    # get gene name of last gene to be added based on number of add_blast_hits\n",
    "    all_blast_genes <- na.omit(\n",
    "       unique(\n",
    "         c(\n",
    "           rbind(\n",
    "             sorted_BLAST_hits_exp_og_genes$qseqid_name, \n",
    "             sorted_BLAST_hits_exp_og_genes$sseqid_name\n",
    "           )\n",
    "         )\n",
    "       )\n",
    "     ) \n",
    "    \n",
    "    # set of all extended blast hits (based on threshold) - vector of gene names (ordered!)\n",
    "    # also nice: don't need a conditional since `%>% head(n = add_blast_hits)` will work,\n",
    "    # even if add_blast_hits param is > setdiff(all_blast_genes, exp_og_genes) \n",
    "    extended_blast_hits_genes <- setdiff(all_blast_genes, exp_og_genes) %>% head(n = add_blast_hits)\n",
    "    # length(extended_blast_hits_genes)\n",
    "  \n",
    "    # non redundant set of gene names of HOG + n additional blast hits as defined in the user threshold\n",
    "    HOG_and_ext_blast_hits_genes <- c(exp_og_genes, extended_blast_hits_genes)\n",
    "\n",
    "    #create subset of sorted_BLAST_hits_exp_og_genes table in which only:\n",
    "    # exp_og_genes & extended_blast_hits_genes are allowed to appear\n",
    "    # this way we have cutoff for the nth best blast hit/gene but also keep all secondary hits\n",
    "    HOG_and_ext_blast_hits_table <- sorted_BLAST_hits_exp_og_genes %>%\n",
    "                                      filter(qseqid_name %in% HOG_and_ext_blast_hits_genes) %>%\n",
    "                                      filter(sseqid_name %in% HOG_and_ext_blast_hits_genes)\n",
    "    \n",
    "    write_lines(HOG_and_ext_blast_hits_genes,\n",
    "           paste(\"tea/\", num, \"/exp_OGs_proteinnames/proteinnames_\", i, \".txt\", sep = \"\"))\n",
    "    \n",
    "    \n",
    "    # also: create list of S4 object containing the blast hits and respective information\n",
    "    \n",
    "    ## use tail() to access last element in vector\n",
    "    ##tail(list_merged, n=1)\n",
    "\n",
    "    ## get row number of last appearance of last element in ssequid column\n",
    "    ## in some instances not as straightforward and last hit is actually on the query side\n",
    "    ## then use last entry rownumber there as subset cutoff\n",
    "    ##last <- sorted_BLAST_hits_exp_og_genes %>%\n",
    "    ##  rowid_to_column() %>%\n",
    "    ##  filter(\n",
    "    ##   case_when(\n",
    "    ##      sseqid_name != tail(list_merged, n=1) ~ qseqid_name == tail(list_merged, n=1),\n",
    "    ##      T ~ sseqid_name == tail(list_merged, n=1)\n",
    "    ##    )\n",
    "    ##  ) %>%\n",
    "    ##  tail(n=1)\n",
    "    \n",
    "    ## create a subset of the \"sorted_BLAST_hits_exp_og_genes\" dataframe based on the final extended gene list\n",
    "    ## take last gene of extended set, search sseqid until last appearance and cut dataframe there\n",
    "    ## just keep all vs all information - additonal filtering as part of the WebApp\n",
    "    ##subset_sorted_BLAST_hits_exp_og_genes <- sorted_BLAST_hits_exp_og_genes[1:last$rowid,]\n",
    "    \n",
    "    # for each exp. HOG create an extended_BLAST_hits S4 object and collect as part of list\n",
    "    ext_B_hits <- new(\"extended_BLAST_hits\",\n",
    "      blast_table=HOG_and_ext_blast_hits_table,\n",
    "    #  nrow_table=nrow(subset_sorted_BLAST_hits_exp_og_genes),\n",
    "      num_genes_HOG=length(exp_og_genes),\n",
    "      num_genes_extend = length(extended_blast_hits_genes),\n",
    "      #            unique(\n",
    "      #              c(\n",
    "      #                unique(subset_sorted_BLAST_hits_exp_og_genes$qseqid_name), \n",
    "      #                unique(subset_sorted_BLAST_hits_exp_og_genes$sseqid_name)\n",
    "      #                )\n",
    "      #            )\n",
    "      #          ) - length(exp_og_genes),\n",
    "      num_genes_complete=length(HOG_and_ext_blast_hits_genes),\n",
    "      #            unique(\n",
    "      #              c(\n",
    "      #                unique(subset_sorted_BLAST_hits_exp_og_genes$qseqid_name), \n",
    "      #                unique(subset_sorted_BLAST_hits_exp_og_genes$sseqid_name)\n",
    "      #                )\n",
    "      #            )\n",
    "      #          ),\n",
    "      genes_HOG=as_tibble(exp_og_genes),\n",
    "      genes_extend_hits=as_tibble(extended_blast_hits_genes)\n",
    "            )\n",
    "    # assign name based on name of the underlying expanded HOG\n",
    "    ext_B_hits <- list(ext_B_hits)\n",
    "    names(ext_B_hits) <- paste0(i)\n",
    "    \n",
    "    # append to list object\n",
    "    extended_BLAST_hits <- c(extended_BLAST_hits, ext_B_hits)\n",
    "}\n",
    "\n",
    "# save extended BLAST hits to hypothesis specific (\"num\") RDS file \n",
    "#-> to be read and used in final_tea_computation.R script\n",
    "saveRDS(extended_BLAST_hits, paste(\"tea/\", num, \"/extended_BLAST_hits/extended_BLAST_hits.RDS\", sep = \"\"))\n",
    "\n",
    "#lastly create .check to know it's done\n",
    "exp_OGs_proteinnames.check <- \"check\"\n",
    "write_file(exp_OGs_proteinnames.check, paste(\"checks/tea/\", num, \"/exp_OGs_proteinnames.check\", sep = \"\"))"
   ]
  },
  {
   "cell_type": "code",
   "execution_count": null,
   "metadata": {},
   "outputs": [],
   "source": [
    "as_tibble(extended_blast_hits_genes)"
   ]
  },
  {
   "cell_type": "code",
   "execution_count": null,
   "metadata": {},
   "outputs": [],
   "source": [
    "extended_BLAST_hits$N0.HOG0000101\n",
    "length(extended_BLAST_hits)\n",
    "str(expanded_HOGs)"
   ]
  },
  {
   "cell_type": "code",
   "execution_count": null,
   "metadata": {},
   "outputs": [],
   "source": [
    "paste(\"checks/tea/\", num, \"/exp_OGs_proteinnames.check\", sep = \"\")"
   ]
  },
  {
   "cell_type": "code",
   "execution_count": null,
   "metadata": {},
   "outputs": [],
   "source": [
    "exp_OGs_proteinnames.check <- \"check\"\n",
    "write_file(exp_OGs_proteinnames.check, paste(\"checks/tea/\", num, \"/exp_OGs_proteinnames.check\", sep = \"\"))"
   ]
  },
  {
   "cell_type": "code",
   "execution_count": null,
   "metadata": {},
   "outputs": [],
   "source": []
  },
  {
   "cell_type": "code",
   "execution_count": null,
   "metadata": {},
   "outputs": [],
   "source": []
  },
  {
   "cell_type": "code",
   "execution_count": null,
   "metadata": {},
   "outputs": [],
   "source": [
    "#str(all_BLAST_reformatted)\n",
    "#?read_delim\n",
    "library(stringr)\n",
    "conversion <- conversion %>%  mutate(seqid = str_remove_all(seqid, \":\"))\n",
    "str(conversion)"
   ]
  },
  {
   "cell_type": "code",
   "execution_count": null,
   "metadata": {},
   "outputs": [],
   "source": []
  },
  {
   "cell_type": "code",
   "execution_count": null,
   "metadata": {},
   "outputs": [],
   "source": []
  },
  {
   "cell_type": "code",
   "execution_count": null,
   "metadata": {},
   "outputs": [],
   "source": []
  },
  {
   "cell_type": "code",
   "execution_count": null,
   "metadata": {},
   "outputs": [],
   "source": []
  },
  {
   "cell_type": "code",
   "execution_count": null,
   "metadata": {
    "scrolled": true
   },
   "outputs": [],
   "source": [
    "#perhaps continue as dataframe; have to see how easy this is"
   ]
  },
  {
   "cell_type": "code",
   "execution_count": null,
   "metadata": {},
   "outputs": [],
   "source": [
    "\n",
    "#anyways after that snakemake steps:\n",
    "#1)faSomeRecords - extract the fasta sequences of all proteins per interesting OG\n",
    "#2)muscle - multiple sequence alignment\n",
    "#3)gblocks - eliminates poorly aligned positions and divergent regions of DNA or protein alignments\n",
    "#4)fastTree - build trees"
   ]
  },
  {
   "cell_type": "markdown",
   "metadata": {},
   "source": [
    "#I need to play around a bit with the string to column matching\n",
    "#there are several solutions to this - see https://stackoverflow.com/questions/25923392/select-columns-based-on-string-match-dplyrselect"
   ]
  },
  {
   "cell_type": "code",
   "execution_count": null,
   "metadata": {},
   "outputs": [],
   "source": []
  },
  {
   "cell_type": "markdown",
   "metadata": {},
   "source": [
    "### 05.04.2022 - Adding HOGs instead of BLAST hits"
   ]
  },
  {
   "cell_type": "markdown",
   "metadata": {},
   "source": [
    "This is done in the analysis anyways ;D"
   ]
  },
  {
   "cell_type": "code",
   "execution_count": 38,
   "metadata": {},
   "outputs": [
    {
     "data": {
      "text/html": [
       "<style>\n",
       ".list-inline {list-style: none; margin:0; padding: 0}\n",
       ".list-inline>li {display: inline-block}\n",
       ".list-inline>li:not(:last-child)::after {content: \"\\00b7\"; padding: 0 .5ex}\n",
       "</style>\n",
       "<ol class=list-inline><li>'HORVU2Hr1G089670'</li><li>'HORVU2Hr1G031220'</li><li>'HORVU2Hr1G028650'</li><li>'Zm00001d003011'</li></ol>\n"
      ],
      "text/latex": [
       "\\begin{enumerate*}\n",
       "\\item 'HORVU2Hr1G089670'\n",
       "\\item 'HORVU2Hr1G031220'\n",
       "\\item 'HORVU2Hr1G028650'\n",
       "\\item 'Zm00001d003011'\n",
       "\\end{enumerate*}\n"
      ],
      "text/markdown": [
       "1. 'HORVU2Hr1G089670'\n",
       "2. 'HORVU2Hr1G031220'\n",
       "3. 'HORVU2Hr1G028650'\n",
       "4. 'Zm00001d003011'\n",
       "\n",
       "\n"
      ],
      "text/plain": [
       "[1] \"HORVU2Hr1G089670\" \"HORVU2Hr1G031220\" \"HORVU2Hr1G028650\" \"Zm00001d003011\"  "
      ]
     },
     "metadata": {},
     "output_type": "display_data"
    }
   ],
   "source": [
    "exp_og_genes <- unlist(strsplit(ref_ph_orthogroups[ref_ph_orthogroups$HOG == expanded_HOGs$HOG[47],]$genes, \n",
    "                                        split = \", \"))\n",
    "head(exp_og_genes)\n",
    "#exp_og_genes\n",
    "BLAST_hits_exp_og_genes <- dplyr::filter(all_BLAST_reformatted, \n",
    "                                             qseqid_name %in% exp_og_genes | sseqid_name %in% exp_og_genes)\n",
    "sorted_BLAST_hits_exp_og_genes <- arrange(BLAST_hits_exp_og_genes, evalue, -bitscore, -pident)\n",
    "#length(exp_og_genes)"
   ]
  },
  {
   "cell_type": "markdown",
   "metadata": {},
   "source": [
    "The ordering is useful for this new approach also! "
   ]
  },
  {
   "cell_type": "code",
   "execution_count": 39,
   "metadata": {},
   "outputs": [
    {
     "data": {
      "text/html": [
       "'N0.HOG0000186'"
      ],
      "text/latex": [
       "'N0.HOG0000186'"
      ],
      "text/markdown": [
       "'N0.HOG0000186'"
      ],
      "text/plain": [
       "[1] \"N0.HOG0000186\""
      ]
     },
     "metadata": {},
     "output_type": "display_data"
    }
   ],
   "source": [
    "#get the HOG in question\n",
    "ref_ph_orthogroups[ref_ph_orthogroups$HOG == expanded_HOGs$HOG[47],]$HOG"
   ]
  },
  {
   "cell_type": "code",
   "execution_count": 40,
   "metadata": {},
   "outputs": [
    {
     "data": {
      "text/html": [
       "<table class=\"dataframe\">\n",
       "<caption>A tibble: 6 × 14</caption>\n",
       "<thead>\n",
       "\t<tr><th scope=col>qseqid</th><th scope=col>qseqid_name</th><th scope=col>sseqid</th><th scope=col>sseqid_name</th><th scope=col>pident</th><th scope=col>length</th><th scope=col>mismatch</th><th scope=col>gapopen</th><th scope=col>qstart</th><th scope=col>qend</th><th scope=col>sstart</th><th scope=col>send</th><th scope=col>evalue</th><th scope=col>bitscore</th></tr>\n",
       "\t<tr><th scope=col>&lt;chr&gt;</th><th scope=col>&lt;chr&gt;</th><th scope=col>&lt;chr&gt;</th><th scope=col>&lt;chr&gt;</th><th scope=col>&lt;dbl&gt;</th><th scope=col>&lt;dbl&gt;</th><th scope=col>&lt;dbl&gt;</th><th scope=col>&lt;dbl&gt;</th><th scope=col>&lt;dbl&gt;</th><th scope=col>&lt;dbl&gt;</th><th scope=col>&lt;dbl&gt;</th><th scope=col>&lt;dbl&gt;</th><th scope=col>&lt;dbl&gt;</th><th scope=col>&lt;dbl&gt;</th></tr>\n",
       "</thead>\n",
       "<tbody>\n",
       "\t<tr><td>1_215 </td><td>HORVU2Hr1G089670</td><td>1_215 </td><td>HORVU2Hr1G089670</td><td>100.0</td><td>685</td><td>  0</td><td> 0</td><td>26</td><td>710</td><td>26</td><td>710</td><td> 0.00e+00</td><td>1352</td></tr>\n",
       "\t<tr><td>0_4174</td><td>AT2G28350       </td><td>1_215 </td><td>HORVU2Hr1G089670</td><td> 50.3</td><td>718</td><td>257</td><td>22</td><td> 3</td><td>665</td><td>36</td><td>708</td><td>1.99e-200</td><td> 579</td></tr>\n",
       "\t<tr><td>1_215 </td><td>HORVU2Hr1G089670</td><td>0_4174</td><td>AT2G28350       </td><td> 50.1</td><td>722</td><td>252</td><td>25</td><td>36</td><td>708</td><td> 3</td><td>665</td><td>6.72e-200</td><td> 578</td></tr>\n",
       "\t<tr><td>2_4158</td><td>Zm00001d003011  </td><td>2_4158</td><td>Zm00001d003011  </td><td>100.0</td><td>201</td><td>  0</td><td> 0</td><td> 1</td><td>201</td><td> 1</td><td>201</td><td>1.32e-151</td><td> 416</td></tr>\n",
       "\t<tr><td>2_1705</td><td>Zm00001d002929  </td><td>1_215 </td><td>HORVU2Hr1G089670</td><td> 44.9</td><td>370</td><td>166</td><td> 9</td><td>18</td><td>361</td><td>40</td><td>397</td><td> 7.28e-91</td><td> 290</td></tr>\n",
       "\t<tr><td>1_215 </td><td>HORVU2Hr1G089670</td><td>2_1705</td><td>Zm00001d002929  </td><td> 46.0</td><td>367</td><td>166</td><td>10</td><td>40</td><td>397</td><td>18</td><td>361</td><td> 5.84e-87</td><td> 280</td></tr>\n",
       "</tbody>\n",
       "</table>\n"
      ],
      "text/latex": [
       "A tibble: 6 × 14\n",
       "\\begin{tabular}{llllllllllllll}\n",
       " qseqid & qseqid\\_name & sseqid & sseqid\\_name & pident & length & mismatch & gapopen & qstart & qend & sstart & send & evalue & bitscore\\\\\n",
       " <chr> & <chr> & <chr> & <chr> & <dbl> & <dbl> & <dbl> & <dbl> & <dbl> & <dbl> & <dbl> & <dbl> & <dbl> & <dbl>\\\\\n",
       "\\hline\n",
       "\t 1\\_215  & HORVU2Hr1G089670 & 1\\_215  & HORVU2Hr1G089670 & 100.0 & 685 &   0 &  0 & 26 & 710 & 26 & 710 &  0.00e+00 & 1352\\\\\n",
       "\t 0\\_4174 & AT2G28350        & 1\\_215  & HORVU2Hr1G089670 &  50.3 & 718 & 257 & 22 &  3 & 665 & 36 & 708 & 1.99e-200 &  579\\\\\n",
       "\t 1\\_215  & HORVU2Hr1G089670 & 0\\_4174 & AT2G28350        &  50.1 & 722 & 252 & 25 & 36 & 708 &  3 & 665 & 6.72e-200 &  578\\\\\n",
       "\t 2\\_4158 & Zm00001d003011   & 2\\_4158 & Zm00001d003011   & 100.0 & 201 &   0 &  0 &  1 & 201 &  1 & 201 & 1.32e-151 &  416\\\\\n",
       "\t 2\\_1705 & Zm00001d002929   & 1\\_215  & HORVU2Hr1G089670 &  44.9 & 370 & 166 &  9 & 18 & 361 & 40 & 397 &  7.28e-91 &  290\\\\\n",
       "\t 1\\_215  & HORVU2Hr1G089670 & 2\\_1705 & Zm00001d002929   &  46.0 & 367 & 166 & 10 & 40 & 397 & 18 & 361 &  5.84e-87 &  280\\\\\n",
       "\\end{tabular}\n"
      ],
      "text/markdown": [
       "\n",
       "A tibble: 6 × 14\n",
       "\n",
       "| qseqid &lt;chr&gt; | qseqid_name &lt;chr&gt; | sseqid &lt;chr&gt; | sseqid_name &lt;chr&gt; | pident &lt;dbl&gt; | length &lt;dbl&gt; | mismatch &lt;dbl&gt; | gapopen &lt;dbl&gt; | qstart &lt;dbl&gt; | qend &lt;dbl&gt; | sstart &lt;dbl&gt; | send &lt;dbl&gt; | evalue &lt;dbl&gt; | bitscore &lt;dbl&gt; |\n",
       "|---|---|---|---|---|---|---|---|---|---|---|---|---|---|\n",
       "| 1_215  | HORVU2Hr1G089670 | 1_215  | HORVU2Hr1G089670 | 100.0 | 685 |   0 |  0 | 26 | 710 | 26 | 710 |  0.00e+00 | 1352 |\n",
       "| 0_4174 | AT2G28350        | 1_215  | HORVU2Hr1G089670 |  50.3 | 718 | 257 | 22 |  3 | 665 | 36 | 708 | 1.99e-200 |  579 |\n",
       "| 1_215  | HORVU2Hr1G089670 | 0_4174 | AT2G28350        |  50.1 | 722 | 252 | 25 | 36 | 708 |  3 | 665 | 6.72e-200 |  578 |\n",
       "| 2_4158 | Zm00001d003011   | 2_4158 | Zm00001d003011   | 100.0 | 201 |   0 |  0 |  1 | 201 |  1 | 201 | 1.32e-151 |  416 |\n",
       "| 2_1705 | Zm00001d002929   | 1_215  | HORVU2Hr1G089670 |  44.9 | 370 | 166 |  9 | 18 | 361 | 40 | 397 |  7.28e-91 |  290 |\n",
       "| 1_215  | HORVU2Hr1G089670 | 2_1705 | Zm00001d002929   |  46.0 | 367 | 166 | 10 | 40 | 397 | 18 | 361 |  5.84e-87 |  280 |\n",
       "\n"
      ],
      "text/plain": [
       "  qseqid qseqid_name      sseqid sseqid_name      pident length mismatch\n",
       "1 1_215  HORVU2Hr1G089670 1_215  HORVU2Hr1G089670 100.0  685      0     \n",
       "2 0_4174 AT2G28350        1_215  HORVU2Hr1G089670  50.3  718    257     \n",
       "3 1_215  HORVU2Hr1G089670 0_4174 AT2G28350         50.1  722    252     \n",
       "4 2_4158 Zm00001d003011   2_4158 Zm00001d003011   100.0  201      0     \n",
       "5 2_1705 Zm00001d002929   1_215  HORVU2Hr1G089670  44.9  370    166     \n",
       "6 1_215  HORVU2Hr1G089670 2_1705 Zm00001d002929    46.0  367    166     \n",
       "  gapopen qstart qend sstart send evalue    bitscore\n",
       "1  0      26     710  26     710   0.00e+00 1352    \n",
       "2 22       3     665  36     708  1.99e-200  579    \n",
       "3 25      36     708   3     665  6.72e-200  578    \n",
       "4  0       1     201   1     201  1.32e-151  416    \n",
       "5  9      18     361  40     397   7.28e-91  290    \n",
       "6 10      40     397  18     361   5.84e-87  280    "
      ]
     },
     "metadata": {},
     "output_type": "display_data"
    },
    {
     "data": {
      "text/html": [
       "<style>\n",
       ".list-inline {list-style: none; margin:0; padding: 0}\n",
       ".list-inline>li {display: inline-block}\n",
       ".list-inline>li:not(:last-child)::after {content: \"\\00b7\"; padding: 0 .5ex}\n",
       "</style>\n",
       "<ol class=list-inline><li>'qseqid'</li><li>'qseqid_name'</li><li>'sseqid'</li><li>'sseqid_name'</li><li>'pident'</li><li>'length'</li><li>'mismatch'</li><li>'gapopen'</li><li>'qstart'</li><li>'qend'</li><li>'sstart'</li><li>'send'</li><li>'evalue'</li><li>'bitscore'</li></ol>\n"
      ],
      "text/latex": [
       "\\begin{enumerate*}\n",
       "\\item 'qseqid'\n",
       "\\item 'qseqid\\_name'\n",
       "\\item 'sseqid'\n",
       "\\item 'sseqid\\_name'\n",
       "\\item 'pident'\n",
       "\\item 'length'\n",
       "\\item 'mismatch'\n",
       "\\item 'gapopen'\n",
       "\\item 'qstart'\n",
       "\\item 'qend'\n",
       "\\item 'sstart'\n",
       "\\item 'send'\n",
       "\\item 'evalue'\n",
       "\\item 'bitscore'\n",
       "\\end{enumerate*}\n"
      ],
      "text/markdown": [
       "1. 'qseqid'\n",
       "2. 'qseqid_name'\n",
       "3. 'sseqid'\n",
       "4. 'sseqid_name'\n",
       "5. 'pident'\n",
       "6. 'length'\n",
       "7. 'mismatch'\n",
       "8. 'gapopen'\n",
       "9. 'qstart'\n",
       "10. 'qend'\n",
       "11. 'sstart'\n",
       "12. 'send'\n",
       "13. 'evalue'\n",
       "14. 'bitscore'\n",
       "\n",
       "\n"
      ],
      "text/plain": [
       " [1] \"qseqid\"      \"qseqid_name\" \"sseqid\"      \"sseqid_name\" \"pident\"     \n",
       " [6] \"length\"      \"mismatch\"    \"gapopen\"     \"qstart\"      \"qend\"       \n",
       "[11] \"sstart\"      \"send\"        \"evalue\"      \"bitscore\"   "
      ]
     },
     "metadata": {},
     "output_type": "display_data"
    },
    {
     "data": {
      "text/html": [
       "<style>\n",
       ".list-inline {list-style: none; margin:0; padding: 0}\n",
       ".list-inline>li {display: inline-block}\n",
       ".list-inline>li:not(:last-child)::after {content: \"\\00b7\"; padding: 0 .5ex}\n",
       "</style>\n",
       "<ol class=list-inline><li>'HORVU2Hr1G089670'</li><li>'HORVU2Hr1G089670'</li><li>'AT2G28350'</li><li>'Zm00001d003011'</li><li>'HORVU2Hr1G089670'</li><li>'Zm00001d002929'</li></ol>\n"
      ],
      "text/latex": [
       "\\begin{enumerate*}\n",
       "\\item 'HORVU2Hr1G089670'\n",
       "\\item 'HORVU2Hr1G089670'\n",
       "\\item 'AT2G28350'\n",
       "\\item 'Zm00001d003011'\n",
       "\\item 'HORVU2Hr1G089670'\n",
       "\\item 'Zm00001d002929'\n",
       "\\end{enumerate*}\n"
      ],
      "text/markdown": [
       "1. 'HORVU2Hr1G089670'\n",
       "2. 'HORVU2Hr1G089670'\n",
       "3. 'AT2G28350'\n",
       "4. 'Zm00001d003011'\n",
       "5. 'HORVU2Hr1G089670'\n",
       "6. 'Zm00001d002929'\n",
       "\n",
       "\n"
      ],
      "text/plain": [
       "[1] \"HORVU2Hr1G089670\" \"HORVU2Hr1G089670\" \"AT2G28350\"        \"Zm00001d003011\"  \n",
       "[5] \"HORVU2Hr1G089670\" \"Zm00001d002929\"  "
      ]
     },
     "metadata": {},
     "output_type": "display_data"
    }
   ],
   "source": [
    "head(sorted_BLAST_hits_exp_og_genes)\n",
    "names(head(sorted_BLAST_hits_exp_og_genes))\n",
    "head(sorted_BLAST_hits_exp_og_genes$sseqid_name)"
   ]
  },
  {
   "cell_type": "code",
   "execution_count": 41,
   "metadata": {},
   "outputs": [
    {
     "data": {
      "text/html": [
       "<table class=\"dataframe\">\n",
       "<caption>A tibble: 6 × 4</caption>\n",
       "<thead>\n",
       "\t<tr><th scope=col>sseqid_name</th><th scope=col>evalue</th><th scope=col>bitscore</th><th scope=col>pident</th></tr>\n",
       "\t<tr><th scope=col>&lt;chr&gt;</th><th scope=col>&lt;dbl&gt;</th><th scope=col>&lt;dbl&gt;</th><th scope=col>&lt;dbl&gt;</th></tr>\n",
       "</thead>\n",
       "<tbody>\n",
       "\t<tr><td>HORVU2Hr1G089670</td><td> 0.00e+00</td><td>1352</td><td>100.0</td></tr>\n",
       "\t<tr><td>HORVU2Hr1G089670</td><td>1.99e-200</td><td> 579</td><td> 50.3</td></tr>\n",
       "\t<tr><td>AT2G28350       </td><td>6.72e-200</td><td> 578</td><td> 50.1</td></tr>\n",
       "\t<tr><td>Zm00001d003011  </td><td>1.32e-151</td><td> 416</td><td>100.0</td></tr>\n",
       "\t<tr><td>HORVU2Hr1G089670</td><td> 7.28e-91</td><td> 290</td><td> 44.9</td></tr>\n",
       "\t<tr><td>Zm00001d002929  </td><td> 5.84e-87</td><td> 280</td><td> 46.0</td></tr>\n",
       "</tbody>\n",
       "</table>\n"
      ],
      "text/latex": [
       "A tibble: 6 × 4\n",
       "\\begin{tabular}{llll}\n",
       " sseqid\\_name & evalue & bitscore & pident\\\\\n",
       " <chr> & <dbl> & <dbl> & <dbl>\\\\\n",
       "\\hline\n",
       "\t HORVU2Hr1G089670 &  0.00e+00 & 1352 & 100.0\\\\\n",
       "\t HORVU2Hr1G089670 & 1.99e-200 &  579 &  50.3\\\\\n",
       "\t AT2G28350        & 6.72e-200 &  578 &  50.1\\\\\n",
       "\t Zm00001d003011   & 1.32e-151 &  416 & 100.0\\\\\n",
       "\t HORVU2Hr1G089670 &  7.28e-91 &  290 &  44.9\\\\\n",
       "\t Zm00001d002929   &  5.84e-87 &  280 &  46.0\\\\\n",
       "\\end{tabular}\n"
      ],
      "text/markdown": [
       "\n",
       "A tibble: 6 × 4\n",
       "\n",
       "| sseqid_name &lt;chr&gt; | evalue &lt;dbl&gt; | bitscore &lt;dbl&gt; | pident &lt;dbl&gt; |\n",
       "|---|---|---|---|\n",
       "| HORVU2Hr1G089670 |  0.00e+00 | 1352 | 100.0 |\n",
       "| HORVU2Hr1G089670 | 1.99e-200 |  579 |  50.3 |\n",
       "| AT2G28350        | 6.72e-200 |  578 |  50.1 |\n",
       "| Zm00001d003011   | 1.32e-151 |  416 | 100.0 |\n",
       "| HORVU2Hr1G089670 |  7.28e-91 |  290 |  44.9 |\n",
       "| Zm00001d002929   |  5.84e-87 |  280 |  46.0 |\n",
       "\n"
      ],
      "text/plain": [
       "  sseqid_name      evalue    bitscore pident\n",
       "1 HORVU2Hr1G089670  0.00e+00 1352     100.0 \n",
       "2 HORVU2Hr1G089670 1.99e-200  579      50.3 \n",
       "3 AT2G28350        6.72e-200  578      50.1 \n",
       "4 Zm00001d003011   1.32e-151  416     100.0 \n",
       "5 HORVU2Hr1G089670  7.28e-91  290      44.9 \n",
       "6 Zm00001d002929    5.84e-87  280      46.0 "
      ]
     },
     "metadata": {},
     "output_type": "display_data"
    }
   ],
   "source": [
    "#we can shorten this table already\n",
    "short_sorted_BLAST_hits_exp_og_genes <- sorted_BLAST_hits_exp_og_genes %>%\n",
    "  select(sseqid_name, evalue, bitscore, pident)\n",
    "\n",
    "head(short_sorted_BLAST_hits_exp_og_genes)"
   ]
  },
  {
   "cell_type": "code",
   "execution_count": 42,
   "metadata": {},
   "outputs": [
    {
     "data": {
      "text/html": [
       "<table class=\"dataframe\">\n",
       "<caption>A tibble: 6 × 3</caption>\n",
       "<thead>\n",
       "\t<tr><th scope=col>HOG</th><th scope=col>species</th><th scope=col>id</th></tr>\n",
       "\t<tr><th scope=col>&lt;chr&gt;</th><th scope=col>&lt;chr&gt;</th><th scope=col>&lt;chr&gt;</th></tr>\n",
       "</thead>\n",
       "<tbody>\n",
       "\t<tr><td>N0.HOG0000002</td><td>Arabidopsis_thaliana</td><td>AT2G11035</td></tr>\n",
       "\t<tr><td>N0.HOG0000002</td><td>Arabidopsis_thaliana</td><td>AT2G02520</td></tr>\n",
       "\t<tr><td>N0.HOG0000004</td><td>Arabidopsis_thaliana</td><td>AT2G39620</td></tr>\n",
       "\t<tr><td>N0.HOG0000005</td><td>Arabidopsis_thaliana</td><td>AT2G03380</td></tr>\n",
       "\t<tr><td>N0.HOG0000005</td><td>Arabidopsis_thaliana</td><td>AT2G02750</td></tr>\n",
       "\t<tr><td>N0.HOG0000005</td><td>Arabidopsis_thaliana</td><td>AT2G37310</td></tr>\n",
       "</tbody>\n",
       "</table>\n"
      ],
      "text/latex": [
       "A tibble: 6 × 3\n",
       "\\begin{tabular}{lll}\n",
       " HOG & species & id\\\\\n",
       " <chr> & <chr> & <chr>\\\\\n",
       "\\hline\n",
       "\t N0.HOG0000002 & Arabidopsis\\_thaliana & AT2G11035\\\\\n",
       "\t N0.HOG0000002 & Arabidopsis\\_thaliana & AT2G02520\\\\\n",
       "\t N0.HOG0000004 & Arabidopsis\\_thaliana & AT2G39620\\\\\n",
       "\t N0.HOG0000005 & Arabidopsis\\_thaliana & AT2G03380\\\\\n",
       "\t N0.HOG0000005 & Arabidopsis\\_thaliana & AT2G02750\\\\\n",
       "\t N0.HOG0000005 & Arabidopsis\\_thaliana & AT2G37310\\\\\n",
       "\\end{tabular}\n"
      ],
      "text/markdown": [
       "\n",
       "A tibble: 6 × 3\n",
       "\n",
       "| HOG &lt;chr&gt; | species &lt;chr&gt; | id &lt;chr&gt; |\n",
       "|---|---|---|\n",
       "| N0.HOG0000002 | Arabidopsis_thaliana | AT2G11035 |\n",
       "| N0.HOG0000002 | Arabidopsis_thaliana | AT2G02520 |\n",
       "| N0.HOG0000004 | Arabidopsis_thaliana | AT2G39620 |\n",
       "| N0.HOG0000005 | Arabidopsis_thaliana | AT2G03380 |\n",
       "| N0.HOG0000005 | Arabidopsis_thaliana | AT2G02750 |\n",
       "| N0.HOG0000005 | Arabidopsis_thaliana | AT2G37310 |\n",
       "\n"
      ],
      "text/plain": [
       "  HOG           species              id       \n",
       "1 N0.HOG0000002 Arabidopsis_thaliana AT2G11035\n",
       "2 N0.HOG0000002 Arabidopsis_thaliana AT2G02520\n",
       "3 N0.HOG0000004 Arabidopsis_thaliana AT2G39620\n",
       "4 N0.HOG0000005 Arabidopsis_thaliana AT2G03380\n",
       "5 N0.HOG0000005 Arabidopsis_thaliana AT2G02750\n",
       "6 N0.HOG0000005 Arabidopsis_thaliana AT2G37310"
      ]
     },
     "metadata": {},
     "output_type": "display_data"
    }
   ],
   "source": [
    "#transforming ph_orthogroups to long format\n",
    "long_ph_orthogroups <- ph_orthogroups %>%\n",
    "  select(-OG, -`Gene Tree Parent Clade`) %>%\n",
    "  melt(., id.vars = c(\"HOG\")) %>%\n",
    "  rename(species=variable, id=value) %>%\n",
    "  mutate(species = as.character(species)) %>%\n",
    "  separate_rows(id, sep = \", \") %>%\n",
    "  drop_na()\n",
    "\n",
    "head(long_ph_orthogroups)"
   ]
  },
  {
   "cell_type": "code",
   "execution_count": 39,
   "metadata": {
    "collapsed": true,
    "jupyter": {
     "outputs_hidden": true
    },
    "tags": []
   },
   "outputs": [
    {
     "data": {
      "text/html": [
       "<table class=\"dataframe\">\n",
       "<caption>A tibble: 32 × 6</caption>\n",
       "<thead>\n",
       "\t<tr><th scope=col>sseqid_name</th><th scope=col>evalue</th><th scope=col>bitscore</th><th scope=col>pident</th><th scope=col>HOG</th><th scope=col>species</th></tr>\n",
       "\t<tr><th scope=col>&lt;chr&gt;</th><th scope=col>&lt;dbl&gt;</th><th scope=col>&lt;dbl&gt;</th><th scope=col>&lt;dbl&gt;</th><th scope=col>&lt;chr&gt;</th><th scope=col>&lt;chr&gt;</th></tr>\n",
       "</thead>\n",
       "<tbody>\n",
       "\t<tr><td>HORVU.MOREX.r3.UnG0798910</td><td> 0.00e+00</td><td>952.0</td><td>100.0</td><td>N0.HOG0000466</td><td>Hordeum_vulgare        </td></tr>\n",
       "\t<tr><td>HORVU.MOREX.r3.UnG0755570</td><td> 0.00e+00</td><td>952.0</td><td>100.0</td><td>singleton-1  </td><td>NA                     </td></tr>\n",
       "\t<tr><td>HORVU.MOREX.r3.UnG0767200</td><td> 0.00e+00</td><td>952.0</td><td>100.0</td><td>singleton-2  </td><td>NA                     </td></tr>\n",
       "\t<tr><td>HORVU.MOREX.r3.UnG0768700</td><td> 0.00e+00</td><td>952.0</td><td>100.0</td><td>singleton-3  </td><td>NA                     </td></tr>\n",
       "\t<tr><td>HORVU.MOREX.r3.UnG0770630</td><td> 0.00e+00</td><td>952.0</td><td>100.0</td><td>singleton-4  </td><td>NA                     </td></tr>\n",
       "\t<tr><td>HORVU.MOREX.r3.UnG0785150</td><td> 0.00e+00</td><td>952.0</td><td>100.0</td><td>singleton-5  </td><td>NA                     </td></tr>\n",
       "\t<tr><td>HORVU.MOREX.r3.UnG0788400</td><td> 0.00e+00</td><td>952.0</td><td>100.0</td><td>singleton-6  </td><td>NA                     </td></tr>\n",
       "\t<tr><td>HORVU.MOREX.r3.UnG0809500</td><td> 0.00e+00</td><td>952.0</td><td>100.0</td><td>singleton-7  </td><td>NA                     </td></tr>\n",
       "\t<tr><td>HORVU.MOREX.r3.UnG0810670</td><td> 0.00e+00</td><td>952.0</td><td>100.0</td><td>singleton-8  </td><td>NA                     </td></tr>\n",
       "\t<tr><td>HORVU.MOREX.r3.5HG0423650</td><td> 0.00e+00</td><td>949.0</td><td> 99.6</td><td>singleton-9  </td><td>NA                     </td></tr>\n",
       "\t<tr><td>TraesCSU02G234000        </td><td>4.42e-192</td><td>535.0</td><td>100.0</td><td>N0.HOG0030431</td><td>Triticum_aestivum      </td></tr>\n",
       "\t<tr><td>gene-atp1                </td><td>3.87e-191</td><td>543.0</td><td> 61.5</td><td>N0.HOG0000467</td><td>Oryza_sativa_japonica  </td></tr>\n",
       "\t<tr><td>TraesCS2B02G283000       </td><td>7.79e-184</td><td>525.0</td><td> 60.2</td><td>singleton-10 </td><td>NA                     </td></tr>\n",
       "\t<tr><td>TraesCS5B02G388400       </td><td>7.82e-182</td><td>520.0</td><td> 59.6</td><td>singleton-11 </td><td>NA                     </td></tr>\n",
       "\t<tr><td>TraesCS3D02G226800       </td><td>5.30e-181</td><td>518.0</td><td> 58.9</td><td>singleton-12 </td><td>NA                     </td></tr>\n",
       "\t<tr><td>TraesCS2D02G089900       </td><td>3.65e-179</td><td>512.0</td><td> 59.3</td><td>singleton-13 </td><td>NA                     </td></tr>\n",
       "\t<tr><td>TraesCS1D02G193400       </td><td>8.18e-159</td><td>450.0</td><td> 97.5</td><td>N0.HOG0027644</td><td>Triticum_aestivum      </td></tr>\n",
       "\t<tr><td>TraesCS1B02G405100       </td><td>2.27e-137</td><td>392.0</td><td> 93.7</td><td>N0.HOG0030537</td><td>Triticum_aestivum      </td></tr>\n",
       "\t<tr><td>Zm00001eb434980          </td><td>1.43e-118</td><td>346.0</td><td> 97.4</td><td>N0.HOG0040249</td><td>Zea_mays               </td></tr>\n",
       "\t<tr><td>ONIVA02G20940            </td><td>5.83e-107</td><td>346.0</td><td> 85.0</td><td>N0.HOG0002725</td><td>Oryza_nivara           </td></tr>\n",
       "\t<tr><td>Zm00001eb238260          </td><td> 9.28e-37</td><td>137.0</td><td> 50.7</td><td>N0.HOG0022658</td><td>Zea_mays               </td></tr>\n",
       "\t<tr><td>Os01g0711000             </td><td> 7.92e-31</td><td>124.0</td><td> 29.6</td><td>N0.HOG0003452</td><td>Oryza_sativa_japonica  </td></tr>\n",
       "\t<tr><td>Os06g0568200             </td><td> 5.68e-29</td><td>119.0</td><td> 28.4</td><td>N0.HOG0003451</td><td>Oryza_sativa_japonica  </td></tr>\n",
       "\t<tr><td>Misin05G212100           </td><td> 1.85e-23</td><td>104.0</td><td> 24.8</td><td>N0.HOG0004385</td><td>Miscanthus_sinensis    </td></tr>\n",
       "\t<tr><td>BRADI_2g13089v3          </td><td> 3.51e-22</td><td> 99.4</td><td> 26.5</td><td>N0.HOG0001899</td><td>Brachypodium_dystachion</td></tr>\n",
       "\t<tr><td>SETIT_037249mg           </td><td> 6.95e-19</td><td> 85.1</td><td> 78.0</td><td>N0.HOG0002472</td><td>Setaria_italica        </td></tr>\n",
       "\t<tr><td>Os02g0175400             </td><td> 5.91e-17</td><td> 83.6</td><td> 28.0</td><td>N0.HOG0006891</td><td>Oryza_sativa_japonica  </td></tr>\n",
       "\t<tr><td>Os06g0662000             </td><td> 1.83e-16</td><td> 82.0</td><td> 30.1</td><td>N0.HOG0006890</td><td>Oryza_sativa_japonica  </td></tr>\n",
       "\t<tr><td>Misin08G077700           </td><td> 6.93e-16</td><td> 78.2</td><td> 31.2</td><td>singleton-14 </td><td>NA                     </td></tr>\n",
       "\t<tr><td>gene-rps2-2              </td><td> 4.34e-10</td><td> 61.6</td><td> 69.2</td><td>N0.HOG0025138</td><td>Oryza_sativa_japonica  </td></tr>\n",
       "\t<tr><td>SETIT_020854mg           </td><td> 1.59e-09</td><td> 59.3</td><td> 24.6</td><td>N0.HOG0002326</td><td>Setaria_italica        </td></tr>\n",
       "\t<tr><td>SORBI_3003G159101        </td><td> 1.37e-04</td><td> 41.6</td><td> 32.4</td><td>N0.HOG0031486</td><td>Sorghum_bicolor        </td></tr>\n",
       "</tbody>\n",
       "</table>\n"
      ],
      "text/latex": [
       "A tibble: 32 × 6\n",
       "\\begin{tabular}{llllll}\n",
       " sseqid\\_name & evalue & bitscore & pident & HOG & species\\\\\n",
       " <chr> & <dbl> & <dbl> & <dbl> & <chr> & <chr>\\\\\n",
       "\\hline\n",
       "\t HORVU.MOREX.r3.UnG0798910 &  0.00e+00 & 952.0 & 100.0 & N0.HOG0000466 & Hordeum\\_vulgare        \\\\\n",
       "\t HORVU.MOREX.r3.UnG0755570 &  0.00e+00 & 952.0 & 100.0 & singleton-1   & NA                     \\\\\n",
       "\t HORVU.MOREX.r3.UnG0767200 &  0.00e+00 & 952.0 & 100.0 & singleton-2   & NA                     \\\\\n",
       "\t HORVU.MOREX.r3.UnG0768700 &  0.00e+00 & 952.0 & 100.0 & singleton-3   & NA                     \\\\\n",
       "\t HORVU.MOREX.r3.UnG0770630 &  0.00e+00 & 952.0 & 100.0 & singleton-4   & NA                     \\\\\n",
       "\t HORVU.MOREX.r3.UnG0785150 &  0.00e+00 & 952.0 & 100.0 & singleton-5   & NA                     \\\\\n",
       "\t HORVU.MOREX.r3.UnG0788400 &  0.00e+00 & 952.0 & 100.0 & singleton-6   & NA                     \\\\\n",
       "\t HORVU.MOREX.r3.UnG0809500 &  0.00e+00 & 952.0 & 100.0 & singleton-7   & NA                     \\\\\n",
       "\t HORVU.MOREX.r3.UnG0810670 &  0.00e+00 & 952.0 & 100.0 & singleton-8   & NA                     \\\\\n",
       "\t HORVU.MOREX.r3.5HG0423650 &  0.00e+00 & 949.0 &  99.6 & singleton-9   & NA                     \\\\\n",
       "\t TraesCSU02G234000         & 4.42e-192 & 535.0 & 100.0 & N0.HOG0030431 & Triticum\\_aestivum      \\\\\n",
       "\t gene-atp1                 & 3.87e-191 & 543.0 &  61.5 & N0.HOG0000467 & Oryza\\_sativa\\_japonica  \\\\\n",
       "\t TraesCS2B02G283000        & 7.79e-184 & 525.0 &  60.2 & singleton-10  & NA                     \\\\\n",
       "\t TraesCS5B02G388400        & 7.82e-182 & 520.0 &  59.6 & singleton-11  & NA                     \\\\\n",
       "\t TraesCS3D02G226800        & 5.30e-181 & 518.0 &  58.9 & singleton-12  & NA                     \\\\\n",
       "\t TraesCS2D02G089900        & 3.65e-179 & 512.0 &  59.3 & singleton-13  & NA                     \\\\\n",
       "\t TraesCS1D02G193400        & 8.18e-159 & 450.0 &  97.5 & N0.HOG0027644 & Triticum\\_aestivum      \\\\\n",
       "\t TraesCS1B02G405100        & 2.27e-137 & 392.0 &  93.7 & N0.HOG0030537 & Triticum\\_aestivum      \\\\\n",
       "\t Zm00001eb434980           & 1.43e-118 & 346.0 &  97.4 & N0.HOG0040249 & Zea\\_mays               \\\\\n",
       "\t ONIVA02G20940             & 5.83e-107 & 346.0 &  85.0 & N0.HOG0002725 & Oryza\\_nivara           \\\\\n",
       "\t Zm00001eb238260           &  9.28e-37 & 137.0 &  50.7 & N0.HOG0022658 & Zea\\_mays               \\\\\n",
       "\t Os01g0711000              &  7.92e-31 & 124.0 &  29.6 & N0.HOG0003452 & Oryza\\_sativa\\_japonica  \\\\\n",
       "\t Os06g0568200              &  5.68e-29 & 119.0 &  28.4 & N0.HOG0003451 & Oryza\\_sativa\\_japonica  \\\\\n",
       "\t Misin05G212100            &  1.85e-23 & 104.0 &  24.8 & N0.HOG0004385 & Miscanthus\\_sinensis    \\\\\n",
       "\t BRADI\\_2g13089v3           &  3.51e-22 &  99.4 &  26.5 & N0.HOG0001899 & Brachypodium\\_dystachion\\\\\n",
       "\t SETIT\\_037249mg            &  6.95e-19 &  85.1 &  78.0 & N0.HOG0002472 & Setaria\\_italica        \\\\\n",
       "\t Os02g0175400              &  5.91e-17 &  83.6 &  28.0 & N0.HOG0006891 & Oryza\\_sativa\\_japonica  \\\\\n",
       "\t Os06g0662000              &  1.83e-16 &  82.0 &  30.1 & N0.HOG0006890 & Oryza\\_sativa\\_japonica  \\\\\n",
       "\t Misin08G077700            &  6.93e-16 &  78.2 &  31.2 & singleton-14  & NA                     \\\\\n",
       "\t gene-rps2-2               &  4.34e-10 &  61.6 &  69.2 & N0.HOG0025138 & Oryza\\_sativa\\_japonica  \\\\\n",
       "\t SETIT\\_020854mg            &  1.59e-09 &  59.3 &  24.6 & N0.HOG0002326 & Setaria\\_italica        \\\\\n",
       "\t SORBI\\_3003G159101         &  1.37e-04 &  41.6 &  32.4 & N0.HOG0031486 & Sorghum\\_bicolor        \\\\\n",
       "\\end{tabular}\n"
      ],
      "text/markdown": [
       "\n",
       "A tibble: 32 × 6\n",
       "\n",
       "| sseqid_name &lt;chr&gt; | evalue &lt;dbl&gt; | bitscore &lt;dbl&gt; | pident &lt;dbl&gt; | HOG &lt;chr&gt; | species &lt;chr&gt; |\n",
       "|---|---|---|---|---|---|\n",
       "| HORVU.MOREX.r3.UnG0798910 |  0.00e+00 | 952.0 | 100.0 | N0.HOG0000466 | Hordeum_vulgare         |\n",
       "| HORVU.MOREX.r3.UnG0755570 |  0.00e+00 | 952.0 | 100.0 | singleton-1   | NA                      |\n",
       "| HORVU.MOREX.r3.UnG0767200 |  0.00e+00 | 952.0 | 100.0 | singleton-2   | NA                      |\n",
       "| HORVU.MOREX.r3.UnG0768700 |  0.00e+00 | 952.0 | 100.0 | singleton-3   | NA                      |\n",
       "| HORVU.MOREX.r3.UnG0770630 |  0.00e+00 | 952.0 | 100.0 | singleton-4   | NA                      |\n",
       "| HORVU.MOREX.r3.UnG0785150 |  0.00e+00 | 952.0 | 100.0 | singleton-5   | NA                      |\n",
       "| HORVU.MOREX.r3.UnG0788400 |  0.00e+00 | 952.0 | 100.0 | singleton-6   | NA                      |\n",
       "| HORVU.MOREX.r3.UnG0809500 |  0.00e+00 | 952.0 | 100.0 | singleton-7   | NA                      |\n",
       "| HORVU.MOREX.r3.UnG0810670 |  0.00e+00 | 952.0 | 100.0 | singleton-8   | NA                      |\n",
       "| HORVU.MOREX.r3.5HG0423650 |  0.00e+00 | 949.0 |  99.6 | singleton-9   | NA                      |\n",
       "| TraesCSU02G234000         | 4.42e-192 | 535.0 | 100.0 | N0.HOG0030431 | Triticum_aestivum       |\n",
       "| gene-atp1                 | 3.87e-191 | 543.0 |  61.5 | N0.HOG0000467 | Oryza_sativa_japonica   |\n",
       "| TraesCS2B02G283000        | 7.79e-184 | 525.0 |  60.2 | singleton-10  | NA                      |\n",
       "| TraesCS5B02G388400        | 7.82e-182 | 520.0 |  59.6 | singleton-11  | NA                      |\n",
       "| TraesCS3D02G226800        | 5.30e-181 | 518.0 |  58.9 | singleton-12  | NA                      |\n",
       "| TraesCS2D02G089900        | 3.65e-179 | 512.0 |  59.3 | singleton-13  | NA                      |\n",
       "| TraesCS1D02G193400        | 8.18e-159 | 450.0 |  97.5 | N0.HOG0027644 | Triticum_aestivum       |\n",
       "| TraesCS1B02G405100        | 2.27e-137 | 392.0 |  93.7 | N0.HOG0030537 | Triticum_aestivum       |\n",
       "| Zm00001eb434980           | 1.43e-118 | 346.0 |  97.4 | N0.HOG0040249 | Zea_mays                |\n",
       "| ONIVA02G20940             | 5.83e-107 | 346.0 |  85.0 | N0.HOG0002725 | Oryza_nivara            |\n",
       "| Zm00001eb238260           |  9.28e-37 | 137.0 |  50.7 | N0.HOG0022658 | Zea_mays                |\n",
       "| Os01g0711000              |  7.92e-31 | 124.0 |  29.6 | N0.HOG0003452 | Oryza_sativa_japonica   |\n",
       "| Os06g0568200              |  5.68e-29 | 119.0 |  28.4 | N0.HOG0003451 | Oryza_sativa_japonica   |\n",
       "| Misin05G212100            |  1.85e-23 | 104.0 |  24.8 | N0.HOG0004385 | Miscanthus_sinensis     |\n",
       "| BRADI_2g13089v3           |  3.51e-22 |  99.4 |  26.5 | N0.HOG0001899 | Brachypodium_dystachion |\n",
       "| SETIT_037249mg            |  6.95e-19 |  85.1 |  78.0 | N0.HOG0002472 | Setaria_italica         |\n",
       "| Os02g0175400              |  5.91e-17 |  83.6 |  28.0 | N0.HOG0006891 | Oryza_sativa_japonica   |\n",
       "| Os06g0662000              |  1.83e-16 |  82.0 |  30.1 | N0.HOG0006890 | Oryza_sativa_japonica   |\n",
       "| Misin08G077700            |  6.93e-16 |  78.2 |  31.2 | singleton-14  | NA                      |\n",
       "| gene-rps2-2               |  4.34e-10 |  61.6 |  69.2 | N0.HOG0025138 | Oryza_sativa_japonica   |\n",
       "| SETIT_020854mg            |  1.59e-09 |  59.3 |  24.6 | N0.HOG0002326 | Setaria_italica         |\n",
       "| SORBI_3003G159101         |  1.37e-04 |  41.6 |  32.4 | N0.HOG0031486 | Sorghum_bicolor         |\n",
       "\n"
      ],
      "text/plain": [
       "   sseqid_name               evalue    bitscore pident HOG          \n",
       "1  HORVU.MOREX.r3.UnG0798910  0.00e+00 952.0    100.0  N0.HOG0000466\n",
       "2  HORVU.MOREX.r3.UnG0755570  0.00e+00 952.0    100.0  singleton-1  \n",
       "3  HORVU.MOREX.r3.UnG0767200  0.00e+00 952.0    100.0  singleton-2  \n",
       "4  HORVU.MOREX.r3.UnG0768700  0.00e+00 952.0    100.0  singleton-3  \n",
       "5  HORVU.MOREX.r3.UnG0770630  0.00e+00 952.0    100.0  singleton-4  \n",
       "6  HORVU.MOREX.r3.UnG0785150  0.00e+00 952.0    100.0  singleton-5  \n",
       "7  HORVU.MOREX.r3.UnG0788400  0.00e+00 952.0    100.0  singleton-6  \n",
       "8  HORVU.MOREX.r3.UnG0809500  0.00e+00 952.0    100.0  singleton-7  \n",
       "9  HORVU.MOREX.r3.UnG0810670  0.00e+00 952.0    100.0  singleton-8  \n",
       "10 HORVU.MOREX.r3.5HG0423650  0.00e+00 949.0     99.6  singleton-9  \n",
       "11 TraesCSU02G234000         4.42e-192 535.0    100.0  N0.HOG0030431\n",
       "12 gene-atp1                 3.87e-191 543.0     61.5  N0.HOG0000467\n",
       "13 TraesCS2B02G283000        7.79e-184 525.0     60.2  singleton-10 \n",
       "14 TraesCS5B02G388400        7.82e-182 520.0     59.6  singleton-11 \n",
       "15 TraesCS3D02G226800        5.30e-181 518.0     58.9  singleton-12 \n",
       "16 TraesCS2D02G089900        3.65e-179 512.0     59.3  singleton-13 \n",
       "17 TraesCS1D02G193400        8.18e-159 450.0     97.5  N0.HOG0027644\n",
       "18 TraesCS1B02G405100        2.27e-137 392.0     93.7  N0.HOG0030537\n",
       "19 Zm00001eb434980           1.43e-118 346.0     97.4  N0.HOG0040249\n",
       "20 ONIVA02G20940             5.83e-107 346.0     85.0  N0.HOG0002725\n",
       "21 Zm00001eb238260            9.28e-37 137.0     50.7  N0.HOG0022658\n",
       "22 Os01g0711000               7.92e-31 124.0     29.6  N0.HOG0003452\n",
       "23 Os06g0568200               5.68e-29 119.0     28.4  N0.HOG0003451\n",
       "24 Misin05G212100             1.85e-23 104.0     24.8  N0.HOG0004385\n",
       "25 BRADI_2g13089v3            3.51e-22  99.4     26.5  N0.HOG0001899\n",
       "26 SETIT_037249mg             6.95e-19  85.1     78.0  N0.HOG0002472\n",
       "27 Os02g0175400               5.91e-17  83.6     28.0  N0.HOG0006891\n",
       "28 Os06g0662000               1.83e-16  82.0     30.1  N0.HOG0006890\n",
       "29 Misin08G077700             6.93e-16  78.2     31.2  singleton-14 \n",
       "30 gene-rps2-2                4.34e-10  61.6     69.2  N0.HOG0025138\n",
       "31 SETIT_020854mg             1.59e-09  59.3     24.6  N0.HOG0002326\n",
       "32 SORBI_3003G159101          1.37e-04  41.6     32.4  N0.HOG0031486\n",
       "   species                \n",
       "1  Hordeum_vulgare        \n",
       "2  NA                     \n",
       "3  NA                     \n",
       "4  NA                     \n",
       "5  NA                     \n",
       "6  NA                     \n",
       "7  NA                     \n",
       "8  NA                     \n",
       "9  NA                     \n",
       "10 NA                     \n",
       "11 Triticum_aestivum      \n",
       "12 Oryza_sativa_japonica  \n",
       "13 NA                     \n",
       "14 NA                     \n",
       "15 NA                     \n",
       "16 NA                     \n",
       "17 Triticum_aestivum      \n",
       "18 Triticum_aestivum      \n",
       "19 Zea_mays               \n",
       "20 Oryza_nivara           \n",
       "21 Zea_mays               \n",
       "22 Oryza_sativa_japonica  \n",
       "23 Oryza_sativa_japonica  \n",
       "24 Miscanthus_sinensis    \n",
       "25 Brachypodium_dystachion\n",
       "26 Setaria_italica        \n",
       "27 Oryza_sativa_japonica  \n",
       "28 Oryza_sativa_japonica  \n",
       "29 NA                     \n",
       "30 Oryza_sativa_japonica  \n",
       "31 Setaria_italica        \n",
       "32 Sorghum_bicolor        "
      ]
     },
     "metadata": {},
     "output_type": "display_data"
    },
    {
     "data": {
      "text/html": [
       "31"
      ],
      "text/latex": [
       "31"
      ],
      "text/markdown": [
       "31"
      ],
      "text/plain": [
       "[1] 31"
      ]
     },
     "metadata": {},
     "output_type": "display_data"
    },
    {
     "name": "stdout",
     "output_type": "stream",
     "text": [
      "List of 4\n",
      " $ N0.HOG0000466: chr [1:47] \"BRADI_5g23837v3\" \"HORVU.MOREX.r3.6HG0588790\" \"HORVU.MOREX.r3.UnG0798910\" \"HORVU.MOREX.r3.UnG0812290\" ...\n",
      " $ singleton-1  : chr \"HORVU.MOREX.r3.UnG0755570\"\n",
      " $ singleton-2  : chr \"HORVU.MOREX.r3.UnG0767200\"\n",
      " $ singleton-3  : chr \"HORVU.MOREX.r3.UnG0768700\"\n"
     ]
    }
   ],
   "source": [
    "#we can create a merged dataframe from the blast table (HOG specific) and the long format HOG table (general)\n",
    "#difficulty is that in case of singletons we have NA under HOG\n",
    "#easiest way I can think of is a named list\n",
    "self_and_closest_ogs <- left_join(short_sorted_BLAST_hits_exp_og_genes, long_ph_orthogroups, by = c(\"sseqid_name\" = \"id\")) %>%\n",
    "  #and follow this up by reducing it to the HOG column\n",
    "  #pull(HOG) %>%\n",
    "  #remove duplicates\n",
    "  #unique() %>%\n",
    "#  filter(is.na(species)) %>%\n",
    "  group_by(sseqid_name) %>%\n",
    "  arrange(evalue, -bitscore, -pident) %>%\n",
    "  slice(1) %>%\n",
    "  ungroup() %>%\n",
    "  arrange(evalue, -bitscore, -pident) %>%\n",
    "  mutate(HOG = as.character(HOG),\n",
    "         HOG = ifelse(is.na(HOG), paste(\"singleton\", sep = \"-\", cumsum(is.na(HOG))),\n",
    "                      as.character(HOG))) %>%\n",
    "  group_by(HOG) %>%\n",
    "  arrange(evalue, -bitscore, -pident) %>%\n",
    "  slice(1) %>%\n",
    "  ungroup() %>%\n",
    "  arrange(evalue, -bitscore, -pident)\n",
    " \n",
    "\n",
    "#first row will should correspond to self match - the OG itself\n",
    "self_and_closest_ogs\n",
    "\n",
    "\n",
    "#suppose user chose max 5 additional orthogroups in config file\n",
    "add_OGs = 3\n",
    "\n",
    "\n",
    "#need to add check for number of additonal OGs/singletons\n",
    "#e.g. user sets max. add. OGs/singletons to 5 but we only can provide 4\n",
    "#+ have to consider the expanded OG itself, so:\n",
    "available_add_OGs <- nrow(self_and_closest_ogs) - 1 \n",
    "available_add_OGs\n",
    "\n",
    "#in this case set add_OGs to max available\n",
    "if (available_add_OGs < add_OGs) {\n",
    "  add_OGs <- available_add_OGs\n",
    "} \n",
    "\n",
    "\n",
    "#empty list of precomputed size - add OGs plus the expanded OG itself\n",
    "add_OG_analysis_list <- vector(mode = \"list\", length = add_OGs+1)\n",
    "\n",
    "\n",
    "for (i in 1:(add_OGs+1)) {\n",
    "  og_name <- self_and_closest_ogs[i,] %>%\n",
    "    pull(HOG)\n",
    "  \n",
    "  #differnetiate between OG case and a singleton case - different handling:\n",
    "  #for HOG get all associated genes/proteins from large long format table\n",
    "  #for singletons get singelton gene/protein from the table itself\n",
    "  if (!str_detect(og_name, \"singleton\") == TRUE) {\n",
    "\n",
    "    name_curr_close_HOG <- self_and_closest_ogs[i,] %>%\n",
    "                             pull(HOG)\n",
    "\n",
    "    ids_curr_close_HOG <- long_ph_orthogroups %>%\n",
    "                            filter(HOG %in% name_curr_close_HOG) %>%\n",
    "                            pull(id)\n",
    "\n",
    "    add_OG_analysis_list[[i]] <- ids_curr_close_HOG\n",
    "    names(add_OG_analysis_list)[i] <- name_curr_close_HOG\n",
    "\n",
    "  } else {\n",
    "    name_curr_close_singleton <- self_and_closest_ogs[i,] %>%\n",
    "                                   pull(HOG)\n",
    "\n",
    "    id_curr_close_HOG <- self_and_closest_ogs[i,] %>%\n",
    "                           pull(sseqid_name)\n",
    "\n",
    "    add_OG_analysis_list[[i]] <- id_curr_close_HOG\n",
    "    names(add_OG_analysis_list)[i] <- name_curr_close_singleton\n",
    "  }\n",
    "}\n",
    "\n",
    "\n",
    "str(add_OG_analysis_list)"
   ]
  },
  {
   "cell_type": "code",
   "execution_count": 40,
   "metadata": {
    "tags": []
   },
   "outputs": [
    {
     "data": {
      "text/html": [
       "<ol>\n",
       "\t<li><style>\n",
       ".list-inline {list-style: none; margin:0; padding: 0}\n",
       ".list-inline>li {display: inline-block}\n",
       ".list-inline>li:not(:last-child)::after {content: \"\\00b7\"; padding: 0 .5ex}\n",
       "</style>\n",
       "<ol class=list-inline><li>'BRADI_5g23837v3'</li><li>'HORVU.MOREX.r3.6HG0588790'</li><li>'HORVU.MOREX.r3.UnG0798910'</li><li>'HORVU.MOREX.r3.UnG0812290'</li><li>'HORVU.MOREX.r3.UnG0774980'</li><li>'HORVU.MOREX.r3.UnG0774100'</li><li>'HORVU.MOREX.r3.UnG0806030'</li><li>'HORVU.MOREX.r3.UnG0796190'</li><li>'HORVU.MOREX.r3.UnG0807030'</li><li>'HORVU.MOREX.r3.UnG0797120'</li><li>'HORVU.MOREX.r3.UnG0776320'</li><li>'HORVU.MOREX.r3.UnG0785920'</li><li>'HORVU.MOREX.r3.UnG0781940'</li><li>'HORVU.MOREX.r3.UnG0780110'</li><li>'HORVU.MOREX.r3.UnG0795250'</li><li>'HORVU.MOREX.r3.UnG0791940'</li><li>'HORVU.MOREX.r3.UnG0809380'</li><li>'HORVU.MOREX.r3.UnG0809060'</li><li>'HORVU.MOREX.r3.UnG0806380'</li><li>'HORVU.MOREX.r3.UnG0805090'</li><li>'HORVU.MOREX.r3.UnG0811990'</li><li>'HORVU.MOREX.r3.UnG0808100'</li><li>'HORVU.MOREX.r3.UnG0779900'</li><li>'HORVU.MOREX.r3.UnG0764310'</li><li>'HORVU.MOREX.r3.UnG0796930'</li><li>'HORVU.MOREX.r3.UnG0808280'</li><li>'HORVU.MOREX.r3.UnG0754650'</li><li>'HORVU.MOREX.r3.UnG0779140'</li><li>'HORVU.MOREX.r3.UnG0791680'</li><li>'ONIVA03G31530'</li><li>'gene-atpA'</li><li>'SETIT_020882mg'</li><li>'SETIT_040270mg'</li><li>'TraesCS1D02G070400'</li><li>'TraesCS5D02G011000'</li><li>'TraesCS5D02G459400'</li><li>'TraesCS5D02G458900'</li><li>'TraesCSU02G174100'</li><li>'TraesCS7B02G395800'</li><li>'TraesCS1D02G181000'</li><li>'Zm00001eb441570'</li><li>'Zm00001eb435450'</li><li>'Zm00001eb435720'</li><li>'Zm00001eb440810'</li><li>'Zm00001eb437230'</li><li>'Zm00001eb436800'</li><li>'Zm00001eb039180'</li></ol>\n",
       "</li>\n",
       "\t<li><style>\n",
       ".list-inline {list-style: none; margin:0; padding: 0}\n",
       ".list-inline>li {display: inline-block}\n",
       ".list-inline>li:not(:last-child)::after {content: \"\\00b7\"; padding: 0 .5ex}\n",
       "</style>\n",
       "<ol class=list-inline><li>'BRADI_5g23837v3'</li><li>'HORVU.MOREX.r3.6HG0588790'</li><li>'HORVU.MOREX.r3.UnG0798910'</li><li>'HORVU.MOREX.r3.UnG0812290'</li><li>'HORVU.MOREX.r3.UnG0774980'</li><li>'HORVU.MOREX.r3.UnG0774100'</li><li>'HORVU.MOREX.r3.UnG0806030'</li><li>'HORVU.MOREX.r3.UnG0796190'</li><li>'HORVU.MOREX.r3.UnG0807030'</li><li>'HORVU.MOREX.r3.UnG0797120'</li><li>'HORVU.MOREX.r3.UnG0776320'</li><li>'HORVU.MOREX.r3.UnG0785920'</li><li>'HORVU.MOREX.r3.UnG0781940'</li><li>'HORVU.MOREX.r3.UnG0780110'</li><li>'HORVU.MOREX.r3.UnG0795250'</li><li>'HORVU.MOREX.r3.UnG0791940'</li><li>'HORVU.MOREX.r3.UnG0809380'</li><li>'HORVU.MOREX.r3.UnG0809060'</li><li>'HORVU.MOREX.r3.UnG0806380'</li><li>'HORVU.MOREX.r3.UnG0805090'</li><li>'HORVU.MOREX.r3.UnG0811990'</li><li>'HORVU.MOREX.r3.UnG0808100'</li><li>'HORVU.MOREX.r3.UnG0779900'</li><li>'HORVU.MOREX.r3.UnG0764310'</li><li>'HORVU.MOREX.r3.UnG0796930'</li><li>'HORVU.MOREX.r3.UnG0808280'</li><li>'HORVU.MOREX.r3.UnG0754650'</li><li>'HORVU.MOREX.r3.UnG0779140'</li><li>'HORVU.MOREX.r3.UnG0791680'</li><li>'ONIVA03G31530'</li><li>'gene-atpA'</li><li>'SETIT_020882mg'</li><li>'SETIT_040270mg'</li><li>'TraesCS1D02G070400'</li><li>'TraesCS5D02G011000'</li><li>'TraesCS5D02G459400'</li><li>'TraesCS5D02G458900'</li><li>'TraesCSU02G174100'</li><li>'TraesCS7B02G395800'</li><li>'TraesCS1D02G181000'</li><li>'Zm00001eb441570'</li><li>'Zm00001eb435450'</li><li>'Zm00001eb435720'</li><li>'Zm00001eb440810'</li><li>'Zm00001eb437230'</li><li>'Zm00001eb436800'</li><li>'Zm00001eb039180'</li><li>'HORVU.MOREX.r3.UnG0755570'</li></ol>\n",
       "</li>\n",
       "\t<li><style>\n",
       ".list-inline {list-style: none; margin:0; padding: 0}\n",
       ".list-inline>li {display: inline-block}\n",
       ".list-inline>li:not(:last-child)::after {content: \"\\00b7\"; padding: 0 .5ex}\n",
       "</style>\n",
       "<ol class=list-inline><li>'BRADI_5g23837v3'</li><li>'HORVU.MOREX.r3.6HG0588790'</li><li>'HORVU.MOREX.r3.UnG0798910'</li><li>'HORVU.MOREX.r3.UnG0812290'</li><li>'HORVU.MOREX.r3.UnG0774980'</li><li>'HORVU.MOREX.r3.UnG0774100'</li><li>'HORVU.MOREX.r3.UnG0806030'</li><li>'HORVU.MOREX.r3.UnG0796190'</li><li>'HORVU.MOREX.r3.UnG0807030'</li><li>'HORVU.MOREX.r3.UnG0797120'</li><li>'HORVU.MOREX.r3.UnG0776320'</li><li>'HORVU.MOREX.r3.UnG0785920'</li><li>'HORVU.MOREX.r3.UnG0781940'</li><li>'HORVU.MOREX.r3.UnG0780110'</li><li>'HORVU.MOREX.r3.UnG0795250'</li><li>'HORVU.MOREX.r3.UnG0791940'</li><li>'HORVU.MOREX.r3.UnG0809380'</li><li>'HORVU.MOREX.r3.UnG0809060'</li><li>'HORVU.MOREX.r3.UnG0806380'</li><li>'HORVU.MOREX.r3.UnG0805090'</li><li>'HORVU.MOREX.r3.UnG0811990'</li><li>'HORVU.MOREX.r3.UnG0808100'</li><li>'HORVU.MOREX.r3.UnG0779900'</li><li>'HORVU.MOREX.r3.UnG0764310'</li><li>'HORVU.MOREX.r3.UnG0796930'</li><li>'HORVU.MOREX.r3.UnG0808280'</li><li>'HORVU.MOREX.r3.UnG0754650'</li><li>'HORVU.MOREX.r3.UnG0779140'</li><li>'HORVU.MOREX.r3.UnG0791680'</li><li>'ONIVA03G31530'</li><li>'gene-atpA'</li><li>'SETIT_020882mg'</li><li>'SETIT_040270mg'</li><li>'TraesCS1D02G070400'</li><li>'TraesCS5D02G011000'</li><li>'TraesCS5D02G459400'</li><li>'TraesCS5D02G458900'</li><li>'TraesCSU02G174100'</li><li>'TraesCS7B02G395800'</li><li>'TraesCS1D02G181000'</li><li>'Zm00001eb441570'</li><li>'Zm00001eb435450'</li><li>'Zm00001eb435720'</li><li>'Zm00001eb440810'</li><li>'Zm00001eb437230'</li><li>'Zm00001eb436800'</li><li>'Zm00001eb039180'</li><li>'HORVU.MOREX.r3.UnG0755570'</li><li>'HORVU.MOREX.r3.UnG0767200'</li></ol>\n",
       "</li>\n",
       "\t<li><style>\n",
       ".list-inline {list-style: none; margin:0; padding: 0}\n",
       ".list-inline>li {display: inline-block}\n",
       ".list-inline>li:not(:last-child)::after {content: \"\\00b7\"; padding: 0 .5ex}\n",
       "</style>\n",
       "<ol class=list-inline><li>'BRADI_5g23837v3'</li><li>'HORVU.MOREX.r3.6HG0588790'</li><li>'HORVU.MOREX.r3.UnG0798910'</li><li>'HORVU.MOREX.r3.UnG0812290'</li><li>'HORVU.MOREX.r3.UnG0774980'</li><li>'HORVU.MOREX.r3.UnG0774100'</li><li>'HORVU.MOREX.r3.UnG0806030'</li><li>'HORVU.MOREX.r3.UnG0796190'</li><li>'HORVU.MOREX.r3.UnG0807030'</li><li>'HORVU.MOREX.r3.UnG0797120'</li><li>'HORVU.MOREX.r3.UnG0776320'</li><li>'HORVU.MOREX.r3.UnG0785920'</li><li>'HORVU.MOREX.r3.UnG0781940'</li><li>'HORVU.MOREX.r3.UnG0780110'</li><li>'HORVU.MOREX.r3.UnG0795250'</li><li>'HORVU.MOREX.r3.UnG0791940'</li><li>'HORVU.MOREX.r3.UnG0809380'</li><li>'HORVU.MOREX.r3.UnG0809060'</li><li>'HORVU.MOREX.r3.UnG0806380'</li><li>'HORVU.MOREX.r3.UnG0805090'</li><li>'HORVU.MOREX.r3.UnG0811990'</li><li>'HORVU.MOREX.r3.UnG0808100'</li><li>'HORVU.MOREX.r3.UnG0779900'</li><li>'HORVU.MOREX.r3.UnG0764310'</li><li>'HORVU.MOREX.r3.UnG0796930'</li><li>'HORVU.MOREX.r3.UnG0808280'</li><li>'HORVU.MOREX.r3.UnG0754650'</li><li>'HORVU.MOREX.r3.UnG0779140'</li><li>'HORVU.MOREX.r3.UnG0791680'</li><li>'ONIVA03G31530'</li><li>'gene-atpA'</li><li>'SETIT_020882mg'</li><li>'SETIT_040270mg'</li><li>'TraesCS1D02G070400'</li><li>'TraesCS5D02G011000'</li><li>'TraesCS5D02G459400'</li><li>'TraesCS5D02G458900'</li><li>'TraesCSU02G174100'</li><li>'TraesCS7B02G395800'</li><li>'TraesCS1D02G181000'</li><li>'Zm00001eb441570'</li><li>'Zm00001eb435450'</li><li>'Zm00001eb435720'</li><li>'Zm00001eb440810'</li><li>'Zm00001eb437230'</li><li>'Zm00001eb436800'</li><li>'Zm00001eb039180'</li><li>'HORVU.MOREX.r3.UnG0755570'</li><li>'HORVU.MOREX.r3.UnG0767200'</li><li>'HORVU.MOREX.r3.UnG0768700'</li></ol>\n",
       "</li>\n",
       "</ol>\n"
      ],
      "text/latex": [
       "\\begin{enumerate}\n",
       "\\item \\begin{enumerate*}\n",
       "\\item 'BRADI\\_5g23837v3'\n",
       "\\item 'HORVU.MOREX.r3.6HG0588790'\n",
       "\\item 'HORVU.MOREX.r3.UnG0798910'\n",
       "\\item 'HORVU.MOREX.r3.UnG0812290'\n",
       "\\item 'HORVU.MOREX.r3.UnG0774980'\n",
       "\\item 'HORVU.MOREX.r3.UnG0774100'\n",
       "\\item 'HORVU.MOREX.r3.UnG0806030'\n",
       "\\item 'HORVU.MOREX.r3.UnG0796190'\n",
       "\\item 'HORVU.MOREX.r3.UnG0807030'\n",
       "\\item 'HORVU.MOREX.r3.UnG0797120'\n",
       "\\item 'HORVU.MOREX.r3.UnG0776320'\n",
       "\\item 'HORVU.MOREX.r3.UnG0785920'\n",
       "\\item 'HORVU.MOREX.r3.UnG0781940'\n",
       "\\item 'HORVU.MOREX.r3.UnG0780110'\n",
       "\\item 'HORVU.MOREX.r3.UnG0795250'\n",
       "\\item 'HORVU.MOREX.r3.UnG0791940'\n",
       "\\item 'HORVU.MOREX.r3.UnG0809380'\n",
       "\\item 'HORVU.MOREX.r3.UnG0809060'\n",
       "\\item 'HORVU.MOREX.r3.UnG0806380'\n",
       "\\item 'HORVU.MOREX.r3.UnG0805090'\n",
       "\\item 'HORVU.MOREX.r3.UnG0811990'\n",
       "\\item 'HORVU.MOREX.r3.UnG0808100'\n",
       "\\item 'HORVU.MOREX.r3.UnG0779900'\n",
       "\\item 'HORVU.MOREX.r3.UnG0764310'\n",
       "\\item 'HORVU.MOREX.r3.UnG0796930'\n",
       "\\item 'HORVU.MOREX.r3.UnG0808280'\n",
       "\\item 'HORVU.MOREX.r3.UnG0754650'\n",
       "\\item 'HORVU.MOREX.r3.UnG0779140'\n",
       "\\item 'HORVU.MOREX.r3.UnG0791680'\n",
       "\\item 'ONIVA03G31530'\n",
       "\\item 'gene-atpA'\n",
       "\\item 'SETIT\\_020882mg'\n",
       "\\item 'SETIT\\_040270mg'\n",
       "\\item 'TraesCS1D02G070400'\n",
       "\\item 'TraesCS5D02G011000'\n",
       "\\item 'TraesCS5D02G459400'\n",
       "\\item 'TraesCS5D02G458900'\n",
       "\\item 'TraesCSU02G174100'\n",
       "\\item 'TraesCS7B02G395800'\n",
       "\\item 'TraesCS1D02G181000'\n",
       "\\item 'Zm00001eb441570'\n",
       "\\item 'Zm00001eb435450'\n",
       "\\item 'Zm00001eb435720'\n",
       "\\item 'Zm00001eb440810'\n",
       "\\item 'Zm00001eb437230'\n",
       "\\item 'Zm00001eb436800'\n",
       "\\item 'Zm00001eb039180'\n",
       "\\end{enumerate*}\n",
       "\n",
       "\\item \\begin{enumerate*}\n",
       "\\item 'BRADI\\_5g23837v3'\n",
       "\\item 'HORVU.MOREX.r3.6HG0588790'\n",
       "\\item 'HORVU.MOREX.r3.UnG0798910'\n",
       "\\item 'HORVU.MOREX.r3.UnG0812290'\n",
       "\\item 'HORVU.MOREX.r3.UnG0774980'\n",
       "\\item 'HORVU.MOREX.r3.UnG0774100'\n",
       "\\item 'HORVU.MOREX.r3.UnG0806030'\n",
       "\\item 'HORVU.MOREX.r3.UnG0796190'\n",
       "\\item 'HORVU.MOREX.r3.UnG0807030'\n",
       "\\item 'HORVU.MOREX.r3.UnG0797120'\n",
       "\\item 'HORVU.MOREX.r3.UnG0776320'\n",
       "\\item 'HORVU.MOREX.r3.UnG0785920'\n",
       "\\item 'HORVU.MOREX.r3.UnG0781940'\n",
       "\\item 'HORVU.MOREX.r3.UnG0780110'\n",
       "\\item 'HORVU.MOREX.r3.UnG0795250'\n",
       "\\item 'HORVU.MOREX.r3.UnG0791940'\n",
       "\\item 'HORVU.MOREX.r3.UnG0809380'\n",
       "\\item 'HORVU.MOREX.r3.UnG0809060'\n",
       "\\item 'HORVU.MOREX.r3.UnG0806380'\n",
       "\\item 'HORVU.MOREX.r3.UnG0805090'\n",
       "\\item 'HORVU.MOREX.r3.UnG0811990'\n",
       "\\item 'HORVU.MOREX.r3.UnG0808100'\n",
       "\\item 'HORVU.MOREX.r3.UnG0779900'\n",
       "\\item 'HORVU.MOREX.r3.UnG0764310'\n",
       "\\item 'HORVU.MOREX.r3.UnG0796930'\n",
       "\\item 'HORVU.MOREX.r3.UnG0808280'\n",
       "\\item 'HORVU.MOREX.r3.UnG0754650'\n",
       "\\item 'HORVU.MOREX.r3.UnG0779140'\n",
       "\\item 'HORVU.MOREX.r3.UnG0791680'\n",
       "\\item 'ONIVA03G31530'\n",
       "\\item 'gene-atpA'\n",
       "\\item 'SETIT\\_020882mg'\n",
       "\\item 'SETIT\\_040270mg'\n",
       "\\item 'TraesCS1D02G070400'\n",
       "\\item 'TraesCS5D02G011000'\n",
       "\\item 'TraesCS5D02G459400'\n",
       "\\item 'TraesCS5D02G458900'\n",
       "\\item 'TraesCSU02G174100'\n",
       "\\item 'TraesCS7B02G395800'\n",
       "\\item 'TraesCS1D02G181000'\n",
       "\\item 'Zm00001eb441570'\n",
       "\\item 'Zm00001eb435450'\n",
       "\\item 'Zm00001eb435720'\n",
       "\\item 'Zm00001eb440810'\n",
       "\\item 'Zm00001eb437230'\n",
       "\\item 'Zm00001eb436800'\n",
       "\\item 'Zm00001eb039180'\n",
       "\\item 'HORVU.MOREX.r3.UnG0755570'\n",
       "\\end{enumerate*}\n",
       "\n",
       "\\item \\begin{enumerate*}\n",
       "\\item 'BRADI\\_5g23837v3'\n",
       "\\item 'HORVU.MOREX.r3.6HG0588790'\n",
       "\\item 'HORVU.MOREX.r3.UnG0798910'\n",
       "\\item 'HORVU.MOREX.r3.UnG0812290'\n",
       "\\item 'HORVU.MOREX.r3.UnG0774980'\n",
       "\\item 'HORVU.MOREX.r3.UnG0774100'\n",
       "\\item 'HORVU.MOREX.r3.UnG0806030'\n",
       "\\item 'HORVU.MOREX.r3.UnG0796190'\n",
       "\\item 'HORVU.MOREX.r3.UnG0807030'\n",
       "\\item 'HORVU.MOREX.r3.UnG0797120'\n",
       "\\item 'HORVU.MOREX.r3.UnG0776320'\n",
       "\\item 'HORVU.MOREX.r3.UnG0785920'\n",
       "\\item 'HORVU.MOREX.r3.UnG0781940'\n",
       "\\item 'HORVU.MOREX.r3.UnG0780110'\n",
       "\\item 'HORVU.MOREX.r3.UnG0795250'\n",
       "\\item 'HORVU.MOREX.r3.UnG0791940'\n",
       "\\item 'HORVU.MOREX.r3.UnG0809380'\n",
       "\\item 'HORVU.MOREX.r3.UnG0809060'\n",
       "\\item 'HORVU.MOREX.r3.UnG0806380'\n",
       "\\item 'HORVU.MOREX.r3.UnG0805090'\n",
       "\\item 'HORVU.MOREX.r3.UnG0811990'\n",
       "\\item 'HORVU.MOREX.r3.UnG0808100'\n",
       "\\item 'HORVU.MOREX.r3.UnG0779900'\n",
       "\\item 'HORVU.MOREX.r3.UnG0764310'\n",
       "\\item 'HORVU.MOREX.r3.UnG0796930'\n",
       "\\item 'HORVU.MOREX.r3.UnG0808280'\n",
       "\\item 'HORVU.MOREX.r3.UnG0754650'\n",
       "\\item 'HORVU.MOREX.r3.UnG0779140'\n",
       "\\item 'HORVU.MOREX.r3.UnG0791680'\n",
       "\\item 'ONIVA03G31530'\n",
       "\\item 'gene-atpA'\n",
       "\\item 'SETIT\\_020882mg'\n",
       "\\item 'SETIT\\_040270mg'\n",
       "\\item 'TraesCS1D02G070400'\n",
       "\\item 'TraesCS5D02G011000'\n",
       "\\item 'TraesCS5D02G459400'\n",
       "\\item 'TraesCS5D02G458900'\n",
       "\\item 'TraesCSU02G174100'\n",
       "\\item 'TraesCS7B02G395800'\n",
       "\\item 'TraesCS1D02G181000'\n",
       "\\item 'Zm00001eb441570'\n",
       "\\item 'Zm00001eb435450'\n",
       "\\item 'Zm00001eb435720'\n",
       "\\item 'Zm00001eb440810'\n",
       "\\item 'Zm00001eb437230'\n",
       "\\item 'Zm00001eb436800'\n",
       "\\item 'Zm00001eb039180'\n",
       "\\item 'HORVU.MOREX.r3.UnG0755570'\n",
       "\\item 'HORVU.MOREX.r3.UnG0767200'\n",
       "\\end{enumerate*}\n",
       "\n",
       "\\item \\begin{enumerate*}\n",
       "\\item 'BRADI\\_5g23837v3'\n",
       "\\item 'HORVU.MOREX.r3.6HG0588790'\n",
       "\\item 'HORVU.MOREX.r3.UnG0798910'\n",
       "\\item 'HORVU.MOREX.r3.UnG0812290'\n",
       "\\item 'HORVU.MOREX.r3.UnG0774980'\n",
       "\\item 'HORVU.MOREX.r3.UnG0774100'\n",
       "\\item 'HORVU.MOREX.r3.UnG0806030'\n",
       "\\item 'HORVU.MOREX.r3.UnG0796190'\n",
       "\\item 'HORVU.MOREX.r3.UnG0807030'\n",
       "\\item 'HORVU.MOREX.r3.UnG0797120'\n",
       "\\item 'HORVU.MOREX.r3.UnG0776320'\n",
       "\\item 'HORVU.MOREX.r3.UnG0785920'\n",
       "\\item 'HORVU.MOREX.r3.UnG0781940'\n",
       "\\item 'HORVU.MOREX.r3.UnG0780110'\n",
       "\\item 'HORVU.MOREX.r3.UnG0795250'\n",
       "\\item 'HORVU.MOREX.r3.UnG0791940'\n",
       "\\item 'HORVU.MOREX.r3.UnG0809380'\n",
       "\\item 'HORVU.MOREX.r3.UnG0809060'\n",
       "\\item 'HORVU.MOREX.r3.UnG0806380'\n",
       "\\item 'HORVU.MOREX.r3.UnG0805090'\n",
       "\\item 'HORVU.MOREX.r3.UnG0811990'\n",
       "\\item 'HORVU.MOREX.r3.UnG0808100'\n",
       "\\item 'HORVU.MOREX.r3.UnG0779900'\n",
       "\\item 'HORVU.MOREX.r3.UnG0764310'\n",
       "\\item 'HORVU.MOREX.r3.UnG0796930'\n",
       "\\item 'HORVU.MOREX.r3.UnG0808280'\n",
       "\\item 'HORVU.MOREX.r3.UnG0754650'\n",
       "\\item 'HORVU.MOREX.r3.UnG0779140'\n",
       "\\item 'HORVU.MOREX.r3.UnG0791680'\n",
       "\\item 'ONIVA03G31530'\n",
       "\\item 'gene-atpA'\n",
       "\\item 'SETIT\\_020882mg'\n",
       "\\item 'SETIT\\_040270mg'\n",
       "\\item 'TraesCS1D02G070400'\n",
       "\\item 'TraesCS5D02G011000'\n",
       "\\item 'TraesCS5D02G459400'\n",
       "\\item 'TraesCS5D02G458900'\n",
       "\\item 'TraesCSU02G174100'\n",
       "\\item 'TraesCS7B02G395800'\n",
       "\\item 'TraesCS1D02G181000'\n",
       "\\item 'Zm00001eb441570'\n",
       "\\item 'Zm00001eb435450'\n",
       "\\item 'Zm00001eb435720'\n",
       "\\item 'Zm00001eb440810'\n",
       "\\item 'Zm00001eb437230'\n",
       "\\item 'Zm00001eb436800'\n",
       "\\item 'Zm00001eb039180'\n",
       "\\item 'HORVU.MOREX.r3.UnG0755570'\n",
       "\\item 'HORVU.MOREX.r3.UnG0767200'\n",
       "\\item 'HORVU.MOREX.r3.UnG0768700'\n",
       "\\end{enumerate*}\n",
       "\n",
       "\\end{enumerate}\n"
      ],
      "text/markdown": [
       "1. 1. 'BRADI_5g23837v3'\n",
       "2. 'HORVU.MOREX.r3.6HG0588790'\n",
       "3. 'HORVU.MOREX.r3.UnG0798910'\n",
       "4. 'HORVU.MOREX.r3.UnG0812290'\n",
       "5. 'HORVU.MOREX.r3.UnG0774980'\n",
       "6. 'HORVU.MOREX.r3.UnG0774100'\n",
       "7. 'HORVU.MOREX.r3.UnG0806030'\n",
       "8. 'HORVU.MOREX.r3.UnG0796190'\n",
       "9. 'HORVU.MOREX.r3.UnG0807030'\n",
       "10. 'HORVU.MOREX.r3.UnG0797120'\n",
       "11. 'HORVU.MOREX.r3.UnG0776320'\n",
       "12. 'HORVU.MOREX.r3.UnG0785920'\n",
       "13. 'HORVU.MOREX.r3.UnG0781940'\n",
       "14. 'HORVU.MOREX.r3.UnG0780110'\n",
       "15. 'HORVU.MOREX.r3.UnG0795250'\n",
       "16. 'HORVU.MOREX.r3.UnG0791940'\n",
       "17. 'HORVU.MOREX.r3.UnG0809380'\n",
       "18. 'HORVU.MOREX.r3.UnG0809060'\n",
       "19. 'HORVU.MOREX.r3.UnG0806380'\n",
       "20. 'HORVU.MOREX.r3.UnG0805090'\n",
       "21. 'HORVU.MOREX.r3.UnG0811990'\n",
       "22. 'HORVU.MOREX.r3.UnG0808100'\n",
       "23. 'HORVU.MOREX.r3.UnG0779900'\n",
       "24. 'HORVU.MOREX.r3.UnG0764310'\n",
       "25. 'HORVU.MOREX.r3.UnG0796930'\n",
       "26. 'HORVU.MOREX.r3.UnG0808280'\n",
       "27. 'HORVU.MOREX.r3.UnG0754650'\n",
       "28. 'HORVU.MOREX.r3.UnG0779140'\n",
       "29. 'HORVU.MOREX.r3.UnG0791680'\n",
       "30. 'ONIVA03G31530'\n",
       "31. 'gene-atpA'\n",
       "32. 'SETIT_020882mg'\n",
       "33. 'SETIT_040270mg'\n",
       "34. 'TraesCS1D02G070400'\n",
       "35. 'TraesCS5D02G011000'\n",
       "36. 'TraesCS5D02G459400'\n",
       "37. 'TraesCS5D02G458900'\n",
       "38. 'TraesCSU02G174100'\n",
       "39. 'TraesCS7B02G395800'\n",
       "40. 'TraesCS1D02G181000'\n",
       "41. 'Zm00001eb441570'\n",
       "42. 'Zm00001eb435450'\n",
       "43. 'Zm00001eb435720'\n",
       "44. 'Zm00001eb440810'\n",
       "45. 'Zm00001eb437230'\n",
       "46. 'Zm00001eb436800'\n",
       "47. 'Zm00001eb039180'\n",
       "\n",
       "\n",
       "\n",
       "2. 1. 'BRADI_5g23837v3'\n",
       "2. 'HORVU.MOREX.r3.6HG0588790'\n",
       "3. 'HORVU.MOREX.r3.UnG0798910'\n",
       "4. 'HORVU.MOREX.r3.UnG0812290'\n",
       "5. 'HORVU.MOREX.r3.UnG0774980'\n",
       "6. 'HORVU.MOREX.r3.UnG0774100'\n",
       "7. 'HORVU.MOREX.r3.UnG0806030'\n",
       "8. 'HORVU.MOREX.r3.UnG0796190'\n",
       "9. 'HORVU.MOREX.r3.UnG0807030'\n",
       "10. 'HORVU.MOREX.r3.UnG0797120'\n",
       "11. 'HORVU.MOREX.r3.UnG0776320'\n",
       "12. 'HORVU.MOREX.r3.UnG0785920'\n",
       "13. 'HORVU.MOREX.r3.UnG0781940'\n",
       "14. 'HORVU.MOREX.r3.UnG0780110'\n",
       "15. 'HORVU.MOREX.r3.UnG0795250'\n",
       "16. 'HORVU.MOREX.r3.UnG0791940'\n",
       "17. 'HORVU.MOREX.r3.UnG0809380'\n",
       "18. 'HORVU.MOREX.r3.UnG0809060'\n",
       "19. 'HORVU.MOREX.r3.UnG0806380'\n",
       "20. 'HORVU.MOREX.r3.UnG0805090'\n",
       "21. 'HORVU.MOREX.r3.UnG0811990'\n",
       "22. 'HORVU.MOREX.r3.UnG0808100'\n",
       "23. 'HORVU.MOREX.r3.UnG0779900'\n",
       "24. 'HORVU.MOREX.r3.UnG0764310'\n",
       "25. 'HORVU.MOREX.r3.UnG0796930'\n",
       "26. 'HORVU.MOREX.r3.UnG0808280'\n",
       "27. 'HORVU.MOREX.r3.UnG0754650'\n",
       "28. 'HORVU.MOREX.r3.UnG0779140'\n",
       "29. 'HORVU.MOREX.r3.UnG0791680'\n",
       "30. 'ONIVA03G31530'\n",
       "31. 'gene-atpA'\n",
       "32. 'SETIT_020882mg'\n",
       "33. 'SETIT_040270mg'\n",
       "34. 'TraesCS1D02G070400'\n",
       "35. 'TraesCS5D02G011000'\n",
       "36. 'TraesCS5D02G459400'\n",
       "37. 'TraesCS5D02G458900'\n",
       "38. 'TraesCSU02G174100'\n",
       "39. 'TraesCS7B02G395800'\n",
       "40. 'TraesCS1D02G181000'\n",
       "41. 'Zm00001eb441570'\n",
       "42. 'Zm00001eb435450'\n",
       "43. 'Zm00001eb435720'\n",
       "44. 'Zm00001eb440810'\n",
       "45. 'Zm00001eb437230'\n",
       "46. 'Zm00001eb436800'\n",
       "47. 'Zm00001eb039180'\n",
       "48. 'HORVU.MOREX.r3.UnG0755570'\n",
       "\n",
       "\n",
       "\n",
       "3. 1. 'BRADI_5g23837v3'\n",
       "2. 'HORVU.MOREX.r3.6HG0588790'\n",
       "3. 'HORVU.MOREX.r3.UnG0798910'\n",
       "4. 'HORVU.MOREX.r3.UnG0812290'\n",
       "5. 'HORVU.MOREX.r3.UnG0774980'\n",
       "6. 'HORVU.MOREX.r3.UnG0774100'\n",
       "7. 'HORVU.MOREX.r3.UnG0806030'\n",
       "8. 'HORVU.MOREX.r3.UnG0796190'\n",
       "9. 'HORVU.MOREX.r3.UnG0807030'\n",
       "10. 'HORVU.MOREX.r3.UnG0797120'\n",
       "11. 'HORVU.MOREX.r3.UnG0776320'\n",
       "12. 'HORVU.MOREX.r3.UnG0785920'\n",
       "13. 'HORVU.MOREX.r3.UnG0781940'\n",
       "14. 'HORVU.MOREX.r3.UnG0780110'\n",
       "15. 'HORVU.MOREX.r3.UnG0795250'\n",
       "16. 'HORVU.MOREX.r3.UnG0791940'\n",
       "17. 'HORVU.MOREX.r3.UnG0809380'\n",
       "18. 'HORVU.MOREX.r3.UnG0809060'\n",
       "19. 'HORVU.MOREX.r3.UnG0806380'\n",
       "20. 'HORVU.MOREX.r3.UnG0805090'\n",
       "21. 'HORVU.MOREX.r3.UnG0811990'\n",
       "22. 'HORVU.MOREX.r3.UnG0808100'\n",
       "23. 'HORVU.MOREX.r3.UnG0779900'\n",
       "24. 'HORVU.MOREX.r3.UnG0764310'\n",
       "25. 'HORVU.MOREX.r3.UnG0796930'\n",
       "26. 'HORVU.MOREX.r3.UnG0808280'\n",
       "27. 'HORVU.MOREX.r3.UnG0754650'\n",
       "28. 'HORVU.MOREX.r3.UnG0779140'\n",
       "29. 'HORVU.MOREX.r3.UnG0791680'\n",
       "30. 'ONIVA03G31530'\n",
       "31. 'gene-atpA'\n",
       "32. 'SETIT_020882mg'\n",
       "33. 'SETIT_040270mg'\n",
       "34. 'TraesCS1D02G070400'\n",
       "35. 'TraesCS5D02G011000'\n",
       "36. 'TraesCS5D02G459400'\n",
       "37. 'TraesCS5D02G458900'\n",
       "38. 'TraesCSU02G174100'\n",
       "39. 'TraesCS7B02G395800'\n",
       "40. 'TraesCS1D02G181000'\n",
       "41. 'Zm00001eb441570'\n",
       "42. 'Zm00001eb435450'\n",
       "43. 'Zm00001eb435720'\n",
       "44. 'Zm00001eb440810'\n",
       "45. 'Zm00001eb437230'\n",
       "46. 'Zm00001eb436800'\n",
       "47. 'Zm00001eb039180'\n",
       "48. 'HORVU.MOREX.r3.UnG0755570'\n",
       "49. 'HORVU.MOREX.r3.UnG0767200'\n",
       "\n",
       "\n",
       "\n",
       "4. 1. 'BRADI_5g23837v3'\n",
       "2. 'HORVU.MOREX.r3.6HG0588790'\n",
       "3. 'HORVU.MOREX.r3.UnG0798910'\n",
       "4. 'HORVU.MOREX.r3.UnG0812290'\n",
       "5. 'HORVU.MOREX.r3.UnG0774980'\n",
       "6. 'HORVU.MOREX.r3.UnG0774100'\n",
       "7. 'HORVU.MOREX.r3.UnG0806030'\n",
       "8. 'HORVU.MOREX.r3.UnG0796190'\n",
       "9. 'HORVU.MOREX.r3.UnG0807030'\n",
       "10. 'HORVU.MOREX.r3.UnG0797120'\n",
       "11. 'HORVU.MOREX.r3.UnG0776320'\n",
       "12. 'HORVU.MOREX.r3.UnG0785920'\n",
       "13. 'HORVU.MOREX.r3.UnG0781940'\n",
       "14. 'HORVU.MOREX.r3.UnG0780110'\n",
       "15. 'HORVU.MOREX.r3.UnG0795250'\n",
       "16. 'HORVU.MOREX.r3.UnG0791940'\n",
       "17. 'HORVU.MOREX.r3.UnG0809380'\n",
       "18. 'HORVU.MOREX.r3.UnG0809060'\n",
       "19. 'HORVU.MOREX.r3.UnG0806380'\n",
       "20. 'HORVU.MOREX.r3.UnG0805090'\n",
       "21. 'HORVU.MOREX.r3.UnG0811990'\n",
       "22. 'HORVU.MOREX.r3.UnG0808100'\n",
       "23. 'HORVU.MOREX.r3.UnG0779900'\n",
       "24. 'HORVU.MOREX.r3.UnG0764310'\n",
       "25. 'HORVU.MOREX.r3.UnG0796930'\n",
       "26. 'HORVU.MOREX.r3.UnG0808280'\n",
       "27. 'HORVU.MOREX.r3.UnG0754650'\n",
       "28. 'HORVU.MOREX.r3.UnG0779140'\n",
       "29. 'HORVU.MOREX.r3.UnG0791680'\n",
       "30. 'ONIVA03G31530'\n",
       "31. 'gene-atpA'\n",
       "32. 'SETIT_020882mg'\n",
       "33. 'SETIT_040270mg'\n",
       "34. 'TraesCS1D02G070400'\n",
       "35. 'TraesCS5D02G011000'\n",
       "36. 'TraesCS5D02G459400'\n",
       "37. 'TraesCS5D02G458900'\n",
       "38. 'TraesCSU02G174100'\n",
       "39. 'TraesCS7B02G395800'\n",
       "40. 'TraesCS1D02G181000'\n",
       "41. 'Zm00001eb441570'\n",
       "42. 'Zm00001eb435450'\n",
       "43. 'Zm00001eb435720'\n",
       "44. 'Zm00001eb440810'\n",
       "45. 'Zm00001eb437230'\n",
       "46. 'Zm00001eb436800'\n",
       "47. 'Zm00001eb039180'\n",
       "48. 'HORVU.MOREX.r3.UnG0755570'\n",
       "49. 'HORVU.MOREX.r3.UnG0767200'\n",
       "50. 'HORVU.MOREX.r3.UnG0768700'\n",
       "\n",
       "\n",
       "\n",
       "\n",
       "\n"
      ],
      "text/plain": [
       "[[1]]\n",
       " [1] \"BRADI_5g23837v3\"           \"HORVU.MOREX.r3.6HG0588790\"\n",
       " [3] \"HORVU.MOREX.r3.UnG0798910\" \"HORVU.MOREX.r3.UnG0812290\"\n",
       " [5] \"HORVU.MOREX.r3.UnG0774980\" \"HORVU.MOREX.r3.UnG0774100\"\n",
       " [7] \"HORVU.MOREX.r3.UnG0806030\" \"HORVU.MOREX.r3.UnG0796190\"\n",
       " [9] \"HORVU.MOREX.r3.UnG0807030\" \"HORVU.MOREX.r3.UnG0797120\"\n",
       "[11] \"HORVU.MOREX.r3.UnG0776320\" \"HORVU.MOREX.r3.UnG0785920\"\n",
       "[13] \"HORVU.MOREX.r3.UnG0781940\" \"HORVU.MOREX.r3.UnG0780110\"\n",
       "[15] \"HORVU.MOREX.r3.UnG0795250\" \"HORVU.MOREX.r3.UnG0791940\"\n",
       "[17] \"HORVU.MOREX.r3.UnG0809380\" \"HORVU.MOREX.r3.UnG0809060\"\n",
       "[19] \"HORVU.MOREX.r3.UnG0806380\" \"HORVU.MOREX.r3.UnG0805090\"\n",
       "[21] \"HORVU.MOREX.r3.UnG0811990\" \"HORVU.MOREX.r3.UnG0808100\"\n",
       "[23] \"HORVU.MOREX.r3.UnG0779900\" \"HORVU.MOREX.r3.UnG0764310\"\n",
       "[25] \"HORVU.MOREX.r3.UnG0796930\" \"HORVU.MOREX.r3.UnG0808280\"\n",
       "[27] \"HORVU.MOREX.r3.UnG0754650\" \"HORVU.MOREX.r3.UnG0779140\"\n",
       "[29] \"HORVU.MOREX.r3.UnG0791680\" \"ONIVA03G31530\"            \n",
       "[31] \"gene-atpA\"                 \"SETIT_020882mg\"           \n",
       "[33] \"SETIT_040270mg\"            \"TraesCS1D02G070400\"       \n",
       "[35] \"TraesCS5D02G011000\"        \"TraesCS5D02G459400\"       \n",
       "[37] \"TraesCS5D02G458900\"        \"TraesCSU02G174100\"        \n",
       "[39] \"TraesCS7B02G395800\"        \"TraesCS1D02G181000\"       \n",
       "[41] \"Zm00001eb441570\"           \"Zm00001eb435450\"          \n",
       "[43] \"Zm00001eb435720\"           \"Zm00001eb440810\"          \n",
       "[45] \"Zm00001eb437230\"           \"Zm00001eb436800\"          \n",
       "[47] \"Zm00001eb039180\"          \n",
       "\n",
       "[[2]]\n",
       " [1] \"BRADI_5g23837v3\"           \"HORVU.MOREX.r3.6HG0588790\"\n",
       " [3] \"HORVU.MOREX.r3.UnG0798910\" \"HORVU.MOREX.r3.UnG0812290\"\n",
       " [5] \"HORVU.MOREX.r3.UnG0774980\" \"HORVU.MOREX.r3.UnG0774100\"\n",
       " [7] \"HORVU.MOREX.r3.UnG0806030\" \"HORVU.MOREX.r3.UnG0796190\"\n",
       " [9] \"HORVU.MOREX.r3.UnG0807030\" \"HORVU.MOREX.r3.UnG0797120\"\n",
       "[11] \"HORVU.MOREX.r3.UnG0776320\" \"HORVU.MOREX.r3.UnG0785920\"\n",
       "[13] \"HORVU.MOREX.r3.UnG0781940\" \"HORVU.MOREX.r3.UnG0780110\"\n",
       "[15] \"HORVU.MOREX.r3.UnG0795250\" \"HORVU.MOREX.r3.UnG0791940\"\n",
       "[17] \"HORVU.MOREX.r3.UnG0809380\" \"HORVU.MOREX.r3.UnG0809060\"\n",
       "[19] \"HORVU.MOREX.r3.UnG0806380\" \"HORVU.MOREX.r3.UnG0805090\"\n",
       "[21] \"HORVU.MOREX.r3.UnG0811990\" \"HORVU.MOREX.r3.UnG0808100\"\n",
       "[23] \"HORVU.MOREX.r3.UnG0779900\" \"HORVU.MOREX.r3.UnG0764310\"\n",
       "[25] \"HORVU.MOREX.r3.UnG0796930\" \"HORVU.MOREX.r3.UnG0808280\"\n",
       "[27] \"HORVU.MOREX.r3.UnG0754650\" \"HORVU.MOREX.r3.UnG0779140\"\n",
       "[29] \"HORVU.MOREX.r3.UnG0791680\" \"ONIVA03G31530\"            \n",
       "[31] \"gene-atpA\"                 \"SETIT_020882mg\"           \n",
       "[33] \"SETIT_040270mg\"            \"TraesCS1D02G070400\"       \n",
       "[35] \"TraesCS5D02G011000\"        \"TraesCS5D02G459400\"       \n",
       "[37] \"TraesCS5D02G458900\"        \"TraesCSU02G174100\"        \n",
       "[39] \"TraesCS7B02G395800\"        \"TraesCS1D02G181000\"       \n",
       "[41] \"Zm00001eb441570\"           \"Zm00001eb435450\"          \n",
       "[43] \"Zm00001eb435720\"           \"Zm00001eb440810\"          \n",
       "[45] \"Zm00001eb437230\"           \"Zm00001eb436800\"          \n",
       "[47] \"Zm00001eb039180\"           \"HORVU.MOREX.r3.UnG0755570\"\n",
       "\n",
       "[[3]]\n",
       " [1] \"BRADI_5g23837v3\"           \"HORVU.MOREX.r3.6HG0588790\"\n",
       " [3] \"HORVU.MOREX.r3.UnG0798910\" \"HORVU.MOREX.r3.UnG0812290\"\n",
       " [5] \"HORVU.MOREX.r3.UnG0774980\" \"HORVU.MOREX.r3.UnG0774100\"\n",
       " [7] \"HORVU.MOREX.r3.UnG0806030\" \"HORVU.MOREX.r3.UnG0796190\"\n",
       " [9] \"HORVU.MOREX.r3.UnG0807030\" \"HORVU.MOREX.r3.UnG0797120\"\n",
       "[11] \"HORVU.MOREX.r3.UnG0776320\" \"HORVU.MOREX.r3.UnG0785920\"\n",
       "[13] \"HORVU.MOREX.r3.UnG0781940\" \"HORVU.MOREX.r3.UnG0780110\"\n",
       "[15] \"HORVU.MOREX.r3.UnG0795250\" \"HORVU.MOREX.r3.UnG0791940\"\n",
       "[17] \"HORVU.MOREX.r3.UnG0809380\" \"HORVU.MOREX.r3.UnG0809060\"\n",
       "[19] \"HORVU.MOREX.r3.UnG0806380\" \"HORVU.MOREX.r3.UnG0805090\"\n",
       "[21] \"HORVU.MOREX.r3.UnG0811990\" \"HORVU.MOREX.r3.UnG0808100\"\n",
       "[23] \"HORVU.MOREX.r3.UnG0779900\" \"HORVU.MOREX.r3.UnG0764310\"\n",
       "[25] \"HORVU.MOREX.r3.UnG0796930\" \"HORVU.MOREX.r3.UnG0808280\"\n",
       "[27] \"HORVU.MOREX.r3.UnG0754650\" \"HORVU.MOREX.r3.UnG0779140\"\n",
       "[29] \"HORVU.MOREX.r3.UnG0791680\" \"ONIVA03G31530\"            \n",
       "[31] \"gene-atpA\"                 \"SETIT_020882mg\"           \n",
       "[33] \"SETIT_040270mg\"            \"TraesCS1D02G070400\"       \n",
       "[35] \"TraesCS5D02G011000\"        \"TraesCS5D02G459400\"       \n",
       "[37] \"TraesCS5D02G458900\"        \"TraesCSU02G174100\"        \n",
       "[39] \"TraesCS7B02G395800\"        \"TraesCS1D02G181000\"       \n",
       "[41] \"Zm00001eb441570\"           \"Zm00001eb435450\"          \n",
       "[43] \"Zm00001eb435720\"           \"Zm00001eb440810\"          \n",
       "[45] \"Zm00001eb437230\"           \"Zm00001eb436800\"          \n",
       "[47] \"Zm00001eb039180\"           \"HORVU.MOREX.r3.UnG0755570\"\n",
       "[49] \"HORVU.MOREX.r3.UnG0767200\"\n",
       "\n",
       "[[4]]\n",
       " [1] \"BRADI_5g23837v3\"           \"HORVU.MOREX.r3.6HG0588790\"\n",
       " [3] \"HORVU.MOREX.r3.UnG0798910\" \"HORVU.MOREX.r3.UnG0812290\"\n",
       " [5] \"HORVU.MOREX.r3.UnG0774980\" \"HORVU.MOREX.r3.UnG0774100\"\n",
       " [7] \"HORVU.MOREX.r3.UnG0806030\" \"HORVU.MOREX.r3.UnG0796190\"\n",
       " [9] \"HORVU.MOREX.r3.UnG0807030\" \"HORVU.MOREX.r3.UnG0797120\"\n",
       "[11] \"HORVU.MOREX.r3.UnG0776320\" \"HORVU.MOREX.r3.UnG0785920\"\n",
       "[13] \"HORVU.MOREX.r3.UnG0781940\" \"HORVU.MOREX.r3.UnG0780110\"\n",
       "[15] \"HORVU.MOREX.r3.UnG0795250\" \"HORVU.MOREX.r3.UnG0791940\"\n",
       "[17] \"HORVU.MOREX.r3.UnG0809380\" \"HORVU.MOREX.r3.UnG0809060\"\n",
       "[19] \"HORVU.MOREX.r3.UnG0806380\" \"HORVU.MOREX.r3.UnG0805090\"\n",
       "[21] \"HORVU.MOREX.r3.UnG0811990\" \"HORVU.MOREX.r3.UnG0808100\"\n",
       "[23] \"HORVU.MOREX.r3.UnG0779900\" \"HORVU.MOREX.r3.UnG0764310\"\n",
       "[25] \"HORVU.MOREX.r3.UnG0796930\" \"HORVU.MOREX.r3.UnG0808280\"\n",
       "[27] \"HORVU.MOREX.r3.UnG0754650\" \"HORVU.MOREX.r3.UnG0779140\"\n",
       "[29] \"HORVU.MOREX.r3.UnG0791680\" \"ONIVA03G31530\"            \n",
       "[31] \"gene-atpA\"                 \"SETIT_020882mg\"           \n",
       "[33] \"SETIT_040270mg\"            \"TraesCS1D02G070400\"       \n",
       "[35] \"TraesCS5D02G011000\"        \"TraesCS5D02G459400\"       \n",
       "[37] \"TraesCS5D02G458900\"        \"TraesCSU02G174100\"        \n",
       "[39] \"TraesCS7B02G395800\"        \"TraesCS1D02G181000\"       \n",
       "[41] \"Zm00001eb441570\"           \"Zm00001eb435450\"          \n",
       "[43] \"Zm00001eb435720\"           \"Zm00001eb440810\"          \n",
       "[45] \"Zm00001eb437230\"           \"Zm00001eb436800\"          \n",
       "[47] \"Zm00001eb039180\"           \"HORVU.MOREX.r3.UnG0755570\"\n",
       "[49] \"HORVU.MOREX.r3.UnG0767200\" \"HORVU.MOREX.r3.UnG0768700\"\n"
      ]
     },
     "metadata": {},
     "output_type": "display_data"
    }
   ],
   "source": [
    "#create copy of the list and remove the names\n",
    "#add all previous gene/proteins to the next OG\n",
    "# -> e.g. the former seventh OG list element will contain all genes/proteins of all lower numbered OGs\n",
    "cum_add_OG_analysis_list <- add_OG_analysis_list\n",
    "names(cum_add_OG_analysis_list) <- NULL\n",
    "#copy_add_OG_analysis_list\n",
    "\n",
    "for (i in 0:(length(cum_add_OG_analysis_list)-1)) {\n",
    "    \n",
    "    cum_add_OG_analysis_list[[i+1]] <- unlist(c(cum_add_OG_analysis_list[i], cum_add_OG_analysis_list[i+1]))\n",
    "}\n",
    "\n",
    "#lapply(cum_add_OG_analysis_list, length)\n",
    "cum_add_OG_analysis_list"
   ]
  },
  {
   "cell_type": "code",
   "execution_count": null,
   "metadata": {},
   "outputs": [],
   "source": []
  },
  {
   "cell_type": "code",
   "execution_count": null,
   "metadata": {},
   "outputs": [],
   "source": []
  },
  {
   "cell_type": "code",
   "execution_count": 319,
   "metadata": {},
   "outputs": [],
   "source": [
    "#do this for all expanded OGs\n",
    "#do this for all hypotheses\n",
    "#what kind of additional table is worthwhile here? - do I even need one - it's the same as in the additional blast hits stuff ;D\n",
    "#how do I split this in the following steps muscle - gblocks - fasttree;\n",
    "# -> prob. a nested structure of directories - I know the number of additional OGs per OG\n",
    "# -> so OG/; 1/ 2/ 3/, etc.; where 1/ corresponds to the expanded OG itself and the following to the OG itself plus the addtional OG and all prev. add. OGs\n",
    "#adding this to the final tea object"
   ]
  },
  {
   "cell_type": "code",
   "execution_count": null,
   "metadata": {},
   "outputs": [],
   "source": []
  },
  {
   "cell_type": "code",
   "execution_count": null,
   "metadata": {},
   "outputs": [],
   "source": []
  },
  {
   "cell_type": "markdown",
   "metadata": {},
   "source": [
    "#### Putting the additional OG analysis together"
   ]
  },
  {
   "cell_type": "code",
   "execution_count": 66,
   "metadata": {
    "tags": []
   },
   "outputs": [],
   "source": [
    "#transforming ph_orthogroups to long format - nice & neat lookup table ;D\n",
    "long_ph_orthogroups <- ph_orthogroups %>%\n",
    "  select(-OG, -`Gene Tree Parent Clade`) %>%\n",
    "  melt(., id.vars = c(\"HOG\")) %>%\n",
    "  rename(species=variable, id=value) %>%\n",
    "  mutate(species = as.character(species)) %>%\n",
    "  separate_rows(id, sep = \", \") %>%\n",
    "  drop_na()\n",
    "\n",
    "\n",
    "#create final summary list - per OG (name) the cumulative steps of additional OGs\n",
    "summary_add_OG_analysis_list <- vector(mode = \"list\", length = length(expanded_HOGs$HOG))\n",
    "\n",
    "#create classes for nested S3-list structure holding all additional OG sets per OG analysis\n",
    "setClass(\"add_OG_analysis\", \n",
    "         slots=list(add_OG_analysis=\"list\")\n",
    "         )\n",
    "\n",
    "setClass(\"add_OG_set\", \n",
    "         slots=list(genes=\"tbl_df\")\n",
    "         )\n",
    "\n",
    "\n",
    "num=1\n",
    "#dir.create(paste(\"../tea/\", num, \"/add_OGs_sets/\", sep = \"\"))\n",
    "#dir.create(paste(\"tea/\", num, \"/add_OGs_sets/\", sep = \"\"))\n",
    "\n",
    "#similarly to the additional BLAST hits approach we iterate over the expanded OGs\n",
    "loop_index <- 0\n",
    "for (i in expanded_HOGs$HOG) {\n",
    "    \n",
    "    #not pretty but was quick solution\n",
    "    loop_index <- loop_index + 1\n",
    "    \n",
    "    exp_og_genes <- unlist(strsplit(ref_ph_orthogroups[ref_ph_orthogroups$HOG == i,]$genes, split = \", \"))\n",
    "    BLAST_hits_exp_og_genes <- dplyr::filter(all_BLAST_reformatted, \n",
    "                                             qseqid_name %in% exp_og_genes | sseqid_name %in% exp_og_genes)\n",
    "    sorted_BLAST_hits_exp_og_genes <- arrange(BLAST_hits_exp_og_genes, evalue, -bitscore, -pident)\n",
    "\n",
    "    #after the sorting of BLAST hits we move on to merging the OG information into the current exp. OG BLAST hits results\n",
    "\n",
    "    #we can create a merged dataframe from the blast table (HOG specific) and the long format HOG table (general)\n",
    "    #difficulty is that in case of singletons we have NA under HOG\n",
    "    #easiest way I can think of is a named list\n",
    "    self_and_closest_ogs <- left_join(sorted_BLAST_hits_exp_og_genes, long_ph_orthogroups, by = c(\"sseqid_name\" = \"id\")) %>%\n",
    "      group_by(sseqid_name) %>%\n",
    "      arrange(evalue, -bitscore, -pident) %>%\n",
    "      slice(1) %>%\n",
    "      ungroup() %>%\n",
    "      arrange(evalue, -bitscore, -pident) %>%\n",
    "      mutate(HOG = as.character(HOG),\n",
    "             HOG = ifelse(is.na(HOG), paste(\"singleton\", sep = \"-\", cumsum(is.na(HOG))),\n",
    "                          as.character(HOG))) %>%\n",
    "      group_by(HOG) %>%\n",
    "      arrange(evalue, -bitscore, -pident) %>%\n",
    "      slice(1) %>%\n",
    "      ungroup() %>%\n",
    "      arrange(evalue, -bitscore, -pident)\n",
    "     \n",
    "\n",
    "    #first row will should correspond to self match - the OG itself\n",
    "    #self_and_closest_ogs\n",
    "\n",
    "    #here the information provided by the user regarding max. additional OGs is used\n",
    "    #suppose user chose max 5 additional orthogroups in config file\n",
    "    add_OGs = 3\n",
    "\n",
    "\n",
    "    #need to add check for number of additonal OGs/singletons\n",
    "    #e.g. user sets max. add. OGs/singletons to 5 but we only can provide 4\n",
    "    #+ have to consider the expanded OG itself, so:\n",
    "    available_add_OGs <- nrow(self_and_closest_ogs) - 1 \n",
    "    #available_add_OGs\n",
    "\n",
    "    #in this case set add_OGs to max available\n",
    "    if (available_add_OGs < add_OGs) {\n",
    "      add_OGs <- available_add_OGs\n",
    "    } \n",
    "\n",
    "    #empty list of precomputed size - add OGs plus the expanded OG itself\n",
    "    add_OG_analysis_list <- vector(mode = \"list\", length = add_OGs+1)\n",
    "\n",
    "\n",
    "    for (j in 1:(add_OGs+1)) {\n",
    "      og_name <- self_and_closest_ogs[j,] %>%\n",
    "      pull(HOG)\n",
    "  \n",
    "      #differnetiate between OG case and a singleton case - different handling:\n",
    "      #for HOG get all associated genes/proteins from large long format table\n",
    "      #for singletons get singelton gene/protein from the table itself\n",
    "      if (!str_detect(og_name, \"singleton\") == TRUE) {\n",
    "  \n",
    "        name_curr_close_HOG <- self_and_closest_ogs[j,] %>%\n",
    "                                 pull(HOG)\n",
    "  \n",
    "        ids_curr_close_HOG <- long_ph_orthogroups %>%\n",
    "                                filter(HOG %in% name_curr_close_HOG) %>%\n",
    "                                pull(id)\n",
    "  \n",
    "        add_OG_analysis_list[[j]] <- ids_curr_close_HOG\n",
    "        names(add_OG_analysis_list)[j] <- name_curr_close_HOG\n",
    "  \n",
    "      } else {\n",
    "        name_curr_close_singleton <- self_and_closest_ogs[j,] %>%\n",
    "                                     pull(HOG)\n",
    "  \n",
    "        id_curr_close_HOG <- self_and_closest_ogs[j,] %>%\n",
    "                               pull(sseqid_name)\n",
    "  \n",
    "        add_OG_analysis_list[[j]] <- id_curr_close_HOG\n",
    "        names(add_OG_analysis_list)[j] <- name_curr_close_singleton\n",
    "      }\n",
    "    }\n",
    "    \n",
    "    #create copy of the list and remove the names\n",
    "    #add all previous gene/proteins to the next OG\n",
    "    # -> e.g. the former seventh OG list element will contain all genes/proteins of all lower numbered OGs\n",
    "    #the final \"cum_add_OG_analysis_list\" will be a list with each next element having the cumulative set of all previous and own gene/protein ids \n",
    "    cum_add_OG_analysis_list <- add_OG_analysis_list\n",
    "    names(cum_add_OG_analysis_list) <- NULL\n",
    "    #copy_add_OG_analysis_list\n",
    "\n",
    "    for (k in 0:(length(cum_add_OG_analysis_list)-1)) {\n",
    "      cum_add_OG_analysis_list[[k+1]] <- unlist(c(cum_add_OG_analysis_list[k], cum_add_OG_analysis_list[k+1]))\n",
    "    }\n",
    "\n",
    "    #lapply(cum_add_OG_analysis_list, length)\n",
    "    #print(i)\n",
    "    #print(cum_add_OG_analysis_list)\n",
    "    \n",
    "    \n",
    "    #create directory/ies - for each HOG under \"add_OGs_sets\"\n",
    "    #dir.create(paste(\"tea/\", num, \"/add_OGs_sets/\", i, sep = \"\"))\n",
    "    dir.create(paste(\"../tea/\", num, \"/add_OGs_sets/\", i, sep = \"\"))    \n",
    "    \n",
    "    #iterate over cum. list and write cumulative sets into seperate files\n",
    "    for (l in 1:length(cum_add_OG_analysis_list)) {\n",
    "      write_lines(cum_add_OG_analysis_list[[l]],\n",
    "                  #paste(\"tea/\", num, \"/add_OGs_sets/\", i, \"/add_OGs_set_num-\", l, \".txt\", sep = \"\")\n",
    "                  paste(\"../tea/\", num, \"/add_OGs_sets/\", i, \"/add_OGs_set_num-\", l, \".txt\", sep = \"\")\n",
    "      )\n",
    "\n",
    "    }\n",
    "\n",
    "    #append current cum. list to summary list & name element after OG\n",
    "    summary_add_OG_analysis_list[[loop_index]] <- cum_add_OG_analysis_list\n",
    "    names(summary_add_OG_analysis_list)[loop_index] <- i\n",
    "    \n",
    "}\n",
    "\n",
    "\n",
    "## in this final step we use the summary list to create S3-list nest structure which contains all info \n",
    "## of the summary but in the format we will embed in the final results object as part of the final_tea computation\n",
    "\n",
    "#length of add OGs analysis summary list\n",
    "summary_length <- length(summary_add_OG_analysis_list)\n",
    "\n",
    "#create empty list of length of the summary list\n",
    "add_og_complete_object <- vector(mode = \"list\", length = summary_length)\n",
    "\n",
    "#iterate over all OGs in summary list\n",
    "for (og in 1:summary_length) {\n",
    " \n",
    "  #amount of sets for current OG - (necessary since less addtional OGs than max wished by user is possible)\n",
    "  curr_og_n_sets <- length(summary_add_OG_analysis_list[[og]])\n",
    "    \n",
    "  #empty list with n elements = n sets for currently analyzed OG\n",
    "  og_all_sets <- vector(mode = \"list\", length = curr_og_n_sets)\n",
    "    \n",
    "  for (set in 1:curr_og_n_sets) {\n",
    "\n",
    "    curr_set <- new(\"add_OG_set\",\n",
    "               genes=as_tibble(\n",
    "                       unlist(\n",
    "                         summary_add_OG_analysis_list[[og]][set],\n",
    "                       )  \n",
    "                     ) \n",
    "        )\n",
    "    curr_set <- list(curr_set)\n",
    "    #names(curr_set) <- paste0(set)\n",
    "  \n",
    "    og_all_sets[set] <- curr_set\n",
    "    names(og_all_sets)[set] <- paste0(\"set_\", set)\n",
    "      \n",
    "  }\n",
    "    \n",
    "  curr_add_og <- new(\"add_OG_analysis\",\n",
    "                     add_OG_analysis=og_all_sets\n",
    "                     )\n",
    "\n",
    "  curr_add_og <- list(curr_add_og) \n",
    " \n",
    "  add_og_complete_object[og] <- curr_add_og\n",
    "\n",
    "  names(add_og_complete_object)[og]  <- names(summary_add_OG_analysis_list[og])\n",
    "}\n",
    "\n",
    "\n",
    "# save summary table for aditional OG analysis to hypothesis specific (\"num\") RDS file\n",
    "#saveRDS(add_og_complete_object, paste(\"tea/\", num, \"/add_OGs_sets/add_OG_analysis_object.RDS\", sep = \"\"))\n",
    "saveRDS(add_og_complete_object, paste(\"../tea/\", num, \"/add_OGs_sets/add_OG_analysis_object.RDS\", sep = \"\"))"
   ]
  },
  {
   "cell_type": "code",
   "execution_count": 72,
   "metadata": {
    "collapsed": true,
    "jupyter": {
     "outputs_hidden": true
    },
    "tags": []
   },
   "outputs": [
    {
     "name": "stdout",
     "output_type": "stream",
     "text": [
      "[1] \"N0.HOG0000049\"\n",
      "character(0)\n",
      "[1] 4\n",
      "[1] 4\n",
      "[1] \"../tea/2/add_OGs_sets/N0.HOG0000049/add_OGs_set_num-4.txt\"\n"
     ]
    },
    {
     "name": "stderr",
     "output_type": "stream",
     "text": [
      "Warning message in file.create(missing_file):\n",
      "“cannot create file '../tea/2/add_OGs_sets/N0.HOG0000049/add_OGs_set_num-4.txt', reason 'No such file or directory'”\n"
     ]
    },
    {
     "name": "stdout",
     "output_type": "stream",
     "text": [
      "[1] 3\n",
      "[1] \"../tea/2/add_OGs_sets/N0.HOG0000049/add_OGs_set_num-3.txt\"\n"
     ]
    },
    {
     "name": "stderr",
     "output_type": "stream",
     "text": [
      "Warning message in file.create(missing_file):\n",
      "“cannot create file '../tea/2/add_OGs_sets/N0.HOG0000049/add_OGs_set_num-3.txt', reason 'No such file or directory'”\n"
     ]
    },
    {
     "name": "stdout",
     "output_type": "stream",
     "text": [
      "[1] 2\n",
      "[1] \"../tea/2/add_OGs_sets/N0.HOG0000049/add_OGs_set_num-2.txt\"\n"
     ]
    },
    {
     "name": "stderr",
     "output_type": "stream",
     "text": [
      "Warning message in file.create(missing_file):\n",
      "“cannot create file '../tea/2/add_OGs_sets/N0.HOG0000049/add_OGs_set_num-2.txt', reason 'No such file or directory'”\n"
     ]
    },
    {
     "name": "stdout",
     "output_type": "stream",
     "text": [
      "[1] 1\n",
      "[1] \"../tea/2/add_OGs_sets/N0.HOG0000049/add_OGs_set_num-1.txt\"\n"
     ]
    },
    {
     "name": "stderr",
     "output_type": "stream",
     "text": [
      "Warning message in file.create(missing_file):\n",
      "“cannot create file '../tea/2/add_OGs_sets/N0.HOG0000049/add_OGs_set_num-1.txt', reason 'No such file or directory'”\n"
     ]
    },
    {
     "name": "stdout",
     "output_type": "stream",
     "text": [
      "[1] \"N0.HOG0000076\"\n",
      "character(0)\n",
      "[1] 4\n",
      "[1] 4\n",
      "[1] \"../tea/2/add_OGs_sets/N0.HOG0000076/add_OGs_set_num-4.txt\"\n"
     ]
    },
    {
     "name": "stderr",
     "output_type": "stream",
     "text": [
      "Warning message in file.create(missing_file):\n",
      "“cannot create file '../tea/2/add_OGs_sets/N0.HOG0000076/add_OGs_set_num-4.txt', reason 'No such file or directory'”\n"
     ]
    },
    {
     "name": "stdout",
     "output_type": "stream",
     "text": [
      "[1] 3\n",
      "[1] \"../tea/2/add_OGs_sets/N0.HOG0000076/add_OGs_set_num-3.txt\"\n"
     ]
    },
    {
     "name": "stderr",
     "output_type": "stream",
     "text": [
      "Warning message in file.create(missing_file):\n",
      "“cannot create file '../tea/2/add_OGs_sets/N0.HOG0000076/add_OGs_set_num-3.txt', reason 'No such file or directory'”\n"
     ]
    },
    {
     "name": "stdout",
     "output_type": "stream",
     "text": [
      "[1] 2\n",
      "[1] \"../tea/2/add_OGs_sets/N0.HOG0000076/add_OGs_set_num-2.txt\"\n"
     ]
    },
    {
     "name": "stderr",
     "output_type": "stream",
     "text": [
      "Warning message in file.create(missing_file):\n",
      "“cannot create file '../tea/2/add_OGs_sets/N0.HOG0000076/add_OGs_set_num-2.txt', reason 'No such file or directory'”\n"
     ]
    },
    {
     "name": "stdout",
     "output_type": "stream",
     "text": [
      "[1] 1\n",
      "[1] \"../tea/2/add_OGs_sets/N0.HOG0000076/add_OGs_set_num-1.txt\"\n"
     ]
    },
    {
     "name": "stderr",
     "output_type": "stream",
     "text": [
      "Warning message in file.create(missing_file):\n",
      "“cannot create file '../tea/2/add_OGs_sets/N0.HOG0000076/add_OGs_set_num-1.txt', reason 'No such file or directory'”\n"
     ]
    },
    {
     "name": "stdout",
     "output_type": "stream",
     "text": [
      "[1] \"N0.HOG0000146\"\n",
      "character(0)\n",
      "[1] 4\n",
      "[1] 4\n",
      "[1] \"../tea/2/add_OGs_sets/N0.HOG0000146/add_OGs_set_num-4.txt\"\n"
     ]
    },
    {
     "name": "stderr",
     "output_type": "stream",
     "text": [
      "Warning message in file.create(missing_file):\n",
      "“cannot create file '../tea/2/add_OGs_sets/N0.HOG0000146/add_OGs_set_num-4.txt', reason 'No such file or directory'”\n"
     ]
    },
    {
     "name": "stdout",
     "output_type": "stream",
     "text": [
      "[1] 3\n",
      "[1] \"../tea/2/add_OGs_sets/N0.HOG0000146/add_OGs_set_num-3.txt\"\n"
     ]
    },
    {
     "name": "stderr",
     "output_type": "stream",
     "text": [
      "Warning message in file.create(missing_file):\n",
      "“cannot create file '../tea/2/add_OGs_sets/N0.HOG0000146/add_OGs_set_num-3.txt', reason 'No such file or directory'”\n"
     ]
    },
    {
     "name": "stdout",
     "output_type": "stream",
     "text": [
      "[1] 2\n",
      "[1] \"../tea/2/add_OGs_sets/N0.HOG0000146/add_OGs_set_num-2.txt\"\n"
     ]
    },
    {
     "name": "stderr",
     "output_type": "stream",
     "text": [
      "Warning message in file.create(missing_file):\n",
      "“cannot create file '../tea/2/add_OGs_sets/N0.HOG0000146/add_OGs_set_num-2.txt', reason 'No such file or directory'”\n"
     ]
    },
    {
     "name": "stdout",
     "output_type": "stream",
     "text": [
      "[1] 1\n",
      "[1] \"../tea/2/add_OGs_sets/N0.HOG0000146/add_OGs_set_num-1.txt\"\n"
     ]
    },
    {
     "name": "stderr",
     "output_type": "stream",
     "text": [
      "Warning message in file.create(missing_file):\n",
      "“cannot create file '../tea/2/add_OGs_sets/N0.HOG0000146/add_OGs_set_num-1.txt', reason 'No such file or directory'”\n"
     ]
    },
    {
     "name": "stdout",
     "output_type": "stream",
     "text": [
      "[1] \"N0.HOG0000169\"\n",
      "character(0)\n",
      "[1] 4\n",
      "[1] 4\n",
      "[1] \"../tea/2/add_OGs_sets/N0.HOG0000169/add_OGs_set_num-4.txt\"\n"
     ]
    },
    {
     "name": "stderr",
     "output_type": "stream",
     "text": [
      "Warning message in file.create(missing_file):\n",
      "“cannot create file '../tea/2/add_OGs_sets/N0.HOG0000169/add_OGs_set_num-4.txt', reason 'No such file or directory'”\n"
     ]
    },
    {
     "name": "stdout",
     "output_type": "stream",
     "text": [
      "[1] 3\n",
      "[1] \"../tea/2/add_OGs_sets/N0.HOG0000169/add_OGs_set_num-3.txt\"\n"
     ]
    },
    {
     "name": "stderr",
     "output_type": "stream",
     "text": [
      "Warning message in file.create(missing_file):\n",
      "“cannot create file '../tea/2/add_OGs_sets/N0.HOG0000169/add_OGs_set_num-3.txt', reason 'No such file or directory'”\n"
     ]
    },
    {
     "name": "stdout",
     "output_type": "stream",
     "text": [
      "[1] 2\n",
      "[1] \"../tea/2/add_OGs_sets/N0.HOG0000169/add_OGs_set_num-2.txt\"\n"
     ]
    },
    {
     "name": "stderr",
     "output_type": "stream",
     "text": [
      "Warning message in file.create(missing_file):\n",
      "“cannot create file '../tea/2/add_OGs_sets/N0.HOG0000169/add_OGs_set_num-2.txt', reason 'No such file or directory'”\n"
     ]
    },
    {
     "name": "stdout",
     "output_type": "stream",
     "text": [
      "[1] 1\n",
      "[1] \"../tea/2/add_OGs_sets/N0.HOG0000169/add_OGs_set_num-1.txt\"\n"
     ]
    },
    {
     "name": "stderr",
     "output_type": "stream",
     "text": [
      "Warning message in file.create(missing_file):\n",
      "“cannot create file '../tea/2/add_OGs_sets/N0.HOG0000169/add_OGs_set_num-1.txt', reason 'No such file or directory'”\n"
     ]
    },
    {
     "name": "stdout",
     "output_type": "stream",
     "text": [
      "[1] \"N0.HOG0000171\"\n",
      "character(0)\n",
      "[1] 4\n",
      "[1] 4\n",
      "[1] \"../tea/2/add_OGs_sets/N0.HOG0000171/add_OGs_set_num-4.txt\"\n"
     ]
    },
    {
     "name": "stderr",
     "output_type": "stream",
     "text": [
      "Warning message in file.create(missing_file):\n",
      "“cannot create file '../tea/2/add_OGs_sets/N0.HOG0000171/add_OGs_set_num-4.txt', reason 'No such file or directory'”\n"
     ]
    },
    {
     "name": "stdout",
     "output_type": "stream",
     "text": [
      "[1] 3\n",
      "[1] \"../tea/2/add_OGs_sets/N0.HOG0000171/add_OGs_set_num-3.txt\"\n"
     ]
    },
    {
     "name": "stderr",
     "output_type": "stream",
     "text": [
      "Warning message in file.create(missing_file):\n",
      "“cannot create file '../tea/2/add_OGs_sets/N0.HOG0000171/add_OGs_set_num-3.txt', reason 'No such file or directory'”\n"
     ]
    },
    {
     "name": "stdout",
     "output_type": "stream",
     "text": [
      "[1] 2\n",
      "[1] \"../tea/2/add_OGs_sets/N0.HOG0000171/add_OGs_set_num-2.txt\"\n"
     ]
    },
    {
     "name": "stderr",
     "output_type": "stream",
     "text": [
      "Warning message in file.create(missing_file):\n",
      "“cannot create file '../tea/2/add_OGs_sets/N0.HOG0000171/add_OGs_set_num-2.txt', reason 'No such file or directory'”\n"
     ]
    },
    {
     "name": "stdout",
     "output_type": "stream",
     "text": [
      "[1] 1\n",
      "[1] \"../tea/2/add_OGs_sets/N0.HOG0000171/add_OGs_set_num-1.txt\"\n"
     ]
    },
    {
     "name": "stderr",
     "output_type": "stream",
     "text": [
      "Warning message in file.create(missing_file):\n",
      "“cannot create file '../tea/2/add_OGs_sets/N0.HOG0000171/add_OGs_set_num-1.txt', reason 'No such file or directory'”\n"
     ]
    },
    {
     "name": "stdout",
     "output_type": "stream",
     "text": [
      "[1] \"N0.HOG0000172\"\n",
      "character(0)\n",
      "[1] 4\n",
      "[1] 4\n",
      "[1] \"../tea/2/add_OGs_sets/N0.HOG0000172/add_OGs_set_num-4.txt\"\n"
     ]
    },
    {
     "name": "stderr",
     "output_type": "stream",
     "text": [
      "Warning message in file.create(missing_file):\n",
      "“cannot create file '../tea/2/add_OGs_sets/N0.HOG0000172/add_OGs_set_num-4.txt', reason 'No such file or directory'”\n"
     ]
    },
    {
     "name": "stdout",
     "output_type": "stream",
     "text": [
      "[1] 3\n",
      "[1] \"../tea/2/add_OGs_sets/N0.HOG0000172/add_OGs_set_num-3.txt\"\n"
     ]
    },
    {
     "name": "stderr",
     "output_type": "stream",
     "text": [
      "Warning message in file.create(missing_file):\n",
      "“cannot create file '../tea/2/add_OGs_sets/N0.HOG0000172/add_OGs_set_num-3.txt', reason 'No such file or directory'”\n"
     ]
    },
    {
     "name": "stdout",
     "output_type": "stream",
     "text": [
      "[1] 2\n",
      "[1] \"../tea/2/add_OGs_sets/N0.HOG0000172/add_OGs_set_num-2.txt\"\n"
     ]
    },
    {
     "name": "stderr",
     "output_type": "stream",
     "text": [
      "Warning message in file.create(missing_file):\n",
      "“cannot create file '../tea/2/add_OGs_sets/N0.HOG0000172/add_OGs_set_num-2.txt', reason 'No such file or directory'”\n"
     ]
    },
    {
     "name": "stdout",
     "output_type": "stream",
     "text": [
      "[1] 1\n",
      "[1] \"../tea/2/add_OGs_sets/N0.HOG0000172/add_OGs_set_num-1.txt\"\n"
     ]
    },
    {
     "name": "stderr",
     "output_type": "stream",
     "text": [
      "Warning message in file.create(missing_file):\n",
      "“cannot create file '../tea/2/add_OGs_sets/N0.HOG0000172/add_OGs_set_num-1.txt', reason 'No such file or directory'”\n"
     ]
    },
    {
     "name": "stdout",
     "output_type": "stream",
     "text": [
      "[1] \"N0.HOG0000174\"\n",
      "character(0)\n",
      "[1] 4\n",
      "[1] 4\n",
      "[1] \"../tea/2/add_OGs_sets/N0.HOG0000174/add_OGs_set_num-4.txt\"\n"
     ]
    },
    {
     "name": "stderr",
     "output_type": "stream",
     "text": [
      "Warning message in file.create(missing_file):\n",
      "“cannot create file '../tea/2/add_OGs_sets/N0.HOG0000174/add_OGs_set_num-4.txt', reason 'No such file or directory'”\n"
     ]
    },
    {
     "name": "stdout",
     "output_type": "stream",
     "text": [
      "[1] 3\n",
      "[1] \"../tea/2/add_OGs_sets/N0.HOG0000174/add_OGs_set_num-3.txt\"\n"
     ]
    },
    {
     "name": "stderr",
     "output_type": "stream",
     "text": [
      "Warning message in file.create(missing_file):\n",
      "“cannot create file '../tea/2/add_OGs_sets/N0.HOG0000174/add_OGs_set_num-3.txt', reason 'No such file or directory'”\n"
     ]
    },
    {
     "name": "stdout",
     "output_type": "stream",
     "text": [
      "[1] 2\n",
      "[1] \"../tea/2/add_OGs_sets/N0.HOG0000174/add_OGs_set_num-2.txt\"\n"
     ]
    },
    {
     "name": "stderr",
     "output_type": "stream",
     "text": [
      "Warning message in file.create(missing_file):\n",
      "“cannot create file '../tea/2/add_OGs_sets/N0.HOG0000174/add_OGs_set_num-2.txt', reason 'No such file or directory'”\n"
     ]
    },
    {
     "name": "stdout",
     "output_type": "stream",
     "text": [
      "[1] 1\n",
      "[1] \"../tea/2/add_OGs_sets/N0.HOG0000174/add_OGs_set_num-1.txt\"\n"
     ]
    },
    {
     "name": "stderr",
     "output_type": "stream",
     "text": [
      "Warning message in file.create(missing_file):\n",
      "“cannot create file '../tea/2/add_OGs_sets/N0.HOG0000174/add_OGs_set_num-1.txt', reason 'No such file or directory'”\n"
     ]
    },
    {
     "name": "stdout",
     "output_type": "stream",
     "text": [
      "[1] \"N0.HOG0000205\"\n",
      "character(0)\n",
      "[1] 4\n",
      "[1] 4\n",
      "[1] \"../tea/2/add_OGs_sets/N0.HOG0000205/add_OGs_set_num-4.txt\"\n"
     ]
    },
    {
     "name": "stderr",
     "output_type": "stream",
     "text": [
      "Warning message in file.create(missing_file):\n",
      "“cannot create file '../tea/2/add_OGs_sets/N0.HOG0000205/add_OGs_set_num-4.txt', reason 'No such file or directory'”\n"
     ]
    },
    {
     "name": "stdout",
     "output_type": "stream",
     "text": [
      "[1] 3\n",
      "[1] \"../tea/2/add_OGs_sets/N0.HOG0000205/add_OGs_set_num-3.txt\"\n"
     ]
    },
    {
     "name": "stderr",
     "output_type": "stream",
     "text": [
      "Warning message in file.create(missing_file):\n",
      "“cannot create file '../tea/2/add_OGs_sets/N0.HOG0000205/add_OGs_set_num-3.txt', reason 'No such file or directory'”\n"
     ]
    },
    {
     "name": "stdout",
     "output_type": "stream",
     "text": [
      "[1] 2\n",
      "[1] \"../tea/2/add_OGs_sets/N0.HOG0000205/add_OGs_set_num-2.txt\"\n"
     ]
    },
    {
     "name": "stderr",
     "output_type": "stream",
     "text": [
      "Warning message in file.create(missing_file):\n",
      "“cannot create file '../tea/2/add_OGs_sets/N0.HOG0000205/add_OGs_set_num-2.txt', reason 'No such file or directory'”\n"
     ]
    },
    {
     "name": "stdout",
     "output_type": "stream",
     "text": [
      "[1] 1\n",
      "[1] \"../tea/2/add_OGs_sets/N0.HOG0000205/add_OGs_set_num-1.txt\"\n"
     ]
    },
    {
     "name": "stderr",
     "output_type": "stream",
     "text": [
      "Warning message in file.create(missing_file):\n",
      "“cannot create file '../tea/2/add_OGs_sets/N0.HOG0000205/add_OGs_set_num-1.txt', reason 'No such file or directory'”\n"
     ]
    },
    {
     "name": "stdout",
     "output_type": "stream",
     "text": [
      "[1] \"N0.HOG0000208\"\n",
      "character(0)\n",
      "[1] 4\n",
      "[1] 4\n",
      "[1] \"../tea/2/add_OGs_sets/N0.HOG0000208/add_OGs_set_num-4.txt\"\n"
     ]
    },
    {
     "name": "stderr",
     "output_type": "stream",
     "text": [
      "Warning message in file.create(missing_file):\n",
      "“cannot create file '../tea/2/add_OGs_sets/N0.HOG0000208/add_OGs_set_num-4.txt', reason 'No such file or directory'”\n"
     ]
    },
    {
     "name": "stdout",
     "output_type": "stream",
     "text": [
      "[1] 3\n",
      "[1] \"../tea/2/add_OGs_sets/N0.HOG0000208/add_OGs_set_num-3.txt\"\n"
     ]
    },
    {
     "name": "stderr",
     "output_type": "stream",
     "text": [
      "Warning message in file.create(missing_file):\n",
      "“cannot create file '../tea/2/add_OGs_sets/N0.HOG0000208/add_OGs_set_num-3.txt', reason 'No such file or directory'”\n"
     ]
    },
    {
     "name": "stdout",
     "output_type": "stream",
     "text": [
      "[1] 2\n",
      "[1] \"../tea/2/add_OGs_sets/N0.HOG0000208/add_OGs_set_num-2.txt\"\n"
     ]
    },
    {
     "name": "stderr",
     "output_type": "stream",
     "text": [
      "Warning message in file.create(missing_file):\n",
      "“cannot create file '../tea/2/add_OGs_sets/N0.HOG0000208/add_OGs_set_num-2.txt', reason 'No such file or directory'”\n"
     ]
    },
    {
     "name": "stdout",
     "output_type": "stream",
     "text": [
      "[1] 1\n",
      "[1] \"../tea/2/add_OGs_sets/N0.HOG0000208/add_OGs_set_num-1.txt\"\n"
     ]
    },
    {
     "name": "stderr",
     "output_type": "stream",
     "text": [
      "Warning message in file.create(missing_file):\n",
      "“cannot create file '../tea/2/add_OGs_sets/N0.HOG0000208/add_OGs_set_num-1.txt', reason 'No such file or directory'”\n"
     ]
    },
    {
     "name": "stdout",
     "output_type": "stream",
     "text": [
      "[1] \"N0.HOG0000211\"\n",
      "character(0)\n",
      "[1] 4\n",
      "[1] 4\n",
      "[1] \"../tea/2/add_OGs_sets/N0.HOG0000211/add_OGs_set_num-4.txt\"\n"
     ]
    },
    {
     "name": "stderr",
     "output_type": "stream",
     "text": [
      "Warning message in file.create(missing_file):\n",
      "“cannot create file '../tea/2/add_OGs_sets/N0.HOG0000211/add_OGs_set_num-4.txt', reason 'No such file or directory'”\n"
     ]
    },
    {
     "name": "stdout",
     "output_type": "stream",
     "text": [
      "[1] 3\n",
      "[1] \"../tea/2/add_OGs_sets/N0.HOG0000211/add_OGs_set_num-3.txt\"\n"
     ]
    },
    {
     "name": "stderr",
     "output_type": "stream",
     "text": [
      "Warning message in file.create(missing_file):\n",
      "“cannot create file '../tea/2/add_OGs_sets/N0.HOG0000211/add_OGs_set_num-3.txt', reason 'No such file or directory'”\n"
     ]
    },
    {
     "name": "stdout",
     "output_type": "stream",
     "text": [
      "[1] 2\n",
      "[1] \"../tea/2/add_OGs_sets/N0.HOG0000211/add_OGs_set_num-2.txt\"\n"
     ]
    },
    {
     "name": "stderr",
     "output_type": "stream",
     "text": [
      "Warning message in file.create(missing_file):\n",
      "“cannot create file '../tea/2/add_OGs_sets/N0.HOG0000211/add_OGs_set_num-2.txt', reason 'No such file or directory'”\n"
     ]
    },
    {
     "name": "stdout",
     "output_type": "stream",
     "text": [
      "[1] 1\n",
      "[1] \"../tea/2/add_OGs_sets/N0.HOG0000211/add_OGs_set_num-1.txt\"\n"
     ]
    },
    {
     "name": "stderr",
     "output_type": "stream",
     "text": [
      "Warning message in file.create(missing_file):\n",
      "“cannot create file '../tea/2/add_OGs_sets/N0.HOG0000211/add_OGs_set_num-1.txt', reason 'No such file or directory'”\n"
     ]
    },
    {
     "name": "stdout",
     "output_type": "stream",
     "text": [
      "[1] \"N0.HOG0000224\"\n",
      "character(0)\n",
      "[1] 4\n",
      "[1] 4\n",
      "[1] \"../tea/2/add_OGs_sets/N0.HOG0000224/add_OGs_set_num-4.txt\"\n"
     ]
    },
    {
     "name": "stderr",
     "output_type": "stream",
     "text": [
      "Warning message in file.create(missing_file):\n",
      "“cannot create file '../tea/2/add_OGs_sets/N0.HOG0000224/add_OGs_set_num-4.txt', reason 'No such file or directory'”\n"
     ]
    },
    {
     "name": "stdout",
     "output_type": "stream",
     "text": [
      "[1] 3\n",
      "[1] \"../tea/2/add_OGs_sets/N0.HOG0000224/add_OGs_set_num-3.txt\"\n"
     ]
    },
    {
     "name": "stderr",
     "output_type": "stream",
     "text": [
      "Warning message in file.create(missing_file):\n",
      "“cannot create file '../tea/2/add_OGs_sets/N0.HOG0000224/add_OGs_set_num-3.txt', reason 'No such file or directory'”\n"
     ]
    },
    {
     "name": "stdout",
     "output_type": "stream",
     "text": [
      "[1] 2\n",
      "[1] \"../tea/2/add_OGs_sets/N0.HOG0000224/add_OGs_set_num-2.txt\"\n"
     ]
    },
    {
     "name": "stderr",
     "output_type": "stream",
     "text": [
      "Warning message in file.create(missing_file):\n",
      "“cannot create file '../tea/2/add_OGs_sets/N0.HOG0000224/add_OGs_set_num-2.txt', reason 'No such file or directory'”\n"
     ]
    },
    {
     "name": "stdout",
     "output_type": "stream",
     "text": [
      "[1] 1\n",
      "[1] \"../tea/2/add_OGs_sets/N0.HOG0000224/add_OGs_set_num-1.txt\"\n"
     ]
    },
    {
     "name": "stderr",
     "output_type": "stream",
     "text": [
      "Warning message in file.create(missing_file):\n",
      "“cannot create file '../tea/2/add_OGs_sets/N0.HOG0000224/add_OGs_set_num-1.txt', reason 'No such file or directory'”\n"
     ]
    },
    {
     "name": "stdout",
     "output_type": "stream",
     "text": [
      "[1] \"N0.HOG0000225\"\n",
      "character(0)\n",
      "[1] 4\n",
      "[1] 4\n",
      "[1] \"../tea/2/add_OGs_sets/N0.HOG0000225/add_OGs_set_num-4.txt\"\n"
     ]
    },
    {
     "name": "stderr",
     "output_type": "stream",
     "text": [
      "Warning message in file.create(missing_file):\n",
      "“cannot create file '../tea/2/add_OGs_sets/N0.HOG0000225/add_OGs_set_num-4.txt', reason 'No such file or directory'”\n"
     ]
    },
    {
     "name": "stdout",
     "output_type": "stream",
     "text": [
      "[1] 3\n",
      "[1] \"../tea/2/add_OGs_sets/N0.HOG0000225/add_OGs_set_num-3.txt\"\n"
     ]
    },
    {
     "name": "stderr",
     "output_type": "stream",
     "text": [
      "Warning message in file.create(missing_file):\n",
      "“cannot create file '../tea/2/add_OGs_sets/N0.HOG0000225/add_OGs_set_num-3.txt', reason 'No such file or directory'”\n"
     ]
    },
    {
     "name": "stdout",
     "output_type": "stream",
     "text": [
      "[1] 2\n",
      "[1] \"../tea/2/add_OGs_sets/N0.HOG0000225/add_OGs_set_num-2.txt\"\n"
     ]
    },
    {
     "name": "stderr",
     "output_type": "stream",
     "text": [
      "Warning message in file.create(missing_file):\n",
      "“cannot create file '../tea/2/add_OGs_sets/N0.HOG0000225/add_OGs_set_num-2.txt', reason 'No such file or directory'”\n"
     ]
    },
    {
     "name": "stdout",
     "output_type": "stream",
     "text": [
      "[1] 1\n",
      "[1] \"../tea/2/add_OGs_sets/N0.HOG0000225/add_OGs_set_num-1.txt\"\n"
     ]
    },
    {
     "name": "stderr",
     "output_type": "stream",
     "text": [
      "Warning message in file.create(missing_file):\n",
      "“cannot create file '../tea/2/add_OGs_sets/N0.HOG0000225/add_OGs_set_num-1.txt', reason 'No such file or directory'”\n"
     ]
    },
    {
     "name": "stdout",
     "output_type": "stream",
     "text": [
      "[1] \"N0.HOG0000254\"\n",
      "character(0)\n",
      "[1] 4\n",
      "[1] 4\n",
      "[1] \"../tea/2/add_OGs_sets/N0.HOG0000254/add_OGs_set_num-4.txt\"\n"
     ]
    },
    {
     "name": "stderr",
     "output_type": "stream",
     "text": [
      "Warning message in file.create(missing_file):\n",
      "“cannot create file '../tea/2/add_OGs_sets/N0.HOG0000254/add_OGs_set_num-4.txt', reason 'No such file or directory'”\n"
     ]
    },
    {
     "name": "stdout",
     "output_type": "stream",
     "text": [
      "[1] 3\n",
      "[1] \"../tea/2/add_OGs_sets/N0.HOG0000254/add_OGs_set_num-3.txt\"\n"
     ]
    },
    {
     "name": "stderr",
     "output_type": "stream",
     "text": [
      "Warning message in file.create(missing_file):\n",
      "“cannot create file '../tea/2/add_OGs_sets/N0.HOG0000254/add_OGs_set_num-3.txt', reason 'No such file or directory'”\n"
     ]
    },
    {
     "name": "stdout",
     "output_type": "stream",
     "text": [
      "[1] 2\n",
      "[1] \"../tea/2/add_OGs_sets/N0.HOG0000254/add_OGs_set_num-2.txt\"\n"
     ]
    },
    {
     "name": "stderr",
     "output_type": "stream",
     "text": [
      "Warning message in file.create(missing_file):\n",
      "“cannot create file '../tea/2/add_OGs_sets/N0.HOG0000254/add_OGs_set_num-2.txt', reason 'No such file or directory'”\n"
     ]
    },
    {
     "name": "stdout",
     "output_type": "stream",
     "text": [
      "[1] 1\n",
      "[1] \"../tea/2/add_OGs_sets/N0.HOG0000254/add_OGs_set_num-1.txt\"\n"
     ]
    },
    {
     "name": "stderr",
     "output_type": "stream",
     "text": [
      "Warning message in file.create(missing_file):\n",
      "“cannot create file '../tea/2/add_OGs_sets/N0.HOG0000254/add_OGs_set_num-1.txt', reason 'No such file or directory'”\n"
     ]
    },
    {
     "name": "stdout",
     "output_type": "stream",
     "text": [
      "[1] \"N0.HOG0000275\"\n",
      "character(0)\n",
      "[1] 4\n",
      "[1] 4\n",
      "[1] \"../tea/2/add_OGs_sets/N0.HOG0000275/add_OGs_set_num-4.txt\"\n"
     ]
    },
    {
     "name": "stderr",
     "output_type": "stream",
     "text": [
      "Warning message in file.create(missing_file):\n",
      "“cannot create file '../tea/2/add_OGs_sets/N0.HOG0000275/add_OGs_set_num-4.txt', reason 'No such file or directory'”\n"
     ]
    },
    {
     "name": "stdout",
     "output_type": "stream",
     "text": [
      "[1] 3\n",
      "[1] \"../tea/2/add_OGs_sets/N0.HOG0000275/add_OGs_set_num-3.txt\"\n"
     ]
    },
    {
     "name": "stderr",
     "output_type": "stream",
     "text": [
      "Warning message in file.create(missing_file):\n",
      "“cannot create file '../tea/2/add_OGs_sets/N0.HOG0000275/add_OGs_set_num-3.txt', reason 'No such file or directory'”\n"
     ]
    },
    {
     "name": "stdout",
     "output_type": "stream",
     "text": [
      "[1] 2\n",
      "[1] \"../tea/2/add_OGs_sets/N0.HOG0000275/add_OGs_set_num-2.txt\"\n"
     ]
    },
    {
     "name": "stderr",
     "output_type": "stream",
     "text": [
      "Warning message in file.create(missing_file):\n",
      "“cannot create file '../tea/2/add_OGs_sets/N0.HOG0000275/add_OGs_set_num-2.txt', reason 'No such file or directory'”\n"
     ]
    },
    {
     "name": "stdout",
     "output_type": "stream",
     "text": [
      "[1] 1\n",
      "[1] \"../tea/2/add_OGs_sets/N0.HOG0000275/add_OGs_set_num-1.txt\"\n"
     ]
    },
    {
     "name": "stderr",
     "output_type": "stream",
     "text": [
      "Warning message in file.create(missing_file):\n",
      "“cannot create file '../tea/2/add_OGs_sets/N0.HOG0000275/add_OGs_set_num-1.txt', reason 'No such file or directory'”\n"
     ]
    },
    {
     "name": "stdout",
     "output_type": "stream",
     "text": [
      "[1] \"N0.HOG0000280\"\n",
      "character(0)\n",
      "[1] 4\n",
      "[1] 4\n",
      "[1] \"../tea/2/add_OGs_sets/N0.HOG0000280/add_OGs_set_num-4.txt\"\n"
     ]
    },
    {
     "name": "stderr",
     "output_type": "stream",
     "text": [
      "Warning message in file.create(missing_file):\n",
      "“cannot create file '../tea/2/add_OGs_sets/N0.HOG0000280/add_OGs_set_num-4.txt', reason 'No such file or directory'”\n"
     ]
    },
    {
     "name": "stdout",
     "output_type": "stream",
     "text": [
      "[1] 3\n",
      "[1] \"../tea/2/add_OGs_sets/N0.HOG0000280/add_OGs_set_num-3.txt\"\n"
     ]
    },
    {
     "name": "stderr",
     "output_type": "stream",
     "text": [
      "Warning message in file.create(missing_file):\n",
      "“cannot create file '../tea/2/add_OGs_sets/N0.HOG0000280/add_OGs_set_num-3.txt', reason 'No such file or directory'”\n"
     ]
    },
    {
     "name": "stdout",
     "output_type": "stream",
     "text": [
      "[1] 2\n",
      "[1] \"../tea/2/add_OGs_sets/N0.HOG0000280/add_OGs_set_num-2.txt\"\n"
     ]
    },
    {
     "name": "stderr",
     "output_type": "stream",
     "text": [
      "Warning message in file.create(missing_file):\n",
      "“cannot create file '../tea/2/add_OGs_sets/N0.HOG0000280/add_OGs_set_num-2.txt', reason 'No such file or directory'”\n"
     ]
    },
    {
     "name": "stdout",
     "output_type": "stream",
     "text": [
      "[1] 1\n",
      "[1] \"../tea/2/add_OGs_sets/N0.HOG0000280/add_OGs_set_num-1.txt\"\n"
     ]
    },
    {
     "name": "stderr",
     "output_type": "stream",
     "text": [
      "Warning message in file.create(missing_file):\n",
      "“cannot create file '../tea/2/add_OGs_sets/N0.HOG0000280/add_OGs_set_num-1.txt', reason 'No such file or directory'”\n"
     ]
    },
    {
     "name": "stdout",
     "output_type": "stream",
     "text": [
      "[1] \"N0.HOG0000283\"\n",
      "character(0)\n",
      "[1] 4\n",
      "[1] 4\n",
      "[1] \"../tea/2/add_OGs_sets/N0.HOG0000283/add_OGs_set_num-4.txt\"\n"
     ]
    },
    {
     "name": "stderr",
     "output_type": "stream",
     "text": [
      "Warning message in file.create(missing_file):\n",
      "“cannot create file '../tea/2/add_OGs_sets/N0.HOG0000283/add_OGs_set_num-4.txt', reason 'No such file or directory'”\n"
     ]
    },
    {
     "name": "stdout",
     "output_type": "stream",
     "text": [
      "[1] 3\n",
      "[1] \"../tea/2/add_OGs_sets/N0.HOG0000283/add_OGs_set_num-3.txt\"\n"
     ]
    },
    {
     "name": "stderr",
     "output_type": "stream",
     "text": [
      "Warning message in file.create(missing_file):\n",
      "“cannot create file '../tea/2/add_OGs_sets/N0.HOG0000283/add_OGs_set_num-3.txt', reason 'No such file or directory'”\n"
     ]
    },
    {
     "name": "stdout",
     "output_type": "stream",
     "text": [
      "[1] 2\n",
      "[1] \"../tea/2/add_OGs_sets/N0.HOG0000283/add_OGs_set_num-2.txt\"\n"
     ]
    },
    {
     "name": "stderr",
     "output_type": "stream",
     "text": [
      "Warning message in file.create(missing_file):\n",
      "“cannot create file '../tea/2/add_OGs_sets/N0.HOG0000283/add_OGs_set_num-2.txt', reason 'No such file or directory'”\n"
     ]
    },
    {
     "name": "stdout",
     "output_type": "stream",
     "text": [
      "[1] 1\n",
      "[1] \"../tea/2/add_OGs_sets/N0.HOG0000283/add_OGs_set_num-1.txt\"\n"
     ]
    },
    {
     "name": "stderr",
     "output_type": "stream",
     "text": [
      "Warning message in file.create(missing_file):\n",
      "“cannot create file '../tea/2/add_OGs_sets/N0.HOG0000283/add_OGs_set_num-1.txt', reason 'No such file or directory'”\n"
     ]
    },
    {
     "name": "stdout",
     "output_type": "stream",
     "text": [
      "[1] \"N0.HOG0000308\"\n",
      "character(0)\n",
      "[1] 4\n",
      "[1] 4\n",
      "[1] \"../tea/2/add_OGs_sets/N0.HOG0000308/add_OGs_set_num-4.txt\"\n"
     ]
    },
    {
     "name": "stderr",
     "output_type": "stream",
     "text": [
      "Warning message in file.create(missing_file):\n",
      "“cannot create file '../tea/2/add_OGs_sets/N0.HOG0000308/add_OGs_set_num-4.txt', reason 'No such file or directory'”\n"
     ]
    },
    {
     "name": "stdout",
     "output_type": "stream",
     "text": [
      "[1] 3\n",
      "[1] \"../tea/2/add_OGs_sets/N0.HOG0000308/add_OGs_set_num-3.txt\"\n"
     ]
    },
    {
     "name": "stderr",
     "output_type": "stream",
     "text": [
      "Warning message in file.create(missing_file):\n",
      "“cannot create file '../tea/2/add_OGs_sets/N0.HOG0000308/add_OGs_set_num-3.txt', reason 'No such file or directory'”\n"
     ]
    },
    {
     "name": "stdout",
     "output_type": "stream",
     "text": [
      "[1] 2\n",
      "[1] \"../tea/2/add_OGs_sets/N0.HOG0000308/add_OGs_set_num-2.txt\"\n"
     ]
    },
    {
     "name": "stderr",
     "output_type": "stream",
     "text": [
      "Warning message in file.create(missing_file):\n",
      "“cannot create file '../tea/2/add_OGs_sets/N0.HOG0000308/add_OGs_set_num-2.txt', reason 'No such file or directory'”\n"
     ]
    },
    {
     "name": "stdout",
     "output_type": "stream",
     "text": [
      "[1] 1\n",
      "[1] \"../tea/2/add_OGs_sets/N0.HOG0000308/add_OGs_set_num-1.txt\"\n"
     ]
    },
    {
     "name": "stderr",
     "output_type": "stream",
     "text": [
      "Warning message in file.create(missing_file):\n",
      "“cannot create file '../tea/2/add_OGs_sets/N0.HOG0000308/add_OGs_set_num-1.txt', reason 'No such file or directory'”\n"
     ]
    },
    {
     "name": "stdout",
     "output_type": "stream",
     "text": [
      "[1] \"N0.HOG0000403\"\n",
      "character(0)\n",
      "[1] 4\n",
      "[1] 4\n",
      "[1] \"../tea/2/add_OGs_sets/N0.HOG0000403/add_OGs_set_num-4.txt\"\n"
     ]
    },
    {
     "name": "stderr",
     "output_type": "stream",
     "text": [
      "Warning message in file.create(missing_file):\n",
      "“cannot create file '../tea/2/add_OGs_sets/N0.HOG0000403/add_OGs_set_num-4.txt', reason 'No such file or directory'”\n"
     ]
    },
    {
     "name": "stdout",
     "output_type": "stream",
     "text": [
      "[1] 3\n",
      "[1] \"../tea/2/add_OGs_sets/N0.HOG0000403/add_OGs_set_num-3.txt\"\n"
     ]
    },
    {
     "name": "stderr",
     "output_type": "stream",
     "text": [
      "Warning message in file.create(missing_file):\n",
      "“cannot create file '../tea/2/add_OGs_sets/N0.HOG0000403/add_OGs_set_num-3.txt', reason 'No such file or directory'”\n"
     ]
    },
    {
     "name": "stdout",
     "output_type": "stream",
     "text": [
      "[1] 2\n",
      "[1] \"../tea/2/add_OGs_sets/N0.HOG0000403/add_OGs_set_num-2.txt\"\n"
     ]
    },
    {
     "name": "stderr",
     "output_type": "stream",
     "text": [
      "Warning message in file.create(missing_file):\n",
      "“cannot create file '../tea/2/add_OGs_sets/N0.HOG0000403/add_OGs_set_num-2.txt', reason 'No such file or directory'”\n"
     ]
    },
    {
     "name": "stdout",
     "output_type": "stream",
     "text": [
      "[1] 1\n",
      "[1] \"../tea/2/add_OGs_sets/N0.HOG0000403/add_OGs_set_num-1.txt\"\n"
     ]
    },
    {
     "name": "stderr",
     "output_type": "stream",
     "text": [
      "Warning message in file.create(missing_file):\n",
      "“cannot create file '../tea/2/add_OGs_sets/N0.HOG0000403/add_OGs_set_num-1.txt', reason 'No such file or directory'”\n"
     ]
    },
    {
     "name": "stdout",
     "output_type": "stream",
     "text": [
      "[1] \"N0.HOG0000435\"\n",
      "character(0)\n",
      "[1] 4\n",
      "[1] 4\n",
      "[1] \"../tea/2/add_OGs_sets/N0.HOG0000435/add_OGs_set_num-4.txt\"\n"
     ]
    },
    {
     "name": "stderr",
     "output_type": "stream",
     "text": [
      "Warning message in file.create(missing_file):\n",
      "“cannot create file '../tea/2/add_OGs_sets/N0.HOG0000435/add_OGs_set_num-4.txt', reason 'No such file or directory'”\n"
     ]
    },
    {
     "name": "stdout",
     "output_type": "stream",
     "text": [
      "[1] 3\n",
      "[1] \"../tea/2/add_OGs_sets/N0.HOG0000435/add_OGs_set_num-3.txt\"\n"
     ]
    },
    {
     "name": "stderr",
     "output_type": "stream",
     "text": [
      "Warning message in file.create(missing_file):\n",
      "“cannot create file '../tea/2/add_OGs_sets/N0.HOG0000435/add_OGs_set_num-3.txt', reason 'No such file or directory'”\n"
     ]
    },
    {
     "name": "stdout",
     "output_type": "stream",
     "text": [
      "[1] 2\n",
      "[1] \"../tea/2/add_OGs_sets/N0.HOG0000435/add_OGs_set_num-2.txt\"\n"
     ]
    },
    {
     "name": "stderr",
     "output_type": "stream",
     "text": [
      "Warning message in file.create(missing_file):\n",
      "“cannot create file '../tea/2/add_OGs_sets/N0.HOG0000435/add_OGs_set_num-2.txt', reason 'No such file or directory'”\n"
     ]
    },
    {
     "name": "stdout",
     "output_type": "stream",
     "text": [
      "[1] 1\n",
      "[1] \"../tea/2/add_OGs_sets/N0.HOG0000435/add_OGs_set_num-1.txt\"\n"
     ]
    },
    {
     "name": "stderr",
     "output_type": "stream",
     "text": [
      "Warning message in file.create(missing_file):\n",
      "“cannot create file '../tea/2/add_OGs_sets/N0.HOG0000435/add_OGs_set_num-1.txt', reason 'No such file or directory'”\n"
     ]
    },
    {
     "name": "stdout",
     "output_type": "stream",
     "text": [
      "[1] \"N0.HOG0000480\"\n",
      "character(0)\n",
      "[1] 4\n",
      "[1] 4\n",
      "[1] \"../tea/2/add_OGs_sets/N0.HOG0000480/add_OGs_set_num-4.txt\"\n"
     ]
    },
    {
     "name": "stderr",
     "output_type": "stream",
     "text": [
      "Warning message in file.create(missing_file):\n",
      "“cannot create file '../tea/2/add_OGs_sets/N0.HOG0000480/add_OGs_set_num-4.txt', reason 'No such file or directory'”\n"
     ]
    },
    {
     "name": "stdout",
     "output_type": "stream",
     "text": [
      "[1] 3\n",
      "[1] \"../tea/2/add_OGs_sets/N0.HOG0000480/add_OGs_set_num-3.txt\"\n"
     ]
    },
    {
     "name": "stderr",
     "output_type": "stream",
     "text": [
      "Warning message in file.create(missing_file):\n",
      "“cannot create file '../tea/2/add_OGs_sets/N0.HOG0000480/add_OGs_set_num-3.txt', reason 'No such file or directory'”\n"
     ]
    },
    {
     "name": "stdout",
     "output_type": "stream",
     "text": [
      "[1] 2\n",
      "[1] \"../tea/2/add_OGs_sets/N0.HOG0000480/add_OGs_set_num-2.txt\"\n"
     ]
    },
    {
     "name": "stderr",
     "output_type": "stream",
     "text": [
      "Warning message in file.create(missing_file):\n",
      "“cannot create file '../tea/2/add_OGs_sets/N0.HOG0000480/add_OGs_set_num-2.txt', reason 'No such file or directory'”\n"
     ]
    },
    {
     "name": "stdout",
     "output_type": "stream",
     "text": [
      "[1] 1\n",
      "[1] \"../tea/2/add_OGs_sets/N0.HOG0000480/add_OGs_set_num-1.txt\"\n"
     ]
    },
    {
     "name": "stderr",
     "output_type": "stream",
     "text": [
      "Warning message in file.create(missing_file):\n",
      "“cannot create file '../tea/2/add_OGs_sets/N0.HOG0000480/add_OGs_set_num-1.txt', reason 'No such file or directory'”\n"
     ]
    },
    {
     "name": "stdout",
     "output_type": "stream",
     "text": [
      "[1] \"N0.HOG0000482\"\n",
      "character(0)\n",
      "[1] 4\n",
      "[1] 4\n",
      "[1] \"../tea/2/add_OGs_sets/N0.HOG0000482/add_OGs_set_num-4.txt\"\n"
     ]
    },
    {
     "name": "stderr",
     "output_type": "stream",
     "text": [
      "Warning message in file.create(missing_file):\n",
      "“cannot create file '../tea/2/add_OGs_sets/N0.HOG0000482/add_OGs_set_num-4.txt', reason 'No such file or directory'”\n"
     ]
    },
    {
     "name": "stdout",
     "output_type": "stream",
     "text": [
      "[1] 3\n",
      "[1] \"../tea/2/add_OGs_sets/N0.HOG0000482/add_OGs_set_num-3.txt\"\n"
     ]
    },
    {
     "name": "stderr",
     "output_type": "stream",
     "text": [
      "Warning message in file.create(missing_file):\n",
      "“cannot create file '../tea/2/add_OGs_sets/N0.HOG0000482/add_OGs_set_num-3.txt', reason 'No such file or directory'”\n"
     ]
    },
    {
     "name": "stdout",
     "output_type": "stream",
     "text": [
      "[1] 2\n",
      "[1] \"../tea/2/add_OGs_sets/N0.HOG0000482/add_OGs_set_num-2.txt\"\n"
     ]
    },
    {
     "name": "stderr",
     "output_type": "stream",
     "text": [
      "Warning message in file.create(missing_file):\n",
      "“cannot create file '../tea/2/add_OGs_sets/N0.HOG0000482/add_OGs_set_num-2.txt', reason 'No such file or directory'”\n"
     ]
    },
    {
     "name": "stdout",
     "output_type": "stream",
     "text": [
      "[1] 1\n",
      "[1] \"../tea/2/add_OGs_sets/N0.HOG0000482/add_OGs_set_num-1.txt\"\n"
     ]
    },
    {
     "name": "stderr",
     "output_type": "stream",
     "text": [
      "Warning message in file.create(missing_file):\n",
      "“cannot create file '../tea/2/add_OGs_sets/N0.HOG0000482/add_OGs_set_num-1.txt', reason 'No such file or directory'”\n"
     ]
    },
    {
     "name": "stdout",
     "output_type": "stream",
     "text": [
      "[1] \"N0.HOG0000483\"\n",
      "character(0)\n",
      "[1] 4\n",
      "[1] 4\n",
      "[1] \"../tea/2/add_OGs_sets/N0.HOG0000483/add_OGs_set_num-4.txt\"\n"
     ]
    },
    {
     "name": "stderr",
     "output_type": "stream",
     "text": [
      "Warning message in file.create(missing_file):\n",
      "“cannot create file '../tea/2/add_OGs_sets/N0.HOG0000483/add_OGs_set_num-4.txt', reason 'No such file or directory'”\n"
     ]
    },
    {
     "name": "stdout",
     "output_type": "stream",
     "text": [
      "[1] 3\n",
      "[1] \"../tea/2/add_OGs_sets/N0.HOG0000483/add_OGs_set_num-3.txt\"\n"
     ]
    },
    {
     "name": "stderr",
     "output_type": "stream",
     "text": [
      "Warning message in file.create(missing_file):\n",
      "“cannot create file '../tea/2/add_OGs_sets/N0.HOG0000483/add_OGs_set_num-3.txt', reason 'No such file or directory'”\n"
     ]
    },
    {
     "name": "stdout",
     "output_type": "stream",
     "text": [
      "[1] 2\n",
      "[1] \"../tea/2/add_OGs_sets/N0.HOG0000483/add_OGs_set_num-2.txt\"\n"
     ]
    },
    {
     "name": "stderr",
     "output_type": "stream",
     "text": [
      "Warning message in file.create(missing_file):\n",
      "“cannot create file '../tea/2/add_OGs_sets/N0.HOG0000483/add_OGs_set_num-2.txt', reason 'No such file or directory'”\n"
     ]
    },
    {
     "name": "stdout",
     "output_type": "stream",
     "text": [
      "[1] 1\n",
      "[1] \"../tea/2/add_OGs_sets/N0.HOG0000483/add_OGs_set_num-1.txt\"\n"
     ]
    },
    {
     "name": "stderr",
     "output_type": "stream",
     "text": [
      "Warning message in file.create(missing_file):\n",
      "“cannot create file '../tea/2/add_OGs_sets/N0.HOG0000483/add_OGs_set_num-1.txt', reason 'No such file or directory'”\n"
     ]
    },
    {
     "name": "stdout",
     "output_type": "stream",
     "text": [
      "[1] \"N0.HOG0000525\"\n",
      "character(0)\n",
      "[1] 4\n",
      "[1] 4\n",
      "[1] \"../tea/2/add_OGs_sets/N0.HOG0000525/add_OGs_set_num-4.txt\"\n"
     ]
    },
    {
     "name": "stderr",
     "output_type": "stream",
     "text": [
      "Warning message in file.create(missing_file):\n",
      "“cannot create file '../tea/2/add_OGs_sets/N0.HOG0000525/add_OGs_set_num-4.txt', reason 'No such file or directory'”\n"
     ]
    },
    {
     "name": "stdout",
     "output_type": "stream",
     "text": [
      "[1] 3\n",
      "[1] \"../tea/2/add_OGs_sets/N0.HOG0000525/add_OGs_set_num-3.txt\"\n"
     ]
    },
    {
     "name": "stderr",
     "output_type": "stream",
     "text": [
      "Warning message in file.create(missing_file):\n",
      "“cannot create file '../tea/2/add_OGs_sets/N0.HOG0000525/add_OGs_set_num-3.txt', reason 'No such file or directory'”\n"
     ]
    },
    {
     "name": "stdout",
     "output_type": "stream",
     "text": [
      "[1] 2\n",
      "[1] \"../tea/2/add_OGs_sets/N0.HOG0000525/add_OGs_set_num-2.txt\"\n"
     ]
    },
    {
     "name": "stderr",
     "output_type": "stream",
     "text": [
      "Warning message in file.create(missing_file):\n",
      "“cannot create file '../tea/2/add_OGs_sets/N0.HOG0000525/add_OGs_set_num-2.txt', reason 'No such file or directory'”\n"
     ]
    },
    {
     "name": "stdout",
     "output_type": "stream",
     "text": [
      "[1] 1\n",
      "[1] \"../tea/2/add_OGs_sets/N0.HOG0000525/add_OGs_set_num-1.txt\"\n"
     ]
    },
    {
     "name": "stderr",
     "output_type": "stream",
     "text": [
      "Warning message in file.create(missing_file):\n",
      "“cannot create file '../tea/2/add_OGs_sets/N0.HOG0000525/add_OGs_set_num-1.txt', reason 'No such file or directory'”\n"
     ]
    },
    {
     "name": "stdout",
     "output_type": "stream",
     "text": [
      "[1] \"N0.HOG0000529\"\n",
      "character(0)\n",
      "[1] 4\n",
      "[1] 4\n",
      "[1] \"../tea/2/add_OGs_sets/N0.HOG0000529/add_OGs_set_num-4.txt\"\n"
     ]
    },
    {
     "name": "stderr",
     "output_type": "stream",
     "text": [
      "Warning message in file.create(missing_file):\n",
      "“cannot create file '../tea/2/add_OGs_sets/N0.HOG0000529/add_OGs_set_num-4.txt', reason 'No such file or directory'”\n"
     ]
    },
    {
     "name": "stdout",
     "output_type": "stream",
     "text": [
      "[1] 3\n",
      "[1] \"../tea/2/add_OGs_sets/N0.HOG0000529/add_OGs_set_num-3.txt\"\n"
     ]
    },
    {
     "name": "stderr",
     "output_type": "stream",
     "text": [
      "Warning message in file.create(missing_file):\n",
      "“cannot create file '../tea/2/add_OGs_sets/N0.HOG0000529/add_OGs_set_num-3.txt', reason 'No such file or directory'”\n"
     ]
    },
    {
     "name": "stdout",
     "output_type": "stream",
     "text": [
      "[1] 2\n",
      "[1] \"../tea/2/add_OGs_sets/N0.HOG0000529/add_OGs_set_num-2.txt\"\n"
     ]
    },
    {
     "name": "stderr",
     "output_type": "stream",
     "text": [
      "Warning message in file.create(missing_file):\n",
      "“cannot create file '../tea/2/add_OGs_sets/N0.HOG0000529/add_OGs_set_num-2.txt', reason 'No such file or directory'”\n"
     ]
    },
    {
     "name": "stdout",
     "output_type": "stream",
     "text": [
      "[1] 1\n",
      "[1] \"../tea/2/add_OGs_sets/N0.HOG0000529/add_OGs_set_num-1.txt\"\n"
     ]
    },
    {
     "name": "stderr",
     "output_type": "stream",
     "text": [
      "Warning message in file.create(missing_file):\n",
      "“cannot create file '../tea/2/add_OGs_sets/N0.HOG0000529/add_OGs_set_num-1.txt', reason 'No such file or directory'”\n"
     ]
    },
    {
     "name": "stdout",
     "output_type": "stream",
     "text": [
      "[1] \"N0.HOG0000535\"\n",
      "character(0)\n",
      "[1] 4\n",
      "[1] 4\n",
      "[1] \"../tea/2/add_OGs_sets/N0.HOG0000535/add_OGs_set_num-4.txt\"\n"
     ]
    },
    {
     "name": "stderr",
     "output_type": "stream",
     "text": [
      "Warning message in file.create(missing_file):\n",
      "“cannot create file '../tea/2/add_OGs_sets/N0.HOG0000535/add_OGs_set_num-4.txt', reason 'No such file or directory'”\n"
     ]
    },
    {
     "name": "stdout",
     "output_type": "stream",
     "text": [
      "[1] 3\n",
      "[1] \"../tea/2/add_OGs_sets/N0.HOG0000535/add_OGs_set_num-3.txt\"\n"
     ]
    },
    {
     "name": "stderr",
     "output_type": "stream",
     "text": [
      "Warning message in file.create(missing_file):\n",
      "“cannot create file '../tea/2/add_OGs_sets/N0.HOG0000535/add_OGs_set_num-3.txt', reason 'No such file or directory'”\n"
     ]
    },
    {
     "name": "stdout",
     "output_type": "stream",
     "text": [
      "[1] 2\n",
      "[1] \"../tea/2/add_OGs_sets/N0.HOG0000535/add_OGs_set_num-2.txt\"\n"
     ]
    },
    {
     "name": "stderr",
     "output_type": "stream",
     "text": [
      "Warning message in file.create(missing_file):\n",
      "“cannot create file '../tea/2/add_OGs_sets/N0.HOG0000535/add_OGs_set_num-2.txt', reason 'No such file or directory'”\n"
     ]
    },
    {
     "name": "stdout",
     "output_type": "stream",
     "text": [
      "[1] 1\n",
      "[1] \"../tea/2/add_OGs_sets/N0.HOG0000535/add_OGs_set_num-1.txt\"\n"
     ]
    },
    {
     "name": "stderr",
     "output_type": "stream",
     "text": [
      "Warning message in file.create(missing_file):\n",
      "“cannot create file '../tea/2/add_OGs_sets/N0.HOG0000535/add_OGs_set_num-1.txt', reason 'No such file or directory'”\n"
     ]
    },
    {
     "name": "stdout",
     "output_type": "stream",
     "text": [
      "[1] \"N0.HOG0000575\"\n",
      "character(0)\n",
      "[1] 4\n",
      "[1] 4\n",
      "[1] \"../tea/2/add_OGs_sets/N0.HOG0000575/add_OGs_set_num-4.txt\"\n"
     ]
    },
    {
     "name": "stderr",
     "output_type": "stream",
     "text": [
      "Warning message in file.create(missing_file):\n",
      "“cannot create file '../tea/2/add_OGs_sets/N0.HOG0000575/add_OGs_set_num-4.txt', reason 'No such file or directory'”\n"
     ]
    },
    {
     "name": "stdout",
     "output_type": "stream",
     "text": [
      "[1] 3\n",
      "[1] \"../tea/2/add_OGs_sets/N0.HOG0000575/add_OGs_set_num-3.txt\"\n"
     ]
    },
    {
     "name": "stderr",
     "output_type": "stream",
     "text": [
      "Warning message in file.create(missing_file):\n",
      "“cannot create file '../tea/2/add_OGs_sets/N0.HOG0000575/add_OGs_set_num-3.txt', reason 'No such file or directory'”\n"
     ]
    },
    {
     "name": "stdout",
     "output_type": "stream",
     "text": [
      "[1] 2\n",
      "[1] \"../tea/2/add_OGs_sets/N0.HOG0000575/add_OGs_set_num-2.txt\"\n"
     ]
    },
    {
     "name": "stderr",
     "output_type": "stream",
     "text": [
      "Warning message in file.create(missing_file):\n",
      "“cannot create file '../tea/2/add_OGs_sets/N0.HOG0000575/add_OGs_set_num-2.txt', reason 'No such file or directory'”\n"
     ]
    },
    {
     "name": "stdout",
     "output_type": "stream",
     "text": [
      "[1] 1\n",
      "[1] \"../tea/2/add_OGs_sets/N0.HOG0000575/add_OGs_set_num-1.txt\"\n"
     ]
    },
    {
     "name": "stderr",
     "output_type": "stream",
     "text": [
      "Warning message in file.create(missing_file):\n",
      "“cannot create file '../tea/2/add_OGs_sets/N0.HOG0000575/add_OGs_set_num-1.txt', reason 'No such file or directory'”\n"
     ]
    },
    {
     "name": "stdout",
     "output_type": "stream",
     "text": [
      "[1] \"N0.HOG0000583\"\n",
      "character(0)\n",
      "[1] 4\n",
      "[1] 4\n",
      "[1] \"../tea/2/add_OGs_sets/N0.HOG0000583/add_OGs_set_num-4.txt\"\n"
     ]
    },
    {
     "name": "stderr",
     "output_type": "stream",
     "text": [
      "Warning message in file.create(missing_file):\n",
      "“cannot create file '../tea/2/add_OGs_sets/N0.HOG0000583/add_OGs_set_num-4.txt', reason 'No such file or directory'”\n"
     ]
    },
    {
     "name": "stdout",
     "output_type": "stream",
     "text": [
      "[1] 3\n",
      "[1] \"../tea/2/add_OGs_sets/N0.HOG0000583/add_OGs_set_num-3.txt\"\n"
     ]
    },
    {
     "name": "stderr",
     "output_type": "stream",
     "text": [
      "Warning message in file.create(missing_file):\n",
      "“cannot create file '../tea/2/add_OGs_sets/N0.HOG0000583/add_OGs_set_num-3.txt', reason 'No such file or directory'”\n"
     ]
    },
    {
     "name": "stdout",
     "output_type": "stream",
     "text": [
      "[1] 2\n",
      "[1] \"../tea/2/add_OGs_sets/N0.HOG0000583/add_OGs_set_num-2.txt\"\n"
     ]
    },
    {
     "name": "stderr",
     "output_type": "stream",
     "text": [
      "Warning message in file.create(missing_file):\n",
      "“cannot create file '../tea/2/add_OGs_sets/N0.HOG0000583/add_OGs_set_num-2.txt', reason 'No such file or directory'”\n"
     ]
    },
    {
     "name": "stdout",
     "output_type": "stream",
     "text": [
      "[1] 1\n",
      "[1] \"../tea/2/add_OGs_sets/N0.HOG0000583/add_OGs_set_num-1.txt\"\n"
     ]
    },
    {
     "name": "stderr",
     "output_type": "stream",
     "text": [
      "Warning message in file.create(missing_file):\n",
      "“cannot create file '../tea/2/add_OGs_sets/N0.HOG0000583/add_OGs_set_num-1.txt', reason 'No such file or directory'”\n"
     ]
    },
    {
     "name": "stdout",
     "output_type": "stream",
     "text": [
      "[1] \"N0.HOG0000584\"\n",
      "character(0)\n",
      "[1] 4\n",
      "[1] 4\n",
      "[1] \"../tea/2/add_OGs_sets/N0.HOG0000584/add_OGs_set_num-4.txt\"\n"
     ]
    },
    {
     "name": "stderr",
     "output_type": "stream",
     "text": [
      "Warning message in file.create(missing_file):\n",
      "“cannot create file '../tea/2/add_OGs_sets/N0.HOG0000584/add_OGs_set_num-4.txt', reason 'No such file or directory'”\n"
     ]
    },
    {
     "name": "stdout",
     "output_type": "stream",
     "text": [
      "[1] 3\n",
      "[1] \"../tea/2/add_OGs_sets/N0.HOG0000584/add_OGs_set_num-3.txt\"\n"
     ]
    },
    {
     "name": "stderr",
     "output_type": "stream",
     "text": [
      "Warning message in file.create(missing_file):\n",
      "“cannot create file '../tea/2/add_OGs_sets/N0.HOG0000584/add_OGs_set_num-3.txt', reason 'No such file or directory'”\n"
     ]
    },
    {
     "name": "stdout",
     "output_type": "stream",
     "text": [
      "[1] 2\n",
      "[1] \"../tea/2/add_OGs_sets/N0.HOG0000584/add_OGs_set_num-2.txt\"\n"
     ]
    },
    {
     "name": "stderr",
     "output_type": "stream",
     "text": [
      "Warning message in file.create(missing_file):\n",
      "“cannot create file '../tea/2/add_OGs_sets/N0.HOG0000584/add_OGs_set_num-2.txt', reason 'No such file or directory'”\n"
     ]
    },
    {
     "name": "stdout",
     "output_type": "stream",
     "text": [
      "[1] 1\n",
      "[1] \"../tea/2/add_OGs_sets/N0.HOG0000584/add_OGs_set_num-1.txt\"\n"
     ]
    },
    {
     "name": "stderr",
     "output_type": "stream",
     "text": [
      "Warning message in file.create(missing_file):\n",
      "“cannot create file '../tea/2/add_OGs_sets/N0.HOG0000584/add_OGs_set_num-1.txt', reason 'No such file or directory'”\n"
     ]
    },
    {
     "name": "stdout",
     "output_type": "stream",
     "text": [
      "[1] \"N0.HOG0000585\"\n",
      "character(0)\n",
      "[1] 4\n",
      "[1] 4\n",
      "[1] \"../tea/2/add_OGs_sets/N0.HOG0000585/add_OGs_set_num-4.txt\"\n"
     ]
    },
    {
     "name": "stderr",
     "output_type": "stream",
     "text": [
      "Warning message in file.create(missing_file):\n",
      "“cannot create file '../tea/2/add_OGs_sets/N0.HOG0000585/add_OGs_set_num-4.txt', reason 'No such file or directory'”\n"
     ]
    },
    {
     "name": "stdout",
     "output_type": "stream",
     "text": [
      "[1] 3\n",
      "[1] \"../tea/2/add_OGs_sets/N0.HOG0000585/add_OGs_set_num-3.txt\"\n"
     ]
    },
    {
     "name": "stderr",
     "output_type": "stream",
     "text": [
      "Warning message in file.create(missing_file):\n",
      "“cannot create file '../tea/2/add_OGs_sets/N0.HOG0000585/add_OGs_set_num-3.txt', reason 'No such file or directory'”\n"
     ]
    },
    {
     "name": "stdout",
     "output_type": "stream",
     "text": [
      "[1] 2\n",
      "[1] \"../tea/2/add_OGs_sets/N0.HOG0000585/add_OGs_set_num-2.txt\"\n"
     ]
    },
    {
     "name": "stderr",
     "output_type": "stream",
     "text": [
      "Warning message in file.create(missing_file):\n",
      "“cannot create file '../tea/2/add_OGs_sets/N0.HOG0000585/add_OGs_set_num-2.txt', reason 'No such file or directory'”\n"
     ]
    },
    {
     "name": "stdout",
     "output_type": "stream",
     "text": [
      "[1] 1\n",
      "[1] \"../tea/2/add_OGs_sets/N0.HOG0000585/add_OGs_set_num-1.txt\"\n"
     ]
    },
    {
     "name": "stderr",
     "output_type": "stream",
     "text": [
      "Warning message in file.create(missing_file):\n",
      "“cannot create file '../tea/2/add_OGs_sets/N0.HOG0000585/add_OGs_set_num-1.txt', reason 'No such file or directory'”\n"
     ]
    },
    {
     "name": "stdout",
     "output_type": "stream",
     "text": [
      "[1] \"N0.HOG0000640\"\n",
      "character(0)\n",
      "[1] 4\n",
      "[1] 4\n",
      "[1] \"../tea/2/add_OGs_sets/N0.HOG0000640/add_OGs_set_num-4.txt\"\n"
     ]
    },
    {
     "name": "stderr",
     "output_type": "stream",
     "text": [
      "Warning message in file.create(missing_file):\n",
      "“cannot create file '../tea/2/add_OGs_sets/N0.HOG0000640/add_OGs_set_num-4.txt', reason 'No such file or directory'”\n"
     ]
    },
    {
     "name": "stdout",
     "output_type": "stream",
     "text": [
      "[1] 3\n",
      "[1] \"../tea/2/add_OGs_sets/N0.HOG0000640/add_OGs_set_num-3.txt\"\n"
     ]
    },
    {
     "name": "stderr",
     "output_type": "stream",
     "text": [
      "Warning message in file.create(missing_file):\n",
      "“cannot create file '../tea/2/add_OGs_sets/N0.HOG0000640/add_OGs_set_num-3.txt', reason 'No such file or directory'”\n"
     ]
    },
    {
     "name": "stdout",
     "output_type": "stream",
     "text": [
      "[1] 2\n",
      "[1] \"../tea/2/add_OGs_sets/N0.HOG0000640/add_OGs_set_num-2.txt\"\n"
     ]
    },
    {
     "name": "stderr",
     "output_type": "stream",
     "text": [
      "Warning message in file.create(missing_file):\n",
      "“cannot create file '../tea/2/add_OGs_sets/N0.HOG0000640/add_OGs_set_num-2.txt', reason 'No such file or directory'”\n"
     ]
    },
    {
     "name": "stdout",
     "output_type": "stream",
     "text": [
      "[1] 1\n",
      "[1] \"../tea/2/add_OGs_sets/N0.HOG0000640/add_OGs_set_num-1.txt\"\n"
     ]
    },
    {
     "name": "stderr",
     "output_type": "stream",
     "text": [
      "Warning message in file.create(missing_file):\n",
      "“cannot create file '../tea/2/add_OGs_sets/N0.HOG0000640/add_OGs_set_num-1.txt', reason 'No such file or directory'”\n"
     ]
    },
    {
     "name": "stdout",
     "output_type": "stream",
     "text": [
      "[1] \"N0.HOG0000649\"\n",
      "character(0)\n",
      "[1] 4\n",
      "[1] 4\n",
      "[1] \"../tea/2/add_OGs_sets/N0.HOG0000649/add_OGs_set_num-4.txt\"\n"
     ]
    },
    {
     "name": "stderr",
     "output_type": "stream",
     "text": [
      "Warning message in file.create(missing_file):\n",
      "“cannot create file '../tea/2/add_OGs_sets/N0.HOG0000649/add_OGs_set_num-4.txt', reason 'No such file or directory'”\n"
     ]
    },
    {
     "name": "stdout",
     "output_type": "stream",
     "text": [
      "[1] 3\n",
      "[1] \"../tea/2/add_OGs_sets/N0.HOG0000649/add_OGs_set_num-3.txt\"\n"
     ]
    },
    {
     "name": "stderr",
     "output_type": "stream",
     "text": [
      "Warning message in file.create(missing_file):\n",
      "“cannot create file '../tea/2/add_OGs_sets/N0.HOG0000649/add_OGs_set_num-3.txt', reason 'No such file or directory'”\n"
     ]
    },
    {
     "name": "stdout",
     "output_type": "stream",
     "text": [
      "[1] 2\n",
      "[1] \"../tea/2/add_OGs_sets/N0.HOG0000649/add_OGs_set_num-2.txt\"\n"
     ]
    },
    {
     "name": "stderr",
     "output_type": "stream",
     "text": [
      "Warning message in file.create(missing_file):\n",
      "“cannot create file '../tea/2/add_OGs_sets/N0.HOG0000649/add_OGs_set_num-2.txt', reason 'No such file or directory'”\n"
     ]
    },
    {
     "name": "stdout",
     "output_type": "stream",
     "text": [
      "[1] 1\n",
      "[1] \"../tea/2/add_OGs_sets/N0.HOG0000649/add_OGs_set_num-1.txt\"\n"
     ]
    },
    {
     "name": "stderr",
     "output_type": "stream",
     "text": [
      "Warning message in file.create(missing_file):\n",
      "“cannot create file '../tea/2/add_OGs_sets/N0.HOG0000649/add_OGs_set_num-1.txt', reason 'No such file or directory'”\n"
     ]
    },
    {
     "name": "stdout",
     "output_type": "stream",
     "text": [
      "[1] \"N0.HOG0000650\"\n",
      "character(0)\n",
      "[1] 4\n",
      "[1] 4\n",
      "[1] \"../tea/2/add_OGs_sets/N0.HOG0000650/add_OGs_set_num-4.txt\"\n"
     ]
    },
    {
     "name": "stderr",
     "output_type": "stream",
     "text": [
      "Warning message in file.create(missing_file):\n",
      "“cannot create file '../tea/2/add_OGs_sets/N0.HOG0000650/add_OGs_set_num-4.txt', reason 'No such file or directory'”\n"
     ]
    },
    {
     "name": "stdout",
     "output_type": "stream",
     "text": [
      "[1] 3\n",
      "[1] \"../tea/2/add_OGs_sets/N0.HOG0000650/add_OGs_set_num-3.txt\"\n"
     ]
    },
    {
     "name": "stderr",
     "output_type": "stream",
     "text": [
      "Warning message in file.create(missing_file):\n",
      "“cannot create file '../tea/2/add_OGs_sets/N0.HOG0000650/add_OGs_set_num-3.txt', reason 'No such file or directory'”\n"
     ]
    },
    {
     "name": "stdout",
     "output_type": "stream",
     "text": [
      "[1] 2\n",
      "[1] \"../tea/2/add_OGs_sets/N0.HOG0000650/add_OGs_set_num-2.txt\"\n"
     ]
    },
    {
     "name": "stderr",
     "output_type": "stream",
     "text": [
      "Warning message in file.create(missing_file):\n",
      "“cannot create file '../tea/2/add_OGs_sets/N0.HOG0000650/add_OGs_set_num-2.txt', reason 'No such file or directory'”\n"
     ]
    },
    {
     "name": "stdout",
     "output_type": "stream",
     "text": [
      "[1] 1\n",
      "[1] \"../tea/2/add_OGs_sets/N0.HOG0000650/add_OGs_set_num-1.txt\"\n"
     ]
    },
    {
     "name": "stderr",
     "output_type": "stream",
     "text": [
      "Warning message in file.create(missing_file):\n",
      "“cannot create file '../tea/2/add_OGs_sets/N0.HOG0000650/add_OGs_set_num-1.txt', reason 'No such file or directory'”\n"
     ]
    },
    {
     "name": "stdout",
     "output_type": "stream",
     "text": [
      "[1] \"N0.HOG0000653\"\n",
      "character(0)\n",
      "[1] 4\n",
      "[1] 4\n",
      "[1] \"../tea/2/add_OGs_sets/N0.HOG0000653/add_OGs_set_num-4.txt\"\n"
     ]
    },
    {
     "name": "stderr",
     "output_type": "stream",
     "text": [
      "Warning message in file.create(missing_file):\n",
      "“cannot create file '../tea/2/add_OGs_sets/N0.HOG0000653/add_OGs_set_num-4.txt', reason 'No such file or directory'”\n"
     ]
    },
    {
     "name": "stdout",
     "output_type": "stream",
     "text": [
      "[1] 3\n",
      "[1] \"../tea/2/add_OGs_sets/N0.HOG0000653/add_OGs_set_num-3.txt\"\n"
     ]
    },
    {
     "name": "stderr",
     "output_type": "stream",
     "text": [
      "Warning message in file.create(missing_file):\n",
      "“cannot create file '../tea/2/add_OGs_sets/N0.HOG0000653/add_OGs_set_num-3.txt', reason 'No such file or directory'”\n"
     ]
    },
    {
     "name": "stdout",
     "output_type": "stream",
     "text": [
      "[1] 2\n",
      "[1] \"../tea/2/add_OGs_sets/N0.HOG0000653/add_OGs_set_num-2.txt\"\n"
     ]
    },
    {
     "name": "stderr",
     "output_type": "stream",
     "text": [
      "Warning message in file.create(missing_file):\n",
      "“cannot create file '../tea/2/add_OGs_sets/N0.HOG0000653/add_OGs_set_num-2.txt', reason 'No such file or directory'”\n"
     ]
    },
    {
     "name": "stdout",
     "output_type": "stream",
     "text": [
      "[1] 1\n",
      "[1] \"../tea/2/add_OGs_sets/N0.HOG0000653/add_OGs_set_num-1.txt\"\n"
     ]
    },
    {
     "name": "stderr",
     "output_type": "stream",
     "text": [
      "Warning message in file.create(missing_file):\n",
      "“cannot create file '../tea/2/add_OGs_sets/N0.HOG0000653/add_OGs_set_num-1.txt', reason 'No such file or directory'”\n"
     ]
    },
    {
     "name": "stdout",
     "output_type": "stream",
     "text": [
      "[1] \"N0.HOG0000661\"\n",
      "character(0)\n",
      "[1] 4\n",
      "[1] 4\n",
      "[1] \"../tea/2/add_OGs_sets/N0.HOG0000661/add_OGs_set_num-4.txt\"\n"
     ]
    },
    {
     "name": "stderr",
     "output_type": "stream",
     "text": [
      "Warning message in file.create(missing_file):\n",
      "“cannot create file '../tea/2/add_OGs_sets/N0.HOG0000661/add_OGs_set_num-4.txt', reason 'No such file or directory'”\n"
     ]
    },
    {
     "name": "stdout",
     "output_type": "stream",
     "text": [
      "[1] 3\n",
      "[1] \"../tea/2/add_OGs_sets/N0.HOG0000661/add_OGs_set_num-3.txt\"\n"
     ]
    },
    {
     "name": "stderr",
     "output_type": "stream",
     "text": [
      "Warning message in file.create(missing_file):\n",
      "“cannot create file '../tea/2/add_OGs_sets/N0.HOG0000661/add_OGs_set_num-3.txt', reason 'No such file or directory'”\n"
     ]
    },
    {
     "name": "stdout",
     "output_type": "stream",
     "text": [
      "[1] 2\n",
      "[1] \"../tea/2/add_OGs_sets/N0.HOG0000661/add_OGs_set_num-2.txt\"\n"
     ]
    },
    {
     "name": "stderr",
     "output_type": "stream",
     "text": [
      "Warning message in file.create(missing_file):\n",
      "“cannot create file '../tea/2/add_OGs_sets/N0.HOG0000661/add_OGs_set_num-2.txt', reason 'No such file or directory'”\n"
     ]
    },
    {
     "name": "stdout",
     "output_type": "stream",
     "text": [
      "[1] 1\n",
      "[1] \"../tea/2/add_OGs_sets/N0.HOG0000661/add_OGs_set_num-1.txt\"\n"
     ]
    },
    {
     "name": "stderr",
     "output_type": "stream",
     "text": [
      "Warning message in file.create(missing_file):\n",
      "“cannot create file '../tea/2/add_OGs_sets/N0.HOG0000661/add_OGs_set_num-1.txt', reason 'No such file or directory'”\n"
     ]
    },
    {
     "name": "stdout",
     "output_type": "stream",
     "text": [
      "[1] \"N0.HOG0000664\"\n",
      "character(0)\n",
      "[1] 4\n",
      "[1] 4\n",
      "[1] \"../tea/2/add_OGs_sets/N0.HOG0000664/add_OGs_set_num-4.txt\"\n"
     ]
    },
    {
     "name": "stderr",
     "output_type": "stream",
     "text": [
      "Warning message in file.create(missing_file):\n",
      "“cannot create file '../tea/2/add_OGs_sets/N0.HOG0000664/add_OGs_set_num-4.txt', reason 'No such file or directory'”\n"
     ]
    },
    {
     "name": "stdout",
     "output_type": "stream",
     "text": [
      "[1] 3\n",
      "[1] \"../tea/2/add_OGs_sets/N0.HOG0000664/add_OGs_set_num-3.txt\"\n"
     ]
    },
    {
     "name": "stderr",
     "output_type": "stream",
     "text": [
      "Warning message in file.create(missing_file):\n",
      "“cannot create file '../tea/2/add_OGs_sets/N0.HOG0000664/add_OGs_set_num-3.txt', reason 'No such file or directory'”\n"
     ]
    },
    {
     "name": "stdout",
     "output_type": "stream",
     "text": [
      "[1] 2\n",
      "[1] \"../tea/2/add_OGs_sets/N0.HOG0000664/add_OGs_set_num-2.txt\"\n"
     ]
    },
    {
     "name": "stderr",
     "output_type": "stream",
     "text": [
      "Warning message in file.create(missing_file):\n",
      "“cannot create file '../tea/2/add_OGs_sets/N0.HOG0000664/add_OGs_set_num-2.txt', reason 'No such file or directory'”\n"
     ]
    },
    {
     "name": "stdout",
     "output_type": "stream",
     "text": [
      "[1] 1\n",
      "[1] \"../tea/2/add_OGs_sets/N0.HOG0000664/add_OGs_set_num-1.txt\"\n"
     ]
    },
    {
     "name": "stderr",
     "output_type": "stream",
     "text": [
      "Warning message in file.create(missing_file):\n",
      "“cannot create file '../tea/2/add_OGs_sets/N0.HOG0000664/add_OGs_set_num-1.txt', reason 'No such file or directory'”\n"
     ]
    },
    {
     "name": "stdout",
     "output_type": "stream",
     "text": [
      "[1] \"N0.HOG0000723\"\n",
      "character(0)\n",
      "[1] 4\n",
      "[1] 4\n",
      "[1] \"../tea/2/add_OGs_sets/N0.HOG0000723/add_OGs_set_num-4.txt\"\n"
     ]
    },
    {
     "name": "stderr",
     "output_type": "stream",
     "text": [
      "Warning message in file.create(missing_file):\n",
      "“cannot create file '../tea/2/add_OGs_sets/N0.HOG0000723/add_OGs_set_num-4.txt', reason 'No such file or directory'”\n"
     ]
    },
    {
     "name": "stdout",
     "output_type": "stream",
     "text": [
      "[1] 3\n",
      "[1] \"../tea/2/add_OGs_sets/N0.HOG0000723/add_OGs_set_num-3.txt\"\n"
     ]
    },
    {
     "name": "stderr",
     "output_type": "stream",
     "text": [
      "Warning message in file.create(missing_file):\n",
      "“cannot create file '../tea/2/add_OGs_sets/N0.HOG0000723/add_OGs_set_num-3.txt', reason 'No such file or directory'”\n"
     ]
    },
    {
     "name": "stdout",
     "output_type": "stream",
     "text": [
      "[1] 2\n",
      "[1] \"../tea/2/add_OGs_sets/N0.HOG0000723/add_OGs_set_num-2.txt\"\n"
     ]
    },
    {
     "name": "stderr",
     "output_type": "stream",
     "text": [
      "Warning message in file.create(missing_file):\n",
      "“cannot create file '../tea/2/add_OGs_sets/N0.HOG0000723/add_OGs_set_num-2.txt', reason 'No such file or directory'”\n"
     ]
    },
    {
     "name": "stdout",
     "output_type": "stream",
     "text": [
      "[1] 1\n",
      "[1] \"../tea/2/add_OGs_sets/N0.HOG0000723/add_OGs_set_num-1.txt\"\n"
     ]
    },
    {
     "name": "stderr",
     "output_type": "stream",
     "text": [
      "Warning message in file.create(missing_file):\n",
      "“cannot create file '../tea/2/add_OGs_sets/N0.HOG0000723/add_OGs_set_num-1.txt', reason 'No such file or directory'”\n"
     ]
    },
    {
     "name": "stdout",
     "output_type": "stream",
     "text": [
      "[1] \"N0.HOG0000735\"\n",
      "character(0)\n",
      "[1] 4\n",
      "[1] 4\n",
      "[1] \"../tea/2/add_OGs_sets/N0.HOG0000735/add_OGs_set_num-4.txt\"\n"
     ]
    },
    {
     "name": "stderr",
     "output_type": "stream",
     "text": [
      "Warning message in file.create(missing_file):\n",
      "“cannot create file '../tea/2/add_OGs_sets/N0.HOG0000735/add_OGs_set_num-4.txt', reason 'No such file or directory'”\n"
     ]
    },
    {
     "name": "stdout",
     "output_type": "stream",
     "text": [
      "[1] 3\n",
      "[1] \"../tea/2/add_OGs_sets/N0.HOG0000735/add_OGs_set_num-3.txt\"\n"
     ]
    },
    {
     "name": "stderr",
     "output_type": "stream",
     "text": [
      "Warning message in file.create(missing_file):\n",
      "“cannot create file '../tea/2/add_OGs_sets/N0.HOG0000735/add_OGs_set_num-3.txt', reason 'No such file or directory'”\n"
     ]
    },
    {
     "name": "stdout",
     "output_type": "stream",
     "text": [
      "[1] 2\n",
      "[1] \"../tea/2/add_OGs_sets/N0.HOG0000735/add_OGs_set_num-2.txt\"\n"
     ]
    },
    {
     "name": "stderr",
     "output_type": "stream",
     "text": [
      "Warning message in file.create(missing_file):\n",
      "“cannot create file '../tea/2/add_OGs_sets/N0.HOG0000735/add_OGs_set_num-2.txt', reason 'No such file or directory'”\n"
     ]
    },
    {
     "name": "stdout",
     "output_type": "stream",
     "text": [
      "[1] 1\n",
      "[1] \"../tea/2/add_OGs_sets/N0.HOG0000735/add_OGs_set_num-1.txt\"\n"
     ]
    },
    {
     "name": "stderr",
     "output_type": "stream",
     "text": [
      "Warning message in file.create(missing_file):\n",
      "“cannot create file '../tea/2/add_OGs_sets/N0.HOG0000735/add_OGs_set_num-1.txt', reason 'No such file or directory'”\n"
     ]
    },
    {
     "name": "stdout",
     "output_type": "stream",
     "text": [
      "[1] \"N0.HOG0000736\"\n",
      "character(0)\n",
      "[1] 4\n",
      "[1] 4\n",
      "[1] \"../tea/2/add_OGs_sets/N0.HOG0000736/add_OGs_set_num-4.txt\"\n"
     ]
    },
    {
     "name": "stderr",
     "output_type": "stream",
     "text": [
      "Warning message in file.create(missing_file):\n",
      "“cannot create file '../tea/2/add_OGs_sets/N0.HOG0000736/add_OGs_set_num-4.txt', reason 'No such file or directory'”\n"
     ]
    },
    {
     "name": "stdout",
     "output_type": "stream",
     "text": [
      "[1] 3\n",
      "[1] \"../tea/2/add_OGs_sets/N0.HOG0000736/add_OGs_set_num-3.txt\"\n"
     ]
    },
    {
     "name": "stderr",
     "output_type": "stream",
     "text": [
      "Warning message in file.create(missing_file):\n",
      "“cannot create file '../tea/2/add_OGs_sets/N0.HOG0000736/add_OGs_set_num-3.txt', reason 'No such file or directory'”\n"
     ]
    },
    {
     "name": "stdout",
     "output_type": "stream",
     "text": [
      "[1] 2\n",
      "[1] \"../tea/2/add_OGs_sets/N0.HOG0000736/add_OGs_set_num-2.txt\"\n"
     ]
    },
    {
     "name": "stderr",
     "output_type": "stream",
     "text": [
      "Warning message in file.create(missing_file):\n",
      "“cannot create file '../tea/2/add_OGs_sets/N0.HOG0000736/add_OGs_set_num-2.txt', reason 'No such file or directory'”\n"
     ]
    },
    {
     "name": "stdout",
     "output_type": "stream",
     "text": [
      "[1] 1\n",
      "[1] \"../tea/2/add_OGs_sets/N0.HOG0000736/add_OGs_set_num-1.txt\"\n"
     ]
    },
    {
     "name": "stderr",
     "output_type": "stream",
     "text": [
      "Warning message in file.create(missing_file):\n",
      "“cannot create file '../tea/2/add_OGs_sets/N0.HOG0000736/add_OGs_set_num-1.txt', reason 'No such file or directory'”\n"
     ]
    },
    {
     "name": "stdout",
     "output_type": "stream",
     "text": [
      "[1] \"N0.HOG0000805\"\n",
      "character(0)\n",
      "[1] 4\n",
      "[1] 4\n",
      "[1] \"../tea/2/add_OGs_sets/N0.HOG0000805/add_OGs_set_num-4.txt\"\n"
     ]
    },
    {
     "name": "stderr",
     "output_type": "stream",
     "text": [
      "Warning message in file.create(missing_file):\n",
      "“cannot create file '../tea/2/add_OGs_sets/N0.HOG0000805/add_OGs_set_num-4.txt', reason 'No such file or directory'”\n"
     ]
    },
    {
     "name": "stdout",
     "output_type": "stream",
     "text": [
      "[1] 3\n",
      "[1] \"../tea/2/add_OGs_sets/N0.HOG0000805/add_OGs_set_num-3.txt\"\n"
     ]
    },
    {
     "name": "stderr",
     "output_type": "stream",
     "text": [
      "Warning message in file.create(missing_file):\n",
      "“cannot create file '../tea/2/add_OGs_sets/N0.HOG0000805/add_OGs_set_num-3.txt', reason 'No such file or directory'”\n"
     ]
    },
    {
     "name": "stdout",
     "output_type": "stream",
     "text": [
      "[1] 2\n",
      "[1] \"../tea/2/add_OGs_sets/N0.HOG0000805/add_OGs_set_num-2.txt\"\n"
     ]
    },
    {
     "name": "stderr",
     "output_type": "stream",
     "text": [
      "Warning message in file.create(missing_file):\n",
      "“cannot create file '../tea/2/add_OGs_sets/N0.HOG0000805/add_OGs_set_num-2.txt', reason 'No such file or directory'”\n"
     ]
    },
    {
     "name": "stdout",
     "output_type": "stream",
     "text": [
      "[1] 1\n",
      "[1] \"../tea/2/add_OGs_sets/N0.HOG0000805/add_OGs_set_num-1.txt\"\n"
     ]
    },
    {
     "name": "stderr",
     "output_type": "stream",
     "text": [
      "Warning message in file.create(missing_file):\n",
      "“cannot create file '../tea/2/add_OGs_sets/N0.HOG0000805/add_OGs_set_num-1.txt', reason 'No such file or directory'”\n"
     ]
    },
    {
     "name": "stdout",
     "output_type": "stream",
     "text": [
      "[1] \"N0.HOG0000821\"\n",
      "character(0)\n",
      "[1] 4\n",
      "[1] 4\n",
      "[1] \"../tea/2/add_OGs_sets/N0.HOG0000821/add_OGs_set_num-4.txt\"\n"
     ]
    },
    {
     "name": "stderr",
     "output_type": "stream",
     "text": [
      "Warning message in file.create(missing_file):\n",
      "“cannot create file '../tea/2/add_OGs_sets/N0.HOG0000821/add_OGs_set_num-4.txt', reason 'No such file or directory'”\n"
     ]
    },
    {
     "name": "stdout",
     "output_type": "stream",
     "text": [
      "[1] 3\n",
      "[1] \"../tea/2/add_OGs_sets/N0.HOG0000821/add_OGs_set_num-3.txt\"\n"
     ]
    },
    {
     "name": "stderr",
     "output_type": "stream",
     "text": [
      "Warning message in file.create(missing_file):\n",
      "“cannot create file '../tea/2/add_OGs_sets/N0.HOG0000821/add_OGs_set_num-3.txt', reason 'No such file or directory'”\n"
     ]
    },
    {
     "name": "stdout",
     "output_type": "stream",
     "text": [
      "[1] 2\n",
      "[1] \"../tea/2/add_OGs_sets/N0.HOG0000821/add_OGs_set_num-2.txt\"\n"
     ]
    },
    {
     "name": "stderr",
     "output_type": "stream",
     "text": [
      "Warning message in file.create(missing_file):\n",
      "“cannot create file '../tea/2/add_OGs_sets/N0.HOG0000821/add_OGs_set_num-2.txt', reason 'No such file or directory'”\n"
     ]
    },
    {
     "name": "stdout",
     "output_type": "stream",
     "text": [
      "[1] 1\n",
      "[1] \"../tea/2/add_OGs_sets/N0.HOG0000821/add_OGs_set_num-1.txt\"\n"
     ]
    },
    {
     "name": "stderr",
     "output_type": "stream",
     "text": [
      "Warning message in file.create(missing_file):\n",
      "“cannot create file '../tea/2/add_OGs_sets/N0.HOG0000821/add_OGs_set_num-1.txt', reason 'No such file or directory'”\n"
     ]
    },
    {
     "name": "stdout",
     "output_type": "stream",
     "text": [
      "[1] \"N0.HOG0000823\"\n",
      "character(0)\n",
      "[1] 4\n",
      "[1] 4\n",
      "[1] \"../tea/2/add_OGs_sets/N0.HOG0000823/add_OGs_set_num-4.txt\"\n"
     ]
    },
    {
     "name": "stderr",
     "output_type": "stream",
     "text": [
      "Warning message in file.create(missing_file):\n",
      "“cannot create file '../tea/2/add_OGs_sets/N0.HOG0000823/add_OGs_set_num-4.txt', reason 'No such file or directory'”\n"
     ]
    },
    {
     "name": "stdout",
     "output_type": "stream",
     "text": [
      "[1] 3\n",
      "[1] \"../tea/2/add_OGs_sets/N0.HOG0000823/add_OGs_set_num-3.txt\"\n"
     ]
    },
    {
     "name": "stderr",
     "output_type": "stream",
     "text": [
      "Warning message in file.create(missing_file):\n",
      "“cannot create file '../tea/2/add_OGs_sets/N0.HOG0000823/add_OGs_set_num-3.txt', reason 'No such file or directory'”\n"
     ]
    },
    {
     "name": "stdout",
     "output_type": "stream",
     "text": [
      "[1] 2\n",
      "[1] \"../tea/2/add_OGs_sets/N0.HOG0000823/add_OGs_set_num-2.txt\"\n"
     ]
    },
    {
     "name": "stderr",
     "output_type": "stream",
     "text": [
      "Warning message in file.create(missing_file):\n",
      "“cannot create file '../tea/2/add_OGs_sets/N0.HOG0000823/add_OGs_set_num-2.txt', reason 'No such file or directory'”\n"
     ]
    },
    {
     "name": "stdout",
     "output_type": "stream",
     "text": [
      "[1] 1\n",
      "[1] \"../tea/2/add_OGs_sets/N0.HOG0000823/add_OGs_set_num-1.txt\"\n"
     ]
    },
    {
     "name": "stderr",
     "output_type": "stream",
     "text": [
      "Warning message in file.create(missing_file):\n",
      "“cannot create file '../tea/2/add_OGs_sets/N0.HOG0000823/add_OGs_set_num-1.txt', reason 'No such file or directory'”\n"
     ]
    },
    {
     "name": "stdout",
     "output_type": "stream",
     "text": [
      "[1] \"N0.HOG0000828\"\n",
      "character(0)\n",
      "[1] 4\n",
      "[1] 4\n",
      "[1] \"../tea/2/add_OGs_sets/N0.HOG0000828/add_OGs_set_num-4.txt\"\n"
     ]
    },
    {
     "name": "stderr",
     "output_type": "stream",
     "text": [
      "Warning message in file.create(missing_file):\n",
      "“cannot create file '../tea/2/add_OGs_sets/N0.HOG0000828/add_OGs_set_num-4.txt', reason 'No such file or directory'”\n"
     ]
    },
    {
     "name": "stdout",
     "output_type": "stream",
     "text": [
      "[1] 3\n",
      "[1] \"../tea/2/add_OGs_sets/N0.HOG0000828/add_OGs_set_num-3.txt\"\n"
     ]
    },
    {
     "name": "stderr",
     "output_type": "stream",
     "text": [
      "Warning message in file.create(missing_file):\n",
      "“cannot create file '../tea/2/add_OGs_sets/N0.HOG0000828/add_OGs_set_num-3.txt', reason 'No such file or directory'”\n"
     ]
    },
    {
     "name": "stdout",
     "output_type": "stream",
     "text": [
      "[1] 2\n",
      "[1] \"../tea/2/add_OGs_sets/N0.HOG0000828/add_OGs_set_num-2.txt\"\n"
     ]
    },
    {
     "name": "stderr",
     "output_type": "stream",
     "text": [
      "Warning message in file.create(missing_file):\n",
      "“cannot create file '../tea/2/add_OGs_sets/N0.HOG0000828/add_OGs_set_num-2.txt', reason 'No such file or directory'”\n"
     ]
    },
    {
     "name": "stdout",
     "output_type": "stream",
     "text": [
      "[1] 1\n",
      "[1] \"../tea/2/add_OGs_sets/N0.HOG0000828/add_OGs_set_num-1.txt\"\n"
     ]
    },
    {
     "name": "stderr",
     "output_type": "stream",
     "text": [
      "Warning message in file.create(missing_file):\n",
      "“cannot create file '../tea/2/add_OGs_sets/N0.HOG0000828/add_OGs_set_num-1.txt', reason 'No such file or directory'”\n"
     ]
    },
    {
     "name": "stdout",
     "output_type": "stream",
     "text": [
      "[1] \"N0.HOG0000830\"\n",
      "character(0)\n",
      "[1] 4\n",
      "[1] 4\n",
      "[1] \"../tea/2/add_OGs_sets/N0.HOG0000830/add_OGs_set_num-4.txt\"\n"
     ]
    },
    {
     "name": "stderr",
     "output_type": "stream",
     "text": [
      "Warning message in file.create(missing_file):\n",
      "“cannot create file '../tea/2/add_OGs_sets/N0.HOG0000830/add_OGs_set_num-4.txt', reason 'No such file or directory'”\n"
     ]
    },
    {
     "name": "stdout",
     "output_type": "stream",
     "text": [
      "[1] 3\n",
      "[1] \"../tea/2/add_OGs_sets/N0.HOG0000830/add_OGs_set_num-3.txt\"\n"
     ]
    },
    {
     "name": "stderr",
     "output_type": "stream",
     "text": [
      "Warning message in file.create(missing_file):\n",
      "“cannot create file '../tea/2/add_OGs_sets/N0.HOG0000830/add_OGs_set_num-3.txt', reason 'No such file or directory'”\n"
     ]
    },
    {
     "name": "stdout",
     "output_type": "stream",
     "text": [
      "[1] 2\n",
      "[1] \"../tea/2/add_OGs_sets/N0.HOG0000830/add_OGs_set_num-2.txt\"\n"
     ]
    },
    {
     "name": "stderr",
     "output_type": "stream",
     "text": [
      "Warning message in file.create(missing_file):\n",
      "“cannot create file '../tea/2/add_OGs_sets/N0.HOG0000830/add_OGs_set_num-2.txt', reason 'No such file or directory'”\n"
     ]
    },
    {
     "name": "stdout",
     "output_type": "stream",
     "text": [
      "[1] 1\n",
      "[1] \"../tea/2/add_OGs_sets/N0.HOG0000830/add_OGs_set_num-1.txt\"\n"
     ]
    },
    {
     "name": "stderr",
     "output_type": "stream",
     "text": [
      "Warning message in file.create(missing_file):\n",
      "“cannot create file '../tea/2/add_OGs_sets/N0.HOG0000830/add_OGs_set_num-1.txt', reason 'No such file or directory'”\n"
     ]
    },
    {
     "name": "stdout",
     "output_type": "stream",
     "text": [
      "[1] \"N0.HOG0000903\"\n",
      "character(0)\n",
      "[1] 4\n",
      "[1] 4\n",
      "[1] \"../tea/2/add_OGs_sets/N0.HOG0000903/add_OGs_set_num-4.txt\"\n"
     ]
    },
    {
     "name": "stderr",
     "output_type": "stream",
     "text": [
      "Warning message in file.create(missing_file):\n",
      "“cannot create file '../tea/2/add_OGs_sets/N0.HOG0000903/add_OGs_set_num-4.txt', reason 'No such file or directory'”\n"
     ]
    },
    {
     "name": "stdout",
     "output_type": "stream",
     "text": [
      "[1] 3\n",
      "[1] \"../tea/2/add_OGs_sets/N0.HOG0000903/add_OGs_set_num-3.txt\"\n"
     ]
    },
    {
     "name": "stderr",
     "output_type": "stream",
     "text": [
      "Warning message in file.create(missing_file):\n",
      "“cannot create file '../tea/2/add_OGs_sets/N0.HOG0000903/add_OGs_set_num-3.txt', reason 'No such file or directory'”\n"
     ]
    },
    {
     "name": "stdout",
     "output_type": "stream",
     "text": [
      "[1] 2\n",
      "[1] \"../tea/2/add_OGs_sets/N0.HOG0000903/add_OGs_set_num-2.txt\"\n"
     ]
    },
    {
     "name": "stderr",
     "output_type": "stream",
     "text": [
      "Warning message in file.create(missing_file):\n",
      "“cannot create file '../tea/2/add_OGs_sets/N0.HOG0000903/add_OGs_set_num-2.txt', reason 'No such file or directory'”\n"
     ]
    },
    {
     "name": "stdout",
     "output_type": "stream",
     "text": [
      "[1] 1\n",
      "[1] \"../tea/2/add_OGs_sets/N0.HOG0000903/add_OGs_set_num-1.txt\"\n"
     ]
    },
    {
     "name": "stderr",
     "output_type": "stream",
     "text": [
      "Warning message in file.create(missing_file):\n",
      "“cannot create file '../tea/2/add_OGs_sets/N0.HOG0000903/add_OGs_set_num-1.txt', reason 'No such file or directory'”\n"
     ]
    },
    {
     "name": "stdout",
     "output_type": "stream",
     "text": [
      "[1] \"N0.HOG0000906\"\n",
      "character(0)\n",
      "[1] 4\n",
      "[1] 4\n",
      "[1] \"../tea/2/add_OGs_sets/N0.HOG0000906/add_OGs_set_num-4.txt\"\n"
     ]
    },
    {
     "name": "stderr",
     "output_type": "stream",
     "text": [
      "Warning message in file.create(missing_file):\n",
      "“cannot create file '../tea/2/add_OGs_sets/N0.HOG0000906/add_OGs_set_num-4.txt', reason 'No such file or directory'”\n"
     ]
    },
    {
     "name": "stdout",
     "output_type": "stream",
     "text": [
      "[1] 3\n",
      "[1] \"../tea/2/add_OGs_sets/N0.HOG0000906/add_OGs_set_num-3.txt\"\n"
     ]
    },
    {
     "name": "stderr",
     "output_type": "stream",
     "text": [
      "Warning message in file.create(missing_file):\n",
      "“cannot create file '../tea/2/add_OGs_sets/N0.HOG0000906/add_OGs_set_num-3.txt', reason 'No such file or directory'”\n"
     ]
    },
    {
     "name": "stdout",
     "output_type": "stream",
     "text": [
      "[1] 2\n",
      "[1] \"../tea/2/add_OGs_sets/N0.HOG0000906/add_OGs_set_num-2.txt\"\n"
     ]
    },
    {
     "name": "stderr",
     "output_type": "stream",
     "text": [
      "Warning message in file.create(missing_file):\n",
      "“cannot create file '../tea/2/add_OGs_sets/N0.HOG0000906/add_OGs_set_num-2.txt', reason 'No such file or directory'”\n"
     ]
    },
    {
     "name": "stdout",
     "output_type": "stream",
     "text": [
      "[1] 1\n",
      "[1] \"../tea/2/add_OGs_sets/N0.HOG0000906/add_OGs_set_num-1.txt\"\n"
     ]
    },
    {
     "name": "stderr",
     "output_type": "stream",
     "text": [
      "Warning message in file.create(missing_file):\n",
      "“cannot create file '../tea/2/add_OGs_sets/N0.HOG0000906/add_OGs_set_num-1.txt', reason 'No such file or directory'”\n"
     ]
    },
    {
     "name": "stdout",
     "output_type": "stream",
     "text": [
      "[1] \"N0.HOG0000907\"\n",
      "character(0)\n",
      "[1] 4\n",
      "[1] 4\n",
      "[1] \"../tea/2/add_OGs_sets/N0.HOG0000907/add_OGs_set_num-4.txt\"\n"
     ]
    },
    {
     "name": "stderr",
     "output_type": "stream",
     "text": [
      "Warning message in file.create(missing_file):\n",
      "“cannot create file '../tea/2/add_OGs_sets/N0.HOG0000907/add_OGs_set_num-4.txt', reason 'No such file or directory'”\n"
     ]
    },
    {
     "name": "stdout",
     "output_type": "stream",
     "text": [
      "[1] 3\n",
      "[1] \"../tea/2/add_OGs_sets/N0.HOG0000907/add_OGs_set_num-3.txt\"\n"
     ]
    },
    {
     "name": "stderr",
     "output_type": "stream",
     "text": [
      "Warning message in file.create(missing_file):\n",
      "“cannot create file '../tea/2/add_OGs_sets/N0.HOG0000907/add_OGs_set_num-3.txt', reason 'No such file or directory'”\n"
     ]
    },
    {
     "name": "stdout",
     "output_type": "stream",
     "text": [
      "[1] 2\n",
      "[1] \"../tea/2/add_OGs_sets/N0.HOG0000907/add_OGs_set_num-2.txt\"\n"
     ]
    },
    {
     "name": "stderr",
     "output_type": "stream",
     "text": [
      "Warning message in file.create(missing_file):\n",
      "“cannot create file '../tea/2/add_OGs_sets/N0.HOG0000907/add_OGs_set_num-2.txt', reason 'No such file or directory'”\n"
     ]
    },
    {
     "name": "stdout",
     "output_type": "stream",
     "text": [
      "[1] 1\n",
      "[1] \"../tea/2/add_OGs_sets/N0.HOG0000907/add_OGs_set_num-1.txt\"\n"
     ]
    },
    {
     "name": "stderr",
     "output_type": "stream",
     "text": [
      "Warning message in file.create(missing_file):\n",
      "“cannot create file '../tea/2/add_OGs_sets/N0.HOG0000907/add_OGs_set_num-1.txt', reason 'No such file or directory'”\n"
     ]
    },
    {
     "name": "stdout",
     "output_type": "stream",
     "text": [
      "[1] \"N0.HOG0000911\"\n",
      "character(0)\n",
      "[1] 4\n",
      "[1] 4\n",
      "[1] \"../tea/2/add_OGs_sets/N0.HOG0000911/add_OGs_set_num-4.txt\"\n"
     ]
    },
    {
     "name": "stderr",
     "output_type": "stream",
     "text": [
      "Warning message in file.create(missing_file):\n",
      "“cannot create file '../tea/2/add_OGs_sets/N0.HOG0000911/add_OGs_set_num-4.txt', reason 'No such file or directory'”\n"
     ]
    },
    {
     "name": "stdout",
     "output_type": "stream",
     "text": [
      "[1] 3\n",
      "[1] \"../tea/2/add_OGs_sets/N0.HOG0000911/add_OGs_set_num-3.txt\"\n"
     ]
    },
    {
     "name": "stderr",
     "output_type": "stream",
     "text": [
      "Warning message in file.create(missing_file):\n",
      "“cannot create file '../tea/2/add_OGs_sets/N0.HOG0000911/add_OGs_set_num-3.txt', reason 'No such file or directory'”\n"
     ]
    },
    {
     "name": "stdout",
     "output_type": "stream",
     "text": [
      "[1] 2\n",
      "[1] \"../tea/2/add_OGs_sets/N0.HOG0000911/add_OGs_set_num-2.txt\"\n"
     ]
    },
    {
     "name": "stderr",
     "output_type": "stream",
     "text": [
      "Warning message in file.create(missing_file):\n",
      "“cannot create file '../tea/2/add_OGs_sets/N0.HOG0000911/add_OGs_set_num-2.txt', reason 'No such file or directory'”\n"
     ]
    },
    {
     "name": "stdout",
     "output_type": "stream",
     "text": [
      "[1] 1\n",
      "[1] \"../tea/2/add_OGs_sets/N0.HOG0000911/add_OGs_set_num-1.txt\"\n"
     ]
    },
    {
     "name": "stderr",
     "output_type": "stream",
     "text": [
      "Warning message in file.create(missing_file):\n",
      "“cannot create file '../tea/2/add_OGs_sets/N0.HOG0000911/add_OGs_set_num-1.txt', reason 'No such file or directory'”\n"
     ]
    },
    {
     "name": "stdout",
     "output_type": "stream",
     "text": [
      "[1] \"N0.HOG0000919\"\n",
      "character(0)\n",
      "[1] 4\n",
      "[1] 4\n",
      "[1] \"../tea/2/add_OGs_sets/N0.HOG0000919/add_OGs_set_num-4.txt\"\n"
     ]
    },
    {
     "name": "stderr",
     "output_type": "stream",
     "text": [
      "Warning message in file.create(missing_file):\n",
      "“cannot create file '../tea/2/add_OGs_sets/N0.HOG0000919/add_OGs_set_num-4.txt', reason 'No such file or directory'”\n"
     ]
    },
    {
     "name": "stdout",
     "output_type": "stream",
     "text": [
      "[1] 3\n",
      "[1] \"../tea/2/add_OGs_sets/N0.HOG0000919/add_OGs_set_num-3.txt\"\n"
     ]
    },
    {
     "name": "stderr",
     "output_type": "stream",
     "text": [
      "Warning message in file.create(missing_file):\n",
      "“cannot create file '../tea/2/add_OGs_sets/N0.HOG0000919/add_OGs_set_num-3.txt', reason 'No such file or directory'”\n"
     ]
    },
    {
     "name": "stdout",
     "output_type": "stream",
     "text": [
      "[1] 2\n",
      "[1] \"../tea/2/add_OGs_sets/N0.HOG0000919/add_OGs_set_num-2.txt\"\n"
     ]
    },
    {
     "name": "stderr",
     "output_type": "stream",
     "text": [
      "Warning message in file.create(missing_file):\n",
      "“cannot create file '../tea/2/add_OGs_sets/N0.HOG0000919/add_OGs_set_num-2.txt', reason 'No such file or directory'”\n"
     ]
    },
    {
     "name": "stdout",
     "output_type": "stream",
     "text": [
      "[1] 1\n",
      "[1] \"../tea/2/add_OGs_sets/N0.HOG0000919/add_OGs_set_num-1.txt\"\n"
     ]
    },
    {
     "name": "stderr",
     "output_type": "stream",
     "text": [
      "Warning message in file.create(missing_file):\n",
      "“cannot create file '../tea/2/add_OGs_sets/N0.HOG0000919/add_OGs_set_num-1.txt', reason 'No such file or directory'”\n"
     ]
    },
    {
     "name": "stdout",
     "output_type": "stream",
     "text": [
      "[1] \"N0.HOG0000921\"\n",
      "character(0)\n",
      "[1] 4\n",
      "[1] 4\n",
      "[1] \"../tea/2/add_OGs_sets/N0.HOG0000921/add_OGs_set_num-4.txt\"\n"
     ]
    },
    {
     "name": "stderr",
     "output_type": "stream",
     "text": [
      "Warning message in file.create(missing_file):\n",
      "“cannot create file '../tea/2/add_OGs_sets/N0.HOG0000921/add_OGs_set_num-4.txt', reason 'No such file or directory'”\n"
     ]
    },
    {
     "name": "stdout",
     "output_type": "stream",
     "text": [
      "[1] 3\n",
      "[1] \"../tea/2/add_OGs_sets/N0.HOG0000921/add_OGs_set_num-3.txt\"\n"
     ]
    },
    {
     "name": "stderr",
     "output_type": "stream",
     "text": [
      "Warning message in file.create(missing_file):\n",
      "“cannot create file '../tea/2/add_OGs_sets/N0.HOG0000921/add_OGs_set_num-3.txt', reason 'No such file or directory'”\n"
     ]
    },
    {
     "name": "stdout",
     "output_type": "stream",
     "text": [
      "[1] 2\n",
      "[1] \"../tea/2/add_OGs_sets/N0.HOG0000921/add_OGs_set_num-2.txt\"\n"
     ]
    },
    {
     "name": "stderr",
     "output_type": "stream",
     "text": [
      "Warning message in file.create(missing_file):\n",
      "“cannot create file '../tea/2/add_OGs_sets/N0.HOG0000921/add_OGs_set_num-2.txt', reason 'No such file or directory'”\n"
     ]
    },
    {
     "name": "stdout",
     "output_type": "stream",
     "text": [
      "[1] 1\n",
      "[1] \"../tea/2/add_OGs_sets/N0.HOG0000921/add_OGs_set_num-1.txt\"\n"
     ]
    },
    {
     "name": "stderr",
     "output_type": "stream",
     "text": [
      "Warning message in file.create(missing_file):\n",
      "“cannot create file '../tea/2/add_OGs_sets/N0.HOG0000921/add_OGs_set_num-1.txt', reason 'No such file or directory'”\n"
     ]
    },
    {
     "name": "stdout",
     "output_type": "stream",
     "text": [
      "[1] \"N0.HOG0000925\"\n",
      "character(0)\n",
      "[1] 4\n",
      "[1] 4\n",
      "[1] \"../tea/2/add_OGs_sets/N0.HOG0000925/add_OGs_set_num-4.txt\"\n"
     ]
    },
    {
     "name": "stderr",
     "output_type": "stream",
     "text": [
      "Warning message in file.create(missing_file):\n",
      "“cannot create file '../tea/2/add_OGs_sets/N0.HOG0000925/add_OGs_set_num-4.txt', reason 'No such file or directory'”\n"
     ]
    },
    {
     "name": "stdout",
     "output_type": "stream",
     "text": [
      "[1] 3\n",
      "[1] \"../tea/2/add_OGs_sets/N0.HOG0000925/add_OGs_set_num-3.txt\"\n"
     ]
    },
    {
     "name": "stderr",
     "output_type": "stream",
     "text": [
      "Warning message in file.create(missing_file):\n",
      "“cannot create file '../tea/2/add_OGs_sets/N0.HOG0000925/add_OGs_set_num-3.txt', reason 'No such file or directory'”\n"
     ]
    },
    {
     "name": "stdout",
     "output_type": "stream",
     "text": [
      "[1] 2\n",
      "[1] \"../tea/2/add_OGs_sets/N0.HOG0000925/add_OGs_set_num-2.txt\"\n"
     ]
    },
    {
     "name": "stderr",
     "output_type": "stream",
     "text": [
      "Warning message in file.create(missing_file):\n",
      "“cannot create file '../tea/2/add_OGs_sets/N0.HOG0000925/add_OGs_set_num-2.txt', reason 'No such file or directory'”\n"
     ]
    },
    {
     "name": "stdout",
     "output_type": "stream",
     "text": [
      "[1] 1\n",
      "[1] \"../tea/2/add_OGs_sets/N0.HOG0000925/add_OGs_set_num-1.txt\"\n"
     ]
    },
    {
     "name": "stderr",
     "output_type": "stream",
     "text": [
      "Warning message in file.create(missing_file):\n",
      "“cannot create file '../tea/2/add_OGs_sets/N0.HOG0000925/add_OGs_set_num-1.txt', reason 'No such file or directory'”\n"
     ]
    },
    {
     "name": "stdout",
     "output_type": "stream",
     "text": [
      "[1] \"N0.HOG0000928\"\n",
      "character(0)\n",
      "[1] 4\n",
      "[1] 4\n",
      "[1] \"../tea/2/add_OGs_sets/N0.HOG0000928/add_OGs_set_num-4.txt\"\n"
     ]
    },
    {
     "name": "stderr",
     "output_type": "stream",
     "text": [
      "Warning message in file.create(missing_file):\n",
      "“cannot create file '../tea/2/add_OGs_sets/N0.HOG0000928/add_OGs_set_num-4.txt', reason 'No such file or directory'”\n"
     ]
    },
    {
     "name": "stdout",
     "output_type": "stream",
     "text": [
      "[1] 3\n",
      "[1] \"../tea/2/add_OGs_sets/N0.HOG0000928/add_OGs_set_num-3.txt\"\n"
     ]
    },
    {
     "name": "stderr",
     "output_type": "stream",
     "text": [
      "Warning message in file.create(missing_file):\n",
      "“cannot create file '../tea/2/add_OGs_sets/N0.HOG0000928/add_OGs_set_num-3.txt', reason 'No such file or directory'”\n"
     ]
    },
    {
     "name": "stdout",
     "output_type": "stream",
     "text": [
      "[1] 2\n",
      "[1] \"../tea/2/add_OGs_sets/N0.HOG0000928/add_OGs_set_num-2.txt\"\n"
     ]
    },
    {
     "name": "stderr",
     "output_type": "stream",
     "text": [
      "Warning message in file.create(missing_file):\n",
      "“cannot create file '../tea/2/add_OGs_sets/N0.HOG0000928/add_OGs_set_num-2.txt', reason 'No such file or directory'”\n"
     ]
    },
    {
     "name": "stdout",
     "output_type": "stream",
     "text": [
      "[1] 1\n",
      "[1] \"../tea/2/add_OGs_sets/N0.HOG0000928/add_OGs_set_num-1.txt\"\n"
     ]
    },
    {
     "name": "stderr",
     "output_type": "stream",
     "text": [
      "Warning message in file.create(missing_file):\n",
      "“cannot create file '../tea/2/add_OGs_sets/N0.HOG0000928/add_OGs_set_num-1.txt', reason 'No such file or directory'”\n"
     ]
    },
    {
     "name": "stdout",
     "output_type": "stream",
     "text": [
      "[1] \"N0.HOG0000929\"\n",
      "character(0)\n",
      "[1] 4\n",
      "[1] 4\n",
      "[1] \"../tea/2/add_OGs_sets/N0.HOG0000929/add_OGs_set_num-4.txt\"\n"
     ]
    },
    {
     "name": "stderr",
     "output_type": "stream",
     "text": [
      "Warning message in file.create(missing_file):\n",
      "“cannot create file '../tea/2/add_OGs_sets/N0.HOG0000929/add_OGs_set_num-4.txt', reason 'No such file or directory'”\n"
     ]
    },
    {
     "name": "stdout",
     "output_type": "stream",
     "text": [
      "[1] 3\n",
      "[1] \"../tea/2/add_OGs_sets/N0.HOG0000929/add_OGs_set_num-3.txt\"\n"
     ]
    },
    {
     "name": "stderr",
     "output_type": "stream",
     "text": [
      "Warning message in file.create(missing_file):\n",
      "“cannot create file '../tea/2/add_OGs_sets/N0.HOG0000929/add_OGs_set_num-3.txt', reason 'No such file or directory'”\n"
     ]
    },
    {
     "name": "stdout",
     "output_type": "stream",
     "text": [
      "[1] 2\n",
      "[1] \"../tea/2/add_OGs_sets/N0.HOG0000929/add_OGs_set_num-2.txt\"\n"
     ]
    },
    {
     "name": "stderr",
     "output_type": "stream",
     "text": [
      "Warning message in file.create(missing_file):\n",
      "“cannot create file '../tea/2/add_OGs_sets/N0.HOG0000929/add_OGs_set_num-2.txt', reason 'No such file or directory'”\n"
     ]
    },
    {
     "name": "stdout",
     "output_type": "stream",
     "text": [
      "[1] 1\n",
      "[1] \"../tea/2/add_OGs_sets/N0.HOG0000929/add_OGs_set_num-1.txt\"\n"
     ]
    },
    {
     "name": "stderr",
     "output_type": "stream",
     "text": [
      "Warning message in file.create(missing_file):\n",
      "“cannot create file '../tea/2/add_OGs_sets/N0.HOG0000929/add_OGs_set_num-1.txt', reason 'No such file or directory'”\n"
     ]
    },
    {
     "name": "stdout",
     "output_type": "stream",
     "text": [
      "[1] \"N0.HOG0000930\"\n",
      "character(0)\n",
      "[1] 4\n",
      "[1] 4\n",
      "[1] \"../tea/2/add_OGs_sets/N0.HOG0000930/add_OGs_set_num-4.txt\"\n"
     ]
    },
    {
     "name": "stderr",
     "output_type": "stream",
     "text": [
      "Warning message in file.create(missing_file):\n",
      "“cannot create file '../tea/2/add_OGs_sets/N0.HOG0000930/add_OGs_set_num-4.txt', reason 'No such file or directory'”\n"
     ]
    },
    {
     "name": "stdout",
     "output_type": "stream",
     "text": [
      "[1] 3\n",
      "[1] \"../tea/2/add_OGs_sets/N0.HOG0000930/add_OGs_set_num-3.txt\"\n"
     ]
    },
    {
     "name": "stderr",
     "output_type": "stream",
     "text": [
      "Warning message in file.create(missing_file):\n",
      "“cannot create file '../tea/2/add_OGs_sets/N0.HOG0000930/add_OGs_set_num-3.txt', reason 'No such file or directory'”\n"
     ]
    },
    {
     "name": "stdout",
     "output_type": "stream",
     "text": [
      "[1] 2\n",
      "[1] \"../tea/2/add_OGs_sets/N0.HOG0000930/add_OGs_set_num-2.txt\"\n"
     ]
    },
    {
     "name": "stderr",
     "output_type": "stream",
     "text": [
      "Warning message in file.create(missing_file):\n",
      "“cannot create file '../tea/2/add_OGs_sets/N0.HOG0000930/add_OGs_set_num-2.txt', reason 'No such file or directory'”\n"
     ]
    },
    {
     "name": "stdout",
     "output_type": "stream",
     "text": [
      "[1] 1\n",
      "[1] \"../tea/2/add_OGs_sets/N0.HOG0000930/add_OGs_set_num-1.txt\"\n"
     ]
    },
    {
     "name": "stderr",
     "output_type": "stream",
     "text": [
      "Warning message in file.create(missing_file):\n",
      "“cannot create file '../tea/2/add_OGs_sets/N0.HOG0000930/add_OGs_set_num-1.txt', reason 'No such file or directory'”\n"
     ]
    },
    {
     "name": "stdout",
     "output_type": "stream",
     "text": [
      "[1] \"N0.HOG0001005\"\n",
      "character(0)\n",
      "[1] 4\n",
      "[1] 4\n",
      "[1] \"../tea/2/add_OGs_sets/N0.HOG0001005/add_OGs_set_num-4.txt\"\n"
     ]
    },
    {
     "name": "stderr",
     "output_type": "stream",
     "text": [
      "Warning message in file.create(missing_file):\n",
      "“cannot create file '../tea/2/add_OGs_sets/N0.HOG0001005/add_OGs_set_num-4.txt', reason 'No such file or directory'”\n"
     ]
    },
    {
     "name": "stdout",
     "output_type": "stream",
     "text": [
      "[1] 3\n",
      "[1] \"../tea/2/add_OGs_sets/N0.HOG0001005/add_OGs_set_num-3.txt\"\n"
     ]
    },
    {
     "name": "stderr",
     "output_type": "stream",
     "text": [
      "Warning message in file.create(missing_file):\n",
      "“cannot create file '../tea/2/add_OGs_sets/N0.HOG0001005/add_OGs_set_num-3.txt', reason 'No such file or directory'”\n"
     ]
    },
    {
     "name": "stdout",
     "output_type": "stream",
     "text": [
      "[1] 2\n",
      "[1] \"../tea/2/add_OGs_sets/N0.HOG0001005/add_OGs_set_num-2.txt\"\n"
     ]
    },
    {
     "name": "stderr",
     "output_type": "stream",
     "text": [
      "Warning message in file.create(missing_file):\n",
      "“cannot create file '../tea/2/add_OGs_sets/N0.HOG0001005/add_OGs_set_num-2.txt', reason 'No such file or directory'”\n"
     ]
    },
    {
     "name": "stdout",
     "output_type": "stream",
     "text": [
      "[1] 1\n",
      "[1] \"../tea/2/add_OGs_sets/N0.HOG0001005/add_OGs_set_num-1.txt\"\n"
     ]
    },
    {
     "name": "stderr",
     "output_type": "stream",
     "text": [
      "Warning message in file.create(missing_file):\n",
      "“cannot create file '../tea/2/add_OGs_sets/N0.HOG0001005/add_OGs_set_num-1.txt', reason 'No such file or directory'”\n"
     ]
    },
    {
     "name": "stdout",
     "output_type": "stream",
     "text": [
      "[1] \"N0.HOG0001019\"\n",
      "character(0)\n",
      "[1] 4\n",
      "[1] 4\n",
      "[1] \"../tea/2/add_OGs_sets/N0.HOG0001019/add_OGs_set_num-4.txt\"\n"
     ]
    },
    {
     "name": "stderr",
     "output_type": "stream",
     "text": [
      "Warning message in file.create(missing_file):\n",
      "“cannot create file '../tea/2/add_OGs_sets/N0.HOG0001019/add_OGs_set_num-4.txt', reason 'No such file or directory'”\n"
     ]
    },
    {
     "name": "stdout",
     "output_type": "stream",
     "text": [
      "[1] 3\n",
      "[1] \"../tea/2/add_OGs_sets/N0.HOG0001019/add_OGs_set_num-3.txt\"\n"
     ]
    },
    {
     "name": "stderr",
     "output_type": "stream",
     "text": [
      "Warning message in file.create(missing_file):\n",
      "“cannot create file '../tea/2/add_OGs_sets/N0.HOG0001019/add_OGs_set_num-3.txt', reason 'No such file or directory'”\n"
     ]
    },
    {
     "name": "stdout",
     "output_type": "stream",
     "text": [
      "[1] 2\n",
      "[1] \"../tea/2/add_OGs_sets/N0.HOG0001019/add_OGs_set_num-2.txt\"\n"
     ]
    },
    {
     "name": "stderr",
     "output_type": "stream",
     "text": [
      "Warning message in file.create(missing_file):\n",
      "“cannot create file '../tea/2/add_OGs_sets/N0.HOG0001019/add_OGs_set_num-2.txt', reason 'No such file or directory'”\n"
     ]
    },
    {
     "name": "stdout",
     "output_type": "stream",
     "text": [
      "[1] 1\n",
      "[1] \"../tea/2/add_OGs_sets/N0.HOG0001019/add_OGs_set_num-1.txt\"\n"
     ]
    },
    {
     "name": "stderr",
     "output_type": "stream",
     "text": [
      "Warning message in file.create(missing_file):\n",
      "“cannot create file '../tea/2/add_OGs_sets/N0.HOG0001019/add_OGs_set_num-1.txt', reason 'No such file or directory'”\n"
     ]
    },
    {
     "name": "stdout",
     "output_type": "stream",
     "text": [
      "[1] \"N0.HOG0001028\"\n",
      "character(0)\n",
      "[1] 4\n",
      "[1] 4\n",
      "[1] \"../tea/2/add_OGs_sets/N0.HOG0001028/add_OGs_set_num-4.txt\"\n"
     ]
    },
    {
     "name": "stderr",
     "output_type": "stream",
     "text": [
      "Warning message in file.create(missing_file):\n",
      "“cannot create file '../tea/2/add_OGs_sets/N0.HOG0001028/add_OGs_set_num-4.txt', reason 'No such file or directory'”\n"
     ]
    },
    {
     "name": "stdout",
     "output_type": "stream",
     "text": [
      "[1] 3\n",
      "[1] \"../tea/2/add_OGs_sets/N0.HOG0001028/add_OGs_set_num-3.txt\"\n"
     ]
    },
    {
     "name": "stderr",
     "output_type": "stream",
     "text": [
      "Warning message in file.create(missing_file):\n",
      "“cannot create file '../tea/2/add_OGs_sets/N0.HOG0001028/add_OGs_set_num-3.txt', reason 'No such file or directory'”\n"
     ]
    },
    {
     "name": "stdout",
     "output_type": "stream",
     "text": [
      "[1] 2\n",
      "[1] \"../tea/2/add_OGs_sets/N0.HOG0001028/add_OGs_set_num-2.txt\"\n"
     ]
    },
    {
     "name": "stderr",
     "output_type": "stream",
     "text": [
      "Warning message in file.create(missing_file):\n",
      "“cannot create file '../tea/2/add_OGs_sets/N0.HOG0001028/add_OGs_set_num-2.txt', reason 'No such file or directory'”\n"
     ]
    },
    {
     "name": "stdout",
     "output_type": "stream",
     "text": [
      "[1] 1\n",
      "[1] \"../tea/2/add_OGs_sets/N0.HOG0001028/add_OGs_set_num-1.txt\"\n"
     ]
    },
    {
     "name": "stderr",
     "output_type": "stream",
     "text": [
      "Warning message in file.create(missing_file):\n",
      "“cannot create file '../tea/2/add_OGs_sets/N0.HOG0001028/add_OGs_set_num-1.txt', reason 'No such file or directory'”\n"
     ]
    },
    {
     "name": "stdout",
     "output_type": "stream",
     "text": [
      "[1] \"N0.HOG0001029\"\n",
      "character(0)\n",
      "[1] 4\n",
      "[1] 4\n",
      "[1] \"../tea/2/add_OGs_sets/N0.HOG0001029/add_OGs_set_num-4.txt\"\n"
     ]
    },
    {
     "name": "stderr",
     "output_type": "stream",
     "text": [
      "Warning message in file.create(missing_file):\n",
      "“cannot create file '../tea/2/add_OGs_sets/N0.HOG0001029/add_OGs_set_num-4.txt', reason 'No such file or directory'”\n"
     ]
    },
    {
     "name": "stdout",
     "output_type": "stream",
     "text": [
      "[1] 3\n",
      "[1] \"../tea/2/add_OGs_sets/N0.HOG0001029/add_OGs_set_num-3.txt\"\n"
     ]
    },
    {
     "name": "stderr",
     "output_type": "stream",
     "text": [
      "Warning message in file.create(missing_file):\n",
      "“cannot create file '../tea/2/add_OGs_sets/N0.HOG0001029/add_OGs_set_num-3.txt', reason 'No such file or directory'”\n"
     ]
    },
    {
     "name": "stdout",
     "output_type": "stream",
     "text": [
      "[1] 2\n",
      "[1] \"../tea/2/add_OGs_sets/N0.HOG0001029/add_OGs_set_num-2.txt\"\n"
     ]
    },
    {
     "name": "stderr",
     "output_type": "stream",
     "text": [
      "Warning message in file.create(missing_file):\n",
      "“cannot create file '../tea/2/add_OGs_sets/N0.HOG0001029/add_OGs_set_num-2.txt', reason 'No such file or directory'”\n"
     ]
    },
    {
     "name": "stdout",
     "output_type": "stream",
     "text": [
      "[1] 1\n",
      "[1] \"../tea/2/add_OGs_sets/N0.HOG0001029/add_OGs_set_num-1.txt\"\n"
     ]
    },
    {
     "name": "stderr",
     "output_type": "stream",
     "text": [
      "Warning message in file.create(missing_file):\n",
      "“cannot create file '../tea/2/add_OGs_sets/N0.HOG0001029/add_OGs_set_num-1.txt', reason 'No such file or directory'”\n"
     ]
    },
    {
     "name": "stdout",
     "output_type": "stream",
     "text": [
      "[1] \"N0.HOG0001030\"\n",
      "character(0)\n",
      "[1] 4\n",
      "[1] 4\n",
      "[1] \"../tea/2/add_OGs_sets/N0.HOG0001030/add_OGs_set_num-4.txt\"\n"
     ]
    },
    {
     "name": "stderr",
     "output_type": "stream",
     "text": [
      "Warning message in file.create(missing_file):\n",
      "“cannot create file '../tea/2/add_OGs_sets/N0.HOG0001030/add_OGs_set_num-4.txt', reason 'No such file or directory'”\n"
     ]
    },
    {
     "name": "stdout",
     "output_type": "stream",
     "text": [
      "[1] 3\n",
      "[1] \"../tea/2/add_OGs_sets/N0.HOG0001030/add_OGs_set_num-3.txt\"\n"
     ]
    },
    {
     "name": "stderr",
     "output_type": "stream",
     "text": [
      "Warning message in file.create(missing_file):\n",
      "“cannot create file '../tea/2/add_OGs_sets/N0.HOG0001030/add_OGs_set_num-3.txt', reason 'No such file or directory'”\n"
     ]
    },
    {
     "name": "stdout",
     "output_type": "stream",
     "text": [
      "[1] 2\n",
      "[1] \"../tea/2/add_OGs_sets/N0.HOG0001030/add_OGs_set_num-2.txt\"\n"
     ]
    },
    {
     "name": "stderr",
     "output_type": "stream",
     "text": [
      "Warning message in file.create(missing_file):\n",
      "“cannot create file '../tea/2/add_OGs_sets/N0.HOG0001030/add_OGs_set_num-2.txt', reason 'No such file or directory'”\n"
     ]
    },
    {
     "name": "stdout",
     "output_type": "stream",
     "text": [
      "[1] 1\n",
      "[1] \"../tea/2/add_OGs_sets/N0.HOG0001030/add_OGs_set_num-1.txt\"\n"
     ]
    },
    {
     "name": "stderr",
     "output_type": "stream",
     "text": [
      "Warning message in file.create(missing_file):\n",
      "“cannot create file '../tea/2/add_OGs_sets/N0.HOG0001030/add_OGs_set_num-1.txt', reason 'No such file or directory'”\n"
     ]
    },
    {
     "name": "stdout",
     "output_type": "stream",
     "text": [
      "[1] \"N0.HOG0001123\"\n",
      "character(0)\n",
      "[1] 4\n",
      "[1] 4\n",
      "[1] \"../tea/2/add_OGs_sets/N0.HOG0001123/add_OGs_set_num-4.txt\"\n"
     ]
    },
    {
     "name": "stderr",
     "output_type": "stream",
     "text": [
      "Warning message in file.create(missing_file):\n",
      "“cannot create file '../tea/2/add_OGs_sets/N0.HOG0001123/add_OGs_set_num-4.txt', reason 'No such file or directory'”\n"
     ]
    },
    {
     "name": "stdout",
     "output_type": "stream",
     "text": [
      "[1] 3\n",
      "[1] \"../tea/2/add_OGs_sets/N0.HOG0001123/add_OGs_set_num-3.txt\"\n"
     ]
    },
    {
     "name": "stderr",
     "output_type": "stream",
     "text": [
      "Warning message in file.create(missing_file):\n",
      "“cannot create file '../tea/2/add_OGs_sets/N0.HOG0001123/add_OGs_set_num-3.txt', reason 'No such file or directory'”\n"
     ]
    },
    {
     "name": "stdout",
     "output_type": "stream",
     "text": [
      "[1] 2\n",
      "[1] \"../tea/2/add_OGs_sets/N0.HOG0001123/add_OGs_set_num-2.txt\"\n"
     ]
    },
    {
     "name": "stderr",
     "output_type": "stream",
     "text": [
      "Warning message in file.create(missing_file):\n",
      "“cannot create file '../tea/2/add_OGs_sets/N0.HOG0001123/add_OGs_set_num-2.txt', reason 'No such file or directory'”\n"
     ]
    },
    {
     "name": "stdout",
     "output_type": "stream",
     "text": [
      "[1] 1\n",
      "[1] \"../tea/2/add_OGs_sets/N0.HOG0001123/add_OGs_set_num-1.txt\"\n"
     ]
    },
    {
     "name": "stderr",
     "output_type": "stream",
     "text": [
      "Warning message in file.create(missing_file):\n",
      "“cannot create file '../tea/2/add_OGs_sets/N0.HOG0001123/add_OGs_set_num-1.txt', reason 'No such file or directory'”\n"
     ]
    },
    {
     "name": "stdout",
     "output_type": "stream",
     "text": [
      "[1] \"N0.HOG0001125\"\n",
      "character(0)\n",
      "[1] 4\n",
      "[1] 4\n",
      "[1] \"../tea/2/add_OGs_sets/N0.HOG0001125/add_OGs_set_num-4.txt\"\n"
     ]
    },
    {
     "name": "stderr",
     "output_type": "stream",
     "text": [
      "Warning message in file.create(missing_file):\n",
      "“cannot create file '../tea/2/add_OGs_sets/N0.HOG0001125/add_OGs_set_num-4.txt', reason 'No such file or directory'”\n"
     ]
    },
    {
     "name": "stdout",
     "output_type": "stream",
     "text": [
      "[1] 3\n",
      "[1] \"../tea/2/add_OGs_sets/N0.HOG0001125/add_OGs_set_num-3.txt\"\n"
     ]
    },
    {
     "name": "stderr",
     "output_type": "stream",
     "text": [
      "Warning message in file.create(missing_file):\n",
      "“cannot create file '../tea/2/add_OGs_sets/N0.HOG0001125/add_OGs_set_num-3.txt', reason 'No such file or directory'”\n"
     ]
    },
    {
     "name": "stdout",
     "output_type": "stream",
     "text": [
      "[1] 2\n",
      "[1] \"../tea/2/add_OGs_sets/N0.HOG0001125/add_OGs_set_num-2.txt\"\n"
     ]
    },
    {
     "name": "stderr",
     "output_type": "stream",
     "text": [
      "Warning message in file.create(missing_file):\n",
      "“cannot create file '../tea/2/add_OGs_sets/N0.HOG0001125/add_OGs_set_num-2.txt', reason 'No such file or directory'”\n"
     ]
    },
    {
     "name": "stdout",
     "output_type": "stream",
     "text": [
      "[1] 1\n",
      "[1] \"../tea/2/add_OGs_sets/N0.HOG0001125/add_OGs_set_num-1.txt\"\n"
     ]
    },
    {
     "name": "stderr",
     "output_type": "stream",
     "text": [
      "Warning message in file.create(missing_file):\n",
      "“cannot create file '../tea/2/add_OGs_sets/N0.HOG0001125/add_OGs_set_num-1.txt', reason 'No such file or directory'”\n"
     ]
    },
    {
     "name": "stdout",
     "output_type": "stream",
     "text": [
      "[1] \"N0.HOG0001128\"\n",
      "character(0)\n",
      "[1] 4\n",
      "[1] 4\n",
      "[1] \"../tea/2/add_OGs_sets/N0.HOG0001128/add_OGs_set_num-4.txt\"\n"
     ]
    },
    {
     "name": "stderr",
     "output_type": "stream",
     "text": [
      "Warning message in file.create(missing_file):\n",
      "“cannot create file '../tea/2/add_OGs_sets/N0.HOG0001128/add_OGs_set_num-4.txt', reason 'No such file or directory'”\n"
     ]
    },
    {
     "name": "stdout",
     "output_type": "stream",
     "text": [
      "[1] 3\n",
      "[1] \"../tea/2/add_OGs_sets/N0.HOG0001128/add_OGs_set_num-3.txt\"\n"
     ]
    },
    {
     "name": "stderr",
     "output_type": "stream",
     "text": [
      "Warning message in file.create(missing_file):\n",
      "“cannot create file '../tea/2/add_OGs_sets/N0.HOG0001128/add_OGs_set_num-3.txt', reason 'No such file or directory'”\n"
     ]
    },
    {
     "name": "stdout",
     "output_type": "stream",
     "text": [
      "[1] 2\n",
      "[1] \"../tea/2/add_OGs_sets/N0.HOG0001128/add_OGs_set_num-2.txt\"\n"
     ]
    },
    {
     "name": "stderr",
     "output_type": "stream",
     "text": [
      "Warning message in file.create(missing_file):\n",
      "“cannot create file '../tea/2/add_OGs_sets/N0.HOG0001128/add_OGs_set_num-2.txt', reason 'No such file or directory'”\n"
     ]
    },
    {
     "name": "stdout",
     "output_type": "stream",
     "text": [
      "[1] 1\n",
      "[1] \"../tea/2/add_OGs_sets/N0.HOG0001128/add_OGs_set_num-1.txt\"\n"
     ]
    },
    {
     "name": "stderr",
     "output_type": "stream",
     "text": [
      "Warning message in file.create(missing_file):\n",
      "“cannot create file '../tea/2/add_OGs_sets/N0.HOG0001128/add_OGs_set_num-1.txt', reason 'No such file or directory'”\n"
     ]
    },
    {
     "name": "stdout",
     "output_type": "stream",
     "text": [
      "[1] \"N0.HOG0001137\"\n",
      "character(0)\n",
      "[1] 4\n",
      "[1] 4\n",
      "[1] \"../tea/2/add_OGs_sets/N0.HOG0001137/add_OGs_set_num-4.txt\"\n"
     ]
    },
    {
     "name": "stderr",
     "output_type": "stream",
     "text": [
      "Warning message in file.create(missing_file):\n",
      "“cannot create file '../tea/2/add_OGs_sets/N0.HOG0001137/add_OGs_set_num-4.txt', reason 'No such file or directory'”\n"
     ]
    },
    {
     "name": "stdout",
     "output_type": "stream",
     "text": [
      "[1] 3\n",
      "[1] \"../tea/2/add_OGs_sets/N0.HOG0001137/add_OGs_set_num-3.txt\"\n"
     ]
    },
    {
     "name": "stderr",
     "output_type": "stream",
     "text": [
      "Warning message in file.create(missing_file):\n",
      "“cannot create file '../tea/2/add_OGs_sets/N0.HOG0001137/add_OGs_set_num-3.txt', reason 'No such file or directory'”\n"
     ]
    },
    {
     "name": "stdout",
     "output_type": "stream",
     "text": [
      "[1] 2\n",
      "[1] \"../tea/2/add_OGs_sets/N0.HOG0001137/add_OGs_set_num-2.txt\"\n"
     ]
    },
    {
     "name": "stderr",
     "output_type": "stream",
     "text": [
      "Warning message in file.create(missing_file):\n",
      "“cannot create file '../tea/2/add_OGs_sets/N0.HOG0001137/add_OGs_set_num-2.txt', reason 'No such file or directory'”\n"
     ]
    },
    {
     "name": "stdout",
     "output_type": "stream",
     "text": [
      "[1] 1\n",
      "[1] \"../tea/2/add_OGs_sets/N0.HOG0001137/add_OGs_set_num-1.txt\"\n"
     ]
    },
    {
     "name": "stderr",
     "output_type": "stream",
     "text": [
      "Warning message in file.create(missing_file):\n",
      "“cannot create file '../tea/2/add_OGs_sets/N0.HOG0001137/add_OGs_set_num-1.txt', reason 'No such file or directory'”\n"
     ]
    },
    {
     "name": "stdout",
     "output_type": "stream",
     "text": [
      "[1] \"N0.HOG0001156\"\n",
      "character(0)\n",
      "[1] 4\n",
      "[1] 4\n",
      "[1] \"../tea/2/add_OGs_sets/N0.HOG0001156/add_OGs_set_num-4.txt\"\n"
     ]
    },
    {
     "name": "stderr",
     "output_type": "stream",
     "text": [
      "Warning message in file.create(missing_file):\n",
      "“cannot create file '../tea/2/add_OGs_sets/N0.HOG0001156/add_OGs_set_num-4.txt', reason 'No such file or directory'”\n"
     ]
    },
    {
     "name": "stdout",
     "output_type": "stream",
     "text": [
      "[1] 3\n",
      "[1] \"../tea/2/add_OGs_sets/N0.HOG0001156/add_OGs_set_num-3.txt\"\n"
     ]
    },
    {
     "name": "stderr",
     "output_type": "stream",
     "text": [
      "Warning message in file.create(missing_file):\n",
      "“cannot create file '../tea/2/add_OGs_sets/N0.HOG0001156/add_OGs_set_num-3.txt', reason 'No such file or directory'”\n"
     ]
    },
    {
     "name": "stdout",
     "output_type": "stream",
     "text": [
      "[1] 2\n",
      "[1] \"../tea/2/add_OGs_sets/N0.HOG0001156/add_OGs_set_num-2.txt\"\n"
     ]
    },
    {
     "name": "stderr",
     "output_type": "stream",
     "text": [
      "Warning message in file.create(missing_file):\n",
      "“cannot create file '../tea/2/add_OGs_sets/N0.HOG0001156/add_OGs_set_num-2.txt', reason 'No such file or directory'”\n"
     ]
    },
    {
     "name": "stdout",
     "output_type": "stream",
     "text": [
      "[1] 1\n",
      "[1] \"../tea/2/add_OGs_sets/N0.HOG0001156/add_OGs_set_num-1.txt\"\n"
     ]
    },
    {
     "name": "stderr",
     "output_type": "stream",
     "text": [
      "Warning message in file.create(missing_file):\n",
      "“cannot create file '../tea/2/add_OGs_sets/N0.HOG0001156/add_OGs_set_num-1.txt', reason 'No such file or directory'”\n"
     ]
    },
    {
     "name": "stdout",
     "output_type": "stream",
     "text": [
      "[1] \"N0.HOG0001272\"\n",
      "character(0)\n",
      "[1] 4\n",
      "[1] 4\n",
      "[1] \"../tea/2/add_OGs_sets/N0.HOG0001272/add_OGs_set_num-4.txt\"\n"
     ]
    },
    {
     "name": "stderr",
     "output_type": "stream",
     "text": [
      "Warning message in file.create(missing_file):\n",
      "“cannot create file '../tea/2/add_OGs_sets/N0.HOG0001272/add_OGs_set_num-4.txt', reason 'No such file or directory'”\n"
     ]
    },
    {
     "name": "stdout",
     "output_type": "stream",
     "text": [
      "[1] 3\n",
      "[1] \"../tea/2/add_OGs_sets/N0.HOG0001272/add_OGs_set_num-3.txt\"\n"
     ]
    },
    {
     "name": "stderr",
     "output_type": "stream",
     "text": [
      "Warning message in file.create(missing_file):\n",
      "“cannot create file '../tea/2/add_OGs_sets/N0.HOG0001272/add_OGs_set_num-3.txt', reason 'No such file or directory'”\n"
     ]
    },
    {
     "name": "stdout",
     "output_type": "stream",
     "text": [
      "[1] 2\n",
      "[1] \"../tea/2/add_OGs_sets/N0.HOG0001272/add_OGs_set_num-2.txt\"\n"
     ]
    },
    {
     "name": "stderr",
     "output_type": "stream",
     "text": [
      "Warning message in file.create(missing_file):\n",
      "“cannot create file '../tea/2/add_OGs_sets/N0.HOG0001272/add_OGs_set_num-2.txt', reason 'No such file or directory'”\n"
     ]
    },
    {
     "name": "stdout",
     "output_type": "stream",
     "text": [
      "[1] 1\n",
      "[1] \"../tea/2/add_OGs_sets/N0.HOG0001272/add_OGs_set_num-1.txt\"\n"
     ]
    },
    {
     "name": "stderr",
     "output_type": "stream",
     "text": [
      "Warning message in file.create(missing_file):\n",
      "“cannot create file '../tea/2/add_OGs_sets/N0.HOG0001272/add_OGs_set_num-1.txt', reason 'No such file or directory'”\n"
     ]
    },
    {
     "name": "stdout",
     "output_type": "stream",
     "text": [
      "[1] \"N0.HOG0001277\"\n",
      "character(0)\n",
      "[1] 4\n",
      "[1] 4\n",
      "[1] \"../tea/2/add_OGs_sets/N0.HOG0001277/add_OGs_set_num-4.txt\"\n"
     ]
    },
    {
     "name": "stderr",
     "output_type": "stream",
     "text": [
      "Warning message in file.create(missing_file):\n",
      "“cannot create file '../tea/2/add_OGs_sets/N0.HOG0001277/add_OGs_set_num-4.txt', reason 'No such file or directory'”\n"
     ]
    },
    {
     "name": "stdout",
     "output_type": "stream",
     "text": [
      "[1] 3\n",
      "[1] \"../tea/2/add_OGs_sets/N0.HOG0001277/add_OGs_set_num-3.txt\"\n"
     ]
    },
    {
     "name": "stderr",
     "output_type": "stream",
     "text": [
      "Warning message in file.create(missing_file):\n",
      "“cannot create file '../tea/2/add_OGs_sets/N0.HOG0001277/add_OGs_set_num-3.txt', reason 'No such file or directory'”\n"
     ]
    },
    {
     "name": "stdout",
     "output_type": "stream",
     "text": [
      "[1] 2\n",
      "[1] \"../tea/2/add_OGs_sets/N0.HOG0001277/add_OGs_set_num-2.txt\"\n"
     ]
    },
    {
     "name": "stderr",
     "output_type": "stream",
     "text": [
      "Warning message in file.create(missing_file):\n",
      "“cannot create file '../tea/2/add_OGs_sets/N0.HOG0001277/add_OGs_set_num-2.txt', reason 'No such file or directory'”\n"
     ]
    },
    {
     "name": "stdout",
     "output_type": "stream",
     "text": [
      "[1] 1\n",
      "[1] \"../tea/2/add_OGs_sets/N0.HOG0001277/add_OGs_set_num-1.txt\"\n"
     ]
    },
    {
     "name": "stderr",
     "output_type": "stream",
     "text": [
      "Warning message in file.create(missing_file):\n",
      "“cannot create file '../tea/2/add_OGs_sets/N0.HOG0001277/add_OGs_set_num-1.txt', reason 'No such file or directory'”\n"
     ]
    },
    {
     "name": "stdout",
     "output_type": "stream",
     "text": [
      "[1] \"N0.HOG0001294\"\n",
      "character(0)\n",
      "[1] 4\n",
      "[1] 4\n",
      "[1] \"../tea/2/add_OGs_sets/N0.HOG0001294/add_OGs_set_num-4.txt\"\n"
     ]
    },
    {
     "name": "stderr",
     "output_type": "stream",
     "text": [
      "Warning message in file.create(missing_file):\n",
      "“cannot create file '../tea/2/add_OGs_sets/N0.HOG0001294/add_OGs_set_num-4.txt', reason 'No such file or directory'”\n"
     ]
    },
    {
     "name": "stdout",
     "output_type": "stream",
     "text": [
      "[1] 3\n",
      "[1] \"../tea/2/add_OGs_sets/N0.HOG0001294/add_OGs_set_num-3.txt\"\n"
     ]
    },
    {
     "name": "stderr",
     "output_type": "stream",
     "text": [
      "Warning message in file.create(missing_file):\n",
      "“cannot create file '../tea/2/add_OGs_sets/N0.HOG0001294/add_OGs_set_num-3.txt', reason 'No such file or directory'”\n"
     ]
    },
    {
     "name": "stdout",
     "output_type": "stream",
     "text": [
      "[1] 2\n",
      "[1] \"../tea/2/add_OGs_sets/N0.HOG0001294/add_OGs_set_num-2.txt\"\n"
     ]
    },
    {
     "name": "stderr",
     "output_type": "stream",
     "text": [
      "Warning message in file.create(missing_file):\n",
      "“cannot create file '../tea/2/add_OGs_sets/N0.HOG0001294/add_OGs_set_num-2.txt', reason 'No such file or directory'”\n"
     ]
    },
    {
     "name": "stdout",
     "output_type": "stream",
     "text": [
      "[1] 1\n",
      "[1] \"../tea/2/add_OGs_sets/N0.HOG0001294/add_OGs_set_num-1.txt\"\n"
     ]
    },
    {
     "name": "stderr",
     "output_type": "stream",
     "text": [
      "Warning message in file.create(missing_file):\n",
      "“cannot create file '../tea/2/add_OGs_sets/N0.HOG0001294/add_OGs_set_num-1.txt', reason 'No such file or directory'”\n"
     ]
    },
    {
     "name": "stdout",
     "output_type": "stream",
     "text": [
      "[1] \"N0.HOG0001297\"\n",
      "character(0)\n",
      "[1] 4\n",
      "[1] 4\n",
      "[1] \"../tea/2/add_OGs_sets/N0.HOG0001297/add_OGs_set_num-4.txt\"\n"
     ]
    },
    {
     "name": "stderr",
     "output_type": "stream",
     "text": [
      "Warning message in file.create(missing_file):\n",
      "“cannot create file '../tea/2/add_OGs_sets/N0.HOG0001297/add_OGs_set_num-4.txt', reason 'No such file or directory'”\n"
     ]
    },
    {
     "name": "stdout",
     "output_type": "stream",
     "text": [
      "[1] 3\n",
      "[1] \"../tea/2/add_OGs_sets/N0.HOG0001297/add_OGs_set_num-3.txt\"\n"
     ]
    },
    {
     "name": "stderr",
     "output_type": "stream",
     "text": [
      "Warning message in file.create(missing_file):\n",
      "“cannot create file '../tea/2/add_OGs_sets/N0.HOG0001297/add_OGs_set_num-3.txt', reason 'No such file or directory'”\n"
     ]
    },
    {
     "name": "stdout",
     "output_type": "stream",
     "text": [
      "[1] 2\n",
      "[1] \"../tea/2/add_OGs_sets/N0.HOG0001297/add_OGs_set_num-2.txt\"\n"
     ]
    },
    {
     "name": "stderr",
     "output_type": "stream",
     "text": [
      "Warning message in file.create(missing_file):\n",
      "“cannot create file '../tea/2/add_OGs_sets/N0.HOG0001297/add_OGs_set_num-2.txt', reason 'No such file or directory'”\n"
     ]
    },
    {
     "name": "stdout",
     "output_type": "stream",
     "text": [
      "[1] 1\n",
      "[1] \"../tea/2/add_OGs_sets/N0.HOG0001297/add_OGs_set_num-1.txt\"\n"
     ]
    },
    {
     "name": "stderr",
     "output_type": "stream",
     "text": [
      "Warning message in file.create(missing_file):\n",
      "“cannot create file '../tea/2/add_OGs_sets/N0.HOG0001297/add_OGs_set_num-1.txt', reason 'No such file or directory'”\n"
     ]
    },
    {
     "name": "stdout",
     "output_type": "stream",
     "text": [
      "[1] \"N0.HOG0001317\"\n",
      "character(0)\n",
      "[1] 4\n",
      "[1] 4\n",
      "[1] \"../tea/2/add_OGs_sets/N0.HOG0001317/add_OGs_set_num-4.txt\"\n"
     ]
    },
    {
     "name": "stderr",
     "output_type": "stream",
     "text": [
      "Warning message in file.create(missing_file):\n",
      "“cannot create file '../tea/2/add_OGs_sets/N0.HOG0001317/add_OGs_set_num-4.txt', reason 'No such file or directory'”\n"
     ]
    },
    {
     "name": "stdout",
     "output_type": "stream",
     "text": [
      "[1] 3\n",
      "[1] \"../tea/2/add_OGs_sets/N0.HOG0001317/add_OGs_set_num-3.txt\"\n"
     ]
    },
    {
     "name": "stderr",
     "output_type": "stream",
     "text": [
      "Warning message in file.create(missing_file):\n",
      "“cannot create file '../tea/2/add_OGs_sets/N0.HOG0001317/add_OGs_set_num-3.txt', reason 'No such file or directory'”\n"
     ]
    },
    {
     "name": "stdout",
     "output_type": "stream",
     "text": [
      "[1] 2\n",
      "[1] \"../tea/2/add_OGs_sets/N0.HOG0001317/add_OGs_set_num-2.txt\"\n"
     ]
    },
    {
     "name": "stderr",
     "output_type": "stream",
     "text": [
      "Warning message in file.create(missing_file):\n",
      "“cannot create file '../tea/2/add_OGs_sets/N0.HOG0001317/add_OGs_set_num-2.txt', reason 'No such file or directory'”\n"
     ]
    },
    {
     "name": "stdout",
     "output_type": "stream",
     "text": [
      "[1] 1\n",
      "[1] \"../tea/2/add_OGs_sets/N0.HOG0001317/add_OGs_set_num-1.txt\"\n"
     ]
    },
    {
     "name": "stderr",
     "output_type": "stream",
     "text": [
      "Warning message in file.create(missing_file):\n",
      "“cannot create file '../tea/2/add_OGs_sets/N0.HOG0001317/add_OGs_set_num-1.txt', reason 'No such file or directory'”\n"
     ]
    },
    {
     "name": "stdout",
     "output_type": "stream",
     "text": [
      "[1] \"N0.HOG0001325\"\n",
      "character(0)\n",
      "[1] 4\n",
      "[1] 4\n",
      "[1] \"../tea/2/add_OGs_sets/N0.HOG0001325/add_OGs_set_num-4.txt\"\n"
     ]
    },
    {
     "name": "stderr",
     "output_type": "stream",
     "text": [
      "Warning message in file.create(missing_file):\n",
      "“cannot create file '../tea/2/add_OGs_sets/N0.HOG0001325/add_OGs_set_num-4.txt', reason 'No such file or directory'”\n"
     ]
    },
    {
     "name": "stdout",
     "output_type": "stream",
     "text": [
      "[1] 3\n",
      "[1] \"../tea/2/add_OGs_sets/N0.HOG0001325/add_OGs_set_num-3.txt\"\n"
     ]
    },
    {
     "name": "stderr",
     "output_type": "stream",
     "text": [
      "Warning message in file.create(missing_file):\n",
      "“cannot create file '../tea/2/add_OGs_sets/N0.HOG0001325/add_OGs_set_num-3.txt', reason 'No such file or directory'”\n"
     ]
    },
    {
     "name": "stdout",
     "output_type": "stream",
     "text": [
      "[1] 2\n",
      "[1] \"../tea/2/add_OGs_sets/N0.HOG0001325/add_OGs_set_num-2.txt\"\n"
     ]
    },
    {
     "name": "stderr",
     "output_type": "stream",
     "text": [
      "Warning message in file.create(missing_file):\n",
      "“cannot create file '../tea/2/add_OGs_sets/N0.HOG0001325/add_OGs_set_num-2.txt', reason 'No such file or directory'”\n"
     ]
    },
    {
     "name": "stdout",
     "output_type": "stream",
     "text": [
      "[1] 1\n",
      "[1] \"../tea/2/add_OGs_sets/N0.HOG0001325/add_OGs_set_num-1.txt\"\n"
     ]
    },
    {
     "name": "stderr",
     "output_type": "stream",
     "text": [
      "Warning message in file.create(missing_file):\n",
      "“cannot create file '../tea/2/add_OGs_sets/N0.HOG0001325/add_OGs_set_num-1.txt', reason 'No such file or directory'”\n"
     ]
    },
    {
     "name": "stdout",
     "output_type": "stream",
     "text": [
      "[1] \"N0.HOG0001334\"\n",
      "character(0)\n",
      "[1] 4\n",
      "[1] 4\n",
      "[1] \"../tea/2/add_OGs_sets/N0.HOG0001334/add_OGs_set_num-4.txt\"\n"
     ]
    },
    {
     "name": "stderr",
     "output_type": "stream",
     "text": [
      "Warning message in file.create(missing_file):\n",
      "“cannot create file '../tea/2/add_OGs_sets/N0.HOG0001334/add_OGs_set_num-4.txt', reason 'No such file or directory'”\n"
     ]
    },
    {
     "name": "stdout",
     "output_type": "stream",
     "text": [
      "[1] 3\n",
      "[1] \"../tea/2/add_OGs_sets/N0.HOG0001334/add_OGs_set_num-3.txt\"\n"
     ]
    },
    {
     "name": "stderr",
     "output_type": "stream",
     "text": [
      "Warning message in file.create(missing_file):\n",
      "“cannot create file '../tea/2/add_OGs_sets/N0.HOG0001334/add_OGs_set_num-3.txt', reason 'No such file or directory'”\n"
     ]
    },
    {
     "name": "stdout",
     "output_type": "stream",
     "text": [
      "[1] 2\n",
      "[1] \"../tea/2/add_OGs_sets/N0.HOG0001334/add_OGs_set_num-2.txt\"\n"
     ]
    },
    {
     "name": "stderr",
     "output_type": "stream",
     "text": [
      "Warning message in file.create(missing_file):\n",
      "“cannot create file '../tea/2/add_OGs_sets/N0.HOG0001334/add_OGs_set_num-2.txt', reason 'No such file or directory'”\n"
     ]
    },
    {
     "name": "stdout",
     "output_type": "stream",
     "text": [
      "[1] 1\n",
      "[1] \"../tea/2/add_OGs_sets/N0.HOG0001334/add_OGs_set_num-1.txt\"\n"
     ]
    },
    {
     "name": "stderr",
     "output_type": "stream",
     "text": [
      "Warning message in file.create(missing_file):\n",
      "“cannot create file '../tea/2/add_OGs_sets/N0.HOG0001334/add_OGs_set_num-1.txt', reason 'No such file or directory'”\n"
     ]
    },
    {
     "name": "stdout",
     "output_type": "stream",
     "text": [
      "[1] \"N0.HOG0001474\"\n",
      "character(0)\n",
      "[1] 4\n",
      "[1] 4\n",
      "[1] \"../tea/2/add_OGs_sets/N0.HOG0001474/add_OGs_set_num-4.txt\"\n"
     ]
    },
    {
     "name": "stderr",
     "output_type": "stream",
     "text": [
      "Warning message in file.create(missing_file):\n",
      "“cannot create file '../tea/2/add_OGs_sets/N0.HOG0001474/add_OGs_set_num-4.txt', reason 'No such file or directory'”\n"
     ]
    },
    {
     "name": "stdout",
     "output_type": "stream",
     "text": [
      "[1] 3\n",
      "[1] \"../tea/2/add_OGs_sets/N0.HOG0001474/add_OGs_set_num-3.txt\"\n"
     ]
    },
    {
     "name": "stderr",
     "output_type": "stream",
     "text": [
      "Warning message in file.create(missing_file):\n",
      "“cannot create file '../tea/2/add_OGs_sets/N0.HOG0001474/add_OGs_set_num-3.txt', reason 'No such file or directory'”\n"
     ]
    },
    {
     "name": "stdout",
     "output_type": "stream",
     "text": [
      "[1] 2\n",
      "[1] \"../tea/2/add_OGs_sets/N0.HOG0001474/add_OGs_set_num-2.txt\"\n"
     ]
    },
    {
     "name": "stderr",
     "output_type": "stream",
     "text": [
      "Warning message in file.create(missing_file):\n",
      "“cannot create file '../tea/2/add_OGs_sets/N0.HOG0001474/add_OGs_set_num-2.txt', reason 'No such file or directory'”\n"
     ]
    },
    {
     "name": "stdout",
     "output_type": "stream",
     "text": [
      "[1] 1\n",
      "[1] \"../tea/2/add_OGs_sets/N0.HOG0001474/add_OGs_set_num-1.txt\"\n"
     ]
    },
    {
     "name": "stderr",
     "output_type": "stream",
     "text": [
      "Warning message in file.create(missing_file):\n",
      "“cannot create file '../tea/2/add_OGs_sets/N0.HOG0001474/add_OGs_set_num-1.txt', reason 'No such file or directory'”\n"
     ]
    },
    {
     "name": "stdout",
     "output_type": "stream",
     "text": [
      "[1] \"N0.HOG0001478\"\n",
      "character(0)\n",
      "[1] 4\n",
      "[1] 4\n",
      "[1] \"../tea/2/add_OGs_sets/N0.HOG0001478/add_OGs_set_num-4.txt\"\n"
     ]
    },
    {
     "name": "stderr",
     "output_type": "stream",
     "text": [
      "Warning message in file.create(missing_file):\n",
      "“cannot create file '../tea/2/add_OGs_sets/N0.HOG0001478/add_OGs_set_num-4.txt', reason 'No such file or directory'”\n"
     ]
    },
    {
     "name": "stdout",
     "output_type": "stream",
     "text": [
      "[1] 3\n",
      "[1] \"../tea/2/add_OGs_sets/N0.HOG0001478/add_OGs_set_num-3.txt\"\n"
     ]
    },
    {
     "name": "stderr",
     "output_type": "stream",
     "text": [
      "Warning message in file.create(missing_file):\n",
      "“cannot create file '../tea/2/add_OGs_sets/N0.HOG0001478/add_OGs_set_num-3.txt', reason 'No such file or directory'”\n"
     ]
    },
    {
     "name": "stdout",
     "output_type": "stream",
     "text": [
      "[1] 2\n",
      "[1] \"../tea/2/add_OGs_sets/N0.HOG0001478/add_OGs_set_num-2.txt\"\n"
     ]
    },
    {
     "name": "stderr",
     "output_type": "stream",
     "text": [
      "Warning message in file.create(missing_file):\n",
      "“cannot create file '../tea/2/add_OGs_sets/N0.HOG0001478/add_OGs_set_num-2.txt', reason 'No such file or directory'”\n"
     ]
    },
    {
     "name": "stdout",
     "output_type": "stream",
     "text": [
      "[1] 1\n",
      "[1] \"../tea/2/add_OGs_sets/N0.HOG0001478/add_OGs_set_num-1.txt\"\n"
     ]
    },
    {
     "name": "stderr",
     "output_type": "stream",
     "text": [
      "Warning message in file.create(missing_file):\n",
      "“cannot create file '../tea/2/add_OGs_sets/N0.HOG0001478/add_OGs_set_num-1.txt', reason 'No such file or directory'”\n"
     ]
    },
    {
     "name": "stdout",
     "output_type": "stream",
     "text": [
      "[1] \"N0.HOG0001483\"\n",
      "character(0)\n",
      "[1] 4\n",
      "[1] 4\n",
      "[1] \"../tea/2/add_OGs_sets/N0.HOG0001483/add_OGs_set_num-4.txt\"\n"
     ]
    },
    {
     "name": "stderr",
     "output_type": "stream",
     "text": [
      "Warning message in file.create(missing_file):\n",
      "“cannot create file '../tea/2/add_OGs_sets/N0.HOG0001483/add_OGs_set_num-4.txt', reason 'No such file or directory'”\n"
     ]
    },
    {
     "name": "stdout",
     "output_type": "stream",
     "text": [
      "[1] 3\n",
      "[1] \"../tea/2/add_OGs_sets/N0.HOG0001483/add_OGs_set_num-3.txt\"\n"
     ]
    },
    {
     "name": "stderr",
     "output_type": "stream",
     "text": [
      "Warning message in file.create(missing_file):\n",
      "“cannot create file '../tea/2/add_OGs_sets/N0.HOG0001483/add_OGs_set_num-3.txt', reason 'No such file or directory'”\n"
     ]
    },
    {
     "name": "stdout",
     "output_type": "stream",
     "text": [
      "[1] 2\n",
      "[1] \"../tea/2/add_OGs_sets/N0.HOG0001483/add_OGs_set_num-2.txt\"\n"
     ]
    },
    {
     "name": "stderr",
     "output_type": "stream",
     "text": [
      "Warning message in file.create(missing_file):\n",
      "“cannot create file '../tea/2/add_OGs_sets/N0.HOG0001483/add_OGs_set_num-2.txt', reason 'No such file or directory'”\n"
     ]
    },
    {
     "name": "stdout",
     "output_type": "stream",
     "text": [
      "[1] 1\n",
      "[1] \"../tea/2/add_OGs_sets/N0.HOG0001483/add_OGs_set_num-1.txt\"\n"
     ]
    },
    {
     "name": "stderr",
     "output_type": "stream",
     "text": [
      "Warning message in file.create(missing_file):\n",
      "“cannot create file '../tea/2/add_OGs_sets/N0.HOG0001483/add_OGs_set_num-1.txt', reason 'No such file or directory'”\n"
     ]
    },
    {
     "name": "stdout",
     "output_type": "stream",
     "text": [
      "[1] \"N0.HOG0001492\"\n",
      "character(0)\n",
      "[1] 4\n",
      "[1] 4\n",
      "[1] \"../tea/2/add_OGs_sets/N0.HOG0001492/add_OGs_set_num-4.txt\"\n"
     ]
    },
    {
     "name": "stderr",
     "output_type": "stream",
     "text": [
      "Warning message in file.create(missing_file):\n",
      "“cannot create file '../tea/2/add_OGs_sets/N0.HOG0001492/add_OGs_set_num-4.txt', reason 'No such file or directory'”\n"
     ]
    },
    {
     "name": "stdout",
     "output_type": "stream",
     "text": [
      "[1] 3\n",
      "[1] \"../tea/2/add_OGs_sets/N0.HOG0001492/add_OGs_set_num-3.txt\"\n"
     ]
    },
    {
     "name": "stderr",
     "output_type": "stream",
     "text": [
      "Warning message in file.create(missing_file):\n",
      "“cannot create file '../tea/2/add_OGs_sets/N0.HOG0001492/add_OGs_set_num-3.txt', reason 'No such file or directory'”\n"
     ]
    },
    {
     "name": "stdout",
     "output_type": "stream",
     "text": [
      "[1] 2\n",
      "[1] \"../tea/2/add_OGs_sets/N0.HOG0001492/add_OGs_set_num-2.txt\"\n"
     ]
    },
    {
     "name": "stderr",
     "output_type": "stream",
     "text": [
      "Warning message in file.create(missing_file):\n",
      "“cannot create file '../tea/2/add_OGs_sets/N0.HOG0001492/add_OGs_set_num-2.txt', reason 'No such file or directory'”\n"
     ]
    },
    {
     "name": "stdout",
     "output_type": "stream",
     "text": [
      "[1] 1\n",
      "[1] \"../tea/2/add_OGs_sets/N0.HOG0001492/add_OGs_set_num-1.txt\"\n"
     ]
    },
    {
     "name": "stderr",
     "output_type": "stream",
     "text": [
      "Warning message in file.create(missing_file):\n",
      "“cannot create file '../tea/2/add_OGs_sets/N0.HOG0001492/add_OGs_set_num-1.txt', reason 'No such file or directory'”\n"
     ]
    },
    {
     "name": "stdout",
     "output_type": "stream",
     "text": [
      "[1] \"N0.HOG0001496\"\n",
      "character(0)\n",
      "[1] 4\n",
      "[1] 4\n",
      "[1] \"../tea/2/add_OGs_sets/N0.HOG0001496/add_OGs_set_num-4.txt\"\n"
     ]
    },
    {
     "name": "stderr",
     "output_type": "stream",
     "text": [
      "Warning message in file.create(missing_file):\n",
      "“cannot create file '../tea/2/add_OGs_sets/N0.HOG0001496/add_OGs_set_num-4.txt', reason 'No such file or directory'”\n"
     ]
    },
    {
     "name": "stdout",
     "output_type": "stream",
     "text": [
      "[1] 3\n",
      "[1] \"../tea/2/add_OGs_sets/N0.HOG0001496/add_OGs_set_num-3.txt\"\n"
     ]
    },
    {
     "name": "stderr",
     "output_type": "stream",
     "text": [
      "Warning message in file.create(missing_file):\n",
      "“cannot create file '../tea/2/add_OGs_sets/N0.HOG0001496/add_OGs_set_num-3.txt', reason 'No such file or directory'”\n"
     ]
    },
    {
     "name": "stdout",
     "output_type": "stream",
     "text": [
      "[1] 2\n",
      "[1] \"../tea/2/add_OGs_sets/N0.HOG0001496/add_OGs_set_num-2.txt\"\n"
     ]
    },
    {
     "name": "stderr",
     "output_type": "stream",
     "text": [
      "Warning message in file.create(missing_file):\n",
      "“cannot create file '../tea/2/add_OGs_sets/N0.HOG0001496/add_OGs_set_num-2.txt', reason 'No such file or directory'”\n"
     ]
    },
    {
     "name": "stdout",
     "output_type": "stream",
     "text": [
      "[1] 1\n",
      "[1] \"../tea/2/add_OGs_sets/N0.HOG0001496/add_OGs_set_num-1.txt\"\n"
     ]
    },
    {
     "name": "stderr",
     "output_type": "stream",
     "text": [
      "Warning message in file.create(missing_file):\n",
      "“cannot create file '../tea/2/add_OGs_sets/N0.HOG0001496/add_OGs_set_num-1.txt', reason 'No such file or directory'”\n"
     ]
    },
    {
     "name": "stdout",
     "output_type": "stream",
     "text": [
      "[1] \"N0.HOG0001498\"\n",
      "character(0)\n",
      "[1] 4\n",
      "[1] 4\n",
      "[1] \"../tea/2/add_OGs_sets/N0.HOG0001498/add_OGs_set_num-4.txt\"\n"
     ]
    },
    {
     "name": "stderr",
     "output_type": "stream",
     "text": [
      "Warning message in file.create(missing_file):\n",
      "“cannot create file '../tea/2/add_OGs_sets/N0.HOG0001498/add_OGs_set_num-4.txt', reason 'No such file or directory'”\n"
     ]
    },
    {
     "name": "stdout",
     "output_type": "stream",
     "text": [
      "[1] 3\n",
      "[1] \"../tea/2/add_OGs_sets/N0.HOG0001498/add_OGs_set_num-3.txt\"\n"
     ]
    },
    {
     "name": "stderr",
     "output_type": "stream",
     "text": [
      "Warning message in file.create(missing_file):\n",
      "“cannot create file '../tea/2/add_OGs_sets/N0.HOG0001498/add_OGs_set_num-3.txt', reason 'No such file or directory'”\n"
     ]
    },
    {
     "name": "stdout",
     "output_type": "stream",
     "text": [
      "[1] 2\n",
      "[1] \"../tea/2/add_OGs_sets/N0.HOG0001498/add_OGs_set_num-2.txt\"\n"
     ]
    },
    {
     "name": "stderr",
     "output_type": "stream",
     "text": [
      "Warning message in file.create(missing_file):\n",
      "“cannot create file '../tea/2/add_OGs_sets/N0.HOG0001498/add_OGs_set_num-2.txt', reason 'No such file or directory'”\n"
     ]
    },
    {
     "name": "stdout",
     "output_type": "stream",
     "text": [
      "[1] 1\n",
      "[1] \"../tea/2/add_OGs_sets/N0.HOG0001498/add_OGs_set_num-1.txt\"\n"
     ]
    },
    {
     "name": "stderr",
     "output_type": "stream",
     "text": [
      "Warning message in file.create(missing_file):\n",
      "“cannot create file '../tea/2/add_OGs_sets/N0.HOG0001498/add_OGs_set_num-1.txt', reason 'No such file or directory'”\n"
     ]
    },
    {
     "name": "stdout",
     "output_type": "stream",
     "text": [
      "[1] \"N0.HOG0001499\"\n",
      "character(0)\n",
      "[1] 4\n",
      "[1] 4\n",
      "[1] \"../tea/2/add_OGs_sets/N0.HOG0001499/add_OGs_set_num-4.txt\"\n"
     ]
    },
    {
     "name": "stderr",
     "output_type": "stream",
     "text": [
      "Warning message in file.create(missing_file):\n",
      "“cannot create file '../tea/2/add_OGs_sets/N0.HOG0001499/add_OGs_set_num-4.txt', reason 'No such file or directory'”\n"
     ]
    },
    {
     "name": "stdout",
     "output_type": "stream",
     "text": [
      "[1] 3\n",
      "[1] \"../tea/2/add_OGs_sets/N0.HOG0001499/add_OGs_set_num-3.txt\"\n"
     ]
    },
    {
     "name": "stderr",
     "output_type": "stream",
     "text": [
      "Warning message in file.create(missing_file):\n",
      "“cannot create file '../tea/2/add_OGs_sets/N0.HOG0001499/add_OGs_set_num-3.txt', reason 'No such file or directory'”\n"
     ]
    },
    {
     "name": "stdout",
     "output_type": "stream",
     "text": [
      "[1] 2\n",
      "[1] \"../tea/2/add_OGs_sets/N0.HOG0001499/add_OGs_set_num-2.txt\"\n"
     ]
    },
    {
     "name": "stderr",
     "output_type": "stream",
     "text": [
      "Warning message in file.create(missing_file):\n",
      "“cannot create file '../tea/2/add_OGs_sets/N0.HOG0001499/add_OGs_set_num-2.txt', reason 'No such file or directory'”\n"
     ]
    },
    {
     "name": "stdout",
     "output_type": "stream",
     "text": [
      "[1] 1\n",
      "[1] \"../tea/2/add_OGs_sets/N0.HOG0001499/add_OGs_set_num-1.txt\"\n"
     ]
    },
    {
     "name": "stderr",
     "output_type": "stream",
     "text": [
      "Warning message in file.create(missing_file):\n",
      "“cannot create file '../tea/2/add_OGs_sets/N0.HOG0001499/add_OGs_set_num-1.txt', reason 'No such file or directory'”\n"
     ]
    },
    {
     "name": "stdout",
     "output_type": "stream",
     "text": [
      "[1] \"N0.HOG0001512\"\n",
      "character(0)\n",
      "[1] 4\n",
      "[1] 4\n",
      "[1] \"../tea/2/add_OGs_sets/N0.HOG0001512/add_OGs_set_num-4.txt\"\n"
     ]
    },
    {
     "name": "stderr",
     "output_type": "stream",
     "text": [
      "Warning message in file.create(missing_file):\n",
      "“cannot create file '../tea/2/add_OGs_sets/N0.HOG0001512/add_OGs_set_num-4.txt', reason 'No such file or directory'”\n"
     ]
    },
    {
     "name": "stdout",
     "output_type": "stream",
     "text": [
      "[1] 3\n",
      "[1] \"../tea/2/add_OGs_sets/N0.HOG0001512/add_OGs_set_num-3.txt\"\n"
     ]
    },
    {
     "name": "stderr",
     "output_type": "stream",
     "text": [
      "Warning message in file.create(missing_file):\n",
      "“cannot create file '../tea/2/add_OGs_sets/N0.HOG0001512/add_OGs_set_num-3.txt', reason 'No such file or directory'”\n"
     ]
    },
    {
     "name": "stdout",
     "output_type": "stream",
     "text": [
      "[1] 2\n",
      "[1] \"../tea/2/add_OGs_sets/N0.HOG0001512/add_OGs_set_num-2.txt\"\n"
     ]
    },
    {
     "name": "stderr",
     "output_type": "stream",
     "text": [
      "Warning message in file.create(missing_file):\n",
      "“cannot create file '../tea/2/add_OGs_sets/N0.HOG0001512/add_OGs_set_num-2.txt', reason 'No such file or directory'”\n"
     ]
    },
    {
     "name": "stdout",
     "output_type": "stream",
     "text": [
      "[1] 1\n",
      "[1] \"../tea/2/add_OGs_sets/N0.HOG0001512/add_OGs_set_num-1.txt\"\n"
     ]
    },
    {
     "name": "stderr",
     "output_type": "stream",
     "text": [
      "Warning message in file.create(missing_file):\n",
      "“cannot create file '../tea/2/add_OGs_sets/N0.HOG0001512/add_OGs_set_num-1.txt', reason 'No such file or directory'”\n"
     ]
    },
    {
     "name": "stdout",
     "output_type": "stream",
     "text": [
      "[1] \"N0.HOG0001523\"\n",
      "character(0)\n",
      "[1] 4\n",
      "[1] 4\n",
      "[1] \"../tea/2/add_OGs_sets/N0.HOG0001523/add_OGs_set_num-4.txt\"\n"
     ]
    },
    {
     "name": "stderr",
     "output_type": "stream",
     "text": [
      "Warning message in file.create(missing_file):\n",
      "“cannot create file '../tea/2/add_OGs_sets/N0.HOG0001523/add_OGs_set_num-4.txt', reason 'No such file or directory'”\n"
     ]
    },
    {
     "name": "stdout",
     "output_type": "stream",
     "text": [
      "[1] 3\n",
      "[1] \"../tea/2/add_OGs_sets/N0.HOG0001523/add_OGs_set_num-3.txt\"\n"
     ]
    },
    {
     "name": "stderr",
     "output_type": "stream",
     "text": [
      "Warning message in file.create(missing_file):\n",
      "“cannot create file '../tea/2/add_OGs_sets/N0.HOG0001523/add_OGs_set_num-3.txt', reason 'No such file or directory'”\n"
     ]
    },
    {
     "name": "stdout",
     "output_type": "stream",
     "text": [
      "[1] 2\n",
      "[1] \"../tea/2/add_OGs_sets/N0.HOG0001523/add_OGs_set_num-2.txt\"\n"
     ]
    },
    {
     "name": "stderr",
     "output_type": "stream",
     "text": [
      "Warning message in file.create(missing_file):\n",
      "“cannot create file '../tea/2/add_OGs_sets/N0.HOG0001523/add_OGs_set_num-2.txt', reason 'No such file or directory'”\n"
     ]
    },
    {
     "name": "stdout",
     "output_type": "stream",
     "text": [
      "[1] 1\n",
      "[1] \"../tea/2/add_OGs_sets/N0.HOG0001523/add_OGs_set_num-1.txt\"\n"
     ]
    },
    {
     "name": "stderr",
     "output_type": "stream",
     "text": [
      "Warning message in file.create(missing_file):\n",
      "“cannot create file '../tea/2/add_OGs_sets/N0.HOG0001523/add_OGs_set_num-1.txt', reason 'No such file or directory'”\n"
     ]
    },
    {
     "name": "stdout",
     "output_type": "stream",
     "text": [
      "[1] \"N0.HOG0001681\"\n",
      "character(0)\n",
      "[1] 4\n",
      "[1] 4\n",
      "[1] \"../tea/2/add_OGs_sets/N0.HOG0001681/add_OGs_set_num-4.txt\"\n"
     ]
    },
    {
     "name": "stderr",
     "output_type": "stream",
     "text": [
      "Warning message in file.create(missing_file):\n",
      "“cannot create file '../tea/2/add_OGs_sets/N0.HOG0001681/add_OGs_set_num-4.txt', reason 'No such file or directory'”\n"
     ]
    },
    {
     "name": "stdout",
     "output_type": "stream",
     "text": [
      "[1] 3\n",
      "[1] \"../tea/2/add_OGs_sets/N0.HOG0001681/add_OGs_set_num-3.txt\"\n"
     ]
    },
    {
     "name": "stderr",
     "output_type": "stream",
     "text": [
      "Warning message in file.create(missing_file):\n",
      "“cannot create file '../tea/2/add_OGs_sets/N0.HOG0001681/add_OGs_set_num-3.txt', reason 'No such file or directory'”\n"
     ]
    },
    {
     "name": "stdout",
     "output_type": "stream",
     "text": [
      "[1] 2\n",
      "[1] \"../tea/2/add_OGs_sets/N0.HOG0001681/add_OGs_set_num-2.txt\"\n"
     ]
    },
    {
     "name": "stderr",
     "output_type": "stream",
     "text": [
      "Warning message in file.create(missing_file):\n",
      "“cannot create file '../tea/2/add_OGs_sets/N0.HOG0001681/add_OGs_set_num-2.txt', reason 'No such file or directory'”\n"
     ]
    },
    {
     "name": "stdout",
     "output_type": "stream",
     "text": [
      "[1] 1\n",
      "[1] \"../tea/2/add_OGs_sets/N0.HOG0001681/add_OGs_set_num-1.txt\"\n"
     ]
    },
    {
     "name": "stderr",
     "output_type": "stream",
     "text": [
      "Warning message in file.create(missing_file):\n",
      "“cannot create file '../tea/2/add_OGs_sets/N0.HOG0001681/add_OGs_set_num-1.txt', reason 'No such file or directory'”\n"
     ]
    },
    {
     "name": "stdout",
     "output_type": "stream",
     "text": [
      "[1] \"N0.HOG0001709\"\n",
      "character(0)\n",
      "[1] 4\n",
      "[1] 4\n",
      "[1] \"../tea/2/add_OGs_sets/N0.HOG0001709/add_OGs_set_num-4.txt\"\n"
     ]
    },
    {
     "name": "stderr",
     "output_type": "stream",
     "text": [
      "Warning message in file.create(missing_file):\n",
      "“cannot create file '../tea/2/add_OGs_sets/N0.HOG0001709/add_OGs_set_num-4.txt', reason 'No such file or directory'”\n"
     ]
    },
    {
     "name": "stdout",
     "output_type": "stream",
     "text": [
      "[1] 3\n",
      "[1] \"../tea/2/add_OGs_sets/N0.HOG0001709/add_OGs_set_num-3.txt\"\n"
     ]
    },
    {
     "name": "stderr",
     "output_type": "stream",
     "text": [
      "Warning message in file.create(missing_file):\n",
      "“cannot create file '../tea/2/add_OGs_sets/N0.HOG0001709/add_OGs_set_num-3.txt', reason 'No such file or directory'”\n"
     ]
    },
    {
     "name": "stdout",
     "output_type": "stream",
     "text": [
      "[1] 2\n",
      "[1] \"../tea/2/add_OGs_sets/N0.HOG0001709/add_OGs_set_num-2.txt\"\n"
     ]
    },
    {
     "name": "stderr",
     "output_type": "stream",
     "text": [
      "Warning message in file.create(missing_file):\n",
      "“cannot create file '../tea/2/add_OGs_sets/N0.HOG0001709/add_OGs_set_num-2.txt', reason 'No such file or directory'”\n"
     ]
    },
    {
     "name": "stdout",
     "output_type": "stream",
     "text": [
      "[1] 1\n",
      "[1] \"../tea/2/add_OGs_sets/N0.HOG0001709/add_OGs_set_num-1.txt\"\n"
     ]
    },
    {
     "name": "stderr",
     "output_type": "stream",
     "text": [
      "Warning message in file.create(missing_file):\n",
      "“cannot create file '../tea/2/add_OGs_sets/N0.HOG0001709/add_OGs_set_num-1.txt', reason 'No such file or directory'”\n"
     ]
    },
    {
     "name": "stdout",
     "output_type": "stream",
     "text": [
      "[1] \"N0.HOG0001714\"\n",
      "character(0)\n",
      "[1] 4\n",
      "[1] 4\n",
      "[1] \"../tea/2/add_OGs_sets/N0.HOG0001714/add_OGs_set_num-4.txt\"\n"
     ]
    },
    {
     "name": "stderr",
     "output_type": "stream",
     "text": [
      "Warning message in file.create(missing_file):\n",
      "“cannot create file '../tea/2/add_OGs_sets/N0.HOG0001714/add_OGs_set_num-4.txt', reason 'No such file or directory'”\n"
     ]
    },
    {
     "name": "stdout",
     "output_type": "stream",
     "text": [
      "[1] 3\n",
      "[1] \"../tea/2/add_OGs_sets/N0.HOG0001714/add_OGs_set_num-3.txt\"\n"
     ]
    },
    {
     "name": "stderr",
     "output_type": "stream",
     "text": [
      "Warning message in file.create(missing_file):\n",
      "“cannot create file '../tea/2/add_OGs_sets/N0.HOG0001714/add_OGs_set_num-3.txt', reason 'No such file or directory'”\n"
     ]
    },
    {
     "name": "stdout",
     "output_type": "stream",
     "text": [
      "[1] 2\n",
      "[1] \"../tea/2/add_OGs_sets/N0.HOG0001714/add_OGs_set_num-2.txt\"\n"
     ]
    },
    {
     "name": "stderr",
     "output_type": "stream",
     "text": [
      "Warning message in file.create(missing_file):\n",
      "“cannot create file '../tea/2/add_OGs_sets/N0.HOG0001714/add_OGs_set_num-2.txt', reason 'No such file or directory'”\n"
     ]
    },
    {
     "name": "stdout",
     "output_type": "stream",
     "text": [
      "[1] 1\n",
      "[1] \"../tea/2/add_OGs_sets/N0.HOG0001714/add_OGs_set_num-1.txt\"\n"
     ]
    },
    {
     "name": "stderr",
     "output_type": "stream",
     "text": [
      "Warning message in file.create(missing_file):\n",
      "“cannot create file '../tea/2/add_OGs_sets/N0.HOG0001714/add_OGs_set_num-1.txt', reason 'No such file or directory'”\n"
     ]
    },
    {
     "name": "stdout",
     "output_type": "stream",
     "text": [
      "[1] \"N0.HOG0001716\"\n",
      "character(0)\n",
      "[1] 4\n",
      "[1] 4\n",
      "[1] \"../tea/2/add_OGs_sets/N0.HOG0001716/add_OGs_set_num-4.txt\"\n"
     ]
    },
    {
     "name": "stderr",
     "output_type": "stream",
     "text": [
      "Warning message in file.create(missing_file):\n",
      "“cannot create file '../tea/2/add_OGs_sets/N0.HOG0001716/add_OGs_set_num-4.txt', reason 'No such file or directory'”\n"
     ]
    },
    {
     "name": "stdout",
     "output_type": "stream",
     "text": [
      "[1] 3\n",
      "[1] \"../tea/2/add_OGs_sets/N0.HOG0001716/add_OGs_set_num-3.txt\"\n"
     ]
    },
    {
     "name": "stderr",
     "output_type": "stream",
     "text": [
      "Warning message in file.create(missing_file):\n",
      "“cannot create file '../tea/2/add_OGs_sets/N0.HOG0001716/add_OGs_set_num-3.txt', reason 'No such file or directory'”\n"
     ]
    },
    {
     "name": "stdout",
     "output_type": "stream",
     "text": [
      "[1] 2\n",
      "[1] \"../tea/2/add_OGs_sets/N0.HOG0001716/add_OGs_set_num-2.txt\"\n"
     ]
    },
    {
     "name": "stderr",
     "output_type": "stream",
     "text": [
      "Warning message in file.create(missing_file):\n",
      "“cannot create file '../tea/2/add_OGs_sets/N0.HOG0001716/add_OGs_set_num-2.txt', reason 'No such file or directory'”\n"
     ]
    },
    {
     "name": "stdout",
     "output_type": "stream",
     "text": [
      "[1] 1\n",
      "[1] \"../tea/2/add_OGs_sets/N0.HOG0001716/add_OGs_set_num-1.txt\"\n"
     ]
    },
    {
     "name": "stderr",
     "output_type": "stream",
     "text": [
      "Warning message in file.create(missing_file):\n",
      "“cannot create file '../tea/2/add_OGs_sets/N0.HOG0001716/add_OGs_set_num-1.txt', reason 'No such file or directory'”\n"
     ]
    },
    {
     "name": "stdout",
     "output_type": "stream",
     "text": [
      "[1] \"N0.HOG0001721\"\n",
      "character(0)\n",
      "[1] 4\n",
      "[1] 4\n",
      "[1] \"../tea/2/add_OGs_sets/N0.HOG0001721/add_OGs_set_num-4.txt\"\n"
     ]
    },
    {
     "name": "stderr",
     "output_type": "stream",
     "text": [
      "Warning message in file.create(missing_file):\n",
      "“cannot create file '../tea/2/add_OGs_sets/N0.HOG0001721/add_OGs_set_num-4.txt', reason 'No such file or directory'”\n"
     ]
    },
    {
     "name": "stdout",
     "output_type": "stream",
     "text": [
      "[1] 3\n",
      "[1] \"../tea/2/add_OGs_sets/N0.HOG0001721/add_OGs_set_num-3.txt\"\n"
     ]
    },
    {
     "name": "stderr",
     "output_type": "stream",
     "text": [
      "Warning message in file.create(missing_file):\n",
      "“cannot create file '../tea/2/add_OGs_sets/N0.HOG0001721/add_OGs_set_num-3.txt', reason 'No such file or directory'”\n"
     ]
    },
    {
     "name": "stdout",
     "output_type": "stream",
     "text": [
      "[1] 2\n",
      "[1] \"../tea/2/add_OGs_sets/N0.HOG0001721/add_OGs_set_num-2.txt\"\n"
     ]
    },
    {
     "name": "stderr",
     "output_type": "stream",
     "text": [
      "Warning message in file.create(missing_file):\n",
      "“cannot create file '../tea/2/add_OGs_sets/N0.HOG0001721/add_OGs_set_num-2.txt', reason 'No such file or directory'”\n"
     ]
    },
    {
     "name": "stdout",
     "output_type": "stream",
     "text": [
      "[1] 1\n",
      "[1] \"../tea/2/add_OGs_sets/N0.HOG0001721/add_OGs_set_num-1.txt\"\n"
     ]
    },
    {
     "name": "stderr",
     "output_type": "stream",
     "text": [
      "Warning message in file.create(missing_file):\n",
      "“cannot create file '../tea/2/add_OGs_sets/N0.HOG0001721/add_OGs_set_num-1.txt', reason 'No such file or directory'”\n"
     ]
    },
    {
     "name": "stdout",
     "output_type": "stream",
     "text": [
      "[1] \"N0.HOG0001726\"\n",
      "character(0)\n",
      "[1] 4\n",
      "[1] 4\n",
      "[1] \"../tea/2/add_OGs_sets/N0.HOG0001726/add_OGs_set_num-4.txt\"\n"
     ]
    },
    {
     "name": "stderr",
     "output_type": "stream",
     "text": [
      "Warning message in file.create(missing_file):\n",
      "“cannot create file '../tea/2/add_OGs_sets/N0.HOG0001726/add_OGs_set_num-4.txt', reason 'No such file or directory'”\n"
     ]
    },
    {
     "name": "stdout",
     "output_type": "stream",
     "text": [
      "[1] 3\n",
      "[1] \"../tea/2/add_OGs_sets/N0.HOG0001726/add_OGs_set_num-3.txt\"\n"
     ]
    },
    {
     "name": "stderr",
     "output_type": "stream",
     "text": [
      "Warning message in file.create(missing_file):\n",
      "“cannot create file '../tea/2/add_OGs_sets/N0.HOG0001726/add_OGs_set_num-3.txt', reason 'No such file or directory'”\n"
     ]
    },
    {
     "name": "stdout",
     "output_type": "stream",
     "text": [
      "[1] 2\n",
      "[1] \"../tea/2/add_OGs_sets/N0.HOG0001726/add_OGs_set_num-2.txt\"\n"
     ]
    },
    {
     "name": "stderr",
     "output_type": "stream",
     "text": [
      "Warning message in file.create(missing_file):\n",
      "“cannot create file '../tea/2/add_OGs_sets/N0.HOG0001726/add_OGs_set_num-2.txt', reason 'No such file or directory'”\n"
     ]
    },
    {
     "name": "stdout",
     "output_type": "stream",
     "text": [
      "[1] 1\n",
      "[1] \"../tea/2/add_OGs_sets/N0.HOG0001726/add_OGs_set_num-1.txt\"\n"
     ]
    },
    {
     "name": "stderr",
     "output_type": "stream",
     "text": [
      "Warning message in file.create(missing_file):\n",
      "“cannot create file '../tea/2/add_OGs_sets/N0.HOG0001726/add_OGs_set_num-1.txt', reason 'No such file or directory'”\n"
     ]
    },
    {
     "name": "stdout",
     "output_type": "stream",
     "text": [
      "[1] \"N0.HOG0001729\"\n",
      "character(0)\n",
      "[1] 4\n",
      "[1] 4\n",
      "[1] \"../tea/2/add_OGs_sets/N0.HOG0001729/add_OGs_set_num-4.txt\"\n"
     ]
    },
    {
     "name": "stderr",
     "output_type": "stream",
     "text": [
      "Warning message in file.create(missing_file):\n",
      "“cannot create file '../tea/2/add_OGs_sets/N0.HOG0001729/add_OGs_set_num-4.txt', reason 'No such file or directory'”\n"
     ]
    },
    {
     "name": "stdout",
     "output_type": "stream",
     "text": [
      "[1] 3\n",
      "[1] \"../tea/2/add_OGs_sets/N0.HOG0001729/add_OGs_set_num-3.txt\"\n"
     ]
    },
    {
     "name": "stderr",
     "output_type": "stream",
     "text": [
      "Warning message in file.create(missing_file):\n",
      "“cannot create file '../tea/2/add_OGs_sets/N0.HOG0001729/add_OGs_set_num-3.txt', reason 'No such file or directory'”\n"
     ]
    },
    {
     "name": "stdout",
     "output_type": "stream",
     "text": [
      "[1] 2\n",
      "[1] \"../tea/2/add_OGs_sets/N0.HOG0001729/add_OGs_set_num-2.txt\"\n"
     ]
    },
    {
     "name": "stderr",
     "output_type": "stream",
     "text": [
      "Warning message in file.create(missing_file):\n",
      "“cannot create file '../tea/2/add_OGs_sets/N0.HOG0001729/add_OGs_set_num-2.txt', reason 'No such file or directory'”\n"
     ]
    },
    {
     "name": "stdout",
     "output_type": "stream",
     "text": [
      "[1] 1\n",
      "[1] \"../tea/2/add_OGs_sets/N0.HOG0001729/add_OGs_set_num-1.txt\"\n"
     ]
    },
    {
     "name": "stderr",
     "output_type": "stream",
     "text": [
      "Warning message in file.create(missing_file):\n",
      "“cannot create file '../tea/2/add_OGs_sets/N0.HOG0001729/add_OGs_set_num-1.txt', reason 'No such file or directory'”\n"
     ]
    },
    {
     "name": "stdout",
     "output_type": "stream",
     "text": [
      "[1] \"N0.HOG0001730\"\n",
      "character(0)\n",
      "[1] 4\n",
      "[1] 4\n",
      "[1] \"../tea/2/add_OGs_sets/N0.HOG0001730/add_OGs_set_num-4.txt\"\n"
     ]
    },
    {
     "name": "stderr",
     "output_type": "stream",
     "text": [
      "Warning message in file.create(missing_file):\n",
      "“cannot create file '../tea/2/add_OGs_sets/N0.HOG0001730/add_OGs_set_num-4.txt', reason 'No such file or directory'”\n"
     ]
    },
    {
     "name": "stdout",
     "output_type": "stream",
     "text": [
      "[1] 3\n",
      "[1] \"../tea/2/add_OGs_sets/N0.HOG0001730/add_OGs_set_num-3.txt\"\n"
     ]
    },
    {
     "name": "stderr",
     "output_type": "stream",
     "text": [
      "Warning message in file.create(missing_file):\n",
      "“cannot create file '../tea/2/add_OGs_sets/N0.HOG0001730/add_OGs_set_num-3.txt', reason 'No such file or directory'”\n"
     ]
    },
    {
     "name": "stdout",
     "output_type": "stream",
     "text": [
      "[1] 2\n",
      "[1] \"../tea/2/add_OGs_sets/N0.HOG0001730/add_OGs_set_num-2.txt\"\n"
     ]
    },
    {
     "name": "stderr",
     "output_type": "stream",
     "text": [
      "Warning message in file.create(missing_file):\n",
      "“cannot create file '../tea/2/add_OGs_sets/N0.HOG0001730/add_OGs_set_num-2.txt', reason 'No such file or directory'”\n"
     ]
    },
    {
     "name": "stdout",
     "output_type": "stream",
     "text": [
      "[1] 1\n",
      "[1] \"../tea/2/add_OGs_sets/N0.HOG0001730/add_OGs_set_num-1.txt\"\n"
     ]
    },
    {
     "name": "stderr",
     "output_type": "stream",
     "text": [
      "Warning message in file.create(missing_file):\n",
      "“cannot create file '../tea/2/add_OGs_sets/N0.HOG0001730/add_OGs_set_num-1.txt', reason 'No such file or directory'”\n"
     ]
    },
    {
     "name": "stdout",
     "output_type": "stream",
     "text": [
      "[1] \"N0.HOG0001732\"\n",
      "character(0)\n",
      "[1] 4\n",
      "[1] 4\n",
      "[1] \"../tea/2/add_OGs_sets/N0.HOG0001732/add_OGs_set_num-4.txt\"\n"
     ]
    },
    {
     "name": "stderr",
     "output_type": "stream",
     "text": [
      "Warning message in file.create(missing_file):\n",
      "“cannot create file '../tea/2/add_OGs_sets/N0.HOG0001732/add_OGs_set_num-4.txt', reason 'No such file or directory'”\n"
     ]
    },
    {
     "name": "stdout",
     "output_type": "stream",
     "text": [
      "[1] 3\n",
      "[1] \"../tea/2/add_OGs_sets/N0.HOG0001732/add_OGs_set_num-3.txt\"\n"
     ]
    },
    {
     "name": "stderr",
     "output_type": "stream",
     "text": [
      "Warning message in file.create(missing_file):\n",
      "“cannot create file '../tea/2/add_OGs_sets/N0.HOG0001732/add_OGs_set_num-3.txt', reason 'No such file or directory'”\n"
     ]
    },
    {
     "name": "stdout",
     "output_type": "stream",
     "text": [
      "[1] 2\n",
      "[1] \"../tea/2/add_OGs_sets/N0.HOG0001732/add_OGs_set_num-2.txt\"\n"
     ]
    },
    {
     "name": "stderr",
     "output_type": "stream",
     "text": [
      "Warning message in file.create(missing_file):\n",
      "“cannot create file '../tea/2/add_OGs_sets/N0.HOG0001732/add_OGs_set_num-2.txt', reason 'No such file or directory'”\n"
     ]
    },
    {
     "name": "stdout",
     "output_type": "stream",
     "text": [
      "[1] 1\n",
      "[1] \"../tea/2/add_OGs_sets/N0.HOG0001732/add_OGs_set_num-1.txt\"\n"
     ]
    },
    {
     "name": "stderr",
     "output_type": "stream",
     "text": [
      "Warning message in file.create(missing_file):\n",
      "“cannot create file '../tea/2/add_OGs_sets/N0.HOG0001732/add_OGs_set_num-1.txt', reason 'No such file or directory'”\n"
     ]
    },
    {
     "name": "stdout",
     "output_type": "stream",
     "text": [
      "[1] \"N0.HOG0001738\"\n",
      "character(0)\n",
      "[1] 4\n",
      "[1] 4\n",
      "[1] \"../tea/2/add_OGs_sets/N0.HOG0001738/add_OGs_set_num-4.txt\"\n"
     ]
    },
    {
     "name": "stderr",
     "output_type": "stream",
     "text": [
      "Warning message in file.create(missing_file):\n",
      "“cannot create file '../tea/2/add_OGs_sets/N0.HOG0001738/add_OGs_set_num-4.txt', reason 'No such file or directory'”\n"
     ]
    },
    {
     "name": "stdout",
     "output_type": "stream",
     "text": [
      "[1] 3\n",
      "[1] \"../tea/2/add_OGs_sets/N0.HOG0001738/add_OGs_set_num-3.txt\"\n"
     ]
    },
    {
     "name": "stderr",
     "output_type": "stream",
     "text": [
      "Warning message in file.create(missing_file):\n",
      "“cannot create file '../tea/2/add_OGs_sets/N0.HOG0001738/add_OGs_set_num-3.txt', reason 'No such file or directory'”\n"
     ]
    },
    {
     "name": "stdout",
     "output_type": "stream",
     "text": [
      "[1] 2\n",
      "[1] \"../tea/2/add_OGs_sets/N0.HOG0001738/add_OGs_set_num-2.txt\"\n"
     ]
    },
    {
     "name": "stderr",
     "output_type": "stream",
     "text": [
      "Warning message in file.create(missing_file):\n",
      "“cannot create file '../tea/2/add_OGs_sets/N0.HOG0001738/add_OGs_set_num-2.txt', reason 'No such file or directory'”\n"
     ]
    },
    {
     "name": "stdout",
     "output_type": "stream",
     "text": [
      "[1] 1\n",
      "[1] \"../tea/2/add_OGs_sets/N0.HOG0001738/add_OGs_set_num-1.txt\"\n"
     ]
    },
    {
     "name": "stderr",
     "output_type": "stream",
     "text": [
      "Warning message in file.create(missing_file):\n",
      "“cannot create file '../tea/2/add_OGs_sets/N0.HOG0001738/add_OGs_set_num-1.txt', reason 'No such file or directory'”\n"
     ]
    },
    {
     "name": "stdout",
     "output_type": "stream",
     "text": [
      "[1] \"N0.HOG0001739\"\n",
      "character(0)\n",
      "[1] 4\n",
      "[1] 4\n",
      "[1] \"../tea/2/add_OGs_sets/N0.HOG0001739/add_OGs_set_num-4.txt\"\n"
     ]
    },
    {
     "name": "stderr",
     "output_type": "stream",
     "text": [
      "Warning message in file.create(missing_file):\n",
      "“cannot create file '../tea/2/add_OGs_sets/N0.HOG0001739/add_OGs_set_num-4.txt', reason 'No such file or directory'”\n"
     ]
    },
    {
     "name": "stdout",
     "output_type": "stream",
     "text": [
      "[1] 3\n",
      "[1] \"../tea/2/add_OGs_sets/N0.HOG0001739/add_OGs_set_num-3.txt\"\n"
     ]
    },
    {
     "name": "stderr",
     "output_type": "stream",
     "text": [
      "Warning message in file.create(missing_file):\n",
      "“cannot create file '../tea/2/add_OGs_sets/N0.HOG0001739/add_OGs_set_num-3.txt', reason 'No such file or directory'”\n"
     ]
    },
    {
     "name": "stdout",
     "output_type": "stream",
     "text": [
      "[1] 2\n",
      "[1] \"../tea/2/add_OGs_sets/N0.HOG0001739/add_OGs_set_num-2.txt\"\n"
     ]
    },
    {
     "name": "stderr",
     "output_type": "stream",
     "text": [
      "Warning message in file.create(missing_file):\n",
      "“cannot create file '../tea/2/add_OGs_sets/N0.HOG0001739/add_OGs_set_num-2.txt', reason 'No such file or directory'”\n"
     ]
    },
    {
     "name": "stdout",
     "output_type": "stream",
     "text": [
      "[1] 1\n",
      "[1] \"../tea/2/add_OGs_sets/N0.HOG0001739/add_OGs_set_num-1.txt\"\n"
     ]
    },
    {
     "name": "stderr",
     "output_type": "stream",
     "text": [
      "Warning message in file.create(missing_file):\n",
      "“cannot create file '../tea/2/add_OGs_sets/N0.HOG0001739/add_OGs_set_num-1.txt', reason 'No such file or directory'”\n"
     ]
    },
    {
     "name": "stdout",
     "output_type": "stream",
     "text": [
      "[1] \"N0.HOG0001918\"\n",
      "character(0)\n",
      "[1] 4\n",
      "[1] 4\n",
      "[1] \"../tea/2/add_OGs_sets/N0.HOG0001918/add_OGs_set_num-4.txt\"\n"
     ]
    },
    {
     "name": "stderr",
     "output_type": "stream",
     "text": [
      "Warning message in file.create(missing_file):\n",
      "“cannot create file '../tea/2/add_OGs_sets/N0.HOG0001918/add_OGs_set_num-4.txt', reason 'No such file or directory'”\n"
     ]
    },
    {
     "name": "stdout",
     "output_type": "stream",
     "text": [
      "[1] 3\n",
      "[1] \"../tea/2/add_OGs_sets/N0.HOG0001918/add_OGs_set_num-3.txt\"\n"
     ]
    },
    {
     "name": "stderr",
     "output_type": "stream",
     "text": [
      "Warning message in file.create(missing_file):\n",
      "“cannot create file '../tea/2/add_OGs_sets/N0.HOG0001918/add_OGs_set_num-3.txt', reason 'No such file or directory'”\n"
     ]
    },
    {
     "name": "stdout",
     "output_type": "stream",
     "text": [
      "[1] 2\n",
      "[1] \"../tea/2/add_OGs_sets/N0.HOG0001918/add_OGs_set_num-2.txt\"\n"
     ]
    },
    {
     "name": "stderr",
     "output_type": "stream",
     "text": [
      "Warning message in file.create(missing_file):\n",
      "“cannot create file '../tea/2/add_OGs_sets/N0.HOG0001918/add_OGs_set_num-2.txt', reason 'No such file or directory'”\n"
     ]
    },
    {
     "name": "stdout",
     "output_type": "stream",
     "text": [
      "[1] 1\n",
      "[1] \"../tea/2/add_OGs_sets/N0.HOG0001918/add_OGs_set_num-1.txt\"\n"
     ]
    },
    {
     "name": "stderr",
     "output_type": "stream",
     "text": [
      "Warning message in file.create(missing_file):\n",
      "“cannot create file '../tea/2/add_OGs_sets/N0.HOG0001918/add_OGs_set_num-1.txt', reason 'No such file or directory'”\n"
     ]
    },
    {
     "name": "stdout",
     "output_type": "stream",
     "text": [
      "[1] \"N0.HOG0001920\"\n",
      "character(0)\n",
      "[1] 4\n",
      "[1] 4\n",
      "[1] \"../tea/2/add_OGs_sets/N0.HOG0001920/add_OGs_set_num-4.txt\"\n"
     ]
    },
    {
     "name": "stderr",
     "output_type": "stream",
     "text": [
      "Warning message in file.create(missing_file):\n",
      "“cannot create file '../tea/2/add_OGs_sets/N0.HOG0001920/add_OGs_set_num-4.txt', reason 'No such file or directory'”\n"
     ]
    },
    {
     "name": "stdout",
     "output_type": "stream",
     "text": [
      "[1] 3\n",
      "[1] \"../tea/2/add_OGs_sets/N0.HOG0001920/add_OGs_set_num-3.txt\"\n"
     ]
    },
    {
     "name": "stderr",
     "output_type": "stream",
     "text": [
      "Warning message in file.create(missing_file):\n",
      "“cannot create file '../tea/2/add_OGs_sets/N0.HOG0001920/add_OGs_set_num-3.txt', reason 'No such file or directory'”\n"
     ]
    },
    {
     "name": "stdout",
     "output_type": "stream",
     "text": [
      "[1] 2\n",
      "[1] \"../tea/2/add_OGs_sets/N0.HOG0001920/add_OGs_set_num-2.txt\"\n"
     ]
    },
    {
     "name": "stderr",
     "output_type": "stream",
     "text": [
      "Warning message in file.create(missing_file):\n",
      "“cannot create file '../tea/2/add_OGs_sets/N0.HOG0001920/add_OGs_set_num-2.txt', reason 'No such file or directory'”\n"
     ]
    },
    {
     "name": "stdout",
     "output_type": "stream",
     "text": [
      "[1] 1\n",
      "[1] \"../tea/2/add_OGs_sets/N0.HOG0001920/add_OGs_set_num-1.txt\"\n"
     ]
    },
    {
     "name": "stderr",
     "output_type": "stream",
     "text": [
      "Warning message in file.create(missing_file):\n",
      "“cannot create file '../tea/2/add_OGs_sets/N0.HOG0001920/add_OGs_set_num-1.txt', reason 'No such file or directory'”\n"
     ]
    },
    {
     "name": "stdout",
     "output_type": "stream",
     "text": [
      "[1] \"N0.HOG0001932\"\n",
      "character(0)\n",
      "[1] 4\n",
      "[1] 4\n",
      "[1] \"../tea/2/add_OGs_sets/N0.HOG0001932/add_OGs_set_num-4.txt\"\n"
     ]
    },
    {
     "name": "stderr",
     "output_type": "stream",
     "text": [
      "Warning message in file.create(missing_file):\n",
      "“cannot create file '../tea/2/add_OGs_sets/N0.HOG0001932/add_OGs_set_num-4.txt', reason 'No such file or directory'”\n"
     ]
    },
    {
     "name": "stdout",
     "output_type": "stream",
     "text": [
      "[1] 3\n",
      "[1] \"../tea/2/add_OGs_sets/N0.HOG0001932/add_OGs_set_num-3.txt\"\n"
     ]
    },
    {
     "name": "stderr",
     "output_type": "stream",
     "text": [
      "Warning message in file.create(missing_file):\n",
      "“cannot create file '../tea/2/add_OGs_sets/N0.HOG0001932/add_OGs_set_num-3.txt', reason 'No such file or directory'”\n"
     ]
    },
    {
     "name": "stdout",
     "output_type": "stream",
     "text": [
      "[1] 2\n",
      "[1] \"../tea/2/add_OGs_sets/N0.HOG0001932/add_OGs_set_num-2.txt\"\n"
     ]
    },
    {
     "name": "stderr",
     "output_type": "stream",
     "text": [
      "Warning message in file.create(missing_file):\n",
      "“cannot create file '../tea/2/add_OGs_sets/N0.HOG0001932/add_OGs_set_num-2.txt', reason 'No such file or directory'”\n"
     ]
    },
    {
     "name": "stdout",
     "output_type": "stream",
     "text": [
      "[1] 1\n",
      "[1] \"../tea/2/add_OGs_sets/N0.HOG0001932/add_OGs_set_num-1.txt\"\n"
     ]
    },
    {
     "name": "stderr",
     "output_type": "stream",
     "text": [
      "Warning message in file.create(missing_file):\n",
      "“cannot create file '../tea/2/add_OGs_sets/N0.HOG0001932/add_OGs_set_num-1.txt', reason 'No such file or directory'”\n"
     ]
    },
    {
     "name": "stdout",
     "output_type": "stream",
     "text": [
      "[1] \"N0.HOG0001941\"\n",
      "character(0)\n",
      "[1] 4\n",
      "[1] 4\n",
      "[1] \"../tea/2/add_OGs_sets/N0.HOG0001941/add_OGs_set_num-4.txt\"\n"
     ]
    },
    {
     "name": "stderr",
     "output_type": "stream",
     "text": [
      "Warning message in file.create(missing_file):\n",
      "“cannot create file '../tea/2/add_OGs_sets/N0.HOG0001941/add_OGs_set_num-4.txt', reason 'No such file or directory'”\n"
     ]
    },
    {
     "name": "stdout",
     "output_type": "stream",
     "text": [
      "[1] 3\n",
      "[1] \"../tea/2/add_OGs_sets/N0.HOG0001941/add_OGs_set_num-3.txt\"\n"
     ]
    },
    {
     "name": "stderr",
     "output_type": "stream",
     "text": [
      "Warning message in file.create(missing_file):\n",
      "“cannot create file '../tea/2/add_OGs_sets/N0.HOG0001941/add_OGs_set_num-3.txt', reason 'No such file or directory'”\n"
     ]
    },
    {
     "name": "stdout",
     "output_type": "stream",
     "text": [
      "[1] 2\n",
      "[1] \"../tea/2/add_OGs_sets/N0.HOG0001941/add_OGs_set_num-2.txt\"\n"
     ]
    },
    {
     "name": "stderr",
     "output_type": "stream",
     "text": [
      "Warning message in file.create(missing_file):\n",
      "“cannot create file '../tea/2/add_OGs_sets/N0.HOG0001941/add_OGs_set_num-2.txt', reason 'No such file or directory'”\n"
     ]
    },
    {
     "name": "stdout",
     "output_type": "stream",
     "text": [
      "[1] 1\n",
      "[1] \"../tea/2/add_OGs_sets/N0.HOG0001941/add_OGs_set_num-1.txt\"\n"
     ]
    },
    {
     "name": "stderr",
     "output_type": "stream",
     "text": [
      "Warning message in file.create(missing_file):\n",
      "“cannot create file '../tea/2/add_OGs_sets/N0.HOG0001941/add_OGs_set_num-1.txt', reason 'No such file or directory'”\n"
     ]
    },
    {
     "name": "stdout",
     "output_type": "stream",
     "text": [
      "[1] \"N0.HOG0001956\"\n",
      "character(0)\n",
      "[1] 4\n",
      "[1] 4\n",
      "[1] \"../tea/2/add_OGs_sets/N0.HOG0001956/add_OGs_set_num-4.txt\"\n"
     ]
    },
    {
     "name": "stderr",
     "output_type": "stream",
     "text": [
      "Warning message in file.create(missing_file):\n",
      "“cannot create file '../tea/2/add_OGs_sets/N0.HOG0001956/add_OGs_set_num-4.txt', reason 'No such file or directory'”\n"
     ]
    },
    {
     "name": "stdout",
     "output_type": "stream",
     "text": [
      "[1] 3\n",
      "[1] \"../tea/2/add_OGs_sets/N0.HOG0001956/add_OGs_set_num-3.txt\"\n"
     ]
    },
    {
     "name": "stderr",
     "output_type": "stream",
     "text": [
      "Warning message in file.create(missing_file):\n",
      "“cannot create file '../tea/2/add_OGs_sets/N0.HOG0001956/add_OGs_set_num-3.txt', reason 'No such file or directory'”\n"
     ]
    },
    {
     "name": "stdout",
     "output_type": "stream",
     "text": [
      "[1] 2\n",
      "[1] \"../tea/2/add_OGs_sets/N0.HOG0001956/add_OGs_set_num-2.txt\"\n"
     ]
    },
    {
     "name": "stderr",
     "output_type": "stream",
     "text": [
      "Warning message in file.create(missing_file):\n",
      "“cannot create file '../tea/2/add_OGs_sets/N0.HOG0001956/add_OGs_set_num-2.txt', reason 'No such file or directory'”\n"
     ]
    },
    {
     "name": "stdout",
     "output_type": "stream",
     "text": [
      "[1] 1\n",
      "[1] \"../tea/2/add_OGs_sets/N0.HOG0001956/add_OGs_set_num-1.txt\"\n"
     ]
    },
    {
     "name": "stderr",
     "output_type": "stream",
     "text": [
      "Warning message in file.create(missing_file):\n",
      "“cannot create file '../tea/2/add_OGs_sets/N0.HOG0001956/add_OGs_set_num-1.txt', reason 'No such file or directory'”\n"
     ]
    },
    {
     "name": "stdout",
     "output_type": "stream",
     "text": [
      "[1] \"N0.HOG0001957\"\n",
      "character(0)\n",
      "[1] 4\n",
      "[1] 4\n",
      "[1] \"../tea/2/add_OGs_sets/N0.HOG0001957/add_OGs_set_num-4.txt\"\n"
     ]
    },
    {
     "name": "stderr",
     "output_type": "stream",
     "text": [
      "Warning message in file.create(missing_file):\n",
      "“cannot create file '../tea/2/add_OGs_sets/N0.HOG0001957/add_OGs_set_num-4.txt', reason 'No such file or directory'”\n"
     ]
    },
    {
     "name": "stdout",
     "output_type": "stream",
     "text": [
      "[1] 3\n",
      "[1] \"../tea/2/add_OGs_sets/N0.HOG0001957/add_OGs_set_num-3.txt\"\n"
     ]
    },
    {
     "name": "stderr",
     "output_type": "stream",
     "text": [
      "Warning message in file.create(missing_file):\n",
      "“cannot create file '../tea/2/add_OGs_sets/N0.HOG0001957/add_OGs_set_num-3.txt', reason 'No such file or directory'”\n"
     ]
    },
    {
     "name": "stdout",
     "output_type": "stream",
     "text": [
      "[1] 2\n",
      "[1] \"../tea/2/add_OGs_sets/N0.HOG0001957/add_OGs_set_num-2.txt\"\n"
     ]
    },
    {
     "name": "stderr",
     "output_type": "stream",
     "text": [
      "Warning message in file.create(missing_file):\n",
      "“cannot create file '../tea/2/add_OGs_sets/N0.HOG0001957/add_OGs_set_num-2.txt', reason 'No such file or directory'”\n"
     ]
    },
    {
     "name": "stdout",
     "output_type": "stream",
     "text": [
      "[1] 1\n",
      "[1] \"../tea/2/add_OGs_sets/N0.HOG0001957/add_OGs_set_num-1.txt\"\n"
     ]
    },
    {
     "name": "stderr",
     "output_type": "stream",
     "text": [
      "Warning message in file.create(missing_file):\n",
      "“cannot create file '../tea/2/add_OGs_sets/N0.HOG0001957/add_OGs_set_num-1.txt', reason 'No such file or directory'”\n"
     ]
    },
    {
     "name": "stdout",
     "output_type": "stream",
     "text": [
      "[1] \"N0.HOG0001962\"\n",
      "character(0)\n",
      "[1] 4\n",
      "[1] 4\n",
      "[1] \"../tea/2/add_OGs_sets/N0.HOG0001962/add_OGs_set_num-4.txt\"\n"
     ]
    },
    {
     "name": "stderr",
     "output_type": "stream",
     "text": [
      "Warning message in file.create(missing_file):\n",
      "“cannot create file '../tea/2/add_OGs_sets/N0.HOG0001962/add_OGs_set_num-4.txt', reason 'No such file or directory'”\n"
     ]
    },
    {
     "name": "stdout",
     "output_type": "stream",
     "text": [
      "[1] 3\n",
      "[1] \"../tea/2/add_OGs_sets/N0.HOG0001962/add_OGs_set_num-3.txt\"\n"
     ]
    },
    {
     "name": "stderr",
     "output_type": "stream",
     "text": [
      "Warning message in file.create(missing_file):\n",
      "“cannot create file '../tea/2/add_OGs_sets/N0.HOG0001962/add_OGs_set_num-3.txt', reason 'No such file or directory'”\n"
     ]
    },
    {
     "name": "stdout",
     "output_type": "stream",
     "text": [
      "[1] 2\n",
      "[1] \"../tea/2/add_OGs_sets/N0.HOG0001962/add_OGs_set_num-2.txt\"\n"
     ]
    },
    {
     "name": "stderr",
     "output_type": "stream",
     "text": [
      "Warning message in file.create(missing_file):\n",
      "“cannot create file '../tea/2/add_OGs_sets/N0.HOG0001962/add_OGs_set_num-2.txt', reason 'No such file or directory'”\n"
     ]
    },
    {
     "name": "stdout",
     "output_type": "stream",
     "text": [
      "[1] 1\n",
      "[1] \"../tea/2/add_OGs_sets/N0.HOG0001962/add_OGs_set_num-1.txt\"\n"
     ]
    },
    {
     "name": "stderr",
     "output_type": "stream",
     "text": [
      "Warning message in file.create(missing_file):\n",
      "“cannot create file '../tea/2/add_OGs_sets/N0.HOG0001962/add_OGs_set_num-1.txt', reason 'No such file or directory'”\n"
     ]
    },
    {
     "name": "stdout",
     "output_type": "stream",
     "text": [
      "[1] \"N0.HOG0001968\"\n",
      "character(0)\n",
      "[1] 4\n",
      "[1] 4\n",
      "[1] \"../tea/2/add_OGs_sets/N0.HOG0001968/add_OGs_set_num-4.txt\"\n"
     ]
    },
    {
     "name": "stderr",
     "output_type": "stream",
     "text": [
      "Warning message in file.create(missing_file):\n",
      "“cannot create file '../tea/2/add_OGs_sets/N0.HOG0001968/add_OGs_set_num-4.txt', reason 'No such file or directory'”\n"
     ]
    },
    {
     "name": "stdout",
     "output_type": "stream",
     "text": [
      "[1] 3\n",
      "[1] \"../tea/2/add_OGs_sets/N0.HOG0001968/add_OGs_set_num-3.txt\"\n"
     ]
    },
    {
     "name": "stderr",
     "output_type": "stream",
     "text": [
      "Warning message in file.create(missing_file):\n",
      "“cannot create file '../tea/2/add_OGs_sets/N0.HOG0001968/add_OGs_set_num-3.txt', reason 'No such file or directory'”\n"
     ]
    },
    {
     "name": "stdout",
     "output_type": "stream",
     "text": [
      "[1] 2\n",
      "[1] \"../tea/2/add_OGs_sets/N0.HOG0001968/add_OGs_set_num-2.txt\"\n"
     ]
    },
    {
     "name": "stderr",
     "output_type": "stream",
     "text": [
      "Warning message in file.create(missing_file):\n",
      "“cannot create file '../tea/2/add_OGs_sets/N0.HOG0001968/add_OGs_set_num-2.txt', reason 'No such file or directory'”\n"
     ]
    },
    {
     "name": "stdout",
     "output_type": "stream",
     "text": [
      "[1] 1\n",
      "[1] \"../tea/2/add_OGs_sets/N0.HOG0001968/add_OGs_set_num-1.txt\"\n"
     ]
    },
    {
     "name": "stderr",
     "output_type": "stream",
     "text": [
      "Warning message in file.create(missing_file):\n",
      "“cannot create file '../tea/2/add_OGs_sets/N0.HOG0001968/add_OGs_set_num-1.txt', reason 'No such file or directory'”\n"
     ]
    },
    {
     "name": "stdout",
     "output_type": "stream",
     "text": [
      "[1] \"N0.HOG0001969\"\n",
      "character(0)\n",
      "[1] 4\n",
      "[1] 4\n",
      "[1] \"../tea/2/add_OGs_sets/N0.HOG0001969/add_OGs_set_num-4.txt\"\n"
     ]
    },
    {
     "name": "stderr",
     "output_type": "stream",
     "text": [
      "Warning message in file.create(missing_file):\n",
      "“cannot create file '../tea/2/add_OGs_sets/N0.HOG0001969/add_OGs_set_num-4.txt', reason 'No such file or directory'”\n"
     ]
    },
    {
     "name": "stdout",
     "output_type": "stream",
     "text": [
      "[1] 3\n",
      "[1] \"../tea/2/add_OGs_sets/N0.HOG0001969/add_OGs_set_num-3.txt\"\n"
     ]
    },
    {
     "name": "stderr",
     "output_type": "stream",
     "text": [
      "Warning message in file.create(missing_file):\n",
      "“cannot create file '../tea/2/add_OGs_sets/N0.HOG0001969/add_OGs_set_num-3.txt', reason 'No such file or directory'”\n"
     ]
    },
    {
     "name": "stdout",
     "output_type": "stream",
     "text": [
      "[1] 2\n",
      "[1] \"../tea/2/add_OGs_sets/N0.HOG0001969/add_OGs_set_num-2.txt\"\n"
     ]
    },
    {
     "name": "stderr",
     "output_type": "stream",
     "text": [
      "Warning message in file.create(missing_file):\n",
      "“cannot create file '../tea/2/add_OGs_sets/N0.HOG0001969/add_OGs_set_num-2.txt', reason 'No such file or directory'”\n"
     ]
    },
    {
     "name": "stdout",
     "output_type": "stream",
     "text": [
      "[1] 1\n",
      "[1] \"../tea/2/add_OGs_sets/N0.HOG0001969/add_OGs_set_num-1.txt\"\n"
     ]
    },
    {
     "name": "stderr",
     "output_type": "stream",
     "text": [
      "Warning message in file.create(missing_file):\n",
      "“cannot create file '../tea/2/add_OGs_sets/N0.HOG0001969/add_OGs_set_num-1.txt', reason 'No such file or directory'”\n"
     ]
    },
    {
     "name": "stdout",
     "output_type": "stream",
     "text": [
      "[1] \"N0.HOG0001971\"\n",
      "character(0)\n",
      "[1] 4\n",
      "[1] 4\n",
      "[1] \"../tea/2/add_OGs_sets/N0.HOG0001971/add_OGs_set_num-4.txt\"\n"
     ]
    },
    {
     "name": "stderr",
     "output_type": "stream",
     "text": [
      "Warning message in file.create(missing_file):\n",
      "“cannot create file '../tea/2/add_OGs_sets/N0.HOG0001971/add_OGs_set_num-4.txt', reason 'No such file or directory'”\n"
     ]
    },
    {
     "name": "stdout",
     "output_type": "stream",
     "text": [
      "[1] 3\n",
      "[1] \"../tea/2/add_OGs_sets/N0.HOG0001971/add_OGs_set_num-3.txt\"\n"
     ]
    },
    {
     "name": "stderr",
     "output_type": "stream",
     "text": [
      "Warning message in file.create(missing_file):\n",
      "“cannot create file '../tea/2/add_OGs_sets/N0.HOG0001971/add_OGs_set_num-3.txt', reason 'No such file or directory'”\n"
     ]
    },
    {
     "name": "stdout",
     "output_type": "stream",
     "text": [
      "[1] 2\n",
      "[1] \"../tea/2/add_OGs_sets/N0.HOG0001971/add_OGs_set_num-2.txt\"\n"
     ]
    },
    {
     "name": "stderr",
     "output_type": "stream",
     "text": [
      "Warning message in file.create(missing_file):\n",
      "“cannot create file '../tea/2/add_OGs_sets/N0.HOG0001971/add_OGs_set_num-2.txt', reason 'No such file or directory'”\n"
     ]
    },
    {
     "name": "stdout",
     "output_type": "stream",
     "text": [
      "[1] 1\n",
      "[1] \"../tea/2/add_OGs_sets/N0.HOG0001971/add_OGs_set_num-1.txt\"\n"
     ]
    },
    {
     "name": "stderr",
     "output_type": "stream",
     "text": [
      "Warning message in file.create(missing_file):\n",
      "“cannot create file '../tea/2/add_OGs_sets/N0.HOG0001971/add_OGs_set_num-1.txt', reason 'No such file or directory'”\n"
     ]
    },
    {
     "name": "stdout",
     "output_type": "stream",
     "text": [
      "[1] \"N0.HOG0002168\"\n",
      "character(0)\n",
      "[1] 4\n",
      "[1] 4\n",
      "[1] \"../tea/2/add_OGs_sets/N0.HOG0002168/add_OGs_set_num-4.txt\"\n"
     ]
    },
    {
     "name": "stderr",
     "output_type": "stream",
     "text": [
      "Warning message in file.create(missing_file):\n",
      "“cannot create file '../tea/2/add_OGs_sets/N0.HOG0002168/add_OGs_set_num-4.txt', reason 'No such file or directory'”\n"
     ]
    },
    {
     "name": "stdout",
     "output_type": "stream",
     "text": [
      "[1] 3\n",
      "[1] \"../tea/2/add_OGs_sets/N0.HOG0002168/add_OGs_set_num-3.txt\"\n"
     ]
    },
    {
     "name": "stderr",
     "output_type": "stream",
     "text": [
      "Warning message in file.create(missing_file):\n",
      "“cannot create file '../tea/2/add_OGs_sets/N0.HOG0002168/add_OGs_set_num-3.txt', reason 'No such file or directory'”\n"
     ]
    },
    {
     "name": "stdout",
     "output_type": "stream",
     "text": [
      "[1] 2\n",
      "[1] \"../tea/2/add_OGs_sets/N0.HOG0002168/add_OGs_set_num-2.txt\"\n"
     ]
    },
    {
     "name": "stderr",
     "output_type": "stream",
     "text": [
      "Warning message in file.create(missing_file):\n",
      "“cannot create file '../tea/2/add_OGs_sets/N0.HOG0002168/add_OGs_set_num-2.txt', reason 'No such file or directory'”\n"
     ]
    },
    {
     "name": "stdout",
     "output_type": "stream",
     "text": [
      "[1] 1\n",
      "[1] \"../tea/2/add_OGs_sets/N0.HOG0002168/add_OGs_set_num-1.txt\"\n"
     ]
    },
    {
     "name": "stderr",
     "output_type": "stream",
     "text": [
      "Warning message in file.create(missing_file):\n",
      "“cannot create file '../tea/2/add_OGs_sets/N0.HOG0002168/add_OGs_set_num-1.txt', reason 'No such file or directory'”\n"
     ]
    },
    {
     "name": "stdout",
     "output_type": "stream",
     "text": [
      "[1] \"N0.HOG0002193\"\n",
      "character(0)\n",
      "[1] 4\n",
      "[1] 4\n",
      "[1] \"../tea/2/add_OGs_sets/N0.HOG0002193/add_OGs_set_num-4.txt\"\n"
     ]
    },
    {
     "name": "stderr",
     "output_type": "stream",
     "text": [
      "Warning message in file.create(missing_file):\n",
      "“cannot create file '../tea/2/add_OGs_sets/N0.HOG0002193/add_OGs_set_num-4.txt', reason 'No such file or directory'”\n"
     ]
    },
    {
     "name": "stdout",
     "output_type": "stream",
     "text": [
      "[1] 3\n",
      "[1] \"../tea/2/add_OGs_sets/N0.HOG0002193/add_OGs_set_num-3.txt\"\n"
     ]
    },
    {
     "name": "stderr",
     "output_type": "stream",
     "text": [
      "Warning message in file.create(missing_file):\n",
      "“cannot create file '../tea/2/add_OGs_sets/N0.HOG0002193/add_OGs_set_num-3.txt', reason 'No such file or directory'”\n"
     ]
    },
    {
     "name": "stdout",
     "output_type": "stream",
     "text": [
      "[1] 2\n",
      "[1] \"../tea/2/add_OGs_sets/N0.HOG0002193/add_OGs_set_num-2.txt\"\n"
     ]
    },
    {
     "name": "stderr",
     "output_type": "stream",
     "text": [
      "Warning message in file.create(missing_file):\n",
      "“cannot create file '../tea/2/add_OGs_sets/N0.HOG0002193/add_OGs_set_num-2.txt', reason 'No such file or directory'”\n"
     ]
    },
    {
     "name": "stdout",
     "output_type": "stream",
     "text": [
      "[1] 1\n",
      "[1] \"../tea/2/add_OGs_sets/N0.HOG0002193/add_OGs_set_num-1.txt\"\n"
     ]
    },
    {
     "name": "stderr",
     "output_type": "stream",
     "text": [
      "Warning message in file.create(missing_file):\n",
      "“cannot create file '../tea/2/add_OGs_sets/N0.HOG0002193/add_OGs_set_num-1.txt', reason 'No such file or directory'”\n"
     ]
    },
    {
     "name": "stdout",
     "output_type": "stream",
     "text": [
      "[1] \"N0.HOG0002202\"\n",
      "character(0)\n",
      "[1] 4\n",
      "[1] 4\n",
      "[1] \"../tea/2/add_OGs_sets/N0.HOG0002202/add_OGs_set_num-4.txt\"\n"
     ]
    },
    {
     "name": "stderr",
     "output_type": "stream",
     "text": [
      "Warning message in file.create(missing_file):\n",
      "“cannot create file '../tea/2/add_OGs_sets/N0.HOG0002202/add_OGs_set_num-4.txt', reason 'No such file or directory'”\n"
     ]
    },
    {
     "name": "stdout",
     "output_type": "stream",
     "text": [
      "[1] 3\n",
      "[1] \"../tea/2/add_OGs_sets/N0.HOG0002202/add_OGs_set_num-3.txt\"\n"
     ]
    },
    {
     "name": "stderr",
     "output_type": "stream",
     "text": [
      "Warning message in file.create(missing_file):\n",
      "“cannot create file '../tea/2/add_OGs_sets/N0.HOG0002202/add_OGs_set_num-3.txt', reason 'No such file or directory'”\n"
     ]
    },
    {
     "name": "stdout",
     "output_type": "stream",
     "text": [
      "[1] 2\n",
      "[1] \"../tea/2/add_OGs_sets/N0.HOG0002202/add_OGs_set_num-2.txt\"\n"
     ]
    },
    {
     "name": "stderr",
     "output_type": "stream",
     "text": [
      "Warning message in file.create(missing_file):\n",
      "“cannot create file '../tea/2/add_OGs_sets/N0.HOG0002202/add_OGs_set_num-2.txt', reason 'No such file or directory'”\n"
     ]
    },
    {
     "name": "stdout",
     "output_type": "stream",
     "text": [
      "[1] 1\n",
      "[1] \"../tea/2/add_OGs_sets/N0.HOG0002202/add_OGs_set_num-1.txt\"\n"
     ]
    },
    {
     "name": "stderr",
     "output_type": "stream",
     "text": [
      "Warning message in file.create(missing_file):\n",
      "“cannot create file '../tea/2/add_OGs_sets/N0.HOG0002202/add_OGs_set_num-1.txt', reason 'No such file or directory'”\n"
     ]
    },
    {
     "name": "stdout",
     "output_type": "stream",
     "text": [
      "[1] \"N0.HOG0002204\"\n",
      "character(0)\n",
      "[1] 4\n",
      "[1] 4\n",
      "[1] \"../tea/2/add_OGs_sets/N0.HOG0002204/add_OGs_set_num-4.txt\"\n"
     ]
    },
    {
     "name": "stderr",
     "output_type": "stream",
     "text": [
      "Warning message in file.create(missing_file):\n",
      "“cannot create file '../tea/2/add_OGs_sets/N0.HOG0002204/add_OGs_set_num-4.txt', reason 'No such file or directory'”\n"
     ]
    },
    {
     "name": "stdout",
     "output_type": "stream",
     "text": [
      "[1] 3\n",
      "[1] \"../tea/2/add_OGs_sets/N0.HOG0002204/add_OGs_set_num-3.txt\"\n"
     ]
    },
    {
     "name": "stderr",
     "output_type": "stream",
     "text": [
      "Warning message in file.create(missing_file):\n",
      "“cannot create file '../tea/2/add_OGs_sets/N0.HOG0002204/add_OGs_set_num-3.txt', reason 'No such file or directory'”\n"
     ]
    },
    {
     "name": "stdout",
     "output_type": "stream",
     "text": [
      "[1] 2\n",
      "[1] \"../tea/2/add_OGs_sets/N0.HOG0002204/add_OGs_set_num-2.txt\"\n"
     ]
    },
    {
     "name": "stderr",
     "output_type": "stream",
     "text": [
      "Warning message in file.create(missing_file):\n",
      "“cannot create file '../tea/2/add_OGs_sets/N0.HOG0002204/add_OGs_set_num-2.txt', reason 'No such file or directory'”\n"
     ]
    },
    {
     "name": "stdout",
     "output_type": "stream",
     "text": [
      "[1] 1\n",
      "[1] \"../tea/2/add_OGs_sets/N0.HOG0002204/add_OGs_set_num-1.txt\"\n"
     ]
    },
    {
     "name": "stderr",
     "output_type": "stream",
     "text": [
      "Warning message in file.create(missing_file):\n",
      "“cannot create file '../tea/2/add_OGs_sets/N0.HOG0002204/add_OGs_set_num-1.txt', reason 'No such file or directory'”\n"
     ]
    },
    {
     "name": "stdout",
     "output_type": "stream",
     "text": [
      "[1] \"N0.HOG0002211\"\n",
      "character(0)\n",
      "[1] 4\n",
      "[1] 4\n",
      "[1] \"../tea/2/add_OGs_sets/N0.HOG0002211/add_OGs_set_num-4.txt\"\n"
     ]
    },
    {
     "name": "stderr",
     "output_type": "stream",
     "text": [
      "Warning message in file.create(missing_file):\n",
      "“cannot create file '../tea/2/add_OGs_sets/N0.HOG0002211/add_OGs_set_num-4.txt', reason 'No such file or directory'”\n"
     ]
    },
    {
     "name": "stdout",
     "output_type": "stream",
     "text": [
      "[1] 3\n",
      "[1] \"../tea/2/add_OGs_sets/N0.HOG0002211/add_OGs_set_num-3.txt\"\n"
     ]
    },
    {
     "name": "stderr",
     "output_type": "stream",
     "text": [
      "Warning message in file.create(missing_file):\n",
      "“cannot create file '../tea/2/add_OGs_sets/N0.HOG0002211/add_OGs_set_num-3.txt', reason 'No such file or directory'”\n"
     ]
    },
    {
     "name": "stdout",
     "output_type": "stream",
     "text": [
      "[1] 2\n",
      "[1] \"../tea/2/add_OGs_sets/N0.HOG0002211/add_OGs_set_num-2.txt\"\n"
     ]
    },
    {
     "name": "stderr",
     "output_type": "stream",
     "text": [
      "Warning message in file.create(missing_file):\n",
      "“cannot create file '../tea/2/add_OGs_sets/N0.HOG0002211/add_OGs_set_num-2.txt', reason 'No such file or directory'”\n"
     ]
    },
    {
     "name": "stdout",
     "output_type": "stream",
     "text": [
      "[1] 1\n",
      "[1] \"../tea/2/add_OGs_sets/N0.HOG0002211/add_OGs_set_num-1.txt\"\n"
     ]
    },
    {
     "name": "stderr",
     "output_type": "stream",
     "text": [
      "Warning message in file.create(missing_file):\n",
      "“cannot create file '../tea/2/add_OGs_sets/N0.HOG0002211/add_OGs_set_num-1.txt', reason 'No such file or directory'”\n"
     ]
    },
    {
     "name": "stdout",
     "output_type": "stream",
     "text": [
      "[1] \"N0.HOG0002231\"\n",
      "character(0)\n",
      "[1] 4\n",
      "[1] 4\n",
      "[1] \"../tea/2/add_OGs_sets/N0.HOG0002231/add_OGs_set_num-4.txt\"\n"
     ]
    },
    {
     "name": "stderr",
     "output_type": "stream",
     "text": [
      "Warning message in file.create(missing_file):\n",
      "“cannot create file '../tea/2/add_OGs_sets/N0.HOG0002231/add_OGs_set_num-4.txt', reason 'No such file or directory'”\n"
     ]
    },
    {
     "name": "stdout",
     "output_type": "stream",
     "text": [
      "[1] 3\n",
      "[1] \"../tea/2/add_OGs_sets/N0.HOG0002231/add_OGs_set_num-3.txt\"\n"
     ]
    },
    {
     "name": "stderr",
     "output_type": "stream",
     "text": [
      "Warning message in file.create(missing_file):\n",
      "“cannot create file '../tea/2/add_OGs_sets/N0.HOG0002231/add_OGs_set_num-3.txt', reason 'No such file or directory'”\n"
     ]
    },
    {
     "name": "stdout",
     "output_type": "stream",
     "text": [
      "[1] 2\n",
      "[1] \"../tea/2/add_OGs_sets/N0.HOG0002231/add_OGs_set_num-2.txt\"\n"
     ]
    },
    {
     "name": "stderr",
     "output_type": "stream",
     "text": [
      "Warning message in file.create(missing_file):\n",
      "“cannot create file '../tea/2/add_OGs_sets/N0.HOG0002231/add_OGs_set_num-2.txt', reason 'No such file or directory'”\n"
     ]
    },
    {
     "name": "stdout",
     "output_type": "stream",
     "text": [
      "[1] 1\n",
      "[1] \"../tea/2/add_OGs_sets/N0.HOG0002231/add_OGs_set_num-1.txt\"\n"
     ]
    },
    {
     "name": "stderr",
     "output_type": "stream",
     "text": [
      "Warning message in file.create(missing_file):\n",
      "“cannot create file '../tea/2/add_OGs_sets/N0.HOG0002231/add_OGs_set_num-1.txt', reason 'No such file or directory'”\n"
     ]
    },
    {
     "name": "stdout",
     "output_type": "stream",
     "text": [
      "[1] \"N0.HOG0002243\"\n",
      "character(0)\n",
      "[1] 4\n",
      "[1] 4\n",
      "[1] \"../tea/2/add_OGs_sets/N0.HOG0002243/add_OGs_set_num-4.txt\"\n"
     ]
    },
    {
     "name": "stderr",
     "output_type": "stream",
     "text": [
      "Warning message in file.create(missing_file):\n",
      "“cannot create file '../tea/2/add_OGs_sets/N0.HOG0002243/add_OGs_set_num-4.txt', reason 'No such file or directory'”\n"
     ]
    },
    {
     "name": "stdout",
     "output_type": "stream",
     "text": [
      "[1] 3\n",
      "[1] \"../tea/2/add_OGs_sets/N0.HOG0002243/add_OGs_set_num-3.txt\"\n"
     ]
    },
    {
     "name": "stderr",
     "output_type": "stream",
     "text": [
      "Warning message in file.create(missing_file):\n",
      "“cannot create file '../tea/2/add_OGs_sets/N0.HOG0002243/add_OGs_set_num-3.txt', reason 'No such file or directory'”\n"
     ]
    },
    {
     "name": "stdout",
     "output_type": "stream",
     "text": [
      "[1] 2\n",
      "[1] \"../tea/2/add_OGs_sets/N0.HOG0002243/add_OGs_set_num-2.txt\"\n"
     ]
    },
    {
     "name": "stderr",
     "output_type": "stream",
     "text": [
      "Warning message in file.create(missing_file):\n",
      "“cannot create file '../tea/2/add_OGs_sets/N0.HOG0002243/add_OGs_set_num-2.txt', reason 'No such file or directory'”\n"
     ]
    },
    {
     "name": "stdout",
     "output_type": "stream",
     "text": [
      "[1] 1\n",
      "[1] \"../tea/2/add_OGs_sets/N0.HOG0002243/add_OGs_set_num-1.txt\"\n"
     ]
    },
    {
     "name": "stderr",
     "output_type": "stream",
     "text": [
      "Warning message in file.create(missing_file):\n",
      "“cannot create file '../tea/2/add_OGs_sets/N0.HOG0002243/add_OGs_set_num-1.txt', reason 'No such file or directory'”\n"
     ]
    },
    {
     "name": "stdout",
     "output_type": "stream",
     "text": [
      "[1] \"N0.HOG0002542\"\n",
      "character(0)\n",
      "[1] 4\n",
      "[1] 4\n",
      "[1] \"../tea/2/add_OGs_sets/N0.HOG0002542/add_OGs_set_num-4.txt\"\n"
     ]
    },
    {
     "name": "stderr",
     "output_type": "stream",
     "text": [
      "Warning message in file.create(missing_file):\n",
      "“cannot create file '../tea/2/add_OGs_sets/N0.HOG0002542/add_OGs_set_num-4.txt', reason 'No such file or directory'”\n"
     ]
    },
    {
     "name": "stdout",
     "output_type": "stream",
     "text": [
      "[1] 3\n",
      "[1] \"../tea/2/add_OGs_sets/N0.HOG0002542/add_OGs_set_num-3.txt\"\n"
     ]
    },
    {
     "name": "stderr",
     "output_type": "stream",
     "text": [
      "Warning message in file.create(missing_file):\n",
      "“cannot create file '../tea/2/add_OGs_sets/N0.HOG0002542/add_OGs_set_num-3.txt', reason 'No such file or directory'”\n"
     ]
    },
    {
     "name": "stdout",
     "output_type": "stream",
     "text": [
      "[1] 2\n",
      "[1] \"../tea/2/add_OGs_sets/N0.HOG0002542/add_OGs_set_num-2.txt\"\n"
     ]
    },
    {
     "name": "stderr",
     "output_type": "stream",
     "text": [
      "Warning message in file.create(missing_file):\n",
      "“cannot create file '../tea/2/add_OGs_sets/N0.HOG0002542/add_OGs_set_num-2.txt', reason 'No such file or directory'”\n"
     ]
    },
    {
     "name": "stdout",
     "output_type": "stream",
     "text": [
      "[1] 1\n",
      "[1] \"../tea/2/add_OGs_sets/N0.HOG0002542/add_OGs_set_num-1.txt\"\n"
     ]
    },
    {
     "name": "stderr",
     "output_type": "stream",
     "text": [
      "Warning message in file.create(missing_file):\n",
      "“cannot create file '../tea/2/add_OGs_sets/N0.HOG0002542/add_OGs_set_num-1.txt', reason 'No such file or directory'”\n"
     ]
    },
    {
     "name": "stdout",
     "output_type": "stream",
     "text": [
      "[1] \"N0.HOG0002543\"\n",
      "character(0)\n",
      "[1] 4\n",
      "[1] 4\n",
      "[1] \"../tea/2/add_OGs_sets/N0.HOG0002543/add_OGs_set_num-4.txt\"\n"
     ]
    },
    {
     "name": "stderr",
     "output_type": "stream",
     "text": [
      "Warning message in file.create(missing_file):\n",
      "“cannot create file '../tea/2/add_OGs_sets/N0.HOG0002543/add_OGs_set_num-4.txt', reason 'No such file or directory'”\n"
     ]
    },
    {
     "name": "stdout",
     "output_type": "stream",
     "text": [
      "[1] 3\n",
      "[1] \"../tea/2/add_OGs_sets/N0.HOG0002543/add_OGs_set_num-3.txt\"\n"
     ]
    },
    {
     "name": "stderr",
     "output_type": "stream",
     "text": [
      "Warning message in file.create(missing_file):\n",
      "“cannot create file '../tea/2/add_OGs_sets/N0.HOG0002543/add_OGs_set_num-3.txt', reason 'No such file or directory'”\n"
     ]
    },
    {
     "name": "stdout",
     "output_type": "stream",
     "text": [
      "[1] 2\n",
      "[1] \"../tea/2/add_OGs_sets/N0.HOG0002543/add_OGs_set_num-2.txt\"\n"
     ]
    },
    {
     "name": "stderr",
     "output_type": "stream",
     "text": [
      "Warning message in file.create(missing_file):\n",
      "“cannot create file '../tea/2/add_OGs_sets/N0.HOG0002543/add_OGs_set_num-2.txt', reason 'No such file or directory'”\n"
     ]
    },
    {
     "name": "stdout",
     "output_type": "stream",
     "text": [
      "[1] 1\n",
      "[1] \"../tea/2/add_OGs_sets/N0.HOG0002543/add_OGs_set_num-1.txt\"\n"
     ]
    },
    {
     "name": "stderr",
     "output_type": "stream",
     "text": [
      "Warning message in file.create(missing_file):\n",
      "“cannot create file '../tea/2/add_OGs_sets/N0.HOG0002543/add_OGs_set_num-1.txt', reason 'No such file or directory'”\n"
     ]
    },
    {
     "name": "stdout",
     "output_type": "stream",
     "text": [
      "[1] \"N0.HOG0002569\"\n",
      "character(0)\n",
      "[1] 4\n",
      "[1] 4\n",
      "[1] \"../tea/2/add_OGs_sets/N0.HOG0002569/add_OGs_set_num-4.txt\"\n"
     ]
    },
    {
     "name": "stderr",
     "output_type": "stream",
     "text": [
      "Warning message in file.create(missing_file):\n",
      "“cannot create file '../tea/2/add_OGs_sets/N0.HOG0002569/add_OGs_set_num-4.txt', reason 'No such file or directory'”\n"
     ]
    },
    {
     "name": "stdout",
     "output_type": "stream",
     "text": [
      "[1] 3\n",
      "[1] \"../tea/2/add_OGs_sets/N0.HOG0002569/add_OGs_set_num-3.txt\"\n"
     ]
    },
    {
     "name": "stderr",
     "output_type": "stream",
     "text": [
      "Warning message in file.create(missing_file):\n",
      "“cannot create file '../tea/2/add_OGs_sets/N0.HOG0002569/add_OGs_set_num-3.txt', reason 'No such file or directory'”\n"
     ]
    },
    {
     "name": "stdout",
     "output_type": "stream",
     "text": [
      "[1] 2\n",
      "[1] \"../tea/2/add_OGs_sets/N0.HOG0002569/add_OGs_set_num-2.txt\"\n"
     ]
    },
    {
     "name": "stderr",
     "output_type": "stream",
     "text": [
      "Warning message in file.create(missing_file):\n",
      "“cannot create file '../tea/2/add_OGs_sets/N0.HOG0002569/add_OGs_set_num-2.txt', reason 'No such file or directory'”\n"
     ]
    },
    {
     "name": "stdout",
     "output_type": "stream",
     "text": [
      "[1] 1\n",
      "[1] \"../tea/2/add_OGs_sets/N0.HOG0002569/add_OGs_set_num-1.txt\"\n"
     ]
    },
    {
     "name": "stderr",
     "output_type": "stream",
     "text": [
      "Warning message in file.create(missing_file):\n",
      "“cannot create file '../tea/2/add_OGs_sets/N0.HOG0002569/add_OGs_set_num-1.txt', reason 'No such file or directory'”\n"
     ]
    },
    {
     "name": "stdout",
     "output_type": "stream",
     "text": [
      "[1] \"N0.HOG0002573\"\n",
      "character(0)\n",
      "[1] 4\n",
      "[1] 4\n",
      "[1] \"../tea/2/add_OGs_sets/N0.HOG0002573/add_OGs_set_num-4.txt\"\n"
     ]
    },
    {
     "name": "stderr",
     "output_type": "stream",
     "text": [
      "Warning message in file.create(missing_file):\n",
      "“cannot create file '../tea/2/add_OGs_sets/N0.HOG0002573/add_OGs_set_num-4.txt', reason 'No such file or directory'”\n"
     ]
    },
    {
     "name": "stdout",
     "output_type": "stream",
     "text": [
      "[1] 3\n",
      "[1] \"../tea/2/add_OGs_sets/N0.HOG0002573/add_OGs_set_num-3.txt\"\n"
     ]
    },
    {
     "name": "stderr",
     "output_type": "stream",
     "text": [
      "Warning message in file.create(missing_file):\n",
      "“cannot create file '../tea/2/add_OGs_sets/N0.HOG0002573/add_OGs_set_num-3.txt', reason 'No such file or directory'”\n"
     ]
    },
    {
     "name": "stdout",
     "output_type": "stream",
     "text": [
      "[1] 2\n",
      "[1] \"../tea/2/add_OGs_sets/N0.HOG0002573/add_OGs_set_num-2.txt\"\n"
     ]
    },
    {
     "name": "stderr",
     "output_type": "stream",
     "text": [
      "Warning message in file.create(missing_file):\n",
      "“cannot create file '../tea/2/add_OGs_sets/N0.HOG0002573/add_OGs_set_num-2.txt', reason 'No such file or directory'”\n"
     ]
    },
    {
     "name": "stdout",
     "output_type": "stream",
     "text": [
      "[1] 1\n",
      "[1] \"../tea/2/add_OGs_sets/N0.HOG0002573/add_OGs_set_num-1.txt\"\n"
     ]
    },
    {
     "name": "stderr",
     "output_type": "stream",
     "text": [
      "Warning message in file.create(missing_file):\n",
      "“cannot create file '../tea/2/add_OGs_sets/N0.HOG0002573/add_OGs_set_num-1.txt', reason 'No such file or directory'”\n"
     ]
    },
    {
     "name": "stdout",
     "output_type": "stream",
     "text": [
      "[1] \"N0.HOG0002575\"\n",
      "character(0)\n",
      "[1] 4\n",
      "[1] 4\n",
      "[1] \"../tea/2/add_OGs_sets/N0.HOG0002575/add_OGs_set_num-4.txt\"\n"
     ]
    },
    {
     "name": "stderr",
     "output_type": "stream",
     "text": [
      "Warning message in file.create(missing_file):\n",
      "“cannot create file '../tea/2/add_OGs_sets/N0.HOG0002575/add_OGs_set_num-4.txt', reason 'No such file or directory'”\n"
     ]
    },
    {
     "name": "stdout",
     "output_type": "stream",
     "text": [
      "[1] 3\n",
      "[1] \"../tea/2/add_OGs_sets/N0.HOG0002575/add_OGs_set_num-3.txt\"\n"
     ]
    },
    {
     "name": "stderr",
     "output_type": "stream",
     "text": [
      "Warning message in file.create(missing_file):\n",
      "“cannot create file '../tea/2/add_OGs_sets/N0.HOG0002575/add_OGs_set_num-3.txt', reason 'No such file or directory'”\n"
     ]
    },
    {
     "name": "stdout",
     "output_type": "stream",
     "text": [
      "[1] 2\n",
      "[1] \"../tea/2/add_OGs_sets/N0.HOG0002575/add_OGs_set_num-2.txt\"\n"
     ]
    },
    {
     "name": "stderr",
     "output_type": "stream",
     "text": [
      "Warning message in file.create(missing_file):\n",
      "“cannot create file '../tea/2/add_OGs_sets/N0.HOG0002575/add_OGs_set_num-2.txt', reason 'No such file or directory'”\n"
     ]
    },
    {
     "name": "stdout",
     "output_type": "stream",
     "text": [
      "[1] 1\n",
      "[1] \"../tea/2/add_OGs_sets/N0.HOG0002575/add_OGs_set_num-1.txt\"\n"
     ]
    },
    {
     "name": "stderr",
     "output_type": "stream",
     "text": [
      "Warning message in file.create(missing_file):\n",
      "“cannot create file '../tea/2/add_OGs_sets/N0.HOG0002575/add_OGs_set_num-1.txt', reason 'No such file or directory'”\n"
     ]
    },
    {
     "name": "stdout",
     "output_type": "stream",
     "text": [
      "[1] \"N0.HOG0002581\"\n",
      "character(0)\n",
      "[1] 4\n",
      "[1] 4\n",
      "[1] \"../tea/2/add_OGs_sets/N0.HOG0002581/add_OGs_set_num-4.txt\"\n"
     ]
    },
    {
     "name": "stderr",
     "output_type": "stream",
     "text": [
      "Warning message in file.create(missing_file):\n",
      "“cannot create file '../tea/2/add_OGs_sets/N0.HOG0002581/add_OGs_set_num-4.txt', reason 'No such file or directory'”\n"
     ]
    },
    {
     "name": "stdout",
     "output_type": "stream",
     "text": [
      "[1] 3\n",
      "[1] \"../tea/2/add_OGs_sets/N0.HOG0002581/add_OGs_set_num-3.txt\"\n"
     ]
    },
    {
     "name": "stderr",
     "output_type": "stream",
     "text": [
      "Warning message in file.create(missing_file):\n",
      "“cannot create file '../tea/2/add_OGs_sets/N0.HOG0002581/add_OGs_set_num-3.txt', reason 'No such file or directory'”\n"
     ]
    },
    {
     "name": "stdout",
     "output_type": "stream",
     "text": [
      "[1] 2\n",
      "[1] \"../tea/2/add_OGs_sets/N0.HOG0002581/add_OGs_set_num-2.txt\"\n"
     ]
    },
    {
     "name": "stderr",
     "output_type": "stream",
     "text": [
      "Warning message in file.create(missing_file):\n",
      "“cannot create file '../tea/2/add_OGs_sets/N0.HOG0002581/add_OGs_set_num-2.txt', reason 'No such file or directory'”\n"
     ]
    },
    {
     "name": "stdout",
     "output_type": "stream",
     "text": [
      "[1] 1\n",
      "[1] \"../tea/2/add_OGs_sets/N0.HOG0002581/add_OGs_set_num-1.txt\"\n"
     ]
    },
    {
     "name": "stderr",
     "output_type": "stream",
     "text": [
      "Warning message in file.create(missing_file):\n",
      "“cannot create file '../tea/2/add_OGs_sets/N0.HOG0002581/add_OGs_set_num-1.txt', reason 'No such file or directory'”\n"
     ]
    },
    {
     "name": "stdout",
     "output_type": "stream",
     "text": [
      "[1] \"N0.HOG0002615\"\n",
      "character(0)\n",
      "[1] 4\n",
      "[1] 4\n",
      "[1] \"../tea/2/add_OGs_sets/N0.HOG0002615/add_OGs_set_num-4.txt\"\n"
     ]
    },
    {
     "name": "stderr",
     "output_type": "stream",
     "text": [
      "Warning message in file.create(missing_file):\n",
      "“cannot create file '../tea/2/add_OGs_sets/N0.HOG0002615/add_OGs_set_num-4.txt', reason 'No such file or directory'”\n"
     ]
    },
    {
     "name": "stdout",
     "output_type": "stream",
     "text": [
      "[1] 3\n",
      "[1] \"../tea/2/add_OGs_sets/N0.HOG0002615/add_OGs_set_num-3.txt\"\n"
     ]
    },
    {
     "name": "stderr",
     "output_type": "stream",
     "text": [
      "Warning message in file.create(missing_file):\n",
      "“cannot create file '../tea/2/add_OGs_sets/N0.HOG0002615/add_OGs_set_num-3.txt', reason 'No such file or directory'”\n"
     ]
    },
    {
     "name": "stdout",
     "output_type": "stream",
     "text": [
      "[1] 2\n",
      "[1] \"../tea/2/add_OGs_sets/N0.HOG0002615/add_OGs_set_num-2.txt\"\n"
     ]
    },
    {
     "name": "stderr",
     "output_type": "stream",
     "text": [
      "Warning message in file.create(missing_file):\n",
      "“cannot create file '../tea/2/add_OGs_sets/N0.HOG0002615/add_OGs_set_num-2.txt', reason 'No such file or directory'”\n"
     ]
    },
    {
     "name": "stdout",
     "output_type": "stream",
     "text": [
      "[1] 1\n",
      "[1] \"../tea/2/add_OGs_sets/N0.HOG0002615/add_OGs_set_num-1.txt\"\n"
     ]
    },
    {
     "name": "stderr",
     "output_type": "stream",
     "text": [
      "Warning message in file.create(missing_file):\n",
      "“cannot create file '../tea/2/add_OGs_sets/N0.HOG0002615/add_OGs_set_num-1.txt', reason 'No such file or directory'”\n"
     ]
    },
    {
     "name": "stdout",
     "output_type": "stream",
     "text": [
      "[1] \"N0.HOG0002616\"\n",
      "character(0)\n",
      "[1] 4\n",
      "[1] 4\n",
      "[1] \"../tea/2/add_OGs_sets/N0.HOG0002616/add_OGs_set_num-4.txt\"\n"
     ]
    },
    {
     "name": "stderr",
     "output_type": "stream",
     "text": [
      "Warning message in file.create(missing_file):\n",
      "“cannot create file '../tea/2/add_OGs_sets/N0.HOG0002616/add_OGs_set_num-4.txt', reason 'No such file or directory'”\n"
     ]
    },
    {
     "name": "stdout",
     "output_type": "stream",
     "text": [
      "[1] 3\n",
      "[1] \"../tea/2/add_OGs_sets/N0.HOG0002616/add_OGs_set_num-3.txt\"\n"
     ]
    },
    {
     "name": "stderr",
     "output_type": "stream",
     "text": [
      "Warning message in file.create(missing_file):\n",
      "“cannot create file '../tea/2/add_OGs_sets/N0.HOG0002616/add_OGs_set_num-3.txt', reason 'No such file or directory'”\n"
     ]
    },
    {
     "name": "stdout",
     "output_type": "stream",
     "text": [
      "[1] 2\n",
      "[1] \"../tea/2/add_OGs_sets/N0.HOG0002616/add_OGs_set_num-2.txt\"\n"
     ]
    },
    {
     "name": "stderr",
     "output_type": "stream",
     "text": [
      "Warning message in file.create(missing_file):\n",
      "“cannot create file '../tea/2/add_OGs_sets/N0.HOG0002616/add_OGs_set_num-2.txt', reason 'No such file or directory'”\n"
     ]
    },
    {
     "name": "stdout",
     "output_type": "stream",
     "text": [
      "[1] 1\n",
      "[1] \"../tea/2/add_OGs_sets/N0.HOG0002616/add_OGs_set_num-1.txt\"\n"
     ]
    },
    {
     "name": "stderr",
     "output_type": "stream",
     "text": [
      "Warning message in file.create(missing_file):\n",
      "“cannot create file '../tea/2/add_OGs_sets/N0.HOG0002616/add_OGs_set_num-1.txt', reason 'No such file or directory'”\n"
     ]
    },
    {
     "name": "stdout",
     "output_type": "stream",
     "text": [
      "[1] \"N0.HOG0002621\"\n",
      "character(0)\n",
      "[1] 4\n",
      "[1] 4\n",
      "[1] \"../tea/2/add_OGs_sets/N0.HOG0002621/add_OGs_set_num-4.txt\"\n"
     ]
    },
    {
     "name": "stderr",
     "output_type": "stream",
     "text": [
      "Warning message in file.create(missing_file):\n",
      "“cannot create file '../tea/2/add_OGs_sets/N0.HOG0002621/add_OGs_set_num-4.txt', reason 'No such file or directory'”\n"
     ]
    },
    {
     "name": "stdout",
     "output_type": "stream",
     "text": [
      "[1] 3\n",
      "[1] \"../tea/2/add_OGs_sets/N0.HOG0002621/add_OGs_set_num-3.txt\"\n"
     ]
    },
    {
     "name": "stderr",
     "output_type": "stream",
     "text": [
      "Warning message in file.create(missing_file):\n",
      "“cannot create file '../tea/2/add_OGs_sets/N0.HOG0002621/add_OGs_set_num-3.txt', reason 'No such file or directory'”\n"
     ]
    },
    {
     "name": "stdout",
     "output_type": "stream",
     "text": [
      "[1] 2\n",
      "[1] \"../tea/2/add_OGs_sets/N0.HOG0002621/add_OGs_set_num-2.txt\"\n"
     ]
    },
    {
     "name": "stderr",
     "output_type": "stream",
     "text": [
      "Warning message in file.create(missing_file):\n",
      "“cannot create file '../tea/2/add_OGs_sets/N0.HOG0002621/add_OGs_set_num-2.txt', reason 'No such file or directory'”\n"
     ]
    },
    {
     "name": "stdout",
     "output_type": "stream",
     "text": [
      "[1] 1\n",
      "[1] \"../tea/2/add_OGs_sets/N0.HOG0002621/add_OGs_set_num-1.txt\"\n"
     ]
    },
    {
     "name": "stderr",
     "output_type": "stream",
     "text": [
      "Warning message in file.create(missing_file):\n",
      "“cannot create file '../tea/2/add_OGs_sets/N0.HOG0002621/add_OGs_set_num-1.txt', reason 'No such file or directory'”\n"
     ]
    },
    {
     "name": "stdout",
     "output_type": "stream",
     "text": [
      "[1] \"N0.HOG0002637\"\n",
      "character(0)\n",
      "[1] 4\n",
      "[1] 4\n",
      "[1] \"../tea/2/add_OGs_sets/N0.HOG0002637/add_OGs_set_num-4.txt\"\n"
     ]
    },
    {
     "name": "stderr",
     "output_type": "stream",
     "text": [
      "Warning message in file.create(missing_file):\n",
      "“cannot create file '../tea/2/add_OGs_sets/N0.HOG0002637/add_OGs_set_num-4.txt', reason 'No such file or directory'”\n"
     ]
    },
    {
     "name": "stdout",
     "output_type": "stream",
     "text": [
      "[1] 3\n",
      "[1] \"../tea/2/add_OGs_sets/N0.HOG0002637/add_OGs_set_num-3.txt\"\n"
     ]
    },
    {
     "name": "stderr",
     "output_type": "stream",
     "text": [
      "Warning message in file.create(missing_file):\n",
      "“cannot create file '../tea/2/add_OGs_sets/N0.HOG0002637/add_OGs_set_num-3.txt', reason 'No such file or directory'”\n"
     ]
    },
    {
     "name": "stdout",
     "output_type": "stream",
     "text": [
      "[1] 2\n",
      "[1] \"../tea/2/add_OGs_sets/N0.HOG0002637/add_OGs_set_num-2.txt\"\n"
     ]
    },
    {
     "name": "stderr",
     "output_type": "stream",
     "text": [
      "Warning message in file.create(missing_file):\n",
      "“cannot create file '../tea/2/add_OGs_sets/N0.HOG0002637/add_OGs_set_num-2.txt', reason 'No such file or directory'”\n"
     ]
    },
    {
     "name": "stdout",
     "output_type": "stream",
     "text": [
      "[1] 1\n",
      "[1] \"../tea/2/add_OGs_sets/N0.HOG0002637/add_OGs_set_num-1.txt\"\n"
     ]
    },
    {
     "name": "stderr",
     "output_type": "stream",
     "text": [
      "Warning message in file.create(missing_file):\n",
      "“cannot create file '../tea/2/add_OGs_sets/N0.HOG0002637/add_OGs_set_num-1.txt', reason 'No such file or directory'”\n"
     ]
    },
    {
     "name": "stdout",
     "output_type": "stream",
     "text": [
      "[1] \"N0.HOG0002653\"\n",
      "character(0)\n",
      "[1] 4\n",
      "[1] 4\n",
      "[1] \"../tea/2/add_OGs_sets/N0.HOG0002653/add_OGs_set_num-4.txt\"\n"
     ]
    },
    {
     "name": "stderr",
     "output_type": "stream",
     "text": [
      "Warning message in file.create(missing_file):\n",
      "“cannot create file '../tea/2/add_OGs_sets/N0.HOG0002653/add_OGs_set_num-4.txt', reason 'No such file or directory'”\n"
     ]
    },
    {
     "name": "stdout",
     "output_type": "stream",
     "text": [
      "[1] 3\n",
      "[1] \"../tea/2/add_OGs_sets/N0.HOG0002653/add_OGs_set_num-3.txt\"\n"
     ]
    },
    {
     "name": "stderr",
     "output_type": "stream",
     "text": [
      "Warning message in file.create(missing_file):\n",
      "“cannot create file '../tea/2/add_OGs_sets/N0.HOG0002653/add_OGs_set_num-3.txt', reason 'No such file or directory'”\n"
     ]
    },
    {
     "name": "stdout",
     "output_type": "stream",
     "text": [
      "[1] 2\n",
      "[1] \"../tea/2/add_OGs_sets/N0.HOG0002653/add_OGs_set_num-2.txt\"\n"
     ]
    },
    {
     "name": "stderr",
     "output_type": "stream",
     "text": [
      "Warning message in file.create(missing_file):\n",
      "“cannot create file '../tea/2/add_OGs_sets/N0.HOG0002653/add_OGs_set_num-2.txt', reason 'No such file or directory'”\n"
     ]
    },
    {
     "name": "stdout",
     "output_type": "stream",
     "text": [
      "[1] 1\n",
      "[1] \"../tea/2/add_OGs_sets/N0.HOG0002653/add_OGs_set_num-1.txt\"\n"
     ]
    },
    {
     "name": "stderr",
     "output_type": "stream",
     "text": [
      "Warning message in file.create(missing_file):\n",
      "“cannot create file '../tea/2/add_OGs_sets/N0.HOG0002653/add_OGs_set_num-1.txt', reason 'No such file or directory'”\n"
     ]
    },
    {
     "name": "stdout",
     "output_type": "stream",
     "text": [
      "[1] \"N0.HOG0002656\"\n",
      "character(0)\n",
      "[1] 4\n",
      "[1] 4\n",
      "[1] \"../tea/2/add_OGs_sets/N0.HOG0002656/add_OGs_set_num-4.txt\"\n"
     ]
    },
    {
     "name": "stderr",
     "output_type": "stream",
     "text": [
      "Warning message in file.create(missing_file):\n",
      "“cannot create file '../tea/2/add_OGs_sets/N0.HOG0002656/add_OGs_set_num-4.txt', reason 'No such file or directory'”\n"
     ]
    },
    {
     "name": "stdout",
     "output_type": "stream",
     "text": [
      "[1] 3\n",
      "[1] \"../tea/2/add_OGs_sets/N0.HOG0002656/add_OGs_set_num-3.txt\"\n"
     ]
    },
    {
     "name": "stderr",
     "output_type": "stream",
     "text": [
      "Warning message in file.create(missing_file):\n",
      "“cannot create file '../tea/2/add_OGs_sets/N0.HOG0002656/add_OGs_set_num-3.txt', reason 'No such file or directory'”\n"
     ]
    },
    {
     "name": "stdout",
     "output_type": "stream",
     "text": [
      "[1] 2\n",
      "[1] \"../tea/2/add_OGs_sets/N0.HOG0002656/add_OGs_set_num-2.txt\"\n"
     ]
    },
    {
     "name": "stderr",
     "output_type": "stream",
     "text": [
      "Warning message in file.create(missing_file):\n",
      "“cannot create file '../tea/2/add_OGs_sets/N0.HOG0002656/add_OGs_set_num-2.txt', reason 'No such file or directory'”\n"
     ]
    },
    {
     "name": "stdout",
     "output_type": "stream",
     "text": [
      "[1] 1\n",
      "[1] \"../tea/2/add_OGs_sets/N0.HOG0002656/add_OGs_set_num-1.txt\"\n"
     ]
    },
    {
     "name": "stderr",
     "output_type": "stream",
     "text": [
      "Warning message in file.create(missing_file):\n",
      "“cannot create file '../tea/2/add_OGs_sets/N0.HOG0002656/add_OGs_set_num-1.txt', reason 'No such file or directory'”\n"
     ]
    },
    {
     "name": "stdout",
     "output_type": "stream",
     "text": [
      "[1] \"N0.HOG0002671\"\n",
      "character(0)\n",
      "[1] 4\n",
      "[1] 4\n",
      "[1] \"../tea/2/add_OGs_sets/N0.HOG0002671/add_OGs_set_num-4.txt\"\n"
     ]
    },
    {
     "name": "stderr",
     "output_type": "stream",
     "text": [
      "Warning message in file.create(missing_file):\n",
      "“cannot create file '../tea/2/add_OGs_sets/N0.HOG0002671/add_OGs_set_num-4.txt', reason 'No such file or directory'”\n"
     ]
    },
    {
     "name": "stdout",
     "output_type": "stream",
     "text": [
      "[1] 3\n",
      "[1] \"../tea/2/add_OGs_sets/N0.HOG0002671/add_OGs_set_num-3.txt\"\n"
     ]
    },
    {
     "name": "stderr",
     "output_type": "stream",
     "text": [
      "Warning message in file.create(missing_file):\n",
      "“cannot create file '../tea/2/add_OGs_sets/N0.HOG0002671/add_OGs_set_num-3.txt', reason 'No such file or directory'”\n"
     ]
    },
    {
     "name": "stdout",
     "output_type": "stream",
     "text": [
      "[1] 2\n",
      "[1] \"../tea/2/add_OGs_sets/N0.HOG0002671/add_OGs_set_num-2.txt\"\n"
     ]
    },
    {
     "name": "stderr",
     "output_type": "stream",
     "text": [
      "Warning message in file.create(missing_file):\n",
      "“cannot create file '../tea/2/add_OGs_sets/N0.HOG0002671/add_OGs_set_num-2.txt', reason 'No such file or directory'”\n"
     ]
    },
    {
     "name": "stdout",
     "output_type": "stream",
     "text": [
      "[1] 1\n",
      "[1] \"../tea/2/add_OGs_sets/N0.HOG0002671/add_OGs_set_num-1.txt\"\n"
     ]
    },
    {
     "name": "stderr",
     "output_type": "stream",
     "text": [
      "Warning message in file.create(missing_file):\n",
      "“cannot create file '../tea/2/add_OGs_sets/N0.HOG0002671/add_OGs_set_num-1.txt', reason 'No such file or directory'”\n"
     ]
    },
    {
     "name": "stdout",
     "output_type": "stream",
     "text": [
      "[1] \"N0.HOG0002982\"\n",
      "character(0)\n",
      "[1] 4\n",
      "[1] 4\n",
      "[1] \"../tea/2/add_OGs_sets/N0.HOG0002982/add_OGs_set_num-4.txt\"\n"
     ]
    },
    {
     "name": "stderr",
     "output_type": "stream",
     "text": [
      "Warning message in file.create(missing_file):\n",
      "“cannot create file '../tea/2/add_OGs_sets/N0.HOG0002982/add_OGs_set_num-4.txt', reason 'No such file or directory'”\n"
     ]
    },
    {
     "name": "stdout",
     "output_type": "stream",
     "text": [
      "[1] 3\n",
      "[1] \"../tea/2/add_OGs_sets/N0.HOG0002982/add_OGs_set_num-3.txt\"\n"
     ]
    },
    {
     "name": "stderr",
     "output_type": "stream",
     "text": [
      "Warning message in file.create(missing_file):\n",
      "“cannot create file '../tea/2/add_OGs_sets/N0.HOG0002982/add_OGs_set_num-3.txt', reason 'No such file or directory'”\n"
     ]
    },
    {
     "name": "stdout",
     "output_type": "stream",
     "text": [
      "[1] 2\n",
      "[1] \"../tea/2/add_OGs_sets/N0.HOG0002982/add_OGs_set_num-2.txt\"\n"
     ]
    },
    {
     "name": "stderr",
     "output_type": "stream",
     "text": [
      "Warning message in file.create(missing_file):\n",
      "“cannot create file '../tea/2/add_OGs_sets/N0.HOG0002982/add_OGs_set_num-2.txt', reason 'No such file or directory'”\n"
     ]
    },
    {
     "name": "stdout",
     "output_type": "stream",
     "text": [
      "[1] 1\n",
      "[1] \"../tea/2/add_OGs_sets/N0.HOG0002982/add_OGs_set_num-1.txt\"\n"
     ]
    },
    {
     "name": "stderr",
     "output_type": "stream",
     "text": [
      "Warning message in file.create(missing_file):\n",
      "“cannot create file '../tea/2/add_OGs_sets/N0.HOG0002982/add_OGs_set_num-1.txt', reason 'No such file or directory'”\n"
     ]
    },
    {
     "name": "stdout",
     "output_type": "stream",
     "text": [
      "[1] \"N0.HOG0003006\"\n",
      "character(0)\n",
      "[1] 4\n",
      "[1] 4\n",
      "[1] \"../tea/2/add_OGs_sets/N0.HOG0003006/add_OGs_set_num-4.txt\"\n"
     ]
    },
    {
     "name": "stderr",
     "output_type": "stream",
     "text": [
      "Warning message in file.create(missing_file):\n",
      "“cannot create file '../tea/2/add_OGs_sets/N0.HOG0003006/add_OGs_set_num-4.txt', reason 'No such file or directory'”\n"
     ]
    },
    {
     "name": "stdout",
     "output_type": "stream",
     "text": [
      "[1] 3\n",
      "[1] \"../tea/2/add_OGs_sets/N0.HOG0003006/add_OGs_set_num-3.txt\"\n"
     ]
    },
    {
     "name": "stderr",
     "output_type": "stream",
     "text": [
      "Warning message in file.create(missing_file):\n",
      "“cannot create file '../tea/2/add_OGs_sets/N0.HOG0003006/add_OGs_set_num-3.txt', reason 'No such file or directory'”\n"
     ]
    },
    {
     "name": "stdout",
     "output_type": "stream",
     "text": [
      "[1] 2\n",
      "[1] \"../tea/2/add_OGs_sets/N0.HOG0003006/add_OGs_set_num-2.txt\"\n"
     ]
    },
    {
     "name": "stderr",
     "output_type": "stream",
     "text": [
      "Warning message in file.create(missing_file):\n",
      "“cannot create file '../tea/2/add_OGs_sets/N0.HOG0003006/add_OGs_set_num-2.txt', reason 'No such file or directory'”\n"
     ]
    },
    {
     "name": "stdout",
     "output_type": "stream",
     "text": [
      "[1] 1\n",
      "[1] \"../tea/2/add_OGs_sets/N0.HOG0003006/add_OGs_set_num-1.txt\"\n"
     ]
    },
    {
     "name": "stderr",
     "output_type": "stream",
     "text": [
      "Warning message in file.create(missing_file):\n",
      "“cannot create file '../tea/2/add_OGs_sets/N0.HOG0003006/add_OGs_set_num-1.txt', reason 'No such file or directory'”\n"
     ]
    },
    {
     "name": "stdout",
     "output_type": "stream",
     "text": [
      "[1] \"N0.HOG0003048\"\n",
      "character(0)\n",
      "[1] 4\n",
      "[1] 4\n",
      "[1] \"../tea/2/add_OGs_sets/N0.HOG0003048/add_OGs_set_num-4.txt\"\n"
     ]
    },
    {
     "name": "stderr",
     "output_type": "stream",
     "text": [
      "Warning message in file.create(missing_file):\n",
      "“cannot create file '../tea/2/add_OGs_sets/N0.HOG0003048/add_OGs_set_num-4.txt', reason 'No such file or directory'”\n"
     ]
    },
    {
     "name": "stdout",
     "output_type": "stream",
     "text": [
      "[1] 3\n",
      "[1] \"../tea/2/add_OGs_sets/N0.HOG0003048/add_OGs_set_num-3.txt\"\n"
     ]
    },
    {
     "name": "stderr",
     "output_type": "stream",
     "text": [
      "Warning message in file.create(missing_file):\n",
      "“cannot create file '../tea/2/add_OGs_sets/N0.HOG0003048/add_OGs_set_num-3.txt', reason 'No such file or directory'”\n"
     ]
    },
    {
     "name": "stdout",
     "output_type": "stream",
     "text": [
      "[1] 2\n",
      "[1] \"../tea/2/add_OGs_sets/N0.HOG0003048/add_OGs_set_num-2.txt\"\n"
     ]
    },
    {
     "name": "stderr",
     "output_type": "stream",
     "text": [
      "Warning message in file.create(missing_file):\n",
      "“cannot create file '../tea/2/add_OGs_sets/N0.HOG0003048/add_OGs_set_num-2.txt', reason 'No such file or directory'”\n"
     ]
    },
    {
     "name": "stdout",
     "output_type": "stream",
     "text": [
      "[1] 1\n",
      "[1] \"../tea/2/add_OGs_sets/N0.HOG0003048/add_OGs_set_num-1.txt\"\n"
     ]
    },
    {
     "name": "stderr",
     "output_type": "stream",
     "text": [
      "Warning message in file.create(missing_file):\n",
      "“cannot create file '../tea/2/add_OGs_sets/N0.HOG0003048/add_OGs_set_num-1.txt', reason 'No such file or directory'”\n"
     ]
    },
    {
     "name": "stdout",
     "output_type": "stream",
     "text": [
      "[1] \"N0.HOG0003059\"\n",
      "character(0)\n",
      "[1] 4\n",
      "[1] 4\n",
      "[1] \"../tea/2/add_OGs_sets/N0.HOG0003059/add_OGs_set_num-4.txt\"\n"
     ]
    },
    {
     "name": "stderr",
     "output_type": "stream",
     "text": [
      "Warning message in file.create(missing_file):\n",
      "“cannot create file '../tea/2/add_OGs_sets/N0.HOG0003059/add_OGs_set_num-4.txt', reason 'No such file or directory'”\n"
     ]
    },
    {
     "name": "stdout",
     "output_type": "stream",
     "text": [
      "[1] 3\n",
      "[1] \"../tea/2/add_OGs_sets/N0.HOG0003059/add_OGs_set_num-3.txt\"\n"
     ]
    },
    {
     "name": "stderr",
     "output_type": "stream",
     "text": [
      "Warning message in file.create(missing_file):\n",
      "“cannot create file '../tea/2/add_OGs_sets/N0.HOG0003059/add_OGs_set_num-3.txt', reason 'No such file or directory'”\n"
     ]
    },
    {
     "name": "stdout",
     "output_type": "stream",
     "text": [
      "[1] 2\n",
      "[1] \"../tea/2/add_OGs_sets/N0.HOG0003059/add_OGs_set_num-2.txt\"\n"
     ]
    },
    {
     "name": "stderr",
     "output_type": "stream",
     "text": [
      "Warning message in file.create(missing_file):\n",
      "“cannot create file '../tea/2/add_OGs_sets/N0.HOG0003059/add_OGs_set_num-2.txt', reason 'No such file or directory'”\n"
     ]
    },
    {
     "name": "stdout",
     "output_type": "stream",
     "text": [
      "[1] 1\n",
      "[1] \"../tea/2/add_OGs_sets/N0.HOG0003059/add_OGs_set_num-1.txt\"\n"
     ]
    },
    {
     "name": "stderr",
     "output_type": "stream",
     "text": [
      "Warning message in file.create(missing_file):\n",
      "“cannot create file '../tea/2/add_OGs_sets/N0.HOG0003059/add_OGs_set_num-1.txt', reason 'No such file or directory'”\n"
     ]
    },
    {
     "name": "stdout",
     "output_type": "stream",
     "text": [
      "[1] \"N0.HOG0003065\"\n",
      "character(0)\n",
      "[1] 4\n",
      "[1] 4\n",
      "[1] \"../tea/2/add_OGs_sets/N0.HOG0003065/add_OGs_set_num-4.txt\"\n"
     ]
    },
    {
     "name": "stderr",
     "output_type": "stream",
     "text": [
      "Warning message in file.create(missing_file):\n",
      "“cannot create file '../tea/2/add_OGs_sets/N0.HOG0003065/add_OGs_set_num-4.txt', reason 'No such file or directory'”\n"
     ]
    },
    {
     "name": "stdout",
     "output_type": "stream",
     "text": [
      "[1] 3\n",
      "[1] \"../tea/2/add_OGs_sets/N0.HOG0003065/add_OGs_set_num-3.txt\"\n"
     ]
    },
    {
     "name": "stderr",
     "output_type": "stream",
     "text": [
      "Warning message in file.create(missing_file):\n",
      "“cannot create file '../tea/2/add_OGs_sets/N0.HOG0003065/add_OGs_set_num-3.txt', reason 'No such file or directory'”\n"
     ]
    },
    {
     "name": "stdout",
     "output_type": "stream",
     "text": [
      "[1] 2\n",
      "[1] \"../tea/2/add_OGs_sets/N0.HOG0003065/add_OGs_set_num-2.txt\"\n"
     ]
    },
    {
     "name": "stderr",
     "output_type": "stream",
     "text": [
      "Warning message in file.create(missing_file):\n",
      "“cannot create file '../tea/2/add_OGs_sets/N0.HOG0003065/add_OGs_set_num-2.txt', reason 'No such file or directory'”\n"
     ]
    },
    {
     "name": "stdout",
     "output_type": "stream",
     "text": [
      "[1] 1\n",
      "[1] \"../tea/2/add_OGs_sets/N0.HOG0003065/add_OGs_set_num-1.txt\"\n"
     ]
    },
    {
     "name": "stderr",
     "output_type": "stream",
     "text": [
      "Warning message in file.create(missing_file):\n",
      "“cannot create file '../tea/2/add_OGs_sets/N0.HOG0003065/add_OGs_set_num-1.txt', reason 'No such file or directory'”\n"
     ]
    },
    {
     "name": "stdout",
     "output_type": "stream",
     "text": [
      "[1] \"N0.HOG0003135\"\n",
      "character(0)\n",
      "[1] 4\n",
      "[1] 4\n",
      "[1] \"../tea/2/add_OGs_sets/N0.HOG0003135/add_OGs_set_num-4.txt\"\n"
     ]
    },
    {
     "name": "stderr",
     "output_type": "stream",
     "text": [
      "Warning message in file.create(missing_file):\n",
      "“cannot create file '../tea/2/add_OGs_sets/N0.HOG0003135/add_OGs_set_num-4.txt', reason 'No such file or directory'”\n"
     ]
    },
    {
     "name": "stdout",
     "output_type": "stream",
     "text": [
      "[1] 3\n",
      "[1] \"../tea/2/add_OGs_sets/N0.HOG0003135/add_OGs_set_num-3.txt\"\n"
     ]
    },
    {
     "name": "stderr",
     "output_type": "stream",
     "text": [
      "Warning message in file.create(missing_file):\n",
      "“cannot create file '../tea/2/add_OGs_sets/N0.HOG0003135/add_OGs_set_num-3.txt', reason 'No such file or directory'”\n"
     ]
    },
    {
     "name": "stdout",
     "output_type": "stream",
     "text": [
      "[1] 2\n",
      "[1] \"../tea/2/add_OGs_sets/N0.HOG0003135/add_OGs_set_num-2.txt\"\n"
     ]
    },
    {
     "name": "stderr",
     "output_type": "stream",
     "text": [
      "Warning message in file.create(missing_file):\n",
      "“cannot create file '../tea/2/add_OGs_sets/N0.HOG0003135/add_OGs_set_num-2.txt', reason 'No such file or directory'”\n"
     ]
    },
    {
     "name": "stdout",
     "output_type": "stream",
     "text": [
      "[1] 1\n",
      "[1] \"../tea/2/add_OGs_sets/N0.HOG0003135/add_OGs_set_num-1.txt\"\n"
     ]
    },
    {
     "name": "stderr",
     "output_type": "stream",
     "text": [
      "Warning message in file.create(missing_file):\n",
      "“cannot create file '../tea/2/add_OGs_sets/N0.HOG0003135/add_OGs_set_num-1.txt', reason 'No such file or directory'”\n"
     ]
    },
    {
     "name": "stdout",
     "output_type": "stream",
     "text": [
      "[1] \"N0.HOG0003136\"\n",
      "character(0)\n",
      "[1] 4\n",
      "[1] 4\n",
      "[1] \"../tea/2/add_OGs_sets/N0.HOG0003136/add_OGs_set_num-4.txt\"\n"
     ]
    },
    {
     "name": "stderr",
     "output_type": "stream",
     "text": [
      "Warning message in file.create(missing_file):\n",
      "“cannot create file '../tea/2/add_OGs_sets/N0.HOG0003136/add_OGs_set_num-4.txt', reason 'No such file or directory'”\n"
     ]
    },
    {
     "name": "stdout",
     "output_type": "stream",
     "text": [
      "[1] 3\n",
      "[1] \"../tea/2/add_OGs_sets/N0.HOG0003136/add_OGs_set_num-3.txt\"\n"
     ]
    },
    {
     "name": "stderr",
     "output_type": "stream",
     "text": [
      "Warning message in file.create(missing_file):\n",
      "“cannot create file '../tea/2/add_OGs_sets/N0.HOG0003136/add_OGs_set_num-3.txt', reason 'No such file or directory'”\n"
     ]
    },
    {
     "name": "stdout",
     "output_type": "stream",
     "text": [
      "[1] 2\n",
      "[1] \"../tea/2/add_OGs_sets/N0.HOG0003136/add_OGs_set_num-2.txt\"\n"
     ]
    },
    {
     "name": "stderr",
     "output_type": "stream",
     "text": [
      "Warning message in file.create(missing_file):\n",
      "“cannot create file '../tea/2/add_OGs_sets/N0.HOG0003136/add_OGs_set_num-2.txt', reason 'No such file or directory'”\n"
     ]
    },
    {
     "name": "stdout",
     "output_type": "stream",
     "text": [
      "[1] 1\n",
      "[1] \"../tea/2/add_OGs_sets/N0.HOG0003136/add_OGs_set_num-1.txt\"\n"
     ]
    },
    {
     "name": "stderr",
     "output_type": "stream",
     "text": [
      "Warning message in file.create(missing_file):\n",
      "“cannot create file '../tea/2/add_OGs_sets/N0.HOG0003136/add_OGs_set_num-1.txt', reason 'No such file or directory'”\n"
     ]
    },
    {
     "name": "stdout",
     "output_type": "stream",
     "text": [
      "[1] \"N0.HOG0003141\"\n",
      "character(0)\n",
      "[1] 4\n",
      "[1] 4\n",
      "[1] \"../tea/2/add_OGs_sets/N0.HOG0003141/add_OGs_set_num-4.txt\"\n"
     ]
    },
    {
     "name": "stderr",
     "output_type": "stream",
     "text": [
      "Warning message in file.create(missing_file):\n",
      "“cannot create file '../tea/2/add_OGs_sets/N0.HOG0003141/add_OGs_set_num-4.txt', reason 'No such file or directory'”\n"
     ]
    },
    {
     "name": "stdout",
     "output_type": "stream",
     "text": [
      "[1] 3\n",
      "[1] \"../tea/2/add_OGs_sets/N0.HOG0003141/add_OGs_set_num-3.txt\"\n"
     ]
    },
    {
     "name": "stderr",
     "output_type": "stream",
     "text": [
      "Warning message in file.create(missing_file):\n",
      "“cannot create file '../tea/2/add_OGs_sets/N0.HOG0003141/add_OGs_set_num-3.txt', reason 'No such file or directory'”\n"
     ]
    },
    {
     "name": "stdout",
     "output_type": "stream",
     "text": [
      "[1] 2\n",
      "[1] \"../tea/2/add_OGs_sets/N0.HOG0003141/add_OGs_set_num-2.txt\"\n"
     ]
    },
    {
     "name": "stderr",
     "output_type": "stream",
     "text": [
      "Warning message in file.create(missing_file):\n",
      "“cannot create file '../tea/2/add_OGs_sets/N0.HOG0003141/add_OGs_set_num-2.txt', reason 'No such file or directory'”\n"
     ]
    },
    {
     "name": "stdout",
     "output_type": "stream",
     "text": [
      "[1] 1\n",
      "[1] \"../tea/2/add_OGs_sets/N0.HOG0003141/add_OGs_set_num-1.txt\"\n"
     ]
    },
    {
     "name": "stderr",
     "output_type": "stream",
     "text": [
      "Warning message in file.create(missing_file):\n",
      "“cannot create file '../tea/2/add_OGs_sets/N0.HOG0003141/add_OGs_set_num-1.txt', reason 'No such file or directory'”\n"
     ]
    },
    {
     "name": "stdout",
     "output_type": "stream",
     "text": [
      "[1] \"N0.HOG0003164\"\n",
      "character(0)\n",
      "[1] 4\n",
      "[1] 4\n",
      "[1] \"../tea/2/add_OGs_sets/N0.HOG0003164/add_OGs_set_num-4.txt\"\n"
     ]
    },
    {
     "name": "stderr",
     "output_type": "stream",
     "text": [
      "Warning message in file.create(missing_file):\n",
      "“cannot create file '../tea/2/add_OGs_sets/N0.HOG0003164/add_OGs_set_num-4.txt', reason 'No such file or directory'”\n"
     ]
    },
    {
     "name": "stdout",
     "output_type": "stream",
     "text": [
      "[1] 3\n",
      "[1] \"../tea/2/add_OGs_sets/N0.HOG0003164/add_OGs_set_num-3.txt\"\n"
     ]
    },
    {
     "name": "stderr",
     "output_type": "stream",
     "text": [
      "Warning message in file.create(missing_file):\n",
      "“cannot create file '../tea/2/add_OGs_sets/N0.HOG0003164/add_OGs_set_num-3.txt', reason 'No such file or directory'”\n"
     ]
    },
    {
     "name": "stdout",
     "output_type": "stream",
     "text": [
      "[1] 2\n",
      "[1] \"../tea/2/add_OGs_sets/N0.HOG0003164/add_OGs_set_num-2.txt\"\n"
     ]
    },
    {
     "name": "stderr",
     "output_type": "stream",
     "text": [
      "Warning message in file.create(missing_file):\n",
      "“cannot create file '../tea/2/add_OGs_sets/N0.HOG0003164/add_OGs_set_num-2.txt', reason 'No such file or directory'”\n"
     ]
    },
    {
     "name": "stdout",
     "output_type": "stream",
     "text": [
      "[1] 1\n",
      "[1] \"../tea/2/add_OGs_sets/N0.HOG0003164/add_OGs_set_num-1.txt\"\n"
     ]
    },
    {
     "name": "stderr",
     "output_type": "stream",
     "text": [
      "Warning message in file.create(missing_file):\n",
      "“cannot create file '../tea/2/add_OGs_sets/N0.HOG0003164/add_OGs_set_num-1.txt', reason 'No such file or directory'”\n"
     ]
    },
    {
     "name": "stdout",
     "output_type": "stream",
     "text": [
      "[1] \"N0.HOG0003576\"\n",
      "character(0)\n",
      "[1] 4\n",
      "[1] 4\n",
      "[1] \"../tea/2/add_OGs_sets/N0.HOG0003576/add_OGs_set_num-4.txt\"\n"
     ]
    },
    {
     "name": "stderr",
     "output_type": "stream",
     "text": [
      "Warning message in file.create(missing_file):\n",
      "“cannot create file '../tea/2/add_OGs_sets/N0.HOG0003576/add_OGs_set_num-4.txt', reason 'No such file or directory'”\n"
     ]
    },
    {
     "name": "stdout",
     "output_type": "stream",
     "text": [
      "[1] 3\n",
      "[1] \"../tea/2/add_OGs_sets/N0.HOG0003576/add_OGs_set_num-3.txt\"\n"
     ]
    },
    {
     "name": "stderr",
     "output_type": "stream",
     "text": [
      "Warning message in file.create(missing_file):\n",
      "“cannot create file '../tea/2/add_OGs_sets/N0.HOG0003576/add_OGs_set_num-3.txt', reason 'No such file or directory'”\n"
     ]
    },
    {
     "name": "stdout",
     "output_type": "stream",
     "text": [
      "[1] 2\n",
      "[1] \"../tea/2/add_OGs_sets/N0.HOG0003576/add_OGs_set_num-2.txt\"\n"
     ]
    },
    {
     "name": "stderr",
     "output_type": "stream",
     "text": [
      "Warning message in file.create(missing_file):\n",
      "“cannot create file '../tea/2/add_OGs_sets/N0.HOG0003576/add_OGs_set_num-2.txt', reason 'No such file or directory'”\n"
     ]
    },
    {
     "name": "stdout",
     "output_type": "stream",
     "text": [
      "[1] 1\n",
      "[1] \"../tea/2/add_OGs_sets/N0.HOG0003576/add_OGs_set_num-1.txt\"\n"
     ]
    },
    {
     "name": "stderr",
     "output_type": "stream",
     "text": [
      "Warning message in file.create(missing_file):\n",
      "“cannot create file '../tea/2/add_OGs_sets/N0.HOG0003576/add_OGs_set_num-1.txt', reason 'No such file or directory'”\n"
     ]
    },
    {
     "name": "stdout",
     "output_type": "stream",
     "text": [
      "[1] \"N0.HOG0003587\"\n",
      "character(0)\n",
      "[1] 4\n",
      "[1] 4\n",
      "[1] \"../tea/2/add_OGs_sets/N0.HOG0003587/add_OGs_set_num-4.txt\"\n"
     ]
    },
    {
     "name": "stderr",
     "output_type": "stream",
     "text": [
      "Warning message in file.create(missing_file):\n",
      "“cannot create file '../tea/2/add_OGs_sets/N0.HOG0003587/add_OGs_set_num-4.txt', reason 'No such file or directory'”\n"
     ]
    },
    {
     "name": "stdout",
     "output_type": "stream",
     "text": [
      "[1] 3\n",
      "[1] \"../tea/2/add_OGs_sets/N0.HOG0003587/add_OGs_set_num-3.txt\"\n"
     ]
    },
    {
     "name": "stderr",
     "output_type": "stream",
     "text": [
      "Warning message in file.create(missing_file):\n",
      "“cannot create file '../tea/2/add_OGs_sets/N0.HOG0003587/add_OGs_set_num-3.txt', reason 'No such file or directory'”\n"
     ]
    },
    {
     "name": "stdout",
     "output_type": "stream",
     "text": [
      "[1] 2\n",
      "[1] \"../tea/2/add_OGs_sets/N0.HOG0003587/add_OGs_set_num-2.txt\"\n"
     ]
    },
    {
     "name": "stderr",
     "output_type": "stream",
     "text": [
      "Warning message in file.create(missing_file):\n",
      "“cannot create file '../tea/2/add_OGs_sets/N0.HOG0003587/add_OGs_set_num-2.txt', reason 'No such file or directory'”\n"
     ]
    },
    {
     "name": "stdout",
     "output_type": "stream",
     "text": [
      "[1] 1\n",
      "[1] \"../tea/2/add_OGs_sets/N0.HOG0003587/add_OGs_set_num-1.txt\"\n"
     ]
    },
    {
     "name": "stderr",
     "output_type": "stream",
     "text": [
      "Warning message in file.create(missing_file):\n",
      "“cannot create file '../tea/2/add_OGs_sets/N0.HOG0003587/add_OGs_set_num-1.txt', reason 'No such file or directory'”\n"
     ]
    },
    {
     "name": "stdout",
     "output_type": "stream",
     "text": [
      "[1] \"N0.HOG0003588\"\n",
      "character(0)\n",
      "[1] 4\n",
      "[1] 4\n",
      "[1] \"../tea/2/add_OGs_sets/N0.HOG0003588/add_OGs_set_num-4.txt\"\n"
     ]
    },
    {
     "name": "stderr",
     "output_type": "stream",
     "text": [
      "Warning message in file.create(missing_file):\n",
      "“cannot create file '../tea/2/add_OGs_sets/N0.HOG0003588/add_OGs_set_num-4.txt', reason 'No such file or directory'”\n"
     ]
    },
    {
     "name": "stdout",
     "output_type": "stream",
     "text": [
      "[1] 3\n",
      "[1] \"../tea/2/add_OGs_sets/N0.HOG0003588/add_OGs_set_num-3.txt\"\n"
     ]
    },
    {
     "name": "stderr",
     "output_type": "stream",
     "text": [
      "Warning message in file.create(missing_file):\n",
      "“cannot create file '../tea/2/add_OGs_sets/N0.HOG0003588/add_OGs_set_num-3.txt', reason 'No such file or directory'”\n"
     ]
    },
    {
     "name": "stdout",
     "output_type": "stream",
     "text": [
      "[1] 2\n",
      "[1] \"../tea/2/add_OGs_sets/N0.HOG0003588/add_OGs_set_num-2.txt\"\n"
     ]
    },
    {
     "name": "stderr",
     "output_type": "stream",
     "text": [
      "Warning message in file.create(missing_file):\n",
      "“cannot create file '../tea/2/add_OGs_sets/N0.HOG0003588/add_OGs_set_num-2.txt', reason 'No such file or directory'”\n"
     ]
    },
    {
     "name": "stdout",
     "output_type": "stream",
     "text": [
      "[1] 1\n",
      "[1] \"../tea/2/add_OGs_sets/N0.HOG0003588/add_OGs_set_num-1.txt\"\n"
     ]
    },
    {
     "name": "stderr",
     "output_type": "stream",
     "text": [
      "Warning message in file.create(missing_file):\n",
      "“cannot create file '../tea/2/add_OGs_sets/N0.HOG0003588/add_OGs_set_num-1.txt', reason 'No such file or directory'”\n"
     ]
    },
    {
     "name": "stdout",
     "output_type": "stream",
     "text": [
      "[1] \"N0.HOG0003620\"\n",
      "character(0)\n",
      "[1] 4\n",
      "[1] 4\n",
      "[1] \"../tea/2/add_OGs_sets/N0.HOG0003620/add_OGs_set_num-4.txt\"\n"
     ]
    },
    {
     "name": "stderr",
     "output_type": "stream",
     "text": [
      "Warning message in file.create(missing_file):\n",
      "“cannot create file '../tea/2/add_OGs_sets/N0.HOG0003620/add_OGs_set_num-4.txt', reason 'No such file or directory'”\n"
     ]
    },
    {
     "name": "stdout",
     "output_type": "stream",
     "text": [
      "[1] 3\n",
      "[1] \"../tea/2/add_OGs_sets/N0.HOG0003620/add_OGs_set_num-3.txt\"\n"
     ]
    },
    {
     "name": "stderr",
     "output_type": "stream",
     "text": [
      "Warning message in file.create(missing_file):\n",
      "“cannot create file '../tea/2/add_OGs_sets/N0.HOG0003620/add_OGs_set_num-3.txt', reason 'No such file or directory'”\n"
     ]
    },
    {
     "name": "stdout",
     "output_type": "stream",
     "text": [
      "[1] 2\n",
      "[1] \"../tea/2/add_OGs_sets/N0.HOG0003620/add_OGs_set_num-2.txt\"\n"
     ]
    },
    {
     "name": "stderr",
     "output_type": "stream",
     "text": [
      "Warning message in file.create(missing_file):\n",
      "“cannot create file '../tea/2/add_OGs_sets/N0.HOG0003620/add_OGs_set_num-2.txt', reason 'No such file or directory'”\n"
     ]
    },
    {
     "name": "stdout",
     "output_type": "stream",
     "text": [
      "[1] 1\n",
      "[1] \"../tea/2/add_OGs_sets/N0.HOG0003620/add_OGs_set_num-1.txt\"\n"
     ]
    },
    {
     "name": "stderr",
     "output_type": "stream",
     "text": [
      "Warning message in file.create(missing_file):\n",
      "“cannot create file '../tea/2/add_OGs_sets/N0.HOG0003620/add_OGs_set_num-1.txt', reason 'No such file or directory'”\n"
     ]
    },
    {
     "name": "stdout",
     "output_type": "stream",
     "text": [
      "[1] \"N0.HOG0003646\"\n",
      "character(0)\n",
      "[1] 4\n",
      "[1] 4\n",
      "[1] \"../tea/2/add_OGs_sets/N0.HOG0003646/add_OGs_set_num-4.txt\"\n"
     ]
    },
    {
     "name": "stderr",
     "output_type": "stream",
     "text": [
      "Warning message in file.create(missing_file):\n",
      "“cannot create file '../tea/2/add_OGs_sets/N0.HOG0003646/add_OGs_set_num-4.txt', reason 'No such file or directory'”\n"
     ]
    },
    {
     "name": "stdout",
     "output_type": "stream",
     "text": [
      "[1] 3\n",
      "[1] \"../tea/2/add_OGs_sets/N0.HOG0003646/add_OGs_set_num-3.txt\"\n"
     ]
    },
    {
     "name": "stderr",
     "output_type": "stream",
     "text": [
      "Warning message in file.create(missing_file):\n",
      "“cannot create file '../tea/2/add_OGs_sets/N0.HOG0003646/add_OGs_set_num-3.txt', reason 'No such file or directory'”\n"
     ]
    },
    {
     "name": "stdout",
     "output_type": "stream",
     "text": [
      "[1] 2\n",
      "[1] \"../tea/2/add_OGs_sets/N0.HOG0003646/add_OGs_set_num-2.txt\"\n"
     ]
    },
    {
     "name": "stderr",
     "output_type": "stream",
     "text": [
      "Warning message in file.create(missing_file):\n",
      "“cannot create file '../tea/2/add_OGs_sets/N0.HOG0003646/add_OGs_set_num-2.txt', reason 'No such file or directory'”\n"
     ]
    },
    {
     "name": "stdout",
     "output_type": "stream",
     "text": [
      "[1] 1\n",
      "[1] \"../tea/2/add_OGs_sets/N0.HOG0003646/add_OGs_set_num-1.txt\"\n"
     ]
    },
    {
     "name": "stderr",
     "output_type": "stream",
     "text": [
      "Warning message in file.create(missing_file):\n",
      "“cannot create file '../tea/2/add_OGs_sets/N0.HOG0003646/add_OGs_set_num-1.txt', reason 'No such file or directory'”\n"
     ]
    },
    {
     "name": "stdout",
     "output_type": "stream",
     "text": [
      "[1] \"N0.HOG0003659\"\n",
      "character(0)\n",
      "[1] 4\n",
      "[1] 4\n",
      "[1] \"../tea/2/add_OGs_sets/N0.HOG0003659/add_OGs_set_num-4.txt\"\n"
     ]
    },
    {
     "name": "stderr",
     "output_type": "stream",
     "text": [
      "Warning message in file.create(missing_file):\n",
      "“cannot create file '../tea/2/add_OGs_sets/N0.HOG0003659/add_OGs_set_num-4.txt', reason 'No such file or directory'”\n"
     ]
    },
    {
     "name": "stdout",
     "output_type": "stream",
     "text": [
      "[1] 3\n",
      "[1] \"../tea/2/add_OGs_sets/N0.HOG0003659/add_OGs_set_num-3.txt\"\n"
     ]
    },
    {
     "name": "stderr",
     "output_type": "stream",
     "text": [
      "Warning message in file.create(missing_file):\n",
      "“cannot create file '../tea/2/add_OGs_sets/N0.HOG0003659/add_OGs_set_num-3.txt', reason 'No such file or directory'”\n"
     ]
    },
    {
     "name": "stdout",
     "output_type": "stream",
     "text": [
      "[1] 2\n",
      "[1] \"../tea/2/add_OGs_sets/N0.HOG0003659/add_OGs_set_num-2.txt\"\n"
     ]
    },
    {
     "name": "stderr",
     "output_type": "stream",
     "text": [
      "Warning message in file.create(missing_file):\n",
      "“cannot create file '../tea/2/add_OGs_sets/N0.HOG0003659/add_OGs_set_num-2.txt', reason 'No such file or directory'”\n"
     ]
    },
    {
     "name": "stdout",
     "output_type": "stream",
     "text": [
      "[1] 1\n",
      "[1] \"../tea/2/add_OGs_sets/N0.HOG0003659/add_OGs_set_num-1.txt\"\n"
     ]
    },
    {
     "name": "stderr",
     "output_type": "stream",
     "text": [
      "Warning message in file.create(missing_file):\n",
      "“cannot create file '../tea/2/add_OGs_sets/N0.HOG0003659/add_OGs_set_num-1.txt', reason 'No such file or directory'”\n"
     ]
    },
    {
     "name": "stdout",
     "output_type": "stream",
     "text": [
      "[1] \"N0.HOG0003719\"\n",
      "character(0)\n",
      "[1] 4\n",
      "[1] 4\n",
      "[1] \"../tea/2/add_OGs_sets/N0.HOG0003719/add_OGs_set_num-4.txt\"\n"
     ]
    },
    {
     "name": "stderr",
     "output_type": "stream",
     "text": [
      "Warning message in file.create(missing_file):\n",
      "“cannot create file '../tea/2/add_OGs_sets/N0.HOG0003719/add_OGs_set_num-4.txt', reason 'No such file or directory'”\n"
     ]
    },
    {
     "name": "stdout",
     "output_type": "stream",
     "text": [
      "[1] 3\n",
      "[1] \"../tea/2/add_OGs_sets/N0.HOG0003719/add_OGs_set_num-3.txt\"\n"
     ]
    },
    {
     "name": "stderr",
     "output_type": "stream",
     "text": [
      "Warning message in file.create(missing_file):\n",
      "“cannot create file '../tea/2/add_OGs_sets/N0.HOG0003719/add_OGs_set_num-3.txt', reason 'No such file or directory'”\n"
     ]
    },
    {
     "name": "stdout",
     "output_type": "stream",
     "text": [
      "[1] 2\n",
      "[1] \"../tea/2/add_OGs_sets/N0.HOG0003719/add_OGs_set_num-2.txt\"\n"
     ]
    },
    {
     "name": "stderr",
     "output_type": "stream",
     "text": [
      "Warning message in file.create(missing_file):\n",
      "“cannot create file '../tea/2/add_OGs_sets/N0.HOG0003719/add_OGs_set_num-2.txt', reason 'No such file or directory'”\n"
     ]
    },
    {
     "name": "stdout",
     "output_type": "stream",
     "text": [
      "[1] 1\n",
      "[1] \"../tea/2/add_OGs_sets/N0.HOG0003719/add_OGs_set_num-1.txt\"\n"
     ]
    },
    {
     "name": "stderr",
     "output_type": "stream",
     "text": [
      "Warning message in file.create(missing_file):\n",
      "“cannot create file '../tea/2/add_OGs_sets/N0.HOG0003719/add_OGs_set_num-1.txt', reason 'No such file or directory'”\n"
     ]
    },
    {
     "name": "stdout",
     "output_type": "stream",
     "text": [
      "[1] \"N0.HOG0003739\"\n",
      "character(0)\n",
      "[1] 4\n",
      "[1] 4\n",
      "[1] \"../tea/2/add_OGs_sets/N0.HOG0003739/add_OGs_set_num-4.txt\"\n"
     ]
    },
    {
     "name": "stderr",
     "output_type": "stream",
     "text": [
      "Warning message in file.create(missing_file):\n",
      "“cannot create file '../tea/2/add_OGs_sets/N0.HOG0003739/add_OGs_set_num-4.txt', reason 'No such file or directory'”\n"
     ]
    },
    {
     "name": "stdout",
     "output_type": "stream",
     "text": [
      "[1] 3\n",
      "[1] \"../tea/2/add_OGs_sets/N0.HOG0003739/add_OGs_set_num-3.txt\"\n"
     ]
    },
    {
     "name": "stderr",
     "output_type": "stream",
     "text": [
      "Warning message in file.create(missing_file):\n",
      "“cannot create file '../tea/2/add_OGs_sets/N0.HOG0003739/add_OGs_set_num-3.txt', reason 'No such file or directory'”\n"
     ]
    },
    {
     "name": "stdout",
     "output_type": "stream",
     "text": [
      "[1] 2\n",
      "[1] \"../tea/2/add_OGs_sets/N0.HOG0003739/add_OGs_set_num-2.txt\"\n"
     ]
    },
    {
     "name": "stderr",
     "output_type": "stream",
     "text": [
      "Warning message in file.create(missing_file):\n",
      "“cannot create file '../tea/2/add_OGs_sets/N0.HOG0003739/add_OGs_set_num-2.txt', reason 'No such file or directory'”\n"
     ]
    },
    {
     "name": "stdout",
     "output_type": "stream",
     "text": [
      "[1] 1\n",
      "[1] \"../tea/2/add_OGs_sets/N0.HOG0003739/add_OGs_set_num-1.txt\"\n"
     ]
    },
    {
     "name": "stderr",
     "output_type": "stream",
     "text": [
      "Warning message in file.create(missing_file):\n",
      "“cannot create file '../tea/2/add_OGs_sets/N0.HOG0003739/add_OGs_set_num-1.txt', reason 'No such file or directory'”\n"
     ]
    },
    {
     "name": "stdout",
     "output_type": "stream",
     "text": [
      "[1] \"N0.HOG0003752\"\n",
      "character(0)\n",
      "[1] 4\n",
      "[1] 4\n",
      "[1] \"../tea/2/add_OGs_sets/N0.HOG0003752/add_OGs_set_num-4.txt\"\n"
     ]
    },
    {
     "name": "stderr",
     "output_type": "stream",
     "text": [
      "Warning message in file.create(missing_file):\n",
      "“cannot create file '../tea/2/add_OGs_sets/N0.HOG0003752/add_OGs_set_num-4.txt', reason 'No such file or directory'”\n"
     ]
    },
    {
     "name": "stdout",
     "output_type": "stream",
     "text": [
      "[1] 3\n",
      "[1] \"../tea/2/add_OGs_sets/N0.HOG0003752/add_OGs_set_num-3.txt\"\n"
     ]
    },
    {
     "name": "stderr",
     "output_type": "stream",
     "text": [
      "Warning message in file.create(missing_file):\n",
      "“cannot create file '../tea/2/add_OGs_sets/N0.HOG0003752/add_OGs_set_num-3.txt', reason 'No such file or directory'”\n"
     ]
    },
    {
     "name": "stdout",
     "output_type": "stream",
     "text": [
      "[1] 2\n",
      "[1] \"../tea/2/add_OGs_sets/N0.HOG0003752/add_OGs_set_num-2.txt\"\n"
     ]
    },
    {
     "name": "stderr",
     "output_type": "stream",
     "text": [
      "Warning message in file.create(missing_file):\n",
      "“cannot create file '../tea/2/add_OGs_sets/N0.HOG0003752/add_OGs_set_num-2.txt', reason 'No such file or directory'”\n"
     ]
    },
    {
     "name": "stdout",
     "output_type": "stream",
     "text": [
      "[1] 1\n",
      "[1] \"../tea/2/add_OGs_sets/N0.HOG0003752/add_OGs_set_num-1.txt\"\n"
     ]
    },
    {
     "name": "stderr",
     "output_type": "stream",
     "text": [
      "Warning message in file.create(missing_file):\n",
      "“cannot create file '../tea/2/add_OGs_sets/N0.HOG0003752/add_OGs_set_num-1.txt', reason 'No such file or directory'”\n"
     ]
    },
    {
     "name": "stdout",
     "output_type": "stream",
     "text": [
      "[1] \"N0.HOG0003758\"\n",
      "character(0)\n",
      "[1] 4\n",
      "[1] 4\n",
      "[1] \"../tea/2/add_OGs_sets/N0.HOG0003758/add_OGs_set_num-4.txt\"\n"
     ]
    },
    {
     "name": "stderr",
     "output_type": "stream",
     "text": [
      "Warning message in file.create(missing_file):\n",
      "“cannot create file '../tea/2/add_OGs_sets/N0.HOG0003758/add_OGs_set_num-4.txt', reason 'No such file or directory'”\n"
     ]
    },
    {
     "name": "stdout",
     "output_type": "stream",
     "text": [
      "[1] 3\n",
      "[1] \"../tea/2/add_OGs_sets/N0.HOG0003758/add_OGs_set_num-3.txt\"\n"
     ]
    },
    {
     "name": "stderr",
     "output_type": "stream",
     "text": [
      "Warning message in file.create(missing_file):\n",
      "“cannot create file '../tea/2/add_OGs_sets/N0.HOG0003758/add_OGs_set_num-3.txt', reason 'No such file or directory'”\n"
     ]
    },
    {
     "name": "stdout",
     "output_type": "stream",
     "text": [
      "[1] 2\n",
      "[1] \"../tea/2/add_OGs_sets/N0.HOG0003758/add_OGs_set_num-2.txt\"\n"
     ]
    },
    {
     "name": "stderr",
     "output_type": "stream",
     "text": [
      "Warning message in file.create(missing_file):\n",
      "“cannot create file '../tea/2/add_OGs_sets/N0.HOG0003758/add_OGs_set_num-2.txt', reason 'No such file or directory'”\n"
     ]
    },
    {
     "name": "stdout",
     "output_type": "stream",
     "text": [
      "[1] 1\n",
      "[1] \"../tea/2/add_OGs_sets/N0.HOG0003758/add_OGs_set_num-1.txt\"\n"
     ]
    },
    {
     "name": "stderr",
     "output_type": "stream",
     "text": [
      "Warning message in file.create(missing_file):\n",
      "“cannot create file '../tea/2/add_OGs_sets/N0.HOG0003758/add_OGs_set_num-1.txt', reason 'No such file or directory'”\n"
     ]
    }
   ],
   "source": [
    "# nested snakemake checkpoints are annoying at the moment \n",
    "# quick fix - create empty addtional set_num files which we can ignore but nonetheless exist\n",
    "add_OGs = 3\n",
    "\n",
    "max_n_sets = add_OGs + 1\n",
    "\n",
    "for (n in names(add_og_complete_object)) {\n",
    "    \n",
    "    og_n_sets <- length(\n",
    "         list.files(path = paste0(\"../tea/2/add_OGs_sets/\", n))\n",
    "        )\n",
    "    \n",
    "    og_sets <- list.files(path = paste0(\"../tea/2/add_OGs_sets/\", n))\n",
    "    \n",
    "    if (og_n_sets < max_n_sets) {\n",
    "        print(n)\n",
    "        print(og_sets)\n",
    "        n_missing_sets <- max_n_sets - og_n_sets\n",
    "        print(n_missing_sets)\n",
    "        \n",
    "        for (m in 1:n_missing_sets) {\n",
    "          value <- max_n_sets - m + 1\n",
    "          print(value)\n",
    "          missing_file <- paste0(\"../tea/2/add_OGs_sets/\", n, \"/\", \"add_OGs_set_num-\", value, \".txt\")\n",
    "          print(missing_file)\n",
    "            \n",
    "          file.create(missing_file)\n",
    "        }\n",
    "        #file.create(\"my.csv\")\n",
    "    }\n",
    "    \n",
    "}\n",
    "\n"
   ]
  },
  {
   "cell_type": "markdown",
   "metadata": {},
   "source": [
    "### playaround"
   ]
  },
  {
   "cell_type": "code",
   "execution_count": 25,
   "metadata": {},
   "outputs": [
    {
     "data": {
      "text/plain": [
       "An object of class \"add_OG_set\"\n",
       "Slot \"genes\":\n",
       "\u001b[90m# A tibble: 4 × 1\u001b[39m\n",
       "  value              \n",
       "  \u001b[3m\u001b[90m<chr>\u001b[39m\u001b[23m              \n",
       "\u001b[90m1\u001b[39m AT2G44080.1        \n",
       "\u001b[90m2\u001b[39m HORVU2Hr1G077510.2 \n",
       "\u001b[90m3\u001b[39m HORVU2Hr1G077510.1 \n",
       "\u001b[90m4\u001b[39m Zm00001d007280_P001\n"
      ]
     },
     "metadata": {},
     "output_type": "display_data"
    }
   ],
   "source": [
    "add_og_complete_object$N0.HOG0003790@add_OG_analysis$set_1"
   ]
  },
  {
   "cell_type": "code",
   "execution_count": 103,
   "metadata": {},
   "outputs": [],
   "source": [
    "#if (!require(\"BiocManager\", quietly = TRUE))\n",
    "#    install.packages(\"BiocManager\")\n",
    "\n",
    "#BiocManager::install(\"treeio\")\n",
    "#BiocManager::install(\"Biostrings\")\n",
    "\n",
    "#library(treeio)\n",
    "#library(Biostrings)\n",
    "\n",
    "#extend expanded_OG (hypothesis-OG specific) class with \"list\" element \"add_OG_analysis\"\n",
    "\n",
    "#under \"add_OG_analysis\" - we have n integer values (representing the number of addtional OGs -1; 1 = no addtional OGs since expanded OG itself)\n",
    "\n",
    "# class for extended BLAST hits info\n",
    "#setClass(\"add_OG_set\", \n",
    "#         slots=list(genes=\"tbl_df\",\n",
    "#                    tree=\"phylo\",\n",
    "#                    msa=\"AAStringSet\")\n",
    "#         )\n",
    "\n",
    "#setClass(\"complete_add_OG_analysis\", \n",
    "#         slots=list(complete_add_OG_analysis=\"list\")\n",
    "#         )\n",
    "\n",
    "setClass(\"add_OG_analysis\", \n",
    "         slots=list(add_OG_analysis=\"list\")\n",
    "         )\n",
    "\n",
    "setClass(\"add_OG_set\", \n",
    "         slots=list(genes=\"tbl_df\")\n",
    "         )"
   ]
  },
  {
   "cell_type": "code",
   "execution_count": 183,
   "metadata": {
    "tags": []
   },
   "outputs": [],
   "source": [
    "#length of add OGs analysis summary list\n",
    "summary_length <- length(summary_add_OG_analysis_list)\n",
    "\n",
    "#create empty list of length of the summary list\n",
    "add_og_complete_object <- vector(mode = \"list\", length = summary_length)\n",
    "\n",
    "#iterate over all OGs in summary list\n",
    "for (og in 1:summary_length) {\n",
    " \n",
    "  #amount of sets for current OG - (necessary since less addtional OGs than max wished by user is possible)\n",
    "  curr_og_n_sets <- length(summary_add_OG_analysis_list[[og]])\n",
    "    \n",
    "  #empty list with n elements = n sets for currently analyzed OG\n",
    "  og_all_sets <- vector(mode = \"list\", length = curr_og_n_sets)\n",
    "    \n",
    "  for (set in 1:curr_og_n_sets) {\n",
    "\n",
    "    curr_set <- new(\"add_OG_set\",\n",
    "               genes=as_tibble(\n",
    "                       unlist(\n",
    "                         summary_add_OG_analysis_list[[og]][set],\n",
    "                       )  \n",
    "                     ) \n",
    "        )\n",
    "    curr_set <- list(curr_set)\n",
    "    #names(curr_set) <- paste0(set)\n",
    "  \n",
    "    og_all_sets[set] <- curr_set\n",
    "    names(og_all_sets)[set] <- paste0(\"set_\", set)\n",
    "      \n",
    "  }\n",
    "    \n",
    "  curr_add_og <- new(\"add_OG_analysis\",\n",
    "                     add_OG_analysis=og_all_sets\n",
    "                     )\n",
    "\n",
    "  curr_add_og <- list(curr_add_og) \n",
    " \n",
    "  add_og_complete_object[og] <- curr_add_og\n",
    "\n",
    "  names(add_og_complete_object)[og]  <- names(summary_add_OG_analysis_list[og])\n",
    "}\n"
   ]
  },
  {
   "cell_type": "code",
   "execution_count": 188,
   "metadata": {
    "collapsed": true,
    "jupyter": {
     "outputs_hidden": true
    },
    "tags": []
   },
   "outputs": [
    {
     "name": "stdout",
     "output_type": "stream",
     "text": [
      "List of 4\n",
      " $ set_1:Formal class 'add_OG_set' [package \".GlobalEnv\"] with 1 slot\n",
      "  .. ..@ genes: tibble [68 × 1] (S3: tbl_df/tbl/data.frame)\n",
      "  .. .. ..$ value: chr [1:68] \"AT2G11035.1\" \"AT2G02520.1\" \"AT2G22440.1\" \"HORVU2Hr1G059140.63\" ...\n",
      " $ set_2:Formal class 'add_OG_set' [package \".GlobalEnv\"] with 1 slot\n",
      "  .. ..@ genes: tibble [112 × 1] (S3: tbl_df/tbl/data.frame)\n",
      "  .. .. ..$ value: chr [1:112] \"AT2G11035.1\" \"AT2G02520.1\" \"AT2G22440.1\" \"HORVU2Hr1G059140.63\" ...\n",
      " $ set_3:Formal class 'add_OG_set' [package \".GlobalEnv\"] with 1 slot\n",
      "  .. ..@ genes: tibble [123 × 1] (S3: tbl_df/tbl/data.frame)\n",
      "  .. .. ..$ value: chr [1:123] \"AT2G11035.1\" \"AT2G02520.1\" \"AT2G22440.1\" \"HORVU2Hr1G059140.63\" ...\n",
      " $ set_4:Formal class 'add_OG_set' [package \".GlobalEnv\"] with 1 slot\n",
      "  .. ..@ genes: tibble [130 × 1] (S3: tbl_df/tbl/data.frame)\n",
      "  .. .. ..$ value: chr [1:130] \"AT2G11035.1\" \"AT2G02520.1\" \"AT2G22440.1\" \"HORVU2Hr1G059140.63\" ...\n"
     ]
    }
   ],
   "source": [
    "str(add_og_complete_object$N0.HOG0000011@add_OG_analysis)"
   ]
  },
  {
   "cell_type": "markdown",
   "metadata": {},
   "source": [
    "### June 2022"
   ]
  },
  {
   "cell_type": "code",
   "execution_count": 81,
   "metadata": {},
   "outputs": [
    {
     "name": "stderr",
     "output_type": "stream",
     "text": [
      "Acquiring hypothesis variables:\n",
      "\n",
      "Reading in Orthogroup-GeneCounts-table:\n",
      "\n",
      "\u001b[1mRows: \u001b[22m\u001b[34m37558\u001b[39m \u001b[1mColumns: \u001b[22m\u001b[34m11\u001b[39m\n",
      "\u001b[36m──\u001b[39m \u001b[1mColumn specification\u001b[22m \u001b[36m─────────────────────────────────────────────\u001b[39m\n",
      "\u001b[1mDelimiter:\u001b[22m \"\\t\"\n",
      "\u001b[31mchr\u001b[39m  (1): Orthogroup\n",
      "\u001b[32mdbl\u001b[39m (10): Brachypodium_dystachion, Hordeum_vulgare, Miscanthus_sinensis, Ory...\n",
      "\n",
      "\u001b[36mℹ\u001b[39m Use `spec()` to retrieve the full column specification for this data.\n",
      "\u001b[36mℹ\u001b[39m Specify the column types or set `show_col_types = FALSE` to quiet this message.\n",
      "Concatenating all BLAST seaches to one file and creating parseable tibble:\n",
      "\n"
     ]
    }
   ],
   "source": [
    "#load libraries\n",
    "library(readr)\n",
    "library(plyr)\n",
    "library(dplyr)\n",
    "library(stringr)\n",
    "library(tidyr)\n",
    "library(tibble)\n",
    "library(reshape2)\n",
    "library(foreach)\n",
    "library(doParallel)\n",
    "\n",
    "snakemake_params_num = 2\n",
    "snakemake_params_name = \"testcase\"\n",
    "snakemake_params_add_OGs = 10\n",
    "snakemake_params_expansion_factor = 2\n",
    "snakemake_params_expansion_difference = 10\n",
    "snakemake_params_ploidy_normalization = \"YES\"\n",
    "snakemake_params_expansion = \"Hordeum_vulgare\"\n",
    "snakemake_params_comparison = \"Triticum_aestivum\"\n",
    "snakemake_params_Nmin_expanded_in = 1\n",
    "snakemake_params_Nmin_compared_to = 1\n",
    "snakemake_params_expanded_in_all_found = \"YES\"\n",
    "snakemake_params_compared_to_all_found =  \"YES\"\n",
    "\n",
    "\n",
    "# get user choice whether to perform ploidy normalization or not\n",
    "ploidy_normalization = snakemake_params_ploidy_normalization\n",
    "\n",
    "message(\"Acquiring hypothesis variables:\")\n",
    "num = snakemake_params_num\n",
    "name = snakemake_params_name\n",
    "\n",
    "# define the number of additional best blast hits to include in the follow-up analyses\n",
    "add_OGs = snakemake_params_add_OGs\n",
    "\n",
    "# define the minimum expansion factor & expansion difference to call an expansion (part of hypothesis.tsv)\n",
    "expansion_factor = snakemake_params_expansion_factor\n",
    "expansion_difference = snakemake_params_expansion_difference\n",
    "\n",
    "# get user choice whether to perform ploidy normalization or not\n",
    "ploidy_normalization = snakemake_params_ploidy_normalization\n",
    "\n",
    "# get ploidy information of each species (supplied by user; part of species.tsv)\n",
    "species_table <- read.delim(\"../../config/species.tsv\", header = TRUE, sep = \"\\t\", row.names = \"species\")\n",
    "\n",
    "# using snakemake propagation + python strsplit() is really cool since the input is just a vector\n",
    "## even if we have multiple species in expanded, compared or both ;D\n",
    "expanded_in = snakemake_params_expansion\n",
    "compared_to = snakemake_params_comparison\n",
    "c_t_species <- compared_to\n",
    "all_species <- unique(c(expanded_in, compared_to))\n",
    "\n",
    "# defining:\n",
    "# at least Nmin_expanded_in expanded species that are expanded in at least Nmin_compared_to compared_to species\n",
    "Nmin_expanded_in <- snakemake_params_Nmin_expanded_in\n",
    "Nmin_compared_to <- snakemake_params_Nmin_compared_to\n",
    "\n",
    "# define whether or not only HOGs should be considered that have at least 1 gene from each expanded_in/compared_to species\n",
    "expanded_in_all_found <- snakemake_params_expanded_in_all_found\n",
    "compared_to_all_found <- snakemake_params_compared_to_all_found\n",
    "\n",
    "#read-in Orthogroup-GeneCounts-table\n",
    "message(\"Reading in Orthogroup-GeneCounts-table:\")\n",
    "OG.GC <- readr::read_tsv(\"../../orthofinder/final-results/Orthogroups/Orthogroups.GeneCount.tsv\")\n",
    "\n",
    "#concatenate all BLAST seaches to one file and create parseable tibble with read_delim\n",
    "#could add that only BLAST searches of our species in this hypothesis are used - toDO for later\n",
    "#easiest and efficient way is to bind outside of the loop\n",
    "#do.call is a nice way rbind(bind_rows[[1]], bind_rows[[2]], ...)\n",
    "message(\"Concatenating all BLAST seaches to one file and creating parseable tibble:\")\n",
    "datalist = list()\n",
    "for (i in Sys.glob(\"../../orthofinder/search/*.txt\")) {\n",
    "    datalist[[i]] <- readr::read_delim(file = i,\n",
    "                                delim = \"\\t\",\n",
    "                                col_names = c(\n",
    "                                    \"qseqid\",\n",
    "                                    \"sseqid\",\n",
    "                                    \"pident\",\n",
    "                                    \"length\",\n",
    "                                    \"mismatch\",\n",
    "                                    \"gapopen\",\n",
    "                                    \"qstart\",\n",
    "                                    \"qend\",\n",
    "                                    \"sstart\",\n",
    "                                    \"send\",\n",
    "                                    \"evalue\",\n",
    "                                    \"bitscore\"),\n",
    "                                col_types = c(\n",
    "                                    qseqid = col_character(),\n",
    "                                    sseqid = col_character(),\n",
    "                                    pident = col_double(),\n",
    "                                    length = col_double(),\n",
    "                                    mismatch = col_double(),\n",
    "                                    gapopen = col_double(),\n",
    "                                    qstart = col_double(),\n",
    "                                    qend = col_double(),\n",
    "                                    sstart = col_double(),\n",
    "                                    send = col_double(),\n",
    "                                    evalue = col_double(),\n",
    "                                    bitscore = col_double()\n",
    "                                                )\n",
    "                                )\n",
    "                                                }\n",
    "\n",
    "all_BLAST <- base::do.call(bind_rows, datalist)\n",
    "\n"
   ]
  },
  {
   "cell_type": "code",
   "execution_count": 82,
   "metadata": {},
   "outputs": [
    {
     "name": "stderr",
     "output_type": "stream",
     "text": [
      "Reading in conversion table based on SequenceIDs.txt:\n",
      "\n",
      "Creating reformatted output with actual gene/protein names:\n",
      "\n"
     ]
    }
   ],
   "source": [
    "#read-in the conversion table: orthofinder sequence IDs and corresponding actual gene/protein names\n",
    "#with \"str_remove_all\" I also easily get rid of the \":\"\n",
    "message(\"Reading in conversion table based on SequenceIDs.txt:\")\n",
    "\n",
    "conversion <- readr::read_delim(file = \"../../orthofinder/SequenceIDs.txt\",\n",
    "                delim = \" \",\n",
    "                col_names = c(\"seqid\", \"name\"),\n",
    "                col_types = c(\n",
    "                   seqid = col_character(),\n",
    "                   name = col_character())               \n",
    "               )\n",
    "conversion <- conversion %>%  dplyr::mutate(seqid = str_remove_all(seqid, \":\"))\n",
    "\n",
    "\n",
    "message(\"Creating reformatted output with actual gene/protein names:\")\n",
    "#create new columns with the actual gene/protein names\n",
    "all_BLAST_reformatted <- all_BLAST %>% dplyr::left_join(conversion, by = c(\"qseqid\" = \"seqid\"))\n",
    "all_BLAST_reformatted <- all_BLAST_reformatted %>% dplyr::left_join(conversion, by = c(\"sseqid\" = \"seqid\"))\n",
    "#position after qseqid and sseqid respectively\n",
    "all_BLAST_reformatted <- all_BLAST_reformatted %>% dplyr::relocate(name.x, .after = qseqid)\n",
    "all_BLAST_reformatted <- all_BLAST_reformatted %>% dplyr::relocate(name.y, .after = sseqid)\n",
    "#rename to qseqid/sseqid_name\n",
    "all_BLAST_reformatted <- dplyr::rename(all_BLAST_reformatted,  qseqid_name = name.x)\n",
    "all_BLAST_reformatted <- dplyr::rename(all_BLAST_reformatted, sseqid_name = name.y)"
   ]
  },
  {
   "cell_type": "code",
   "execution_count": 45,
   "metadata": {},
   "outputs": [
    {
     "name": "stderr",
     "output_type": "stream",
     "text": [
      "Data read-in and reformat:\n",
      "\n",
      "\u001b[1mRows: \u001b[22m\u001b[34m42064\u001b[39m \u001b[1mColumns: \u001b[22m\u001b[34m12\u001b[39m\n",
      "\u001b[36m──\u001b[39m \u001b[1mColumn specification\u001b[22m \u001b[36m─────────────────────────────────────────────\u001b[39m\n",
      "\u001b[1mDelimiter:\u001b[22m \"\\t\"\n",
      "\u001b[31mchr\u001b[39m (12): HOG, OG, Gene Tree Parent Clade, Brachypodium_dystachion, Hordeum_...\n",
      "\n",
      "\u001b[36mℹ\u001b[39m Use `spec()` to retrieve the full column specification for this data.\n",
      "\u001b[36mℹ\u001b[39m Specify the column types or set `show_col_types = FALSE` to quiet this message.\n"
     ]
    }
   ],
   "source": [
    "message(\"Data read-in and reformat:\")\n",
    "\n",
    "ph_orthogroups <- readr::read_delim(file = \"../../orthofinder/final-results/Phylogenetic_Hierarchical_Orthogroups/N0.tsv\",\n",
    "                          delim = \"\\t\")\n",
    "\n",
    "#create dataframe with numbers of genes per PHOG\n",
    "#we combine expanded_in and compared_to vectors to easily compute for everything we need\n",
    "\n",
    "HOG_df <- setNames(base::data.frame(matrix(ncol = 1 + length(all_species), nrow = 0)),\n",
    "                  c(\"HOG\", all_species))\n",
    "\n",
    "for (i in 1:nrow(ph_orthogroups)) {\n",
    "    \n",
    "    row = 0\n",
    "    \n",
    "    #print(ph_orthogroups[i,]$HOG)\n",
    "    row <- c(ph_orthogroups[i,]$HOG)\n",
    "    \n",
    "        for (j in c(all_species)) {\n",
    "            if (is.na(ph_orthogroups[i,][[j]]))\n",
    "            {\n",
    "                test = 0\n",
    "                row <- c(row, test)\n",
    "            }\n",
    "            else \n",
    "            {\n",
    "                test = length(unlist(strsplit(ph_orthogroups[i,][[j]], \",\")))\n",
    "                row <- c(row, test)\n",
    "            }\n",
    "}\n",
    "    HOG_df[i,] <- row\n",
    "} \n",
    "\n",
    "HOG_tibble <- as_tibble(HOG_df)\n",
    "\n",
    "for (k in 1:length(all_species)) {\n",
    "    o = all_species[k]\n",
    "    HOG_tibble[[o]] <- as.numeric(HOG_tibble[[o]])\n",
    "}\n",
    "\n",
    "#create \"copy\" as HOG_tibble is currently modified in the upcoming step\n",
    "HOG_tibble_complete <- HOG_tibble\n"
   ]
  },
  {
   "cell_type": "code",
   "execution_count": 46,
   "metadata": {},
   "outputs": [
    {
     "name": "stderr",
     "output_type": "stream",
     "text": [
      "Applying expansion rule/s per hypothesis:\n",
      "\n"
     ]
    }
   ],
   "source": [
    "#here, we apply the expansion rule/s - could be also be parsed from config? (toDO!)\n",
    "#get() function solves my problems of using the character functions inside dplyr\n",
    "message(\"Applying expansion rule/s per hypothesis:\")\n",
    "\n",
    "# function has to reduce input dataset; this way each iteration (compared species) is included\n",
    "# for all compared species first check for each HOG if expanded species is >= #* \n",
    "# then keep rows in which expanded species has at least # (default: 2)\n",
    "\n",
    "for (e in expanded_in) {\n",
    "    # create expansion counter column for each expanded species\n",
    "    exp_species_name = paste0(\"exp_counter_\", e)\n",
    "    HOG_tibble <- HOG_tibble %>% tibble::add_column(!!(exp_species_name) := 0)\n",
    "\n",
    "    if (ploidy_normalization == \"YES\") {\n",
    "        for (c in c_t_species) {\n",
    "            HOG_tibble <- HOG_tibble %>% \n",
    "                            mutate(!!(exp_species_name) := \n",
    "                            dplyr::case_when(\n",
    "                                # although cases in which the ct species has no genes are ignored via \n",
    "                                # the multiplication in the 2nd step, this underlines that we do so\n",
    "                                # now with the second expansion distance criterium we should have it anyway\n",
    "                                get(c) > 0 &\n",
    "                                get(e)/species_table[e, \"ploidy\"]*2 >= expansion_factor*(get(c))/species_table[c, \"ploidy\"]*2 ~ get(exp_species_name) + 1,\n",
    "                                get(c) > 0 &\n",
    "                                get(e)/species_table[e, \"ploidy\"]*2 >= expansion_difference + (get(c))/species_table[c, \"ploidy\"]*2 ~ get(exp_species_name) + 1,\n",
    "                                TRUE ~ 0,\n",
    "                              )\n",
    "                        )  \n",
    "        }\n",
    "    }\n",
    "    #if the user did not set ploidy_normalization to \"YES\"\n",
    "    #here, no ploidy information is used to divide the number of genes per OG\n",
    "    else {\n",
    "        for (c in c_t_species) {\n",
    "            HOG_tibble <- HOG_tibble %>% \n",
    "                            mutate(!!(exp_species_name) := \n",
    "                            dplyr::case_when(\n",
    "                                get(c) > 0 &\n",
    "                                get(e) >= expansion_factor*(get(c)) ~ get(exp_species_name) + 1,\n",
    "                                get(c) > 0 &\n",
    "                                get(e) >= expansion_difference + get(c) ~ get(exp_species_name) + 1,\n",
    "                                TRUE ~ 0,\n",
    "                              )\n",
    "                        )\n",
    "        }\n",
    "    }\n",
    "       \n",
    "}"
   ]
  },
  {
   "cell_type": "code",
   "execution_count": 47,
   "metadata": {},
   "outputs": [],
   "source": [
    "# then we perform summing over all exp_counter_ columns based on user choices\n",
    "# at least Nmin_expanded_in expanded species that are expanded in at least Nmin_compared_to compared_to species\n",
    "# create new column\n",
    "# for each exp_counter_* species check if value >= y\n",
    "# all passing exp_counter_* species are counted; if sum >= x retain HOG\n",
    "\n",
    "HOG_tibble <- HOG_tibble %>%\n",
    "  mutate(pass =\n",
    "    # selecting columns that we want to use use for subsequent function\n",
    "    select(., contains(\"exp_counter_\")) %>%\n",
    "    # use pmap on this subset to get a vector of min from each row\n",
    "    # dataframe is a list so pmap works on each element of the list; here, each row  \n",
    "    # we sum the occurences (per row!) of exp_counter_* cols that greater/equal to user cutoff \n",
    "    purrr::pmap_dbl(., ~ sum(c(...) >= Nmin_compared_to))\n",
    "  )\n",
    "\n",
    "# lastly, retain rows/HOGs that pass x cutoff = number of expanded species\n",
    "# & drop unnecessary columns\n",
    "HOG_tibble <- HOG_tibble %>%\n",
    "  filter(pass >= Nmin_expanded_in) %>%\n",
    "  select(-contains(\"exp_counter_\"), -pass)\n",
    "\n",
    "# additional optional filter1 - expanded_in gene family complete criterium\n",
    "if (expanded_in_all_found == \"YES\") {\n",
    "  HOG_tibble <- HOG_tibble %>%\n",
    "  # create column with per-row sum of expanded_in species that have at least 1 gene in the HOG\n",
    "  mutate(expanded_in_pass =\n",
    "    select(., contains(expanded_in)) %>%\n",
    "    purrr::pmap_dbl(., ~ sum(c(...) >= 1))\n",
    "  ) %>%\n",
    "  # only keep rows/HOGs in which at least 1 gene of each expanded_in species occurs\n",
    "  filter(expanded_in_pass >= length(expanded_in)) %>%\n",
    "  # remove expanded_in_pass column\n",
    "  select(-expanded_in_pass)\n",
    "}\n",
    "\n",
    "# additional optional filter2 - compared_to gene family complete criterium\n",
    "if (compared_to_all_found == \"YES\") {\n",
    "  HOG_tibble <- HOG_tibble %>%\n",
    "  # create column with per-row sum of compared_to species that have at least 1 gene in the HOG\n",
    "  mutate(compared_to_pass =\n",
    "    select(., contains(compared_to)) %>%\n",
    "    purrr::pmap_dbl(., ~ sum(c(...) >= 1))\n",
    "  ) %>%\n",
    "  # only keep rows/HOGs in which at least 1 gene of each compared_to species occurs\n",
    "  filter(compared_to_pass >= length(compared_to)) %>%\n",
    "  # remove compared_to_pass column\n",
    "  select(-compared_to_pass)\n",
    "}\n",
    "\n",
    "# new object: expanded_HOGs\n",
    "expanded_HOGs <- HOG_tibble"
   ]
  },
  {
   "cell_type": "code",
   "execution_count": 52,
   "metadata": {},
   "outputs": [],
   "source": [
    "#not part of workflow but necessary for test\n",
    "dir.create(paste(\"../../tea/\", num, sep = \"\"))"
   ]
  },
  {
   "cell_type": "code",
   "execution_count": 53,
   "metadata": {
    "collapsed": true,
    "jupyter": {
     "outputs_hidden": true
    },
    "tags": []
   },
   "outputs": [
    {
     "data": {
      "text/html": [
       "<table class=\"dataframe\">\n",
       "<caption>A tibble: 6 × 4</caption>\n",
       "<thead>\n",
       "\t<tr><th scope=col>HOG</th><th scope=col>Hordeum_vulgare</th><th scope=col>Triticum_aestivum</th><th scope=col>expansion</th></tr>\n",
       "\t<tr><th scope=col>&lt;chr&gt;</th><th scope=col>&lt;dbl&gt;</th><th scope=col>&lt;dbl&gt;</th><th scope=col>&lt;chr&gt;</th></tr>\n",
       "</thead>\n",
       "<tbody>\n",
       "\t<tr><td>N0.HOG0000000</td><td>381</td><td> 0</td><td>no </td></tr>\n",
       "\t<tr><td>N0.HOG0000001</td><td>300</td><td> 0</td><td>no </td></tr>\n",
       "\t<tr><td>N0.HOG0000002</td><td>286</td><td> 0</td><td>no </td></tr>\n",
       "\t<tr><td>N0.HOG0000003</td><td>215</td><td> 0</td><td>no </td></tr>\n",
       "\t<tr><td>N0.HOG0000004</td><td>204</td><td> 7</td><td>yes</td></tr>\n",
       "\t<tr><td>N0.HOG0000005</td><td>  4</td><td>17</td><td>no </td></tr>\n",
       "</tbody>\n",
       "</table>\n"
      ],
      "text/latex": [
       "A tibble: 6 × 4\n",
       "\\begin{tabular}{llll}\n",
       " HOG & Hordeum\\_vulgare & Triticum\\_aestivum & expansion\\\\\n",
       " <chr> & <dbl> & <dbl> & <chr>\\\\\n",
       "\\hline\n",
       "\t N0.HOG0000000 & 381 &  0 & no \\\\\n",
       "\t N0.HOG0000001 & 300 &  0 & no \\\\\n",
       "\t N0.HOG0000002 & 286 &  0 & no \\\\\n",
       "\t N0.HOG0000003 & 215 &  0 & no \\\\\n",
       "\t N0.HOG0000004 & 204 &  7 & yes\\\\\n",
       "\t N0.HOG0000005 &   4 & 17 & no \\\\\n",
       "\\end{tabular}\n"
      ],
      "text/markdown": [
       "\n",
       "A tibble: 6 × 4\n",
       "\n",
       "| HOG &lt;chr&gt; | Hordeum_vulgare &lt;dbl&gt; | Triticum_aestivum &lt;dbl&gt; | expansion &lt;chr&gt; |\n",
       "|---|---|---|---|\n",
       "| N0.HOG0000000 | 381 |  0 | no  |\n",
       "| N0.HOG0000001 | 300 |  0 | no  |\n",
       "| N0.HOG0000002 | 286 |  0 | no  |\n",
       "| N0.HOG0000003 | 215 |  0 | no  |\n",
       "| N0.HOG0000004 | 204 |  7 | yes |\n",
       "| N0.HOG0000005 |   4 | 17 | no  |\n",
       "\n"
      ],
      "text/plain": [
       "  HOG           Hordeum_vulgare Triticum_aestivum expansion\n",
       "1 N0.HOG0000000 381              0                no       \n",
       "2 N0.HOG0000001 300              0                no       \n",
       "3 N0.HOG0000002 286              0                no       \n",
       "4 N0.HOG0000003 215              0                no       \n",
       "5 N0.HOG0000004 204              7                yes      \n",
       "6 N0.HOG0000005   4             17                no       "
      ]
     },
     "metadata": {},
     "output_type": "display_data"
    },
    {
     "name": "stderr",
     "output_type": "stream",
     "text": [
      "Creating .txt files for all expanded OGs with reciprocal best BLAST hits of species in respective hypothesis:\n",
      "\n"
     ]
    }
   ],
   "source": [
    "# based on filtering criteria create per hypothesis table with:\n",
    "# all HOGs and gene counts + additional column expansion (yes/no)\n",
    "# this is later used in the creation of final tea outputs to create a HOG level table per hypothesis\n",
    "\n",
    "#need to check if there is at least one expanded (H)OG\n",
    "#if not replace_na woud throw error since we are changing types\n",
    "#all of the downstream stuff in this script only makes sense if we in fact do have expanded groups\n",
    "#if (nrow(expanded_HOGs) > 0) {\n",
    "\n",
    "  #create expansion vector with length of expandsion HOGs\n",
    "  expansion <- replicate(nrow(expanded_HOGs), \"yes\")\n",
    "#  print(expansion)\n",
    "  expansion_tibble <- full_join(HOG_tibble_complete, tibble::add_column(expanded_HOGs, expansion, .after = \"HOG\"), \n",
    "                       by = c(\"HOG\"), suffix = c(\"\", \".remove\")) %>% \n",
    "                           tidyr::replace_na(list(expansion = \"no\")) %>%\n",
    "                               select(-c(ends_with(\".remove\"))) \n",
    "\n",
    "  dir.create(paste(\"../../tea/\", num, \"/expansion_tibble/\", sep = \"\"))\n",
    "  saveRDS(expansion_tibble, paste(\"../../tea/\", num, \"/expansion_tibble/expansion_tibble.rds\", sep = \"\"))\n",
    "\n",
    "   \n",
    "  head(expansion_tibble)\n",
    "    \n",
    "  # create genes column in ph_orthogroups file\n",
    "  # row merge? - no unite function, really handy ;D\n",
    "  ref_ph_orthogroups <- ph_orthogroups %>% tidyr::unite(\"genes\", all_of(all_species), sep =\", \", na.rm = TRUE, remove = TRUE)\n",
    "\n",
    "\n",
    "  message(\"Creating .txt files for all expanded OGs with reciprocal best BLAST hits of species in respective hypothesis:\")\n",
    "\n",
    "\n",
    "\n"
   ]
  },
  {
   "cell_type": "code",
   "execution_count": 54,
   "metadata": {},
   "outputs": [],
   "source": [
    "  #for each gene/protein name in an interesting OG do (is there a file just with names per OG?):\n",
    "  #check \"all_BLAST_reformatted\" for all entries including these names and create new dataframe/tibble\n",
    "  # then, perform filtering and retain certain set of genes/proteins per OG analysis\n",
    "  #  then, create .txt file per OG with these gene names\n",
    "  ## come-up with filter criteria to have better trees?\n",
    "  ## I could of course just keep everything and save the evalues, etc.; well, problem for later.. ;D\n",
    "  ####> output for snakemake? what about inidividual OG txt files, because starting here parallelisation can really impact\n",
    "  dir.create(paste(\"../../tea/\", num, \"/expansion_cp_target_OGs/\", sep = \"\"))\n",
    "\n",
    "for (i in expanded_HOGs$HOG) {\n",
    "    write_lines(\"\",\n",
    "                paste(\"../../tea/\", num, \"/expansion_cp_target_OGs/\", i, \".txt\", sep = \"\")\n",
    "    )\n",
    " \n",
    "}"
   ]
  },
  {
   "cell_type": "code",
   "execution_count": 55,
   "metadata": {},
   "outputs": [
    {
     "name": "stderr",
     "output_type": "stream",
     "text": [
      "Adding OGs instead of BLAST hits\n",
      "\n"
     ]
    }
   ],
   "source": [
    "### Adding OGs instead of BLAST hits ###\n",
    "  message(\"Adding OGs instead of BLAST hits\")\n",
    "\n",
    "  #transforming ph_orthogroups to long format - nice & neat lookup table ;D\n",
    "  long_ph_orthogroups <- ph_orthogroups %>%\n",
    "    select(-OG, -`Gene Tree Parent Clade`) %>%\n",
    "    melt(., id.vars = c(\"HOG\")) %>%\n",
    "    rename(species=variable, id=value) %>%\n",
    "    mutate(species = as.character(species)) %>%\n",
    "    separate_rows(id, sep = \", \") %>%\n",
    "    drop_na()"
   ]
  },
  {
   "cell_type": "code",
   "execution_count": 169,
   "metadata": {},
   "outputs": [
    {
     "data": {
      "text/html": [
       "2605"
      ],
      "text/latex": [
       "2605"
      ],
      "text/markdown": [
       "2605"
      ],
      "text/plain": [
       "[1] 2605"
      ]
     },
     "metadata": {},
     "output_type": "display_data"
    }
   ],
   "source": [
    "#create final summary list - per OG (name) the cumulative steps of additional OGs\n",
    "  summary_add_OG_analysis_list <- vector(mode = \"list\", length = length(expanded_HOGs$HOG))\n",
    "\n",
    "  length(summary_add_OG_analysis_list)\n",
    "\n",
    "  #create classes for nested S3-list structure holding all additional OG sets per OG analysis\n",
    "  setClass(\"add_OG_analysis\", \n",
    "           slots=list(add_OG_analysis=\"list\")\n",
    "          )\n",
    "\n",
    "  setClass(\"add_OG_set\", \n",
    "           slots=list(genes=\"tbl_df\")\n",
    "          )\n",
    "\n",
    "\n"
   ]
  },
  {
   "cell_type": "code",
   "execution_count": 87,
   "metadata": {
    "collapsed": true,
    "jupyter": {
     "outputs_hidden": true
    },
    "tags": []
   },
   "outputs": [
    {
     "name": "stderr",
     "output_type": "stream",
     "text": [
      "add_OG_analysis_list = \n"
     ]
    },
    {
     "name": "stdout",
     "output_type": "stream",
     "text": [
      "6.5 Kb\n"
     ]
    },
    {
     "name": "stderr",
     "output_type": "stream",
     "text": [
      "add_OGs = \n"
     ]
    },
    {
     "name": "stdout",
     "output_type": "stream",
     "text": [
      "56 bytes\n"
     ]
    },
    {
     "name": "stderr",
     "output_type": "stream",
     "text": [
      "add_OGs_internal = \n"
     ]
    },
    {
     "name": "stdout",
     "output_type": "stream",
     "text": [
      "56 bytes\n"
     ]
    },
    {
     "name": "stderr",
     "output_type": "stream",
     "text": [
      "all_BLAST_reformatted = \n"
     ]
    },
    {
     "name": "stdout",
     "output_type": "stream",
     "text": [
      "5 Gb\n"
     ]
    },
    {
     "name": "stderr",
     "output_type": "stream",
     "text": [
      "all_species = \n"
     ]
    },
    {
     "name": "stdout",
     "output_type": "stream",
     "text": [
      "208 bytes\n"
     ]
    },
    {
     "name": "stderr",
     "output_type": "stream",
     "text": [
      "available_add_OGs = \n"
     ]
    },
    {
     "name": "stdout",
     "output_type": "stream",
     "text": [
      "56 bytes\n"
     ]
    },
    {
     "name": "stderr",
     "output_type": "stream",
     "text": [
      "BLAST_hits_exp_og_genes = \n"
     ]
    },
    {
     "name": "stdout",
     "output_type": "stream",
     "text": [
      "183.1 Kb\n"
     ]
    },
    {
     "name": "stderr",
     "output_type": "stream",
     "text": [
      "burn_socks = \n"
     ]
    },
    {
     "name": "stdout",
     "output_type": "stream",
     "text": [
      "10.6 Kb\n"
     ]
    },
    {
     "name": "stderr",
     "output_type": "stream",
     "text": [
      "c = \n"
     ]
    },
    {
     "name": "stdout",
     "output_type": "stream",
     "text": [
      "136 bytes\n"
     ]
    },
    {
     "name": "stderr",
     "output_type": "stream",
     "text": [
      "c_t_species = \n"
     ]
    },
    {
     "name": "stdout",
     "output_type": "stream",
     "text": [
      "136 bytes\n"
     ]
    },
    {
     "name": "stderr",
     "output_type": "stream",
     "text": [
      "compared_to = \n"
     ]
    },
    {
     "name": "stdout",
     "output_type": "stream",
     "text": [
      "136 bytes\n"
     ]
    },
    {
     "name": "stderr",
     "output_type": "stream",
     "text": [
      "compared_to_all_found = \n"
     ]
    },
    {
     "name": "stdout",
     "output_type": "stream",
     "text": [
      "112 bytes\n"
     ]
    },
    {
     "name": "stderr",
     "output_type": "stream",
     "text": [
      "compared_to_genefam_complete = \n"
     ]
    },
    {
     "name": "stdout",
     "output_type": "stream",
     "text": [
      "112 bytes\n"
     ]
    },
    {
     "name": "stderr",
     "output_type": "stream",
     "text": [
      "conversion = \n"
     ]
    },
    {
     "name": "stdout",
     "output_type": "stream",
     "text": [
      "58.2 Mb\n"
     ]
    },
    {
     "name": "stderr",
     "output_type": "stream",
     "text": [
      "cum_add_OG_analysis_list = \n"
     ]
    },
    {
     "name": "stdout",
     "output_type": "stream",
     "text": [
      "48 Kb\n"
     ]
    },
    {
     "name": "stderr",
     "output_type": "stream",
     "text": [
      "e = \n"
     ]
    },
    {
     "name": "stdout",
     "output_type": "stream",
     "text": [
      "120 bytes\n"
     ]
    },
    {
     "name": "stderr",
     "output_type": "stream",
     "text": [
      "exp_og_genes = \n"
     ]
    },
    {
     "name": "stdout",
     "output_type": "stream",
     "text": [
      "224 bytes\n"
     ]
    },
    {
     "name": "stderr",
     "output_type": "stream",
     "text": [
      "exp_species_name = \n"
     ]
    },
    {
     "name": "stdout",
     "output_type": "stream",
     "text": [
      "136 bytes\n"
     ]
    },
    {
     "name": "stderr",
     "output_type": "stream",
     "text": [
      "expanded_HOGs = \n"
     ]
    },
    {
     "name": "stdout",
     "output_type": "stream",
     "text": [
      "225 Kb\n"
     ]
    },
    {
     "name": "stderr",
     "output_type": "stream",
     "text": [
      "expanded_in = \n"
     ]
    },
    {
     "name": "stdout",
     "output_type": "stream",
     "text": [
      "120 bytes\n"
     ]
    },
    {
     "name": "stderr",
     "output_type": "stream",
     "text": [
      "expanded_in_all_found = \n"
     ]
    },
    {
     "name": "stdout",
     "output_type": "stream",
     "text": [
      "112 bytes\n"
     ]
    },
    {
     "name": "stderr",
     "output_type": "stream",
     "text": [
      "expanded_in_genefam_complete = \n"
     ]
    },
    {
     "name": "stdout",
     "output_type": "stream",
     "text": [
      "112 bytes\n"
     ]
    },
    {
     "name": "stderr",
     "output_type": "stream",
     "text": [
      "expansion = \n"
     ]
    },
    {
     "name": "stdout",
     "output_type": "stream",
     "text": [
      "20.5 Kb\n"
     ]
    },
    {
     "name": "stderr",
     "output_type": "stream",
     "text": [
      "expansion_difference = \n"
     ]
    },
    {
     "name": "stdout",
     "output_type": "stream",
     "text": [
      "56 bytes\n"
     ]
    },
    {
     "name": "stderr",
     "output_type": "stream",
     "text": [
      "expansion_factor = \n"
     ]
    },
    {
     "name": "stdout",
     "output_type": "stream",
     "text": [
      "56 bytes\n"
     ]
    },
    {
     "name": "stderr",
     "output_type": "stream",
     "text": [
      "expansion_tibble = \n"
     ]
    },
    {
     "name": "stdout",
     "output_type": "stream",
     "text": [
      "3.9 Mb\n"
     ]
    },
    {
     "name": "stderr",
     "output_type": "stream",
     "text": [
      "getAvailMem = \n"
     ]
    },
    {
     "name": "stdout",
     "output_type": "stream",
     "text": [
      "17.7 Kb\n"
     ]
    },
    {
     "name": "stderr",
     "output_type": "stream",
     "text": [
      "HOG_df = \n"
     ]
    },
    {
     "name": "stdout",
     "output_type": "stream",
     "text": [
      "3.5 Mb\n"
     ]
    },
    {
     "name": "stderr",
     "output_type": "stream",
     "text": [
      "HOG_tibble = \n"
     ]
    },
    {
     "name": "stdout",
     "output_type": "stream",
     "text": [
      "225 Kb\n"
     ]
    },
    {
     "name": "stderr",
     "output_type": "stream",
     "text": [
      "HOG_tibble_complete = \n"
     ]
    },
    {
     "name": "stdout",
     "output_type": "stream",
     "text": [
      "3.5 Mb\n"
     ]
    },
    {
     "name": "stderr",
     "output_type": "stream",
     "text": [
      "hypotheses_table = \n"
     ]
    },
    {
     "name": "stdout",
     "output_type": "stream",
     "text": [
      "13.9 Kb\n"
     ]
    },
    {
     "name": "stderr",
     "output_type": "stream",
     "text": [
      "i = \n"
     ]
    },
    {
     "name": "stdout",
     "output_type": "stream",
     "text": [
      "152 bytes\n"
     ]
    },
    {
     "name": "stderr",
     "output_type": "stream",
     "text": [
      "id_curr_close_HOG = \n"
     ]
    },
    {
     "name": "stdout",
     "output_type": "stream",
     "text": [
      "136 bytes\n"
     ]
    },
    {
     "name": "stderr",
     "output_type": "stream",
     "text": [
      "ids_curr_close_HOG = \n"
     ]
    },
    {
     "name": "stdout",
     "output_type": "stream",
     "text": [
      "320 bytes\n"
     ]
    },
    {
     "name": "stderr",
     "output_type": "stream",
     "text": [
      "j = \n"
     ]
    },
    {
     "name": "stdout",
     "output_type": "stream",
     "text": [
      "56 bytes\n"
     ]
    },
    {
     "name": "stderr",
     "output_type": "stream",
     "text": [
      "k = \n"
     ]
    },
    {
     "name": "stdout",
     "output_type": "stream",
     "text": [
      "56 bytes\n"
     ]
    },
    {
     "name": "stderr",
     "output_type": "stream",
     "text": [
      "l = \n"
     ]
    },
    {
     "name": "stdout",
     "output_type": "stream",
     "text": [
      "56 bytes\n"
     ]
    },
    {
     "name": "stderr",
     "output_type": "stream",
     "text": [
      "long_ph_orthogroups = \n"
     ]
    },
    {
     "name": "stdout",
     "output_type": "stream",
     "text": [
      "36.6 Mb\n"
     ]
    },
    {
     "name": "stderr",
     "output_type": "stream",
     "text": [
      "loop_index = \n"
     ]
    },
    {
     "name": "stdout",
     "output_type": "stream",
     "text": [
      "56 bytes\n"
     ]
    },
    {
     "name": "stderr",
     "output_type": "stream",
     "text": [
      "name = \n"
     ]
    },
    {
     "name": "stdout",
     "output_type": "stream",
     "text": [
      "120 bytes\n"
     ]
    },
    {
     "name": "stderr",
     "output_type": "stream",
     "text": [
      "name_curr_close_HOG = \n"
     ]
    },
    {
     "name": "stdout",
     "output_type": "stream",
     "text": [
      "120 bytes\n"
     ]
    },
    {
     "name": "stderr",
     "output_type": "stream",
     "text": [
      "name_curr_close_singleton = \n"
     ]
    },
    {
     "name": "stdout",
     "output_type": "stream",
     "text": [
      "120 bytes\n"
     ]
    },
    {
     "name": "stderr",
     "output_type": "stream",
     "text": [
      "Nmin_compared_to = \n"
     ]
    },
    {
     "name": "stdout",
     "output_type": "stream",
     "text": [
      "56 bytes\n"
     ]
    },
    {
     "name": "stderr",
     "output_type": "stream",
     "text": [
      "Nmin_expanded_in = \n"
     ]
    },
    {
     "name": "stdout",
     "output_type": "stream",
     "text": [
      "56 bytes\n"
     ]
    },
    {
     "name": "stderr",
     "output_type": "stream",
     "text": [
      "num = \n"
     ]
    },
    {
     "name": "stdout",
     "output_type": "stream",
     "text": [
      "56 bytes\n"
     ]
    },
    {
     "name": "stderr",
     "output_type": "stream",
     "text": [
      "o = \n"
     ]
    },
    {
     "name": "stdout",
     "output_type": "stream",
     "text": [
      "136 bytes\n"
     ]
    },
    {
     "name": "stderr",
     "output_type": "stream",
     "text": [
      "og_name = \n"
     ]
    },
    {
     "name": "stdout",
     "output_type": "stream",
     "text": [
      "120 bytes\n"
     ]
    },
    {
     "name": "stderr",
     "output_type": "stream",
     "text": [
      "OG.GC = \n"
     ]
    },
    {
     "name": "stdout",
     "output_type": "stream",
     "text": [
      "5.5 Mb\n"
     ]
    },
    {
     "name": "stderr",
     "output_type": "stream",
     "text": [
      "orthogroups = \n"
     ]
    },
    {
     "name": "stdout",
     "output_type": "stream",
     "text": [
      "18.4 Mb\n"
     ]
    },
    {
     "name": "stderr",
     "output_type": "stream",
     "text": [
      "ph_orthogroups = \n"
     ]
    },
    {
     "name": "stdout",
     "output_type": "stream",
     "text": [
      "26 Mb\n"
     ]
    },
    {
     "name": "stderr",
     "output_type": "stream",
     "text": [
      "ploidy_normalization = \n"
     ]
    },
    {
     "name": "stdout",
     "output_type": "stream",
     "text": [
      "112 bytes\n"
     ]
    },
    {
     "name": "stderr",
     "output_type": "stream",
     "text": [
      "ref_ph_orthogroups = \n"
     ]
    },
    {
     "name": "stdout",
     "output_type": "stream",
     "text": [
      "25.1 Mb\n"
     ]
    },
    {
     "name": "stderr",
     "output_type": "stream",
     "text": [
      "rm_cluster = \n"
     ]
    },
    {
     "name": "stdout",
     "output_type": "stream",
     "text": [
      "11.5 Kb\n"
     ]
    },
    {
     "name": "stderr",
     "output_type": "stream",
     "text": [
      "row = \n"
     ]
    },
    {
     "name": "stdout",
     "output_type": "stream",
     "text": [
      "200 bytes\n"
     ]
    },
    {
     "name": "stderr",
     "output_type": "stream",
     "text": [
      "self_and_closest_ogs = \n"
     ]
    },
    {
     "name": "stdout",
     "output_type": "stream",
     "text": [
      "14.2 Kb\n"
     ]
    },
    {
     "name": "stderr",
     "output_type": "stream",
     "text": [
      "setup_cluster = \n"
     ]
    },
    {
     "name": "stdout",
     "output_type": "stream",
     "text": [
      "13.6 Kb\n"
     ]
    },
    {
     "name": "stderr",
     "output_type": "stream",
     "text": [
      "short_sorted_BLAST_hits_exp_og_genes = \n"
     ]
    },
    {
     "name": "stdout",
     "output_type": "stream",
     "text": [
      "279.2 Kb\n"
     ]
    },
    {
     "name": "stderr",
     "output_type": "stream",
     "text": [
      "size = \n"
     ]
    },
    {
     "name": "stdout",
     "output_type": "stream",
     "text": [
      "288 bytes\n"
     ]
    },
    {
     "name": "stderr",
     "output_type": "stream",
     "text": [
      "snakemake_params_add_OGs = \n"
     ]
    },
    {
     "name": "stdout",
     "output_type": "stream",
     "text": [
      "56 bytes\n"
     ]
    },
    {
     "name": "stderr",
     "output_type": "stream",
     "text": [
      "snakemake_params_compared_to_all_found = \n"
     ]
    },
    {
     "name": "stdout",
     "output_type": "stream",
     "text": [
      "112 bytes\n"
     ]
    },
    {
     "name": "stderr",
     "output_type": "stream",
     "text": [
      "snakemake_params_comparison = \n"
     ]
    },
    {
     "name": "stdout",
     "output_type": "stream",
     "text": [
      "136 bytes\n"
     ]
    },
    {
     "name": "stderr",
     "output_type": "stream",
     "text": [
      "snakemake_params_expanded_in_all_found = \n"
     ]
    },
    {
     "name": "stdout",
     "output_type": "stream",
     "text": [
      "112 bytes\n"
     ]
    },
    {
     "name": "stderr",
     "output_type": "stream",
     "text": [
      "snakemake_params_expansion = \n"
     ]
    },
    {
     "name": "stdout",
     "output_type": "stream",
     "text": [
      "120 bytes\n"
     ]
    },
    {
     "name": "stderr",
     "output_type": "stream",
     "text": [
      "snakemake_params_expansion_difference = \n"
     ]
    },
    {
     "name": "stdout",
     "output_type": "stream",
     "text": [
      "56 bytes\n"
     ]
    },
    {
     "name": "stderr",
     "output_type": "stream",
     "text": [
      "snakemake_params_expansion_factor = \n"
     ]
    },
    {
     "name": "stdout",
     "output_type": "stream",
     "text": [
      "56 bytes\n"
     ]
    },
    {
     "name": "stderr",
     "output_type": "stream",
     "text": [
      "snakemake_params_name = \n"
     ]
    },
    {
     "name": "stdout",
     "output_type": "stream",
     "text": [
      "120 bytes\n"
     ]
    },
    {
     "name": "stderr",
     "output_type": "stream",
     "text": [
      "snakemake_params_Nmin_compared_to = \n"
     ]
    },
    {
     "name": "stdout",
     "output_type": "stream",
     "text": [
      "56 bytes\n"
     ]
    },
    {
     "name": "stderr",
     "output_type": "stream",
     "text": [
      "snakemake_params_Nmin_expanded_in = \n"
     ]
    },
    {
     "name": "stdout",
     "output_type": "stream",
     "text": [
      "56 bytes\n"
     ]
    },
    {
     "name": "stderr",
     "output_type": "stream",
     "text": [
      "snakemake_params_num = \n"
     ]
    },
    {
     "name": "stdout",
     "output_type": "stream",
     "text": [
      "56 bytes\n"
     ]
    },
    {
     "name": "stderr",
     "output_type": "stream",
     "text": [
      "snakemake_params_ploidy_normalization = \n"
     ]
    },
    {
     "name": "stdout",
     "output_type": "stream",
     "text": [
      "112 bytes\n"
     ]
    },
    {
     "name": "stderr",
     "output_type": "stream",
     "text": [
      "sorted_BLAST_hits_exp_og_genes = \n"
     ]
    },
    {
     "name": "stdout",
     "output_type": "stream",
     "text": [
      "981.5 Kb\n"
     ]
    },
    {
     "name": "stderr",
     "output_type": "stream",
     "text": [
      "species_table = \n"
     ]
    },
    {
     "name": "stdout",
     "output_type": "stream",
     "text": [
      "6.4 Kb\n"
     ]
    },
    {
     "name": "stderr",
     "output_type": "stream",
     "text": [
      "summary_add_OG_analysis_list = \n"
     ]
    },
    {
     "name": "stdout",
     "output_type": "stream",
     "text": [
      "3.6 Mb\n"
     ]
    },
    {
     "name": "stderr",
     "output_type": "stream",
     "text": [
      "test = \n"
     ]
    },
    {
     "name": "stdout",
     "output_type": "stream",
     "text": [
      "56 bytes\n"
     ]
    },
    {
     "name": "stderr",
     "output_type": "stream",
     "text": [
      "thisSize = \n"
     ]
    },
    {
     "name": "stdout",
     "output_type": "stream",
     "text": [
      "288 bytes\n"
     ]
    },
    {
     "name": "stderr",
     "output_type": "stream",
     "text": [
      "x = \n"
     ]
    },
    {
     "name": "stdout",
     "output_type": "stream",
     "text": [
      "112 bytes\n"
     ]
    },
    {
     "name": "stderr",
     "output_type": "stream",
     "text": [
      "total workspace is \n"
     ]
    },
    {
     "name": "stdout",
     "output_type": "stream",
     "text": [
      "5.2 Gb\n"
     ]
    }
   ],
   "source": [
    "size = 0\n",
    "for (x in ls() ){\n",
    "    thisSize = object.size(get(x))\n",
    "    size = size + thisSize\n",
    "    message(x, \" = \", appendLF = F); print(thisSize, units='auto')\n",
    "}\n",
    "message(\"total workspace is \",appendLF = F); print(size, units='auto')"
   ]
  },
  {
   "cell_type": "code",
   "execution_count": 86,
   "metadata": {},
   "outputs": [],
   "source": [
    "#we could remove all the big files and use my beloved do parallel approach ;D\n",
    "\n",
    "#datalist = 4.6 Gb - actually orthofinder blast searches\n",
    "#all_BLAST = 4.3 Gb\n",
    "#all_BLAST_reformatted = 5 Gb\n",
    "\n",
    "\n",
    "rm(datalist)\n",
    "rm(all_BLAST)\n",
    "#rm(all_BLAST_reformatted)"
   ]
  },
  {
   "cell_type": "code",
   "execution_count": 190,
   "metadata": {},
   "outputs": [],
   "source": [
    "#### FORK cluster since I expect a Linux machine\n",
    "#### autostop=TRUE since I don't want to handle this manually\n",
    "#with my.cluster & stopCluster(my.cluster) I could check the status\n",
    "\n",
    "setup_cluster <- function(){\n",
    "\n",
    "  #define cluster\n",
    "  parallel::detectCores()\n",
    "  n.cores <- 8\n",
    "  n.cores\n",
    "\n",
    "  #create the cluster - FORK because this way libraries, variables etc. are copied to the clusters!\n",
    "  my.cluster <- parallel::makeForkCluster(\n",
    "    n.cores, \n",
    "    type = \"FORK\",\n",
    "    autostop=TRUE\n",
    "  )\n",
    "   \n",
    "  #check cluster definition (optional)\n",
    "  print(my.cluster)\n",
    "\n",
    "  #register it to be used by %dopar%\n",
    "  doParallel::registerDoParallel(cl = my.cluster)\n",
    "\n",
    "  #check if it is registered (optional)\n",
    "  print(\n",
    "    foreach::getDoParRegistered()\n",
    "  )\n",
    "  #how many workers are available? (optional)\n",
    "  print(\n",
    "    foreach::getDoParWorkers()\n",
    "  )\n",
    "\n",
    "}"
   ]
  },
  {
   "cell_type": "code",
   "execution_count": 85,
   "metadata": {
    "collapsed": true,
    "jupyter": {
     "outputs_hidden": true
    },
    "tags": []
   },
   "outputs": [
    {
     "name": "stderr",
     "output_type": "stream",
     "text": [
      "Removing all unwanted FORK connections - purging closed cluster sockets\n",
      "\n",
      "This will kill zombie proesses and free up RAM\n",
      "\n"
     ]
    },
    {
     "data": {
      "text/html": [
       "<ol>\n",
       "\t<li>NULL</li>\n",
       "\t<li>NULL</li>\n",
       "\t<li>NULL</li>\n",
       "\t<li>NULL</li>\n",
       "\t<li>NULL</li>\n",
       "\t<li>NULL</li>\n",
       "\t<li>NULL</li>\n",
       "\t<li>NULL</li>\n",
       "\t<li>NULL</li>\n",
       "\t<li>NULL</li>\n",
       "\t<li>NULL</li>\n",
       "\t<li>NULL</li>\n",
       "\t<li>NULL</li>\n",
       "\t<li>NULL</li>\n",
       "\t<li>NULL</li>\n",
       "\t<li>NULL</li>\n",
       "\t<li>NULL</li>\n",
       "\t<li>NULL</li>\n",
       "\t<li>NULL</li>\n",
       "\t<li>NULL</li>\n",
       "\t<li>NULL</li>\n",
       "\t<li>NULL</li>\n",
       "\t<li>NULL</li>\n",
       "\t<li>NULL</li>\n",
       "\t<li>NULL</li>\n",
       "\t<li>NULL</li>\n",
       "\t<li>NULL</li>\n",
       "\t<li>NULL</li>\n",
       "\t<li>NULL</li>\n",
       "\t<li>NULL</li>\n",
       "\t<li>NULL</li>\n",
       "\t<li>NULL</li>\n",
       "\t<li>NULL</li>\n",
       "\t<li>NULL</li>\n",
       "\t<li>NULL</li>\n",
       "\t<li>NULL</li>\n",
       "\t<li>NULL</li>\n",
       "\t<li>NULL</li>\n",
       "\t<li>NULL</li>\n",
       "\t<li>NULL</li>\n",
       "\t<li>NULL</li>\n",
       "\t<li>NULL</li>\n",
       "\t<li>NULL</li>\n",
       "\t<li>NULL</li>\n",
       "\t<li>NULL</li>\n",
       "\t<li>NULL</li>\n",
       "\t<li>NULL</li>\n",
       "\t<li>NULL</li>\n",
       "</ol>\n"
      ],
      "text/latex": [
       "\\begin{enumerate}\n",
       "\\item NULL\n",
       "\\item NULL\n",
       "\\item NULL\n",
       "\\item NULL\n",
       "\\item NULL\n",
       "\\item NULL\n",
       "\\item NULL\n",
       "\\item NULL\n",
       "\\item NULL\n",
       "\\item NULL\n",
       "\\item NULL\n",
       "\\item NULL\n",
       "\\item NULL\n",
       "\\item NULL\n",
       "\\item NULL\n",
       "\\item NULL\n",
       "\\item NULL\n",
       "\\item NULL\n",
       "\\item NULL\n",
       "\\item NULL\n",
       "\\item NULL\n",
       "\\item NULL\n",
       "\\item NULL\n",
       "\\item NULL\n",
       "\\item NULL\n",
       "\\item NULL\n",
       "\\item NULL\n",
       "\\item NULL\n",
       "\\item NULL\n",
       "\\item NULL\n",
       "\\item NULL\n",
       "\\item NULL\n",
       "\\item NULL\n",
       "\\item NULL\n",
       "\\item NULL\n",
       "\\item NULL\n",
       "\\item NULL\n",
       "\\item NULL\n",
       "\\item NULL\n",
       "\\item NULL\n",
       "\\item NULL\n",
       "\\item NULL\n",
       "\\item NULL\n",
       "\\item NULL\n",
       "\\item NULL\n",
       "\\item NULL\n",
       "\\item NULL\n",
       "\\item NULL\n",
       "\\end{enumerate}\n"
      ],
      "text/markdown": [
       "1. NULL\n",
       "2. NULL\n",
       "3. NULL\n",
       "4. NULL\n",
       "5. NULL\n",
       "6. NULL\n",
       "7. NULL\n",
       "8. NULL\n",
       "9. NULL\n",
       "10. NULL\n",
       "11. NULL\n",
       "12. NULL\n",
       "13. NULL\n",
       "14. NULL\n",
       "15. NULL\n",
       "16. NULL\n",
       "17. NULL\n",
       "18. NULL\n",
       "19. NULL\n",
       "20. NULL\n",
       "21. NULL\n",
       "22. NULL\n",
       "23. NULL\n",
       "24. NULL\n",
       "25. NULL\n",
       "26. NULL\n",
       "27. NULL\n",
       "28. NULL\n",
       "29. NULL\n",
       "30. NULL\n",
       "31. NULL\n",
       "32. NULL\n",
       "33. NULL\n",
       "34. NULL\n",
       "35. NULL\n",
       "36. NULL\n",
       "37. NULL\n",
       "38. NULL\n",
       "39. NULL\n",
       "40. NULL\n",
       "41. NULL\n",
       "42. NULL\n",
       "43. NULL\n",
       "44. NULL\n",
       "45. NULL\n",
       "46. NULL\n",
       "47. NULL\n",
       "48. NULL\n",
       "\n",
       "\n"
      ],
      "text/plain": [
       "[[1]]\n",
       "NULL\n",
       "\n",
       "[[2]]\n",
       "NULL\n",
       "\n",
       "[[3]]\n",
       "NULL\n",
       "\n",
       "[[4]]\n",
       "NULL\n",
       "\n",
       "[[5]]\n",
       "NULL\n",
       "\n",
       "[[6]]\n",
       "NULL\n",
       "\n",
       "[[7]]\n",
       "NULL\n",
       "\n",
       "[[8]]\n",
       "NULL\n",
       "\n",
       "[[9]]\n",
       "NULL\n",
       "\n",
       "[[10]]\n",
       "NULL\n",
       "\n",
       "[[11]]\n",
       "NULL\n",
       "\n",
       "[[12]]\n",
       "NULL\n",
       "\n",
       "[[13]]\n",
       "NULL\n",
       "\n",
       "[[14]]\n",
       "NULL\n",
       "\n",
       "[[15]]\n",
       "NULL\n",
       "\n",
       "[[16]]\n",
       "NULL\n",
       "\n",
       "[[17]]\n",
       "NULL\n",
       "\n",
       "[[18]]\n",
       "NULL\n",
       "\n",
       "[[19]]\n",
       "NULL\n",
       "\n",
       "[[20]]\n",
       "NULL\n",
       "\n",
       "[[21]]\n",
       "NULL\n",
       "\n",
       "[[22]]\n",
       "NULL\n",
       "\n",
       "[[23]]\n",
       "NULL\n",
       "\n",
       "[[24]]\n",
       "NULL\n",
       "\n",
       "[[25]]\n",
       "NULL\n",
       "\n",
       "[[26]]\n",
       "NULL\n",
       "\n",
       "[[27]]\n",
       "NULL\n",
       "\n",
       "[[28]]\n",
       "NULL\n",
       "\n",
       "[[29]]\n",
       "NULL\n",
       "\n",
       "[[30]]\n",
       "NULL\n",
       "\n",
       "[[31]]\n",
       "NULL\n",
       "\n",
       "[[32]]\n",
       "NULL\n",
       "\n",
       "[[33]]\n",
       "NULL\n",
       "\n",
       "[[34]]\n",
       "NULL\n",
       "\n",
       "[[35]]\n",
       "NULL\n",
       "\n",
       "[[36]]\n",
       "NULL\n",
       "\n",
       "[[37]]\n",
       "NULL\n",
       "\n",
       "[[38]]\n",
       "NULL\n",
       "\n",
       "[[39]]\n",
       "NULL\n",
       "\n",
       "[[40]]\n",
       "NULL\n",
       "\n",
       "[[41]]\n",
       "NULL\n",
       "\n",
       "[[42]]\n",
       "NULL\n",
       "\n",
       "[[43]]\n",
       "NULL\n",
       "\n",
       "[[44]]\n",
       "NULL\n",
       "\n",
       "[[45]]\n",
       "NULL\n",
       "\n",
       "[[46]]\n",
       "NULL\n",
       "\n",
       "[[47]]\n",
       "NULL\n",
       "\n",
       "[[48]]\n",
       "NULL\n"
      ]
     },
     "metadata": {},
     "output_type": "display_data"
    }
   ],
   "source": [
    "#function to completely remove a fork cluster\n",
    "\n",
    "#a function to get and close connection (to cluster sockets in our case)\n",
    "burn_socks <- function(x){\n",
    "  close.connection(getConnection(x))\n",
    "}\n",
    "\n",
    "\n",
    "#function to truly get rid of old Cluster/sockets\n",
    "rm_cluster <- function(){\n",
    "  stopImplicitCluster()\n",
    "\n",
    "  connections <- showConnections(all = FALSE) \n",
    "  socket_connections <- as.data.frame(connections) %>%\n",
    "    filter(class == \"sockconn\") %>%\n",
    "    rownames()\n",
    "\n",
    "  message(\"Removing all unwanted FORK connections - purging closed cluster sockets\")\n",
    "  message(\"This will kill zombie proesses and free up RAM\")\n",
    "\n",
    "  lapply(X = socket_connections, \n",
    "         FUN = burn_socks)\n",
    "\n",
    "}\n",
    "\n",
    "#rm_cluster()"
   ]
  },
  {
   "cell_type": "code",
   "execution_count": 183,
   "metadata": {
    "tags": []
   },
   "outputs": [
    {
     "name": "stdout",
     "output_type": "stream",
     "text": [
      "socket cluster with 24 nodes on host ‘localhost’\n",
      "[1] TRUE\n",
      "[1] 24\n"
     ]
    },
    {
     "name": "stderr",
     "output_type": "stream",
     "text": [
      "Removing all unwanted FORK connections - purging closed cluster sockets\n",
      "\n",
      "This will kill zombie proesses and free up RAM\n",
      "\n"
     ]
    },
    {
     "data": {
      "text/html": [
       "<ol>\n",
       "\t<li>NULL</li>\n",
       "\t<li>NULL</li>\n",
       "\t<li>NULL</li>\n",
       "\t<li>NULL</li>\n",
       "\t<li>NULL</li>\n",
       "\t<li>NULL</li>\n",
       "\t<li>NULL</li>\n",
       "\t<li>NULL</li>\n",
       "\t<li>NULL</li>\n",
       "\t<li>NULL</li>\n",
       "\t<li>NULL</li>\n",
       "\t<li>NULL</li>\n",
       "\t<li>NULL</li>\n",
       "\t<li>NULL</li>\n",
       "\t<li>NULL</li>\n",
       "\t<li>NULL</li>\n",
       "\t<li>NULL</li>\n",
       "\t<li>NULL</li>\n",
       "\t<li>NULL</li>\n",
       "\t<li>NULL</li>\n",
       "\t<li>NULL</li>\n",
       "\t<li>NULL</li>\n",
       "\t<li>NULL</li>\n",
       "\t<li>NULL</li>\n",
       "</ol>\n"
      ],
      "text/latex": [
       "\\begin{enumerate}\n",
       "\\item NULL\n",
       "\\item NULL\n",
       "\\item NULL\n",
       "\\item NULL\n",
       "\\item NULL\n",
       "\\item NULL\n",
       "\\item NULL\n",
       "\\item NULL\n",
       "\\item NULL\n",
       "\\item NULL\n",
       "\\item NULL\n",
       "\\item NULL\n",
       "\\item NULL\n",
       "\\item NULL\n",
       "\\item NULL\n",
       "\\item NULL\n",
       "\\item NULL\n",
       "\\item NULL\n",
       "\\item NULL\n",
       "\\item NULL\n",
       "\\item NULL\n",
       "\\item NULL\n",
       "\\item NULL\n",
       "\\item NULL\n",
       "\\end{enumerate}\n"
      ],
      "text/markdown": [
       "1. NULL\n",
       "2. NULL\n",
       "3. NULL\n",
       "4. NULL\n",
       "5. NULL\n",
       "6. NULL\n",
       "7. NULL\n",
       "8. NULL\n",
       "9. NULL\n",
       "10. NULL\n",
       "11. NULL\n",
       "12. NULL\n",
       "13. NULL\n",
       "14. NULL\n",
       "15. NULL\n",
       "16. NULL\n",
       "17. NULL\n",
       "18. NULL\n",
       "19. NULL\n",
       "20. NULL\n",
       "21. NULL\n",
       "22. NULL\n",
       "23. NULL\n",
       "24. NULL\n",
       "\n",
       "\n"
      ],
      "text/plain": [
       "[[1]]\n",
       "NULL\n",
       "\n",
       "[[2]]\n",
       "NULL\n",
       "\n",
       "[[3]]\n",
       "NULL\n",
       "\n",
       "[[4]]\n",
       "NULL\n",
       "\n",
       "[[5]]\n",
       "NULL\n",
       "\n",
       "[[6]]\n",
       "NULL\n",
       "\n",
       "[[7]]\n",
       "NULL\n",
       "\n",
       "[[8]]\n",
       "NULL\n",
       "\n",
       "[[9]]\n",
       "NULL\n",
       "\n",
       "[[10]]\n",
       "NULL\n",
       "\n",
       "[[11]]\n",
       "NULL\n",
       "\n",
       "[[12]]\n",
       "NULL\n",
       "\n",
       "[[13]]\n",
       "NULL\n",
       "\n",
       "[[14]]\n",
       "NULL\n",
       "\n",
       "[[15]]\n",
       "NULL\n",
       "\n",
       "[[16]]\n",
       "NULL\n",
       "\n",
       "[[17]]\n",
       "NULL\n",
       "\n",
       "[[18]]\n",
       "NULL\n",
       "\n",
       "[[19]]\n",
       "NULL\n",
       "\n",
       "[[20]]\n",
       "NULL\n",
       "\n",
       "[[21]]\n",
       "NULL\n",
       "\n",
       "[[22]]\n",
       "NULL\n",
       "\n",
       "[[23]]\n",
       "NULL\n",
       "\n",
       "[[24]]\n",
       "NULL\n"
      ]
     },
     "metadata": {},
     "output_type": "display_data"
    }
   ],
   "source": [
    "dir.create(paste(\"../../tea/\", num, \"/add_OGs_sets/\", sep = \"\"))\n",
    "dir.create(paste(\"../../tea/\", num, \"/add_OGs_sets/id_lists/\", sep = \"\"))\n",
    "\n",
    "#similarly to the additional BLAST hits approach we iterate over the expanded OGs\n",
    "  \n",
    "  #setup & start FORK cluster\n",
    "  setup_cluster()\n",
    "\n",
    "pre_summary_add_OG_analysis_list <- foreach(i = expanded_HOGs$HOG) %dopar% {\n",
    "    \n",
    "    #not pretty but was quick solution\n",
    "    loop_index <- loop_index + 1\n",
    "    \n",
    "    exp_og_genes <- unlist(strsplit(ref_ph_orthogroups[ref_ph_orthogroups$HOG == i,]$genes, split = \", \"))\n",
    "    BLAST_hits_exp_og_genes <- dplyr::filter(all_BLAST_reformatted, \n",
    "                                             qseqid_name %in% exp_og_genes | sseqid_name %in% exp_og_genes)\n",
    "    sorted_BLAST_hits_exp_og_genes <- arrange(BLAST_hits_exp_og_genes, evalue, -bitscore, -pident)\n",
    "\n",
    "    #after the sorting of BLAST hits we move on to merging the OG information into the current exp. OG BLAST hits results\n",
    "\n",
    "    #we can create a merged dataframe from the blast table (HOG specific) and the long format HOG table (general)\n",
    "    #difficulty is that in case of singletons we have NA under HOG\n",
    "    #easiest way I can think of is a named list\n",
    "    self_and_closest_ogs <- left_join(sorted_BLAST_hits_exp_og_genes, long_ph_orthogroups, by = c(\"sseqid_name\" = \"id\")) %>%\n",
    "      group_by(sseqid_name) %>%\n",
    "      arrange(evalue, -bitscore, -pident) %>%\n",
    "      slice(1) %>%\n",
    "      ungroup() %>%\n",
    "      arrange(evalue, -bitscore, -pident) %>%\n",
    "      mutate(HOG = as.character(HOG),\n",
    "             HOG = ifelse(is.na(HOG), paste(\"singleton\", sep = \"-\", cumsum(is.na(HOG))),\n",
    "                          as.character(HOG))) %>%\n",
    "      group_by(HOG) %>%\n",
    "      arrange(evalue, -bitscore, -pident) %>%\n",
    "      slice(1) %>%\n",
    "      ungroup() %>%\n",
    "      arrange(evalue, -bitscore, -pident)\n",
    "      \n",
    "      #first row will should correspond to self match - the OG itself\n",
    "    #self_and_closest_ogs\n",
    "\n",
    "    #here the information provided by the user regarding max. additional OGs is used\n",
    "    #we copy the value to an \"internal\" object since in the following commands we modify in each iteration depending on the underlying OG/s\n",
    "    #the initial add_OGs value chosen by the user is used later and must not be modified\n",
    "    add_OGs_internal = add_OGs\n",
    "\n",
    "    #need to add check for number of additonal OGs/singletons\n",
    "    #e.g. user sets max. add. OGs/singletons to 5 but we only can provide 4\n",
    "    #+ have to consider the expanded OG itself, so:\n",
    "    available_add_OGs <- nrow(self_and_closest_ogs) - 1 \n",
    "    #available_add_OGs\n",
    "\n",
    "    #in this case set add_OGs to max available\n",
    "    if (available_add_OGs < add_OGs_internal) {\n",
    "      add_OGs_internal <- available_add_OGs\n",
    "    } \n",
    "\n",
    "    #empty list of precomputed size - add OGs plus the expanded OG itself\n",
    "    add_OG_analysis_list <- vector(mode = \"list\", length = add_OGs_internal + 1)\n",
    "      \n",
    "      \n",
    "    for (j in 1:(add_OGs_internal + 1)) {\n",
    "      og_name <- self_and_closest_ogs[j,] %>%\n",
    "      pull(HOG)\n",
    "  \n",
    "      #differnetiate between OG case and a singleton case - different handling:\n",
    "      #for HOG get all associated genes/proteins from large long format table\n",
    "      #for singletons get singelton gene/protein from the table itself\n",
    "      if (!str_detect(og_name, \"singleton\") == TRUE) {\n",
    "  \n",
    "        name_curr_close_HOG <- self_and_closest_ogs[j,] %>%\n",
    "                                 pull(HOG)\n",
    "  \n",
    "        ids_curr_close_HOG <- long_ph_orthogroups %>%\n",
    "                                filter(HOG %in% name_curr_close_HOG) %>%\n",
    "                                pull(id)\n",
    "  \n",
    "        add_OG_analysis_list[[j]] <- ids_curr_close_HOG\n",
    "        names(add_OG_analysis_list)[j] <- name_curr_close_HOG\n",
    "  \n",
    "      } else {\n",
    "        name_curr_close_singleton <- self_and_closest_ogs[j,] %>%\n",
    "                                     pull(HOG)\n",
    "  \n",
    "        id_curr_close_HOG <- self_and_closest_ogs[j,] %>%\n",
    "                               pull(sseqid_name)\n",
    "  \n",
    "        add_OG_analysis_list[[j]] <- id_curr_close_HOG\n",
    "        names(add_OG_analysis_list)[j] <- name_curr_close_singleton\n",
    "      }\n",
    "    }\n",
    "\n",
    "    #create copy of the list and remove the names\n",
    "    #add all previous gene/proteins to the next OG\n",
    "    # -> e.g. the former seventh OG list element will contain all genes/proteins of all lower numbered OGs\n",
    "    #the final \"cum_add_OG_analysis_list\" will be a list with each next element having the cumulative set of all previous and own gene/protein ids \n",
    "    cum_add_OG_analysis_list <- add_OG_analysis_list\n",
    "    names(cum_add_OG_analysis_list) <- NULL\n",
    "    #copy_add_OG_analysis_list\n",
    "\n",
    "    for (k in 0:(length(cum_add_OG_analysis_list)-1)) {\n",
    "      cum_add_OG_analysis_list[[k+1]] <- unlist(c(cum_add_OG_analysis_list[k], cum_add_OG_analysis_list[k+1]))\n",
    "    }\n",
    "\n",
    "    #create directory/ies - for each HOG under \"add_OGs_sets/id_lists/\"\n",
    "    dir.create(paste(\"../../tea/\", num, \"/add_OGs_sets/id_lists/\", i, sep = \"\"))\n",
    "    \n",
    "    #iterate over cum. list and write cumulative sets into seperate files\n",
    "    for (l in 1:length(cum_add_OG_analysis_list)) {\n",
    "      write_lines(cum_add_OG_analysis_list[[l]],\n",
    "                  paste(\"../../tea/\", num, \"/add_OGs_sets/id_lists/\", i, \"/add_OGs_set_num-\", l, \".txt\", sep = \"\")\n",
    "                  #paste(\"../tea/\", num, \"/add_OGs_sets/\", i, \"/add_OGs_set_num-\", l, \".txt\", sep = \"\")\n",
    "      )\n",
    "\n",
    "    }\n",
    "    \n",
    "    #append current cum. list to summary list & name element after OG\n",
    "    #summary_add_OG_analysis_list[[loop_index]] <- cum_add_OG_analysis_list\n",
    "    #names(summary_add_OG_analysis_list)[loop_index] <- i\n",
    "\n",
    "    names(cum_add_OG_analysis_list) <- i\n",
    "    return(cum_add_OG_analysis_list)\n",
    "  }\n",
    "\n",
    "\n",
    "#after cluster is done\n",
    "rm_cluster()\n",
    "\n",
    "\n",
    "#some final formatting\n",
    "for (i in 1:length(pre_summary_add_OG_analysis_list)) {\n",
    "  names(pre_summary_add_OG_analysis_list[[i]]) <- NULL\n",
    "}\n",
    "\n",
    "names(pre_summary_add_OG_analysis_list) <- expanded_HOGs$HOG\n",
    "\n",
    "summary_add_OG_analysis_list <- pre_summary_add_OG_analysis_list"
   ]
  },
  {
   "cell_type": "code",
   "execution_count": 189,
   "metadata": {},
   "outputs": [],
   "source": [
    "#summary_add_OG_analysis_list[3]"
   ]
  },
  {
   "cell_type": "code",
   "execution_count": 186,
   "metadata": {
    "tags": []
   },
   "outputs": [
    {
     "name": "stderr",
     "output_type": "stream",
     "text": [
      "adding empty missing files - current workaround to avoid nested snakemake checkpoints\n",
      "\n"
     ]
    }
   ],
   "source": [
    "dir.create(paste(\"../../tea/\", num, \"/add_OGs_object/\", sep = \"\"))\n",
    "\n",
    "## in this final step we use the summary list to create S3-list nest structure which contains all info \n",
    "  ## of the summary but in the format we will embed in the final results object as part of the final_tea computation\n",
    "\n",
    "  #length of add OGs analysis summary list\n",
    "  summary_length <- length(summary_add_OG_analysis_list)\n",
    "\n",
    "  #create empty list of length of the summary list\n",
    "  add_og_complete_object <- vector(mode = \"list\", length = summary_length)\n",
    "\n",
    "  #iterate over all OGs in summary list\n",
    "  for (og in 1:summary_length) {\n",
    " \n",
    "    #amount of sets for current OG - (necessary since less addtional OGs than max wished by user is possible)\n",
    "    curr_og_n_sets <- length(summary_add_OG_analysis_list[[og]])\n",
    "    \n",
    "    #empty list with n elements = n sets for currently analyzed OG\n",
    "    og_all_sets <- vector(mode = \"list\", length = curr_og_n_sets)\n",
    "    \n",
    "    for (set in 1:curr_og_n_sets) {\n",
    "\n",
    "      curr_set <- new(\"add_OG_set\",\n",
    "                      genes=as_tibble(\n",
    "                        unlist(\n",
    "                          summary_add_OG_analysis_list[[og]][set],\n",
    "                        )  \n",
    "                      ) \n",
    "                  )\n",
    "      curr_set <- list(curr_set)\n",
    "  \n",
    "      og_all_sets[set] <- curr_set\n",
    "      names(og_all_sets)[set] <- paste0(\"set_\", set)\n",
    "      \n",
    "    }\n",
    "    \n",
    "    curr_add_og <- new(\"add_OG_analysis\",\n",
    "                       add_OG_analysis=og_all_sets\n",
    "                      )\n",
    "\n",
    "    curr_add_og <- list(curr_add_og) \n",
    " \n",
    "    add_og_complete_object[og] <- curr_add_og\n",
    "\n",
    "    names(add_og_complete_object)[og]  <- names(summary_add_OG_analysis_list[og])\n",
    "  }\n",
    "\n",
    "  # save summary table for aditional OG analysis to hypothesis specific (\"num\") RDS file\n",
    "  saveRDS(add_og_complete_object, paste(\"../../tea/\", num, \"/add_OGs_object/add_OG_analysis_object.RDS\", sep = \"\"))\n",
    "\n",
    "  # nested snakemake checkpoints are annoying at the moment \n",
    "  # quick fix - create empty addtional set_num files which we can ignore but nonetheless exist\n",
    "  message(\"adding empty missing files - current workaround to avoid nested snakemake checkpoints\")\n",
    "\n",
    "  #max_n_sets + 1 since user choice is the number of ADDITIONAL sets but we have ti remember the expanded OG itself (always set_num = 1)\n",
    "  max_n_sets = add_OGs + 1\n",
    "\n",
    "  for (n in names(add_og_complete_object)) {\n",
    "    \n",
    "    og_n_sets <- length(\n",
    "         list.files(path = paste0(\"../../tea/\", num, \"/add_OGs_sets/id_lists/\", n))\n",
    "        )\n",
    "    \n",
    "    og_sets <- list.files(path = paste0(\"../../tea/\", num, \"/add_OGs_sets/id_lists/\", n))\n",
    "    \n",
    "    if (og_n_sets < max_n_sets) {\n",
    "        n_missing_sets <- max_n_sets - og_n_sets\n",
    "        \n",
    "        for (m in 1:n_missing_sets) {\n",
    "          value <- max_n_sets - m + 1\n",
    "          missing_file <- paste0(\"../../tea/\", num, \"/add_OGs_sets/id_lists/\", n, \"/\", \"add_OGs_set_num-\", value, \".txt\")\n",
    "            \n",
    "          file.create(missing_file)\n",
    "        }\n",
    "    }\n",
    "  }"
   ]
  },
  {
   "cell_type": "code",
   "execution_count": 188,
   "metadata": {
    "tags": []
   },
   "outputs": [
    {
     "data": {
      "text/plain": [
       "$N0.HOG0000004\n",
       "An object of class \"add_OG_analysis\"\n",
       "Slot \"add_OG_analysis\":\n",
       "$set_1\n",
       "An object of class \"add_OG_set\"\n",
       "Slot \"genes\":\n",
       "\u001b[90m# A tibble: 211 × 1\u001b[39m\n",
       "   value                    \n",
       "   \u001b[3m\u001b[90m<chr>\u001b[39m\u001b[23m                    \n",
       "\u001b[90m 1\u001b[39m HORVU.MOREX.r3.1HG0042220\n",
       "\u001b[90m 2\u001b[39m HORVU.MOREX.r3.5HG0506090\n",
       "\u001b[90m 3\u001b[39m HORVU.MOREX.r3.2HG0185820\n",
       "\u001b[90m 4\u001b[39m HORVU.MOREX.r3.3HG0290350\n",
       "\u001b[90m 5\u001b[39m HORVU.MOREX.r3.2HG0182030\n",
       "\u001b[90m 6\u001b[39m HORVU.MOREX.r3.5HG0536690\n",
       "\u001b[90m 7\u001b[39m HORVU.MOREX.r3.2HG0117620\n",
       "\u001b[90m 8\u001b[39m HORVU.MOREX.r3.3HG0285520\n",
       "\u001b[90m 9\u001b[39m HORVU.MOREX.r3.6HG0617890\n",
       "\u001b[90m10\u001b[39m HORVU.MOREX.r3.7HG0750300\n",
       "\u001b[90m# … with 201 more rows\u001b[39m\n",
       "\n",
       "\n",
       "$set_2\n",
       "An object of class \"add_OG_set\"\n",
       "Slot \"genes\":\n",
       "\u001b[90m# A tibble: 217 × 1\u001b[39m\n",
       "   value                    \n",
       "   \u001b[3m\u001b[90m<chr>\u001b[39m\u001b[23m                    \n",
       "\u001b[90m 1\u001b[39m HORVU.MOREX.r3.1HG0042220\n",
       "\u001b[90m 2\u001b[39m HORVU.MOREX.r3.5HG0506090\n",
       "\u001b[90m 3\u001b[39m HORVU.MOREX.r3.2HG0185820\n",
       "\u001b[90m 4\u001b[39m HORVU.MOREX.r3.3HG0290350\n",
       "\u001b[90m 5\u001b[39m HORVU.MOREX.r3.2HG0182030\n",
       "\u001b[90m 6\u001b[39m HORVU.MOREX.r3.5HG0536690\n",
       "\u001b[90m 7\u001b[39m HORVU.MOREX.r3.2HG0117620\n",
       "\u001b[90m 8\u001b[39m HORVU.MOREX.r3.3HG0285520\n",
       "\u001b[90m 9\u001b[39m HORVU.MOREX.r3.6HG0617890\n",
       "\u001b[90m10\u001b[39m HORVU.MOREX.r3.7HG0750300\n",
       "\u001b[90m# … with 207 more rows\u001b[39m\n",
       "\n",
       "\n",
       "$set_3\n",
       "An object of class \"add_OG_set\"\n",
       "Slot \"genes\":\n",
       "\u001b[90m# A tibble: 222 × 1\u001b[39m\n",
       "   value                    \n",
       "   \u001b[3m\u001b[90m<chr>\u001b[39m\u001b[23m                    \n",
       "\u001b[90m 1\u001b[39m HORVU.MOREX.r3.1HG0042220\n",
       "\u001b[90m 2\u001b[39m HORVU.MOREX.r3.5HG0506090\n",
       "\u001b[90m 3\u001b[39m HORVU.MOREX.r3.2HG0185820\n",
       "\u001b[90m 4\u001b[39m HORVU.MOREX.r3.3HG0290350\n",
       "\u001b[90m 5\u001b[39m HORVU.MOREX.r3.2HG0182030\n",
       "\u001b[90m 6\u001b[39m HORVU.MOREX.r3.5HG0536690\n",
       "\u001b[90m 7\u001b[39m HORVU.MOREX.r3.2HG0117620\n",
       "\u001b[90m 8\u001b[39m HORVU.MOREX.r3.3HG0285520\n",
       "\u001b[90m 9\u001b[39m HORVU.MOREX.r3.6HG0617890\n",
       "\u001b[90m10\u001b[39m HORVU.MOREX.r3.7HG0750300\n",
       "\u001b[90m# … with 212 more rows\u001b[39m\n",
       "\n",
       "\n",
       "$set_4\n",
       "An object of class \"add_OG_set\"\n",
       "Slot \"genes\":\n",
       "\u001b[90m# A tibble: 238 × 1\u001b[39m\n",
       "   value                    \n",
       "   \u001b[3m\u001b[90m<chr>\u001b[39m\u001b[23m                    \n",
       "\u001b[90m 1\u001b[39m HORVU.MOREX.r3.1HG0042220\n",
       "\u001b[90m 2\u001b[39m HORVU.MOREX.r3.5HG0506090\n",
       "\u001b[90m 3\u001b[39m HORVU.MOREX.r3.2HG0185820\n",
       "\u001b[90m 4\u001b[39m HORVU.MOREX.r3.3HG0290350\n",
       "\u001b[90m 5\u001b[39m HORVU.MOREX.r3.2HG0182030\n",
       "\u001b[90m 6\u001b[39m HORVU.MOREX.r3.5HG0536690\n",
       "\u001b[90m 7\u001b[39m HORVU.MOREX.r3.2HG0117620\n",
       "\u001b[90m 8\u001b[39m HORVU.MOREX.r3.3HG0285520\n",
       "\u001b[90m 9\u001b[39m HORVU.MOREX.r3.6HG0617890\n",
       "\u001b[90m10\u001b[39m HORVU.MOREX.r3.7HG0750300\n",
       "\u001b[90m# … with 228 more rows\u001b[39m\n",
       "\n",
       "\n",
       "$set_5\n",
       "An object of class \"add_OG_set\"\n",
       "Slot \"genes\":\n",
       "\u001b[90m# A tibble: 252 × 1\u001b[39m\n",
       "   value                    \n",
       "   \u001b[3m\u001b[90m<chr>\u001b[39m\u001b[23m                    \n",
       "\u001b[90m 1\u001b[39m HORVU.MOREX.r3.1HG0042220\n",
       "\u001b[90m 2\u001b[39m HORVU.MOREX.r3.5HG0506090\n",
       "\u001b[90m 3\u001b[39m HORVU.MOREX.r3.2HG0185820\n",
       "\u001b[90m 4\u001b[39m HORVU.MOREX.r3.3HG0290350\n",
       "\u001b[90m 5\u001b[39m HORVU.MOREX.r3.2HG0182030\n",
       "\u001b[90m 6\u001b[39m HORVU.MOREX.r3.5HG0536690\n",
       "\u001b[90m 7\u001b[39m HORVU.MOREX.r3.2HG0117620\n",
       "\u001b[90m 8\u001b[39m HORVU.MOREX.r3.3HG0285520\n",
       "\u001b[90m 9\u001b[39m HORVU.MOREX.r3.6HG0617890\n",
       "\u001b[90m10\u001b[39m HORVU.MOREX.r3.7HG0750300\n",
       "\u001b[90m# … with 242 more rows\u001b[39m\n",
       "\n",
       "\n",
       "$set_6\n",
       "An object of class \"add_OG_set\"\n",
       "Slot \"genes\":\n",
       "\u001b[90m# A tibble: 266 × 1\u001b[39m\n",
       "   value                    \n",
       "   \u001b[3m\u001b[90m<chr>\u001b[39m\u001b[23m                    \n",
       "\u001b[90m 1\u001b[39m HORVU.MOREX.r3.1HG0042220\n",
       "\u001b[90m 2\u001b[39m HORVU.MOREX.r3.5HG0506090\n",
       "\u001b[90m 3\u001b[39m HORVU.MOREX.r3.2HG0185820\n",
       "\u001b[90m 4\u001b[39m HORVU.MOREX.r3.3HG0290350\n",
       "\u001b[90m 5\u001b[39m HORVU.MOREX.r3.2HG0182030\n",
       "\u001b[90m 6\u001b[39m HORVU.MOREX.r3.5HG0536690\n",
       "\u001b[90m 7\u001b[39m HORVU.MOREX.r3.2HG0117620\n",
       "\u001b[90m 8\u001b[39m HORVU.MOREX.r3.3HG0285520\n",
       "\u001b[90m 9\u001b[39m HORVU.MOREX.r3.6HG0617890\n",
       "\u001b[90m10\u001b[39m HORVU.MOREX.r3.7HG0750300\n",
       "\u001b[90m# … with 256 more rows\u001b[39m\n",
       "\n",
       "\n",
       "$set_7\n",
       "An object of class \"add_OG_set\"\n",
       "Slot \"genes\":\n",
       "\u001b[90m# A tibble: 319 × 1\u001b[39m\n",
       "   value                    \n",
       "   \u001b[3m\u001b[90m<chr>\u001b[39m\u001b[23m                    \n",
       "\u001b[90m 1\u001b[39m HORVU.MOREX.r3.1HG0042220\n",
       "\u001b[90m 2\u001b[39m HORVU.MOREX.r3.5HG0506090\n",
       "\u001b[90m 3\u001b[39m HORVU.MOREX.r3.2HG0185820\n",
       "\u001b[90m 4\u001b[39m HORVU.MOREX.r3.3HG0290350\n",
       "\u001b[90m 5\u001b[39m HORVU.MOREX.r3.2HG0182030\n",
       "\u001b[90m 6\u001b[39m HORVU.MOREX.r3.5HG0536690\n",
       "\u001b[90m 7\u001b[39m HORVU.MOREX.r3.2HG0117620\n",
       "\u001b[90m 8\u001b[39m HORVU.MOREX.r3.3HG0285520\n",
       "\u001b[90m 9\u001b[39m HORVU.MOREX.r3.6HG0617890\n",
       "\u001b[90m10\u001b[39m HORVU.MOREX.r3.7HG0750300\n",
       "\u001b[90m# … with 309 more rows\u001b[39m\n",
       "\n",
       "\n",
       "$set_8\n",
       "An object of class \"add_OG_set\"\n",
       "Slot \"genes\":\n",
       "\u001b[90m# A tibble: 410 × 1\u001b[39m\n",
       "   value                    \n",
       "   \u001b[3m\u001b[90m<chr>\u001b[39m\u001b[23m                    \n",
       "\u001b[90m 1\u001b[39m HORVU.MOREX.r3.1HG0042220\n",
       "\u001b[90m 2\u001b[39m HORVU.MOREX.r3.5HG0506090\n",
       "\u001b[90m 3\u001b[39m HORVU.MOREX.r3.2HG0185820\n",
       "\u001b[90m 4\u001b[39m HORVU.MOREX.r3.3HG0290350\n",
       "\u001b[90m 5\u001b[39m HORVU.MOREX.r3.2HG0182030\n",
       "\u001b[90m 6\u001b[39m HORVU.MOREX.r3.5HG0536690\n",
       "\u001b[90m 7\u001b[39m HORVU.MOREX.r3.2HG0117620\n",
       "\u001b[90m 8\u001b[39m HORVU.MOREX.r3.3HG0285520\n",
       "\u001b[90m 9\u001b[39m HORVU.MOREX.r3.6HG0617890\n",
       "\u001b[90m10\u001b[39m HORVU.MOREX.r3.7HG0750300\n",
       "\u001b[90m# … with 400 more rows\u001b[39m\n",
       "\n",
       "\n",
       "$set_9\n",
       "An object of class \"add_OG_set\"\n",
       "Slot \"genes\":\n",
       "\u001b[90m# A tibble: 440 × 1\u001b[39m\n",
       "   value                    \n",
       "   \u001b[3m\u001b[90m<chr>\u001b[39m\u001b[23m                    \n",
       "\u001b[90m 1\u001b[39m HORVU.MOREX.r3.1HG0042220\n",
       "\u001b[90m 2\u001b[39m HORVU.MOREX.r3.5HG0506090\n",
       "\u001b[90m 3\u001b[39m HORVU.MOREX.r3.2HG0185820\n",
       "\u001b[90m 4\u001b[39m HORVU.MOREX.r3.3HG0290350\n",
       "\u001b[90m 5\u001b[39m HORVU.MOREX.r3.2HG0182030\n",
       "\u001b[90m 6\u001b[39m HORVU.MOREX.r3.5HG0536690\n",
       "\u001b[90m 7\u001b[39m HORVU.MOREX.r3.2HG0117620\n",
       "\u001b[90m 8\u001b[39m HORVU.MOREX.r3.3HG0285520\n",
       "\u001b[90m 9\u001b[39m HORVU.MOREX.r3.6HG0617890\n",
       "\u001b[90m10\u001b[39m HORVU.MOREX.r3.7HG0750300\n",
       "\u001b[90m# … with 430 more rows\u001b[39m\n",
       "\n",
       "\n",
       "$set_10\n",
       "An object of class \"add_OG_set\"\n",
       "Slot \"genes\":\n",
       "\u001b[90m# A tibble: 452 × 1\u001b[39m\n",
       "   value                    \n",
       "   \u001b[3m\u001b[90m<chr>\u001b[39m\u001b[23m                    \n",
       "\u001b[90m 1\u001b[39m HORVU.MOREX.r3.1HG0042220\n",
       "\u001b[90m 2\u001b[39m HORVU.MOREX.r3.5HG0506090\n",
       "\u001b[90m 3\u001b[39m HORVU.MOREX.r3.2HG0185820\n",
       "\u001b[90m 4\u001b[39m HORVU.MOREX.r3.3HG0290350\n",
       "\u001b[90m 5\u001b[39m HORVU.MOREX.r3.2HG0182030\n",
       "\u001b[90m 6\u001b[39m HORVU.MOREX.r3.5HG0536690\n",
       "\u001b[90m 7\u001b[39m HORVU.MOREX.r3.2HG0117620\n",
       "\u001b[90m 8\u001b[39m HORVU.MOREX.r3.3HG0285520\n",
       "\u001b[90m 9\u001b[39m HORVU.MOREX.r3.6HG0617890\n",
       "\u001b[90m10\u001b[39m HORVU.MOREX.r3.7HG0750300\n",
       "\u001b[90m# … with 442 more rows\u001b[39m\n",
       "\n",
       "\n",
       "$set_11\n",
       "An object of class \"add_OG_set\"\n",
       "Slot \"genes\":\n",
       "\u001b[90m# A tibble: 466 × 1\u001b[39m\n",
       "   value                    \n",
       "   \u001b[3m\u001b[90m<chr>\u001b[39m\u001b[23m                    \n",
       "\u001b[90m 1\u001b[39m HORVU.MOREX.r3.1HG0042220\n",
       "\u001b[90m 2\u001b[39m HORVU.MOREX.r3.5HG0506090\n",
       "\u001b[90m 3\u001b[39m HORVU.MOREX.r3.2HG0185820\n",
       "\u001b[90m 4\u001b[39m HORVU.MOREX.r3.3HG0290350\n",
       "\u001b[90m 5\u001b[39m HORVU.MOREX.r3.2HG0182030\n",
       "\u001b[90m 6\u001b[39m HORVU.MOREX.r3.5HG0536690\n",
       "\u001b[90m 7\u001b[39m HORVU.MOREX.r3.2HG0117620\n",
       "\u001b[90m 8\u001b[39m HORVU.MOREX.r3.3HG0285520\n",
       "\u001b[90m 9\u001b[39m HORVU.MOREX.r3.6HG0617890\n",
       "\u001b[90m10\u001b[39m HORVU.MOREX.r3.7HG0750300\n",
       "\u001b[90m# … with 456 more rows\u001b[39m\n",
       "\n",
       "\n",
       "\n",
       "\n",
       "$N0.HOG0000022\n",
       "An object of class \"add_OG_analysis\"\n",
       "Slot \"add_OG_analysis\":\n",
       "$set_1\n",
       "An object of class \"add_OG_set\"\n",
       "Slot \"genes\":\n",
       "\u001b[90m# A tibble: 13 × 1\u001b[39m\n",
       "   value                    \n",
       "   \u001b[3m\u001b[90m<chr>\u001b[39m\u001b[23m                    \n",
       "\u001b[90m 1\u001b[39m BRADI_1g57730v3          \n",
       "\u001b[90m 2\u001b[39m HORVU.MOREX.r3.2HG0211290\n",
       "\u001b[90m 3\u001b[39m HORVU.MOREX.r3.7HG0634370\n",
       "\u001b[90m 4\u001b[39m HORVU.MOREX.r3.7HG0657520\n",
       "\u001b[90m 5\u001b[39m Misin17G245800           \n",
       "\u001b[90m 6\u001b[39m ONIVA07G00790            \n",
       "\u001b[90m 7\u001b[39m ONIVA07G00740            \n",
       "\u001b[90m 8\u001b[39m Os07g0129800             \n",
       "\u001b[90m 9\u001b[39m SETIT_008223mg           \n",
       "\u001b[90m10\u001b[39m SORBI_3010G126800        \n",
       "\u001b[90m11\u001b[39m SORBI_3009G236200        \n",
       "\u001b[90m12\u001b[39m TraesCS7A02G139900       \n",
       "\u001b[90m13\u001b[39m Zm00001eb281100          \n",
       "\n",
       "\n",
       "$set_2\n",
       "An object of class \"add_OG_set\"\n",
       "Slot \"genes\":\n",
       "\u001b[90m# A tibble: 24 × 1\u001b[39m\n",
       "   value                    \n",
       "   \u001b[3m\u001b[90m<chr>\u001b[39m\u001b[23m                    \n",
       "\u001b[90m 1\u001b[39m BRADI_1g57730v3          \n",
       "\u001b[90m 2\u001b[39m HORVU.MOREX.r3.2HG0211290\n",
       "\u001b[90m 3\u001b[39m HORVU.MOREX.r3.7HG0634370\n",
       "\u001b[90m 4\u001b[39m HORVU.MOREX.r3.7HG0657520\n",
       "\u001b[90m 5\u001b[39m Misin17G245800           \n",
       "\u001b[90m 6\u001b[39m ONIVA07G00790            \n",
       "\u001b[90m 7\u001b[39m ONIVA07G00740            \n",
       "\u001b[90m 8\u001b[39m Os07g0129800             \n",
       "\u001b[90m 9\u001b[39m SETIT_008223mg           \n",
       "\u001b[90m10\u001b[39m SORBI_3010G126800        \n",
       "\u001b[90m# … with 14 more rows\u001b[39m\n",
       "\n",
       "\n",
       "$set_3\n",
       "An object of class \"add_OG_set\"\n",
       "Slot \"genes\":\n",
       "\u001b[90m# A tibble: 29 × 1\u001b[39m\n",
       "   value                    \n",
       "   \u001b[3m\u001b[90m<chr>\u001b[39m\u001b[23m                    \n",
       "\u001b[90m 1\u001b[39m BRADI_1g57730v3          \n",
       "\u001b[90m 2\u001b[39m HORVU.MOREX.r3.2HG0211290\n",
       "\u001b[90m 3\u001b[39m HORVU.MOREX.r3.7HG0634370\n",
       "\u001b[90m 4\u001b[39m HORVU.MOREX.r3.7HG0657520\n",
       "\u001b[90m 5\u001b[39m Misin17G245800           \n",
       "\u001b[90m 6\u001b[39m ONIVA07G00790            \n",
       "\u001b[90m 7\u001b[39m ONIVA07G00740            \n",
       "\u001b[90m 8\u001b[39m Os07g0129800             \n",
       "\u001b[90m 9\u001b[39m SETIT_008223mg           \n",
       "\u001b[90m10\u001b[39m SORBI_3010G126800        \n",
       "\u001b[90m# … with 19 more rows\u001b[39m\n",
       "\n",
       "\n",
       "$set_4\n",
       "An object of class \"add_OG_set\"\n",
       "Slot \"genes\":\n",
       "\u001b[90m# A tibble: 38 × 1\u001b[39m\n",
       "   value                    \n",
       "   \u001b[3m\u001b[90m<chr>\u001b[39m\u001b[23m                    \n",
       "\u001b[90m 1\u001b[39m BRADI_1g57730v3          \n",
       "\u001b[90m 2\u001b[39m HORVU.MOREX.r3.2HG0211290\n",
       "\u001b[90m 3\u001b[39m HORVU.MOREX.r3.7HG0634370\n",
       "\u001b[90m 4\u001b[39m HORVU.MOREX.r3.7HG0657520\n",
       "\u001b[90m 5\u001b[39m Misin17G245800           \n",
       "\u001b[90m 6\u001b[39m ONIVA07G00790            \n",
       "\u001b[90m 7\u001b[39m ONIVA07G00740            \n",
       "\u001b[90m 8\u001b[39m Os07g0129800             \n",
       "\u001b[90m 9\u001b[39m SETIT_008223mg           \n",
       "\u001b[90m10\u001b[39m SORBI_3010G126800        \n",
       "\u001b[90m# … with 28 more rows\u001b[39m\n",
       "\n",
       "\n",
       "$set_5\n",
       "An object of class \"add_OG_set\"\n",
       "Slot \"genes\":\n",
       "\u001b[90m# A tibble: 48 × 1\u001b[39m\n",
       "   value                    \n",
       "   \u001b[3m\u001b[90m<chr>\u001b[39m\u001b[23m                    \n",
       "\u001b[90m 1\u001b[39m BRADI_1g57730v3          \n",
       "\u001b[90m 2\u001b[39m HORVU.MOREX.r3.2HG0211290\n",
       "\u001b[90m 3\u001b[39m HORVU.MOREX.r3.7HG0634370\n",
       "\u001b[90m 4\u001b[39m HORVU.MOREX.r3.7HG0657520\n",
       "\u001b[90m 5\u001b[39m Misin17G245800           \n",
       "\u001b[90m 6\u001b[39m ONIVA07G00790            \n",
       "\u001b[90m 7\u001b[39m ONIVA07G00740            \n",
       "\u001b[90m 8\u001b[39m Os07g0129800             \n",
       "\u001b[90m 9\u001b[39m SETIT_008223mg           \n",
       "\u001b[90m10\u001b[39m SORBI_3010G126800        \n",
       "\u001b[90m# … with 38 more rows\u001b[39m\n",
       "\n",
       "\n",
       "$set_6\n",
       "An object of class \"add_OG_set\"\n",
       "Slot \"genes\":\n",
       "\u001b[90m# A tibble: 53 × 1\u001b[39m\n",
       "   value                    \n",
       "   \u001b[3m\u001b[90m<chr>\u001b[39m\u001b[23m                    \n",
       "\u001b[90m 1\u001b[39m BRADI_1g57730v3          \n",
       "\u001b[90m 2\u001b[39m HORVU.MOREX.r3.2HG0211290\n",
       "\u001b[90m 3\u001b[39m HORVU.MOREX.r3.7HG0634370\n",
       "\u001b[90m 4\u001b[39m HORVU.MOREX.r3.7HG0657520\n",
       "\u001b[90m 5\u001b[39m Misin17G245800           \n",
       "\u001b[90m 6\u001b[39m ONIVA07G00790            \n",
       "\u001b[90m 7\u001b[39m ONIVA07G00740            \n",
       "\u001b[90m 8\u001b[39m Os07g0129800             \n",
       "\u001b[90m 9\u001b[39m SETIT_008223mg           \n",
       "\u001b[90m10\u001b[39m SORBI_3010G126800        \n",
       "\u001b[90m# … with 43 more rows\u001b[39m\n",
       "\n",
       "\n",
       "$set_7\n",
       "An object of class \"add_OG_set\"\n",
       "Slot \"genes\":\n",
       "\u001b[90m# A tibble: 62 × 1\u001b[39m\n",
       "   value                    \n",
       "   \u001b[3m\u001b[90m<chr>\u001b[39m\u001b[23m                    \n",
       "\u001b[90m 1\u001b[39m BRADI_1g57730v3          \n",
       "\u001b[90m 2\u001b[39m HORVU.MOREX.r3.2HG0211290\n",
       "\u001b[90m 3\u001b[39m HORVU.MOREX.r3.7HG0634370\n",
       "\u001b[90m 4\u001b[39m HORVU.MOREX.r3.7HG0657520\n",
       "\u001b[90m 5\u001b[39m Misin17G245800           \n",
       "\u001b[90m 6\u001b[39m ONIVA07G00790            \n",
       "\u001b[90m 7\u001b[39m ONIVA07G00740            \n",
       "\u001b[90m 8\u001b[39m Os07g0129800             \n",
       "\u001b[90m 9\u001b[39m SETIT_008223mg           \n",
       "\u001b[90m10\u001b[39m SORBI_3010G126800        \n",
       "\u001b[90m# … with 52 more rows\u001b[39m\n",
       "\n",
       "\n",
       "$set_8\n",
       "An object of class \"add_OG_set\"\n",
       "Slot \"genes\":\n",
       "\u001b[90m# A tibble: 70 × 1\u001b[39m\n",
       "   value                    \n",
       "   \u001b[3m\u001b[90m<chr>\u001b[39m\u001b[23m                    \n",
       "\u001b[90m 1\u001b[39m BRADI_1g57730v3          \n",
       "\u001b[90m 2\u001b[39m HORVU.MOREX.r3.2HG0211290\n",
       "\u001b[90m 3\u001b[39m HORVU.MOREX.r3.7HG0634370\n",
       "\u001b[90m 4\u001b[39m HORVU.MOREX.r3.7HG0657520\n",
       "\u001b[90m 5\u001b[39m Misin17G245800           \n",
       "\u001b[90m 6\u001b[39m ONIVA07G00790            \n",
       "\u001b[90m 7\u001b[39m ONIVA07G00740            \n",
       "\u001b[90m 8\u001b[39m Os07g0129800             \n",
       "\u001b[90m 9\u001b[39m SETIT_008223mg           \n",
       "\u001b[90m10\u001b[39m SORBI_3010G126800        \n",
       "\u001b[90m# … with 60 more rows\u001b[39m\n",
       "\n",
       "\n",
       "$set_9\n",
       "An object of class \"add_OG_set\"\n",
       "Slot \"genes\":\n",
       "\u001b[90m# A tibble: 87 × 1\u001b[39m\n",
       "   value                    \n",
       "   \u001b[3m\u001b[90m<chr>\u001b[39m\u001b[23m                    \n",
       "\u001b[90m 1\u001b[39m BRADI_1g57730v3          \n",
       "\u001b[90m 2\u001b[39m HORVU.MOREX.r3.2HG0211290\n",
       "\u001b[90m 3\u001b[39m HORVU.MOREX.r3.7HG0634370\n",
       "\u001b[90m 4\u001b[39m HORVU.MOREX.r3.7HG0657520\n",
       "\u001b[90m 5\u001b[39m Misin17G245800           \n",
       "\u001b[90m 6\u001b[39m ONIVA07G00790            \n",
       "\u001b[90m 7\u001b[39m ONIVA07G00740            \n",
       "\u001b[90m 8\u001b[39m Os07g0129800             \n",
       "\u001b[90m 9\u001b[39m SETIT_008223mg           \n",
       "\u001b[90m10\u001b[39m SORBI_3010G126800        \n",
       "\u001b[90m# … with 77 more rows\u001b[39m\n",
       "\n",
       "\n",
       "$set_10\n",
       "An object of class \"add_OG_set\"\n",
       "Slot \"genes\":\n",
       "\u001b[90m# A tibble: 96 × 1\u001b[39m\n",
       "   value                    \n",
       "   \u001b[3m\u001b[90m<chr>\u001b[39m\u001b[23m                    \n",
       "\u001b[90m 1\u001b[39m BRADI_1g57730v3          \n",
       "\u001b[90m 2\u001b[39m HORVU.MOREX.r3.2HG0211290\n",
       "\u001b[90m 3\u001b[39m HORVU.MOREX.r3.7HG0634370\n",
       "\u001b[90m 4\u001b[39m HORVU.MOREX.r3.7HG0657520\n",
       "\u001b[90m 5\u001b[39m Misin17G245800           \n",
       "\u001b[90m 6\u001b[39m ONIVA07G00790            \n",
       "\u001b[90m 7\u001b[39m ONIVA07G00740            \n",
       "\u001b[90m 8\u001b[39m Os07g0129800             \n",
       "\u001b[90m 9\u001b[39m SETIT_008223mg           \n",
       "\u001b[90m10\u001b[39m SORBI_3010G126800        \n",
       "\u001b[90m# … with 86 more rows\u001b[39m\n",
       "\n",
       "\n",
       "$set_11\n",
       "An object of class \"add_OG_set\"\n",
       "Slot \"genes\":\n",
       "\u001b[90m# A tibble: 97 × 1\u001b[39m\n",
       "   value                    \n",
       "   \u001b[3m\u001b[90m<chr>\u001b[39m\u001b[23m                    \n",
       "\u001b[90m 1\u001b[39m BRADI_1g57730v3          \n",
       "\u001b[90m 2\u001b[39m HORVU.MOREX.r3.2HG0211290\n",
       "\u001b[90m 3\u001b[39m HORVU.MOREX.r3.7HG0634370\n",
       "\u001b[90m 4\u001b[39m HORVU.MOREX.r3.7HG0657520\n",
       "\u001b[90m 5\u001b[39m Misin17G245800           \n",
       "\u001b[90m 6\u001b[39m ONIVA07G00790            \n",
       "\u001b[90m 7\u001b[39m ONIVA07G00740            \n",
       "\u001b[90m 8\u001b[39m Os07g0129800             \n",
       "\u001b[90m 9\u001b[39m SETIT_008223mg           \n",
       "\u001b[90m10\u001b[39m SORBI_3010G126800        \n",
       "\u001b[90m# … with 87 more rows\u001b[39m\n",
       "\n",
       "\n",
       "\n",
       "\n",
       "$N0.HOG0000027\n",
       "An object of class \"add_OG_analysis\"\n",
       "Slot \"add_OG_analysis\":\n",
       "$set_1\n",
       "An object of class \"add_OG_set\"\n",
       "Slot \"genes\":\n",
       "\u001b[90m# A tibble: 6 × 1\u001b[39m\n",
       "  value                    \n",
       "  \u001b[3m\u001b[90m<chr>\u001b[39m\u001b[23m                    \n",
       "\u001b[90m1\u001b[39m BRADI_1g54167v3          \n",
       "\u001b[90m2\u001b[39m HORVU.MOREX.r3.5HG0518200\n",
       "\u001b[90m3\u001b[39m Misin03G076200           \n",
       "\u001b[90m4\u001b[39m ONIVA07G08270            \n",
       "\u001b[90m5\u001b[39m TraesCS3B02G364400       \n",
       "\u001b[90m6\u001b[39m Zm00001eb304650          \n",
       "\n",
       "\n",
       "$set_2\n",
       "An object of class \"add_OG_set\"\n",
       "Slot \"genes\":\n",
       "\u001b[90m# A tibble: 11 × 1\u001b[39m\n",
       "   value                    \n",
       "   \u001b[3m\u001b[90m<chr>\u001b[39m\u001b[23m                    \n",
       "\u001b[90m 1\u001b[39m BRADI_1g54167v3          \n",
       "\u001b[90m 2\u001b[39m HORVU.MOREX.r3.5HG0518200\n",
       "\u001b[90m 3\u001b[39m Misin03G076200           \n",
       "\u001b[90m 4\u001b[39m ONIVA07G08270            \n",
       "\u001b[90m 5\u001b[39m TraesCS3B02G364400       \n",
       "\u001b[90m 6\u001b[39m Zm00001eb304650          \n",
       "\u001b[90m 7\u001b[39m Misin04G034300           \n",
       "\u001b[90m 8\u001b[39m SETIT_029134mg           \n",
       "\u001b[90m 9\u001b[39m SORBI_3002G024200        \n",
       "\u001b[90m10\u001b[39m TraesCS2D02G219800       \n",
       "\u001b[90m11\u001b[39m TraesCS2A02G214000       \n",
       "\n",
       "\n",
       "$set_3\n",
       "An object of class \"add_OG_set\"\n",
       "Slot \"genes\":\n",
       "\u001b[90m# A tibble: 19 × 1\u001b[39m\n",
       "   value                    \n",
       "   \u001b[3m\u001b[90m<chr>\u001b[39m\u001b[23m                    \n",
       "\u001b[90m 1\u001b[39m BRADI_1g54167v3          \n",
       "\u001b[90m 2\u001b[39m HORVU.MOREX.r3.5HG0518200\n",
       "\u001b[90m 3\u001b[39m Misin03G076200           \n",
       "\u001b[90m 4\u001b[39m ONIVA07G08270            \n",
       "\u001b[90m 5\u001b[39m TraesCS3B02G364400       \n",
       "\u001b[90m 6\u001b[39m Zm00001eb304650          \n",
       "\u001b[90m 7\u001b[39m Misin04G034300           \n",
       "\u001b[90m 8\u001b[39m SETIT_029134mg           \n",
       "\u001b[90m 9\u001b[39m SORBI_3002G024200        \n",
       "\u001b[90m10\u001b[39m TraesCS2D02G219800       \n",
       "\u001b[90m11\u001b[39m TraesCS2A02G214000       \n",
       "\u001b[90m12\u001b[39m BRADI_5g16760v3          \n",
       "\u001b[90m13\u001b[39m HORVU.MOREX.r3.3HG0235760\n",
       "\u001b[90m14\u001b[39m MisinT494700             \n",
       "\u001b[90m15\u001b[39m SORBI_3002G107900        \n",
       "\u001b[90m16\u001b[39m TraesCS3D02G104100       \n",
       "\u001b[90m17\u001b[39m TraesCS3A02G101700       \n",
       "\u001b[90m18\u001b[39m TraesCS3B02G119600       \n",
       "\u001b[90m19\u001b[39m Zm00001eb305300          \n",
       "\n",
       "\n",
       "$set_4\n",
       "An object of class \"add_OG_set\"\n",
       "Slot \"genes\":\n",
       "\u001b[90m# A tibble: 25 × 1\u001b[39m\n",
       "   value                    \n",
       "   \u001b[3m\u001b[90m<chr>\u001b[39m\u001b[23m                    \n",
       "\u001b[90m 1\u001b[39m BRADI_1g54167v3          \n",
       "\u001b[90m 2\u001b[39m HORVU.MOREX.r3.5HG0518200\n",
       "\u001b[90m 3\u001b[39m Misin03G076200           \n",
       "\u001b[90m 4\u001b[39m ONIVA07G08270            \n",
       "\u001b[90m 5\u001b[39m TraesCS3B02G364400       \n",
       "\u001b[90m 6\u001b[39m Zm00001eb304650          \n",
       "\u001b[90m 7\u001b[39m Misin04G034300           \n",
       "\u001b[90m 8\u001b[39m SETIT_029134mg           \n",
       "\u001b[90m 9\u001b[39m SORBI_3002G024200        \n",
       "\u001b[90m10\u001b[39m TraesCS2D02G219800       \n",
       "\u001b[90m# … with 15 more rows\u001b[39m\n",
       "\n",
       "\n",
       "$set_5\n",
       "An object of class \"add_OG_set\"\n",
       "Slot \"genes\":\n",
       "\u001b[90m# A tibble: 34 × 1\u001b[39m\n",
       "   value                    \n",
       "   \u001b[3m\u001b[90m<chr>\u001b[39m\u001b[23m                    \n",
       "\u001b[90m 1\u001b[39m BRADI_1g54167v3          \n",
       "\u001b[90m 2\u001b[39m HORVU.MOREX.r3.5HG0518200\n",
       "\u001b[90m 3\u001b[39m Misin03G076200           \n",
       "\u001b[90m 4\u001b[39m ONIVA07G08270            \n",
       "\u001b[90m 5\u001b[39m TraesCS3B02G364400       \n",
       "\u001b[90m 6\u001b[39m Zm00001eb304650          \n",
       "\u001b[90m 7\u001b[39m Misin04G034300           \n",
       "\u001b[90m 8\u001b[39m SETIT_029134mg           \n",
       "\u001b[90m 9\u001b[39m SORBI_3002G024200        \n",
       "\u001b[90m10\u001b[39m TraesCS2D02G219800       \n",
       "\u001b[90m# … with 24 more rows\u001b[39m\n",
       "\n",
       "\n",
       "$set_6\n",
       "An object of class \"add_OG_set\"\n",
       "Slot \"genes\":\n",
       "\u001b[90m# A tibble: 44 × 1\u001b[39m\n",
       "   value                    \n",
       "   \u001b[3m\u001b[90m<chr>\u001b[39m\u001b[23m                    \n",
       "\u001b[90m 1\u001b[39m BRADI_1g54167v3          \n",
       "\u001b[90m 2\u001b[39m HORVU.MOREX.r3.5HG0518200\n",
       "\u001b[90m 3\u001b[39m Misin03G076200           \n",
       "\u001b[90m 4\u001b[39m ONIVA07G08270            \n",
       "\u001b[90m 5\u001b[39m TraesCS3B02G364400       \n",
       "\u001b[90m 6\u001b[39m Zm00001eb304650          \n",
       "\u001b[90m 7\u001b[39m Misin04G034300           \n",
       "\u001b[90m 8\u001b[39m SETIT_029134mg           \n",
       "\u001b[90m 9\u001b[39m SORBI_3002G024200        \n",
       "\u001b[90m10\u001b[39m TraesCS2D02G219800       \n",
       "\u001b[90m# … with 34 more rows\u001b[39m\n",
       "\n",
       "\n",
       "$set_7\n",
       "An object of class \"add_OG_set\"\n",
       "Slot \"genes\":\n",
       "\u001b[90m# A tibble: 61 × 1\u001b[39m\n",
       "   value                    \n",
       "   \u001b[3m\u001b[90m<chr>\u001b[39m\u001b[23m                    \n",
       "\u001b[90m 1\u001b[39m BRADI_1g54167v3          \n",
       "\u001b[90m 2\u001b[39m HORVU.MOREX.r3.5HG0518200\n",
       "\u001b[90m 3\u001b[39m Misin03G076200           \n",
       "\u001b[90m 4\u001b[39m ONIVA07G08270            \n",
       "\u001b[90m 5\u001b[39m TraesCS3B02G364400       \n",
       "\u001b[90m 6\u001b[39m Zm00001eb304650          \n",
       "\u001b[90m 7\u001b[39m Misin04G034300           \n",
       "\u001b[90m 8\u001b[39m SETIT_029134mg           \n",
       "\u001b[90m 9\u001b[39m SORBI_3002G024200        \n",
       "\u001b[90m10\u001b[39m TraesCS2D02G219800       \n",
       "\u001b[90m# … with 51 more rows\u001b[39m\n",
       "\n",
       "\n",
       "$set_8\n",
       "An object of class \"add_OG_set\"\n",
       "Slot \"genes\":\n",
       "\u001b[90m# A tibble: 69 × 1\u001b[39m\n",
       "   value                    \n",
       "   \u001b[3m\u001b[90m<chr>\u001b[39m\u001b[23m                    \n",
       "\u001b[90m 1\u001b[39m BRADI_1g54167v3          \n",
       "\u001b[90m 2\u001b[39m HORVU.MOREX.r3.5HG0518200\n",
       "\u001b[90m 3\u001b[39m Misin03G076200           \n",
       "\u001b[90m 4\u001b[39m ONIVA07G08270            \n",
       "\u001b[90m 5\u001b[39m TraesCS3B02G364400       \n",
       "\u001b[90m 6\u001b[39m Zm00001eb304650          \n",
       "\u001b[90m 7\u001b[39m Misin04G034300           \n",
       "\u001b[90m 8\u001b[39m SETIT_029134mg           \n",
       "\u001b[90m 9\u001b[39m SORBI_3002G024200        \n",
       "\u001b[90m10\u001b[39m TraesCS2D02G219800       \n",
       "\u001b[90m# … with 59 more rows\u001b[39m\n",
       "\n",
       "\n",
       "$set_9\n",
       "An object of class \"add_OG_set\"\n",
       "Slot \"genes\":\n",
       "\u001b[90m# A tibble: 82 × 1\u001b[39m\n",
       "   value                    \n",
       "   \u001b[3m\u001b[90m<chr>\u001b[39m\u001b[23m                    \n",
       "\u001b[90m 1\u001b[39m BRADI_1g54167v3          \n",
       "\u001b[90m 2\u001b[39m HORVU.MOREX.r3.5HG0518200\n",
       "\u001b[90m 3\u001b[39m Misin03G076200           \n",
       "\u001b[90m 4\u001b[39m ONIVA07G08270            \n",
       "\u001b[90m 5\u001b[39m TraesCS3B02G364400       \n",
       "\u001b[90m 6\u001b[39m Zm00001eb304650          \n",
       "\u001b[90m 7\u001b[39m Misin04G034300           \n",
       "\u001b[90m 8\u001b[39m SETIT_029134mg           \n",
       "\u001b[90m 9\u001b[39m SORBI_3002G024200        \n",
       "\u001b[90m10\u001b[39m TraesCS2D02G219800       \n",
       "\u001b[90m# … with 72 more rows\u001b[39m\n",
       "\n",
       "\n",
       "$set_10\n",
       "An object of class \"add_OG_set\"\n",
       "Slot \"genes\":\n",
       "\u001b[90m# A tibble: 91 × 1\u001b[39m\n",
       "   value                    \n",
       "   \u001b[3m\u001b[90m<chr>\u001b[39m\u001b[23m                    \n",
       "\u001b[90m 1\u001b[39m BRADI_1g54167v3          \n",
       "\u001b[90m 2\u001b[39m HORVU.MOREX.r3.5HG0518200\n",
       "\u001b[90m 3\u001b[39m Misin03G076200           \n",
       "\u001b[90m 4\u001b[39m ONIVA07G08270            \n",
       "\u001b[90m 5\u001b[39m TraesCS3B02G364400       \n",
       "\u001b[90m 6\u001b[39m Zm00001eb304650          \n",
       "\u001b[90m 7\u001b[39m Misin04G034300           \n",
       "\u001b[90m 8\u001b[39m SETIT_029134mg           \n",
       "\u001b[90m 9\u001b[39m SORBI_3002G024200        \n",
       "\u001b[90m10\u001b[39m TraesCS2D02G219800       \n",
       "\u001b[90m# … with 81 more rows\u001b[39m\n",
       "\n",
       "\n",
       "$set_11\n",
       "An object of class \"add_OG_set\"\n",
       "Slot \"genes\":\n",
       "\u001b[90m# A tibble: 96 × 1\u001b[39m\n",
       "   value                    \n",
       "   \u001b[3m\u001b[90m<chr>\u001b[39m\u001b[23m                    \n",
       "\u001b[90m 1\u001b[39m BRADI_1g54167v3          \n",
       "\u001b[90m 2\u001b[39m HORVU.MOREX.r3.5HG0518200\n",
       "\u001b[90m 3\u001b[39m Misin03G076200           \n",
       "\u001b[90m 4\u001b[39m ONIVA07G08270            \n",
       "\u001b[90m 5\u001b[39m TraesCS3B02G364400       \n",
       "\u001b[90m 6\u001b[39m Zm00001eb304650          \n",
       "\u001b[90m 7\u001b[39m Misin04G034300           \n",
       "\u001b[90m 8\u001b[39m SETIT_029134mg           \n",
       "\u001b[90m 9\u001b[39m SORBI_3002G024200        \n",
       "\u001b[90m10\u001b[39m TraesCS2D02G219800       \n",
       "\u001b[90m# … with 86 more rows\u001b[39m\n",
       "\n",
       "\n",
       "\n",
       "\n",
       "$N0.HOG0000031\n",
       "An object of class \"add_OG_analysis\"\n",
       "Slot \"add_OG_analysis\":\n",
       "$set_1\n",
       "An object of class \"add_OG_set\"\n",
       "Slot \"genes\":\n",
       "\u001b[90m# A tibble: 10 × 1\u001b[39m\n",
       "   value                    \n",
       "   \u001b[3m\u001b[90m<chr>\u001b[39m\u001b[23m                    \n",
       "\u001b[90m 1\u001b[39m BRADI_1g57696v3          \n",
       "\u001b[90m 2\u001b[39m BRADI_1g57725v3          \n",
       "\u001b[90m 3\u001b[39m HORVU.MOREX.r3.1HG0009490\n",
       "\u001b[90m 4\u001b[39m HORVU.MOREX.r3.1HG0009630\n",
       "\u001b[90m 5\u001b[39m Misin10G154000           \n",
       "\u001b[90m 6\u001b[39m Misin04G072300           \n",
       "\u001b[90m 7\u001b[39m SETIT_032334mg           \n",
       "\u001b[90m 8\u001b[39m TraesCS1A02G048000       \n",
       "\u001b[90m 9\u001b[39m TraesCS1D02G048900       \n",
       "\u001b[90m10\u001b[39m TraesCS1B02G062200       \n",
       "\n",
       "\n",
       "$set_2\n",
       "An object of class \"add_OG_set\"\n",
       "Slot \"genes\":\n",
       "\u001b[90m# A tibble: 21 × 1\u001b[39m\n",
       "   value                    \n",
       "   \u001b[3m\u001b[90m<chr>\u001b[39m\u001b[23m                    \n",
       "\u001b[90m 1\u001b[39m BRADI_1g57696v3          \n",
       "\u001b[90m 2\u001b[39m BRADI_1g57725v3          \n",
       "\u001b[90m 3\u001b[39m HORVU.MOREX.r3.1HG0009490\n",
       "\u001b[90m 4\u001b[39m HORVU.MOREX.r3.1HG0009630\n",
       "\u001b[90m 5\u001b[39m Misin10G154000           \n",
       "\u001b[90m 6\u001b[39m Misin04G072300           \n",
       "\u001b[90m 7\u001b[39m SETIT_032334mg           \n",
       "\u001b[90m 8\u001b[39m TraesCS1A02G048000       \n",
       "\u001b[90m 9\u001b[39m TraesCS1D02G048900       \n",
       "\u001b[90m10\u001b[39m TraesCS1B02G062200       \n",
       "\u001b[90m# … with 11 more rows\u001b[39m\n",
       "\n",
       "\n",
       "$set_3\n",
       "An object of class \"add_OG_set\"\n",
       "Slot \"genes\":\n",
       "\u001b[90m# A tibble: 26 × 1\u001b[39m\n",
       "   value                    \n",
       "   \u001b[3m\u001b[90m<chr>\u001b[39m\u001b[23m                    \n",
       "\u001b[90m 1\u001b[39m BRADI_1g57696v3          \n",
       "\u001b[90m 2\u001b[39m BRADI_1g57725v3          \n",
       "\u001b[90m 3\u001b[39m HORVU.MOREX.r3.1HG0009490\n",
       "\u001b[90m 4\u001b[39m HORVU.MOREX.r3.1HG0009630\n",
       "\u001b[90m 5\u001b[39m Misin10G154000           \n",
       "\u001b[90m 6\u001b[39m Misin04G072300           \n",
       "\u001b[90m 7\u001b[39m SETIT_032334mg           \n",
       "\u001b[90m 8\u001b[39m TraesCS1A02G048000       \n",
       "\u001b[90m 9\u001b[39m TraesCS1D02G048900       \n",
       "\u001b[90m10\u001b[39m TraesCS1B02G062200       \n",
       "\u001b[90m# … with 16 more rows\u001b[39m\n",
       "\n",
       "\n",
       "$set_4\n",
       "An object of class \"add_OG_set\"\n",
       "Slot \"genes\":\n",
       "\u001b[90m# A tibble: 31 × 1\u001b[39m\n",
       "   value                    \n",
       "   \u001b[3m\u001b[90m<chr>\u001b[39m\u001b[23m                    \n",
       "\u001b[90m 1\u001b[39m BRADI_1g57696v3          \n",
       "\u001b[90m 2\u001b[39m BRADI_1g57725v3          \n",
       "\u001b[90m 3\u001b[39m HORVU.MOREX.r3.1HG0009490\n",
       "\u001b[90m 4\u001b[39m HORVU.MOREX.r3.1HG0009630\n",
       "\u001b[90m 5\u001b[39m Misin10G154000           \n",
       "\u001b[90m 6\u001b[39m Misin04G072300           \n",
       "\u001b[90m 7\u001b[39m SETIT_032334mg           \n",
       "\u001b[90m 8\u001b[39m TraesCS1A02G048000       \n",
       "\u001b[90m 9\u001b[39m TraesCS1D02G048900       \n",
       "\u001b[90m10\u001b[39m TraesCS1B02G062200       \n",
       "\u001b[90m# … with 21 more rows\u001b[39m\n",
       "\n",
       "\n",
       "$set_5\n",
       "An object of class \"add_OG_set\"\n",
       "Slot \"genes\":\n",
       "\u001b[90m# A tibble: 40 × 1\u001b[39m\n",
       "   value                    \n",
       "   \u001b[3m\u001b[90m<chr>\u001b[39m\u001b[23m                    \n",
       "\u001b[90m 1\u001b[39m BRADI_1g57696v3          \n",
       "\u001b[90m 2\u001b[39m BRADI_1g57725v3          \n",
       "\u001b[90m 3\u001b[39m HORVU.MOREX.r3.1HG0009490\n",
       "\u001b[90m 4\u001b[39m HORVU.MOREX.r3.1HG0009630\n",
       "\u001b[90m 5\u001b[39m Misin10G154000           \n",
       "\u001b[90m 6\u001b[39m Misin04G072300           \n",
       "\u001b[90m 7\u001b[39m SETIT_032334mg           \n",
       "\u001b[90m 8\u001b[39m TraesCS1A02G048000       \n",
       "\u001b[90m 9\u001b[39m TraesCS1D02G048900       \n",
       "\u001b[90m10\u001b[39m TraesCS1B02G062200       \n",
       "\u001b[90m# … with 30 more rows\u001b[39m\n",
       "\n",
       "\n",
       "$set_6\n",
       "An object of class \"add_OG_set\"\n",
       "Slot \"genes\":\n",
       "\u001b[90m# A tibble: 48 × 1\u001b[39m\n",
       "   value                    \n",
       "   \u001b[3m\u001b[90m<chr>\u001b[39m\u001b[23m                    \n",
       "\u001b[90m 1\u001b[39m BRADI_1g57696v3          \n",
       "\u001b[90m 2\u001b[39m BRADI_1g57725v3          \n",
       "\u001b[90m 3\u001b[39m HORVU.MOREX.r3.1HG0009490\n",
       "\u001b[90m 4\u001b[39m HORVU.MOREX.r3.1HG0009630\n",
       "\u001b[90m 5\u001b[39m Misin10G154000           \n",
       "\u001b[90m 6\u001b[39m Misin04G072300           \n",
       "\u001b[90m 7\u001b[39m SETIT_032334mg           \n",
       "\u001b[90m 8\u001b[39m TraesCS1A02G048000       \n",
       "\u001b[90m 9\u001b[39m TraesCS1D02G048900       \n",
       "\u001b[90m10\u001b[39m TraesCS1B02G062200       \n",
       "\u001b[90m# … with 38 more rows\u001b[39m\n",
       "\n",
       "\n",
       "$set_7\n",
       "An object of class \"add_OG_set\"\n",
       "Slot \"genes\":\n",
       "\u001b[90m# A tibble: 58 × 1\u001b[39m\n",
       "   value                    \n",
       "   \u001b[3m\u001b[90m<chr>\u001b[39m\u001b[23m                    \n",
       "\u001b[90m 1\u001b[39m BRADI_1g57696v3          \n",
       "\u001b[90m 2\u001b[39m BRADI_1g57725v3          \n",
       "\u001b[90m 3\u001b[39m HORVU.MOREX.r3.1HG0009490\n",
       "\u001b[90m 4\u001b[39m HORVU.MOREX.r3.1HG0009630\n",
       "\u001b[90m 5\u001b[39m Misin10G154000           \n",
       "\u001b[90m 6\u001b[39m Misin04G072300           \n",
       "\u001b[90m 7\u001b[39m SETIT_032334mg           \n",
       "\u001b[90m 8\u001b[39m TraesCS1A02G048000       \n",
       "\u001b[90m 9\u001b[39m TraesCS1D02G048900       \n",
       "\u001b[90m10\u001b[39m TraesCS1B02G062200       \n",
       "\u001b[90m# … with 48 more rows\u001b[39m\n",
       "\n",
       "\n",
       "$set_8\n",
       "An object of class \"add_OG_set\"\n",
       "Slot \"genes\":\n",
       "\u001b[90m# A tibble: 71 × 1\u001b[39m\n",
       "   value                    \n",
       "   \u001b[3m\u001b[90m<chr>\u001b[39m\u001b[23m                    \n",
       "\u001b[90m 1\u001b[39m BRADI_1g57696v3          \n",
       "\u001b[90m 2\u001b[39m BRADI_1g57725v3          \n",
       "\u001b[90m 3\u001b[39m HORVU.MOREX.r3.1HG0009490\n",
       "\u001b[90m 4\u001b[39m HORVU.MOREX.r3.1HG0009630\n",
       "\u001b[90m 5\u001b[39m Misin10G154000           \n",
       "\u001b[90m 6\u001b[39m Misin04G072300           \n",
       "\u001b[90m 7\u001b[39m SETIT_032334mg           \n",
       "\u001b[90m 8\u001b[39m TraesCS1A02G048000       \n",
       "\u001b[90m 9\u001b[39m TraesCS1D02G048900       \n",
       "\u001b[90m10\u001b[39m TraesCS1B02G062200       \n",
       "\u001b[90m# … with 61 more rows\u001b[39m\n",
       "\n",
       "\n",
       "$set_9\n",
       "An object of class \"add_OG_set\"\n",
       "Slot \"genes\":\n",
       "\u001b[90m# A tibble: 80 × 1\u001b[39m\n",
       "   value                    \n",
       "   \u001b[3m\u001b[90m<chr>\u001b[39m\u001b[23m                    \n",
       "\u001b[90m 1\u001b[39m BRADI_1g57696v3          \n",
       "\u001b[90m 2\u001b[39m BRADI_1g57725v3          \n",
       "\u001b[90m 3\u001b[39m HORVU.MOREX.r3.1HG0009490\n",
       "\u001b[90m 4\u001b[39m HORVU.MOREX.r3.1HG0009630\n",
       "\u001b[90m 5\u001b[39m Misin10G154000           \n",
       "\u001b[90m 6\u001b[39m Misin04G072300           \n",
       "\u001b[90m 7\u001b[39m SETIT_032334mg           \n",
       "\u001b[90m 8\u001b[39m TraesCS1A02G048000       \n",
       "\u001b[90m 9\u001b[39m TraesCS1D02G048900       \n",
       "\u001b[90m10\u001b[39m TraesCS1B02G062200       \n",
       "\u001b[90m# … with 70 more rows\u001b[39m\n",
       "\n",
       "\n",
       "$set_10\n",
       "An object of class \"add_OG_set\"\n",
       "Slot \"genes\":\n",
       "\u001b[90m# A tibble: 90 × 1\u001b[39m\n",
       "   value                    \n",
       "   \u001b[3m\u001b[90m<chr>\u001b[39m\u001b[23m                    \n",
       "\u001b[90m 1\u001b[39m BRADI_1g57696v3          \n",
       "\u001b[90m 2\u001b[39m BRADI_1g57725v3          \n",
       "\u001b[90m 3\u001b[39m HORVU.MOREX.r3.1HG0009490\n",
       "\u001b[90m 4\u001b[39m HORVU.MOREX.r3.1HG0009630\n",
       "\u001b[90m 5\u001b[39m Misin10G154000           \n",
       "\u001b[90m 6\u001b[39m Misin04G072300           \n",
       "\u001b[90m 7\u001b[39m SETIT_032334mg           \n",
       "\u001b[90m 8\u001b[39m TraesCS1A02G048000       \n",
       "\u001b[90m 9\u001b[39m TraesCS1D02G048900       \n",
       "\u001b[90m10\u001b[39m TraesCS1B02G062200       \n",
       "\u001b[90m# … with 80 more rows\u001b[39m\n",
       "\n",
       "\n",
       "$set_11\n",
       "An object of class \"add_OG_set\"\n",
       "Slot \"genes\":\n",
       "\u001b[90m# A tibble: 99 × 1\u001b[39m\n",
       "   value                    \n",
       "   \u001b[3m\u001b[90m<chr>\u001b[39m\u001b[23m                    \n",
       "\u001b[90m 1\u001b[39m BRADI_1g57696v3          \n",
       "\u001b[90m 2\u001b[39m BRADI_1g57725v3          \n",
       "\u001b[90m 3\u001b[39m HORVU.MOREX.r3.1HG0009490\n",
       "\u001b[90m 4\u001b[39m HORVU.MOREX.r3.1HG0009630\n",
       "\u001b[90m 5\u001b[39m Misin10G154000           \n",
       "\u001b[90m 6\u001b[39m Misin04G072300           \n",
       "\u001b[90m 7\u001b[39m SETIT_032334mg           \n",
       "\u001b[90m 8\u001b[39m TraesCS1A02G048000       \n",
       "\u001b[90m 9\u001b[39m TraesCS1D02G048900       \n",
       "\u001b[90m10\u001b[39m TraesCS1B02G062200       \n",
       "\u001b[90m# … with 89 more rows\u001b[39m\n",
       "\n",
       "\n",
       "\n",
       "\n",
       "$N0.HOG0000032\n",
       "An object of class \"add_OG_analysis\"\n",
       "Slot \"add_OG_analysis\":\n",
       "$set_1\n",
       "An object of class \"add_OG_set\"\n",
       "Slot \"genes\":\n",
       "\u001b[90m# A tibble: 5 × 1\u001b[39m\n",
       "  value                    \n",
       "  \u001b[3m\u001b[90m<chr>\u001b[39m\u001b[23m                    \n",
       "\u001b[90m1\u001b[39m HORVU.MOREX.r3.6HG0590590\n",
       "\u001b[90m2\u001b[39m Os07g0130200             \n",
       "\u001b[90m3\u001b[39m SETIT_008816mg           \n",
       "\u001b[90m4\u001b[39m SORBI_3010G124700        \n",
       "\u001b[90m5\u001b[39m TraesCS6D02G191400       \n",
       "\n",
       "\n",
       "$set_2\n",
       "An object of class \"add_OG_set\"\n",
       "Slot \"genes\":\n",
       "\u001b[90m# A tibble: 16 × 1\u001b[39m\n",
       "   value                    \n",
       "   \u001b[3m\u001b[90m<chr>\u001b[39m\u001b[23m                    \n",
       "\u001b[90m 1\u001b[39m HORVU.MOREX.r3.6HG0590590\n",
       "\u001b[90m 2\u001b[39m Os07g0130200             \n",
       "\u001b[90m 3\u001b[39m SETIT_008816mg           \n",
       "\u001b[90m 4\u001b[39m SORBI_3010G124700        \n",
       "\u001b[90m 5\u001b[39m TraesCS6D02G191400       \n",
       "\u001b[90m 6\u001b[39m Misin01G410800           \n",
       "\u001b[90m 7\u001b[39m Misin02G397800           \n",
       "\u001b[90m 8\u001b[39m ONIVA03G12120            \n",
       "\u001b[90m 9\u001b[39m ONIVA07G18020            \n",
       "\u001b[90m10\u001b[39m ONIVA07G00770            \n",
       "\u001b[90m11\u001b[39m ONIVA07G00800            \n",
       "\u001b[90m12\u001b[39m ONIVA07G08770            \n",
       "\u001b[90m13\u001b[39m ONIVA07G00760            \n",
       "\u001b[90m14\u001b[39m ONIVA09G02640            \n",
       "\u001b[90m15\u001b[39m SETIT_039286mg           \n",
       "\u001b[90m16\u001b[39m SORBI_3001G431600        \n",
       "\n",
       "\n",
       "$set_3\n",
       "An object of class \"add_OG_set\"\n",
       "Slot \"genes\":\n",
       "\u001b[90m# A tibble: 26 × 1\u001b[39m\n",
       "   value                    \n",
       "   \u001b[3m\u001b[90m<chr>\u001b[39m\u001b[23m                    \n",
       "\u001b[90m 1\u001b[39m HORVU.MOREX.r3.6HG0590590\n",
       "\u001b[90m 2\u001b[39m Os07g0130200             \n",
       "\u001b[90m 3\u001b[39m SETIT_008816mg           \n",
       "\u001b[90m 4\u001b[39m SORBI_3010G124700        \n",
       "\u001b[90m 5\u001b[39m TraesCS6D02G191400       \n",
       "\u001b[90m 6\u001b[39m Misin01G410800           \n",
       "\u001b[90m 7\u001b[39m Misin02G397800           \n",
       "\u001b[90m 8\u001b[39m ONIVA03G12120            \n",
       "\u001b[90m 9\u001b[39m ONIVA07G18020            \n",
       "\u001b[90m10\u001b[39m ONIVA07G00770            \n",
       "\u001b[90m# … with 16 more rows\u001b[39m\n",
       "\n",
       "\n",
       "$set_4\n",
       "An object of class \"add_OG_set\"\n",
       "Slot \"genes\":\n",
       "\u001b[90m# A tibble: 35 × 1\u001b[39m\n",
       "   value                    \n",
       "   \u001b[3m\u001b[90m<chr>\u001b[39m\u001b[23m                    \n",
       "\u001b[90m 1\u001b[39m HORVU.MOREX.r3.6HG0590590\n",
       "\u001b[90m 2\u001b[39m Os07g0130200             \n",
       "\u001b[90m 3\u001b[39m SETIT_008816mg           \n",
       "\u001b[90m 4\u001b[39m SORBI_3010G124700        \n",
       "\u001b[90m 5\u001b[39m TraesCS6D02G191400       \n",
       "\u001b[90m 6\u001b[39m Misin01G410800           \n",
       "\u001b[90m 7\u001b[39m Misin02G397800           \n",
       "\u001b[90m 8\u001b[39m ONIVA03G12120            \n",
       "\u001b[90m 9\u001b[39m ONIVA07G18020            \n",
       "\u001b[90m10\u001b[39m ONIVA07G00770            \n",
       "\u001b[90m# … with 25 more rows\u001b[39m\n",
       "\n",
       "\n",
       "$set_5\n",
       "An object of class \"add_OG_set\"\n",
       "Slot \"genes\":\n",
       "\u001b[90m# A tibble: 43 × 1\u001b[39m\n",
       "   value                    \n",
       "   \u001b[3m\u001b[90m<chr>\u001b[39m\u001b[23m                    \n",
       "\u001b[90m 1\u001b[39m HORVU.MOREX.r3.6HG0590590\n",
       "\u001b[90m 2\u001b[39m Os07g0130200             \n",
       "\u001b[90m 3\u001b[39m SETIT_008816mg           \n",
       "\u001b[90m 4\u001b[39m SORBI_3010G124700        \n",
       "\u001b[90m 5\u001b[39m TraesCS6D02G191400       \n",
       "\u001b[90m 6\u001b[39m Misin01G410800           \n",
       "\u001b[90m 7\u001b[39m Misin02G397800           \n",
       "\u001b[90m 8\u001b[39m ONIVA03G12120            \n",
       "\u001b[90m 9\u001b[39m ONIVA07G18020            \n",
       "\u001b[90m10\u001b[39m ONIVA07G00770            \n",
       "\u001b[90m# … with 33 more rows\u001b[39m\n",
       "\n",
       "\n",
       "$set_6\n",
       "An object of class \"add_OG_set\"\n",
       "Slot \"genes\":\n",
       "\u001b[90m# A tibble: 48 × 1\u001b[39m\n",
       "   value                    \n",
       "   \u001b[3m\u001b[90m<chr>\u001b[39m\u001b[23m                    \n",
       "\u001b[90m 1\u001b[39m HORVU.MOREX.r3.6HG0590590\n",
       "\u001b[90m 2\u001b[39m Os07g0130200             \n",
       "\u001b[90m 3\u001b[39m SETIT_008816mg           \n",
       "\u001b[90m 4\u001b[39m SORBI_3010G124700        \n",
       "\u001b[90m 5\u001b[39m TraesCS6D02G191400       \n",
       "\u001b[90m 6\u001b[39m Misin01G410800           \n",
       "\u001b[90m 7\u001b[39m Misin02G397800           \n",
       "\u001b[90m 8\u001b[39m ONIVA03G12120            \n",
       "\u001b[90m 9\u001b[39m ONIVA07G18020            \n",
       "\u001b[90m10\u001b[39m ONIVA07G00770            \n",
       "\u001b[90m# … with 38 more rows\u001b[39m\n",
       "\n",
       "\n",
       "$set_7\n",
       "An object of class \"add_OG_set\"\n",
       "Slot \"genes\":\n",
       "\u001b[90m# A tibble: 58 × 1\u001b[39m\n",
       "   value                    \n",
       "   \u001b[3m\u001b[90m<chr>\u001b[39m\u001b[23m                    \n",
       "\u001b[90m 1\u001b[39m HORVU.MOREX.r3.6HG0590590\n",
       "\u001b[90m 2\u001b[39m Os07g0130200             \n",
       "\u001b[90m 3\u001b[39m SETIT_008816mg           \n",
       "\u001b[90m 4\u001b[39m SORBI_3010G124700        \n",
       "\u001b[90m 5\u001b[39m TraesCS6D02G191400       \n",
       "\u001b[90m 6\u001b[39m Misin01G410800           \n",
       "\u001b[90m 7\u001b[39m Misin02G397800           \n",
       "\u001b[90m 8\u001b[39m ONIVA03G12120            \n",
       "\u001b[90m 9\u001b[39m ONIVA07G18020            \n",
       "\u001b[90m10\u001b[39m ONIVA07G00770            \n",
       "\u001b[90m# … with 48 more rows\u001b[39m\n",
       "\n",
       "\n",
       "$set_8\n",
       "An object of class \"add_OG_set\"\n",
       "Slot \"genes\":\n",
       "\u001b[90m# A tibble: 63 × 1\u001b[39m\n",
       "   value                    \n",
       "   \u001b[3m\u001b[90m<chr>\u001b[39m\u001b[23m                    \n",
       "\u001b[90m 1\u001b[39m HORVU.MOREX.r3.6HG0590590\n",
       "\u001b[90m 2\u001b[39m Os07g0130200             \n",
       "\u001b[90m 3\u001b[39m SETIT_008816mg           \n",
       "\u001b[90m 4\u001b[39m SORBI_3010G124700        \n",
       "\u001b[90m 5\u001b[39m TraesCS6D02G191400       \n",
       "\u001b[90m 6\u001b[39m Misin01G410800           \n",
       "\u001b[90m 7\u001b[39m Misin02G397800           \n",
       "\u001b[90m 8\u001b[39m ONIVA03G12120            \n",
       "\u001b[90m 9\u001b[39m ONIVA07G18020            \n",
       "\u001b[90m10\u001b[39m ONIVA07G00770            \n",
       "\u001b[90m# … with 53 more rows\u001b[39m\n",
       "\n",
       "\n",
       "$set_9\n",
       "An object of class \"add_OG_set\"\n",
       "Slot \"genes\":\n",
       "\u001b[90m# A tibble: 80 × 1\u001b[39m\n",
       "   value                    \n",
       "   \u001b[3m\u001b[90m<chr>\u001b[39m\u001b[23m                    \n",
       "\u001b[90m 1\u001b[39m HORVU.MOREX.r3.6HG0590590\n",
       "\u001b[90m 2\u001b[39m Os07g0130200             \n",
       "\u001b[90m 3\u001b[39m SETIT_008816mg           \n",
       "\u001b[90m 4\u001b[39m SORBI_3010G124700        \n",
       "\u001b[90m 5\u001b[39m TraesCS6D02G191400       \n",
       "\u001b[90m 6\u001b[39m Misin01G410800           \n",
       "\u001b[90m 7\u001b[39m Misin02G397800           \n",
       "\u001b[90m 8\u001b[39m ONIVA03G12120            \n",
       "\u001b[90m 9\u001b[39m ONIVA07G18020            \n",
       "\u001b[90m10\u001b[39m ONIVA07G00770            \n",
       "\u001b[90m# … with 70 more rows\u001b[39m\n",
       "\n",
       "\n",
       "$set_10\n",
       "An object of class \"add_OG_set\"\n",
       "Slot \"genes\":\n",
       "\u001b[90m# A tibble: 86 × 1\u001b[39m\n",
       "   value                    \n",
       "   \u001b[3m\u001b[90m<chr>\u001b[39m\u001b[23m                    \n",
       "\u001b[90m 1\u001b[39m HORVU.MOREX.r3.6HG0590590\n",
       "\u001b[90m 2\u001b[39m Os07g0130200             \n",
       "\u001b[90m 3\u001b[39m SETIT_008816mg           \n",
       "\u001b[90m 4\u001b[39m SORBI_3010G124700        \n",
       "\u001b[90m 5\u001b[39m TraesCS6D02G191400       \n",
       "\u001b[90m 6\u001b[39m Misin01G410800           \n",
       "\u001b[90m 7\u001b[39m Misin02G397800           \n",
       "\u001b[90m 8\u001b[39m ONIVA03G12120            \n",
       "\u001b[90m 9\u001b[39m ONIVA07G18020            \n",
       "\u001b[90m10\u001b[39m ONIVA07G00770            \n",
       "\u001b[90m# … with 76 more rows\u001b[39m\n",
       "\n",
       "\n",
       "$set_11\n",
       "An object of class \"add_OG_set\"\n",
       "Slot \"genes\":\n",
       "\u001b[90m# A tibble: 87 × 1\u001b[39m\n",
       "   value                    \n",
       "   \u001b[3m\u001b[90m<chr>\u001b[39m\u001b[23m                    \n",
       "\u001b[90m 1\u001b[39m HORVU.MOREX.r3.6HG0590590\n",
       "\u001b[90m 2\u001b[39m Os07g0130200             \n",
       "\u001b[90m 3\u001b[39m SETIT_008816mg           \n",
       "\u001b[90m 4\u001b[39m SORBI_3010G124700        \n",
       "\u001b[90m 5\u001b[39m TraesCS6D02G191400       \n",
       "\u001b[90m 6\u001b[39m Misin01G410800           \n",
       "\u001b[90m 7\u001b[39m Misin02G397800           \n",
       "\u001b[90m 8\u001b[39m ONIVA03G12120            \n",
       "\u001b[90m 9\u001b[39m ONIVA07G18020            \n",
       "\u001b[90m10\u001b[39m ONIVA07G00770            \n",
       "\u001b[90m# … with 77 more rows\u001b[39m\n",
       "\n",
       "\n",
       "\n",
       "\n",
       "$N0.HOG0000036\n",
       "An object of class \"add_OG_analysis\"\n",
       "Slot \"add_OG_analysis\":\n",
       "$set_1\n",
       "An object of class \"add_OG_set\"\n",
       "Slot \"genes\":\n",
       "\u001b[90m# A tibble: 5 × 1\u001b[39m\n",
       "  value                    \n",
       "  \u001b[3m\u001b[90m<chr>\u001b[39m\u001b[23m                    \n",
       "\u001b[90m1\u001b[39m BRADI_1g54160v3          \n",
       "\u001b[90m2\u001b[39m HORVU.MOREX.r3.5HG0518210\n",
       "\u001b[90m3\u001b[39m Misin03G076100           \n",
       "\u001b[90m4\u001b[39m TraesCS3B02G364500       \n",
       "\u001b[90m5\u001b[39m Zm00001eb304670          \n",
       "\n",
       "\n",
       "$set_2\n",
       "An object of class \"add_OG_set\"\n",
       "Slot \"genes\":\n",
       "\u001b[90m# A tibble: 10 × 1\u001b[39m\n",
       "   value                    \n",
       "   \u001b[3m\u001b[90m<chr>\u001b[39m\u001b[23m                    \n",
       "\u001b[90m 1\u001b[39m BRADI_1g54160v3          \n",
       "\u001b[90m 2\u001b[39m HORVU.MOREX.r3.5HG0518210\n",
       "\u001b[90m 3\u001b[39m Misin03G076100           \n",
       "\u001b[90m 4\u001b[39m TraesCS3B02G364500       \n",
       "\u001b[90m 5\u001b[39m Zm00001eb304670          \n",
       "\u001b[90m 6\u001b[39m Misin04G034300           \n",
       "\u001b[90m 7\u001b[39m SETIT_029134mg           \n",
       "\u001b[90m 8\u001b[39m SORBI_3002G024200        \n",
       "\u001b[90m 9\u001b[39m TraesCS2D02G219800       \n",
       "\u001b[90m10\u001b[39m TraesCS2A02G214000       \n",
       "\n",
       "\n",
       "$set_3\n",
       "An object of class \"add_OG_set\"\n",
       "Slot \"genes\":\n",
       "\u001b[90m# A tibble: 15 × 1\u001b[39m\n",
       "   value                    \n",
       "   \u001b[3m\u001b[90m<chr>\u001b[39m\u001b[23m                    \n",
       "\u001b[90m 1\u001b[39m BRADI_1g54160v3          \n",
       "\u001b[90m 2\u001b[39m HORVU.MOREX.r3.5HG0518210\n",
       "\u001b[90m 3\u001b[39m Misin03G076100           \n",
       "\u001b[90m 4\u001b[39m TraesCS3B02G364500       \n",
       "\u001b[90m 5\u001b[39m Zm00001eb304670          \n",
       "\u001b[90m 6\u001b[39m Misin04G034300           \n",
       "\u001b[90m 7\u001b[39m SETIT_029134mg           \n",
       "\u001b[90m 8\u001b[39m SORBI_3002G024200        \n",
       "\u001b[90m 9\u001b[39m TraesCS2D02G219800       \n",
       "\u001b[90m10\u001b[39m TraesCS2A02G214000       \n",
       "\u001b[90m11\u001b[39m Misin04G034500           \n",
       "\u001b[90m12\u001b[39m SETIT_029111mg           \n",
       "\u001b[90m13\u001b[39m SORBI_3002G024300        \n",
       "\u001b[90m14\u001b[39m TraesCS2D02G219900       \n",
       "\u001b[90m15\u001b[39m TraesCS2A02G214100       \n",
       "\n",
       "\n",
       "$set_4\n",
       "An object of class \"add_OG_set\"\n",
       "Slot \"genes\":\n",
       "\u001b[90m# A tibble: 23 × 1\u001b[39m\n",
       "   value                    \n",
       "   \u001b[3m\u001b[90m<chr>\u001b[39m\u001b[23m                    \n",
       "\u001b[90m 1\u001b[39m BRADI_1g54160v3          \n",
       "\u001b[90m 2\u001b[39m HORVU.MOREX.r3.5HG0518210\n",
       "\u001b[90m 3\u001b[39m Misin03G076100           \n",
       "\u001b[90m 4\u001b[39m TraesCS3B02G364500       \n",
       "\u001b[90m 5\u001b[39m Zm00001eb304670          \n",
       "\u001b[90m 6\u001b[39m Misin04G034300           \n",
       "\u001b[90m 7\u001b[39m SETIT_029134mg           \n",
       "\u001b[90m 8\u001b[39m SORBI_3002G024200        \n",
       "\u001b[90m 9\u001b[39m TraesCS2D02G219800       \n",
       "\u001b[90m10\u001b[39m TraesCS2A02G214000       \n",
       "\u001b[90m# … with 13 more rows\u001b[39m\n",
       "\n",
       "\n",
       "$set_5\n",
       "An object of class \"add_OG_set\"\n",
       "Slot \"genes\":\n",
       "\u001b[90m# A tibble: 24 × 1\u001b[39m\n",
       "   value                    \n",
       "   \u001b[3m\u001b[90m<chr>\u001b[39m\u001b[23m                    \n",
       "\u001b[90m 1\u001b[39m BRADI_1g54160v3          \n",
       "\u001b[90m 2\u001b[39m HORVU.MOREX.r3.5HG0518210\n",
       "\u001b[90m 3\u001b[39m Misin03G076100           \n",
       "\u001b[90m 4\u001b[39m TraesCS3B02G364500       \n",
       "\u001b[90m 5\u001b[39m Zm00001eb304670          \n",
       "\u001b[90m 6\u001b[39m Misin04G034300           \n",
       "\u001b[90m 7\u001b[39m SETIT_029134mg           \n",
       "\u001b[90m 8\u001b[39m SORBI_3002G024200        \n",
       "\u001b[90m 9\u001b[39m TraesCS2D02G219800       \n",
       "\u001b[90m10\u001b[39m TraesCS2A02G214000       \n",
       "\u001b[90m# … with 14 more rows\u001b[39m\n",
       "\n",
       "\n",
       "$set_6\n",
       "An object of class \"add_OG_set\"\n",
       "Slot \"genes\":\n",
       "\u001b[90m# A tibble: 41 × 1\u001b[39m\n",
       "   value                    \n",
       "   \u001b[3m\u001b[90m<chr>\u001b[39m\u001b[23m                    \n",
       "\u001b[90m 1\u001b[39m BRADI_1g54160v3          \n",
       "\u001b[90m 2\u001b[39m HORVU.MOREX.r3.5HG0518210\n",
       "\u001b[90m 3\u001b[39m Misin03G076100           \n",
       "\u001b[90m 4\u001b[39m TraesCS3B02G364500       \n",
       "\u001b[90m 5\u001b[39m Zm00001eb304670          \n",
       "\u001b[90m 6\u001b[39m Misin04G034300           \n",
       "\u001b[90m 7\u001b[39m SETIT_029134mg           \n",
       "\u001b[90m 8\u001b[39m SORBI_3002G024200        \n",
       "\u001b[90m 9\u001b[39m TraesCS2D02G219800       \n",
       "\u001b[90m10\u001b[39m TraesCS2A02G214000       \n",
       "\u001b[90m# … with 31 more rows\u001b[39m\n",
       "\n",
       "\n",
       "$set_7\n",
       "An object of class \"add_OG_set\"\n",
       "Slot \"genes\":\n",
       "\u001b[90m# A tibble: 46 × 1\u001b[39m\n",
       "   value                    \n",
       "   \u001b[3m\u001b[90m<chr>\u001b[39m\u001b[23m                    \n",
       "\u001b[90m 1\u001b[39m BRADI_1g54160v3          \n",
       "\u001b[90m 2\u001b[39m HORVU.MOREX.r3.5HG0518210\n",
       "\u001b[90m 3\u001b[39m Misin03G076100           \n",
       "\u001b[90m 4\u001b[39m TraesCS3B02G364500       \n",
       "\u001b[90m 5\u001b[39m Zm00001eb304670          \n",
       "\u001b[90m 6\u001b[39m Misin04G034300           \n",
       "\u001b[90m 7\u001b[39m SETIT_029134mg           \n",
       "\u001b[90m 8\u001b[39m SORBI_3002G024200        \n",
       "\u001b[90m 9\u001b[39m TraesCS2D02G219800       \n",
       "\u001b[90m10\u001b[39m TraesCS2A02G214000       \n",
       "\u001b[90m# … with 36 more rows\u001b[39m\n",
       "\n",
       "\n",
       "$set_8\n",
       "An object of class \"add_OG_set\"\n",
       "Slot \"genes\":\n",
       "\u001b[90m# A tibble: 55 × 1\u001b[39m\n",
       "   value                    \n",
       "   \u001b[3m\u001b[90m<chr>\u001b[39m\u001b[23m                    \n",
       "\u001b[90m 1\u001b[39m BRADI_1g54160v3          \n",
       "\u001b[90m 2\u001b[39m HORVU.MOREX.r3.5HG0518210\n",
       "\u001b[90m 3\u001b[39m Misin03G076100           \n",
       "\u001b[90m 4\u001b[39m TraesCS3B02G364500       \n",
       "\u001b[90m 5\u001b[39m Zm00001eb304670          \n",
       "\u001b[90m 6\u001b[39m Misin04G034300           \n",
       "\u001b[90m 7\u001b[39m SETIT_029134mg           \n",
       "\u001b[90m 8\u001b[39m SORBI_3002G024200        \n",
       "\u001b[90m 9\u001b[39m TraesCS2D02G219800       \n",
       "\u001b[90m10\u001b[39m TraesCS2A02G214000       \n",
       "\u001b[90m# … with 45 more rows\u001b[39m\n",
       "\n",
       "\n",
       "$set_9\n",
       "An object of class \"add_OG_set\"\n",
       "Slot \"genes\":\n",
       "\u001b[90m# A tibble: 65 × 1\u001b[39m\n",
       "   value                    \n",
       "   \u001b[3m\u001b[90m<chr>\u001b[39m\u001b[23m                    \n",
       "\u001b[90m 1\u001b[39m BRADI_1g54160v3          \n",
       "\u001b[90m 2\u001b[39m HORVU.MOREX.r3.5HG0518210\n",
       "\u001b[90m 3\u001b[39m Misin03G076100           \n",
       "\u001b[90m 4\u001b[39m TraesCS3B02G364500       \n",
       "\u001b[90m 5\u001b[39m Zm00001eb304670          \n",
       "\u001b[90m 6\u001b[39m Misin04G034300           \n",
       "\u001b[90m 7\u001b[39m SETIT_029134mg           \n",
       "\u001b[90m 8\u001b[39m SORBI_3002G024200        \n",
       "\u001b[90m 9\u001b[39m TraesCS2D02G219800       \n",
       "\u001b[90m10\u001b[39m TraesCS2A02G214000       \n",
       "\u001b[90m# … with 55 more rows\u001b[39m\n",
       "\n",
       "\n",
       "$set_10\n",
       "An object of class \"add_OG_set\"\n",
       "Slot \"genes\":\n",
       "\u001b[90m# A tibble: 71 × 1\u001b[39m\n",
       "   value                    \n",
       "   \u001b[3m\u001b[90m<chr>\u001b[39m\u001b[23m                    \n",
       "\u001b[90m 1\u001b[39m BRADI_1g54160v3          \n",
       "\u001b[90m 2\u001b[39m HORVU.MOREX.r3.5HG0518210\n",
       "\u001b[90m 3\u001b[39m Misin03G076100           \n",
       "\u001b[90m 4\u001b[39m TraesCS3B02G364500       \n",
       "\u001b[90m 5\u001b[39m Zm00001eb304670          \n",
       "\u001b[90m 6\u001b[39m Misin04G034300           \n",
       "\u001b[90m 7\u001b[39m SETIT_029134mg           \n",
       "\u001b[90m 8\u001b[39m SORBI_3002G024200        \n",
       "\u001b[90m 9\u001b[39m TraesCS2D02G219800       \n",
       "\u001b[90m10\u001b[39m TraesCS2A02G214000       \n",
       "\u001b[90m# … with 61 more rows\u001b[39m\n",
       "\n",
       "\n",
       "$set_11\n",
       "An object of class \"add_OG_set\"\n",
       "Slot \"genes\":\n",
       "\u001b[90m# A tibble: 82 × 1\u001b[39m\n",
       "   value                    \n",
       "   \u001b[3m\u001b[90m<chr>\u001b[39m\u001b[23m                    \n",
       "\u001b[90m 1\u001b[39m BRADI_1g54160v3          \n",
       "\u001b[90m 2\u001b[39m HORVU.MOREX.r3.5HG0518210\n",
       "\u001b[90m 3\u001b[39m Misin03G076100           \n",
       "\u001b[90m 4\u001b[39m TraesCS3B02G364500       \n",
       "\u001b[90m 5\u001b[39m Zm00001eb304670          \n",
       "\u001b[90m 6\u001b[39m Misin04G034300           \n",
       "\u001b[90m 7\u001b[39m SETIT_029134mg           \n",
       "\u001b[90m 8\u001b[39m SORBI_3002G024200        \n",
       "\u001b[90m 9\u001b[39m TraesCS2D02G219800       \n",
       "\u001b[90m10\u001b[39m TraesCS2A02G214000       \n",
       "\u001b[90m# … with 72 more rows\u001b[39m\n",
       "\n",
       "\n",
       "\n"
      ]
     },
     "metadata": {},
     "output_type": "display_data"
    }
   ],
   "source": [
    "#table(is.na(names(add_og_complete_object)))\n",
    "\n",
    "#head(summary_add_OG_analysis_list)\n",
    "head(add_og_complete_object)"
   ]
  }
 ],
 "metadata": {
  "kernelspec": {
   "display_name": "R",
   "language": "R",
   "name": "ir"
  },
  "language_info": {
   "codemirror_mode": "r",
   "file_extension": ".r",
   "mimetype": "text/x-r-source",
   "name": "R",
   "pygments_lexer": "r",
   "version": "4.1.3"
  }
 },
 "nbformat": 4,
 "nbformat_minor": 4
}
