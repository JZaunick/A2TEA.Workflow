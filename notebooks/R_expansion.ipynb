{
 "cells": [
  {
   "cell_type": "code",
   "execution_count": null,
   "metadata": {},
   "outputs": [],
   "source": [
    "R.version"
   ]
  },
  {
   "cell_type": "code",
   "execution_count": 2,
   "metadata": {
    "collapsed": true,
    "jupyter": {
     "outputs_hidden": true
    },
    "tags": []
   },
   "outputs": [
    {
     "name": "stderr",
     "output_type": "stream",
     "text": [
      "also installing the dependency ‘Rcpp’\n",
      "\n",
      "\n",
      "Updating HTML index of packages in '.Library'\n",
      "\n",
      "Making 'packages.html' ...\n",
      " done\n",
      "\n",
      "also installing the dependencies ‘pkgconfig’, ‘purrr’, ‘generics’, ‘magrittr’, ‘R6’, ‘tibble’, ‘tidyselect’\n",
      "\n",
      "\n",
      "Updating HTML index of packages in '.Library'\n",
      "\n",
      "Making 'packages.html' ...\n",
      " done\n",
      "\n",
      "also installing the dependencies ‘bit’, ‘prettyunits’, ‘bit64’, ‘withr’, ‘progress’, ‘clipr’, ‘hms’, ‘vroom’, ‘cpp11’, ‘tzdb’\n",
      "\n",
      "\n",
      "Updating HTML index of packages in '.Library'\n",
      "\n",
      "Making 'packages.html' ...\n",
      " done\n",
      "\n",
      "also installing the dependency ‘stringi’\n",
      "\n",
      "\n",
      "Updating HTML index of packages in '.Library'\n",
      "\n",
      "Making 'packages.html' ...\n",
      " done\n",
      "\n",
      "Updating HTML index of packages in '.Library'\n",
      "\n",
      "Making 'packages.html' ...\n",
      " done\n",
      "\n",
      "Updating HTML index of packages in '.Library'\n",
      "\n",
      "Making 'packages.html' ...\n",
      " done\n",
      "\n"
     ]
    }
   ],
   "source": [
    "#install.packages(\"tidyverse\")\n",
    "install.packages(\"plyr\")\n",
    "install.packages(\"dplyr\")\n",
    "install.packages(\"readr\")\n",
    "install.packages(\"stringr\")\n",
    "install.packages(\"tidyr\")\n",
    "install.packages(\"tibble\")\n",
    "install.packages(\"reshape2\")"
   ]
  },
  {
   "cell_type": "code",
   "execution_count": 2,
   "metadata": {},
   "outputs": [],
   "source": [
    "#plyr before dplyr!\n",
    "#library(tidyverse)\n",
    "\n",
    "library(readr)\n",
    "library(plyr)\n",
    "library(dplyr)\n",
    "library(stringr)\n",
    "library(tidyr)\n",
    "library(tibble)\n",
    "library(reshape2)"
   ]
  },
  {
   "cell_type": "code",
   "execution_count": 3,
   "metadata": {},
   "outputs": [],
   "source": [
    "#read-in \"name\", \"expanded_in\" and \"compared_to\" \n",
    "num = \"2\"\n",
    "name = \"Expanded in barley compared to maize\"\n",
    "#expanded_in = \"Arabidopsis_thaliana\"\n",
    "#compared_to = c(\"Hordeum_vulgare\", \"Zea_mays\")\n",
    "#expanded_in = \"Arabidopsis_thaliana\"\n",
    "#compared_to = c(\"Zea_mays\", \"Hordeum_vulgare\")\n",
    "expanded_in = c(\"Zea_mays\", \"Hordeum_vulgare\")\n",
    "compared_to = \"Arabidopsis_thaliana\""
   ]
  },
  {
   "cell_type": "code",
   "execution_count": 4,
   "metadata": {},
   "outputs": [
    {
     "name": "stderr",
     "output_type": "stream",
     "text": [
      "\u001b[1mRows: \u001b[22m\u001b[34m3372\u001b[39m \u001b[1mColumns: \u001b[22m\u001b[34m5\u001b[39m\n",
      "\u001b[36m──\u001b[39m \u001b[1mColumn specification\u001b[22m \u001b[36m────────────────────────────────────────────────────────────────────────────────────────────────────────────────────────────────────────────────────────────────────────────────────────────────────────────────────────────────────────────────────────\u001b[39m\n",
      "\u001b[1mDelimiter:\u001b[22m \"\\t\"\n",
      "\u001b[31mchr\u001b[39m (1): Orthogroup\n",
      "\u001b[32mdbl\u001b[39m (4): Arabidopsis_thaliana, Hordeum_vulgare, Zea_mays, Total\n",
      "\n",
      "\u001b[36mℹ\u001b[39m Use `spec()` to retrieve the full column specification for this data.\n",
      "\u001b[36mℹ\u001b[39m Specify the column types or set `show_col_types = FALSE` to quiet this message.\n"
     ]
    }
   ],
   "source": [
    "OG.GC <- readr::read_tsv(\"../orthofinder/final-results/Orthogroups/Orthogroups.GeneCount.tsv\")"
   ]
  },
  {
   "cell_type": "code",
   "execution_count": 5,
   "metadata": {},
   "outputs": [
    {
     "data": {
      "text/html": [
       "'Arabidopsis_thaliana'"
      ],
      "text/latex": [
       "'Arabidopsis\\_thaliana'"
      ],
      "text/markdown": [
       "'Arabidopsis_thaliana'"
      ],
      "text/plain": [
       "[1] \"Arabidopsis_thaliana\""
      ]
     },
     "metadata": {},
     "output_type": "display_data"
    }
   ],
   "source": [
    "#THis step is actually in the python functions; however here I I need a solution to test the downstream steps:\n",
    "#I can use strsplit to split the \";\" seperated columns\n",
    "#strsplit creates a list and the [[1]] selects the first list item (we only have one, in this case).\n",
    "#The result at this point is in list form, we can use \"unlist\" that works with the downstream steps.\n",
    "#compared_to\n",
    "#c_t_species <- unlist(strsplit(compared_to, \";\"))\n",
    "#compared_to\n",
    "c_t_species <- compared_to\n",
    "c_t_species"
   ]
  },
  {
   "cell_type": "code",
   "execution_count": 8,
   "metadata": {
    "scrolled": true
   },
   "outputs": [],
   "source": [
    "#get() function solves my problems of using the character functions inside dplyr\n",
    "#expanded_OGs <- OG.GC\n",
    "#for (i in c_t_species) {\n",
    "#    expanded_OGs <- expanded_OGs %>% dplyr::filter(get(expanded_in) > 3*(get(i)))\n",
    "#    }\n",
    "#expanded_OGs"
   ]
  },
  {
   "cell_type": "code",
   "execution_count": 6,
   "metadata": {},
   "outputs": [
    {
     "name": "stdout",
     "output_type": "stream",
     "text": [
      "[1] \"hello\"\n"
     ]
    }
   ],
   "source": [
    "print(\"hello\")"
   ]
  },
  {
   "cell_type": "code",
   "execution_count": null,
   "metadata": {},
   "outputs": [],
   "source": []
  },
  {
   "cell_type": "code",
   "execution_count": null,
   "metadata": {},
   "outputs": [],
   "source": [
    "##keeping in line with smaller scripts and modularity:\n",
    "\n",
    "#1) save Orthogroups for this hypothesis as first result; TEA directory; subd. GFEs ;subd. hypothesis number\n",
    "\n",
    "#2)parallel seperate rule\n",
    "#getting all BLAST hits and substituting for actual OG names\n",
    "\n",
    "#3) use hypothesis wildcard and new R script to perform BLAST filtering\n",
    "# -> write these results to file again\n",
    "\n",
    "#4) snakemake muscle, gblocks and fastTree (alternative programmes?)\n",
    "\n",
    "#5) load data into R, plot with ggtree; \n",
    "#-> here, stability and cleanup\n",
    "\n",
    "#6) and then all the other stuff"
   ]
  },
  {
   "cell_type": "code",
   "execution_count": 6,
   "metadata": {},
   "outputs": [],
   "source": [
    "#concatenate all BLAST seaches to one file and create parseable tibble with read_delim\n",
    "#could add that only BLAST searches of our species in this hypothesis are used - toDO for later\n",
    "#easiest and efficient way is to bind outside of the loop\n",
    "#do.call is a nice way rbind(bind_rows[[1]], bind_rows[[2]], ...)\n",
    "datalist = list()\n",
    "for (i in Sys.glob(\"../orthofinder/search/*.txt\")) {\n",
    "    datalist[[i]] <- readr::read_delim(file = i,\n",
    "                                delim = \"\\t\",\n",
    "                                col_names = c(\n",
    "                                    \"qseqid\",\n",
    "                                    \"sseqid\",\n",
    "                                    \"pident\",\n",
    "                                    \"length\",\n",
    "                                    \"mismatch\",\n",
    "                                    \"gapopen\",\n",
    "                                    \"qstart\",\n",
    "                                    \"qend\",\n",
    "                                    \"sstart\",\n",
    "                                    \"send\",\n",
    "                                    \"evalue\",\n",
    "                                    \"bitscore\"),\n",
    "                                col_types = c(\n",
    "                                    qseqid = col_character(),\n",
    "                                    sseqid = col_character(),\n",
    "                                    pident = col_double(),\n",
    "                                    length = col_double(),\n",
    "                                    mismatch = col_double(),\n",
    "                                    gapopen = col_double(),\n",
    "                                    qstart = col_double(),\n",
    "                                    qend = col_double(),\n",
    "                                    sstart = col_double(),\n",
    "                                    send = col_double(),\n",
    "                                    evalue = col_double(),\n",
    "                                    bitscore = col_double()\n",
    "                                                )\n",
    "                                )\n",
    "                                                }\n",
    "\n",
    "all_BLAST <- base::do.call(bind_rows, datalist)"
   ]
  },
  {
   "cell_type": "code",
   "execution_count": 7,
   "metadata": {},
   "outputs": [
    {
     "data": {
      "text/html": [
       "<table class=\"dataframe\">\n",
       "<caption>A tibble: 6 × 12</caption>\n",
       "<thead>\n",
       "\t<tr><th scope=col>qseqid</th><th scope=col>sseqid</th><th scope=col>pident</th><th scope=col>length</th><th scope=col>mismatch</th><th scope=col>gapopen</th><th scope=col>qstart</th><th scope=col>qend</th><th scope=col>sstart</th><th scope=col>send</th><th scope=col>evalue</th><th scope=col>bitscore</th></tr>\n",
       "\t<tr><th scope=col>&lt;chr&gt;</th><th scope=col>&lt;chr&gt;</th><th scope=col>&lt;dbl&gt;</th><th scope=col>&lt;dbl&gt;</th><th scope=col>&lt;dbl&gt;</th><th scope=col>&lt;dbl&gt;</th><th scope=col>&lt;dbl&gt;</th><th scope=col>&lt;dbl&gt;</th><th scope=col>&lt;dbl&gt;</th><th scope=col>&lt;dbl&gt;</th><th scope=col>&lt;dbl&gt;</th><th scope=col>&lt;dbl&gt;</th></tr>\n",
       "</thead>\n",
       "<tbody>\n",
       "\t<tr><td>0_0</td><td>0_0   </td><td>100.0</td><td>232</td><td>  0</td><td>0</td><td>  1</td><td>232</td><td> 1</td><td>232</td><td>2.94e-165</td><td> 452.0</td></tr>\n",
       "\t<tr><td>0_1</td><td>0_1   </td><td>100.0</td><td>562</td><td>  0</td><td>0</td><td>  1</td><td>562</td><td> 1</td><td>562</td><td> 0.00e+00</td><td>1101.0</td></tr>\n",
       "\t<tr><td>0_2</td><td>0_2   </td><td>100.0</td><td>506</td><td>  0</td><td>0</td><td>  1</td><td>506</td><td> 1</td><td>506</td><td> 0.00e+00</td><td>1003.0</td></tr>\n",
       "\t<tr><td>0_3</td><td>0_3   </td><td>100.0</td><td>515</td><td>  0</td><td>0</td><td>  1</td><td>515</td><td> 1</td><td>515</td><td> 0.00e+00</td><td>1039.0</td></tr>\n",
       "\t<tr><td>0_3</td><td>0_1827</td><td> 31.3</td><td> 99</td><td> 66</td><td>1</td><td>101</td><td>199</td><td>59</td><td>155</td><td> 2.10e-10</td><td>  57.0</td></tr>\n",
       "\t<tr><td>0_3</td><td>0_4020</td><td> 22.9</td><td>205</td><td>150</td><td>4</td><td> 59</td><td>257</td><td>17</td><td>219</td><td> 7.71e-10</td><td>  57.8</td></tr>\n",
       "</tbody>\n",
       "</table>\n"
      ],
      "text/latex": [
       "A tibble: 6 × 12\n",
       "\\begin{tabular}{llllllllllll}\n",
       " qseqid & sseqid & pident & length & mismatch & gapopen & qstart & qend & sstart & send & evalue & bitscore\\\\\n",
       " <chr> & <chr> & <dbl> & <dbl> & <dbl> & <dbl> & <dbl> & <dbl> & <dbl> & <dbl> & <dbl> & <dbl>\\\\\n",
       "\\hline\n",
       "\t 0\\_0 & 0\\_0    & 100.0 & 232 &   0 & 0 &   1 & 232 &  1 & 232 & 2.94e-165 &  452.0\\\\\n",
       "\t 0\\_1 & 0\\_1    & 100.0 & 562 &   0 & 0 &   1 & 562 &  1 & 562 &  0.00e+00 & 1101.0\\\\\n",
       "\t 0\\_2 & 0\\_2    & 100.0 & 506 &   0 & 0 &   1 & 506 &  1 & 506 &  0.00e+00 & 1003.0\\\\\n",
       "\t 0\\_3 & 0\\_3    & 100.0 & 515 &   0 & 0 &   1 & 515 &  1 & 515 &  0.00e+00 & 1039.0\\\\\n",
       "\t 0\\_3 & 0\\_1827 &  31.3 &  99 &  66 & 1 & 101 & 199 & 59 & 155 &  2.10e-10 &   57.0\\\\\n",
       "\t 0\\_3 & 0\\_4020 &  22.9 & 205 & 150 & 4 &  59 & 257 & 17 & 219 &  7.71e-10 &   57.8\\\\\n",
       "\\end{tabular}\n"
      ],
      "text/markdown": [
       "\n",
       "A tibble: 6 × 12\n",
       "\n",
       "| qseqid &lt;chr&gt; | sseqid &lt;chr&gt; | pident &lt;dbl&gt; | length &lt;dbl&gt; | mismatch &lt;dbl&gt; | gapopen &lt;dbl&gt; | qstart &lt;dbl&gt; | qend &lt;dbl&gt; | sstart &lt;dbl&gt; | send &lt;dbl&gt; | evalue &lt;dbl&gt; | bitscore &lt;dbl&gt; |\n",
       "|---|---|---|---|---|---|---|---|---|---|---|---|\n",
       "| 0_0 | 0_0    | 100.0 | 232 |   0 | 0 |   1 | 232 |  1 | 232 | 2.94e-165 |  452.0 |\n",
       "| 0_1 | 0_1    | 100.0 | 562 |   0 | 0 |   1 | 562 |  1 | 562 |  0.00e+00 | 1101.0 |\n",
       "| 0_2 | 0_2    | 100.0 | 506 |   0 | 0 |   1 | 506 |  1 | 506 |  0.00e+00 | 1003.0 |\n",
       "| 0_3 | 0_3    | 100.0 | 515 |   0 | 0 |   1 | 515 |  1 | 515 |  0.00e+00 | 1039.0 |\n",
       "| 0_3 | 0_1827 |  31.3 |  99 |  66 | 1 | 101 | 199 | 59 | 155 |  2.10e-10 |   57.0 |\n",
       "| 0_3 | 0_4020 |  22.9 | 205 | 150 | 4 |  59 | 257 | 17 | 219 |  7.71e-10 |   57.8 |\n",
       "\n"
      ],
      "text/plain": [
       "  qseqid sseqid pident length mismatch gapopen qstart qend sstart send\n",
       "1 0_0    0_0    100.0  232      0      0         1    232   1     232 \n",
       "2 0_1    0_1    100.0  562      0      0         1    562   1     562 \n",
       "3 0_2    0_2    100.0  506      0      0         1    506   1     506 \n",
       "4 0_3    0_3    100.0  515      0      0         1    515   1     515 \n",
       "5 0_3    0_1827  31.3   99     66      1       101    199  59     155 \n",
       "6 0_3    0_4020  22.9  205    150      4        59    257  17     219 \n",
       "  evalue    bitscore\n",
       "1 2.94e-165  452.0  \n",
       "2  0.00e+00 1101.0  \n",
       "3  0.00e+00 1003.0  \n",
       "4  0.00e+00 1039.0  \n",
       "5  2.10e-10   57.0  \n",
       "6  7.71e-10   57.8  "
      ]
     },
     "metadata": {},
     "output_type": "display_data"
    }
   ],
   "source": [
    "head(all_BLAST)"
   ]
  },
  {
   "cell_type": "code",
   "execution_count": 8,
   "metadata": {},
   "outputs": [],
   "source": [
    "#read-in the conversion table: orthofinder sequence IDs and corresponding actual gene/protein names\n",
    "#with \"str_remove_all\" I also easily get rid of the \":\"\n",
    "conversion <- readr::read_delim(file = \"../orthofinder/SequenceIDs.txt\",\n",
    "                delim = \" \",\n",
    "                col_names = c(\"seqid\", \"name\"),\n",
    "                col_types = c(\n",
    "                   seqid = col_character(),\n",
    "                   name = col_character())               \n",
    "               )\n",
    "conversion <- conversion %>%  dplyr::mutate(seqid = str_remove_all(seqid, \":\"))"
   ]
  },
  {
   "cell_type": "code",
   "execution_count": 9,
   "metadata": {
    "collapsed": true,
    "jupyter": {
     "outputs_hidden": true
    },
    "tags": []
   },
   "outputs": [
    {
     "data": {
      "text/html": [
       "<table class=\"dataframe\">\n",
       "<caption>A tibble: 14971 × 2</caption>\n",
       "<thead>\n",
       "\t<tr><th scope=col>seqid</th><th scope=col>name</th></tr>\n",
       "\t<tr><th scope=col>&lt;chr&gt;</th><th scope=col>&lt;chr&gt;</th></tr>\n",
       "</thead>\n",
       "<tbody>\n",
       "\t<tr><td>0_0 </td><td>AT2G27490</td></tr>\n",
       "\t<tr><td>0_1 </td><td>AT2G17370</td></tr>\n",
       "\t<tr><td>0_2 </td><td>AT2G34090</td></tr>\n",
       "\t<tr><td>0_3 </td><td>AT2G01050</td></tr>\n",
       "\t<tr><td>0_4 </td><td>AT2G07751</td></tr>\n",
       "\t<tr><td>0_5 </td><td>AT2G40240</td></tr>\n",
       "\t<tr><td>0_6 </td><td>AT2G20619</td></tr>\n",
       "\t<tr><td>0_7 </td><td>AT2G28690</td></tr>\n",
       "\t<tr><td>0_8 </td><td>AT2G26570</td></tr>\n",
       "\t<tr><td>0_9 </td><td>AT2G20610</td></tr>\n",
       "\t<tr><td>0_10</td><td>AT2G39400</td></tr>\n",
       "\t<tr><td>0_11</td><td>AT2G46180</td></tr>\n",
       "\t<tr><td>0_12</td><td>AT2G22270</td></tr>\n",
       "\t<tr><td>0_13</td><td>AT2G43660</td></tr>\n",
       "\t<tr><td>0_14</td><td>AT2G28360</td></tr>\n",
       "\t<tr><td>0_15</td><td>AT2G19970</td></tr>\n",
       "\t<tr><td>0_16</td><td>AT2G04032</td></tr>\n",
       "\t<tr><td>0_17</td><td>AT2G32600</td></tr>\n",
       "\t<tr><td>0_18</td><td>AT2G41010</td></tr>\n",
       "\t<tr><td>0_19</td><td>AT2G20740</td></tr>\n",
       "\t<tr><td>0_20</td><td>AT2G26000</td></tr>\n",
       "\t<tr><td>0_21</td><td>AT2G03390</td></tr>\n",
       "\t<tr><td>0_22</td><td>AT2G23093</td></tr>\n",
       "\t<tr><td>0_23</td><td>AT2G36080</td></tr>\n",
       "\t<tr><td>0_24</td><td>AT2G46900</td></tr>\n",
       "\t<tr><td>0_25</td><td>AT2G03667</td></tr>\n",
       "\t<tr><td>0_26</td><td>AT2G24820</td></tr>\n",
       "\t<tr><td>0_27</td><td>AT2G20120</td></tr>\n",
       "\t<tr><td>0_28</td><td>AT2G30690</td></tr>\n",
       "\t<tr><td>0_29</td><td>AT2G43850</td></tr>\n",
       "\t<tr><td>⋮</td><td>⋮</td></tr>\n",
       "\t<tr><td>2_4707</td><td>Zm00001d003474</td></tr>\n",
       "\t<tr><td>2_4708</td><td>Zm00001d002768</td></tr>\n",
       "\t<tr><td>2_4709</td><td>Zm00001d005261</td></tr>\n",
       "\t<tr><td>2_4710</td><td>Zm00001d006696</td></tr>\n",
       "\t<tr><td>2_4711</td><td>Zm00001d002735</td></tr>\n",
       "\t<tr><td>2_4712</td><td>Zm00001d002571</td></tr>\n",
       "\t<tr><td>2_4713</td><td>Zm00001d004119</td></tr>\n",
       "\t<tr><td>2_4714</td><td>Zm00001d002288</td></tr>\n",
       "\t<tr><td>2_4715</td><td>Zm00001d002973</td></tr>\n",
       "\t<tr><td>2_4716</td><td>Zm00001d005266</td></tr>\n",
       "\t<tr><td>2_4717</td><td>Zm00001d005332</td></tr>\n",
       "\t<tr><td>2_4718</td><td>Zm00001d002888</td></tr>\n",
       "\t<tr><td>2_4719</td><td>Zm00001d006327</td></tr>\n",
       "\t<tr><td>2_4720</td><td>Zm00001d005758</td></tr>\n",
       "\t<tr><td>2_4721</td><td>Zm00001d004475</td></tr>\n",
       "\t<tr><td>2_4722</td><td>Zm00001d007865</td></tr>\n",
       "\t<tr><td>2_4723</td><td>Zm00001d007757</td></tr>\n",
       "\t<tr><td>2_4724</td><td>Zm00001d005580</td></tr>\n",
       "\t<tr><td>2_4725</td><td>Zm00001d001964</td></tr>\n",
       "\t<tr><td>2_4726</td><td>Zm00001d002490</td></tr>\n",
       "\t<tr><td>2_4727</td><td>Zm00001d003922</td></tr>\n",
       "\t<tr><td>2_4728</td><td>Zm00001d002514</td></tr>\n",
       "\t<tr><td>2_4729</td><td>Zm00001d002784</td></tr>\n",
       "\t<tr><td>2_4730</td><td>Zm00001d007163</td></tr>\n",
       "\t<tr><td>2_4731</td><td>Zm00001d005795</td></tr>\n",
       "\t<tr><td>2_4732</td><td>Zm00001d007139</td></tr>\n",
       "\t<tr><td>2_4733</td><td>Zm00001d007709</td></tr>\n",
       "\t<tr><td>2_4734</td><td>Zm00001d007364</td></tr>\n",
       "\t<tr><td>2_4735</td><td>Zm00001d002425</td></tr>\n",
       "\t<tr><td>2_4736</td><td>Zm00001d005057</td></tr>\n",
       "</tbody>\n",
       "</table>\n"
      ],
      "text/latex": [
       "A tibble: 14971 × 2\n",
       "\\begin{tabular}{ll}\n",
       " seqid & name\\\\\n",
       " <chr> & <chr>\\\\\n",
       "\\hline\n",
       "\t 0\\_0  & AT2G27490\\\\\n",
       "\t 0\\_1  & AT2G17370\\\\\n",
       "\t 0\\_2  & AT2G34090\\\\\n",
       "\t 0\\_3  & AT2G01050\\\\\n",
       "\t 0\\_4  & AT2G07751\\\\\n",
       "\t 0\\_5  & AT2G40240\\\\\n",
       "\t 0\\_6  & AT2G20619\\\\\n",
       "\t 0\\_7  & AT2G28690\\\\\n",
       "\t 0\\_8  & AT2G26570\\\\\n",
       "\t 0\\_9  & AT2G20610\\\\\n",
       "\t 0\\_10 & AT2G39400\\\\\n",
       "\t 0\\_11 & AT2G46180\\\\\n",
       "\t 0\\_12 & AT2G22270\\\\\n",
       "\t 0\\_13 & AT2G43660\\\\\n",
       "\t 0\\_14 & AT2G28360\\\\\n",
       "\t 0\\_15 & AT2G19970\\\\\n",
       "\t 0\\_16 & AT2G04032\\\\\n",
       "\t 0\\_17 & AT2G32600\\\\\n",
       "\t 0\\_18 & AT2G41010\\\\\n",
       "\t 0\\_19 & AT2G20740\\\\\n",
       "\t 0\\_20 & AT2G26000\\\\\n",
       "\t 0\\_21 & AT2G03390\\\\\n",
       "\t 0\\_22 & AT2G23093\\\\\n",
       "\t 0\\_23 & AT2G36080\\\\\n",
       "\t 0\\_24 & AT2G46900\\\\\n",
       "\t 0\\_25 & AT2G03667\\\\\n",
       "\t 0\\_26 & AT2G24820\\\\\n",
       "\t 0\\_27 & AT2G20120\\\\\n",
       "\t 0\\_28 & AT2G30690\\\\\n",
       "\t 0\\_29 & AT2G43850\\\\\n",
       "\t ⋮ & ⋮\\\\\n",
       "\t 2\\_4707 & Zm00001d003474\\\\\n",
       "\t 2\\_4708 & Zm00001d002768\\\\\n",
       "\t 2\\_4709 & Zm00001d005261\\\\\n",
       "\t 2\\_4710 & Zm00001d006696\\\\\n",
       "\t 2\\_4711 & Zm00001d002735\\\\\n",
       "\t 2\\_4712 & Zm00001d002571\\\\\n",
       "\t 2\\_4713 & Zm00001d004119\\\\\n",
       "\t 2\\_4714 & Zm00001d002288\\\\\n",
       "\t 2\\_4715 & Zm00001d002973\\\\\n",
       "\t 2\\_4716 & Zm00001d005266\\\\\n",
       "\t 2\\_4717 & Zm00001d005332\\\\\n",
       "\t 2\\_4718 & Zm00001d002888\\\\\n",
       "\t 2\\_4719 & Zm00001d006327\\\\\n",
       "\t 2\\_4720 & Zm00001d005758\\\\\n",
       "\t 2\\_4721 & Zm00001d004475\\\\\n",
       "\t 2\\_4722 & Zm00001d007865\\\\\n",
       "\t 2\\_4723 & Zm00001d007757\\\\\n",
       "\t 2\\_4724 & Zm00001d005580\\\\\n",
       "\t 2\\_4725 & Zm00001d001964\\\\\n",
       "\t 2\\_4726 & Zm00001d002490\\\\\n",
       "\t 2\\_4727 & Zm00001d003922\\\\\n",
       "\t 2\\_4728 & Zm00001d002514\\\\\n",
       "\t 2\\_4729 & Zm00001d002784\\\\\n",
       "\t 2\\_4730 & Zm00001d007163\\\\\n",
       "\t 2\\_4731 & Zm00001d005795\\\\\n",
       "\t 2\\_4732 & Zm00001d007139\\\\\n",
       "\t 2\\_4733 & Zm00001d007709\\\\\n",
       "\t 2\\_4734 & Zm00001d007364\\\\\n",
       "\t 2\\_4735 & Zm00001d002425\\\\\n",
       "\t 2\\_4736 & Zm00001d005057\\\\\n",
       "\\end{tabular}\n"
      ],
      "text/markdown": [
       "\n",
       "A tibble: 14971 × 2\n",
       "\n",
       "| seqid &lt;chr&gt; | name &lt;chr&gt; |\n",
       "|---|---|\n",
       "| 0_0  | AT2G27490 |\n",
       "| 0_1  | AT2G17370 |\n",
       "| 0_2  | AT2G34090 |\n",
       "| 0_3  | AT2G01050 |\n",
       "| 0_4  | AT2G07751 |\n",
       "| 0_5  | AT2G40240 |\n",
       "| 0_6  | AT2G20619 |\n",
       "| 0_7  | AT2G28690 |\n",
       "| 0_8  | AT2G26570 |\n",
       "| 0_9  | AT2G20610 |\n",
       "| 0_10 | AT2G39400 |\n",
       "| 0_11 | AT2G46180 |\n",
       "| 0_12 | AT2G22270 |\n",
       "| 0_13 | AT2G43660 |\n",
       "| 0_14 | AT2G28360 |\n",
       "| 0_15 | AT2G19970 |\n",
       "| 0_16 | AT2G04032 |\n",
       "| 0_17 | AT2G32600 |\n",
       "| 0_18 | AT2G41010 |\n",
       "| 0_19 | AT2G20740 |\n",
       "| 0_20 | AT2G26000 |\n",
       "| 0_21 | AT2G03390 |\n",
       "| 0_22 | AT2G23093 |\n",
       "| 0_23 | AT2G36080 |\n",
       "| 0_24 | AT2G46900 |\n",
       "| 0_25 | AT2G03667 |\n",
       "| 0_26 | AT2G24820 |\n",
       "| 0_27 | AT2G20120 |\n",
       "| 0_28 | AT2G30690 |\n",
       "| 0_29 | AT2G43850 |\n",
       "| ⋮ | ⋮ |\n",
       "| 2_4707 | Zm00001d003474 |\n",
       "| 2_4708 | Zm00001d002768 |\n",
       "| 2_4709 | Zm00001d005261 |\n",
       "| 2_4710 | Zm00001d006696 |\n",
       "| 2_4711 | Zm00001d002735 |\n",
       "| 2_4712 | Zm00001d002571 |\n",
       "| 2_4713 | Zm00001d004119 |\n",
       "| 2_4714 | Zm00001d002288 |\n",
       "| 2_4715 | Zm00001d002973 |\n",
       "| 2_4716 | Zm00001d005266 |\n",
       "| 2_4717 | Zm00001d005332 |\n",
       "| 2_4718 | Zm00001d002888 |\n",
       "| 2_4719 | Zm00001d006327 |\n",
       "| 2_4720 | Zm00001d005758 |\n",
       "| 2_4721 | Zm00001d004475 |\n",
       "| 2_4722 | Zm00001d007865 |\n",
       "| 2_4723 | Zm00001d007757 |\n",
       "| 2_4724 | Zm00001d005580 |\n",
       "| 2_4725 | Zm00001d001964 |\n",
       "| 2_4726 | Zm00001d002490 |\n",
       "| 2_4727 | Zm00001d003922 |\n",
       "| 2_4728 | Zm00001d002514 |\n",
       "| 2_4729 | Zm00001d002784 |\n",
       "| 2_4730 | Zm00001d007163 |\n",
       "| 2_4731 | Zm00001d005795 |\n",
       "| 2_4732 | Zm00001d007139 |\n",
       "| 2_4733 | Zm00001d007709 |\n",
       "| 2_4734 | Zm00001d007364 |\n",
       "| 2_4735 | Zm00001d002425 |\n",
       "| 2_4736 | Zm00001d005057 |\n",
       "\n"
      ],
      "text/plain": [
       "      seqid  name          \n",
       "1     0_0    AT2G27490     \n",
       "2     0_1    AT2G17370     \n",
       "3     0_2    AT2G34090     \n",
       "4     0_3    AT2G01050     \n",
       "5     0_4    AT2G07751     \n",
       "6     0_5    AT2G40240     \n",
       "7     0_6    AT2G20619     \n",
       "8     0_7    AT2G28690     \n",
       "9     0_8    AT2G26570     \n",
       "10    0_9    AT2G20610     \n",
       "11    0_10   AT2G39400     \n",
       "12    0_11   AT2G46180     \n",
       "13    0_12   AT2G22270     \n",
       "14    0_13   AT2G43660     \n",
       "15    0_14   AT2G28360     \n",
       "16    0_15   AT2G19970     \n",
       "17    0_16   AT2G04032     \n",
       "18    0_17   AT2G32600     \n",
       "19    0_18   AT2G41010     \n",
       "20    0_19   AT2G20740     \n",
       "21    0_20   AT2G26000     \n",
       "22    0_21   AT2G03390     \n",
       "23    0_22   AT2G23093     \n",
       "24    0_23   AT2G36080     \n",
       "25    0_24   AT2G46900     \n",
       "26    0_25   AT2G03667     \n",
       "27    0_26   AT2G24820     \n",
       "28    0_27   AT2G20120     \n",
       "29    0_28   AT2G30690     \n",
       "30    0_29   AT2G43850     \n",
       "⋮     ⋮      ⋮             \n",
       "14942 2_4707 Zm00001d003474\n",
       "14943 2_4708 Zm00001d002768\n",
       "14944 2_4709 Zm00001d005261\n",
       "14945 2_4710 Zm00001d006696\n",
       "14946 2_4711 Zm00001d002735\n",
       "14947 2_4712 Zm00001d002571\n",
       "14948 2_4713 Zm00001d004119\n",
       "14949 2_4714 Zm00001d002288\n",
       "14950 2_4715 Zm00001d002973\n",
       "14951 2_4716 Zm00001d005266\n",
       "14952 2_4717 Zm00001d005332\n",
       "14953 2_4718 Zm00001d002888\n",
       "14954 2_4719 Zm00001d006327\n",
       "14955 2_4720 Zm00001d005758\n",
       "14956 2_4721 Zm00001d004475\n",
       "14957 2_4722 Zm00001d007865\n",
       "14958 2_4723 Zm00001d007757\n",
       "14959 2_4724 Zm00001d005580\n",
       "14960 2_4725 Zm00001d001964\n",
       "14961 2_4726 Zm00001d002490\n",
       "14962 2_4727 Zm00001d003922\n",
       "14963 2_4728 Zm00001d002514\n",
       "14964 2_4729 Zm00001d002784\n",
       "14965 2_4730 Zm00001d007163\n",
       "14966 2_4731 Zm00001d005795\n",
       "14967 2_4732 Zm00001d007139\n",
       "14968 2_4733 Zm00001d007709\n",
       "14969 2_4734 Zm00001d007364\n",
       "14970 2_4735 Zm00001d002425\n",
       "14971 2_4736 Zm00001d005057"
      ]
     },
     "metadata": {},
     "output_type": "display_data"
    }
   ],
   "source": [
    "conversion"
   ]
  },
  {
   "cell_type": "code",
   "execution_count": 10,
   "metadata": {},
   "outputs": [],
   "source": [
    "#create new columns with the actual gene/protein names\n",
    "all_BLAST_reformatted <- all_BLAST %>% dplyr::left_join(conversion, by = c(\"qseqid\" = \"seqid\"))\n",
    "all_BLAST_reformatted <- all_BLAST_reformatted %>% dplyr::left_join(conversion, by = c(\"sseqid\" = \"seqid\"))\n",
    "#position after qseqid and sseqid respectively\n",
    "all_BLAST_reformatted <- all_BLAST_reformatted %>% dplyr::relocate(name.x, .after = qseqid)\n",
    "all_BLAST_reformatted <- all_BLAST_reformatted %>% dplyr::relocate(name.y, .after = sseqid)\n",
    "#rename to qseqid/sseqid_name\n",
    "all_BLAST_reformatted <- dplyr::rename(all_BLAST_reformatted,  qseqid_name = name.x)\n",
    "all_BLAST_reformatted <- dplyr::rename(all_BLAST_reformatted, sseqid_name = name.y)"
   ]
  },
  {
   "cell_type": "code",
   "execution_count": null,
   "metadata": {},
   "outputs": [],
   "source": [
    "#write to file; for reference\n",
    "#write_delim(as.data.frame(foo), \"test.tsv\", delim = \"\\t\")"
   ]
  },
  {
   "cell_type": "code",
   "execution_count": 11,
   "metadata": {},
   "outputs": [],
   "source": [
    "#read-in Orthogroups.txt old!!\n",
    "orthogroups <- readr::read_delim(file = \"../orthofinder/final-results/Orthogroups/Orthogroups.txt\",\n",
    "                          delim = \":\",\n",
    "                          col_names = c(\"OG\", \"genes\"),\n",
    "                          col_types = c(\n",
    "                              OG = col_character(),\n",
    "                              genes = col_character())\n",
    "                         )"
   ]
  },
  {
   "cell_type": "code",
   "execution_count": 13,
   "metadata": {
    "tags": []
   },
   "outputs": [
    {
     "name": "stderr",
     "output_type": "stream",
     "text": [
      "\u001b[1mRows: \u001b[22m\u001b[34m3441\u001b[39m \u001b[1mColumns: \u001b[22m\u001b[34m6\u001b[39m\n",
      "\u001b[36m──\u001b[39m \u001b[1mColumn specification\u001b[22m \u001b[36m────────────────────────────────────────────────────────────────────────────────────────────────────────────────────────────────────────────────────────────────────────────────────────────────────────────────────────────────────────────────────────\u001b[39m\n",
      "\u001b[1mDelimiter:\u001b[22m \"\\t\"\n",
      "\u001b[31mchr\u001b[39m (6): HOG, OG, Gene Tree Parent Clade, Arabidopsis_thaliana, Hordeum_vulg...\n",
      "\n",
      "\u001b[36mℹ\u001b[39m Use `spec()` to retrieve the full column specification for this data.\n",
      "\u001b[36mℹ\u001b[39m Specify the column types or set `show_col_types = FALSE` to quiet this message.\n"
     ]
    },
    {
     "data": {
      "text/html": [
       "<table class=\"dataframe\">\n",
       "<caption>A tibble: 6 × 4</caption>\n",
       "<thead>\n",
       "\t<tr><th scope=col>HOG</th><th scope=col>Zea_mays</th><th scope=col>Hordeum_vulgare</th><th scope=col>Arabidopsis_thaliana</th></tr>\n",
       "\t<tr><th scope=col>&lt;chr&gt;</th><th scope=col>&lt;dbl&gt;</th><th scope=col>&lt;dbl&gt;</th><th scope=col>&lt;dbl&gt;</th></tr>\n",
       "</thead>\n",
       "<tbody>\n",
       "\t<tr><td>N0.HOG0000000</td><td> 1</td><td>40</td><td>0</td></tr>\n",
       "\t<tr><td>N0.HOG0000001</td><td>36</td><td> 4</td><td>0</td></tr>\n",
       "\t<tr><td>N0.HOG0000002</td><td> 0</td><td>33</td><td>2</td></tr>\n",
       "\t<tr><td>N0.HOG0000003</td><td>26</td><td> 2</td><td>0</td></tr>\n",
       "\t<tr><td>N0.HOG0000004</td><td> 1</td><td> 1</td><td>1</td></tr>\n",
       "\t<tr><td>N0.HOG0000005</td><td> 1</td><td> 0</td><td>5</td></tr>\n",
       "</tbody>\n",
       "</table>\n"
      ],
      "text/latex": [
       "A tibble: 6 × 4\n",
       "\\begin{tabular}{llll}\n",
       " HOG & Zea\\_mays & Hordeum\\_vulgare & Arabidopsis\\_thaliana\\\\\n",
       " <chr> & <dbl> & <dbl> & <dbl>\\\\\n",
       "\\hline\n",
       "\t N0.HOG0000000 &  1 & 40 & 0\\\\\n",
       "\t N0.HOG0000001 & 36 &  4 & 0\\\\\n",
       "\t N0.HOG0000002 &  0 & 33 & 2\\\\\n",
       "\t N0.HOG0000003 & 26 &  2 & 0\\\\\n",
       "\t N0.HOG0000004 &  1 &  1 & 1\\\\\n",
       "\t N0.HOG0000005 &  1 &  0 & 5\\\\\n",
       "\\end{tabular}\n"
      ],
      "text/markdown": [
       "\n",
       "A tibble: 6 × 4\n",
       "\n",
       "| HOG &lt;chr&gt; | Zea_mays &lt;dbl&gt; | Hordeum_vulgare &lt;dbl&gt; | Arabidopsis_thaliana &lt;dbl&gt; |\n",
       "|---|---|---|---|\n",
       "| N0.HOG0000000 |  1 | 40 | 0 |\n",
       "| N0.HOG0000001 | 36 |  4 | 0 |\n",
       "| N0.HOG0000002 |  0 | 33 | 2 |\n",
       "| N0.HOG0000003 | 26 |  2 | 0 |\n",
       "| N0.HOG0000004 |  1 |  1 | 1 |\n",
       "| N0.HOG0000005 |  1 |  0 | 5 |\n",
       "\n"
      ],
      "text/plain": [
       "  HOG           Zea_mays Hordeum_vulgare Arabidopsis_thaliana\n",
       "1 N0.HOG0000000  1       40              0                   \n",
       "2 N0.HOG0000001 36        4              0                   \n",
       "3 N0.HOG0000002  0       33              2                   \n",
       "4 N0.HOG0000003 26        2              0                   \n",
       "5 N0.HOG0000004  1        1              1                   \n",
       "6 N0.HOG0000005  1        0              5                   "
      ]
     },
     "metadata": {},
     "output_type": "display_data"
    }
   ],
   "source": [
    "#read-in Orthogroups.txt new!!\n",
    "#expanded OG_s also have to be computed based on this..\n",
    "ph_orthogroups <- readr::read_delim(file = \"../orthofinder/final-results/Phylogenetic_Hierarchical_Orthogroups/N0.tsv\",\n",
    "                          delim = \"\\t\",\n",
    "#                          col_names = c(\"HOG\", \"genes\"),\n",
    "#                          col_types = c(\n",
    "#                              OG = col_character(),\n",
    "#                              genes = col_character())\n",
    "                         )\n",
    "#head(ph_orthogroups)\n",
    "#length(unlist(strsplit(ph_orthogroups[ph_orthogroups$HOG == \"N0.HOG0000103\",]$Arabidopsis_thaliana, \",\")))\n",
    "#length(unlist(strsplit(ph_orthogroups[\"N0.HOG0000103\",]$Arabidopsis_thaliana, \",\")))\n",
    "\n",
    "#get() function solves my problems of using the character functions inside dplyr\n",
    "\n",
    "#colnames(ph_orthogroups)\n",
    "#compared_to\n",
    "#length(unlist(strsplit(ph_orthogroups[ph_orthogroups[[compared_to]], \",\")))\n",
    "all_species <- c(expanded_in, compared_to)\n",
    "#all_species[1]\n",
    "#all_species[2]\n",
    "\n",
    "#create dataframe with numbers of genes per PHOG\n",
    "#we combine expanded_in and compared_to vectors to easily compute for everything we need\n",
    "\n",
    "HOG_df <- setNames(base::data.frame(matrix(ncol = 1 + length(all_species), nrow = 0)),\n",
    "                  c(\"HOG\", all_species))\n",
    "\n",
    "for (i in 1:nrow(ph_orthogroups)) {\n",
    "    \n",
    "    row = 0\n",
    "    \n",
    "    #print(ph_orthogroups[i,]$HOG)\n",
    "    row <- c(ph_orthogroups[i,]$HOG)\n",
    "    \n",
    "        for (j in c(all_species)) {\n",
    "            if (is.na(ph_orthogroups[i,][[j]]))\n",
    "            {\n",
    "                test = 0\n",
    "                row <- c(row, test)\n",
    "            }\n",
    "            else \n",
    "            {\n",
    "                test = length(unlist(strsplit(ph_orthogroups[i,][[j]], \",\")))\n",
    "                row <- c(row, test)\n",
    "            }\n",
    "}\n",
    "    HOG_df[i,] <- row\n",
    "} \n",
    "\n",
    "HOG_tibble <- as_tibble(HOG_df)\n",
    "\n",
    "for (k in 1:length(all_species)) {\n",
    "    o = all_species[k]\n",
    "    HOG_tibble[[o]] <- as.numeric(HOG_tibble[[o]])\n",
    "}\n",
    "head(HOG_tibble)\n",
    "\n",
    "#create \"copy\" as HOG_tibble is currently modified in the upcoming step\n",
    "HOG_tibble_complete <- HOG_tibble\n"
   ]
  },
  {
   "cell_type": "code",
   "execution_count": 16,
   "metadata": {},
   "outputs": [
    {
     "data": {
      "text/html": [
       "<table class=\"dataframe\">\n",
       "<caption>A data.frame: 6 × 4</caption>\n",
       "<thead>\n",
       "\t<tr><th></th><th scope=col>HOG</th><th scope=col>Zea_mays</th><th scope=col>Hordeum_vulgare</th><th scope=col>Arabidopsis_thaliana</th></tr>\n",
       "\t<tr><th></th><th scope=col>&lt;chr&gt;</th><th scope=col>&lt;chr&gt;</th><th scope=col>&lt;chr&gt;</th><th scope=col>&lt;chr&gt;</th></tr>\n",
       "</thead>\n",
       "<tbody>\n",
       "\t<tr><th scope=row>1</th><td>N0.HOG0000000</td><td>1 </td><td>40</td><td>0</td></tr>\n",
       "\t<tr><th scope=row>2</th><td>N0.HOG0000001</td><td>36</td><td>4 </td><td>0</td></tr>\n",
       "\t<tr><th scope=row>3</th><td>N0.HOG0000002</td><td>0 </td><td>33</td><td>2</td></tr>\n",
       "\t<tr><th scope=row>4</th><td>N0.HOG0000003</td><td>26</td><td>2 </td><td>0</td></tr>\n",
       "\t<tr><th scope=row>5</th><td>N0.HOG0000004</td><td>1 </td><td>1 </td><td>1</td></tr>\n",
       "\t<tr><th scope=row>6</th><td>N0.HOG0000005</td><td>1 </td><td>0 </td><td>5</td></tr>\n",
       "</tbody>\n",
       "</table>\n"
      ],
      "text/latex": [
       "A data.frame: 6 × 4\n",
       "\\begin{tabular}{r|llll}\n",
       "  & HOG & Zea\\_mays & Hordeum\\_vulgare & Arabidopsis\\_thaliana\\\\\n",
       "  & <chr> & <chr> & <chr> & <chr>\\\\\n",
       "\\hline\n",
       "\t1 & N0.HOG0000000 & 1  & 40 & 0\\\\\n",
       "\t2 & N0.HOG0000001 & 36 & 4  & 0\\\\\n",
       "\t3 & N0.HOG0000002 & 0  & 33 & 2\\\\\n",
       "\t4 & N0.HOG0000003 & 26 & 2  & 0\\\\\n",
       "\t5 & N0.HOG0000004 & 1  & 1  & 1\\\\\n",
       "\t6 & N0.HOG0000005 & 1  & 0  & 5\\\\\n",
       "\\end{tabular}\n"
      ],
      "text/markdown": [
       "\n",
       "A data.frame: 6 × 4\n",
       "\n",
       "| <!--/--> | HOG &lt;chr&gt; | Zea_mays &lt;chr&gt; | Hordeum_vulgare &lt;chr&gt; | Arabidopsis_thaliana &lt;chr&gt; |\n",
       "|---|---|---|---|---|\n",
       "| 1 | N0.HOG0000000 | 1  | 40 | 0 |\n",
       "| 2 | N0.HOG0000001 | 36 | 4  | 0 |\n",
       "| 3 | N0.HOG0000002 | 0  | 33 | 2 |\n",
       "| 4 | N0.HOG0000003 | 26 | 2  | 0 |\n",
       "| 5 | N0.HOG0000004 | 1  | 1  | 1 |\n",
       "| 6 | N0.HOG0000005 | 1  | 0  | 5 |\n",
       "\n"
      ],
      "text/plain": [
       "  HOG           Zea_mays Hordeum_vulgare Arabidopsis_thaliana\n",
       "1 N0.HOG0000000 1        40              0                   \n",
       "2 N0.HOG0000001 36       4               0                   \n",
       "3 N0.HOG0000002 0        33              2                   \n",
       "4 N0.HOG0000003 26       2               0                   \n",
       "5 N0.HOG0000004 1        1               1                   \n",
       "6 N0.HOG0000005 1        0               5                   "
      ]
     },
     "metadata": {},
     "output_type": "display_data"
    },
    {
     "data": {
      "text/html": [
       "<table class=\"dataframe\">\n",
       "<caption>A tibble: 6 × 6</caption>\n",
       "<thead>\n",
       "\t<tr><th scope=col>HOG</th><th scope=col>OG</th><th scope=col>Gene Tree Parent Clade</th><th scope=col>Arabidopsis_thaliana</th><th scope=col>Hordeum_vulgare</th><th scope=col>Zea_mays</th></tr>\n",
       "\t<tr><th scope=col>&lt;chr&gt;</th><th scope=col>&lt;chr&gt;</th><th scope=col>&lt;chr&gt;</th><th scope=col>&lt;chr&gt;</th><th scope=col>&lt;chr&gt;</th><th scope=col>&lt;chr&gt;</th></tr>\n",
       "</thead>\n",
       "<tbody>\n",
       "\t<tr><td>N0.HOG0000000</td><td>OG0000000</td><td>n0</td><td>NA                                                   </td><td>HORVU2Hr1G079310, HORVU2Hr1G018660, HORVU2Hr1G032050, HORVU2Hr1G016160, HORVU2Hr1G016220, HORVU2Hr1G073620, HORVU2Hr1G055880, HORVU2Hr1G056850, HORVU2Hr1G026300, HORVU2Hr1G050830, HORVU2Hr1G127030, HORVU2Hr1G019750, HORVU2Hr1G057230, HORVU2Hr1G027100, HORVU2Hr1G059590, HORVU2Hr1G051710, HORVU2Hr1G055660, HORVU2Hr1G078940, HORVU2Hr1G060470, HORVU2Hr1G082290, HORVU2Hr1G127040, HORVU2Hr1G048780, HORVU2Hr1G072510, HORVU2Hr1G055670, HORVU2Hr1G051720, HORVU2Hr1G049810, HORVU2Hr1G059290, HORVU2Hr1G063970, HORVU2Hr1G054010, HORVU2Hr1G026290, HORVU2Hr1G047570, HORVU2Hr1G054990, HORVU2Hr1G034820, HORVU2Hr1G075560, HORVU2Hr1G029650, HORVU2Hr1G016150, HORVU2Hr1G127020, HORVU2Hr1G072520, HORVU2Hr1G027110, HORVU2Hr1G052470</td><td>Zm00001d007917                                                                                                                                                                                                                                                                                                                                                                                                                                                                                                                                                                                </td></tr>\n",
       "\t<tr><td>N0.HOG0000001</td><td>OG0000001</td><td>n0</td><td>NA                                                   </td><td>HORVU2Hr1G042650, HORVU2Hr1G050240, HORVU2Hr1G031550, HORVU2Hr1G031530                                                                                                                                                                                                                                                                                                                                                                                                                                                                                                                                                                                                                                                                        </td><td>Zm00001d006241, Zm00001d005991, Zm00001d006187, Zm00001d005363, Zm00001d003819, Zm00001d005166, Zm00001d004067, Zm00001d006695, Zm00001d002666, Zm00001d004347, Zm00001d004872, Zm00001d007023, Zm00001d007221, Zm00001d006074, Zm00001d002805, Zm00001d007537, Zm00001d003740, Zm00001d006849, Zm00001d002299, Zm00001d005805, Zm00001d004747, Zm00001d005840, Zm00001d007637, Zm00001d003578, Zm00001d006675, Zm00001d004912, Zm00001d001920, Zm00001d002637, Zm00001d006863, Zm00001d001921, Zm00001d004359, Zm00001d007964, Zm00001d005518, Zm00001d007562, Zm00001d003825, Zm00001d007563</td></tr>\n",
       "\t<tr><td>N0.HOG0000002</td><td>OG0000002</td><td>n0</td><td>AT2G11035, AT2G02520                                 </td><td>HORVU2Hr1G043320, HORVU2Hr1G113600, HORVU2Hr1G079320, HORVU2Hr1G059130, HORVU2Hr1G059280, HORVU2Hr1G067230, HORVU2Hr1G042730, HORVU2Hr1G026310, HORVU2Hr1G023890, HORVU2Hr1G057810, HORVU2Hr1G049770, HORVU2Hr1G081150, HORVU2Hr1G043140, HORVU2Hr1G063980, HORVU2Hr1G088300, HORVU2Hr1G056860, HORVU2Hr1G067190, HORVU2Hr1G088890, HORVU2Hr1G107730, HORVU2Hr1G055650, HORVU2Hr1G051700, HORVU2Hr1G102420, HORVU2Hr1G027090, HORVU2Hr1G083180, HORVU2Hr1G083210, HORVU2Hr1G044300, HORVU2Hr1G048790, HORVU2Hr1G017710, HORVU2Hr1G056080, HORVU2Hr1G097090, HORVU2Hr1G024690, HORVU2Hr1G038660, HORVU2Hr1G124520                                                                                                                              </td><td>NA                                                                                                                                                                                                                                                                                                                                                                                                                                                                                                                                                                                            </td></tr>\n",
       "\t<tr><td>N0.HOG0000003</td><td>OG0000003</td><td>n0</td><td>NA                                                   </td><td>HORVU2Hr1G033290, HORVU2Hr1G024470                                                                                                                                                                                                                                                                                                                                                                                                                                                                                                                                                                                                                                                                                                            </td><td>Zm00001d002634, Zm00001d006414, Zm00001d005541, Zm00001d002998, Zm00001d007210, Zm00001d005746, Zm00001d004084, Zm00001d005524, Zm00001d002635, Zm00001d006862, Zm00001d007521, Zm00001d001918, Zm00001d007551, Zm00001d005992, Zm00001d005365, Zm00001d006186, Zm00001d006239, Zm00001d006413, Zm00001d004065, Zm00001d006383, Zm00001d006087, Zm00001d007224, Zm00001d002804, Zm00001d006072, Zm00001d005258, Zm00001d007535                                                                                                                                                                </td></tr>\n",
       "\t<tr><td>N0.HOG0000004</td><td>OG0000004</td><td>n1</td><td>AT2G39620                                            </td><td>HORVU2Hr1G027440                                                                                                                                                                                                                                                                                                                                                                                                                                                                                                                                                                                                                                                                                                                              </td><td>Zm00001d004071                                                                                                                                                                                                                                                                                                                                                                                                                                                                                                                                                                                </td></tr>\n",
       "\t<tr><td>N0.HOG0000005</td><td>OG0000004</td><td>n4</td><td>AT2G03380, AT2G02750, AT2G37310, AT2G40720, AT2G04860</td><td>NA                                                                                                                                                                                                                                                                                                                                                                                                                                                                                                                                                                                                                                                                                                                                            </td><td>Zm00001d007100                                                                                                                                                                                                                                                                                                                                                                                                                                                                                                                                                                                </td></tr>\n",
       "</tbody>\n",
       "</table>\n"
      ],
      "text/latex": [
       "A tibble: 6 × 6\n",
       "\\begin{tabular}{llllll}\n",
       " HOG & OG & Gene Tree Parent Clade & Arabidopsis\\_thaliana & Hordeum\\_vulgare & Zea\\_mays\\\\\n",
       " <chr> & <chr> & <chr> & <chr> & <chr> & <chr>\\\\\n",
       "\\hline\n",
       "\t N0.HOG0000000 & OG0000000 & n0 & NA                                                    & HORVU2Hr1G079310, HORVU2Hr1G018660, HORVU2Hr1G032050, HORVU2Hr1G016160, HORVU2Hr1G016220, HORVU2Hr1G073620, HORVU2Hr1G055880, HORVU2Hr1G056850, HORVU2Hr1G026300, HORVU2Hr1G050830, HORVU2Hr1G127030, HORVU2Hr1G019750, HORVU2Hr1G057230, HORVU2Hr1G027100, HORVU2Hr1G059590, HORVU2Hr1G051710, HORVU2Hr1G055660, HORVU2Hr1G078940, HORVU2Hr1G060470, HORVU2Hr1G082290, HORVU2Hr1G127040, HORVU2Hr1G048780, HORVU2Hr1G072510, HORVU2Hr1G055670, HORVU2Hr1G051720, HORVU2Hr1G049810, HORVU2Hr1G059290, HORVU2Hr1G063970, HORVU2Hr1G054010, HORVU2Hr1G026290, HORVU2Hr1G047570, HORVU2Hr1G054990, HORVU2Hr1G034820, HORVU2Hr1G075560, HORVU2Hr1G029650, HORVU2Hr1G016150, HORVU2Hr1G127020, HORVU2Hr1G072520, HORVU2Hr1G027110, HORVU2Hr1G052470 & Zm00001d007917                                                                                                                                                                                                                                                                                                                                                                                                                                                                                                                                                                                \\\\\n",
       "\t N0.HOG0000001 & OG0000001 & n0 & NA                                                    & HORVU2Hr1G042650, HORVU2Hr1G050240, HORVU2Hr1G031550, HORVU2Hr1G031530                                                                                                                                                                                                                                                                                                                                                                                                                                                                                                                                                                                                                                                                         & Zm00001d006241, Zm00001d005991, Zm00001d006187, Zm00001d005363, Zm00001d003819, Zm00001d005166, Zm00001d004067, Zm00001d006695, Zm00001d002666, Zm00001d004347, Zm00001d004872, Zm00001d007023, Zm00001d007221, Zm00001d006074, Zm00001d002805, Zm00001d007537, Zm00001d003740, Zm00001d006849, Zm00001d002299, Zm00001d005805, Zm00001d004747, Zm00001d005840, Zm00001d007637, Zm00001d003578, Zm00001d006675, Zm00001d004912, Zm00001d001920, Zm00001d002637, Zm00001d006863, Zm00001d001921, Zm00001d004359, Zm00001d007964, Zm00001d005518, Zm00001d007562, Zm00001d003825, Zm00001d007563\\\\\n",
       "\t N0.HOG0000002 & OG0000002 & n0 & AT2G11035, AT2G02520                                  & HORVU2Hr1G043320, HORVU2Hr1G113600, HORVU2Hr1G079320, HORVU2Hr1G059130, HORVU2Hr1G059280, HORVU2Hr1G067230, HORVU2Hr1G042730, HORVU2Hr1G026310, HORVU2Hr1G023890, HORVU2Hr1G057810, HORVU2Hr1G049770, HORVU2Hr1G081150, HORVU2Hr1G043140, HORVU2Hr1G063980, HORVU2Hr1G088300, HORVU2Hr1G056860, HORVU2Hr1G067190, HORVU2Hr1G088890, HORVU2Hr1G107730, HORVU2Hr1G055650, HORVU2Hr1G051700, HORVU2Hr1G102420, HORVU2Hr1G027090, HORVU2Hr1G083180, HORVU2Hr1G083210, HORVU2Hr1G044300, HORVU2Hr1G048790, HORVU2Hr1G017710, HORVU2Hr1G056080, HORVU2Hr1G097090, HORVU2Hr1G024690, HORVU2Hr1G038660, HORVU2Hr1G124520                                                                                                                               & NA                                                                                                                                                                                                                                                                                                                                                                                                                                                                                                                                                                                            \\\\\n",
       "\t N0.HOG0000003 & OG0000003 & n0 & NA                                                    & HORVU2Hr1G033290, HORVU2Hr1G024470                                                                                                                                                                                                                                                                                                                                                                                                                                                                                                                                                                                                                                                                                                             & Zm00001d002634, Zm00001d006414, Zm00001d005541, Zm00001d002998, Zm00001d007210, Zm00001d005746, Zm00001d004084, Zm00001d005524, Zm00001d002635, Zm00001d006862, Zm00001d007521, Zm00001d001918, Zm00001d007551, Zm00001d005992, Zm00001d005365, Zm00001d006186, Zm00001d006239, Zm00001d006413, Zm00001d004065, Zm00001d006383, Zm00001d006087, Zm00001d007224, Zm00001d002804, Zm00001d006072, Zm00001d005258, Zm00001d007535                                                                                                                                                                \\\\\n",
       "\t N0.HOG0000004 & OG0000004 & n1 & AT2G39620                                             & HORVU2Hr1G027440                                                                                                                                                                                                                                                                                                                                                                                                                                                                                                                                                                                                                                                                                                                               & Zm00001d004071                                                                                                                                                                                                                                                                                                                                                                                                                                                                                                                                                                                \\\\\n",
       "\t N0.HOG0000005 & OG0000004 & n4 & AT2G03380, AT2G02750, AT2G37310, AT2G40720, AT2G04860 & NA                                                                                                                                                                                                                                                                                                                                                                                                                                                                                                                                                                                                                                                                                                                                             & Zm00001d007100                                                                                                                                                                                                                                                                                                                                                                                                                                                                                                                                                                                \\\\\n",
       "\\end{tabular}\n"
      ],
      "text/markdown": [
       "\n",
       "A tibble: 6 × 6\n",
       "\n",
       "| HOG &lt;chr&gt; | OG &lt;chr&gt; | Gene Tree Parent Clade &lt;chr&gt; | Arabidopsis_thaliana &lt;chr&gt; | Hordeum_vulgare &lt;chr&gt; | Zea_mays &lt;chr&gt; |\n",
       "|---|---|---|---|---|---|\n",
       "| N0.HOG0000000 | OG0000000 | n0 | NA                                                    | HORVU2Hr1G079310, HORVU2Hr1G018660, HORVU2Hr1G032050, HORVU2Hr1G016160, HORVU2Hr1G016220, HORVU2Hr1G073620, HORVU2Hr1G055880, HORVU2Hr1G056850, HORVU2Hr1G026300, HORVU2Hr1G050830, HORVU2Hr1G127030, HORVU2Hr1G019750, HORVU2Hr1G057230, HORVU2Hr1G027100, HORVU2Hr1G059590, HORVU2Hr1G051710, HORVU2Hr1G055660, HORVU2Hr1G078940, HORVU2Hr1G060470, HORVU2Hr1G082290, HORVU2Hr1G127040, HORVU2Hr1G048780, HORVU2Hr1G072510, HORVU2Hr1G055670, HORVU2Hr1G051720, HORVU2Hr1G049810, HORVU2Hr1G059290, HORVU2Hr1G063970, HORVU2Hr1G054010, HORVU2Hr1G026290, HORVU2Hr1G047570, HORVU2Hr1G054990, HORVU2Hr1G034820, HORVU2Hr1G075560, HORVU2Hr1G029650, HORVU2Hr1G016150, HORVU2Hr1G127020, HORVU2Hr1G072520, HORVU2Hr1G027110, HORVU2Hr1G052470 | Zm00001d007917                                                                                                                                                                                                                                                                                                                                                                                                                                                                                                                                                                                 |\n",
       "| N0.HOG0000001 | OG0000001 | n0 | NA                                                    | HORVU2Hr1G042650, HORVU2Hr1G050240, HORVU2Hr1G031550, HORVU2Hr1G031530                                                                                                                                                                                                                                                                                                                                                                                                                                                                                                                                                                                                                                                                         | Zm00001d006241, Zm00001d005991, Zm00001d006187, Zm00001d005363, Zm00001d003819, Zm00001d005166, Zm00001d004067, Zm00001d006695, Zm00001d002666, Zm00001d004347, Zm00001d004872, Zm00001d007023, Zm00001d007221, Zm00001d006074, Zm00001d002805, Zm00001d007537, Zm00001d003740, Zm00001d006849, Zm00001d002299, Zm00001d005805, Zm00001d004747, Zm00001d005840, Zm00001d007637, Zm00001d003578, Zm00001d006675, Zm00001d004912, Zm00001d001920, Zm00001d002637, Zm00001d006863, Zm00001d001921, Zm00001d004359, Zm00001d007964, Zm00001d005518, Zm00001d007562, Zm00001d003825, Zm00001d007563 |\n",
       "| N0.HOG0000002 | OG0000002 | n0 | AT2G11035, AT2G02520                                  | HORVU2Hr1G043320, HORVU2Hr1G113600, HORVU2Hr1G079320, HORVU2Hr1G059130, HORVU2Hr1G059280, HORVU2Hr1G067230, HORVU2Hr1G042730, HORVU2Hr1G026310, HORVU2Hr1G023890, HORVU2Hr1G057810, HORVU2Hr1G049770, HORVU2Hr1G081150, HORVU2Hr1G043140, HORVU2Hr1G063980, HORVU2Hr1G088300, HORVU2Hr1G056860, HORVU2Hr1G067190, HORVU2Hr1G088890, HORVU2Hr1G107730, HORVU2Hr1G055650, HORVU2Hr1G051700, HORVU2Hr1G102420, HORVU2Hr1G027090, HORVU2Hr1G083180, HORVU2Hr1G083210, HORVU2Hr1G044300, HORVU2Hr1G048790, HORVU2Hr1G017710, HORVU2Hr1G056080, HORVU2Hr1G097090, HORVU2Hr1G024690, HORVU2Hr1G038660, HORVU2Hr1G124520                                                                                                                               | NA                                                                                                                                                                                                                                                                                                                                                                                                                                                                                                                                                                                             |\n",
       "| N0.HOG0000003 | OG0000003 | n0 | NA                                                    | HORVU2Hr1G033290, HORVU2Hr1G024470                                                                                                                                                                                                                                                                                                                                                                                                                                                                                                                                                                                                                                                                                                             | Zm00001d002634, Zm00001d006414, Zm00001d005541, Zm00001d002998, Zm00001d007210, Zm00001d005746, Zm00001d004084, Zm00001d005524, Zm00001d002635, Zm00001d006862, Zm00001d007521, Zm00001d001918, Zm00001d007551, Zm00001d005992, Zm00001d005365, Zm00001d006186, Zm00001d006239, Zm00001d006413, Zm00001d004065, Zm00001d006383, Zm00001d006087, Zm00001d007224, Zm00001d002804, Zm00001d006072, Zm00001d005258, Zm00001d007535                                                                                                                                                                 |\n",
       "| N0.HOG0000004 | OG0000004 | n1 | AT2G39620                                             | HORVU2Hr1G027440                                                                                                                                                                                                                                                                                                                                                                                                                                                                                                                                                                                                                                                                                                                               | Zm00001d004071                                                                                                                                                                                                                                                                                                                                                                                                                                                                                                                                                                                 |\n",
       "| N0.HOG0000005 | OG0000004 | n4 | AT2G03380, AT2G02750, AT2G37310, AT2G40720, AT2G04860 | NA                                                                                                                                                                                                                                                                                                                                                                                                                                                                                                                                                                                                                                                                                                                                             | Zm00001d007100                                                                                                                                                                                                                                                                                                                                                                                                                                                                                                                                                                                 |\n",
       "\n"
      ],
      "text/plain": [
       "  HOG           OG        Gene Tree Parent Clade\n",
       "1 N0.HOG0000000 OG0000000 n0                    \n",
       "2 N0.HOG0000001 OG0000001 n0                    \n",
       "3 N0.HOG0000002 OG0000002 n0                    \n",
       "4 N0.HOG0000003 OG0000003 n0                    \n",
       "5 N0.HOG0000004 OG0000004 n1                    \n",
       "6 N0.HOG0000005 OG0000004 n4                    \n",
       "  Arabidopsis_thaliana                                 \n",
       "1 NA                                                   \n",
       "2 NA                                                   \n",
       "3 AT2G11035, AT2G02520                                 \n",
       "4 NA                                                   \n",
       "5 AT2G39620                                            \n",
       "6 AT2G03380, AT2G02750, AT2G37310, AT2G40720, AT2G04860\n",
       "  Hordeum_vulgare                                                                                                                                                                                                                                                                                                                                                                                                                                                                                                                                                                                                                                                                                                                               \n",
       "1 HORVU2Hr1G079310, HORVU2Hr1G018660, HORVU2Hr1G032050, HORVU2Hr1G016160, HORVU2Hr1G016220, HORVU2Hr1G073620, HORVU2Hr1G055880, HORVU2Hr1G056850, HORVU2Hr1G026300, HORVU2Hr1G050830, HORVU2Hr1G127030, HORVU2Hr1G019750, HORVU2Hr1G057230, HORVU2Hr1G027100, HORVU2Hr1G059590, HORVU2Hr1G051710, HORVU2Hr1G055660, HORVU2Hr1G078940, HORVU2Hr1G060470, HORVU2Hr1G082290, HORVU2Hr1G127040, HORVU2Hr1G048780, HORVU2Hr1G072510, HORVU2Hr1G055670, HORVU2Hr1G051720, HORVU2Hr1G049810, HORVU2Hr1G059290, HORVU2Hr1G063970, HORVU2Hr1G054010, HORVU2Hr1G026290, HORVU2Hr1G047570, HORVU2Hr1G054990, HORVU2Hr1G034820, HORVU2Hr1G075560, HORVU2Hr1G029650, HORVU2Hr1G016150, HORVU2Hr1G127020, HORVU2Hr1G072520, HORVU2Hr1G027110, HORVU2Hr1G052470\n",
       "2 HORVU2Hr1G042650, HORVU2Hr1G050240, HORVU2Hr1G031550, HORVU2Hr1G031530                                                                                                                                                                                                                                                                                                                                                                                                                                                                                                                                                                                                                                                                        \n",
       "3 HORVU2Hr1G043320, HORVU2Hr1G113600, HORVU2Hr1G079320, HORVU2Hr1G059130, HORVU2Hr1G059280, HORVU2Hr1G067230, HORVU2Hr1G042730, HORVU2Hr1G026310, HORVU2Hr1G023890, HORVU2Hr1G057810, HORVU2Hr1G049770, HORVU2Hr1G081150, HORVU2Hr1G043140, HORVU2Hr1G063980, HORVU2Hr1G088300, HORVU2Hr1G056860, HORVU2Hr1G067190, HORVU2Hr1G088890, HORVU2Hr1G107730, HORVU2Hr1G055650, HORVU2Hr1G051700, HORVU2Hr1G102420, HORVU2Hr1G027090, HORVU2Hr1G083180, HORVU2Hr1G083210, HORVU2Hr1G044300, HORVU2Hr1G048790, HORVU2Hr1G017710, HORVU2Hr1G056080, HORVU2Hr1G097090, HORVU2Hr1G024690, HORVU2Hr1G038660, HORVU2Hr1G124520                                                                                                                              \n",
       "4 HORVU2Hr1G033290, HORVU2Hr1G024470                                                                                                                                                                                                                                                                                                                                                                                                                                                                                                                                                                                                                                                                                                            \n",
       "5 HORVU2Hr1G027440                                                                                                                                                                                                                                                                                                                                                                                                                                                                                                                                                                                                                                                                                                                              \n",
       "6 NA                                                                                                                                                                                                                                                                                                                                                                                                                                                                                                                                                                                                                                                                                                                                            \n",
       "  Zea_mays                                                                                                                                                                                                                                                                                                                                                                                                                                                                                                                                                                                      \n",
       "1 Zm00001d007917                                                                                                                                                                                                                                                                                                                                                                                                                                                                                                                                                                                \n",
       "2 Zm00001d006241, Zm00001d005991, Zm00001d006187, Zm00001d005363, Zm00001d003819, Zm00001d005166, Zm00001d004067, Zm00001d006695, Zm00001d002666, Zm00001d004347, Zm00001d004872, Zm00001d007023, Zm00001d007221, Zm00001d006074, Zm00001d002805, Zm00001d007537, Zm00001d003740, Zm00001d006849, Zm00001d002299, Zm00001d005805, Zm00001d004747, Zm00001d005840, Zm00001d007637, Zm00001d003578, Zm00001d006675, Zm00001d004912, Zm00001d001920, Zm00001d002637, Zm00001d006863, Zm00001d001921, Zm00001d004359, Zm00001d007964, Zm00001d005518, Zm00001d007562, Zm00001d003825, Zm00001d007563\n",
       "3 NA                                                                                                                                                                                                                                                                                                                                                                                                                                                                                                                                                                                            \n",
       "4 Zm00001d002634, Zm00001d006414, Zm00001d005541, Zm00001d002998, Zm00001d007210, Zm00001d005746, Zm00001d004084, Zm00001d005524, Zm00001d002635, Zm00001d006862, Zm00001d007521, Zm00001d001918, Zm00001d007551, Zm00001d005992, Zm00001d005365, Zm00001d006186, Zm00001d006239, Zm00001d006413, Zm00001d004065, Zm00001d006383, Zm00001d006087, Zm00001d007224, Zm00001d002804, Zm00001d006072, Zm00001d005258, Zm00001d007535                                                                                                                                                                \n",
       "5 Zm00001d004071                                                                                                                                                                                                                                                                                                                                                                                                                                                                                                                                                                                \n",
       "6 Zm00001d007100                                                                                                                                                                                                                                                                                                                                                                                                                                                                                                                                                                                "
      ]
     },
     "metadata": {},
     "output_type": "display_data"
    }
   ],
   "source": [
    "head(HOG_df)\n",
    "head(ph_orthogroups)"
   ]
  },
  {
   "cell_type": "code",
   "execution_count": 12,
   "metadata": {
    "tags": []
   },
   "outputs": [
    {
     "data": {
      "text/html": [
       "<table class=\"dataframe\">\n",
       "<caption>A tibble: 1 × 4</caption>\n",
       "<thead>\n",
       "\t<tr><th scope=col>HOG</th><th scope=col>Zea_mays</th><th scope=col>Hordeum_vulgare</th><th scope=col>Arabidopsis_thaliana</th></tr>\n",
       "\t<tr><th scope=col>&lt;chr&gt;</th><th scope=col>&lt;dbl&gt;</th><th scope=col>&lt;dbl&gt;</th><th scope=col>&lt;dbl&gt;</th></tr>\n",
       "</thead>\n",
       "<tbody>\n",
       "\t<tr><td>N0.HOG0000783</td><td>0</td><td>16</td><td>0</td></tr>\n",
       "</tbody>\n",
       "</table>\n"
      ],
      "text/latex": [
       "A tibble: 1 × 4\n",
       "\\begin{tabular}{llll}\n",
       " HOG & Zea\\_mays & Hordeum\\_vulgare & Arabidopsis\\_thaliana\\\\\n",
       " <chr> & <dbl> & <dbl> & <dbl>\\\\\n",
       "\\hline\n",
       "\t N0.HOG0000783 & 0 & 16 & 0\\\\\n",
       "\\end{tabular}\n"
      ],
      "text/markdown": [
       "\n",
       "A tibble: 1 × 4\n",
       "\n",
       "| HOG &lt;chr&gt; | Zea_mays &lt;dbl&gt; | Hordeum_vulgare &lt;dbl&gt; | Arabidopsis_thaliana &lt;dbl&gt; |\n",
       "|---|---|---|---|\n",
       "| N0.HOG0000783 | 0 | 16 | 0 |\n",
       "\n"
      ],
      "text/plain": [
       "  HOG           Zea_mays Hordeum_vulgare Arabidopsis_thaliana\n",
       "1 N0.HOG0000783 0        16              0                   "
      ]
     },
     "metadata": {},
     "output_type": "display_data"
    },
    {
     "data": {
      "text/html": [
       "<table class=\"dataframe\">\n",
       "<caption>A tibble: 1 × 4</caption>\n",
       "<thead>\n",
       "\t<tr><th scope=col>HOG</th><th scope=col>Zea_mays</th><th scope=col>Hordeum_vulgare</th><th scope=col>Arabidopsis_thaliana</th></tr>\n",
       "\t<tr><th scope=col>&lt;chr&gt;</th><th scope=col>&lt;dbl&gt;</th><th scope=col>&lt;dbl&gt;</th><th scope=col>&lt;dbl&gt;</th></tr>\n",
       "</thead>\n",
       "<tbody>\n",
       "\t<tr><td>N0.HOG0000027</td><td>0</td><td>56</td><td>1</td></tr>\n",
       "</tbody>\n",
       "</table>\n"
      ],
      "text/latex": [
       "A tibble: 1 × 4\n",
       "\\begin{tabular}{llll}\n",
       " HOG & Zea\\_mays & Hordeum\\_vulgare & Arabidopsis\\_thaliana\\\\\n",
       " <chr> & <dbl> & <dbl> & <dbl>\\\\\n",
       "\\hline\n",
       "\t N0.HOG0000027 & 0 & 56 & 1\\\\\n",
       "\\end{tabular}\n"
      ],
      "text/markdown": [
       "\n",
       "A tibble: 1 × 4\n",
       "\n",
       "| HOG &lt;chr&gt; | Zea_mays &lt;dbl&gt; | Hordeum_vulgare &lt;dbl&gt; | Arabidopsis_thaliana &lt;dbl&gt; |\n",
       "|---|---|---|---|\n",
       "| N0.HOG0000027 | 0 | 56 | 1 |\n",
       "\n"
      ],
      "text/plain": [
       "  HOG           Zea_mays Hordeum_vulgare Arabidopsis_thaliana\n",
       "1 N0.HOG0000027 0        56              1                   "
      ]
     },
     "metadata": {},
     "output_type": "display_data"
    }
   ],
   "source": [
    "#head(my_tibble)\n",
    "#tail(my_tibble)\n",
    "#expanded_HOGs\n",
    "#head(ph_orthogroups[])\n",
    "HOG_tibble_complete[HOG_tibble_complete$HOG==\"N0.HOG0000783\",]\n",
    "HOG_tibble_complete[HOG_tibble_complete$HOG==\"N0.HOG0000027\",]"
   ]
  },
  {
   "cell_type": "code",
   "execution_count": null,
   "metadata": {},
   "outputs": [],
   "source": [
    "# function has to reduce input dataset; this way each iteration (compared species) is included\n",
    "# for all compared species first check for each HOG if expanded species is >= 3* \n",
    "# then keep rows in which expanded species has at least 3\n",
    "# since 3*1 = 3, we can simply choose to keep all rows with at least 3 in expanded_in since this \n",
    "## is performed after the other filtering ;D\n",
    "# this we should talk about... how to deal with 0 cases\n",
    "# in any case having this as user input shoud be the goal\n",
    "# with addition of the outer t loop now we can also have multiple expansion species ;D\n",
    "\n",
    "#for (i in c_t_species) {\n",
    "#        HOG_tibble <- HOG_tibble %>% dplyr::filter(get(expanded_in) >= 3*(get(i)))\n",
    "#        HOG_tibble <- HOG_tibble %>% dplyr::filter(get(expanded_in) >= 3)\n",
    "#        expanded_HOGs <- HOG_tibble\n",
    "#    }\n",
    "\n",
    "#for (t in expanded_in) {\n",
    "#for (i in c_t_species) {\n",
    "#        HOG_tibble <- HOG_tibble %>% dplyr::filter(get(expanded_in) >= expansion_factor*(get(i)))\n",
    "#        HOG_tibble <- HOG_tibble %>% dplyr::filter(get(expanded_in) >= expansion_factor)\n",
    "#    # this line will remove all HOGs with 0 cases in BOTH compared species\n",
    "#    # this means, that for now, a multispecies comparison demands that\n",
    "#    # for all compared_to species at least 1 gene has to be in the HOG!\n",
    "#        HOG_tibble <- HOG_tibble %>% dplyr::filter(get(i) > 0)\n",
    "#        expanded_HOGs <- HOG_tibble\n",
    "#    }\n",
    "#    }"
   ]
  },
  {
   "cell_type": "code",
   "execution_count": 19,
   "metadata": {
    "tags": []
   },
   "outputs": [],
   "source": [
    "#sessionInfo() "
   ]
  },
  {
   "cell_type": "markdown",
   "metadata": {
    "jupyter": {
     "source_hidden": true
    },
    "tags": []
   },
   "source": [
    "R version 4.1.0 (2021-05-18)\n",
    "Platform: x86_64-conda-linux-gnu (64-bit)\n",
    "Running under: Ubuntu 20.04.2 LTS\n",
    "\n",
    "Matrix products: default\n",
    "BLAS/LAPACK: /data/home/stoecker/miniconda3/lib/libopenblasp-r0.3.15.so\n",
    "\n",
    "locale:\n",
    " [1] LC_CTYPE=C.UTF-8       LC_NUMERIC=C           LC_TIME=C.UTF-8       \n",
    " [4] LC_COLLATE=C.UTF-8     LC_MONETARY=C.UTF-8    LC_MESSAGES=C.UTF-8   \n",
    " [7] LC_PAPER=C.UTF-8       LC_NAME=C              LC_ADDRESS=C          \n",
    "[10] LC_TELEPHONE=C         LC_MEASUREMENT=C.UTF-8 LC_IDENTIFICATION=C   \n",
    "\n",
    "attached base packages:\n",
    "[1] stats     graphics  grDevices utils     datasets  methods   base     \n",
    "\n",
    "other attached packages:\n",
    "[1] tibble_3.1.2  tidyr_1.1.3   stringr_1.4.0 dplyr_1.0.7   plyr_1.8.6   \n",
    "[6] readr_1.4.0  \n",
    "\n",
    "loaded via a namespace (and not attached):\n",
    " [1] Rcpp_1.0.7        pillar_1.6.1      compiler_4.1.0    base64enc_0.1-3  \n",
    " [5] tools_4.1.0       digest_0.6.27     uuid_0.1-4        jsonlite_1.7.2   \n",
    " [9] evaluate_0.14     lifecycle_1.0.0   pkgconfig_2.0.3   rlang_0.4.11     \n",
    "[13] IRdisplay_1.0     DBI_1.1.1         cli_2.5.0         rstudioapi_0.13  \n",
    "[17] IRkernel_1.2      repr_1.1.3        generics_0.1.0    vctrs_0.3.8      \n",
    "[21] hms_1.1.0         tidyselect_1.1.1  glue_1.4.2        R6_2.5.0         \n",
    "[25] fansi_0.5.0       pbdZMQ_0.3-5      purrr_0.3.4       magrittr_2.0.1   \n",
    "[29] ps_1.6.0          ellipsis_0.3.2    htmltools_0.5.1.1 assertthat_0.2.1 \n",
    "[33] utf8_1.2.1        stringi_1.7.3     crayon_1.4.1    "
   ]
  },
  {
   "cell_type": "code",
   "execution_count": 20,
   "metadata": {},
   "outputs": [
    {
     "ename": "ERROR",
     "evalue": "Error in eval(expr, envir, enclos): object 'hypotheses_table' not found\n",
     "output_type": "error",
     "traceback": [
      "Error in eval(expr, envir, enclos): object 'hypotheses_table' not found\nTraceback:\n"
     ]
    }
   ],
   "source": [
    "hypotheses_table"
   ]
  },
  {
   "cell_type": "code",
   "execution_count": 13,
   "metadata": {
    "scrolled": true
   },
   "outputs": [
    {
     "data": {
      "text/html": [
       "<table class=\"dataframe\">\n",
       "<caption>A tibble: 30 × 6</caption>\n",
       "<thead>\n",
       "\t<tr><th scope=col>HOG</th><th scope=col>Zea_mays</th><th scope=col>Hordeum_vulgare</th><th scope=col>Arabidopsis_thaliana</th><th scope=col>exp_counter_Zea_mays</th><th scope=col>exp_counter_Hordeum_vulgare</th></tr>\n",
       "\t<tr><th scope=col>&lt;chr&gt;</th><th scope=col>&lt;dbl&gt;</th><th scope=col>&lt;dbl&gt;</th><th scope=col>&lt;dbl&gt;</th><th scope=col>&lt;dbl&gt;</th><th scope=col>&lt;dbl&gt;</th></tr>\n",
       "</thead>\n",
       "<tbody>\n",
       "\t<tr><td>N0.HOG0000011</td><td> 1</td><td>64</td><td> 3</td><td>0</td><td>1</td></tr>\n",
       "\t<tr><td>N0.HOG0000027</td><td> 0</td><td>56</td><td> 1</td><td>0</td><td>1</td></tr>\n",
       "\t<tr><td>N0.HOG0000037</td><td> 2</td><td> 4</td><td> 2</td><td>0</td><td>1</td></tr>\n",
       "\t<tr><td>N0.HOG0000038</td><td> 7</td><td>16</td><td> 4</td><td>0</td><td>1</td></tr>\n",
       "\t<tr><td>N0.HOG0000047</td><td> 0</td><td>46</td><td> 3</td><td>0</td><td>1</td></tr>\n",
       "\t<tr><td>N0.HOG0000049</td><td>33</td><td>14</td><td> 1</td><td>1</td><td>1</td></tr>\n",
       "\t<tr><td>N0.HOG0000054</td><td> 0</td><td>45</td><td> 1</td><td>0</td><td>1</td></tr>\n",
       "\t<tr><td>N0.HOG0000061</td><td> 1</td><td>42</td><td> 1</td><td>0</td><td>1</td></tr>\n",
       "\t<tr><td>N0.HOG0000075</td><td> 1</td><td>22</td><td>11</td><td>0</td><td>1</td></tr>\n",
       "\t<tr><td>N0.HOG0000076</td><td>14</td><td>25</td><td> 3</td><td>1</td><td>1</td></tr>\n",
       "\t<tr><td>N0.HOG0000083</td><td> 7</td><td>30</td><td> 4</td><td>0</td><td>1</td></tr>\n",
       "\t<tr><td>N0.HOG0000086</td><td> 4</td><td>31</td><td> 5</td><td>0</td><td>1</td></tr>\n",
       "\t<tr><td>N0.HOG0000087</td><td> 0</td><td>39</td><td> 1</td><td>0</td><td>1</td></tr>\n",
       "\t<tr><td>N0.HOG0000089</td><td> 3</td><td>34</td><td> 3</td><td>0</td><td>1</td></tr>\n",
       "\t<tr><td>N0.HOG0000097</td><td> 4</td><td>34</td><td> 1</td><td>1</td><td>1</td></tr>\n",
       "\t<tr><td>N0.HOG0000109</td><td> 0</td><td> 3</td><td> 1</td><td>0</td><td>1</td></tr>\n",
       "\t<tr><td>N0.HOG0000110</td><td> 1</td><td>30</td><td> 2</td><td>0</td><td>1</td></tr>\n",
       "\t<tr><td>N0.HOG0000111</td><td> 1</td><td>35</td><td> 1</td><td>0</td><td>1</td></tr>\n",
       "\t<tr><td>N0.HOG0000130</td><td> 6</td><td>23</td><td> 5</td><td>0</td><td>1</td></tr>\n",
       "\t<tr><td>N0.HOG0000145</td><td> 0</td><td>32</td><td> 1</td><td>0</td><td>1</td></tr>\n",
       "\t<tr><td>N0.HOG0000146</td><td>17</td><td>15</td><td> 1</td><td>1</td><td>1</td></tr>\n",
       "\t<tr><td>N0.HOG0000156</td><td> 1</td><td>28</td><td> 3</td><td>0</td><td>1</td></tr>\n",
       "\t<tr><td>N0.HOG0000157</td><td> 0</td><td>29</td><td> 3</td><td>0</td><td>1</td></tr>\n",
       "\t<tr><td>N0.HOG0000158</td><td> 5</td><td>24</td><td> 3</td><td>0</td><td>1</td></tr>\n",
       "\t<tr><td>N0.HOG0000170</td><td> 1</td><td>29</td><td> 1</td><td>0</td><td>1</td></tr>\n",
       "\t<tr><td>N0.HOG0000171</td><td>23</td><td> 7</td><td> 1</td><td>1</td><td>1</td></tr>\n",
       "\t<tr><td>N0.HOG0000173</td><td> 0</td><td>30</td><td> 1</td><td>0</td><td>1</td></tr>\n",
       "\t<tr><td>N0.HOG0000174</td><td>14</td><td>14</td><td> 3</td><td>1</td><td>1</td></tr>\n",
       "\t<tr><td>N0.HOG0000184</td><td> 1</td><td>28</td><td> 1</td><td>0</td><td>1</td></tr>\n",
       "\t<tr><td>N0.HOG0000185</td><td> 4</td><td>24</td><td> 2</td><td>1</td><td>1</td></tr>\n",
       "</tbody>\n",
       "</table>\n"
      ],
      "text/latex": [
       "A tibble: 30 × 6\n",
       "\\begin{tabular}{llllll}\n",
       " HOG & Zea\\_mays & Hordeum\\_vulgare & Arabidopsis\\_thaliana & exp\\_counter\\_Zea\\_mays & exp\\_counter\\_Hordeum\\_vulgare\\\\\n",
       " <chr> & <dbl> & <dbl> & <dbl> & <dbl> & <dbl>\\\\\n",
       "\\hline\n",
       "\t N0.HOG0000011 &  1 & 64 &  3 & 0 & 1\\\\\n",
       "\t N0.HOG0000027 &  0 & 56 &  1 & 0 & 1\\\\\n",
       "\t N0.HOG0000037 &  2 &  4 &  2 & 0 & 1\\\\\n",
       "\t N0.HOG0000038 &  7 & 16 &  4 & 0 & 1\\\\\n",
       "\t N0.HOG0000047 &  0 & 46 &  3 & 0 & 1\\\\\n",
       "\t N0.HOG0000049 & 33 & 14 &  1 & 1 & 1\\\\\n",
       "\t N0.HOG0000054 &  0 & 45 &  1 & 0 & 1\\\\\n",
       "\t N0.HOG0000061 &  1 & 42 &  1 & 0 & 1\\\\\n",
       "\t N0.HOG0000075 &  1 & 22 & 11 & 0 & 1\\\\\n",
       "\t N0.HOG0000076 & 14 & 25 &  3 & 1 & 1\\\\\n",
       "\t N0.HOG0000083 &  7 & 30 &  4 & 0 & 1\\\\\n",
       "\t N0.HOG0000086 &  4 & 31 &  5 & 0 & 1\\\\\n",
       "\t N0.HOG0000087 &  0 & 39 &  1 & 0 & 1\\\\\n",
       "\t N0.HOG0000089 &  3 & 34 &  3 & 0 & 1\\\\\n",
       "\t N0.HOG0000097 &  4 & 34 &  1 & 1 & 1\\\\\n",
       "\t N0.HOG0000109 &  0 &  3 &  1 & 0 & 1\\\\\n",
       "\t N0.HOG0000110 &  1 & 30 &  2 & 0 & 1\\\\\n",
       "\t N0.HOG0000111 &  1 & 35 &  1 & 0 & 1\\\\\n",
       "\t N0.HOG0000130 &  6 & 23 &  5 & 0 & 1\\\\\n",
       "\t N0.HOG0000145 &  0 & 32 &  1 & 0 & 1\\\\\n",
       "\t N0.HOG0000146 & 17 & 15 &  1 & 1 & 1\\\\\n",
       "\t N0.HOG0000156 &  1 & 28 &  3 & 0 & 1\\\\\n",
       "\t N0.HOG0000157 &  0 & 29 &  3 & 0 & 1\\\\\n",
       "\t N0.HOG0000158 &  5 & 24 &  3 & 0 & 1\\\\\n",
       "\t N0.HOG0000170 &  1 & 29 &  1 & 0 & 1\\\\\n",
       "\t N0.HOG0000171 & 23 &  7 &  1 & 1 & 1\\\\\n",
       "\t N0.HOG0000173 &  0 & 30 &  1 & 0 & 1\\\\\n",
       "\t N0.HOG0000174 & 14 & 14 &  3 & 1 & 1\\\\\n",
       "\t N0.HOG0000184 &  1 & 28 &  1 & 0 & 1\\\\\n",
       "\t N0.HOG0000185 &  4 & 24 &  2 & 1 & 1\\\\\n",
       "\\end{tabular}\n"
      ],
      "text/markdown": [
       "\n",
       "A tibble: 30 × 6\n",
       "\n",
       "| HOG &lt;chr&gt; | Zea_mays &lt;dbl&gt; | Hordeum_vulgare &lt;dbl&gt; | Arabidopsis_thaliana &lt;dbl&gt; | exp_counter_Zea_mays &lt;dbl&gt; | exp_counter_Hordeum_vulgare &lt;dbl&gt; |\n",
       "|---|---|---|---|---|---|\n",
       "| N0.HOG0000011 |  1 | 64 |  3 | 0 | 1 |\n",
       "| N0.HOG0000027 |  0 | 56 |  1 | 0 | 1 |\n",
       "| N0.HOG0000037 |  2 |  4 |  2 | 0 | 1 |\n",
       "| N0.HOG0000038 |  7 | 16 |  4 | 0 | 1 |\n",
       "| N0.HOG0000047 |  0 | 46 |  3 | 0 | 1 |\n",
       "| N0.HOG0000049 | 33 | 14 |  1 | 1 | 1 |\n",
       "| N0.HOG0000054 |  0 | 45 |  1 | 0 | 1 |\n",
       "| N0.HOG0000061 |  1 | 42 |  1 | 0 | 1 |\n",
       "| N0.HOG0000075 |  1 | 22 | 11 | 0 | 1 |\n",
       "| N0.HOG0000076 | 14 | 25 |  3 | 1 | 1 |\n",
       "| N0.HOG0000083 |  7 | 30 |  4 | 0 | 1 |\n",
       "| N0.HOG0000086 |  4 | 31 |  5 | 0 | 1 |\n",
       "| N0.HOG0000087 |  0 | 39 |  1 | 0 | 1 |\n",
       "| N0.HOG0000089 |  3 | 34 |  3 | 0 | 1 |\n",
       "| N0.HOG0000097 |  4 | 34 |  1 | 1 | 1 |\n",
       "| N0.HOG0000109 |  0 |  3 |  1 | 0 | 1 |\n",
       "| N0.HOG0000110 |  1 | 30 |  2 | 0 | 1 |\n",
       "| N0.HOG0000111 |  1 | 35 |  1 | 0 | 1 |\n",
       "| N0.HOG0000130 |  6 | 23 |  5 | 0 | 1 |\n",
       "| N0.HOG0000145 |  0 | 32 |  1 | 0 | 1 |\n",
       "| N0.HOG0000146 | 17 | 15 |  1 | 1 | 1 |\n",
       "| N0.HOG0000156 |  1 | 28 |  3 | 0 | 1 |\n",
       "| N0.HOG0000157 |  0 | 29 |  3 | 0 | 1 |\n",
       "| N0.HOG0000158 |  5 | 24 |  3 | 0 | 1 |\n",
       "| N0.HOG0000170 |  1 | 29 |  1 | 0 | 1 |\n",
       "| N0.HOG0000171 | 23 |  7 |  1 | 1 | 1 |\n",
       "| N0.HOG0000173 |  0 | 30 |  1 | 0 | 1 |\n",
       "| N0.HOG0000174 | 14 | 14 |  3 | 1 | 1 |\n",
       "| N0.HOG0000184 |  1 | 28 |  1 | 0 | 1 |\n",
       "| N0.HOG0000185 |  4 | 24 |  2 | 1 | 1 |\n",
       "\n"
      ],
      "text/plain": [
       "   HOG           Zea_mays Hordeum_vulgare Arabidopsis_thaliana\n",
       "1  N0.HOG0000011  1       64               3                  \n",
       "2  N0.HOG0000027  0       56               1                  \n",
       "3  N0.HOG0000037  2        4               2                  \n",
       "4  N0.HOG0000038  7       16               4                  \n",
       "5  N0.HOG0000047  0       46               3                  \n",
       "6  N0.HOG0000049 33       14               1                  \n",
       "7  N0.HOG0000054  0       45               1                  \n",
       "8  N0.HOG0000061  1       42               1                  \n",
       "9  N0.HOG0000075  1       22              11                  \n",
       "10 N0.HOG0000076 14       25               3                  \n",
       "11 N0.HOG0000083  7       30               4                  \n",
       "12 N0.HOG0000086  4       31               5                  \n",
       "13 N0.HOG0000087  0       39               1                  \n",
       "14 N0.HOG0000089  3       34               3                  \n",
       "15 N0.HOG0000097  4       34               1                  \n",
       "16 N0.HOG0000109  0        3               1                  \n",
       "17 N0.HOG0000110  1       30               2                  \n",
       "18 N0.HOG0000111  1       35               1                  \n",
       "19 N0.HOG0000130  6       23               5                  \n",
       "20 N0.HOG0000145  0       32               1                  \n",
       "21 N0.HOG0000146 17       15               1                  \n",
       "22 N0.HOG0000156  1       28               3                  \n",
       "23 N0.HOG0000157  0       29               3                  \n",
       "24 N0.HOG0000158  5       24               3                  \n",
       "25 N0.HOG0000170  1       29               1                  \n",
       "26 N0.HOG0000171 23        7               1                  \n",
       "27 N0.HOG0000173  0       30               1                  \n",
       "28 N0.HOG0000174 14       14               3                  \n",
       "29 N0.HOG0000184  1       28               1                  \n",
       "30 N0.HOG0000185  4       24               2                  \n",
       "   exp_counter_Zea_mays exp_counter_Hordeum_vulgare\n",
       "1  0                    1                          \n",
       "2  0                    1                          \n",
       "3  0                    1                          \n",
       "4  0                    1                          \n",
       "5  0                    1                          \n",
       "6  1                    1                          \n",
       "7  0                    1                          \n",
       "8  0                    1                          \n",
       "9  0                    1                          \n",
       "10 1                    1                          \n",
       "11 0                    1                          \n",
       "12 0                    1                          \n",
       "13 0                    1                          \n",
       "14 0                    1                          \n",
       "15 1                    1                          \n",
       "16 0                    1                          \n",
       "17 0                    1                          \n",
       "18 0                    1                          \n",
       "19 0                    1                          \n",
       "20 0                    1                          \n",
       "21 1                    1                          \n",
       "22 0                    1                          \n",
       "23 0                    1                          \n",
       "24 0                    1                          \n",
       "25 0                    1                          \n",
       "26 1                    1                          \n",
       "27 0                    1                          \n",
       "28 1                    1                          \n",
       "29 0                    1                          \n",
       "30 1                    1                          "
      ]
     },
     "metadata": {},
     "output_type": "display_data"
    },
    {
     "data": {
      "text/html": [
       "<table class=\"dataframe\">\n",
       "<caption>A tibble: 10 × 4</caption>\n",
       "<thead>\n",
       "\t<tr><th scope=col>HOG</th><th scope=col>Zea_mays</th><th scope=col>Hordeum_vulgare</th><th scope=col>Arabidopsis_thaliana</th></tr>\n",
       "\t<tr><th scope=col>&lt;chr&gt;</th><th scope=col>&lt;dbl&gt;</th><th scope=col>&lt;dbl&gt;</th><th scope=col>&lt;dbl&gt;</th></tr>\n",
       "</thead>\n",
       "<tbody>\n",
       "\t<tr><td>N0.HOG0000011</td><td> 1</td><td>64</td><td> 3</td></tr>\n",
       "\t<tr><td>N0.HOG0000037</td><td> 2</td><td> 4</td><td> 2</td></tr>\n",
       "\t<tr><td>N0.HOG0000038</td><td> 7</td><td>16</td><td> 4</td></tr>\n",
       "\t<tr><td>N0.HOG0000049</td><td>33</td><td>14</td><td> 1</td></tr>\n",
       "\t<tr><td>N0.HOG0000061</td><td> 1</td><td>42</td><td> 1</td></tr>\n",
       "\t<tr><td>N0.HOG0000075</td><td> 1</td><td>22</td><td>11</td></tr>\n",
       "\t<tr><td>N0.HOG0000076</td><td>14</td><td>25</td><td> 3</td></tr>\n",
       "\t<tr><td>N0.HOG0000083</td><td> 7</td><td>30</td><td> 4</td></tr>\n",
       "\t<tr><td>N0.HOG0000086</td><td> 4</td><td>31</td><td> 5</td></tr>\n",
       "\t<tr><td>N0.HOG0000089</td><td> 3</td><td>34</td><td> 3</td></tr>\n",
       "</tbody>\n",
       "</table>\n"
      ],
      "text/latex": [
       "A tibble: 10 × 4\n",
       "\\begin{tabular}{llll}\n",
       " HOG & Zea\\_mays & Hordeum\\_vulgare & Arabidopsis\\_thaliana\\\\\n",
       " <chr> & <dbl> & <dbl> & <dbl>\\\\\n",
       "\\hline\n",
       "\t N0.HOG0000011 &  1 & 64 &  3\\\\\n",
       "\t N0.HOG0000037 &  2 &  4 &  2\\\\\n",
       "\t N0.HOG0000038 &  7 & 16 &  4\\\\\n",
       "\t N0.HOG0000049 & 33 & 14 &  1\\\\\n",
       "\t N0.HOG0000061 &  1 & 42 &  1\\\\\n",
       "\t N0.HOG0000075 &  1 & 22 & 11\\\\\n",
       "\t N0.HOG0000076 & 14 & 25 &  3\\\\\n",
       "\t N0.HOG0000083 &  7 & 30 &  4\\\\\n",
       "\t N0.HOG0000086 &  4 & 31 &  5\\\\\n",
       "\t N0.HOG0000089 &  3 & 34 &  3\\\\\n",
       "\\end{tabular}\n"
      ],
      "text/markdown": [
       "\n",
       "A tibble: 10 × 4\n",
       "\n",
       "| HOG &lt;chr&gt; | Zea_mays &lt;dbl&gt; | Hordeum_vulgare &lt;dbl&gt; | Arabidopsis_thaliana &lt;dbl&gt; |\n",
       "|---|---|---|---|\n",
       "| N0.HOG0000011 |  1 | 64 |  3 |\n",
       "| N0.HOG0000037 |  2 |  4 |  2 |\n",
       "| N0.HOG0000038 |  7 | 16 |  4 |\n",
       "| N0.HOG0000049 | 33 | 14 |  1 |\n",
       "| N0.HOG0000061 |  1 | 42 |  1 |\n",
       "| N0.HOG0000075 |  1 | 22 | 11 |\n",
       "| N0.HOG0000076 | 14 | 25 |  3 |\n",
       "| N0.HOG0000083 |  7 | 30 |  4 |\n",
       "| N0.HOG0000086 |  4 | 31 |  5 |\n",
       "| N0.HOG0000089 |  3 | 34 |  3 |\n",
       "\n"
      ],
      "text/plain": [
       "   HOG           Zea_mays Hordeum_vulgare Arabidopsis_thaliana\n",
       "1  N0.HOG0000011  1       64               3                  \n",
       "2  N0.HOG0000037  2        4               2                  \n",
       "3  N0.HOG0000038  7       16               4                  \n",
       "4  N0.HOG0000049 33       14               1                  \n",
       "5  N0.HOG0000061  1       42               1                  \n",
       "6  N0.HOG0000075  1       22              11                  \n",
       "7  N0.HOG0000076 14       25               3                  \n",
       "8  N0.HOG0000083  7       30               4                  \n",
       "9  N0.HOG0000086  4       31               5                  \n",
       "10 N0.HOG0000089  3       34               3                  "
      ]
     },
     "metadata": {},
     "output_type": "display_data"
    },
    {
     "data": {
      "text/html": [
       "438"
      ],
      "text/latex": [
       "438"
      ],
      "text/markdown": [
       "438"
      ],
      "text/plain": [
       "[1] 438"
      ]
     },
     "metadata": {},
     "output_type": "display_data"
    }
   ],
   "source": [
    "HOG_tibble <- HOG_tibble_complete\n",
    "\n",
    "\n",
    "# read-in species.tsv - easy lookup of ploidy per species \n",
    "species_table <- read.delim(\"../config/species.tsv\", header = TRUE, sep = \"\\t\", row.names = \"species\")\n",
    "#species_table\n",
    "#species_table[expanded_in, \"ploidy\"]\n",
    "\n",
    "\n",
    "# via snakemake params - Nmin info for expanded/compared per HOG in hypothesis.tsv (hypothesis specific) are parsed \n",
    "# here read-in from table as example\n",
    "hypotheses_table <- read.delim(\"../config/hypotheses.tsv\", header = TRUE, sep = \"\\t\", row.names = \"hypothesis\")\n",
    "Nmin_expanded_in <- hypotheses_table[\"Nmin_expanded_in\",1]\n",
    "#Nmin_compared_to <- hypotheses_table[\"Nmin_compared_to\",1]\n",
    "Nmin_compared_to = 1\n",
    "\n",
    "# expansion factor also in hypotheses.tsv = hypothesis specific\n",
    "#expansion_factor <- as.numeric(hypotheses_table[\"min_expansion_factor\", 1])\n",
    "expansion_factor = 2\n",
    "\n",
    "expansion_difference = 6\n",
    "ploidy_normalization = \"NO\"\n",
    "\n",
    "for (e in expanded_in) {\n",
    "    # create expansion counter column for each expanded species\n",
    "    exp_species_name = paste0(\"exp_counter_\", e)\n",
    "    HOG_tibble <- HOG_tibble %>% tibble::add_column(!!(exp_species_name) := 0)\n",
    "\n",
    "    if (ploidy_normalization == \"YES\") {\n",
    "        for (c in c_t_species) {\n",
    "            HOG_tibble <- HOG_tibble %>% \n",
    "                            mutate(!!(exp_species_name) := \n",
    "                            dplyr::case_when(\n",
    "                                # although cases in which the ct species has no genes are ignored via \n",
    "                                # the multiplication in the 2nd step, this underlines that we do so\n",
    "                                # now with the second expansion distance criterium we should have it anyway\n",
    "                                get(c) > 0 &\n",
    "                                get(e)/species_table[e, \"ploidy\"]*2 >= expansion_factor*(get(c))/species_table[c, \"ploidy\"]*2 ~ get(exp_species_name) + 1,\n",
    "                                get(c) > 0 &\n",
    "                                get(e)/species_table[e, \"ploidy\"]*2 >= expansion_difference + (get(c))/species_table[c, \"ploidy\"]*2 ~ get(exp_species_name) + 1,\n",
    "                                TRUE ~ 0,\n",
    "                              )\n",
    "                        )  \n",
    "        }\n",
    "    }\n",
    "    #if the user did not set ploidy_normalization to \"YES\"\n",
    "    #here, no ploidy information is used to divide the number of genes per OG\n",
    "    else {\n",
    "        for (c in c_t_species) {\n",
    "            HOG_tibble <- HOG_tibble %>% \n",
    "                            mutate(!!(exp_species_name) := \n",
    "                            dplyr::case_when(\n",
    "                                get(c) > 0 &\n",
    "                                get(e) >= expansion_factor*(get(c)) ~ get(exp_species_name) + 1,\n",
    "                                get(c) > 0 &\n",
    "                                get(e) >= expansion_difference + get(c) ~ get(exp_species_name) + 1,\n",
    "                                TRUE ~ 0,\n",
    "                              )\n",
    "                        )\n",
    "        }\n",
    "    }\n",
    "       \n",
    "}\n",
    "\n",
    "\n",
    "HOG_tibble %>% \n",
    "  arrange(desc(exp_counter_Hordeum_vulgare)) %>% head(n=30)\n",
    "\n",
    "\n",
    "#print(HOG_tibble)\n",
    "\n",
    "# then perform summing over all exp_counter_ columns based on user choices\n",
    "# at least Nmin_expanded_in expanded species that are expanded in at least Nmin_compared_to compared_to species\n",
    "# create new column\n",
    "# for each exp_counter_* species check if value >= y\n",
    "# all passing exp_counter_* species are counted; if sum >= x retain HOG\n",
    "\n",
    "HOG_tibble <- HOG_tibble %>%\n",
    "  mutate(pass =\n",
    "    # selecting columns that we want to use use for subsequent function\n",
    "    select(., contains(\"exp_counter_\")) %>%\n",
    "    # use pmap on this subset to get a vector of min from each row\n",
    "    # dataframe is a list so pmap works on each element of the list; here, each row  \n",
    "    # we sum the occurences (per row!) of exp_counter_* cols that greater/equal to user cutoff \n",
    "    purrr::pmap_dbl(., ~ sum(c(...) >= Nmin_compared_to))\n",
    "  )\n",
    "\n",
    "\n",
    "# lastly, retain rows/HOGs that pass x cutoff = number of expanded species\n",
    "# & drop unnecessary columns\n",
    "HOG_tibble <- HOG_tibble %>%\n",
    "  filter(pass >= Nmin_expanded_in) %>%\n",
    "  select(-contains(\"exp_counter_\"), -pass)\n",
    "\n",
    "\n",
    "# additional optional filter1 - expanded_in gene family complete criterium\n",
    "expanded_in_genefam_complete = \"yes\"\n",
    "if (expanded_in_genefam_complete == \"yes\") {\n",
    "  HOG_tibble <- HOG_tibble %>%\n",
    "  # create column with per-row sum of expanded_in species that have at least 1 gene in the HOG\n",
    "  mutate(expanded_in_pass =\n",
    "    select(., contains(expanded_in)) %>%\n",
    "    purrr::pmap_dbl(., ~ sum(c(...) >= 1))\n",
    "  ) %>%\n",
    "  # only keep rows/HOGs in which at least 1 gene of each expanded_in species occurs\n",
    "  filter(expanded_in_pass >= length(expanded_in)) %>%\n",
    "  # remove expanded_in_pass column\n",
    "  select(-expanded_in_pass)\n",
    "}\n",
    "\n",
    "\n",
    "# additional optional filter2 - compared_to gene family complete criterium\n",
    "compared_to_genefam_complete = \"yes\"\n",
    "if (compared_to_genefam_complete == \"yes\") {\n",
    "  HOG_tibble <- HOG_tibble %>%\n",
    "  # create column with per-row sum of compared_to species that have at least 1 gene in the HOG\n",
    "  mutate(compared_to_pass =\n",
    "    select(., contains(compared_to)) %>%\n",
    "    purrr::pmap_dbl(., ~ sum(c(...) >= 1))\n",
    "  ) %>%\n",
    "  # only keep rows/HOGs in which at least 1 gene of each compared_to species occurs\n",
    "  filter(compared_to_pass >= length(compared_to)) %>%\n",
    "  # remove compared_to_pass column\n",
    "  select(-compared_to_pass)\n",
    "}\n",
    "\n",
    "\n",
    "expanded_HOGs <- HOG_tibble\n",
    "\n",
    "head(expanded_HOGs, n=10)\n",
    "nrow(expanded_HOGs)"
   ]
  },
  {
   "cell_type": "code",
   "execution_count": null,
   "metadata": {},
   "outputs": [],
   "source": []
  },
  {
   "cell_type": "code",
   "execution_count": 22,
   "metadata": {},
   "outputs": [
    {
     "data": {
      "text/html": [
       "<table class=\"dataframe\">\n",
       "<caption>A tibble: 0 × 4</caption>\n",
       "<thead>\n",
       "\t<tr><th scope=col>HOG</th><th scope=col>Zea_mays</th><th scope=col>Hordeum_vulgare</th><th scope=col>Arabidopsis_thaliana</th></tr>\n",
       "\t<tr><th scope=col>&lt;chr&gt;</th><th scope=col>&lt;dbl&gt;</th><th scope=col>&lt;dbl&gt;</th><th scope=col>&lt;dbl&gt;</th></tr>\n",
       "</thead>\n",
       "<tbody>\n",
       "</tbody>\n",
       "</table>\n"
      ],
      "text/latex": [
       "A tibble: 0 × 4\n",
       "\\begin{tabular}{llll}\n",
       " HOG & Zea\\_mays & Hordeum\\_vulgare & Arabidopsis\\_thaliana\\\\\n",
       " <chr> & <dbl> & <dbl> & <dbl>\\\\\n",
       "\\hline\n",
       "\\end{tabular}\n"
      ],
      "text/markdown": [
       "\n",
       "A tibble: 0 × 4\n",
       "\n",
       "| HOG &lt;chr&gt; | Zea_mays &lt;dbl&gt; | Hordeum_vulgare &lt;dbl&gt; | Arabidopsis_thaliana &lt;dbl&gt; |\n",
       "|---|---|---|---|\n",
       "\n"
      ],
      "text/plain": [
       "     HOG Zea_mays Hordeum_vulgare Arabidopsis_thaliana"
      ]
     },
     "metadata": {},
     "output_type": "display_data"
    }
   ],
   "source": [
    "expanded_HOGs[expanded_HOGs$HOG==\"N0.HOG0000027\",]"
   ]
  },
  {
   "cell_type": "code",
   "execution_count": 14,
   "metadata": {
    "scrolled": true,
    "tags": []
   },
   "outputs": [
    {
     "data": {
      "text/html": [
       "<table class=\"dataframe\">\n",
       "<caption>A tibble: 7656 × 5</caption>\n",
       "<thead>\n",
       "\t<tr><th scope=col>HOG</th><th scope=col>Zea_mays</th><th scope=col>Hordeum_vulgare</th><th scope=col>Arabidopsis_thaliana</th><th scope=col>expansion</th></tr>\n",
       "\t<tr><th scope=col>&lt;chr&gt;</th><th scope=col>&lt;dbl&gt;</th><th scope=col>&lt;dbl&gt;</th><th scope=col>&lt;dbl&gt;</th><th scope=col>&lt;chr&gt;</th></tr>\n",
       "</thead>\n",
       "<tbody>\n",
       "\t<tr><td>N0.HOG0000000</td><td>116</td><td>  0</td><td>0</td><td>no </td></tr>\n",
       "\t<tr><td>N0.HOG0000001</td><td>103</td><td>  0</td><td>1</td><td>no </td></tr>\n",
       "\t<tr><td>N0.HOG0000002</td><td>104</td><td>  0</td><td>0</td><td>no </td></tr>\n",
       "\t<tr><td>N0.HOG0000003</td><td>  0</td><td>100</td><td>0</td><td>no </td></tr>\n",
       "\t<tr><td>N0.HOG0000004</td><td>  0</td><td> 93</td><td>0</td><td>no </td></tr>\n",
       "\t<tr><td>N0.HOG0000005</td><td>  0</td><td> 81</td><td>0</td><td>no </td></tr>\n",
       "\t<tr><td>N0.HOG0000006</td><td> 81</td><td>  0</td><td>0</td><td>no </td></tr>\n",
       "\t<tr><td>N0.HOG0000007</td><td>  1</td><td> 79</td><td>0</td><td>no </td></tr>\n",
       "\t<tr><td>N0.HOG0000008</td><td>  0</td><td> 75</td><td>0</td><td>no </td></tr>\n",
       "\t<tr><td>N0.HOG0000009</td><td>  0</td><td> 71</td><td>0</td><td>no </td></tr>\n",
       "\t<tr><td>N0.HOG0000010</td><td>  0</td><td> 69</td><td>0</td><td>no </td></tr>\n",
       "\t<tr><td>N0.HOG0000011</td><td>  1</td><td> 64</td><td>3</td><td>yes</td></tr>\n",
       "\t<tr><td>N0.HOG0000012</td><td>  0</td><td> 68</td><td>0</td><td>no </td></tr>\n",
       "\t<tr><td>N0.HOG0000013</td><td> 64</td><td>  4</td><td>0</td><td>no </td></tr>\n",
       "\t<tr><td>N0.HOG0000014</td><td>  1</td><td> 66</td><td>0</td><td>no </td></tr>\n",
       "\t<tr><td>N0.HOG0000015</td><td>  0</td><td> 67</td><td>0</td><td>no </td></tr>\n",
       "\t<tr><td>N0.HOG0000016</td><td>  0</td><td> 65</td><td>0</td><td>no </td></tr>\n",
       "\t<tr><td>N0.HOG0000017</td><td> 62</td><td>  0</td><td>2</td><td>no </td></tr>\n",
       "\t<tr><td>N0.HOG0000018</td><td>  0</td><td> 61</td><td>0</td><td>no </td></tr>\n",
       "\t<tr><td>N0.HOG0000019</td><td>  1</td><td> 60</td><td>0</td><td>no </td></tr>\n",
       "\t<tr><td>N0.HOG0000020</td><td>  0</td><td> 61</td><td>0</td><td>no </td></tr>\n",
       "\t<tr><td>N0.HOG0000021</td><td> 60</td><td>  1</td><td>0</td><td>no </td></tr>\n",
       "\t<tr><td>N0.HOG0000022</td><td>  0</td><td> 60</td><td>0</td><td>no </td></tr>\n",
       "\t<tr><td>N0.HOG0000023</td><td>  0</td><td> 59</td><td>0</td><td>no </td></tr>\n",
       "\t<tr><td>N0.HOG0000024</td><td>  0</td><td> 58</td><td>0</td><td>no </td></tr>\n",
       "\t<tr><td>N0.HOG0000025</td><td>  0</td><td> 58</td><td>0</td><td>no </td></tr>\n",
       "\t<tr><td>N0.HOG0000026</td><td> 58</td><td>  0</td><td>0</td><td>no </td></tr>\n",
       "\t<tr><td>N0.HOG0000027</td><td>  0</td><td> 56</td><td>1</td><td>no </td></tr>\n",
       "\t<tr><td>N0.HOG0000028</td><td>  1</td><td> 56</td><td>0</td><td>no </td></tr>\n",
       "\t<tr><td>N0.HOG0000029</td><td>  0</td><td> 56</td><td>0</td><td>no </td></tr>\n",
       "\t<tr><td>⋮</td><td>⋮</td><td>⋮</td><td>⋮</td><td>⋮</td></tr>\n",
       "\t<tr><td>N0.HOG0007626</td><td>2</td><td>0</td><td>0</td><td>no</td></tr>\n",
       "\t<tr><td>N0.HOG0007627</td><td>2</td><td>0</td><td>0</td><td>no</td></tr>\n",
       "\t<tr><td>N0.HOG0007628</td><td>2</td><td>0</td><td>0</td><td>no</td></tr>\n",
       "\t<tr><td>N0.HOG0007629</td><td>2</td><td>0</td><td>0</td><td>no</td></tr>\n",
       "\t<tr><td>N0.HOG0007630</td><td>2</td><td>0</td><td>0</td><td>no</td></tr>\n",
       "\t<tr><td>N0.HOG0007631</td><td>2</td><td>0</td><td>0</td><td>no</td></tr>\n",
       "\t<tr><td>N0.HOG0007632</td><td>2</td><td>0</td><td>0</td><td>no</td></tr>\n",
       "\t<tr><td>N0.HOG0007633</td><td>2</td><td>0</td><td>0</td><td>no</td></tr>\n",
       "\t<tr><td>N0.HOG0007634</td><td>2</td><td>0</td><td>0</td><td>no</td></tr>\n",
       "\t<tr><td>N0.HOG0007635</td><td>2</td><td>0</td><td>0</td><td>no</td></tr>\n",
       "\t<tr><td>N0.HOG0007636</td><td>2</td><td>0</td><td>0</td><td>no</td></tr>\n",
       "\t<tr><td>N0.HOG0007637</td><td>2</td><td>0</td><td>0</td><td>no</td></tr>\n",
       "\t<tr><td>N0.HOG0007638</td><td>2</td><td>0</td><td>0</td><td>no</td></tr>\n",
       "\t<tr><td>N0.HOG0007639</td><td>2</td><td>0</td><td>0</td><td>no</td></tr>\n",
       "\t<tr><td>N0.HOG0007640</td><td>2</td><td>0</td><td>0</td><td>no</td></tr>\n",
       "\t<tr><td>N0.HOG0007641</td><td>2</td><td>0</td><td>0</td><td>no</td></tr>\n",
       "\t<tr><td>N0.HOG0007642</td><td>2</td><td>0</td><td>0</td><td>no</td></tr>\n",
       "\t<tr><td>N0.HOG0007643</td><td>2</td><td>0</td><td>0</td><td>no</td></tr>\n",
       "\t<tr><td>N0.HOG0007644</td><td>2</td><td>0</td><td>0</td><td>no</td></tr>\n",
       "\t<tr><td>N0.HOG0007645</td><td>2</td><td>0</td><td>0</td><td>no</td></tr>\n",
       "\t<tr><td>N0.HOG0007646</td><td>2</td><td>0</td><td>0</td><td>no</td></tr>\n",
       "\t<tr><td>N0.HOG0007647</td><td>2</td><td>0</td><td>0</td><td>no</td></tr>\n",
       "\t<tr><td>N0.HOG0007648</td><td>2</td><td>0</td><td>0</td><td>no</td></tr>\n",
       "\t<tr><td>N0.HOG0007649</td><td>2</td><td>0</td><td>0</td><td>no</td></tr>\n",
       "\t<tr><td>N0.HOG0007650</td><td>2</td><td>0</td><td>0</td><td>no</td></tr>\n",
       "\t<tr><td>N0.HOG0007651</td><td>2</td><td>0</td><td>0</td><td>no</td></tr>\n",
       "\t<tr><td>N0.HOG0007652</td><td>2</td><td>0</td><td>0</td><td>no</td></tr>\n",
       "\t<tr><td>N0.HOG0007653</td><td>2</td><td>0</td><td>0</td><td>no</td></tr>\n",
       "\t<tr><td>N0.HOG0007654</td><td>2</td><td>0</td><td>0</td><td>no</td></tr>\n",
       "\t<tr><td>N0.HOG0007655</td><td>2</td><td>0</td><td>0</td><td>no</td></tr>\n",
       "</tbody>\n",
       "</table>\n"
      ],
      "text/latex": [
       "A tibble: 7656 × 5\n",
       "\\begin{tabular}{lllll}\n",
       " HOG & Zea\\_mays & Hordeum\\_vulgare & Arabidopsis\\_thaliana & expansion\\\\\n",
       " <chr> & <dbl> & <dbl> & <dbl> & <chr>\\\\\n",
       "\\hline\n",
       "\t N0.HOG0000000 & 116 &   0 & 0 & no \\\\\n",
       "\t N0.HOG0000001 & 103 &   0 & 1 & no \\\\\n",
       "\t N0.HOG0000002 & 104 &   0 & 0 & no \\\\\n",
       "\t N0.HOG0000003 &   0 & 100 & 0 & no \\\\\n",
       "\t N0.HOG0000004 &   0 &  93 & 0 & no \\\\\n",
       "\t N0.HOG0000005 &   0 &  81 & 0 & no \\\\\n",
       "\t N0.HOG0000006 &  81 &   0 & 0 & no \\\\\n",
       "\t N0.HOG0000007 &   1 &  79 & 0 & no \\\\\n",
       "\t N0.HOG0000008 &   0 &  75 & 0 & no \\\\\n",
       "\t N0.HOG0000009 &   0 &  71 & 0 & no \\\\\n",
       "\t N0.HOG0000010 &   0 &  69 & 0 & no \\\\\n",
       "\t N0.HOG0000011 &   1 &  64 & 3 & yes\\\\\n",
       "\t N0.HOG0000012 &   0 &  68 & 0 & no \\\\\n",
       "\t N0.HOG0000013 &  64 &   4 & 0 & no \\\\\n",
       "\t N0.HOG0000014 &   1 &  66 & 0 & no \\\\\n",
       "\t N0.HOG0000015 &   0 &  67 & 0 & no \\\\\n",
       "\t N0.HOG0000016 &   0 &  65 & 0 & no \\\\\n",
       "\t N0.HOG0000017 &  62 &   0 & 2 & no \\\\\n",
       "\t N0.HOG0000018 &   0 &  61 & 0 & no \\\\\n",
       "\t N0.HOG0000019 &   1 &  60 & 0 & no \\\\\n",
       "\t N0.HOG0000020 &   0 &  61 & 0 & no \\\\\n",
       "\t N0.HOG0000021 &  60 &   1 & 0 & no \\\\\n",
       "\t N0.HOG0000022 &   0 &  60 & 0 & no \\\\\n",
       "\t N0.HOG0000023 &   0 &  59 & 0 & no \\\\\n",
       "\t N0.HOG0000024 &   0 &  58 & 0 & no \\\\\n",
       "\t N0.HOG0000025 &   0 &  58 & 0 & no \\\\\n",
       "\t N0.HOG0000026 &  58 &   0 & 0 & no \\\\\n",
       "\t N0.HOG0000027 &   0 &  56 & 1 & no \\\\\n",
       "\t N0.HOG0000028 &   1 &  56 & 0 & no \\\\\n",
       "\t N0.HOG0000029 &   0 &  56 & 0 & no \\\\\n",
       "\t ⋮ & ⋮ & ⋮ & ⋮ & ⋮\\\\\n",
       "\t N0.HOG0007626 & 2 & 0 & 0 & no\\\\\n",
       "\t N0.HOG0007627 & 2 & 0 & 0 & no\\\\\n",
       "\t N0.HOG0007628 & 2 & 0 & 0 & no\\\\\n",
       "\t N0.HOG0007629 & 2 & 0 & 0 & no\\\\\n",
       "\t N0.HOG0007630 & 2 & 0 & 0 & no\\\\\n",
       "\t N0.HOG0007631 & 2 & 0 & 0 & no\\\\\n",
       "\t N0.HOG0007632 & 2 & 0 & 0 & no\\\\\n",
       "\t N0.HOG0007633 & 2 & 0 & 0 & no\\\\\n",
       "\t N0.HOG0007634 & 2 & 0 & 0 & no\\\\\n",
       "\t N0.HOG0007635 & 2 & 0 & 0 & no\\\\\n",
       "\t N0.HOG0007636 & 2 & 0 & 0 & no\\\\\n",
       "\t N0.HOG0007637 & 2 & 0 & 0 & no\\\\\n",
       "\t N0.HOG0007638 & 2 & 0 & 0 & no\\\\\n",
       "\t N0.HOG0007639 & 2 & 0 & 0 & no\\\\\n",
       "\t N0.HOG0007640 & 2 & 0 & 0 & no\\\\\n",
       "\t N0.HOG0007641 & 2 & 0 & 0 & no\\\\\n",
       "\t N0.HOG0007642 & 2 & 0 & 0 & no\\\\\n",
       "\t N0.HOG0007643 & 2 & 0 & 0 & no\\\\\n",
       "\t N0.HOG0007644 & 2 & 0 & 0 & no\\\\\n",
       "\t N0.HOG0007645 & 2 & 0 & 0 & no\\\\\n",
       "\t N0.HOG0007646 & 2 & 0 & 0 & no\\\\\n",
       "\t N0.HOG0007647 & 2 & 0 & 0 & no\\\\\n",
       "\t N0.HOG0007648 & 2 & 0 & 0 & no\\\\\n",
       "\t N0.HOG0007649 & 2 & 0 & 0 & no\\\\\n",
       "\t N0.HOG0007650 & 2 & 0 & 0 & no\\\\\n",
       "\t N0.HOG0007651 & 2 & 0 & 0 & no\\\\\n",
       "\t N0.HOG0007652 & 2 & 0 & 0 & no\\\\\n",
       "\t N0.HOG0007653 & 2 & 0 & 0 & no\\\\\n",
       "\t N0.HOG0007654 & 2 & 0 & 0 & no\\\\\n",
       "\t N0.HOG0007655 & 2 & 0 & 0 & no\\\\\n",
       "\\end{tabular}\n"
      ],
      "text/markdown": [
       "\n",
       "A tibble: 7656 × 5\n",
       "\n",
       "| HOG &lt;chr&gt; | Zea_mays &lt;dbl&gt; | Hordeum_vulgare &lt;dbl&gt; | Arabidopsis_thaliana &lt;dbl&gt; | expansion &lt;chr&gt; |\n",
       "|---|---|---|---|---|\n",
       "| N0.HOG0000000 | 116 |   0 | 0 | no  |\n",
       "| N0.HOG0000001 | 103 |   0 | 1 | no  |\n",
       "| N0.HOG0000002 | 104 |   0 | 0 | no  |\n",
       "| N0.HOG0000003 |   0 | 100 | 0 | no  |\n",
       "| N0.HOG0000004 |   0 |  93 | 0 | no  |\n",
       "| N0.HOG0000005 |   0 |  81 | 0 | no  |\n",
       "| N0.HOG0000006 |  81 |   0 | 0 | no  |\n",
       "| N0.HOG0000007 |   1 |  79 | 0 | no  |\n",
       "| N0.HOG0000008 |   0 |  75 | 0 | no  |\n",
       "| N0.HOG0000009 |   0 |  71 | 0 | no  |\n",
       "| N0.HOG0000010 |   0 |  69 | 0 | no  |\n",
       "| N0.HOG0000011 |   1 |  64 | 3 | yes |\n",
       "| N0.HOG0000012 |   0 |  68 | 0 | no  |\n",
       "| N0.HOG0000013 |  64 |   4 | 0 | no  |\n",
       "| N0.HOG0000014 |   1 |  66 | 0 | no  |\n",
       "| N0.HOG0000015 |   0 |  67 | 0 | no  |\n",
       "| N0.HOG0000016 |   0 |  65 | 0 | no  |\n",
       "| N0.HOG0000017 |  62 |   0 | 2 | no  |\n",
       "| N0.HOG0000018 |   0 |  61 | 0 | no  |\n",
       "| N0.HOG0000019 |   1 |  60 | 0 | no  |\n",
       "| N0.HOG0000020 |   0 |  61 | 0 | no  |\n",
       "| N0.HOG0000021 |  60 |   1 | 0 | no  |\n",
       "| N0.HOG0000022 |   0 |  60 | 0 | no  |\n",
       "| N0.HOG0000023 |   0 |  59 | 0 | no  |\n",
       "| N0.HOG0000024 |   0 |  58 | 0 | no  |\n",
       "| N0.HOG0000025 |   0 |  58 | 0 | no  |\n",
       "| N0.HOG0000026 |  58 |   0 | 0 | no  |\n",
       "| N0.HOG0000027 |   0 |  56 | 1 | no  |\n",
       "| N0.HOG0000028 |   1 |  56 | 0 | no  |\n",
       "| N0.HOG0000029 |   0 |  56 | 0 | no  |\n",
       "| ⋮ | ⋮ | ⋮ | ⋮ | ⋮ |\n",
       "| N0.HOG0007626 | 2 | 0 | 0 | no |\n",
       "| N0.HOG0007627 | 2 | 0 | 0 | no |\n",
       "| N0.HOG0007628 | 2 | 0 | 0 | no |\n",
       "| N0.HOG0007629 | 2 | 0 | 0 | no |\n",
       "| N0.HOG0007630 | 2 | 0 | 0 | no |\n",
       "| N0.HOG0007631 | 2 | 0 | 0 | no |\n",
       "| N0.HOG0007632 | 2 | 0 | 0 | no |\n",
       "| N0.HOG0007633 | 2 | 0 | 0 | no |\n",
       "| N0.HOG0007634 | 2 | 0 | 0 | no |\n",
       "| N0.HOG0007635 | 2 | 0 | 0 | no |\n",
       "| N0.HOG0007636 | 2 | 0 | 0 | no |\n",
       "| N0.HOG0007637 | 2 | 0 | 0 | no |\n",
       "| N0.HOG0007638 | 2 | 0 | 0 | no |\n",
       "| N0.HOG0007639 | 2 | 0 | 0 | no |\n",
       "| N0.HOG0007640 | 2 | 0 | 0 | no |\n",
       "| N0.HOG0007641 | 2 | 0 | 0 | no |\n",
       "| N0.HOG0007642 | 2 | 0 | 0 | no |\n",
       "| N0.HOG0007643 | 2 | 0 | 0 | no |\n",
       "| N0.HOG0007644 | 2 | 0 | 0 | no |\n",
       "| N0.HOG0007645 | 2 | 0 | 0 | no |\n",
       "| N0.HOG0007646 | 2 | 0 | 0 | no |\n",
       "| N0.HOG0007647 | 2 | 0 | 0 | no |\n",
       "| N0.HOG0007648 | 2 | 0 | 0 | no |\n",
       "| N0.HOG0007649 | 2 | 0 | 0 | no |\n",
       "| N0.HOG0007650 | 2 | 0 | 0 | no |\n",
       "| N0.HOG0007651 | 2 | 0 | 0 | no |\n",
       "| N0.HOG0007652 | 2 | 0 | 0 | no |\n",
       "| N0.HOG0007653 | 2 | 0 | 0 | no |\n",
       "| N0.HOG0007654 | 2 | 0 | 0 | no |\n",
       "| N0.HOG0007655 | 2 | 0 | 0 | no |\n",
       "\n"
      ],
      "text/plain": [
       "     HOG           Zea_mays Hordeum_vulgare Arabidopsis_thaliana expansion\n",
       "1    N0.HOG0000000 116        0             0                    no       \n",
       "2    N0.HOG0000001 103        0             1                    no       \n",
       "3    N0.HOG0000002 104        0             0                    no       \n",
       "4    N0.HOG0000003   0      100             0                    no       \n",
       "5    N0.HOG0000004   0       93             0                    no       \n",
       "6    N0.HOG0000005   0       81             0                    no       \n",
       "7    N0.HOG0000006  81        0             0                    no       \n",
       "8    N0.HOG0000007   1       79             0                    no       \n",
       "9    N0.HOG0000008   0       75             0                    no       \n",
       "10   N0.HOG0000009   0       71             0                    no       \n",
       "11   N0.HOG0000010   0       69             0                    no       \n",
       "12   N0.HOG0000011   1       64             3                    yes      \n",
       "13   N0.HOG0000012   0       68             0                    no       \n",
       "14   N0.HOG0000013  64        4             0                    no       \n",
       "15   N0.HOG0000014   1       66             0                    no       \n",
       "16   N0.HOG0000015   0       67             0                    no       \n",
       "17   N0.HOG0000016   0       65             0                    no       \n",
       "18   N0.HOG0000017  62        0             2                    no       \n",
       "19   N0.HOG0000018   0       61             0                    no       \n",
       "20   N0.HOG0000019   1       60             0                    no       \n",
       "21   N0.HOG0000020   0       61             0                    no       \n",
       "22   N0.HOG0000021  60        1             0                    no       \n",
       "23   N0.HOG0000022   0       60             0                    no       \n",
       "24   N0.HOG0000023   0       59             0                    no       \n",
       "25   N0.HOG0000024   0       58             0                    no       \n",
       "26   N0.HOG0000025   0       58             0                    no       \n",
       "27   N0.HOG0000026  58        0             0                    no       \n",
       "28   N0.HOG0000027   0       56             1                    no       \n",
       "29   N0.HOG0000028   1       56             0                    no       \n",
       "30   N0.HOG0000029   0       56             0                    no       \n",
       "⋮    ⋮             ⋮        ⋮               ⋮                    ⋮        \n",
       "7627 N0.HOG0007626 2        0               0                    no       \n",
       "7628 N0.HOG0007627 2        0               0                    no       \n",
       "7629 N0.HOG0007628 2        0               0                    no       \n",
       "7630 N0.HOG0007629 2        0               0                    no       \n",
       "7631 N0.HOG0007630 2        0               0                    no       \n",
       "7632 N0.HOG0007631 2        0               0                    no       \n",
       "7633 N0.HOG0007632 2        0               0                    no       \n",
       "7634 N0.HOG0007633 2        0               0                    no       \n",
       "7635 N0.HOG0007634 2        0               0                    no       \n",
       "7636 N0.HOG0007635 2        0               0                    no       \n",
       "7637 N0.HOG0007636 2        0               0                    no       \n",
       "7638 N0.HOG0007637 2        0               0                    no       \n",
       "7639 N0.HOG0007638 2        0               0                    no       \n",
       "7640 N0.HOG0007639 2        0               0                    no       \n",
       "7641 N0.HOG0007640 2        0               0                    no       \n",
       "7642 N0.HOG0007641 2        0               0                    no       \n",
       "7643 N0.HOG0007642 2        0               0                    no       \n",
       "7644 N0.HOG0007643 2        0               0                    no       \n",
       "7645 N0.HOG0007644 2        0               0                    no       \n",
       "7646 N0.HOG0007645 2        0               0                    no       \n",
       "7647 N0.HOG0007646 2        0               0                    no       \n",
       "7648 N0.HOG0007647 2        0               0                    no       \n",
       "7649 N0.HOG0007648 2        0               0                    no       \n",
       "7650 N0.HOG0007649 2        0               0                    no       \n",
       "7651 N0.HOG0007650 2        0               0                    no       \n",
       "7652 N0.HOG0007651 2        0               0                    no       \n",
       "7653 N0.HOG0007652 2        0               0                    no       \n",
       "7654 N0.HOG0007653 2        0               0                    no       \n",
       "7655 N0.HOG0007654 2        0               0                    no       \n",
       "7656 N0.HOG0007655 2        0               0                    no       "
      ]
     },
     "metadata": {},
     "output_type": "display_data"
    }
   ],
   "source": [
    "# based on filtering criteria create per hypothesis table with:\n",
    "# all HOGs and gene counts + additional column expansion (yes/no)\n",
    "# this is later used in the creation of final tea outputs to create a HOG level table per hypothesis\n",
    "#HOG_tibble_complete \n",
    "\n",
    "#create expansion vector with length of expandsion HOGs\n",
    "expansion <- replicate(nrow(expanded_HOGs), \"yes\")\n",
    "\n",
    "#HOG_tibble_complete  add_column(expanded_HOGs, expansion, .after = \"HOG\")\n",
    "\n",
    "#?full_join\n",
    "\n",
    "expansion_tibble <- full_join(HOG_tibble_complete, add_column(expanded_HOGs, expansion, .after = \"HOG\"), \n",
    "                       by = c(\"HOG\"), suffix = c(\"\", \".remove\")) %>% \n",
    "                           replace_na(list(expansion = \"no\")) %>%\n",
    "                               select(-c(ends_with(\".remove\"))) \n",
    "\n",
    "expansion_tibble\n",
    "\n",
    "#saveRDS(expansion_tibble, paste(\"tea/\", num, \"/expansion_tibble/expansion_tibble.rds\", sep = \"\"))\n",
    "\n",
    "\n",
    "\n",
    "\n"
   ]
  },
  {
   "cell_type": "code",
   "execution_count": null,
   "metadata": {},
   "outputs": [],
   "source": [
    "#additional quotation mark as first element is introduced for some reason\n",
    "#(delim space after : isn't handled properly)\n",
    "#workaround, we get rid with trailing [-1]\n",
    "#exp_og_genes <- unlist(strsplit(orthogroups[orthogroups$OG == \"OG0005769\",]$genes, split = \" \"))[-1]\n",
    "#exp_og_genes\n",
    "#y <- dplyr::filter(all_BLAST_reformatted, qseqid_name %in% exp_og_genes | sseqid_name %in% exp_og_genes)\n",
    "#sort the results by evalue (ascending V11), bitscore (descending V12) and pident (descending 3)\n",
    "#w\n",
    "#w[order(w$evalue, -w$bitscore, -w$pident),]\n",
    "#y <- arrange(y, evalue, -bitscore, -pident)\n",
    "#y\n",
    "#y$qseqid_name\n",
    "#list_qseqid <- as.character(y$qseqid_name)\n",
    "#list_sseqid <- as.character(y$sseqid_name)\n",
    "#list_merged <- unique(c(list_qseqid, list_sseqid))\n",
    "#list_merged"
   ]
  },
  {
   "cell_type": "code",
   "execution_count": null,
   "metadata": {},
   "outputs": [],
   "source": [
    "#for each gene/protein name in an interesting OG do (is there a file just with names per OG?):\n",
    "#check \"all_BLAST_reformatted\" for all entries including these names and create new dataframe/tibble\n",
    "# then, perform filtering and retain certain set of genes/proteins per OG analysis\n",
    "#  then, create .txt file per OG with these gene names\n",
    "## come-up with filter criteria to have better trees?\n",
    "## I could of course just keep everything and save the evalues, etc.; well, problem for later.. ;D\n",
    "####> output for snakemake? what about inidividual OG txt files, because starting here parallelisation can really impact\n",
    "\n",
    "#additional quotation mark as first element is introduced for some reason\n",
    "#(delim space after : isn't handled properly)\n",
    "#workaround, we get rid with trailing [-1]\n",
    "\n",
    "#for (i in expanded_OGs$Orthogroup) {\n",
    "#    exp_og_genes <- unlist(strsplit(orthogroups[orthogroups$OG == i,]$genes, split = \" \"))[-1]\n",
    "#    BLAST_hits_exp_og_genes <- dplyr::filter(all_BLAST_reformatted, \n",
    "#                                             qseqid_name %in% exp_og_genes | sseqid_name %in% exp_og_genes)\n",
    "#    sorted_BLAST_hits_exp_og_genes <- arrange(BLAST_hits_exp_og_genes, evalue, -bitscore, -pident)\n",
    "#    list_qseqid <- as.character(sorted_BLAST_hits_exp_og_genes$qseqid_name)\n",
    "#    list_sseqid <- as.character(sorted_BLAST_hits_exp_og_genes$sseqid_name)\n",
    "#    list_merged <- unique(c(list_qseqid, list_sseqid))\n",
    "#    write_lines(list_merged,\n",
    "#           paste(\"tea/\", num, \"/exp_OGs_proteinnames/proteinnames_\", i, \".txt\", sep = \"\"))\n",
    "#}\n",
    "\n",
    "#lastly create .check to know it's done\n",
    "#exp_OGs_proteinnames.check <- \"check\"\n",
    "#write_file(exp_OGs_proteinnames.check, paste(\"checks/tea/\", num, \"/exp_OGs_proteinnames.check\", sep = \"\"))"
   ]
  },
  {
   "cell_type": "code",
   "execution_count": 15,
   "metadata": {
    "collapsed": true,
    "jupyter": {
     "outputs_hidden": true
    },
    "tags": []
   },
   "outputs": [
    {
     "data": {
      "text/html": [
       "<table class=\"dataframe\">\n",
       "<caption>A tibble: 6 × 4</caption>\n",
       "<thead>\n",
       "\t<tr><th scope=col>HOG</th><th scope=col>OG</th><th scope=col>Gene Tree Parent Clade</th><th scope=col>genes</th></tr>\n",
       "\t<tr><th scope=col>&lt;chr&gt;</th><th scope=col>&lt;chr&gt;</th><th scope=col>&lt;chr&gt;</th><th scope=col>&lt;chr&gt;</th></tr>\n",
       "</thead>\n",
       "<tbody>\n",
       "\t<tr><td>N0.HOG0000000</td><td>OG0000000</td><td>n0</td><td>Zm00001d002239_P101, Zm00001d002239_P098, Zm00001d002239_P154, Zm00001d002239_P036, Zm00001d002239_P229, Zm00001d002239_P040, Zm00001d002239_P217, Zm00001d002239_P210, Zm00001d002239_P148, Zm00001d002239_P196, Zm00001d002239_P085, Zm00001d002239_P022, Zm00001d002239_P017, Zm00001d002239_P186, Zm00001d002239_P073, Zm00001d002239_P089, Zm00001d002239_P056, Zm00001d002239_P046, Zm00001d002239_P152, Zm00001d002239_P090, Zm00001d002239_P129, Zm00001d002239_P118, Zm00001d002239_P103, Zm00001d002239_P058, Zm00001d002239_P042, Zm00001d002239_P220, Zm00001d002239_P174, Zm00001d002239_P083, Zm00001d002239_P047, Zm00001d002239_P054, Zm00001d002239_P191, Zm00001d002239_P198, Zm00001d002239_P234, Zm00001d002239_P150, Zm00001d002239_P133, Zm00001d002239_P096, Zm00001d002239_P180, Zm00001d002239_P233, Zm00001d002239_P014, Zm00001d002239_P111, Zm00001d002239_P072, Zm00001d002239_P171, Zm00001d002239_P216, Zm00001d002239_P107, Zm00001d002239_P011, Zm00001d002239_P086, Zm00001d002239_P212, Zm00001d002239_P172, Zm00001d002239_P179, Zm00001d002239_P025, Zm00001d002239_P156, Zm00001d002239_P182, Zm00001d002239_P219, Zm00001d002239_P037, Zm00001d002239_P087, Zm00001d002239_P159, Zm00001d002239_P109, Zm00001d002239_P035, Zm00001d002239_P205, Zm00001d002239_P145, Zm00001d002239_P120, Zm00001d002239_P226, Zm00001d002239_P074, Zm00001d002239_P190, Zm00001d002239_P189, Zm00001d002239_P039, Zm00001d002239_P138, Zm00001d002239_P193, Zm00001d002239_P211, Zm00001d002239_P084, Zm00001d002239_P149, Zm00001d002239_P055, Zm00001d002239_P206, Zm00001d002239_P143, Zm00001d002239_P028, Zm00001d002239_P117, Zm00001d002239_P033, Zm00001d002239_P018, Zm00001d002239_P016, Zm00001d002239_P195, Zm00001d002239_P119, Zm00001d002239_P124, Zm00001d002239_P192, Zm00001d002239_P100, Zm00001d002239_P113, Zm00001d002239_P227, Zm00001d002239_P218, Zm00001d002239_P001, Zm00001d002239_P136, Zm00001d002239_P012, Zm00001d002239_P026, Zm00001d002239_P029, Zm00001d002239_P071, Zm00001d002239_P041, Zm00001d002239_P123, Zm00001d002239_P070, Zm00001d002239_P187, Zm00001d002239_P163, Zm00001d002239_P075, Zm00001d002239_P082, Zm00001d002239_P202, Zm00001d002239_P112, Zm00001d002239_P204, Zm00001d002239_P122, Zm00001d002239_P173, Zm00001d002239_P060, Zm00001d002239_P088, Zm00001d002239_P030, Zm00001d002239_P032, Zm00001d002239_P099, Zm00001d002239_P059, Zm00001d002239_P155, Zm00001d002239_P102, Zm00001d002239_P141, Zm00001d002239_P125, Zm00001d002239_P105</td></tr>\n",
       "\t<tr><td>N0.HOG0000001</td><td>OG0000001</td><td>n0</td><td>Zm00001d006323_P129, Zm00001d006323_P146, Zm00001d006323_P084, Zm00001d006323_P098, Zm00001d006323_P091, Zm00001d006323_P102, Zm00001d006323_P030, Zm00001d006323_P173, Zm00001d006323_P174, Zm00001d006323_P172, Zm00001d006323_P001, Zm00001d006323_P157, Zm00001d006323_P176, Zm00001d006323_P171, Zm00001d006323_P133, Zm00001d006323_P158, Zm00001d006323_P163, Zm00001d006323_P139, Zm00001d006323_P155, Zm00001d006323_P161, Zm00001d006323_P112, Zm00001d006323_P086, Zm00001d006323_P015, Zm00001d006323_P149, Zm00001d006323_P148, Zm00001d006323_P140, Zm00001d006323_P136, Zm00001d006323_P127, Zm00001d006323_P152, Zm00001d006323_P137, Zm00001d006323_P138, Zm00001d006323_P131, Zm00001d006323_P141, Zm00001d006323_P168, Zm00001d006323_P103, Zm00001d006323_P044, Zm00001d006323_P055, Zm00001d006323_P028, Zm00001d006323_P118, Zm00001d006323_P008, Zm00001d006323_P010, Zm00001d006323_P049, Zm00001d006323_P058, Zm00001d006323_P064, Zm00001d006323_P065, Zm00001d006323_P096, Zm00001d006323_P051, Zm00001d006323_P013, Zm00001d006323_P101, Zm00001d006323_P069, Zm00001d006323_P081, Zm00001d006323_P002, Zm00001d006323_P070, Zm00001d006323_P004, Zm00001d006323_P060, Zm00001d006323_P037, Zm00001d006323_P020, Zm00001d006323_P108, Zm00001d006323_P022, Zm00001d006323_P105, Zm00001d006323_P122, Zm00001d006323_P100, Zm00001d006323_P003, Zm00001d006323_P039, Zm00001d006323_P034, Zm00001d006323_P080, Zm00001d006323_P077, Zm00001d006323_P059, Zm00001d006323_P016, Zm00001d006323_P042, Zm00001d006323_P166, Zm00001d006323_P169, Zm00001d006323_P162, Zm00001d006323_P046, Zm00001d006323_P150, Zm00001d004759_P001, Zm00001d006323_P114, Zm00001d006323_P088, Zm00001d006323_P110, Zm00001d006323_P005, Zm00001d006323_P135, Zm00001d006323_P090, Zm00001d006323_P033, Zm00001d006323_P047, Zm00001d006323_P072, Zm00001d006323_P057, Zm00001d006323_P123, Zm00001d006323_P031, Zm00001d006323_P038, Zm00001d006323_P062, Zm00001d006323_P119, Zm00001d006323_P134, Zm00001d006323_P097, Zm00001d006323_P067, Zm00001d006323_P075, Zm00001d006323_P164, Zm00001d006323_P063, Zm00001d006323_P025, Zm00001d006323_P026, Zm00001d006323_P018, Zm00001d006323_P074, Zm00001d006323_P094, Zm00001d006323_P053, AT2G31650.1                                                                                                                                                                                                                                                                    </td></tr>\n",
       "\t<tr><td>N0.HOG0000002</td><td>OG0000002</td><td>n0</td><td>Zm00001d005090_P077, Zm00001d005090_P079, Zm00001d005090_P076, Zm00001d005090_P078, Zm00001d005090_P074, Zm00001d005090_P100, Zm00001d005090_P129, Zm00001d005090_P075, Zm00001d005090_P101, Zm00001d005090_P171, Zm00001d005090_P192, Zm00001d005090_P198, Zm00001d005090_P195, Zm00001d005090_P106, Zm00001d005090_P010, Zm00001d005090_P165, Zm00001d005090_P190, Zm00001d005090_P019, Zm00001d005090_P088, Zm00001d005090_P168, Zm00001d005090_P099, Zm00001d005090_P166, Zm00001d005090_P167, Zm00001d005090_P042, Zm00001d005090_P164, Zm00001d005090_P096, Zm00001d005090_P193, Zm00001d005090_P015, Zm00001d005090_P108, Zm00001d005090_P197, Zm00001d005090_P107, Zm00001d005090_P018, Zm00001d005090_P162, Zm00001d005090_P083, Zm00001d005090_P115, Zm00001d005090_P064, Zm00001d005090_P030, Zm00001d005090_P050, Zm00001d005090_P103, Zm00001d005090_P187, Zm00001d005090_P008, Zm00001d005090_P056, Zm00001d005090_P023, Zm00001d005090_P169, Zm00001d005090_P028, Zm00001d005090_P041, Zm00001d005090_P145, Zm00001d005090_P029, Zm00001d005090_P026, Zm00001d005090_P025, Zm00001d005090_P027, Zm00001d005090_P001, Zm00001d005090_P072, Zm00001d005090_P119, Zm00001d005090_P158, Zm00001d005090_P044, Zm00001d005090_P114, Zm00001d005090_P038, Zm00001d005090_P172, Zm00001d005090_P174, Zm00001d005090_P037, Zm00001d005090_P153, Zm00001d005090_P090, Zm00001d005090_P131, Zm00001d005090_P047, Zm00001d005090_P149, Zm00001d005090_P112, Zm00001d005090_P102, Zm00001d005090_P128, Zm00001d005090_P073, Zm00001d005090_P067, Zm00001d005090_P124, Zm00001d005090_P035, Zm00001d005090_P087, Zm00001d005090_P065, Zm00001d005090_P017, Zm00001d005090_P085, Zm00001d005090_P081, Zm00001d005090_P120, Zm00001d005090_P060, Zm00001d005090_P155, Zm00001d005090_P005, Zm00001d005090_P154, Zm00001d005090_P082, Zm00001d005090_P126, Zm00001d005090_P110, Zm00001d005090_P163, Zm00001d005090_P093, Zm00001d005090_P161, Zm00001d005090_P160, Zm00001d005090_P159, Zm00001d005090_P123, Zm00001d005090_P156, Zm00001d005090_P052, Zm00001d005090_P004, Zm00001d005090_P118, Zm00001d005090_P061, Zm00001d005090_P032, Zm00001d005090_P095, Zm00001d005090_P054, Zm00001d005090_P070, Zm00001d005090_P157, Zm00001d005090_P058, Zm00001d005090_P022                                                                                                                                                                                                                                                            </td></tr>\n",
       "\t<tr><td>N0.HOG0000003</td><td>OG0000003</td><td>n0</td><td>HORVU2Hr1G023940.32, HORVU2Hr1G023940.19, HORVU2Hr1G023940.1, HORVU2Hr1G023940.5, HORVU2Hr1G023940.28, HORVU2Hr1G023940.31, HORVU2Hr1G023940.16, HORVU2Hr1G023940.10, HORVU2Hr1G023940.37, HORVU2Hr1G023940.45, HORVU2Hr1G023940.15, HORVU2Hr1G023940.13, HORVU2Hr1G023940.8, HORVU2Hr1G023940.18, HORVU2Hr1G023940.41, HORVU2Hr1G023940.4, HORVU2Hr1G023940.14, HORVU2Hr1G023940.27, HORVU2Hr1G023940.33, HORVU2Hr1G023940.35, HORVU2Hr1G023940.12, HORVU2Hr1G023940.6, HORVU2Hr1G023940.24, HORVU2Hr1G023940.54, HORVU2Hr1G023940.50, HORVU2Hr1G023940.52, HORVU2Hr1G023940.53, HORVU2Hr1G023940.48, HORVU2Hr1G023940.49, HORVU2Hr1G023940.42, HORVU2Hr1G023940.2, HORVU2Hr1G023940.21, HORVU2Hr1G023940.25, HORVU2Hr1G023940.40, HORVU2Hr1G023940.51, HORVU2Hr1G023940.55, HORVU2Hr1G023940.22, HORVU2Hr1G023940.17, HORVU2Hr1G023940.46, HORVU2Hr1G023940.38, HORVU2Hr1G023940.30, HORVU2Hr1G023940.47, HORVU2Hr1G023940.9, HORVU2Hr1G023940.26, HORVU2Hr1G023940.34, HORVU2Hr1G023940.39, HORVU2Hr1G023940.36, HORVU2Hr1G023940.44, HORVU2Hr1G020330.36, HORVU2Hr1G020330.5, HORVU2Hr1G020330.14, HORVU2Hr1G020330.7, HORVU2Hr1G020330.45, HORVU2Hr1G020330.43, HORVU2Hr1G020330.11, HORVU2Hr1G020330.42, HORVU2Hr1G020330.1, HORVU2Hr1G020330.17, HORVU2Hr1G020330.23, HORVU2Hr1G020330.39, HORVU2Hr1G020330.26, HORVU2Hr1G020330.6, HORVU2Hr1G020330.44, HORVU2Hr1G020330.3, HORVU2Hr1G020330.4, HORVU2Hr1G020330.35, HORVU2Hr1G020330.25, HORVU2Hr1G020330.32, HORVU2Hr1G020330.21, HORVU2Hr1G020330.22, HORVU2Hr1G020330.38, HORVU2Hr1G020330.24, HORVU2Hr1G020330.27, HORVU2Hr1G020330.9, HORVU2Hr1G020330.30, HORVU2Hr1G020330.31, HORVU2Hr1G020330.10, HORVU2Hr1G020330.2, HORVU2Hr1G020330.13, HORVU2Hr1G020330.28, HORVU2Hr1G020330.34, HORVU2Hr1G020330.8, HORVU2Hr1G020330.19, HORVU2Hr1G020330.18, HORVU2Hr1G020330.15, HORVU2Hr1G020330.20, HORVU2Hr1G020330.16, HORVU2Hr1G020330.12, HORVU2Hr1G020330.33, HORVU2Hr1G020330.29, HORVU2Hr1G020330.37, HORVU2Hr1G020330.41, HORVU2Hr1G020330.40, HORVU2Hr1G023940.43, HORVU2Hr1G023940.3, HORVU2Hr1G023940.23, HORVU2Hr1G023940.7, HORVU2Hr1G023940.11, HORVU2Hr1G023940.20, HORVU2Hr1G023940.29                                                                                                                                                                                                                                                                                                                                                                  </td></tr>\n",
       "\t<tr><td>N0.HOG0000004</td><td>OG0000004</td><td>n0</td><td>HORVU2Hr1G012540.56, HORVU2Hr1G012540.40, HORVU2Hr1G012540.44, HORVU2Hr1G012540.30, HORVU2Hr1G012540.42, HORVU2Hr1G012540.28, HORVU2Hr1G012540.34, HORVU2Hr1G012540.47, HORVU2Hr1G012540.35, HORVU2Hr1G012520.7, HORVU2Hr1G012520.5, HORVU2Hr1G012520.2, HORVU2Hr1G012520.17, HORVU2Hr1G012520.6, HORVU2Hr1G012520.34, HORVU2Hr1G012520.40, HORVU2Hr1G012520.24, HORVU2Hr1G012520.13, HORVU2Hr1G012520.25, HORVU2Hr1G012520.19, HORVU2Hr1G012520.31, HORVU2Hr1G012520.26, HORVU2Hr1G012520.49, HORVU2Hr1G012520.18, HORVU2Hr1G012520.50, HORVU2Hr1G012520.37, HORVU2Hr1G012520.48, HORVU2Hr1G012520.51, HORVU2Hr1G012520.10, HORVU2Hr1G012520.52, HORVU2Hr1G012520.45, HORVU2Hr1G012520.44, HORVU2Hr1G012520.32, HORVU2Hr1G012520.47, HORVU2Hr1G012540.59, HORVU2Hr1G012540.55, HORVU2Hr1G012540.53, HORVU2Hr1G012540.33, HORVU2Hr1G012540.41, HORVU2Hr1G012540.36, HORVU2Hr1G012540.45, HORVU2Hr1G012540.57, HORVU2Hr1G012540.65, HORVU2Hr1G012540.61, HORVU2Hr1G012540.43, HORVU2Hr1G012540.60, HORVU2Hr1G012540.29, HORVU2Hr1G012540.64, HORVU2Hr1G012540.52, HORVU2Hr1G012540.50, HORVU2Hr1G012540.38, HORVU2Hr1G012540.49, HORVU2Hr1G012540.63, HORVU2Hr1G012540.62, HORVU2Hr1G012540.54, HORVU2Hr1G012540.68, HORVU2Hr1G012540.46, HORVU2Hr1G012540.39, HORVU2Hr1G012540.58, HORVU2Hr1G012540.67, HORVU2Hr1G012540.66, HORVU2Hr1G012520.36, HORVU2Hr1G012520.1, HORVU2Hr1G012520.23, HORVU2Hr1G012520.30, HORVU2Hr1G012520.3, HORVU2Hr1G012520.35, HORVU2Hr1G012520.22, HORVU2Hr1G012520.46, HORVU2Hr1G012520.21, HORVU2Hr1G012520.9, HORVU2Hr1G012520.8, HORVU2Hr1G012520.14, HORVU2Hr1G012520.16, HORVU2Hr1G012520.15, HORVU2Hr1G012520.20, HORVU2Hr1G012520.29, HORVU2Hr1G012520.38, HORVU2Hr1G012520.39, HORVU2Hr1G012520.11, HORVU2Hr1G012520.28, HORVU2Hr1G012520.27, HORVU2Hr1G012520.12, HORVU2Hr1G012520.4, HORVU2Hr1G012520.41, HORVU2Hr1G012520.43, HORVU2Hr1G012520.33, HORVU2Hr1G012520.42, HORVU2Hr1G012540.48, HORVU2Hr1G012540.51, HORVU2Hr1G012540.32, HORVU2Hr1G012540.37, HORVU2Hr1G012540.31                                                                                                                                                                                                                                                                                                                                                                                                                                                                                                            </td></tr>\n",
       "\t<tr><td>N0.HOG0000005</td><td>OG0000005</td><td>n0</td><td>HORVU2Hr1G034660.12, HORVU2Hr1G034660.15, HORVU2Hr1G034660.16, HORVU2Hr1G034660.49, HORVU2Hr1G034660.48, HORVU2Hr1G034660.34, HORVU2Hr1G034660.42, HORVU2Hr1G034660.23, HORVU2Hr1G034660.19, HORVU2Hr1G034660.51, HORVU2Hr1G100980.19, HORVU2Hr1G100980.16, HORVU2Hr1G100980.6, HORVU2Hr1G100980.1, HORVU2Hr1G100980.20, HORVU2Hr1G100980.23, HORVU2Hr1G100980.18, HORVU2Hr1G100980.4, HORVU2Hr1G100980.33, HORVU2Hr1G100980.21, HORVU2Hr1G100980.8, HORVU2Hr1G100980.15, HORVU2Hr1G100980.5, HORVU2Hr1G100980.25, HORVU2Hr1G100980.31, HORVU2Hr1G100980.9, HORVU2Hr1G100980.24, HORVU2Hr1G100980.26, HORVU2Hr1G100980.32, HORVU2Hr1G100980.13, HORVU2Hr1G034660.13, HORVU2Hr1G100980.22, HORVU2Hr1G100980.28, HORVU2Hr1G100980.2, HORVU2Hr1G100980.11, HORVU2Hr1G100980.27, HORVU2Hr1G100980.29, HORVU2Hr1G100980.10, HORVU2Hr1G100980.3, HORVU2Hr1G100980.17, HORVU2Hr1G100980.30, HORVU2Hr1G100980.12, HORVU2Hr1G100980.7, HORVU2Hr1G100980.14, HORVU2Hr1G034660.26, HORVU2Hr1G034660.32, HORVU2Hr1G034660.58, HORVU2Hr1G034660.57, HORVU2Hr1G013480.1, HORVU2Hr1G034660.53, HORVU2Hr1G034660.38, HORVU2Hr1G034660.20, HORVU2Hr1G034660.29, HORVU2Hr1G034660.18, HORVU2Hr1G034660.24, HORVU2Hr1G034660.39, HORVU2Hr1G034660.41, HORVU2Hr1G034660.54, HORVU2Hr1G034660.28, HORVU2Hr1G034660.27, HORVU2Hr1G034660.25, HORVU2Hr1G034660.30, HORVU2Hr1G034660.14, HORVU2Hr1G034660.17, HORVU2Hr1G034660.21, HORVU2Hr1G034660.46, HORVU2Hr1G034660.33, HORVU2Hr1G034660.40, HORVU2Hr1G034660.52, HORVU2Hr1G034660.35, HORVU2Hr1G034660.47, HORVU2Hr1G034660.56, HORVU2Hr1G034660.55, HORVU2Hr1G034660.37, HORVU2Hr1G034660.22, HORVU2Hr1G034660.50, HORVU2Hr1G034660.44, HORVU2Hr1G034660.45, HORVU2Hr1G034660.36, HORVU2Hr1G034660.43, HORVU2Hr1G034660.31                                                                                                                                                                                                                                                                                                                                                                                                                                                                                                                                                                                                                                                                                                                                                                         </td></tr>\n",
       "</tbody>\n",
       "</table>\n"
      ],
      "text/latex": [
       "A tibble: 6 × 4\n",
       "\\begin{tabular}{llll}\n",
       " HOG & OG & Gene Tree Parent Clade & genes\\\\\n",
       " <chr> & <chr> & <chr> & <chr>\\\\\n",
       "\\hline\n",
       "\t N0.HOG0000000 & OG0000000 & n0 & Zm00001d002239\\_P101, Zm00001d002239\\_P098, Zm00001d002239\\_P154, Zm00001d002239\\_P036, Zm00001d002239\\_P229, Zm00001d002239\\_P040, Zm00001d002239\\_P217, Zm00001d002239\\_P210, Zm00001d002239\\_P148, Zm00001d002239\\_P196, Zm00001d002239\\_P085, Zm00001d002239\\_P022, Zm00001d002239\\_P017, Zm00001d002239\\_P186, Zm00001d002239\\_P073, Zm00001d002239\\_P089, Zm00001d002239\\_P056, Zm00001d002239\\_P046, Zm00001d002239\\_P152, Zm00001d002239\\_P090, Zm00001d002239\\_P129, Zm00001d002239\\_P118, Zm00001d002239\\_P103, Zm00001d002239\\_P058, Zm00001d002239\\_P042, Zm00001d002239\\_P220, Zm00001d002239\\_P174, Zm00001d002239\\_P083, Zm00001d002239\\_P047, Zm00001d002239\\_P054, Zm00001d002239\\_P191, Zm00001d002239\\_P198, Zm00001d002239\\_P234, Zm00001d002239\\_P150, Zm00001d002239\\_P133, Zm00001d002239\\_P096, Zm00001d002239\\_P180, Zm00001d002239\\_P233, Zm00001d002239\\_P014, Zm00001d002239\\_P111, Zm00001d002239\\_P072, Zm00001d002239\\_P171, Zm00001d002239\\_P216, Zm00001d002239\\_P107, Zm00001d002239\\_P011, Zm00001d002239\\_P086, Zm00001d002239\\_P212, Zm00001d002239\\_P172, Zm00001d002239\\_P179, Zm00001d002239\\_P025, Zm00001d002239\\_P156, Zm00001d002239\\_P182, Zm00001d002239\\_P219, Zm00001d002239\\_P037, Zm00001d002239\\_P087, Zm00001d002239\\_P159, Zm00001d002239\\_P109, Zm00001d002239\\_P035, Zm00001d002239\\_P205, Zm00001d002239\\_P145, Zm00001d002239\\_P120, Zm00001d002239\\_P226, Zm00001d002239\\_P074, Zm00001d002239\\_P190, Zm00001d002239\\_P189, Zm00001d002239\\_P039, Zm00001d002239\\_P138, Zm00001d002239\\_P193, Zm00001d002239\\_P211, Zm00001d002239\\_P084, Zm00001d002239\\_P149, Zm00001d002239\\_P055, Zm00001d002239\\_P206, Zm00001d002239\\_P143, Zm00001d002239\\_P028, Zm00001d002239\\_P117, Zm00001d002239\\_P033, Zm00001d002239\\_P018, Zm00001d002239\\_P016, Zm00001d002239\\_P195, Zm00001d002239\\_P119, Zm00001d002239\\_P124, Zm00001d002239\\_P192, Zm00001d002239\\_P100, Zm00001d002239\\_P113, Zm00001d002239\\_P227, Zm00001d002239\\_P218, Zm00001d002239\\_P001, Zm00001d002239\\_P136, Zm00001d002239\\_P012, Zm00001d002239\\_P026, Zm00001d002239\\_P029, Zm00001d002239\\_P071, Zm00001d002239\\_P041, Zm00001d002239\\_P123, Zm00001d002239\\_P070, Zm00001d002239\\_P187, Zm00001d002239\\_P163, Zm00001d002239\\_P075, Zm00001d002239\\_P082, Zm00001d002239\\_P202, Zm00001d002239\\_P112, Zm00001d002239\\_P204, Zm00001d002239\\_P122, Zm00001d002239\\_P173, Zm00001d002239\\_P060, Zm00001d002239\\_P088, Zm00001d002239\\_P030, Zm00001d002239\\_P032, Zm00001d002239\\_P099, Zm00001d002239\\_P059, Zm00001d002239\\_P155, Zm00001d002239\\_P102, Zm00001d002239\\_P141, Zm00001d002239\\_P125, Zm00001d002239\\_P105\\\\\n",
       "\t N0.HOG0000001 & OG0000001 & n0 & Zm00001d006323\\_P129, Zm00001d006323\\_P146, Zm00001d006323\\_P084, Zm00001d006323\\_P098, Zm00001d006323\\_P091, Zm00001d006323\\_P102, Zm00001d006323\\_P030, Zm00001d006323\\_P173, Zm00001d006323\\_P174, Zm00001d006323\\_P172, Zm00001d006323\\_P001, Zm00001d006323\\_P157, Zm00001d006323\\_P176, Zm00001d006323\\_P171, Zm00001d006323\\_P133, Zm00001d006323\\_P158, Zm00001d006323\\_P163, Zm00001d006323\\_P139, Zm00001d006323\\_P155, Zm00001d006323\\_P161, Zm00001d006323\\_P112, Zm00001d006323\\_P086, Zm00001d006323\\_P015, Zm00001d006323\\_P149, Zm00001d006323\\_P148, Zm00001d006323\\_P140, Zm00001d006323\\_P136, Zm00001d006323\\_P127, Zm00001d006323\\_P152, Zm00001d006323\\_P137, Zm00001d006323\\_P138, Zm00001d006323\\_P131, Zm00001d006323\\_P141, Zm00001d006323\\_P168, Zm00001d006323\\_P103, Zm00001d006323\\_P044, Zm00001d006323\\_P055, Zm00001d006323\\_P028, Zm00001d006323\\_P118, Zm00001d006323\\_P008, Zm00001d006323\\_P010, Zm00001d006323\\_P049, Zm00001d006323\\_P058, Zm00001d006323\\_P064, Zm00001d006323\\_P065, Zm00001d006323\\_P096, Zm00001d006323\\_P051, Zm00001d006323\\_P013, Zm00001d006323\\_P101, Zm00001d006323\\_P069, Zm00001d006323\\_P081, Zm00001d006323\\_P002, Zm00001d006323\\_P070, Zm00001d006323\\_P004, Zm00001d006323\\_P060, Zm00001d006323\\_P037, Zm00001d006323\\_P020, Zm00001d006323\\_P108, Zm00001d006323\\_P022, Zm00001d006323\\_P105, Zm00001d006323\\_P122, Zm00001d006323\\_P100, Zm00001d006323\\_P003, Zm00001d006323\\_P039, Zm00001d006323\\_P034, Zm00001d006323\\_P080, Zm00001d006323\\_P077, Zm00001d006323\\_P059, Zm00001d006323\\_P016, Zm00001d006323\\_P042, Zm00001d006323\\_P166, Zm00001d006323\\_P169, Zm00001d006323\\_P162, Zm00001d006323\\_P046, Zm00001d006323\\_P150, Zm00001d004759\\_P001, Zm00001d006323\\_P114, Zm00001d006323\\_P088, Zm00001d006323\\_P110, Zm00001d006323\\_P005, Zm00001d006323\\_P135, Zm00001d006323\\_P090, Zm00001d006323\\_P033, Zm00001d006323\\_P047, Zm00001d006323\\_P072, Zm00001d006323\\_P057, Zm00001d006323\\_P123, Zm00001d006323\\_P031, Zm00001d006323\\_P038, Zm00001d006323\\_P062, Zm00001d006323\\_P119, Zm00001d006323\\_P134, Zm00001d006323\\_P097, Zm00001d006323\\_P067, Zm00001d006323\\_P075, Zm00001d006323\\_P164, Zm00001d006323\\_P063, Zm00001d006323\\_P025, Zm00001d006323\\_P026, Zm00001d006323\\_P018, Zm00001d006323\\_P074, Zm00001d006323\\_P094, Zm00001d006323\\_P053, AT2G31650.1                                                                                                                                                                                                                                                                    \\\\\n",
       "\t N0.HOG0000002 & OG0000002 & n0 & Zm00001d005090\\_P077, Zm00001d005090\\_P079, Zm00001d005090\\_P076, Zm00001d005090\\_P078, Zm00001d005090\\_P074, Zm00001d005090\\_P100, Zm00001d005090\\_P129, Zm00001d005090\\_P075, Zm00001d005090\\_P101, Zm00001d005090\\_P171, Zm00001d005090\\_P192, Zm00001d005090\\_P198, Zm00001d005090\\_P195, Zm00001d005090\\_P106, Zm00001d005090\\_P010, Zm00001d005090\\_P165, Zm00001d005090\\_P190, Zm00001d005090\\_P019, Zm00001d005090\\_P088, Zm00001d005090\\_P168, Zm00001d005090\\_P099, Zm00001d005090\\_P166, Zm00001d005090\\_P167, Zm00001d005090\\_P042, Zm00001d005090\\_P164, Zm00001d005090\\_P096, Zm00001d005090\\_P193, Zm00001d005090\\_P015, Zm00001d005090\\_P108, Zm00001d005090\\_P197, Zm00001d005090\\_P107, Zm00001d005090\\_P018, Zm00001d005090\\_P162, Zm00001d005090\\_P083, Zm00001d005090\\_P115, Zm00001d005090\\_P064, Zm00001d005090\\_P030, Zm00001d005090\\_P050, Zm00001d005090\\_P103, Zm00001d005090\\_P187, Zm00001d005090\\_P008, Zm00001d005090\\_P056, Zm00001d005090\\_P023, Zm00001d005090\\_P169, Zm00001d005090\\_P028, Zm00001d005090\\_P041, Zm00001d005090\\_P145, Zm00001d005090\\_P029, Zm00001d005090\\_P026, Zm00001d005090\\_P025, Zm00001d005090\\_P027, Zm00001d005090\\_P001, Zm00001d005090\\_P072, Zm00001d005090\\_P119, Zm00001d005090\\_P158, Zm00001d005090\\_P044, Zm00001d005090\\_P114, Zm00001d005090\\_P038, Zm00001d005090\\_P172, Zm00001d005090\\_P174, Zm00001d005090\\_P037, Zm00001d005090\\_P153, Zm00001d005090\\_P090, Zm00001d005090\\_P131, Zm00001d005090\\_P047, Zm00001d005090\\_P149, Zm00001d005090\\_P112, Zm00001d005090\\_P102, Zm00001d005090\\_P128, Zm00001d005090\\_P073, Zm00001d005090\\_P067, Zm00001d005090\\_P124, Zm00001d005090\\_P035, Zm00001d005090\\_P087, Zm00001d005090\\_P065, Zm00001d005090\\_P017, Zm00001d005090\\_P085, Zm00001d005090\\_P081, Zm00001d005090\\_P120, Zm00001d005090\\_P060, Zm00001d005090\\_P155, Zm00001d005090\\_P005, Zm00001d005090\\_P154, Zm00001d005090\\_P082, Zm00001d005090\\_P126, Zm00001d005090\\_P110, Zm00001d005090\\_P163, Zm00001d005090\\_P093, Zm00001d005090\\_P161, Zm00001d005090\\_P160, Zm00001d005090\\_P159, Zm00001d005090\\_P123, Zm00001d005090\\_P156, Zm00001d005090\\_P052, Zm00001d005090\\_P004, Zm00001d005090\\_P118, Zm00001d005090\\_P061, Zm00001d005090\\_P032, Zm00001d005090\\_P095, Zm00001d005090\\_P054, Zm00001d005090\\_P070, Zm00001d005090\\_P157, Zm00001d005090\\_P058, Zm00001d005090\\_P022                                                                                                                                                                                                                                                            \\\\\n",
       "\t N0.HOG0000003 & OG0000003 & n0 & HORVU2Hr1G023940.32, HORVU2Hr1G023940.19, HORVU2Hr1G023940.1, HORVU2Hr1G023940.5, HORVU2Hr1G023940.28, HORVU2Hr1G023940.31, HORVU2Hr1G023940.16, HORVU2Hr1G023940.10, HORVU2Hr1G023940.37, HORVU2Hr1G023940.45, HORVU2Hr1G023940.15, HORVU2Hr1G023940.13, HORVU2Hr1G023940.8, HORVU2Hr1G023940.18, HORVU2Hr1G023940.41, HORVU2Hr1G023940.4, HORVU2Hr1G023940.14, HORVU2Hr1G023940.27, HORVU2Hr1G023940.33, HORVU2Hr1G023940.35, HORVU2Hr1G023940.12, HORVU2Hr1G023940.6, HORVU2Hr1G023940.24, HORVU2Hr1G023940.54, HORVU2Hr1G023940.50, HORVU2Hr1G023940.52, HORVU2Hr1G023940.53, HORVU2Hr1G023940.48, HORVU2Hr1G023940.49, HORVU2Hr1G023940.42, HORVU2Hr1G023940.2, HORVU2Hr1G023940.21, HORVU2Hr1G023940.25, HORVU2Hr1G023940.40, HORVU2Hr1G023940.51, HORVU2Hr1G023940.55, HORVU2Hr1G023940.22, HORVU2Hr1G023940.17, HORVU2Hr1G023940.46, HORVU2Hr1G023940.38, HORVU2Hr1G023940.30, HORVU2Hr1G023940.47, HORVU2Hr1G023940.9, HORVU2Hr1G023940.26, HORVU2Hr1G023940.34, HORVU2Hr1G023940.39, HORVU2Hr1G023940.36, HORVU2Hr1G023940.44, HORVU2Hr1G020330.36, HORVU2Hr1G020330.5, HORVU2Hr1G020330.14, HORVU2Hr1G020330.7, HORVU2Hr1G020330.45, HORVU2Hr1G020330.43, HORVU2Hr1G020330.11, HORVU2Hr1G020330.42, HORVU2Hr1G020330.1, HORVU2Hr1G020330.17, HORVU2Hr1G020330.23, HORVU2Hr1G020330.39, HORVU2Hr1G020330.26, HORVU2Hr1G020330.6, HORVU2Hr1G020330.44, HORVU2Hr1G020330.3, HORVU2Hr1G020330.4, HORVU2Hr1G020330.35, HORVU2Hr1G020330.25, HORVU2Hr1G020330.32, HORVU2Hr1G020330.21, HORVU2Hr1G020330.22, HORVU2Hr1G020330.38, HORVU2Hr1G020330.24, HORVU2Hr1G020330.27, HORVU2Hr1G020330.9, HORVU2Hr1G020330.30, HORVU2Hr1G020330.31, HORVU2Hr1G020330.10, HORVU2Hr1G020330.2, HORVU2Hr1G020330.13, HORVU2Hr1G020330.28, HORVU2Hr1G020330.34, HORVU2Hr1G020330.8, HORVU2Hr1G020330.19, HORVU2Hr1G020330.18, HORVU2Hr1G020330.15, HORVU2Hr1G020330.20, HORVU2Hr1G020330.16, HORVU2Hr1G020330.12, HORVU2Hr1G020330.33, HORVU2Hr1G020330.29, HORVU2Hr1G020330.37, HORVU2Hr1G020330.41, HORVU2Hr1G020330.40, HORVU2Hr1G023940.43, HORVU2Hr1G023940.3, HORVU2Hr1G023940.23, HORVU2Hr1G023940.7, HORVU2Hr1G023940.11, HORVU2Hr1G023940.20, HORVU2Hr1G023940.29                                                                                                                                                                                                                                                                                                                                                                  \\\\\n",
       "\t N0.HOG0000004 & OG0000004 & n0 & HORVU2Hr1G012540.56, HORVU2Hr1G012540.40, HORVU2Hr1G012540.44, HORVU2Hr1G012540.30, HORVU2Hr1G012540.42, HORVU2Hr1G012540.28, HORVU2Hr1G012540.34, HORVU2Hr1G012540.47, HORVU2Hr1G012540.35, HORVU2Hr1G012520.7, HORVU2Hr1G012520.5, HORVU2Hr1G012520.2, HORVU2Hr1G012520.17, HORVU2Hr1G012520.6, HORVU2Hr1G012520.34, HORVU2Hr1G012520.40, HORVU2Hr1G012520.24, HORVU2Hr1G012520.13, HORVU2Hr1G012520.25, HORVU2Hr1G012520.19, HORVU2Hr1G012520.31, HORVU2Hr1G012520.26, HORVU2Hr1G012520.49, HORVU2Hr1G012520.18, HORVU2Hr1G012520.50, HORVU2Hr1G012520.37, HORVU2Hr1G012520.48, HORVU2Hr1G012520.51, HORVU2Hr1G012520.10, HORVU2Hr1G012520.52, HORVU2Hr1G012520.45, HORVU2Hr1G012520.44, HORVU2Hr1G012520.32, HORVU2Hr1G012520.47, HORVU2Hr1G012540.59, HORVU2Hr1G012540.55, HORVU2Hr1G012540.53, HORVU2Hr1G012540.33, HORVU2Hr1G012540.41, HORVU2Hr1G012540.36, HORVU2Hr1G012540.45, HORVU2Hr1G012540.57, HORVU2Hr1G012540.65, HORVU2Hr1G012540.61, HORVU2Hr1G012540.43, HORVU2Hr1G012540.60, HORVU2Hr1G012540.29, HORVU2Hr1G012540.64, HORVU2Hr1G012540.52, HORVU2Hr1G012540.50, HORVU2Hr1G012540.38, HORVU2Hr1G012540.49, HORVU2Hr1G012540.63, HORVU2Hr1G012540.62, HORVU2Hr1G012540.54, HORVU2Hr1G012540.68, HORVU2Hr1G012540.46, HORVU2Hr1G012540.39, HORVU2Hr1G012540.58, HORVU2Hr1G012540.67, HORVU2Hr1G012540.66, HORVU2Hr1G012520.36, HORVU2Hr1G012520.1, HORVU2Hr1G012520.23, HORVU2Hr1G012520.30, HORVU2Hr1G012520.3, HORVU2Hr1G012520.35, HORVU2Hr1G012520.22, HORVU2Hr1G012520.46, HORVU2Hr1G012520.21, HORVU2Hr1G012520.9, HORVU2Hr1G012520.8, HORVU2Hr1G012520.14, HORVU2Hr1G012520.16, HORVU2Hr1G012520.15, HORVU2Hr1G012520.20, HORVU2Hr1G012520.29, HORVU2Hr1G012520.38, HORVU2Hr1G012520.39, HORVU2Hr1G012520.11, HORVU2Hr1G012520.28, HORVU2Hr1G012520.27, HORVU2Hr1G012520.12, HORVU2Hr1G012520.4, HORVU2Hr1G012520.41, HORVU2Hr1G012520.43, HORVU2Hr1G012520.33, HORVU2Hr1G012520.42, HORVU2Hr1G012540.48, HORVU2Hr1G012540.51, HORVU2Hr1G012540.32, HORVU2Hr1G012540.37, HORVU2Hr1G012540.31                                                                                                                                                                                                                                                                                                                                                                                                                                                                                                            \\\\\n",
       "\t N0.HOG0000005 & OG0000005 & n0 & HORVU2Hr1G034660.12, HORVU2Hr1G034660.15, HORVU2Hr1G034660.16, HORVU2Hr1G034660.49, HORVU2Hr1G034660.48, HORVU2Hr1G034660.34, HORVU2Hr1G034660.42, HORVU2Hr1G034660.23, HORVU2Hr1G034660.19, HORVU2Hr1G034660.51, HORVU2Hr1G100980.19, HORVU2Hr1G100980.16, HORVU2Hr1G100980.6, HORVU2Hr1G100980.1, HORVU2Hr1G100980.20, HORVU2Hr1G100980.23, HORVU2Hr1G100980.18, HORVU2Hr1G100980.4, HORVU2Hr1G100980.33, HORVU2Hr1G100980.21, HORVU2Hr1G100980.8, HORVU2Hr1G100980.15, HORVU2Hr1G100980.5, HORVU2Hr1G100980.25, HORVU2Hr1G100980.31, HORVU2Hr1G100980.9, HORVU2Hr1G100980.24, HORVU2Hr1G100980.26, HORVU2Hr1G100980.32, HORVU2Hr1G100980.13, HORVU2Hr1G034660.13, HORVU2Hr1G100980.22, HORVU2Hr1G100980.28, HORVU2Hr1G100980.2, HORVU2Hr1G100980.11, HORVU2Hr1G100980.27, HORVU2Hr1G100980.29, HORVU2Hr1G100980.10, HORVU2Hr1G100980.3, HORVU2Hr1G100980.17, HORVU2Hr1G100980.30, HORVU2Hr1G100980.12, HORVU2Hr1G100980.7, HORVU2Hr1G100980.14, HORVU2Hr1G034660.26, HORVU2Hr1G034660.32, HORVU2Hr1G034660.58, HORVU2Hr1G034660.57, HORVU2Hr1G013480.1, HORVU2Hr1G034660.53, HORVU2Hr1G034660.38, HORVU2Hr1G034660.20, HORVU2Hr1G034660.29, HORVU2Hr1G034660.18, HORVU2Hr1G034660.24, HORVU2Hr1G034660.39, HORVU2Hr1G034660.41, HORVU2Hr1G034660.54, HORVU2Hr1G034660.28, HORVU2Hr1G034660.27, HORVU2Hr1G034660.25, HORVU2Hr1G034660.30, HORVU2Hr1G034660.14, HORVU2Hr1G034660.17, HORVU2Hr1G034660.21, HORVU2Hr1G034660.46, HORVU2Hr1G034660.33, HORVU2Hr1G034660.40, HORVU2Hr1G034660.52, HORVU2Hr1G034660.35, HORVU2Hr1G034660.47, HORVU2Hr1G034660.56, HORVU2Hr1G034660.55, HORVU2Hr1G034660.37, HORVU2Hr1G034660.22, HORVU2Hr1G034660.50, HORVU2Hr1G034660.44, HORVU2Hr1G034660.45, HORVU2Hr1G034660.36, HORVU2Hr1G034660.43, HORVU2Hr1G034660.31                                                                                                                                                                                                                                                                                                                                                                                                                                                                                                                                                                                                                                                                                                                                                                         \\\\\n",
       "\\end{tabular}\n"
      ],
      "text/markdown": [
       "\n",
       "A tibble: 6 × 4\n",
       "\n",
       "| HOG &lt;chr&gt; | OG &lt;chr&gt; | Gene Tree Parent Clade &lt;chr&gt; | genes &lt;chr&gt; |\n",
       "|---|---|---|---|\n",
       "| N0.HOG0000000 | OG0000000 | n0 | Zm00001d002239_P101, Zm00001d002239_P098, Zm00001d002239_P154, Zm00001d002239_P036, Zm00001d002239_P229, Zm00001d002239_P040, Zm00001d002239_P217, Zm00001d002239_P210, Zm00001d002239_P148, Zm00001d002239_P196, Zm00001d002239_P085, Zm00001d002239_P022, Zm00001d002239_P017, Zm00001d002239_P186, Zm00001d002239_P073, Zm00001d002239_P089, Zm00001d002239_P056, Zm00001d002239_P046, Zm00001d002239_P152, Zm00001d002239_P090, Zm00001d002239_P129, Zm00001d002239_P118, Zm00001d002239_P103, Zm00001d002239_P058, Zm00001d002239_P042, Zm00001d002239_P220, Zm00001d002239_P174, Zm00001d002239_P083, Zm00001d002239_P047, Zm00001d002239_P054, Zm00001d002239_P191, Zm00001d002239_P198, Zm00001d002239_P234, Zm00001d002239_P150, Zm00001d002239_P133, Zm00001d002239_P096, Zm00001d002239_P180, Zm00001d002239_P233, Zm00001d002239_P014, Zm00001d002239_P111, Zm00001d002239_P072, Zm00001d002239_P171, Zm00001d002239_P216, Zm00001d002239_P107, Zm00001d002239_P011, Zm00001d002239_P086, Zm00001d002239_P212, Zm00001d002239_P172, Zm00001d002239_P179, Zm00001d002239_P025, Zm00001d002239_P156, Zm00001d002239_P182, Zm00001d002239_P219, Zm00001d002239_P037, Zm00001d002239_P087, Zm00001d002239_P159, Zm00001d002239_P109, Zm00001d002239_P035, Zm00001d002239_P205, Zm00001d002239_P145, Zm00001d002239_P120, Zm00001d002239_P226, Zm00001d002239_P074, Zm00001d002239_P190, Zm00001d002239_P189, Zm00001d002239_P039, Zm00001d002239_P138, Zm00001d002239_P193, Zm00001d002239_P211, Zm00001d002239_P084, Zm00001d002239_P149, Zm00001d002239_P055, Zm00001d002239_P206, Zm00001d002239_P143, Zm00001d002239_P028, Zm00001d002239_P117, Zm00001d002239_P033, Zm00001d002239_P018, Zm00001d002239_P016, Zm00001d002239_P195, Zm00001d002239_P119, Zm00001d002239_P124, Zm00001d002239_P192, Zm00001d002239_P100, Zm00001d002239_P113, Zm00001d002239_P227, Zm00001d002239_P218, Zm00001d002239_P001, Zm00001d002239_P136, Zm00001d002239_P012, Zm00001d002239_P026, Zm00001d002239_P029, Zm00001d002239_P071, Zm00001d002239_P041, Zm00001d002239_P123, Zm00001d002239_P070, Zm00001d002239_P187, Zm00001d002239_P163, Zm00001d002239_P075, Zm00001d002239_P082, Zm00001d002239_P202, Zm00001d002239_P112, Zm00001d002239_P204, Zm00001d002239_P122, Zm00001d002239_P173, Zm00001d002239_P060, Zm00001d002239_P088, Zm00001d002239_P030, Zm00001d002239_P032, Zm00001d002239_P099, Zm00001d002239_P059, Zm00001d002239_P155, Zm00001d002239_P102, Zm00001d002239_P141, Zm00001d002239_P125, Zm00001d002239_P105 |\n",
       "| N0.HOG0000001 | OG0000001 | n0 | Zm00001d006323_P129, Zm00001d006323_P146, Zm00001d006323_P084, Zm00001d006323_P098, Zm00001d006323_P091, Zm00001d006323_P102, Zm00001d006323_P030, Zm00001d006323_P173, Zm00001d006323_P174, Zm00001d006323_P172, Zm00001d006323_P001, Zm00001d006323_P157, Zm00001d006323_P176, Zm00001d006323_P171, Zm00001d006323_P133, Zm00001d006323_P158, Zm00001d006323_P163, Zm00001d006323_P139, Zm00001d006323_P155, Zm00001d006323_P161, Zm00001d006323_P112, Zm00001d006323_P086, Zm00001d006323_P015, Zm00001d006323_P149, Zm00001d006323_P148, Zm00001d006323_P140, Zm00001d006323_P136, Zm00001d006323_P127, Zm00001d006323_P152, Zm00001d006323_P137, Zm00001d006323_P138, Zm00001d006323_P131, Zm00001d006323_P141, Zm00001d006323_P168, Zm00001d006323_P103, Zm00001d006323_P044, Zm00001d006323_P055, Zm00001d006323_P028, Zm00001d006323_P118, Zm00001d006323_P008, Zm00001d006323_P010, Zm00001d006323_P049, Zm00001d006323_P058, Zm00001d006323_P064, Zm00001d006323_P065, Zm00001d006323_P096, Zm00001d006323_P051, Zm00001d006323_P013, Zm00001d006323_P101, Zm00001d006323_P069, Zm00001d006323_P081, Zm00001d006323_P002, Zm00001d006323_P070, Zm00001d006323_P004, Zm00001d006323_P060, Zm00001d006323_P037, Zm00001d006323_P020, Zm00001d006323_P108, Zm00001d006323_P022, Zm00001d006323_P105, Zm00001d006323_P122, Zm00001d006323_P100, Zm00001d006323_P003, Zm00001d006323_P039, Zm00001d006323_P034, Zm00001d006323_P080, Zm00001d006323_P077, Zm00001d006323_P059, Zm00001d006323_P016, Zm00001d006323_P042, Zm00001d006323_P166, Zm00001d006323_P169, Zm00001d006323_P162, Zm00001d006323_P046, Zm00001d006323_P150, Zm00001d004759_P001, Zm00001d006323_P114, Zm00001d006323_P088, Zm00001d006323_P110, Zm00001d006323_P005, Zm00001d006323_P135, Zm00001d006323_P090, Zm00001d006323_P033, Zm00001d006323_P047, Zm00001d006323_P072, Zm00001d006323_P057, Zm00001d006323_P123, Zm00001d006323_P031, Zm00001d006323_P038, Zm00001d006323_P062, Zm00001d006323_P119, Zm00001d006323_P134, Zm00001d006323_P097, Zm00001d006323_P067, Zm00001d006323_P075, Zm00001d006323_P164, Zm00001d006323_P063, Zm00001d006323_P025, Zm00001d006323_P026, Zm00001d006323_P018, Zm00001d006323_P074, Zm00001d006323_P094, Zm00001d006323_P053, AT2G31650.1                                                                                                                                                                                                                                                                     |\n",
       "| N0.HOG0000002 | OG0000002 | n0 | Zm00001d005090_P077, Zm00001d005090_P079, Zm00001d005090_P076, Zm00001d005090_P078, Zm00001d005090_P074, Zm00001d005090_P100, Zm00001d005090_P129, Zm00001d005090_P075, Zm00001d005090_P101, Zm00001d005090_P171, Zm00001d005090_P192, Zm00001d005090_P198, Zm00001d005090_P195, Zm00001d005090_P106, Zm00001d005090_P010, Zm00001d005090_P165, Zm00001d005090_P190, Zm00001d005090_P019, Zm00001d005090_P088, Zm00001d005090_P168, Zm00001d005090_P099, Zm00001d005090_P166, Zm00001d005090_P167, Zm00001d005090_P042, Zm00001d005090_P164, Zm00001d005090_P096, Zm00001d005090_P193, Zm00001d005090_P015, Zm00001d005090_P108, Zm00001d005090_P197, Zm00001d005090_P107, Zm00001d005090_P018, Zm00001d005090_P162, Zm00001d005090_P083, Zm00001d005090_P115, Zm00001d005090_P064, Zm00001d005090_P030, Zm00001d005090_P050, Zm00001d005090_P103, Zm00001d005090_P187, Zm00001d005090_P008, Zm00001d005090_P056, Zm00001d005090_P023, Zm00001d005090_P169, Zm00001d005090_P028, Zm00001d005090_P041, Zm00001d005090_P145, Zm00001d005090_P029, Zm00001d005090_P026, Zm00001d005090_P025, Zm00001d005090_P027, Zm00001d005090_P001, Zm00001d005090_P072, Zm00001d005090_P119, Zm00001d005090_P158, Zm00001d005090_P044, Zm00001d005090_P114, Zm00001d005090_P038, Zm00001d005090_P172, Zm00001d005090_P174, Zm00001d005090_P037, Zm00001d005090_P153, Zm00001d005090_P090, Zm00001d005090_P131, Zm00001d005090_P047, Zm00001d005090_P149, Zm00001d005090_P112, Zm00001d005090_P102, Zm00001d005090_P128, Zm00001d005090_P073, Zm00001d005090_P067, Zm00001d005090_P124, Zm00001d005090_P035, Zm00001d005090_P087, Zm00001d005090_P065, Zm00001d005090_P017, Zm00001d005090_P085, Zm00001d005090_P081, Zm00001d005090_P120, Zm00001d005090_P060, Zm00001d005090_P155, Zm00001d005090_P005, Zm00001d005090_P154, Zm00001d005090_P082, Zm00001d005090_P126, Zm00001d005090_P110, Zm00001d005090_P163, Zm00001d005090_P093, Zm00001d005090_P161, Zm00001d005090_P160, Zm00001d005090_P159, Zm00001d005090_P123, Zm00001d005090_P156, Zm00001d005090_P052, Zm00001d005090_P004, Zm00001d005090_P118, Zm00001d005090_P061, Zm00001d005090_P032, Zm00001d005090_P095, Zm00001d005090_P054, Zm00001d005090_P070, Zm00001d005090_P157, Zm00001d005090_P058, Zm00001d005090_P022                                                                                                                                                                                                                                                             |\n",
       "| N0.HOG0000003 | OG0000003 | n0 | HORVU2Hr1G023940.32, HORVU2Hr1G023940.19, HORVU2Hr1G023940.1, HORVU2Hr1G023940.5, HORVU2Hr1G023940.28, HORVU2Hr1G023940.31, HORVU2Hr1G023940.16, HORVU2Hr1G023940.10, HORVU2Hr1G023940.37, HORVU2Hr1G023940.45, HORVU2Hr1G023940.15, HORVU2Hr1G023940.13, HORVU2Hr1G023940.8, HORVU2Hr1G023940.18, HORVU2Hr1G023940.41, HORVU2Hr1G023940.4, HORVU2Hr1G023940.14, HORVU2Hr1G023940.27, HORVU2Hr1G023940.33, HORVU2Hr1G023940.35, HORVU2Hr1G023940.12, HORVU2Hr1G023940.6, HORVU2Hr1G023940.24, HORVU2Hr1G023940.54, HORVU2Hr1G023940.50, HORVU2Hr1G023940.52, HORVU2Hr1G023940.53, HORVU2Hr1G023940.48, HORVU2Hr1G023940.49, HORVU2Hr1G023940.42, HORVU2Hr1G023940.2, HORVU2Hr1G023940.21, HORVU2Hr1G023940.25, HORVU2Hr1G023940.40, HORVU2Hr1G023940.51, HORVU2Hr1G023940.55, HORVU2Hr1G023940.22, HORVU2Hr1G023940.17, HORVU2Hr1G023940.46, HORVU2Hr1G023940.38, HORVU2Hr1G023940.30, HORVU2Hr1G023940.47, HORVU2Hr1G023940.9, HORVU2Hr1G023940.26, HORVU2Hr1G023940.34, HORVU2Hr1G023940.39, HORVU2Hr1G023940.36, HORVU2Hr1G023940.44, HORVU2Hr1G020330.36, HORVU2Hr1G020330.5, HORVU2Hr1G020330.14, HORVU2Hr1G020330.7, HORVU2Hr1G020330.45, HORVU2Hr1G020330.43, HORVU2Hr1G020330.11, HORVU2Hr1G020330.42, HORVU2Hr1G020330.1, HORVU2Hr1G020330.17, HORVU2Hr1G020330.23, HORVU2Hr1G020330.39, HORVU2Hr1G020330.26, HORVU2Hr1G020330.6, HORVU2Hr1G020330.44, HORVU2Hr1G020330.3, HORVU2Hr1G020330.4, HORVU2Hr1G020330.35, HORVU2Hr1G020330.25, HORVU2Hr1G020330.32, HORVU2Hr1G020330.21, HORVU2Hr1G020330.22, HORVU2Hr1G020330.38, HORVU2Hr1G020330.24, HORVU2Hr1G020330.27, HORVU2Hr1G020330.9, HORVU2Hr1G020330.30, HORVU2Hr1G020330.31, HORVU2Hr1G020330.10, HORVU2Hr1G020330.2, HORVU2Hr1G020330.13, HORVU2Hr1G020330.28, HORVU2Hr1G020330.34, HORVU2Hr1G020330.8, HORVU2Hr1G020330.19, HORVU2Hr1G020330.18, HORVU2Hr1G020330.15, HORVU2Hr1G020330.20, HORVU2Hr1G020330.16, HORVU2Hr1G020330.12, HORVU2Hr1G020330.33, HORVU2Hr1G020330.29, HORVU2Hr1G020330.37, HORVU2Hr1G020330.41, HORVU2Hr1G020330.40, HORVU2Hr1G023940.43, HORVU2Hr1G023940.3, HORVU2Hr1G023940.23, HORVU2Hr1G023940.7, HORVU2Hr1G023940.11, HORVU2Hr1G023940.20, HORVU2Hr1G023940.29                                                                                                                                                                                                                                                                                                                                                                   |\n",
       "| N0.HOG0000004 | OG0000004 | n0 | HORVU2Hr1G012540.56, HORVU2Hr1G012540.40, HORVU2Hr1G012540.44, HORVU2Hr1G012540.30, HORVU2Hr1G012540.42, HORVU2Hr1G012540.28, HORVU2Hr1G012540.34, HORVU2Hr1G012540.47, HORVU2Hr1G012540.35, HORVU2Hr1G012520.7, HORVU2Hr1G012520.5, HORVU2Hr1G012520.2, HORVU2Hr1G012520.17, HORVU2Hr1G012520.6, HORVU2Hr1G012520.34, HORVU2Hr1G012520.40, HORVU2Hr1G012520.24, HORVU2Hr1G012520.13, HORVU2Hr1G012520.25, HORVU2Hr1G012520.19, HORVU2Hr1G012520.31, HORVU2Hr1G012520.26, HORVU2Hr1G012520.49, HORVU2Hr1G012520.18, HORVU2Hr1G012520.50, HORVU2Hr1G012520.37, HORVU2Hr1G012520.48, HORVU2Hr1G012520.51, HORVU2Hr1G012520.10, HORVU2Hr1G012520.52, HORVU2Hr1G012520.45, HORVU2Hr1G012520.44, HORVU2Hr1G012520.32, HORVU2Hr1G012520.47, HORVU2Hr1G012540.59, HORVU2Hr1G012540.55, HORVU2Hr1G012540.53, HORVU2Hr1G012540.33, HORVU2Hr1G012540.41, HORVU2Hr1G012540.36, HORVU2Hr1G012540.45, HORVU2Hr1G012540.57, HORVU2Hr1G012540.65, HORVU2Hr1G012540.61, HORVU2Hr1G012540.43, HORVU2Hr1G012540.60, HORVU2Hr1G012540.29, HORVU2Hr1G012540.64, HORVU2Hr1G012540.52, HORVU2Hr1G012540.50, HORVU2Hr1G012540.38, HORVU2Hr1G012540.49, HORVU2Hr1G012540.63, HORVU2Hr1G012540.62, HORVU2Hr1G012540.54, HORVU2Hr1G012540.68, HORVU2Hr1G012540.46, HORVU2Hr1G012540.39, HORVU2Hr1G012540.58, HORVU2Hr1G012540.67, HORVU2Hr1G012540.66, HORVU2Hr1G012520.36, HORVU2Hr1G012520.1, HORVU2Hr1G012520.23, HORVU2Hr1G012520.30, HORVU2Hr1G012520.3, HORVU2Hr1G012520.35, HORVU2Hr1G012520.22, HORVU2Hr1G012520.46, HORVU2Hr1G012520.21, HORVU2Hr1G012520.9, HORVU2Hr1G012520.8, HORVU2Hr1G012520.14, HORVU2Hr1G012520.16, HORVU2Hr1G012520.15, HORVU2Hr1G012520.20, HORVU2Hr1G012520.29, HORVU2Hr1G012520.38, HORVU2Hr1G012520.39, HORVU2Hr1G012520.11, HORVU2Hr1G012520.28, HORVU2Hr1G012520.27, HORVU2Hr1G012520.12, HORVU2Hr1G012520.4, HORVU2Hr1G012520.41, HORVU2Hr1G012520.43, HORVU2Hr1G012520.33, HORVU2Hr1G012520.42, HORVU2Hr1G012540.48, HORVU2Hr1G012540.51, HORVU2Hr1G012540.32, HORVU2Hr1G012540.37, HORVU2Hr1G012540.31                                                                                                                                                                                                                                                                                                                                                                                                                                                                                                             |\n",
       "| N0.HOG0000005 | OG0000005 | n0 | HORVU2Hr1G034660.12, HORVU2Hr1G034660.15, HORVU2Hr1G034660.16, HORVU2Hr1G034660.49, HORVU2Hr1G034660.48, HORVU2Hr1G034660.34, HORVU2Hr1G034660.42, HORVU2Hr1G034660.23, HORVU2Hr1G034660.19, HORVU2Hr1G034660.51, HORVU2Hr1G100980.19, HORVU2Hr1G100980.16, HORVU2Hr1G100980.6, HORVU2Hr1G100980.1, HORVU2Hr1G100980.20, HORVU2Hr1G100980.23, HORVU2Hr1G100980.18, HORVU2Hr1G100980.4, HORVU2Hr1G100980.33, HORVU2Hr1G100980.21, HORVU2Hr1G100980.8, HORVU2Hr1G100980.15, HORVU2Hr1G100980.5, HORVU2Hr1G100980.25, HORVU2Hr1G100980.31, HORVU2Hr1G100980.9, HORVU2Hr1G100980.24, HORVU2Hr1G100980.26, HORVU2Hr1G100980.32, HORVU2Hr1G100980.13, HORVU2Hr1G034660.13, HORVU2Hr1G100980.22, HORVU2Hr1G100980.28, HORVU2Hr1G100980.2, HORVU2Hr1G100980.11, HORVU2Hr1G100980.27, HORVU2Hr1G100980.29, HORVU2Hr1G100980.10, HORVU2Hr1G100980.3, HORVU2Hr1G100980.17, HORVU2Hr1G100980.30, HORVU2Hr1G100980.12, HORVU2Hr1G100980.7, HORVU2Hr1G100980.14, HORVU2Hr1G034660.26, HORVU2Hr1G034660.32, HORVU2Hr1G034660.58, HORVU2Hr1G034660.57, HORVU2Hr1G013480.1, HORVU2Hr1G034660.53, HORVU2Hr1G034660.38, HORVU2Hr1G034660.20, HORVU2Hr1G034660.29, HORVU2Hr1G034660.18, HORVU2Hr1G034660.24, HORVU2Hr1G034660.39, HORVU2Hr1G034660.41, HORVU2Hr1G034660.54, HORVU2Hr1G034660.28, HORVU2Hr1G034660.27, HORVU2Hr1G034660.25, HORVU2Hr1G034660.30, HORVU2Hr1G034660.14, HORVU2Hr1G034660.17, HORVU2Hr1G034660.21, HORVU2Hr1G034660.46, HORVU2Hr1G034660.33, HORVU2Hr1G034660.40, HORVU2Hr1G034660.52, HORVU2Hr1G034660.35, HORVU2Hr1G034660.47, HORVU2Hr1G034660.56, HORVU2Hr1G034660.55, HORVU2Hr1G034660.37, HORVU2Hr1G034660.22, HORVU2Hr1G034660.50, HORVU2Hr1G034660.44, HORVU2Hr1G034660.45, HORVU2Hr1G034660.36, HORVU2Hr1G034660.43, HORVU2Hr1G034660.31                                                                                                                                                                                                                                                                                                                                                                                                                                                                                                                                                                                                                                                                                                                                                                          |\n",
       "\n"
      ],
      "text/plain": [
       "  HOG           OG        Gene Tree Parent Clade\n",
       "1 N0.HOG0000000 OG0000000 n0                    \n",
       "2 N0.HOG0000001 OG0000001 n0                    \n",
       "3 N0.HOG0000002 OG0000002 n0                    \n",
       "4 N0.HOG0000003 OG0000003 n0                    \n",
       "5 N0.HOG0000004 OG0000004 n0                    \n",
       "6 N0.HOG0000005 OG0000005 n0                    \n",
       "  genes                                                                                                                                                                                                                                                                                                                                                                                                                                                                                                                                                                                                                                                                                                                                                                                                                                                                                                                                                                                                                                                                                                                                                                                                                                                                                                                                                                                                                                                                                                                                                                                                                                                                                                                                                                                                                                                                                                                                                                                                                                                                                                                                                                                                                                                                                                                                                                                                                                                                                                                             \n",
       "1 Zm00001d002239_P101, Zm00001d002239_P098, Zm00001d002239_P154, Zm00001d002239_P036, Zm00001d002239_P229, Zm00001d002239_P040, Zm00001d002239_P217, Zm00001d002239_P210, Zm00001d002239_P148, Zm00001d002239_P196, Zm00001d002239_P085, Zm00001d002239_P022, Zm00001d002239_P017, Zm00001d002239_P186, Zm00001d002239_P073, Zm00001d002239_P089, Zm00001d002239_P056, Zm00001d002239_P046, Zm00001d002239_P152, Zm00001d002239_P090, Zm00001d002239_P129, Zm00001d002239_P118, Zm00001d002239_P103, Zm00001d002239_P058, Zm00001d002239_P042, Zm00001d002239_P220, Zm00001d002239_P174, Zm00001d002239_P083, Zm00001d002239_P047, Zm00001d002239_P054, Zm00001d002239_P191, Zm00001d002239_P198, Zm00001d002239_P234, Zm00001d002239_P150, Zm00001d002239_P133, Zm00001d002239_P096, Zm00001d002239_P180, Zm00001d002239_P233, Zm00001d002239_P014, Zm00001d002239_P111, Zm00001d002239_P072, Zm00001d002239_P171, Zm00001d002239_P216, Zm00001d002239_P107, Zm00001d002239_P011, Zm00001d002239_P086, Zm00001d002239_P212, Zm00001d002239_P172, Zm00001d002239_P179, Zm00001d002239_P025, Zm00001d002239_P156, Zm00001d002239_P182, Zm00001d002239_P219, Zm00001d002239_P037, Zm00001d002239_P087, Zm00001d002239_P159, Zm00001d002239_P109, Zm00001d002239_P035, Zm00001d002239_P205, Zm00001d002239_P145, Zm00001d002239_P120, Zm00001d002239_P226, Zm00001d002239_P074, Zm00001d002239_P190, Zm00001d002239_P189, Zm00001d002239_P039, Zm00001d002239_P138, Zm00001d002239_P193, Zm00001d002239_P211, Zm00001d002239_P084, Zm00001d002239_P149, Zm00001d002239_P055, Zm00001d002239_P206, Zm00001d002239_P143, Zm00001d002239_P028, Zm00001d002239_P117, Zm00001d002239_P033, Zm00001d002239_P018, Zm00001d002239_P016, Zm00001d002239_P195, Zm00001d002239_P119, Zm00001d002239_P124, Zm00001d002239_P192, Zm00001d002239_P100, Zm00001d002239_P113, Zm00001d002239_P227, Zm00001d002239_P218, Zm00001d002239_P001, Zm00001d002239_P136, Zm00001d002239_P012, Zm00001d002239_P026, Zm00001d002239_P029, Zm00001d002239_P071, Zm00001d002239_P041, Zm00001d002239_P123, Zm00001d002239_P070, Zm00001d002239_P187, Zm00001d002239_P163, Zm00001d002239_P075, Zm00001d002239_P082, Zm00001d002239_P202, Zm00001d002239_P112, Zm00001d002239_P204, Zm00001d002239_P122, Zm00001d002239_P173, Zm00001d002239_P060, Zm00001d002239_P088, Zm00001d002239_P030, Zm00001d002239_P032, Zm00001d002239_P099, Zm00001d002239_P059, Zm00001d002239_P155, Zm00001d002239_P102, Zm00001d002239_P141, Zm00001d002239_P125, Zm00001d002239_P105\n",
       "2 Zm00001d006323_P129, Zm00001d006323_P146, Zm00001d006323_P084, Zm00001d006323_P098, Zm00001d006323_P091, Zm00001d006323_P102, Zm00001d006323_P030, Zm00001d006323_P173, Zm00001d006323_P174, Zm00001d006323_P172, Zm00001d006323_P001, Zm00001d006323_P157, Zm00001d006323_P176, Zm00001d006323_P171, Zm00001d006323_P133, Zm00001d006323_P158, Zm00001d006323_P163, Zm00001d006323_P139, Zm00001d006323_P155, Zm00001d006323_P161, Zm00001d006323_P112, Zm00001d006323_P086, Zm00001d006323_P015, Zm00001d006323_P149, Zm00001d006323_P148, Zm00001d006323_P140, Zm00001d006323_P136, Zm00001d006323_P127, Zm00001d006323_P152, Zm00001d006323_P137, Zm00001d006323_P138, Zm00001d006323_P131, Zm00001d006323_P141, Zm00001d006323_P168, Zm00001d006323_P103, Zm00001d006323_P044, Zm00001d006323_P055, Zm00001d006323_P028, Zm00001d006323_P118, Zm00001d006323_P008, Zm00001d006323_P010, Zm00001d006323_P049, Zm00001d006323_P058, Zm00001d006323_P064, Zm00001d006323_P065, Zm00001d006323_P096, Zm00001d006323_P051, Zm00001d006323_P013, Zm00001d006323_P101, Zm00001d006323_P069, Zm00001d006323_P081, Zm00001d006323_P002, Zm00001d006323_P070, Zm00001d006323_P004, Zm00001d006323_P060, Zm00001d006323_P037, Zm00001d006323_P020, Zm00001d006323_P108, Zm00001d006323_P022, Zm00001d006323_P105, Zm00001d006323_P122, Zm00001d006323_P100, Zm00001d006323_P003, Zm00001d006323_P039, Zm00001d006323_P034, Zm00001d006323_P080, Zm00001d006323_P077, Zm00001d006323_P059, Zm00001d006323_P016, Zm00001d006323_P042, Zm00001d006323_P166, Zm00001d006323_P169, Zm00001d006323_P162, Zm00001d006323_P046, Zm00001d006323_P150, Zm00001d004759_P001, Zm00001d006323_P114, Zm00001d006323_P088, Zm00001d006323_P110, Zm00001d006323_P005, Zm00001d006323_P135, Zm00001d006323_P090, Zm00001d006323_P033, Zm00001d006323_P047, Zm00001d006323_P072, Zm00001d006323_P057, Zm00001d006323_P123, Zm00001d006323_P031, Zm00001d006323_P038, Zm00001d006323_P062, Zm00001d006323_P119, Zm00001d006323_P134, Zm00001d006323_P097, Zm00001d006323_P067, Zm00001d006323_P075, Zm00001d006323_P164, Zm00001d006323_P063, Zm00001d006323_P025, Zm00001d006323_P026, Zm00001d006323_P018, Zm00001d006323_P074, Zm00001d006323_P094, Zm00001d006323_P053, AT2G31650.1                                                                                                                                                                                                                                                                    \n",
       "3 Zm00001d005090_P077, Zm00001d005090_P079, Zm00001d005090_P076, Zm00001d005090_P078, Zm00001d005090_P074, Zm00001d005090_P100, Zm00001d005090_P129, Zm00001d005090_P075, Zm00001d005090_P101, Zm00001d005090_P171, Zm00001d005090_P192, Zm00001d005090_P198, Zm00001d005090_P195, Zm00001d005090_P106, Zm00001d005090_P010, Zm00001d005090_P165, Zm00001d005090_P190, Zm00001d005090_P019, Zm00001d005090_P088, Zm00001d005090_P168, Zm00001d005090_P099, Zm00001d005090_P166, Zm00001d005090_P167, Zm00001d005090_P042, Zm00001d005090_P164, Zm00001d005090_P096, Zm00001d005090_P193, Zm00001d005090_P015, Zm00001d005090_P108, Zm00001d005090_P197, Zm00001d005090_P107, Zm00001d005090_P018, Zm00001d005090_P162, Zm00001d005090_P083, Zm00001d005090_P115, Zm00001d005090_P064, Zm00001d005090_P030, Zm00001d005090_P050, Zm00001d005090_P103, Zm00001d005090_P187, Zm00001d005090_P008, Zm00001d005090_P056, Zm00001d005090_P023, Zm00001d005090_P169, Zm00001d005090_P028, Zm00001d005090_P041, Zm00001d005090_P145, Zm00001d005090_P029, Zm00001d005090_P026, Zm00001d005090_P025, Zm00001d005090_P027, Zm00001d005090_P001, Zm00001d005090_P072, Zm00001d005090_P119, Zm00001d005090_P158, Zm00001d005090_P044, Zm00001d005090_P114, Zm00001d005090_P038, Zm00001d005090_P172, Zm00001d005090_P174, Zm00001d005090_P037, Zm00001d005090_P153, Zm00001d005090_P090, Zm00001d005090_P131, Zm00001d005090_P047, Zm00001d005090_P149, Zm00001d005090_P112, Zm00001d005090_P102, Zm00001d005090_P128, Zm00001d005090_P073, Zm00001d005090_P067, Zm00001d005090_P124, Zm00001d005090_P035, Zm00001d005090_P087, Zm00001d005090_P065, Zm00001d005090_P017, Zm00001d005090_P085, Zm00001d005090_P081, Zm00001d005090_P120, Zm00001d005090_P060, Zm00001d005090_P155, Zm00001d005090_P005, Zm00001d005090_P154, Zm00001d005090_P082, Zm00001d005090_P126, Zm00001d005090_P110, Zm00001d005090_P163, Zm00001d005090_P093, Zm00001d005090_P161, Zm00001d005090_P160, Zm00001d005090_P159, Zm00001d005090_P123, Zm00001d005090_P156, Zm00001d005090_P052, Zm00001d005090_P004, Zm00001d005090_P118, Zm00001d005090_P061, Zm00001d005090_P032, Zm00001d005090_P095, Zm00001d005090_P054, Zm00001d005090_P070, Zm00001d005090_P157, Zm00001d005090_P058, Zm00001d005090_P022                                                                                                                                                                                                                                                            \n",
       "4 HORVU2Hr1G023940.32, HORVU2Hr1G023940.19, HORVU2Hr1G023940.1, HORVU2Hr1G023940.5, HORVU2Hr1G023940.28, HORVU2Hr1G023940.31, HORVU2Hr1G023940.16, HORVU2Hr1G023940.10, HORVU2Hr1G023940.37, HORVU2Hr1G023940.45, HORVU2Hr1G023940.15, HORVU2Hr1G023940.13, HORVU2Hr1G023940.8, HORVU2Hr1G023940.18, HORVU2Hr1G023940.41, HORVU2Hr1G023940.4, HORVU2Hr1G023940.14, HORVU2Hr1G023940.27, HORVU2Hr1G023940.33, HORVU2Hr1G023940.35, HORVU2Hr1G023940.12, HORVU2Hr1G023940.6, HORVU2Hr1G023940.24, HORVU2Hr1G023940.54, HORVU2Hr1G023940.50, HORVU2Hr1G023940.52, HORVU2Hr1G023940.53, HORVU2Hr1G023940.48, HORVU2Hr1G023940.49, HORVU2Hr1G023940.42, HORVU2Hr1G023940.2, HORVU2Hr1G023940.21, HORVU2Hr1G023940.25, HORVU2Hr1G023940.40, HORVU2Hr1G023940.51, HORVU2Hr1G023940.55, HORVU2Hr1G023940.22, HORVU2Hr1G023940.17, HORVU2Hr1G023940.46, HORVU2Hr1G023940.38, HORVU2Hr1G023940.30, HORVU2Hr1G023940.47, HORVU2Hr1G023940.9, HORVU2Hr1G023940.26, HORVU2Hr1G023940.34, HORVU2Hr1G023940.39, HORVU2Hr1G023940.36, HORVU2Hr1G023940.44, HORVU2Hr1G020330.36, HORVU2Hr1G020330.5, HORVU2Hr1G020330.14, HORVU2Hr1G020330.7, HORVU2Hr1G020330.45, HORVU2Hr1G020330.43, HORVU2Hr1G020330.11, HORVU2Hr1G020330.42, HORVU2Hr1G020330.1, HORVU2Hr1G020330.17, HORVU2Hr1G020330.23, HORVU2Hr1G020330.39, HORVU2Hr1G020330.26, HORVU2Hr1G020330.6, HORVU2Hr1G020330.44, HORVU2Hr1G020330.3, HORVU2Hr1G020330.4, HORVU2Hr1G020330.35, HORVU2Hr1G020330.25, HORVU2Hr1G020330.32, HORVU2Hr1G020330.21, HORVU2Hr1G020330.22, HORVU2Hr1G020330.38, HORVU2Hr1G020330.24, HORVU2Hr1G020330.27, HORVU2Hr1G020330.9, HORVU2Hr1G020330.30, HORVU2Hr1G020330.31, HORVU2Hr1G020330.10, HORVU2Hr1G020330.2, HORVU2Hr1G020330.13, HORVU2Hr1G020330.28, HORVU2Hr1G020330.34, HORVU2Hr1G020330.8, HORVU2Hr1G020330.19, HORVU2Hr1G020330.18, HORVU2Hr1G020330.15, HORVU2Hr1G020330.20, HORVU2Hr1G020330.16, HORVU2Hr1G020330.12, HORVU2Hr1G020330.33, HORVU2Hr1G020330.29, HORVU2Hr1G020330.37, HORVU2Hr1G020330.41, HORVU2Hr1G020330.40, HORVU2Hr1G023940.43, HORVU2Hr1G023940.3, HORVU2Hr1G023940.23, HORVU2Hr1G023940.7, HORVU2Hr1G023940.11, HORVU2Hr1G023940.20, HORVU2Hr1G023940.29                                                                                                                                                                                                                                                                                                                                                                  \n",
       "5 HORVU2Hr1G012540.56, HORVU2Hr1G012540.40, HORVU2Hr1G012540.44, HORVU2Hr1G012540.30, HORVU2Hr1G012540.42, HORVU2Hr1G012540.28, HORVU2Hr1G012540.34, HORVU2Hr1G012540.47, HORVU2Hr1G012540.35, HORVU2Hr1G012520.7, HORVU2Hr1G012520.5, HORVU2Hr1G012520.2, HORVU2Hr1G012520.17, HORVU2Hr1G012520.6, HORVU2Hr1G012520.34, HORVU2Hr1G012520.40, HORVU2Hr1G012520.24, HORVU2Hr1G012520.13, HORVU2Hr1G012520.25, HORVU2Hr1G012520.19, HORVU2Hr1G012520.31, HORVU2Hr1G012520.26, HORVU2Hr1G012520.49, HORVU2Hr1G012520.18, HORVU2Hr1G012520.50, HORVU2Hr1G012520.37, HORVU2Hr1G012520.48, HORVU2Hr1G012520.51, HORVU2Hr1G012520.10, HORVU2Hr1G012520.52, HORVU2Hr1G012520.45, HORVU2Hr1G012520.44, HORVU2Hr1G012520.32, HORVU2Hr1G012520.47, HORVU2Hr1G012540.59, HORVU2Hr1G012540.55, HORVU2Hr1G012540.53, HORVU2Hr1G012540.33, HORVU2Hr1G012540.41, HORVU2Hr1G012540.36, HORVU2Hr1G012540.45, HORVU2Hr1G012540.57, HORVU2Hr1G012540.65, HORVU2Hr1G012540.61, HORVU2Hr1G012540.43, HORVU2Hr1G012540.60, HORVU2Hr1G012540.29, HORVU2Hr1G012540.64, HORVU2Hr1G012540.52, HORVU2Hr1G012540.50, HORVU2Hr1G012540.38, HORVU2Hr1G012540.49, HORVU2Hr1G012540.63, HORVU2Hr1G012540.62, HORVU2Hr1G012540.54, HORVU2Hr1G012540.68, HORVU2Hr1G012540.46, HORVU2Hr1G012540.39, HORVU2Hr1G012540.58, HORVU2Hr1G012540.67, HORVU2Hr1G012540.66, HORVU2Hr1G012520.36, HORVU2Hr1G012520.1, HORVU2Hr1G012520.23, HORVU2Hr1G012520.30, HORVU2Hr1G012520.3, HORVU2Hr1G012520.35, HORVU2Hr1G012520.22, HORVU2Hr1G012520.46, HORVU2Hr1G012520.21, HORVU2Hr1G012520.9, HORVU2Hr1G012520.8, HORVU2Hr1G012520.14, HORVU2Hr1G012520.16, HORVU2Hr1G012520.15, HORVU2Hr1G012520.20, HORVU2Hr1G012520.29, HORVU2Hr1G012520.38, HORVU2Hr1G012520.39, HORVU2Hr1G012520.11, HORVU2Hr1G012520.28, HORVU2Hr1G012520.27, HORVU2Hr1G012520.12, HORVU2Hr1G012520.4, HORVU2Hr1G012520.41, HORVU2Hr1G012520.43, HORVU2Hr1G012520.33, HORVU2Hr1G012520.42, HORVU2Hr1G012540.48, HORVU2Hr1G012540.51, HORVU2Hr1G012540.32, HORVU2Hr1G012540.37, HORVU2Hr1G012540.31                                                                                                                                                                                                                                                                                                                                                                                                                                                                                                            \n",
       "6 HORVU2Hr1G034660.12, HORVU2Hr1G034660.15, HORVU2Hr1G034660.16, HORVU2Hr1G034660.49, HORVU2Hr1G034660.48, HORVU2Hr1G034660.34, HORVU2Hr1G034660.42, HORVU2Hr1G034660.23, HORVU2Hr1G034660.19, HORVU2Hr1G034660.51, HORVU2Hr1G100980.19, HORVU2Hr1G100980.16, HORVU2Hr1G100980.6, HORVU2Hr1G100980.1, HORVU2Hr1G100980.20, HORVU2Hr1G100980.23, HORVU2Hr1G100980.18, HORVU2Hr1G100980.4, HORVU2Hr1G100980.33, HORVU2Hr1G100980.21, HORVU2Hr1G100980.8, HORVU2Hr1G100980.15, HORVU2Hr1G100980.5, HORVU2Hr1G100980.25, HORVU2Hr1G100980.31, HORVU2Hr1G100980.9, HORVU2Hr1G100980.24, HORVU2Hr1G100980.26, HORVU2Hr1G100980.32, HORVU2Hr1G100980.13, HORVU2Hr1G034660.13, HORVU2Hr1G100980.22, HORVU2Hr1G100980.28, HORVU2Hr1G100980.2, HORVU2Hr1G100980.11, HORVU2Hr1G100980.27, HORVU2Hr1G100980.29, HORVU2Hr1G100980.10, HORVU2Hr1G100980.3, HORVU2Hr1G100980.17, HORVU2Hr1G100980.30, HORVU2Hr1G100980.12, HORVU2Hr1G100980.7, HORVU2Hr1G100980.14, HORVU2Hr1G034660.26, HORVU2Hr1G034660.32, HORVU2Hr1G034660.58, HORVU2Hr1G034660.57, HORVU2Hr1G013480.1, HORVU2Hr1G034660.53, HORVU2Hr1G034660.38, HORVU2Hr1G034660.20, HORVU2Hr1G034660.29, HORVU2Hr1G034660.18, HORVU2Hr1G034660.24, HORVU2Hr1G034660.39, HORVU2Hr1G034660.41, HORVU2Hr1G034660.54, HORVU2Hr1G034660.28, HORVU2Hr1G034660.27, HORVU2Hr1G034660.25, HORVU2Hr1G034660.30, HORVU2Hr1G034660.14, HORVU2Hr1G034660.17, HORVU2Hr1G034660.21, HORVU2Hr1G034660.46, HORVU2Hr1G034660.33, HORVU2Hr1G034660.40, HORVU2Hr1G034660.52, HORVU2Hr1G034660.35, HORVU2Hr1G034660.47, HORVU2Hr1G034660.56, HORVU2Hr1G034660.55, HORVU2Hr1G034660.37, HORVU2Hr1G034660.22, HORVU2Hr1G034660.50, HORVU2Hr1G034660.44, HORVU2Hr1G034660.45, HORVU2Hr1G034660.36, HORVU2Hr1G034660.43, HORVU2Hr1G034660.31                                                                                                                                                                                                                                                                                                                                                                                                                                                                                                                                                                                                                                                                                                                                                                         "
      ]
     },
     "metadata": {},
     "output_type": "display_data"
    }
   ],
   "source": [
    "# create genes column in ph_orthogroups file\n",
    "# row merge? - no unite function, really handy ;D\n",
    "\n",
    "head(ph_orthogroups %>% unite(\"genes\", all_of(all_species), sep =\", \", na.rm = TRUE, remove = TRUE))\n",
    "ref_ph_orthogroups <- ph_orthogroups %>% unite(\"genes\", all_of(all_species), sep =\", \", na.rm = TRUE, remove = TRUE)"
   ]
  },
  {
   "cell_type": "code",
   "execution_count": null,
   "metadata": {},
   "outputs": [],
   "source": [
    "#exp_og_genes <- unlist(strsplit(ref_ph_orthogroups[ref_ph_orthogroups$HOG == \"N0.HOG0000783\",]$genes, split = \", \"))\n",
    "#BLAST_hits_exp_og_genes <- dplyr::filter(all_BLAST_reformatted, \n",
    "#                                             qseqid_name %in% as.vector(exp_og_genes) | \n",
    "#                                             sseqid_name %in% exp_og_genes)# |\n",
    "#                                              sseqid_name %in% \"HORVU1Hr1G015850\")\n",
    "#BLAST_hits_exp_og_genes\n",
    "#exp_og_genes\n",
    "#head(all_BLAST_reformatted[all_BLAST_reformatted$sseqid_name==\"HORVU1Hr1G015850\",])\n",
    "#BLAST_hits_exp_og_genes\n",
    "#?filter\n",
    "#dput(exp_og_genes)\n",
    "\n",
    "#sorted_BLAST_hits_exp_og_genes <- arrange(BLAST_hits_exp_og_genes, evalue, -bitscore, -pident)\n",
    "#    list_qseqid <- as.character(sorted_BLAST_hits_exp_og_genes$qseqid_name)\n",
    "#    list_sseqid <- as.character(sorted_BLAST_hits_exp_og_genes$sseqid_name)\n",
    "#    list_merged <- unique(c(list_qseqid, list_sseqid))\n",
    "#list_merged"
   ]
  },
  {
   "cell_type": "markdown",
   "metadata": {},
   "source": [
    "##### playaround\n",
    "##### adding a specific number of additional best blast hits to a HOG"
   ]
  },
  {
   "cell_type": "code",
   "execution_count": 26,
   "metadata": {},
   "outputs": [
    {
     "data": {
      "text/html": [
       "24"
      ],
      "text/latex": [
       "24"
      ],
      "text/markdown": [
       "24"
      ],
      "text/plain": [
       "[1] 24"
      ]
     },
     "metadata": {},
     "output_type": "display_data"
    },
    {
     "data": {
      "text/html": [
       "44"
      ],
      "text/latex": [
       "44"
      ],
      "text/markdown": [
       "44"
      ],
      "text/plain": [
       "[1] 44"
      ]
     },
     "metadata": {},
     "output_type": "display_data"
    }
   ],
   "source": [
    "exp_og_genes <- unlist(strsplit(ref_ph_orthogroups[ref_ph_orthogroups$HOG == expanded_HOGs$HOG[47],]$genes, \n",
    "                                        split = \", \"))\n",
    "#exp_og_genes\n",
    "BLAST_hits_exp_og_genes <- dplyr::filter(all_BLAST_reformatted, \n",
    "                                             qseqid_name %in% exp_og_genes | sseqid_name %in% exp_og_genes)\n",
    "sorted_BLAST_hits_exp_og_genes <- arrange(BLAST_hits_exp_og_genes, evalue, -bitscore, -pident)\n",
    "length(exp_og_genes)\n",
    "#sorted_BLAST_hits_exp_og_genes\n",
    "add_blast_hits <- 20\n",
    "HOG_set_extended <- length(exp_og_genes) + add_blast_hits \n",
    "\n",
    "\n",
    "# if we have more than \"add_blast_hits\" further blast hits; limit the set to HOG + \"add_blast_hits\" param\n",
    "#if (length(unique(sorted_BLAST_hits_exp_og_genes$qseqid_name)) >= HOG_set_extended) {\n",
    "    list_qseqid <- as.character(unique(sorted_BLAST_hits_exp_og_genes$qseqid_name)[1:HOG_set_extended])\n",
    "#}\n",
    "# if we have less than \"add_blast_hits\" further blast hits; just take the complete set\n",
    "#else {\n",
    "#    list_qseqid <- as.character(sorted_BLAST_hits_exp_og_genes$qseqid_name)\n",
    "#}\n",
    "\n",
    "length(list_qseqid)"
   ]
  },
  {
   "cell_type": "code",
   "execution_count": null,
   "metadata": {},
   "outputs": [],
   "source": [
    "#exp_og_genes"
   ]
  },
  {
   "cell_type": "markdown",
   "metadata": {},
   "source": [
    "12.05.2021  \n",
    "- ok, so this is actually way less complicated because I can take advantage how vectors work in R\n",
    "- set1 represents qseqids and set2 represents sseqids\n",
    "- unique() on both vectors concatenated rowwise! will yield a non-redundant set, maintaing order of appearance in vectors\n",
    "- if we substract the set of HOG genes (represented by h), then the remaining set is the n next blast hits (in order of filtering)"
   ]
  },
  {
   "cell_type": "code",
   "execution_count": null,
   "metadata": {},
   "outputs": [],
   "source": [
    "set1 <- c(\"a\", \"b\", \"c\", \"d\", \"e\")\n",
    "set2 <- c(\"b\", \"g\", \"c\", \"c\", \"f\")\n",
    "\n",
    "h <- c(\"a\", \"b\", \"c\")\n",
    "\n",
    "m <- na.omit(unique(c(rbind(set1, set2))))\n",
    "m\n",
    "#na.omit(unique(c(rbind(set2, set1))))\n",
    "\n",
    "#setdiff will remove duplicates - which we shouldn't have here anymore\n",
    "setdiff(m, h)"
   ]
  },
  {
   "cell_type": "code",
   "execution_count": null,
   "metadata": {},
   "outputs": [],
   "source": [
    "expanded_HOGs$HOG[20]"
   ]
  },
  {
   "cell_type": "markdown",
   "metadata": {},
   "source": [
    "**retaining up to a specific number of additional BLAST hits + order and info of the BLAST**"
   ]
  },
  {
   "cell_type": "code",
   "execution_count": null,
   "metadata": {},
   "outputs": [],
   "source": [
    "exp_og_genes <- unlist(strsplit(ref_ph_orthogroups[ref_ph_orthogroups$HOG == expanded_HOGs$HOG[20],]$genes, \n",
    "                                        split = \", \"))\n",
    "\n",
    "BLAST_hits_exp_og_genes <- dplyr::filter(all_BLAST_reformatted, \n",
    "                                             qseqid_name %in% exp_og_genes | sseqid_name %in% exp_og_genes)\n",
    "\n",
    "sorted_BLAST_hits_exp_og_genes <- arrange(BLAST_hits_exp_og_genes, evalue, -bitscore, -pident)\n",
    "\n",
    "# sorted table of all HOG genes with their extended blast hits\n",
    "#sorted_BLAST_hits_exp_og_genes\n",
    "\n",
    "# set value to extend the BLAST hits\n",
    "add_blast_hits <- 40\n",
    "HOG_set_extended <- length(exp_og_genes) + add_blast_hits\n",
    "\n",
    "# inside of for loop create per HOG extended gene list based on the additional blast hits\n",
    "# if we have more than \"add_blast_hits\" further blast hits; limit the set to HOG + \"add_blast_hits\" param\n",
    "#if (length(unique(sorted_BLAST_hits_exp_og_genes$qseqid_name)) >= HOG_set_extended) {\n",
    "#   list_qseqid <- as.character(unique(sorted_BLAST_hits_exp_og_genes$qseqid_name)[1:HOG_set_extended])\n",
    "#}\n",
    "# if we have less than \"add_blast_hits\" further blast hits; just take the complete set\n",
    "#else {\n",
    "#    list_qseqid <- as.character(sorted_BLAST_hits_exp_og_genes$qseqid_name)\n",
    "#}\n",
    "\n",
    "#list_qseqid <- as.character(unique(sorted_BLAST_hits_exp_og_genes$qseqid_name)[1:HOG_set_extended])\n",
    "#list_sseqid <- as.character(unique(sorted_BLAST_hits_exp_og_genes$sseqid_name)[1:HOG_set_extended])\n",
    "#list_merged <- na.omit(unique(c(list_qseqid, list_sseqid)))\n",
    "                            \n",
    "# ...\n",
    "# final object is called \"list_merged\"\n",
    "#list_qseqid\n",
    "#list_sseqid\n",
    "#list_merged\n",
    "\n",
    "# use tail() to access last element in vector\n",
    "#tail(list_merged, n=1)\n",
    "\n",
    "# get row number of last appearance of last element in ssequid column\n",
    "# in some instances not as straightforward and last hit is actually on the query side\n",
    "# then use last entry rownumber there as subset cutoff\n",
    "#last <- sorted_BLAST_hits_exp_og_genes %>%\n",
    "#  rowid_to_column() %>%\n",
    "#  filter(\n",
    "#    case_when(\n",
    "#      sseqid_name != tail(list_merged, n=1) ~ qseqid_name == tail(list_merged, n=1),\n",
    "#      T ~ sseqid_name == tail(list_merged, n=1)\n",
    "##    )\n",
    "#  ) %>%\n",
    "#  tail(n=1)\n",
    "#last\n",
    "\n",
    "\n",
    "# get gene name of last gene to be added based on number of add_blast_hits\n",
    "all_blast_genes <- na.omit(\n",
    "       unique(\n",
    "         c(\n",
    "           rbind(\n",
    "             sorted_BLAST_hits_exp_og_genes$qseqid_name, \n",
    "             sorted_BLAST_hits_exp_og_genes$sseqid_name\n",
    "           )\n",
    "         )\n",
    "       )\n",
    "     ) \n",
    "\n",
    "#length(all_blast_genes)\n",
    "\n",
    "\n",
    "#length(unique(exp_og_genes))\n",
    "#length(unique(sorted_BLAST_hits_exp_og_genes$qseqid_name))\n",
    "\n",
    "# set of all extended blast hits (based on threshold) - vector of gene names (ordered!)\n",
    "# also nice: don't need a conditional since `%>% head(n = add_blast_hits)` will work,\n",
    "# even if add_blast_hits param is > setdiff(all_blast_genes, exp_og_genes) \n",
    "extended_blast_hits_genes <- setdiff(all_blast_genes, exp_og_genes) %>% head(n = add_blast_hits)\n",
    "#length(extended_blast_hits_genes)\n",
    "\n",
    "# non redundant set of gene names of HOG + n additional blast hits as defined in the user threshold\n",
    "HOG_and_ext_blast_hits_genes <- c(exp_og_genes, extended_blast_hits_genes)\n",
    "length(HOG_and_ext_blast_hits_genes)\n",
    "\n",
    "#create subset of sorted_BLAST_hits_exp_og_genes table in which only:\n",
    "# exp_og_genes & extended_blast_hits_genes are allowed to appear\n",
    "# this way we have cutoff for the nth best blast hit/gene but also keep all secondary hits\n",
    "HOG_and_ext_blast_hits_table <- sorted_BLAST_hits_exp_og_genes %>%\n",
    "                                        filter(qseqid_name %in% HOG_and_ext_blast_hits_genes) %>%\n",
    "                                        filter(sseqid_name %in% HOG_and_ext_blast_hits_genes)\n",
    "\n",
    "head(HOG_and_ext_blast_hits_table)\n",
    "\n",
    "# create a subset of the \"sorted_BLAST_hits_exp_og_genes\" dataframe based on the final extended gene list\n",
    "# take last gene of extended set, search sseqid until last appearance and cut dataframe there?..\n",
    "# just keep all vs all information - additonal filtering as part of the WebApp\n",
    "#subset_sorted_BLAST_hits_exp_og_genes <- sorted_BLAST_hits_exp_og_genes[1:last$rowid,]\n",
    "#subset_sorted_BLAST_hits_exp_og_genes\n",
    "\n",
    "\n",
    "\n",
    "# finally create object per HOG which stores the BLAST information\n",
    "# object@name_of_HOG <- prev. subsetted tibble of BLAST hits"
   ]
  },
  {
   "cell_type": "code",
   "execution_count": null,
   "metadata": {},
   "outputs": [],
   "source": []
  },
  {
   "cell_type": "code",
   "execution_count": null,
   "metadata": {
    "scrolled": true
   },
   "outputs": [],
   "source": [
    "## define custom class\n",
    "# need a list object to hold all data of this class\n",
    "extended_BLAST_hits <- list()\n",
    "\n",
    "# class for extended BLAST hits info\n",
    "setClass(\"extended_BLAST_hits\", \n",
    "         slots=list(blast_table=\"tbl_df\",\n",
    "                    nrow_table=\"numeric\",\n",
    "                    num_genes_HOG=\"numeric\",\n",
    "                    num_genes_extend=\"numeric\",\n",
    "                    num_genes_complete=\"numeric\",\n",
    "                    genes_HOG=\"tbl_df\")#,\n",
    "#                    genes_extend=\"tbl_df\",\n",
    "#                    genes_complete=\"tbl_df\")\n",
    "         )\n",
    "\n",
    "ext_B_hits <- new(\"extended_BLAST_hits\",\n",
    "      blast_table=subset_sorted_BLAST_hits_exp_og_genes,\n",
    "      nrow_table=nrow(subset_sorted_BLAST_hits_exp_og_genes),\n",
    "      num_genes_HOG=length(exp_og_genes),\n",
    "      num_genes_extend = length(\n",
    "                  unique(\n",
    "                    c(\n",
    "                      unique(subset_sorted_BLAST_hits_exp_og_genes$qseqid_name), \n",
    "                      unique(subset_sorted_BLAST_hits_exp_og_genes$sseqid_name)\n",
    "                      )\n",
    "                  )\n",
    "                ) - length(exp_og_genes),\n",
    "      num_genes_complete=length(\n",
    "                  unique(\n",
    "                    c(\n",
    "                      unique(subset_sorted_BLAST_hits_exp_og_genes$qseqid_name), \n",
    "                      unique(subset_sorted_BLAST_hits_exp_og_genes$sseqid_name)\n",
    "                      )\n",
    "                  )\n",
    "                ),\n",
    "      genes_HOG=as_tibble(exp_og_genes)#,\n",
    "#      genes_extend=as_tibble(unique(\n",
    "#                    c(\n",
    "#                      unique(subset_sorted_BLAST_hits_exp_og_genes$qseqid_name), \n",
    "#                      unique(subset_sorted_BLAST_hits_exp_og_genes$sseqid_name)\n",
    "#                      )) - exp_og_genes),\n",
    "#      genes_complete=as_tibble(unique(\n",
    "#                    c(\n",
    "#                      unique(subset_sorted_BLAST_hits_exp_og_genes$qseqid_name), \n",
    "#                      unique(subset_sorted_BLAST_hits_exp_og_genes$sseqid_name)\n",
    "#                      )))\n",
    "    )\n",
    "\n",
    "ext_B_hits <- list(ext_B_hits)\n",
    "names(ext_B_hits) <- paste0(expanded_HOGs$HOG[21])\n",
    "\n",
    "#x <- list(test)\n",
    "#names(x) <- paste0(expanded_HOGs$HOG[47])\n",
    "\n",
    "extended_BLAST_hits <- c(extended_BLAST_hits, ext_B_hits)\n",
    "\n",
    "summary(extended_BLAST_hits)\n",
    "str(extended_BLAST_hits)\n",
    "\n",
    "#ext_B_hits$N0.HOG0000250"
   ]
  },
  {
   "cell_type": "code",
   "execution_count": null,
   "metadata": {
    "scrolled": true
   },
   "outputs": [],
   "source": [
    "extended_BLAST_hits$N0.HOG0000101@genes_HOG"
   ]
  },
  {
   "cell_type": "code",
   "execution_count": null,
   "metadata": {},
   "outputs": [],
   "source": [
    "#now HOG based\n",
    "\n",
    "#for each gene/protein name in an interesting OG do (is there a file just with names per OG?):\n",
    "#check \"all_BLAST_reformatted\" for all entries including these names and create new dataframe/tibble\n",
    "# then, perform filtering and retain certain set of genes/proteins per OG analysis\n",
    "#  then, create .txt file per OG with these gene names\n",
    "## come-up with filter criteria to have better trees?\n",
    "## I could of course just keep everything and save the evalues, etc.; well, problem for later.. ;D\n",
    "####> output for snakemake? what about inidividual OG txt files, because starting here parallelisation can really impact\n",
    "\n",
    "#additional quotation mark as first element is introduced for some reason\n",
    "#(delim space after : isn't handled properly)\n",
    "#workaround, we get rid with trailing [-1]\n",
    "#not a problem anymore with N0.tsv table as input\n",
    "\n",
    "dir.create(paste(\"tea/\", num, \"/extended_BLAST_hits/\", sep = \"\"))\n",
    "\n",
    "# define the number of additional best blast hits to include in the follow-up analyses\n",
    "add_blast_hits <- 20\n",
    "\n",
    "## define custom class for extended blast hits\n",
    "# need a list object to hold all data of this class\n",
    "extended_BLAST_hits <- list()\n",
    "\n",
    "# class for extended BLAST hits info\n",
    "setClass(\"extended_BLAST_hits\", \n",
    "         slots=list(blast_table=\"tbl_df\",\n",
    "                    num_genes_HOG=\"numeric\",\n",
    "                    num_genes_extend=\"numeric\",\n",
    "                    num_genes_complete=\"numeric\",\n",
    "                    genes_HOG=\"tbl_df\",\n",
    "                    genes_extend_hits=\"tbl_df\")\n",
    "         )\n",
    "\n",
    "\n",
    "for (i in expanded_HOGs$HOG) {\n",
    "    # split = \", \" (instead of \" \") is super important; didn't see this bug at first but\n",
    "    # it led to most genes not being recognized due to additional \",\" at the end..! (see tests in prev. cell)\n",
    "    exp_og_genes <- unlist(strsplit(ref_ph_orthogroups[ref_ph_orthogroups$HOG == i,]$genes, split = \", \"))\n",
    "    BLAST_hits_exp_og_genes <- dplyr::filter(all_BLAST_reformatted, \n",
    "                                             qseqid_name %in% exp_og_genes | sseqid_name %in% exp_og_genes)\n",
    "    sorted_BLAST_hits_exp_og_genes <- arrange(BLAST_hits_exp_og_genes, evalue, -bitscore, -pident)\n",
    "    # add number of chosen additional best blast hits to size of HOG \n",
    "    HOG_set_extended <- length(exp_og_genes) + add_blast_hits\n",
    "    \n",
    "    ### first qseqid\n",
    "    ### if we have more than \"additional genes\" further blast hits; limit the set to HOG + \"additional genes\" param\n",
    "    #if (length(unique(sorted_BLAST_hits_exp_og_genes$qseqid_name)) >= HOG_set_extended) {\n",
    "    ##    list_qseqid <- as.character(unique(sorted_BLAST_hits_exp_og_genes$qseqid_name)[1:HOG_set_extended])\n",
    "    ##}\n",
    "    ## if we have less than \"additional genes\" further blast hits; just take the complete set\n",
    "    ##else {\n",
    "    ##    list_qseqid <- as.character(sorted_BLAST_hits_exp_og_genes$qseqid_name)\n",
    "    ##}\n",
    "    ### now for sseqid\n",
    "    ## if we have more than \"additional genes\" further blast hits; limit the set to HOG + \"additional genes\" param\n",
    "    ##if (length(unique(sorted_BLAST_hits_exp_og_genes$sseqid_name)) >= HOG_set_extended) {\n",
    "    ##    list_sseqid <- as.character(unique(sorted_BLAST_hits_exp_og_genes$sseqid_name)[1:HOG_set_extended])\n",
    "    ##}\n",
    "    ## if we have less than \"additional genes\" further blast hits; just take the complete set\n",
    "    ##else {\n",
    "    ##    list_sseqid <- as.character(sorted_BLAST_hits_exp_og_genes$sseqid_name)\n",
    "    ##}\n",
    "    ##list_merged <- unique(c(list_qseqid, list_sseqid))\n",
    "    \n",
    "    # get gene name of last gene to be added based on number of add_blast_hits\n",
    "    all_blast_genes <- na.omit(\n",
    "       unique(\n",
    "         c(\n",
    "           rbind(\n",
    "             sorted_BLAST_hits_exp_og_genes$qseqid_name, \n",
    "             sorted_BLAST_hits_exp_og_genes$sseqid_name\n",
    "           )\n",
    "         )\n",
    "       )\n",
    "     ) \n",
    "    \n",
    "    # set of all extended blast hits (based on threshold) - vector of gene names (ordered!)\n",
    "    # also nice: don't need a conditional since `%>% head(n = add_blast_hits)` will work,\n",
    "    # even if add_blast_hits param is > setdiff(all_blast_genes, exp_og_genes) \n",
    "    extended_blast_hits_genes <- setdiff(all_blast_genes, exp_og_genes) %>% head(n = add_blast_hits)\n",
    "    # length(extended_blast_hits_genes)\n",
    "  \n",
    "    # non redundant set of gene names of HOG + n additional blast hits as defined in the user threshold\n",
    "    HOG_and_ext_blast_hits_genes <- c(exp_og_genes, extended_blast_hits_genes)\n",
    "\n",
    "    #create subset of sorted_BLAST_hits_exp_og_genes table in which only:\n",
    "    # exp_og_genes & extended_blast_hits_genes are allowed to appear\n",
    "    # this way we have cutoff for the nth best blast hit/gene but also keep all secondary hits\n",
    "    HOG_and_ext_blast_hits_table <- sorted_BLAST_hits_exp_og_genes %>%\n",
    "                                      filter(qseqid_name %in% HOG_and_ext_blast_hits_genes) %>%\n",
    "                                      filter(sseqid_name %in% HOG_and_ext_blast_hits_genes)\n",
    "    \n",
    "    write_lines(HOG_and_ext_blast_hits_genes,\n",
    "           paste(\"tea/\", num, \"/exp_OGs_proteinnames/proteinnames_\", i, \".txt\", sep = \"\"))\n",
    "    \n",
    "    \n",
    "    # also: create list of S4 object containing the blast hits and respective information\n",
    "    \n",
    "    ## use tail() to access last element in vector\n",
    "    ##tail(list_merged, n=1)\n",
    "\n",
    "    ## get row number of last appearance of last element in ssequid column\n",
    "    ## in some instances not as straightforward and last hit is actually on the query side\n",
    "    ## then use last entry rownumber there as subset cutoff\n",
    "    ##last <- sorted_BLAST_hits_exp_og_genes %>%\n",
    "    ##  rowid_to_column() %>%\n",
    "    ##  filter(\n",
    "    ##   case_when(\n",
    "    ##      sseqid_name != tail(list_merged, n=1) ~ qseqid_name == tail(list_merged, n=1),\n",
    "    ##      T ~ sseqid_name == tail(list_merged, n=1)\n",
    "    ##    )\n",
    "    ##  ) %>%\n",
    "    ##  tail(n=1)\n",
    "    \n",
    "    ## create a subset of the \"sorted_BLAST_hits_exp_og_genes\" dataframe based on the final extended gene list\n",
    "    ## take last gene of extended set, search sseqid until last appearance and cut dataframe there\n",
    "    ## just keep all vs all information - additonal filtering as part of the WebApp\n",
    "    ##subset_sorted_BLAST_hits_exp_og_genes <- sorted_BLAST_hits_exp_og_genes[1:last$rowid,]\n",
    "    \n",
    "    # for each exp. HOG create an extended_BLAST_hits S4 object and collect as part of list\n",
    "    ext_B_hits <- new(\"extended_BLAST_hits\",\n",
    "      blast_table=HOG_and_ext_blast_hits_table,\n",
    "    #  nrow_table=nrow(subset_sorted_BLAST_hits_exp_og_genes),\n",
    "      num_genes_HOG=length(exp_og_genes),\n",
    "      num_genes_extend = length(extended_blast_hits_genes),\n",
    "      #            unique(\n",
    "      #              c(\n",
    "      #                unique(subset_sorted_BLAST_hits_exp_og_genes$qseqid_name), \n",
    "      #                unique(subset_sorted_BLAST_hits_exp_og_genes$sseqid_name)\n",
    "      #                )\n",
    "      #            )\n",
    "      #          ) - length(exp_og_genes),\n",
    "      num_genes_complete=length(HOG_and_ext_blast_hits_genes),\n",
    "      #            unique(\n",
    "      #              c(\n",
    "      #                unique(subset_sorted_BLAST_hits_exp_og_genes$qseqid_name), \n",
    "      #                unique(subset_sorted_BLAST_hits_exp_og_genes$sseqid_name)\n",
    "      #                )\n",
    "      #            )\n",
    "      #          ),\n",
    "      genes_HOG=as_tibble(exp_og_genes),\n",
    "      genes_extend_hits=as_tibble(extended_blast_hits_genes)\n",
    "            )\n",
    "    # assign name based on name of the underlying expanded HOG\n",
    "    ext_B_hits <- list(ext_B_hits)\n",
    "    names(ext_B_hits) <- paste0(i)\n",
    "    \n",
    "    # append to list object\n",
    "    extended_BLAST_hits <- c(extended_BLAST_hits, ext_B_hits)\n",
    "}\n",
    "\n",
    "# save extended BLAST hits to hypothesis specific (\"num\") RDS file \n",
    "#-> to be read and used in final_tea_computation.R script\n",
    "saveRDS(extended_BLAST_hits, paste(\"tea/\", num, \"/extended_BLAST_hits/extended_BLAST_hits.RDS\", sep = \"\"))\n",
    "\n",
    "#lastly create .check to know it's done\n",
    "exp_OGs_proteinnames.check <- \"check\"\n",
    "write_file(exp_OGs_proteinnames.check, paste(\"checks/tea/\", num, \"/exp_OGs_proteinnames.check\", sep = \"\"))"
   ]
  },
  {
   "cell_type": "code",
   "execution_count": null,
   "metadata": {},
   "outputs": [],
   "source": [
    "as_tibble(extended_blast_hits_genes)"
   ]
  },
  {
   "cell_type": "code",
   "execution_count": null,
   "metadata": {},
   "outputs": [],
   "source": [
    "extended_BLAST_hits$N0.HOG0000101\n",
    "length(extended_BLAST_hits)\n",
    "str(expanded_HOGs)"
   ]
  },
  {
   "cell_type": "code",
   "execution_count": null,
   "metadata": {},
   "outputs": [],
   "source": [
    "paste(\"checks/tea/\", num, \"/exp_OGs_proteinnames.check\", sep = \"\")"
   ]
  },
  {
   "cell_type": "code",
   "execution_count": null,
   "metadata": {},
   "outputs": [],
   "source": [
    "exp_OGs_proteinnames.check <- \"check\"\n",
    "write_file(exp_OGs_proteinnames.check, paste(\"checks/tea/\", num, \"/exp_OGs_proteinnames.check\", sep = \"\"))"
   ]
  },
  {
   "cell_type": "code",
   "execution_count": null,
   "metadata": {},
   "outputs": [],
   "source": []
  },
  {
   "cell_type": "code",
   "execution_count": null,
   "metadata": {},
   "outputs": [],
   "source": []
  },
  {
   "cell_type": "code",
   "execution_count": null,
   "metadata": {},
   "outputs": [],
   "source": [
    "#str(all_BLAST_reformatted)\n",
    "#?read_delim\n",
    "library(stringr)\n",
    "conversion <- conversion %>%  mutate(seqid = str_remove_all(seqid, \":\"))\n",
    "str(conversion)"
   ]
  },
  {
   "cell_type": "code",
   "execution_count": null,
   "metadata": {},
   "outputs": [],
   "source": []
  },
  {
   "cell_type": "code",
   "execution_count": null,
   "metadata": {},
   "outputs": [],
   "source": []
  },
  {
   "cell_type": "code",
   "execution_count": null,
   "metadata": {},
   "outputs": [],
   "source": []
  },
  {
   "cell_type": "code",
   "execution_count": null,
   "metadata": {},
   "outputs": [],
   "source": []
  },
  {
   "cell_type": "code",
   "execution_count": null,
   "metadata": {
    "scrolled": true
   },
   "outputs": [],
   "source": [
    "#perhaps continue as dataframe; have to see how easy this is"
   ]
  },
  {
   "cell_type": "code",
   "execution_count": null,
   "metadata": {},
   "outputs": [],
   "source": [
    "\n",
    "#anyways after that snakemake steps:\n",
    "#1)faSomeRecords - extract the fasta sequences of all proteins per interesting OG\n",
    "#2)muscle - multiple sequence alignment\n",
    "#3)gblocks - eliminates poorly aligned positions and divergent regions of DNA or protein alignments\n",
    "#4)fastTree - build trees"
   ]
  },
  {
   "cell_type": "markdown",
   "metadata": {},
   "source": [
    "#I need to play around a bit with the string to column matching\n",
    "#there are several solutions to this - see https://stackoverflow.com/questions/25923392/select-columns-based-on-string-match-dplyrselect"
   ]
  },
  {
   "cell_type": "code",
   "execution_count": null,
   "metadata": {},
   "outputs": [],
   "source": []
  },
  {
   "cell_type": "markdown",
   "metadata": {},
   "source": [
    "### 05.04.2022 - Adding HOGs instead of BLAST hits"
   ]
  },
  {
   "cell_type": "markdown",
   "metadata": {},
   "source": [
    "This is done in the analysis anyways ;D"
   ]
  },
  {
   "cell_type": "code",
   "execution_count": 16,
   "metadata": {},
   "outputs": [
    {
     "data": {
      "text/html": [
       "<style>\n",
       ".list-inline {list-style: none; margin:0; padding: 0}\n",
       ".list-inline>li {display: inline-block}\n",
       ".list-inline>li:not(:last-child)::after {content: \"\\00b7\"; padding: 0 .5ex}\n",
       "</style>\n",
       "<ol class=list-inline><li>'Zm00001d002828_P001'</li><li>'HORVU2Hr1G092030.19'</li><li>'HORVU2Hr1G092030.20'</li><li>'HORVU2Hr1G092030.18'</li><li>'HORVU2Hr1G092030.17'</li><li>'HORVU2Hr1G092030.4'</li></ol>\n"
      ],
      "text/latex": [
       "\\begin{enumerate*}\n",
       "\\item 'Zm00001d002828\\_P001'\n",
       "\\item 'HORVU2Hr1G092030.19'\n",
       "\\item 'HORVU2Hr1G092030.20'\n",
       "\\item 'HORVU2Hr1G092030.18'\n",
       "\\item 'HORVU2Hr1G092030.17'\n",
       "\\item 'HORVU2Hr1G092030.4'\n",
       "\\end{enumerate*}\n"
      ],
      "text/markdown": [
       "1. 'Zm00001d002828_P001'\n",
       "2. 'HORVU2Hr1G092030.19'\n",
       "3. 'HORVU2Hr1G092030.20'\n",
       "4. 'HORVU2Hr1G092030.18'\n",
       "5. 'HORVU2Hr1G092030.17'\n",
       "6. 'HORVU2Hr1G092030.4'\n",
       "\n",
       "\n"
      ],
      "text/plain": [
       "[1] \"Zm00001d002828_P001\" \"HORVU2Hr1G092030.19\" \"HORVU2Hr1G092030.20\"\n",
       "[4] \"HORVU2Hr1G092030.18\" \"HORVU2Hr1G092030.17\" \"HORVU2Hr1G092030.4\" "
      ]
     },
     "metadata": {},
     "output_type": "display_data"
    }
   ],
   "source": [
    "exp_og_genes <- unlist(strsplit(ref_ph_orthogroups[ref_ph_orthogroups$HOG == expanded_HOGs$HOG[47],]$genes, \n",
    "                                        split = \", \"))\n",
    "head(exp_og_genes)\n",
    "#exp_og_genes\n",
    "BLAST_hits_exp_og_genes <- dplyr::filter(all_BLAST_reformatted, \n",
    "                                             qseqid_name %in% exp_og_genes | sseqid_name %in% exp_og_genes)\n",
    "sorted_BLAST_hits_exp_og_genes <- arrange(BLAST_hits_exp_og_genes, evalue, -bitscore, -pident)\n",
    "#length(exp_og_genes)"
   ]
  },
  {
   "cell_type": "markdown",
   "metadata": {},
   "source": [
    "The ordering is useful for this new approach also! "
   ]
  },
  {
   "cell_type": "code",
   "execution_count": 17,
   "metadata": {},
   "outputs": [
    {
     "data": {
      "text/html": [
       "'N0.HOG0000344'"
      ],
      "text/latex": [
       "'N0.HOG0000344'"
      ],
      "text/markdown": [
       "'N0.HOG0000344'"
      ],
      "text/plain": [
       "[1] \"N0.HOG0000344\""
      ]
     },
     "metadata": {},
     "output_type": "display_data"
    }
   ],
   "source": [
    "#get the HOG in question\n",
    "ref_ph_orthogroups[ref_ph_orthogroups$HOG == expanded_HOGs$HOG[47],]$HOG"
   ]
  },
  {
   "cell_type": "code",
   "execution_count": 18,
   "metadata": {},
   "outputs": [
    {
     "data": {
      "text/html": [
       "<table class=\"dataframe\">\n",
       "<caption>A tibble: 6 × 34</caption>\n",
       "<thead>\n",
       "\t<tr><th scope=col>qseqid</th><th scope=col>qseqid_name</th><th scope=col>sseqid</th><th scope=col>sseqid_name</th><th scope=col>pident</th><th scope=col>length</th><th scope=col>mismatch</th><th scope=col>gapopen</th><th scope=col>qstart</th><th scope=col>qend</th><th scope=col>⋯</th><th scope=col>X3.y</th><th scope=col>X4.y</th><th scope=col>X5.y</th><th scope=col>X6.y</th><th scope=col>X7.y</th><th scope=col>X8.y</th><th scope=col>X9.y</th><th scope=col>X10.y</th><th scope=col>X11.y</th><th scope=col>X12.y</th></tr>\n",
       "\t<tr><th scope=col>&lt;chr&gt;</th><th scope=col>&lt;chr&gt;</th><th scope=col>&lt;chr&gt;</th><th scope=col>&lt;chr&gt;</th><th scope=col>&lt;dbl&gt;</th><th scope=col>&lt;dbl&gt;</th><th scope=col>&lt;dbl&gt;</th><th scope=col>&lt;dbl&gt;</th><th scope=col>&lt;dbl&gt;</th><th scope=col>&lt;dbl&gt;</th><th scope=col>⋯</th><th scope=col>&lt;chr&gt;</th><th scope=col>&lt;chr&gt;</th><th scope=col>&lt;chr&gt;</th><th scope=col>&lt;chr&gt;</th><th scope=col>&lt;chr&gt;</th><th scope=col>&lt;chr&gt;</th><th scope=col>&lt;chr&gt;</th><th scope=col>&lt;chr&gt;</th><th scope=col>&lt;chr&gt;</th><th scope=col>&lt;chr&gt;</th></tr>\n",
       "</thead>\n",
       "<tbody>\n",
       "\t<tr><td>0_6693 </td><td>AT2G18060.3        </td><td>0_6693 </td><td>AT2G18060.3        </td><td>100</td><td>365</td><td>0</td><td>0</td><td>1</td><td>365</td><td>⋯</td><td>pep</td><td>chromosome:TAIR10:2:7848320:7850303:-1         </td><td>gene:AT2G18060       </td><td>transcript:AT2G18060.3        </td><td>gene_biotype:protein_coding</td><td>transcript_biotype:protein_coding</td><td>gene_symbol:NAC037           </td><td>description:VND1</td><td>[Source:UniProtKB/TrEMBL;Acc:A0A178VM15]</td><td>NA                                          </td></tr>\n",
       "\t<tr><td>0_6693 </td><td>AT2G18060.3        </td><td>0_6694 </td><td>AT2G18060.1        </td><td>100</td><td>365</td><td>0</td><td>0</td><td>1</td><td>365</td><td>⋯</td><td>pep</td><td>chromosome:TAIR10:2:7847967:7851553:-1         </td><td>gene:AT2G18060       </td><td>transcript:AT2G18060.1        </td><td>gene_biotype:protein_coding</td><td>transcript_biotype:protein_coding</td><td>gene_symbol:NAC037           </td><td>description:VND1</td><td>[Source:UniProtKB/TrEMBL;Acc:A0A178VM15]</td><td>NA                                          </td></tr>\n",
       "\t<tr><td>0_6694 </td><td>AT2G18060.1        </td><td>0_6693 </td><td>AT2G18060.3        </td><td>100</td><td>365</td><td>0</td><td>0</td><td>1</td><td>365</td><td>⋯</td><td>pep</td><td>chromosome:TAIR10:2:7848320:7850303:-1         </td><td>gene:AT2G18060       </td><td>transcript:AT2G18060.3        </td><td>gene_biotype:protein_coding</td><td>transcript_biotype:protein_coding</td><td>gene_symbol:NAC037           </td><td>description:VND1</td><td>[Source:UniProtKB/TrEMBL;Acc:A0A178VM15]</td><td>NA                                          </td></tr>\n",
       "\t<tr><td>0_6694 </td><td>AT2G18060.1        </td><td>0_6694 </td><td>AT2G18060.1        </td><td>100</td><td>365</td><td>0</td><td>0</td><td>1</td><td>365</td><td>⋯</td><td>pep</td><td>chromosome:TAIR10:2:7847967:7851553:-1         </td><td>gene:AT2G18060       </td><td>transcript:AT2G18060.1        </td><td>gene_biotype:protein_coding</td><td>transcript_biotype:protein_coding</td><td>gene_symbol:NAC037           </td><td>description:VND1</td><td>[Source:UniProtKB/TrEMBL;Acc:A0A178VM15]</td><td>NA                                          </td></tr>\n",
       "\t<tr><td>2_2994 </td><td>Zm00001d002828_P001</td><td>2_2994 </td><td>Zm00001d002828_P001</td><td>100</td><td>344</td><td>0</td><td>0</td><td>1</td><td>344</td><td>⋯</td><td>pep</td><td>chromosome:B73_RefGen_v4:2:24002536:24006073:1 </td><td>gene:Zm00001d002828  </td><td>transcript:Zm00001d002828_T001</td><td>gene_biotype:protein_coding</td><td>transcript_biotype:protein_coding</td><td>gene_symbol:NAC-transcription</td><td>factor          </td><td>131                                     </td><td>description:NAC domain-containing protein 26</td></tr>\n",
       "\t<tr><td>1_33053</td><td>HORVU2Hr1G092030.4 </td><td>1_33053</td><td>HORVU2Hr1G092030.4 </td><td>100</td><td>339</td><td>0</td><td>0</td><td>1</td><td>339</td><td>⋯</td><td>pep</td><td>chromosome:IBSC_v2:chr2H:650452538:650457232:-1</td><td>gene:HORVU2Hr1G092030</td><td>transcript:HORVU2Hr1G092030.4 </td><td>gene_biotype:protein_coding</td><td>transcript_biotype:protein_coding</td><td>NA                           </td><td>NA              </td><td>NA                                      </td><td>NA                                          </td></tr>\n",
       "</tbody>\n",
       "</table>\n"
      ],
      "text/latex": [
       "A tibble: 6 × 34\n",
       "\\begin{tabular}{lllllllllllllllllllll}\n",
       " qseqid & qseqid\\_name & sseqid & sseqid\\_name & pident & length & mismatch & gapopen & qstart & qend & ⋯ & X3.y & X4.y & X5.y & X6.y & X7.y & X8.y & X9.y & X10.y & X11.y & X12.y\\\\\n",
       " <chr> & <chr> & <chr> & <chr> & <dbl> & <dbl> & <dbl> & <dbl> & <dbl> & <dbl> & ⋯ & <chr> & <chr> & <chr> & <chr> & <chr> & <chr> & <chr> & <chr> & <chr> & <chr>\\\\\n",
       "\\hline\n",
       "\t 0\\_6693  & AT2G18060.3         & 0\\_6693  & AT2G18060.3         & 100 & 365 & 0 & 0 & 1 & 365 & ⋯ & pep & chromosome:TAIR10:2:7848320:7850303:-1          & gene:AT2G18060        & transcript:AT2G18060.3         & gene\\_biotype:protein\\_coding & transcript\\_biotype:protein\\_coding & gene\\_symbol:NAC037            & description:VND1 & {[}Source:UniProtKB/TrEMBL;Acc:A0A178VM15{]} & NA                                          \\\\\n",
       "\t 0\\_6693  & AT2G18060.3         & 0\\_6694  & AT2G18060.1         & 100 & 365 & 0 & 0 & 1 & 365 & ⋯ & pep & chromosome:TAIR10:2:7847967:7851553:-1          & gene:AT2G18060        & transcript:AT2G18060.1         & gene\\_biotype:protein\\_coding & transcript\\_biotype:protein\\_coding & gene\\_symbol:NAC037            & description:VND1 & {[}Source:UniProtKB/TrEMBL;Acc:A0A178VM15{]} & NA                                          \\\\\n",
       "\t 0\\_6694  & AT2G18060.1         & 0\\_6693  & AT2G18060.3         & 100 & 365 & 0 & 0 & 1 & 365 & ⋯ & pep & chromosome:TAIR10:2:7848320:7850303:-1          & gene:AT2G18060        & transcript:AT2G18060.3         & gene\\_biotype:protein\\_coding & transcript\\_biotype:protein\\_coding & gene\\_symbol:NAC037            & description:VND1 & {[}Source:UniProtKB/TrEMBL;Acc:A0A178VM15{]} & NA                                          \\\\\n",
       "\t 0\\_6694  & AT2G18060.1         & 0\\_6694  & AT2G18060.1         & 100 & 365 & 0 & 0 & 1 & 365 & ⋯ & pep & chromosome:TAIR10:2:7847967:7851553:-1          & gene:AT2G18060        & transcript:AT2G18060.1         & gene\\_biotype:protein\\_coding & transcript\\_biotype:protein\\_coding & gene\\_symbol:NAC037            & description:VND1 & {[}Source:UniProtKB/TrEMBL;Acc:A0A178VM15{]} & NA                                          \\\\\n",
       "\t 2\\_2994  & Zm00001d002828\\_P001 & 2\\_2994  & Zm00001d002828\\_P001 & 100 & 344 & 0 & 0 & 1 & 344 & ⋯ & pep & chromosome:B73\\_RefGen\\_v4:2:24002536:24006073:1  & gene:Zm00001d002828   & transcript:Zm00001d002828\\_T001 & gene\\_biotype:protein\\_coding & transcript\\_biotype:protein\\_coding & gene\\_symbol:NAC-transcription & factor           & 131                                      & description:NAC domain-containing protein 26\\\\\n",
       "\t 1\\_33053 & HORVU2Hr1G092030.4  & 1\\_33053 & HORVU2Hr1G092030.4  & 100 & 339 & 0 & 0 & 1 & 339 & ⋯ & pep & chromosome:IBSC\\_v2:chr2H:650452538:650457232:-1 & gene:HORVU2Hr1G092030 & transcript:HORVU2Hr1G092030.4  & gene\\_biotype:protein\\_coding & transcript\\_biotype:protein\\_coding & NA                            & NA               & NA                                       & NA                                          \\\\\n",
       "\\end{tabular}\n"
      ],
      "text/markdown": [
       "\n",
       "A tibble: 6 × 34\n",
       "\n",
       "| qseqid &lt;chr&gt; | qseqid_name &lt;chr&gt; | sseqid &lt;chr&gt; | sseqid_name &lt;chr&gt; | pident &lt;dbl&gt; | length &lt;dbl&gt; | mismatch &lt;dbl&gt; | gapopen &lt;dbl&gt; | qstart &lt;dbl&gt; | qend &lt;dbl&gt; | ⋯ ⋯ | X3.y &lt;chr&gt; | X4.y &lt;chr&gt; | X5.y &lt;chr&gt; | X6.y &lt;chr&gt; | X7.y &lt;chr&gt; | X8.y &lt;chr&gt; | X9.y &lt;chr&gt; | X10.y &lt;chr&gt; | X11.y &lt;chr&gt; | X12.y &lt;chr&gt; |\n",
       "|---|---|---|---|---|---|---|---|---|---|---|---|---|---|---|---|---|---|---|---|---|\n",
       "| 0_6693  | AT2G18060.3         | 0_6693  | AT2G18060.3         | 100 | 365 | 0 | 0 | 1 | 365 | ⋯ | pep | chromosome:TAIR10:2:7848320:7850303:-1          | gene:AT2G18060        | transcript:AT2G18060.3         | gene_biotype:protein_coding | transcript_biotype:protein_coding | gene_symbol:NAC037            | description:VND1 | [Source:UniProtKB/TrEMBL;Acc:A0A178VM15] | NA                                           |\n",
       "| 0_6693  | AT2G18060.3         | 0_6694  | AT2G18060.1         | 100 | 365 | 0 | 0 | 1 | 365 | ⋯ | pep | chromosome:TAIR10:2:7847967:7851553:-1          | gene:AT2G18060        | transcript:AT2G18060.1         | gene_biotype:protein_coding | transcript_biotype:protein_coding | gene_symbol:NAC037            | description:VND1 | [Source:UniProtKB/TrEMBL;Acc:A0A178VM15] | NA                                           |\n",
       "| 0_6694  | AT2G18060.1         | 0_6693  | AT2G18060.3         | 100 | 365 | 0 | 0 | 1 | 365 | ⋯ | pep | chromosome:TAIR10:2:7848320:7850303:-1          | gene:AT2G18060        | transcript:AT2G18060.3         | gene_biotype:protein_coding | transcript_biotype:protein_coding | gene_symbol:NAC037            | description:VND1 | [Source:UniProtKB/TrEMBL;Acc:A0A178VM15] | NA                                           |\n",
       "| 0_6694  | AT2G18060.1         | 0_6694  | AT2G18060.1         | 100 | 365 | 0 | 0 | 1 | 365 | ⋯ | pep | chromosome:TAIR10:2:7847967:7851553:-1          | gene:AT2G18060        | transcript:AT2G18060.1         | gene_biotype:protein_coding | transcript_biotype:protein_coding | gene_symbol:NAC037            | description:VND1 | [Source:UniProtKB/TrEMBL;Acc:A0A178VM15] | NA                                           |\n",
       "| 2_2994  | Zm00001d002828_P001 | 2_2994  | Zm00001d002828_P001 | 100 | 344 | 0 | 0 | 1 | 344 | ⋯ | pep | chromosome:B73_RefGen_v4:2:24002536:24006073:1  | gene:Zm00001d002828   | transcript:Zm00001d002828_T001 | gene_biotype:protein_coding | transcript_biotype:protein_coding | gene_symbol:NAC-transcription | factor           | 131                                      | description:NAC domain-containing protein 26 |\n",
       "| 1_33053 | HORVU2Hr1G092030.4  | 1_33053 | HORVU2Hr1G092030.4  | 100 | 339 | 0 | 0 | 1 | 339 | ⋯ | pep | chromosome:IBSC_v2:chr2H:650452538:650457232:-1 | gene:HORVU2Hr1G092030 | transcript:HORVU2Hr1G092030.4  | gene_biotype:protein_coding | transcript_biotype:protein_coding | NA                            | NA               | NA                                       | NA                                           |\n",
       "\n"
      ],
      "text/plain": [
       "  qseqid  qseqid_name         sseqid  sseqid_name         pident length\n",
       "1 0_6693  AT2G18060.3         0_6693  AT2G18060.3         100    365   \n",
       "2 0_6693  AT2G18060.3         0_6694  AT2G18060.1         100    365   \n",
       "3 0_6694  AT2G18060.1         0_6693  AT2G18060.3         100    365   \n",
       "4 0_6694  AT2G18060.1         0_6694  AT2G18060.1         100    365   \n",
       "5 2_2994  Zm00001d002828_P001 2_2994  Zm00001d002828_P001 100    344   \n",
       "6 1_33053 HORVU2Hr1G092030.4  1_33053 HORVU2Hr1G092030.4  100    339   \n",
       "  mismatch gapopen qstart qend ⋯ X3.y\n",
       "1 0        0       1      365  ⋯ pep \n",
       "2 0        0       1      365  ⋯ pep \n",
       "3 0        0       1      365  ⋯ pep \n",
       "4 0        0       1      365  ⋯ pep \n",
       "5 0        0       1      344  ⋯ pep \n",
       "6 0        0       1      339  ⋯ pep \n",
       "  X4.y                                            X5.y                 \n",
       "1 chromosome:TAIR10:2:7848320:7850303:-1          gene:AT2G18060       \n",
       "2 chromosome:TAIR10:2:7847967:7851553:-1          gene:AT2G18060       \n",
       "3 chromosome:TAIR10:2:7848320:7850303:-1          gene:AT2G18060       \n",
       "4 chromosome:TAIR10:2:7847967:7851553:-1          gene:AT2G18060       \n",
       "5 chromosome:B73_RefGen_v4:2:24002536:24006073:1  gene:Zm00001d002828  \n",
       "6 chromosome:IBSC_v2:chr2H:650452538:650457232:-1 gene:HORVU2Hr1G092030\n",
       "  X6.y                           X7.y                       \n",
       "1 transcript:AT2G18060.3         gene_biotype:protein_coding\n",
       "2 transcript:AT2G18060.1         gene_biotype:protein_coding\n",
       "3 transcript:AT2G18060.3         gene_biotype:protein_coding\n",
       "4 transcript:AT2G18060.1         gene_biotype:protein_coding\n",
       "5 transcript:Zm00001d002828_T001 gene_biotype:protein_coding\n",
       "6 transcript:HORVU2Hr1G092030.4  gene_biotype:protein_coding\n",
       "  X8.y                              X9.y                         \n",
       "1 transcript_biotype:protein_coding gene_symbol:NAC037           \n",
       "2 transcript_biotype:protein_coding gene_symbol:NAC037           \n",
       "3 transcript_biotype:protein_coding gene_symbol:NAC037           \n",
       "4 transcript_biotype:protein_coding gene_symbol:NAC037           \n",
       "5 transcript_biotype:protein_coding gene_symbol:NAC-transcription\n",
       "6 transcript_biotype:protein_coding NA                           \n",
       "  X10.y            X11.y                                   \n",
       "1 description:VND1 [Source:UniProtKB/TrEMBL;Acc:A0A178VM15]\n",
       "2 description:VND1 [Source:UniProtKB/TrEMBL;Acc:A0A178VM15]\n",
       "3 description:VND1 [Source:UniProtKB/TrEMBL;Acc:A0A178VM15]\n",
       "4 description:VND1 [Source:UniProtKB/TrEMBL;Acc:A0A178VM15]\n",
       "5 factor           131                                     \n",
       "6 NA               NA                                      \n",
       "  X12.y                                       \n",
       "1 NA                                          \n",
       "2 NA                                          \n",
       "3 NA                                          \n",
       "4 NA                                          \n",
       "5 description:NAC domain-containing protein 26\n",
       "6 NA                                          "
      ]
     },
     "metadata": {},
     "output_type": "display_data"
    },
    {
     "data": {
      "text/html": [
       "<style>\n",
       ".list-inline {list-style: none; margin:0; padding: 0}\n",
       ".list-inline>li {display: inline-block}\n",
       ".list-inline>li:not(:last-child)::after {content: \"\\00b7\"; padding: 0 .5ex}\n",
       "</style>\n",
       "<ol class=list-inline><li>'qseqid'</li><li>'qseqid_name'</li><li>'sseqid'</li><li>'sseqid_name'</li><li>'pident'</li><li>'length'</li><li>'mismatch'</li><li>'gapopen'</li><li>'qstart'</li><li>'qend'</li><li>'sstart'</li><li>'send'</li><li>'evalue'</li><li>'bitscore'</li><li>'X3.x'</li><li>'X4.x'</li><li>'X5.x'</li><li>'X6.x'</li><li>'X7.x'</li><li>'X8.x'</li><li>'X9.x'</li><li>'X10.x'</li><li>'X11.x'</li><li>'X12.x'</li><li>'X3.y'</li><li>'X4.y'</li><li>'X5.y'</li><li>'X6.y'</li><li>'X7.y'</li><li>'X8.y'</li><li>'X9.y'</li><li>'X10.y'</li><li>'X11.y'</li><li>'X12.y'</li></ol>\n"
      ],
      "text/latex": [
       "\\begin{enumerate*}\n",
       "\\item 'qseqid'\n",
       "\\item 'qseqid\\_name'\n",
       "\\item 'sseqid'\n",
       "\\item 'sseqid\\_name'\n",
       "\\item 'pident'\n",
       "\\item 'length'\n",
       "\\item 'mismatch'\n",
       "\\item 'gapopen'\n",
       "\\item 'qstart'\n",
       "\\item 'qend'\n",
       "\\item 'sstart'\n",
       "\\item 'send'\n",
       "\\item 'evalue'\n",
       "\\item 'bitscore'\n",
       "\\item 'X3.x'\n",
       "\\item 'X4.x'\n",
       "\\item 'X5.x'\n",
       "\\item 'X6.x'\n",
       "\\item 'X7.x'\n",
       "\\item 'X8.x'\n",
       "\\item 'X9.x'\n",
       "\\item 'X10.x'\n",
       "\\item 'X11.x'\n",
       "\\item 'X12.x'\n",
       "\\item 'X3.y'\n",
       "\\item 'X4.y'\n",
       "\\item 'X5.y'\n",
       "\\item 'X6.y'\n",
       "\\item 'X7.y'\n",
       "\\item 'X8.y'\n",
       "\\item 'X9.y'\n",
       "\\item 'X10.y'\n",
       "\\item 'X11.y'\n",
       "\\item 'X12.y'\n",
       "\\end{enumerate*}\n"
      ],
      "text/markdown": [
       "1. 'qseqid'\n",
       "2. 'qseqid_name'\n",
       "3. 'sseqid'\n",
       "4. 'sseqid_name'\n",
       "5. 'pident'\n",
       "6. 'length'\n",
       "7. 'mismatch'\n",
       "8. 'gapopen'\n",
       "9. 'qstart'\n",
       "10. 'qend'\n",
       "11. 'sstart'\n",
       "12. 'send'\n",
       "13. 'evalue'\n",
       "14. 'bitscore'\n",
       "15. 'X3.x'\n",
       "16. 'X4.x'\n",
       "17. 'X5.x'\n",
       "18. 'X6.x'\n",
       "19. 'X7.x'\n",
       "20. 'X8.x'\n",
       "21. 'X9.x'\n",
       "22. 'X10.x'\n",
       "23. 'X11.x'\n",
       "24. 'X12.x'\n",
       "25. 'X3.y'\n",
       "26. 'X4.y'\n",
       "27. 'X5.y'\n",
       "28. 'X6.y'\n",
       "29. 'X7.y'\n",
       "30. 'X8.y'\n",
       "31. 'X9.y'\n",
       "32. 'X10.y'\n",
       "33. 'X11.y'\n",
       "34. 'X12.y'\n",
       "\n",
       "\n"
      ],
      "text/plain": [
       " [1] \"qseqid\"      \"qseqid_name\" \"sseqid\"      \"sseqid_name\" \"pident\"     \n",
       " [6] \"length\"      \"mismatch\"    \"gapopen\"     \"qstart\"      \"qend\"       \n",
       "[11] \"sstart\"      \"send\"        \"evalue\"      \"bitscore\"    \"X3.x\"       \n",
       "[16] \"X4.x\"        \"X5.x\"        \"X6.x\"        \"X7.x\"        \"X8.x\"       \n",
       "[21] \"X9.x\"        \"X10.x\"       \"X11.x\"       \"X12.x\"       \"X3.y\"       \n",
       "[26] \"X4.y\"        \"X5.y\"        \"X6.y\"        \"X7.y\"        \"X8.y\"       \n",
       "[31] \"X9.y\"        \"X10.y\"       \"X11.y\"       \"X12.y\"      "
      ]
     },
     "metadata": {},
     "output_type": "display_data"
    },
    {
     "data": {
      "text/html": [
       "<style>\n",
       ".list-inline {list-style: none; margin:0; padding: 0}\n",
       ".list-inline>li {display: inline-block}\n",
       ".list-inline>li:not(:last-child)::after {content: \"\\00b7\"; padding: 0 .5ex}\n",
       "</style>\n",
       "<ol class=list-inline><li>'AT2G18060.3'</li><li>'AT2G18060.1'</li><li>'AT2G18060.3'</li><li>'AT2G18060.1'</li><li>'Zm00001d002828_P001'</li><li>'HORVU2Hr1G092030.4'</li></ol>\n"
      ],
      "text/latex": [
       "\\begin{enumerate*}\n",
       "\\item 'AT2G18060.3'\n",
       "\\item 'AT2G18060.1'\n",
       "\\item 'AT2G18060.3'\n",
       "\\item 'AT2G18060.1'\n",
       "\\item 'Zm00001d002828\\_P001'\n",
       "\\item 'HORVU2Hr1G092030.4'\n",
       "\\end{enumerate*}\n"
      ],
      "text/markdown": [
       "1. 'AT2G18060.3'\n",
       "2. 'AT2G18060.1'\n",
       "3. 'AT2G18060.3'\n",
       "4. 'AT2G18060.1'\n",
       "5. 'Zm00001d002828_P001'\n",
       "6. 'HORVU2Hr1G092030.4'\n",
       "\n",
       "\n"
      ],
      "text/plain": [
       "[1] \"AT2G18060.3\"         \"AT2G18060.1\"         \"AT2G18060.3\"        \n",
       "[4] \"AT2G18060.1\"         \"Zm00001d002828_P001\" \"HORVU2Hr1G092030.4\" "
      ]
     },
     "metadata": {},
     "output_type": "display_data"
    }
   ],
   "source": [
    "head(sorted_BLAST_hits_exp_og_genes)\n",
    "names(head(sorted_BLAST_hits_exp_og_genes))\n",
    "head(sorted_BLAST_hits_exp_og_genes$sseqid_name)"
   ]
  },
  {
   "cell_type": "code",
   "execution_count": 19,
   "metadata": {},
   "outputs": [
    {
     "data": {
      "text/html": [
       "<table class=\"dataframe\">\n",
       "<caption>A tibble: 6 × 4</caption>\n",
       "<thead>\n",
       "\t<tr><th scope=col>sseqid_name</th><th scope=col>evalue</th><th scope=col>bitscore</th><th scope=col>pident</th></tr>\n",
       "\t<tr><th scope=col>&lt;chr&gt;</th><th scope=col>&lt;dbl&gt;</th><th scope=col>&lt;dbl&gt;</th><th scope=col>&lt;dbl&gt;</th></tr>\n",
       "</thead>\n",
       "<tbody>\n",
       "\t<tr><td>AT2G18060.3        </td><td>4.19e-279</td><td>752</td><td>100</td></tr>\n",
       "\t<tr><td>AT2G18060.1        </td><td>4.19e-279</td><td>752</td><td>100</td></tr>\n",
       "\t<tr><td>AT2G18060.3        </td><td>4.19e-279</td><td>752</td><td>100</td></tr>\n",
       "\t<tr><td>AT2G18060.1        </td><td>4.19e-279</td><td>752</td><td>100</td></tr>\n",
       "\t<tr><td>Zm00001d002828_P001</td><td>4.05e-270</td><td>729</td><td>100</td></tr>\n",
       "\t<tr><td>HORVU2Hr1G092030.4 </td><td>5.91e-257</td><td>696</td><td>100</td></tr>\n",
       "</tbody>\n",
       "</table>\n"
      ],
      "text/latex": [
       "A tibble: 6 × 4\n",
       "\\begin{tabular}{llll}\n",
       " sseqid\\_name & evalue & bitscore & pident\\\\\n",
       " <chr> & <dbl> & <dbl> & <dbl>\\\\\n",
       "\\hline\n",
       "\t AT2G18060.3         & 4.19e-279 & 752 & 100\\\\\n",
       "\t AT2G18060.1         & 4.19e-279 & 752 & 100\\\\\n",
       "\t AT2G18060.3         & 4.19e-279 & 752 & 100\\\\\n",
       "\t AT2G18060.1         & 4.19e-279 & 752 & 100\\\\\n",
       "\t Zm00001d002828\\_P001 & 4.05e-270 & 729 & 100\\\\\n",
       "\t HORVU2Hr1G092030.4  & 5.91e-257 & 696 & 100\\\\\n",
       "\\end{tabular}\n"
      ],
      "text/markdown": [
       "\n",
       "A tibble: 6 × 4\n",
       "\n",
       "| sseqid_name &lt;chr&gt; | evalue &lt;dbl&gt; | bitscore &lt;dbl&gt; | pident &lt;dbl&gt; |\n",
       "|---|---|---|---|\n",
       "| AT2G18060.3         | 4.19e-279 | 752 | 100 |\n",
       "| AT2G18060.1         | 4.19e-279 | 752 | 100 |\n",
       "| AT2G18060.3         | 4.19e-279 | 752 | 100 |\n",
       "| AT2G18060.1         | 4.19e-279 | 752 | 100 |\n",
       "| Zm00001d002828_P001 | 4.05e-270 | 729 | 100 |\n",
       "| HORVU2Hr1G092030.4  | 5.91e-257 | 696 | 100 |\n",
       "\n"
      ],
      "text/plain": [
       "  sseqid_name         evalue    bitscore pident\n",
       "1 AT2G18060.3         4.19e-279 752      100   \n",
       "2 AT2G18060.1         4.19e-279 752      100   \n",
       "3 AT2G18060.3         4.19e-279 752      100   \n",
       "4 AT2G18060.1         4.19e-279 752      100   \n",
       "5 Zm00001d002828_P001 4.05e-270 729      100   \n",
       "6 HORVU2Hr1G092030.4  5.91e-257 696      100   "
      ]
     },
     "metadata": {},
     "output_type": "display_data"
    }
   ],
   "source": [
    "#we can shorten this table already\n",
    "short_sorted_BLAST_hits_exp_og_genes <- sorted_BLAST_hits_exp_og_genes %>%\n",
    "  select(sseqid_name, evalue, bitscore, pident)\n",
    "\n",
    "head(short_sorted_BLAST_hits_exp_og_genes)"
   ]
  },
  {
   "cell_type": "code",
   "execution_count": 20,
   "metadata": {},
   "outputs": [
    {
     "data": {
      "text/html": [
       "<table class=\"dataframe\">\n",
       "<caption>A tibble: 6 × 3</caption>\n",
       "<thead>\n",
       "\t<tr><th scope=col>HOG</th><th scope=col>species</th><th scope=col>id</th></tr>\n",
       "\t<tr><th scope=col>&lt;chr&gt;</th><th scope=col>&lt;chr&gt;</th><th scope=col>&lt;chr&gt;</th></tr>\n",
       "</thead>\n",
       "<tbody>\n",
       "\t<tr><td>N0.HOG0000001</td><td>Arabidopsis_thaliana</td><td>AT2G31650.1</td></tr>\n",
       "\t<tr><td>N0.HOG0000011</td><td>Arabidopsis_thaliana</td><td>AT2G11035.1</td></tr>\n",
       "\t<tr><td>N0.HOG0000011</td><td>Arabidopsis_thaliana</td><td>AT2G02520.1</td></tr>\n",
       "\t<tr><td>N0.HOG0000011</td><td>Arabidopsis_thaliana</td><td>AT2G22440.1</td></tr>\n",
       "\t<tr><td>N0.HOG0000017</td><td>Arabidopsis_thaliana</td><td>AT2G28540.2</td></tr>\n",
       "\t<tr><td>N0.HOG0000017</td><td>Arabidopsis_thaliana</td><td>AT2G28540.1</td></tr>\n",
       "</tbody>\n",
       "</table>\n"
      ],
      "text/latex": [
       "A tibble: 6 × 3\n",
       "\\begin{tabular}{lll}\n",
       " HOG & species & id\\\\\n",
       " <chr> & <chr> & <chr>\\\\\n",
       "\\hline\n",
       "\t N0.HOG0000001 & Arabidopsis\\_thaliana & AT2G31650.1\\\\\n",
       "\t N0.HOG0000011 & Arabidopsis\\_thaliana & AT2G11035.1\\\\\n",
       "\t N0.HOG0000011 & Arabidopsis\\_thaliana & AT2G02520.1\\\\\n",
       "\t N0.HOG0000011 & Arabidopsis\\_thaliana & AT2G22440.1\\\\\n",
       "\t N0.HOG0000017 & Arabidopsis\\_thaliana & AT2G28540.2\\\\\n",
       "\t N0.HOG0000017 & Arabidopsis\\_thaliana & AT2G28540.1\\\\\n",
       "\\end{tabular}\n"
      ],
      "text/markdown": [
       "\n",
       "A tibble: 6 × 3\n",
       "\n",
       "| HOG &lt;chr&gt; | species &lt;chr&gt; | id &lt;chr&gt; |\n",
       "|---|---|---|\n",
       "| N0.HOG0000001 | Arabidopsis_thaliana | AT2G31650.1 |\n",
       "| N0.HOG0000011 | Arabidopsis_thaliana | AT2G11035.1 |\n",
       "| N0.HOG0000011 | Arabidopsis_thaliana | AT2G02520.1 |\n",
       "| N0.HOG0000011 | Arabidopsis_thaliana | AT2G22440.1 |\n",
       "| N0.HOG0000017 | Arabidopsis_thaliana | AT2G28540.2 |\n",
       "| N0.HOG0000017 | Arabidopsis_thaliana | AT2G28540.1 |\n",
       "\n"
      ],
      "text/plain": [
       "  HOG           species              id         \n",
       "1 N0.HOG0000001 Arabidopsis_thaliana AT2G31650.1\n",
       "2 N0.HOG0000011 Arabidopsis_thaliana AT2G11035.1\n",
       "3 N0.HOG0000011 Arabidopsis_thaliana AT2G02520.1\n",
       "4 N0.HOG0000011 Arabidopsis_thaliana AT2G22440.1\n",
       "5 N0.HOG0000017 Arabidopsis_thaliana AT2G28540.2\n",
       "6 N0.HOG0000017 Arabidopsis_thaliana AT2G28540.1"
      ]
     },
     "metadata": {},
     "output_type": "display_data"
    }
   ],
   "source": [
    "#transforming ph_orthogroups to long format\n",
    "long_ph_orthogroups <- ph_orthogroups %>%\n",
    "  select(-OG, -`Gene Tree Parent Clade`) %>%\n",
    "  melt(., id.vars = c(\"HOG\")) %>%\n",
    "  rename(species=variable, id=value) %>%\n",
    "  mutate(species = as.character(species)) %>%\n",
    "  separate_rows(id, sep = \", \") %>%\n",
    "  drop_na()\n",
    "\n",
    "head(long_ph_orthogroups)"
   ]
  },
  {
   "cell_type": "code",
   "execution_count": 21,
   "metadata": {
    "tags": []
   },
   "outputs": [
    {
     "data": {
      "text/html": [
       "<table class=\"dataframe\">\n",
       "<caption>A tibble: 17 × 6</caption>\n",
       "<thead>\n",
       "\t<tr><th scope=col>sseqid_name</th><th scope=col>evalue</th><th scope=col>bitscore</th><th scope=col>pident</th><th scope=col>HOG</th><th scope=col>species</th></tr>\n",
       "\t<tr><th scope=col>&lt;chr&gt;</th><th scope=col>&lt;dbl&gt;</th><th scope=col>&lt;dbl&gt;</th><th scope=col>&lt;dbl&gt;</th><th scope=col>&lt;chr&gt;</th><th scope=col>&lt;chr&gt;</th></tr>\n",
       "</thead>\n",
       "<tbody>\n",
       "\t<tr><td>AT2G18060.1        </td><td>4.19e-279</td><td>752.0</td><td>100.0</td><td>N0.HOG0000344</td><td>Arabidopsis_thaliana</td></tr>\n",
       "\t<tr><td>AT2G46770.1        </td><td> 1.53e-87</td><td>266.0</td><td> 45.8</td><td>N0.HOG0002992</td><td>Arabidopsis_thaliana</td></tr>\n",
       "\t<tr><td>Zm00001d002934_P001</td><td> 3.19e-82</td><td>253.0</td><td> 64.6</td><td>N0.HOG0000190</td><td>Zea_mays            </td></tr>\n",
       "\t<tr><td>Zm00001d006053_P001</td><td> 4.98e-62</td><td>202.0</td><td> 56.7</td><td>N0.HOG0001499</td><td>Zea_mays            </td></tr>\n",
       "\t<tr><td>Zm00001d003052_P001</td><td> 2.56e-54</td><td>179.0</td><td> 52.5</td><td>N0.HOG0002300</td><td>Zea_mays            </td></tr>\n",
       "\t<tr><td>AT2G43000.1        </td><td> 7.26e-53</td><td>171.0</td><td> 47.9</td><td>N0.HOG0002155</td><td>Arabidopsis_thaliana</td></tr>\n",
       "\t<tr><td>AT2G33480.2        </td><td> 1.02e-52</td><td>173.0</td><td> 50.6</td><td>N0.HOG0003022</td><td>Arabidopsis_thaliana</td></tr>\n",
       "\t<tr><td>Zm00001d002945_P012</td><td> 1.96e-51</td><td>169.0</td><td> 48.1</td><td>N0.HOG0001862</td><td>Zea_mays            </td></tr>\n",
       "\t<tr><td>Zm00001d002285_P001</td><td> 1.58e-50</td><td>170.0</td><td> 45.7</td><td>N0.HOG0001631</td><td>Zea_mays            </td></tr>\n",
       "\t<tr><td>AT2G27300.1        </td><td> 4.03e-47</td><td>157.0</td><td> 44.8</td><td>N0.HOG0001335</td><td>Arabidopsis_thaliana</td></tr>\n",
       "\t<tr><td>AT2G02450.1        </td><td> 2.17e-46</td><td>157.0</td><td> 45.7</td><td>N0.HOG0005844</td><td>Arabidopsis_thaliana</td></tr>\n",
       "\t<tr><td>AT2G17040.1        </td><td> 8.81e-44</td><td>150.0</td><td> 37.0</td><td>N0.HOG0000336</td><td>Arabidopsis_thaliana</td></tr>\n",
       "\t<tr><td>Zm00001d006106_P001</td><td> 3.23e-30</td><td>115.0</td><td> 34.9</td><td>singleton-1  </td><td>NA                  </td></tr>\n",
       "\t<tr><td>Zm00001d003626_P001</td><td> 7.89e-27</td><td>104.0</td><td> 34.1</td><td>N0.HOG0007450</td><td>Zea_mays            </td></tr>\n",
       "\t<tr><td>Zm00001d006636_P001</td><td> 3.29e-18</td><td> 79.3</td><td> 44.7</td><td>singleton-2  </td><td>NA                  </td></tr>\n",
       "\t<tr><td>Zm00001d003293_P001</td><td> 2.64e-09</td><td> 57.4</td><td> 26.0</td><td>N0.HOG0003396</td><td>Zea_mays            </td></tr>\n",
       "\t<tr><td>Zm00001d006616_P001</td><td> 3.96e-06</td><td> 40.4</td><td> 63.0</td><td>singleton-3  </td><td>NA                  </td></tr>\n",
       "</tbody>\n",
       "</table>\n"
      ],
      "text/latex": [
       "A tibble: 17 × 6\n",
       "\\begin{tabular}{llllll}\n",
       " sseqid\\_name & evalue & bitscore & pident & HOG & species\\\\\n",
       " <chr> & <dbl> & <dbl> & <dbl> & <chr> & <chr>\\\\\n",
       "\\hline\n",
       "\t AT2G18060.1         & 4.19e-279 & 752.0 & 100.0 & N0.HOG0000344 & Arabidopsis\\_thaliana\\\\\n",
       "\t AT2G46770.1         &  1.53e-87 & 266.0 &  45.8 & N0.HOG0002992 & Arabidopsis\\_thaliana\\\\\n",
       "\t Zm00001d002934\\_P001 &  3.19e-82 & 253.0 &  64.6 & N0.HOG0000190 & Zea\\_mays            \\\\\n",
       "\t Zm00001d006053\\_P001 &  4.98e-62 & 202.0 &  56.7 & N0.HOG0001499 & Zea\\_mays            \\\\\n",
       "\t Zm00001d003052\\_P001 &  2.56e-54 & 179.0 &  52.5 & N0.HOG0002300 & Zea\\_mays            \\\\\n",
       "\t AT2G43000.1         &  7.26e-53 & 171.0 &  47.9 & N0.HOG0002155 & Arabidopsis\\_thaliana\\\\\n",
       "\t AT2G33480.2         &  1.02e-52 & 173.0 &  50.6 & N0.HOG0003022 & Arabidopsis\\_thaliana\\\\\n",
       "\t Zm00001d002945\\_P012 &  1.96e-51 & 169.0 &  48.1 & N0.HOG0001862 & Zea\\_mays            \\\\\n",
       "\t Zm00001d002285\\_P001 &  1.58e-50 & 170.0 &  45.7 & N0.HOG0001631 & Zea\\_mays            \\\\\n",
       "\t AT2G27300.1         &  4.03e-47 & 157.0 &  44.8 & N0.HOG0001335 & Arabidopsis\\_thaliana\\\\\n",
       "\t AT2G02450.1         &  2.17e-46 & 157.0 &  45.7 & N0.HOG0005844 & Arabidopsis\\_thaliana\\\\\n",
       "\t AT2G17040.1         &  8.81e-44 & 150.0 &  37.0 & N0.HOG0000336 & Arabidopsis\\_thaliana\\\\\n",
       "\t Zm00001d006106\\_P001 &  3.23e-30 & 115.0 &  34.9 & singleton-1   & NA                  \\\\\n",
       "\t Zm00001d003626\\_P001 &  7.89e-27 & 104.0 &  34.1 & N0.HOG0007450 & Zea\\_mays            \\\\\n",
       "\t Zm00001d006636\\_P001 &  3.29e-18 &  79.3 &  44.7 & singleton-2   & NA                  \\\\\n",
       "\t Zm00001d003293\\_P001 &  2.64e-09 &  57.4 &  26.0 & N0.HOG0003396 & Zea\\_mays            \\\\\n",
       "\t Zm00001d006616\\_P001 &  3.96e-06 &  40.4 &  63.0 & singleton-3   & NA                  \\\\\n",
       "\\end{tabular}\n"
      ],
      "text/markdown": [
       "\n",
       "A tibble: 17 × 6\n",
       "\n",
       "| sseqid_name &lt;chr&gt; | evalue &lt;dbl&gt; | bitscore &lt;dbl&gt; | pident &lt;dbl&gt; | HOG &lt;chr&gt; | species &lt;chr&gt; |\n",
       "|---|---|---|---|---|---|\n",
       "| AT2G18060.1         | 4.19e-279 | 752.0 | 100.0 | N0.HOG0000344 | Arabidopsis_thaliana |\n",
       "| AT2G46770.1         |  1.53e-87 | 266.0 |  45.8 | N0.HOG0002992 | Arabidopsis_thaliana |\n",
       "| Zm00001d002934_P001 |  3.19e-82 | 253.0 |  64.6 | N0.HOG0000190 | Zea_mays             |\n",
       "| Zm00001d006053_P001 |  4.98e-62 | 202.0 |  56.7 | N0.HOG0001499 | Zea_mays             |\n",
       "| Zm00001d003052_P001 |  2.56e-54 | 179.0 |  52.5 | N0.HOG0002300 | Zea_mays             |\n",
       "| AT2G43000.1         |  7.26e-53 | 171.0 |  47.9 | N0.HOG0002155 | Arabidopsis_thaliana |\n",
       "| AT2G33480.2         |  1.02e-52 | 173.0 |  50.6 | N0.HOG0003022 | Arabidopsis_thaliana |\n",
       "| Zm00001d002945_P012 |  1.96e-51 | 169.0 |  48.1 | N0.HOG0001862 | Zea_mays             |\n",
       "| Zm00001d002285_P001 |  1.58e-50 | 170.0 |  45.7 | N0.HOG0001631 | Zea_mays             |\n",
       "| AT2G27300.1         |  4.03e-47 | 157.0 |  44.8 | N0.HOG0001335 | Arabidopsis_thaliana |\n",
       "| AT2G02450.1         |  2.17e-46 | 157.0 |  45.7 | N0.HOG0005844 | Arabidopsis_thaliana |\n",
       "| AT2G17040.1         |  8.81e-44 | 150.0 |  37.0 | N0.HOG0000336 | Arabidopsis_thaliana |\n",
       "| Zm00001d006106_P001 |  3.23e-30 | 115.0 |  34.9 | singleton-1   | NA                   |\n",
       "| Zm00001d003626_P001 |  7.89e-27 | 104.0 |  34.1 | N0.HOG0007450 | Zea_mays             |\n",
       "| Zm00001d006636_P001 |  3.29e-18 |  79.3 |  44.7 | singleton-2   | NA                   |\n",
       "| Zm00001d003293_P001 |  2.64e-09 |  57.4 |  26.0 | N0.HOG0003396 | Zea_mays             |\n",
       "| Zm00001d006616_P001 |  3.96e-06 |  40.4 |  63.0 | singleton-3   | NA                   |\n",
       "\n"
      ],
      "text/plain": [
       "   sseqid_name         evalue    bitscore pident HOG          \n",
       "1  AT2G18060.1         4.19e-279 752.0    100.0  N0.HOG0000344\n",
       "2  AT2G46770.1          1.53e-87 266.0     45.8  N0.HOG0002992\n",
       "3  Zm00001d002934_P001  3.19e-82 253.0     64.6  N0.HOG0000190\n",
       "4  Zm00001d006053_P001  4.98e-62 202.0     56.7  N0.HOG0001499\n",
       "5  Zm00001d003052_P001  2.56e-54 179.0     52.5  N0.HOG0002300\n",
       "6  AT2G43000.1          7.26e-53 171.0     47.9  N0.HOG0002155\n",
       "7  AT2G33480.2          1.02e-52 173.0     50.6  N0.HOG0003022\n",
       "8  Zm00001d002945_P012  1.96e-51 169.0     48.1  N0.HOG0001862\n",
       "9  Zm00001d002285_P001  1.58e-50 170.0     45.7  N0.HOG0001631\n",
       "10 AT2G27300.1          4.03e-47 157.0     44.8  N0.HOG0001335\n",
       "11 AT2G02450.1          2.17e-46 157.0     45.7  N0.HOG0005844\n",
       "12 AT2G17040.1          8.81e-44 150.0     37.0  N0.HOG0000336\n",
       "13 Zm00001d006106_P001  3.23e-30 115.0     34.9  singleton-1  \n",
       "14 Zm00001d003626_P001  7.89e-27 104.0     34.1  N0.HOG0007450\n",
       "15 Zm00001d006636_P001  3.29e-18  79.3     44.7  singleton-2  \n",
       "16 Zm00001d003293_P001  2.64e-09  57.4     26.0  N0.HOG0003396\n",
       "17 Zm00001d006616_P001  3.96e-06  40.4     63.0  singleton-3  \n",
       "   species             \n",
       "1  Arabidopsis_thaliana\n",
       "2  Arabidopsis_thaliana\n",
       "3  Zea_mays            \n",
       "4  Zea_mays            \n",
       "5  Zea_mays            \n",
       "6  Arabidopsis_thaliana\n",
       "7  Arabidopsis_thaliana\n",
       "8  Zea_mays            \n",
       "9  Zea_mays            \n",
       "10 Arabidopsis_thaliana\n",
       "11 Arabidopsis_thaliana\n",
       "12 Arabidopsis_thaliana\n",
       "13 NA                  \n",
       "14 Zea_mays            \n",
       "15 NA                  \n",
       "16 Zea_mays            \n",
       "17 NA                  "
      ]
     },
     "metadata": {},
     "output_type": "display_data"
    },
    {
     "data": {
      "text/html": [
       "16"
      ],
      "text/latex": [
       "16"
      ],
      "text/markdown": [
       "16"
      ],
      "text/plain": [
       "[1] 16"
      ]
     },
     "metadata": {},
     "output_type": "display_data"
    },
    {
     "name": "stdout",
     "output_type": "stream",
     "text": [
      "List of 4\n",
      " $ N0.HOG0000344: chr [1:24] \"AT2G18060.3\" \"AT2G18060.1\" \"AT2G18060.2\" \"HORVU2Hr1G092030.19\" ...\n",
      " $ N0.HOG0002992: chr [1:5] \"AT2G46770.1\" \"HORVU2Hr1G077320.3\" \"HORVU2Hr1G077320.1\" \"HORVU2Hr1G077320.2\" ...\n",
      " $ N0.HOG0000190: chr [1:30] \"HORVU2Hr1G126080.3\" \"HORVU2Hr1G126080.4\" \"HORVU2Hr1G126080.2\" \"HORVU2Hr1G126080.1\" ...\n",
      " $ N0.HOG0001499: chr [1:10] \"AT2G24430.2\" \"AT2G24430.1\" \"HORVU2Hr1G080460.21\" \"HORVU2Hr1G080460.20\" ...\n"
     ]
    }
   ],
   "source": [
    "#we can create a merged dataframe from the blast table (HOG specific) and the long format HOG table (general)\n",
    "#difficulty is that in case of singletons we have NA under HOG\n",
    "#easiest way I can think of is a named list\n",
    "self_and_closest_ogs <- left_join(short_sorted_BLAST_hits_exp_og_genes, long_ph_orthogroups, by = c(\"sseqid_name\" = \"id\")) %>%\n",
    "  #and follow this up by reducing it to the HOG column\n",
    "  #pull(HOG) %>%\n",
    "  #remove duplicates\n",
    "  #unique() %>%\n",
    "#  filter(is.na(species)) %>%\n",
    "  group_by(sseqid_name) %>%\n",
    "  arrange(evalue, -bitscore, -pident) %>%\n",
    "  slice(1) %>%\n",
    "  ungroup() %>%\n",
    "  arrange(evalue, -bitscore, -pident) %>%\n",
    "  mutate(HOG = as.character(HOG),\n",
    "         HOG = ifelse(is.na(HOG), paste(\"singleton\", sep = \"-\", cumsum(is.na(HOG))),\n",
    "                      as.character(HOG))) %>%\n",
    "  group_by(HOG) %>%\n",
    "  arrange(evalue, -bitscore, -pident) %>%\n",
    "  slice(1) %>%\n",
    "  ungroup() %>%\n",
    "  arrange(evalue, -bitscore, -pident)\n",
    " \n",
    "\n",
    "#first row will should correspond to self match - the OG itself\n",
    "self_and_closest_ogs\n",
    "\n",
    "\n",
    "#suppose user chose max 5 additional orthogroups in config file\n",
    "add_OGs = 3\n",
    "\n",
    "\n",
    "#need to add check for number of additonal OGs/singletons\n",
    "#e.g. user sets max. add. OGs/singletons to 5 but we only can provide 4\n",
    "#+ have to consider the expanded OG itself, so:\n",
    "available_add_OGs <- nrow(self_and_closest_ogs) - 1 \n",
    "available_add_OGs\n",
    "\n",
    "#in this case set add_OGs to max available\n",
    "if (available_add_OGs < add_OGs) {\n",
    "  add_OGs <- available_add_OGs\n",
    "} \n",
    "\n",
    "\n",
    "#empty list of precomputed size - add OGs plus the expanded OG itself\n",
    "add_OG_analysis_list <- vector(mode = \"list\", length = add_OGs+1)\n",
    "\n",
    "\n",
    "for (i in 1:(add_OGs+1)) {\n",
    "  og_name <- self_and_closest_ogs[i,] %>%\n",
    "    pull(HOG)\n",
    "  \n",
    "  #differnetiate between OG case and a singleton case - different handling:\n",
    "  #for HOG get all associated genes/proteins from large long format table\n",
    "  #for singletons get singelton gene/protein from the table itself\n",
    "  if (!str_detect(og_name, \"singleton\") == TRUE) {\n",
    "\n",
    "    name_curr_close_HOG <- self_and_closest_ogs[i,] %>%\n",
    "                             pull(HOG)\n",
    "\n",
    "    ids_curr_close_HOG <- long_ph_orthogroups %>%\n",
    "                            filter(HOG %in% name_curr_close_HOG) %>%\n",
    "                            pull(id)\n",
    "\n",
    "    add_OG_analysis_list[[i]] <- ids_curr_close_HOG\n",
    "    names(add_OG_analysis_list)[i] <- name_curr_close_HOG\n",
    "\n",
    "  } else {\n",
    "    name_curr_close_singleton <- self_and_closest_ogs[i,] %>%\n",
    "                                   pull(HOG)\n",
    "\n",
    "    id_curr_close_HOG <- self_and_closest_ogs[i,] %>%\n",
    "                           pull(sseqid_name)\n",
    "\n",
    "    add_OG_analysis_list[[i]] <- id_curr_close_HOG\n",
    "    names(add_OG_analysis_list)[i] <- name_curr_close_singleton\n",
    "  }\n",
    "}\n",
    "\n",
    "\n",
    "str(add_OG_analysis_list)"
   ]
  },
  {
   "cell_type": "code",
   "execution_count": 22,
   "metadata": {
    "tags": []
   },
   "outputs": [
    {
     "data": {
      "text/html": [
       "<ol>\n",
       "\t<li><style>\n",
       ".list-inline {list-style: none; margin:0; padding: 0}\n",
       ".list-inline>li {display: inline-block}\n",
       ".list-inline>li:not(:last-child)::after {content: \"\\00b7\"; padding: 0 .5ex}\n",
       "</style>\n",
       "<ol class=list-inline><li>'AT2G18060.3'</li><li>'AT2G18060.1'</li><li>'AT2G18060.2'</li><li>'HORVU2Hr1G092030.19'</li><li>'HORVU2Hr1G092030.20'</li><li>'HORVU2Hr1G092030.18'</li><li>'HORVU2Hr1G092030.17'</li><li>'HORVU2Hr1G092030.4'</li><li>'HORVU2Hr1G092030.5'</li><li>'HORVU2Hr1G092030.11'</li><li>'HORVU2Hr1G092030.9'</li><li>'HORVU2Hr1G092030.2'</li><li>'HORVU2Hr1G092030.3'</li><li>'HORVU2Hr1G092030.14'</li><li>'HORVU2Hr1G092030.1'</li><li>'HORVU2Hr1G092030.6'</li><li>'HORVU2Hr1G092030.7'</li><li>'HORVU2Hr1G092030.13'</li><li>'HORVU2Hr1G092030.15'</li><li>'HORVU2Hr1G092030.10'</li><li>'HORVU2Hr1G092030.16'</li><li>'HORVU2Hr1G092030.8'</li><li>'HORVU2Hr1G092030.12'</li><li>'Zm00001d002828_P001'</li></ol>\n",
       "</li>\n",
       "\t<li><style>\n",
       ".list-inline {list-style: none; margin:0; padding: 0}\n",
       ".list-inline>li {display: inline-block}\n",
       ".list-inline>li:not(:last-child)::after {content: \"\\00b7\"; padding: 0 .5ex}\n",
       "</style>\n",
       "<ol class=list-inline><li>'AT2G18060.3'</li><li>'AT2G18060.1'</li><li>'AT2G18060.2'</li><li>'HORVU2Hr1G092030.19'</li><li>'HORVU2Hr1G092030.20'</li><li>'HORVU2Hr1G092030.18'</li><li>'HORVU2Hr1G092030.17'</li><li>'HORVU2Hr1G092030.4'</li><li>'HORVU2Hr1G092030.5'</li><li>'HORVU2Hr1G092030.11'</li><li>'HORVU2Hr1G092030.9'</li><li>'HORVU2Hr1G092030.2'</li><li>'HORVU2Hr1G092030.3'</li><li>'HORVU2Hr1G092030.14'</li><li>'HORVU2Hr1G092030.1'</li><li>'HORVU2Hr1G092030.6'</li><li>'HORVU2Hr1G092030.7'</li><li>'HORVU2Hr1G092030.13'</li><li>'HORVU2Hr1G092030.15'</li><li>'HORVU2Hr1G092030.10'</li><li>'HORVU2Hr1G092030.16'</li><li>'HORVU2Hr1G092030.8'</li><li>'HORVU2Hr1G092030.12'</li><li>'Zm00001d002828_P001'</li><li>'AT2G46770.1'</li><li>'HORVU2Hr1G077320.3'</li><li>'HORVU2Hr1G077320.1'</li><li>'HORVU2Hr1G077320.2'</li><li>'Zm00001d003583_P001'</li></ol>\n",
       "</li>\n",
       "\t<li><style>\n",
       ".list-inline {list-style: none; margin:0; padding: 0}\n",
       ".list-inline>li {display: inline-block}\n",
       ".list-inline>li:not(:last-child)::after {content: \"\\00b7\"; padding: 0 .5ex}\n",
       "</style>\n",
       "<ol class=list-inline><li>'AT2G18060.3'</li><li>'AT2G18060.1'</li><li>'AT2G18060.2'</li><li>'HORVU2Hr1G092030.19'</li><li>'HORVU2Hr1G092030.20'</li><li>'HORVU2Hr1G092030.18'</li><li>'HORVU2Hr1G092030.17'</li><li>'HORVU2Hr1G092030.4'</li><li>'HORVU2Hr1G092030.5'</li><li>'HORVU2Hr1G092030.11'</li><li>'HORVU2Hr1G092030.9'</li><li>'HORVU2Hr1G092030.2'</li><li>'HORVU2Hr1G092030.3'</li><li>'HORVU2Hr1G092030.14'</li><li>'HORVU2Hr1G092030.1'</li><li>'HORVU2Hr1G092030.6'</li><li>'HORVU2Hr1G092030.7'</li><li>'HORVU2Hr1G092030.13'</li><li>'HORVU2Hr1G092030.15'</li><li>'HORVU2Hr1G092030.10'</li><li>'HORVU2Hr1G092030.16'</li><li>'HORVU2Hr1G092030.8'</li><li>'HORVU2Hr1G092030.12'</li><li>'Zm00001d002828_P001'</li><li>'AT2G46770.1'</li><li>'HORVU2Hr1G077320.3'</li><li>'HORVU2Hr1G077320.1'</li><li>'HORVU2Hr1G077320.2'</li><li>'Zm00001d003583_P001'</li><li>'HORVU2Hr1G126080.3'</li><li>'HORVU2Hr1G126080.4'</li><li>'HORVU2Hr1G126080.2'</li><li>'HORVU2Hr1G126080.1'</li><li>'HORVU2Hr1G126080.8'</li><li>'HORVU2Hr1G126080.6'</li><li>'HORVU2Hr1G126080.7'</li><li>'HORVU2Hr1G126080.9'</li><li>'HORVU2Hr1G126080.11'</li><li>'HORVU2Hr1G126040.3'</li><li>'HORVU2Hr1G126040.14'</li><li>'HORVU2Hr1G126040.1'</li><li>'HORVU2Hr1G126040.13'</li><li>'HORVU2Hr1G126040.6'</li><li>'HORVU2Hr1G126040.4'</li><li>'HORVU2Hr1G126040.2'</li><li>'HORVU2Hr1G126040.11'</li><li>'HORVU2Hr1G126080.10'</li><li>'HORVU2Hr1G126080.5'</li><li>'HORVU2Hr1G126040.8'</li><li>'HORVU2Hr1G126040.7'</li><li>'HORVU2Hr1G126040.10'</li><li>'HORVU2Hr1G126040.5'</li><li>'HORVU2Hr1G126040.15'</li><li>'HORVU2Hr1G126040.12'</li><li>'HORVU2Hr1G126040.9'</li><li>'HORVU2Hr1G126040.16'</li><li>'HORVU2Hr1G126040.18'</li><li>'HORVU2Hr1G126040.17'</li><li>'Zm00001d002934_P001'</li></ol>\n",
       "</li>\n",
       "\t<li><style>\n",
       ".list-inline {list-style: none; margin:0; padding: 0}\n",
       ".list-inline>li {display: inline-block}\n",
       ".list-inline>li:not(:last-child)::after {content: \"\\00b7\"; padding: 0 .5ex}\n",
       "</style>\n",
       "<ol class=list-inline><li>'AT2G18060.3'</li><li>'AT2G18060.1'</li><li>'AT2G18060.2'</li><li>'HORVU2Hr1G092030.19'</li><li>'HORVU2Hr1G092030.20'</li><li>'HORVU2Hr1G092030.18'</li><li>'HORVU2Hr1G092030.17'</li><li>'HORVU2Hr1G092030.4'</li><li>'HORVU2Hr1G092030.5'</li><li>'HORVU2Hr1G092030.11'</li><li>'HORVU2Hr1G092030.9'</li><li>'HORVU2Hr1G092030.2'</li><li>'HORVU2Hr1G092030.3'</li><li>'HORVU2Hr1G092030.14'</li><li>'HORVU2Hr1G092030.1'</li><li>'HORVU2Hr1G092030.6'</li><li>'HORVU2Hr1G092030.7'</li><li>'HORVU2Hr1G092030.13'</li><li>'HORVU2Hr1G092030.15'</li><li>'HORVU2Hr1G092030.10'</li><li>'HORVU2Hr1G092030.16'</li><li>'HORVU2Hr1G092030.8'</li><li>'HORVU2Hr1G092030.12'</li><li>'Zm00001d002828_P001'</li><li>'AT2G46770.1'</li><li>'HORVU2Hr1G077320.3'</li><li>'HORVU2Hr1G077320.1'</li><li>'HORVU2Hr1G077320.2'</li><li>'Zm00001d003583_P001'</li><li>'HORVU2Hr1G126080.3'</li><li>'HORVU2Hr1G126080.4'</li><li>'HORVU2Hr1G126080.2'</li><li>'HORVU2Hr1G126080.1'</li><li>'HORVU2Hr1G126080.8'</li><li>'HORVU2Hr1G126080.6'</li><li>'HORVU2Hr1G126080.7'</li><li>'HORVU2Hr1G126080.9'</li><li>'HORVU2Hr1G126080.11'</li><li>'HORVU2Hr1G126040.3'</li><li>'HORVU2Hr1G126040.14'</li><li>'HORVU2Hr1G126040.1'</li><li>'HORVU2Hr1G126040.13'</li><li>'HORVU2Hr1G126040.6'</li><li>'HORVU2Hr1G126040.4'</li><li>'HORVU2Hr1G126040.2'</li><li>'HORVU2Hr1G126040.11'</li><li>'HORVU2Hr1G126080.10'</li><li>'HORVU2Hr1G126080.5'</li><li>'HORVU2Hr1G126040.8'</li><li>'HORVU2Hr1G126040.7'</li><li>'HORVU2Hr1G126040.10'</li><li>'HORVU2Hr1G126040.5'</li><li>'HORVU2Hr1G126040.15'</li><li>'HORVU2Hr1G126040.12'</li><li>'HORVU2Hr1G126040.9'</li><li>'HORVU2Hr1G126040.16'</li><li>'HORVU2Hr1G126040.18'</li><li>'HORVU2Hr1G126040.17'</li><li>'Zm00001d002934_P001'</li><li>'AT2G24430.2'</li><li>'AT2G24430.1'</li><li>'HORVU2Hr1G080460.21'</li><li>'HORVU2Hr1G080460.20'</li><li>'HORVU2Hr1G080460.1'</li><li>'HORVU2Hr1G080460.2'</li><li>'Zm00001d006053_P001'</li><li>'Zm00001d005028_P001'</li><li>'Zm00001d003414_P002'</li><li>'Zm00001d003414_P001'</li></ol>\n",
       "</li>\n",
       "</ol>\n"
      ],
      "text/latex": [
       "\\begin{enumerate}\n",
       "\\item \\begin{enumerate*}\n",
       "\\item 'AT2G18060.3'\n",
       "\\item 'AT2G18060.1'\n",
       "\\item 'AT2G18060.2'\n",
       "\\item 'HORVU2Hr1G092030.19'\n",
       "\\item 'HORVU2Hr1G092030.20'\n",
       "\\item 'HORVU2Hr1G092030.18'\n",
       "\\item 'HORVU2Hr1G092030.17'\n",
       "\\item 'HORVU2Hr1G092030.4'\n",
       "\\item 'HORVU2Hr1G092030.5'\n",
       "\\item 'HORVU2Hr1G092030.11'\n",
       "\\item 'HORVU2Hr1G092030.9'\n",
       "\\item 'HORVU2Hr1G092030.2'\n",
       "\\item 'HORVU2Hr1G092030.3'\n",
       "\\item 'HORVU2Hr1G092030.14'\n",
       "\\item 'HORVU2Hr1G092030.1'\n",
       "\\item 'HORVU2Hr1G092030.6'\n",
       "\\item 'HORVU2Hr1G092030.7'\n",
       "\\item 'HORVU2Hr1G092030.13'\n",
       "\\item 'HORVU2Hr1G092030.15'\n",
       "\\item 'HORVU2Hr1G092030.10'\n",
       "\\item 'HORVU2Hr1G092030.16'\n",
       "\\item 'HORVU2Hr1G092030.8'\n",
       "\\item 'HORVU2Hr1G092030.12'\n",
       "\\item 'Zm00001d002828\\_P001'\n",
       "\\end{enumerate*}\n",
       "\n",
       "\\item \\begin{enumerate*}\n",
       "\\item 'AT2G18060.3'\n",
       "\\item 'AT2G18060.1'\n",
       "\\item 'AT2G18060.2'\n",
       "\\item 'HORVU2Hr1G092030.19'\n",
       "\\item 'HORVU2Hr1G092030.20'\n",
       "\\item 'HORVU2Hr1G092030.18'\n",
       "\\item 'HORVU2Hr1G092030.17'\n",
       "\\item 'HORVU2Hr1G092030.4'\n",
       "\\item 'HORVU2Hr1G092030.5'\n",
       "\\item 'HORVU2Hr1G092030.11'\n",
       "\\item 'HORVU2Hr1G092030.9'\n",
       "\\item 'HORVU2Hr1G092030.2'\n",
       "\\item 'HORVU2Hr1G092030.3'\n",
       "\\item 'HORVU2Hr1G092030.14'\n",
       "\\item 'HORVU2Hr1G092030.1'\n",
       "\\item 'HORVU2Hr1G092030.6'\n",
       "\\item 'HORVU2Hr1G092030.7'\n",
       "\\item 'HORVU2Hr1G092030.13'\n",
       "\\item 'HORVU2Hr1G092030.15'\n",
       "\\item 'HORVU2Hr1G092030.10'\n",
       "\\item 'HORVU2Hr1G092030.16'\n",
       "\\item 'HORVU2Hr1G092030.8'\n",
       "\\item 'HORVU2Hr1G092030.12'\n",
       "\\item 'Zm00001d002828\\_P001'\n",
       "\\item 'AT2G46770.1'\n",
       "\\item 'HORVU2Hr1G077320.3'\n",
       "\\item 'HORVU2Hr1G077320.1'\n",
       "\\item 'HORVU2Hr1G077320.2'\n",
       "\\item 'Zm00001d003583\\_P001'\n",
       "\\end{enumerate*}\n",
       "\n",
       "\\item \\begin{enumerate*}\n",
       "\\item 'AT2G18060.3'\n",
       "\\item 'AT2G18060.1'\n",
       "\\item 'AT2G18060.2'\n",
       "\\item 'HORVU2Hr1G092030.19'\n",
       "\\item 'HORVU2Hr1G092030.20'\n",
       "\\item 'HORVU2Hr1G092030.18'\n",
       "\\item 'HORVU2Hr1G092030.17'\n",
       "\\item 'HORVU2Hr1G092030.4'\n",
       "\\item 'HORVU2Hr1G092030.5'\n",
       "\\item 'HORVU2Hr1G092030.11'\n",
       "\\item 'HORVU2Hr1G092030.9'\n",
       "\\item 'HORVU2Hr1G092030.2'\n",
       "\\item 'HORVU2Hr1G092030.3'\n",
       "\\item 'HORVU2Hr1G092030.14'\n",
       "\\item 'HORVU2Hr1G092030.1'\n",
       "\\item 'HORVU2Hr1G092030.6'\n",
       "\\item 'HORVU2Hr1G092030.7'\n",
       "\\item 'HORVU2Hr1G092030.13'\n",
       "\\item 'HORVU2Hr1G092030.15'\n",
       "\\item 'HORVU2Hr1G092030.10'\n",
       "\\item 'HORVU2Hr1G092030.16'\n",
       "\\item 'HORVU2Hr1G092030.8'\n",
       "\\item 'HORVU2Hr1G092030.12'\n",
       "\\item 'Zm00001d002828\\_P001'\n",
       "\\item 'AT2G46770.1'\n",
       "\\item 'HORVU2Hr1G077320.3'\n",
       "\\item 'HORVU2Hr1G077320.1'\n",
       "\\item 'HORVU2Hr1G077320.2'\n",
       "\\item 'Zm00001d003583\\_P001'\n",
       "\\item 'HORVU2Hr1G126080.3'\n",
       "\\item 'HORVU2Hr1G126080.4'\n",
       "\\item 'HORVU2Hr1G126080.2'\n",
       "\\item 'HORVU2Hr1G126080.1'\n",
       "\\item 'HORVU2Hr1G126080.8'\n",
       "\\item 'HORVU2Hr1G126080.6'\n",
       "\\item 'HORVU2Hr1G126080.7'\n",
       "\\item 'HORVU2Hr1G126080.9'\n",
       "\\item 'HORVU2Hr1G126080.11'\n",
       "\\item 'HORVU2Hr1G126040.3'\n",
       "\\item 'HORVU2Hr1G126040.14'\n",
       "\\item 'HORVU2Hr1G126040.1'\n",
       "\\item 'HORVU2Hr1G126040.13'\n",
       "\\item 'HORVU2Hr1G126040.6'\n",
       "\\item 'HORVU2Hr1G126040.4'\n",
       "\\item 'HORVU2Hr1G126040.2'\n",
       "\\item 'HORVU2Hr1G126040.11'\n",
       "\\item 'HORVU2Hr1G126080.10'\n",
       "\\item 'HORVU2Hr1G126080.5'\n",
       "\\item 'HORVU2Hr1G126040.8'\n",
       "\\item 'HORVU2Hr1G126040.7'\n",
       "\\item 'HORVU2Hr1G126040.10'\n",
       "\\item 'HORVU2Hr1G126040.5'\n",
       "\\item 'HORVU2Hr1G126040.15'\n",
       "\\item 'HORVU2Hr1G126040.12'\n",
       "\\item 'HORVU2Hr1G126040.9'\n",
       "\\item 'HORVU2Hr1G126040.16'\n",
       "\\item 'HORVU2Hr1G126040.18'\n",
       "\\item 'HORVU2Hr1G126040.17'\n",
       "\\item 'Zm00001d002934\\_P001'\n",
       "\\end{enumerate*}\n",
       "\n",
       "\\item \\begin{enumerate*}\n",
       "\\item 'AT2G18060.3'\n",
       "\\item 'AT2G18060.1'\n",
       "\\item 'AT2G18060.2'\n",
       "\\item 'HORVU2Hr1G092030.19'\n",
       "\\item 'HORVU2Hr1G092030.20'\n",
       "\\item 'HORVU2Hr1G092030.18'\n",
       "\\item 'HORVU2Hr1G092030.17'\n",
       "\\item 'HORVU2Hr1G092030.4'\n",
       "\\item 'HORVU2Hr1G092030.5'\n",
       "\\item 'HORVU2Hr1G092030.11'\n",
       "\\item 'HORVU2Hr1G092030.9'\n",
       "\\item 'HORVU2Hr1G092030.2'\n",
       "\\item 'HORVU2Hr1G092030.3'\n",
       "\\item 'HORVU2Hr1G092030.14'\n",
       "\\item 'HORVU2Hr1G092030.1'\n",
       "\\item 'HORVU2Hr1G092030.6'\n",
       "\\item 'HORVU2Hr1G092030.7'\n",
       "\\item 'HORVU2Hr1G092030.13'\n",
       "\\item 'HORVU2Hr1G092030.15'\n",
       "\\item 'HORVU2Hr1G092030.10'\n",
       "\\item 'HORVU2Hr1G092030.16'\n",
       "\\item 'HORVU2Hr1G092030.8'\n",
       "\\item 'HORVU2Hr1G092030.12'\n",
       "\\item 'Zm00001d002828\\_P001'\n",
       "\\item 'AT2G46770.1'\n",
       "\\item 'HORVU2Hr1G077320.3'\n",
       "\\item 'HORVU2Hr1G077320.1'\n",
       "\\item 'HORVU2Hr1G077320.2'\n",
       "\\item 'Zm00001d003583\\_P001'\n",
       "\\item 'HORVU2Hr1G126080.3'\n",
       "\\item 'HORVU2Hr1G126080.4'\n",
       "\\item 'HORVU2Hr1G126080.2'\n",
       "\\item 'HORVU2Hr1G126080.1'\n",
       "\\item 'HORVU2Hr1G126080.8'\n",
       "\\item 'HORVU2Hr1G126080.6'\n",
       "\\item 'HORVU2Hr1G126080.7'\n",
       "\\item 'HORVU2Hr1G126080.9'\n",
       "\\item 'HORVU2Hr1G126080.11'\n",
       "\\item 'HORVU2Hr1G126040.3'\n",
       "\\item 'HORVU2Hr1G126040.14'\n",
       "\\item 'HORVU2Hr1G126040.1'\n",
       "\\item 'HORVU2Hr1G126040.13'\n",
       "\\item 'HORVU2Hr1G126040.6'\n",
       "\\item 'HORVU2Hr1G126040.4'\n",
       "\\item 'HORVU2Hr1G126040.2'\n",
       "\\item 'HORVU2Hr1G126040.11'\n",
       "\\item 'HORVU2Hr1G126080.10'\n",
       "\\item 'HORVU2Hr1G126080.5'\n",
       "\\item 'HORVU2Hr1G126040.8'\n",
       "\\item 'HORVU2Hr1G126040.7'\n",
       "\\item 'HORVU2Hr1G126040.10'\n",
       "\\item 'HORVU2Hr1G126040.5'\n",
       "\\item 'HORVU2Hr1G126040.15'\n",
       "\\item 'HORVU2Hr1G126040.12'\n",
       "\\item 'HORVU2Hr1G126040.9'\n",
       "\\item 'HORVU2Hr1G126040.16'\n",
       "\\item 'HORVU2Hr1G126040.18'\n",
       "\\item 'HORVU2Hr1G126040.17'\n",
       "\\item 'Zm00001d002934\\_P001'\n",
       "\\item 'AT2G24430.2'\n",
       "\\item 'AT2G24430.1'\n",
       "\\item 'HORVU2Hr1G080460.21'\n",
       "\\item 'HORVU2Hr1G080460.20'\n",
       "\\item 'HORVU2Hr1G080460.1'\n",
       "\\item 'HORVU2Hr1G080460.2'\n",
       "\\item 'Zm00001d006053\\_P001'\n",
       "\\item 'Zm00001d005028\\_P001'\n",
       "\\item 'Zm00001d003414\\_P002'\n",
       "\\item 'Zm00001d003414\\_P001'\n",
       "\\end{enumerate*}\n",
       "\n",
       "\\end{enumerate}\n"
      ],
      "text/markdown": [
       "1. 1. 'AT2G18060.3'\n",
       "2. 'AT2G18060.1'\n",
       "3. 'AT2G18060.2'\n",
       "4. 'HORVU2Hr1G092030.19'\n",
       "5. 'HORVU2Hr1G092030.20'\n",
       "6. 'HORVU2Hr1G092030.18'\n",
       "7. 'HORVU2Hr1G092030.17'\n",
       "8. 'HORVU2Hr1G092030.4'\n",
       "9. 'HORVU2Hr1G092030.5'\n",
       "10. 'HORVU2Hr1G092030.11'\n",
       "11. 'HORVU2Hr1G092030.9'\n",
       "12. 'HORVU2Hr1G092030.2'\n",
       "13. 'HORVU2Hr1G092030.3'\n",
       "14. 'HORVU2Hr1G092030.14'\n",
       "15. 'HORVU2Hr1G092030.1'\n",
       "16. 'HORVU2Hr1G092030.6'\n",
       "17. 'HORVU2Hr1G092030.7'\n",
       "18. 'HORVU2Hr1G092030.13'\n",
       "19. 'HORVU2Hr1G092030.15'\n",
       "20. 'HORVU2Hr1G092030.10'\n",
       "21. 'HORVU2Hr1G092030.16'\n",
       "22. 'HORVU2Hr1G092030.8'\n",
       "23. 'HORVU2Hr1G092030.12'\n",
       "24. 'Zm00001d002828_P001'\n",
       "\n",
       "\n",
       "\n",
       "2. 1. 'AT2G18060.3'\n",
       "2. 'AT2G18060.1'\n",
       "3. 'AT2G18060.2'\n",
       "4. 'HORVU2Hr1G092030.19'\n",
       "5. 'HORVU2Hr1G092030.20'\n",
       "6. 'HORVU2Hr1G092030.18'\n",
       "7. 'HORVU2Hr1G092030.17'\n",
       "8. 'HORVU2Hr1G092030.4'\n",
       "9. 'HORVU2Hr1G092030.5'\n",
       "10. 'HORVU2Hr1G092030.11'\n",
       "11. 'HORVU2Hr1G092030.9'\n",
       "12. 'HORVU2Hr1G092030.2'\n",
       "13. 'HORVU2Hr1G092030.3'\n",
       "14. 'HORVU2Hr1G092030.14'\n",
       "15. 'HORVU2Hr1G092030.1'\n",
       "16. 'HORVU2Hr1G092030.6'\n",
       "17. 'HORVU2Hr1G092030.7'\n",
       "18. 'HORVU2Hr1G092030.13'\n",
       "19. 'HORVU2Hr1G092030.15'\n",
       "20. 'HORVU2Hr1G092030.10'\n",
       "21. 'HORVU2Hr1G092030.16'\n",
       "22. 'HORVU2Hr1G092030.8'\n",
       "23. 'HORVU2Hr1G092030.12'\n",
       "24. 'Zm00001d002828_P001'\n",
       "25. 'AT2G46770.1'\n",
       "26. 'HORVU2Hr1G077320.3'\n",
       "27. 'HORVU2Hr1G077320.1'\n",
       "28. 'HORVU2Hr1G077320.2'\n",
       "29. 'Zm00001d003583_P001'\n",
       "\n",
       "\n",
       "\n",
       "3. 1. 'AT2G18060.3'\n",
       "2. 'AT2G18060.1'\n",
       "3. 'AT2G18060.2'\n",
       "4. 'HORVU2Hr1G092030.19'\n",
       "5. 'HORVU2Hr1G092030.20'\n",
       "6. 'HORVU2Hr1G092030.18'\n",
       "7. 'HORVU2Hr1G092030.17'\n",
       "8. 'HORVU2Hr1G092030.4'\n",
       "9. 'HORVU2Hr1G092030.5'\n",
       "10. 'HORVU2Hr1G092030.11'\n",
       "11. 'HORVU2Hr1G092030.9'\n",
       "12. 'HORVU2Hr1G092030.2'\n",
       "13. 'HORVU2Hr1G092030.3'\n",
       "14. 'HORVU2Hr1G092030.14'\n",
       "15. 'HORVU2Hr1G092030.1'\n",
       "16. 'HORVU2Hr1G092030.6'\n",
       "17. 'HORVU2Hr1G092030.7'\n",
       "18. 'HORVU2Hr1G092030.13'\n",
       "19. 'HORVU2Hr1G092030.15'\n",
       "20. 'HORVU2Hr1G092030.10'\n",
       "21. 'HORVU2Hr1G092030.16'\n",
       "22. 'HORVU2Hr1G092030.8'\n",
       "23. 'HORVU2Hr1G092030.12'\n",
       "24. 'Zm00001d002828_P001'\n",
       "25. 'AT2G46770.1'\n",
       "26. 'HORVU2Hr1G077320.3'\n",
       "27. 'HORVU2Hr1G077320.1'\n",
       "28. 'HORVU2Hr1G077320.2'\n",
       "29. 'Zm00001d003583_P001'\n",
       "30. 'HORVU2Hr1G126080.3'\n",
       "31. 'HORVU2Hr1G126080.4'\n",
       "32. 'HORVU2Hr1G126080.2'\n",
       "33. 'HORVU2Hr1G126080.1'\n",
       "34. 'HORVU2Hr1G126080.8'\n",
       "35. 'HORVU2Hr1G126080.6'\n",
       "36. 'HORVU2Hr1G126080.7'\n",
       "37. 'HORVU2Hr1G126080.9'\n",
       "38. 'HORVU2Hr1G126080.11'\n",
       "39. 'HORVU2Hr1G126040.3'\n",
       "40. 'HORVU2Hr1G126040.14'\n",
       "41. 'HORVU2Hr1G126040.1'\n",
       "42. 'HORVU2Hr1G126040.13'\n",
       "43. 'HORVU2Hr1G126040.6'\n",
       "44. 'HORVU2Hr1G126040.4'\n",
       "45. 'HORVU2Hr1G126040.2'\n",
       "46. 'HORVU2Hr1G126040.11'\n",
       "47. 'HORVU2Hr1G126080.10'\n",
       "48. 'HORVU2Hr1G126080.5'\n",
       "49. 'HORVU2Hr1G126040.8'\n",
       "50. 'HORVU2Hr1G126040.7'\n",
       "51. 'HORVU2Hr1G126040.10'\n",
       "52. 'HORVU2Hr1G126040.5'\n",
       "53. 'HORVU2Hr1G126040.15'\n",
       "54. 'HORVU2Hr1G126040.12'\n",
       "55. 'HORVU2Hr1G126040.9'\n",
       "56. 'HORVU2Hr1G126040.16'\n",
       "57. 'HORVU2Hr1G126040.18'\n",
       "58. 'HORVU2Hr1G126040.17'\n",
       "59. 'Zm00001d002934_P001'\n",
       "\n",
       "\n",
       "\n",
       "4. 1. 'AT2G18060.3'\n",
       "2. 'AT2G18060.1'\n",
       "3. 'AT2G18060.2'\n",
       "4. 'HORVU2Hr1G092030.19'\n",
       "5. 'HORVU2Hr1G092030.20'\n",
       "6. 'HORVU2Hr1G092030.18'\n",
       "7. 'HORVU2Hr1G092030.17'\n",
       "8. 'HORVU2Hr1G092030.4'\n",
       "9. 'HORVU2Hr1G092030.5'\n",
       "10. 'HORVU2Hr1G092030.11'\n",
       "11. 'HORVU2Hr1G092030.9'\n",
       "12. 'HORVU2Hr1G092030.2'\n",
       "13. 'HORVU2Hr1G092030.3'\n",
       "14. 'HORVU2Hr1G092030.14'\n",
       "15. 'HORVU2Hr1G092030.1'\n",
       "16. 'HORVU2Hr1G092030.6'\n",
       "17. 'HORVU2Hr1G092030.7'\n",
       "18. 'HORVU2Hr1G092030.13'\n",
       "19. 'HORVU2Hr1G092030.15'\n",
       "20. 'HORVU2Hr1G092030.10'\n",
       "21. 'HORVU2Hr1G092030.16'\n",
       "22. 'HORVU2Hr1G092030.8'\n",
       "23. 'HORVU2Hr1G092030.12'\n",
       "24. 'Zm00001d002828_P001'\n",
       "25. 'AT2G46770.1'\n",
       "26. 'HORVU2Hr1G077320.3'\n",
       "27. 'HORVU2Hr1G077320.1'\n",
       "28. 'HORVU2Hr1G077320.2'\n",
       "29. 'Zm00001d003583_P001'\n",
       "30. 'HORVU2Hr1G126080.3'\n",
       "31. 'HORVU2Hr1G126080.4'\n",
       "32. 'HORVU2Hr1G126080.2'\n",
       "33. 'HORVU2Hr1G126080.1'\n",
       "34. 'HORVU2Hr1G126080.8'\n",
       "35. 'HORVU2Hr1G126080.6'\n",
       "36. 'HORVU2Hr1G126080.7'\n",
       "37. 'HORVU2Hr1G126080.9'\n",
       "38. 'HORVU2Hr1G126080.11'\n",
       "39. 'HORVU2Hr1G126040.3'\n",
       "40. 'HORVU2Hr1G126040.14'\n",
       "41. 'HORVU2Hr1G126040.1'\n",
       "42. 'HORVU2Hr1G126040.13'\n",
       "43. 'HORVU2Hr1G126040.6'\n",
       "44. 'HORVU2Hr1G126040.4'\n",
       "45. 'HORVU2Hr1G126040.2'\n",
       "46. 'HORVU2Hr1G126040.11'\n",
       "47. 'HORVU2Hr1G126080.10'\n",
       "48. 'HORVU2Hr1G126080.5'\n",
       "49. 'HORVU2Hr1G126040.8'\n",
       "50. 'HORVU2Hr1G126040.7'\n",
       "51. 'HORVU2Hr1G126040.10'\n",
       "52. 'HORVU2Hr1G126040.5'\n",
       "53. 'HORVU2Hr1G126040.15'\n",
       "54. 'HORVU2Hr1G126040.12'\n",
       "55. 'HORVU2Hr1G126040.9'\n",
       "56. 'HORVU2Hr1G126040.16'\n",
       "57. 'HORVU2Hr1G126040.18'\n",
       "58. 'HORVU2Hr1G126040.17'\n",
       "59. 'Zm00001d002934_P001'\n",
       "60. 'AT2G24430.2'\n",
       "61. 'AT2G24430.1'\n",
       "62. 'HORVU2Hr1G080460.21'\n",
       "63. 'HORVU2Hr1G080460.20'\n",
       "64. 'HORVU2Hr1G080460.1'\n",
       "65. 'HORVU2Hr1G080460.2'\n",
       "66. 'Zm00001d006053_P001'\n",
       "67. 'Zm00001d005028_P001'\n",
       "68. 'Zm00001d003414_P002'\n",
       "69. 'Zm00001d003414_P001'\n",
       "\n",
       "\n",
       "\n",
       "\n",
       "\n"
      ],
      "text/plain": [
       "[[1]]\n",
       " [1] \"AT2G18060.3\"         \"AT2G18060.1\"         \"AT2G18060.2\"        \n",
       " [4] \"HORVU2Hr1G092030.19\" \"HORVU2Hr1G092030.20\" \"HORVU2Hr1G092030.18\"\n",
       " [7] \"HORVU2Hr1G092030.17\" \"HORVU2Hr1G092030.4\"  \"HORVU2Hr1G092030.5\" \n",
       "[10] \"HORVU2Hr1G092030.11\" \"HORVU2Hr1G092030.9\"  \"HORVU2Hr1G092030.2\" \n",
       "[13] \"HORVU2Hr1G092030.3\"  \"HORVU2Hr1G092030.14\" \"HORVU2Hr1G092030.1\" \n",
       "[16] \"HORVU2Hr1G092030.6\"  \"HORVU2Hr1G092030.7\"  \"HORVU2Hr1G092030.13\"\n",
       "[19] \"HORVU2Hr1G092030.15\" \"HORVU2Hr1G092030.10\" \"HORVU2Hr1G092030.16\"\n",
       "[22] \"HORVU2Hr1G092030.8\"  \"HORVU2Hr1G092030.12\" \"Zm00001d002828_P001\"\n",
       "\n",
       "[[2]]\n",
       " [1] \"AT2G18060.3\"         \"AT2G18060.1\"         \"AT2G18060.2\"        \n",
       " [4] \"HORVU2Hr1G092030.19\" \"HORVU2Hr1G092030.20\" \"HORVU2Hr1G092030.18\"\n",
       " [7] \"HORVU2Hr1G092030.17\" \"HORVU2Hr1G092030.4\"  \"HORVU2Hr1G092030.5\" \n",
       "[10] \"HORVU2Hr1G092030.11\" \"HORVU2Hr1G092030.9\"  \"HORVU2Hr1G092030.2\" \n",
       "[13] \"HORVU2Hr1G092030.3\"  \"HORVU2Hr1G092030.14\" \"HORVU2Hr1G092030.1\" \n",
       "[16] \"HORVU2Hr1G092030.6\"  \"HORVU2Hr1G092030.7\"  \"HORVU2Hr1G092030.13\"\n",
       "[19] \"HORVU2Hr1G092030.15\" \"HORVU2Hr1G092030.10\" \"HORVU2Hr1G092030.16\"\n",
       "[22] \"HORVU2Hr1G092030.8\"  \"HORVU2Hr1G092030.12\" \"Zm00001d002828_P001\"\n",
       "[25] \"AT2G46770.1\"         \"HORVU2Hr1G077320.3\"  \"HORVU2Hr1G077320.1\" \n",
       "[28] \"HORVU2Hr1G077320.2\"  \"Zm00001d003583_P001\"\n",
       "\n",
       "[[3]]\n",
       " [1] \"AT2G18060.3\"         \"AT2G18060.1\"         \"AT2G18060.2\"        \n",
       " [4] \"HORVU2Hr1G092030.19\" \"HORVU2Hr1G092030.20\" \"HORVU2Hr1G092030.18\"\n",
       " [7] \"HORVU2Hr1G092030.17\" \"HORVU2Hr1G092030.4\"  \"HORVU2Hr1G092030.5\" \n",
       "[10] \"HORVU2Hr1G092030.11\" \"HORVU2Hr1G092030.9\"  \"HORVU2Hr1G092030.2\" \n",
       "[13] \"HORVU2Hr1G092030.3\"  \"HORVU2Hr1G092030.14\" \"HORVU2Hr1G092030.1\" \n",
       "[16] \"HORVU2Hr1G092030.6\"  \"HORVU2Hr1G092030.7\"  \"HORVU2Hr1G092030.13\"\n",
       "[19] \"HORVU2Hr1G092030.15\" \"HORVU2Hr1G092030.10\" \"HORVU2Hr1G092030.16\"\n",
       "[22] \"HORVU2Hr1G092030.8\"  \"HORVU2Hr1G092030.12\" \"Zm00001d002828_P001\"\n",
       "[25] \"AT2G46770.1\"         \"HORVU2Hr1G077320.3\"  \"HORVU2Hr1G077320.1\" \n",
       "[28] \"HORVU2Hr1G077320.2\"  \"Zm00001d003583_P001\" \"HORVU2Hr1G126080.3\" \n",
       "[31] \"HORVU2Hr1G126080.4\"  \"HORVU2Hr1G126080.2\"  \"HORVU2Hr1G126080.1\" \n",
       "[34] \"HORVU2Hr1G126080.8\"  \"HORVU2Hr1G126080.6\"  \"HORVU2Hr1G126080.7\" \n",
       "[37] \"HORVU2Hr1G126080.9\"  \"HORVU2Hr1G126080.11\" \"HORVU2Hr1G126040.3\" \n",
       "[40] \"HORVU2Hr1G126040.14\" \"HORVU2Hr1G126040.1\"  \"HORVU2Hr1G126040.13\"\n",
       "[43] \"HORVU2Hr1G126040.6\"  \"HORVU2Hr1G126040.4\"  \"HORVU2Hr1G126040.2\" \n",
       "[46] \"HORVU2Hr1G126040.11\" \"HORVU2Hr1G126080.10\" \"HORVU2Hr1G126080.5\" \n",
       "[49] \"HORVU2Hr1G126040.8\"  \"HORVU2Hr1G126040.7\"  \"HORVU2Hr1G126040.10\"\n",
       "[52] \"HORVU2Hr1G126040.5\"  \"HORVU2Hr1G126040.15\" \"HORVU2Hr1G126040.12\"\n",
       "[55] \"HORVU2Hr1G126040.9\"  \"HORVU2Hr1G126040.16\" \"HORVU2Hr1G126040.18\"\n",
       "[58] \"HORVU2Hr1G126040.17\" \"Zm00001d002934_P001\"\n",
       "\n",
       "[[4]]\n",
       " [1] \"AT2G18060.3\"         \"AT2G18060.1\"         \"AT2G18060.2\"        \n",
       " [4] \"HORVU2Hr1G092030.19\" \"HORVU2Hr1G092030.20\" \"HORVU2Hr1G092030.18\"\n",
       " [7] \"HORVU2Hr1G092030.17\" \"HORVU2Hr1G092030.4\"  \"HORVU2Hr1G092030.5\" \n",
       "[10] \"HORVU2Hr1G092030.11\" \"HORVU2Hr1G092030.9\"  \"HORVU2Hr1G092030.2\" \n",
       "[13] \"HORVU2Hr1G092030.3\"  \"HORVU2Hr1G092030.14\" \"HORVU2Hr1G092030.1\" \n",
       "[16] \"HORVU2Hr1G092030.6\"  \"HORVU2Hr1G092030.7\"  \"HORVU2Hr1G092030.13\"\n",
       "[19] \"HORVU2Hr1G092030.15\" \"HORVU2Hr1G092030.10\" \"HORVU2Hr1G092030.16\"\n",
       "[22] \"HORVU2Hr1G092030.8\"  \"HORVU2Hr1G092030.12\" \"Zm00001d002828_P001\"\n",
       "[25] \"AT2G46770.1\"         \"HORVU2Hr1G077320.3\"  \"HORVU2Hr1G077320.1\" \n",
       "[28] \"HORVU2Hr1G077320.2\"  \"Zm00001d003583_P001\" \"HORVU2Hr1G126080.3\" \n",
       "[31] \"HORVU2Hr1G126080.4\"  \"HORVU2Hr1G126080.2\"  \"HORVU2Hr1G126080.1\" \n",
       "[34] \"HORVU2Hr1G126080.8\"  \"HORVU2Hr1G126080.6\"  \"HORVU2Hr1G126080.7\" \n",
       "[37] \"HORVU2Hr1G126080.9\"  \"HORVU2Hr1G126080.11\" \"HORVU2Hr1G126040.3\" \n",
       "[40] \"HORVU2Hr1G126040.14\" \"HORVU2Hr1G126040.1\"  \"HORVU2Hr1G126040.13\"\n",
       "[43] \"HORVU2Hr1G126040.6\"  \"HORVU2Hr1G126040.4\"  \"HORVU2Hr1G126040.2\" \n",
       "[46] \"HORVU2Hr1G126040.11\" \"HORVU2Hr1G126080.10\" \"HORVU2Hr1G126080.5\" \n",
       "[49] \"HORVU2Hr1G126040.8\"  \"HORVU2Hr1G126040.7\"  \"HORVU2Hr1G126040.10\"\n",
       "[52] \"HORVU2Hr1G126040.5\"  \"HORVU2Hr1G126040.15\" \"HORVU2Hr1G126040.12\"\n",
       "[55] \"HORVU2Hr1G126040.9\"  \"HORVU2Hr1G126040.16\" \"HORVU2Hr1G126040.18\"\n",
       "[58] \"HORVU2Hr1G126040.17\" \"Zm00001d002934_P001\" \"AT2G24430.2\"        \n",
       "[61] \"AT2G24430.1\"         \"HORVU2Hr1G080460.21\" \"HORVU2Hr1G080460.20\"\n",
       "[64] \"HORVU2Hr1G080460.1\"  \"HORVU2Hr1G080460.2\"  \"Zm00001d006053_P001\"\n",
       "[67] \"Zm00001d005028_P001\" \"Zm00001d003414_P002\" \"Zm00001d003414_P001\"\n"
      ]
     },
     "metadata": {},
     "output_type": "display_data"
    }
   ],
   "source": [
    "#create copy of the list and remove the names\n",
    "#add all previous gene/proteins to the next OG\n",
    "# -> e.g. the former seventh OG list element will contain all genes/proteins of all lower numbered OGs\n",
    "cum_add_OG_analysis_list <- add_OG_analysis_list\n",
    "names(cum_add_OG_analysis_list) <- NULL\n",
    "#copy_add_OG_analysis_list\n",
    "\n",
    "for (i in 0:(length(cum_add_OG_analysis_list)-1)) {\n",
    "    \n",
    "    cum_add_OG_analysis_list[[i+1]] <- unlist(c(cum_add_OG_analysis_list[i], cum_add_OG_analysis_list[i+1]))\n",
    "}\n",
    "\n",
    "#lapply(cum_add_OG_analysis_list, length)\n",
    "cum_add_OG_analysis_list"
   ]
  },
  {
   "cell_type": "code",
   "execution_count": null,
   "metadata": {},
   "outputs": [],
   "source": []
  },
  {
   "cell_type": "code",
   "execution_count": null,
   "metadata": {},
   "outputs": [],
   "source": []
  },
  {
   "cell_type": "code",
   "execution_count": 319,
   "metadata": {},
   "outputs": [],
   "source": [
    "#do this for all expanded OGs\n",
    "#do this for all hypotheses\n",
    "#what kind of additional table is worthwhile here? - do I even need one - it's the same as in the additional blast hits stuff ;D\n",
    "#how do I split this in the following steps muscle - gblocks - fasttree;\n",
    "# -> prob. a nested structure of directories - I know the number of additional OGs per OG\n",
    "# -> so OG/; 1/ 2/ 3/, etc.; where 1/ corresponds to the expanded OG itself and the following to the OG itself plus the addtional OG and all prev. add. OGs\n",
    "#adding this to the final tea object"
   ]
  },
  {
   "cell_type": "code",
   "execution_count": null,
   "metadata": {},
   "outputs": [],
   "source": []
  },
  {
   "cell_type": "code",
   "execution_count": null,
   "metadata": {},
   "outputs": [],
   "source": []
  },
  {
   "cell_type": "markdown",
   "metadata": {},
   "source": [
    "#### Putting the additional OG analysis together"
   ]
  },
  {
   "cell_type": "code",
   "execution_count": 66,
   "metadata": {
    "tags": []
   },
   "outputs": [],
   "source": [
    "#transforming ph_orthogroups to long format - nice & neat lookup table ;D\n",
    "long_ph_orthogroups <- ph_orthogroups %>%\n",
    "  select(-OG, -`Gene Tree Parent Clade`) %>%\n",
    "  melt(., id.vars = c(\"HOG\")) %>%\n",
    "  rename(species=variable, id=value) %>%\n",
    "  mutate(species = as.character(species)) %>%\n",
    "  separate_rows(id, sep = \", \") %>%\n",
    "  drop_na()\n",
    "\n",
    "\n",
    "#create final summary list - per OG (name) the cumulative steps of additional OGs\n",
    "summary_add_OG_analysis_list <- vector(mode = \"list\", length = length(expanded_HOGs$HOG))\n",
    "\n",
    "#create classes for nested S3-list structure holding all additional OG sets per OG analysis\n",
    "setClass(\"add_OG_analysis\", \n",
    "         slots=list(add_OG_analysis=\"list\")\n",
    "         )\n",
    "\n",
    "setClass(\"add_OG_set\", \n",
    "         slots=list(genes=\"tbl_df\")\n",
    "         )\n",
    "\n",
    "\n",
    "num=1\n",
    "#dir.create(paste(\"../tea/\", num, \"/add_OGs_sets/\", sep = \"\"))\n",
    "#dir.create(paste(\"tea/\", num, \"/add_OGs_sets/\", sep = \"\"))\n",
    "\n",
    "#similarly to the additional BLAST hits approach we iterate over the expanded OGs\n",
    "loop_index <- 0\n",
    "for (i in expanded_HOGs$HOG) {\n",
    "    \n",
    "    #not pretty but was quick solution\n",
    "    loop_index <- loop_index + 1\n",
    "    \n",
    "    exp_og_genes <- unlist(strsplit(ref_ph_orthogroups[ref_ph_orthogroups$HOG == i,]$genes, split = \", \"))\n",
    "    BLAST_hits_exp_og_genes <- dplyr::filter(all_BLAST_reformatted, \n",
    "                                             qseqid_name %in% exp_og_genes | sseqid_name %in% exp_og_genes)\n",
    "    sorted_BLAST_hits_exp_og_genes <- arrange(BLAST_hits_exp_og_genes, evalue, -bitscore, -pident)\n",
    "\n",
    "    #after the sorting of BLAST hits we move on to merging the OG information into the current exp. OG BLAST hits results\n",
    "\n",
    "    #we can create a merged dataframe from the blast table (HOG specific) and the long format HOG table (general)\n",
    "    #difficulty is that in case of singletons we have NA under HOG\n",
    "    #easiest way I can think of is a named list\n",
    "    self_and_closest_ogs <- left_join(sorted_BLAST_hits_exp_og_genes, long_ph_orthogroups, by = c(\"sseqid_name\" = \"id\")) %>%\n",
    "      group_by(sseqid_name) %>%\n",
    "      arrange(evalue, -bitscore, -pident) %>%\n",
    "      slice(1) %>%\n",
    "      ungroup() %>%\n",
    "      arrange(evalue, -bitscore, -pident) %>%\n",
    "      mutate(HOG = as.character(HOG),\n",
    "             HOG = ifelse(is.na(HOG), paste(\"singleton\", sep = \"-\", cumsum(is.na(HOG))),\n",
    "                          as.character(HOG))) %>%\n",
    "      group_by(HOG) %>%\n",
    "      arrange(evalue, -bitscore, -pident) %>%\n",
    "      slice(1) %>%\n",
    "      ungroup() %>%\n",
    "      arrange(evalue, -bitscore, -pident)\n",
    "     \n",
    "\n",
    "    #first row will should correspond to self match - the OG itself\n",
    "    #self_and_closest_ogs\n",
    "\n",
    "    #here the information provided by the user regarding max. additional OGs is used\n",
    "    #suppose user chose max 5 additional orthogroups in config file\n",
    "    add_OGs = 3\n",
    "\n",
    "\n",
    "    #need to add check for number of additonal OGs/singletons\n",
    "    #e.g. user sets max. add. OGs/singletons to 5 but we only can provide 4\n",
    "    #+ have to consider the expanded OG itself, so:\n",
    "    available_add_OGs <- nrow(self_and_closest_ogs) - 1 \n",
    "    #available_add_OGs\n",
    "\n",
    "    #in this case set add_OGs to max available\n",
    "    if (available_add_OGs < add_OGs) {\n",
    "      add_OGs <- available_add_OGs\n",
    "    } \n",
    "\n",
    "    #empty list of precomputed size - add OGs plus the expanded OG itself\n",
    "    add_OG_analysis_list <- vector(mode = \"list\", length = add_OGs+1)\n",
    "\n",
    "\n",
    "    for (j in 1:(add_OGs+1)) {\n",
    "      og_name <- self_and_closest_ogs[j,] %>%\n",
    "      pull(HOG)\n",
    "  \n",
    "      #differnetiate between OG case and a singleton case - different handling:\n",
    "      #for HOG get all associated genes/proteins from large long format table\n",
    "      #for singletons get singelton gene/protein from the table itself\n",
    "      if (!str_detect(og_name, \"singleton\") == TRUE) {\n",
    "  \n",
    "        name_curr_close_HOG <- self_and_closest_ogs[j,] %>%\n",
    "                                 pull(HOG)\n",
    "  \n",
    "        ids_curr_close_HOG <- long_ph_orthogroups %>%\n",
    "                                filter(HOG %in% name_curr_close_HOG) %>%\n",
    "                                pull(id)\n",
    "  \n",
    "        add_OG_analysis_list[[j]] <- ids_curr_close_HOG\n",
    "        names(add_OG_analysis_list)[j] <- name_curr_close_HOG\n",
    "  \n",
    "      } else {\n",
    "        name_curr_close_singleton <- self_and_closest_ogs[j,] %>%\n",
    "                                     pull(HOG)\n",
    "  \n",
    "        id_curr_close_HOG <- self_and_closest_ogs[j,] %>%\n",
    "                               pull(sseqid_name)\n",
    "  \n",
    "        add_OG_analysis_list[[j]] <- id_curr_close_HOG\n",
    "        names(add_OG_analysis_list)[j] <- name_curr_close_singleton\n",
    "      }\n",
    "    }\n",
    "    \n",
    "    #create copy of the list and remove the names\n",
    "    #add all previous gene/proteins to the next OG\n",
    "    # -> e.g. the former seventh OG list element will contain all genes/proteins of all lower numbered OGs\n",
    "    #the final \"cum_add_OG_analysis_list\" will be a list with each next element having the cumulative set of all previous and own gene/protein ids \n",
    "    cum_add_OG_analysis_list <- add_OG_analysis_list\n",
    "    names(cum_add_OG_analysis_list) <- NULL\n",
    "    #copy_add_OG_analysis_list\n",
    "\n",
    "    for (k in 0:(length(cum_add_OG_analysis_list)-1)) {\n",
    "      cum_add_OG_analysis_list[[k+1]] <- unlist(c(cum_add_OG_analysis_list[k], cum_add_OG_analysis_list[k+1]))\n",
    "    }\n",
    "\n",
    "    #lapply(cum_add_OG_analysis_list, length)\n",
    "    #print(i)\n",
    "    #print(cum_add_OG_analysis_list)\n",
    "    \n",
    "    \n",
    "    #create directory/ies - for each HOG under \"add_OGs_sets\"\n",
    "    #dir.create(paste(\"tea/\", num, \"/add_OGs_sets/\", i, sep = \"\"))\n",
    "    dir.create(paste(\"../tea/\", num, \"/add_OGs_sets/\", i, sep = \"\"))    \n",
    "    \n",
    "    #iterate over cum. list and write cumulative sets into seperate files\n",
    "    for (l in 1:length(cum_add_OG_analysis_list)) {\n",
    "      write_lines(cum_add_OG_analysis_list[[l]],\n",
    "                  #paste(\"tea/\", num, \"/add_OGs_sets/\", i, \"/add_OGs_set_num-\", l, \".txt\", sep = \"\")\n",
    "                  paste(\"../tea/\", num, \"/add_OGs_sets/\", i, \"/add_OGs_set_num-\", l, \".txt\", sep = \"\")\n",
    "      )\n",
    "\n",
    "    }\n",
    "\n",
    "    #append current cum. list to summary list & name element after OG\n",
    "    summary_add_OG_analysis_list[[loop_index]] <- cum_add_OG_analysis_list\n",
    "    names(summary_add_OG_analysis_list)[loop_index] <- i\n",
    "    \n",
    "}\n",
    "\n",
    "\n",
    "## in this final step we use the summary list to create S3-list nest structure which contains all info \n",
    "## of the summary but in the format we will embed in the final results object as part of the final_tea computation\n",
    "\n",
    "#length of add OGs analysis summary list\n",
    "summary_length <- length(summary_add_OG_analysis_list)\n",
    "\n",
    "#create empty list of length of the summary list\n",
    "add_og_complete_object <- vector(mode = \"list\", length = summary_length)\n",
    "\n",
    "#iterate over all OGs in summary list\n",
    "for (og in 1:summary_length) {\n",
    " \n",
    "  #amount of sets for current OG - (necessary since less addtional OGs than max wished by user is possible)\n",
    "  curr_og_n_sets <- length(summary_add_OG_analysis_list[[og]])\n",
    "    \n",
    "  #empty list with n elements = n sets for currently analyzed OG\n",
    "  og_all_sets <- vector(mode = \"list\", length = curr_og_n_sets)\n",
    "    \n",
    "  for (set in 1:curr_og_n_sets) {\n",
    "\n",
    "    curr_set <- new(\"add_OG_set\",\n",
    "               genes=as_tibble(\n",
    "                       unlist(\n",
    "                         summary_add_OG_analysis_list[[og]][set],\n",
    "                       )  \n",
    "                     ) \n",
    "        )\n",
    "    curr_set <- list(curr_set)\n",
    "    #names(curr_set) <- paste0(set)\n",
    "  \n",
    "    og_all_sets[set] <- curr_set\n",
    "    names(og_all_sets)[set] <- paste0(\"set_\", set)\n",
    "      \n",
    "  }\n",
    "    \n",
    "  curr_add_og <- new(\"add_OG_analysis\",\n",
    "                     add_OG_analysis=og_all_sets\n",
    "                     )\n",
    "\n",
    "  curr_add_og <- list(curr_add_og) \n",
    " \n",
    "  add_og_complete_object[og] <- curr_add_og\n",
    "\n",
    "  names(add_og_complete_object)[og]  <- names(summary_add_OG_analysis_list[og])\n",
    "}\n",
    "\n",
    "\n",
    "# save summary table for aditional OG analysis to hypothesis specific (\"num\") RDS file\n",
    "#saveRDS(add_og_complete_object, paste(\"tea/\", num, \"/add_OGs_sets/add_OG_analysis_object.RDS\", sep = \"\"))\n",
    "saveRDS(add_og_complete_object, paste(\"../tea/\", num, \"/add_OGs_sets/add_OG_analysis_object.RDS\", sep = \"\"))"
   ]
  },
  {
   "cell_type": "code",
   "execution_count": 72,
   "metadata": {
    "collapsed": true,
    "jupyter": {
     "outputs_hidden": true
    },
    "tags": []
   },
   "outputs": [
    {
     "name": "stdout",
     "output_type": "stream",
     "text": [
      "[1] \"N0.HOG0000049\"\n",
      "character(0)\n",
      "[1] 4\n",
      "[1] 4\n",
      "[1] \"../tea/2/add_OGs_sets/N0.HOG0000049/add_OGs_set_num-4.txt\"\n"
     ]
    },
    {
     "name": "stderr",
     "output_type": "stream",
     "text": [
      "Warning message in file.create(missing_file):\n",
      "“cannot create file '../tea/2/add_OGs_sets/N0.HOG0000049/add_OGs_set_num-4.txt', reason 'No such file or directory'”\n"
     ]
    },
    {
     "name": "stdout",
     "output_type": "stream",
     "text": [
      "[1] 3\n",
      "[1] \"../tea/2/add_OGs_sets/N0.HOG0000049/add_OGs_set_num-3.txt\"\n"
     ]
    },
    {
     "name": "stderr",
     "output_type": "stream",
     "text": [
      "Warning message in file.create(missing_file):\n",
      "“cannot create file '../tea/2/add_OGs_sets/N0.HOG0000049/add_OGs_set_num-3.txt', reason 'No such file or directory'”\n"
     ]
    },
    {
     "name": "stdout",
     "output_type": "stream",
     "text": [
      "[1] 2\n",
      "[1] \"../tea/2/add_OGs_sets/N0.HOG0000049/add_OGs_set_num-2.txt\"\n"
     ]
    },
    {
     "name": "stderr",
     "output_type": "stream",
     "text": [
      "Warning message in file.create(missing_file):\n",
      "“cannot create file '../tea/2/add_OGs_sets/N0.HOG0000049/add_OGs_set_num-2.txt', reason 'No such file or directory'”\n"
     ]
    },
    {
     "name": "stdout",
     "output_type": "stream",
     "text": [
      "[1] 1\n",
      "[1] \"../tea/2/add_OGs_sets/N0.HOG0000049/add_OGs_set_num-1.txt\"\n"
     ]
    },
    {
     "name": "stderr",
     "output_type": "stream",
     "text": [
      "Warning message in file.create(missing_file):\n",
      "“cannot create file '../tea/2/add_OGs_sets/N0.HOG0000049/add_OGs_set_num-1.txt', reason 'No such file or directory'”\n"
     ]
    },
    {
     "name": "stdout",
     "output_type": "stream",
     "text": [
      "[1] \"N0.HOG0000076\"\n",
      "character(0)\n",
      "[1] 4\n",
      "[1] 4\n",
      "[1] \"../tea/2/add_OGs_sets/N0.HOG0000076/add_OGs_set_num-4.txt\"\n"
     ]
    },
    {
     "name": "stderr",
     "output_type": "stream",
     "text": [
      "Warning message in file.create(missing_file):\n",
      "“cannot create file '../tea/2/add_OGs_sets/N0.HOG0000076/add_OGs_set_num-4.txt', reason 'No such file or directory'”\n"
     ]
    },
    {
     "name": "stdout",
     "output_type": "stream",
     "text": [
      "[1] 3\n",
      "[1] \"../tea/2/add_OGs_sets/N0.HOG0000076/add_OGs_set_num-3.txt\"\n"
     ]
    },
    {
     "name": "stderr",
     "output_type": "stream",
     "text": [
      "Warning message in file.create(missing_file):\n",
      "“cannot create file '../tea/2/add_OGs_sets/N0.HOG0000076/add_OGs_set_num-3.txt', reason 'No such file or directory'”\n"
     ]
    },
    {
     "name": "stdout",
     "output_type": "stream",
     "text": [
      "[1] 2\n",
      "[1] \"../tea/2/add_OGs_sets/N0.HOG0000076/add_OGs_set_num-2.txt\"\n"
     ]
    },
    {
     "name": "stderr",
     "output_type": "stream",
     "text": [
      "Warning message in file.create(missing_file):\n",
      "“cannot create file '../tea/2/add_OGs_sets/N0.HOG0000076/add_OGs_set_num-2.txt', reason 'No such file or directory'”\n"
     ]
    },
    {
     "name": "stdout",
     "output_type": "stream",
     "text": [
      "[1] 1\n",
      "[1] \"../tea/2/add_OGs_sets/N0.HOG0000076/add_OGs_set_num-1.txt\"\n"
     ]
    },
    {
     "name": "stderr",
     "output_type": "stream",
     "text": [
      "Warning message in file.create(missing_file):\n",
      "“cannot create file '../tea/2/add_OGs_sets/N0.HOG0000076/add_OGs_set_num-1.txt', reason 'No such file or directory'”\n"
     ]
    },
    {
     "name": "stdout",
     "output_type": "stream",
     "text": [
      "[1] \"N0.HOG0000146\"\n",
      "character(0)\n",
      "[1] 4\n",
      "[1] 4\n",
      "[1] \"../tea/2/add_OGs_sets/N0.HOG0000146/add_OGs_set_num-4.txt\"\n"
     ]
    },
    {
     "name": "stderr",
     "output_type": "stream",
     "text": [
      "Warning message in file.create(missing_file):\n",
      "“cannot create file '../tea/2/add_OGs_sets/N0.HOG0000146/add_OGs_set_num-4.txt', reason 'No such file or directory'”\n"
     ]
    },
    {
     "name": "stdout",
     "output_type": "stream",
     "text": [
      "[1] 3\n",
      "[1] \"../tea/2/add_OGs_sets/N0.HOG0000146/add_OGs_set_num-3.txt\"\n"
     ]
    },
    {
     "name": "stderr",
     "output_type": "stream",
     "text": [
      "Warning message in file.create(missing_file):\n",
      "“cannot create file '../tea/2/add_OGs_sets/N0.HOG0000146/add_OGs_set_num-3.txt', reason 'No such file or directory'”\n"
     ]
    },
    {
     "name": "stdout",
     "output_type": "stream",
     "text": [
      "[1] 2\n",
      "[1] \"../tea/2/add_OGs_sets/N0.HOG0000146/add_OGs_set_num-2.txt\"\n"
     ]
    },
    {
     "name": "stderr",
     "output_type": "stream",
     "text": [
      "Warning message in file.create(missing_file):\n",
      "“cannot create file '../tea/2/add_OGs_sets/N0.HOG0000146/add_OGs_set_num-2.txt', reason 'No such file or directory'”\n"
     ]
    },
    {
     "name": "stdout",
     "output_type": "stream",
     "text": [
      "[1] 1\n",
      "[1] \"../tea/2/add_OGs_sets/N0.HOG0000146/add_OGs_set_num-1.txt\"\n"
     ]
    },
    {
     "name": "stderr",
     "output_type": "stream",
     "text": [
      "Warning message in file.create(missing_file):\n",
      "“cannot create file '../tea/2/add_OGs_sets/N0.HOG0000146/add_OGs_set_num-1.txt', reason 'No such file or directory'”\n"
     ]
    },
    {
     "name": "stdout",
     "output_type": "stream",
     "text": [
      "[1] \"N0.HOG0000169\"\n",
      "character(0)\n",
      "[1] 4\n",
      "[1] 4\n",
      "[1] \"../tea/2/add_OGs_sets/N0.HOG0000169/add_OGs_set_num-4.txt\"\n"
     ]
    },
    {
     "name": "stderr",
     "output_type": "stream",
     "text": [
      "Warning message in file.create(missing_file):\n",
      "“cannot create file '../tea/2/add_OGs_sets/N0.HOG0000169/add_OGs_set_num-4.txt', reason 'No such file or directory'”\n"
     ]
    },
    {
     "name": "stdout",
     "output_type": "stream",
     "text": [
      "[1] 3\n",
      "[1] \"../tea/2/add_OGs_sets/N0.HOG0000169/add_OGs_set_num-3.txt\"\n"
     ]
    },
    {
     "name": "stderr",
     "output_type": "stream",
     "text": [
      "Warning message in file.create(missing_file):\n",
      "“cannot create file '../tea/2/add_OGs_sets/N0.HOG0000169/add_OGs_set_num-3.txt', reason 'No such file or directory'”\n"
     ]
    },
    {
     "name": "stdout",
     "output_type": "stream",
     "text": [
      "[1] 2\n",
      "[1] \"../tea/2/add_OGs_sets/N0.HOG0000169/add_OGs_set_num-2.txt\"\n"
     ]
    },
    {
     "name": "stderr",
     "output_type": "stream",
     "text": [
      "Warning message in file.create(missing_file):\n",
      "“cannot create file '../tea/2/add_OGs_sets/N0.HOG0000169/add_OGs_set_num-2.txt', reason 'No such file or directory'”\n"
     ]
    },
    {
     "name": "stdout",
     "output_type": "stream",
     "text": [
      "[1] 1\n",
      "[1] \"../tea/2/add_OGs_sets/N0.HOG0000169/add_OGs_set_num-1.txt\"\n"
     ]
    },
    {
     "name": "stderr",
     "output_type": "stream",
     "text": [
      "Warning message in file.create(missing_file):\n",
      "“cannot create file '../tea/2/add_OGs_sets/N0.HOG0000169/add_OGs_set_num-1.txt', reason 'No such file or directory'”\n"
     ]
    },
    {
     "name": "stdout",
     "output_type": "stream",
     "text": [
      "[1] \"N0.HOG0000171\"\n",
      "character(0)\n",
      "[1] 4\n",
      "[1] 4\n",
      "[1] \"../tea/2/add_OGs_sets/N0.HOG0000171/add_OGs_set_num-4.txt\"\n"
     ]
    },
    {
     "name": "stderr",
     "output_type": "stream",
     "text": [
      "Warning message in file.create(missing_file):\n",
      "“cannot create file '../tea/2/add_OGs_sets/N0.HOG0000171/add_OGs_set_num-4.txt', reason 'No such file or directory'”\n"
     ]
    },
    {
     "name": "stdout",
     "output_type": "stream",
     "text": [
      "[1] 3\n",
      "[1] \"../tea/2/add_OGs_sets/N0.HOG0000171/add_OGs_set_num-3.txt\"\n"
     ]
    },
    {
     "name": "stderr",
     "output_type": "stream",
     "text": [
      "Warning message in file.create(missing_file):\n",
      "“cannot create file '../tea/2/add_OGs_sets/N0.HOG0000171/add_OGs_set_num-3.txt', reason 'No such file or directory'”\n"
     ]
    },
    {
     "name": "stdout",
     "output_type": "stream",
     "text": [
      "[1] 2\n",
      "[1] \"../tea/2/add_OGs_sets/N0.HOG0000171/add_OGs_set_num-2.txt\"\n"
     ]
    },
    {
     "name": "stderr",
     "output_type": "stream",
     "text": [
      "Warning message in file.create(missing_file):\n",
      "“cannot create file '../tea/2/add_OGs_sets/N0.HOG0000171/add_OGs_set_num-2.txt', reason 'No such file or directory'”\n"
     ]
    },
    {
     "name": "stdout",
     "output_type": "stream",
     "text": [
      "[1] 1\n",
      "[1] \"../tea/2/add_OGs_sets/N0.HOG0000171/add_OGs_set_num-1.txt\"\n"
     ]
    },
    {
     "name": "stderr",
     "output_type": "stream",
     "text": [
      "Warning message in file.create(missing_file):\n",
      "“cannot create file '../tea/2/add_OGs_sets/N0.HOG0000171/add_OGs_set_num-1.txt', reason 'No such file or directory'”\n"
     ]
    },
    {
     "name": "stdout",
     "output_type": "stream",
     "text": [
      "[1] \"N0.HOG0000172\"\n",
      "character(0)\n",
      "[1] 4\n",
      "[1] 4\n",
      "[1] \"../tea/2/add_OGs_sets/N0.HOG0000172/add_OGs_set_num-4.txt\"\n"
     ]
    },
    {
     "name": "stderr",
     "output_type": "stream",
     "text": [
      "Warning message in file.create(missing_file):\n",
      "“cannot create file '../tea/2/add_OGs_sets/N0.HOG0000172/add_OGs_set_num-4.txt', reason 'No such file or directory'”\n"
     ]
    },
    {
     "name": "stdout",
     "output_type": "stream",
     "text": [
      "[1] 3\n",
      "[1] \"../tea/2/add_OGs_sets/N0.HOG0000172/add_OGs_set_num-3.txt\"\n"
     ]
    },
    {
     "name": "stderr",
     "output_type": "stream",
     "text": [
      "Warning message in file.create(missing_file):\n",
      "“cannot create file '../tea/2/add_OGs_sets/N0.HOG0000172/add_OGs_set_num-3.txt', reason 'No such file or directory'”\n"
     ]
    },
    {
     "name": "stdout",
     "output_type": "stream",
     "text": [
      "[1] 2\n",
      "[1] \"../tea/2/add_OGs_sets/N0.HOG0000172/add_OGs_set_num-2.txt\"\n"
     ]
    },
    {
     "name": "stderr",
     "output_type": "stream",
     "text": [
      "Warning message in file.create(missing_file):\n",
      "“cannot create file '../tea/2/add_OGs_sets/N0.HOG0000172/add_OGs_set_num-2.txt', reason 'No such file or directory'”\n"
     ]
    },
    {
     "name": "stdout",
     "output_type": "stream",
     "text": [
      "[1] 1\n",
      "[1] \"../tea/2/add_OGs_sets/N0.HOG0000172/add_OGs_set_num-1.txt\"\n"
     ]
    },
    {
     "name": "stderr",
     "output_type": "stream",
     "text": [
      "Warning message in file.create(missing_file):\n",
      "“cannot create file '../tea/2/add_OGs_sets/N0.HOG0000172/add_OGs_set_num-1.txt', reason 'No such file or directory'”\n"
     ]
    },
    {
     "name": "stdout",
     "output_type": "stream",
     "text": [
      "[1] \"N0.HOG0000174\"\n",
      "character(0)\n",
      "[1] 4\n",
      "[1] 4\n",
      "[1] \"../tea/2/add_OGs_sets/N0.HOG0000174/add_OGs_set_num-4.txt\"\n"
     ]
    },
    {
     "name": "stderr",
     "output_type": "stream",
     "text": [
      "Warning message in file.create(missing_file):\n",
      "“cannot create file '../tea/2/add_OGs_sets/N0.HOG0000174/add_OGs_set_num-4.txt', reason 'No such file or directory'”\n"
     ]
    },
    {
     "name": "stdout",
     "output_type": "stream",
     "text": [
      "[1] 3\n",
      "[1] \"../tea/2/add_OGs_sets/N0.HOG0000174/add_OGs_set_num-3.txt\"\n"
     ]
    },
    {
     "name": "stderr",
     "output_type": "stream",
     "text": [
      "Warning message in file.create(missing_file):\n",
      "“cannot create file '../tea/2/add_OGs_sets/N0.HOG0000174/add_OGs_set_num-3.txt', reason 'No such file or directory'”\n"
     ]
    },
    {
     "name": "stdout",
     "output_type": "stream",
     "text": [
      "[1] 2\n",
      "[1] \"../tea/2/add_OGs_sets/N0.HOG0000174/add_OGs_set_num-2.txt\"\n"
     ]
    },
    {
     "name": "stderr",
     "output_type": "stream",
     "text": [
      "Warning message in file.create(missing_file):\n",
      "“cannot create file '../tea/2/add_OGs_sets/N0.HOG0000174/add_OGs_set_num-2.txt', reason 'No such file or directory'”\n"
     ]
    },
    {
     "name": "stdout",
     "output_type": "stream",
     "text": [
      "[1] 1\n",
      "[1] \"../tea/2/add_OGs_sets/N0.HOG0000174/add_OGs_set_num-1.txt\"\n"
     ]
    },
    {
     "name": "stderr",
     "output_type": "stream",
     "text": [
      "Warning message in file.create(missing_file):\n",
      "“cannot create file '../tea/2/add_OGs_sets/N0.HOG0000174/add_OGs_set_num-1.txt', reason 'No such file or directory'”\n"
     ]
    },
    {
     "name": "stdout",
     "output_type": "stream",
     "text": [
      "[1] \"N0.HOG0000205\"\n",
      "character(0)\n",
      "[1] 4\n",
      "[1] 4\n",
      "[1] \"../tea/2/add_OGs_sets/N0.HOG0000205/add_OGs_set_num-4.txt\"\n"
     ]
    },
    {
     "name": "stderr",
     "output_type": "stream",
     "text": [
      "Warning message in file.create(missing_file):\n",
      "“cannot create file '../tea/2/add_OGs_sets/N0.HOG0000205/add_OGs_set_num-4.txt', reason 'No such file or directory'”\n"
     ]
    },
    {
     "name": "stdout",
     "output_type": "stream",
     "text": [
      "[1] 3\n",
      "[1] \"../tea/2/add_OGs_sets/N0.HOG0000205/add_OGs_set_num-3.txt\"\n"
     ]
    },
    {
     "name": "stderr",
     "output_type": "stream",
     "text": [
      "Warning message in file.create(missing_file):\n",
      "“cannot create file '../tea/2/add_OGs_sets/N0.HOG0000205/add_OGs_set_num-3.txt', reason 'No such file or directory'”\n"
     ]
    },
    {
     "name": "stdout",
     "output_type": "stream",
     "text": [
      "[1] 2\n",
      "[1] \"../tea/2/add_OGs_sets/N0.HOG0000205/add_OGs_set_num-2.txt\"\n"
     ]
    },
    {
     "name": "stderr",
     "output_type": "stream",
     "text": [
      "Warning message in file.create(missing_file):\n",
      "“cannot create file '../tea/2/add_OGs_sets/N0.HOG0000205/add_OGs_set_num-2.txt', reason 'No such file or directory'”\n"
     ]
    },
    {
     "name": "stdout",
     "output_type": "stream",
     "text": [
      "[1] 1\n",
      "[1] \"../tea/2/add_OGs_sets/N0.HOG0000205/add_OGs_set_num-1.txt\"\n"
     ]
    },
    {
     "name": "stderr",
     "output_type": "stream",
     "text": [
      "Warning message in file.create(missing_file):\n",
      "“cannot create file '../tea/2/add_OGs_sets/N0.HOG0000205/add_OGs_set_num-1.txt', reason 'No such file or directory'”\n"
     ]
    },
    {
     "name": "stdout",
     "output_type": "stream",
     "text": [
      "[1] \"N0.HOG0000208\"\n",
      "character(0)\n",
      "[1] 4\n",
      "[1] 4\n",
      "[1] \"../tea/2/add_OGs_sets/N0.HOG0000208/add_OGs_set_num-4.txt\"\n"
     ]
    },
    {
     "name": "stderr",
     "output_type": "stream",
     "text": [
      "Warning message in file.create(missing_file):\n",
      "“cannot create file '../tea/2/add_OGs_sets/N0.HOG0000208/add_OGs_set_num-4.txt', reason 'No such file or directory'”\n"
     ]
    },
    {
     "name": "stdout",
     "output_type": "stream",
     "text": [
      "[1] 3\n",
      "[1] \"../tea/2/add_OGs_sets/N0.HOG0000208/add_OGs_set_num-3.txt\"\n"
     ]
    },
    {
     "name": "stderr",
     "output_type": "stream",
     "text": [
      "Warning message in file.create(missing_file):\n",
      "“cannot create file '../tea/2/add_OGs_sets/N0.HOG0000208/add_OGs_set_num-3.txt', reason 'No such file or directory'”\n"
     ]
    },
    {
     "name": "stdout",
     "output_type": "stream",
     "text": [
      "[1] 2\n",
      "[1] \"../tea/2/add_OGs_sets/N0.HOG0000208/add_OGs_set_num-2.txt\"\n"
     ]
    },
    {
     "name": "stderr",
     "output_type": "stream",
     "text": [
      "Warning message in file.create(missing_file):\n",
      "“cannot create file '../tea/2/add_OGs_sets/N0.HOG0000208/add_OGs_set_num-2.txt', reason 'No such file or directory'”\n"
     ]
    },
    {
     "name": "stdout",
     "output_type": "stream",
     "text": [
      "[1] 1\n",
      "[1] \"../tea/2/add_OGs_sets/N0.HOG0000208/add_OGs_set_num-1.txt\"\n"
     ]
    },
    {
     "name": "stderr",
     "output_type": "stream",
     "text": [
      "Warning message in file.create(missing_file):\n",
      "“cannot create file '../tea/2/add_OGs_sets/N0.HOG0000208/add_OGs_set_num-1.txt', reason 'No such file or directory'”\n"
     ]
    },
    {
     "name": "stdout",
     "output_type": "stream",
     "text": [
      "[1] \"N0.HOG0000211\"\n",
      "character(0)\n",
      "[1] 4\n",
      "[1] 4\n",
      "[1] \"../tea/2/add_OGs_sets/N0.HOG0000211/add_OGs_set_num-4.txt\"\n"
     ]
    },
    {
     "name": "stderr",
     "output_type": "stream",
     "text": [
      "Warning message in file.create(missing_file):\n",
      "“cannot create file '../tea/2/add_OGs_sets/N0.HOG0000211/add_OGs_set_num-4.txt', reason 'No such file or directory'”\n"
     ]
    },
    {
     "name": "stdout",
     "output_type": "stream",
     "text": [
      "[1] 3\n",
      "[1] \"../tea/2/add_OGs_sets/N0.HOG0000211/add_OGs_set_num-3.txt\"\n"
     ]
    },
    {
     "name": "stderr",
     "output_type": "stream",
     "text": [
      "Warning message in file.create(missing_file):\n",
      "“cannot create file '../tea/2/add_OGs_sets/N0.HOG0000211/add_OGs_set_num-3.txt', reason 'No such file or directory'”\n"
     ]
    },
    {
     "name": "stdout",
     "output_type": "stream",
     "text": [
      "[1] 2\n",
      "[1] \"../tea/2/add_OGs_sets/N0.HOG0000211/add_OGs_set_num-2.txt\"\n"
     ]
    },
    {
     "name": "stderr",
     "output_type": "stream",
     "text": [
      "Warning message in file.create(missing_file):\n",
      "“cannot create file '../tea/2/add_OGs_sets/N0.HOG0000211/add_OGs_set_num-2.txt', reason 'No such file or directory'”\n"
     ]
    },
    {
     "name": "stdout",
     "output_type": "stream",
     "text": [
      "[1] 1\n",
      "[1] \"../tea/2/add_OGs_sets/N0.HOG0000211/add_OGs_set_num-1.txt\"\n"
     ]
    },
    {
     "name": "stderr",
     "output_type": "stream",
     "text": [
      "Warning message in file.create(missing_file):\n",
      "“cannot create file '../tea/2/add_OGs_sets/N0.HOG0000211/add_OGs_set_num-1.txt', reason 'No such file or directory'”\n"
     ]
    },
    {
     "name": "stdout",
     "output_type": "stream",
     "text": [
      "[1] \"N0.HOG0000224\"\n",
      "character(0)\n",
      "[1] 4\n",
      "[1] 4\n",
      "[1] \"../tea/2/add_OGs_sets/N0.HOG0000224/add_OGs_set_num-4.txt\"\n"
     ]
    },
    {
     "name": "stderr",
     "output_type": "stream",
     "text": [
      "Warning message in file.create(missing_file):\n",
      "“cannot create file '../tea/2/add_OGs_sets/N0.HOG0000224/add_OGs_set_num-4.txt', reason 'No such file or directory'”\n"
     ]
    },
    {
     "name": "stdout",
     "output_type": "stream",
     "text": [
      "[1] 3\n",
      "[1] \"../tea/2/add_OGs_sets/N0.HOG0000224/add_OGs_set_num-3.txt\"\n"
     ]
    },
    {
     "name": "stderr",
     "output_type": "stream",
     "text": [
      "Warning message in file.create(missing_file):\n",
      "“cannot create file '../tea/2/add_OGs_sets/N0.HOG0000224/add_OGs_set_num-3.txt', reason 'No such file or directory'”\n"
     ]
    },
    {
     "name": "stdout",
     "output_type": "stream",
     "text": [
      "[1] 2\n",
      "[1] \"../tea/2/add_OGs_sets/N0.HOG0000224/add_OGs_set_num-2.txt\"\n"
     ]
    },
    {
     "name": "stderr",
     "output_type": "stream",
     "text": [
      "Warning message in file.create(missing_file):\n",
      "“cannot create file '../tea/2/add_OGs_sets/N0.HOG0000224/add_OGs_set_num-2.txt', reason 'No such file or directory'”\n"
     ]
    },
    {
     "name": "stdout",
     "output_type": "stream",
     "text": [
      "[1] 1\n",
      "[1] \"../tea/2/add_OGs_sets/N0.HOG0000224/add_OGs_set_num-1.txt\"\n"
     ]
    },
    {
     "name": "stderr",
     "output_type": "stream",
     "text": [
      "Warning message in file.create(missing_file):\n",
      "“cannot create file '../tea/2/add_OGs_sets/N0.HOG0000224/add_OGs_set_num-1.txt', reason 'No such file or directory'”\n"
     ]
    },
    {
     "name": "stdout",
     "output_type": "stream",
     "text": [
      "[1] \"N0.HOG0000225\"\n",
      "character(0)\n",
      "[1] 4\n",
      "[1] 4\n",
      "[1] \"../tea/2/add_OGs_sets/N0.HOG0000225/add_OGs_set_num-4.txt\"\n"
     ]
    },
    {
     "name": "stderr",
     "output_type": "stream",
     "text": [
      "Warning message in file.create(missing_file):\n",
      "“cannot create file '../tea/2/add_OGs_sets/N0.HOG0000225/add_OGs_set_num-4.txt', reason 'No such file or directory'”\n"
     ]
    },
    {
     "name": "stdout",
     "output_type": "stream",
     "text": [
      "[1] 3\n",
      "[1] \"../tea/2/add_OGs_sets/N0.HOG0000225/add_OGs_set_num-3.txt\"\n"
     ]
    },
    {
     "name": "stderr",
     "output_type": "stream",
     "text": [
      "Warning message in file.create(missing_file):\n",
      "“cannot create file '../tea/2/add_OGs_sets/N0.HOG0000225/add_OGs_set_num-3.txt', reason 'No such file or directory'”\n"
     ]
    },
    {
     "name": "stdout",
     "output_type": "stream",
     "text": [
      "[1] 2\n",
      "[1] \"../tea/2/add_OGs_sets/N0.HOG0000225/add_OGs_set_num-2.txt\"\n"
     ]
    },
    {
     "name": "stderr",
     "output_type": "stream",
     "text": [
      "Warning message in file.create(missing_file):\n",
      "“cannot create file '../tea/2/add_OGs_sets/N0.HOG0000225/add_OGs_set_num-2.txt', reason 'No such file or directory'”\n"
     ]
    },
    {
     "name": "stdout",
     "output_type": "stream",
     "text": [
      "[1] 1\n",
      "[1] \"../tea/2/add_OGs_sets/N0.HOG0000225/add_OGs_set_num-1.txt\"\n"
     ]
    },
    {
     "name": "stderr",
     "output_type": "stream",
     "text": [
      "Warning message in file.create(missing_file):\n",
      "“cannot create file '../tea/2/add_OGs_sets/N0.HOG0000225/add_OGs_set_num-1.txt', reason 'No such file or directory'”\n"
     ]
    },
    {
     "name": "stdout",
     "output_type": "stream",
     "text": [
      "[1] \"N0.HOG0000254\"\n",
      "character(0)\n",
      "[1] 4\n",
      "[1] 4\n",
      "[1] \"../tea/2/add_OGs_sets/N0.HOG0000254/add_OGs_set_num-4.txt\"\n"
     ]
    },
    {
     "name": "stderr",
     "output_type": "stream",
     "text": [
      "Warning message in file.create(missing_file):\n",
      "“cannot create file '../tea/2/add_OGs_sets/N0.HOG0000254/add_OGs_set_num-4.txt', reason 'No such file or directory'”\n"
     ]
    },
    {
     "name": "stdout",
     "output_type": "stream",
     "text": [
      "[1] 3\n",
      "[1] \"../tea/2/add_OGs_sets/N0.HOG0000254/add_OGs_set_num-3.txt\"\n"
     ]
    },
    {
     "name": "stderr",
     "output_type": "stream",
     "text": [
      "Warning message in file.create(missing_file):\n",
      "“cannot create file '../tea/2/add_OGs_sets/N0.HOG0000254/add_OGs_set_num-3.txt', reason 'No such file or directory'”\n"
     ]
    },
    {
     "name": "stdout",
     "output_type": "stream",
     "text": [
      "[1] 2\n",
      "[1] \"../tea/2/add_OGs_sets/N0.HOG0000254/add_OGs_set_num-2.txt\"\n"
     ]
    },
    {
     "name": "stderr",
     "output_type": "stream",
     "text": [
      "Warning message in file.create(missing_file):\n",
      "“cannot create file '../tea/2/add_OGs_sets/N0.HOG0000254/add_OGs_set_num-2.txt', reason 'No such file or directory'”\n"
     ]
    },
    {
     "name": "stdout",
     "output_type": "stream",
     "text": [
      "[1] 1\n",
      "[1] \"../tea/2/add_OGs_sets/N0.HOG0000254/add_OGs_set_num-1.txt\"\n"
     ]
    },
    {
     "name": "stderr",
     "output_type": "stream",
     "text": [
      "Warning message in file.create(missing_file):\n",
      "“cannot create file '../tea/2/add_OGs_sets/N0.HOG0000254/add_OGs_set_num-1.txt', reason 'No such file or directory'”\n"
     ]
    },
    {
     "name": "stdout",
     "output_type": "stream",
     "text": [
      "[1] \"N0.HOG0000275\"\n",
      "character(0)\n",
      "[1] 4\n",
      "[1] 4\n",
      "[1] \"../tea/2/add_OGs_sets/N0.HOG0000275/add_OGs_set_num-4.txt\"\n"
     ]
    },
    {
     "name": "stderr",
     "output_type": "stream",
     "text": [
      "Warning message in file.create(missing_file):\n",
      "“cannot create file '../tea/2/add_OGs_sets/N0.HOG0000275/add_OGs_set_num-4.txt', reason 'No such file or directory'”\n"
     ]
    },
    {
     "name": "stdout",
     "output_type": "stream",
     "text": [
      "[1] 3\n",
      "[1] \"../tea/2/add_OGs_sets/N0.HOG0000275/add_OGs_set_num-3.txt\"\n"
     ]
    },
    {
     "name": "stderr",
     "output_type": "stream",
     "text": [
      "Warning message in file.create(missing_file):\n",
      "“cannot create file '../tea/2/add_OGs_sets/N0.HOG0000275/add_OGs_set_num-3.txt', reason 'No such file or directory'”\n"
     ]
    },
    {
     "name": "stdout",
     "output_type": "stream",
     "text": [
      "[1] 2\n",
      "[1] \"../tea/2/add_OGs_sets/N0.HOG0000275/add_OGs_set_num-2.txt\"\n"
     ]
    },
    {
     "name": "stderr",
     "output_type": "stream",
     "text": [
      "Warning message in file.create(missing_file):\n",
      "“cannot create file '../tea/2/add_OGs_sets/N0.HOG0000275/add_OGs_set_num-2.txt', reason 'No such file or directory'”\n"
     ]
    },
    {
     "name": "stdout",
     "output_type": "stream",
     "text": [
      "[1] 1\n",
      "[1] \"../tea/2/add_OGs_sets/N0.HOG0000275/add_OGs_set_num-1.txt\"\n"
     ]
    },
    {
     "name": "stderr",
     "output_type": "stream",
     "text": [
      "Warning message in file.create(missing_file):\n",
      "“cannot create file '../tea/2/add_OGs_sets/N0.HOG0000275/add_OGs_set_num-1.txt', reason 'No such file or directory'”\n"
     ]
    },
    {
     "name": "stdout",
     "output_type": "stream",
     "text": [
      "[1] \"N0.HOG0000280\"\n",
      "character(0)\n",
      "[1] 4\n",
      "[1] 4\n",
      "[1] \"../tea/2/add_OGs_sets/N0.HOG0000280/add_OGs_set_num-4.txt\"\n"
     ]
    },
    {
     "name": "stderr",
     "output_type": "stream",
     "text": [
      "Warning message in file.create(missing_file):\n",
      "“cannot create file '../tea/2/add_OGs_sets/N0.HOG0000280/add_OGs_set_num-4.txt', reason 'No such file or directory'”\n"
     ]
    },
    {
     "name": "stdout",
     "output_type": "stream",
     "text": [
      "[1] 3\n",
      "[1] \"../tea/2/add_OGs_sets/N0.HOG0000280/add_OGs_set_num-3.txt\"\n"
     ]
    },
    {
     "name": "stderr",
     "output_type": "stream",
     "text": [
      "Warning message in file.create(missing_file):\n",
      "“cannot create file '../tea/2/add_OGs_sets/N0.HOG0000280/add_OGs_set_num-3.txt', reason 'No such file or directory'”\n"
     ]
    },
    {
     "name": "stdout",
     "output_type": "stream",
     "text": [
      "[1] 2\n",
      "[1] \"../tea/2/add_OGs_sets/N0.HOG0000280/add_OGs_set_num-2.txt\"\n"
     ]
    },
    {
     "name": "stderr",
     "output_type": "stream",
     "text": [
      "Warning message in file.create(missing_file):\n",
      "“cannot create file '../tea/2/add_OGs_sets/N0.HOG0000280/add_OGs_set_num-2.txt', reason 'No such file or directory'”\n"
     ]
    },
    {
     "name": "stdout",
     "output_type": "stream",
     "text": [
      "[1] 1\n",
      "[1] \"../tea/2/add_OGs_sets/N0.HOG0000280/add_OGs_set_num-1.txt\"\n"
     ]
    },
    {
     "name": "stderr",
     "output_type": "stream",
     "text": [
      "Warning message in file.create(missing_file):\n",
      "“cannot create file '../tea/2/add_OGs_sets/N0.HOG0000280/add_OGs_set_num-1.txt', reason 'No such file or directory'”\n"
     ]
    },
    {
     "name": "stdout",
     "output_type": "stream",
     "text": [
      "[1] \"N0.HOG0000283\"\n",
      "character(0)\n",
      "[1] 4\n",
      "[1] 4\n",
      "[1] \"../tea/2/add_OGs_sets/N0.HOG0000283/add_OGs_set_num-4.txt\"\n"
     ]
    },
    {
     "name": "stderr",
     "output_type": "stream",
     "text": [
      "Warning message in file.create(missing_file):\n",
      "“cannot create file '../tea/2/add_OGs_sets/N0.HOG0000283/add_OGs_set_num-4.txt', reason 'No such file or directory'”\n"
     ]
    },
    {
     "name": "stdout",
     "output_type": "stream",
     "text": [
      "[1] 3\n",
      "[1] \"../tea/2/add_OGs_sets/N0.HOG0000283/add_OGs_set_num-3.txt\"\n"
     ]
    },
    {
     "name": "stderr",
     "output_type": "stream",
     "text": [
      "Warning message in file.create(missing_file):\n",
      "“cannot create file '../tea/2/add_OGs_sets/N0.HOG0000283/add_OGs_set_num-3.txt', reason 'No such file or directory'”\n"
     ]
    },
    {
     "name": "stdout",
     "output_type": "stream",
     "text": [
      "[1] 2\n",
      "[1] \"../tea/2/add_OGs_sets/N0.HOG0000283/add_OGs_set_num-2.txt\"\n"
     ]
    },
    {
     "name": "stderr",
     "output_type": "stream",
     "text": [
      "Warning message in file.create(missing_file):\n",
      "“cannot create file '../tea/2/add_OGs_sets/N0.HOG0000283/add_OGs_set_num-2.txt', reason 'No such file or directory'”\n"
     ]
    },
    {
     "name": "stdout",
     "output_type": "stream",
     "text": [
      "[1] 1\n",
      "[1] \"../tea/2/add_OGs_sets/N0.HOG0000283/add_OGs_set_num-1.txt\"\n"
     ]
    },
    {
     "name": "stderr",
     "output_type": "stream",
     "text": [
      "Warning message in file.create(missing_file):\n",
      "“cannot create file '../tea/2/add_OGs_sets/N0.HOG0000283/add_OGs_set_num-1.txt', reason 'No such file or directory'”\n"
     ]
    },
    {
     "name": "stdout",
     "output_type": "stream",
     "text": [
      "[1] \"N0.HOG0000308\"\n",
      "character(0)\n",
      "[1] 4\n",
      "[1] 4\n",
      "[1] \"../tea/2/add_OGs_sets/N0.HOG0000308/add_OGs_set_num-4.txt\"\n"
     ]
    },
    {
     "name": "stderr",
     "output_type": "stream",
     "text": [
      "Warning message in file.create(missing_file):\n",
      "“cannot create file '../tea/2/add_OGs_sets/N0.HOG0000308/add_OGs_set_num-4.txt', reason 'No such file or directory'”\n"
     ]
    },
    {
     "name": "stdout",
     "output_type": "stream",
     "text": [
      "[1] 3\n",
      "[1] \"../tea/2/add_OGs_sets/N0.HOG0000308/add_OGs_set_num-3.txt\"\n"
     ]
    },
    {
     "name": "stderr",
     "output_type": "stream",
     "text": [
      "Warning message in file.create(missing_file):\n",
      "“cannot create file '../tea/2/add_OGs_sets/N0.HOG0000308/add_OGs_set_num-3.txt', reason 'No such file or directory'”\n"
     ]
    },
    {
     "name": "stdout",
     "output_type": "stream",
     "text": [
      "[1] 2\n",
      "[1] \"../tea/2/add_OGs_sets/N0.HOG0000308/add_OGs_set_num-2.txt\"\n"
     ]
    },
    {
     "name": "stderr",
     "output_type": "stream",
     "text": [
      "Warning message in file.create(missing_file):\n",
      "“cannot create file '../tea/2/add_OGs_sets/N0.HOG0000308/add_OGs_set_num-2.txt', reason 'No such file or directory'”\n"
     ]
    },
    {
     "name": "stdout",
     "output_type": "stream",
     "text": [
      "[1] 1\n",
      "[1] \"../tea/2/add_OGs_sets/N0.HOG0000308/add_OGs_set_num-1.txt\"\n"
     ]
    },
    {
     "name": "stderr",
     "output_type": "stream",
     "text": [
      "Warning message in file.create(missing_file):\n",
      "“cannot create file '../tea/2/add_OGs_sets/N0.HOG0000308/add_OGs_set_num-1.txt', reason 'No such file or directory'”\n"
     ]
    },
    {
     "name": "stdout",
     "output_type": "stream",
     "text": [
      "[1] \"N0.HOG0000403\"\n",
      "character(0)\n",
      "[1] 4\n",
      "[1] 4\n",
      "[1] \"../tea/2/add_OGs_sets/N0.HOG0000403/add_OGs_set_num-4.txt\"\n"
     ]
    },
    {
     "name": "stderr",
     "output_type": "stream",
     "text": [
      "Warning message in file.create(missing_file):\n",
      "“cannot create file '../tea/2/add_OGs_sets/N0.HOG0000403/add_OGs_set_num-4.txt', reason 'No such file or directory'”\n"
     ]
    },
    {
     "name": "stdout",
     "output_type": "stream",
     "text": [
      "[1] 3\n",
      "[1] \"../tea/2/add_OGs_sets/N0.HOG0000403/add_OGs_set_num-3.txt\"\n"
     ]
    },
    {
     "name": "stderr",
     "output_type": "stream",
     "text": [
      "Warning message in file.create(missing_file):\n",
      "“cannot create file '../tea/2/add_OGs_sets/N0.HOG0000403/add_OGs_set_num-3.txt', reason 'No such file or directory'”\n"
     ]
    },
    {
     "name": "stdout",
     "output_type": "stream",
     "text": [
      "[1] 2\n",
      "[1] \"../tea/2/add_OGs_sets/N0.HOG0000403/add_OGs_set_num-2.txt\"\n"
     ]
    },
    {
     "name": "stderr",
     "output_type": "stream",
     "text": [
      "Warning message in file.create(missing_file):\n",
      "“cannot create file '../tea/2/add_OGs_sets/N0.HOG0000403/add_OGs_set_num-2.txt', reason 'No such file or directory'”\n"
     ]
    },
    {
     "name": "stdout",
     "output_type": "stream",
     "text": [
      "[1] 1\n",
      "[1] \"../tea/2/add_OGs_sets/N0.HOG0000403/add_OGs_set_num-1.txt\"\n"
     ]
    },
    {
     "name": "stderr",
     "output_type": "stream",
     "text": [
      "Warning message in file.create(missing_file):\n",
      "“cannot create file '../tea/2/add_OGs_sets/N0.HOG0000403/add_OGs_set_num-1.txt', reason 'No such file or directory'”\n"
     ]
    },
    {
     "name": "stdout",
     "output_type": "stream",
     "text": [
      "[1] \"N0.HOG0000435\"\n",
      "character(0)\n",
      "[1] 4\n",
      "[1] 4\n",
      "[1] \"../tea/2/add_OGs_sets/N0.HOG0000435/add_OGs_set_num-4.txt\"\n"
     ]
    },
    {
     "name": "stderr",
     "output_type": "stream",
     "text": [
      "Warning message in file.create(missing_file):\n",
      "“cannot create file '../tea/2/add_OGs_sets/N0.HOG0000435/add_OGs_set_num-4.txt', reason 'No such file or directory'”\n"
     ]
    },
    {
     "name": "stdout",
     "output_type": "stream",
     "text": [
      "[1] 3\n",
      "[1] \"../tea/2/add_OGs_sets/N0.HOG0000435/add_OGs_set_num-3.txt\"\n"
     ]
    },
    {
     "name": "stderr",
     "output_type": "stream",
     "text": [
      "Warning message in file.create(missing_file):\n",
      "“cannot create file '../tea/2/add_OGs_sets/N0.HOG0000435/add_OGs_set_num-3.txt', reason 'No such file or directory'”\n"
     ]
    },
    {
     "name": "stdout",
     "output_type": "stream",
     "text": [
      "[1] 2\n",
      "[1] \"../tea/2/add_OGs_sets/N0.HOG0000435/add_OGs_set_num-2.txt\"\n"
     ]
    },
    {
     "name": "stderr",
     "output_type": "stream",
     "text": [
      "Warning message in file.create(missing_file):\n",
      "“cannot create file '../tea/2/add_OGs_sets/N0.HOG0000435/add_OGs_set_num-2.txt', reason 'No such file or directory'”\n"
     ]
    },
    {
     "name": "stdout",
     "output_type": "stream",
     "text": [
      "[1] 1\n",
      "[1] \"../tea/2/add_OGs_sets/N0.HOG0000435/add_OGs_set_num-1.txt\"\n"
     ]
    },
    {
     "name": "stderr",
     "output_type": "stream",
     "text": [
      "Warning message in file.create(missing_file):\n",
      "“cannot create file '../tea/2/add_OGs_sets/N0.HOG0000435/add_OGs_set_num-1.txt', reason 'No such file or directory'”\n"
     ]
    },
    {
     "name": "stdout",
     "output_type": "stream",
     "text": [
      "[1] \"N0.HOG0000480\"\n",
      "character(0)\n",
      "[1] 4\n",
      "[1] 4\n",
      "[1] \"../tea/2/add_OGs_sets/N0.HOG0000480/add_OGs_set_num-4.txt\"\n"
     ]
    },
    {
     "name": "stderr",
     "output_type": "stream",
     "text": [
      "Warning message in file.create(missing_file):\n",
      "“cannot create file '../tea/2/add_OGs_sets/N0.HOG0000480/add_OGs_set_num-4.txt', reason 'No such file or directory'”\n"
     ]
    },
    {
     "name": "stdout",
     "output_type": "stream",
     "text": [
      "[1] 3\n",
      "[1] \"../tea/2/add_OGs_sets/N0.HOG0000480/add_OGs_set_num-3.txt\"\n"
     ]
    },
    {
     "name": "stderr",
     "output_type": "stream",
     "text": [
      "Warning message in file.create(missing_file):\n",
      "“cannot create file '../tea/2/add_OGs_sets/N0.HOG0000480/add_OGs_set_num-3.txt', reason 'No such file or directory'”\n"
     ]
    },
    {
     "name": "stdout",
     "output_type": "stream",
     "text": [
      "[1] 2\n",
      "[1] \"../tea/2/add_OGs_sets/N0.HOG0000480/add_OGs_set_num-2.txt\"\n"
     ]
    },
    {
     "name": "stderr",
     "output_type": "stream",
     "text": [
      "Warning message in file.create(missing_file):\n",
      "“cannot create file '../tea/2/add_OGs_sets/N0.HOG0000480/add_OGs_set_num-2.txt', reason 'No such file or directory'”\n"
     ]
    },
    {
     "name": "stdout",
     "output_type": "stream",
     "text": [
      "[1] 1\n",
      "[1] \"../tea/2/add_OGs_sets/N0.HOG0000480/add_OGs_set_num-1.txt\"\n"
     ]
    },
    {
     "name": "stderr",
     "output_type": "stream",
     "text": [
      "Warning message in file.create(missing_file):\n",
      "“cannot create file '../tea/2/add_OGs_sets/N0.HOG0000480/add_OGs_set_num-1.txt', reason 'No such file or directory'”\n"
     ]
    },
    {
     "name": "stdout",
     "output_type": "stream",
     "text": [
      "[1] \"N0.HOG0000482\"\n",
      "character(0)\n",
      "[1] 4\n",
      "[1] 4\n",
      "[1] \"../tea/2/add_OGs_sets/N0.HOG0000482/add_OGs_set_num-4.txt\"\n"
     ]
    },
    {
     "name": "stderr",
     "output_type": "stream",
     "text": [
      "Warning message in file.create(missing_file):\n",
      "“cannot create file '../tea/2/add_OGs_sets/N0.HOG0000482/add_OGs_set_num-4.txt', reason 'No such file or directory'”\n"
     ]
    },
    {
     "name": "stdout",
     "output_type": "stream",
     "text": [
      "[1] 3\n",
      "[1] \"../tea/2/add_OGs_sets/N0.HOG0000482/add_OGs_set_num-3.txt\"\n"
     ]
    },
    {
     "name": "stderr",
     "output_type": "stream",
     "text": [
      "Warning message in file.create(missing_file):\n",
      "“cannot create file '../tea/2/add_OGs_sets/N0.HOG0000482/add_OGs_set_num-3.txt', reason 'No such file or directory'”\n"
     ]
    },
    {
     "name": "stdout",
     "output_type": "stream",
     "text": [
      "[1] 2\n",
      "[1] \"../tea/2/add_OGs_sets/N0.HOG0000482/add_OGs_set_num-2.txt\"\n"
     ]
    },
    {
     "name": "stderr",
     "output_type": "stream",
     "text": [
      "Warning message in file.create(missing_file):\n",
      "“cannot create file '../tea/2/add_OGs_sets/N0.HOG0000482/add_OGs_set_num-2.txt', reason 'No such file or directory'”\n"
     ]
    },
    {
     "name": "stdout",
     "output_type": "stream",
     "text": [
      "[1] 1\n",
      "[1] \"../tea/2/add_OGs_sets/N0.HOG0000482/add_OGs_set_num-1.txt\"\n"
     ]
    },
    {
     "name": "stderr",
     "output_type": "stream",
     "text": [
      "Warning message in file.create(missing_file):\n",
      "“cannot create file '../tea/2/add_OGs_sets/N0.HOG0000482/add_OGs_set_num-1.txt', reason 'No such file or directory'”\n"
     ]
    },
    {
     "name": "stdout",
     "output_type": "stream",
     "text": [
      "[1] \"N0.HOG0000483\"\n",
      "character(0)\n",
      "[1] 4\n",
      "[1] 4\n",
      "[1] \"../tea/2/add_OGs_sets/N0.HOG0000483/add_OGs_set_num-4.txt\"\n"
     ]
    },
    {
     "name": "stderr",
     "output_type": "stream",
     "text": [
      "Warning message in file.create(missing_file):\n",
      "“cannot create file '../tea/2/add_OGs_sets/N0.HOG0000483/add_OGs_set_num-4.txt', reason 'No such file or directory'”\n"
     ]
    },
    {
     "name": "stdout",
     "output_type": "stream",
     "text": [
      "[1] 3\n",
      "[1] \"../tea/2/add_OGs_sets/N0.HOG0000483/add_OGs_set_num-3.txt\"\n"
     ]
    },
    {
     "name": "stderr",
     "output_type": "stream",
     "text": [
      "Warning message in file.create(missing_file):\n",
      "“cannot create file '../tea/2/add_OGs_sets/N0.HOG0000483/add_OGs_set_num-3.txt', reason 'No such file or directory'”\n"
     ]
    },
    {
     "name": "stdout",
     "output_type": "stream",
     "text": [
      "[1] 2\n",
      "[1] \"../tea/2/add_OGs_sets/N0.HOG0000483/add_OGs_set_num-2.txt\"\n"
     ]
    },
    {
     "name": "stderr",
     "output_type": "stream",
     "text": [
      "Warning message in file.create(missing_file):\n",
      "“cannot create file '../tea/2/add_OGs_sets/N0.HOG0000483/add_OGs_set_num-2.txt', reason 'No such file or directory'”\n"
     ]
    },
    {
     "name": "stdout",
     "output_type": "stream",
     "text": [
      "[1] 1\n",
      "[1] \"../tea/2/add_OGs_sets/N0.HOG0000483/add_OGs_set_num-1.txt\"\n"
     ]
    },
    {
     "name": "stderr",
     "output_type": "stream",
     "text": [
      "Warning message in file.create(missing_file):\n",
      "“cannot create file '../tea/2/add_OGs_sets/N0.HOG0000483/add_OGs_set_num-1.txt', reason 'No such file or directory'”\n"
     ]
    },
    {
     "name": "stdout",
     "output_type": "stream",
     "text": [
      "[1] \"N0.HOG0000525\"\n",
      "character(0)\n",
      "[1] 4\n",
      "[1] 4\n",
      "[1] \"../tea/2/add_OGs_sets/N0.HOG0000525/add_OGs_set_num-4.txt\"\n"
     ]
    },
    {
     "name": "stderr",
     "output_type": "stream",
     "text": [
      "Warning message in file.create(missing_file):\n",
      "“cannot create file '../tea/2/add_OGs_sets/N0.HOG0000525/add_OGs_set_num-4.txt', reason 'No such file or directory'”\n"
     ]
    },
    {
     "name": "stdout",
     "output_type": "stream",
     "text": [
      "[1] 3\n",
      "[1] \"../tea/2/add_OGs_sets/N0.HOG0000525/add_OGs_set_num-3.txt\"\n"
     ]
    },
    {
     "name": "stderr",
     "output_type": "stream",
     "text": [
      "Warning message in file.create(missing_file):\n",
      "“cannot create file '../tea/2/add_OGs_sets/N0.HOG0000525/add_OGs_set_num-3.txt', reason 'No such file or directory'”\n"
     ]
    },
    {
     "name": "stdout",
     "output_type": "stream",
     "text": [
      "[1] 2\n",
      "[1] \"../tea/2/add_OGs_sets/N0.HOG0000525/add_OGs_set_num-2.txt\"\n"
     ]
    },
    {
     "name": "stderr",
     "output_type": "stream",
     "text": [
      "Warning message in file.create(missing_file):\n",
      "“cannot create file '../tea/2/add_OGs_sets/N0.HOG0000525/add_OGs_set_num-2.txt', reason 'No such file or directory'”\n"
     ]
    },
    {
     "name": "stdout",
     "output_type": "stream",
     "text": [
      "[1] 1\n",
      "[1] \"../tea/2/add_OGs_sets/N0.HOG0000525/add_OGs_set_num-1.txt\"\n"
     ]
    },
    {
     "name": "stderr",
     "output_type": "stream",
     "text": [
      "Warning message in file.create(missing_file):\n",
      "“cannot create file '../tea/2/add_OGs_sets/N0.HOG0000525/add_OGs_set_num-1.txt', reason 'No such file or directory'”\n"
     ]
    },
    {
     "name": "stdout",
     "output_type": "stream",
     "text": [
      "[1] \"N0.HOG0000529\"\n",
      "character(0)\n",
      "[1] 4\n",
      "[1] 4\n",
      "[1] \"../tea/2/add_OGs_sets/N0.HOG0000529/add_OGs_set_num-4.txt\"\n"
     ]
    },
    {
     "name": "stderr",
     "output_type": "stream",
     "text": [
      "Warning message in file.create(missing_file):\n",
      "“cannot create file '../tea/2/add_OGs_sets/N0.HOG0000529/add_OGs_set_num-4.txt', reason 'No such file or directory'”\n"
     ]
    },
    {
     "name": "stdout",
     "output_type": "stream",
     "text": [
      "[1] 3\n",
      "[1] \"../tea/2/add_OGs_sets/N0.HOG0000529/add_OGs_set_num-3.txt\"\n"
     ]
    },
    {
     "name": "stderr",
     "output_type": "stream",
     "text": [
      "Warning message in file.create(missing_file):\n",
      "“cannot create file '../tea/2/add_OGs_sets/N0.HOG0000529/add_OGs_set_num-3.txt', reason 'No such file or directory'”\n"
     ]
    },
    {
     "name": "stdout",
     "output_type": "stream",
     "text": [
      "[1] 2\n",
      "[1] \"../tea/2/add_OGs_sets/N0.HOG0000529/add_OGs_set_num-2.txt\"\n"
     ]
    },
    {
     "name": "stderr",
     "output_type": "stream",
     "text": [
      "Warning message in file.create(missing_file):\n",
      "“cannot create file '../tea/2/add_OGs_sets/N0.HOG0000529/add_OGs_set_num-2.txt', reason 'No such file or directory'”\n"
     ]
    },
    {
     "name": "stdout",
     "output_type": "stream",
     "text": [
      "[1] 1\n",
      "[1] \"../tea/2/add_OGs_sets/N0.HOG0000529/add_OGs_set_num-1.txt\"\n"
     ]
    },
    {
     "name": "stderr",
     "output_type": "stream",
     "text": [
      "Warning message in file.create(missing_file):\n",
      "“cannot create file '../tea/2/add_OGs_sets/N0.HOG0000529/add_OGs_set_num-1.txt', reason 'No such file or directory'”\n"
     ]
    },
    {
     "name": "stdout",
     "output_type": "stream",
     "text": [
      "[1] \"N0.HOG0000535\"\n",
      "character(0)\n",
      "[1] 4\n",
      "[1] 4\n",
      "[1] \"../tea/2/add_OGs_sets/N0.HOG0000535/add_OGs_set_num-4.txt\"\n"
     ]
    },
    {
     "name": "stderr",
     "output_type": "stream",
     "text": [
      "Warning message in file.create(missing_file):\n",
      "“cannot create file '../tea/2/add_OGs_sets/N0.HOG0000535/add_OGs_set_num-4.txt', reason 'No such file or directory'”\n"
     ]
    },
    {
     "name": "stdout",
     "output_type": "stream",
     "text": [
      "[1] 3\n",
      "[1] \"../tea/2/add_OGs_sets/N0.HOG0000535/add_OGs_set_num-3.txt\"\n"
     ]
    },
    {
     "name": "stderr",
     "output_type": "stream",
     "text": [
      "Warning message in file.create(missing_file):\n",
      "“cannot create file '../tea/2/add_OGs_sets/N0.HOG0000535/add_OGs_set_num-3.txt', reason 'No such file or directory'”\n"
     ]
    },
    {
     "name": "stdout",
     "output_type": "stream",
     "text": [
      "[1] 2\n",
      "[1] \"../tea/2/add_OGs_sets/N0.HOG0000535/add_OGs_set_num-2.txt\"\n"
     ]
    },
    {
     "name": "stderr",
     "output_type": "stream",
     "text": [
      "Warning message in file.create(missing_file):\n",
      "“cannot create file '../tea/2/add_OGs_sets/N0.HOG0000535/add_OGs_set_num-2.txt', reason 'No such file or directory'”\n"
     ]
    },
    {
     "name": "stdout",
     "output_type": "stream",
     "text": [
      "[1] 1\n",
      "[1] \"../tea/2/add_OGs_sets/N0.HOG0000535/add_OGs_set_num-1.txt\"\n"
     ]
    },
    {
     "name": "stderr",
     "output_type": "stream",
     "text": [
      "Warning message in file.create(missing_file):\n",
      "“cannot create file '../tea/2/add_OGs_sets/N0.HOG0000535/add_OGs_set_num-1.txt', reason 'No such file or directory'”\n"
     ]
    },
    {
     "name": "stdout",
     "output_type": "stream",
     "text": [
      "[1] \"N0.HOG0000575\"\n",
      "character(0)\n",
      "[1] 4\n",
      "[1] 4\n",
      "[1] \"../tea/2/add_OGs_sets/N0.HOG0000575/add_OGs_set_num-4.txt\"\n"
     ]
    },
    {
     "name": "stderr",
     "output_type": "stream",
     "text": [
      "Warning message in file.create(missing_file):\n",
      "“cannot create file '../tea/2/add_OGs_sets/N0.HOG0000575/add_OGs_set_num-4.txt', reason 'No such file or directory'”\n"
     ]
    },
    {
     "name": "stdout",
     "output_type": "stream",
     "text": [
      "[1] 3\n",
      "[1] \"../tea/2/add_OGs_sets/N0.HOG0000575/add_OGs_set_num-3.txt\"\n"
     ]
    },
    {
     "name": "stderr",
     "output_type": "stream",
     "text": [
      "Warning message in file.create(missing_file):\n",
      "“cannot create file '../tea/2/add_OGs_sets/N0.HOG0000575/add_OGs_set_num-3.txt', reason 'No such file or directory'”\n"
     ]
    },
    {
     "name": "stdout",
     "output_type": "stream",
     "text": [
      "[1] 2\n",
      "[1] \"../tea/2/add_OGs_sets/N0.HOG0000575/add_OGs_set_num-2.txt\"\n"
     ]
    },
    {
     "name": "stderr",
     "output_type": "stream",
     "text": [
      "Warning message in file.create(missing_file):\n",
      "“cannot create file '../tea/2/add_OGs_sets/N0.HOG0000575/add_OGs_set_num-2.txt', reason 'No such file or directory'”\n"
     ]
    },
    {
     "name": "stdout",
     "output_type": "stream",
     "text": [
      "[1] 1\n",
      "[1] \"../tea/2/add_OGs_sets/N0.HOG0000575/add_OGs_set_num-1.txt\"\n"
     ]
    },
    {
     "name": "stderr",
     "output_type": "stream",
     "text": [
      "Warning message in file.create(missing_file):\n",
      "“cannot create file '../tea/2/add_OGs_sets/N0.HOG0000575/add_OGs_set_num-1.txt', reason 'No such file or directory'”\n"
     ]
    },
    {
     "name": "stdout",
     "output_type": "stream",
     "text": [
      "[1] \"N0.HOG0000583\"\n",
      "character(0)\n",
      "[1] 4\n",
      "[1] 4\n",
      "[1] \"../tea/2/add_OGs_sets/N0.HOG0000583/add_OGs_set_num-4.txt\"\n"
     ]
    },
    {
     "name": "stderr",
     "output_type": "stream",
     "text": [
      "Warning message in file.create(missing_file):\n",
      "“cannot create file '../tea/2/add_OGs_sets/N0.HOG0000583/add_OGs_set_num-4.txt', reason 'No such file or directory'”\n"
     ]
    },
    {
     "name": "stdout",
     "output_type": "stream",
     "text": [
      "[1] 3\n",
      "[1] \"../tea/2/add_OGs_sets/N0.HOG0000583/add_OGs_set_num-3.txt\"\n"
     ]
    },
    {
     "name": "stderr",
     "output_type": "stream",
     "text": [
      "Warning message in file.create(missing_file):\n",
      "“cannot create file '../tea/2/add_OGs_sets/N0.HOG0000583/add_OGs_set_num-3.txt', reason 'No such file or directory'”\n"
     ]
    },
    {
     "name": "stdout",
     "output_type": "stream",
     "text": [
      "[1] 2\n",
      "[1] \"../tea/2/add_OGs_sets/N0.HOG0000583/add_OGs_set_num-2.txt\"\n"
     ]
    },
    {
     "name": "stderr",
     "output_type": "stream",
     "text": [
      "Warning message in file.create(missing_file):\n",
      "“cannot create file '../tea/2/add_OGs_sets/N0.HOG0000583/add_OGs_set_num-2.txt', reason 'No such file or directory'”\n"
     ]
    },
    {
     "name": "stdout",
     "output_type": "stream",
     "text": [
      "[1] 1\n",
      "[1] \"../tea/2/add_OGs_sets/N0.HOG0000583/add_OGs_set_num-1.txt\"\n"
     ]
    },
    {
     "name": "stderr",
     "output_type": "stream",
     "text": [
      "Warning message in file.create(missing_file):\n",
      "“cannot create file '../tea/2/add_OGs_sets/N0.HOG0000583/add_OGs_set_num-1.txt', reason 'No such file or directory'”\n"
     ]
    },
    {
     "name": "stdout",
     "output_type": "stream",
     "text": [
      "[1] \"N0.HOG0000584\"\n",
      "character(0)\n",
      "[1] 4\n",
      "[1] 4\n",
      "[1] \"../tea/2/add_OGs_sets/N0.HOG0000584/add_OGs_set_num-4.txt\"\n"
     ]
    },
    {
     "name": "stderr",
     "output_type": "stream",
     "text": [
      "Warning message in file.create(missing_file):\n",
      "“cannot create file '../tea/2/add_OGs_sets/N0.HOG0000584/add_OGs_set_num-4.txt', reason 'No such file or directory'”\n"
     ]
    },
    {
     "name": "stdout",
     "output_type": "stream",
     "text": [
      "[1] 3\n",
      "[1] \"../tea/2/add_OGs_sets/N0.HOG0000584/add_OGs_set_num-3.txt\"\n"
     ]
    },
    {
     "name": "stderr",
     "output_type": "stream",
     "text": [
      "Warning message in file.create(missing_file):\n",
      "“cannot create file '../tea/2/add_OGs_sets/N0.HOG0000584/add_OGs_set_num-3.txt', reason 'No such file or directory'”\n"
     ]
    },
    {
     "name": "stdout",
     "output_type": "stream",
     "text": [
      "[1] 2\n",
      "[1] \"../tea/2/add_OGs_sets/N0.HOG0000584/add_OGs_set_num-2.txt\"\n"
     ]
    },
    {
     "name": "stderr",
     "output_type": "stream",
     "text": [
      "Warning message in file.create(missing_file):\n",
      "“cannot create file '../tea/2/add_OGs_sets/N0.HOG0000584/add_OGs_set_num-2.txt', reason 'No such file or directory'”\n"
     ]
    },
    {
     "name": "stdout",
     "output_type": "stream",
     "text": [
      "[1] 1\n",
      "[1] \"../tea/2/add_OGs_sets/N0.HOG0000584/add_OGs_set_num-1.txt\"\n"
     ]
    },
    {
     "name": "stderr",
     "output_type": "stream",
     "text": [
      "Warning message in file.create(missing_file):\n",
      "“cannot create file '../tea/2/add_OGs_sets/N0.HOG0000584/add_OGs_set_num-1.txt', reason 'No such file or directory'”\n"
     ]
    },
    {
     "name": "stdout",
     "output_type": "stream",
     "text": [
      "[1] \"N0.HOG0000585\"\n",
      "character(0)\n",
      "[1] 4\n",
      "[1] 4\n",
      "[1] \"../tea/2/add_OGs_sets/N0.HOG0000585/add_OGs_set_num-4.txt\"\n"
     ]
    },
    {
     "name": "stderr",
     "output_type": "stream",
     "text": [
      "Warning message in file.create(missing_file):\n",
      "“cannot create file '../tea/2/add_OGs_sets/N0.HOG0000585/add_OGs_set_num-4.txt', reason 'No such file or directory'”\n"
     ]
    },
    {
     "name": "stdout",
     "output_type": "stream",
     "text": [
      "[1] 3\n",
      "[1] \"../tea/2/add_OGs_sets/N0.HOG0000585/add_OGs_set_num-3.txt\"\n"
     ]
    },
    {
     "name": "stderr",
     "output_type": "stream",
     "text": [
      "Warning message in file.create(missing_file):\n",
      "“cannot create file '../tea/2/add_OGs_sets/N0.HOG0000585/add_OGs_set_num-3.txt', reason 'No such file or directory'”\n"
     ]
    },
    {
     "name": "stdout",
     "output_type": "stream",
     "text": [
      "[1] 2\n",
      "[1] \"../tea/2/add_OGs_sets/N0.HOG0000585/add_OGs_set_num-2.txt\"\n"
     ]
    },
    {
     "name": "stderr",
     "output_type": "stream",
     "text": [
      "Warning message in file.create(missing_file):\n",
      "“cannot create file '../tea/2/add_OGs_sets/N0.HOG0000585/add_OGs_set_num-2.txt', reason 'No such file or directory'”\n"
     ]
    },
    {
     "name": "stdout",
     "output_type": "stream",
     "text": [
      "[1] 1\n",
      "[1] \"../tea/2/add_OGs_sets/N0.HOG0000585/add_OGs_set_num-1.txt\"\n"
     ]
    },
    {
     "name": "stderr",
     "output_type": "stream",
     "text": [
      "Warning message in file.create(missing_file):\n",
      "“cannot create file '../tea/2/add_OGs_sets/N0.HOG0000585/add_OGs_set_num-1.txt', reason 'No such file or directory'”\n"
     ]
    },
    {
     "name": "stdout",
     "output_type": "stream",
     "text": [
      "[1] \"N0.HOG0000640\"\n",
      "character(0)\n",
      "[1] 4\n",
      "[1] 4\n",
      "[1] \"../tea/2/add_OGs_sets/N0.HOG0000640/add_OGs_set_num-4.txt\"\n"
     ]
    },
    {
     "name": "stderr",
     "output_type": "stream",
     "text": [
      "Warning message in file.create(missing_file):\n",
      "“cannot create file '../tea/2/add_OGs_sets/N0.HOG0000640/add_OGs_set_num-4.txt', reason 'No such file or directory'”\n"
     ]
    },
    {
     "name": "stdout",
     "output_type": "stream",
     "text": [
      "[1] 3\n",
      "[1] \"../tea/2/add_OGs_sets/N0.HOG0000640/add_OGs_set_num-3.txt\"\n"
     ]
    },
    {
     "name": "stderr",
     "output_type": "stream",
     "text": [
      "Warning message in file.create(missing_file):\n",
      "“cannot create file '../tea/2/add_OGs_sets/N0.HOG0000640/add_OGs_set_num-3.txt', reason 'No such file or directory'”\n"
     ]
    },
    {
     "name": "stdout",
     "output_type": "stream",
     "text": [
      "[1] 2\n",
      "[1] \"../tea/2/add_OGs_sets/N0.HOG0000640/add_OGs_set_num-2.txt\"\n"
     ]
    },
    {
     "name": "stderr",
     "output_type": "stream",
     "text": [
      "Warning message in file.create(missing_file):\n",
      "“cannot create file '../tea/2/add_OGs_sets/N0.HOG0000640/add_OGs_set_num-2.txt', reason 'No such file or directory'”\n"
     ]
    },
    {
     "name": "stdout",
     "output_type": "stream",
     "text": [
      "[1] 1\n",
      "[1] \"../tea/2/add_OGs_sets/N0.HOG0000640/add_OGs_set_num-1.txt\"\n"
     ]
    },
    {
     "name": "stderr",
     "output_type": "stream",
     "text": [
      "Warning message in file.create(missing_file):\n",
      "“cannot create file '../tea/2/add_OGs_sets/N0.HOG0000640/add_OGs_set_num-1.txt', reason 'No such file or directory'”\n"
     ]
    },
    {
     "name": "stdout",
     "output_type": "stream",
     "text": [
      "[1] \"N0.HOG0000649\"\n",
      "character(0)\n",
      "[1] 4\n",
      "[1] 4\n",
      "[1] \"../tea/2/add_OGs_sets/N0.HOG0000649/add_OGs_set_num-4.txt\"\n"
     ]
    },
    {
     "name": "stderr",
     "output_type": "stream",
     "text": [
      "Warning message in file.create(missing_file):\n",
      "“cannot create file '../tea/2/add_OGs_sets/N0.HOG0000649/add_OGs_set_num-4.txt', reason 'No such file or directory'”\n"
     ]
    },
    {
     "name": "stdout",
     "output_type": "stream",
     "text": [
      "[1] 3\n",
      "[1] \"../tea/2/add_OGs_sets/N0.HOG0000649/add_OGs_set_num-3.txt\"\n"
     ]
    },
    {
     "name": "stderr",
     "output_type": "stream",
     "text": [
      "Warning message in file.create(missing_file):\n",
      "“cannot create file '../tea/2/add_OGs_sets/N0.HOG0000649/add_OGs_set_num-3.txt', reason 'No such file or directory'”\n"
     ]
    },
    {
     "name": "stdout",
     "output_type": "stream",
     "text": [
      "[1] 2\n",
      "[1] \"../tea/2/add_OGs_sets/N0.HOG0000649/add_OGs_set_num-2.txt\"\n"
     ]
    },
    {
     "name": "stderr",
     "output_type": "stream",
     "text": [
      "Warning message in file.create(missing_file):\n",
      "“cannot create file '../tea/2/add_OGs_sets/N0.HOG0000649/add_OGs_set_num-2.txt', reason 'No such file or directory'”\n"
     ]
    },
    {
     "name": "stdout",
     "output_type": "stream",
     "text": [
      "[1] 1\n",
      "[1] \"../tea/2/add_OGs_sets/N0.HOG0000649/add_OGs_set_num-1.txt\"\n"
     ]
    },
    {
     "name": "stderr",
     "output_type": "stream",
     "text": [
      "Warning message in file.create(missing_file):\n",
      "“cannot create file '../tea/2/add_OGs_sets/N0.HOG0000649/add_OGs_set_num-1.txt', reason 'No such file or directory'”\n"
     ]
    },
    {
     "name": "stdout",
     "output_type": "stream",
     "text": [
      "[1] \"N0.HOG0000650\"\n",
      "character(0)\n",
      "[1] 4\n",
      "[1] 4\n",
      "[1] \"../tea/2/add_OGs_sets/N0.HOG0000650/add_OGs_set_num-4.txt\"\n"
     ]
    },
    {
     "name": "stderr",
     "output_type": "stream",
     "text": [
      "Warning message in file.create(missing_file):\n",
      "“cannot create file '../tea/2/add_OGs_sets/N0.HOG0000650/add_OGs_set_num-4.txt', reason 'No such file or directory'”\n"
     ]
    },
    {
     "name": "stdout",
     "output_type": "stream",
     "text": [
      "[1] 3\n",
      "[1] \"../tea/2/add_OGs_sets/N0.HOG0000650/add_OGs_set_num-3.txt\"\n"
     ]
    },
    {
     "name": "stderr",
     "output_type": "stream",
     "text": [
      "Warning message in file.create(missing_file):\n",
      "“cannot create file '../tea/2/add_OGs_sets/N0.HOG0000650/add_OGs_set_num-3.txt', reason 'No such file or directory'”\n"
     ]
    },
    {
     "name": "stdout",
     "output_type": "stream",
     "text": [
      "[1] 2\n",
      "[1] \"../tea/2/add_OGs_sets/N0.HOG0000650/add_OGs_set_num-2.txt\"\n"
     ]
    },
    {
     "name": "stderr",
     "output_type": "stream",
     "text": [
      "Warning message in file.create(missing_file):\n",
      "“cannot create file '../tea/2/add_OGs_sets/N0.HOG0000650/add_OGs_set_num-2.txt', reason 'No such file or directory'”\n"
     ]
    },
    {
     "name": "stdout",
     "output_type": "stream",
     "text": [
      "[1] 1\n",
      "[1] \"../tea/2/add_OGs_sets/N0.HOG0000650/add_OGs_set_num-1.txt\"\n"
     ]
    },
    {
     "name": "stderr",
     "output_type": "stream",
     "text": [
      "Warning message in file.create(missing_file):\n",
      "“cannot create file '../tea/2/add_OGs_sets/N0.HOG0000650/add_OGs_set_num-1.txt', reason 'No such file or directory'”\n"
     ]
    },
    {
     "name": "stdout",
     "output_type": "stream",
     "text": [
      "[1] \"N0.HOG0000653\"\n",
      "character(0)\n",
      "[1] 4\n",
      "[1] 4\n",
      "[1] \"../tea/2/add_OGs_sets/N0.HOG0000653/add_OGs_set_num-4.txt\"\n"
     ]
    },
    {
     "name": "stderr",
     "output_type": "stream",
     "text": [
      "Warning message in file.create(missing_file):\n",
      "“cannot create file '../tea/2/add_OGs_sets/N0.HOG0000653/add_OGs_set_num-4.txt', reason 'No such file or directory'”\n"
     ]
    },
    {
     "name": "stdout",
     "output_type": "stream",
     "text": [
      "[1] 3\n",
      "[1] \"../tea/2/add_OGs_sets/N0.HOG0000653/add_OGs_set_num-3.txt\"\n"
     ]
    },
    {
     "name": "stderr",
     "output_type": "stream",
     "text": [
      "Warning message in file.create(missing_file):\n",
      "“cannot create file '../tea/2/add_OGs_sets/N0.HOG0000653/add_OGs_set_num-3.txt', reason 'No such file or directory'”\n"
     ]
    },
    {
     "name": "stdout",
     "output_type": "stream",
     "text": [
      "[1] 2\n",
      "[1] \"../tea/2/add_OGs_sets/N0.HOG0000653/add_OGs_set_num-2.txt\"\n"
     ]
    },
    {
     "name": "stderr",
     "output_type": "stream",
     "text": [
      "Warning message in file.create(missing_file):\n",
      "“cannot create file '../tea/2/add_OGs_sets/N0.HOG0000653/add_OGs_set_num-2.txt', reason 'No such file or directory'”\n"
     ]
    },
    {
     "name": "stdout",
     "output_type": "stream",
     "text": [
      "[1] 1\n",
      "[1] \"../tea/2/add_OGs_sets/N0.HOG0000653/add_OGs_set_num-1.txt\"\n"
     ]
    },
    {
     "name": "stderr",
     "output_type": "stream",
     "text": [
      "Warning message in file.create(missing_file):\n",
      "“cannot create file '../tea/2/add_OGs_sets/N0.HOG0000653/add_OGs_set_num-1.txt', reason 'No such file or directory'”\n"
     ]
    },
    {
     "name": "stdout",
     "output_type": "stream",
     "text": [
      "[1] \"N0.HOG0000661\"\n",
      "character(0)\n",
      "[1] 4\n",
      "[1] 4\n",
      "[1] \"../tea/2/add_OGs_sets/N0.HOG0000661/add_OGs_set_num-4.txt\"\n"
     ]
    },
    {
     "name": "stderr",
     "output_type": "stream",
     "text": [
      "Warning message in file.create(missing_file):\n",
      "“cannot create file '../tea/2/add_OGs_sets/N0.HOG0000661/add_OGs_set_num-4.txt', reason 'No such file or directory'”\n"
     ]
    },
    {
     "name": "stdout",
     "output_type": "stream",
     "text": [
      "[1] 3\n",
      "[1] \"../tea/2/add_OGs_sets/N0.HOG0000661/add_OGs_set_num-3.txt\"\n"
     ]
    },
    {
     "name": "stderr",
     "output_type": "stream",
     "text": [
      "Warning message in file.create(missing_file):\n",
      "“cannot create file '../tea/2/add_OGs_sets/N0.HOG0000661/add_OGs_set_num-3.txt', reason 'No such file or directory'”\n"
     ]
    },
    {
     "name": "stdout",
     "output_type": "stream",
     "text": [
      "[1] 2\n",
      "[1] \"../tea/2/add_OGs_sets/N0.HOG0000661/add_OGs_set_num-2.txt\"\n"
     ]
    },
    {
     "name": "stderr",
     "output_type": "stream",
     "text": [
      "Warning message in file.create(missing_file):\n",
      "“cannot create file '../tea/2/add_OGs_sets/N0.HOG0000661/add_OGs_set_num-2.txt', reason 'No such file or directory'”\n"
     ]
    },
    {
     "name": "stdout",
     "output_type": "stream",
     "text": [
      "[1] 1\n",
      "[1] \"../tea/2/add_OGs_sets/N0.HOG0000661/add_OGs_set_num-1.txt\"\n"
     ]
    },
    {
     "name": "stderr",
     "output_type": "stream",
     "text": [
      "Warning message in file.create(missing_file):\n",
      "“cannot create file '../tea/2/add_OGs_sets/N0.HOG0000661/add_OGs_set_num-1.txt', reason 'No such file or directory'”\n"
     ]
    },
    {
     "name": "stdout",
     "output_type": "stream",
     "text": [
      "[1] \"N0.HOG0000664\"\n",
      "character(0)\n",
      "[1] 4\n",
      "[1] 4\n",
      "[1] \"../tea/2/add_OGs_sets/N0.HOG0000664/add_OGs_set_num-4.txt\"\n"
     ]
    },
    {
     "name": "stderr",
     "output_type": "stream",
     "text": [
      "Warning message in file.create(missing_file):\n",
      "“cannot create file '../tea/2/add_OGs_sets/N0.HOG0000664/add_OGs_set_num-4.txt', reason 'No such file or directory'”\n"
     ]
    },
    {
     "name": "stdout",
     "output_type": "stream",
     "text": [
      "[1] 3\n",
      "[1] \"../tea/2/add_OGs_sets/N0.HOG0000664/add_OGs_set_num-3.txt\"\n"
     ]
    },
    {
     "name": "stderr",
     "output_type": "stream",
     "text": [
      "Warning message in file.create(missing_file):\n",
      "“cannot create file '../tea/2/add_OGs_sets/N0.HOG0000664/add_OGs_set_num-3.txt', reason 'No such file or directory'”\n"
     ]
    },
    {
     "name": "stdout",
     "output_type": "stream",
     "text": [
      "[1] 2\n",
      "[1] \"../tea/2/add_OGs_sets/N0.HOG0000664/add_OGs_set_num-2.txt\"\n"
     ]
    },
    {
     "name": "stderr",
     "output_type": "stream",
     "text": [
      "Warning message in file.create(missing_file):\n",
      "“cannot create file '../tea/2/add_OGs_sets/N0.HOG0000664/add_OGs_set_num-2.txt', reason 'No such file or directory'”\n"
     ]
    },
    {
     "name": "stdout",
     "output_type": "stream",
     "text": [
      "[1] 1\n",
      "[1] \"../tea/2/add_OGs_sets/N0.HOG0000664/add_OGs_set_num-1.txt\"\n"
     ]
    },
    {
     "name": "stderr",
     "output_type": "stream",
     "text": [
      "Warning message in file.create(missing_file):\n",
      "“cannot create file '../tea/2/add_OGs_sets/N0.HOG0000664/add_OGs_set_num-1.txt', reason 'No such file or directory'”\n"
     ]
    },
    {
     "name": "stdout",
     "output_type": "stream",
     "text": [
      "[1] \"N0.HOG0000723\"\n",
      "character(0)\n",
      "[1] 4\n",
      "[1] 4\n",
      "[1] \"../tea/2/add_OGs_sets/N0.HOG0000723/add_OGs_set_num-4.txt\"\n"
     ]
    },
    {
     "name": "stderr",
     "output_type": "stream",
     "text": [
      "Warning message in file.create(missing_file):\n",
      "“cannot create file '../tea/2/add_OGs_sets/N0.HOG0000723/add_OGs_set_num-4.txt', reason 'No such file or directory'”\n"
     ]
    },
    {
     "name": "stdout",
     "output_type": "stream",
     "text": [
      "[1] 3\n",
      "[1] \"../tea/2/add_OGs_sets/N0.HOG0000723/add_OGs_set_num-3.txt\"\n"
     ]
    },
    {
     "name": "stderr",
     "output_type": "stream",
     "text": [
      "Warning message in file.create(missing_file):\n",
      "“cannot create file '../tea/2/add_OGs_sets/N0.HOG0000723/add_OGs_set_num-3.txt', reason 'No such file or directory'”\n"
     ]
    },
    {
     "name": "stdout",
     "output_type": "stream",
     "text": [
      "[1] 2\n",
      "[1] \"../tea/2/add_OGs_sets/N0.HOG0000723/add_OGs_set_num-2.txt\"\n"
     ]
    },
    {
     "name": "stderr",
     "output_type": "stream",
     "text": [
      "Warning message in file.create(missing_file):\n",
      "“cannot create file '../tea/2/add_OGs_sets/N0.HOG0000723/add_OGs_set_num-2.txt', reason 'No such file or directory'”\n"
     ]
    },
    {
     "name": "stdout",
     "output_type": "stream",
     "text": [
      "[1] 1\n",
      "[1] \"../tea/2/add_OGs_sets/N0.HOG0000723/add_OGs_set_num-1.txt\"\n"
     ]
    },
    {
     "name": "stderr",
     "output_type": "stream",
     "text": [
      "Warning message in file.create(missing_file):\n",
      "“cannot create file '../tea/2/add_OGs_sets/N0.HOG0000723/add_OGs_set_num-1.txt', reason 'No such file or directory'”\n"
     ]
    },
    {
     "name": "stdout",
     "output_type": "stream",
     "text": [
      "[1] \"N0.HOG0000735\"\n",
      "character(0)\n",
      "[1] 4\n",
      "[1] 4\n",
      "[1] \"../tea/2/add_OGs_sets/N0.HOG0000735/add_OGs_set_num-4.txt\"\n"
     ]
    },
    {
     "name": "stderr",
     "output_type": "stream",
     "text": [
      "Warning message in file.create(missing_file):\n",
      "“cannot create file '../tea/2/add_OGs_sets/N0.HOG0000735/add_OGs_set_num-4.txt', reason 'No such file or directory'”\n"
     ]
    },
    {
     "name": "stdout",
     "output_type": "stream",
     "text": [
      "[1] 3\n",
      "[1] \"../tea/2/add_OGs_sets/N0.HOG0000735/add_OGs_set_num-3.txt\"\n"
     ]
    },
    {
     "name": "stderr",
     "output_type": "stream",
     "text": [
      "Warning message in file.create(missing_file):\n",
      "“cannot create file '../tea/2/add_OGs_sets/N0.HOG0000735/add_OGs_set_num-3.txt', reason 'No such file or directory'”\n"
     ]
    },
    {
     "name": "stdout",
     "output_type": "stream",
     "text": [
      "[1] 2\n",
      "[1] \"../tea/2/add_OGs_sets/N0.HOG0000735/add_OGs_set_num-2.txt\"\n"
     ]
    },
    {
     "name": "stderr",
     "output_type": "stream",
     "text": [
      "Warning message in file.create(missing_file):\n",
      "“cannot create file '../tea/2/add_OGs_sets/N0.HOG0000735/add_OGs_set_num-2.txt', reason 'No such file or directory'”\n"
     ]
    },
    {
     "name": "stdout",
     "output_type": "stream",
     "text": [
      "[1] 1\n",
      "[1] \"../tea/2/add_OGs_sets/N0.HOG0000735/add_OGs_set_num-1.txt\"\n"
     ]
    },
    {
     "name": "stderr",
     "output_type": "stream",
     "text": [
      "Warning message in file.create(missing_file):\n",
      "“cannot create file '../tea/2/add_OGs_sets/N0.HOG0000735/add_OGs_set_num-1.txt', reason 'No such file or directory'”\n"
     ]
    },
    {
     "name": "stdout",
     "output_type": "stream",
     "text": [
      "[1] \"N0.HOG0000736\"\n",
      "character(0)\n",
      "[1] 4\n",
      "[1] 4\n",
      "[1] \"../tea/2/add_OGs_sets/N0.HOG0000736/add_OGs_set_num-4.txt\"\n"
     ]
    },
    {
     "name": "stderr",
     "output_type": "stream",
     "text": [
      "Warning message in file.create(missing_file):\n",
      "“cannot create file '../tea/2/add_OGs_sets/N0.HOG0000736/add_OGs_set_num-4.txt', reason 'No such file or directory'”\n"
     ]
    },
    {
     "name": "stdout",
     "output_type": "stream",
     "text": [
      "[1] 3\n",
      "[1] \"../tea/2/add_OGs_sets/N0.HOG0000736/add_OGs_set_num-3.txt\"\n"
     ]
    },
    {
     "name": "stderr",
     "output_type": "stream",
     "text": [
      "Warning message in file.create(missing_file):\n",
      "“cannot create file '../tea/2/add_OGs_sets/N0.HOG0000736/add_OGs_set_num-3.txt', reason 'No such file or directory'”\n"
     ]
    },
    {
     "name": "stdout",
     "output_type": "stream",
     "text": [
      "[1] 2\n",
      "[1] \"../tea/2/add_OGs_sets/N0.HOG0000736/add_OGs_set_num-2.txt\"\n"
     ]
    },
    {
     "name": "stderr",
     "output_type": "stream",
     "text": [
      "Warning message in file.create(missing_file):\n",
      "“cannot create file '../tea/2/add_OGs_sets/N0.HOG0000736/add_OGs_set_num-2.txt', reason 'No such file or directory'”\n"
     ]
    },
    {
     "name": "stdout",
     "output_type": "stream",
     "text": [
      "[1] 1\n",
      "[1] \"../tea/2/add_OGs_sets/N0.HOG0000736/add_OGs_set_num-1.txt\"\n"
     ]
    },
    {
     "name": "stderr",
     "output_type": "stream",
     "text": [
      "Warning message in file.create(missing_file):\n",
      "“cannot create file '../tea/2/add_OGs_sets/N0.HOG0000736/add_OGs_set_num-1.txt', reason 'No such file or directory'”\n"
     ]
    },
    {
     "name": "stdout",
     "output_type": "stream",
     "text": [
      "[1] \"N0.HOG0000805\"\n",
      "character(0)\n",
      "[1] 4\n",
      "[1] 4\n",
      "[1] \"../tea/2/add_OGs_sets/N0.HOG0000805/add_OGs_set_num-4.txt\"\n"
     ]
    },
    {
     "name": "stderr",
     "output_type": "stream",
     "text": [
      "Warning message in file.create(missing_file):\n",
      "“cannot create file '../tea/2/add_OGs_sets/N0.HOG0000805/add_OGs_set_num-4.txt', reason 'No such file or directory'”\n"
     ]
    },
    {
     "name": "stdout",
     "output_type": "stream",
     "text": [
      "[1] 3\n",
      "[1] \"../tea/2/add_OGs_sets/N0.HOG0000805/add_OGs_set_num-3.txt\"\n"
     ]
    },
    {
     "name": "stderr",
     "output_type": "stream",
     "text": [
      "Warning message in file.create(missing_file):\n",
      "“cannot create file '../tea/2/add_OGs_sets/N0.HOG0000805/add_OGs_set_num-3.txt', reason 'No such file or directory'”\n"
     ]
    },
    {
     "name": "stdout",
     "output_type": "stream",
     "text": [
      "[1] 2\n",
      "[1] \"../tea/2/add_OGs_sets/N0.HOG0000805/add_OGs_set_num-2.txt\"\n"
     ]
    },
    {
     "name": "stderr",
     "output_type": "stream",
     "text": [
      "Warning message in file.create(missing_file):\n",
      "“cannot create file '../tea/2/add_OGs_sets/N0.HOG0000805/add_OGs_set_num-2.txt', reason 'No such file or directory'”\n"
     ]
    },
    {
     "name": "stdout",
     "output_type": "stream",
     "text": [
      "[1] 1\n",
      "[1] \"../tea/2/add_OGs_sets/N0.HOG0000805/add_OGs_set_num-1.txt\"\n"
     ]
    },
    {
     "name": "stderr",
     "output_type": "stream",
     "text": [
      "Warning message in file.create(missing_file):\n",
      "“cannot create file '../tea/2/add_OGs_sets/N0.HOG0000805/add_OGs_set_num-1.txt', reason 'No such file or directory'”\n"
     ]
    },
    {
     "name": "stdout",
     "output_type": "stream",
     "text": [
      "[1] \"N0.HOG0000821\"\n",
      "character(0)\n",
      "[1] 4\n",
      "[1] 4\n",
      "[1] \"../tea/2/add_OGs_sets/N0.HOG0000821/add_OGs_set_num-4.txt\"\n"
     ]
    },
    {
     "name": "stderr",
     "output_type": "stream",
     "text": [
      "Warning message in file.create(missing_file):\n",
      "“cannot create file '../tea/2/add_OGs_sets/N0.HOG0000821/add_OGs_set_num-4.txt', reason 'No such file or directory'”\n"
     ]
    },
    {
     "name": "stdout",
     "output_type": "stream",
     "text": [
      "[1] 3\n",
      "[1] \"../tea/2/add_OGs_sets/N0.HOG0000821/add_OGs_set_num-3.txt\"\n"
     ]
    },
    {
     "name": "stderr",
     "output_type": "stream",
     "text": [
      "Warning message in file.create(missing_file):\n",
      "“cannot create file '../tea/2/add_OGs_sets/N0.HOG0000821/add_OGs_set_num-3.txt', reason 'No such file or directory'”\n"
     ]
    },
    {
     "name": "stdout",
     "output_type": "stream",
     "text": [
      "[1] 2\n",
      "[1] \"../tea/2/add_OGs_sets/N0.HOG0000821/add_OGs_set_num-2.txt\"\n"
     ]
    },
    {
     "name": "stderr",
     "output_type": "stream",
     "text": [
      "Warning message in file.create(missing_file):\n",
      "“cannot create file '../tea/2/add_OGs_sets/N0.HOG0000821/add_OGs_set_num-2.txt', reason 'No such file or directory'”\n"
     ]
    },
    {
     "name": "stdout",
     "output_type": "stream",
     "text": [
      "[1] 1\n",
      "[1] \"../tea/2/add_OGs_sets/N0.HOG0000821/add_OGs_set_num-1.txt\"\n"
     ]
    },
    {
     "name": "stderr",
     "output_type": "stream",
     "text": [
      "Warning message in file.create(missing_file):\n",
      "“cannot create file '../tea/2/add_OGs_sets/N0.HOG0000821/add_OGs_set_num-1.txt', reason 'No such file or directory'”\n"
     ]
    },
    {
     "name": "stdout",
     "output_type": "stream",
     "text": [
      "[1] \"N0.HOG0000823\"\n",
      "character(0)\n",
      "[1] 4\n",
      "[1] 4\n",
      "[1] \"../tea/2/add_OGs_sets/N0.HOG0000823/add_OGs_set_num-4.txt\"\n"
     ]
    },
    {
     "name": "stderr",
     "output_type": "stream",
     "text": [
      "Warning message in file.create(missing_file):\n",
      "“cannot create file '../tea/2/add_OGs_sets/N0.HOG0000823/add_OGs_set_num-4.txt', reason 'No such file or directory'”\n"
     ]
    },
    {
     "name": "stdout",
     "output_type": "stream",
     "text": [
      "[1] 3\n",
      "[1] \"../tea/2/add_OGs_sets/N0.HOG0000823/add_OGs_set_num-3.txt\"\n"
     ]
    },
    {
     "name": "stderr",
     "output_type": "stream",
     "text": [
      "Warning message in file.create(missing_file):\n",
      "“cannot create file '../tea/2/add_OGs_sets/N0.HOG0000823/add_OGs_set_num-3.txt', reason 'No such file or directory'”\n"
     ]
    },
    {
     "name": "stdout",
     "output_type": "stream",
     "text": [
      "[1] 2\n",
      "[1] \"../tea/2/add_OGs_sets/N0.HOG0000823/add_OGs_set_num-2.txt\"\n"
     ]
    },
    {
     "name": "stderr",
     "output_type": "stream",
     "text": [
      "Warning message in file.create(missing_file):\n",
      "“cannot create file '../tea/2/add_OGs_sets/N0.HOG0000823/add_OGs_set_num-2.txt', reason 'No such file or directory'”\n"
     ]
    },
    {
     "name": "stdout",
     "output_type": "stream",
     "text": [
      "[1] 1\n",
      "[1] \"../tea/2/add_OGs_sets/N0.HOG0000823/add_OGs_set_num-1.txt\"\n"
     ]
    },
    {
     "name": "stderr",
     "output_type": "stream",
     "text": [
      "Warning message in file.create(missing_file):\n",
      "“cannot create file '../tea/2/add_OGs_sets/N0.HOG0000823/add_OGs_set_num-1.txt', reason 'No such file or directory'”\n"
     ]
    },
    {
     "name": "stdout",
     "output_type": "stream",
     "text": [
      "[1] \"N0.HOG0000828\"\n",
      "character(0)\n",
      "[1] 4\n",
      "[1] 4\n",
      "[1] \"../tea/2/add_OGs_sets/N0.HOG0000828/add_OGs_set_num-4.txt\"\n"
     ]
    },
    {
     "name": "stderr",
     "output_type": "stream",
     "text": [
      "Warning message in file.create(missing_file):\n",
      "“cannot create file '../tea/2/add_OGs_sets/N0.HOG0000828/add_OGs_set_num-4.txt', reason 'No such file or directory'”\n"
     ]
    },
    {
     "name": "stdout",
     "output_type": "stream",
     "text": [
      "[1] 3\n",
      "[1] \"../tea/2/add_OGs_sets/N0.HOG0000828/add_OGs_set_num-3.txt\"\n"
     ]
    },
    {
     "name": "stderr",
     "output_type": "stream",
     "text": [
      "Warning message in file.create(missing_file):\n",
      "“cannot create file '../tea/2/add_OGs_sets/N0.HOG0000828/add_OGs_set_num-3.txt', reason 'No such file or directory'”\n"
     ]
    },
    {
     "name": "stdout",
     "output_type": "stream",
     "text": [
      "[1] 2\n",
      "[1] \"../tea/2/add_OGs_sets/N0.HOG0000828/add_OGs_set_num-2.txt\"\n"
     ]
    },
    {
     "name": "stderr",
     "output_type": "stream",
     "text": [
      "Warning message in file.create(missing_file):\n",
      "“cannot create file '../tea/2/add_OGs_sets/N0.HOG0000828/add_OGs_set_num-2.txt', reason 'No such file or directory'”\n"
     ]
    },
    {
     "name": "stdout",
     "output_type": "stream",
     "text": [
      "[1] 1\n",
      "[1] \"../tea/2/add_OGs_sets/N0.HOG0000828/add_OGs_set_num-1.txt\"\n"
     ]
    },
    {
     "name": "stderr",
     "output_type": "stream",
     "text": [
      "Warning message in file.create(missing_file):\n",
      "“cannot create file '../tea/2/add_OGs_sets/N0.HOG0000828/add_OGs_set_num-1.txt', reason 'No such file or directory'”\n"
     ]
    },
    {
     "name": "stdout",
     "output_type": "stream",
     "text": [
      "[1] \"N0.HOG0000830\"\n",
      "character(0)\n",
      "[1] 4\n",
      "[1] 4\n",
      "[1] \"../tea/2/add_OGs_sets/N0.HOG0000830/add_OGs_set_num-4.txt\"\n"
     ]
    },
    {
     "name": "stderr",
     "output_type": "stream",
     "text": [
      "Warning message in file.create(missing_file):\n",
      "“cannot create file '../tea/2/add_OGs_sets/N0.HOG0000830/add_OGs_set_num-4.txt', reason 'No such file or directory'”\n"
     ]
    },
    {
     "name": "stdout",
     "output_type": "stream",
     "text": [
      "[1] 3\n",
      "[1] \"../tea/2/add_OGs_sets/N0.HOG0000830/add_OGs_set_num-3.txt\"\n"
     ]
    },
    {
     "name": "stderr",
     "output_type": "stream",
     "text": [
      "Warning message in file.create(missing_file):\n",
      "“cannot create file '../tea/2/add_OGs_sets/N0.HOG0000830/add_OGs_set_num-3.txt', reason 'No such file or directory'”\n"
     ]
    },
    {
     "name": "stdout",
     "output_type": "stream",
     "text": [
      "[1] 2\n",
      "[1] \"../tea/2/add_OGs_sets/N0.HOG0000830/add_OGs_set_num-2.txt\"\n"
     ]
    },
    {
     "name": "stderr",
     "output_type": "stream",
     "text": [
      "Warning message in file.create(missing_file):\n",
      "“cannot create file '../tea/2/add_OGs_sets/N0.HOG0000830/add_OGs_set_num-2.txt', reason 'No such file or directory'”\n"
     ]
    },
    {
     "name": "stdout",
     "output_type": "stream",
     "text": [
      "[1] 1\n",
      "[1] \"../tea/2/add_OGs_sets/N0.HOG0000830/add_OGs_set_num-1.txt\"\n"
     ]
    },
    {
     "name": "stderr",
     "output_type": "stream",
     "text": [
      "Warning message in file.create(missing_file):\n",
      "“cannot create file '../tea/2/add_OGs_sets/N0.HOG0000830/add_OGs_set_num-1.txt', reason 'No such file or directory'”\n"
     ]
    },
    {
     "name": "stdout",
     "output_type": "stream",
     "text": [
      "[1] \"N0.HOG0000903\"\n",
      "character(0)\n",
      "[1] 4\n",
      "[1] 4\n",
      "[1] \"../tea/2/add_OGs_sets/N0.HOG0000903/add_OGs_set_num-4.txt\"\n"
     ]
    },
    {
     "name": "stderr",
     "output_type": "stream",
     "text": [
      "Warning message in file.create(missing_file):\n",
      "“cannot create file '../tea/2/add_OGs_sets/N0.HOG0000903/add_OGs_set_num-4.txt', reason 'No such file or directory'”\n"
     ]
    },
    {
     "name": "stdout",
     "output_type": "stream",
     "text": [
      "[1] 3\n",
      "[1] \"../tea/2/add_OGs_sets/N0.HOG0000903/add_OGs_set_num-3.txt\"\n"
     ]
    },
    {
     "name": "stderr",
     "output_type": "stream",
     "text": [
      "Warning message in file.create(missing_file):\n",
      "“cannot create file '../tea/2/add_OGs_sets/N0.HOG0000903/add_OGs_set_num-3.txt', reason 'No such file or directory'”\n"
     ]
    },
    {
     "name": "stdout",
     "output_type": "stream",
     "text": [
      "[1] 2\n",
      "[1] \"../tea/2/add_OGs_sets/N0.HOG0000903/add_OGs_set_num-2.txt\"\n"
     ]
    },
    {
     "name": "stderr",
     "output_type": "stream",
     "text": [
      "Warning message in file.create(missing_file):\n",
      "“cannot create file '../tea/2/add_OGs_sets/N0.HOG0000903/add_OGs_set_num-2.txt', reason 'No such file or directory'”\n"
     ]
    },
    {
     "name": "stdout",
     "output_type": "stream",
     "text": [
      "[1] 1\n",
      "[1] \"../tea/2/add_OGs_sets/N0.HOG0000903/add_OGs_set_num-1.txt\"\n"
     ]
    },
    {
     "name": "stderr",
     "output_type": "stream",
     "text": [
      "Warning message in file.create(missing_file):\n",
      "“cannot create file '../tea/2/add_OGs_sets/N0.HOG0000903/add_OGs_set_num-1.txt', reason 'No such file or directory'”\n"
     ]
    },
    {
     "name": "stdout",
     "output_type": "stream",
     "text": [
      "[1] \"N0.HOG0000906\"\n",
      "character(0)\n",
      "[1] 4\n",
      "[1] 4\n",
      "[1] \"../tea/2/add_OGs_sets/N0.HOG0000906/add_OGs_set_num-4.txt\"\n"
     ]
    },
    {
     "name": "stderr",
     "output_type": "stream",
     "text": [
      "Warning message in file.create(missing_file):\n",
      "“cannot create file '../tea/2/add_OGs_sets/N0.HOG0000906/add_OGs_set_num-4.txt', reason 'No such file or directory'”\n"
     ]
    },
    {
     "name": "stdout",
     "output_type": "stream",
     "text": [
      "[1] 3\n",
      "[1] \"../tea/2/add_OGs_sets/N0.HOG0000906/add_OGs_set_num-3.txt\"\n"
     ]
    },
    {
     "name": "stderr",
     "output_type": "stream",
     "text": [
      "Warning message in file.create(missing_file):\n",
      "“cannot create file '../tea/2/add_OGs_sets/N0.HOG0000906/add_OGs_set_num-3.txt', reason 'No such file or directory'”\n"
     ]
    },
    {
     "name": "stdout",
     "output_type": "stream",
     "text": [
      "[1] 2\n",
      "[1] \"../tea/2/add_OGs_sets/N0.HOG0000906/add_OGs_set_num-2.txt\"\n"
     ]
    },
    {
     "name": "stderr",
     "output_type": "stream",
     "text": [
      "Warning message in file.create(missing_file):\n",
      "“cannot create file '../tea/2/add_OGs_sets/N0.HOG0000906/add_OGs_set_num-2.txt', reason 'No such file or directory'”\n"
     ]
    },
    {
     "name": "stdout",
     "output_type": "stream",
     "text": [
      "[1] 1\n",
      "[1] \"../tea/2/add_OGs_sets/N0.HOG0000906/add_OGs_set_num-1.txt\"\n"
     ]
    },
    {
     "name": "stderr",
     "output_type": "stream",
     "text": [
      "Warning message in file.create(missing_file):\n",
      "“cannot create file '../tea/2/add_OGs_sets/N0.HOG0000906/add_OGs_set_num-1.txt', reason 'No such file or directory'”\n"
     ]
    },
    {
     "name": "stdout",
     "output_type": "stream",
     "text": [
      "[1] \"N0.HOG0000907\"\n",
      "character(0)\n",
      "[1] 4\n",
      "[1] 4\n",
      "[1] \"../tea/2/add_OGs_sets/N0.HOG0000907/add_OGs_set_num-4.txt\"\n"
     ]
    },
    {
     "name": "stderr",
     "output_type": "stream",
     "text": [
      "Warning message in file.create(missing_file):\n",
      "“cannot create file '../tea/2/add_OGs_sets/N0.HOG0000907/add_OGs_set_num-4.txt', reason 'No such file or directory'”\n"
     ]
    },
    {
     "name": "stdout",
     "output_type": "stream",
     "text": [
      "[1] 3\n",
      "[1] \"../tea/2/add_OGs_sets/N0.HOG0000907/add_OGs_set_num-3.txt\"\n"
     ]
    },
    {
     "name": "stderr",
     "output_type": "stream",
     "text": [
      "Warning message in file.create(missing_file):\n",
      "“cannot create file '../tea/2/add_OGs_sets/N0.HOG0000907/add_OGs_set_num-3.txt', reason 'No such file or directory'”\n"
     ]
    },
    {
     "name": "stdout",
     "output_type": "stream",
     "text": [
      "[1] 2\n",
      "[1] \"../tea/2/add_OGs_sets/N0.HOG0000907/add_OGs_set_num-2.txt\"\n"
     ]
    },
    {
     "name": "stderr",
     "output_type": "stream",
     "text": [
      "Warning message in file.create(missing_file):\n",
      "“cannot create file '../tea/2/add_OGs_sets/N0.HOG0000907/add_OGs_set_num-2.txt', reason 'No such file or directory'”\n"
     ]
    },
    {
     "name": "stdout",
     "output_type": "stream",
     "text": [
      "[1] 1\n",
      "[1] \"../tea/2/add_OGs_sets/N0.HOG0000907/add_OGs_set_num-1.txt\"\n"
     ]
    },
    {
     "name": "stderr",
     "output_type": "stream",
     "text": [
      "Warning message in file.create(missing_file):\n",
      "“cannot create file '../tea/2/add_OGs_sets/N0.HOG0000907/add_OGs_set_num-1.txt', reason 'No such file or directory'”\n"
     ]
    },
    {
     "name": "stdout",
     "output_type": "stream",
     "text": [
      "[1] \"N0.HOG0000911\"\n",
      "character(0)\n",
      "[1] 4\n",
      "[1] 4\n",
      "[1] \"../tea/2/add_OGs_sets/N0.HOG0000911/add_OGs_set_num-4.txt\"\n"
     ]
    },
    {
     "name": "stderr",
     "output_type": "stream",
     "text": [
      "Warning message in file.create(missing_file):\n",
      "“cannot create file '../tea/2/add_OGs_sets/N0.HOG0000911/add_OGs_set_num-4.txt', reason 'No such file or directory'”\n"
     ]
    },
    {
     "name": "stdout",
     "output_type": "stream",
     "text": [
      "[1] 3\n",
      "[1] \"../tea/2/add_OGs_sets/N0.HOG0000911/add_OGs_set_num-3.txt\"\n"
     ]
    },
    {
     "name": "stderr",
     "output_type": "stream",
     "text": [
      "Warning message in file.create(missing_file):\n",
      "“cannot create file '../tea/2/add_OGs_sets/N0.HOG0000911/add_OGs_set_num-3.txt', reason 'No such file or directory'”\n"
     ]
    },
    {
     "name": "stdout",
     "output_type": "stream",
     "text": [
      "[1] 2\n",
      "[1] \"../tea/2/add_OGs_sets/N0.HOG0000911/add_OGs_set_num-2.txt\"\n"
     ]
    },
    {
     "name": "stderr",
     "output_type": "stream",
     "text": [
      "Warning message in file.create(missing_file):\n",
      "“cannot create file '../tea/2/add_OGs_sets/N0.HOG0000911/add_OGs_set_num-2.txt', reason 'No such file or directory'”\n"
     ]
    },
    {
     "name": "stdout",
     "output_type": "stream",
     "text": [
      "[1] 1\n",
      "[1] \"../tea/2/add_OGs_sets/N0.HOG0000911/add_OGs_set_num-1.txt\"\n"
     ]
    },
    {
     "name": "stderr",
     "output_type": "stream",
     "text": [
      "Warning message in file.create(missing_file):\n",
      "“cannot create file '../tea/2/add_OGs_sets/N0.HOG0000911/add_OGs_set_num-1.txt', reason 'No such file or directory'”\n"
     ]
    },
    {
     "name": "stdout",
     "output_type": "stream",
     "text": [
      "[1] \"N0.HOG0000919\"\n",
      "character(0)\n",
      "[1] 4\n",
      "[1] 4\n",
      "[1] \"../tea/2/add_OGs_sets/N0.HOG0000919/add_OGs_set_num-4.txt\"\n"
     ]
    },
    {
     "name": "stderr",
     "output_type": "stream",
     "text": [
      "Warning message in file.create(missing_file):\n",
      "“cannot create file '../tea/2/add_OGs_sets/N0.HOG0000919/add_OGs_set_num-4.txt', reason 'No such file or directory'”\n"
     ]
    },
    {
     "name": "stdout",
     "output_type": "stream",
     "text": [
      "[1] 3\n",
      "[1] \"../tea/2/add_OGs_sets/N0.HOG0000919/add_OGs_set_num-3.txt\"\n"
     ]
    },
    {
     "name": "stderr",
     "output_type": "stream",
     "text": [
      "Warning message in file.create(missing_file):\n",
      "“cannot create file '../tea/2/add_OGs_sets/N0.HOG0000919/add_OGs_set_num-3.txt', reason 'No such file or directory'”\n"
     ]
    },
    {
     "name": "stdout",
     "output_type": "stream",
     "text": [
      "[1] 2\n",
      "[1] \"../tea/2/add_OGs_sets/N0.HOG0000919/add_OGs_set_num-2.txt\"\n"
     ]
    },
    {
     "name": "stderr",
     "output_type": "stream",
     "text": [
      "Warning message in file.create(missing_file):\n",
      "“cannot create file '../tea/2/add_OGs_sets/N0.HOG0000919/add_OGs_set_num-2.txt', reason 'No such file or directory'”\n"
     ]
    },
    {
     "name": "stdout",
     "output_type": "stream",
     "text": [
      "[1] 1\n",
      "[1] \"../tea/2/add_OGs_sets/N0.HOG0000919/add_OGs_set_num-1.txt\"\n"
     ]
    },
    {
     "name": "stderr",
     "output_type": "stream",
     "text": [
      "Warning message in file.create(missing_file):\n",
      "“cannot create file '../tea/2/add_OGs_sets/N0.HOG0000919/add_OGs_set_num-1.txt', reason 'No such file or directory'”\n"
     ]
    },
    {
     "name": "stdout",
     "output_type": "stream",
     "text": [
      "[1] \"N0.HOG0000921\"\n",
      "character(0)\n",
      "[1] 4\n",
      "[1] 4\n",
      "[1] \"../tea/2/add_OGs_sets/N0.HOG0000921/add_OGs_set_num-4.txt\"\n"
     ]
    },
    {
     "name": "stderr",
     "output_type": "stream",
     "text": [
      "Warning message in file.create(missing_file):\n",
      "“cannot create file '../tea/2/add_OGs_sets/N0.HOG0000921/add_OGs_set_num-4.txt', reason 'No such file or directory'”\n"
     ]
    },
    {
     "name": "stdout",
     "output_type": "stream",
     "text": [
      "[1] 3\n",
      "[1] \"../tea/2/add_OGs_sets/N0.HOG0000921/add_OGs_set_num-3.txt\"\n"
     ]
    },
    {
     "name": "stderr",
     "output_type": "stream",
     "text": [
      "Warning message in file.create(missing_file):\n",
      "“cannot create file '../tea/2/add_OGs_sets/N0.HOG0000921/add_OGs_set_num-3.txt', reason 'No such file or directory'”\n"
     ]
    },
    {
     "name": "stdout",
     "output_type": "stream",
     "text": [
      "[1] 2\n",
      "[1] \"../tea/2/add_OGs_sets/N0.HOG0000921/add_OGs_set_num-2.txt\"\n"
     ]
    },
    {
     "name": "stderr",
     "output_type": "stream",
     "text": [
      "Warning message in file.create(missing_file):\n",
      "“cannot create file '../tea/2/add_OGs_sets/N0.HOG0000921/add_OGs_set_num-2.txt', reason 'No such file or directory'”\n"
     ]
    },
    {
     "name": "stdout",
     "output_type": "stream",
     "text": [
      "[1] 1\n",
      "[1] \"../tea/2/add_OGs_sets/N0.HOG0000921/add_OGs_set_num-1.txt\"\n"
     ]
    },
    {
     "name": "stderr",
     "output_type": "stream",
     "text": [
      "Warning message in file.create(missing_file):\n",
      "“cannot create file '../tea/2/add_OGs_sets/N0.HOG0000921/add_OGs_set_num-1.txt', reason 'No such file or directory'”\n"
     ]
    },
    {
     "name": "stdout",
     "output_type": "stream",
     "text": [
      "[1] \"N0.HOG0000925\"\n",
      "character(0)\n",
      "[1] 4\n",
      "[1] 4\n",
      "[1] \"../tea/2/add_OGs_sets/N0.HOG0000925/add_OGs_set_num-4.txt\"\n"
     ]
    },
    {
     "name": "stderr",
     "output_type": "stream",
     "text": [
      "Warning message in file.create(missing_file):\n",
      "“cannot create file '../tea/2/add_OGs_sets/N0.HOG0000925/add_OGs_set_num-4.txt', reason 'No such file or directory'”\n"
     ]
    },
    {
     "name": "stdout",
     "output_type": "stream",
     "text": [
      "[1] 3\n",
      "[1] \"../tea/2/add_OGs_sets/N0.HOG0000925/add_OGs_set_num-3.txt\"\n"
     ]
    },
    {
     "name": "stderr",
     "output_type": "stream",
     "text": [
      "Warning message in file.create(missing_file):\n",
      "“cannot create file '../tea/2/add_OGs_sets/N0.HOG0000925/add_OGs_set_num-3.txt', reason 'No such file or directory'”\n"
     ]
    },
    {
     "name": "stdout",
     "output_type": "stream",
     "text": [
      "[1] 2\n",
      "[1] \"../tea/2/add_OGs_sets/N0.HOG0000925/add_OGs_set_num-2.txt\"\n"
     ]
    },
    {
     "name": "stderr",
     "output_type": "stream",
     "text": [
      "Warning message in file.create(missing_file):\n",
      "“cannot create file '../tea/2/add_OGs_sets/N0.HOG0000925/add_OGs_set_num-2.txt', reason 'No such file or directory'”\n"
     ]
    },
    {
     "name": "stdout",
     "output_type": "stream",
     "text": [
      "[1] 1\n",
      "[1] \"../tea/2/add_OGs_sets/N0.HOG0000925/add_OGs_set_num-1.txt\"\n"
     ]
    },
    {
     "name": "stderr",
     "output_type": "stream",
     "text": [
      "Warning message in file.create(missing_file):\n",
      "“cannot create file '../tea/2/add_OGs_sets/N0.HOG0000925/add_OGs_set_num-1.txt', reason 'No such file or directory'”\n"
     ]
    },
    {
     "name": "stdout",
     "output_type": "stream",
     "text": [
      "[1] \"N0.HOG0000928\"\n",
      "character(0)\n",
      "[1] 4\n",
      "[1] 4\n",
      "[1] \"../tea/2/add_OGs_sets/N0.HOG0000928/add_OGs_set_num-4.txt\"\n"
     ]
    },
    {
     "name": "stderr",
     "output_type": "stream",
     "text": [
      "Warning message in file.create(missing_file):\n",
      "“cannot create file '../tea/2/add_OGs_sets/N0.HOG0000928/add_OGs_set_num-4.txt', reason 'No such file or directory'”\n"
     ]
    },
    {
     "name": "stdout",
     "output_type": "stream",
     "text": [
      "[1] 3\n",
      "[1] \"../tea/2/add_OGs_sets/N0.HOG0000928/add_OGs_set_num-3.txt\"\n"
     ]
    },
    {
     "name": "stderr",
     "output_type": "stream",
     "text": [
      "Warning message in file.create(missing_file):\n",
      "“cannot create file '../tea/2/add_OGs_sets/N0.HOG0000928/add_OGs_set_num-3.txt', reason 'No such file or directory'”\n"
     ]
    },
    {
     "name": "stdout",
     "output_type": "stream",
     "text": [
      "[1] 2\n",
      "[1] \"../tea/2/add_OGs_sets/N0.HOG0000928/add_OGs_set_num-2.txt\"\n"
     ]
    },
    {
     "name": "stderr",
     "output_type": "stream",
     "text": [
      "Warning message in file.create(missing_file):\n",
      "“cannot create file '../tea/2/add_OGs_sets/N0.HOG0000928/add_OGs_set_num-2.txt', reason 'No such file or directory'”\n"
     ]
    },
    {
     "name": "stdout",
     "output_type": "stream",
     "text": [
      "[1] 1\n",
      "[1] \"../tea/2/add_OGs_sets/N0.HOG0000928/add_OGs_set_num-1.txt\"\n"
     ]
    },
    {
     "name": "stderr",
     "output_type": "stream",
     "text": [
      "Warning message in file.create(missing_file):\n",
      "“cannot create file '../tea/2/add_OGs_sets/N0.HOG0000928/add_OGs_set_num-1.txt', reason 'No such file or directory'”\n"
     ]
    },
    {
     "name": "stdout",
     "output_type": "stream",
     "text": [
      "[1] \"N0.HOG0000929\"\n",
      "character(0)\n",
      "[1] 4\n",
      "[1] 4\n",
      "[1] \"../tea/2/add_OGs_sets/N0.HOG0000929/add_OGs_set_num-4.txt\"\n"
     ]
    },
    {
     "name": "stderr",
     "output_type": "stream",
     "text": [
      "Warning message in file.create(missing_file):\n",
      "“cannot create file '../tea/2/add_OGs_sets/N0.HOG0000929/add_OGs_set_num-4.txt', reason 'No such file or directory'”\n"
     ]
    },
    {
     "name": "stdout",
     "output_type": "stream",
     "text": [
      "[1] 3\n",
      "[1] \"../tea/2/add_OGs_sets/N0.HOG0000929/add_OGs_set_num-3.txt\"\n"
     ]
    },
    {
     "name": "stderr",
     "output_type": "stream",
     "text": [
      "Warning message in file.create(missing_file):\n",
      "“cannot create file '../tea/2/add_OGs_sets/N0.HOG0000929/add_OGs_set_num-3.txt', reason 'No such file or directory'”\n"
     ]
    },
    {
     "name": "stdout",
     "output_type": "stream",
     "text": [
      "[1] 2\n",
      "[1] \"../tea/2/add_OGs_sets/N0.HOG0000929/add_OGs_set_num-2.txt\"\n"
     ]
    },
    {
     "name": "stderr",
     "output_type": "stream",
     "text": [
      "Warning message in file.create(missing_file):\n",
      "“cannot create file '../tea/2/add_OGs_sets/N0.HOG0000929/add_OGs_set_num-2.txt', reason 'No such file or directory'”\n"
     ]
    },
    {
     "name": "stdout",
     "output_type": "stream",
     "text": [
      "[1] 1\n",
      "[1] \"../tea/2/add_OGs_sets/N0.HOG0000929/add_OGs_set_num-1.txt\"\n"
     ]
    },
    {
     "name": "stderr",
     "output_type": "stream",
     "text": [
      "Warning message in file.create(missing_file):\n",
      "“cannot create file '../tea/2/add_OGs_sets/N0.HOG0000929/add_OGs_set_num-1.txt', reason 'No such file or directory'”\n"
     ]
    },
    {
     "name": "stdout",
     "output_type": "stream",
     "text": [
      "[1] \"N0.HOG0000930\"\n",
      "character(0)\n",
      "[1] 4\n",
      "[1] 4\n",
      "[1] \"../tea/2/add_OGs_sets/N0.HOG0000930/add_OGs_set_num-4.txt\"\n"
     ]
    },
    {
     "name": "stderr",
     "output_type": "stream",
     "text": [
      "Warning message in file.create(missing_file):\n",
      "“cannot create file '../tea/2/add_OGs_sets/N0.HOG0000930/add_OGs_set_num-4.txt', reason 'No such file or directory'”\n"
     ]
    },
    {
     "name": "stdout",
     "output_type": "stream",
     "text": [
      "[1] 3\n",
      "[1] \"../tea/2/add_OGs_sets/N0.HOG0000930/add_OGs_set_num-3.txt\"\n"
     ]
    },
    {
     "name": "stderr",
     "output_type": "stream",
     "text": [
      "Warning message in file.create(missing_file):\n",
      "“cannot create file '../tea/2/add_OGs_sets/N0.HOG0000930/add_OGs_set_num-3.txt', reason 'No such file or directory'”\n"
     ]
    },
    {
     "name": "stdout",
     "output_type": "stream",
     "text": [
      "[1] 2\n",
      "[1] \"../tea/2/add_OGs_sets/N0.HOG0000930/add_OGs_set_num-2.txt\"\n"
     ]
    },
    {
     "name": "stderr",
     "output_type": "stream",
     "text": [
      "Warning message in file.create(missing_file):\n",
      "“cannot create file '../tea/2/add_OGs_sets/N0.HOG0000930/add_OGs_set_num-2.txt', reason 'No such file or directory'”\n"
     ]
    },
    {
     "name": "stdout",
     "output_type": "stream",
     "text": [
      "[1] 1\n",
      "[1] \"../tea/2/add_OGs_sets/N0.HOG0000930/add_OGs_set_num-1.txt\"\n"
     ]
    },
    {
     "name": "stderr",
     "output_type": "stream",
     "text": [
      "Warning message in file.create(missing_file):\n",
      "“cannot create file '../tea/2/add_OGs_sets/N0.HOG0000930/add_OGs_set_num-1.txt', reason 'No such file or directory'”\n"
     ]
    },
    {
     "name": "stdout",
     "output_type": "stream",
     "text": [
      "[1] \"N0.HOG0001005\"\n",
      "character(0)\n",
      "[1] 4\n",
      "[1] 4\n",
      "[1] \"../tea/2/add_OGs_sets/N0.HOG0001005/add_OGs_set_num-4.txt\"\n"
     ]
    },
    {
     "name": "stderr",
     "output_type": "stream",
     "text": [
      "Warning message in file.create(missing_file):\n",
      "“cannot create file '../tea/2/add_OGs_sets/N0.HOG0001005/add_OGs_set_num-4.txt', reason 'No such file or directory'”\n"
     ]
    },
    {
     "name": "stdout",
     "output_type": "stream",
     "text": [
      "[1] 3\n",
      "[1] \"../tea/2/add_OGs_sets/N0.HOG0001005/add_OGs_set_num-3.txt\"\n"
     ]
    },
    {
     "name": "stderr",
     "output_type": "stream",
     "text": [
      "Warning message in file.create(missing_file):\n",
      "“cannot create file '../tea/2/add_OGs_sets/N0.HOG0001005/add_OGs_set_num-3.txt', reason 'No such file or directory'”\n"
     ]
    },
    {
     "name": "stdout",
     "output_type": "stream",
     "text": [
      "[1] 2\n",
      "[1] \"../tea/2/add_OGs_sets/N0.HOG0001005/add_OGs_set_num-2.txt\"\n"
     ]
    },
    {
     "name": "stderr",
     "output_type": "stream",
     "text": [
      "Warning message in file.create(missing_file):\n",
      "“cannot create file '../tea/2/add_OGs_sets/N0.HOG0001005/add_OGs_set_num-2.txt', reason 'No such file or directory'”\n"
     ]
    },
    {
     "name": "stdout",
     "output_type": "stream",
     "text": [
      "[1] 1\n",
      "[1] \"../tea/2/add_OGs_sets/N0.HOG0001005/add_OGs_set_num-1.txt\"\n"
     ]
    },
    {
     "name": "stderr",
     "output_type": "stream",
     "text": [
      "Warning message in file.create(missing_file):\n",
      "“cannot create file '../tea/2/add_OGs_sets/N0.HOG0001005/add_OGs_set_num-1.txt', reason 'No such file or directory'”\n"
     ]
    },
    {
     "name": "stdout",
     "output_type": "stream",
     "text": [
      "[1] \"N0.HOG0001019\"\n",
      "character(0)\n",
      "[1] 4\n",
      "[1] 4\n",
      "[1] \"../tea/2/add_OGs_sets/N0.HOG0001019/add_OGs_set_num-4.txt\"\n"
     ]
    },
    {
     "name": "stderr",
     "output_type": "stream",
     "text": [
      "Warning message in file.create(missing_file):\n",
      "“cannot create file '../tea/2/add_OGs_sets/N0.HOG0001019/add_OGs_set_num-4.txt', reason 'No such file or directory'”\n"
     ]
    },
    {
     "name": "stdout",
     "output_type": "stream",
     "text": [
      "[1] 3\n",
      "[1] \"../tea/2/add_OGs_sets/N0.HOG0001019/add_OGs_set_num-3.txt\"\n"
     ]
    },
    {
     "name": "stderr",
     "output_type": "stream",
     "text": [
      "Warning message in file.create(missing_file):\n",
      "“cannot create file '../tea/2/add_OGs_sets/N0.HOG0001019/add_OGs_set_num-3.txt', reason 'No such file or directory'”\n"
     ]
    },
    {
     "name": "stdout",
     "output_type": "stream",
     "text": [
      "[1] 2\n",
      "[1] \"../tea/2/add_OGs_sets/N0.HOG0001019/add_OGs_set_num-2.txt\"\n"
     ]
    },
    {
     "name": "stderr",
     "output_type": "stream",
     "text": [
      "Warning message in file.create(missing_file):\n",
      "“cannot create file '../tea/2/add_OGs_sets/N0.HOG0001019/add_OGs_set_num-2.txt', reason 'No such file or directory'”\n"
     ]
    },
    {
     "name": "stdout",
     "output_type": "stream",
     "text": [
      "[1] 1\n",
      "[1] \"../tea/2/add_OGs_sets/N0.HOG0001019/add_OGs_set_num-1.txt\"\n"
     ]
    },
    {
     "name": "stderr",
     "output_type": "stream",
     "text": [
      "Warning message in file.create(missing_file):\n",
      "“cannot create file '../tea/2/add_OGs_sets/N0.HOG0001019/add_OGs_set_num-1.txt', reason 'No such file or directory'”\n"
     ]
    },
    {
     "name": "stdout",
     "output_type": "stream",
     "text": [
      "[1] \"N0.HOG0001028\"\n",
      "character(0)\n",
      "[1] 4\n",
      "[1] 4\n",
      "[1] \"../tea/2/add_OGs_sets/N0.HOG0001028/add_OGs_set_num-4.txt\"\n"
     ]
    },
    {
     "name": "stderr",
     "output_type": "stream",
     "text": [
      "Warning message in file.create(missing_file):\n",
      "“cannot create file '../tea/2/add_OGs_sets/N0.HOG0001028/add_OGs_set_num-4.txt', reason 'No such file or directory'”\n"
     ]
    },
    {
     "name": "stdout",
     "output_type": "stream",
     "text": [
      "[1] 3\n",
      "[1] \"../tea/2/add_OGs_sets/N0.HOG0001028/add_OGs_set_num-3.txt\"\n"
     ]
    },
    {
     "name": "stderr",
     "output_type": "stream",
     "text": [
      "Warning message in file.create(missing_file):\n",
      "“cannot create file '../tea/2/add_OGs_sets/N0.HOG0001028/add_OGs_set_num-3.txt', reason 'No such file or directory'”\n"
     ]
    },
    {
     "name": "stdout",
     "output_type": "stream",
     "text": [
      "[1] 2\n",
      "[1] \"../tea/2/add_OGs_sets/N0.HOG0001028/add_OGs_set_num-2.txt\"\n"
     ]
    },
    {
     "name": "stderr",
     "output_type": "stream",
     "text": [
      "Warning message in file.create(missing_file):\n",
      "“cannot create file '../tea/2/add_OGs_sets/N0.HOG0001028/add_OGs_set_num-2.txt', reason 'No such file or directory'”\n"
     ]
    },
    {
     "name": "stdout",
     "output_type": "stream",
     "text": [
      "[1] 1\n",
      "[1] \"../tea/2/add_OGs_sets/N0.HOG0001028/add_OGs_set_num-1.txt\"\n"
     ]
    },
    {
     "name": "stderr",
     "output_type": "stream",
     "text": [
      "Warning message in file.create(missing_file):\n",
      "“cannot create file '../tea/2/add_OGs_sets/N0.HOG0001028/add_OGs_set_num-1.txt', reason 'No such file or directory'”\n"
     ]
    },
    {
     "name": "stdout",
     "output_type": "stream",
     "text": [
      "[1] \"N0.HOG0001029\"\n",
      "character(0)\n",
      "[1] 4\n",
      "[1] 4\n",
      "[1] \"../tea/2/add_OGs_sets/N0.HOG0001029/add_OGs_set_num-4.txt\"\n"
     ]
    },
    {
     "name": "stderr",
     "output_type": "stream",
     "text": [
      "Warning message in file.create(missing_file):\n",
      "“cannot create file '../tea/2/add_OGs_sets/N0.HOG0001029/add_OGs_set_num-4.txt', reason 'No such file or directory'”\n"
     ]
    },
    {
     "name": "stdout",
     "output_type": "stream",
     "text": [
      "[1] 3\n",
      "[1] \"../tea/2/add_OGs_sets/N0.HOG0001029/add_OGs_set_num-3.txt\"\n"
     ]
    },
    {
     "name": "stderr",
     "output_type": "stream",
     "text": [
      "Warning message in file.create(missing_file):\n",
      "“cannot create file '../tea/2/add_OGs_sets/N0.HOG0001029/add_OGs_set_num-3.txt', reason 'No such file or directory'”\n"
     ]
    },
    {
     "name": "stdout",
     "output_type": "stream",
     "text": [
      "[1] 2\n",
      "[1] \"../tea/2/add_OGs_sets/N0.HOG0001029/add_OGs_set_num-2.txt\"\n"
     ]
    },
    {
     "name": "stderr",
     "output_type": "stream",
     "text": [
      "Warning message in file.create(missing_file):\n",
      "“cannot create file '../tea/2/add_OGs_sets/N0.HOG0001029/add_OGs_set_num-2.txt', reason 'No such file or directory'”\n"
     ]
    },
    {
     "name": "stdout",
     "output_type": "stream",
     "text": [
      "[1] 1\n",
      "[1] \"../tea/2/add_OGs_sets/N0.HOG0001029/add_OGs_set_num-1.txt\"\n"
     ]
    },
    {
     "name": "stderr",
     "output_type": "stream",
     "text": [
      "Warning message in file.create(missing_file):\n",
      "“cannot create file '../tea/2/add_OGs_sets/N0.HOG0001029/add_OGs_set_num-1.txt', reason 'No such file or directory'”\n"
     ]
    },
    {
     "name": "stdout",
     "output_type": "stream",
     "text": [
      "[1] \"N0.HOG0001030\"\n",
      "character(0)\n",
      "[1] 4\n",
      "[1] 4\n",
      "[1] \"../tea/2/add_OGs_sets/N0.HOG0001030/add_OGs_set_num-4.txt\"\n"
     ]
    },
    {
     "name": "stderr",
     "output_type": "stream",
     "text": [
      "Warning message in file.create(missing_file):\n",
      "“cannot create file '../tea/2/add_OGs_sets/N0.HOG0001030/add_OGs_set_num-4.txt', reason 'No such file or directory'”\n"
     ]
    },
    {
     "name": "stdout",
     "output_type": "stream",
     "text": [
      "[1] 3\n",
      "[1] \"../tea/2/add_OGs_sets/N0.HOG0001030/add_OGs_set_num-3.txt\"\n"
     ]
    },
    {
     "name": "stderr",
     "output_type": "stream",
     "text": [
      "Warning message in file.create(missing_file):\n",
      "“cannot create file '../tea/2/add_OGs_sets/N0.HOG0001030/add_OGs_set_num-3.txt', reason 'No such file or directory'”\n"
     ]
    },
    {
     "name": "stdout",
     "output_type": "stream",
     "text": [
      "[1] 2\n",
      "[1] \"../tea/2/add_OGs_sets/N0.HOG0001030/add_OGs_set_num-2.txt\"\n"
     ]
    },
    {
     "name": "stderr",
     "output_type": "stream",
     "text": [
      "Warning message in file.create(missing_file):\n",
      "“cannot create file '../tea/2/add_OGs_sets/N0.HOG0001030/add_OGs_set_num-2.txt', reason 'No such file or directory'”\n"
     ]
    },
    {
     "name": "stdout",
     "output_type": "stream",
     "text": [
      "[1] 1\n",
      "[1] \"../tea/2/add_OGs_sets/N0.HOG0001030/add_OGs_set_num-1.txt\"\n"
     ]
    },
    {
     "name": "stderr",
     "output_type": "stream",
     "text": [
      "Warning message in file.create(missing_file):\n",
      "“cannot create file '../tea/2/add_OGs_sets/N0.HOG0001030/add_OGs_set_num-1.txt', reason 'No such file or directory'”\n"
     ]
    },
    {
     "name": "stdout",
     "output_type": "stream",
     "text": [
      "[1] \"N0.HOG0001123\"\n",
      "character(0)\n",
      "[1] 4\n",
      "[1] 4\n",
      "[1] \"../tea/2/add_OGs_sets/N0.HOG0001123/add_OGs_set_num-4.txt\"\n"
     ]
    },
    {
     "name": "stderr",
     "output_type": "stream",
     "text": [
      "Warning message in file.create(missing_file):\n",
      "“cannot create file '../tea/2/add_OGs_sets/N0.HOG0001123/add_OGs_set_num-4.txt', reason 'No such file or directory'”\n"
     ]
    },
    {
     "name": "stdout",
     "output_type": "stream",
     "text": [
      "[1] 3\n",
      "[1] \"../tea/2/add_OGs_sets/N0.HOG0001123/add_OGs_set_num-3.txt\"\n"
     ]
    },
    {
     "name": "stderr",
     "output_type": "stream",
     "text": [
      "Warning message in file.create(missing_file):\n",
      "“cannot create file '../tea/2/add_OGs_sets/N0.HOG0001123/add_OGs_set_num-3.txt', reason 'No such file or directory'”\n"
     ]
    },
    {
     "name": "stdout",
     "output_type": "stream",
     "text": [
      "[1] 2\n",
      "[1] \"../tea/2/add_OGs_sets/N0.HOG0001123/add_OGs_set_num-2.txt\"\n"
     ]
    },
    {
     "name": "stderr",
     "output_type": "stream",
     "text": [
      "Warning message in file.create(missing_file):\n",
      "“cannot create file '../tea/2/add_OGs_sets/N0.HOG0001123/add_OGs_set_num-2.txt', reason 'No such file or directory'”\n"
     ]
    },
    {
     "name": "stdout",
     "output_type": "stream",
     "text": [
      "[1] 1\n",
      "[1] \"../tea/2/add_OGs_sets/N0.HOG0001123/add_OGs_set_num-1.txt\"\n"
     ]
    },
    {
     "name": "stderr",
     "output_type": "stream",
     "text": [
      "Warning message in file.create(missing_file):\n",
      "“cannot create file '../tea/2/add_OGs_sets/N0.HOG0001123/add_OGs_set_num-1.txt', reason 'No such file or directory'”\n"
     ]
    },
    {
     "name": "stdout",
     "output_type": "stream",
     "text": [
      "[1] \"N0.HOG0001125\"\n",
      "character(0)\n",
      "[1] 4\n",
      "[1] 4\n",
      "[1] \"../tea/2/add_OGs_sets/N0.HOG0001125/add_OGs_set_num-4.txt\"\n"
     ]
    },
    {
     "name": "stderr",
     "output_type": "stream",
     "text": [
      "Warning message in file.create(missing_file):\n",
      "“cannot create file '../tea/2/add_OGs_sets/N0.HOG0001125/add_OGs_set_num-4.txt', reason 'No such file or directory'”\n"
     ]
    },
    {
     "name": "stdout",
     "output_type": "stream",
     "text": [
      "[1] 3\n",
      "[1] \"../tea/2/add_OGs_sets/N0.HOG0001125/add_OGs_set_num-3.txt\"\n"
     ]
    },
    {
     "name": "stderr",
     "output_type": "stream",
     "text": [
      "Warning message in file.create(missing_file):\n",
      "“cannot create file '../tea/2/add_OGs_sets/N0.HOG0001125/add_OGs_set_num-3.txt', reason 'No such file or directory'”\n"
     ]
    },
    {
     "name": "stdout",
     "output_type": "stream",
     "text": [
      "[1] 2\n",
      "[1] \"../tea/2/add_OGs_sets/N0.HOG0001125/add_OGs_set_num-2.txt\"\n"
     ]
    },
    {
     "name": "stderr",
     "output_type": "stream",
     "text": [
      "Warning message in file.create(missing_file):\n",
      "“cannot create file '../tea/2/add_OGs_sets/N0.HOG0001125/add_OGs_set_num-2.txt', reason 'No such file or directory'”\n"
     ]
    },
    {
     "name": "stdout",
     "output_type": "stream",
     "text": [
      "[1] 1\n",
      "[1] \"../tea/2/add_OGs_sets/N0.HOG0001125/add_OGs_set_num-1.txt\"\n"
     ]
    },
    {
     "name": "stderr",
     "output_type": "stream",
     "text": [
      "Warning message in file.create(missing_file):\n",
      "“cannot create file '../tea/2/add_OGs_sets/N0.HOG0001125/add_OGs_set_num-1.txt', reason 'No such file or directory'”\n"
     ]
    },
    {
     "name": "stdout",
     "output_type": "stream",
     "text": [
      "[1] \"N0.HOG0001128\"\n",
      "character(0)\n",
      "[1] 4\n",
      "[1] 4\n",
      "[1] \"../tea/2/add_OGs_sets/N0.HOG0001128/add_OGs_set_num-4.txt\"\n"
     ]
    },
    {
     "name": "stderr",
     "output_type": "stream",
     "text": [
      "Warning message in file.create(missing_file):\n",
      "“cannot create file '../tea/2/add_OGs_sets/N0.HOG0001128/add_OGs_set_num-4.txt', reason 'No such file or directory'”\n"
     ]
    },
    {
     "name": "stdout",
     "output_type": "stream",
     "text": [
      "[1] 3\n",
      "[1] \"../tea/2/add_OGs_sets/N0.HOG0001128/add_OGs_set_num-3.txt\"\n"
     ]
    },
    {
     "name": "stderr",
     "output_type": "stream",
     "text": [
      "Warning message in file.create(missing_file):\n",
      "“cannot create file '../tea/2/add_OGs_sets/N0.HOG0001128/add_OGs_set_num-3.txt', reason 'No such file or directory'”\n"
     ]
    },
    {
     "name": "stdout",
     "output_type": "stream",
     "text": [
      "[1] 2\n",
      "[1] \"../tea/2/add_OGs_sets/N0.HOG0001128/add_OGs_set_num-2.txt\"\n"
     ]
    },
    {
     "name": "stderr",
     "output_type": "stream",
     "text": [
      "Warning message in file.create(missing_file):\n",
      "“cannot create file '../tea/2/add_OGs_sets/N0.HOG0001128/add_OGs_set_num-2.txt', reason 'No such file or directory'”\n"
     ]
    },
    {
     "name": "stdout",
     "output_type": "stream",
     "text": [
      "[1] 1\n",
      "[1] \"../tea/2/add_OGs_sets/N0.HOG0001128/add_OGs_set_num-1.txt\"\n"
     ]
    },
    {
     "name": "stderr",
     "output_type": "stream",
     "text": [
      "Warning message in file.create(missing_file):\n",
      "“cannot create file '../tea/2/add_OGs_sets/N0.HOG0001128/add_OGs_set_num-1.txt', reason 'No such file or directory'”\n"
     ]
    },
    {
     "name": "stdout",
     "output_type": "stream",
     "text": [
      "[1] \"N0.HOG0001137\"\n",
      "character(0)\n",
      "[1] 4\n",
      "[1] 4\n",
      "[1] \"../tea/2/add_OGs_sets/N0.HOG0001137/add_OGs_set_num-4.txt\"\n"
     ]
    },
    {
     "name": "stderr",
     "output_type": "stream",
     "text": [
      "Warning message in file.create(missing_file):\n",
      "“cannot create file '../tea/2/add_OGs_sets/N0.HOG0001137/add_OGs_set_num-4.txt', reason 'No such file or directory'”\n"
     ]
    },
    {
     "name": "stdout",
     "output_type": "stream",
     "text": [
      "[1] 3\n",
      "[1] \"../tea/2/add_OGs_sets/N0.HOG0001137/add_OGs_set_num-3.txt\"\n"
     ]
    },
    {
     "name": "stderr",
     "output_type": "stream",
     "text": [
      "Warning message in file.create(missing_file):\n",
      "“cannot create file '../tea/2/add_OGs_sets/N0.HOG0001137/add_OGs_set_num-3.txt', reason 'No such file or directory'”\n"
     ]
    },
    {
     "name": "stdout",
     "output_type": "stream",
     "text": [
      "[1] 2\n",
      "[1] \"../tea/2/add_OGs_sets/N0.HOG0001137/add_OGs_set_num-2.txt\"\n"
     ]
    },
    {
     "name": "stderr",
     "output_type": "stream",
     "text": [
      "Warning message in file.create(missing_file):\n",
      "“cannot create file '../tea/2/add_OGs_sets/N0.HOG0001137/add_OGs_set_num-2.txt', reason 'No such file or directory'”\n"
     ]
    },
    {
     "name": "stdout",
     "output_type": "stream",
     "text": [
      "[1] 1\n",
      "[1] \"../tea/2/add_OGs_sets/N0.HOG0001137/add_OGs_set_num-1.txt\"\n"
     ]
    },
    {
     "name": "stderr",
     "output_type": "stream",
     "text": [
      "Warning message in file.create(missing_file):\n",
      "“cannot create file '../tea/2/add_OGs_sets/N0.HOG0001137/add_OGs_set_num-1.txt', reason 'No such file or directory'”\n"
     ]
    },
    {
     "name": "stdout",
     "output_type": "stream",
     "text": [
      "[1] \"N0.HOG0001156\"\n",
      "character(0)\n",
      "[1] 4\n",
      "[1] 4\n",
      "[1] \"../tea/2/add_OGs_sets/N0.HOG0001156/add_OGs_set_num-4.txt\"\n"
     ]
    },
    {
     "name": "stderr",
     "output_type": "stream",
     "text": [
      "Warning message in file.create(missing_file):\n",
      "“cannot create file '../tea/2/add_OGs_sets/N0.HOG0001156/add_OGs_set_num-4.txt', reason 'No such file or directory'”\n"
     ]
    },
    {
     "name": "stdout",
     "output_type": "stream",
     "text": [
      "[1] 3\n",
      "[1] \"../tea/2/add_OGs_sets/N0.HOG0001156/add_OGs_set_num-3.txt\"\n"
     ]
    },
    {
     "name": "stderr",
     "output_type": "stream",
     "text": [
      "Warning message in file.create(missing_file):\n",
      "“cannot create file '../tea/2/add_OGs_sets/N0.HOG0001156/add_OGs_set_num-3.txt', reason 'No such file or directory'”\n"
     ]
    },
    {
     "name": "stdout",
     "output_type": "stream",
     "text": [
      "[1] 2\n",
      "[1] \"../tea/2/add_OGs_sets/N0.HOG0001156/add_OGs_set_num-2.txt\"\n"
     ]
    },
    {
     "name": "stderr",
     "output_type": "stream",
     "text": [
      "Warning message in file.create(missing_file):\n",
      "“cannot create file '../tea/2/add_OGs_sets/N0.HOG0001156/add_OGs_set_num-2.txt', reason 'No such file or directory'”\n"
     ]
    },
    {
     "name": "stdout",
     "output_type": "stream",
     "text": [
      "[1] 1\n",
      "[1] \"../tea/2/add_OGs_sets/N0.HOG0001156/add_OGs_set_num-1.txt\"\n"
     ]
    },
    {
     "name": "stderr",
     "output_type": "stream",
     "text": [
      "Warning message in file.create(missing_file):\n",
      "“cannot create file '../tea/2/add_OGs_sets/N0.HOG0001156/add_OGs_set_num-1.txt', reason 'No such file or directory'”\n"
     ]
    },
    {
     "name": "stdout",
     "output_type": "stream",
     "text": [
      "[1] \"N0.HOG0001272\"\n",
      "character(0)\n",
      "[1] 4\n",
      "[1] 4\n",
      "[1] \"../tea/2/add_OGs_sets/N0.HOG0001272/add_OGs_set_num-4.txt\"\n"
     ]
    },
    {
     "name": "stderr",
     "output_type": "stream",
     "text": [
      "Warning message in file.create(missing_file):\n",
      "“cannot create file '../tea/2/add_OGs_sets/N0.HOG0001272/add_OGs_set_num-4.txt', reason 'No such file or directory'”\n"
     ]
    },
    {
     "name": "stdout",
     "output_type": "stream",
     "text": [
      "[1] 3\n",
      "[1] \"../tea/2/add_OGs_sets/N0.HOG0001272/add_OGs_set_num-3.txt\"\n"
     ]
    },
    {
     "name": "stderr",
     "output_type": "stream",
     "text": [
      "Warning message in file.create(missing_file):\n",
      "“cannot create file '../tea/2/add_OGs_sets/N0.HOG0001272/add_OGs_set_num-3.txt', reason 'No such file or directory'”\n"
     ]
    },
    {
     "name": "stdout",
     "output_type": "stream",
     "text": [
      "[1] 2\n",
      "[1] \"../tea/2/add_OGs_sets/N0.HOG0001272/add_OGs_set_num-2.txt\"\n"
     ]
    },
    {
     "name": "stderr",
     "output_type": "stream",
     "text": [
      "Warning message in file.create(missing_file):\n",
      "“cannot create file '../tea/2/add_OGs_sets/N0.HOG0001272/add_OGs_set_num-2.txt', reason 'No such file or directory'”\n"
     ]
    },
    {
     "name": "stdout",
     "output_type": "stream",
     "text": [
      "[1] 1\n",
      "[1] \"../tea/2/add_OGs_sets/N0.HOG0001272/add_OGs_set_num-1.txt\"\n"
     ]
    },
    {
     "name": "stderr",
     "output_type": "stream",
     "text": [
      "Warning message in file.create(missing_file):\n",
      "“cannot create file '../tea/2/add_OGs_sets/N0.HOG0001272/add_OGs_set_num-1.txt', reason 'No such file or directory'”\n"
     ]
    },
    {
     "name": "stdout",
     "output_type": "stream",
     "text": [
      "[1] \"N0.HOG0001277\"\n",
      "character(0)\n",
      "[1] 4\n",
      "[1] 4\n",
      "[1] \"../tea/2/add_OGs_sets/N0.HOG0001277/add_OGs_set_num-4.txt\"\n"
     ]
    },
    {
     "name": "stderr",
     "output_type": "stream",
     "text": [
      "Warning message in file.create(missing_file):\n",
      "“cannot create file '../tea/2/add_OGs_sets/N0.HOG0001277/add_OGs_set_num-4.txt', reason 'No such file or directory'”\n"
     ]
    },
    {
     "name": "stdout",
     "output_type": "stream",
     "text": [
      "[1] 3\n",
      "[1] \"../tea/2/add_OGs_sets/N0.HOG0001277/add_OGs_set_num-3.txt\"\n"
     ]
    },
    {
     "name": "stderr",
     "output_type": "stream",
     "text": [
      "Warning message in file.create(missing_file):\n",
      "“cannot create file '../tea/2/add_OGs_sets/N0.HOG0001277/add_OGs_set_num-3.txt', reason 'No such file or directory'”\n"
     ]
    },
    {
     "name": "stdout",
     "output_type": "stream",
     "text": [
      "[1] 2\n",
      "[1] \"../tea/2/add_OGs_sets/N0.HOG0001277/add_OGs_set_num-2.txt\"\n"
     ]
    },
    {
     "name": "stderr",
     "output_type": "stream",
     "text": [
      "Warning message in file.create(missing_file):\n",
      "“cannot create file '../tea/2/add_OGs_sets/N0.HOG0001277/add_OGs_set_num-2.txt', reason 'No such file or directory'”\n"
     ]
    },
    {
     "name": "stdout",
     "output_type": "stream",
     "text": [
      "[1] 1\n",
      "[1] \"../tea/2/add_OGs_sets/N0.HOG0001277/add_OGs_set_num-1.txt\"\n"
     ]
    },
    {
     "name": "stderr",
     "output_type": "stream",
     "text": [
      "Warning message in file.create(missing_file):\n",
      "“cannot create file '../tea/2/add_OGs_sets/N0.HOG0001277/add_OGs_set_num-1.txt', reason 'No such file or directory'”\n"
     ]
    },
    {
     "name": "stdout",
     "output_type": "stream",
     "text": [
      "[1] \"N0.HOG0001294\"\n",
      "character(0)\n",
      "[1] 4\n",
      "[1] 4\n",
      "[1] \"../tea/2/add_OGs_sets/N0.HOG0001294/add_OGs_set_num-4.txt\"\n"
     ]
    },
    {
     "name": "stderr",
     "output_type": "stream",
     "text": [
      "Warning message in file.create(missing_file):\n",
      "“cannot create file '../tea/2/add_OGs_sets/N0.HOG0001294/add_OGs_set_num-4.txt', reason 'No such file or directory'”\n"
     ]
    },
    {
     "name": "stdout",
     "output_type": "stream",
     "text": [
      "[1] 3\n",
      "[1] \"../tea/2/add_OGs_sets/N0.HOG0001294/add_OGs_set_num-3.txt\"\n"
     ]
    },
    {
     "name": "stderr",
     "output_type": "stream",
     "text": [
      "Warning message in file.create(missing_file):\n",
      "“cannot create file '../tea/2/add_OGs_sets/N0.HOG0001294/add_OGs_set_num-3.txt', reason 'No such file or directory'”\n"
     ]
    },
    {
     "name": "stdout",
     "output_type": "stream",
     "text": [
      "[1] 2\n",
      "[1] \"../tea/2/add_OGs_sets/N0.HOG0001294/add_OGs_set_num-2.txt\"\n"
     ]
    },
    {
     "name": "stderr",
     "output_type": "stream",
     "text": [
      "Warning message in file.create(missing_file):\n",
      "“cannot create file '../tea/2/add_OGs_sets/N0.HOG0001294/add_OGs_set_num-2.txt', reason 'No such file or directory'”\n"
     ]
    },
    {
     "name": "stdout",
     "output_type": "stream",
     "text": [
      "[1] 1\n",
      "[1] \"../tea/2/add_OGs_sets/N0.HOG0001294/add_OGs_set_num-1.txt\"\n"
     ]
    },
    {
     "name": "stderr",
     "output_type": "stream",
     "text": [
      "Warning message in file.create(missing_file):\n",
      "“cannot create file '../tea/2/add_OGs_sets/N0.HOG0001294/add_OGs_set_num-1.txt', reason 'No such file or directory'”\n"
     ]
    },
    {
     "name": "stdout",
     "output_type": "stream",
     "text": [
      "[1] \"N0.HOG0001297\"\n",
      "character(0)\n",
      "[1] 4\n",
      "[1] 4\n",
      "[1] \"../tea/2/add_OGs_sets/N0.HOG0001297/add_OGs_set_num-4.txt\"\n"
     ]
    },
    {
     "name": "stderr",
     "output_type": "stream",
     "text": [
      "Warning message in file.create(missing_file):\n",
      "“cannot create file '../tea/2/add_OGs_sets/N0.HOG0001297/add_OGs_set_num-4.txt', reason 'No such file or directory'”\n"
     ]
    },
    {
     "name": "stdout",
     "output_type": "stream",
     "text": [
      "[1] 3\n",
      "[1] \"../tea/2/add_OGs_sets/N0.HOG0001297/add_OGs_set_num-3.txt\"\n"
     ]
    },
    {
     "name": "stderr",
     "output_type": "stream",
     "text": [
      "Warning message in file.create(missing_file):\n",
      "“cannot create file '../tea/2/add_OGs_sets/N0.HOG0001297/add_OGs_set_num-3.txt', reason 'No such file or directory'”\n"
     ]
    },
    {
     "name": "stdout",
     "output_type": "stream",
     "text": [
      "[1] 2\n",
      "[1] \"../tea/2/add_OGs_sets/N0.HOG0001297/add_OGs_set_num-2.txt\"\n"
     ]
    },
    {
     "name": "stderr",
     "output_type": "stream",
     "text": [
      "Warning message in file.create(missing_file):\n",
      "“cannot create file '../tea/2/add_OGs_sets/N0.HOG0001297/add_OGs_set_num-2.txt', reason 'No such file or directory'”\n"
     ]
    },
    {
     "name": "stdout",
     "output_type": "stream",
     "text": [
      "[1] 1\n",
      "[1] \"../tea/2/add_OGs_sets/N0.HOG0001297/add_OGs_set_num-1.txt\"\n"
     ]
    },
    {
     "name": "stderr",
     "output_type": "stream",
     "text": [
      "Warning message in file.create(missing_file):\n",
      "“cannot create file '../tea/2/add_OGs_sets/N0.HOG0001297/add_OGs_set_num-1.txt', reason 'No such file or directory'”\n"
     ]
    },
    {
     "name": "stdout",
     "output_type": "stream",
     "text": [
      "[1] \"N0.HOG0001317\"\n",
      "character(0)\n",
      "[1] 4\n",
      "[1] 4\n",
      "[1] \"../tea/2/add_OGs_sets/N0.HOG0001317/add_OGs_set_num-4.txt\"\n"
     ]
    },
    {
     "name": "stderr",
     "output_type": "stream",
     "text": [
      "Warning message in file.create(missing_file):\n",
      "“cannot create file '../tea/2/add_OGs_sets/N0.HOG0001317/add_OGs_set_num-4.txt', reason 'No such file or directory'”\n"
     ]
    },
    {
     "name": "stdout",
     "output_type": "stream",
     "text": [
      "[1] 3\n",
      "[1] \"../tea/2/add_OGs_sets/N0.HOG0001317/add_OGs_set_num-3.txt\"\n"
     ]
    },
    {
     "name": "stderr",
     "output_type": "stream",
     "text": [
      "Warning message in file.create(missing_file):\n",
      "“cannot create file '../tea/2/add_OGs_sets/N0.HOG0001317/add_OGs_set_num-3.txt', reason 'No such file or directory'”\n"
     ]
    },
    {
     "name": "stdout",
     "output_type": "stream",
     "text": [
      "[1] 2\n",
      "[1] \"../tea/2/add_OGs_sets/N0.HOG0001317/add_OGs_set_num-2.txt\"\n"
     ]
    },
    {
     "name": "stderr",
     "output_type": "stream",
     "text": [
      "Warning message in file.create(missing_file):\n",
      "“cannot create file '../tea/2/add_OGs_sets/N0.HOG0001317/add_OGs_set_num-2.txt', reason 'No such file or directory'”\n"
     ]
    },
    {
     "name": "stdout",
     "output_type": "stream",
     "text": [
      "[1] 1\n",
      "[1] \"../tea/2/add_OGs_sets/N0.HOG0001317/add_OGs_set_num-1.txt\"\n"
     ]
    },
    {
     "name": "stderr",
     "output_type": "stream",
     "text": [
      "Warning message in file.create(missing_file):\n",
      "“cannot create file '../tea/2/add_OGs_sets/N0.HOG0001317/add_OGs_set_num-1.txt', reason 'No such file or directory'”\n"
     ]
    },
    {
     "name": "stdout",
     "output_type": "stream",
     "text": [
      "[1] \"N0.HOG0001325\"\n",
      "character(0)\n",
      "[1] 4\n",
      "[1] 4\n",
      "[1] \"../tea/2/add_OGs_sets/N0.HOG0001325/add_OGs_set_num-4.txt\"\n"
     ]
    },
    {
     "name": "stderr",
     "output_type": "stream",
     "text": [
      "Warning message in file.create(missing_file):\n",
      "“cannot create file '../tea/2/add_OGs_sets/N0.HOG0001325/add_OGs_set_num-4.txt', reason 'No such file or directory'”\n"
     ]
    },
    {
     "name": "stdout",
     "output_type": "stream",
     "text": [
      "[1] 3\n",
      "[1] \"../tea/2/add_OGs_sets/N0.HOG0001325/add_OGs_set_num-3.txt\"\n"
     ]
    },
    {
     "name": "stderr",
     "output_type": "stream",
     "text": [
      "Warning message in file.create(missing_file):\n",
      "“cannot create file '../tea/2/add_OGs_sets/N0.HOG0001325/add_OGs_set_num-3.txt', reason 'No such file or directory'”\n"
     ]
    },
    {
     "name": "stdout",
     "output_type": "stream",
     "text": [
      "[1] 2\n",
      "[1] \"../tea/2/add_OGs_sets/N0.HOG0001325/add_OGs_set_num-2.txt\"\n"
     ]
    },
    {
     "name": "stderr",
     "output_type": "stream",
     "text": [
      "Warning message in file.create(missing_file):\n",
      "“cannot create file '../tea/2/add_OGs_sets/N0.HOG0001325/add_OGs_set_num-2.txt', reason 'No such file or directory'”\n"
     ]
    },
    {
     "name": "stdout",
     "output_type": "stream",
     "text": [
      "[1] 1\n",
      "[1] \"../tea/2/add_OGs_sets/N0.HOG0001325/add_OGs_set_num-1.txt\"\n"
     ]
    },
    {
     "name": "stderr",
     "output_type": "stream",
     "text": [
      "Warning message in file.create(missing_file):\n",
      "“cannot create file '../tea/2/add_OGs_sets/N0.HOG0001325/add_OGs_set_num-1.txt', reason 'No such file or directory'”\n"
     ]
    },
    {
     "name": "stdout",
     "output_type": "stream",
     "text": [
      "[1] \"N0.HOG0001334\"\n",
      "character(0)\n",
      "[1] 4\n",
      "[1] 4\n",
      "[1] \"../tea/2/add_OGs_sets/N0.HOG0001334/add_OGs_set_num-4.txt\"\n"
     ]
    },
    {
     "name": "stderr",
     "output_type": "stream",
     "text": [
      "Warning message in file.create(missing_file):\n",
      "“cannot create file '../tea/2/add_OGs_sets/N0.HOG0001334/add_OGs_set_num-4.txt', reason 'No such file or directory'”\n"
     ]
    },
    {
     "name": "stdout",
     "output_type": "stream",
     "text": [
      "[1] 3\n",
      "[1] \"../tea/2/add_OGs_sets/N0.HOG0001334/add_OGs_set_num-3.txt\"\n"
     ]
    },
    {
     "name": "stderr",
     "output_type": "stream",
     "text": [
      "Warning message in file.create(missing_file):\n",
      "“cannot create file '../tea/2/add_OGs_sets/N0.HOG0001334/add_OGs_set_num-3.txt', reason 'No such file or directory'”\n"
     ]
    },
    {
     "name": "stdout",
     "output_type": "stream",
     "text": [
      "[1] 2\n",
      "[1] \"../tea/2/add_OGs_sets/N0.HOG0001334/add_OGs_set_num-2.txt\"\n"
     ]
    },
    {
     "name": "stderr",
     "output_type": "stream",
     "text": [
      "Warning message in file.create(missing_file):\n",
      "“cannot create file '../tea/2/add_OGs_sets/N0.HOG0001334/add_OGs_set_num-2.txt', reason 'No such file or directory'”\n"
     ]
    },
    {
     "name": "stdout",
     "output_type": "stream",
     "text": [
      "[1] 1\n",
      "[1] \"../tea/2/add_OGs_sets/N0.HOG0001334/add_OGs_set_num-1.txt\"\n"
     ]
    },
    {
     "name": "stderr",
     "output_type": "stream",
     "text": [
      "Warning message in file.create(missing_file):\n",
      "“cannot create file '../tea/2/add_OGs_sets/N0.HOG0001334/add_OGs_set_num-1.txt', reason 'No such file or directory'”\n"
     ]
    },
    {
     "name": "stdout",
     "output_type": "stream",
     "text": [
      "[1] \"N0.HOG0001474\"\n",
      "character(0)\n",
      "[1] 4\n",
      "[1] 4\n",
      "[1] \"../tea/2/add_OGs_sets/N0.HOG0001474/add_OGs_set_num-4.txt\"\n"
     ]
    },
    {
     "name": "stderr",
     "output_type": "stream",
     "text": [
      "Warning message in file.create(missing_file):\n",
      "“cannot create file '../tea/2/add_OGs_sets/N0.HOG0001474/add_OGs_set_num-4.txt', reason 'No such file or directory'”\n"
     ]
    },
    {
     "name": "stdout",
     "output_type": "stream",
     "text": [
      "[1] 3\n",
      "[1] \"../tea/2/add_OGs_sets/N0.HOG0001474/add_OGs_set_num-3.txt\"\n"
     ]
    },
    {
     "name": "stderr",
     "output_type": "stream",
     "text": [
      "Warning message in file.create(missing_file):\n",
      "“cannot create file '../tea/2/add_OGs_sets/N0.HOG0001474/add_OGs_set_num-3.txt', reason 'No such file or directory'”\n"
     ]
    },
    {
     "name": "stdout",
     "output_type": "stream",
     "text": [
      "[1] 2\n",
      "[1] \"../tea/2/add_OGs_sets/N0.HOG0001474/add_OGs_set_num-2.txt\"\n"
     ]
    },
    {
     "name": "stderr",
     "output_type": "stream",
     "text": [
      "Warning message in file.create(missing_file):\n",
      "“cannot create file '../tea/2/add_OGs_sets/N0.HOG0001474/add_OGs_set_num-2.txt', reason 'No such file or directory'”\n"
     ]
    },
    {
     "name": "stdout",
     "output_type": "stream",
     "text": [
      "[1] 1\n",
      "[1] \"../tea/2/add_OGs_sets/N0.HOG0001474/add_OGs_set_num-1.txt\"\n"
     ]
    },
    {
     "name": "stderr",
     "output_type": "stream",
     "text": [
      "Warning message in file.create(missing_file):\n",
      "“cannot create file '../tea/2/add_OGs_sets/N0.HOG0001474/add_OGs_set_num-1.txt', reason 'No such file or directory'”\n"
     ]
    },
    {
     "name": "stdout",
     "output_type": "stream",
     "text": [
      "[1] \"N0.HOG0001478\"\n",
      "character(0)\n",
      "[1] 4\n",
      "[1] 4\n",
      "[1] \"../tea/2/add_OGs_sets/N0.HOG0001478/add_OGs_set_num-4.txt\"\n"
     ]
    },
    {
     "name": "stderr",
     "output_type": "stream",
     "text": [
      "Warning message in file.create(missing_file):\n",
      "“cannot create file '../tea/2/add_OGs_sets/N0.HOG0001478/add_OGs_set_num-4.txt', reason 'No such file or directory'”\n"
     ]
    },
    {
     "name": "stdout",
     "output_type": "stream",
     "text": [
      "[1] 3\n",
      "[1] \"../tea/2/add_OGs_sets/N0.HOG0001478/add_OGs_set_num-3.txt\"\n"
     ]
    },
    {
     "name": "stderr",
     "output_type": "stream",
     "text": [
      "Warning message in file.create(missing_file):\n",
      "“cannot create file '../tea/2/add_OGs_sets/N0.HOG0001478/add_OGs_set_num-3.txt', reason 'No such file or directory'”\n"
     ]
    },
    {
     "name": "stdout",
     "output_type": "stream",
     "text": [
      "[1] 2\n",
      "[1] \"../tea/2/add_OGs_sets/N0.HOG0001478/add_OGs_set_num-2.txt\"\n"
     ]
    },
    {
     "name": "stderr",
     "output_type": "stream",
     "text": [
      "Warning message in file.create(missing_file):\n",
      "“cannot create file '../tea/2/add_OGs_sets/N0.HOG0001478/add_OGs_set_num-2.txt', reason 'No such file or directory'”\n"
     ]
    },
    {
     "name": "stdout",
     "output_type": "stream",
     "text": [
      "[1] 1\n",
      "[1] \"../tea/2/add_OGs_sets/N0.HOG0001478/add_OGs_set_num-1.txt\"\n"
     ]
    },
    {
     "name": "stderr",
     "output_type": "stream",
     "text": [
      "Warning message in file.create(missing_file):\n",
      "“cannot create file '../tea/2/add_OGs_sets/N0.HOG0001478/add_OGs_set_num-1.txt', reason 'No such file or directory'”\n"
     ]
    },
    {
     "name": "stdout",
     "output_type": "stream",
     "text": [
      "[1] \"N0.HOG0001483\"\n",
      "character(0)\n",
      "[1] 4\n",
      "[1] 4\n",
      "[1] \"../tea/2/add_OGs_sets/N0.HOG0001483/add_OGs_set_num-4.txt\"\n"
     ]
    },
    {
     "name": "stderr",
     "output_type": "stream",
     "text": [
      "Warning message in file.create(missing_file):\n",
      "“cannot create file '../tea/2/add_OGs_sets/N0.HOG0001483/add_OGs_set_num-4.txt', reason 'No such file or directory'”\n"
     ]
    },
    {
     "name": "stdout",
     "output_type": "stream",
     "text": [
      "[1] 3\n",
      "[1] \"../tea/2/add_OGs_sets/N0.HOG0001483/add_OGs_set_num-3.txt\"\n"
     ]
    },
    {
     "name": "stderr",
     "output_type": "stream",
     "text": [
      "Warning message in file.create(missing_file):\n",
      "“cannot create file '../tea/2/add_OGs_sets/N0.HOG0001483/add_OGs_set_num-3.txt', reason 'No such file or directory'”\n"
     ]
    },
    {
     "name": "stdout",
     "output_type": "stream",
     "text": [
      "[1] 2\n",
      "[1] \"../tea/2/add_OGs_sets/N0.HOG0001483/add_OGs_set_num-2.txt\"\n"
     ]
    },
    {
     "name": "stderr",
     "output_type": "stream",
     "text": [
      "Warning message in file.create(missing_file):\n",
      "“cannot create file '../tea/2/add_OGs_sets/N0.HOG0001483/add_OGs_set_num-2.txt', reason 'No such file or directory'”\n"
     ]
    },
    {
     "name": "stdout",
     "output_type": "stream",
     "text": [
      "[1] 1\n",
      "[1] \"../tea/2/add_OGs_sets/N0.HOG0001483/add_OGs_set_num-1.txt\"\n"
     ]
    },
    {
     "name": "stderr",
     "output_type": "stream",
     "text": [
      "Warning message in file.create(missing_file):\n",
      "“cannot create file '../tea/2/add_OGs_sets/N0.HOG0001483/add_OGs_set_num-1.txt', reason 'No such file or directory'”\n"
     ]
    },
    {
     "name": "stdout",
     "output_type": "stream",
     "text": [
      "[1] \"N0.HOG0001492\"\n",
      "character(0)\n",
      "[1] 4\n",
      "[1] 4\n",
      "[1] \"../tea/2/add_OGs_sets/N0.HOG0001492/add_OGs_set_num-4.txt\"\n"
     ]
    },
    {
     "name": "stderr",
     "output_type": "stream",
     "text": [
      "Warning message in file.create(missing_file):\n",
      "“cannot create file '../tea/2/add_OGs_sets/N0.HOG0001492/add_OGs_set_num-4.txt', reason 'No such file or directory'”\n"
     ]
    },
    {
     "name": "stdout",
     "output_type": "stream",
     "text": [
      "[1] 3\n",
      "[1] \"../tea/2/add_OGs_sets/N0.HOG0001492/add_OGs_set_num-3.txt\"\n"
     ]
    },
    {
     "name": "stderr",
     "output_type": "stream",
     "text": [
      "Warning message in file.create(missing_file):\n",
      "“cannot create file '../tea/2/add_OGs_sets/N0.HOG0001492/add_OGs_set_num-3.txt', reason 'No such file or directory'”\n"
     ]
    },
    {
     "name": "stdout",
     "output_type": "stream",
     "text": [
      "[1] 2\n",
      "[1] \"../tea/2/add_OGs_sets/N0.HOG0001492/add_OGs_set_num-2.txt\"\n"
     ]
    },
    {
     "name": "stderr",
     "output_type": "stream",
     "text": [
      "Warning message in file.create(missing_file):\n",
      "“cannot create file '../tea/2/add_OGs_sets/N0.HOG0001492/add_OGs_set_num-2.txt', reason 'No such file or directory'”\n"
     ]
    },
    {
     "name": "stdout",
     "output_type": "stream",
     "text": [
      "[1] 1\n",
      "[1] \"../tea/2/add_OGs_sets/N0.HOG0001492/add_OGs_set_num-1.txt\"\n"
     ]
    },
    {
     "name": "stderr",
     "output_type": "stream",
     "text": [
      "Warning message in file.create(missing_file):\n",
      "“cannot create file '../tea/2/add_OGs_sets/N0.HOG0001492/add_OGs_set_num-1.txt', reason 'No such file or directory'”\n"
     ]
    },
    {
     "name": "stdout",
     "output_type": "stream",
     "text": [
      "[1] \"N0.HOG0001496\"\n",
      "character(0)\n",
      "[1] 4\n",
      "[1] 4\n",
      "[1] \"../tea/2/add_OGs_sets/N0.HOG0001496/add_OGs_set_num-4.txt\"\n"
     ]
    },
    {
     "name": "stderr",
     "output_type": "stream",
     "text": [
      "Warning message in file.create(missing_file):\n",
      "“cannot create file '../tea/2/add_OGs_sets/N0.HOG0001496/add_OGs_set_num-4.txt', reason 'No such file or directory'”\n"
     ]
    },
    {
     "name": "stdout",
     "output_type": "stream",
     "text": [
      "[1] 3\n",
      "[1] \"../tea/2/add_OGs_sets/N0.HOG0001496/add_OGs_set_num-3.txt\"\n"
     ]
    },
    {
     "name": "stderr",
     "output_type": "stream",
     "text": [
      "Warning message in file.create(missing_file):\n",
      "“cannot create file '../tea/2/add_OGs_sets/N0.HOG0001496/add_OGs_set_num-3.txt', reason 'No such file or directory'”\n"
     ]
    },
    {
     "name": "stdout",
     "output_type": "stream",
     "text": [
      "[1] 2\n",
      "[1] \"../tea/2/add_OGs_sets/N0.HOG0001496/add_OGs_set_num-2.txt\"\n"
     ]
    },
    {
     "name": "stderr",
     "output_type": "stream",
     "text": [
      "Warning message in file.create(missing_file):\n",
      "“cannot create file '../tea/2/add_OGs_sets/N0.HOG0001496/add_OGs_set_num-2.txt', reason 'No such file or directory'”\n"
     ]
    },
    {
     "name": "stdout",
     "output_type": "stream",
     "text": [
      "[1] 1\n",
      "[1] \"../tea/2/add_OGs_sets/N0.HOG0001496/add_OGs_set_num-1.txt\"\n"
     ]
    },
    {
     "name": "stderr",
     "output_type": "stream",
     "text": [
      "Warning message in file.create(missing_file):\n",
      "“cannot create file '../tea/2/add_OGs_sets/N0.HOG0001496/add_OGs_set_num-1.txt', reason 'No such file or directory'”\n"
     ]
    },
    {
     "name": "stdout",
     "output_type": "stream",
     "text": [
      "[1] \"N0.HOG0001498\"\n",
      "character(0)\n",
      "[1] 4\n",
      "[1] 4\n",
      "[1] \"../tea/2/add_OGs_sets/N0.HOG0001498/add_OGs_set_num-4.txt\"\n"
     ]
    },
    {
     "name": "stderr",
     "output_type": "stream",
     "text": [
      "Warning message in file.create(missing_file):\n",
      "“cannot create file '../tea/2/add_OGs_sets/N0.HOG0001498/add_OGs_set_num-4.txt', reason 'No such file or directory'”\n"
     ]
    },
    {
     "name": "stdout",
     "output_type": "stream",
     "text": [
      "[1] 3\n",
      "[1] \"../tea/2/add_OGs_sets/N0.HOG0001498/add_OGs_set_num-3.txt\"\n"
     ]
    },
    {
     "name": "stderr",
     "output_type": "stream",
     "text": [
      "Warning message in file.create(missing_file):\n",
      "“cannot create file '../tea/2/add_OGs_sets/N0.HOG0001498/add_OGs_set_num-3.txt', reason 'No such file or directory'”\n"
     ]
    },
    {
     "name": "stdout",
     "output_type": "stream",
     "text": [
      "[1] 2\n",
      "[1] \"../tea/2/add_OGs_sets/N0.HOG0001498/add_OGs_set_num-2.txt\"\n"
     ]
    },
    {
     "name": "stderr",
     "output_type": "stream",
     "text": [
      "Warning message in file.create(missing_file):\n",
      "“cannot create file '../tea/2/add_OGs_sets/N0.HOG0001498/add_OGs_set_num-2.txt', reason 'No such file or directory'”\n"
     ]
    },
    {
     "name": "stdout",
     "output_type": "stream",
     "text": [
      "[1] 1\n",
      "[1] \"../tea/2/add_OGs_sets/N0.HOG0001498/add_OGs_set_num-1.txt\"\n"
     ]
    },
    {
     "name": "stderr",
     "output_type": "stream",
     "text": [
      "Warning message in file.create(missing_file):\n",
      "“cannot create file '../tea/2/add_OGs_sets/N0.HOG0001498/add_OGs_set_num-1.txt', reason 'No such file or directory'”\n"
     ]
    },
    {
     "name": "stdout",
     "output_type": "stream",
     "text": [
      "[1] \"N0.HOG0001499\"\n",
      "character(0)\n",
      "[1] 4\n",
      "[1] 4\n",
      "[1] \"../tea/2/add_OGs_sets/N0.HOG0001499/add_OGs_set_num-4.txt\"\n"
     ]
    },
    {
     "name": "stderr",
     "output_type": "stream",
     "text": [
      "Warning message in file.create(missing_file):\n",
      "“cannot create file '../tea/2/add_OGs_sets/N0.HOG0001499/add_OGs_set_num-4.txt', reason 'No such file or directory'”\n"
     ]
    },
    {
     "name": "stdout",
     "output_type": "stream",
     "text": [
      "[1] 3\n",
      "[1] \"../tea/2/add_OGs_sets/N0.HOG0001499/add_OGs_set_num-3.txt\"\n"
     ]
    },
    {
     "name": "stderr",
     "output_type": "stream",
     "text": [
      "Warning message in file.create(missing_file):\n",
      "“cannot create file '../tea/2/add_OGs_sets/N0.HOG0001499/add_OGs_set_num-3.txt', reason 'No such file or directory'”\n"
     ]
    },
    {
     "name": "stdout",
     "output_type": "stream",
     "text": [
      "[1] 2\n",
      "[1] \"../tea/2/add_OGs_sets/N0.HOG0001499/add_OGs_set_num-2.txt\"\n"
     ]
    },
    {
     "name": "stderr",
     "output_type": "stream",
     "text": [
      "Warning message in file.create(missing_file):\n",
      "“cannot create file '../tea/2/add_OGs_sets/N0.HOG0001499/add_OGs_set_num-2.txt', reason 'No such file or directory'”\n"
     ]
    },
    {
     "name": "stdout",
     "output_type": "stream",
     "text": [
      "[1] 1\n",
      "[1] \"../tea/2/add_OGs_sets/N0.HOG0001499/add_OGs_set_num-1.txt\"\n"
     ]
    },
    {
     "name": "stderr",
     "output_type": "stream",
     "text": [
      "Warning message in file.create(missing_file):\n",
      "“cannot create file '../tea/2/add_OGs_sets/N0.HOG0001499/add_OGs_set_num-1.txt', reason 'No such file or directory'”\n"
     ]
    },
    {
     "name": "stdout",
     "output_type": "stream",
     "text": [
      "[1] \"N0.HOG0001512\"\n",
      "character(0)\n",
      "[1] 4\n",
      "[1] 4\n",
      "[1] \"../tea/2/add_OGs_sets/N0.HOG0001512/add_OGs_set_num-4.txt\"\n"
     ]
    },
    {
     "name": "stderr",
     "output_type": "stream",
     "text": [
      "Warning message in file.create(missing_file):\n",
      "“cannot create file '../tea/2/add_OGs_sets/N0.HOG0001512/add_OGs_set_num-4.txt', reason 'No such file or directory'”\n"
     ]
    },
    {
     "name": "stdout",
     "output_type": "stream",
     "text": [
      "[1] 3\n",
      "[1] \"../tea/2/add_OGs_sets/N0.HOG0001512/add_OGs_set_num-3.txt\"\n"
     ]
    },
    {
     "name": "stderr",
     "output_type": "stream",
     "text": [
      "Warning message in file.create(missing_file):\n",
      "“cannot create file '../tea/2/add_OGs_sets/N0.HOG0001512/add_OGs_set_num-3.txt', reason 'No such file or directory'”\n"
     ]
    },
    {
     "name": "stdout",
     "output_type": "stream",
     "text": [
      "[1] 2\n",
      "[1] \"../tea/2/add_OGs_sets/N0.HOG0001512/add_OGs_set_num-2.txt\"\n"
     ]
    },
    {
     "name": "stderr",
     "output_type": "stream",
     "text": [
      "Warning message in file.create(missing_file):\n",
      "“cannot create file '../tea/2/add_OGs_sets/N0.HOG0001512/add_OGs_set_num-2.txt', reason 'No such file or directory'”\n"
     ]
    },
    {
     "name": "stdout",
     "output_type": "stream",
     "text": [
      "[1] 1\n",
      "[1] \"../tea/2/add_OGs_sets/N0.HOG0001512/add_OGs_set_num-1.txt\"\n"
     ]
    },
    {
     "name": "stderr",
     "output_type": "stream",
     "text": [
      "Warning message in file.create(missing_file):\n",
      "“cannot create file '../tea/2/add_OGs_sets/N0.HOG0001512/add_OGs_set_num-1.txt', reason 'No such file or directory'”\n"
     ]
    },
    {
     "name": "stdout",
     "output_type": "stream",
     "text": [
      "[1] \"N0.HOG0001523\"\n",
      "character(0)\n",
      "[1] 4\n",
      "[1] 4\n",
      "[1] \"../tea/2/add_OGs_sets/N0.HOG0001523/add_OGs_set_num-4.txt\"\n"
     ]
    },
    {
     "name": "stderr",
     "output_type": "stream",
     "text": [
      "Warning message in file.create(missing_file):\n",
      "“cannot create file '../tea/2/add_OGs_sets/N0.HOG0001523/add_OGs_set_num-4.txt', reason 'No such file or directory'”\n"
     ]
    },
    {
     "name": "stdout",
     "output_type": "stream",
     "text": [
      "[1] 3\n",
      "[1] \"../tea/2/add_OGs_sets/N0.HOG0001523/add_OGs_set_num-3.txt\"\n"
     ]
    },
    {
     "name": "stderr",
     "output_type": "stream",
     "text": [
      "Warning message in file.create(missing_file):\n",
      "“cannot create file '../tea/2/add_OGs_sets/N0.HOG0001523/add_OGs_set_num-3.txt', reason 'No such file or directory'”\n"
     ]
    },
    {
     "name": "stdout",
     "output_type": "stream",
     "text": [
      "[1] 2\n",
      "[1] \"../tea/2/add_OGs_sets/N0.HOG0001523/add_OGs_set_num-2.txt\"\n"
     ]
    },
    {
     "name": "stderr",
     "output_type": "stream",
     "text": [
      "Warning message in file.create(missing_file):\n",
      "“cannot create file '../tea/2/add_OGs_sets/N0.HOG0001523/add_OGs_set_num-2.txt', reason 'No such file or directory'”\n"
     ]
    },
    {
     "name": "stdout",
     "output_type": "stream",
     "text": [
      "[1] 1\n",
      "[1] \"../tea/2/add_OGs_sets/N0.HOG0001523/add_OGs_set_num-1.txt\"\n"
     ]
    },
    {
     "name": "stderr",
     "output_type": "stream",
     "text": [
      "Warning message in file.create(missing_file):\n",
      "“cannot create file '../tea/2/add_OGs_sets/N0.HOG0001523/add_OGs_set_num-1.txt', reason 'No such file or directory'”\n"
     ]
    },
    {
     "name": "stdout",
     "output_type": "stream",
     "text": [
      "[1] \"N0.HOG0001681\"\n",
      "character(0)\n",
      "[1] 4\n",
      "[1] 4\n",
      "[1] \"../tea/2/add_OGs_sets/N0.HOG0001681/add_OGs_set_num-4.txt\"\n"
     ]
    },
    {
     "name": "stderr",
     "output_type": "stream",
     "text": [
      "Warning message in file.create(missing_file):\n",
      "“cannot create file '../tea/2/add_OGs_sets/N0.HOG0001681/add_OGs_set_num-4.txt', reason 'No such file or directory'”\n"
     ]
    },
    {
     "name": "stdout",
     "output_type": "stream",
     "text": [
      "[1] 3\n",
      "[1] \"../tea/2/add_OGs_sets/N0.HOG0001681/add_OGs_set_num-3.txt\"\n"
     ]
    },
    {
     "name": "stderr",
     "output_type": "stream",
     "text": [
      "Warning message in file.create(missing_file):\n",
      "“cannot create file '../tea/2/add_OGs_sets/N0.HOG0001681/add_OGs_set_num-3.txt', reason 'No such file or directory'”\n"
     ]
    },
    {
     "name": "stdout",
     "output_type": "stream",
     "text": [
      "[1] 2\n",
      "[1] \"../tea/2/add_OGs_sets/N0.HOG0001681/add_OGs_set_num-2.txt\"\n"
     ]
    },
    {
     "name": "stderr",
     "output_type": "stream",
     "text": [
      "Warning message in file.create(missing_file):\n",
      "“cannot create file '../tea/2/add_OGs_sets/N0.HOG0001681/add_OGs_set_num-2.txt', reason 'No such file or directory'”\n"
     ]
    },
    {
     "name": "stdout",
     "output_type": "stream",
     "text": [
      "[1] 1\n",
      "[1] \"../tea/2/add_OGs_sets/N0.HOG0001681/add_OGs_set_num-1.txt\"\n"
     ]
    },
    {
     "name": "stderr",
     "output_type": "stream",
     "text": [
      "Warning message in file.create(missing_file):\n",
      "“cannot create file '../tea/2/add_OGs_sets/N0.HOG0001681/add_OGs_set_num-1.txt', reason 'No such file or directory'”\n"
     ]
    },
    {
     "name": "stdout",
     "output_type": "stream",
     "text": [
      "[1] \"N0.HOG0001709\"\n",
      "character(0)\n",
      "[1] 4\n",
      "[1] 4\n",
      "[1] \"../tea/2/add_OGs_sets/N0.HOG0001709/add_OGs_set_num-4.txt\"\n"
     ]
    },
    {
     "name": "stderr",
     "output_type": "stream",
     "text": [
      "Warning message in file.create(missing_file):\n",
      "“cannot create file '../tea/2/add_OGs_sets/N0.HOG0001709/add_OGs_set_num-4.txt', reason 'No such file or directory'”\n"
     ]
    },
    {
     "name": "stdout",
     "output_type": "stream",
     "text": [
      "[1] 3\n",
      "[1] \"../tea/2/add_OGs_sets/N0.HOG0001709/add_OGs_set_num-3.txt\"\n"
     ]
    },
    {
     "name": "stderr",
     "output_type": "stream",
     "text": [
      "Warning message in file.create(missing_file):\n",
      "“cannot create file '../tea/2/add_OGs_sets/N0.HOG0001709/add_OGs_set_num-3.txt', reason 'No such file or directory'”\n"
     ]
    },
    {
     "name": "stdout",
     "output_type": "stream",
     "text": [
      "[1] 2\n",
      "[1] \"../tea/2/add_OGs_sets/N0.HOG0001709/add_OGs_set_num-2.txt\"\n"
     ]
    },
    {
     "name": "stderr",
     "output_type": "stream",
     "text": [
      "Warning message in file.create(missing_file):\n",
      "“cannot create file '../tea/2/add_OGs_sets/N0.HOG0001709/add_OGs_set_num-2.txt', reason 'No such file or directory'”\n"
     ]
    },
    {
     "name": "stdout",
     "output_type": "stream",
     "text": [
      "[1] 1\n",
      "[1] \"../tea/2/add_OGs_sets/N0.HOG0001709/add_OGs_set_num-1.txt\"\n"
     ]
    },
    {
     "name": "stderr",
     "output_type": "stream",
     "text": [
      "Warning message in file.create(missing_file):\n",
      "“cannot create file '../tea/2/add_OGs_sets/N0.HOG0001709/add_OGs_set_num-1.txt', reason 'No such file or directory'”\n"
     ]
    },
    {
     "name": "stdout",
     "output_type": "stream",
     "text": [
      "[1] \"N0.HOG0001714\"\n",
      "character(0)\n",
      "[1] 4\n",
      "[1] 4\n",
      "[1] \"../tea/2/add_OGs_sets/N0.HOG0001714/add_OGs_set_num-4.txt\"\n"
     ]
    },
    {
     "name": "stderr",
     "output_type": "stream",
     "text": [
      "Warning message in file.create(missing_file):\n",
      "“cannot create file '../tea/2/add_OGs_sets/N0.HOG0001714/add_OGs_set_num-4.txt', reason 'No such file or directory'”\n"
     ]
    },
    {
     "name": "stdout",
     "output_type": "stream",
     "text": [
      "[1] 3\n",
      "[1] \"../tea/2/add_OGs_sets/N0.HOG0001714/add_OGs_set_num-3.txt\"\n"
     ]
    },
    {
     "name": "stderr",
     "output_type": "stream",
     "text": [
      "Warning message in file.create(missing_file):\n",
      "“cannot create file '../tea/2/add_OGs_sets/N0.HOG0001714/add_OGs_set_num-3.txt', reason 'No such file or directory'”\n"
     ]
    },
    {
     "name": "stdout",
     "output_type": "stream",
     "text": [
      "[1] 2\n",
      "[1] \"../tea/2/add_OGs_sets/N0.HOG0001714/add_OGs_set_num-2.txt\"\n"
     ]
    },
    {
     "name": "stderr",
     "output_type": "stream",
     "text": [
      "Warning message in file.create(missing_file):\n",
      "“cannot create file '../tea/2/add_OGs_sets/N0.HOG0001714/add_OGs_set_num-2.txt', reason 'No such file or directory'”\n"
     ]
    },
    {
     "name": "stdout",
     "output_type": "stream",
     "text": [
      "[1] 1\n",
      "[1] \"../tea/2/add_OGs_sets/N0.HOG0001714/add_OGs_set_num-1.txt\"\n"
     ]
    },
    {
     "name": "stderr",
     "output_type": "stream",
     "text": [
      "Warning message in file.create(missing_file):\n",
      "“cannot create file '../tea/2/add_OGs_sets/N0.HOG0001714/add_OGs_set_num-1.txt', reason 'No such file or directory'”\n"
     ]
    },
    {
     "name": "stdout",
     "output_type": "stream",
     "text": [
      "[1] \"N0.HOG0001716\"\n",
      "character(0)\n",
      "[1] 4\n",
      "[1] 4\n",
      "[1] \"../tea/2/add_OGs_sets/N0.HOG0001716/add_OGs_set_num-4.txt\"\n"
     ]
    },
    {
     "name": "stderr",
     "output_type": "stream",
     "text": [
      "Warning message in file.create(missing_file):\n",
      "“cannot create file '../tea/2/add_OGs_sets/N0.HOG0001716/add_OGs_set_num-4.txt', reason 'No such file or directory'”\n"
     ]
    },
    {
     "name": "stdout",
     "output_type": "stream",
     "text": [
      "[1] 3\n",
      "[1] \"../tea/2/add_OGs_sets/N0.HOG0001716/add_OGs_set_num-3.txt\"\n"
     ]
    },
    {
     "name": "stderr",
     "output_type": "stream",
     "text": [
      "Warning message in file.create(missing_file):\n",
      "“cannot create file '../tea/2/add_OGs_sets/N0.HOG0001716/add_OGs_set_num-3.txt', reason 'No such file or directory'”\n"
     ]
    },
    {
     "name": "stdout",
     "output_type": "stream",
     "text": [
      "[1] 2\n",
      "[1] \"../tea/2/add_OGs_sets/N0.HOG0001716/add_OGs_set_num-2.txt\"\n"
     ]
    },
    {
     "name": "stderr",
     "output_type": "stream",
     "text": [
      "Warning message in file.create(missing_file):\n",
      "“cannot create file '../tea/2/add_OGs_sets/N0.HOG0001716/add_OGs_set_num-2.txt', reason 'No such file or directory'”\n"
     ]
    },
    {
     "name": "stdout",
     "output_type": "stream",
     "text": [
      "[1] 1\n",
      "[1] \"../tea/2/add_OGs_sets/N0.HOG0001716/add_OGs_set_num-1.txt\"\n"
     ]
    },
    {
     "name": "stderr",
     "output_type": "stream",
     "text": [
      "Warning message in file.create(missing_file):\n",
      "“cannot create file '../tea/2/add_OGs_sets/N0.HOG0001716/add_OGs_set_num-1.txt', reason 'No such file or directory'”\n"
     ]
    },
    {
     "name": "stdout",
     "output_type": "stream",
     "text": [
      "[1] \"N0.HOG0001721\"\n",
      "character(0)\n",
      "[1] 4\n",
      "[1] 4\n",
      "[1] \"../tea/2/add_OGs_sets/N0.HOG0001721/add_OGs_set_num-4.txt\"\n"
     ]
    },
    {
     "name": "stderr",
     "output_type": "stream",
     "text": [
      "Warning message in file.create(missing_file):\n",
      "“cannot create file '../tea/2/add_OGs_sets/N0.HOG0001721/add_OGs_set_num-4.txt', reason 'No such file or directory'”\n"
     ]
    },
    {
     "name": "stdout",
     "output_type": "stream",
     "text": [
      "[1] 3\n",
      "[1] \"../tea/2/add_OGs_sets/N0.HOG0001721/add_OGs_set_num-3.txt\"\n"
     ]
    },
    {
     "name": "stderr",
     "output_type": "stream",
     "text": [
      "Warning message in file.create(missing_file):\n",
      "“cannot create file '../tea/2/add_OGs_sets/N0.HOG0001721/add_OGs_set_num-3.txt', reason 'No such file or directory'”\n"
     ]
    },
    {
     "name": "stdout",
     "output_type": "stream",
     "text": [
      "[1] 2\n",
      "[1] \"../tea/2/add_OGs_sets/N0.HOG0001721/add_OGs_set_num-2.txt\"\n"
     ]
    },
    {
     "name": "stderr",
     "output_type": "stream",
     "text": [
      "Warning message in file.create(missing_file):\n",
      "“cannot create file '../tea/2/add_OGs_sets/N0.HOG0001721/add_OGs_set_num-2.txt', reason 'No such file or directory'”\n"
     ]
    },
    {
     "name": "stdout",
     "output_type": "stream",
     "text": [
      "[1] 1\n",
      "[1] \"../tea/2/add_OGs_sets/N0.HOG0001721/add_OGs_set_num-1.txt\"\n"
     ]
    },
    {
     "name": "stderr",
     "output_type": "stream",
     "text": [
      "Warning message in file.create(missing_file):\n",
      "“cannot create file '../tea/2/add_OGs_sets/N0.HOG0001721/add_OGs_set_num-1.txt', reason 'No such file or directory'”\n"
     ]
    },
    {
     "name": "stdout",
     "output_type": "stream",
     "text": [
      "[1] \"N0.HOG0001726\"\n",
      "character(0)\n",
      "[1] 4\n",
      "[1] 4\n",
      "[1] \"../tea/2/add_OGs_sets/N0.HOG0001726/add_OGs_set_num-4.txt\"\n"
     ]
    },
    {
     "name": "stderr",
     "output_type": "stream",
     "text": [
      "Warning message in file.create(missing_file):\n",
      "“cannot create file '../tea/2/add_OGs_sets/N0.HOG0001726/add_OGs_set_num-4.txt', reason 'No such file or directory'”\n"
     ]
    },
    {
     "name": "stdout",
     "output_type": "stream",
     "text": [
      "[1] 3\n",
      "[1] \"../tea/2/add_OGs_sets/N0.HOG0001726/add_OGs_set_num-3.txt\"\n"
     ]
    },
    {
     "name": "stderr",
     "output_type": "stream",
     "text": [
      "Warning message in file.create(missing_file):\n",
      "“cannot create file '../tea/2/add_OGs_sets/N0.HOG0001726/add_OGs_set_num-3.txt', reason 'No such file or directory'”\n"
     ]
    },
    {
     "name": "stdout",
     "output_type": "stream",
     "text": [
      "[1] 2\n",
      "[1] \"../tea/2/add_OGs_sets/N0.HOG0001726/add_OGs_set_num-2.txt\"\n"
     ]
    },
    {
     "name": "stderr",
     "output_type": "stream",
     "text": [
      "Warning message in file.create(missing_file):\n",
      "“cannot create file '../tea/2/add_OGs_sets/N0.HOG0001726/add_OGs_set_num-2.txt', reason 'No such file or directory'”\n"
     ]
    },
    {
     "name": "stdout",
     "output_type": "stream",
     "text": [
      "[1] 1\n",
      "[1] \"../tea/2/add_OGs_sets/N0.HOG0001726/add_OGs_set_num-1.txt\"\n"
     ]
    },
    {
     "name": "stderr",
     "output_type": "stream",
     "text": [
      "Warning message in file.create(missing_file):\n",
      "“cannot create file '../tea/2/add_OGs_sets/N0.HOG0001726/add_OGs_set_num-1.txt', reason 'No such file or directory'”\n"
     ]
    },
    {
     "name": "stdout",
     "output_type": "stream",
     "text": [
      "[1] \"N0.HOG0001729\"\n",
      "character(0)\n",
      "[1] 4\n",
      "[1] 4\n",
      "[1] \"../tea/2/add_OGs_sets/N0.HOG0001729/add_OGs_set_num-4.txt\"\n"
     ]
    },
    {
     "name": "stderr",
     "output_type": "stream",
     "text": [
      "Warning message in file.create(missing_file):\n",
      "“cannot create file '../tea/2/add_OGs_sets/N0.HOG0001729/add_OGs_set_num-4.txt', reason 'No such file or directory'”\n"
     ]
    },
    {
     "name": "stdout",
     "output_type": "stream",
     "text": [
      "[1] 3\n",
      "[1] \"../tea/2/add_OGs_sets/N0.HOG0001729/add_OGs_set_num-3.txt\"\n"
     ]
    },
    {
     "name": "stderr",
     "output_type": "stream",
     "text": [
      "Warning message in file.create(missing_file):\n",
      "“cannot create file '../tea/2/add_OGs_sets/N0.HOG0001729/add_OGs_set_num-3.txt', reason 'No such file or directory'”\n"
     ]
    },
    {
     "name": "stdout",
     "output_type": "stream",
     "text": [
      "[1] 2\n",
      "[1] \"../tea/2/add_OGs_sets/N0.HOG0001729/add_OGs_set_num-2.txt\"\n"
     ]
    },
    {
     "name": "stderr",
     "output_type": "stream",
     "text": [
      "Warning message in file.create(missing_file):\n",
      "“cannot create file '../tea/2/add_OGs_sets/N0.HOG0001729/add_OGs_set_num-2.txt', reason 'No such file or directory'”\n"
     ]
    },
    {
     "name": "stdout",
     "output_type": "stream",
     "text": [
      "[1] 1\n",
      "[1] \"../tea/2/add_OGs_sets/N0.HOG0001729/add_OGs_set_num-1.txt\"\n"
     ]
    },
    {
     "name": "stderr",
     "output_type": "stream",
     "text": [
      "Warning message in file.create(missing_file):\n",
      "“cannot create file '../tea/2/add_OGs_sets/N0.HOG0001729/add_OGs_set_num-1.txt', reason 'No such file or directory'”\n"
     ]
    },
    {
     "name": "stdout",
     "output_type": "stream",
     "text": [
      "[1] \"N0.HOG0001730\"\n",
      "character(0)\n",
      "[1] 4\n",
      "[1] 4\n",
      "[1] \"../tea/2/add_OGs_sets/N0.HOG0001730/add_OGs_set_num-4.txt\"\n"
     ]
    },
    {
     "name": "stderr",
     "output_type": "stream",
     "text": [
      "Warning message in file.create(missing_file):\n",
      "“cannot create file '../tea/2/add_OGs_sets/N0.HOG0001730/add_OGs_set_num-4.txt', reason 'No such file or directory'”\n"
     ]
    },
    {
     "name": "stdout",
     "output_type": "stream",
     "text": [
      "[1] 3\n",
      "[1] \"../tea/2/add_OGs_sets/N0.HOG0001730/add_OGs_set_num-3.txt\"\n"
     ]
    },
    {
     "name": "stderr",
     "output_type": "stream",
     "text": [
      "Warning message in file.create(missing_file):\n",
      "“cannot create file '../tea/2/add_OGs_sets/N0.HOG0001730/add_OGs_set_num-3.txt', reason 'No such file or directory'”\n"
     ]
    },
    {
     "name": "stdout",
     "output_type": "stream",
     "text": [
      "[1] 2\n",
      "[1] \"../tea/2/add_OGs_sets/N0.HOG0001730/add_OGs_set_num-2.txt\"\n"
     ]
    },
    {
     "name": "stderr",
     "output_type": "stream",
     "text": [
      "Warning message in file.create(missing_file):\n",
      "“cannot create file '../tea/2/add_OGs_sets/N0.HOG0001730/add_OGs_set_num-2.txt', reason 'No such file or directory'”\n"
     ]
    },
    {
     "name": "stdout",
     "output_type": "stream",
     "text": [
      "[1] 1\n",
      "[1] \"../tea/2/add_OGs_sets/N0.HOG0001730/add_OGs_set_num-1.txt\"\n"
     ]
    },
    {
     "name": "stderr",
     "output_type": "stream",
     "text": [
      "Warning message in file.create(missing_file):\n",
      "“cannot create file '../tea/2/add_OGs_sets/N0.HOG0001730/add_OGs_set_num-1.txt', reason 'No such file or directory'”\n"
     ]
    },
    {
     "name": "stdout",
     "output_type": "stream",
     "text": [
      "[1] \"N0.HOG0001732\"\n",
      "character(0)\n",
      "[1] 4\n",
      "[1] 4\n",
      "[1] \"../tea/2/add_OGs_sets/N0.HOG0001732/add_OGs_set_num-4.txt\"\n"
     ]
    },
    {
     "name": "stderr",
     "output_type": "stream",
     "text": [
      "Warning message in file.create(missing_file):\n",
      "“cannot create file '../tea/2/add_OGs_sets/N0.HOG0001732/add_OGs_set_num-4.txt', reason 'No such file or directory'”\n"
     ]
    },
    {
     "name": "stdout",
     "output_type": "stream",
     "text": [
      "[1] 3\n",
      "[1] \"../tea/2/add_OGs_sets/N0.HOG0001732/add_OGs_set_num-3.txt\"\n"
     ]
    },
    {
     "name": "stderr",
     "output_type": "stream",
     "text": [
      "Warning message in file.create(missing_file):\n",
      "“cannot create file '../tea/2/add_OGs_sets/N0.HOG0001732/add_OGs_set_num-3.txt', reason 'No such file or directory'”\n"
     ]
    },
    {
     "name": "stdout",
     "output_type": "stream",
     "text": [
      "[1] 2\n",
      "[1] \"../tea/2/add_OGs_sets/N0.HOG0001732/add_OGs_set_num-2.txt\"\n"
     ]
    },
    {
     "name": "stderr",
     "output_type": "stream",
     "text": [
      "Warning message in file.create(missing_file):\n",
      "“cannot create file '../tea/2/add_OGs_sets/N0.HOG0001732/add_OGs_set_num-2.txt', reason 'No such file or directory'”\n"
     ]
    },
    {
     "name": "stdout",
     "output_type": "stream",
     "text": [
      "[1] 1\n",
      "[1] \"../tea/2/add_OGs_sets/N0.HOG0001732/add_OGs_set_num-1.txt\"\n"
     ]
    },
    {
     "name": "stderr",
     "output_type": "stream",
     "text": [
      "Warning message in file.create(missing_file):\n",
      "“cannot create file '../tea/2/add_OGs_sets/N0.HOG0001732/add_OGs_set_num-1.txt', reason 'No such file or directory'”\n"
     ]
    },
    {
     "name": "stdout",
     "output_type": "stream",
     "text": [
      "[1] \"N0.HOG0001738\"\n",
      "character(0)\n",
      "[1] 4\n",
      "[1] 4\n",
      "[1] \"../tea/2/add_OGs_sets/N0.HOG0001738/add_OGs_set_num-4.txt\"\n"
     ]
    },
    {
     "name": "stderr",
     "output_type": "stream",
     "text": [
      "Warning message in file.create(missing_file):\n",
      "“cannot create file '../tea/2/add_OGs_sets/N0.HOG0001738/add_OGs_set_num-4.txt', reason 'No such file or directory'”\n"
     ]
    },
    {
     "name": "stdout",
     "output_type": "stream",
     "text": [
      "[1] 3\n",
      "[1] \"../tea/2/add_OGs_sets/N0.HOG0001738/add_OGs_set_num-3.txt\"\n"
     ]
    },
    {
     "name": "stderr",
     "output_type": "stream",
     "text": [
      "Warning message in file.create(missing_file):\n",
      "“cannot create file '../tea/2/add_OGs_sets/N0.HOG0001738/add_OGs_set_num-3.txt', reason 'No such file or directory'”\n"
     ]
    },
    {
     "name": "stdout",
     "output_type": "stream",
     "text": [
      "[1] 2\n",
      "[1] \"../tea/2/add_OGs_sets/N0.HOG0001738/add_OGs_set_num-2.txt\"\n"
     ]
    },
    {
     "name": "stderr",
     "output_type": "stream",
     "text": [
      "Warning message in file.create(missing_file):\n",
      "“cannot create file '../tea/2/add_OGs_sets/N0.HOG0001738/add_OGs_set_num-2.txt', reason 'No such file or directory'”\n"
     ]
    },
    {
     "name": "stdout",
     "output_type": "stream",
     "text": [
      "[1] 1\n",
      "[1] \"../tea/2/add_OGs_sets/N0.HOG0001738/add_OGs_set_num-1.txt\"\n"
     ]
    },
    {
     "name": "stderr",
     "output_type": "stream",
     "text": [
      "Warning message in file.create(missing_file):\n",
      "“cannot create file '../tea/2/add_OGs_sets/N0.HOG0001738/add_OGs_set_num-1.txt', reason 'No such file or directory'”\n"
     ]
    },
    {
     "name": "stdout",
     "output_type": "stream",
     "text": [
      "[1] \"N0.HOG0001739\"\n",
      "character(0)\n",
      "[1] 4\n",
      "[1] 4\n",
      "[1] \"../tea/2/add_OGs_sets/N0.HOG0001739/add_OGs_set_num-4.txt\"\n"
     ]
    },
    {
     "name": "stderr",
     "output_type": "stream",
     "text": [
      "Warning message in file.create(missing_file):\n",
      "“cannot create file '../tea/2/add_OGs_sets/N0.HOG0001739/add_OGs_set_num-4.txt', reason 'No such file or directory'”\n"
     ]
    },
    {
     "name": "stdout",
     "output_type": "stream",
     "text": [
      "[1] 3\n",
      "[1] \"../tea/2/add_OGs_sets/N0.HOG0001739/add_OGs_set_num-3.txt\"\n"
     ]
    },
    {
     "name": "stderr",
     "output_type": "stream",
     "text": [
      "Warning message in file.create(missing_file):\n",
      "“cannot create file '../tea/2/add_OGs_sets/N0.HOG0001739/add_OGs_set_num-3.txt', reason 'No such file or directory'”\n"
     ]
    },
    {
     "name": "stdout",
     "output_type": "stream",
     "text": [
      "[1] 2\n",
      "[1] \"../tea/2/add_OGs_sets/N0.HOG0001739/add_OGs_set_num-2.txt\"\n"
     ]
    },
    {
     "name": "stderr",
     "output_type": "stream",
     "text": [
      "Warning message in file.create(missing_file):\n",
      "“cannot create file '../tea/2/add_OGs_sets/N0.HOG0001739/add_OGs_set_num-2.txt', reason 'No such file or directory'”\n"
     ]
    },
    {
     "name": "stdout",
     "output_type": "stream",
     "text": [
      "[1] 1\n",
      "[1] \"../tea/2/add_OGs_sets/N0.HOG0001739/add_OGs_set_num-1.txt\"\n"
     ]
    },
    {
     "name": "stderr",
     "output_type": "stream",
     "text": [
      "Warning message in file.create(missing_file):\n",
      "“cannot create file '../tea/2/add_OGs_sets/N0.HOG0001739/add_OGs_set_num-1.txt', reason 'No such file or directory'”\n"
     ]
    },
    {
     "name": "stdout",
     "output_type": "stream",
     "text": [
      "[1] \"N0.HOG0001918\"\n",
      "character(0)\n",
      "[1] 4\n",
      "[1] 4\n",
      "[1] \"../tea/2/add_OGs_sets/N0.HOG0001918/add_OGs_set_num-4.txt\"\n"
     ]
    },
    {
     "name": "stderr",
     "output_type": "stream",
     "text": [
      "Warning message in file.create(missing_file):\n",
      "“cannot create file '../tea/2/add_OGs_sets/N0.HOG0001918/add_OGs_set_num-4.txt', reason 'No such file or directory'”\n"
     ]
    },
    {
     "name": "stdout",
     "output_type": "stream",
     "text": [
      "[1] 3\n",
      "[1] \"../tea/2/add_OGs_sets/N0.HOG0001918/add_OGs_set_num-3.txt\"\n"
     ]
    },
    {
     "name": "stderr",
     "output_type": "stream",
     "text": [
      "Warning message in file.create(missing_file):\n",
      "“cannot create file '../tea/2/add_OGs_sets/N0.HOG0001918/add_OGs_set_num-3.txt', reason 'No such file or directory'”\n"
     ]
    },
    {
     "name": "stdout",
     "output_type": "stream",
     "text": [
      "[1] 2\n",
      "[1] \"../tea/2/add_OGs_sets/N0.HOG0001918/add_OGs_set_num-2.txt\"\n"
     ]
    },
    {
     "name": "stderr",
     "output_type": "stream",
     "text": [
      "Warning message in file.create(missing_file):\n",
      "“cannot create file '../tea/2/add_OGs_sets/N0.HOG0001918/add_OGs_set_num-2.txt', reason 'No such file or directory'”\n"
     ]
    },
    {
     "name": "stdout",
     "output_type": "stream",
     "text": [
      "[1] 1\n",
      "[1] \"../tea/2/add_OGs_sets/N0.HOG0001918/add_OGs_set_num-1.txt\"\n"
     ]
    },
    {
     "name": "stderr",
     "output_type": "stream",
     "text": [
      "Warning message in file.create(missing_file):\n",
      "“cannot create file '../tea/2/add_OGs_sets/N0.HOG0001918/add_OGs_set_num-1.txt', reason 'No such file or directory'”\n"
     ]
    },
    {
     "name": "stdout",
     "output_type": "stream",
     "text": [
      "[1] \"N0.HOG0001920\"\n",
      "character(0)\n",
      "[1] 4\n",
      "[1] 4\n",
      "[1] \"../tea/2/add_OGs_sets/N0.HOG0001920/add_OGs_set_num-4.txt\"\n"
     ]
    },
    {
     "name": "stderr",
     "output_type": "stream",
     "text": [
      "Warning message in file.create(missing_file):\n",
      "“cannot create file '../tea/2/add_OGs_sets/N0.HOG0001920/add_OGs_set_num-4.txt', reason 'No such file or directory'”\n"
     ]
    },
    {
     "name": "stdout",
     "output_type": "stream",
     "text": [
      "[1] 3\n",
      "[1] \"../tea/2/add_OGs_sets/N0.HOG0001920/add_OGs_set_num-3.txt\"\n"
     ]
    },
    {
     "name": "stderr",
     "output_type": "stream",
     "text": [
      "Warning message in file.create(missing_file):\n",
      "“cannot create file '../tea/2/add_OGs_sets/N0.HOG0001920/add_OGs_set_num-3.txt', reason 'No such file or directory'”\n"
     ]
    },
    {
     "name": "stdout",
     "output_type": "stream",
     "text": [
      "[1] 2\n",
      "[1] \"../tea/2/add_OGs_sets/N0.HOG0001920/add_OGs_set_num-2.txt\"\n"
     ]
    },
    {
     "name": "stderr",
     "output_type": "stream",
     "text": [
      "Warning message in file.create(missing_file):\n",
      "“cannot create file '../tea/2/add_OGs_sets/N0.HOG0001920/add_OGs_set_num-2.txt', reason 'No such file or directory'”\n"
     ]
    },
    {
     "name": "stdout",
     "output_type": "stream",
     "text": [
      "[1] 1\n",
      "[1] \"../tea/2/add_OGs_sets/N0.HOG0001920/add_OGs_set_num-1.txt\"\n"
     ]
    },
    {
     "name": "stderr",
     "output_type": "stream",
     "text": [
      "Warning message in file.create(missing_file):\n",
      "“cannot create file '../tea/2/add_OGs_sets/N0.HOG0001920/add_OGs_set_num-1.txt', reason 'No such file or directory'”\n"
     ]
    },
    {
     "name": "stdout",
     "output_type": "stream",
     "text": [
      "[1] \"N0.HOG0001932\"\n",
      "character(0)\n",
      "[1] 4\n",
      "[1] 4\n",
      "[1] \"../tea/2/add_OGs_sets/N0.HOG0001932/add_OGs_set_num-4.txt\"\n"
     ]
    },
    {
     "name": "stderr",
     "output_type": "stream",
     "text": [
      "Warning message in file.create(missing_file):\n",
      "“cannot create file '../tea/2/add_OGs_sets/N0.HOG0001932/add_OGs_set_num-4.txt', reason 'No such file or directory'”\n"
     ]
    },
    {
     "name": "stdout",
     "output_type": "stream",
     "text": [
      "[1] 3\n",
      "[1] \"../tea/2/add_OGs_sets/N0.HOG0001932/add_OGs_set_num-3.txt\"\n"
     ]
    },
    {
     "name": "stderr",
     "output_type": "stream",
     "text": [
      "Warning message in file.create(missing_file):\n",
      "“cannot create file '../tea/2/add_OGs_sets/N0.HOG0001932/add_OGs_set_num-3.txt', reason 'No such file or directory'”\n"
     ]
    },
    {
     "name": "stdout",
     "output_type": "stream",
     "text": [
      "[1] 2\n",
      "[1] \"../tea/2/add_OGs_sets/N0.HOG0001932/add_OGs_set_num-2.txt\"\n"
     ]
    },
    {
     "name": "stderr",
     "output_type": "stream",
     "text": [
      "Warning message in file.create(missing_file):\n",
      "“cannot create file '../tea/2/add_OGs_sets/N0.HOG0001932/add_OGs_set_num-2.txt', reason 'No such file or directory'”\n"
     ]
    },
    {
     "name": "stdout",
     "output_type": "stream",
     "text": [
      "[1] 1\n",
      "[1] \"../tea/2/add_OGs_sets/N0.HOG0001932/add_OGs_set_num-1.txt\"\n"
     ]
    },
    {
     "name": "stderr",
     "output_type": "stream",
     "text": [
      "Warning message in file.create(missing_file):\n",
      "“cannot create file '../tea/2/add_OGs_sets/N0.HOG0001932/add_OGs_set_num-1.txt', reason 'No such file or directory'”\n"
     ]
    },
    {
     "name": "stdout",
     "output_type": "stream",
     "text": [
      "[1] \"N0.HOG0001941\"\n",
      "character(0)\n",
      "[1] 4\n",
      "[1] 4\n",
      "[1] \"../tea/2/add_OGs_sets/N0.HOG0001941/add_OGs_set_num-4.txt\"\n"
     ]
    },
    {
     "name": "stderr",
     "output_type": "stream",
     "text": [
      "Warning message in file.create(missing_file):\n",
      "“cannot create file '../tea/2/add_OGs_sets/N0.HOG0001941/add_OGs_set_num-4.txt', reason 'No such file or directory'”\n"
     ]
    },
    {
     "name": "stdout",
     "output_type": "stream",
     "text": [
      "[1] 3\n",
      "[1] \"../tea/2/add_OGs_sets/N0.HOG0001941/add_OGs_set_num-3.txt\"\n"
     ]
    },
    {
     "name": "stderr",
     "output_type": "stream",
     "text": [
      "Warning message in file.create(missing_file):\n",
      "“cannot create file '../tea/2/add_OGs_sets/N0.HOG0001941/add_OGs_set_num-3.txt', reason 'No such file or directory'”\n"
     ]
    },
    {
     "name": "stdout",
     "output_type": "stream",
     "text": [
      "[1] 2\n",
      "[1] \"../tea/2/add_OGs_sets/N0.HOG0001941/add_OGs_set_num-2.txt\"\n"
     ]
    },
    {
     "name": "stderr",
     "output_type": "stream",
     "text": [
      "Warning message in file.create(missing_file):\n",
      "“cannot create file '../tea/2/add_OGs_sets/N0.HOG0001941/add_OGs_set_num-2.txt', reason 'No such file or directory'”\n"
     ]
    },
    {
     "name": "stdout",
     "output_type": "stream",
     "text": [
      "[1] 1\n",
      "[1] \"../tea/2/add_OGs_sets/N0.HOG0001941/add_OGs_set_num-1.txt\"\n"
     ]
    },
    {
     "name": "stderr",
     "output_type": "stream",
     "text": [
      "Warning message in file.create(missing_file):\n",
      "“cannot create file '../tea/2/add_OGs_sets/N0.HOG0001941/add_OGs_set_num-1.txt', reason 'No such file or directory'”\n"
     ]
    },
    {
     "name": "stdout",
     "output_type": "stream",
     "text": [
      "[1] \"N0.HOG0001956\"\n",
      "character(0)\n",
      "[1] 4\n",
      "[1] 4\n",
      "[1] \"../tea/2/add_OGs_sets/N0.HOG0001956/add_OGs_set_num-4.txt\"\n"
     ]
    },
    {
     "name": "stderr",
     "output_type": "stream",
     "text": [
      "Warning message in file.create(missing_file):\n",
      "“cannot create file '../tea/2/add_OGs_sets/N0.HOG0001956/add_OGs_set_num-4.txt', reason 'No such file or directory'”\n"
     ]
    },
    {
     "name": "stdout",
     "output_type": "stream",
     "text": [
      "[1] 3\n",
      "[1] \"../tea/2/add_OGs_sets/N0.HOG0001956/add_OGs_set_num-3.txt\"\n"
     ]
    },
    {
     "name": "stderr",
     "output_type": "stream",
     "text": [
      "Warning message in file.create(missing_file):\n",
      "“cannot create file '../tea/2/add_OGs_sets/N0.HOG0001956/add_OGs_set_num-3.txt', reason 'No such file or directory'”\n"
     ]
    },
    {
     "name": "stdout",
     "output_type": "stream",
     "text": [
      "[1] 2\n",
      "[1] \"../tea/2/add_OGs_sets/N0.HOG0001956/add_OGs_set_num-2.txt\"\n"
     ]
    },
    {
     "name": "stderr",
     "output_type": "stream",
     "text": [
      "Warning message in file.create(missing_file):\n",
      "“cannot create file '../tea/2/add_OGs_sets/N0.HOG0001956/add_OGs_set_num-2.txt', reason 'No such file or directory'”\n"
     ]
    },
    {
     "name": "stdout",
     "output_type": "stream",
     "text": [
      "[1] 1\n",
      "[1] \"../tea/2/add_OGs_sets/N0.HOG0001956/add_OGs_set_num-1.txt\"\n"
     ]
    },
    {
     "name": "stderr",
     "output_type": "stream",
     "text": [
      "Warning message in file.create(missing_file):\n",
      "“cannot create file '../tea/2/add_OGs_sets/N0.HOG0001956/add_OGs_set_num-1.txt', reason 'No such file or directory'”\n"
     ]
    },
    {
     "name": "stdout",
     "output_type": "stream",
     "text": [
      "[1] \"N0.HOG0001957\"\n",
      "character(0)\n",
      "[1] 4\n",
      "[1] 4\n",
      "[1] \"../tea/2/add_OGs_sets/N0.HOG0001957/add_OGs_set_num-4.txt\"\n"
     ]
    },
    {
     "name": "stderr",
     "output_type": "stream",
     "text": [
      "Warning message in file.create(missing_file):\n",
      "“cannot create file '../tea/2/add_OGs_sets/N0.HOG0001957/add_OGs_set_num-4.txt', reason 'No such file or directory'”\n"
     ]
    },
    {
     "name": "stdout",
     "output_type": "stream",
     "text": [
      "[1] 3\n",
      "[1] \"../tea/2/add_OGs_sets/N0.HOG0001957/add_OGs_set_num-3.txt\"\n"
     ]
    },
    {
     "name": "stderr",
     "output_type": "stream",
     "text": [
      "Warning message in file.create(missing_file):\n",
      "“cannot create file '../tea/2/add_OGs_sets/N0.HOG0001957/add_OGs_set_num-3.txt', reason 'No such file or directory'”\n"
     ]
    },
    {
     "name": "stdout",
     "output_type": "stream",
     "text": [
      "[1] 2\n",
      "[1] \"../tea/2/add_OGs_sets/N0.HOG0001957/add_OGs_set_num-2.txt\"\n"
     ]
    },
    {
     "name": "stderr",
     "output_type": "stream",
     "text": [
      "Warning message in file.create(missing_file):\n",
      "“cannot create file '../tea/2/add_OGs_sets/N0.HOG0001957/add_OGs_set_num-2.txt', reason 'No such file or directory'”\n"
     ]
    },
    {
     "name": "stdout",
     "output_type": "stream",
     "text": [
      "[1] 1\n",
      "[1] \"../tea/2/add_OGs_sets/N0.HOG0001957/add_OGs_set_num-1.txt\"\n"
     ]
    },
    {
     "name": "stderr",
     "output_type": "stream",
     "text": [
      "Warning message in file.create(missing_file):\n",
      "“cannot create file '../tea/2/add_OGs_sets/N0.HOG0001957/add_OGs_set_num-1.txt', reason 'No such file or directory'”\n"
     ]
    },
    {
     "name": "stdout",
     "output_type": "stream",
     "text": [
      "[1] \"N0.HOG0001962\"\n",
      "character(0)\n",
      "[1] 4\n",
      "[1] 4\n",
      "[1] \"../tea/2/add_OGs_sets/N0.HOG0001962/add_OGs_set_num-4.txt\"\n"
     ]
    },
    {
     "name": "stderr",
     "output_type": "stream",
     "text": [
      "Warning message in file.create(missing_file):\n",
      "“cannot create file '../tea/2/add_OGs_sets/N0.HOG0001962/add_OGs_set_num-4.txt', reason 'No such file or directory'”\n"
     ]
    },
    {
     "name": "stdout",
     "output_type": "stream",
     "text": [
      "[1] 3\n",
      "[1] \"../tea/2/add_OGs_sets/N0.HOG0001962/add_OGs_set_num-3.txt\"\n"
     ]
    },
    {
     "name": "stderr",
     "output_type": "stream",
     "text": [
      "Warning message in file.create(missing_file):\n",
      "“cannot create file '../tea/2/add_OGs_sets/N0.HOG0001962/add_OGs_set_num-3.txt', reason 'No such file or directory'”\n"
     ]
    },
    {
     "name": "stdout",
     "output_type": "stream",
     "text": [
      "[1] 2\n",
      "[1] \"../tea/2/add_OGs_sets/N0.HOG0001962/add_OGs_set_num-2.txt\"\n"
     ]
    },
    {
     "name": "stderr",
     "output_type": "stream",
     "text": [
      "Warning message in file.create(missing_file):\n",
      "“cannot create file '../tea/2/add_OGs_sets/N0.HOG0001962/add_OGs_set_num-2.txt', reason 'No such file or directory'”\n"
     ]
    },
    {
     "name": "stdout",
     "output_type": "stream",
     "text": [
      "[1] 1\n",
      "[1] \"../tea/2/add_OGs_sets/N0.HOG0001962/add_OGs_set_num-1.txt\"\n"
     ]
    },
    {
     "name": "stderr",
     "output_type": "stream",
     "text": [
      "Warning message in file.create(missing_file):\n",
      "“cannot create file '../tea/2/add_OGs_sets/N0.HOG0001962/add_OGs_set_num-1.txt', reason 'No such file or directory'”\n"
     ]
    },
    {
     "name": "stdout",
     "output_type": "stream",
     "text": [
      "[1] \"N0.HOG0001968\"\n",
      "character(0)\n",
      "[1] 4\n",
      "[1] 4\n",
      "[1] \"../tea/2/add_OGs_sets/N0.HOG0001968/add_OGs_set_num-4.txt\"\n"
     ]
    },
    {
     "name": "stderr",
     "output_type": "stream",
     "text": [
      "Warning message in file.create(missing_file):\n",
      "“cannot create file '../tea/2/add_OGs_sets/N0.HOG0001968/add_OGs_set_num-4.txt', reason 'No such file or directory'”\n"
     ]
    },
    {
     "name": "stdout",
     "output_type": "stream",
     "text": [
      "[1] 3\n",
      "[1] \"../tea/2/add_OGs_sets/N0.HOG0001968/add_OGs_set_num-3.txt\"\n"
     ]
    },
    {
     "name": "stderr",
     "output_type": "stream",
     "text": [
      "Warning message in file.create(missing_file):\n",
      "“cannot create file '../tea/2/add_OGs_sets/N0.HOG0001968/add_OGs_set_num-3.txt', reason 'No such file or directory'”\n"
     ]
    },
    {
     "name": "stdout",
     "output_type": "stream",
     "text": [
      "[1] 2\n",
      "[1] \"../tea/2/add_OGs_sets/N0.HOG0001968/add_OGs_set_num-2.txt\"\n"
     ]
    },
    {
     "name": "stderr",
     "output_type": "stream",
     "text": [
      "Warning message in file.create(missing_file):\n",
      "“cannot create file '../tea/2/add_OGs_sets/N0.HOG0001968/add_OGs_set_num-2.txt', reason 'No such file or directory'”\n"
     ]
    },
    {
     "name": "stdout",
     "output_type": "stream",
     "text": [
      "[1] 1\n",
      "[1] \"../tea/2/add_OGs_sets/N0.HOG0001968/add_OGs_set_num-1.txt\"\n"
     ]
    },
    {
     "name": "stderr",
     "output_type": "stream",
     "text": [
      "Warning message in file.create(missing_file):\n",
      "“cannot create file '../tea/2/add_OGs_sets/N0.HOG0001968/add_OGs_set_num-1.txt', reason 'No such file or directory'”\n"
     ]
    },
    {
     "name": "stdout",
     "output_type": "stream",
     "text": [
      "[1] \"N0.HOG0001969\"\n",
      "character(0)\n",
      "[1] 4\n",
      "[1] 4\n",
      "[1] \"../tea/2/add_OGs_sets/N0.HOG0001969/add_OGs_set_num-4.txt\"\n"
     ]
    },
    {
     "name": "stderr",
     "output_type": "stream",
     "text": [
      "Warning message in file.create(missing_file):\n",
      "“cannot create file '../tea/2/add_OGs_sets/N0.HOG0001969/add_OGs_set_num-4.txt', reason 'No such file or directory'”\n"
     ]
    },
    {
     "name": "stdout",
     "output_type": "stream",
     "text": [
      "[1] 3\n",
      "[1] \"../tea/2/add_OGs_sets/N0.HOG0001969/add_OGs_set_num-3.txt\"\n"
     ]
    },
    {
     "name": "stderr",
     "output_type": "stream",
     "text": [
      "Warning message in file.create(missing_file):\n",
      "“cannot create file '../tea/2/add_OGs_sets/N0.HOG0001969/add_OGs_set_num-3.txt', reason 'No such file or directory'”\n"
     ]
    },
    {
     "name": "stdout",
     "output_type": "stream",
     "text": [
      "[1] 2\n",
      "[1] \"../tea/2/add_OGs_sets/N0.HOG0001969/add_OGs_set_num-2.txt\"\n"
     ]
    },
    {
     "name": "stderr",
     "output_type": "stream",
     "text": [
      "Warning message in file.create(missing_file):\n",
      "“cannot create file '../tea/2/add_OGs_sets/N0.HOG0001969/add_OGs_set_num-2.txt', reason 'No such file or directory'”\n"
     ]
    },
    {
     "name": "stdout",
     "output_type": "stream",
     "text": [
      "[1] 1\n",
      "[1] \"../tea/2/add_OGs_sets/N0.HOG0001969/add_OGs_set_num-1.txt\"\n"
     ]
    },
    {
     "name": "stderr",
     "output_type": "stream",
     "text": [
      "Warning message in file.create(missing_file):\n",
      "“cannot create file '../tea/2/add_OGs_sets/N0.HOG0001969/add_OGs_set_num-1.txt', reason 'No such file or directory'”\n"
     ]
    },
    {
     "name": "stdout",
     "output_type": "stream",
     "text": [
      "[1] \"N0.HOG0001971\"\n",
      "character(0)\n",
      "[1] 4\n",
      "[1] 4\n",
      "[1] \"../tea/2/add_OGs_sets/N0.HOG0001971/add_OGs_set_num-4.txt\"\n"
     ]
    },
    {
     "name": "stderr",
     "output_type": "stream",
     "text": [
      "Warning message in file.create(missing_file):\n",
      "“cannot create file '../tea/2/add_OGs_sets/N0.HOG0001971/add_OGs_set_num-4.txt', reason 'No such file or directory'”\n"
     ]
    },
    {
     "name": "stdout",
     "output_type": "stream",
     "text": [
      "[1] 3\n",
      "[1] \"../tea/2/add_OGs_sets/N0.HOG0001971/add_OGs_set_num-3.txt\"\n"
     ]
    },
    {
     "name": "stderr",
     "output_type": "stream",
     "text": [
      "Warning message in file.create(missing_file):\n",
      "“cannot create file '../tea/2/add_OGs_sets/N0.HOG0001971/add_OGs_set_num-3.txt', reason 'No such file or directory'”\n"
     ]
    },
    {
     "name": "stdout",
     "output_type": "stream",
     "text": [
      "[1] 2\n",
      "[1] \"../tea/2/add_OGs_sets/N0.HOG0001971/add_OGs_set_num-2.txt\"\n"
     ]
    },
    {
     "name": "stderr",
     "output_type": "stream",
     "text": [
      "Warning message in file.create(missing_file):\n",
      "“cannot create file '../tea/2/add_OGs_sets/N0.HOG0001971/add_OGs_set_num-2.txt', reason 'No such file or directory'”\n"
     ]
    },
    {
     "name": "stdout",
     "output_type": "stream",
     "text": [
      "[1] 1\n",
      "[1] \"../tea/2/add_OGs_sets/N0.HOG0001971/add_OGs_set_num-1.txt\"\n"
     ]
    },
    {
     "name": "stderr",
     "output_type": "stream",
     "text": [
      "Warning message in file.create(missing_file):\n",
      "“cannot create file '../tea/2/add_OGs_sets/N0.HOG0001971/add_OGs_set_num-1.txt', reason 'No such file or directory'”\n"
     ]
    },
    {
     "name": "stdout",
     "output_type": "stream",
     "text": [
      "[1] \"N0.HOG0002168\"\n",
      "character(0)\n",
      "[1] 4\n",
      "[1] 4\n",
      "[1] \"../tea/2/add_OGs_sets/N0.HOG0002168/add_OGs_set_num-4.txt\"\n"
     ]
    },
    {
     "name": "stderr",
     "output_type": "stream",
     "text": [
      "Warning message in file.create(missing_file):\n",
      "“cannot create file '../tea/2/add_OGs_sets/N0.HOG0002168/add_OGs_set_num-4.txt', reason 'No such file or directory'”\n"
     ]
    },
    {
     "name": "stdout",
     "output_type": "stream",
     "text": [
      "[1] 3\n",
      "[1] \"../tea/2/add_OGs_sets/N0.HOG0002168/add_OGs_set_num-3.txt\"\n"
     ]
    },
    {
     "name": "stderr",
     "output_type": "stream",
     "text": [
      "Warning message in file.create(missing_file):\n",
      "“cannot create file '../tea/2/add_OGs_sets/N0.HOG0002168/add_OGs_set_num-3.txt', reason 'No such file or directory'”\n"
     ]
    },
    {
     "name": "stdout",
     "output_type": "stream",
     "text": [
      "[1] 2\n",
      "[1] \"../tea/2/add_OGs_sets/N0.HOG0002168/add_OGs_set_num-2.txt\"\n"
     ]
    },
    {
     "name": "stderr",
     "output_type": "stream",
     "text": [
      "Warning message in file.create(missing_file):\n",
      "“cannot create file '../tea/2/add_OGs_sets/N0.HOG0002168/add_OGs_set_num-2.txt', reason 'No such file or directory'”\n"
     ]
    },
    {
     "name": "stdout",
     "output_type": "stream",
     "text": [
      "[1] 1\n",
      "[1] \"../tea/2/add_OGs_sets/N0.HOG0002168/add_OGs_set_num-1.txt\"\n"
     ]
    },
    {
     "name": "stderr",
     "output_type": "stream",
     "text": [
      "Warning message in file.create(missing_file):\n",
      "“cannot create file '../tea/2/add_OGs_sets/N0.HOG0002168/add_OGs_set_num-1.txt', reason 'No such file or directory'”\n"
     ]
    },
    {
     "name": "stdout",
     "output_type": "stream",
     "text": [
      "[1] \"N0.HOG0002193\"\n",
      "character(0)\n",
      "[1] 4\n",
      "[1] 4\n",
      "[1] \"../tea/2/add_OGs_sets/N0.HOG0002193/add_OGs_set_num-4.txt\"\n"
     ]
    },
    {
     "name": "stderr",
     "output_type": "stream",
     "text": [
      "Warning message in file.create(missing_file):\n",
      "“cannot create file '../tea/2/add_OGs_sets/N0.HOG0002193/add_OGs_set_num-4.txt', reason 'No such file or directory'”\n"
     ]
    },
    {
     "name": "stdout",
     "output_type": "stream",
     "text": [
      "[1] 3\n",
      "[1] \"../tea/2/add_OGs_sets/N0.HOG0002193/add_OGs_set_num-3.txt\"\n"
     ]
    },
    {
     "name": "stderr",
     "output_type": "stream",
     "text": [
      "Warning message in file.create(missing_file):\n",
      "“cannot create file '../tea/2/add_OGs_sets/N0.HOG0002193/add_OGs_set_num-3.txt', reason 'No such file or directory'”\n"
     ]
    },
    {
     "name": "stdout",
     "output_type": "stream",
     "text": [
      "[1] 2\n",
      "[1] \"../tea/2/add_OGs_sets/N0.HOG0002193/add_OGs_set_num-2.txt\"\n"
     ]
    },
    {
     "name": "stderr",
     "output_type": "stream",
     "text": [
      "Warning message in file.create(missing_file):\n",
      "“cannot create file '../tea/2/add_OGs_sets/N0.HOG0002193/add_OGs_set_num-2.txt', reason 'No such file or directory'”\n"
     ]
    },
    {
     "name": "stdout",
     "output_type": "stream",
     "text": [
      "[1] 1\n",
      "[1] \"../tea/2/add_OGs_sets/N0.HOG0002193/add_OGs_set_num-1.txt\"\n"
     ]
    },
    {
     "name": "stderr",
     "output_type": "stream",
     "text": [
      "Warning message in file.create(missing_file):\n",
      "“cannot create file '../tea/2/add_OGs_sets/N0.HOG0002193/add_OGs_set_num-1.txt', reason 'No such file or directory'”\n"
     ]
    },
    {
     "name": "stdout",
     "output_type": "stream",
     "text": [
      "[1] \"N0.HOG0002202\"\n",
      "character(0)\n",
      "[1] 4\n",
      "[1] 4\n",
      "[1] \"../tea/2/add_OGs_sets/N0.HOG0002202/add_OGs_set_num-4.txt\"\n"
     ]
    },
    {
     "name": "stderr",
     "output_type": "stream",
     "text": [
      "Warning message in file.create(missing_file):\n",
      "“cannot create file '../tea/2/add_OGs_sets/N0.HOG0002202/add_OGs_set_num-4.txt', reason 'No such file or directory'”\n"
     ]
    },
    {
     "name": "stdout",
     "output_type": "stream",
     "text": [
      "[1] 3\n",
      "[1] \"../tea/2/add_OGs_sets/N0.HOG0002202/add_OGs_set_num-3.txt\"\n"
     ]
    },
    {
     "name": "stderr",
     "output_type": "stream",
     "text": [
      "Warning message in file.create(missing_file):\n",
      "“cannot create file '../tea/2/add_OGs_sets/N0.HOG0002202/add_OGs_set_num-3.txt', reason 'No such file or directory'”\n"
     ]
    },
    {
     "name": "stdout",
     "output_type": "stream",
     "text": [
      "[1] 2\n",
      "[1] \"../tea/2/add_OGs_sets/N0.HOG0002202/add_OGs_set_num-2.txt\"\n"
     ]
    },
    {
     "name": "stderr",
     "output_type": "stream",
     "text": [
      "Warning message in file.create(missing_file):\n",
      "“cannot create file '../tea/2/add_OGs_sets/N0.HOG0002202/add_OGs_set_num-2.txt', reason 'No such file or directory'”\n"
     ]
    },
    {
     "name": "stdout",
     "output_type": "stream",
     "text": [
      "[1] 1\n",
      "[1] \"../tea/2/add_OGs_sets/N0.HOG0002202/add_OGs_set_num-1.txt\"\n"
     ]
    },
    {
     "name": "stderr",
     "output_type": "stream",
     "text": [
      "Warning message in file.create(missing_file):\n",
      "“cannot create file '../tea/2/add_OGs_sets/N0.HOG0002202/add_OGs_set_num-1.txt', reason 'No such file or directory'”\n"
     ]
    },
    {
     "name": "stdout",
     "output_type": "stream",
     "text": [
      "[1] \"N0.HOG0002204\"\n",
      "character(0)\n",
      "[1] 4\n",
      "[1] 4\n",
      "[1] \"../tea/2/add_OGs_sets/N0.HOG0002204/add_OGs_set_num-4.txt\"\n"
     ]
    },
    {
     "name": "stderr",
     "output_type": "stream",
     "text": [
      "Warning message in file.create(missing_file):\n",
      "“cannot create file '../tea/2/add_OGs_sets/N0.HOG0002204/add_OGs_set_num-4.txt', reason 'No such file or directory'”\n"
     ]
    },
    {
     "name": "stdout",
     "output_type": "stream",
     "text": [
      "[1] 3\n",
      "[1] \"../tea/2/add_OGs_sets/N0.HOG0002204/add_OGs_set_num-3.txt\"\n"
     ]
    },
    {
     "name": "stderr",
     "output_type": "stream",
     "text": [
      "Warning message in file.create(missing_file):\n",
      "“cannot create file '../tea/2/add_OGs_sets/N0.HOG0002204/add_OGs_set_num-3.txt', reason 'No such file or directory'”\n"
     ]
    },
    {
     "name": "stdout",
     "output_type": "stream",
     "text": [
      "[1] 2\n",
      "[1] \"../tea/2/add_OGs_sets/N0.HOG0002204/add_OGs_set_num-2.txt\"\n"
     ]
    },
    {
     "name": "stderr",
     "output_type": "stream",
     "text": [
      "Warning message in file.create(missing_file):\n",
      "“cannot create file '../tea/2/add_OGs_sets/N0.HOG0002204/add_OGs_set_num-2.txt', reason 'No such file or directory'”\n"
     ]
    },
    {
     "name": "stdout",
     "output_type": "stream",
     "text": [
      "[1] 1\n",
      "[1] \"../tea/2/add_OGs_sets/N0.HOG0002204/add_OGs_set_num-1.txt\"\n"
     ]
    },
    {
     "name": "stderr",
     "output_type": "stream",
     "text": [
      "Warning message in file.create(missing_file):\n",
      "“cannot create file '../tea/2/add_OGs_sets/N0.HOG0002204/add_OGs_set_num-1.txt', reason 'No such file or directory'”\n"
     ]
    },
    {
     "name": "stdout",
     "output_type": "stream",
     "text": [
      "[1] \"N0.HOG0002211\"\n",
      "character(0)\n",
      "[1] 4\n",
      "[1] 4\n",
      "[1] \"../tea/2/add_OGs_sets/N0.HOG0002211/add_OGs_set_num-4.txt\"\n"
     ]
    },
    {
     "name": "stderr",
     "output_type": "stream",
     "text": [
      "Warning message in file.create(missing_file):\n",
      "“cannot create file '../tea/2/add_OGs_sets/N0.HOG0002211/add_OGs_set_num-4.txt', reason 'No such file or directory'”\n"
     ]
    },
    {
     "name": "stdout",
     "output_type": "stream",
     "text": [
      "[1] 3\n",
      "[1] \"../tea/2/add_OGs_sets/N0.HOG0002211/add_OGs_set_num-3.txt\"\n"
     ]
    },
    {
     "name": "stderr",
     "output_type": "stream",
     "text": [
      "Warning message in file.create(missing_file):\n",
      "“cannot create file '../tea/2/add_OGs_sets/N0.HOG0002211/add_OGs_set_num-3.txt', reason 'No such file or directory'”\n"
     ]
    },
    {
     "name": "stdout",
     "output_type": "stream",
     "text": [
      "[1] 2\n",
      "[1] \"../tea/2/add_OGs_sets/N0.HOG0002211/add_OGs_set_num-2.txt\"\n"
     ]
    },
    {
     "name": "stderr",
     "output_type": "stream",
     "text": [
      "Warning message in file.create(missing_file):\n",
      "“cannot create file '../tea/2/add_OGs_sets/N0.HOG0002211/add_OGs_set_num-2.txt', reason 'No such file or directory'”\n"
     ]
    },
    {
     "name": "stdout",
     "output_type": "stream",
     "text": [
      "[1] 1\n",
      "[1] \"../tea/2/add_OGs_sets/N0.HOG0002211/add_OGs_set_num-1.txt\"\n"
     ]
    },
    {
     "name": "stderr",
     "output_type": "stream",
     "text": [
      "Warning message in file.create(missing_file):\n",
      "“cannot create file '../tea/2/add_OGs_sets/N0.HOG0002211/add_OGs_set_num-1.txt', reason 'No such file or directory'”\n"
     ]
    },
    {
     "name": "stdout",
     "output_type": "stream",
     "text": [
      "[1] \"N0.HOG0002231\"\n",
      "character(0)\n",
      "[1] 4\n",
      "[1] 4\n",
      "[1] \"../tea/2/add_OGs_sets/N0.HOG0002231/add_OGs_set_num-4.txt\"\n"
     ]
    },
    {
     "name": "stderr",
     "output_type": "stream",
     "text": [
      "Warning message in file.create(missing_file):\n",
      "“cannot create file '../tea/2/add_OGs_sets/N0.HOG0002231/add_OGs_set_num-4.txt', reason 'No such file or directory'”\n"
     ]
    },
    {
     "name": "stdout",
     "output_type": "stream",
     "text": [
      "[1] 3\n",
      "[1] \"../tea/2/add_OGs_sets/N0.HOG0002231/add_OGs_set_num-3.txt\"\n"
     ]
    },
    {
     "name": "stderr",
     "output_type": "stream",
     "text": [
      "Warning message in file.create(missing_file):\n",
      "“cannot create file '../tea/2/add_OGs_sets/N0.HOG0002231/add_OGs_set_num-3.txt', reason 'No such file or directory'”\n"
     ]
    },
    {
     "name": "stdout",
     "output_type": "stream",
     "text": [
      "[1] 2\n",
      "[1] \"../tea/2/add_OGs_sets/N0.HOG0002231/add_OGs_set_num-2.txt\"\n"
     ]
    },
    {
     "name": "stderr",
     "output_type": "stream",
     "text": [
      "Warning message in file.create(missing_file):\n",
      "“cannot create file '../tea/2/add_OGs_sets/N0.HOG0002231/add_OGs_set_num-2.txt', reason 'No such file or directory'”\n"
     ]
    },
    {
     "name": "stdout",
     "output_type": "stream",
     "text": [
      "[1] 1\n",
      "[1] \"../tea/2/add_OGs_sets/N0.HOG0002231/add_OGs_set_num-1.txt\"\n"
     ]
    },
    {
     "name": "stderr",
     "output_type": "stream",
     "text": [
      "Warning message in file.create(missing_file):\n",
      "“cannot create file '../tea/2/add_OGs_sets/N0.HOG0002231/add_OGs_set_num-1.txt', reason 'No such file or directory'”\n"
     ]
    },
    {
     "name": "stdout",
     "output_type": "stream",
     "text": [
      "[1] \"N0.HOG0002243\"\n",
      "character(0)\n",
      "[1] 4\n",
      "[1] 4\n",
      "[1] \"../tea/2/add_OGs_sets/N0.HOG0002243/add_OGs_set_num-4.txt\"\n"
     ]
    },
    {
     "name": "stderr",
     "output_type": "stream",
     "text": [
      "Warning message in file.create(missing_file):\n",
      "“cannot create file '../tea/2/add_OGs_sets/N0.HOG0002243/add_OGs_set_num-4.txt', reason 'No such file or directory'”\n"
     ]
    },
    {
     "name": "stdout",
     "output_type": "stream",
     "text": [
      "[1] 3\n",
      "[1] \"../tea/2/add_OGs_sets/N0.HOG0002243/add_OGs_set_num-3.txt\"\n"
     ]
    },
    {
     "name": "stderr",
     "output_type": "stream",
     "text": [
      "Warning message in file.create(missing_file):\n",
      "“cannot create file '../tea/2/add_OGs_sets/N0.HOG0002243/add_OGs_set_num-3.txt', reason 'No such file or directory'”\n"
     ]
    },
    {
     "name": "stdout",
     "output_type": "stream",
     "text": [
      "[1] 2\n",
      "[1] \"../tea/2/add_OGs_sets/N0.HOG0002243/add_OGs_set_num-2.txt\"\n"
     ]
    },
    {
     "name": "stderr",
     "output_type": "stream",
     "text": [
      "Warning message in file.create(missing_file):\n",
      "“cannot create file '../tea/2/add_OGs_sets/N0.HOG0002243/add_OGs_set_num-2.txt', reason 'No such file or directory'”\n"
     ]
    },
    {
     "name": "stdout",
     "output_type": "stream",
     "text": [
      "[1] 1\n",
      "[1] \"../tea/2/add_OGs_sets/N0.HOG0002243/add_OGs_set_num-1.txt\"\n"
     ]
    },
    {
     "name": "stderr",
     "output_type": "stream",
     "text": [
      "Warning message in file.create(missing_file):\n",
      "“cannot create file '../tea/2/add_OGs_sets/N0.HOG0002243/add_OGs_set_num-1.txt', reason 'No such file or directory'”\n"
     ]
    },
    {
     "name": "stdout",
     "output_type": "stream",
     "text": [
      "[1] \"N0.HOG0002542\"\n",
      "character(0)\n",
      "[1] 4\n",
      "[1] 4\n",
      "[1] \"../tea/2/add_OGs_sets/N0.HOG0002542/add_OGs_set_num-4.txt\"\n"
     ]
    },
    {
     "name": "stderr",
     "output_type": "stream",
     "text": [
      "Warning message in file.create(missing_file):\n",
      "“cannot create file '../tea/2/add_OGs_sets/N0.HOG0002542/add_OGs_set_num-4.txt', reason 'No such file or directory'”\n"
     ]
    },
    {
     "name": "stdout",
     "output_type": "stream",
     "text": [
      "[1] 3\n",
      "[1] \"../tea/2/add_OGs_sets/N0.HOG0002542/add_OGs_set_num-3.txt\"\n"
     ]
    },
    {
     "name": "stderr",
     "output_type": "stream",
     "text": [
      "Warning message in file.create(missing_file):\n",
      "“cannot create file '../tea/2/add_OGs_sets/N0.HOG0002542/add_OGs_set_num-3.txt', reason 'No such file or directory'”\n"
     ]
    },
    {
     "name": "stdout",
     "output_type": "stream",
     "text": [
      "[1] 2\n",
      "[1] \"../tea/2/add_OGs_sets/N0.HOG0002542/add_OGs_set_num-2.txt\"\n"
     ]
    },
    {
     "name": "stderr",
     "output_type": "stream",
     "text": [
      "Warning message in file.create(missing_file):\n",
      "“cannot create file '../tea/2/add_OGs_sets/N0.HOG0002542/add_OGs_set_num-2.txt', reason 'No such file or directory'”\n"
     ]
    },
    {
     "name": "stdout",
     "output_type": "stream",
     "text": [
      "[1] 1\n",
      "[1] \"../tea/2/add_OGs_sets/N0.HOG0002542/add_OGs_set_num-1.txt\"\n"
     ]
    },
    {
     "name": "stderr",
     "output_type": "stream",
     "text": [
      "Warning message in file.create(missing_file):\n",
      "“cannot create file '../tea/2/add_OGs_sets/N0.HOG0002542/add_OGs_set_num-1.txt', reason 'No such file or directory'”\n"
     ]
    },
    {
     "name": "stdout",
     "output_type": "stream",
     "text": [
      "[1] \"N0.HOG0002543\"\n",
      "character(0)\n",
      "[1] 4\n",
      "[1] 4\n",
      "[1] \"../tea/2/add_OGs_sets/N0.HOG0002543/add_OGs_set_num-4.txt\"\n"
     ]
    },
    {
     "name": "stderr",
     "output_type": "stream",
     "text": [
      "Warning message in file.create(missing_file):\n",
      "“cannot create file '../tea/2/add_OGs_sets/N0.HOG0002543/add_OGs_set_num-4.txt', reason 'No such file or directory'”\n"
     ]
    },
    {
     "name": "stdout",
     "output_type": "stream",
     "text": [
      "[1] 3\n",
      "[1] \"../tea/2/add_OGs_sets/N0.HOG0002543/add_OGs_set_num-3.txt\"\n"
     ]
    },
    {
     "name": "stderr",
     "output_type": "stream",
     "text": [
      "Warning message in file.create(missing_file):\n",
      "“cannot create file '../tea/2/add_OGs_sets/N0.HOG0002543/add_OGs_set_num-3.txt', reason 'No such file or directory'”\n"
     ]
    },
    {
     "name": "stdout",
     "output_type": "stream",
     "text": [
      "[1] 2\n",
      "[1] \"../tea/2/add_OGs_sets/N0.HOG0002543/add_OGs_set_num-2.txt\"\n"
     ]
    },
    {
     "name": "stderr",
     "output_type": "stream",
     "text": [
      "Warning message in file.create(missing_file):\n",
      "“cannot create file '../tea/2/add_OGs_sets/N0.HOG0002543/add_OGs_set_num-2.txt', reason 'No such file or directory'”\n"
     ]
    },
    {
     "name": "stdout",
     "output_type": "stream",
     "text": [
      "[1] 1\n",
      "[1] \"../tea/2/add_OGs_sets/N0.HOG0002543/add_OGs_set_num-1.txt\"\n"
     ]
    },
    {
     "name": "stderr",
     "output_type": "stream",
     "text": [
      "Warning message in file.create(missing_file):\n",
      "“cannot create file '../tea/2/add_OGs_sets/N0.HOG0002543/add_OGs_set_num-1.txt', reason 'No such file or directory'”\n"
     ]
    },
    {
     "name": "stdout",
     "output_type": "stream",
     "text": [
      "[1] \"N0.HOG0002569\"\n",
      "character(0)\n",
      "[1] 4\n",
      "[1] 4\n",
      "[1] \"../tea/2/add_OGs_sets/N0.HOG0002569/add_OGs_set_num-4.txt\"\n"
     ]
    },
    {
     "name": "stderr",
     "output_type": "stream",
     "text": [
      "Warning message in file.create(missing_file):\n",
      "“cannot create file '../tea/2/add_OGs_sets/N0.HOG0002569/add_OGs_set_num-4.txt', reason 'No such file or directory'”\n"
     ]
    },
    {
     "name": "stdout",
     "output_type": "stream",
     "text": [
      "[1] 3\n",
      "[1] \"../tea/2/add_OGs_sets/N0.HOG0002569/add_OGs_set_num-3.txt\"\n"
     ]
    },
    {
     "name": "stderr",
     "output_type": "stream",
     "text": [
      "Warning message in file.create(missing_file):\n",
      "“cannot create file '../tea/2/add_OGs_sets/N0.HOG0002569/add_OGs_set_num-3.txt', reason 'No such file or directory'”\n"
     ]
    },
    {
     "name": "stdout",
     "output_type": "stream",
     "text": [
      "[1] 2\n",
      "[1] \"../tea/2/add_OGs_sets/N0.HOG0002569/add_OGs_set_num-2.txt\"\n"
     ]
    },
    {
     "name": "stderr",
     "output_type": "stream",
     "text": [
      "Warning message in file.create(missing_file):\n",
      "“cannot create file '../tea/2/add_OGs_sets/N0.HOG0002569/add_OGs_set_num-2.txt', reason 'No such file or directory'”\n"
     ]
    },
    {
     "name": "stdout",
     "output_type": "stream",
     "text": [
      "[1] 1\n",
      "[1] \"../tea/2/add_OGs_sets/N0.HOG0002569/add_OGs_set_num-1.txt\"\n"
     ]
    },
    {
     "name": "stderr",
     "output_type": "stream",
     "text": [
      "Warning message in file.create(missing_file):\n",
      "“cannot create file '../tea/2/add_OGs_sets/N0.HOG0002569/add_OGs_set_num-1.txt', reason 'No such file or directory'”\n"
     ]
    },
    {
     "name": "stdout",
     "output_type": "stream",
     "text": [
      "[1] \"N0.HOG0002573\"\n",
      "character(0)\n",
      "[1] 4\n",
      "[1] 4\n",
      "[1] \"../tea/2/add_OGs_sets/N0.HOG0002573/add_OGs_set_num-4.txt\"\n"
     ]
    },
    {
     "name": "stderr",
     "output_type": "stream",
     "text": [
      "Warning message in file.create(missing_file):\n",
      "“cannot create file '../tea/2/add_OGs_sets/N0.HOG0002573/add_OGs_set_num-4.txt', reason 'No such file or directory'”\n"
     ]
    },
    {
     "name": "stdout",
     "output_type": "stream",
     "text": [
      "[1] 3\n",
      "[1] \"../tea/2/add_OGs_sets/N0.HOG0002573/add_OGs_set_num-3.txt\"\n"
     ]
    },
    {
     "name": "stderr",
     "output_type": "stream",
     "text": [
      "Warning message in file.create(missing_file):\n",
      "“cannot create file '../tea/2/add_OGs_sets/N0.HOG0002573/add_OGs_set_num-3.txt', reason 'No such file or directory'”\n"
     ]
    },
    {
     "name": "stdout",
     "output_type": "stream",
     "text": [
      "[1] 2\n",
      "[1] \"../tea/2/add_OGs_sets/N0.HOG0002573/add_OGs_set_num-2.txt\"\n"
     ]
    },
    {
     "name": "stderr",
     "output_type": "stream",
     "text": [
      "Warning message in file.create(missing_file):\n",
      "“cannot create file '../tea/2/add_OGs_sets/N0.HOG0002573/add_OGs_set_num-2.txt', reason 'No such file or directory'”\n"
     ]
    },
    {
     "name": "stdout",
     "output_type": "stream",
     "text": [
      "[1] 1\n",
      "[1] \"../tea/2/add_OGs_sets/N0.HOG0002573/add_OGs_set_num-1.txt\"\n"
     ]
    },
    {
     "name": "stderr",
     "output_type": "stream",
     "text": [
      "Warning message in file.create(missing_file):\n",
      "“cannot create file '../tea/2/add_OGs_sets/N0.HOG0002573/add_OGs_set_num-1.txt', reason 'No such file or directory'”\n"
     ]
    },
    {
     "name": "stdout",
     "output_type": "stream",
     "text": [
      "[1] \"N0.HOG0002575\"\n",
      "character(0)\n",
      "[1] 4\n",
      "[1] 4\n",
      "[1] \"../tea/2/add_OGs_sets/N0.HOG0002575/add_OGs_set_num-4.txt\"\n"
     ]
    },
    {
     "name": "stderr",
     "output_type": "stream",
     "text": [
      "Warning message in file.create(missing_file):\n",
      "“cannot create file '../tea/2/add_OGs_sets/N0.HOG0002575/add_OGs_set_num-4.txt', reason 'No such file or directory'”\n"
     ]
    },
    {
     "name": "stdout",
     "output_type": "stream",
     "text": [
      "[1] 3\n",
      "[1] \"../tea/2/add_OGs_sets/N0.HOG0002575/add_OGs_set_num-3.txt\"\n"
     ]
    },
    {
     "name": "stderr",
     "output_type": "stream",
     "text": [
      "Warning message in file.create(missing_file):\n",
      "“cannot create file '../tea/2/add_OGs_sets/N0.HOG0002575/add_OGs_set_num-3.txt', reason 'No such file or directory'”\n"
     ]
    },
    {
     "name": "stdout",
     "output_type": "stream",
     "text": [
      "[1] 2\n",
      "[1] \"../tea/2/add_OGs_sets/N0.HOG0002575/add_OGs_set_num-2.txt\"\n"
     ]
    },
    {
     "name": "stderr",
     "output_type": "stream",
     "text": [
      "Warning message in file.create(missing_file):\n",
      "“cannot create file '../tea/2/add_OGs_sets/N0.HOG0002575/add_OGs_set_num-2.txt', reason 'No such file or directory'”\n"
     ]
    },
    {
     "name": "stdout",
     "output_type": "stream",
     "text": [
      "[1] 1\n",
      "[1] \"../tea/2/add_OGs_sets/N0.HOG0002575/add_OGs_set_num-1.txt\"\n"
     ]
    },
    {
     "name": "stderr",
     "output_type": "stream",
     "text": [
      "Warning message in file.create(missing_file):\n",
      "“cannot create file '../tea/2/add_OGs_sets/N0.HOG0002575/add_OGs_set_num-1.txt', reason 'No such file or directory'”\n"
     ]
    },
    {
     "name": "stdout",
     "output_type": "stream",
     "text": [
      "[1] \"N0.HOG0002581\"\n",
      "character(0)\n",
      "[1] 4\n",
      "[1] 4\n",
      "[1] \"../tea/2/add_OGs_sets/N0.HOG0002581/add_OGs_set_num-4.txt\"\n"
     ]
    },
    {
     "name": "stderr",
     "output_type": "stream",
     "text": [
      "Warning message in file.create(missing_file):\n",
      "“cannot create file '../tea/2/add_OGs_sets/N0.HOG0002581/add_OGs_set_num-4.txt', reason 'No such file or directory'”\n"
     ]
    },
    {
     "name": "stdout",
     "output_type": "stream",
     "text": [
      "[1] 3\n",
      "[1] \"../tea/2/add_OGs_sets/N0.HOG0002581/add_OGs_set_num-3.txt\"\n"
     ]
    },
    {
     "name": "stderr",
     "output_type": "stream",
     "text": [
      "Warning message in file.create(missing_file):\n",
      "“cannot create file '../tea/2/add_OGs_sets/N0.HOG0002581/add_OGs_set_num-3.txt', reason 'No such file or directory'”\n"
     ]
    },
    {
     "name": "stdout",
     "output_type": "stream",
     "text": [
      "[1] 2\n",
      "[1] \"../tea/2/add_OGs_sets/N0.HOG0002581/add_OGs_set_num-2.txt\"\n"
     ]
    },
    {
     "name": "stderr",
     "output_type": "stream",
     "text": [
      "Warning message in file.create(missing_file):\n",
      "“cannot create file '../tea/2/add_OGs_sets/N0.HOG0002581/add_OGs_set_num-2.txt', reason 'No such file or directory'”\n"
     ]
    },
    {
     "name": "stdout",
     "output_type": "stream",
     "text": [
      "[1] 1\n",
      "[1] \"../tea/2/add_OGs_sets/N0.HOG0002581/add_OGs_set_num-1.txt\"\n"
     ]
    },
    {
     "name": "stderr",
     "output_type": "stream",
     "text": [
      "Warning message in file.create(missing_file):\n",
      "“cannot create file '../tea/2/add_OGs_sets/N0.HOG0002581/add_OGs_set_num-1.txt', reason 'No such file or directory'”\n"
     ]
    },
    {
     "name": "stdout",
     "output_type": "stream",
     "text": [
      "[1] \"N0.HOG0002615\"\n",
      "character(0)\n",
      "[1] 4\n",
      "[1] 4\n",
      "[1] \"../tea/2/add_OGs_sets/N0.HOG0002615/add_OGs_set_num-4.txt\"\n"
     ]
    },
    {
     "name": "stderr",
     "output_type": "stream",
     "text": [
      "Warning message in file.create(missing_file):\n",
      "“cannot create file '../tea/2/add_OGs_sets/N0.HOG0002615/add_OGs_set_num-4.txt', reason 'No such file or directory'”\n"
     ]
    },
    {
     "name": "stdout",
     "output_type": "stream",
     "text": [
      "[1] 3\n",
      "[1] \"../tea/2/add_OGs_sets/N0.HOG0002615/add_OGs_set_num-3.txt\"\n"
     ]
    },
    {
     "name": "stderr",
     "output_type": "stream",
     "text": [
      "Warning message in file.create(missing_file):\n",
      "“cannot create file '../tea/2/add_OGs_sets/N0.HOG0002615/add_OGs_set_num-3.txt', reason 'No such file or directory'”\n"
     ]
    },
    {
     "name": "stdout",
     "output_type": "stream",
     "text": [
      "[1] 2\n",
      "[1] \"../tea/2/add_OGs_sets/N0.HOG0002615/add_OGs_set_num-2.txt\"\n"
     ]
    },
    {
     "name": "stderr",
     "output_type": "stream",
     "text": [
      "Warning message in file.create(missing_file):\n",
      "“cannot create file '../tea/2/add_OGs_sets/N0.HOG0002615/add_OGs_set_num-2.txt', reason 'No such file or directory'”\n"
     ]
    },
    {
     "name": "stdout",
     "output_type": "stream",
     "text": [
      "[1] 1\n",
      "[1] \"../tea/2/add_OGs_sets/N0.HOG0002615/add_OGs_set_num-1.txt\"\n"
     ]
    },
    {
     "name": "stderr",
     "output_type": "stream",
     "text": [
      "Warning message in file.create(missing_file):\n",
      "“cannot create file '../tea/2/add_OGs_sets/N0.HOG0002615/add_OGs_set_num-1.txt', reason 'No such file or directory'”\n"
     ]
    },
    {
     "name": "stdout",
     "output_type": "stream",
     "text": [
      "[1] \"N0.HOG0002616\"\n",
      "character(0)\n",
      "[1] 4\n",
      "[1] 4\n",
      "[1] \"../tea/2/add_OGs_sets/N0.HOG0002616/add_OGs_set_num-4.txt\"\n"
     ]
    },
    {
     "name": "stderr",
     "output_type": "stream",
     "text": [
      "Warning message in file.create(missing_file):\n",
      "“cannot create file '../tea/2/add_OGs_sets/N0.HOG0002616/add_OGs_set_num-4.txt', reason 'No such file or directory'”\n"
     ]
    },
    {
     "name": "stdout",
     "output_type": "stream",
     "text": [
      "[1] 3\n",
      "[1] \"../tea/2/add_OGs_sets/N0.HOG0002616/add_OGs_set_num-3.txt\"\n"
     ]
    },
    {
     "name": "stderr",
     "output_type": "stream",
     "text": [
      "Warning message in file.create(missing_file):\n",
      "“cannot create file '../tea/2/add_OGs_sets/N0.HOG0002616/add_OGs_set_num-3.txt', reason 'No such file or directory'”\n"
     ]
    },
    {
     "name": "stdout",
     "output_type": "stream",
     "text": [
      "[1] 2\n",
      "[1] \"../tea/2/add_OGs_sets/N0.HOG0002616/add_OGs_set_num-2.txt\"\n"
     ]
    },
    {
     "name": "stderr",
     "output_type": "stream",
     "text": [
      "Warning message in file.create(missing_file):\n",
      "“cannot create file '../tea/2/add_OGs_sets/N0.HOG0002616/add_OGs_set_num-2.txt', reason 'No such file or directory'”\n"
     ]
    },
    {
     "name": "stdout",
     "output_type": "stream",
     "text": [
      "[1] 1\n",
      "[1] \"../tea/2/add_OGs_sets/N0.HOG0002616/add_OGs_set_num-1.txt\"\n"
     ]
    },
    {
     "name": "stderr",
     "output_type": "stream",
     "text": [
      "Warning message in file.create(missing_file):\n",
      "“cannot create file '../tea/2/add_OGs_sets/N0.HOG0002616/add_OGs_set_num-1.txt', reason 'No such file or directory'”\n"
     ]
    },
    {
     "name": "stdout",
     "output_type": "stream",
     "text": [
      "[1] \"N0.HOG0002621\"\n",
      "character(0)\n",
      "[1] 4\n",
      "[1] 4\n",
      "[1] \"../tea/2/add_OGs_sets/N0.HOG0002621/add_OGs_set_num-4.txt\"\n"
     ]
    },
    {
     "name": "stderr",
     "output_type": "stream",
     "text": [
      "Warning message in file.create(missing_file):\n",
      "“cannot create file '../tea/2/add_OGs_sets/N0.HOG0002621/add_OGs_set_num-4.txt', reason 'No such file or directory'”\n"
     ]
    },
    {
     "name": "stdout",
     "output_type": "stream",
     "text": [
      "[1] 3\n",
      "[1] \"../tea/2/add_OGs_sets/N0.HOG0002621/add_OGs_set_num-3.txt\"\n"
     ]
    },
    {
     "name": "stderr",
     "output_type": "stream",
     "text": [
      "Warning message in file.create(missing_file):\n",
      "“cannot create file '../tea/2/add_OGs_sets/N0.HOG0002621/add_OGs_set_num-3.txt', reason 'No such file or directory'”\n"
     ]
    },
    {
     "name": "stdout",
     "output_type": "stream",
     "text": [
      "[1] 2\n",
      "[1] \"../tea/2/add_OGs_sets/N0.HOG0002621/add_OGs_set_num-2.txt\"\n"
     ]
    },
    {
     "name": "stderr",
     "output_type": "stream",
     "text": [
      "Warning message in file.create(missing_file):\n",
      "“cannot create file '../tea/2/add_OGs_sets/N0.HOG0002621/add_OGs_set_num-2.txt', reason 'No such file or directory'”\n"
     ]
    },
    {
     "name": "stdout",
     "output_type": "stream",
     "text": [
      "[1] 1\n",
      "[1] \"../tea/2/add_OGs_sets/N0.HOG0002621/add_OGs_set_num-1.txt\"\n"
     ]
    },
    {
     "name": "stderr",
     "output_type": "stream",
     "text": [
      "Warning message in file.create(missing_file):\n",
      "“cannot create file '../tea/2/add_OGs_sets/N0.HOG0002621/add_OGs_set_num-1.txt', reason 'No such file or directory'”\n"
     ]
    },
    {
     "name": "stdout",
     "output_type": "stream",
     "text": [
      "[1] \"N0.HOG0002637\"\n",
      "character(0)\n",
      "[1] 4\n",
      "[1] 4\n",
      "[1] \"../tea/2/add_OGs_sets/N0.HOG0002637/add_OGs_set_num-4.txt\"\n"
     ]
    },
    {
     "name": "stderr",
     "output_type": "stream",
     "text": [
      "Warning message in file.create(missing_file):\n",
      "“cannot create file '../tea/2/add_OGs_sets/N0.HOG0002637/add_OGs_set_num-4.txt', reason 'No such file or directory'”\n"
     ]
    },
    {
     "name": "stdout",
     "output_type": "stream",
     "text": [
      "[1] 3\n",
      "[1] \"../tea/2/add_OGs_sets/N0.HOG0002637/add_OGs_set_num-3.txt\"\n"
     ]
    },
    {
     "name": "stderr",
     "output_type": "stream",
     "text": [
      "Warning message in file.create(missing_file):\n",
      "“cannot create file '../tea/2/add_OGs_sets/N0.HOG0002637/add_OGs_set_num-3.txt', reason 'No such file or directory'”\n"
     ]
    },
    {
     "name": "stdout",
     "output_type": "stream",
     "text": [
      "[1] 2\n",
      "[1] \"../tea/2/add_OGs_sets/N0.HOG0002637/add_OGs_set_num-2.txt\"\n"
     ]
    },
    {
     "name": "stderr",
     "output_type": "stream",
     "text": [
      "Warning message in file.create(missing_file):\n",
      "“cannot create file '../tea/2/add_OGs_sets/N0.HOG0002637/add_OGs_set_num-2.txt', reason 'No such file or directory'”\n"
     ]
    },
    {
     "name": "stdout",
     "output_type": "stream",
     "text": [
      "[1] 1\n",
      "[1] \"../tea/2/add_OGs_sets/N0.HOG0002637/add_OGs_set_num-1.txt\"\n"
     ]
    },
    {
     "name": "stderr",
     "output_type": "stream",
     "text": [
      "Warning message in file.create(missing_file):\n",
      "“cannot create file '../tea/2/add_OGs_sets/N0.HOG0002637/add_OGs_set_num-1.txt', reason 'No such file or directory'”\n"
     ]
    },
    {
     "name": "stdout",
     "output_type": "stream",
     "text": [
      "[1] \"N0.HOG0002653\"\n",
      "character(0)\n",
      "[1] 4\n",
      "[1] 4\n",
      "[1] \"../tea/2/add_OGs_sets/N0.HOG0002653/add_OGs_set_num-4.txt\"\n"
     ]
    },
    {
     "name": "stderr",
     "output_type": "stream",
     "text": [
      "Warning message in file.create(missing_file):\n",
      "“cannot create file '../tea/2/add_OGs_sets/N0.HOG0002653/add_OGs_set_num-4.txt', reason 'No such file or directory'”\n"
     ]
    },
    {
     "name": "stdout",
     "output_type": "stream",
     "text": [
      "[1] 3\n",
      "[1] \"../tea/2/add_OGs_sets/N0.HOG0002653/add_OGs_set_num-3.txt\"\n"
     ]
    },
    {
     "name": "stderr",
     "output_type": "stream",
     "text": [
      "Warning message in file.create(missing_file):\n",
      "“cannot create file '../tea/2/add_OGs_sets/N0.HOG0002653/add_OGs_set_num-3.txt', reason 'No such file or directory'”\n"
     ]
    },
    {
     "name": "stdout",
     "output_type": "stream",
     "text": [
      "[1] 2\n",
      "[1] \"../tea/2/add_OGs_sets/N0.HOG0002653/add_OGs_set_num-2.txt\"\n"
     ]
    },
    {
     "name": "stderr",
     "output_type": "stream",
     "text": [
      "Warning message in file.create(missing_file):\n",
      "“cannot create file '../tea/2/add_OGs_sets/N0.HOG0002653/add_OGs_set_num-2.txt', reason 'No such file or directory'”\n"
     ]
    },
    {
     "name": "stdout",
     "output_type": "stream",
     "text": [
      "[1] 1\n",
      "[1] \"../tea/2/add_OGs_sets/N0.HOG0002653/add_OGs_set_num-1.txt\"\n"
     ]
    },
    {
     "name": "stderr",
     "output_type": "stream",
     "text": [
      "Warning message in file.create(missing_file):\n",
      "“cannot create file '../tea/2/add_OGs_sets/N0.HOG0002653/add_OGs_set_num-1.txt', reason 'No such file or directory'”\n"
     ]
    },
    {
     "name": "stdout",
     "output_type": "stream",
     "text": [
      "[1] \"N0.HOG0002656\"\n",
      "character(0)\n",
      "[1] 4\n",
      "[1] 4\n",
      "[1] \"../tea/2/add_OGs_sets/N0.HOG0002656/add_OGs_set_num-4.txt\"\n"
     ]
    },
    {
     "name": "stderr",
     "output_type": "stream",
     "text": [
      "Warning message in file.create(missing_file):\n",
      "“cannot create file '../tea/2/add_OGs_sets/N0.HOG0002656/add_OGs_set_num-4.txt', reason 'No such file or directory'”\n"
     ]
    },
    {
     "name": "stdout",
     "output_type": "stream",
     "text": [
      "[1] 3\n",
      "[1] \"../tea/2/add_OGs_sets/N0.HOG0002656/add_OGs_set_num-3.txt\"\n"
     ]
    },
    {
     "name": "stderr",
     "output_type": "stream",
     "text": [
      "Warning message in file.create(missing_file):\n",
      "“cannot create file '../tea/2/add_OGs_sets/N0.HOG0002656/add_OGs_set_num-3.txt', reason 'No such file or directory'”\n"
     ]
    },
    {
     "name": "stdout",
     "output_type": "stream",
     "text": [
      "[1] 2\n",
      "[1] \"../tea/2/add_OGs_sets/N0.HOG0002656/add_OGs_set_num-2.txt\"\n"
     ]
    },
    {
     "name": "stderr",
     "output_type": "stream",
     "text": [
      "Warning message in file.create(missing_file):\n",
      "“cannot create file '../tea/2/add_OGs_sets/N0.HOG0002656/add_OGs_set_num-2.txt', reason 'No such file or directory'”\n"
     ]
    },
    {
     "name": "stdout",
     "output_type": "stream",
     "text": [
      "[1] 1\n",
      "[1] \"../tea/2/add_OGs_sets/N0.HOG0002656/add_OGs_set_num-1.txt\"\n"
     ]
    },
    {
     "name": "stderr",
     "output_type": "stream",
     "text": [
      "Warning message in file.create(missing_file):\n",
      "“cannot create file '../tea/2/add_OGs_sets/N0.HOG0002656/add_OGs_set_num-1.txt', reason 'No such file or directory'”\n"
     ]
    },
    {
     "name": "stdout",
     "output_type": "stream",
     "text": [
      "[1] \"N0.HOG0002671\"\n",
      "character(0)\n",
      "[1] 4\n",
      "[1] 4\n",
      "[1] \"../tea/2/add_OGs_sets/N0.HOG0002671/add_OGs_set_num-4.txt\"\n"
     ]
    },
    {
     "name": "stderr",
     "output_type": "stream",
     "text": [
      "Warning message in file.create(missing_file):\n",
      "“cannot create file '../tea/2/add_OGs_sets/N0.HOG0002671/add_OGs_set_num-4.txt', reason 'No such file or directory'”\n"
     ]
    },
    {
     "name": "stdout",
     "output_type": "stream",
     "text": [
      "[1] 3\n",
      "[1] \"../tea/2/add_OGs_sets/N0.HOG0002671/add_OGs_set_num-3.txt\"\n"
     ]
    },
    {
     "name": "stderr",
     "output_type": "stream",
     "text": [
      "Warning message in file.create(missing_file):\n",
      "“cannot create file '../tea/2/add_OGs_sets/N0.HOG0002671/add_OGs_set_num-3.txt', reason 'No such file or directory'”\n"
     ]
    },
    {
     "name": "stdout",
     "output_type": "stream",
     "text": [
      "[1] 2\n",
      "[1] \"../tea/2/add_OGs_sets/N0.HOG0002671/add_OGs_set_num-2.txt\"\n"
     ]
    },
    {
     "name": "stderr",
     "output_type": "stream",
     "text": [
      "Warning message in file.create(missing_file):\n",
      "“cannot create file '../tea/2/add_OGs_sets/N0.HOG0002671/add_OGs_set_num-2.txt', reason 'No such file or directory'”\n"
     ]
    },
    {
     "name": "stdout",
     "output_type": "stream",
     "text": [
      "[1] 1\n",
      "[1] \"../tea/2/add_OGs_sets/N0.HOG0002671/add_OGs_set_num-1.txt\"\n"
     ]
    },
    {
     "name": "stderr",
     "output_type": "stream",
     "text": [
      "Warning message in file.create(missing_file):\n",
      "“cannot create file '../tea/2/add_OGs_sets/N0.HOG0002671/add_OGs_set_num-1.txt', reason 'No such file or directory'”\n"
     ]
    },
    {
     "name": "stdout",
     "output_type": "stream",
     "text": [
      "[1] \"N0.HOG0002982\"\n",
      "character(0)\n",
      "[1] 4\n",
      "[1] 4\n",
      "[1] \"../tea/2/add_OGs_sets/N0.HOG0002982/add_OGs_set_num-4.txt\"\n"
     ]
    },
    {
     "name": "stderr",
     "output_type": "stream",
     "text": [
      "Warning message in file.create(missing_file):\n",
      "“cannot create file '../tea/2/add_OGs_sets/N0.HOG0002982/add_OGs_set_num-4.txt', reason 'No such file or directory'”\n"
     ]
    },
    {
     "name": "stdout",
     "output_type": "stream",
     "text": [
      "[1] 3\n",
      "[1] \"../tea/2/add_OGs_sets/N0.HOG0002982/add_OGs_set_num-3.txt\"\n"
     ]
    },
    {
     "name": "stderr",
     "output_type": "stream",
     "text": [
      "Warning message in file.create(missing_file):\n",
      "“cannot create file '../tea/2/add_OGs_sets/N0.HOG0002982/add_OGs_set_num-3.txt', reason 'No such file or directory'”\n"
     ]
    },
    {
     "name": "stdout",
     "output_type": "stream",
     "text": [
      "[1] 2\n",
      "[1] \"../tea/2/add_OGs_sets/N0.HOG0002982/add_OGs_set_num-2.txt\"\n"
     ]
    },
    {
     "name": "stderr",
     "output_type": "stream",
     "text": [
      "Warning message in file.create(missing_file):\n",
      "“cannot create file '../tea/2/add_OGs_sets/N0.HOG0002982/add_OGs_set_num-2.txt', reason 'No such file or directory'”\n"
     ]
    },
    {
     "name": "stdout",
     "output_type": "stream",
     "text": [
      "[1] 1\n",
      "[1] \"../tea/2/add_OGs_sets/N0.HOG0002982/add_OGs_set_num-1.txt\"\n"
     ]
    },
    {
     "name": "stderr",
     "output_type": "stream",
     "text": [
      "Warning message in file.create(missing_file):\n",
      "“cannot create file '../tea/2/add_OGs_sets/N0.HOG0002982/add_OGs_set_num-1.txt', reason 'No such file or directory'”\n"
     ]
    },
    {
     "name": "stdout",
     "output_type": "stream",
     "text": [
      "[1] \"N0.HOG0003006\"\n",
      "character(0)\n",
      "[1] 4\n",
      "[1] 4\n",
      "[1] \"../tea/2/add_OGs_sets/N0.HOG0003006/add_OGs_set_num-4.txt\"\n"
     ]
    },
    {
     "name": "stderr",
     "output_type": "stream",
     "text": [
      "Warning message in file.create(missing_file):\n",
      "“cannot create file '../tea/2/add_OGs_sets/N0.HOG0003006/add_OGs_set_num-4.txt', reason 'No such file or directory'”\n"
     ]
    },
    {
     "name": "stdout",
     "output_type": "stream",
     "text": [
      "[1] 3\n",
      "[1] \"../tea/2/add_OGs_sets/N0.HOG0003006/add_OGs_set_num-3.txt\"\n"
     ]
    },
    {
     "name": "stderr",
     "output_type": "stream",
     "text": [
      "Warning message in file.create(missing_file):\n",
      "“cannot create file '../tea/2/add_OGs_sets/N0.HOG0003006/add_OGs_set_num-3.txt', reason 'No such file or directory'”\n"
     ]
    },
    {
     "name": "stdout",
     "output_type": "stream",
     "text": [
      "[1] 2\n",
      "[1] \"../tea/2/add_OGs_sets/N0.HOG0003006/add_OGs_set_num-2.txt\"\n"
     ]
    },
    {
     "name": "stderr",
     "output_type": "stream",
     "text": [
      "Warning message in file.create(missing_file):\n",
      "“cannot create file '../tea/2/add_OGs_sets/N0.HOG0003006/add_OGs_set_num-2.txt', reason 'No such file or directory'”\n"
     ]
    },
    {
     "name": "stdout",
     "output_type": "stream",
     "text": [
      "[1] 1\n",
      "[1] \"../tea/2/add_OGs_sets/N0.HOG0003006/add_OGs_set_num-1.txt\"\n"
     ]
    },
    {
     "name": "stderr",
     "output_type": "stream",
     "text": [
      "Warning message in file.create(missing_file):\n",
      "“cannot create file '../tea/2/add_OGs_sets/N0.HOG0003006/add_OGs_set_num-1.txt', reason 'No such file or directory'”\n"
     ]
    },
    {
     "name": "stdout",
     "output_type": "stream",
     "text": [
      "[1] \"N0.HOG0003048\"\n",
      "character(0)\n",
      "[1] 4\n",
      "[1] 4\n",
      "[1] \"../tea/2/add_OGs_sets/N0.HOG0003048/add_OGs_set_num-4.txt\"\n"
     ]
    },
    {
     "name": "stderr",
     "output_type": "stream",
     "text": [
      "Warning message in file.create(missing_file):\n",
      "“cannot create file '../tea/2/add_OGs_sets/N0.HOG0003048/add_OGs_set_num-4.txt', reason 'No such file or directory'”\n"
     ]
    },
    {
     "name": "stdout",
     "output_type": "stream",
     "text": [
      "[1] 3\n",
      "[1] \"../tea/2/add_OGs_sets/N0.HOG0003048/add_OGs_set_num-3.txt\"\n"
     ]
    },
    {
     "name": "stderr",
     "output_type": "stream",
     "text": [
      "Warning message in file.create(missing_file):\n",
      "“cannot create file '../tea/2/add_OGs_sets/N0.HOG0003048/add_OGs_set_num-3.txt', reason 'No such file or directory'”\n"
     ]
    },
    {
     "name": "stdout",
     "output_type": "stream",
     "text": [
      "[1] 2\n",
      "[1] \"../tea/2/add_OGs_sets/N0.HOG0003048/add_OGs_set_num-2.txt\"\n"
     ]
    },
    {
     "name": "stderr",
     "output_type": "stream",
     "text": [
      "Warning message in file.create(missing_file):\n",
      "“cannot create file '../tea/2/add_OGs_sets/N0.HOG0003048/add_OGs_set_num-2.txt', reason 'No such file or directory'”\n"
     ]
    },
    {
     "name": "stdout",
     "output_type": "stream",
     "text": [
      "[1] 1\n",
      "[1] \"../tea/2/add_OGs_sets/N0.HOG0003048/add_OGs_set_num-1.txt\"\n"
     ]
    },
    {
     "name": "stderr",
     "output_type": "stream",
     "text": [
      "Warning message in file.create(missing_file):\n",
      "“cannot create file '../tea/2/add_OGs_sets/N0.HOG0003048/add_OGs_set_num-1.txt', reason 'No such file or directory'”\n"
     ]
    },
    {
     "name": "stdout",
     "output_type": "stream",
     "text": [
      "[1] \"N0.HOG0003059\"\n",
      "character(0)\n",
      "[1] 4\n",
      "[1] 4\n",
      "[1] \"../tea/2/add_OGs_sets/N0.HOG0003059/add_OGs_set_num-4.txt\"\n"
     ]
    },
    {
     "name": "stderr",
     "output_type": "stream",
     "text": [
      "Warning message in file.create(missing_file):\n",
      "“cannot create file '../tea/2/add_OGs_sets/N0.HOG0003059/add_OGs_set_num-4.txt', reason 'No such file or directory'”\n"
     ]
    },
    {
     "name": "stdout",
     "output_type": "stream",
     "text": [
      "[1] 3\n",
      "[1] \"../tea/2/add_OGs_sets/N0.HOG0003059/add_OGs_set_num-3.txt\"\n"
     ]
    },
    {
     "name": "stderr",
     "output_type": "stream",
     "text": [
      "Warning message in file.create(missing_file):\n",
      "“cannot create file '../tea/2/add_OGs_sets/N0.HOG0003059/add_OGs_set_num-3.txt', reason 'No such file or directory'”\n"
     ]
    },
    {
     "name": "stdout",
     "output_type": "stream",
     "text": [
      "[1] 2\n",
      "[1] \"../tea/2/add_OGs_sets/N0.HOG0003059/add_OGs_set_num-2.txt\"\n"
     ]
    },
    {
     "name": "stderr",
     "output_type": "stream",
     "text": [
      "Warning message in file.create(missing_file):\n",
      "“cannot create file '../tea/2/add_OGs_sets/N0.HOG0003059/add_OGs_set_num-2.txt', reason 'No such file or directory'”\n"
     ]
    },
    {
     "name": "stdout",
     "output_type": "stream",
     "text": [
      "[1] 1\n",
      "[1] \"../tea/2/add_OGs_sets/N0.HOG0003059/add_OGs_set_num-1.txt\"\n"
     ]
    },
    {
     "name": "stderr",
     "output_type": "stream",
     "text": [
      "Warning message in file.create(missing_file):\n",
      "“cannot create file '../tea/2/add_OGs_sets/N0.HOG0003059/add_OGs_set_num-1.txt', reason 'No such file or directory'”\n"
     ]
    },
    {
     "name": "stdout",
     "output_type": "stream",
     "text": [
      "[1] \"N0.HOG0003065\"\n",
      "character(0)\n",
      "[1] 4\n",
      "[1] 4\n",
      "[1] \"../tea/2/add_OGs_sets/N0.HOG0003065/add_OGs_set_num-4.txt\"\n"
     ]
    },
    {
     "name": "stderr",
     "output_type": "stream",
     "text": [
      "Warning message in file.create(missing_file):\n",
      "“cannot create file '../tea/2/add_OGs_sets/N0.HOG0003065/add_OGs_set_num-4.txt', reason 'No such file or directory'”\n"
     ]
    },
    {
     "name": "stdout",
     "output_type": "stream",
     "text": [
      "[1] 3\n",
      "[1] \"../tea/2/add_OGs_sets/N0.HOG0003065/add_OGs_set_num-3.txt\"\n"
     ]
    },
    {
     "name": "stderr",
     "output_type": "stream",
     "text": [
      "Warning message in file.create(missing_file):\n",
      "“cannot create file '../tea/2/add_OGs_sets/N0.HOG0003065/add_OGs_set_num-3.txt', reason 'No such file or directory'”\n"
     ]
    },
    {
     "name": "stdout",
     "output_type": "stream",
     "text": [
      "[1] 2\n",
      "[1] \"../tea/2/add_OGs_sets/N0.HOG0003065/add_OGs_set_num-2.txt\"\n"
     ]
    },
    {
     "name": "stderr",
     "output_type": "stream",
     "text": [
      "Warning message in file.create(missing_file):\n",
      "“cannot create file '../tea/2/add_OGs_sets/N0.HOG0003065/add_OGs_set_num-2.txt', reason 'No such file or directory'”\n"
     ]
    },
    {
     "name": "stdout",
     "output_type": "stream",
     "text": [
      "[1] 1\n",
      "[1] \"../tea/2/add_OGs_sets/N0.HOG0003065/add_OGs_set_num-1.txt\"\n"
     ]
    },
    {
     "name": "stderr",
     "output_type": "stream",
     "text": [
      "Warning message in file.create(missing_file):\n",
      "“cannot create file '../tea/2/add_OGs_sets/N0.HOG0003065/add_OGs_set_num-1.txt', reason 'No such file or directory'”\n"
     ]
    },
    {
     "name": "stdout",
     "output_type": "stream",
     "text": [
      "[1] \"N0.HOG0003135\"\n",
      "character(0)\n",
      "[1] 4\n",
      "[1] 4\n",
      "[1] \"../tea/2/add_OGs_sets/N0.HOG0003135/add_OGs_set_num-4.txt\"\n"
     ]
    },
    {
     "name": "stderr",
     "output_type": "stream",
     "text": [
      "Warning message in file.create(missing_file):\n",
      "“cannot create file '../tea/2/add_OGs_sets/N0.HOG0003135/add_OGs_set_num-4.txt', reason 'No such file or directory'”\n"
     ]
    },
    {
     "name": "stdout",
     "output_type": "stream",
     "text": [
      "[1] 3\n",
      "[1] \"../tea/2/add_OGs_sets/N0.HOG0003135/add_OGs_set_num-3.txt\"\n"
     ]
    },
    {
     "name": "stderr",
     "output_type": "stream",
     "text": [
      "Warning message in file.create(missing_file):\n",
      "“cannot create file '../tea/2/add_OGs_sets/N0.HOG0003135/add_OGs_set_num-3.txt', reason 'No such file or directory'”\n"
     ]
    },
    {
     "name": "stdout",
     "output_type": "stream",
     "text": [
      "[1] 2\n",
      "[1] \"../tea/2/add_OGs_sets/N0.HOG0003135/add_OGs_set_num-2.txt\"\n"
     ]
    },
    {
     "name": "stderr",
     "output_type": "stream",
     "text": [
      "Warning message in file.create(missing_file):\n",
      "“cannot create file '../tea/2/add_OGs_sets/N0.HOG0003135/add_OGs_set_num-2.txt', reason 'No such file or directory'”\n"
     ]
    },
    {
     "name": "stdout",
     "output_type": "stream",
     "text": [
      "[1] 1\n",
      "[1] \"../tea/2/add_OGs_sets/N0.HOG0003135/add_OGs_set_num-1.txt\"\n"
     ]
    },
    {
     "name": "stderr",
     "output_type": "stream",
     "text": [
      "Warning message in file.create(missing_file):\n",
      "“cannot create file '../tea/2/add_OGs_sets/N0.HOG0003135/add_OGs_set_num-1.txt', reason 'No such file or directory'”\n"
     ]
    },
    {
     "name": "stdout",
     "output_type": "stream",
     "text": [
      "[1] \"N0.HOG0003136\"\n",
      "character(0)\n",
      "[1] 4\n",
      "[1] 4\n",
      "[1] \"../tea/2/add_OGs_sets/N0.HOG0003136/add_OGs_set_num-4.txt\"\n"
     ]
    },
    {
     "name": "stderr",
     "output_type": "stream",
     "text": [
      "Warning message in file.create(missing_file):\n",
      "“cannot create file '../tea/2/add_OGs_sets/N0.HOG0003136/add_OGs_set_num-4.txt', reason 'No such file or directory'”\n"
     ]
    },
    {
     "name": "stdout",
     "output_type": "stream",
     "text": [
      "[1] 3\n",
      "[1] \"../tea/2/add_OGs_sets/N0.HOG0003136/add_OGs_set_num-3.txt\"\n"
     ]
    },
    {
     "name": "stderr",
     "output_type": "stream",
     "text": [
      "Warning message in file.create(missing_file):\n",
      "“cannot create file '../tea/2/add_OGs_sets/N0.HOG0003136/add_OGs_set_num-3.txt', reason 'No such file or directory'”\n"
     ]
    },
    {
     "name": "stdout",
     "output_type": "stream",
     "text": [
      "[1] 2\n",
      "[1] \"../tea/2/add_OGs_sets/N0.HOG0003136/add_OGs_set_num-2.txt\"\n"
     ]
    },
    {
     "name": "stderr",
     "output_type": "stream",
     "text": [
      "Warning message in file.create(missing_file):\n",
      "“cannot create file '../tea/2/add_OGs_sets/N0.HOG0003136/add_OGs_set_num-2.txt', reason 'No such file or directory'”\n"
     ]
    },
    {
     "name": "stdout",
     "output_type": "stream",
     "text": [
      "[1] 1\n",
      "[1] \"../tea/2/add_OGs_sets/N0.HOG0003136/add_OGs_set_num-1.txt\"\n"
     ]
    },
    {
     "name": "stderr",
     "output_type": "stream",
     "text": [
      "Warning message in file.create(missing_file):\n",
      "“cannot create file '../tea/2/add_OGs_sets/N0.HOG0003136/add_OGs_set_num-1.txt', reason 'No such file or directory'”\n"
     ]
    },
    {
     "name": "stdout",
     "output_type": "stream",
     "text": [
      "[1] \"N0.HOG0003141\"\n",
      "character(0)\n",
      "[1] 4\n",
      "[1] 4\n",
      "[1] \"../tea/2/add_OGs_sets/N0.HOG0003141/add_OGs_set_num-4.txt\"\n"
     ]
    },
    {
     "name": "stderr",
     "output_type": "stream",
     "text": [
      "Warning message in file.create(missing_file):\n",
      "“cannot create file '../tea/2/add_OGs_sets/N0.HOG0003141/add_OGs_set_num-4.txt', reason 'No such file or directory'”\n"
     ]
    },
    {
     "name": "stdout",
     "output_type": "stream",
     "text": [
      "[1] 3\n",
      "[1] \"../tea/2/add_OGs_sets/N0.HOG0003141/add_OGs_set_num-3.txt\"\n"
     ]
    },
    {
     "name": "stderr",
     "output_type": "stream",
     "text": [
      "Warning message in file.create(missing_file):\n",
      "“cannot create file '../tea/2/add_OGs_sets/N0.HOG0003141/add_OGs_set_num-3.txt', reason 'No such file or directory'”\n"
     ]
    },
    {
     "name": "stdout",
     "output_type": "stream",
     "text": [
      "[1] 2\n",
      "[1] \"../tea/2/add_OGs_sets/N0.HOG0003141/add_OGs_set_num-2.txt\"\n"
     ]
    },
    {
     "name": "stderr",
     "output_type": "stream",
     "text": [
      "Warning message in file.create(missing_file):\n",
      "“cannot create file '../tea/2/add_OGs_sets/N0.HOG0003141/add_OGs_set_num-2.txt', reason 'No such file or directory'”\n"
     ]
    },
    {
     "name": "stdout",
     "output_type": "stream",
     "text": [
      "[1] 1\n",
      "[1] \"../tea/2/add_OGs_sets/N0.HOG0003141/add_OGs_set_num-1.txt\"\n"
     ]
    },
    {
     "name": "stderr",
     "output_type": "stream",
     "text": [
      "Warning message in file.create(missing_file):\n",
      "“cannot create file '../tea/2/add_OGs_sets/N0.HOG0003141/add_OGs_set_num-1.txt', reason 'No such file or directory'”\n"
     ]
    },
    {
     "name": "stdout",
     "output_type": "stream",
     "text": [
      "[1] \"N0.HOG0003164\"\n",
      "character(0)\n",
      "[1] 4\n",
      "[1] 4\n",
      "[1] \"../tea/2/add_OGs_sets/N0.HOG0003164/add_OGs_set_num-4.txt\"\n"
     ]
    },
    {
     "name": "stderr",
     "output_type": "stream",
     "text": [
      "Warning message in file.create(missing_file):\n",
      "“cannot create file '../tea/2/add_OGs_sets/N0.HOG0003164/add_OGs_set_num-4.txt', reason 'No such file or directory'”\n"
     ]
    },
    {
     "name": "stdout",
     "output_type": "stream",
     "text": [
      "[1] 3\n",
      "[1] \"../tea/2/add_OGs_sets/N0.HOG0003164/add_OGs_set_num-3.txt\"\n"
     ]
    },
    {
     "name": "stderr",
     "output_type": "stream",
     "text": [
      "Warning message in file.create(missing_file):\n",
      "“cannot create file '../tea/2/add_OGs_sets/N0.HOG0003164/add_OGs_set_num-3.txt', reason 'No such file or directory'”\n"
     ]
    },
    {
     "name": "stdout",
     "output_type": "stream",
     "text": [
      "[1] 2\n",
      "[1] \"../tea/2/add_OGs_sets/N0.HOG0003164/add_OGs_set_num-2.txt\"\n"
     ]
    },
    {
     "name": "stderr",
     "output_type": "stream",
     "text": [
      "Warning message in file.create(missing_file):\n",
      "“cannot create file '../tea/2/add_OGs_sets/N0.HOG0003164/add_OGs_set_num-2.txt', reason 'No such file or directory'”\n"
     ]
    },
    {
     "name": "stdout",
     "output_type": "stream",
     "text": [
      "[1] 1\n",
      "[1] \"../tea/2/add_OGs_sets/N0.HOG0003164/add_OGs_set_num-1.txt\"\n"
     ]
    },
    {
     "name": "stderr",
     "output_type": "stream",
     "text": [
      "Warning message in file.create(missing_file):\n",
      "“cannot create file '../tea/2/add_OGs_sets/N0.HOG0003164/add_OGs_set_num-1.txt', reason 'No such file or directory'”\n"
     ]
    },
    {
     "name": "stdout",
     "output_type": "stream",
     "text": [
      "[1] \"N0.HOG0003576\"\n",
      "character(0)\n",
      "[1] 4\n",
      "[1] 4\n",
      "[1] \"../tea/2/add_OGs_sets/N0.HOG0003576/add_OGs_set_num-4.txt\"\n"
     ]
    },
    {
     "name": "stderr",
     "output_type": "stream",
     "text": [
      "Warning message in file.create(missing_file):\n",
      "“cannot create file '../tea/2/add_OGs_sets/N0.HOG0003576/add_OGs_set_num-4.txt', reason 'No such file or directory'”\n"
     ]
    },
    {
     "name": "stdout",
     "output_type": "stream",
     "text": [
      "[1] 3\n",
      "[1] \"../tea/2/add_OGs_sets/N0.HOG0003576/add_OGs_set_num-3.txt\"\n"
     ]
    },
    {
     "name": "stderr",
     "output_type": "stream",
     "text": [
      "Warning message in file.create(missing_file):\n",
      "“cannot create file '../tea/2/add_OGs_sets/N0.HOG0003576/add_OGs_set_num-3.txt', reason 'No such file or directory'”\n"
     ]
    },
    {
     "name": "stdout",
     "output_type": "stream",
     "text": [
      "[1] 2\n",
      "[1] \"../tea/2/add_OGs_sets/N0.HOG0003576/add_OGs_set_num-2.txt\"\n"
     ]
    },
    {
     "name": "stderr",
     "output_type": "stream",
     "text": [
      "Warning message in file.create(missing_file):\n",
      "“cannot create file '../tea/2/add_OGs_sets/N0.HOG0003576/add_OGs_set_num-2.txt', reason 'No such file or directory'”\n"
     ]
    },
    {
     "name": "stdout",
     "output_type": "stream",
     "text": [
      "[1] 1\n",
      "[1] \"../tea/2/add_OGs_sets/N0.HOG0003576/add_OGs_set_num-1.txt\"\n"
     ]
    },
    {
     "name": "stderr",
     "output_type": "stream",
     "text": [
      "Warning message in file.create(missing_file):\n",
      "“cannot create file '../tea/2/add_OGs_sets/N0.HOG0003576/add_OGs_set_num-1.txt', reason 'No such file or directory'”\n"
     ]
    },
    {
     "name": "stdout",
     "output_type": "stream",
     "text": [
      "[1] \"N0.HOG0003587\"\n",
      "character(0)\n",
      "[1] 4\n",
      "[1] 4\n",
      "[1] \"../tea/2/add_OGs_sets/N0.HOG0003587/add_OGs_set_num-4.txt\"\n"
     ]
    },
    {
     "name": "stderr",
     "output_type": "stream",
     "text": [
      "Warning message in file.create(missing_file):\n",
      "“cannot create file '../tea/2/add_OGs_sets/N0.HOG0003587/add_OGs_set_num-4.txt', reason 'No such file or directory'”\n"
     ]
    },
    {
     "name": "stdout",
     "output_type": "stream",
     "text": [
      "[1] 3\n",
      "[1] \"../tea/2/add_OGs_sets/N0.HOG0003587/add_OGs_set_num-3.txt\"\n"
     ]
    },
    {
     "name": "stderr",
     "output_type": "stream",
     "text": [
      "Warning message in file.create(missing_file):\n",
      "“cannot create file '../tea/2/add_OGs_sets/N0.HOG0003587/add_OGs_set_num-3.txt', reason 'No such file or directory'”\n"
     ]
    },
    {
     "name": "stdout",
     "output_type": "stream",
     "text": [
      "[1] 2\n",
      "[1] \"../tea/2/add_OGs_sets/N0.HOG0003587/add_OGs_set_num-2.txt\"\n"
     ]
    },
    {
     "name": "stderr",
     "output_type": "stream",
     "text": [
      "Warning message in file.create(missing_file):\n",
      "“cannot create file '../tea/2/add_OGs_sets/N0.HOG0003587/add_OGs_set_num-2.txt', reason 'No such file or directory'”\n"
     ]
    },
    {
     "name": "stdout",
     "output_type": "stream",
     "text": [
      "[1] 1\n",
      "[1] \"../tea/2/add_OGs_sets/N0.HOG0003587/add_OGs_set_num-1.txt\"\n"
     ]
    },
    {
     "name": "stderr",
     "output_type": "stream",
     "text": [
      "Warning message in file.create(missing_file):\n",
      "“cannot create file '../tea/2/add_OGs_sets/N0.HOG0003587/add_OGs_set_num-1.txt', reason 'No such file or directory'”\n"
     ]
    },
    {
     "name": "stdout",
     "output_type": "stream",
     "text": [
      "[1] \"N0.HOG0003588\"\n",
      "character(0)\n",
      "[1] 4\n",
      "[1] 4\n",
      "[1] \"../tea/2/add_OGs_sets/N0.HOG0003588/add_OGs_set_num-4.txt\"\n"
     ]
    },
    {
     "name": "stderr",
     "output_type": "stream",
     "text": [
      "Warning message in file.create(missing_file):\n",
      "“cannot create file '../tea/2/add_OGs_sets/N0.HOG0003588/add_OGs_set_num-4.txt', reason 'No such file or directory'”\n"
     ]
    },
    {
     "name": "stdout",
     "output_type": "stream",
     "text": [
      "[1] 3\n",
      "[1] \"../tea/2/add_OGs_sets/N0.HOG0003588/add_OGs_set_num-3.txt\"\n"
     ]
    },
    {
     "name": "stderr",
     "output_type": "stream",
     "text": [
      "Warning message in file.create(missing_file):\n",
      "“cannot create file '../tea/2/add_OGs_sets/N0.HOG0003588/add_OGs_set_num-3.txt', reason 'No such file or directory'”\n"
     ]
    },
    {
     "name": "stdout",
     "output_type": "stream",
     "text": [
      "[1] 2\n",
      "[1] \"../tea/2/add_OGs_sets/N0.HOG0003588/add_OGs_set_num-2.txt\"\n"
     ]
    },
    {
     "name": "stderr",
     "output_type": "stream",
     "text": [
      "Warning message in file.create(missing_file):\n",
      "“cannot create file '../tea/2/add_OGs_sets/N0.HOG0003588/add_OGs_set_num-2.txt', reason 'No such file or directory'”\n"
     ]
    },
    {
     "name": "stdout",
     "output_type": "stream",
     "text": [
      "[1] 1\n",
      "[1] \"../tea/2/add_OGs_sets/N0.HOG0003588/add_OGs_set_num-1.txt\"\n"
     ]
    },
    {
     "name": "stderr",
     "output_type": "stream",
     "text": [
      "Warning message in file.create(missing_file):\n",
      "“cannot create file '../tea/2/add_OGs_sets/N0.HOG0003588/add_OGs_set_num-1.txt', reason 'No such file or directory'”\n"
     ]
    },
    {
     "name": "stdout",
     "output_type": "stream",
     "text": [
      "[1] \"N0.HOG0003620\"\n",
      "character(0)\n",
      "[1] 4\n",
      "[1] 4\n",
      "[1] \"../tea/2/add_OGs_sets/N0.HOG0003620/add_OGs_set_num-4.txt\"\n"
     ]
    },
    {
     "name": "stderr",
     "output_type": "stream",
     "text": [
      "Warning message in file.create(missing_file):\n",
      "“cannot create file '../tea/2/add_OGs_sets/N0.HOG0003620/add_OGs_set_num-4.txt', reason 'No such file or directory'”\n"
     ]
    },
    {
     "name": "stdout",
     "output_type": "stream",
     "text": [
      "[1] 3\n",
      "[1] \"../tea/2/add_OGs_sets/N0.HOG0003620/add_OGs_set_num-3.txt\"\n"
     ]
    },
    {
     "name": "stderr",
     "output_type": "stream",
     "text": [
      "Warning message in file.create(missing_file):\n",
      "“cannot create file '../tea/2/add_OGs_sets/N0.HOG0003620/add_OGs_set_num-3.txt', reason 'No such file or directory'”\n"
     ]
    },
    {
     "name": "stdout",
     "output_type": "stream",
     "text": [
      "[1] 2\n",
      "[1] \"../tea/2/add_OGs_sets/N0.HOG0003620/add_OGs_set_num-2.txt\"\n"
     ]
    },
    {
     "name": "stderr",
     "output_type": "stream",
     "text": [
      "Warning message in file.create(missing_file):\n",
      "“cannot create file '../tea/2/add_OGs_sets/N0.HOG0003620/add_OGs_set_num-2.txt', reason 'No such file or directory'”\n"
     ]
    },
    {
     "name": "stdout",
     "output_type": "stream",
     "text": [
      "[1] 1\n",
      "[1] \"../tea/2/add_OGs_sets/N0.HOG0003620/add_OGs_set_num-1.txt\"\n"
     ]
    },
    {
     "name": "stderr",
     "output_type": "stream",
     "text": [
      "Warning message in file.create(missing_file):\n",
      "“cannot create file '../tea/2/add_OGs_sets/N0.HOG0003620/add_OGs_set_num-1.txt', reason 'No such file or directory'”\n"
     ]
    },
    {
     "name": "stdout",
     "output_type": "stream",
     "text": [
      "[1] \"N0.HOG0003646\"\n",
      "character(0)\n",
      "[1] 4\n",
      "[1] 4\n",
      "[1] \"../tea/2/add_OGs_sets/N0.HOG0003646/add_OGs_set_num-4.txt\"\n"
     ]
    },
    {
     "name": "stderr",
     "output_type": "stream",
     "text": [
      "Warning message in file.create(missing_file):\n",
      "“cannot create file '../tea/2/add_OGs_sets/N0.HOG0003646/add_OGs_set_num-4.txt', reason 'No such file or directory'”\n"
     ]
    },
    {
     "name": "stdout",
     "output_type": "stream",
     "text": [
      "[1] 3\n",
      "[1] \"../tea/2/add_OGs_sets/N0.HOG0003646/add_OGs_set_num-3.txt\"\n"
     ]
    },
    {
     "name": "stderr",
     "output_type": "stream",
     "text": [
      "Warning message in file.create(missing_file):\n",
      "“cannot create file '../tea/2/add_OGs_sets/N0.HOG0003646/add_OGs_set_num-3.txt', reason 'No such file or directory'”\n"
     ]
    },
    {
     "name": "stdout",
     "output_type": "stream",
     "text": [
      "[1] 2\n",
      "[1] \"../tea/2/add_OGs_sets/N0.HOG0003646/add_OGs_set_num-2.txt\"\n"
     ]
    },
    {
     "name": "stderr",
     "output_type": "stream",
     "text": [
      "Warning message in file.create(missing_file):\n",
      "“cannot create file '../tea/2/add_OGs_sets/N0.HOG0003646/add_OGs_set_num-2.txt', reason 'No such file or directory'”\n"
     ]
    },
    {
     "name": "stdout",
     "output_type": "stream",
     "text": [
      "[1] 1\n",
      "[1] \"../tea/2/add_OGs_sets/N0.HOG0003646/add_OGs_set_num-1.txt\"\n"
     ]
    },
    {
     "name": "stderr",
     "output_type": "stream",
     "text": [
      "Warning message in file.create(missing_file):\n",
      "“cannot create file '../tea/2/add_OGs_sets/N0.HOG0003646/add_OGs_set_num-1.txt', reason 'No such file or directory'”\n"
     ]
    },
    {
     "name": "stdout",
     "output_type": "stream",
     "text": [
      "[1] \"N0.HOG0003659\"\n",
      "character(0)\n",
      "[1] 4\n",
      "[1] 4\n",
      "[1] \"../tea/2/add_OGs_sets/N0.HOG0003659/add_OGs_set_num-4.txt\"\n"
     ]
    },
    {
     "name": "stderr",
     "output_type": "stream",
     "text": [
      "Warning message in file.create(missing_file):\n",
      "“cannot create file '../tea/2/add_OGs_sets/N0.HOG0003659/add_OGs_set_num-4.txt', reason 'No such file or directory'”\n"
     ]
    },
    {
     "name": "stdout",
     "output_type": "stream",
     "text": [
      "[1] 3\n",
      "[1] \"../tea/2/add_OGs_sets/N0.HOG0003659/add_OGs_set_num-3.txt\"\n"
     ]
    },
    {
     "name": "stderr",
     "output_type": "stream",
     "text": [
      "Warning message in file.create(missing_file):\n",
      "“cannot create file '../tea/2/add_OGs_sets/N0.HOG0003659/add_OGs_set_num-3.txt', reason 'No such file or directory'”\n"
     ]
    },
    {
     "name": "stdout",
     "output_type": "stream",
     "text": [
      "[1] 2\n",
      "[1] \"../tea/2/add_OGs_sets/N0.HOG0003659/add_OGs_set_num-2.txt\"\n"
     ]
    },
    {
     "name": "stderr",
     "output_type": "stream",
     "text": [
      "Warning message in file.create(missing_file):\n",
      "“cannot create file '../tea/2/add_OGs_sets/N0.HOG0003659/add_OGs_set_num-2.txt', reason 'No such file or directory'”\n"
     ]
    },
    {
     "name": "stdout",
     "output_type": "stream",
     "text": [
      "[1] 1\n",
      "[1] \"../tea/2/add_OGs_sets/N0.HOG0003659/add_OGs_set_num-1.txt\"\n"
     ]
    },
    {
     "name": "stderr",
     "output_type": "stream",
     "text": [
      "Warning message in file.create(missing_file):\n",
      "“cannot create file '../tea/2/add_OGs_sets/N0.HOG0003659/add_OGs_set_num-1.txt', reason 'No such file or directory'”\n"
     ]
    },
    {
     "name": "stdout",
     "output_type": "stream",
     "text": [
      "[1] \"N0.HOG0003719\"\n",
      "character(0)\n",
      "[1] 4\n",
      "[1] 4\n",
      "[1] \"../tea/2/add_OGs_sets/N0.HOG0003719/add_OGs_set_num-4.txt\"\n"
     ]
    },
    {
     "name": "stderr",
     "output_type": "stream",
     "text": [
      "Warning message in file.create(missing_file):\n",
      "“cannot create file '../tea/2/add_OGs_sets/N0.HOG0003719/add_OGs_set_num-4.txt', reason 'No such file or directory'”\n"
     ]
    },
    {
     "name": "stdout",
     "output_type": "stream",
     "text": [
      "[1] 3\n",
      "[1] \"../tea/2/add_OGs_sets/N0.HOG0003719/add_OGs_set_num-3.txt\"\n"
     ]
    },
    {
     "name": "stderr",
     "output_type": "stream",
     "text": [
      "Warning message in file.create(missing_file):\n",
      "“cannot create file '../tea/2/add_OGs_sets/N0.HOG0003719/add_OGs_set_num-3.txt', reason 'No such file or directory'”\n"
     ]
    },
    {
     "name": "stdout",
     "output_type": "stream",
     "text": [
      "[1] 2\n",
      "[1] \"../tea/2/add_OGs_sets/N0.HOG0003719/add_OGs_set_num-2.txt\"\n"
     ]
    },
    {
     "name": "stderr",
     "output_type": "stream",
     "text": [
      "Warning message in file.create(missing_file):\n",
      "“cannot create file '../tea/2/add_OGs_sets/N0.HOG0003719/add_OGs_set_num-2.txt', reason 'No such file or directory'”\n"
     ]
    },
    {
     "name": "stdout",
     "output_type": "stream",
     "text": [
      "[1] 1\n",
      "[1] \"../tea/2/add_OGs_sets/N0.HOG0003719/add_OGs_set_num-1.txt\"\n"
     ]
    },
    {
     "name": "stderr",
     "output_type": "stream",
     "text": [
      "Warning message in file.create(missing_file):\n",
      "“cannot create file '../tea/2/add_OGs_sets/N0.HOG0003719/add_OGs_set_num-1.txt', reason 'No such file or directory'”\n"
     ]
    },
    {
     "name": "stdout",
     "output_type": "stream",
     "text": [
      "[1] \"N0.HOG0003739\"\n",
      "character(0)\n",
      "[1] 4\n",
      "[1] 4\n",
      "[1] \"../tea/2/add_OGs_sets/N0.HOG0003739/add_OGs_set_num-4.txt\"\n"
     ]
    },
    {
     "name": "stderr",
     "output_type": "stream",
     "text": [
      "Warning message in file.create(missing_file):\n",
      "“cannot create file '../tea/2/add_OGs_sets/N0.HOG0003739/add_OGs_set_num-4.txt', reason 'No such file or directory'”\n"
     ]
    },
    {
     "name": "stdout",
     "output_type": "stream",
     "text": [
      "[1] 3\n",
      "[1] \"../tea/2/add_OGs_sets/N0.HOG0003739/add_OGs_set_num-3.txt\"\n"
     ]
    },
    {
     "name": "stderr",
     "output_type": "stream",
     "text": [
      "Warning message in file.create(missing_file):\n",
      "“cannot create file '../tea/2/add_OGs_sets/N0.HOG0003739/add_OGs_set_num-3.txt', reason 'No such file or directory'”\n"
     ]
    },
    {
     "name": "stdout",
     "output_type": "stream",
     "text": [
      "[1] 2\n",
      "[1] \"../tea/2/add_OGs_sets/N0.HOG0003739/add_OGs_set_num-2.txt\"\n"
     ]
    },
    {
     "name": "stderr",
     "output_type": "stream",
     "text": [
      "Warning message in file.create(missing_file):\n",
      "“cannot create file '../tea/2/add_OGs_sets/N0.HOG0003739/add_OGs_set_num-2.txt', reason 'No such file or directory'”\n"
     ]
    },
    {
     "name": "stdout",
     "output_type": "stream",
     "text": [
      "[1] 1\n",
      "[1] \"../tea/2/add_OGs_sets/N0.HOG0003739/add_OGs_set_num-1.txt\"\n"
     ]
    },
    {
     "name": "stderr",
     "output_type": "stream",
     "text": [
      "Warning message in file.create(missing_file):\n",
      "“cannot create file '../tea/2/add_OGs_sets/N0.HOG0003739/add_OGs_set_num-1.txt', reason 'No such file or directory'”\n"
     ]
    },
    {
     "name": "stdout",
     "output_type": "stream",
     "text": [
      "[1] \"N0.HOG0003752\"\n",
      "character(0)\n",
      "[1] 4\n",
      "[1] 4\n",
      "[1] \"../tea/2/add_OGs_sets/N0.HOG0003752/add_OGs_set_num-4.txt\"\n"
     ]
    },
    {
     "name": "stderr",
     "output_type": "stream",
     "text": [
      "Warning message in file.create(missing_file):\n",
      "“cannot create file '../tea/2/add_OGs_sets/N0.HOG0003752/add_OGs_set_num-4.txt', reason 'No such file or directory'”\n"
     ]
    },
    {
     "name": "stdout",
     "output_type": "stream",
     "text": [
      "[1] 3\n",
      "[1] \"../tea/2/add_OGs_sets/N0.HOG0003752/add_OGs_set_num-3.txt\"\n"
     ]
    },
    {
     "name": "stderr",
     "output_type": "stream",
     "text": [
      "Warning message in file.create(missing_file):\n",
      "“cannot create file '../tea/2/add_OGs_sets/N0.HOG0003752/add_OGs_set_num-3.txt', reason 'No such file or directory'”\n"
     ]
    },
    {
     "name": "stdout",
     "output_type": "stream",
     "text": [
      "[1] 2\n",
      "[1] \"../tea/2/add_OGs_sets/N0.HOG0003752/add_OGs_set_num-2.txt\"\n"
     ]
    },
    {
     "name": "stderr",
     "output_type": "stream",
     "text": [
      "Warning message in file.create(missing_file):\n",
      "“cannot create file '../tea/2/add_OGs_sets/N0.HOG0003752/add_OGs_set_num-2.txt', reason 'No such file or directory'”\n"
     ]
    },
    {
     "name": "stdout",
     "output_type": "stream",
     "text": [
      "[1] 1\n",
      "[1] \"../tea/2/add_OGs_sets/N0.HOG0003752/add_OGs_set_num-1.txt\"\n"
     ]
    },
    {
     "name": "stderr",
     "output_type": "stream",
     "text": [
      "Warning message in file.create(missing_file):\n",
      "“cannot create file '../tea/2/add_OGs_sets/N0.HOG0003752/add_OGs_set_num-1.txt', reason 'No such file or directory'”\n"
     ]
    },
    {
     "name": "stdout",
     "output_type": "stream",
     "text": [
      "[1] \"N0.HOG0003758\"\n",
      "character(0)\n",
      "[1] 4\n",
      "[1] 4\n",
      "[1] \"../tea/2/add_OGs_sets/N0.HOG0003758/add_OGs_set_num-4.txt\"\n"
     ]
    },
    {
     "name": "stderr",
     "output_type": "stream",
     "text": [
      "Warning message in file.create(missing_file):\n",
      "“cannot create file '../tea/2/add_OGs_sets/N0.HOG0003758/add_OGs_set_num-4.txt', reason 'No such file or directory'”\n"
     ]
    },
    {
     "name": "stdout",
     "output_type": "stream",
     "text": [
      "[1] 3\n",
      "[1] \"../tea/2/add_OGs_sets/N0.HOG0003758/add_OGs_set_num-3.txt\"\n"
     ]
    },
    {
     "name": "stderr",
     "output_type": "stream",
     "text": [
      "Warning message in file.create(missing_file):\n",
      "“cannot create file '../tea/2/add_OGs_sets/N0.HOG0003758/add_OGs_set_num-3.txt', reason 'No such file or directory'”\n"
     ]
    },
    {
     "name": "stdout",
     "output_type": "stream",
     "text": [
      "[1] 2\n",
      "[1] \"../tea/2/add_OGs_sets/N0.HOG0003758/add_OGs_set_num-2.txt\"\n"
     ]
    },
    {
     "name": "stderr",
     "output_type": "stream",
     "text": [
      "Warning message in file.create(missing_file):\n",
      "“cannot create file '../tea/2/add_OGs_sets/N0.HOG0003758/add_OGs_set_num-2.txt', reason 'No such file or directory'”\n"
     ]
    },
    {
     "name": "stdout",
     "output_type": "stream",
     "text": [
      "[1] 1\n",
      "[1] \"../tea/2/add_OGs_sets/N0.HOG0003758/add_OGs_set_num-1.txt\"\n"
     ]
    },
    {
     "name": "stderr",
     "output_type": "stream",
     "text": [
      "Warning message in file.create(missing_file):\n",
      "“cannot create file '../tea/2/add_OGs_sets/N0.HOG0003758/add_OGs_set_num-1.txt', reason 'No such file or directory'”\n"
     ]
    }
   ],
   "source": [
    "# nested snakemake checkpoints are annoying at the moment \n",
    "# quick fix - create empty addtional set_num files which we can ignore but nonetheless exist\n",
    "add_OGs = 3\n",
    "\n",
    "max_n_sets = add_OGs + 1\n",
    "\n",
    "for (n in names(add_og_complete_object)) {\n",
    "    \n",
    "    og_n_sets <- length(\n",
    "         list.files(path = paste0(\"../tea/2/add_OGs_sets/\", n))\n",
    "        )\n",
    "    \n",
    "    og_sets <- list.files(path = paste0(\"../tea/2/add_OGs_sets/\", n))\n",
    "    \n",
    "    if (og_n_sets < max_n_sets) {\n",
    "        print(n)\n",
    "        print(og_sets)\n",
    "        n_missing_sets <- max_n_sets - og_n_sets\n",
    "        print(n_missing_sets)\n",
    "        \n",
    "        for (m in 1:n_missing_sets) {\n",
    "          value <- max_n_sets - m + 1\n",
    "          print(value)\n",
    "          missing_file <- paste0(\"../tea/2/add_OGs_sets/\", n, \"/\", \"add_OGs_set_num-\", value, \".txt\")\n",
    "          print(missing_file)\n",
    "            \n",
    "          file.create(missing_file)\n",
    "        }\n",
    "        #file.create(\"my.csv\")\n",
    "    }\n",
    "    \n",
    "}\n",
    "\n"
   ]
  },
  {
   "cell_type": "markdown",
   "metadata": {},
   "source": [
    "### playaround"
   ]
  },
  {
   "cell_type": "code",
   "execution_count": 25,
   "metadata": {},
   "outputs": [
    {
     "data": {
      "text/plain": [
       "An object of class \"add_OG_set\"\n",
       "Slot \"genes\":\n",
       "\u001b[90m# A tibble: 4 × 1\u001b[39m\n",
       "  value              \n",
       "  \u001b[3m\u001b[90m<chr>\u001b[39m\u001b[23m              \n",
       "\u001b[90m1\u001b[39m AT2G44080.1        \n",
       "\u001b[90m2\u001b[39m HORVU2Hr1G077510.2 \n",
       "\u001b[90m3\u001b[39m HORVU2Hr1G077510.1 \n",
       "\u001b[90m4\u001b[39m Zm00001d007280_P001\n"
      ]
     },
     "metadata": {},
     "output_type": "display_data"
    }
   ],
   "source": [
    "add_og_complete_object$N0.HOG0003790@add_OG_analysis$set_1"
   ]
  },
  {
   "cell_type": "code",
   "execution_count": 103,
   "metadata": {},
   "outputs": [],
   "source": [
    "#if (!require(\"BiocManager\", quietly = TRUE))\n",
    "#    install.packages(\"BiocManager\")\n",
    "\n",
    "#BiocManager::install(\"treeio\")\n",
    "#BiocManager::install(\"Biostrings\")\n",
    "\n",
    "#library(treeio)\n",
    "#library(Biostrings)\n",
    "\n",
    "#extend expanded_OG (hypothesis-OG specific) class with \"list\" element \"add_OG_analysis\"\n",
    "\n",
    "#under \"add_OG_analysis\" - we have n integer values (representing the number of addtional OGs -1; 1 = no addtional OGs since expanded OG itself)\n",
    "\n",
    "# class for extended BLAST hits info\n",
    "#setClass(\"add_OG_set\", \n",
    "#         slots=list(genes=\"tbl_df\",\n",
    "#                    tree=\"phylo\",\n",
    "#                    msa=\"AAStringSet\")\n",
    "#         )\n",
    "\n",
    "#setClass(\"complete_add_OG_analysis\", \n",
    "#         slots=list(complete_add_OG_analysis=\"list\")\n",
    "#         )\n",
    "\n",
    "setClass(\"add_OG_analysis\", \n",
    "         slots=list(add_OG_analysis=\"list\")\n",
    "         )\n",
    "\n",
    "setClass(\"add_OG_set\", \n",
    "         slots=list(genes=\"tbl_df\")\n",
    "         )"
   ]
  },
  {
   "cell_type": "code",
   "execution_count": 183,
   "metadata": {
    "tags": []
   },
   "outputs": [],
   "source": [
    "#length of add OGs analysis summary list\n",
    "summary_length <- length(summary_add_OG_analysis_list)\n",
    "\n",
    "#create empty list of length of the summary list\n",
    "add_og_complete_object <- vector(mode = \"list\", length = summary_length)\n",
    "\n",
    "#iterate over all OGs in summary list\n",
    "for (og in 1:summary_length) {\n",
    " \n",
    "  #amount of sets for current OG - (necessary since less addtional OGs than max wished by user is possible)\n",
    "  curr_og_n_sets <- length(summary_add_OG_analysis_list[[og]])\n",
    "    \n",
    "  #empty list with n elements = n sets for currently analyzed OG\n",
    "  og_all_sets <- vector(mode = \"list\", length = curr_og_n_sets)\n",
    "    \n",
    "  for (set in 1:curr_og_n_sets) {\n",
    "\n",
    "    curr_set <- new(\"add_OG_set\",\n",
    "               genes=as_tibble(\n",
    "                       unlist(\n",
    "                         summary_add_OG_analysis_list[[og]][set],\n",
    "                       )  \n",
    "                     ) \n",
    "        )\n",
    "    curr_set <- list(curr_set)\n",
    "    #names(curr_set) <- paste0(set)\n",
    "  \n",
    "    og_all_sets[set] <- curr_set\n",
    "    names(og_all_sets)[set] <- paste0(\"set_\", set)\n",
    "      \n",
    "  }\n",
    "    \n",
    "  curr_add_og <- new(\"add_OG_analysis\",\n",
    "                     add_OG_analysis=og_all_sets\n",
    "                     )\n",
    "\n",
    "  curr_add_og <- list(curr_add_og) \n",
    " \n",
    "  add_og_complete_object[og] <- curr_add_og\n",
    "\n",
    "  names(add_og_complete_object)[og]  <- names(summary_add_OG_analysis_list[og])\n",
    "}\n"
   ]
  },
  {
   "cell_type": "code",
   "execution_count": 188,
   "metadata": {
    "collapsed": true,
    "jupyter": {
     "outputs_hidden": true
    },
    "tags": []
   },
   "outputs": [
    {
     "name": "stdout",
     "output_type": "stream",
     "text": [
      "List of 4\n",
      " $ set_1:Formal class 'add_OG_set' [package \".GlobalEnv\"] with 1 slot\n",
      "  .. ..@ genes: tibble [68 × 1] (S3: tbl_df/tbl/data.frame)\n",
      "  .. .. ..$ value: chr [1:68] \"AT2G11035.1\" \"AT2G02520.1\" \"AT2G22440.1\" \"HORVU2Hr1G059140.63\" ...\n",
      " $ set_2:Formal class 'add_OG_set' [package \".GlobalEnv\"] with 1 slot\n",
      "  .. ..@ genes: tibble [112 × 1] (S3: tbl_df/tbl/data.frame)\n",
      "  .. .. ..$ value: chr [1:112] \"AT2G11035.1\" \"AT2G02520.1\" \"AT2G22440.1\" \"HORVU2Hr1G059140.63\" ...\n",
      " $ set_3:Formal class 'add_OG_set' [package \".GlobalEnv\"] with 1 slot\n",
      "  .. ..@ genes: tibble [123 × 1] (S3: tbl_df/tbl/data.frame)\n",
      "  .. .. ..$ value: chr [1:123] \"AT2G11035.1\" \"AT2G02520.1\" \"AT2G22440.1\" \"HORVU2Hr1G059140.63\" ...\n",
      " $ set_4:Formal class 'add_OG_set' [package \".GlobalEnv\"] with 1 slot\n",
      "  .. ..@ genes: tibble [130 × 1] (S3: tbl_df/tbl/data.frame)\n",
      "  .. .. ..$ value: chr [1:130] \"AT2G11035.1\" \"AT2G02520.1\" \"AT2G22440.1\" \"HORVU2Hr1G059140.63\" ...\n"
     ]
    }
   ],
   "source": [
    "str(add_og_complete_object$N0.HOG0000011@add_OG_analysis)"
   ]
  }
 ],
 "metadata": {
  "kernelspec": {
   "display_name": "R",
   "language": "R",
   "name": "ir"
  },
  "language_info": {
   "codemirror_mode": "r",
   "file_extension": ".r",
   "mimetype": "text/x-r-source",
   "name": "R",
   "pygments_lexer": "r",
   "version": "4.1.3"
  }
 },
 "nbformat": 4,
 "nbformat_minor": 4
}
