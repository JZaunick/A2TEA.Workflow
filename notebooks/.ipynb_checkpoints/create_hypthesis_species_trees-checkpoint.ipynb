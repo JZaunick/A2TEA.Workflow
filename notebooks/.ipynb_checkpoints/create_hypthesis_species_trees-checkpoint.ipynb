{
 "cells": [
  {
   "cell_type": "code",
   "execution_count": 114,
   "id": "fantastic-surrey",
   "metadata": {},
   "outputs": [],
   "source": [
    "library(readr)\n",
    "library(dplyr)\n",
    "library(tibble)\n",
    "library(tidyr)\n",
    "library(stringr)\n",
    "library(ape)"
   ]
  },
  {
   "cell_type": "code",
   "execution_count": 138,
   "id": "ae1b8a84",
   "metadata": {},
   "outputs": [
    {
     "name": "stderr",
     "output_type": "stream",
     "text": [
      "\n",
      "\u001b[36m──\u001b[39m \u001b[1m\u001b[1mColumn specification\u001b[1m\u001b[22m \u001b[36m──────────────────────────────────────────────────────────────────────────\u001b[39m\n",
      "cols(\n",
      "  hypothesis = \u001b[31mcol_character()\u001b[39m,\n",
      "  `1` = \u001b[31mcol_character()\u001b[39m,\n",
      "  `2` = \u001b[31mcol_character()\u001b[39m,\n",
      "  `3` = \u001b[31mcol_character()\u001b[39m,\n",
      "  `4` = \u001b[31mcol_character()\u001b[39m\n",
      ")\n",
      "\n",
      "\n"
     ]
    },
    {
     "data": {
      "text/html": [
       "<table class=\"dataframe\">\n",
       "<caption>A tibble: 32 × 3</caption>\n",
       "<thead>\n",
       "\t<tr><th scope=col>hypothesis</th><th scope=col>name</th><th scope=col>value</th></tr>\n",
       "\t<tr><th scope=col>&lt;chr&gt;</th><th scope=col>&lt;chr&gt;</th><th scope=col>&lt;chr&gt;</th></tr>\n",
       "</thead>\n",
       "<tbody>\n",
       "\t<tr><td>name                 </td><td>1</td><td>Expanded in Arabidopsis compared to Monocots</td></tr>\n",
       "\t<tr><td>name                 </td><td>2</td><td>Expanded in barley compared to maize        </td></tr>\n",
       "\t<tr><td>name                 </td><td>3</td><td>bla                                         </td></tr>\n",
       "\t<tr><td>name                 </td><td>4</td><td>bla2                                        </td></tr>\n",
       "\t<tr><td>expanded_in          </td><td>1</td><td>Arabidopsis_thaliana                        </td></tr>\n",
       "\t<tr><td>expanded_in          </td><td>2</td><td>Hordeum_vulgare                             </td></tr>\n",
       "\t<tr><td>expanded_in          </td><td>3</td><td>Zea_mays                                    </td></tr>\n",
       "\t<tr><td>expanded_in          </td><td>4</td><td>Hordeum_vulgare;Zea_mays                    </td></tr>\n",
       "\t<tr><td>compared_to          </td><td>1</td><td>Zea_mays;Hordeum_vulgare                    </td></tr>\n",
       "\t<tr><td>compared_to          </td><td>2</td><td>Zea_mays                                    </td></tr>\n",
       "\t<tr><td>compared_to          </td><td>3</td><td>Hordeum_vulgare;Arabidopsis_thaliana        </td></tr>\n",
       "\t<tr><td>compared_to          </td><td>4</td><td>Arabidopsis_thaliana                        </td></tr>\n",
       "\t<tr><td>Nmin_expanded_in     </td><td>1</td><td>1                                           </td></tr>\n",
       "\t<tr><td>Nmin_expanded_in     </td><td>2</td><td>1                                           </td></tr>\n",
       "\t<tr><td>Nmin_expanded_in     </td><td>3</td><td>1                                           </td></tr>\n",
       "\t<tr><td>Nmin_expanded_in     </td><td>4</td><td>2                                           </td></tr>\n",
       "\t<tr><td>Nmin_compared_to     </td><td>1</td><td>2                                           </td></tr>\n",
       "\t<tr><td>Nmin_compared_to     </td><td>2</td><td>1                                           </td></tr>\n",
       "\t<tr><td>Nmin_compared_to     </td><td>3</td><td>1                                           </td></tr>\n",
       "\t<tr><td>Nmin_compared_to     </td><td>4</td><td>1                                           </td></tr>\n",
       "\t<tr><td>min_expansion_factor </td><td>1</td><td>2                                           </td></tr>\n",
       "\t<tr><td>min_expansion_factor </td><td>2</td><td>2                                           </td></tr>\n",
       "\t<tr><td>min_expansion_factor </td><td>3</td><td>3                                           </td></tr>\n",
       "\t<tr><td>min_expansion_factor </td><td>4</td><td>2                                           </td></tr>\n",
       "\t<tr><td>expanded_in_all_found</td><td>1</td><td>YES                                         </td></tr>\n",
       "\t<tr><td>expanded_in_all_found</td><td>2</td><td>NO                                          </td></tr>\n",
       "\t<tr><td>expanded_in_all_found</td><td>3</td><td>YES                                         </td></tr>\n",
       "\t<tr><td>expanded_in_all_found</td><td>4</td><td>YES                                         </td></tr>\n",
       "\t<tr><td>compared_to_all_found</td><td>1</td><td>YES                                         </td></tr>\n",
       "\t<tr><td>compared_to_all_found</td><td>2</td><td>NO                                          </td></tr>\n",
       "\t<tr><td>compared_to_all_found</td><td>3</td><td>YES                                         </td></tr>\n",
       "\t<tr><td>compared_to_all_found</td><td>4</td><td>YES                                         </td></tr>\n",
       "</tbody>\n",
       "</table>\n"
      ],
      "text/latex": [
       "A tibble: 32 × 3\n",
       "\\begin{tabular}{lll}\n",
       " hypothesis & name & value\\\\\n",
       " <chr> & <chr> & <chr>\\\\\n",
       "\\hline\n",
       "\t name                  & 1 & Expanded in Arabidopsis compared to Monocots\\\\\n",
       "\t name                  & 2 & Expanded in barley compared to maize        \\\\\n",
       "\t name                  & 3 & bla                                         \\\\\n",
       "\t name                  & 4 & bla2                                        \\\\\n",
       "\t expanded\\_in           & 1 & Arabidopsis\\_thaliana                        \\\\\n",
       "\t expanded\\_in           & 2 & Hordeum\\_vulgare                             \\\\\n",
       "\t expanded\\_in           & 3 & Zea\\_mays                                    \\\\\n",
       "\t expanded\\_in           & 4 & Hordeum\\_vulgare;Zea\\_mays                    \\\\\n",
       "\t compared\\_to           & 1 & Zea\\_mays;Hordeum\\_vulgare                    \\\\\n",
       "\t compared\\_to           & 2 & Zea\\_mays                                    \\\\\n",
       "\t compared\\_to           & 3 & Hordeum\\_vulgare;Arabidopsis\\_thaliana        \\\\\n",
       "\t compared\\_to           & 4 & Arabidopsis\\_thaliana                        \\\\\n",
       "\t Nmin\\_expanded\\_in      & 1 & 1                                           \\\\\n",
       "\t Nmin\\_expanded\\_in      & 2 & 1                                           \\\\\n",
       "\t Nmin\\_expanded\\_in      & 3 & 1                                           \\\\\n",
       "\t Nmin\\_expanded\\_in      & 4 & 2                                           \\\\\n",
       "\t Nmin\\_compared\\_to      & 1 & 2                                           \\\\\n",
       "\t Nmin\\_compared\\_to      & 2 & 1                                           \\\\\n",
       "\t Nmin\\_compared\\_to      & 3 & 1                                           \\\\\n",
       "\t Nmin\\_compared\\_to      & 4 & 1                                           \\\\\n",
       "\t min\\_expansion\\_factor  & 1 & 2                                           \\\\\n",
       "\t min\\_expansion\\_factor  & 2 & 2                                           \\\\\n",
       "\t min\\_expansion\\_factor  & 3 & 3                                           \\\\\n",
       "\t min\\_expansion\\_factor  & 4 & 2                                           \\\\\n",
       "\t expanded\\_in\\_all\\_found & 1 & YES                                         \\\\\n",
       "\t expanded\\_in\\_all\\_found & 2 & NO                                          \\\\\n",
       "\t expanded\\_in\\_all\\_found & 3 & YES                                         \\\\\n",
       "\t expanded\\_in\\_all\\_found & 4 & YES                                         \\\\\n",
       "\t compared\\_to\\_all\\_found & 1 & YES                                         \\\\\n",
       "\t compared\\_to\\_all\\_found & 2 & NO                                          \\\\\n",
       "\t compared\\_to\\_all\\_found & 3 & YES                                         \\\\\n",
       "\t compared\\_to\\_all\\_found & 4 & YES                                         \\\\\n",
       "\\end{tabular}\n"
      ],
      "text/markdown": [
       "\n",
       "A tibble: 32 × 3\n",
       "\n",
       "| hypothesis &lt;chr&gt; | name &lt;chr&gt; | value &lt;chr&gt; |\n",
       "|---|---|---|\n",
       "| name                  | 1 | Expanded in Arabidopsis compared to Monocots |\n",
       "| name                  | 2 | Expanded in barley compared to maize         |\n",
       "| name                  | 3 | bla                                          |\n",
       "| name                  | 4 | bla2                                         |\n",
       "| expanded_in           | 1 | Arabidopsis_thaliana                         |\n",
       "| expanded_in           | 2 | Hordeum_vulgare                              |\n",
       "| expanded_in           | 3 | Zea_mays                                     |\n",
       "| expanded_in           | 4 | Hordeum_vulgare;Zea_mays                     |\n",
       "| compared_to           | 1 | Zea_mays;Hordeum_vulgare                     |\n",
       "| compared_to           | 2 | Zea_mays                                     |\n",
       "| compared_to           | 3 | Hordeum_vulgare;Arabidopsis_thaliana         |\n",
       "| compared_to           | 4 | Arabidopsis_thaliana                         |\n",
       "| Nmin_expanded_in      | 1 | 1                                            |\n",
       "| Nmin_expanded_in      | 2 | 1                                            |\n",
       "| Nmin_expanded_in      | 3 | 1                                            |\n",
       "| Nmin_expanded_in      | 4 | 2                                            |\n",
       "| Nmin_compared_to      | 1 | 2                                            |\n",
       "| Nmin_compared_to      | 2 | 1                                            |\n",
       "| Nmin_compared_to      | 3 | 1                                            |\n",
       "| Nmin_compared_to      | 4 | 1                                            |\n",
       "| min_expansion_factor  | 1 | 2                                            |\n",
       "| min_expansion_factor  | 2 | 2                                            |\n",
       "| min_expansion_factor  | 3 | 3                                            |\n",
       "| min_expansion_factor  | 4 | 2                                            |\n",
       "| expanded_in_all_found | 1 | YES                                          |\n",
       "| expanded_in_all_found | 2 | NO                                           |\n",
       "| expanded_in_all_found | 3 | YES                                          |\n",
       "| expanded_in_all_found | 4 | YES                                          |\n",
       "| compared_to_all_found | 1 | YES                                          |\n",
       "| compared_to_all_found | 2 | NO                                           |\n",
       "| compared_to_all_found | 3 | YES                                          |\n",
       "| compared_to_all_found | 4 | YES                                          |\n",
       "\n"
      ],
      "text/plain": [
       "   hypothesis            name value                                       \n",
       "1  name                  1    Expanded in Arabidopsis compared to Monocots\n",
       "2  name                  2    Expanded in barley compared to maize        \n",
       "3  name                  3    bla                                         \n",
       "4  name                  4    bla2                                        \n",
       "5  expanded_in           1    Arabidopsis_thaliana                        \n",
       "6  expanded_in           2    Hordeum_vulgare                             \n",
       "7  expanded_in           3    Zea_mays                                    \n",
       "8  expanded_in           4    Hordeum_vulgare;Zea_mays                    \n",
       "9  compared_to           1    Zea_mays;Hordeum_vulgare                    \n",
       "10 compared_to           2    Zea_mays                                    \n",
       "11 compared_to           3    Hordeum_vulgare;Arabidopsis_thaliana        \n",
       "12 compared_to           4    Arabidopsis_thaliana                        \n",
       "13 Nmin_expanded_in      1    1                                           \n",
       "14 Nmin_expanded_in      2    1                                           \n",
       "15 Nmin_expanded_in      3    1                                           \n",
       "16 Nmin_expanded_in      4    2                                           \n",
       "17 Nmin_compared_to      1    2                                           \n",
       "18 Nmin_compared_to      2    1                                           \n",
       "19 Nmin_compared_to      3    1                                           \n",
       "20 Nmin_compared_to      4    1                                           \n",
       "21 min_expansion_factor  1    2                                           \n",
       "22 min_expansion_factor  2    2                                           \n",
       "23 min_expansion_factor  3    3                                           \n",
       "24 min_expansion_factor  4    2                                           \n",
       "25 expanded_in_all_found 1    YES                                         \n",
       "26 expanded_in_all_found 2    NO                                          \n",
       "27 expanded_in_all_found 3    YES                                         \n",
       "28 expanded_in_all_found 4    YES                                         \n",
       "29 compared_to_all_found 1    YES                                         \n",
       "30 compared_to_all_found 2    NO                                          \n",
       "31 compared_to_all_found 3    YES                                         \n",
       "32 compared_to_all_found 4    YES                                         "
      ]
     },
     "metadata": {},
     "output_type": "display_data"
    }
   ],
   "source": [
    "read_delim(\"../config/hypotheses.tsv\", \n",
    "           delim = \"\\t\",\n",
    "           col_names = TRUE\n",
    "           ) %>% #tibble::rownames_to_column() #%>%  \n",
    "   pivot_longer(-hypothesis) #%>% \n",
    "#   pivot_wider(names_from=hypothesis, values_from=value, names_repair = \"unique\")"
   ]
  },
  {
   "cell_type": "code",
   "execution_count": 160,
   "id": "8ddbed08",
   "metadata": {},
   "outputs": [
    {
     "data": {
      "text/html": [
       "<table class=\"dataframe\">\n",
       "<caption>A data.frame: 4 × 9</caption>\n",
       "<thead>\n",
       "\t<tr><th scope=col>hypothesis</th><th scope=col>name</th><th scope=col>expanded_in</th><th scope=col>compared_to</th><th scope=col>Nmin_expanded_in</th><th scope=col>Nmin_compared_to</th><th scope=col>min_expansion_factor</th><th scope=col>expanded_in_all_found</th><th scope=col>compared_to_all_found</th></tr>\n",
       "\t<tr><th scope=col>&lt;dbl&gt;</th><th scope=col>&lt;chr&gt;</th><th scope=col>&lt;chr&gt;</th><th scope=col>&lt;chr&gt;</th><th scope=col>&lt;dbl&gt;</th><th scope=col>&lt;dbl&gt;</th><th scope=col>&lt;dbl&gt;</th><th scope=col>&lt;chr&gt;</th><th scope=col>&lt;chr&gt;</th></tr>\n",
       "</thead>\n",
       "<tbody>\n",
       "\t<tr><td>1</td><td>Expanded in Arabidopsis compared to Monocots</td><td>Arabidopsis_thaliana    </td><td>Zea_mays;Hordeum_vulgare            </td><td>1</td><td>1</td><td>1</td><td>YES</td><td>YES</td></tr>\n",
       "\t<tr><td>2</td><td>Expanded in barley compared to maize        </td><td>Hordeum_vulgare         </td><td>Zea_mays                            </td><td>2</td><td>2</td><td>2</td><td>NO </td><td>NO </td></tr>\n",
       "\t<tr><td>3</td><td>bla                                         </td><td>Zea_mays                </td><td>Hordeum_vulgare;Arabidopsis_thaliana</td><td>3</td><td>3</td><td>3</td><td>YES</td><td>YES</td></tr>\n",
       "\t<tr><td>4</td><td>bla2                                        </td><td>Hordeum_vulgare;Zea_mays</td><td>Arabidopsis_thaliana                </td><td>4</td><td>4</td><td>4</td><td>YES</td><td>YES</td></tr>\n",
       "</tbody>\n",
       "</table>\n"
      ],
      "text/latex": [
       "A data.frame: 4 × 9\n",
       "\\begin{tabular}{lllllllll}\n",
       " hypothesis & name & expanded\\_in & compared\\_to & Nmin\\_expanded\\_in & Nmin\\_compared\\_to & min\\_expansion\\_factor & expanded\\_in\\_all\\_found & compared\\_to\\_all\\_found\\\\\n",
       " <dbl> & <chr> & <chr> & <chr> & <dbl> & <dbl> & <dbl> & <chr> & <chr>\\\\\n",
       "\\hline\n",
       "\t 1 & Expanded in Arabidopsis compared to Monocots & Arabidopsis\\_thaliana     & Zea\\_mays;Hordeum\\_vulgare             & 1 & 1 & 1 & YES & YES\\\\\n",
       "\t 2 & Expanded in barley compared to maize         & Hordeum\\_vulgare          & Zea\\_mays                             & 2 & 2 & 2 & NO  & NO \\\\\n",
       "\t 3 & bla                                          & Zea\\_mays                 & Hordeum\\_vulgare;Arabidopsis\\_thaliana & 3 & 3 & 3 & YES & YES\\\\\n",
       "\t 4 & bla2                                         & Hordeum\\_vulgare;Zea\\_mays & Arabidopsis\\_thaliana                 & 4 & 4 & 4 & YES & YES\\\\\n",
       "\\end{tabular}\n"
      ],
      "text/markdown": [
       "\n",
       "A data.frame: 4 × 9\n",
       "\n",
       "| hypothesis &lt;dbl&gt; | name &lt;chr&gt; | expanded_in &lt;chr&gt; | compared_to &lt;chr&gt; | Nmin_expanded_in &lt;dbl&gt; | Nmin_compared_to &lt;dbl&gt; | min_expansion_factor &lt;dbl&gt; | expanded_in_all_found &lt;chr&gt; | compared_to_all_found &lt;chr&gt; |\n",
       "|---|---|---|---|---|---|---|---|---|\n",
       "| 1 | Expanded in Arabidopsis compared to Monocots | Arabidopsis_thaliana     | Zea_mays;Hordeum_vulgare             | 1 | 1 | 1 | YES | YES |\n",
       "| 2 | Expanded in barley compared to maize         | Hordeum_vulgare          | Zea_mays                             | 2 | 2 | 2 | NO  | NO  |\n",
       "| 3 | bla                                          | Zea_mays                 | Hordeum_vulgare;Arabidopsis_thaliana | 3 | 3 | 3 | YES | YES |\n",
       "| 4 | bla2                                         | Hordeum_vulgare;Zea_mays | Arabidopsis_thaliana                 | 4 | 4 | 4 | YES | YES |\n",
       "\n"
      ],
      "text/plain": [
       "  hypothesis name                                        \n",
       "1 1          Expanded in Arabidopsis compared to Monocots\n",
       "2 2          Expanded in barley compared to maize        \n",
       "3 3          bla                                         \n",
       "4 4          bla2                                        \n",
       "  expanded_in              compared_to                         \n",
       "1 Arabidopsis_thaliana     Zea_mays;Hordeum_vulgare            \n",
       "2 Hordeum_vulgare          Zea_mays                            \n",
       "3 Zea_mays                 Hordeum_vulgare;Arabidopsis_thaliana\n",
       "4 Hordeum_vulgare;Zea_mays Arabidopsis_thaliana                \n",
       "  Nmin_expanded_in Nmin_compared_to min_expansion_factor expanded_in_all_found\n",
       "1 1                1                1                    YES                  \n",
       "2 2                2                2                    NO                   \n",
       "3 3                3                3                    YES                  \n",
       "4 4                4                4                    YES                  \n",
       "  compared_to_all_found\n",
       "1 YES                  \n",
       "2 NO                   \n",
       "3 YES                  \n",
       "4 YES                  "
      ]
     },
     "metadata": {},
     "output_type": "display_data"
    }
   ],
   "source": [
    "# read-in hypothesis object\n",
    "# we transpose the table since the following code was written for the old layout of hypotheses.tsv\n",
    "hypotheses <- as.data.frame( \n",
    "                t(\n",
    "                  read.table(\"../config/hypotheses.tsv\", \n",
    "                             header = FALSE,\n",
    "                             sep = \"\\t\",\n",
    "                             row.names = NULL\n",
    "                             )\n",
    "                )              \n",
    "              )\n",
    "\n",
    "# first line as header/column names\n",
    "names(hypotheses) <- hypotheses[1,]\n",
    "# delete first line\n",
    "hypotheses <- hypotheses[-1,]\n",
    "# removal of row.names/numbering\n",
    "row.names(hypotheses) <- NULL\n",
    "# correct types\n",
    "hypotheses$hypothesis <- as.numeric(hypotheses$hypothesis) \n",
    "hypotheses$Nmin_expanded_in <- as.numeric(hypotheses$hypothesis)\n",
    "hypotheses$Nmin_compared_to <- as.numeric(hypotheses$hypothesis)\n",
    "hypotheses$min_expansion_factor <- as.numeric(hypotheses$hypothesis)\n",
    "\n",
    "hypotheses"
   ]
  },
  {
   "cell_type": "code",
   "execution_count": 26,
   "id": "0e2ca78f",
   "metadata": {},
   "outputs": [],
   "source": [
    "?read.delim"
   ]
  },
  {
   "cell_type": "code",
   "execution_count": 141,
   "id": "4bd17b26",
   "metadata": {},
   "outputs": [
    {
     "data": {
      "text/html": [
       "<style>\n",
       ".list-inline {list-style: none; margin:0; padding: 0}\n",
       ".list-inline>li {display: inline-block}\n",
       ".list-inline>li:not(:last-child)::after {content: \"\\00b7\"; padding: 0 .5ex}\n",
       "</style>\n",
       "<ol class=list-inline><li>'name'</li><li>'expanded_in'</li><li>'compared_to'</li><li>'Nmin_expanded_in'</li><li>'Nmin_compared_to'</li><li>'min_expansion_factor'</li><li>'expanded_in_all_found'</li><li>'compared_to_all_found'</li></ol>\n"
      ],
      "text/latex": [
       "\\begin{enumerate*}\n",
       "\\item 'name'\n",
       "\\item 'expanded\\_in'\n",
       "\\item 'compared\\_to'\n",
       "\\item 'Nmin\\_expanded\\_in'\n",
       "\\item 'Nmin\\_compared\\_to'\n",
       "\\item 'min\\_expansion\\_factor'\n",
       "\\item 'expanded\\_in\\_all\\_found'\n",
       "\\item 'compared\\_to\\_all\\_found'\n",
       "\\end{enumerate*}\n"
      ],
      "text/markdown": [
       "1. 'name'\n",
       "2. 'expanded_in'\n",
       "3. 'compared_to'\n",
       "4. 'Nmin_expanded_in'\n",
       "5. 'Nmin_compared_to'\n",
       "6. 'min_expansion_factor'\n",
       "7. 'expanded_in_all_found'\n",
       "8. 'compared_to_all_found'\n",
       "\n",
       "\n"
      ],
      "text/plain": [
       "[1] \"name\"                  \"expanded_in\"           \"compared_to\"          \n",
       "[4] \"Nmin_expanded_in\"      \"Nmin_compared_to\"      \"min_expansion_factor\" \n",
       "[7] \"expanded_in_all_found\" \"compared_to_all_found\""
      ]
     },
     "metadata": {},
     "output_type": "display_data"
    }
   ],
   "source": [
    "colnames(hypotheses)[-1]"
   ]
  },
  {
   "cell_type": "code",
   "execution_count": 51,
   "id": "0103bd62",
   "metadata": {},
   "outputs": [
    {
     "ename": "ERROR",
     "evalue": "Error in `[.data.frame`(hypotheses, \"1\"): undefined columns selected\n",
     "output_type": "error",
     "traceback": [
      "Error in `[.data.frame`(hypotheses, \"1\"): undefined columns selected\nTraceback:\n",
      "1. hypotheses[\"1\"]",
      "2. `[.data.frame`(hypotheses, \"1\")",
      "3. stop(\"undefined columns selected\")"
     ]
    }
   ],
   "source": [
    "hypotheses[\"1\"]"
   ]
  },
  {
   "cell_type": "code",
   "execution_count": 96,
   "id": "alternative-lindsay",
   "metadata": {},
   "outputs": [
    {
     "name": "stderr",
     "output_type": "stream",
     "text": [
      "\n",
      "\u001b[36m──\u001b[39m \u001b[1m\u001b[1mColumn specification\u001b[1m\u001b[22m \u001b[36m──────────────────────────────────────────────────────────────────────────\u001b[39m\n",
      "cols(\n",
      "  hypothesis = \u001b[32mcol_double()\u001b[39m,\n",
      "  name = \u001b[31mcol_character()\u001b[39m,\n",
      "  expanded_in = \u001b[31mcol_character()\u001b[39m,\n",
      "  compared_to = \u001b[31mcol_character()\u001b[39m,\n",
      "  Nmin_expanded_in = \u001b[32mcol_double()\u001b[39m,\n",
      "  Nmin_compared_to = \u001b[32mcol_double()\u001b[39m,\n",
      "  min_expansion_factor = \u001b[32mcol_double()\u001b[39m,\n",
      "  expanded_in_all_found = \u001b[31mcol_character()\u001b[39m,\n",
      "  compared_to_all_found = \u001b[31mcol_character()\u001b[39m\n",
      ")\n",
      "\n",
      "\n"
     ]
    },
    {
     "data": {
      "text/html": [
       "'Arabidopsis_thaliana'"
      ],
      "text/latex": [
       "'Arabidopsis\\_thaliana'"
      ],
      "text/markdown": [
       "'Arabidopsis_thaliana'"
      ],
      "text/plain": [
       "[1] \"Arabidopsis_thaliana\""
      ]
     },
     "metadata": {},
     "output_type": "display_data"
    },
    {
     "data": {
      "text/html": [
       "'Hordeum_vulgare'"
      ],
      "text/latex": [
       "'Hordeum\\_vulgare'"
      ],
      "text/markdown": [
       "'Hordeum_vulgare'"
      ],
      "text/plain": [
       "[1] \"Hordeum_vulgare\""
      ]
     },
     "metadata": {},
     "output_type": "display_data"
    },
    {
     "data": {
      "text/html": [
       "'Zea_mays'"
      ],
      "text/latex": [
       "'Zea\\_mays'"
      ],
      "text/markdown": [
       "'Zea_mays'"
      ],
      "text/plain": [
       "[1] \"Zea_mays\""
      ]
     },
     "metadata": {},
     "output_type": "display_data"
    },
    {
     "data": {
      "text/html": [
       "NA"
      ],
      "text/latex": [
       "NA"
      ],
      "text/markdown": [
       "NA"
      ],
      "text/plain": [
       "[1] NA"
      ]
     },
     "metadata": {},
     "output_type": "display_data"
    },
    {
     "data": {
      "text/html": [
       "'Zea_mays'"
      ],
      "text/latex": [
       "'Zea\\_mays'"
      ],
      "text/markdown": [
       "'Zea_mays'"
      ],
      "text/plain": [
       "[1] \"Zea_mays\""
      ]
     },
     "metadata": {},
     "output_type": "display_data"
    }
   ],
   "source": [
    "# read-in hypothesis object\n",
    "hypotheses <- read_delim(\"../config/hypotheses_old.tsv\", delim = \"\\t\")\n",
    "hypotheses$expanded_in[1]\n",
    "hypotheses$expanded_in[2]\n",
    "hypotheses$expanded_in[3]\n",
    "hypotheses$expanded_in[4]\n",
    "hypotheses$expanded_in[3]"
   ]
  },
  {
   "cell_type": "code",
   "execution_count": 157,
   "id": "b8641ec7",
   "metadata": {},
   "outputs": [
    {
     "data": {
      "text/html": [
       "<ol>\n",
       "\t<li>NA</li>\n",
       "</ol>\n"
      ],
      "text/latex": [
       "\\begin{enumerate}\n",
       "\\item NA\n",
       "\\end{enumerate}\n"
      ],
      "text/markdown": [
       "1. NA\n",
       "\n",
       "\n"
      ],
      "text/plain": [
       "[[1]]\n",
       "[1] NA\n"
      ]
     },
     "metadata": {},
     "output_type": "display_data"
    }
   ],
   "source": [
    "str_split(hypotheses$expanded_in[as.character(1)], \";\")"
   ]
  },
  {
   "cell_type": "code",
   "execution_count": 161,
   "id": "c1be6a75",
   "metadata": {},
   "outputs": [
    {
     "name": "stdout",
     "output_type": "stream",
     "text": [
      "[1] 1\n",
      "[[1]]\n",
      "[1] \"Arabidopsis_thaliana\"\n",
      "\n",
      "[1] 2\n",
      "[[1]]\n",
      "[1] \"Hordeum_vulgare\"\n",
      "\n",
      "[1] 3\n",
      "[[1]]\n",
      "[1] \"Zea_mays\"\n",
      "\n",
      "[1] 4\n",
      "[[1]]\n",
      "[1] \"Hordeum_vulgare\" \"Zea_mays\"       \n",
      "\n"
     ]
    }
   ],
   "source": [
    "for (hypothesis in hypotheses$hypothesis) {\n",
    "  print(hypothesis)\n",
    "  print(str_split(hypotheses$expanded_in[hypothesis], \";\"))\n",
    "}"
   ]
  },
  {
   "cell_type": "code",
   "execution_count": 98,
   "id": "09700194",
   "metadata": {},
   "outputs": [
    {
     "data": {
      "text/html": [
       "<table class=\"dataframe\">\n",
       "<caption>A spec_tbl_df: 3 × 9</caption>\n",
       "<thead>\n",
       "\t<tr><th scope=col>hypothesis</th><th scope=col>name</th><th scope=col>expanded_in</th><th scope=col>compared_to</th><th scope=col>Nmin_expanded_in</th><th scope=col>Nmin_compared_to</th><th scope=col>min_expansion_factor</th><th scope=col>expanded_in_all_found</th><th scope=col>compared_to_all_found</th></tr>\n",
       "\t<tr><th scope=col>&lt;dbl&gt;</th><th scope=col>&lt;chr&gt;</th><th scope=col>&lt;chr&gt;</th><th scope=col>&lt;chr&gt;</th><th scope=col>&lt;dbl&gt;</th><th scope=col>&lt;dbl&gt;</th><th scope=col>&lt;dbl&gt;</th><th scope=col>&lt;chr&gt;</th><th scope=col>&lt;chr&gt;</th></tr>\n",
       "</thead>\n",
       "<tbody>\n",
       "\t<tr><td>1</td><td>Expanded in Arabidopsis compared to Monocots</td><td>Arabidopsis_thaliana</td><td>Zea_mays;Hordeum_vulgare            </td><td>1</td><td>2</td><td>2</td><td>YES</td><td>YES</td></tr>\n",
       "\t<tr><td>2</td><td>Expanded in barley compared to maize        </td><td>Hordeum_vulgare     </td><td>Zea_mays                            </td><td>1</td><td>1</td><td>2</td><td>NO </td><td>NO </td></tr>\n",
       "\t<tr><td>3</td><td>bla                                         </td><td>Zea_mays            </td><td>Hordeum_vulgare;Arabidopsis_thaliana</td><td>1</td><td>1</td><td>3</td><td>YES</td><td>YES</td></tr>\n",
       "</tbody>\n",
       "</table>\n"
      ],
      "text/latex": [
       "A spec\\_tbl\\_df: 3 × 9\n",
       "\\begin{tabular}{lllllllll}\n",
       " hypothesis & name & expanded\\_in & compared\\_to & Nmin\\_expanded\\_in & Nmin\\_compared\\_to & min\\_expansion\\_factor & expanded\\_in\\_all\\_found & compared\\_to\\_all\\_found\\\\\n",
       " <dbl> & <chr> & <chr> & <chr> & <dbl> & <dbl> & <dbl> & <chr> & <chr>\\\\\n",
       "\\hline\n",
       "\t 1 & Expanded in Arabidopsis compared to Monocots & Arabidopsis\\_thaliana & Zea\\_mays;Hordeum\\_vulgare             & 1 & 2 & 2 & YES & YES\\\\\n",
       "\t 2 & Expanded in barley compared to maize         & Hordeum\\_vulgare      & Zea\\_mays                             & 1 & 1 & 2 & NO  & NO \\\\\n",
       "\t 3 & bla                                          & Zea\\_mays             & Hordeum\\_vulgare;Arabidopsis\\_thaliana & 1 & 1 & 3 & YES & YES\\\\\n",
       "\\end{tabular}\n"
      ],
      "text/markdown": [
       "\n",
       "A spec_tbl_df: 3 × 9\n",
       "\n",
       "| hypothesis &lt;dbl&gt; | name &lt;chr&gt; | expanded_in &lt;chr&gt; | compared_to &lt;chr&gt; | Nmin_expanded_in &lt;dbl&gt; | Nmin_compared_to &lt;dbl&gt; | min_expansion_factor &lt;dbl&gt; | expanded_in_all_found &lt;chr&gt; | compared_to_all_found &lt;chr&gt; |\n",
       "|---|---|---|---|---|---|---|---|---|\n",
       "| 1 | Expanded in Arabidopsis compared to Monocots | Arabidopsis_thaliana | Zea_mays;Hordeum_vulgare             | 1 | 2 | 2 | YES | YES |\n",
       "| 2 | Expanded in barley compared to maize         | Hordeum_vulgare      | Zea_mays                             | 1 | 1 | 2 | NO  | NO  |\n",
       "| 3 | bla                                          | Zea_mays             | Hordeum_vulgare;Arabidopsis_thaliana | 1 | 1 | 3 | YES | YES |\n",
       "\n"
      ],
      "text/plain": [
       "  hypothesis name                                         expanded_in         \n",
       "1 1          Expanded in Arabidopsis compared to Monocots Arabidopsis_thaliana\n",
       "2 2          Expanded in barley compared to maize         Hordeum_vulgare     \n",
       "3 3          bla                                          Zea_mays            \n",
       "  compared_to                          Nmin_expanded_in Nmin_compared_to\n",
       "1 Zea_mays;Hordeum_vulgare             1                2               \n",
       "2 Zea_mays                             1                1               \n",
       "3 Hordeum_vulgare;Arabidopsis_thaliana 1                1               \n",
       "  min_expansion_factor expanded_in_all_found compared_to_all_found\n",
       "1 2                    YES                   YES                  \n",
       "2 2                    NO                    NO                   \n",
       "3 3                    YES                   YES                  "
      ]
     },
     "metadata": {},
     "output_type": "display_data"
    }
   ],
   "source": [
    "hypotheses"
   ]
  },
  {
   "cell_type": "code",
   "execution_count": null,
   "id": "f9ca94a7",
   "metadata": {},
   "outputs": [],
   "source": []
  },
  {
   "cell_type": "code",
   "execution_count": 11,
   "id": "juvenile-graham",
   "metadata": {
    "collapsed": true
   },
   "outputs": [
    {
     "name": "stderr",
     "output_type": "stream",
     "text": [
      "Warning message in dir.create(paste(\"orthofinder/final-results/Species_Tree/\", \"hypothesis_specific/\", :\n",
      "“cannot create dir 'orthofinder/final-results/Species_Tree/hypothesis_specific/1', reason 'No such file or directory'”\n",
      "Warning message in file(file, ifelse(append, \"a\", \"w\")):\n",
      "“cannot open file 'orthofinder/final-results/Species_Tree/hypothesis_specific/1/SpeciesTree_rooted_node_labels.txt': No such file or directory”\n"
     ]
    },
    {
     "ename": "ERROR",
     "evalue": "Error in file(file, ifelse(append, \"a\", \"w\")): cannot open the connection\n",
     "output_type": "error",
     "traceback": [
      "Error in file(file, ifelse(append, \"a\", \"w\")): cannot open the connection\nTraceback:\n",
      "1. write.tree(speciesTree, file = paste0(\"orthofinder/final-results/Species_Tree/\", \n .     \"hypothesis_specific/\", hypothesis, \"/SpeciesTree_rooted_node_labels.txt\"), \n .     append = FALSE, tree.names = FALSE)",
      "2. cat(res, file = file, append = append, sep = \"\\n\")",
      "3. file(file, ifelse(append, \"a\", \"w\"))"
     ]
    }
   ],
   "source": [
    "# loop through hypotheses\n",
    "for (hypothesis in hypotheses$hypothesis) {\n",
    "\n",
    "# assign or subset the orthofinder species_tree based on the current hypothesis\n",
    "speciesTree <- ape::keep.tip(read.tree(\"../orthofinder/final-results/Species_Tree/SpeciesTree_rooted_node_labels.txt\"), \n",
    "                                 c(unlist(str_split(hypotheses$expanded_in[hypothesis], \";\")), \n",
    "                                   unlist(str_split(hypotheses$compared_to[hypothesis], \";\"))))\n",
    "\n",
    "# create directories (handled by snakemake)\n",
    "#dir.create(paste(\"orthofinder/final-results/Species_Tree/\", \"hypothesis_specific/\", hypothesis, \"/\", sep = \"\"))\n",
    "    \n",
    "write.tree(speciesTree, \n",
    "           file = paste0(\"orthofinder/final-results/Species_Tree/\", \"hypothesis_specific/\", hypothesis,\n",
    "                         \"/SpeciesTree_rooted_node_labels.txt\"), \n",
    "           append = FALSE, \n",
    "           tree.names = FALSE)\n",
    "}"
   ]
  },
  {
   "cell_type": "code",
   "execution_count": 9,
   "id": "ceramic-layer",
   "metadata": {},
   "outputs": [
    {
     "data": {
      "text/html": [
       "'/scratch2/cropbio/stoecker/A2TEA-pipeline/a2tea'"
      ],
      "text/latex": [
       "'/scratch2/cropbio/stoecker/A2TEA-pipeline/a2tea'"
      ],
      "text/markdown": [
       "'/scratch2/cropbio/stoecker/A2TEA-pipeline/a2tea'"
      ],
      "text/plain": [
       "[1] \"/scratch2/cropbio/stoecker/A2TEA-pipeline/a2tea\""
      ]
     },
     "metadata": {},
     "output_type": "display_data"
    }
   ],
   "source": [
    "getwd()"
   ]
  },
  {
   "cell_type": "code",
   "execution_count": null,
   "id": "gross-lease",
   "metadata": {},
   "outputs": [],
   "source": []
  },
  {
   "cell_type": "code",
   "execution_count": null,
   "id": "middle-peace",
   "metadata": {},
   "outputs": [],
   "source": []
  }
 ],
 "metadata": {
  "kernelspec": {
   "display_name": "R",
   "language": "R",
   "name": "ir"
  },
  "language_info": {
   "codemirror_mode": "r",
   "file_extension": ".r",
   "mimetype": "text/x-r-source",
   "name": "R",
   "pygments_lexer": "r",
   "version": "4.1.0"
  }
 },
 "nbformat": 4,
 "nbformat_minor": 5
}
