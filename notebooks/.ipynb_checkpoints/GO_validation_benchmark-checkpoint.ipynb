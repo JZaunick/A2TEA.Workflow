{
 "cells": [
  {
   "cell_type": "code",
   "execution_count": null,
   "id": "09b9795c",
   "metadata": {},
   "outputs": [],
   "source": [
    "#if (!requireNamespace(\"BiocManager\", quietly = TRUE))\n",
    "#    install.packages(\"BiocManager\")\n",
    "\n",
    "#BiocManager::install(\"clusterProfiler\", force = TRUE)\n",
    "#BiocManager::install(\"DO.db\", force=TRUE)\n",
    "\n",
    "#install.packages(\"ontologyIndex\")\n",
    "#install.packages(\"ggnewscale\")\n",
    "#install.packages(\"ggupset\")\n",
    "#install.packages(\"europepmc\")\n",
    "#install.packages(\"ggridges\")\n",
    "#install.packages(\"forcats\")\n",
    "#install.packages(\"rentrez\")"
   ]
  },
  {
   "cell_type": "code",
   "execution_count": 1,
   "id": "f9012cd6",
   "metadata": {
    "scrolled": true
   },
   "outputs": [
    {
     "name": "stderr",
     "output_type": "stream",
     "text": [
      "\n",
      "Attaching package: ‘dplyr’\n",
      "\n",
      "\n",
      "The following objects are masked from ‘package:stats’:\n",
      "\n",
      "    filter, lag\n",
      "\n",
      "\n",
      "The following objects are masked from ‘package:base’:\n",
      "\n",
      "    intersect, setdiff, setequal, union\n",
      "\n",
      "\n",
      "\n",
      "\n",
      "clusterProfiler v4.0.5  For help: https://yulab-smu.top/biomedical-knowledge-mining-book/\n",
      "\n",
      "If you use clusterProfiler in published research, please cite:\n",
      "T Wu, E Hu, S Xu, M Chen, P Guo, Z Dai, T Feng, L Zhou, W Tang, L Zhan, X Fu, S Liu, X Bo, and G Yu. clusterProfiler 4.0: A universal enrichment tool for interpreting omics data. The Innovation. 2021, 2(3):100141. doi: 10.1016/j.xinn.2021.100141\n",
      "\n",
      "\n",
      "Attaching package: ‘clusterProfiler’\n",
      "\n",
      "\n",
      "The following object is masked from ‘package:stats’:\n",
      "\n",
      "    filter\n",
      "\n",
      "\n"
     ]
    }
   ],
   "source": [
    "library(dplyr)\n",
    "library(stringr)\n",
    "library(tidyr)\n",
    "library(clusterProfiler)\n",
    "library(ontologyIndex)\n",
    "library(ggnewscale)\n",
    "library(enrichplot)\n",
    "library(ggupset)\n",
    "library(europepmc)\n",
    "library(ggridges)\n",
    "library(ggplot2)\n",
    "library(cowplot)\n",
    "library(forcats)\n",
    "library(rentrez)\n",
    "\n",
    "#load(\"../tea/A2TEA_finished.RData\")"
   ]
  },
  {
   "cell_type": "markdown",
   "id": "0863e5e4",
   "metadata": {},
   "source": [
    "### Building a Drought GO truth set\n",
    "#### Using rentrez package to query NCBI"
   ]
  },
  {
   "cell_type": "markdown",
   "id": "ad40e1eb",
   "metadata": {},
   "source": [
    "##### Idea 1: Based on investigated species"
   ]
  },
  {
   "cell_type": "code",
   "execution_count": 2,
   "id": "d1339c82",
   "metadata": {},
   "outputs": [
    {
     "data": {
      "text/html": [
       "<style>\n",
       ".list-inline {list-style: none; margin:0; padding: 0}\n",
       ".list-inline>li {display: inline-block}\n",
       ".list-inline>li:not(:last-child)::after {content: \"\\00b7\"; padding: 0 .5ex}\n",
       "</style>\n",
       "<ol class=list-inline><li>'pubmed'</li><li>'protein'</li><li>'nuccore'</li><li>'ipg'</li><li>'nucleotide'</li><li>'structure'</li><li>'genome'</li><li>'annotinfo'</li><li>'assembly'</li><li>'bioproject'</li><li>'biosample'</li><li>'blastdbinfo'</li><li>'books'</li><li>'cdd'</li><li>'clinvar'</li><li>'gap'</li><li>'gapplus'</li><li>'grasp'</li><li>'dbvar'</li><li>'gene'</li><li>'gds'</li><li>'geoprofiles'</li><li>'homologene'</li><li>'medgen'</li><li>'mesh'</li><li>'ncbisearch'</li><li>'nlmcatalog'</li><li>'omim'</li><li>'orgtrack'</li><li>'pmc'</li><li>'popset'</li><li>'proteinclusters'</li><li>'pcassay'</li><li>'protfam'</li><li>'biosystems'</li><li>'pccompound'</li><li>'pcsubstance'</li><li>'seqannot'</li><li>'snp'</li><li>'sra'</li><li>'taxonomy'</li><li>'biocollections'</li><li>'gtr'</li></ol>\n"
      ],
      "text/latex": [
       "\\begin{enumerate*}\n",
       "\\item 'pubmed'\n",
       "\\item 'protein'\n",
       "\\item 'nuccore'\n",
       "\\item 'ipg'\n",
       "\\item 'nucleotide'\n",
       "\\item 'structure'\n",
       "\\item 'genome'\n",
       "\\item 'annotinfo'\n",
       "\\item 'assembly'\n",
       "\\item 'bioproject'\n",
       "\\item 'biosample'\n",
       "\\item 'blastdbinfo'\n",
       "\\item 'books'\n",
       "\\item 'cdd'\n",
       "\\item 'clinvar'\n",
       "\\item 'gap'\n",
       "\\item 'gapplus'\n",
       "\\item 'grasp'\n",
       "\\item 'dbvar'\n",
       "\\item 'gene'\n",
       "\\item 'gds'\n",
       "\\item 'geoprofiles'\n",
       "\\item 'homologene'\n",
       "\\item 'medgen'\n",
       "\\item 'mesh'\n",
       "\\item 'ncbisearch'\n",
       "\\item 'nlmcatalog'\n",
       "\\item 'omim'\n",
       "\\item 'orgtrack'\n",
       "\\item 'pmc'\n",
       "\\item 'popset'\n",
       "\\item 'proteinclusters'\n",
       "\\item 'pcassay'\n",
       "\\item 'protfam'\n",
       "\\item 'biosystems'\n",
       "\\item 'pccompound'\n",
       "\\item 'pcsubstance'\n",
       "\\item 'seqannot'\n",
       "\\item 'snp'\n",
       "\\item 'sra'\n",
       "\\item 'taxonomy'\n",
       "\\item 'biocollections'\n",
       "\\item 'gtr'\n",
       "\\end{enumerate*}\n"
      ],
      "text/markdown": [
       "1. 'pubmed'\n",
       "2. 'protein'\n",
       "3. 'nuccore'\n",
       "4. 'ipg'\n",
       "5. 'nucleotide'\n",
       "6. 'structure'\n",
       "7. 'genome'\n",
       "8. 'annotinfo'\n",
       "9. 'assembly'\n",
       "10. 'bioproject'\n",
       "11. 'biosample'\n",
       "12. 'blastdbinfo'\n",
       "13. 'books'\n",
       "14. 'cdd'\n",
       "15. 'clinvar'\n",
       "16. 'gap'\n",
       "17. 'gapplus'\n",
       "18. 'grasp'\n",
       "19. 'dbvar'\n",
       "20. 'gene'\n",
       "21. 'gds'\n",
       "22. 'geoprofiles'\n",
       "23. 'homologene'\n",
       "24. 'medgen'\n",
       "25. 'mesh'\n",
       "26. 'ncbisearch'\n",
       "27. 'nlmcatalog'\n",
       "28. 'omim'\n",
       "29. 'orgtrack'\n",
       "30. 'pmc'\n",
       "31. 'popset'\n",
       "32. 'proteinclusters'\n",
       "33. 'pcassay'\n",
       "34. 'protfam'\n",
       "35. 'biosystems'\n",
       "36. 'pccompound'\n",
       "37. 'pcsubstance'\n",
       "38. 'seqannot'\n",
       "39. 'snp'\n",
       "40. 'sra'\n",
       "41. 'taxonomy'\n",
       "42. 'biocollections'\n",
       "43. 'gtr'\n",
       "\n",
       "\n"
      ],
      "text/plain": [
       " [1] \"pubmed\"          \"protein\"         \"nuccore\"         \"ipg\"            \n",
       " [5] \"nucleotide\"      \"structure\"       \"genome\"          \"annotinfo\"      \n",
       " [9] \"assembly\"        \"bioproject\"      \"biosample\"       \"blastdbinfo\"    \n",
       "[13] \"books\"           \"cdd\"             \"clinvar\"         \"gap\"            \n",
       "[17] \"gapplus\"         \"grasp\"           \"dbvar\"           \"gene\"           \n",
       "[21] \"gds\"             \"geoprofiles\"     \"homologene\"      \"medgen\"         \n",
       "[25] \"mesh\"            \"ncbisearch\"      \"nlmcatalog\"      \"omim\"           \n",
       "[29] \"orgtrack\"        \"pmc\"             \"popset\"          \"proteinclusters\"\n",
       "[33] \"pcassay\"         \"protfam\"         \"biosystems\"      \"pccompound\"     \n",
       "[37] \"pcsubstance\"     \"seqannot\"        \"snp\"             \"sra\"            \n",
       "[41] \"taxonomy\"        \"biocollections\"  \"gtr\"            "
      ]
     },
     "metadata": {},
     "output_type": "display_data"
    }
   ],
   "source": [
    "#get available NCBI database\n",
    "entrez_dbs()"
   ]
  },
  {
   "cell_type": "code",
   "execution_count": null,
   "id": "b0a934af",
   "metadata": {},
   "outputs": [],
   "source": [
    "entrez_db_summary(\"annotinfo\")"
   ]
  },
  {
   "cell_type": "code",
   "execution_count": null,
   "id": "97d7f516",
   "metadata": {},
   "outputs": [],
   "source": [
    "entrez_db_summary(\"gene\")"
   ]
  },
  {
   "cell_type": "code",
   "execution_count": null,
   "id": "a41370eb",
   "metadata": {},
   "outputs": [],
   "source": [
    "drought_search <- entrez_search(db=\"gene\", \n",
    "                                term=\"(drought[All Fields] OR desiccation[All Fields] OR water deprivation[All Fields]) AND alive[prop] AND (Arabidopsis[Organism] OR Hordeum[Organism] OR Zea mays[Organism])\",\n",
    "                                retmax=1000\n",
    "                               )\n",
    "\n",
    "head(drought_search$ids, n=40)\n",
    "length(drought_search$ids)"
   ]
  },
  {
   "cell_type": "code",
   "execution_count": 5,
   "id": "037a4ccf",
   "metadata": {
    "scrolled": true
   },
   "outputs": [
    {
     "data": {
      "text/html": [
       "<dl>\n",
       "\t<dt>$uid</dt>\n",
       "\t\t<dd>'816394'</dd>\n",
       "\t<dt>$name</dt>\n",
       "\t\t<dd>'PHYB'</dd>\n",
       "\t<dt>$description</dt>\n",
       "\t\t<dd>'phytochrome B'</dd>\n",
       "\t<dt>$status</dt>\n",
       "\t\t<dd>''</dd>\n",
       "\t<dt>$currentid</dt>\n",
       "\t\t<dd>''</dd>\n",
       "\t<dt>$chromosome</dt>\n",
       "\t\t<dd>'2'</dd>\n",
       "\t<dt>$geneticsource</dt>\n",
       "\t\t<dd>'genomic'</dd>\n",
       "\t<dt>$maplocation</dt>\n",
       "\t\t<dd>''</dd>\n",
       "\t<dt>$otheraliases</dt>\n",
       "\t\t<dd>'AT2G18790, HY3, MSF3.17, MSF3_17, OOP1, OUT OF PHASE 1, PHYTOCHROME B, phytochrome B'</dd>\n",
       "\t<dt>$otherdesignations</dt>\n",
       "\t\t<dd>'phytochrome B'</dd>\n",
       "\t<dt>$nomenclaturesymbol</dt>\n",
       "\t\t<dd>''</dd>\n",
       "\t<dt>$nomenclaturename</dt>\n",
       "\t\t<dd>''</dd>\n",
       "\t<dt>$nomenclaturestatus</dt>\n",
       "\t\t<dd>''</dd>\n",
       "\t<dt>$mim</dt>\n",
       "\t\t<dd><ol>\n",
       "</ol>\n",
       "</dd>\n",
       "\t<dt>$genomicinfo</dt>\n",
       "\t\t<dd><table class=\"dataframe\">\n",
       "<caption>A data.frame: 1 × 5</caption>\n",
       "<thead>\n",
       "\t<tr><th></th><th scope=col>chrloc</th><th scope=col>chraccver</th><th scope=col>chrstart</th><th scope=col>chrstop</th><th scope=col>exoncount</th></tr>\n",
       "\t<tr><th></th><th scope=col>&lt;chr&gt;</th><th scope=col>&lt;chr&gt;</th><th scope=col>&lt;int&gt;</th><th scope=col>&lt;int&gt;</th><th scope=col>&lt;int&gt;</th></tr>\n",
       "</thead>\n",
       "<tbody>\n",
       "\t<tr><th scope=row>1</th><td>2</td><td>NC_003071.7</td><td>8139755</td><td>8144460</td><td>3</td></tr>\n",
       "</tbody>\n",
       "</table>\n",
       "</dd>\n",
       "\t<dt>$geneweight</dt>\n",
       "\t\t<dd>14762</dd>\n",
       "\t<dt>$summary</dt>\n",
       "\t\t<dd>'Red/far-red photoreceptor involved in the regulation of de-etiolation. Exists in two inter-convertible forms: Pr and Pfr (active). Involved in the light-promotion of seed germination and in the shade avoidance response. Promotes seedling etiolation in both the presence and absence of phytochrome A. Overexpression results in etiolation under far-red light. Accumulates in the nucleus after exposure to far red light. The phosphorylation state of the Ser-86 residue of the phytochrome B molecule alters dark reversion of the molecule.'</dd>\n",
       "\t<dt>$chrsort</dt>\n",
       "\t\t<dd>'02'</dd>\n",
       "\t<dt>$chrstart</dt>\n",
       "\t\t<dd>8139755</dd>\n",
       "\t<dt>$organism</dt>\n",
       "\t\t<dd><dl>\n",
       "\t<dt>$scientificname</dt>\n",
       "\t\t<dd>'Arabidopsis thaliana'</dd>\n",
       "\t<dt>$commonname</dt>\n",
       "\t\t<dd>'thale cress'</dd>\n",
       "\t<dt>$taxid</dt>\n",
       "\t\t<dd>3702</dd>\n",
       "</dl>\n",
       "</dd>\n",
       "\t<dt>$locationhist</dt>\n",
       "\t\t<dd><ol>\n",
       "</ol>\n",
       "</dd>\n",
       "</dl>\n"
      ],
      "text/latex": [
       "\\begin{description}\n",
       "\\item[\\$uid] '816394'\n",
       "\\item[\\$name] 'PHYB'\n",
       "\\item[\\$description] 'phytochrome B'\n",
       "\\item[\\$status] ''\n",
       "\\item[\\$currentid] ''\n",
       "\\item[\\$chromosome] '2'\n",
       "\\item[\\$geneticsource] 'genomic'\n",
       "\\item[\\$maplocation] ''\n",
       "\\item[\\$otheraliases] 'AT2G18790, HY3, MSF3.17, MSF3\\_17, OOP1, OUT OF PHASE 1, PHYTOCHROME B, phytochrome B'\n",
       "\\item[\\$otherdesignations] 'phytochrome B'\n",
       "\\item[\\$nomenclaturesymbol] ''\n",
       "\\item[\\$nomenclaturename] ''\n",
       "\\item[\\$nomenclaturestatus] ''\n",
       "\\item[\\$mim] \\begin{enumerate}\n",
       "\\end{enumerate}\n",
       "\n",
       "\\item[\\$genomicinfo] A data.frame: 1 × 5\n",
       "\\begin{tabular}{r|lllll}\n",
       "  & chrloc & chraccver & chrstart & chrstop & exoncount\\\\\n",
       "  & <chr> & <chr> & <int> & <int> & <int>\\\\\n",
       "\\hline\n",
       "\t1 & 2 & NC\\_003071.7 & 8139755 & 8144460 & 3\\\\\n",
       "\\end{tabular}\n",
       "\n",
       "\\item[\\$geneweight] 14762\n",
       "\\item[\\$summary] 'Red/far-red photoreceptor involved in the regulation of de-etiolation. Exists in two inter-convertible forms: Pr and Pfr (active). Involved in the light-promotion of seed germination and in the shade avoidance response. Promotes seedling etiolation in both the presence and absence of phytochrome A. Overexpression results in etiolation under far-red light. Accumulates in the nucleus after exposure to far red light. The phosphorylation state of the Ser-86 residue of the phytochrome B molecule alters dark reversion of the molecule.'\n",
       "\\item[\\$chrsort] '02'\n",
       "\\item[\\$chrstart] 8139755\n",
       "\\item[\\$organism] \\begin{description}\n",
       "\\item[\\$scientificname] 'Arabidopsis thaliana'\n",
       "\\item[\\$commonname] 'thale cress'\n",
       "\\item[\\$taxid] 3702\n",
       "\\end{description}\n",
       "\n",
       "\\item[\\$locationhist] \\begin{enumerate}\n",
       "\\end{enumerate}\n",
       "\n",
       "\\end{description}\n"
      ],
      "text/markdown": [
       "$uid\n",
       ":   '816394'\n",
       "$name\n",
       ":   'PHYB'\n",
       "$description\n",
       ":   'phytochrome B'\n",
       "$status\n",
       ":   ''\n",
       "$currentid\n",
       ":   ''\n",
       "$chromosome\n",
       ":   '2'\n",
       "$geneticsource\n",
       ":   'genomic'\n",
       "$maplocation\n",
       ":   ''\n",
       "$otheraliases\n",
       ":   'AT2G18790, HY3, MSF3.17, MSF3_17, OOP1, OUT OF PHASE 1, PHYTOCHROME B, phytochrome B'\n",
       "$otherdesignations\n",
       ":   'phytochrome B'\n",
       "$nomenclaturesymbol\n",
       ":   ''\n",
       "$nomenclaturename\n",
       ":   ''\n",
       "$nomenclaturestatus\n",
       ":   ''\n",
       "$mim\n",
       ":   \n",
       "\n",
       "\n",
       "$genomicinfo\n",
       ":   \n",
       "A data.frame: 1 × 5\n",
       "\n",
       "| <!--/--> | chrloc &lt;chr&gt; | chraccver &lt;chr&gt; | chrstart &lt;int&gt; | chrstop &lt;int&gt; | exoncount &lt;int&gt; |\n",
       "|---|---|---|---|---|---|\n",
       "| 1 | 2 | NC_003071.7 | 8139755 | 8144460 | 3 |\n",
       "\n",
       "\n",
       "$geneweight\n",
       ":   14762\n",
       "$summary\n",
       ":   'Red/far-red photoreceptor involved in the regulation of de-etiolation. Exists in two inter-convertible forms: Pr and Pfr (active). Involved in the light-promotion of seed germination and in the shade avoidance response. Promotes seedling etiolation in both the presence and absence of phytochrome A. Overexpression results in etiolation under far-red light. Accumulates in the nucleus after exposure to far red light. The phosphorylation state of the Ser-86 residue of the phytochrome B molecule alters dark reversion of the molecule.'\n",
       "$chrsort\n",
       ":   '02'\n",
       "$chrstart\n",
       ":   8139755\n",
       "$organism\n",
       ":   $scientificname\n",
       ":   'Arabidopsis thaliana'\n",
       "$commonname\n",
       ":   'thale cress'\n",
       "$taxid\n",
       ":   3702\n",
       "\n",
       "\n",
       "\n",
       "$locationhist\n",
       ":   \n",
       "\n",
       "\n",
       "\n",
       "\n"
      ],
      "text/plain": [
       "esummary result with 20 items:\n",
       " [1] uid                name               description        status            \n",
       " [5] currentid          chromosome         geneticsource      maplocation       \n",
       " [9] otheraliases       otherdesignations  nomenclaturesymbol nomenclaturename  \n",
       "[13] nomenclaturestatus mim                genomicinfo        geneweight        \n",
       "[17] summary            chrsort            chrstart           organism          "
      ]
     },
     "metadata": {},
     "output_type": "display_data"
    }
   ],
   "source": [
    "entrez_summary(db=\"gene\", id=816394)"
   ]
  },
  {
   "cell_type": "code",
   "execution_count": null,
   "id": "3ed02242",
   "metadata": {},
   "outputs": [],
   "source": [
    "aliases <- vector(length = length(drought_search$ids))\n",
    "\n",
    "count = 1\n",
    "\n",
    "for (q in drought_search$ids) {\n",
    "\n",
    "  q_summary <- entrez_summary(db=\"gene\", id=q)    \n",
    "  aliases[count] <- q_summary$otheraliases\n",
    "  #increment count, so next iteation goes to next index position\n",
    "  count = count + 1\n",
    "}\n",
    "\n",
    "aliases"
   ]
  },
  {
   "cell_type": "code",
   "execution_count": null,
   "id": "a1ed615a",
   "metadata": {},
   "outputs": [],
   "source": [
    "aliases <- str_remove(aliases, \",(.*)\")\n",
    "aliases <- str_remove(aliases, \"ZEAMMB73_\")\n",
    "aliases <- str_subset(aliases, \"ARALY\", negate = TRUE)\n",
    "aliases <- str_subset(aliases, \" \", negate = TRUE)"
   ]
  },
  {
   "cell_type": "code",
   "execution_count": null,
   "id": "142695cc",
   "metadata": {},
   "outputs": [],
   "source": [
    "aliases"
   ]
  },
  {
   "cell_type": "code",
   "execution_count": null,
   "id": "b635c506",
   "metadata": {},
   "outputs": [],
   "source": [
    "drought_GO_At <- SFA$Arabidopsis_thaliana %>%\n",
    "  filter(`Protein-Accession` %in% aliases) %>%\n",
    "  pull(`Gene-Ontology-Term`)\n",
    "\n",
    "drought_GO_Zm <- SFA$Zea_mays %>%\n",
    "  filter(`Protein-Accession` %in% aliases) %>%\n",
    "  pull(`Gene-Ontology-Term`)\n",
    "\n",
    "drought_GO_Hv <- SFA$Hordeum_vulgare %>%\n",
    "  filter(`Protein-Accession` %in% aliases) %>%\n",
    "  pull(`Gene-Ontology-Term`)"
   ]
  },
  {
   "cell_type": "code",
   "execution_count": null,
   "id": "2cc1dbad",
   "metadata": {},
   "outputs": [],
   "source": [
    "m <- c(drought_GO_At, drought_GO_Zm, drought_GO_Hv)\n",
    "n <- str_split(m, \",\")\n",
    "n <- unlist(n)\n",
    "n <- na.omit(n)\n",
    "n <- str_trim(n)\n",
    "n <- unique(n)\n",
    "length(n)\n",
    "n"
   ]
  },
  {
   "cell_type": "code",
   "execution_count": null,
   "id": "aaa0a45e",
   "metadata": {},
   "outputs": [],
   "source": [
    "ont_BP %>%\n",
    "  filter(GO %in% n) %>%\n",
    "  nrow()\n",
    "\n",
    "ont_MF %>%\n",
    "  filter(GO %in% n) %>%\n",
    "  head(n=10)"
   ]
  },
  {
   "cell_type": "code",
   "execution_count": null,
   "id": "1ace58dc",
   "metadata": {},
   "outputs": [],
   "source": [
    "ont_MF %>%\n",
    "  filter(GO %in% n) %>%\n",
    "  nrow()\n",
    "\n",
    "ont_MF %>%\n",
    "  filter(GO %in% n) %>%\n",
    "  head(n=10)"
   ]
  },
  {
   "cell_type": "code",
   "execution_count": null,
   "id": "39bfbe8d",
   "metadata": {},
   "outputs": [],
   "source": [
    "length(drought_search$ids)"
   ]
  },
  {
   "cell_type": "code",
   "execution_count": null,
   "id": "988eb437",
   "metadata": {},
   "outputs": [],
   "source": [
    "myfxn <- function(idX, dbfromX, dbX){\n",
    "  entrez_link(id=idX, dbfrom=dbfromX, db=dbX)\n",
    "}"
   ]
  },
  {
   "cell_type": "code",
   "execution_count": null,
   "id": "5c981b86",
   "metadata": {},
   "outputs": [],
   "source": [
    "#split into chunks because sometimes network errors etc..\n",
    "#current_links_1_100 <- lapply(drought_search$ids[1:100], myfxn, dbfromX='gene', dbX='all')\n",
    "#current_links_101_200 <- lapply(drought_search$ids[101:200], myfxn, dbfromX='gene', dbX='all')\n",
    "#current_links_201_300 <- lapply(drought_search$ids[201:300], myfxn, dbfromX='gene', dbX='all')\n",
    "#current_links_301_400 <- lapply(drought_search$ids[301:400], myfxn, dbfromX='gene', dbX='all')\n",
    "#current_links_401_500 <- lapply(drought_search$ids[401:500], myfxn, dbfromX='gene', dbX='all')\n",
    "#current_links_501_600 <- lapply(drought_search$ids[501:600], myfxn, dbfromX='gene', dbX='all')\n",
    "#current_links_601_700 <- lapply(drought_search$ids[601:700], myfxn, dbfromX='gene', dbX='all')\n",
    "#current_links_701_800 <- lapply(drought_search$ids[701:800], myfxn, dbfromX='gene', dbX='all')\n",
    "#current_links_801_900 <- lapply(drought_search$ids[801:900], myfxn, dbfromX='gene', dbX='all')\n",
    "#current_links_901_1000 <- lapply(drought_search$ids[901:1000], myfxn, dbfromX='gene', dbX='all')\n",
    "#current_links_1001_1100 <- lapply(drought_search$ids[1001:1100], myfxn, dbfromX='gene', dbX='all')\n",
    "current_links_1101_1200 <- lapply(drought_search$ids[1101:1200], myfxn, dbfromX='gene', dbX='all')\n",
    "current_links_1201_1300 <- lapply(drought_search$ids[1201:1300], myfxn, dbfromX='gene', dbX='all')\n",
    "current_links_1301_1400 <- lapply(drought_search$ids[1301:1400], myfxn, dbfromX='gene', dbX='all')\n",
    "print(\"1 done\")\n",
    "current_links_1401_1500 <- lapply(drought_search$ids[1401:1500], myfxn, dbfromX='gene', dbX='all')\n",
    "current_links_1501_1600 <- lapply(drought_search$ids[1501:1600], myfxn, dbfromX='gene', dbX='all')\n",
    "current_links_1601_1700 <- lapply(drought_search$ids[1601:1700], myfxn, dbfromX='gene', dbX='all')\n",
    "print(\"2 done\")\n",
    "current_links_1701_1800 <- lapply(drought_search$ids[1701:1800], myfxn, dbfromX='gene', dbX='all')\n",
    "current_links_1801_1900 <- lapply(drought_search$ids[1801:1900], myfxn, dbfromX='gene', dbX='all')\n",
    "current_links_1901_2000 <- lapply(drought_search$ids[1901:2000], myfxn, dbfromX='gene', dbX='all')\n",
    "current_links_2001_2100 <- lapply(drought_search$ids[2001:2100], myfxn, dbfromX='gene', dbX='all')\n",
    "print(\"3 done\")\n",
    "current_links_2101_2200 <- lapply(drought_search$ids[2101:2200], myfxn, dbfromX='gene', dbX='all')\n",
    "current_links_2201_2300 <- lapply(drought_search$ids[2201:2300], myfxn, dbfromX='gene', dbX='all')\n",
    "current_links_2301_2400 <- lapply(drought_search$ids[2301:2400], myfxn, dbfromX='gene', dbX='all')\n",
    "print(\"4 done\")\n",
    "current_links_2401_2500 <- lapply(drought_search$ids[2401:2500], myfxn, dbfromX='gene', dbX='all')\n",
    "current_links_2501_2600 <- lapply(drought_search$ids[2501:2600], myfxn, dbfromX='gene', dbX='all')\n",
    "current_links_2601_2700 <- lapply(drought_search$ids[2601:2700], myfxn, dbfromX='gene', dbX='all')\n",
    "current_links_2701_2800 <- lapply(drought_search$ids[2701:2800], myfxn, dbfromX='gene', dbX='all')\n",
    "current_links_2801_2900 <- lapply(drought_search$ids[2801:2900], myfxn, dbfromX='gene', dbX='all')\n",
    "current_links_2901_2906 <- lapply(drought_search$ids[2901:2906], myfxn, dbfromX='gene', dbX='all')\n",
    "\n",
    "\n",
    "#current_links_201_300[[100]]$links$gene_protein"
   ]
  },
  {
   "cell_type": "code",
   "execution_count": null,
   "id": "bcdc91d5",
   "metadata": {},
   "outputs": [],
   "source": [
    "all_current_links <- c(current_links_1_100,\n",
    "  current_links_101_200,\n",
    "  current_links_201_300,\n",
    "  current_links_301_400,\n",
    "  current_links_401_500,\n",
    "  current_links_501_600,\n",
    "  current_links_601_700,\n",
    "  current_links_701_800,\n",
    "  current_links_801_900,\n",
    "  current_links_901_1000,\n",
    "  current_links_1001_1100,\n",
    "  current_links_1101_1200,\n",
    "  current_links_1201_1300,\n",
    "  current_links_1301_1400,\n",
    "  current_links_1401_1500,\n",
    "  current_links_1501_1600,\n",
    "  current_links_1601_1700,\n",
    "  current_links_1701_1800,\n",
    "  current_links_1801_1900,\n",
    "  current_links_1901_2000,\n",
    "  current_links_2001_2100,\n",
    "  current_links_2101_2200,\n",
    "  current_links_2201_2300,\n",
    "  current_links_2301_2400,\n",
    "  current_links_2401_2500,\n",
    "  current_links_2501_2600,\n",
    "  current_links_2601_2700,\n",
    "  current_links_2701_2800, \n",
    "  current_links_2801_2900,\n",
    "  current_links_2901_2906)"
   ]
  },
  {
   "cell_type": "code",
   "execution_count": null,
   "id": "2a7d5fd4",
   "metadata": {},
   "outputs": [],
   "source": [
    "length(all_current_links)\n",
    "\n",
    "all_protein_ids <- vector() #list(length(current_links))\n",
    "\n",
    "for (i in 1:length(all_current_links)) {\n",
    "    all_protein_ids <- c(all_protein_ids, all_current_links[[i]]$links$gene_protein)\n",
    "}\n",
    "\n",
    "length(all_protein_ids)\n",
    "all_protein_ids"
   ]
  },
  {
   "cell_type": "code",
   "execution_count": null,
   "id": "48ccca1f",
   "metadata": {},
   "outputs": [],
   "source": [
    "cat(file = \"aaaa\",\n",
    "    strwrap(\n",
    "      substr(entrez_fetch(db=\"protein\", id=\"1789589066\", rettype=\"fasta\"), \n",
    "             1, \n",
    "             1e9)\n",
    "    ), sep=\"\\n\", append = TRUE\n",
    "  )"
   ]
  },
  {
   "cell_type": "code",
   "execution_count": null,
   "id": "83d857c8",
   "metadata": {},
   "outputs": [],
   "source": [
    "#entrez_summary(db=\"protein\", id=1063705582, rettype=\"fasta\")\n",
    "a <- entrez_summary(db=\"protein\", id=current_links[[1]]$links$gene_protein, rettype=\"fasta\")\n",
    "\n",
    "\n",
    "\n",
    "b <- rep(NA, length(a))\n",
    "#b\n",
    "\n",
    "c <- lapply(a, \"[\", \"slen\")\n",
    "\n",
    "for (i in 1:length(a)){\n",
    "    b[i] <- c[[i]][[1]]\n",
    "}\n",
    "\n",
    "#neat - if multiple maxima returns the first ;D\n",
    "d <- which.max(b)\n",
    "\n",
    "current_links[[1]]$links$gene_protein[d]"
   ]
  },
  {
   "cell_type": "code",
   "execution_count": null,
   "id": "21603533",
   "metadata": {},
   "outputs": [],
   "source": [
    "t <- entrez_fetch(db=\"protein\", id=1063705582, rettype=\"fasta\")\n",
    "#t\n",
    "\n",
    "#install.packages(\"seqinr\")\n",
    "library(seqinr)\n",
    "\n",
    "f <- read.fasta(file = textConnection(t), as.string = T, whole.header = TRUE, seqtype = \"AA\")\n",
    "f\n",
    "\n",
    "write.fasta(sequences = f, names = names(f), file.out = \"all_proteins_drought.fasta\", open = \"a\", nbchar = 60, as.string = TRUE)"
   ]
  },
  {
   "cell_type": "code",
   "execution_count": null,
   "id": "9aa08db7",
   "metadata": {},
   "outputs": [],
   "source": [
    "names(f)"
   ]
  },
  {
   "cell_type": "code",
   "execution_count": null,
   "id": "f7856b2c",
   "metadata": {},
   "outputs": [],
   "source": [
    "#t <- entrez_fetch(db=\"protein\", id=1789589066, rettype=\"fasta\")\n",
    "\n",
    "myfun <- function(idX){\n",
    "    ef <- entrez_fetch(db=\"protein\", id=idX, rettype=\"fasta\")\n",
    "    f <- read.fasta(file = textConnection(ef), as.string = T, whole.header = TRUE, seqtype = \"AA\")\n",
    "    write.fasta(sequences = f, \n",
    "                names = names(f), \n",
    "                file.out = \"all_proteins_drought.fasta\", \n",
    "                open = \"a\", \n",
    "                nbchar = 60, \n",
    "                as.string = TRUE)\n",
    "}\n",
    "\n",
    "#lapply(c(\"1789589066\", \"1789589066\"), myfun)\n",
    "lapply(all_protein_ids, myfun)"
   ]
  },
  {
   "cell_type": "code",
   "execution_count": null,
   "id": "8e976d7d",
   "metadata": {},
   "outputs": [],
   "source": [
    "head(all_proteins_fasta)"
   ]
  },
  {
   "cell_type": "code",
   "execution_count": null,
   "id": "e16b2d54",
   "metadata": {},
   "outputs": [],
   "source": [
    "#### not shown - AHRD based GO term annotation of all proteins\n",
    "#### next read-in of these annotation"
   ]
  },
  {
   "cell_type": "code",
   "execution_count": null,
   "id": "e9794a74",
   "metadata": {},
   "outputs": [],
   "source": [
    "drought_AHRD <- read.delim(\"../../../ML-drought/AHRD_Snakemake/results/drought_all_flowering.ahrd_output.tsv\", sep=\"\\t\")"
   ]
  },
  {
   "cell_type": "code",
   "execution_count": null,
   "id": "10f48c3d",
   "metadata": {},
   "outputs": [],
   "source": [
    "drought_AHRD <- drought_AHRD %>% \n",
    "    select(`Gene.Ontology.Term`) %>%\n",
    "    #remove redundancy while collapsing with \", \"\n",
    "    summarise(`Gene.Ontology.Term` = paste(unique(`Gene.Ontology.Term`), collapse=\", \")) %>%\n",
    "    #we should remove all rows that have NO GO terms associated\n",
    "    #and remove all NAs from the Gene-Ontology-Term column if they have at least 1 GO term\n",
    "    #remove inline NAs in Gene-Ontology-Term column\n",
    "    mutate(\n",
    "      `Gene.Ontology.Term` = str_remove_all(`Gene.Ontology.Term`, \"NA, |, NA\") \n",
    "    ) %>% \n",
    "    #remove lines with only NA in Gene-Ontology-Term column\n",
    "    filter(!str_detect(`Gene.Ontology.Term`, 'NA')) %>% \n",
    "    #get column as vector\n",
    "    pull() %>% \n",
    "    #split into individual vector elements\n",
    "    str_split(., pattern = \", \") %>%\n",
    "    unique() %>%\n",
    "    unlist()"
   ]
  },
  {
   "cell_type": "code",
   "execution_count": null,
   "id": "a427b7a3",
   "metadata": {},
   "outputs": [],
   "source": [
    "length(drought_AHRD)\n",
    "head(drought_AHRD)"
   ]
  },
  {
   "cell_type": "code",
   "execution_count": null,
   "id": "e88bc8fc",
   "metadata": {},
   "outputs": [],
   "source": [
    "BP_drought_set <- ont_BP %>%\n",
    "  filter(GO %in% drought_AHRD) %>%\n",
    "  pull(GO)\n",
    "\n",
    "MF_drought_set <- ont_MF %>%\n",
    "  filter(GO %in% drought_AHRD) %>%\n",
    "  pull(GO) \n",
    "\n",
    "length(BP_drought_set)\n",
    "length(MF_drought_set)"
   ]
  },
  {
   "cell_type": "code",
   "execution_count": null,
   "id": "d03788c5",
   "metadata": {},
   "outputs": [],
   "source": [
    "drought_GO_BP_GTS"
   ]
  },
  {
   "cell_type": "code",
   "execution_count": null,
   "id": "29648025",
   "metadata": {},
   "outputs": [],
   "source": [
    "intersect(BP_drought_set, drought_GO_BP_GTS)"
   ]
  },
  {
   "cell_type": "code",
   "execution_count": null,
   "id": "2ebec099",
   "metadata": {},
   "outputs": [],
   "source": [
    "head(BP_drought_set)"
   ]
  },
  {
   "cell_type": "code",
   "execution_count": null,
   "id": "0f368bea",
   "metadata": {},
   "outputs": [],
   "source": []
  },
  {
   "cell_type": "code",
   "execution_count": null,
   "id": "6400e673",
   "metadata": {},
   "outputs": [],
   "source": []
  },
  {
   "cell_type": "code",
   "execution_count": null,
   "id": "0bca348c",
   "metadata": {},
   "outputs": [],
   "source": []
  },
  {
   "cell_type": "markdown",
   "id": "43b6c970",
   "metadata": {},
   "source": [
    "## Build a complete embryophyta set - as ground truth"
   ]
  },
  {
   "cell_type": "code",
   "execution_count": 6,
   "id": "19a4bf45",
   "metadata": {},
   "outputs": [
    {
     "data": {
      "text/html": [
       "6308230"
      ],
      "text/latex": [
       "6308230"
      ],
      "text/markdown": [
       "6308230"
      ],
      "text/plain": [
       "[1] 6308230"
      ]
     },
     "metadata": {},
     "output_type": "display_data"
    },
    {
     "data": {
      "text/html": [
       "'816394'"
      ],
      "text/latex": [
       "'816394'"
      ],
      "text/markdown": [
       "'816394'"
      ],
      "text/plain": [
       "[1] \"816394\""
      ]
     },
     "metadata": {},
     "output_type": "display_data"
    }
   ],
   "source": [
    "#05.11.2021 - 6308230 exist\n",
    "#set sci notation to numbers - rentrez package has some weird errors otherwise\n",
    "#1e13 \n",
    "options(\"scipen\"=100)\n",
    "#embryophyta_search_05_11_2021 <- entrez_search(db=\"gene\", \n",
    "#                                term=\"Embryophyta[Organism] AND alive[prop]\",\n",
    "#                                retmax=#6308230\n",
    "#                   )\n",
    "\n",
    "embryophyta_search_05_11_2021 <- readRDS(\"/scratch2/cropbio/stoecker/A2TEA-pipeline/ML-drought/rentrez_searches/embryophyta_search_05_11_2021\")\n",
    "\n",
    "length(embryophyta_search_05_11_2021$ids)\n",
    "embryophyta_search_05_11_2021$ids[1]"
   ]
  },
  {
   "cell_type": "code",
   "execution_count": 76,
   "id": "dd5bfba4",
   "metadata": {},
   "outputs": [
    {
     "name": "stdout",
     "output_type": "stream",
     "text": [
      " chr [1:6308230] \"816394\" \"830878\" \"817857\" \"830996\" \"842859\" \"842733\" ...\n"
     ]
    }
   ],
   "source": [
    "str(embryophyta_search_05_11_2021$ids)"
   ]
  },
  {
   "cell_type": "code",
   "execution_count": 175,
   "id": "3a561a2e",
   "metadata": {},
   "outputs": [],
   "source": [
    "#function to extract protein references from gene entry\n",
    "#100 exectuons ~77-140s =~100s\n",
    "#so roughly a one search one execution relationship\n",
    "#200.000s/3600=~56h\n",
    "#myfxn <- function(idX, dbfromX, dbX){\n",
    "#  entrez_link(id=idX, dbfrom=dbfromX, db=dbX)$links$gene_protein\n",
    "#}\n",
    "\n",
    "myfxn <- function(idX, dbfromX, dbX){\n",
    "  entrez_link(id=idX, dbfrom=dbfromX, db=dbX)$links$gene_protein\n",
    "}"
   ]
  },
  {
   "cell_type": "code",
   "execution_count": 135,
   "id": "b499bb69",
   "metadata": {},
   "outputs": [
    {
     "data": {
      "text/html": [
       "<dl>\n",
       "\t<dt>$gene_protein</dt>\n",
       "\t\t<dd><style>\n",
       ".list-inline {list-style: none; margin:0; padding: 0}\n",
       ".list-inline>li {display: inline-block}\n",
       ".list-inline>li:not(:last-child)::after {content: \"\\00b7\"; padding: 0 .5ex}\n",
       "</style>\n",
       "<ol class=list-inline><li>'1573266611'</li><li>'1484828582'</li><li>'1484828580'</li></ol>\n",
       "</dd>\n",
       "\t<dt>$gene_protein_refseq</dt>\n",
       "\t\t<dd><style>\n",
       ".list-inline {list-style: none; margin:0; padding: 0}\n",
       ".list-inline>li {display: inline-block}\n",
       ".list-inline>li:not(:last-child)::after {content: \"\\00b7\"; padding: 0 .5ex}\n",
       "</style>\n",
       "<ol class=list-inline><li>'1484828582'</li><li>'1484828580'</li></ol>\n",
       "</dd>\n",
       "</dl>\n"
      ],
      "text/latex": [
       "\\begin{description}\n",
       "\\item[\\$gene\\_protein] \\begin{enumerate*}\n",
       "\\item '1573266611'\n",
       "\\item '1484828582'\n",
       "\\item '1484828580'\n",
       "\\end{enumerate*}\n",
       "\n",
       "\\item[\\$gene\\_protein\\_refseq] \\begin{enumerate*}\n",
       "\\item '1484828582'\n",
       "\\item '1484828580'\n",
       "\\end{enumerate*}\n",
       "\n",
       "\\end{description}\n"
      ],
      "text/markdown": [
       "$gene_protein\n",
       ":   1. '1573266611'\n",
       "2. '1484828582'\n",
       "3. '1484828580'\n",
       "\n",
       "\n",
       "\n",
       "$gene_protein_refseq\n",
       ":   1. '1484828582'\n",
       "2. '1484828580'\n",
       "\n",
       "\n",
       "\n",
       "\n",
       "\n"
      ],
      "text/plain": [
       "elink result with information from 2 databases:\n",
       "[1] gene_protein        gene_protein_refseq"
      ]
     },
     "metadata": {},
     "output_type": "display_data"
    }
   ],
   "source": [
    "#t <- entrez_link(id=113299905, dbfrom='gene', db='protein')\n",
    "t$links"
   ]
  },
  {
   "cell_type": "code",
   "execution_count": 195,
   "id": "757904e3",
   "metadata": {},
   "outputs": [],
   "source": [
    "#sampling randomly - add 50% to make sure to have genes with protein records (25% expected to be unusable)\n",
    "#genes without protein records are NULL elements in vector and lead to downstream problems\n",
    "#we circumvent by sampling more and filtering for non NULL\n",
    "sample_test10 <- sample(embryophyta_search_05_11_2021$ids, 15, replace=FALSE)\n",
    "sample_02k <- sample(embryophyta_search_05_11_2021$ids, 300, replace=FALSE)\n",
    "sample_2k <- sample(embryophyta_search_05_11_2021$ids, 3000, replace=FALSE)\n",
    "sample_20k <- sample(embryophyta_search_05_11_2021$ids, 30000, replace=FALSE)\n",
    "sample_200k <- sample(embryophyta_search_05_11_2021$ids, 300000, replace=FALSE)\n",
    "sample_2000k <- sample(embryophyta_search_05_11_2021$ids, 3000000, replace=FALSE)"
   ]
  },
  {
   "cell_type": "code",
   "execution_count": 200,
   "id": "94b83d12",
   "metadata": {},
   "outputs": [
    {
     "data": {
      "text/plain": [
       "   user  system elapsed \n",
       "  0.168   0.009   7.987 "
      ]
     },
     "metadata": {},
     "output_type": "display_data"
    }
   ],
   "source": [
    "#writing to current_links\n",
    "system.time(\n",
    "current_links <- lapply(sample_test10, myfxn, dbfromX='gene', dbX='protein')\n",
    "    )"
   ]
  },
  {
   "cell_type": "code",
   "execution_count": 201,
   "id": "3e3d7821",
   "metadata": {},
   "outputs": [
    {
     "data": {
      "text/html": [
       "<style>\n",
       ".list-inline {list-style: none; margin:0; padding: 0}\n",
       ".list-inline>li {display: inline-block}\n",
       ".list-inline>li:not(:last-child)::after {content: \"\\00b7\"; padding: 0 .5ex}\n",
       "</style>\n",
       "<ol class=list-inline><li>'122024323'</li><li>'109706777'</li><li>'111279892'</li><li>'115704253'</li><li>'104247876'</li><li>'121774612'</li><li>'107812850'</li><li>'104752311'</li><li>'109228088'</li><li>'107803087'</li><li>'109220041'</li><li>'100842239'</li><li>'109359838'</li><li>'105162528'</li><li>'102712845'</li></ol>\n"
      ],
      "text/latex": [
       "\\begin{enumerate*}\n",
       "\\item '122024323'\n",
       "\\item '109706777'\n",
       "\\item '111279892'\n",
       "\\item '115704253'\n",
       "\\item '104247876'\n",
       "\\item '121774612'\n",
       "\\item '107812850'\n",
       "\\item '104752311'\n",
       "\\item '109228088'\n",
       "\\item '107803087'\n",
       "\\item '109220041'\n",
       "\\item '100842239'\n",
       "\\item '109359838'\n",
       "\\item '105162528'\n",
       "\\item '102712845'\n",
       "\\end{enumerate*}\n"
      ],
      "text/markdown": [
       "1. '122024323'\n",
       "2. '109706777'\n",
       "3. '111279892'\n",
       "4. '115704253'\n",
       "5. '104247876'\n",
       "6. '121774612'\n",
       "7. '107812850'\n",
       "8. '104752311'\n",
       "9. '109228088'\n",
       "10. '107803087'\n",
       "11. '109220041'\n",
       "12. '100842239'\n",
       "13. '109359838'\n",
       "14. '105162528'\n",
       "15. '102712845'\n",
       "\n",
       "\n"
      ],
      "text/plain": [
       " [1] \"122024323\" \"109706777\" \"111279892\" \"115704253\" \"104247876\" \"121774612\"\n",
       " [7] \"107812850\" \"104752311\" \"109228088\" \"107803087\" \"109220041\" \"100842239\"\n",
       "[13] \"109359838\" \"105162528\" \"102712845\""
      ]
     },
     "metadata": {},
     "output_type": "display_data"
    }
   ],
   "source": [
    "sample_test10"
   ]
  },
  {
   "cell_type": "code",
   "execution_count": 202,
   "id": "2e94fded",
   "metadata": {},
   "outputs": [
    {
     "data": {
      "text/html": [
       "12"
      ],
      "text/latex": [
       "12"
      ],
      "text/markdown": [
       "12"
      ],
      "text/plain": [
       "[1] 12"
      ]
     },
     "metadata": {},
     "output_type": "display_data"
    }
   ],
   "source": [
    "length(\n",
    "current_links[lengths(current_links) != 0]\n",
    ")\n",
    "\n",
    "#current_links[[2]]$links$gene_protein"
   ]
  },
  {
   "cell_type": "code",
   "execution_count": 205,
   "id": "4e0066a1",
   "metadata": {},
   "outputs": [
    {
     "name": "stdout",
     "output_type": "stream",
     "text": [
      "List of 10\n",
      " $ : chr [1:3] \"2070073149\" \"2070073147\" \"2043533359\"\n",
      " $ : chr \"1147559588\"\n",
      " $ : chr [1:2] \"1269946173\" \"1269946171\"\n",
      " $ : chr \"1731673874\"\n",
      " $ : chr \"698514890\"\n",
      " $ : chr [1:2] \"2060419465\" \"2041630615\"\n",
      " $ : chr \"727599467\"\n",
      " $ : chr \"1025221250\"\n",
      " $ : chr [1:2] \"944064987\" \"357136825\"\n",
      " $ : chr \"1117373241\"\n"
     ]
    }
   ],
   "source": [
    "current_links <- current_links[lengths(current_links) != 0][1:10]\n",
    "str(current_links)"
   ]
  },
  {
   "cell_type": "code",
   "execution_count": 231,
   "id": "42644121",
   "metadata": {},
   "outputs": [
    {
     "data": {
      "text/html": [
       "1"
      ],
      "text/latex": [
       "1"
      ],
      "text/markdown": [
       "1"
      ],
      "text/plain": [
       "[1] 1"
      ]
     },
     "metadata": {},
     "output_type": "display_data"
    }
   ],
   "source": [
    "a <- entrez_summary(db=\"protein\", id=current_links[[2]], rettype=\"fasta\")\n",
    "length(current_links[[2]])"
   ]
  },
  {
   "cell_type": "code",
   "execution_count": 221,
   "id": "075766ea",
   "metadata": {
    "scrolled": true
   },
   "outputs": [
    {
     "data": {
      "text/html": [
       "32"
      ],
      "text/latex": [
       "32"
      ],
      "text/markdown": [
       "32"
      ],
      "text/plain": [
       "[1] 32"
      ]
     },
     "metadata": {},
     "output_type": "display_data"
    },
    {
     "data": {
      "text/html": [
       "<style>\n",
       ".list-inline {list-style: none; margin:0; padding: 0}\n",
       ".list-inline>li {display: inline-block}\n",
       ".list-inline>li:not(:last-child)::after {content: \"\\00b7\"; padding: 0 .5ex}\n",
       "</style>\n",
       "<ol class=list-inline><li>&lt;NA&gt;</li><li>&lt;NA&gt;</li><li>&lt;NA&gt;</li><li>&lt;NA&gt;</li><li>&lt;NA&gt;</li><li>&lt;NA&gt;</li><li>&lt;NA&gt;</li><li>&lt;NA&gt;</li><li>&lt;NA&gt;</li><li>&lt;NA&gt;</li><li>&lt;NA&gt;</li><li>&lt;NA&gt;</li><li>&lt;NA&gt;</li><li>&lt;NA&gt;</li><li>&lt;NA&gt;</li><li>&lt;NA&gt;</li><li>&lt;NA&gt;</li><li>&lt;NA&gt;</li><li>&lt;NA&gt;</li><li>&lt;NA&gt;</li><li>&lt;NA&gt;</li><li>&lt;NA&gt;</li><li>&lt;NA&gt;</li><li>&lt;NA&gt;</li><li>&lt;NA&gt;</li><li>&lt;NA&gt;</li><li>&lt;NA&gt;</li><li>&lt;NA&gt;</li><li>&lt;NA&gt;</li><li>&lt;NA&gt;</li><li>&lt;NA&gt;</li><li>&lt;NA&gt;</li></ol>\n"
      ],
      "text/latex": [
       "\\begin{enumerate*}\n",
       "\\item <NA>\n",
       "\\item <NA>\n",
       "\\item <NA>\n",
       "\\item <NA>\n",
       "\\item <NA>\n",
       "\\item <NA>\n",
       "\\item <NA>\n",
       "\\item <NA>\n",
       "\\item <NA>\n",
       "\\item <NA>\n",
       "\\item <NA>\n",
       "\\item <NA>\n",
       "\\item <NA>\n",
       "\\item <NA>\n",
       "\\item <NA>\n",
       "\\item <NA>\n",
       "\\item <NA>\n",
       "\\item <NA>\n",
       "\\item <NA>\n",
       "\\item <NA>\n",
       "\\item <NA>\n",
       "\\item <NA>\n",
       "\\item <NA>\n",
       "\\item <NA>\n",
       "\\item <NA>\n",
       "\\item <NA>\n",
       "\\item <NA>\n",
       "\\item <NA>\n",
       "\\item <NA>\n",
       "\\item <NA>\n",
       "\\item <NA>\n",
       "\\item <NA>\n",
       "\\end{enumerate*}\n"
      ],
      "text/markdown": [
       "1. &lt;NA&gt;\n",
       "2. &lt;NA&gt;\n",
       "3. &lt;NA&gt;\n",
       "4. &lt;NA&gt;\n",
       "5. &lt;NA&gt;\n",
       "6. &lt;NA&gt;\n",
       "7. &lt;NA&gt;\n",
       "8. &lt;NA&gt;\n",
       "9. &lt;NA&gt;\n",
       "10. &lt;NA&gt;\n",
       "11. &lt;NA&gt;\n",
       "12. &lt;NA&gt;\n",
       "13. &lt;NA&gt;\n",
       "14. &lt;NA&gt;\n",
       "15. &lt;NA&gt;\n",
       "16. &lt;NA&gt;\n",
       "17. &lt;NA&gt;\n",
       "18. &lt;NA&gt;\n",
       "19. &lt;NA&gt;\n",
       "20. &lt;NA&gt;\n",
       "21. &lt;NA&gt;\n",
       "22. &lt;NA&gt;\n",
       "23. &lt;NA&gt;\n",
       "24. &lt;NA&gt;\n",
       "25. &lt;NA&gt;\n",
       "26. &lt;NA&gt;\n",
       "27. &lt;NA&gt;\n",
       "28. &lt;NA&gt;\n",
       "29. &lt;NA&gt;\n",
       "30. &lt;NA&gt;\n",
       "31. &lt;NA&gt;\n",
       "32. &lt;NA&gt;\n",
       "\n",
       "\n"
      ],
      "text/plain": [
       " [1] NA NA NA NA NA NA NA NA NA NA NA NA NA NA NA NA NA NA NA NA NA NA NA NA NA\n",
       "[26] NA NA NA NA NA NA NA"
      ]
     },
     "metadata": {},
     "output_type": "display_data"
    },
    {
     "ename": "ERROR",
     "evalue": "Error in `[.data.frame`(X[[i]], ...): undefined columns selected\n",
     "output_type": "error",
     "traceback": [
      "Error in `[.data.frame`(X[[i]], ...): undefined columns selected\nTraceback:\n",
      "1. lapply(a, \"[\", \"slen\")",
      "2. FUN(X[[i]], ...)",
      "3. `[.data.frame`(X[[i]], ...)",
      "4. stop(\"undefined columns selected\")"
     ]
    }
   ],
   "source": [
    "#entrez_summary(db=\"protein\", id=1063705582, rettype=\"fasta\")\n",
    "#a <- entrez_summary(db=\"protein\", id=current_links[[1]]$links$gene_protein, rettype=\"fasta\")\n",
    "a <- entrez_summary(db=\"protein\", id=current_links[[2]], rettype=\"fasta\")\n",
    "length(a)\n",
    "#a\n",
    "\n",
    "\n",
    "b <- rep(NA, length(a))\n",
    "b\n",
    "\n",
    "c <- lapply(a, \"[\", \"slen\")\n",
    "c\n",
    "#c <- lapply(a, \"slen\")\n",
    "\n",
    "#for (i in 1:length(a)){\n",
    "#    b[i] <- c[[i]][[1]]\n",
    "#}\n",
    "\n",
    "#neat - if multiple maxima returns the first ;D\n",
    "#d <- which.max(b)\n",
    "\n",
    "#current_links[[1]]$links$gene_protein[d]\n",
    "#current_links[[1]][d]"
   ]
  },
  {
   "cell_type": "code",
   "execution_count": 232,
   "id": "7e33567f",
   "metadata": {},
   "outputs": [
    {
     "name": "stdout",
     "output_type": "stream",
     "text": [
      "[1] \"2043533359\"\n",
      "[1] \"1147559588\"\n",
      "[1] \"1269946171\"\n",
      "[1] \"1731673874\"\n",
      "[1] \"698514890\"\n",
      "[1] \"2060419465\"\n",
      "[1] \"727599467\"\n",
      "[1] \"1025221250\"\n",
      "[1] \"944064987\"\n",
      "[1] \"1117373241\"\n"
     ]
    }
   ],
   "source": [
    "#as a loop retruning a vactor of all longest proteins/isoforms for each gene in input\n",
    "\n",
    "final_size = rep(NA, length(current_links))\n",
    "\n",
    "\n",
    "for (links in 1:length(current_links)) {\n",
    "#    print(links)\n",
    "    a <- entrez_summary(db=\"protein\", id=current_links[[links]], rettype=\"fasta\")\n",
    "#    print(a)\n",
    "\n",
    "   #if more than element do this - else just return\n",
    "   #important to check the current_links element and not a - both are lists!\n",
    "    if (length(current_links[[links]]) > 1) {\n",
    "               \n",
    "        b <- rep(NA, length(a)) \n",
    "        c <- lapply(a, \"[\", \"slen\")\n",
    "    \n",
    "        for (i in 1:length(a)){\n",
    "            b[i] <- c[[i]][[1]]\n",
    "        }\n",
    "\n",
    "        #neat - if multiple maxima returns the first ;D\n",
    "        d <- which.max(b)\n",
    "        \n",
    "    } else {\n",
    "        d <- 1\n",
    "    }\n",
    "\n",
    "    print(current_links[[links]][d])\n",
    "}\n",
    "\n",
    "\n",
    "\n",
    "\n",
    "\n"
   ]
  },
  {
   "cell_type": "code",
   "execution_count": null,
   "id": "0aa368ee",
   "metadata": {},
   "outputs": [],
   "source": []
  },
  {
   "cell_type": "code",
   "execution_count": null,
   "id": "ca6f0ed3",
   "metadata": {},
   "outputs": [],
   "source": []
  },
  {
   "cell_type": "code",
   "execution_count": null,
   "id": "270c37dd",
   "metadata": {},
   "outputs": [],
   "source": []
  },
  {
   "cell_type": "code",
   "execution_count": null,
   "id": "3df9131c",
   "metadata": {},
   "outputs": [],
   "source": []
  }
 ],
 "metadata": {
  "kernelspec": {
   "display_name": "R",
   "language": "R",
   "name": "ir"
  },
  "language_info": {
   "codemirror_mode": "r",
   "file_extension": ".r",
   "mimetype": "text/x-r-source",
   "name": "R",
   "pygments_lexer": "r",
   "version": "4.1.1"
  }
 },
 "nbformat": 4,
 "nbformat_minor": 5
}
