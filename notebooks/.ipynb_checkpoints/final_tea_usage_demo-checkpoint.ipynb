{
 "cells": [
  {
   "cell_type": "markdown",
   "id": "6c2f07a2",
   "metadata": {},
   "source": [
    "## Quick demo on how to use the `A2TEA_finished.RData` output"
   ]
  },
  {
   "cell_type": "markdown",
   "id": "1406c3c7",
   "metadata": {},
   "source": [
    "- currently, the fastest way to execute the pipeline is to build a conda environment with ALL software included \n",
    "- using more fine-grained individual yaml files (--use-conda option) for rules/sets of rules leads to  sequential run (takes much longer) in the checkpoints steps for some reason...\n",
    "- therefore for now: building big environment with -> workflow/envs/complete_environment.yaml\n",
    "  \n",
    "e.g.:  \n",
    "`mamba env create --name A2TEA --file workflow/envs/complete_environment.yaml`  \n",
    "activate this environment; then run A2TEA with:  \n",
    "`snakemake --cores xx`\n",
    "\n",
    "**the final output of A2TEA is found under `tea/A2TEA_finished.RData`**"
   ]
  },
  {
   "cell_type": "markdown",
   "id": "f6178978",
   "metadata": {},
   "source": [
    "### 2.) working with A2TEA output for the moment..\n",
    "\n",
    "#### 2.1 - load libraries - define three classes\n",
    "-> important for your R instance to understand my new custom data structs"
   ]
  },
  {
   "cell_type": "code",
   "execution_count": 2,
   "id": "9a4708fe",
   "metadata": {},
   "outputs": [],
   "source": [
    "library(DESeq2)\n",
    "library(tidyverse)\n",
    "library(ggtree)\n",
    "library(ggtreeExtra)\n",
    "library(Biostrings)\n",
    "library(seqinr)\n",
    "library(UpSetR)\n",
    "library(cowplot)\n",
    "library(ggplotify)"
   ]
  },
  {
   "cell_type": "code",
   "execution_count": 3,
   "id": "64eca66e",
   "metadata": {},
   "outputs": [],
   "source": [
    "# class for the expanded_OG - containing all different types of data we have on it\n",
    "setClass(\"expanded_OG\", slots=list(genes=\"spec_tbl_df\",\n",
    "                                   blast_table=\"tbl_df\",\n",
    "                                   nrow_table=\"numeric\",\n",
    "                                   num_genes_HOG=\"numeric\",\n",
    "                                   num_genes_extend=\"numeric\",\n",
    "                                   num_genes_complete=\"numeric\",\n",
    "                                   genes_HOG=\"tbl_df\",\n",
    "                                   genes_extend_hits=\"tbl_df\",\n",
    "                                   fasta_files=\"list\",\n",
    "                                   msa=\"AAStringSet\",\n",
    "                                   tree=\"phylo\"))\n",
    "\n",
    "# class for the hypotheses\n",
    "setClass(\"hypothesis\",\n",
    "         slots=list(description=\"character\",\n",
    "                                  number=\"character\",\n",
    "                                  expanded_in =\"character\",\n",
    "                                  compared_to=\"character\",\n",
    "                                  expanded_OGs=\"list\",\n",
    "                                  species_tree=\"phylo\"))\n",
    "\n",
    "# class for extended BLAST hits info\n",
    "setClass(\"extended_BLAST_hits\",\n",
    "         slots=list(blast_table=\"tbl_df\",\n",
    "                    num_genes_HOG=\"numeric\",\n",
    "                    num_genes_extend=\"numeric\",\n",
    "                    num_genes_complete=\"numeric\",\n",
    "                    genes_HOG=\"tbl_df\",\n",
    "                    genes_extend_hits=\"tbl_df\")\n",
    "         )"
   ]
  },
  {
   "cell_type": "markdown",
   "id": "215b5155",
   "metadata": {},
   "source": [
    "#### 2.2 - read-in the A2TEA output .RData file"
   ]
  },
  {
   "cell_type": "code",
   "execution_count": 4,
   "id": "6c5368d1",
   "metadata": {},
   "outputs": [],
   "source": [
    "load(\"../tea/A2TEA_finished.RData\")"
   ]
  },
  {
   "cell_type": "markdown",
   "id": "ee6cfd3b",
   "metadata": {},
   "source": [
    "#### 2.3 - currently included: 4 files\n",
    "\n",
    "- `hypotheses`     \n",
    "- `HYPOTHESES.a2tea`\n",
    "- `HOG_DE.a2tea`\n",
    "- `HOG_level_list`"
   ]
  },
  {
   "cell_type": "code",
   "execution_count": 5,
   "id": "943edc93",
   "metadata": {},
   "outputs": [
    {
     "data": {
      "text/html": [
       "<table class=\"dataframe\">\n",
       "<caption>A data.frame: 5 × 9</caption>\n",
       "<thead>\n",
       "\t<tr><th scope=col>hypothesis</th><th scope=col>name</th><th scope=col>expanded_in</th><th scope=col>compared_to</th><th scope=col>Nmin_expanded_in</th><th scope=col>Nmin_compared_to</th><th scope=col>min_expansion_factor</th><th scope=col>expanded_in_all_found</th><th scope=col>compared_to_all_found</th></tr>\n",
       "\t<tr><th scope=col>&lt;dbl&gt;</th><th scope=col>&lt;chr&gt;</th><th scope=col>&lt;chr&gt;</th><th scope=col>&lt;chr&gt;</th><th scope=col>&lt;dbl&gt;</th><th scope=col>&lt;dbl&gt;</th><th scope=col>&lt;dbl&gt;</th><th scope=col>&lt;chr&gt;</th><th scope=col>&lt;chr&gt;</th></tr>\n",
       "</thead>\n",
       "<tbody>\n",
       "\t<tr><td>1</td><td>Expanded in Arabidopsis compared to Monocots</td><td>Arabidopsis_thaliana    </td><td>Zea_mays;Hordeum_vulgare            </td><td>1</td><td>1</td><td>1</td><td>YES</td><td>YES</td></tr>\n",
       "\t<tr><td>2</td><td>Expanded in barley compared to maize        </td><td>Hordeum_vulgare         </td><td>Zea_mays                            </td><td>2</td><td>2</td><td>2</td><td>NO </td><td>NO </td></tr>\n",
       "\t<tr><td>3</td><td>bla                                         </td><td>Zea_mays                </td><td>Hordeum_vulgare;Arabidopsis_thaliana</td><td>3</td><td>3</td><td>3</td><td>YES</td><td>YES</td></tr>\n",
       "\t<tr><td>4</td><td>bla2                                        </td><td>Hordeum_vulgare;Zea_mays</td><td>Arabidopsis_thaliana                </td><td>4</td><td>4</td><td>4</td><td>NO </td><td>NO </td></tr>\n",
       "\t<tr><td>5</td><td>bla3                                        </td><td>Hordeum_vulgare;Zea_mays</td><td>Hordeum_vulgare;Arabidopsis_thaliana</td><td>5</td><td>5</td><td>5</td><td>NO </td><td>NO </td></tr>\n",
       "</tbody>\n",
       "</table>\n"
      ],
      "text/latex": [
       "A data.frame: 5 × 9\n",
       "\\begin{tabular}{lllllllll}\n",
       " hypothesis & name & expanded\\_in & compared\\_to & Nmin\\_expanded\\_in & Nmin\\_compared\\_to & min\\_expansion\\_factor & expanded\\_in\\_all\\_found & compared\\_to\\_all\\_found\\\\\n",
       " <dbl> & <chr> & <chr> & <chr> & <dbl> & <dbl> & <dbl> & <chr> & <chr>\\\\\n",
       "\\hline\n",
       "\t 1 & Expanded in Arabidopsis compared to Monocots & Arabidopsis\\_thaliana     & Zea\\_mays;Hordeum\\_vulgare             & 1 & 1 & 1 & YES & YES\\\\\n",
       "\t 2 & Expanded in barley compared to maize         & Hordeum\\_vulgare          & Zea\\_mays                             & 2 & 2 & 2 & NO  & NO \\\\\n",
       "\t 3 & bla                                          & Zea\\_mays                 & Hordeum\\_vulgare;Arabidopsis\\_thaliana & 3 & 3 & 3 & YES & YES\\\\\n",
       "\t 4 & bla2                                         & Hordeum\\_vulgare;Zea\\_mays & Arabidopsis\\_thaliana                 & 4 & 4 & 4 & NO  & NO \\\\\n",
       "\t 5 & bla3                                         & Hordeum\\_vulgare;Zea\\_mays & Hordeum\\_vulgare;Arabidopsis\\_thaliana & 5 & 5 & 5 & NO  & NO \\\\\n",
       "\\end{tabular}\n"
      ],
      "text/markdown": [
       "\n",
       "A data.frame: 5 × 9\n",
       "\n",
       "| hypothesis &lt;dbl&gt; | name &lt;chr&gt; | expanded_in &lt;chr&gt; | compared_to &lt;chr&gt; | Nmin_expanded_in &lt;dbl&gt; | Nmin_compared_to &lt;dbl&gt; | min_expansion_factor &lt;dbl&gt; | expanded_in_all_found &lt;chr&gt; | compared_to_all_found &lt;chr&gt; |\n",
       "|---|---|---|---|---|---|---|---|---|\n",
       "| 1 | Expanded in Arabidopsis compared to Monocots | Arabidopsis_thaliana     | Zea_mays;Hordeum_vulgare             | 1 | 1 | 1 | YES | YES |\n",
       "| 2 | Expanded in barley compared to maize         | Hordeum_vulgare          | Zea_mays                             | 2 | 2 | 2 | NO  | NO  |\n",
       "| 3 | bla                                          | Zea_mays                 | Hordeum_vulgare;Arabidopsis_thaliana | 3 | 3 | 3 | YES | YES |\n",
       "| 4 | bla2                                         | Hordeum_vulgare;Zea_mays | Arabidopsis_thaliana                 | 4 | 4 | 4 | NO  | NO  |\n",
       "| 5 | bla3                                         | Hordeum_vulgare;Zea_mays | Hordeum_vulgare;Arabidopsis_thaliana | 5 | 5 | 5 | NO  | NO  |\n",
       "\n"
      ],
      "text/plain": [
       "  hypothesis name                                        \n",
       "1 1          Expanded in Arabidopsis compared to Monocots\n",
       "2 2          Expanded in barley compared to maize        \n",
       "3 3          bla                                         \n",
       "4 4          bla2                                        \n",
       "5 5          bla3                                        \n",
       "  expanded_in              compared_to                         \n",
       "1 Arabidopsis_thaliana     Zea_mays;Hordeum_vulgare            \n",
       "2 Hordeum_vulgare          Zea_mays                            \n",
       "3 Zea_mays                 Hordeum_vulgare;Arabidopsis_thaliana\n",
       "4 Hordeum_vulgare;Zea_mays Arabidopsis_thaliana                \n",
       "5 Hordeum_vulgare;Zea_mays Hordeum_vulgare;Arabidopsis_thaliana\n",
       "  Nmin_expanded_in Nmin_compared_to min_expansion_factor expanded_in_all_found\n",
       "1 1                1                1                    YES                  \n",
       "2 2                2                2                    NO                   \n",
       "3 3                3                3                    YES                  \n",
       "4 4                4                4                    NO                   \n",
       "5 5                5                5                    NO                   \n",
       "  compared_to_all_found\n",
       "1 YES                  \n",
       "2 NO                   \n",
       "3 YES                  \n",
       "4 NO                   \n",
       "5 NO                   "
      ]
     },
     "metadata": {},
     "output_type": "display_data"
    }
   ],
   "source": [
    "hypotheses"
   ]
  },
  {
   "cell_type": "code",
   "execution_count": 6,
   "id": "b8633709",
   "metadata": {},
   "outputs": [
    {
     "data": {
      "text/plain": [
       "             Length Class      Mode\n",
       "hypothesis_1 1      hypothesis S4  \n",
       "hypothesis_2 1      hypothesis S4  \n",
       "hypothesis_3 1      hypothesis S4  \n",
       "hypothesis_4 1      hypothesis S4  \n",
       "hypothesis_5 1      hypothesis S4  "
      ]
     },
     "metadata": {},
     "output_type": "display_data"
    },
    {
     "data": {
      "text/html": [
       "'Expanded in Arabidopsis compared to Monocots'"
      ],
      "text/latex": [
       "'Expanded in Arabidopsis compared to Monocots'"
      ],
      "text/markdown": [
       "'Expanded in Arabidopsis compared to Monocots'"
      ],
      "text/plain": [
       "[1] \"Expanded in Arabidopsis compared to Monocots\""
      ]
     },
     "metadata": {},
     "output_type": "display_data"
    },
    {
     "data": {
      "text/html": [
       "'1'"
      ],
      "text/latex": [
       "'1'"
      ],
      "text/markdown": [
       "'1'"
      ],
      "text/plain": [
       "[1] \"1\""
      ]
     },
     "metadata": {},
     "output_type": "display_data"
    },
    {
     "data": {
      "text/html": [
       "'Arabidopsis_thaliana'"
      ],
      "text/latex": [
       "'Arabidopsis\\_thaliana'"
      ],
      "text/markdown": [
       "'Arabidopsis_thaliana'"
      ],
      "text/plain": [
       "[1] \"Arabidopsis_thaliana\""
      ]
     },
     "metadata": {},
     "output_type": "display_data"
    },
    {
     "data": {
      "text/html": [
       "<style>\n",
       ".list-inline {list-style: none; margin:0; padding: 0}\n",
       ".list-inline>li {display: inline-block}\n",
       ".list-inline>li:not(:last-child)::after {content: \"\\00b7\"; padding: 0 .5ex}\n",
       "</style>\n",
       "<ol class=list-inline><li>'Zea_mays'</li><li>'Hordeum_vulgare'</li></ol>\n"
      ],
      "text/latex": [
       "\\begin{enumerate*}\n",
       "\\item 'Zea\\_mays'\n",
       "\\item 'Hordeum\\_vulgare'\n",
       "\\end{enumerate*}\n"
      ],
      "text/markdown": [
       "1. 'Zea_mays'\n",
       "2. 'Hordeum_vulgare'\n",
       "\n",
       "\n"
      ],
      "text/plain": [
       "[1] \"Zea_mays\"        \"Hordeum_vulgare\""
      ]
     },
     "metadata": {},
     "output_type": "display_data"
    },
    {
     "data": {
      "text/plain": [
       "\n",
       "Phylogenetic tree with 3 tips and 2 internal nodes.\n",
       "\n",
       "Tip labels:\n",
       "  Arabidopsis_thaliana, Zea_mays, Hordeum_vulgare\n",
       "Node labels:\n",
       "  N0, N1\n",
       "\n",
       "Rooted; includes branch lengths."
      ]
     },
     "metadata": {},
     "output_type": "display_data"
    }
   ],
   "source": [
    "summary(HYPOTHESES.a2tea)\n",
    "HYPOTHESES.a2tea$hypothesis_1@description\n",
    "HYPOTHESES.a2tea$hypothesis_1@number\n",
    "HYPOTHESES.a2tea$hypothesis_1@expanded_in\n",
    "HYPOTHESES.a2tea$hypothesis_1@compared_to\n",
    "HYPOTHESES.a2tea$hypothesis_1@species_tree\n",
    "\n",
    "#HYPOTHESES.a2tea$hypothesis_1@expanded_OGs$N0.HOG0000205@genes\n",
    "#HYPOTHESES.a2tea$hypothesis_1@expanded_OGs$N0.HOG0000205@blast_table\n",
    "## ? HYPOTHESES.a2tea$hypothesis_1@expanded_OGs$N0.HOG0000308@nrow_table\n",
    "#HYPOTHESES.a2tea$hypothesis_1@expanded_OGs$N0.HOG0000205@num_genes_HOG\n",
    "#HYPOTHESES.a2tea$hypothesis_1@expanded_OGs$N0.HOG0000205@num_genes_extend\n",
    "#HYPOTHESES.a2tea$hypothesis_1@expanded_OGs$N0.HOG0000205@num_genes_complete\n",
    "#HYPOTHESES.a2tea$hypothesis_1@expanded_OGs$N0.HOG0000205@genes_HOG\n",
    "#HYPOTHESES.a2tea$hypothesis_1@expanded_OGs$N0.HOG0000205@genes_extend_hits\n",
    "#HYPOTHESES.a2tea$hypothesis_1@expanded_OGs$N0.HOG0000205@fasta_files\n",
    "#HYPOTHESES.a2tea$hypothesis_1@expanded_OGs$N0.HOG0000205@msa\n",
    "#HYPOTHESES.a2tea$hypothesis_1@expanded_OGs$N0.HOG0000205@tree"
   ]
  },
  {
   "cell_type": "code",
   "execution_count": 7,
   "id": "bf52c651",
   "metadata": {},
   "outputs": [
    {
     "name": "stdout",
     "output_type": "stream",
     "text": [
      "'data.frame':\t16563 obs. of  10 variables:\n",
      " $ species       : chr  \"Arabidopsis_thaliana\" \"Arabidopsis_thaliana\" \"Arabidopsis_thaliana\" \"Arabidopsis_thaliana\" ...\n",
      " $ gene          : chr  \"AT2G01008\" \"AT2G01021\" \"AT2G01023\" \"AT2G01035\" ...\n",
      " $ baseMean      : num  89.447 6293.989 2.508 0.775 0.775 ...\n",
      " $ log2FoldChange: num  1.192 0.572 0.211 3.027 3.027 ...\n",
      " $ lfcSE         : num  1.37 1.46 1.04 1.92 1.92 ...\n",
      " $ stat          : num  0.868 0.392 0.203 1.574 1.574 ...\n",
      " $ pvalue        : num  0.386 0.695 0.839 0.115 0.115 ...\n",
      " $ padj          : num  1 1 1 1 1 ...\n",
      " $ significant   : chr  \"no\" \"no\" \"no\" \"no\" ...\n",
      " $ HOG           : chr  \"singleton\" \"singleton\" \"singleton\" \"N0.HOG0002018\" ...\n"
     ]
    },
    {
     "data": {
      "text/html": [
       "<table class=\"dataframe\">\n",
       "<caption>A data.frame: 6 × 10</caption>\n",
       "<thead>\n",
       "\t<tr><th></th><th scope=col>species</th><th scope=col>gene</th><th scope=col>baseMean</th><th scope=col>log2FoldChange</th><th scope=col>lfcSE</th><th scope=col>stat</th><th scope=col>pvalue</th><th scope=col>padj</th><th scope=col>significant</th><th scope=col>HOG</th></tr>\n",
       "\t<tr><th></th><th scope=col>&lt;chr&gt;</th><th scope=col>&lt;chr&gt;</th><th scope=col>&lt;dbl&gt;</th><th scope=col>&lt;dbl&gt;</th><th scope=col>&lt;dbl&gt;</th><th scope=col>&lt;dbl&gt;</th><th scope=col>&lt;dbl&gt;</th><th scope=col>&lt;dbl&gt;</th><th scope=col>&lt;chr&gt;</th><th scope=col>&lt;chr&gt;</th></tr>\n",
       "</thead>\n",
       "<tbody>\n",
       "\t<tr><th scope=row>1</th><td>Arabidopsis_thaliana</td><td>AT2G01008</td><td>  89.4474691</td><td>1.1915003</td><td>1.373181</td><td>0.8676935</td><td>0.3855622</td><td>0.999832</td><td>no</td><td>singleton    </td></tr>\n",
       "\t<tr><th scope=row>2</th><td>Arabidopsis_thaliana</td><td>AT2G01021</td><td>6293.9891129</td><td>0.5717520</td><td>1.458286</td><td>0.3920712</td><td>0.6950056</td><td>0.999832</td><td>no</td><td>singleton    </td></tr>\n",
       "\t<tr><th scope=row>3</th><td>Arabidopsis_thaliana</td><td>AT2G01023</td><td>   2.5075116</td><td>0.2107723</td><td>1.039870</td><td>0.2026911</td><td>0.8393765</td><td>0.999832</td><td>no</td><td>singleton    </td></tr>\n",
       "\t<tr><th scope=row>4</th><td>Arabidopsis_thaliana</td><td>AT2G01035</td><td>   0.7753592</td><td>3.0265125</td><td>1.922346</td><td>1.5743852</td><td>0.1153984</td><td>0.999832</td><td>no</td><td>N0.HOG0002018</td></tr>\n",
       "\t<tr><th scope=row>5</th><td>Arabidopsis_thaliana</td><td>AT2G01045</td><td>   0.7753592</td><td>3.0265125</td><td>1.922346</td><td>1.5743852</td><td>0.1153984</td><td>0.999832</td><td>no</td><td>N0.HOG0002018</td></tr>\n",
       "\t<tr><th scope=row>6</th><td>Arabidopsis_thaliana</td><td>AT2G01050</td><td>   0.0000000</td><td>       NA</td><td>      NA</td><td>       NA</td><td>       NA</td><td>      NA</td><td>no</td><td>N0.HOG0001718</td></tr>\n",
       "</tbody>\n",
       "</table>\n"
      ],
      "text/latex": [
       "A data.frame: 6 × 10\n",
       "\\begin{tabular}{r|llllllllll}\n",
       "  & species & gene & baseMean & log2FoldChange & lfcSE & stat & pvalue & padj & significant & HOG\\\\\n",
       "  & <chr> & <chr> & <dbl> & <dbl> & <dbl> & <dbl> & <dbl> & <dbl> & <chr> & <chr>\\\\\n",
       "\\hline\n",
       "\t1 & Arabidopsis\\_thaliana & AT2G01008 &   89.4474691 & 1.1915003 & 1.373181 & 0.8676935 & 0.3855622 & 0.999832 & no & singleton    \\\\\n",
       "\t2 & Arabidopsis\\_thaliana & AT2G01021 & 6293.9891129 & 0.5717520 & 1.458286 & 0.3920712 & 0.6950056 & 0.999832 & no & singleton    \\\\\n",
       "\t3 & Arabidopsis\\_thaliana & AT2G01023 &    2.5075116 & 0.2107723 & 1.039870 & 0.2026911 & 0.8393765 & 0.999832 & no & singleton    \\\\\n",
       "\t4 & Arabidopsis\\_thaliana & AT2G01035 &    0.7753592 & 3.0265125 & 1.922346 & 1.5743852 & 0.1153984 & 0.999832 & no & N0.HOG0002018\\\\\n",
       "\t5 & Arabidopsis\\_thaliana & AT2G01045 &    0.7753592 & 3.0265125 & 1.922346 & 1.5743852 & 0.1153984 & 0.999832 & no & N0.HOG0002018\\\\\n",
       "\t6 & Arabidopsis\\_thaliana & AT2G01050 &    0.0000000 &        NA &       NA &        NA &        NA &       NA & no & N0.HOG0001718\\\\\n",
       "\\end{tabular}\n"
      ],
      "text/markdown": [
       "\n",
       "A data.frame: 6 × 10\n",
       "\n",
       "| <!--/--> | species &lt;chr&gt; | gene &lt;chr&gt; | baseMean &lt;dbl&gt; | log2FoldChange &lt;dbl&gt; | lfcSE &lt;dbl&gt; | stat &lt;dbl&gt; | pvalue &lt;dbl&gt; | padj &lt;dbl&gt; | significant &lt;chr&gt; | HOG &lt;chr&gt; |\n",
       "|---|---|---|---|---|---|---|---|---|---|---|\n",
       "| 1 | Arabidopsis_thaliana | AT2G01008 |   89.4474691 | 1.1915003 | 1.373181 | 0.8676935 | 0.3855622 | 0.999832 | no | singleton     |\n",
       "| 2 | Arabidopsis_thaliana | AT2G01021 | 6293.9891129 | 0.5717520 | 1.458286 | 0.3920712 | 0.6950056 | 0.999832 | no | singleton     |\n",
       "| 3 | Arabidopsis_thaliana | AT2G01023 |    2.5075116 | 0.2107723 | 1.039870 | 0.2026911 | 0.8393765 | 0.999832 | no | singleton     |\n",
       "| 4 | Arabidopsis_thaliana | AT2G01035 |    0.7753592 | 3.0265125 | 1.922346 | 1.5743852 | 0.1153984 | 0.999832 | no | N0.HOG0002018 |\n",
       "| 5 | Arabidopsis_thaliana | AT2G01045 |    0.7753592 | 3.0265125 | 1.922346 | 1.5743852 | 0.1153984 | 0.999832 | no | N0.HOG0002018 |\n",
       "| 6 | Arabidopsis_thaliana | AT2G01050 |    0.0000000 |        NA |       NA |        NA |        NA |       NA | no | N0.HOG0001718 |\n",
       "\n"
      ],
      "text/plain": [
       "  species              gene      baseMean     log2FoldChange lfcSE    stat     \n",
       "1 Arabidopsis_thaliana AT2G01008   89.4474691 1.1915003      1.373181 0.8676935\n",
       "2 Arabidopsis_thaliana AT2G01021 6293.9891129 0.5717520      1.458286 0.3920712\n",
       "3 Arabidopsis_thaliana AT2G01023    2.5075116 0.2107723      1.039870 0.2026911\n",
       "4 Arabidopsis_thaliana AT2G01035    0.7753592 3.0265125      1.922346 1.5743852\n",
       "5 Arabidopsis_thaliana AT2G01045    0.7753592 3.0265125      1.922346 1.5743852\n",
       "6 Arabidopsis_thaliana AT2G01050    0.0000000        NA            NA        NA\n",
       "  pvalue    padj     significant HOG          \n",
       "1 0.3855622 0.999832 no          singleton    \n",
       "2 0.6950056 0.999832 no          singleton    \n",
       "3 0.8393765 0.999832 no          singleton    \n",
       "4 0.1153984 0.999832 no          N0.HOG0002018\n",
       "5 0.1153984 0.999832 no          N0.HOG0002018\n",
       "6        NA       NA no          N0.HOG0001718"
      ]
     },
     "metadata": {},
     "output_type": "display_data"
    }
   ],
   "source": [
    "str(HOG_DE.a2tea)\n",
    "head(HOG_DE.a2tea)"
   ]
  },
  {
   "cell_type": "code",
   "execution_count": 22,
   "id": "b6381b02",
   "metadata": {
    "collapsed": true
   },
   "outputs": [
    {
     "name": "stdout",
     "output_type": "stream",
     "text": [
      "List of 2\n",
      " $ hypothesis_1: tibble [20,913 × 11] (S3: tbl_df/tbl/data.frame)\n",
      "  ..$ HOG                       : chr [1:20913] \"N0.HOG0000236\" \"N0.HOG0000865\" \"N0.HOG0000887\" \"N0.HOG0000914\" ...\n",
      "  ..$ tea_value                 : num [1:20913] 0.0706 0.075 0.075 0.075 0.075 ...\n",
      "  ..$ cafe_pvalue               : num [1:20913] 0.001 0.181 0.181 0.181 0.181 0.019 0.062 0.062 0.062 0.062 ...\n",
      "  ..$ Arabidopsis_thaliana_total: num [1:20913] 12 6 6 6 6 10 6 6 6 6 ...\n",
      "  ..$ Zea_mays_total            : num [1:20913] 1 2 2 2 2 3 2 2 1 2 ...\n",
      "  ..$ Hordeum_vulgare_total     : num [1:20913] 4 2 2 2 2 2 1 1 2 1 ...\n",
      "  ..$ expansion                 : chr [1:20913] \"yes\" \"yes\" \"yes\" \"yes\" ...\n",
      "  ..$ Arabidopsis_thaliana_sigDE: num [1:20913] NA NA NA NA NA NA NA NA NA NA ...\n",
      "  ..$ Hordeum_vulgare_sigDE     : num [1:20913] 1 2 NA 1 NA 1 NA 1 1 1 ...\n",
      "  ..$ Zea_mays_sigDE            : num [1:20913] NA NA NA NA 2 1 NA NA NA NA ...\n",
      "  ..$ total_sigDE               : num [1:20913] 1 2 NA 1 2 2 NA 1 1 1 ...\n",
      " $ hypothesis_2: tibble [20,913 × 10] (S3: tbl_df/tbl/data.frame)\n",
      "  ..$ HOG                       : chr [1:20913] \"N0.HOG0000047\" \"N0.HOG0000063\" \"N0.HOG0000044\" \"N0.HOG0000049\" ...\n",
      "  ..$ tea_value                 : num [1:20913] 0.000903 0.002252 0.002353 0.002507 0.003348 ...\n",
      "  ..$ cafe_pvalue               : num [1:20913] 0 0 0 0 0.01 0 0 0.002 0 0 ...\n",
      "  ..$ Hordeum_vulgare_total     : num [1:20913] 31 35 41 37 12 31 33 10 17 29 ...\n",
      "  ..$ Zea_mays_total            : num [1:20913] 8 2 3 4 4 3 1 2 3 4 ...\n",
      "  ..$ expansion                 : chr [1:20913] \"yes\" \"yes\" \"yes\" \"yes\" ...\n",
      "  ..$ Arabidopsis_thaliana_sigDE: num [1:20913] NA NA NA NA NA NA NA NA NA NA ...\n",
      "  ..$ Hordeum_vulgare_sigDE     : num [1:20913] 10 14 11 9 7 9 14 9 7 6 ...\n",
      "  ..$ Zea_mays_sigDE            : num [1:20913] NA NA NA NA NA NA NA NA NA NA ...\n",
      "  ..$ total_sigDE               : num [1:20913] 10 14 11 9 7 9 14 9 7 6 ...\n"
     ]
    },
    {
     "data": {
      "text/html": [
       "<table class=\"dataframe\">\n",
       "<caption>A tibble: 6 × 11</caption>\n",
       "<thead>\n",
       "\t<tr><th scope=col>HOG</th><th scope=col>tea_value</th><th scope=col>cafe_pvalue</th><th scope=col>Arabidopsis_thaliana_total</th><th scope=col>Zea_mays_total</th><th scope=col>Hordeum_vulgare_total</th><th scope=col>expansion</th><th scope=col>Arabidopsis_thaliana_sigDE</th><th scope=col>Hordeum_vulgare_sigDE</th><th scope=col>Zea_mays_sigDE</th><th scope=col>total_sigDE</th></tr>\n",
       "\t<tr><th scope=col>&lt;chr&gt;</th><th scope=col>&lt;dbl&gt;</th><th scope=col>&lt;dbl&gt;</th><th scope=col>&lt;dbl&gt;</th><th scope=col>&lt;dbl&gt;</th><th scope=col>&lt;dbl&gt;</th><th scope=col>&lt;chr&gt;</th><th scope=col>&lt;dbl&gt;</th><th scope=col>&lt;dbl&gt;</th><th scope=col>&lt;dbl&gt;</th><th scope=col>&lt;dbl&gt;</th></tr>\n",
       "</thead>\n",
       "<tbody>\n",
       "\t<tr><td>N0.HOG0000236</td><td>0.07058824</td><td>0.001</td><td>12</td><td>1</td><td>4</td><td>yes</td><td>NA</td><td> 1</td><td>NA</td><td> 1</td></tr>\n",
       "\t<tr><td>N0.HOG0000865</td><td>0.07500000</td><td>0.181</td><td> 6</td><td>2</td><td>2</td><td>yes</td><td>NA</td><td> 2</td><td>NA</td><td> 2</td></tr>\n",
       "\t<tr><td>N0.HOG0000887</td><td>0.07500000</td><td>0.181</td><td> 6</td><td>2</td><td>2</td><td>yes</td><td>NA</td><td>NA</td><td>NA</td><td>NA</td></tr>\n",
       "\t<tr><td>N0.HOG0000914</td><td>0.07500000</td><td>0.181</td><td> 6</td><td>2</td><td>2</td><td>yes</td><td>NA</td><td> 1</td><td>NA</td><td> 1</td></tr>\n",
       "\t<tr><td>N0.HOG0000951</td><td>0.07500000</td><td>0.181</td><td> 6</td><td>2</td><td>2</td><td>yes</td><td>NA</td><td>NA</td><td> 2</td><td> 2</td></tr>\n",
       "\t<tr><td>N0.HOG0000317</td><td>0.08888889</td><td>0.019</td><td>10</td><td>3</td><td>2</td><td>yes</td><td>NA</td><td> 1</td><td> 1</td><td> 2</td></tr>\n",
       "</tbody>\n",
       "</table>\n"
      ],
      "text/latex": [
       "A tibble: 6 × 11\n",
       "\\begin{tabular}{lllllllllll}\n",
       " HOG & tea\\_value & cafe\\_pvalue & Arabidopsis\\_thaliana\\_total & Zea\\_mays\\_total & Hordeum\\_vulgare\\_total & expansion & Arabidopsis\\_thaliana\\_sigDE & Hordeum\\_vulgare\\_sigDE & Zea\\_mays\\_sigDE & total\\_sigDE\\\\\n",
       " <chr> & <dbl> & <dbl> & <dbl> & <dbl> & <dbl> & <chr> & <dbl> & <dbl> & <dbl> & <dbl>\\\\\n",
       "\\hline\n",
       "\t N0.HOG0000236 & 0.07058824 & 0.001 & 12 & 1 & 4 & yes & NA &  1 & NA &  1\\\\\n",
       "\t N0.HOG0000865 & 0.07500000 & 0.181 &  6 & 2 & 2 & yes & NA &  2 & NA &  2\\\\\n",
       "\t N0.HOG0000887 & 0.07500000 & 0.181 &  6 & 2 & 2 & yes & NA & NA & NA & NA\\\\\n",
       "\t N0.HOG0000914 & 0.07500000 & 0.181 &  6 & 2 & 2 & yes & NA &  1 & NA &  1\\\\\n",
       "\t N0.HOG0000951 & 0.07500000 & 0.181 &  6 & 2 & 2 & yes & NA & NA &  2 &  2\\\\\n",
       "\t N0.HOG0000317 & 0.08888889 & 0.019 & 10 & 3 & 2 & yes & NA &  1 &  1 &  2\\\\\n",
       "\\end{tabular}\n"
      ],
      "text/markdown": [
       "\n",
       "A tibble: 6 × 11\n",
       "\n",
       "| HOG &lt;chr&gt; | tea_value &lt;dbl&gt; | cafe_pvalue &lt;dbl&gt; | Arabidopsis_thaliana_total &lt;dbl&gt; | Zea_mays_total &lt;dbl&gt; | Hordeum_vulgare_total &lt;dbl&gt; | expansion &lt;chr&gt; | Arabidopsis_thaliana_sigDE &lt;dbl&gt; | Hordeum_vulgare_sigDE &lt;dbl&gt; | Zea_mays_sigDE &lt;dbl&gt; | total_sigDE &lt;dbl&gt; |\n",
       "|---|---|---|---|---|---|---|---|---|---|---|\n",
       "| N0.HOG0000236 | 0.07058824 | 0.001 | 12 | 1 | 4 | yes | NA |  1 | NA |  1 |\n",
       "| N0.HOG0000865 | 0.07500000 | 0.181 |  6 | 2 | 2 | yes | NA |  2 | NA |  2 |\n",
       "| N0.HOG0000887 | 0.07500000 | 0.181 |  6 | 2 | 2 | yes | NA | NA | NA | NA |\n",
       "| N0.HOG0000914 | 0.07500000 | 0.181 |  6 | 2 | 2 | yes | NA |  1 | NA |  1 |\n",
       "| N0.HOG0000951 | 0.07500000 | 0.181 |  6 | 2 | 2 | yes | NA | NA |  2 |  2 |\n",
       "| N0.HOG0000317 | 0.08888889 | 0.019 | 10 | 3 | 2 | yes | NA |  1 |  1 |  2 |\n",
       "\n"
      ],
      "text/plain": [
       "  HOG           tea_value  cafe_pvalue Arabidopsis_thaliana_total\n",
       "1 N0.HOG0000236 0.07058824 0.001       12                        \n",
       "2 N0.HOG0000865 0.07500000 0.181        6                        \n",
       "3 N0.HOG0000887 0.07500000 0.181        6                        \n",
       "4 N0.HOG0000914 0.07500000 0.181        6                        \n",
       "5 N0.HOG0000951 0.07500000 0.181        6                        \n",
       "6 N0.HOG0000317 0.08888889 0.019       10                        \n",
       "  Zea_mays_total Hordeum_vulgare_total expansion Arabidopsis_thaliana_sigDE\n",
       "1 1              4                     yes       NA                        \n",
       "2 2              2                     yes       NA                        \n",
       "3 2              2                     yes       NA                        \n",
       "4 2              2                     yes       NA                        \n",
       "5 2              2                     yes       NA                        \n",
       "6 3              2                     yes       NA                        \n",
       "  Hordeum_vulgare_sigDE Zea_mays_sigDE total_sigDE\n",
       "1  1                    NA              1         \n",
       "2  2                    NA              2         \n",
       "3 NA                    NA             NA         \n",
       "4  1                    NA              1         \n",
       "5 NA                     2              2         \n",
       "6  1                     1              2         "
      ]
     },
     "metadata": {},
     "output_type": "display_data"
    },
    {
     "data": {
      "text/html": [
       "<table class=\"dataframe\">\n",
       "<caption>A tibble: 6 × 10</caption>\n",
       "<thead>\n",
       "\t<tr><th scope=col>HOG</th><th scope=col>tea_value</th><th scope=col>cafe_pvalue</th><th scope=col>Hordeum_vulgare_total</th><th scope=col>Zea_mays_total</th><th scope=col>expansion</th><th scope=col>Arabidopsis_thaliana_sigDE</th><th scope=col>Hordeum_vulgare_sigDE</th><th scope=col>Zea_mays_sigDE</th><th scope=col>total_sigDE</th></tr>\n",
       "\t<tr><th scope=col>&lt;chr&gt;</th><th scope=col>&lt;dbl&gt;</th><th scope=col>&lt;dbl&gt;</th><th scope=col>&lt;dbl&gt;</th><th scope=col>&lt;dbl&gt;</th><th scope=col>&lt;chr&gt;</th><th scope=col>&lt;dbl&gt;</th><th scope=col>&lt;dbl&gt;</th><th scope=col>&lt;dbl&gt;</th><th scope=col>&lt;dbl&gt;</th></tr>\n",
       "</thead>\n",
       "<tbody>\n",
       "\t<tr><td>N0.HOG0000047</td><td>0.0009032634</td><td>0.00</td><td>31</td><td>8</td><td>yes</td><td>NA</td><td>10</td><td>NA</td><td>10</td></tr>\n",
       "\t<tr><td>N0.HOG0000063</td><td>0.0022522523</td><td>0.00</td><td>35</td><td>2</td><td>yes</td><td>NA</td><td>14</td><td>NA</td><td>14</td></tr>\n",
       "\t<tr><td>N0.HOG0000044</td><td>0.0023530762</td><td>0.00</td><td>41</td><td>3</td><td>yes</td><td>NA</td><td>11</td><td>NA</td><td>11</td></tr>\n",
       "\t<tr><td>N0.HOG0000049</td><td>0.0025067751</td><td>0.00</td><td>37</td><td>4</td><td>yes</td><td>NA</td><td> 9</td><td>NA</td><td> 9</td></tr>\n",
       "\t<tr><td>N0.HOG0000296</td><td>0.0033482143</td><td>0.01</td><td>12</td><td>4</td><td>yes</td><td>NA</td><td> 7</td><td>NA</td><td> 7</td></tr>\n",
       "\t<tr><td>N0.HOG0000075</td><td>0.0033769063</td><td>0.00</td><td>31</td><td>3</td><td>yes</td><td>NA</td><td> 9</td><td>NA</td><td> 9</td></tr>\n",
       "</tbody>\n",
       "</table>\n"
      ],
      "text/latex": [
       "A tibble: 6 × 10\n",
       "\\begin{tabular}{llllllllll}\n",
       " HOG & tea\\_value & cafe\\_pvalue & Hordeum\\_vulgare\\_total & Zea\\_mays\\_total & expansion & Arabidopsis\\_thaliana\\_sigDE & Hordeum\\_vulgare\\_sigDE & Zea\\_mays\\_sigDE & total\\_sigDE\\\\\n",
       " <chr> & <dbl> & <dbl> & <dbl> & <dbl> & <chr> & <dbl> & <dbl> & <dbl> & <dbl>\\\\\n",
       "\\hline\n",
       "\t N0.HOG0000047 & 0.0009032634 & 0.00 & 31 & 8 & yes & NA & 10 & NA & 10\\\\\n",
       "\t N0.HOG0000063 & 0.0022522523 & 0.00 & 35 & 2 & yes & NA & 14 & NA & 14\\\\\n",
       "\t N0.HOG0000044 & 0.0023530762 & 0.00 & 41 & 3 & yes & NA & 11 & NA & 11\\\\\n",
       "\t N0.HOG0000049 & 0.0025067751 & 0.00 & 37 & 4 & yes & NA &  9 & NA &  9\\\\\n",
       "\t N0.HOG0000296 & 0.0033482143 & 0.01 & 12 & 4 & yes & NA &  7 & NA &  7\\\\\n",
       "\t N0.HOG0000075 & 0.0033769063 & 0.00 & 31 & 3 & yes & NA &  9 & NA &  9\\\\\n",
       "\\end{tabular}\n"
      ],
      "text/markdown": [
       "\n",
       "A tibble: 6 × 10\n",
       "\n",
       "| HOG &lt;chr&gt; | tea_value &lt;dbl&gt; | cafe_pvalue &lt;dbl&gt; | Hordeum_vulgare_total &lt;dbl&gt; | Zea_mays_total &lt;dbl&gt; | expansion &lt;chr&gt; | Arabidopsis_thaliana_sigDE &lt;dbl&gt; | Hordeum_vulgare_sigDE &lt;dbl&gt; | Zea_mays_sigDE &lt;dbl&gt; | total_sigDE &lt;dbl&gt; |\n",
       "|---|---|---|---|---|---|---|---|---|---|\n",
       "| N0.HOG0000047 | 0.0009032634 | 0.00 | 31 | 8 | yes | NA | 10 | NA | 10 |\n",
       "| N0.HOG0000063 | 0.0022522523 | 0.00 | 35 | 2 | yes | NA | 14 | NA | 14 |\n",
       "| N0.HOG0000044 | 0.0023530762 | 0.00 | 41 | 3 | yes | NA | 11 | NA | 11 |\n",
       "| N0.HOG0000049 | 0.0025067751 | 0.00 | 37 | 4 | yes | NA |  9 | NA |  9 |\n",
       "| N0.HOG0000296 | 0.0033482143 | 0.01 | 12 | 4 | yes | NA |  7 | NA |  7 |\n",
       "| N0.HOG0000075 | 0.0033769063 | 0.00 | 31 | 3 | yes | NA |  9 | NA |  9 |\n",
       "\n"
      ],
      "text/plain": [
       "  HOG           tea_value    cafe_pvalue Hordeum_vulgare_total Zea_mays_total\n",
       "1 N0.HOG0000047 0.0009032634 0.00        31                    8             \n",
       "2 N0.HOG0000063 0.0022522523 0.00        35                    2             \n",
       "3 N0.HOG0000044 0.0023530762 0.00        41                    3             \n",
       "4 N0.HOG0000049 0.0025067751 0.00        37                    4             \n",
       "5 N0.HOG0000296 0.0033482143 0.01        12                    4             \n",
       "6 N0.HOG0000075 0.0033769063 0.00        31                    3             \n",
       "  expansion Arabidopsis_thaliana_sigDE Hordeum_vulgare_sigDE Zea_mays_sigDE\n",
       "1 yes       NA                         10                    NA            \n",
       "2 yes       NA                         14                    NA            \n",
       "3 yes       NA                         11                    NA            \n",
       "4 yes       NA                          9                    NA            \n",
       "5 yes       NA                          7                    NA            \n",
       "6 yes       NA                          9                    NA            \n",
       "  total_sigDE\n",
       "1 10         \n",
       "2 14         \n",
       "3 11         \n",
       "4  9         \n",
       "5  7         \n",
       "6  9         "
      ]
     },
     "metadata": {},
     "output_type": "display_data"
    }
   ],
   "source": [
    "str(HOG_level_list)\n",
    "head(HOG_level_list$hypothesis_1)\n",
    "head(HOG_level_list$hypothesis_2)"
   ]
  },
  {
   "cell_type": "code",
   "execution_count": 22,
   "id": "a3b1e101",
   "metadata": {},
   "outputs": [
    {
     "data": {
      "text/html": [
       "<table class=\"dataframe\">\n",
       "<caption>A tibble: 6 × 10</caption>\n",
       "<thead>\n",
       "\t<tr><th scope=col>HOG</th><th scope=col>tea_value</th><th scope=col>cafe_pvalue</th><th scope=col>Arabidopsis_thaliana_total</th><th scope=col>Zea_mays_total</th><th scope=col>Hordeum_vulgare_total</th><th scope=col>expansion</th><th scope=col>Hordeum_vulgare_sigDE</th><th scope=col>Zea_mays_sigDE</th><th scope=col>total_sigDE</th></tr>\n",
       "\t<tr><th scope=col>&lt;chr&gt;</th><th scope=col>&lt;dbl&gt;</th><th scope=col>&lt;dbl&gt;</th><th scope=col>&lt;dbl&gt;</th><th scope=col>&lt;dbl&gt;</th><th scope=col>&lt;dbl&gt;</th><th scope=col>&lt;chr&gt;</th><th scope=col>&lt;dbl&gt;</th><th scope=col>&lt;dbl&gt;</th><th scope=col>&lt;dbl&gt;</th></tr>\n",
       "</thead>\n",
       "<tbody>\n",
       "\t<tr><td>N0.HOG0000012</td><td>Inf</td><td>0.435</td><td> 3</td><td>1</td><td>1</td><td>yes</td><td>NA</td><td>NA</td><td>NA</td></tr>\n",
       "\t<tr><td>N0.HOG0000025</td><td>Inf</td><td>0.000</td><td>13</td><td>1</td><td>1</td><td>yes</td><td> 1</td><td>NA</td><td> 1</td></tr>\n",
       "\t<tr><td>N0.HOG0000031</td><td>Inf</td><td>0.242</td><td> 4</td><td>1</td><td>1</td><td>yes</td><td>NA</td><td>NA</td><td>NA</td></tr>\n",
       "\t<tr><td>N0.HOG0000033</td><td>Inf</td><td>0.863</td><td> 2</td><td>1</td><td>1</td><td>yes</td><td> 1</td><td>NA</td><td> 1</td></tr>\n",
       "\t<tr><td>N0.HOG0000039</td><td>Inf</td><td>0.070</td><td> 8</td><td>2</td><td>3</td><td>yes</td><td>NA</td><td>NA</td><td>NA</td></tr>\n",
       "\t<tr><td>N0.HOG0000040</td><td>Inf</td><td>0.004</td><td>10</td><td>1</td><td>2</td><td>yes</td><td>NA</td><td>NA</td><td>NA</td></tr>\n",
       "</tbody>\n",
       "</table>\n"
      ],
      "text/latex": [
       "A tibble: 6 × 10\n",
       "\\begin{tabular}{llllllllll}\n",
       " HOG & tea\\_value & cafe\\_pvalue & Arabidopsis\\_thaliana\\_total & Zea\\_mays\\_total & Hordeum\\_vulgare\\_total & expansion & Hordeum\\_vulgare\\_sigDE & Zea\\_mays\\_sigDE & total\\_sigDE\\\\\n",
       " <chr> & <dbl> & <dbl> & <dbl> & <dbl> & <dbl> & <chr> & <dbl> & <dbl> & <dbl>\\\\\n",
       "\\hline\n",
       "\t N0.HOG0000012 & Inf & 0.435 &  3 & 1 & 1 & yes & NA & NA & NA\\\\\n",
       "\t N0.HOG0000025 & Inf & 0.000 & 13 & 1 & 1 & yes &  1 & NA &  1\\\\\n",
       "\t N0.HOG0000031 & Inf & 0.242 &  4 & 1 & 1 & yes & NA & NA & NA\\\\\n",
       "\t N0.HOG0000033 & Inf & 0.863 &  2 & 1 & 1 & yes &  1 & NA &  1\\\\\n",
       "\t N0.HOG0000039 & Inf & 0.070 &  8 & 2 & 3 & yes & NA & NA & NA\\\\\n",
       "\t N0.HOG0000040 & Inf & 0.004 & 10 & 1 & 2 & yes & NA & NA & NA\\\\\n",
       "\\end{tabular}\n"
      ],
      "text/markdown": [
       "\n",
       "A tibble: 6 × 10\n",
       "\n",
       "| HOG &lt;chr&gt; | tea_value &lt;dbl&gt; | cafe_pvalue &lt;dbl&gt; | Arabidopsis_thaliana_total &lt;dbl&gt; | Zea_mays_total &lt;dbl&gt; | Hordeum_vulgare_total &lt;dbl&gt; | expansion &lt;chr&gt; | Hordeum_vulgare_sigDE &lt;dbl&gt; | Zea_mays_sigDE &lt;dbl&gt; | total_sigDE &lt;dbl&gt; |\n",
       "|---|---|---|---|---|---|---|---|---|---|\n",
       "| N0.HOG0000012 | Inf | 0.435 |  3 | 1 | 1 | yes | NA | NA | NA |\n",
       "| N0.HOG0000025 | Inf | 0.000 | 13 | 1 | 1 | yes |  1 | NA |  1 |\n",
       "| N0.HOG0000031 | Inf | 0.242 |  4 | 1 | 1 | yes | NA | NA | NA |\n",
       "| N0.HOG0000033 | Inf | 0.863 |  2 | 1 | 1 | yes |  1 | NA |  1 |\n",
       "| N0.HOG0000039 | Inf | 0.070 |  8 | 2 | 3 | yes | NA | NA | NA |\n",
       "| N0.HOG0000040 | Inf | 0.004 | 10 | 1 | 2 | yes | NA | NA | NA |\n",
       "\n"
      ],
      "text/plain": [
       "  HOG           tea_value cafe_pvalue Arabidopsis_thaliana_total Zea_mays_total\n",
       "1 N0.HOG0000012 Inf       0.435        3                         1             \n",
       "2 N0.HOG0000025 Inf       0.000       13                         1             \n",
       "3 N0.HOG0000031 Inf       0.242        4                         1             \n",
       "4 N0.HOG0000033 Inf       0.863        2                         1             \n",
       "5 N0.HOG0000039 Inf       0.070        8                         2             \n",
       "6 N0.HOG0000040 Inf       0.004       10                         1             \n",
       "  Hordeum_vulgare_total expansion Hordeum_vulgare_sigDE Zea_mays_sigDE\n",
       "1 1                     yes       NA                    NA            \n",
       "2 1                     yes        1                    NA            \n",
       "3 1                     yes       NA                    NA            \n",
       "4 1                     yes        1                    NA            \n",
       "5 3                     yes       NA                    NA            \n",
       "6 2                     yes       NA                    NA            \n",
       "  total_sigDE\n",
       "1 NA         \n",
       "2  1         \n",
       "3 NA         \n",
       "4  1         \n",
       "5 NA         \n",
       "6 NA         "
      ]
     },
     "metadata": {},
     "output_type": "display_data"
    }
   ],
   "source": [
    "head(HOG_level_list$hypothesis_1)"
   ]
  },
  {
   "cell_type": "code",
   "execution_count": 18,
   "id": "cdb91786",
   "metadata": {},
   "outputs": [
    {
     "data": {
      "text/html": [
       "'2'"
      ],
      "text/latex": [
       "'2'"
      ],
      "text/markdown": [
       "'2'"
      ],
      "text/plain": [
       "[1] \"2\""
      ]
     },
     "metadata": {},
     "output_type": "display_data"
    }
   ],
   "source": [
    "HYPOTHESES.a2tea$hypothesis_2@expanded_OGs$N0.HOG0000814@"
   ]
  }
 ],
 "metadata": {
  "kernelspec": {
   "display_name": "R",
   "language": "R",
   "name": "ir"
  },
  "language_info": {
   "codemirror_mode": "r",
   "file_extension": ".r",
   "mimetype": "text/x-r-source",
   "name": "R",
   "pygments_lexer": "r",
   "version": "4.1.0"
  }
 },
 "nbformat": 4,
 "nbformat_minor": 5
}
