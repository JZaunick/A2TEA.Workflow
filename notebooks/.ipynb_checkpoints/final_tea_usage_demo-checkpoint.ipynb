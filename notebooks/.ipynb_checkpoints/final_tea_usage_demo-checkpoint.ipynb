{
 "cells": [
  {
   "cell_type": "markdown",
   "id": "6c2f07a2",
   "metadata": {},
   "source": [
    "## Quick demo on how to use the `A2TEA_finished.RData` output"
   ]
  },
  {
   "cell_type": "markdown",
   "id": "1406c3c7",
   "metadata": {},
   "source": [
    "- currently, the fastest way to execute the pipeline is to build a conda environment with ALL software included \n",
    "- using more fine-grained individual yaml files (--use-conda option) for rules/sets of rules leads to  sequential run (takes much longer) in the checkpoints steps for some reason...\n",
    "- therefore for now: building big environment with -> workflow/envs/complete_environment.yaml\n",
    "  \n",
    "e.g.:  \n",
    "`mamba env create --name A2TEA --file workflow/envs/complete_environment.yaml`  \n",
    "activate this environment; then run A2TEA with:  \n",
    "`snakemake --cores xx`\n",
    "\n",
    "**the final output of A2TEA is found under `tea/A2TEA_finished.RData`**"
   ]
  },
  {
   "cell_type": "markdown",
   "id": "f6178978",
   "metadata": {},
   "source": [
    "### 2.) working with A2TEA output for the moment..\n",
    "\n",
    "#### 2.1 - load libraries - define three classes\n",
    "-> important for your R instance to understand my new custom data structs"
   ]
  },
  {
   "cell_type": "code",
   "execution_count": 10,
   "id": "9a4708fe",
   "metadata": {},
   "outputs": [],
   "source": [
    "library(DESeq2)\n",
    "library(tidyverse)\n",
    "library(ggtree)\n",
    "library(ggtreeExtra)\n",
    "library(Biostrings)\n",
    "library(seqinr)\n",
    "library(UpSetR)\n",
    "library(cowplot)\n",
    "library(ggplotify)"
   ]
  },
  {
   "cell_type": "code",
   "execution_count": 11,
   "id": "64eca66e",
   "metadata": {},
   "outputs": [],
   "source": [
    "# class for the expanded_OG - containing all different types of data we have on it\n",
    "setClass(\"expanded_OG\", slots=list(genes=\"spec_tbl_df\",\n",
    "                                   blast_table=\"tbl_df\",\n",
    "                                   nrow_table=\"numeric\",\n",
    "                                   num_genes_HOG=\"numeric\",\n",
    "                                   num_genes_extend=\"numeric\",\n",
    "                                   num_genes_complete=\"numeric\",\n",
    "                                   genes_HOG=\"tbl_df\",\n",
    "                                   genes_extend_hits=\"tbl_df\",\n",
    "                                   fasta_files=\"list\",\n",
    "                                   msa=\"AAStringSet\",\n",
    "                                   tree=\"phylo\"))\n",
    "\n",
    "# class for the hypotheses\n",
    "setClass(\"hypothesis\",\n",
    "         slots=list(description=\"character\",\n",
    "                                  number=\"character\",\n",
    "                                  expanded_in =\"character\",\n",
    "                                  compared_to=\"character\",\n",
    "                                  expanded_OGs=\"list\",\n",
    "                                  species_tree=\"phylo\"))\n",
    "\n",
    "# class for extended BLAST hits info\n",
    "setClass(\"extended_BLAST_hits\",\n",
    "         slots=list(blast_table=\"tbl_df\",\n",
    "                    num_genes_HOG=\"numeric\",\n",
    "                    num_genes_extend=\"numeric\",\n",
    "                    num_genes_complete=\"numeric\",\n",
    "                    genes_HOG=\"tbl_df\",\n",
    "                    genes_extend_hits=\"tbl_df\")\n",
    "         )"
   ]
  },
  {
   "cell_type": "markdown",
   "id": "215b5155",
   "metadata": {},
   "source": [
    "#### 2.2 - read-in the A2TEA output .RData file"
   ]
  },
  {
   "cell_type": "code",
   "execution_count": 12,
   "id": "6c5368d1",
   "metadata": {},
   "outputs": [],
   "source": [
    "load(\"../A2TEA_finished.RData\")"
   ]
  },
  {
   "cell_type": "markdown",
   "id": "ee6cfd3b",
   "metadata": {},
   "source": [
    "#### 2.3 - currently included: 4 files\n",
    "\n",
    "- `hypotheses`     \n",
    "- `HYPOTHESES.a2tea`\n",
    "- `HOG_DE.a2tea`\n",
    "- `HOG_level_list`"
   ]
  },
  {
   "cell_type": "code",
   "execution_count": 49,
   "id": "943edc93",
   "metadata": {
    "collapsed": true
   },
   "outputs": [
    {
     "data": {
      "text/html": [
       "<table class=\"dataframe\">\n",
       "<caption>A spec_tbl_df: 2 × 4</caption>\n",
       "<thead>\n",
       "\t<tr><th scope=col>hypothesis</th><th scope=col>name</th><th scope=col>expanded_in</th><th scope=col>compared_to</th></tr>\n",
       "\t<tr><th scope=col>&lt;dbl&gt;</th><th scope=col>&lt;chr&gt;</th><th scope=col>&lt;chr&gt;</th><th scope=col>&lt;chr&gt;</th></tr>\n",
       "</thead>\n",
       "<tbody>\n",
       "\t<tr><td>1</td><td>Expanded in Arabidopsis compared to Monocots</td><td>Arabidopsis_thaliana</td><td>Zea_mays;Hordeum_vulgare</td></tr>\n",
       "\t<tr><td>2</td><td>Expanded in barley compared to maize        </td><td>Hordeum_vulgare     </td><td>Zea_mays                </td></tr>\n",
       "</tbody>\n",
       "</table>\n"
      ],
      "text/latex": [
       "A spec\\_tbl\\_df: 2 × 4\n",
       "\\begin{tabular}{llll}\n",
       " hypothesis & name & expanded\\_in & compared\\_to\\\\\n",
       " <dbl> & <chr> & <chr> & <chr>\\\\\n",
       "\\hline\n",
       "\t 1 & Expanded in Arabidopsis compared to Monocots & Arabidopsis\\_thaliana & Zea\\_mays;Hordeum\\_vulgare\\\\\n",
       "\t 2 & Expanded in barley compared to maize         & Hordeum\\_vulgare      & Zea\\_mays                \\\\\n",
       "\\end{tabular}\n"
      ],
      "text/markdown": [
       "\n",
       "A spec_tbl_df: 2 × 4\n",
       "\n",
       "| hypothesis &lt;dbl&gt; | name &lt;chr&gt; | expanded_in &lt;chr&gt; | compared_to &lt;chr&gt; |\n",
       "|---|---|---|---|\n",
       "| 1 | Expanded in Arabidopsis compared to Monocots | Arabidopsis_thaliana | Zea_mays;Hordeum_vulgare |\n",
       "| 2 | Expanded in barley compared to maize         | Hordeum_vulgare      | Zea_mays                 |\n",
       "\n"
      ],
      "text/plain": [
       "  hypothesis name                                         expanded_in         \n",
       "1 1          Expanded in Arabidopsis compared to Monocots Arabidopsis_thaliana\n",
       "2 2          Expanded in barley compared to maize         Hordeum_vulgare     \n",
       "  compared_to             \n",
       "1 Zea_mays;Hordeum_vulgare\n",
       "2 Zea_mays                "
      ]
     },
     "metadata": {},
     "output_type": "display_data"
    }
   ],
   "source": [
    "hypotheses"
   ]
  },
  {
   "cell_type": "code",
   "execution_count": 48,
   "id": "b8633709",
   "metadata": {
    "collapsed": true
   },
   "outputs": [
    {
     "data": {
      "text/plain": [
       "             Length Class      Mode\n",
       "hypothesis_1 1      hypothesis S4  \n",
       "hypothesis_2 1      hypothesis S4  "
      ]
     },
     "metadata": {},
     "output_type": "display_data"
    },
    {
     "data": {
      "text/html": [
       "'Expanded in Arabidopsis compared to Monocots'"
      ],
      "text/latex": [
       "'Expanded in Arabidopsis compared to Monocots'"
      ],
      "text/markdown": [
       "'Expanded in Arabidopsis compared to Monocots'"
      ],
      "text/plain": [
       "[1] \"Expanded in Arabidopsis compared to Monocots\""
      ]
     },
     "metadata": {},
     "output_type": "display_data"
    },
    {
     "data": {
      "text/html": [
       "'1'"
      ],
      "text/latex": [
       "'1'"
      ],
      "text/markdown": [
       "'1'"
      ],
      "text/plain": [
       "[1] \"1\""
      ]
     },
     "metadata": {},
     "output_type": "display_data"
    },
    {
     "data": {
      "text/html": [
       "'Arabidopsis_thaliana'"
      ],
      "text/latex": [
       "'Arabidopsis\\_thaliana'"
      ],
      "text/markdown": [
       "'Arabidopsis_thaliana'"
      ],
      "text/plain": [
       "[1] \"Arabidopsis_thaliana\""
      ]
     },
     "metadata": {},
     "output_type": "display_data"
    },
    {
     "data": {
      "text/html": [
       "<style>\n",
       ".list-inline {list-style: none; margin:0; padding: 0}\n",
       ".list-inline>li {display: inline-block}\n",
       ".list-inline>li:not(:last-child)::after {content: \"\\00b7\"; padding: 0 .5ex}\n",
       "</style>\n",
       "<ol class=list-inline><li>'Zea_mays'</li><li>'Hordeum_vulgare'</li></ol>\n"
      ],
      "text/latex": [
       "\\begin{enumerate*}\n",
       "\\item 'Zea\\_mays'\n",
       "\\item 'Hordeum\\_vulgare'\n",
       "\\end{enumerate*}\n"
      ],
      "text/markdown": [
       "1. 'Zea_mays'\n",
       "2. 'Hordeum_vulgare'\n",
       "\n",
       "\n"
      ],
      "text/plain": [
       "[1] \"Zea_mays\"        \"Hordeum_vulgare\""
      ]
     },
     "metadata": {},
     "output_type": "display_data"
    },
    {
     "data": {
      "text/plain": [
       "\n",
       "Phylogenetic tree with 3 tips and 2 internal nodes.\n",
       "\n",
       "Tip labels:\n",
       "  Arabidopsis_thaliana, Hordeum_vulgare, Zea_mays\n",
       "Node labels:\n",
       "  N0, N1\n",
       "\n",
       "Rooted; includes branch lengths."
      ]
     },
     "metadata": {},
     "output_type": "display_data"
    }
   ],
   "source": [
    "summary(HYPOTHESES.a2tea)\n",
    "HYPOTHESES.a2tea$hypothesis_1@description\n",
    "HYPOTHESES.a2tea$hypothesis_1@number\n",
    "HYPOTHESES.a2tea$hypothesis_1@expanded_in\n",
    "HYPOTHESES.a2tea$hypothesis_1@compared_to\n",
    "HYPOTHESES.a2tea$hypothesis_1@species_tree\n",
    "\n",
    "#HYPOTHESES.a2tea$hypothesis_1@expanded_OGs$N0.HOG0000205@genes\n",
    "#HYPOTHESES.a2tea$hypothesis_1@expanded_OGs$N0.HOG0000205@blast_table\n",
    "## ? HYPOTHESES.a2tea$hypothesis_1@expanded_OGs$N0.HOG0000308@nrow_table\n",
    "#HYPOTHESES.a2tea$hypothesis_1@expanded_OGs$N0.HOG0000205@num_genes_HOG\n",
    "#HYPOTHESES.a2tea$hypothesis_1@expanded_OGs$N0.HOG0000205@num_genes_extend\n",
    "#HYPOTHESES.a2tea$hypothesis_1@expanded_OGs$N0.HOG0000205@num_genes_complete\n",
    "#HYPOTHESES.a2tea$hypothesis_1@expanded_OGs$N0.HOG0000205@genes_HOG\n",
    "#HYPOTHESES.a2tea$hypothesis_1@expanded_OGs$N0.HOG0000205@genes_extend_hits\n",
    "#HYPOTHESES.a2tea$hypothesis_1@expanded_OGs$N0.HOG0000205@fasta_files\n",
    "#HYPOTHESES.a2tea$hypothesis_1@expanded_OGs$N0.HOG0000205@msa\n",
    "#HYPOTHESES.a2tea$hypothesis_1@expanded_OGs$N0.HOG0000205@tree"
   ]
  },
  {
   "cell_type": "code",
   "execution_count": 19,
   "id": "bf52c651",
   "metadata": {
    "collapsed": true
   },
   "outputs": [
    {
     "name": "stdout",
     "output_type": "stream",
     "text": [
      "'data.frame':\t113939 obs. of  10 variables:\n",
      " $ species       : chr  \"Arabidopsis_thaliana\" \"Arabidopsis_thaliana\" \"Arabidopsis_thaliana\" \"Arabidopsis_thaliana\" ...\n",
      " $ gene          : chr  \"AT1G01010\" \"AT1G01020\" \"AT1G01030\" \"AT1G01040\" ...\n",
      " $ baseMean      : num  41.2 248.8 98.6 349.3 490.9 ...\n",
      " $ log2FoldChange: num  -0.1422 0.0483 0.1554 0.1579 -0.0106 ...\n",
      " $ lfcSE         : num  0.263 0.225 0.242 0.211 0.182 ...\n",
      " $ stat          : num  -0.5397 0.2147 0.6431 0.7492 -0.0586 ...\n",
      " $ pvalue        : num  0.589 0.83 0.52 0.454 0.953 ...\n",
      " $ padj          : num  1 1 1 1 1 ...\n",
      " $ significant   : chr  \"no\" \"no\" \"no\" \"no\" ...\n",
      " $ HOG           : chr  \"N0.HOG0007254\" \"N0.HOG0005513\" \"N0.HOG0016503\" \"N0.HOG0011661\" ...\n"
     ]
    },
    {
     "data": {
      "text/html": [
       "<table class=\"dataframe\">\n",
       "<caption>A data.frame: 6 × 10</caption>\n",
       "<thead>\n",
       "\t<tr><th></th><th scope=col>species</th><th scope=col>gene</th><th scope=col>baseMean</th><th scope=col>log2FoldChange</th><th scope=col>lfcSE</th><th scope=col>stat</th><th scope=col>pvalue</th><th scope=col>padj</th><th scope=col>significant</th><th scope=col>HOG</th></tr>\n",
       "\t<tr><th></th><th scope=col>&lt;chr&gt;</th><th scope=col>&lt;chr&gt;</th><th scope=col>&lt;dbl&gt;</th><th scope=col>&lt;dbl&gt;</th><th scope=col>&lt;dbl&gt;</th><th scope=col>&lt;dbl&gt;</th><th scope=col>&lt;dbl&gt;</th><th scope=col>&lt;dbl&gt;</th><th scope=col>&lt;chr&gt;</th><th scope=col>&lt;chr&gt;</th></tr>\n",
       "</thead>\n",
       "<tbody>\n",
       "\t<tr><th scope=row>1</th><td>Arabidopsis_thaliana</td><td>AT1G01010</td><td> 41.19541</td><td>-0.14215259</td><td>0.2633998</td><td>-0.5396837</td><td>0.5894152</td><td>0.9998987</td><td>no</td><td>N0.HOG0007254</td></tr>\n",
       "\t<tr><th scope=row>2</th><td>Arabidopsis_thaliana</td><td>AT1G01020</td><td>248.82420</td><td> 0.04825906</td><td>0.2247451</td><td> 0.2147280</td><td>0.8299794</td><td>0.9998987</td><td>no</td><td>N0.HOG0005513</td></tr>\n",
       "\t<tr><th scope=row>3</th><td>Arabidopsis_thaliana</td><td>AT1G01030</td><td> 98.55760</td><td> 0.15535117</td><td>0.2415571</td><td> 0.6431241</td><td>0.5201436</td><td>0.9998987</td><td>no</td><td>N0.HOG0016503</td></tr>\n",
       "\t<tr><th scope=row>4</th><td>Arabidopsis_thaliana</td><td>AT1G01040</td><td>349.29246</td><td> 0.15792841</td><td>0.2108101</td><td> 0.7491500</td><td>0.4537668</td><td>0.9998987</td><td>no</td><td>N0.HOG0011661</td></tr>\n",
       "\t<tr><th scope=row>5</th><td>Arabidopsis_thaliana</td><td>AT1G01050</td><td>490.88790</td><td>-0.01063666</td><td>0.1815235</td><td>-0.0585966</td><td>0.9532734</td><td>0.9998987</td><td>no</td><td>N0.HOG0000926</td></tr>\n",
       "\t<tr><th scope=row>6</th><td>Arabidopsis_thaliana</td><td>AT1G01060</td><td>504.75488</td><td>-0.18652888</td><td>0.2859985</td><td>-0.6522023</td><td>0.5142706</td><td>0.9998987</td><td>no</td><td>N0.HOG0004937</td></tr>\n",
       "</tbody>\n",
       "</table>\n"
      ],
      "text/latex": [
       "A data.frame: 6 × 10\n",
       "\\begin{tabular}{r|llllllllll}\n",
       "  & species & gene & baseMean & log2FoldChange & lfcSE & stat & pvalue & padj & significant & HOG\\\\\n",
       "  & <chr> & <chr> & <dbl> & <dbl> & <dbl> & <dbl> & <dbl> & <dbl> & <chr> & <chr>\\\\\n",
       "\\hline\n",
       "\t1 & Arabidopsis\\_thaliana & AT1G01010 &  41.19541 & -0.14215259 & 0.2633998 & -0.5396837 & 0.5894152 & 0.9998987 & no & N0.HOG0007254\\\\\n",
       "\t2 & Arabidopsis\\_thaliana & AT1G01020 & 248.82420 &  0.04825906 & 0.2247451 &  0.2147280 & 0.8299794 & 0.9998987 & no & N0.HOG0005513\\\\\n",
       "\t3 & Arabidopsis\\_thaliana & AT1G01030 &  98.55760 &  0.15535117 & 0.2415571 &  0.6431241 & 0.5201436 & 0.9998987 & no & N0.HOG0016503\\\\\n",
       "\t4 & Arabidopsis\\_thaliana & AT1G01040 & 349.29246 &  0.15792841 & 0.2108101 &  0.7491500 & 0.4537668 & 0.9998987 & no & N0.HOG0011661\\\\\n",
       "\t5 & Arabidopsis\\_thaliana & AT1G01050 & 490.88790 & -0.01063666 & 0.1815235 & -0.0585966 & 0.9532734 & 0.9998987 & no & N0.HOG0000926\\\\\n",
       "\t6 & Arabidopsis\\_thaliana & AT1G01060 & 504.75488 & -0.18652888 & 0.2859985 & -0.6522023 & 0.5142706 & 0.9998987 & no & N0.HOG0004937\\\\\n",
       "\\end{tabular}\n"
      ],
      "text/markdown": [
       "\n",
       "A data.frame: 6 × 10\n",
       "\n",
       "| <!--/--> | species &lt;chr&gt; | gene &lt;chr&gt; | baseMean &lt;dbl&gt; | log2FoldChange &lt;dbl&gt; | lfcSE &lt;dbl&gt; | stat &lt;dbl&gt; | pvalue &lt;dbl&gt; | padj &lt;dbl&gt; | significant &lt;chr&gt; | HOG &lt;chr&gt; |\n",
       "|---|---|---|---|---|---|---|---|---|---|---|\n",
       "| 1 | Arabidopsis_thaliana | AT1G01010 |  41.19541 | -0.14215259 | 0.2633998 | -0.5396837 | 0.5894152 | 0.9998987 | no | N0.HOG0007254 |\n",
       "| 2 | Arabidopsis_thaliana | AT1G01020 | 248.82420 |  0.04825906 | 0.2247451 |  0.2147280 | 0.8299794 | 0.9998987 | no | N0.HOG0005513 |\n",
       "| 3 | Arabidopsis_thaliana | AT1G01030 |  98.55760 |  0.15535117 | 0.2415571 |  0.6431241 | 0.5201436 | 0.9998987 | no | N0.HOG0016503 |\n",
       "| 4 | Arabidopsis_thaliana | AT1G01040 | 349.29246 |  0.15792841 | 0.2108101 |  0.7491500 | 0.4537668 | 0.9998987 | no | N0.HOG0011661 |\n",
       "| 5 | Arabidopsis_thaliana | AT1G01050 | 490.88790 | -0.01063666 | 0.1815235 | -0.0585966 | 0.9532734 | 0.9998987 | no | N0.HOG0000926 |\n",
       "| 6 | Arabidopsis_thaliana | AT1G01060 | 504.75488 | -0.18652888 | 0.2859985 | -0.6522023 | 0.5142706 | 0.9998987 | no | N0.HOG0004937 |\n",
       "\n"
      ],
      "text/plain": [
       "  species              gene      baseMean  log2FoldChange lfcSE     stat      \n",
       "1 Arabidopsis_thaliana AT1G01010  41.19541 -0.14215259    0.2633998 -0.5396837\n",
       "2 Arabidopsis_thaliana AT1G01020 248.82420  0.04825906    0.2247451  0.2147280\n",
       "3 Arabidopsis_thaliana AT1G01030  98.55760  0.15535117    0.2415571  0.6431241\n",
       "4 Arabidopsis_thaliana AT1G01040 349.29246  0.15792841    0.2108101  0.7491500\n",
       "5 Arabidopsis_thaliana AT1G01050 490.88790 -0.01063666    0.1815235 -0.0585966\n",
       "6 Arabidopsis_thaliana AT1G01060 504.75488 -0.18652888    0.2859985 -0.6522023\n",
       "  pvalue    padj      significant HOG          \n",
       "1 0.5894152 0.9998987 no          N0.HOG0007254\n",
       "2 0.8299794 0.9998987 no          N0.HOG0005513\n",
       "3 0.5201436 0.9998987 no          N0.HOG0016503\n",
       "4 0.4537668 0.9998987 no          N0.HOG0011661\n",
       "5 0.9532734 0.9998987 no          N0.HOG0000926\n",
       "6 0.5142706 0.9998987 no          N0.HOG0004937"
      ]
     },
     "metadata": {},
     "output_type": "display_data"
    }
   ],
   "source": [
    "str(HOG_DE.a2tea)\n",
    "head(HOG_DE.a2tea)"
   ]
  },
  {
   "cell_type": "code",
   "execution_count": 22,
   "id": "b6381b02",
   "metadata": {
    "collapsed": true
   },
   "outputs": [
    {
     "name": "stdout",
     "output_type": "stream",
     "text": [
      "List of 2\n",
      " $ hypothesis_1: tibble [20,913 × 11] (S3: tbl_df/tbl/data.frame)\n",
      "  ..$ HOG                       : chr [1:20913] \"N0.HOG0000236\" \"N0.HOG0000865\" \"N0.HOG0000887\" \"N0.HOG0000914\" ...\n",
      "  ..$ tea_value                 : num [1:20913] 0.0706 0.075 0.075 0.075 0.075 ...\n",
      "  ..$ cafe_pvalue               : num [1:20913] 0.001 0.181 0.181 0.181 0.181 0.019 0.062 0.062 0.062 0.062 ...\n",
      "  ..$ Arabidopsis_thaliana_total: num [1:20913] 12 6 6 6 6 10 6 6 6 6 ...\n",
      "  ..$ Zea_mays_total            : num [1:20913] 1 2 2 2 2 3 2 2 1 2 ...\n",
      "  ..$ Hordeum_vulgare_total     : num [1:20913] 4 2 2 2 2 2 1 1 2 1 ...\n",
      "  ..$ expansion                 : chr [1:20913] \"yes\" \"yes\" \"yes\" \"yes\" ...\n",
      "  ..$ Arabidopsis_thaliana_sigDE: num [1:20913] NA NA NA NA NA NA NA NA NA NA ...\n",
      "  ..$ Hordeum_vulgare_sigDE     : num [1:20913] 1 2 NA 1 NA 1 NA 1 1 1 ...\n",
      "  ..$ Zea_mays_sigDE            : num [1:20913] NA NA NA NA 2 1 NA NA NA NA ...\n",
      "  ..$ total_sigDE               : num [1:20913] 1 2 NA 1 2 2 NA 1 1 1 ...\n",
      " $ hypothesis_2: tibble [20,913 × 10] (S3: tbl_df/tbl/data.frame)\n",
      "  ..$ HOG                       : chr [1:20913] \"N0.HOG0000047\" \"N0.HOG0000063\" \"N0.HOG0000044\" \"N0.HOG0000049\" ...\n",
      "  ..$ tea_value                 : num [1:20913] 0.000903 0.002252 0.002353 0.002507 0.003348 ...\n",
      "  ..$ cafe_pvalue               : num [1:20913] 0 0 0 0 0.01 0 0 0.002 0 0 ...\n",
      "  ..$ Hordeum_vulgare_total     : num [1:20913] 31 35 41 37 12 31 33 10 17 29 ...\n",
      "  ..$ Zea_mays_total            : num [1:20913] 8 2 3 4 4 3 1 2 3 4 ...\n",
      "  ..$ expansion                 : chr [1:20913] \"yes\" \"yes\" \"yes\" \"yes\" ...\n",
      "  ..$ Arabidopsis_thaliana_sigDE: num [1:20913] NA NA NA NA NA NA NA NA NA NA ...\n",
      "  ..$ Hordeum_vulgare_sigDE     : num [1:20913] 10 14 11 9 7 9 14 9 7 6 ...\n",
      "  ..$ Zea_mays_sigDE            : num [1:20913] NA NA NA NA NA NA NA NA NA NA ...\n",
      "  ..$ total_sigDE               : num [1:20913] 10 14 11 9 7 9 14 9 7 6 ...\n"
     ]
    },
    {
     "data": {
      "text/html": [
       "<table class=\"dataframe\">\n",
       "<caption>A tibble: 6 × 11</caption>\n",
       "<thead>\n",
       "\t<tr><th scope=col>HOG</th><th scope=col>tea_value</th><th scope=col>cafe_pvalue</th><th scope=col>Arabidopsis_thaliana_total</th><th scope=col>Zea_mays_total</th><th scope=col>Hordeum_vulgare_total</th><th scope=col>expansion</th><th scope=col>Arabidopsis_thaliana_sigDE</th><th scope=col>Hordeum_vulgare_sigDE</th><th scope=col>Zea_mays_sigDE</th><th scope=col>total_sigDE</th></tr>\n",
       "\t<tr><th scope=col>&lt;chr&gt;</th><th scope=col>&lt;dbl&gt;</th><th scope=col>&lt;dbl&gt;</th><th scope=col>&lt;dbl&gt;</th><th scope=col>&lt;dbl&gt;</th><th scope=col>&lt;dbl&gt;</th><th scope=col>&lt;chr&gt;</th><th scope=col>&lt;dbl&gt;</th><th scope=col>&lt;dbl&gt;</th><th scope=col>&lt;dbl&gt;</th><th scope=col>&lt;dbl&gt;</th></tr>\n",
       "</thead>\n",
       "<tbody>\n",
       "\t<tr><td>N0.HOG0000236</td><td>0.07058824</td><td>0.001</td><td>12</td><td>1</td><td>4</td><td>yes</td><td>NA</td><td> 1</td><td>NA</td><td> 1</td></tr>\n",
       "\t<tr><td>N0.HOG0000865</td><td>0.07500000</td><td>0.181</td><td> 6</td><td>2</td><td>2</td><td>yes</td><td>NA</td><td> 2</td><td>NA</td><td> 2</td></tr>\n",
       "\t<tr><td>N0.HOG0000887</td><td>0.07500000</td><td>0.181</td><td> 6</td><td>2</td><td>2</td><td>yes</td><td>NA</td><td>NA</td><td>NA</td><td>NA</td></tr>\n",
       "\t<tr><td>N0.HOG0000914</td><td>0.07500000</td><td>0.181</td><td> 6</td><td>2</td><td>2</td><td>yes</td><td>NA</td><td> 1</td><td>NA</td><td> 1</td></tr>\n",
       "\t<tr><td>N0.HOG0000951</td><td>0.07500000</td><td>0.181</td><td> 6</td><td>2</td><td>2</td><td>yes</td><td>NA</td><td>NA</td><td> 2</td><td> 2</td></tr>\n",
       "\t<tr><td>N0.HOG0000317</td><td>0.08888889</td><td>0.019</td><td>10</td><td>3</td><td>2</td><td>yes</td><td>NA</td><td> 1</td><td> 1</td><td> 2</td></tr>\n",
       "</tbody>\n",
       "</table>\n"
      ],
      "text/latex": [
       "A tibble: 6 × 11\n",
       "\\begin{tabular}{lllllllllll}\n",
       " HOG & tea\\_value & cafe\\_pvalue & Arabidopsis\\_thaliana\\_total & Zea\\_mays\\_total & Hordeum\\_vulgare\\_total & expansion & Arabidopsis\\_thaliana\\_sigDE & Hordeum\\_vulgare\\_sigDE & Zea\\_mays\\_sigDE & total\\_sigDE\\\\\n",
       " <chr> & <dbl> & <dbl> & <dbl> & <dbl> & <dbl> & <chr> & <dbl> & <dbl> & <dbl> & <dbl>\\\\\n",
       "\\hline\n",
       "\t N0.HOG0000236 & 0.07058824 & 0.001 & 12 & 1 & 4 & yes & NA &  1 & NA &  1\\\\\n",
       "\t N0.HOG0000865 & 0.07500000 & 0.181 &  6 & 2 & 2 & yes & NA &  2 & NA &  2\\\\\n",
       "\t N0.HOG0000887 & 0.07500000 & 0.181 &  6 & 2 & 2 & yes & NA & NA & NA & NA\\\\\n",
       "\t N0.HOG0000914 & 0.07500000 & 0.181 &  6 & 2 & 2 & yes & NA &  1 & NA &  1\\\\\n",
       "\t N0.HOG0000951 & 0.07500000 & 0.181 &  6 & 2 & 2 & yes & NA & NA &  2 &  2\\\\\n",
       "\t N0.HOG0000317 & 0.08888889 & 0.019 & 10 & 3 & 2 & yes & NA &  1 &  1 &  2\\\\\n",
       "\\end{tabular}\n"
      ],
      "text/markdown": [
       "\n",
       "A tibble: 6 × 11\n",
       "\n",
       "| HOG &lt;chr&gt; | tea_value &lt;dbl&gt; | cafe_pvalue &lt;dbl&gt; | Arabidopsis_thaliana_total &lt;dbl&gt; | Zea_mays_total &lt;dbl&gt; | Hordeum_vulgare_total &lt;dbl&gt; | expansion &lt;chr&gt; | Arabidopsis_thaliana_sigDE &lt;dbl&gt; | Hordeum_vulgare_sigDE &lt;dbl&gt; | Zea_mays_sigDE &lt;dbl&gt; | total_sigDE &lt;dbl&gt; |\n",
       "|---|---|---|---|---|---|---|---|---|---|---|\n",
       "| N0.HOG0000236 | 0.07058824 | 0.001 | 12 | 1 | 4 | yes | NA |  1 | NA |  1 |\n",
       "| N0.HOG0000865 | 0.07500000 | 0.181 |  6 | 2 | 2 | yes | NA |  2 | NA |  2 |\n",
       "| N0.HOG0000887 | 0.07500000 | 0.181 |  6 | 2 | 2 | yes | NA | NA | NA | NA |\n",
       "| N0.HOG0000914 | 0.07500000 | 0.181 |  6 | 2 | 2 | yes | NA |  1 | NA |  1 |\n",
       "| N0.HOG0000951 | 0.07500000 | 0.181 |  6 | 2 | 2 | yes | NA | NA |  2 |  2 |\n",
       "| N0.HOG0000317 | 0.08888889 | 0.019 | 10 | 3 | 2 | yes | NA |  1 |  1 |  2 |\n",
       "\n"
      ],
      "text/plain": [
       "  HOG           tea_value  cafe_pvalue Arabidopsis_thaliana_total\n",
       "1 N0.HOG0000236 0.07058824 0.001       12                        \n",
       "2 N0.HOG0000865 0.07500000 0.181        6                        \n",
       "3 N0.HOG0000887 0.07500000 0.181        6                        \n",
       "4 N0.HOG0000914 0.07500000 0.181        6                        \n",
       "5 N0.HOG0000951 0.07500000 0.181        6                        \n",
       "6 N0.HOG0000317 0.08888889 0.019       10                        \n",
       "  Zea_mays_total Hordeum_vulgare_total expansion Arabidopsis_thaliana_sigDE\n",
       "1 1              4                     yes       NA                        \n",
       "2 2              2                     yes       NA                        \n",
       "3 2              2                     yes       NA                        \n",
       "4 2              2                     yes       NA                        \n",
       "5 2              2                     yes       NA                        \n",
       "6 3              2                     yes       NA                        \n",
       "  Hordeum_vulgare_sigDE Zea_mays_sigDE total_sigDE\n",
       "1  1                    NA              1         \n",
       "2  2                    NA              2         \n",
       "3 NA                    NA             NA         \n",
       "4  1                    NA              1         \n",
       "5 NA                     2              2         \n",
       "6  1                     1              2         "
      ]
     },
     "metadata": {},
     "output_type": "display_data"
    },
    {
     "data": {
      "text/html": [
       "<table class=\"dataframe\">\n",
       "<caption>A tibble: 6 × 10</caption>\n",
       "<thead>\n",
       "\t<tr><th scope=col>HOG</th><th scope=col>tea_value</th><th scope=col>cafe_pvalue</th><th scope=col>Hordeum_vulgare_total</th><th scope=col>Zea_mays_total</th><th scope=col>expansion</th><th scope=col>Arabidopsis_thaliana_sigDE</th><th scope=col>Hordeum_vulgare_sigDE</th><th scope=col>Zea_mays_sigDE</th><th scope=col>total_sigDE</th></tr>\n",
       "\t<tr><th scope=col>&lt;chr&gt;</th><th scope=col>&lt;dbl&gt;</th><th scope=col>&lt;dbl&gt;</th><th scope=col>&lt;dbl&gt;</th><th scope=col>&lt;dbl&gt;</th><th scope=col>&lt;chr&gt;</th><th scope=col>&lt;dbl&gt;</th><th scope=col>&lt;dbl&gt;</th><th scope=col>&lt;dbl&gt;</th><th scope=col>&lt;dbl&gt;</th></tr>\n",
       "</thead>\n",
       "<tbody>\n",
       "\t<tr><td>N0.HOG0000047</td><td>0.0009032634</td><td>0.00</td><td>31</td><td>8</td><td>yes</td><td>NA</td><td>10</td><td>NA</td><td>10</td></tr>\n",
       "\t<tr><td>N0.HOG0000063</td><td>0.0022522523</td><td>0.00</td><td>35</td><td>2</td><td>yes</td><td>NA</td><td>14</td><td>NA</td><td>14</td></tr>\n",
       "\t<tr><td>N0.HOG0000044</td><td>0.0023530762</td><td>0.00</td><td>41</td><td>3</td><td>yes</td><td>NA</td><td>11</td><td>NA</td><td>11</td></tr>\n",
       "\t<tr><td>N0.HOG0000049</td><td>0.0025067751</td><td>0.00</td><td>37</td><td>4</td><td>yes</td><td>NA</td><td> 9</td><td>NA</td><td> 9</td></tr>\n",
       "\t<tr><td>N0.HOG0000296</td><td>0.0033482143</td><td>0.01</td><td>12</td><td>4</td><td>yes</td><td>NA</td><td> 7</td><td>NA</td><td> 7</td></tr>\n",
       "\t<tr><td>N0.HOG0000075</td><td>0.0033769063</td><td>0.00</td><td>31</td><td>3</td><td>yes</td><td>NA</td><td> 9</td><td>NA</td><td> 9</td></tr>\n",
       "</tbody>\n",
       "</table>\n"
      ],
      "text/latex": [
       "A tibble: 6 × 10\n",
       "\\begin{tabular}{llllllllll}\n",
       " HOG & tea\\_value & cafe\\_pvalue & Hordeum\\_vulgare\\_total & Zea\\_mays\\_total & expansion & Arabidopsis\\_thaliana\\_sigDE & Hordeum\\_vulgare\\_sigDE & Zea\\_mays\\_sigDE & total\\_sigDE\\\\\n",
       " <chr> & <dbl> & <dbl> & <dbl> & <dbl> & <chr> & <dbl> & <dbl> & <dbl> & <dbl>\\\\\n",
       "\\hline\n",
       "\t N0.HOG0000047 & 0.0009032634 & 0.00 & 31 & 8 & yes & NA & 10 & NA & 10\\\\\n",
       "\t N0.HOG0000063 & 0.0022522523 & 0.00 & 35 & 2 & yes & NA & 14 & NA & 14\\\\\n",
       "\t N0.HOG0000044 & 0.0023530762 & 0.00 & 41 & 3 & yes & NA & 11 & NA & 11\\\\\n",
       "\t N0.HOG0000049 & 0.0025067751 & 0.00 & 37 & 4 & yes & NA &  9 & NA &  9\\\\\n",
       "\t N0.HOG0000296 & 0.0033482143 & 0.01 & 12 & 4 & yes & NA &  7 & NA &  7\\\\\n",
       "\t N0.HOG0000075 & 0.0033769063 & 0.00 & 31 & 3 & yes & NA &  9 & NA &  9\\\\\n",
       "\\end{tabular}\n"
      ],
      "text/markdown": [
       "\n",
       "A tibble: 6 × 10\n",
       "\n",
       "| HOG &lt;chr&gt; | tea_value &lt;dbl&gt; | cafe_pvalue &lt;dbl&gt; | Hordeum_vulgare_total &lt;dbl&gt; | Zea_mays_total &lt;dbl&gt; | expansion &lt;chr&gt; | Arabidopsis_thaliana_sigDE &lt;dbl&gt; | Hordeum_vulgare_sigDE &lt;dbl&gt; | Zea_mays_sigDE &lt;dbl&gt; | total_sigDE &lt;dbl&gt; |\n",
       "|---|---|---|---|---|---|---|---|---|---|\n",
       "| N0.HOG0000047 | 0.0009032634 | 0.00 | 31 | 8 | yes | NA | 10 | NA | 10 |\n",
       "| N0.HOG0000063 | 0.0022522523 | 0.00 | 35 | 2 | yes | NA | 14 | NA | 14 |\n",
       "| N0.HOG0000044 | 0.0023530762 | 0.00 | 41 | 3 | yes | NA | 11 | NA | 11 |\n",
       "| N0.HOG0000049 | 0.0025067751 | 0.00 | 37 | 4 | yes | NA |  9 | NA |  9 |\n",
       "| N0.HOG0000296 | 0.0033482143 | 0.01 | 12 | 4 | yes | NA |  7 | NA |  7 |\n",
       "| N0.HOG0000075 | 0.0033769063 | 0.00 | 31 | 3 | yes | NA |  9 | NA |  9 |\n",
       "\n"
      ],
      "text/plain": [
       "  HOG           tea_value    cafe_pvalue Hordeum_vulgare_total Zea_mays_total\n",
       "1 N0.HOG0000047 0.0009032634 0.00        31                    8             \n",
       "2 N0.HOG0000063 0.0022522523 0.00        35                    2             \n",
       "3 N0.HOG0000044 0.0023530762 0.00        41                    3             \n",
       "4 N0.HOG0000049 0.0025067751 0.00        37                    4             \n",
       "5 N0.HOG0000296 0.0033482143 0.01        12                    4             \n",
       "6 N0.HOG0000075 0.0033769063 0.00        31                    3             \n",
       "  expansion Arabidopsis_thaliana_sigDE Hordeum_vulgare_sigDE Zea_mays_sigDE\n",
       "1 yes       NA                         10                    NA            \n",
       "2 yes       NA                         14                    NA            \n",
       "3 yes       NA                         11                    NA            \n",
       "4 yes       NA                          9                    NA            \n",
       "5 yes       NA                          7                    NA            \n",
       "6 yes       NA                          9                    NA            \n",
       "  total_sigDE\n",
       "1 10         \n",
       "2 14         \n",
       "3 11         \n",
       "4  9         \n",
       "5  7         \n",
       "6  9         "
      ]
     },
     "metadata": {},
     "output_type": "display_data"
    }
   ],
   "source": [
    "str(HOG_level_list)\n",
    "head(HOG_level_list$hypothesis_1)\n",
    "head(HOG_level_list$hypothesis_2)"
   ]
  },
  {
   "cell_type": "code",
   "execution_count": null,
   "id": "a3b1e101",
   "metadata": {},
   "outputs": [],
   "source": []
  },
  {
   "cell_type": "code",
   "execution_count": null,
   "id": "cdb91786",
   "metadata": {},
   "outputs": [],
   "source": []
  }
 ],
 "metadata": {
  "kernelspec": {
   "display_name": "R",
   "language": "R",
   "name": "ir"
  },
  "language_info": {
   "codemirror_mode": "r",
   "file_extension": ".r",
   "mimetype": "text/x-r-source",
   "name": "R",
   "pygments_lexer": "r",
   "version": "4.1.0"
  }
 },
 "nbformat": 4,
 "nbformat_minor": 5
}
