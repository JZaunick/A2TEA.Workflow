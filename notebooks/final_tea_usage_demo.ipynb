{
 "cells": [
  {
   "cell_type": "markdown",
   "id": "6c2f07a2",
   "metadata": {},
   "source": [
    "## Quick demo on how to use the `A2TEA_finished.RData` output"
   ]
  },
  {
   "cell_type": "markdown",
   "id": "1406c3c7",
   "metadata": {},
   "source": [
    "- currently, the fastest way to execute the pipeline is to build a conda environment with ALL software included \n",
    "- using more fine-grained individual yaml files (--use-conda option) for rules/sets of rules leads to  sequential run (takes much longer) in the checkpoints steps for some reason...\n",
    "- therefore for now: building big environment with -> workflow/envs/complete_environment.yaml\n",
    "  \n",
    "e.g.:  \n",
    "`mamba env create --name A2TEA --file workflow/envs/complete_environment.yaml`  \n",
    "activate this environment; then run A2TEA with:  \n",
    "`snakemake --cores xx`\n",
    "\n",
    "**the final output of A2TEA is found under `tea/A2TEA_finished.RData`**"
   ]
  },
  {
   "cell_type": "markdown",
   "id": "f6178978",
   "metadata": {},
   "source": [
    "### 2.) working with A2TEA output for the moment..\n",
    "\n",
    "#### 2.1 - load libraries - define three classes\n",
    "-> important for your R instance to understand my new custom data structs"
   ]
  },
  {
   "cell_type": "code",
   "execution_count": 6,
   "id": "9a4708fe",
   "metadata": {},
   "outputs": [],
   "source": [
    "library(DESeq2)\n",
    "library(tidyverse)\n",
    "library(ggtree)\n",
    "library(ggtreeExtra)\n",
    "library(Biostrings)\n",
    "library(seqinr)\n",
    "library(UpSetR)\n",
    "library(cowplot)\n",
    "library(ggplotify)"
   ]
  },
  {
   "cell_type": "code",
   "execution_count": 3,
   "id": "64eca66e",
   "metadata": {},
   "outputs": [],
   "source": [
    "# class for the expanded_OG - containing all different types of data we have on it\n",
    "setClass(\"expanded_OG\", slots=list(genes=\"spec_tbl_df\",\n",
    "                                   blast_table=\"tbl_df\",\n",
    "                                   nrow_table=\"numeric\",\n",
    "                                   num_genes_HOG=\"numeric\",\n",
    "                                   num_genes_extend=\"numeric\",\n",
    "                                   num_genes_complete=\"numeric\",\n",
    "                                   genes_HOG=\"tbl_df\",\n",
    "                                   genes_extend_hits=\"tbl_df\",\n",
    "                                   fasta_files=\"list\",\n",
    "                                   msa=\"AAStringSet\",\n",
    "                                   tree=\"phylo\"))\n",
    "\n",
    "# class for the hypotheses\n",
    "setClass(\"hypothesis\",\n",
    "         slots=list(description=\"character\",\n",
    "                                  number=\"character\",\n",
    "                                  expanded_in =\"character\",\n",
    "                                  compared_to=\"character\",\n",
    "                                  expanded_OGs=\"list\",\n",
    "                                  species_tree=\"phylo\"))\n",
    "\n",
    "# class for extended BLAST hits info\n",
    "setClass(\"extended_BLAST_hits\",\n",
    "         slots=list(blast_table=\"tbl_df\",\n",
    "                    num_genes_HOG=\"numeric\",\n",
    "                    num_genes_extend=\"numeric\",\n",
    "                    num_genes_complete=\"numeric\",\n",
    "                    genes_HOG=\"tbl_df\",\n",
    "                    genes_extend_hits=\"tbl_df\")\n",
    "         )"
   ]
  },
  {
   "cell_type": "markdown",
   "id": "215b5155",
   "metadata": {},
   "source": [
    "#### 2.2 - read-in the A2TEA output .RData file"
   ]
  },
  {
   "cell_type": "code",
   "execution_count": 7,
   "id": "6c5368d1",
   "metadata": {},
   "outputs": [],
   "source": [
    "load(\"../tea/A2TEA_finished.RData\")"
   ]
  },
  {
   "cell_type": "markdown",
   "id": "ee6cfd3b",
   "metadata": {},
   "source": [
    "#### 2.3 - currently included: 4 files\n",
    "\n",
    "- `hypotheses`     \n",
    "- `HYPOTHESES.a2tea`\n",
    "- `HOG_DE.a2tea`\n",
    "- `HOG_level_list`"
   ]
  },
  {
   "cell_type": "code",
   "execution_count": 8,
   "id": "943edc93",
   "metadata": {
    "collapsed": true
   },
   "outputs": [
    {
     "data": {
      "text/html": [
       "<table class=\"dataframe\">\n",
       "<caption>A data.frame: 5 × 9</caption>\n",
       "<thead>\n",
       "\t<tr><th scope=col>hypothesis</th><th scope=col>name</th><th scope=col>expanded_in</th><th scope=col>compared_to</th><th scope=col>Nmin_expanded_in</th><th scope=col>Nmin_compared_to</th><th scope=col>min_expansion_factor</th><th scope=col>expanded_in_all_found</th><th scope=col>compared_to_all_found</th></tr>\n",
       "\t<tr><th scope=col>&lt;dbl&gt;</th><th scope=col>&lt;chr&gt;</th><th scope=col>&lt;chr&gt;</th><th scope=col>&lt;chr&gt;</th><th scope=col>&lt;dbl&gt;</th><th scope=col>&lt;dbl&gt;</th><th scope=col>&lt;dbl&gt;</th><th scope=col>&lt;chr&gt;</th><th scope=col>&lt;chr&gt;</th></tr>\n",
       "</thead>\n",
       "<tbody>\n",
       "\t<tr><td>1</td><td>Expanded in Arabidopsis compared to Monocots</td><td>Arabidopsis_thaliana    </td><td>Zea_mays;Hordeum_vulgare            </td><td>1</td><td>2</td><td>2</td><td>YES</td><td>YES</td></tr>\n",
       "\t<tr><td>2</td><td>Expanded in barley compared to maize        </td><td>Hordeum_vulgare         </td><td>Zea_mays                            </td><td>1</td><td>1</td><td>2</td><td>NO </td><td>NO </td></tr>\n",
       "\t<tr><td>3</td><td>bla                                         </td><td>Zea_mays                </td><td>Hordeum_vulgare;Arabidopsis_thaliana</td><td>1</td><td>1</td><td>3</td><td>YES</td><td>YES</td></tr>\n",
       "\t<tr><td>4</td><td>bla2                                        </td><td>Hordeum_vulgare;Zea_mays</td><td>Arabidopsis_thaliana                </td><td>1</td><td>1</td><td>2</td><td>NO </td><td>NO </td></tr>\n",
       "\t<tr><td>5</td><td>bla3                                        </td><td>Hordeum_vulgare;Zea_mays</td><td>Hordeum_vulgare;Arabidopsis_thaliana</td><td>1</td><td>1</td><td>2</td><td>NO </td><td>NO </td></tr>\n",
       "</tbody>\n",
       "</table>\n"
      ],
      "text/latex": [
       "A data.frame: 5 × 9\n",
       "\\begin{tabular}{lllllllll}\n",
       " hypothesis & name & expanded\\_in & compared\\_to & Nmin\\_expanded\\_in & Nmin\\_compared\\_to & min\\_expansion\\_factor & expanded\\_in\\_all\\_found & compared\\_to\\_all\\_found\\\\\n",
       " <dbl> & <chr> & <chr> & <chr> & <dbl> & <dbl> & <dbl> & <chr> & <chr>\\\\\n",
       "\\hline\n",
       "\t 1 & Expanded in Arabidopsis compared to Monocots & Arabidopsis\\_thaliana     & Zea\\_mays;Hordeum\\_vulgare             & 1 & 2 & 2 & YES & YES\\\\\n",
       "\t 2 & Expanded in barley compared to maize         & Hordeum\\_vulgare          & Zea\\_mays                             & 1 & 1 & 2 & NO  & NO \\\\\n",
       "\t 3 & bla                                          & Zea\\_mays                 & Hordeum\\_vulgare;Arabidopsis\\_thaliana & 1 & 1 & 3 & YES & YES\\\\\n",
       "\t 4 & bla2                                         & Hordeum\\_vulgare;Zea\\_mays & Arabidopsis\\_thaliana                 & 1 & 1 & 2 & NO  & NO \\\\\n",
       "\t 5 & bla3                                         & Hordeum\\_vulgare;Zea\\_mays & Hordeum\\_vulgare;Arabidopsis\\_thaliana & 1 & 1 & 2 & NO  & NO \\\\\n",
       "\\end{tabular}\n"
      ],
      "text/markdown": [
       "\n",
       "A data.frame: 5 × 9\n",
       "\n",
       "| hypothesis &lt;dbl&gt; | name &lt;chr&gt; | expanded_in &lt;chr&gt; | compared_to &lt;chr&gt; | Nmin_expanded_in &lt;dbl&gt; | Nmin_compared_to &lt;dbl&gt; | min_expansion_factor &lt;dbl&gt; | expanded_in_all_found &lt;chr&gt; | compared_to_all_found &lt;chr&gt; |\n",
       "|---|---|---|---|---|---|---|---|---|\n",
       "| 1 | Expanded in Arabidopsis compared to Monocots | Arabidopsis_thaliana     | Zea_mays;Hordeum_vulgare             | 1 | 2 | 2 | YES | YES |\n",
       "| 2 | Expanded in barley compared to maize         | Hordeum_vulgare          | Zea_mays                             | 1 | 1 | 2 | NO  | NO  |\n",
       "| 3 | bla                                          | Zea_mays                 | Hordeum_vulgare;Arabidopsis_thaliana | 1 | 1 | 3 | YES | YES |\n",
       "| 4 | bla2                                         | Hordeum_vulgare;Zea_mays | Arabidopsis_thaliana                 | 1 | 1 | 2 | NO  | NO  |\n",
       "| 5 | bla3                                         | Hordeum_vulgare;Zea_mays | Hordeum_vulgare;Arabidopsis_thaliana | 1 | 1 | 2 | NO  | NO  |\n",
       "\n"
      ],
      "text/plain": [
       "  hypothesis name                                        \n",
       "1 1          Expanded in Arabidopsis compared to Monocots\n",
       "2 2          Expanded in barley compared to maize        \n",
       "3 3          bla                                         \n",
       "4 4          bla2                                        \n",
       "5 5          bla3                                        \n",
       "  expanded_in              compared_to                         \n",
       "1 Arabidopsis_thaliana     Zea_mays;Hordeum_vulgare            \n",
       "2 Hordeum_vulgare          Zea_mays                            \n",
       "3 Zea_mays                 Hordeum_vulgare;Arabidopsis_thaliana\n",
       "4 Hordeum_vulgare;Zea_mays Arabidopsis_thaliana                \n",
       "5 Hordeum_vulgare;Zea_mays Hordeum_vulgare;Arabidopsis_thaliana\n",
       "  Nmin_expanded_in Nmin_compared_to min_expansion_factor expanded_in_all_found\n",
       "1 1                2                2                    YES                  \n",
       "2 1                1                2                    NO                   \n",
       "3 1                1                3                    YES                  \n",
       "4 1                1                2                    NO                   \n",
       "5 1                1                2                    NO                   \n",
       "  compared_to_all_found\n",
       "1 YES                  \n",
       "2 NO                   \n",
       "3 YES                  \n",
       "4 NO                   \n",
       "5 NO                   "
      ]
     },
     "metadata": {},
     "output_type": "display_data"
    }
   ],
   "source": [
    "hypotheses"
   ]
  },
  {
   "cell_type": "code",
   "execution_count": 9,
   "id": "b8633709",
   "metadata": {
    "collapsed": true
   },
   "outputs": [
    {
     "data": {
      "text/plain": [
       "             Length Class      Mode\n",
       "hypothesis_1 1      hypothesis S4  \n",
       "hypothesis_2 1      hypothesis S4  \n",
       "hypothesis_3 1      hypothesis S4  \n",
       "hypothesis_4 1      hypothesis S4  \n",
       "hypothesis_5 1      hypothesis S4  "
      ]
     },
     "metadata": {},
     "output_type": "display_data"
    },
    {
     "data": {
      "text/html": [
       "'Expanded in Arabidopsis compared to Monocots'"
      ],
      "text/latex": [
       "'Expanded in Arabidopsis compared to Monocots'"
      ],
      "text/markdown": [
       "'Expanded in Arabidopsis compared to Monocots'"
      ],
      "text/plain": [
       "[1] \"Expanded in Arabidopsis compared to Monocots\""
      ]
     },
     "metadata": {},
     "output_type": "display_data"
    },
    {
     "data": {
      "text/html": [
       "'1'"
      ],
      "text/latex": [
       "'1'"
      ],
      "text/markdown": [
       "'1'"
      ],
      "text/plain": [
       "[1] \"1\""
      ]
     },
     "metadata": {},
     "output_type": "display_data"
    },
    {
     "data": {
      "text/html": [
       "'Arabidopsis_thaliana'"
      ],
      "text/latex": [
       "'Arabidopsis\\_thaliana'"
      ],
      "text/markdown": [
       "'Arabidopsis_thaliana'"
      ],
      "text/plain": [
       "[1] \"Arabidopsis_thaliana\""
      ]
     },
     "metadata": {},
     "output_type": "display_data"
    },
    {
     "data": {
      "text/html": [
       "<style>\n",
       ".list-inline {list-style: none; margin:0; padding: 0}\n",
       ".list-inline>li {display: inline-block}\n",
       ".list-inline>li:not(:last-child)::after {content: \"\\00b7\"; padding: 0 .5ex}\n",
       "</style>\n",
       "<ol class=list-inline><li>'Zea_mays'</li><li>'Hordeum_vulgare'</li></ol>\n"
      ],
      "text/latex": [
       "\\begin{enumerate*}\n",
       "\\item 'Zea\\_mays'\n",
       "\\item 'Hordeum\\_vulgare'\n",
       "\\end{enumerate*}\n"
      ],
      "text/markdown": [
       "1. 'Zea_mays'\n",
       "2. 'Hordeum_vulgare'\n",
       "\n",
       "\n"
      ],
      "text/plain": [
       "[1] \"Zea_mays\"        \"Hordeum_vulgare\""
      ]
     },
     "metadata": {},
     "output_type": "display_data"
    },
    {
     "data": {
      "text/plain": [
       "\n",
       "Phylogenetic tree with 3 tips and 2 internal nodes.\n",
       "\n",
       "Tip labels:\n",
       "  Arabidopsis_thaliana, Hordeum_vulgare, Zea_mays\n",
       "Node labels:\n",
       "  N0, N1\n",
       "\n",
       "Rooted; includes branch lengths."
      ]
     },
     "metadata": {},
     "output_type": "display_data"
    }
   ],
   "source": [
    "summary(HYPOTHESES.a2tea)\n",
    "HYPOTHESES.a2tea$hypothesis_1@description\n",
    "HYPOTHESES.a2tea$hypothesis_1@number\n",
    "HYPOTHESES.a2tea$hypothesis_1@expanded_in\n",
    "HYPOTHESES.a2tea$hypothesis_1@compared_to\n",
    "HYPOTHESES.a2tea$hypothesis_1@species_tree\n",
    "\n",
    "#HYPOTHESES.a2tea$hypothesis_1@expanded_OGs$N0.HOG0000205@genes\n",
    "#HYPOTHESES.a2tea$hypothesis_1@expanded_OGs$N0.HOG0000205@blast_table\n",
    "## ? HYPOTHESES.a2tea$hypothesis_1@expanded_OGs$N0.HOG0000308@nrow_table\n",
    "#HYPOTHESES.a2tea$hypothesis_1@expanded_OGs$N0.HOG0000205@num_genes_HOG\n",
    "#HYPOTHESES.a2tea$hypothesis_1@expanded_OGs$N0.HOG0000205@num_genes_extend\n",
    "#HYPOTHESES.a2tea$hypothesis_1@expanded_OGs$N0.HOG0000205@num_genes_complete\n",
    "#HYPOTHESES.a2tea$hypothesis_1@expanded_OGs$N0.HOG0000205@genes_HOG\n",
    "#HYPOTHESES.a2tea$hypothesis_1@expanded_OGs$N0.HOG0000205@genes_extend_hits\n",
    "#HYPOTHESES.a2tea$hypothesis_1@expanded_OGs$N0.HOG0000205@fasta_files\n",
    "#HYPOTHESES.a2tea$hypothesis_1@expanded_OGs$N0.HOG0000205@msa\n",
    "#HYPOTHESES.a2tea$hypothesis_1@expanded_OGs$N0.HOG0000205@tree"
   ]
  },
  {
   "cell_type": "code",
   "execution_count": 10,
   "id": "bf52c651",
   "metadata": {
    "collapsed": true
   },
   "outputs": [
    {
     "name": "stdout",
     "output_type": "stream",
     "text": [
      "'data.frame':\t16563 obs. of  10 variables:\n",
      " $ species       : chr  \"Arabidopsis_thaliana\" \"Arabidopsis_thaliana\" \"Arabidopsis_thaliana\" \"Arabidopsis_thaliana\" ...\n",
      " $ gene          : chr  \"AT2G01008\" \"AT2G01021\" \"AT2G01023\" \"AT2G01035\" ...\n",
      " $ baseMean      : num  89.447 6290.815 2.505 0.775 0.775 ...\n",
      " $ log2FoldChange: num  1.192 0.57 0.208 3.026 3.026 ...\n",
      " $ lfcSE         : num  1.37 1.46 1.04 1.92 1.92 ...\n",
      " $ stat          : num  0.868 0.391 0.2 1.574 1.574 ...\n",
      " $ pvalue        : num  0.386 0.696 0.842 0.115 0.115 ...\n",
      " $ padj          : num  1 1 1 1 1 ...\n",
      " $ significant   : chr  \"no\" \"no\" \"no\" \"no\" ...\n",
      " $ HOG           : chr  \"singleton\" \"singleton\" \"singleton\" \"N0.HOG0002018\" ...\n"
     ]
    },
    {
     "data": {
      "text/html": [
       "<table class=\"dataframe\">\n",
       "<caption>A data.frame: 6 × 10</caption>\n",
       "<thead>\n",
       "\t<tr><th></th><th scope=col>species</th><th scope=col>gene</th><th scope=col>baseMean</th><th scope=col>log2FoldChange</th><th scope=col>lfcSE</th><th scope=col>stat</th><th scope=col>pvalue</th><th scope=col>padj</th><th scope=col>significant</th><th scope=col>HOG</th></tr>\n",
       "\t<tr><th></th><th scope=col>&lt;chr&gt;</th><th scope=col>&lt;chr&gt;</th><th scope=col>&lt;dbl&gt;</th><th scope=col>&lt;dbl&gt;</th><th scope=col>&lt;dbl&gt;</th><th scope=col>&lt;dbl&gt;</th><th scope=col>&lt;dbl&gt;</th><th scope=col>&lt;dbl&gt;</th><th scope=col>&lt;chr&gt;</th><th scope=col>&lt;chr&gt;</th></tr>\n",
       "</thead>\n",
       "<tbody>\n",
       "\t<tr><th scope=row>1</th><td>Arabidopsis_thaliana</td><td>AT2G01008</td><td>  89.4474018</td><td>1.1915159</td><td>1.373179</td><td>0.8677062</td><td>0.3855552</td><td>0.9998053</td><td>no</td><td>singleton    </td></tr>\n",
       "\t<tr><th scope=row>2</th><td>Arabidopsis_thaliana</td><td>AT2G01021</td><td>6290.8151248</td><td>0.5698162</td><td>1.458011</td><td>0.3908175</td><td>0.6959322</td><td>0.9998053</td><td>no</td><td>singleton    </td></tr>\n",
       "\t<tr><th scope=row>3</th><td>Arabidopsis_thaliana</td><td>AT2G01023</td><td>   2.5054909</td><td>0.2079018</td><td>1.039922</td><td>0.1999206</td><td>0.8415427</td><td>0.9998053</td><td>no</td><td>singleton    </td></tr>\n",
       "\t<tr><th scope=row>4</th><td>Arabidopsis_thaliana</td><td>AT2G01035</td><td>   0.7753431</td><td>3.0264544</td><td>1.922366</td><td>1.5743383</td><td>0.1154093</td><td>0.9998053</td><td>no</td><td>N0.HOG0002018</td></tr>\n",
       "\t<tr><th scope=row>5</th><td>Arabidopsis_thaliana</td><td>AT2G01045</td><td>   0.7753431</td><td>3.0264544</td><td>1.922366</td><td>1.5743383</td><td>0.1154093</td><td>0.9998053</td><td>no</td><td>N0.HOG0002018</td></tr>\n",
       "\t<tr><th scope=row>6</th><td>Arabidopsis_thaliana</td><td>AT2G01050</td><td>   0.0000000</td><td>       NA</td><td>      NA</td><td>       NA</td><td>       NA</td><td>       NA</td><td>no</td><td>N0.HOG0001718</td></tr>\n",
       "</tbody>\n",
       "</table>\n"
      ],
      "text/latex": [
       "A data.frame: 6 × 10\n",
       "\\begin{tabular}{r|llllllllll}\n",
       "  & species & gene & baseMean & log2FoldChange & lfcSE & stat & pvalue & padj & significant & HOG\\\\\n",
       "  & <chr> & <chr> & <dbl> & <dbl> & <dbl> & <dbl> & <dbl> & <dbl> & <chr> & <chr>\\\\\n",
       "\\hline\n",
       "\t1 & Arabidopsis\\_thaliana & AT2G01008 &   89.4474018 & 1.1915159 & 1.373179 & 0.8677062 & 0.3855552 & 0.9998053 & no & singleton    \\\\\n",
       "\t2 & Arabidopsis\\_thaliana & AT2G01021 & 6290.8151248 & 0.5698162 & 1.458011 & 0.3908175 & 0.6959322 & 0.9998053 & no & singleton    \\\\\n",
       "\t3 & Arabidopsis\\_thaliana & AT2G01023 &    2.5054909 & 0.2079018 & 1.039922 & 0.1999206 & 0.8415427 & 0.9998053 & no & singleton    \\\\\n",
       "\t4 & Arabidopsis\\_thaliana & AT2G01035 &    0.7753431 & 3.0264544 & 1.922366 & 1.5743383 & 0.1154093 & 0.9998053 & no & N0.HOG0002018\\\\\n",
       "\t5 & Arabidopsis\\_thaliana & AT2G01045 &    0.7753431 & 3.0264544 & 1.922366 & 1.5743383 & 0.1154093 & 0.9998053 & no & N0.HOG0002018\\\\\n",
       "\t6 & Arabidopsis\\_thaliana & AT2G01050 &    0.0000000 &        NA &       NA &        NA &        NA &        NA & no & N0.HOG0001718\\\\\n",
       "\\end{tabular}\n"
      ],
      "text/markdown": [
       "\n",
       "A data.frame: 6 × 10\n",
       "\n",
       "| <!--/--> | species &lt;chr&gt; | gene &lt;chr&gt; | baseMean &lt;dbl&gt; | log2FoldChange &lt;dbl&gt; | lfcSE &lt;dbl&gt; | stat &lt;dbl&gt; | pvalue &lt;dbl&gt; | padj &lt;dbl&gt; | significant &lt;chr&gt; | HOG &lt;chr&gt; |\n",
       "|---|---|---|---|---|---|---|---|---|---|---|\n",
       "| 1 | Arabidopsis_thaliana | AT2G01008 |   89.4474018 | 1.1915159 | 1.373179 | 0.8677062 | 0.3855552 | 0.9998053 | no | singleton     |\n",
       "| 2 | Arabidopsis_thaliana | AT2G01021 | 6290.8151248 | 0.5698162 | 1.458011 | 0.3908175 | 0.6959322 | 0.9998053 | no | singleton     |\n",
       "| 3 | Arabidopsis_thaliana | AT2G01023 |    2.5054909 | 0.2079018 | 1.039922 | 0.1999206 | 0.8415427 | 0.9998053 | no | singleton     |\n",
       "| 4 | Arabidopsis_thaliana | AT2G01035 |    0.7753431 | 3.0264544 | 1.922366 | 1.5743383 | 0.1154093 | 0.9998053 | no | N0.HOG0002018 |\n",
       "| 5 | Arabidopsis_thaliana | AT2G01045 |    0.7753431 | 3.0264544 | 1.922366 | 1.5743383 | 0.1154093 | 0.9998053 | no | N0.HOG0002018 |\n",
       "| 6 | Arabidopsis_thaliana | AT2G01050 |    0.0000000 |        NA |       NA |        NA |        NA |        NA | no | N0.HOG0001718 |\n",
       "\n"
      ],
      "text/plain": [
       "  species              gene      baseMean     log2FoldChange lfcSE    stat     \n",
       "1 Arabidopsis_thaliana AT2G01008   89.4474018 1.1915159      1.373179 0.8677062\n",
       "2 Arabidopsis_thaliana AT2G01021 6290.8151248 0.5698162      1.458011 0.3908175\n",
       "3 Arabidopsis_thaliana AT2G01023    2.5054909 0.2079018      1.039922 0.1999206\n",
       "4 Arabidopsis_thaliana AT2G01035    0.7753431 3.0264544      1.922366 1.5743383\n",
       "5 Arabidopsis_thaliana AT2G01045    0.7753431 3.0264544      1.922366 1.5743383\n",
       "6 Arabidopsis_thaliana AT2G01050    0.0000000        NA            NA        NA\n",
       "  pvalue    padj      significant HOG          \n",
       "1 0.3855552 0.9998053 no          singleton    \n",
       "2 0.6959322 0.9998053 no          singleton    \n",
       "3 0.8415427 0.9998053 no          singleton    \n",
       "4 0.1154093 0.9998053 no          N0.HOG0002018\n",
       "5 0.1154093 0.9998053 no          N0.HOG0002018\n",
       "6        NA        NA no          N0.HOG0001718"
      ]
     },
     "metadata": {},
     "output_type": "display_data"
    }
   ],
   "source": [
    "str(HOG_DE.a2tea)\n",
    "head(HOG_DE.a2tea)"
   ]
  },
  {
   "cell_type": "code",
   "execution_count": 11,
   "id": "b6381b02",
   "metadata": {
    "collapsed": true
   },
   "outputs": [
    {
     "name": "stdout",
     "output_type": "stream",
     "text": [
      "List of 5\n",
      " $ hypothesis_1: tibble [3,439 × 10] (S3: tbl_df/tbl/data.frame)\n",
      "  ..$ HOG                       : chr [1:3439] \"N0.HOG0000012\" \"N0.HOG0000025\" \"N0.HOG0000031\" \"N0.HOG0000033\" ...\n",
      "  ..$ tea_value                 : num [1:3439] Inf Inf Inf Inf Inf ...\n",
      "  ..$ cafe_pvalue               : num [1:3439] 0.449 0 0.236 0.832 0.079 0.004 0.161 0.832 0.019 0.04 ...\n",
      "  ..$ Arabidopsis_thaliana_total: num [1:3439] 3 13 4 2 8 10 5 2 8 7 ...\n",
      "  ..$ Zea_mays_total            : num [1:3439] 1 1 1 1 2 1 2 1 2 1 ...\n",
      "  ..$ Hordeum_vulgare_total     : num [1:3439] 1 1 1 1 3 2 1 1 1 3 ...\n",
      "  ..$ expansion                 : chr [1:3439] \"yes\" \"yes\" \"yes\" \"yes\" ...\n",
      "  ..$ Hordeum_vulgare_sigDE     : num [1:3439] NA 1 NA 1 NA NA 1 NA NA NA ...\n",
      "  ..$ Zea_mays_sigDE            : num [1:3439] NA NA NA NA NA NA NA NA NA NA ...\n",
      "  ..$ total_sigDE               : num [1:3439] NA 1 NA 1 NA NA 1 NA NA NA ...\n",
      " $ hypothesis_2: tibble [3,439 × 9] (S3: tbl_df/tbl/data.frame)\n",
      "  ..$ HOG                  : chr [1:3439] \"N0.HOG0000018\" \"N0.HOG0000068\" \"N0.HOG0000085\" \"N0.HOG0000145\" ...\n",
      "  ..$ tea_value            : num [1:3439] 0.00762 0.03704 0.04286 0.05952 0.05952 ...\n",
      "  ..$ cafe_pvalue          : num [1:3439] 0 0.128 0.004 0.067 0.067 0.032 0.15 0.15 0.15 0.15 ...\n",
      "  ..$ Hordeum_vulgare_total: num [1:3439] 16 6 6 5 5 6 3 3 3 3 ...\n",
      "  ..$ Zea_mays_total       : num [1:3439] 5 3 1 2 2 2 1 1 1 1 ...\n",
      "  ..$ expansion            : chr [1:3439] \"yes\" \"yes\" \"yes\" \"yes\" ...\n",
      "  ..$ Hordeum_vulgare_sigDE: num [1:3439] 4 2 4 2 2 2 3 3 3 3 ...\n",
      "  ..$ Zea_mays_sigDE       : num [1:3439] NA NA NA NA NA NA NA NA NA NA ...\n",
      "  ..$ total_sigDE          : num [1:3439] 4 2 4 2 2 2 3 3 3 3 ...\n",
      " $ hypothesis_3: tibble [3,439 × 10] (S3: tbl_df/tbl/data.frame)\n",
      "  ..$ HOG                       : chr [1:3439] \"N0.HOG0000051\" \"N0.HOG0000091\" \"N0.HOG0000307\" \"N0.HOG0000194\" ...\n",
      "  ..$ tea_value                 : num [1:3439] 0.0208 0.0214 0.0278 0.0536 0.0536 ...\n",
      "  ..$ cafe_pvalue               : num [1:3439] 0.03 0.059 0.521 0.513 0.513 0.513 0.513 0.513 0.513 0.513 ...\n",
      "  ..$ Zea_mays_total            : num [1:3439] 4 3 3 3 3 3 3 3 3 3 ...\n",
      "  ..$ Hordeum_vulgare_total     : num [1:3439] 7 6 2 3 3 3 3 3 3 3 ...\n",
      "  ..$ Arabidopsis_thaliana_total: num [1:3439] 1 1 1 1 1 1 1 1 1 1 ...\n",
      "  ..$ expansion                 : chr [1:3439] \"yes\" \"yes\" \"yes\" \"yes\" ...\n",
      "  ..$ Hordeum_vulgare_sigDE     : num [1:3439] NA 1 1 NA NA 1 NA 1 2 2 ...\n",
      "  ..$ Zea_mays_sigDE            : num [1:3439] NA NA 2 NA NA NA NA NA NA NA ...\n",
      "  ..$ total_sigDE               : num [1:3439] NA 1 3 NA NA 1 NA 1 2 2 ...\n",
      " $ hypothesis_4: tibble [3,439 × 10] (S3: tbl_df/tbl/data.frame)\n",
      "  ..$ HOG                       : chr [1:3439] \"N0.HOG0000002\" \"N0.HOG0000004\" \"N0.HOG0000015\" \"N0.HOG0000034\" ...\n",
      "  ..$ tea_value                 : num [1:3439] 0 0 0 0 0 0 0 0 0 0 ...\n",
      "  ..$ cafe_pvalue               : num [1:3439] 0 0.568 0.118 0.081 0.568 0.025 0.22 0 0.146 0.278 ...\n",
      "  ..$ Hordeum_vulgare_total     : num [1:3439] 33 2 2 2 2 7 2 10 6 1 ...\n",
      "  ..$ Zea_mays_total            : num [1:3439] 0 1 0 6 1 4 4 1 3 3 ...\n",
      "  ..$ Arabidopsis_thaliana_total: num [1:3439] 2 1 1 2 1 1 1 1 2 1 ...\n",
      "  ..$ expansion                 : chr [1:3439] \"yes\" \"yes\" \"yes\" \"yes\" ...\n",
      "  ..$ Hordeum_vulgare_sigDE     : num [1:3439] NA NA 1 NA NA NA NA 1 2 NA ...\n",
      "  ..$ Zea_mays_sigDE            : num [1:3439] NA NA NA 1 NA NA NA NA NA NA ...\n",
      "  ..$ total_sigDE               : num [1:3439] NA NA 1 1 NA NA NA 1 2 NA ...\n",
      " $ hypothesis_5: tibble [3,439 × 10] (S3: tbl_df/tbl/data.frame)\n",
      "  ..$ HOG                       : chr [1:3439] \"N0.HOG0000083\" \"N0.HOG0000002\" \"N0.HOG0000152\" \"N0.HOG0000446\" ...\n",
      "  ..$ tea_value                 : num [1:3439] 0.00648 0.00693 0.00879 0.01667 0.01736 ...\n",
      "  ..$ cafe_pvalue               : num [1:3439] 0.025 0 0.065 0.279 0.507 0.553 0 0.903 0 0 ...\n",
      "  ..$ Hordeum_vulgare_total     : num [1:3439] 6 33 5 3 2 2 10 2 7 6 ...\n",
      "  ..$ Zea_mays_total            : num [1:3439] 1 0 1 1 3 1 1 2 0 0 ...\n",
      "  ..$ Arabidopsis_thaliana_total: num [1:3439] 3 2 2 1 1 1 1 1 1 1 ...\n",
      "  ..$ expansion                 : chr [1:3439] \"yes\" \"yes\" \"yes\" \"yes\" ...\n",
      "  ..$ Hordeum_vulgare_sigDE     : num [1:3439] 2 NA 2 2 1 2 1 2 NA 1 ...\n",
      "  ..$ Zea_mays_sigDE            : num [1:3439] 1 NA 1 1 2 1 NA 1 NA NA ...\n",
      "  ..$ total_sigDE               : num [1:3439] 3 NA 3 3 3 3 1 3 NA 1 ...\n"
     ]
    },
    {
     "data": {
      "text/html": [
       "<table class=\"dataframe\">\n",
       "<caption>A tibble: 6 × 10</caption>\n",
       "<thead>\n",
       "\t<tr><th scope=col>HOG</th><th scope=col>tea_value</th><th scope=col>cafe_pvalue</th><th scope=col>Arabidopsis_thaliana_total</th><th scope=col>Zea_mays_total</th><th scope=col>Hordeum_vulgare_total</th><th scope=col>expansion</th><th scope=col>Hordeum_vulgare_sigDE</th><th scope=col>Zea_mays_sigDE</th><th scope=col>total_sigDE</th></tr>\n",
       "\t<tr><th scope=col>&lt;chr&gt;</th><th scope=col>&lt;dbl&gt;</th><th scope=col>&lt;dbl&gt;</th><th scope=col>&lt;dbl&gt;</th><th scope=col>&lt;dbl&gt;</th><th scope=col>&lt;dbl&gt;</th><th scope=col>&lt;chr&gt;</th><th scope=col>&lt;dbl&gt;</th><th scope=col>&lt;dbl&gt;</th><th scope=col>&lt;dbl&gt;</th></tr>\n",
       "</thead>\n",
       "<tbody>\n",
       "\t<tr><td>N0.HOG0000012</td><td>Inf</td><td>0.449</td><td> 3</td><td>1</td><td>1</td><td>yes</td><td>NA</td><td>NA</td><td>NA</td></tr>\n",
       "\t<tr><td>N0.HOG0000025</td><td>Inf</td><td>0.000</td><td>13</td><td>1</td><td>1</td><td>yes</td><td> 1</td><td>NA</td><td> 1</td></tr>\n",
       "\t<tr><td>N0.HOG0000031</td><td>Inf</td><td>0.236</td><td> 4</td><td>1</td><td>1</td><td>yes</td><td>NA</td><td>NA</td><td>NA</td></tr>\n",
       "\t<tr><td>N0.HOG0000033</td><td>Inf</td><td>0.832</td><td> 2</td><td>1</td><td>1</td><td>yes</td><td> 1</td><td>NA</td><td> 1</td></tr>\n",
       "\t<tr><td>N0.HOG0000039</td><td>Inf</td><td>0.079</td><td> 8</td><td>2</td><td>3</td><td>yes</td><td>NA</td><td>NA</td><td>NA</td></tr>\n",
       "\t<tr><td>N0.HOG0000040</td><td>Inf</td><td>0.004</td><td>10</td><td>1</td><td>2</td><td>yes</td><td>NA</td><td>NA</td><td>NA</td></tr>\n",
       "</tbody>\n",
       "</table>\n"
      ],
      "text/latex": [
       "A tibble: 6 × 10\n",
       "\\begin{tabular}{llllllllll}\n",
       " HOG & tea\\_value & cafe\\_pvalue & Arabidopsis\\_thaliana\\_total & Zea\\_mays\\_total & Hordeum\\_vulgare\\_total & expansion & Hordeum\\_vulgare\\_sigDE & Zea\\_mays\\_sigDE & total\\_sigDE\\\\\n",
       " <chr> & <dbl> & <dbl> & <dbl> & <dbl> & <dbl> & <chr> & <dbl> & <dbl> & <dbl>\\\\\n",
       "\\hline\n",
       "\t N0.HOG0000012 & Inf & 0.449 &  3 & 1 & 1 & yes & NA & NA & NA\\\\\n",
       "\t N0.HOG0000025 & Inf & 0.000 & 13 & 1 & 1 & yes &  1 & NA &  1\\\\\n",
       "\t N0.HOG0000031 & Inf & 0.236 &  4 & 1 & 1 & yes & NA & NA & NA\\\\\n",
       "\t N0.HOG0000033 & Inf & 0.832 &  2 & 1 & 1 & yes &  1 & NA &  1\\\\\n",
       "\t N0.HOG0000039 & Inf & 0.079 &  8 & 2 & 3 & yes & NA & NA & NA\\\\\n",
       "\t N0.HOG0000040 & Inf & 0.004 & 10 & 1 & 2 & yes & NA & NA & NA\\\\\n",
       "\\end{tabular}\n"
      ],
      "text/markdown": [
       "\n",
       "A tibble: 6 × 10\n",
       "\n",
       "| HOG &lt;chr&gt; | tea_value &lt;dbl&gt; | cafe_pvalue &lt;dbl&gt; | Arabidopsis_thaliana_total &lt;dbl&gt; | Zea_mays_total &lt;dbl&gt; | Hordeum_vulgare_total &lt;dbl&gt; | expansion &lt;chr&gt; | Hordeum_vulgare_sigDE &lt;dbl&gt; | Zea_mays_sigDE &lt;dbl&gt; | total_sigDE &lt;dbl&gt; |\n",
       "|---|---|---|---|---|---|---|---|---|---|\n",
       "| N0.HOG0000012 | Inf | 0.449 |  3 | 1 | 1 | yes | NA | NA | NA |\n",
       "| N0.HOG0000025 | Inf | 0.000 | 13 | 1 | 1 | yes |  1 | NA |  1 |\n",
       "| N0.HOG0000031 | Inf | 0.236 |  4 | 1 | 1 | yes | NA | NA | NA |\n",
       "| N0.HOG0000033 | Inf | 0.832 |  2 | 1 | 1 | yes |  1 | NA |  1 |\n",
       "| N0.HOG0000039 | Inf | 0.079 |  8 | 2 | 3 | yes | NA | NA | NA |\n",
       "| N0.HOG0000040 | Inf | 0.004 | 10 | 1 | 2 | yes | NA | NA | NA |\n",
       "\n"
      ],
      "text/plain": [
       "  HOG           tea_value cafe_pvalue Arabidopsis_thaliana_total Zea_mays_total\n",
       "1 N0.HOG0000012 Inf       0.449        3                         1             \n",
       "2 N0.HOG0000025 Inf       0.000       13                         1             \n",
       "3 N0.HOG0000031 Inf       0.236        4                         1             \n",
       "4 N0.HOG0000033 Inf       0.832        2                         1             \n",
       "5 N0.HOG0000039 Inf       0.079        8                         2             \n",
       "6 N0.HOG0000040 Inf       0.004       10                         1             \n",
       "  Hordeum_vulgare_total expansion Hordeum_vulgare_sigDE Zea_mays_sigDE\n",
       "1 1                     yes       NA                    NA            \n",
       "2 1                     yes        1                    NA            \n",
       "3 1                     yes       NA                    NA            \n",
       "4 1                     yes        1                    NA            \n",
       "5 3                     yes       NA                    NA            \n",
       "6 2                     yes       NA                    NA            \n",
       "  total_sigDE\n",
       "1 NA         \n",
       "2  1         \n",
       "3 NA         \n",
       "4  1         \n",
       "5 NA         \n",
       "6 NA         "
      ]
     },
     "metadata": {},
     "output_type": "display_data"
    },
    {
     "data": {
      "text/html": [
       "<table class=\"dataframe\">\n",
       "<caption>A tibble: 6 × 9</caption>\n",
       "<thead>\n",
       "\t<tr><th scope=col>HOG</th><th scope=col>tea_value</th><th scope=col>cafe_pvalue</th><th scope=col>Hordeum_vulgare_total</th><th scope=col>Zea_mays_total</th><th scope=col>expansion</th><th scope=col>Hordeum_vulgare_sigDE</th><th scope=col>Zea_mays_sigDE</th><th scope=col>total_sigDE</th></tr>\n",
       "\t<tr><th scope=col>&lt;chr&gt;</th><th scope=col>&lt;dbl&gt;</th><th scope=col>&lt;dbl&gt;</th><th scope=col>&lt;dbl&gt;</th><th scope=col>&lt;dbl&gt;</th><th scope=col>&lt;chr&gt;</th><th scope=col>&lt;dbl&gt;</th><th scope=col>&lt;dbl&gt;</th><th scope=col>&lt;dbl&gt;</th></tr>\n",
       "</thead>\n",
       "<tbody>\n",
       "\t<tr><td>N0.HOG0000018</td><td>0.007619048</td><td>0.000</td><td>16</td><td>5</td><td>yes</td><td>4</td><td>NA</td><td>4</td></tr>\n",
       "\t<tr><td>N0.HOG0000068</td><td>0.037037037</td><td>0.128</td><td> 6</td><td>3</td><td>yes</td><td>2</td><td>NA</td><td>2</td></tr>\n",
       "\t<tr><td>N0.HOG0000085</td><td>0.042857143</td><td>0.004</td><td> 6</td><td>1</td><td>yes</td><td>4</td><td>NA</td><td>4</td></tr>\n",
       "\t<tr><td>N0.HOG0000145</td><td>0.059523810</td><td>0.067</td><td> 5</td><td>2</td><td>yes</td><td>2</td><td>NA</td><td>2</td></tr>\n",
       "\t<tr><td>N0.HOG0000158</td><td>0.059523810</td><td>0.067</td><td> 5</td><td>2</td><td>yes</td><td>2</td><td>NA</td><td>2</td></tr>\n",
       "\t<tr><td>N0.HOG0000104</td><td>0.062500000</td><td>0.032</td><td> 6</td><td>2</td><td>yes</td><td>2</td><td>NA</td><td>2</td></tr>\n",
       "</tbody>\n",
       "</table>\n"
      ],
      "text/latex": [
       "A tibble: 6 × 9\n",
       "\\begin{tabular}{lllllllll}\n",
       " HOG & tea\\_value & cafe\\_pvalue & Hordeum\\_vulgare\\_total & Zea\\_mays\\_total & expansion & Hordeum\\_vulgare\\_sigDE & Zea\\_mays\\_sigDE & total\\_sigDE\\\\\n",
       " <chr> & <dbl> & <dbl> & <dbl> & <dbl> & <chr> & <dbl> & <dbl> & <dbl>\\\\\n",
       "\\hline\n",
       "\t N0.HOG0000018 & 0.007619048 & 0.000 & 16 & 5 & yes & 4 & NA & 4\\\\\n",
       "\t N0.HOG0000068 & 0.037037037 & 0.128 &  6 & 3 & yes & 2 & NA & 2\\\\\n",
       "\t N0.HOG0000085 & 0.042857143 & 0.004 &  6 & 1 & yes & 4 & NA & 4\\\\\n",
       "\t N0.HOG0000145 & 0.059523810 & 0.067 &  5 & 2 & yes & 2 & NA & 2\\\\\n",
       "\t N0.HOG0000158 & 0.059523810 & 0.067 &  5 & 2 & yes & 2 & NA & 2\\\\\n",
       "\t N0.HOG0000104 & 0.062500000 & 0.032 &  6 & 2 & yes & 2 & NA & 2\\\\\n",
       "\\end{tabular}\n"
      ],
      "text/markdown": [
       "\n",
       "A tibble: 6 × 9\n",
       "\n",
       "| HOG &lt;chr&gt; | tea_value &lt;dbl&gt; | cafe_pvalue &lt;dbl&gt; | Hordeum_vulgare_total &lt;dbl&gt; | Zea_mays_total &lt;dbl&gt; | expansion &lt;chr&gt; | Hordeum_vulgare_sigDE &lt;dbl&gt; | Zea_mays_sigDE &lt;dbl&gt; | total_sigDE &lt;dbl&gt; |\n",
       "|---|---|---|---|---|---|---|---|---|\n",
       "| N0.HOG0000018 | 0.007619048 | 0.000 | 16 | 5 | yes | 4 | NA | 4 |\n",
       "| N0.HOG0000068 | 0.037037037 | 0.128 |  6 | 3 | yes | 2 | NA | 2 |\n",
       "| N0.HOG0000085 | 0.042857143 | 0.004 |  6 | 1 | yes | 4 | NA | 4 |\n",
       "| N0.HOG0000145 | 0.059523810 | 0.067 |  5 | 2 | yes | 2 | NA | 2 |\n",
       "| N0.HOG0000158 | 0.059523810 | 0.067 |  5 | 2 | yes | 2 | NA | 2 |\n",
       "| N0.HOG0000104 | 0.062500000 | 0.032 |  6 | 2 | yes | 2 | NA | 2 |\n",
       "\n"
      ],
      "text/plain": [
       "  HOG           tea_value   cafe_pvalue Hordeum_vulgare_total Zea_mays_total\n",
       "1 N0.HOG0000018 0.007619048 0.000       16                    5             \n",
       "2 N0.HOG0000068 0.037037037 0.128        6                    3             \n",
       "3 N0.HOG0000085 0.042857143 0.004        6                    1             \n",
       "4 N0.HOG0000145 0.059523810 0.067        5                    2             \n",
       "5 N0.HOG0000158 0.059523810 0.067        5                    2             \n",
       "6 N0.HOG0000104 0.062500000 0.032        6                    2             \n",
       "  expansion Hordeum_vulgare_sigDE Zea_mays_sigDE total_sigDE\n",
       "1 yes       4                     NA             4          \n",
       "2 yes       2                     NA             2          \n",
       "3 yes       4                     NA             4          \n",
       "4 yes       2                     NA             2          \n",
       "5 yes       2                     NA             2          \n",
       "6 yes       2                     NA             2          "
      ]
     },
     "metadata": {},
     "output_type": "display_data"
    }
   ],
   "source": [
    "str(HOG_level_list)\n",
    "head(HOG_level_list$hypothesis_1)\n",
    "head(HOG_level_list$hypothesis_2)"
   ]
  },
  {
   "cell_type": "code",
   "execution_count": 22,
   "id": "a3b1e101",
   "metadata": {
    "collapsed": true
   },
   "outputs": [
    {
     "data": {
      "text/html": [
       "<table class=\"dataframe\">\n",
       "<caption>A tibble: 6 × 10</caption>\n",
       "<thead>\n",
       "\t<tr><th scope=col>HOG</th><th scope=col>tea_value</th><th scope=col>cafe_pvalue</th><th scope=col>Arabidopsis_thaliana_total</th><th scope=col>Zea_mays_total</th><th scope=col>Hordeum_vulgare_total</th><th scope=col>expansion</th><th scope=col>Hordeum_vulgare_sigDE</th><th scope=col>Zea_mays_sigDE</th><th scope=col>total_sigDE</th></tr>\n",
       "\t<tr><th scope=col>&lt;chr&gt;</th><th scope=col>&lt;dbl&gt;</th><th scope=col>&lt;dbl&gt;</th><th scope=col>&lt;dbl&gt;</th><th scope=col>&lt;dbl&gt;</th><th scope=col>&lt;dbl&gt;</th><th scope=col>&lt;chr&gt;</th><th scope=col>&lt;dbl&gt;</th><th scope=col>&lt;dbl&gt;</th><th scope=col>&lt;dbl&gt;</th></tr>\n",
       "</thead>\n",
       "<tbody>\n",
       "\t<tr><td>N0.HOG0000012</td><td>Inf</td><td>0.435</td><td> 3</td><td>1</td><td>1</td><td>yes</td><td>NA</td><td>NA</td><td>NA</td></tr>\n",
       "\t<tr><td>N0.HOG0000025</td><td>Inf</td><td>0.000</td><td>13</td><td>1</td><td>1</td><td>yes</td><td> 1</td><td>NA</td><td> 1</td></tr>\n",
       "\t<tr><td>N0.HOG0000031</td><td>Inf</td><td>0.242</td><td> 4</td><td>1</td><td>1</td><td>yes</td><td>NA</td><td>NA</td><td>NA</td></tr>\n",
       "\t<tr><td>N0.HOG0000033</td><td>Inf</td><td>0.863</td><td> 2</td><td>1</td><td>1</td><td>yes</td><td> 1</td><td>NA</td><td> 1</td></tr>\n",
       "\t<tr><td>N0.HOG0000039</td><td>Inf</td><td>0.070</td><td> 8</td><td>2</td><td>3</td><td>yes</td><td>NA</td><td>NA</td><td>NA</td></tr>\n",
       "\t<tr><td>N0.HOG0000040</td><td>Inf</td><td>0.004</td><td>10</td><td>1</td><td>2</td><td>yes</td><td>NA</td><td>NA</td><td>NA</td></tr>\n",
       "</tbody>\n",
       "</table>\n"
      ],
      "text/latex": [
       "A tibble: 6 × 10\n",
       "\\begin{tabular}{llllllllll}\n",
       " HOG & tea\\_value & cafe\\_pvalue & Arabidopsis\\_thaliana\\_total & Zea\\_mays\\_total & Hordeum\\_vulgare\\_total & expansion & Hordeum\\_vulgare\\_sigDE & Zea\\_mays\\_sigDE & total\\_sigDE\\\\\n",
       " <chr> & <dbl> & <dbl> & <dbl> & <dbl> & <dbl> & <chr> & <dbl> & <dbl> & <dbl>\\\\\n",
       "\\hline\n",
       "\t N0.HOG0000012 & Inf & 0.435 &  3 & 1 & 1 & yes & NA & NA & NA\\\\\n",
       "\t N0.HOG0000025 & Inf & 0.000 & 13 & 1 & 1 & yes &  1 & NA &  1\\\\\n",
       "\t N0.HOG0000031 & Inf & 0.242 &  4 & 1 & 1 & yes & NA & NA & NA\\\\\n",
       "\t N0.HOG0000033 & Inf & 0.863 &  2 & 1 & 1 & yes &  1 & NA &  1\\\\\n",
       "\t N0.HOG0000039 & Inf & 0.070 &  8 & 2 & 3 & yes & NA & NA & NA\\\\\n",
       "\t N0.HOG0000040 & Inf & 0.004 & 10 & 1 & 2 & yes & NA & NA & NA\\\\\n",
       "\\end{tabular}\n"
      ],
      "text/markdown": [
       "\n",
       "A tibble: 6 × 10\n",
       "\n",
       "| HOG &lt;chr&gt; | tea_value &lt;dbl&gt; | cafe_pvalue &lt;dbl&gt; | Arabidopsis_thaliana_total &lt;dbl&gt; | Zea_mays_total &lt;dbl&gt; | Hordeum_vulgare_total &lt;dbl&gt; | expansion &lt;chr&gt; | Hordeum_vulgare_sigDE &lt;dbl&gt; | Zea_mays_sigDE &lt;dbl&gt; | total_sigDE &lt;dbl&gt; |\n",
       "|---|---|---|---|---|---|---|---|---|---|\n",
       "| N0.HOG0000012 | Inf | 0.435 |  3 | 1 | 1 | yes | NA | NA | NA |\n",
       "| N0.HOG0000025 | Inf | 0.000 | 13 | 1 | 1 | yes |  1 | NA |  1 |\n",
       "| N0.HOG0000031 | Inf | 0.242 |  4 | 1 | 1 | yes | NA | NA | NA |\n",
       "| N0.HOG0000033 | Inf | 0.863 |  2 | 1 | 1 | yes |  1 | NA |  1 |\n",
       "| N0.HOG0000039 | Inf | 0.070 |  8 | 2 | 3 | yes | NA | NA | NA |\n",
       "| N0.HOG0000040 | Inf | 0.004 | 10 | 1 | 2 | yes | NA | NA | NA |\n",
       "\n"
      ],
      "text/plain": [
       "  HOG           tea_value cafe_pvalue Arabidopsis_thaliana_total Zea_mays_total\n",
       "1 N0.HOG0000012 Inf       0.435        3                         1             \n",
       "2 N0.HOG0000025 Inf       0.000       13                         1             \n",
       "3 N0.HOG0000031 Inf       0.242        4                         1             \n",
       "4 N0.HOG0000033 Inf       0.863        2                         1             \n",
       "5 N0.HOG0000039 Inf       0.070        8                         2             \n",
       "6 N0.HOG0000040 Inf       0.004       10                         1             \n",
       "  Hordeum_vulgare_total expansion Hordeum_vulgare_sigDE Zea_mays_sigDE\n",
       "1 1                     yes       NA                    NA            \n",
       "2 1                     yes        1                    NA            \n",
       "3 1                     yes       NA                    NA            \n",
       "4 1                     yes        1                    NA            \n",
       "5 3                     yes       NA                    NA            \n",
       "6 2                     yes       NA                    NA            \n",
       "  total_sigDE\n",
       "1 NA         \n",
       "2  1         \n",
       "3 NA         \n",
       "4  1         \n",
       "5 NA         \n",
       "6 NA         "
      ]
     },
     "metadata": {},
     "output_type": "display_data"
    }
   ],
   "source": [
    "head(HOG_level_list$hypothesis_1)"
   ]
  },
  {
   "cell_type": "code",
   "execution_count": 18,
   "id": "cdb91786",
   "metadata": {},
   "outputs": [
    {
     "data": {
      "text/html": [
       "'2'"
      ],
      "text/latex": [
       "'2'"
      ],
      "text/markdown": [
       "'2'"
      ],
      "text/plain": [
       "[1] \"2\""
      ]
     },
     "metadata": {},
     "output_type": "display_data"
    }
   ],
   "source": [
    "HYPOTHESES.a2tea$hypothesis_2@expanded_OGs$N0.HOG0000814@"
   ]
  }
 ],
 "metadata": {
  "kernelspec": {
   "display_name": "R",
   "language": "R",
   "name": "ir"
  },
  "language_info": {
   "codemirror_mode": "r",
   "file_extension": ".r",
   "mimetype": "text/x-r-source",
   "name": "R",
   "pygments_lexer": "r",
   "version": "4.1.0"
  }
 },
 "nbformat": 4,
 "nbformat_minor": 5
}
