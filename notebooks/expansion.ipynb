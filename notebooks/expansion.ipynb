{
 "cells": [
  {
   "cell_type": "code",
   "execution_count": 1,
   "metadata": {},
   "outputs": [],
   "source": [
    "import pandas as pd\n",
    "import os"
   ]
  },
  {
   "cell_type": "code",
   "execution_count": 39,
   "metadata": {},
   "outputs": [
    {
     "data": {
      "text/html": [
       "<div>\n",
       "<style scoped>\n",
       "    .dataframe tbody tr th:only-of-type {\n",
       "        vertical-align: middle;\n",
       "    }\n",
       "\n",
       "    .dataframe tbody tr th {\n",
       "        vertical-align: top;\n",
       "    }\n",
       "\n",
       "    .dataframe thead th {\n",
       "        text-align: right;\n",
       "    }\n",
       "</style>\n",
       "<table border=\"1\" class=\"dataframe\">\n",
       "  <thead>\n",
       "    <tr style=\"text-align: right;\">\n",
       "      <th></th>\n",
       "      <th>hypothesis</th>\n",
       "      <th>1</th>\n",
       "      <th>2</th>\n",
       "      <th>3</th>\n",
       "      <th>4</th>\n",
       "      <th>5</th>\n",
       "    </tr>\n",
       "    <tr>\n",
       "      <th>hypothesis</th>\n",
       "      <th></th>\n",
       "      <th></th>\n",
       "      <th></th>\n",
       "      <th></th>\n",
       "      <th></th>\n",
       "      <th></th>\n",
       "    </tr>\n",
       "  </thead>\n",
       "  <tbody>\n",
       "    <tr>\n",
       "      <th>name</th>\n",
       "      <td>name</td>\n",
       "      <td>Expanded in Arabidopsis compared to Monocots</td>\n",
       "      <td>Expanded in barley compared to maize</td>\n",
       "      <td>bla</td>\n",
       "      <td>bla2</td>\n",
       "      <td>bla3</td>\n",
       "    </tr>\n",
       "    <tr>\n",
       "      <th>expanded_in</th>\n",
       "      <td>expanded_in</td>\n",
       "      <td>Arabidopsis_thaliana</td>\n",
       "      <td>Hordeum_vulgare</td>\n",
       "      <td>Zea_mays</td>\n",
       "      <td>Hordeum_vulgare;Zea_mays</td>\n",
       "      <td>Hordeum_vulgare;Zea_mays</td>\n",
       "    </tr>\n",
       "    <tr>\n",
       "      <th>compared_to</th>\n",
       "      <td>compared_to</td>\n",
       "      <td>Zea_mays;Hordeum_vulgare</td>\n",
       "      <td>Zea_mays</td>\n",
       "      <td>Hordeum_vulgare;Arabidopsis_thaliana</td>\n",
       "      <td>Arabidopsis_thaliana</td>\n",
       "      <td>Hordeum_vulgare;Arabidopsis_thaliana</td>\n",
       "    </tr>\n",
       "    <tr>\n",
       "      <th>Nmin_expanded_in</th>\n",
       "      <td>Nmin_expanded_in</td>\n",
       "      <td>1</td>\n",
       "      <td>1</td>\n",
       "      <td>1</td>\n",
       "      <td>2</td>\n",
       "      <td>1</td>\n",
       "    </tr>\n",
       "    <tr>\n",
       "      <th>Nmin_compared_to</th>\n",
       "      <td>Nmin_compared_to</td>\n",
       "      <td>2</td>\n",
       "      <td>1</td>\n",
       "      <td>1</td>\n",
       "      <td>1</td>\n",
       "      <td>1</td>\n",
       "    </tr>\n",
       "    <tr>\n",
       "      <th>min_expansion_factor</th>\n",
       "      <td>min_expansion_factor</td>\n",
       "      <td>2</td>\n",
       "      <td>2</td>\n",
       "      <td>3</td>\n",
       "      <td>2</td>\n",
       "      <td>2</td>\n",
       "    </tr>\n",
       "    <tr>\n",
       "      <th>expanded_in_all_found</th>\n",
       "      <td>expanded_in_all_found</td>\n",
       "      <td>YES</td>\n",
       "      <td>NO</td>\n",
       "      <td>YES</td>\n",
       "      <td>NO</td>\n",
       "      <td>NO</td>\n",
       "    </tr>\n",
       "    <tr>\n",
       "      <th>compared_to_all_found</th>\n",
       "      <td>compared_to_all_found</td>\n",
       "      <td>YES</td>\n",
       "      <td>NO</td>\n",
       "      <td>YES</td>\n",
       "      <td>NO</td>\n",
       "      <td>NO</td>\n",
       "    </tr>\n",
       "  </tbody>\n",
       "</table>\n",
       "</div>"
      ],
      "text/plain": [
       "                                  hypothesis  \\\n",
       "hypothesis                                     \n",
       "name                                    name   \n",
       "expanded_in                      expanded_in   \n",
       "compared_to                      compared_to   \n",
       "Nmin_expanded_in            Nmin_expanded_in   \n",
       "Nmin_compared_to            Nmin_compared_to   \n",
       "min_expansion_factor    min_expansion_factor   \n",
       "expanded_in_all_found  expanded_in_all_found   \n",
       "compared_to_all_found  compared_to_all_found   \n",
       "\n",
       "                                                                  1  \\\n",
       "hypothesis                                                            \n",
       "name                   Expanded in Arabidopsis compared to Monocots   \n",
       "expanded_in                                    Arabidopsis_thaliana   \n",
       "compared_to                                Zea_mays;Hordeum_vulgare   \n",
       "Nmin_expanded_in                                                  1   \n",
       "Nmin_compared_to                                                  2   \n",
       "min_expansion_factor                                              2   \n",
       "expanded_in_all_found                                           YES   \n",
       "compared_to_all_found                                           YES   \n",
       "\n",
       "                                                          2  \\\n",
       "hypothesis                                                    \n",
       "name                   Expanded in barley compared to maize   \n",
       "expanded_in                                 Hordeum_vulgare   \n",
       "compared_to                                        Zea_mays   \n",
       "Nmin_expanded_in                                          1   \n",
       "Nmin_compared_to                                          1   \n",
       "min_expansion_factor                                      2   \n",
       "expanded_in_all_found                                    NO   \n",
       "compared_to_all_found                                    NO   \n",
       "\n",
       "                                                          3  \\\n",
       "hypothesis                                                    \n",
       "name                                                    bla   \n",
       "expanded_in                                        Zea_mays   \n",
       "compared_to            Hordeum_vulgare;Arabidopsis_thaliana   \n",
       "Nmin_expanded_in                                          1   \n",
       "Nmin_compared_to                                          1   \n",
       "min_expansion_factor                                      3   \n",
       "expanded_in_all_found                                   YES   \n",
       "compared_to_all_found                                   YES   \n",
       "\n",
       "                                              4  \\\n",
       "hypothesis                                        \n",
       "name                                       bla2   \n",
       "expanded_in            Hordeum_vulgare;Zea_mays   \n",
       "compared_to                Arabidopsis_thaliana   \n",
       "Nmin_expanded_in                              2   \n",
       "Nmin_compared_to                              1   \n",
       "min_expansion_factor                          2   \n",
       "expanded_in_all_found                        NO   \n",
       "compared_to_all_found                        NO   \n",
       "\n",
       "                                                          5  \n",
       "hypothesis                                                   \n",
       "name                                                   bla3  \n",
       "expanded_in                        Hordeum_vulgare;Zea_mays  \n",
       "compared_to            Hordeum_vulgare;Arabidopsis_thaliana  \n",
       "Nmin_expanded_in                                          1  \n",
       "Nmin_compared_to                                          1  \n",
       "min_expansion_factor                                      2  \n",
       "expanded_in_all_found                                    NO  \n",
       "compared_to_all_found                                    NO  "
      ]
     },
     "execution_count": 39,
     "metadata": {},
     "output_type": "execute_result"
    }
   ],
   "source": [
    "hypotheses = pd.read_csv(\"../config/hypotheses.tsv\", dtype=str, sep=\"\\t\").set_index([\"hypothesis\"], drop=False)\n",
    "hypotheses"
   ]
  },
  {
   "cell_type": "code",
   "execution_count": 40,
   "metadata": {},
   "outputs": [
    {
     "data": {
      "text/plain": [
       "['1', '2', '3', '4', '5']"
      ]
     },
     "execution_count": 40,
     "metadata": {},
     "output_type": "execute_result"
    }
   ],
   "source": [
    "hypotheses.columns.tolist()[1:]"
   ]
  },
  {
   "cell_type": "code",
   "execution_count": 41,
   "metadata": {},
   "outputs": [
    {
     "data": {
      "text/plain": [
       "5"
      ]
     },
     "execution_count": 41,
     "metadata": {},
     "output_type": "execute_result"
    }
   ],
   "source": [
    "N_HYPOTHESES = len(hypotheses.columns) - 1\n",
    "N_HYPOTHESES"
   ]
  },
  {
   "cell_type": "code",
   "execution_count": 27,
   "metadata": {},
   "outputs": [
    {
     "data": {
      "text/plain": [
       "str"
      ]
     },
     "execution_count": 27,
     "metadata": {},
     "output_type": "execute_result"
    }
   ],
   "source": [
    "type(str(int(1)))"
   ]
  },
  {
   "cell_type": "code",
   "execution_count": 3,
   "metadata": {
    "collapsed": true
   },
   "outputs": [
    {
     "data": {
      "text/html": [
       "<div>\n",
       "<style scoped>\n",
       "    .dataframe tbody tr th:only-of-type {\n",
       "        vertical-align: middle;\n",
       "    }\n",
       "\n",
       "    .dataframe tbody tr th {\n",
       "        vertical-align: top;\n",
       "    }\n",
       "\n",
       "    .dataframe thead th {\n",
       "        text-align: right;\n",
       "    }\n",
       "</style>\n",
       "<table border=\"1\" class=\"dataframe\">\n",
       "  <thead>\n",
       "    <tr style=\"text-align: right;\">\n",
       "      <th></th>\n",
       "      <th>hypothesis</th>\n",
       "      <th>name</th>\n",
       "      <th>expanded_in</th>\n",
       "      <th>compared_to</th>\n",
       "      <th>Nmin_expanded_in</th>\n",
       "      <th>Nmin_compared_to</th>\n",
       "      <th>min_expansion_factor</th>\n",
       "      <th>expanded_in_all_found</th>\n",
       "      <th>compared_to_all_found</th>\n",
       "    </tr>\n",
       "    <tr>\n",
       "      <th>hypothesis</th>\n",
       "      <th></th>\n",
       "      <th></th>\n",
       "      <th></th>\n",
       "      <th></th>\n",
       "      <th></th>\n",
       "      <th></th>\n",
       "      <th></th>\n",
       "      <th></th>\n",
       "      <th></th>\n",
       "    </tr>\n",
       "  </thead>\n",
       "  <tbody>\n",
       "    <tr>\n",
       "      <th>1</th>\n",
       "      <td>1</td>\n",
       "      <td>Expanded in Arabidopsis compared to Monocots</td>\n",
       "      <td>Arabidopsis_thaliana</td>\n",
       "      <td>Zea_mays;Hordeum_vulgare</td>\n",
       "      <td>1</td>\n",
       "      <td>2</td>\n",
       "      <td>2</td>\n",
       "      <td>YES</td>\n",
       "      <td>YES</td>\n",
       "    </tr>\n",
       "    <tr>\n",
       "      <th>2</th>\n",
       "      <td>2</td>\n",
       "      <td>Expanded in barley compared to maize</td>\n",
       "      <td>Hordeum_vulgare</td>\n",
       "      <td>Zea_mays</td>\n",
       "      <td>1</td>\n",
       "      <td>1</td>\n",
       "      <td>2</td>\n",
       "      <td>NO</td>\n",
       "      <td>NO</td>\n",
       "    </tr>\n",
       "  </tbody>\n",
       "</table>\n",
       "</div>"
      ],
      "text/plain": [
       "           hypothesis                                          name  \\\n",
       "hypothesis                                                            \n",
       "1                   1  Expanded in Arabidopsis compared to Monocots   \n",
       "2                   2          Expanded in barley compared to maize   \n",
       "\n",
       "                     expanded_in               compared_to Nmin_expanded_in  \\\n",
       "hypothesis                                                                    \n",
       "1           Arabidopsis_thaliana  Zea_mays;Hordeum_vulgare                1   \n",
       "2                Hordeum_vulgare                  Zea_mays                1   \n",
       "\n",
       "           Nmin_compared_to min_expansion_factor expanded_in_all_found  \\\n",
       "hypothesis                                                               \n",
       "1                         2                    2                   YES   \n",
       "2                         1                    2                    NO   \n",
       "\n",
       "           compared_to_all_found  \n",
       "hypothesis                        \n",
       "1                            YES  \n",
       "2                             NO  "
      ]
     },
     "execution_count": 3,
     "metadata": {},
     "output_type": "execute_result"
    }
   ],
   "source": [
    "hypotheses = pd.read_csv(\"../config/hypotheses.tsv\", dtype=str, sep=\"\\t\").set_index([\"hypothesis\"], drop=False)\n",
    "#hypotheses.index = hypotheses.index.set_levels( [i.astype(str) for i in hypotheses.index.levels])  # enforce str in index\n",
    "hypotheses"
   ]
  },
  {
   "cell_type": "code",
   "execution_count": 4,
   "metadata": {},
   "outputs": [
    {
     "data": {
      "text/plain": [
       "2"
      ]
     },
     "execution_count": 4,
     "metadata": {},
     "output_type": "execute_result"
    }
   ],
   "source": [
    "HYPOTHESES = hypotheses.index.tolist()\n",
    "N_HYPOTHESES = len(HYPOTHESES)\n",
    "N_HYPOTHESES"
   ]
  },
  {
   "cell_type": "code",
   "execution_count": 5,
   "metadata": {},
   "outputs": [
    {
     "data": {
      "text/plain": [
       "list"
      ]
     },
     "execution_count": 5,
     "metadata": {},
     "output_type": "execute_result"
    }
   ],
   "source": [
    "type(HYPOTHESES)"
   ]
  },
  {
   "cell_type": "code",
   "execution_count": 34,
   "metadata": {},
   "outputs": [
    {
     "ename": "SyntaxError",
     "evalue": "invalid syntax (337400913.py, line 1)",
     "output_type": "error",
     "traceback": [
      "\u001b[0;36m  File \u001b[0;32m\"/tmp/ipykernel_556755/337400913.py\"\u001b[0;36m, line \u001b[0;32m1\u001b[0m\n\u001b[0;31m    hypotheses.index[]\u001b[0m\n\u001b[0m                     ^\u001b[0m\n\u001b[0;31mSyntaxError\u001b[0m\u001b[0;31m:\u001b[0m invalid syntax\n"
     ]
    }
   ],
   "source": [
    "hypotheses.index[]"
   ]
  },
  {
   "cell_type": "code",
   "execution_count": 37,
   "metadata": {},
   "outputs": [
    {
     "data": {
      "text/plain": [
       "'Arabidopsis_thaliana'"
      ]
     },
     "execution_count": 37,
     "metadata": {},
     "output_type": "execute_result"
    }
   ],
   "source": [
    "hypotheses.loc[ 'expanded_in', '1']"
   ]
  },
  {
   "cell_type": "code",
   "execution_count": 35,
   "metadata": {},
   "outputs": [
    {
     "data": {
      "text/plain": [
       "['Zea_mays', 'Hordeum_vulgare']"
      ]
     },
     "execution_count": 35,
     "metadata": {},
     "output_type": "execute_result"
    }
   ],
   "source": [
    "str.split(hypotheses.loc[ '1', 'compared_to'], \";\")"
   ]
  },
  {
   "cell_type": "code",
   "execution_count": 4,
   "metadata": {},
   "outputs": [
    {
     "data": {
      "text/plain": [
       "hypothesis\n",
       "1    1\n",
       "2    2\n",
       "Name: hypothesis, dtype: object"
      ]
     },
     "execution_count": 4,
     "metadata": {},
     "output_type": "execute_result"
    }
   ],
   "source": [
    "def get_hypo_num(hypothesis_index):\n",
    "    \"\"\"Get compared_to entries from hypotheses(.tsv) for each hypothesis. \"\"\"\n",
    "    num = hypotheses.loc[ (hypothesis_index), 'hypothesis']\n",
    "    return num\n",
    "get_hypo_num(HYPOTHESES)"
   ]
  },
  {
   "cell_type": "code",
   "execution_count": 68,
   "metadata": {},
   "outputs": [
    {
     "data": {
      "text/plain": [
       "hypothesis\n",
       "1    Expanded in Arabidopsis compared to Monocots\n",
       "2            Expanded in barley compared to maize\n",
       "Name: name, dtype: object"
      ]
     },
     "execution_count": 68,
     "metadata": {},
     "output_type": "execute_result"
    }
   ],
   "source": [
    "def get_hypo_name(hypothesis_index):\n",
    "    \"\"\"Get compared_to entries from hypotheses(.tsv) for each hypothesis. \"\"\"\n",
    "    name = hypotheses.loc[ (hypothesis_index), 'name']\n",
    "    return name\n",
    "get_hypo_name(HYPOTHESES)"
   ]
  },
  {
   "cell_type": "code",
   "execution_count": 65,
   "metadata": {},
   "outputs": [
    {
     "data": {
      "text/plain": [
       "hypothesis\n",
       "1    Arabidopsis_thaliana\n",
       "2         Hordeum_vulgare\n",
       "Name: expanded_in, dtype: object"
      ]
     },
     "execution_count": 65,
     "metadata": {},
     "output_type": "execute_result"
    }
   ],
   "source": [
    "def get_exp_species(hypothesis_index):\n",
    "    \"\"\"Get compared_to entries from hypotheses(.tsv) for each hypothesis. \"\"\"\n",
    "    exps = hypotheses.loc[ (hypothesis_index), 'expanded_in']\n",
    "    return exps\n",
    "get_exp_species(HYPOTHESES)"
   ]
  },
  {
   "cell_type": "code",
   "execution_count": 46,
   "metadata": {
    "collapsed": true
   },
   "outputs": [
    {
     "ename": "KeyError",
     "evalue": "'Requested level (;) does not match index name (hypothesis)'",
     "output_type": "error",
     "traceback": [
      "\u001b[0;31m---------------------------------------------------------------------------\u001b[0m",
      "\u001b[0;31mKeyError\u001b[0m                                  Traceback (most recent call last)",
      "\u001b[0;32m<ipython-input-46-f59232aab2b3>\u001b[0m in \u001b[0;36m<module>\u001b[0;34m\u001b[0m\n\u001b[1;32m      9\u001b[0m         \u001b[0;32mreturn\u001b[0m \u001b[0mct_1\u001b[0m\u001b[0;34m\u001b[0m\u001b[0;34m\u001b[0m\u001b[0m\n\u001b[1;32m     10\u001b[0m     \u001b[0;32mreturn\u001b[0m\u001b[0;34m\u001b[0m\u001b[0;34m\u001b[0m\u001b[0m\n\u001b[0;32m---> 11\u001b[0;31m \u001b[0mget_com_species\u001b[0m\u001b[0;34m(\u001b[0m\u001b[0mHYPOTHESES\u001b[0m\u001b[0;34m)\u001b[0m\u001b[0;34m\u001b[0m\u001b[0;34m\u001b[0m\u001b[0m\n\u001b[0m\u001b[1;32m     12\u001b[0m \u001b[0;31m#    print(ct_1[1].count(\";\"))\u001b[0m\u001b[0;34m\u001b[0m\u001b[0;34m\u001b[0m\u001b[0;34m\u001b[0m\u001b[0m\n\u001b[1;32m     13\u001b[0m \u001b[0;31m#    ct_2 = str.split(ct_1[2], \";\")\u001b[0m\u001b[0;34m\u001b[0m\u001b[0;34m\u001b[0m\u001b[0;34m\u001b[0m\u001b[0m\n",
      "\u001b[0;32m<ipython-input-46-f59232aab2b3>\u001b[0m in \u001b[0;36mget_com_species\u001b[0;34m(hypothesis_index)\u001b[0m\n\u001b[1;32m      3\u001b[0m     \u001b[0;34m\"\"\"Get compared_to entries from hypotheses(.tsv) for each hypothesis. \"\"\"\u001b[0m\u001b[0;34m\u001b[0m\u001b[0;34m\u001b[0m\u001b[0m\n\u001b[1;32m      4\u001b[0m     \u001b[0mct_1\u001b[0m \u001b[0;34m=\u001b[0m \u001b[0mhypotheses\u001b[0m\u001b[0;34m.\u001b[0m\u001b[0mloc\u001b[0m\u001b[0;34m[\u001b[0m \u001b[0;34m(\u001b[0m\u001b[0mhypothesis_index\u001b[0m\u001b[0;34m)\u001b[0m\u001b[0;34m,\u001b[0m \u001b[0;34m'compared_to'\u001b[0m\u001b[0;34m]\u001b[0m\u001b[0;34m\u001b[0m\u001b[0;34m\u001b[0m\u001b[0m\n\u001b[0;32m----> 5\u001b[0;31m     \u001b[0;32mif\u001b[0m \u001b[0mct_1\u001b[0m\u001b[0;34m.\u001b[0m\u001b[0mcount\u001b[0m\u001b[0;34m(\u001b[0m\u001b[0;34m\";\"\u001b[0m\u001b[0;34m)\u001b[0m \u001b[0;34m>\u001b[0m \u001b[0;36m0\u001b[0m\u001b[0;34m:\u001b[0m\u001b[0;34m\u001b[0m\u001b[0;34m\u001b[0m\u001b[0m\n\u001b[0m\u001b[1;32m      6\u001b[0m         \u001b[0mct_2\u001b[0m \u001b[0;34m=\u001b[0m \u001b[0mstr\u001b[0m\u001b[0;34m.\u001b[0m\u001b[0msplit\u001b[0m\u001b[0;34m(\u001b[0m\u001b[0mct_1\u001b[0m\u001b[0;34m,\u001b[0m \u001b[0;34m\";\"\u001b[0m\u001b[0;34m)\u001b[0m\u001b[0;34m\u001b[0m\u001b[0;34m\u001b[0m\u001b[0m\n\u001b[1;32m      7\u001b[0m         \u001b[0;32mreturn\u001b[0m \u001b[0mct_2\u001b[0m\u001b[0;34m\u001b[0m\u001b[0;34m\u001b[0m\u001b[0m\n",
      "\u001b[0;32m/gpfs/scratch/cb/stoecker/miniconda3/lib/python3.7/site-packages/pandas/core/series.py\u001b[0m in \u001b[0;36mcount\u001b[0;34m(self, level)\u001b[0m\n\u001b[1;32m   1893\u001b[0m \u001b[0;34m\u001b[0m\u001b[0m\n\u001b[1;32m   1894\u001b[0m         \u001b[0;32mif\u001b[0m \u001b[0misinstance\u001b[0m\u001b[0;34m(\u001b[0m\u001b[0mlevel\u001b[0m\u001b[0;34m,\u001b[0m \u001b[0mstr\u001b[0m\u001b[0;34m)\u001b[0m\u001b[0;34m:\u001b[0m\u001b[0;34m\u001b[0m\u001b[0;34m\u001b[0m\u001b[0m\n\u001b[0;32m-> 1895\u001b[0;31m             \u001b[0mlevel\u001b[0m \u001b[0;34m=\u001b[0m \u001b[0mself\u001b[0m\u001b[0;34m.\u001b[0m\u001b[0mindex\u001b[0m\u001b[0;34m.\u001b[0m\u001b[0m_get_level_number\u001b[0m\u001b[0;34m(\u001b[0m\u001b[0mlevel\u001b[0m\u001b[0;34m)\u001b[0m\u001b[0;34m\u001b[0m\u001b[0;34m\u001b[0m\u001b[0m\n\u001b[0m\u001b[1;32m   1896\u001b[0m \u001b[0;34m\u001b[0m\u001b[0m\n\u001b[1;32m   1897\u001b[0m         \u001b[0mlev\u001b[0m \u001b[0;34m=\u001b[0m \u001b[0mself\u001b[0m\u001b[0;34m.\u001b[0m\u001b[0mindex\u001b[0m\u001b[0;34m.\u001b[0m\u001b[0mlevels\u001b[0m\u001b[0;34m[\u001b[0m\u001b[0mlevel\u001b[0m\u001b[0;34m]\u001b[0m\u001b[0;34m\u001b[0m\u001b[0;34m\u001b[0m\u001b[0m\n",
      "\u001b[0;32m/gpfs/scratch/cb/stoecker/miniconda3/lib/python3.7/site-packages/pandas/core/indexes/base.py\u001b[0m in \u001b[0;36m_get_level_number\u001b[0;34m(self, level)\u001b[0m\n\u001b[1;32m   1561\u001b[0m \u001b[0;34m\u001b[0m\u001b[0m\n\u001b[1;32m   1562\u001b[0m     \u001b[0;32mdef\u001b[0m \u001b[0m_get_level_number\u001b[0m\u001b[0;34m(\u001b[0m\u001b[0mself\u001b[0m\u001b[0;34m,\u001b[0m \u001b[0mlevel\u001b[0m\u001b[0;34m)\u001b[0m\u001b[0;34m:\u001b[0m\u001b[0;34m\u001b[0m\u001b[0;34m\u001b[0m\u001b[0m\n\u001b[0;32m-> 1563\u001b[0;31m         \u001b[0mself\u001b[0m\u001b[0;34m.\u001b[0m\u001b[0m_validate_index_level\u001b[0m\u001b[0;34m(\u001b[0m\u001b[0mlevel\u001b[0m\u001b[0;34m)\u001b[0m\u001b[0;34m\u001b[0m\u001b[0;34m\u001b[0m\u001b[0m\n\u001b[0m\u001b[1;32m   1564\u001b[0m         \u001b[0;32mreturn\u001b[0m \u001b[0;36m0\u001b[0m\u001b[0;34m\u001b[0m\u001b[0;34m\u001b[0m\u001b[0m\n\u001b[1;32m   1565\u001b[0m \u001b[0;34m\u001b[0m\u001b[0m\n",
      "\u001b[0;32m/gpfs/scratch/cb/stoecker/miniconda3/lib/python3.7/site-packages/pandas/core/indexes/base.py\u001b[0m in \u001b[0;36m_validate_index_level\u001b[0;34m(self, level)\u001b[0m\n\u001b[1;32m   1556\u001b[0m             raise KeyError(\n\u001b[1;32m   1557\u001b[0m                 \"Requested level ({}) does not match index name ({})\".format(\n\u001b[0;32m-> 1558\u001b[0;31m                     \u001b[0mlevel\u001b[0m\u001b[0;34m,\u001b[0m \u001b[0mself\u001b[0m\u001b[0;34m.\u001b[0m\u001b[0mname\u001b[0m\u001b[0;34m\u001b[0m\u001b[0;34m\u001b[0m\u001b[0m\n\u001b[0m\u001b[1;32m   1559\u001b[0m                 )\n\u001b[1;32m   1560\u001b[0m             )\n",
      "\u001b[0;31mKeyError\u001b[0m: 'Requested level (;) does not match index name (hypothesis)'"
     ]
    }
   ],
   "source": [
    "#if more than one species is compared to than we have to split the string based on \";\"\n",
    "def get_com_species(hypothesis_index):\n",
    "    \"\"\"Get compared_to entries from hypotheses(.tsv) for each hypothesis. \"\"\"\n",
    "    ct_1 = hypotheses.loc[ (hypothesis_index), 'compared_to']\n",
    "    if ct_1.count(\";\") > 0:\n",
    "        ct_2 = str.split(ct_1, \";\")\n",
    "        return ct_2\n",
    "    else:\n",
    "        return ct_1\n",
    "    return\n",
    "get_com_species(HYPOTHESES)\n",
    "\n",
    "#    print(ct_1[1].count(\";\"))\n",
    "#    ct_2 = str.split(ct_1[2], \";\")\n",
    "#    if ct_1\n",
    "#    print(str1.count(\"India\"))"
   ]
  },
  {
   "cell_type": "code",
   "execution_count": 48,
   "metadata": {},
   "outputs": [
    {
     "data": {
      "text/plain": [
       "list"
      ]
     },
     "execution_count": 48,
     "metadata": {},
     "output_type": "execute_result"
    }
   ],
   "source": [
    "type(HYPOTHESES)"
   ]
  },
  {
   "cell_type": "code",
   "execution_count": 36,
   "metadata": {
    "scrolled": true
   },
   "outputs": [
    {
     "name": "stdout",
     "output_type": "stream",
     "text": [
      "ok\n"
     ]
    }
   ],
   "source": [
    "ct_1 = hypotheses.loc[ HYPOTHESES, 'compared_to']\n",
    "#ct_1\n",
    "if ct_1[0].count(\";\") > 0:\n",
    "    print(\"ok\")\n",
    "else:\n",
    "    print(\"no\")"
   ]
  },
  {
   "cell_type": "code",
   "execution_count": 139,
   "metadata": {},
   "outputs": [
    {
     "data": {
      "text/html": [
       "<div>\n",
       "<style scoped>\n",
       "    .dataframe tbody tr th:only-of-type {\n",
       "        vertical-align: middle;\n",
       "    }\n",
       "\n",
       "    .dataframe tbody tr th {\n",
       "        vertical-align: top;\n",
       "    }\n",
       "\n",
       "    .dataframe thead th {\n",
       "        text-align: right;\n",
       "    }\n",
       "</style>\n",
       "<table border=\"1\" class=\"dataframe\">\n",
       "  <thead>\n",
       "    <tr style=\"text-align: right;\">\n",
       "      <th></th>\n",
       "      <th>hypothesis</th>\n",
       "      <th>name</th>\n",
       "      <th>expanded_in</th>\n",
       "      <th>compared_to</th>\n",
       "    </tr>\n",
       "    <tr>\n",
       "      <th>hypothesis</th>\n",
       "      <th></th>\n",
       "      <th></th>\n",
       "      <th></th>\n",
       "      <th></th>\n",
       "    </tr>\n",
       "  </thead>\n",
       "  <tbody>\n",
       "    <tr>\n",
       "      <th>1</th>\n",
       "      <td>1</td>\n",
       "      <td>Expanded in Arabidopsis compared to Monocots</td>\n",
       "      <td>Arabidopsis_thaliana</td>\n",
       "      <td>Zea_mays;Hordeum_vulgare</td>\n",
       "    </tr>\n",
       "    <tr>\n",
       "      <th>2</th>\n",
       "      <td>2</td>\n",
       "      <td>Expanded in barley compared to maize</td>\n",
       "      <td>Hordeum_vulgare</td>\n",
       "      <td>Zea_mays</td>\n",
       "    </tr>\n",
       "  </tbody>\n",
       "</table>\n",
       "</div>"
      ],
      "text/plain": [
       "           hypothesis                                          name  \\\n",
       "hypothesis                                                            \n",
       "1                   1  Expanded in Arabidopsis compared to Monocots   \n",
       "2                   2          Expanded in barley compared to maize   \n",
       "\n",
       "                     expanded_in               compared_to  \n",
       "hypothesis                                                  \n",
       "1           Arabidopsis_thaliana  Zea_mays;Hordeum_vulgare  \n",
       "2                Hordeum_vulgare                  Zea_mays  "
      ]
     },
     "execution_count": 139,
     "metadata": {},
     "output_type": "execute_result"
    }
   ],
   "source": [
    "pd.DataFrame(hypotheses[[\"hypothesis\", \"name\", \"expanded_in\", \"compared_to\"]])"
   ]
  },
  {
   "cell_type": "code",
   "execution_count": 140,
   "metadata": {},
   "outputs": [
    {
     "data": {
      "text/html": [
       "<div>\n",
       "<style scoped>\n",
       "    .dataframe tbody tr th:only-of-type {\n",
       "        vertical-align: middle;\n",
       "    }\n",
       "\n",
       "    .dataframe tbody tr th {\n",
       "        vertical-align: top;\n",
       "    }\n",
       "\n",
       "    .dataframe thead th {\n",
       "        text-align: right;\n",
       "    }\n",
       "</style>\n",
       "<table border=\"1\" class=\"dataframe\">\n",
       "  <thead>\n",
       "    <tr style=\"text-align: right;\">\n",
       "      <th></th>\n",
       "      <th>name</th>\n",
       "      <th>expanded_in</th>\n",
       "      <th>compared_to</th>\n",
       "    </tr>\n",
       "    <tr>\n",
       "      <th>hypothesis</th>\n",
       "      <th></th>\n",
       "      <th></th>\n",
       "      <th></th>\n",
       "    </tr>\n",
       "  </thead>\n",
       "  <tbody>\n",
       "    <tr>\n",
       "      <th>1</th>\n",
       "      <td>Expanded in Arabidopsis compared to Monocots</td>\n",
       "      <td>Arabidopsis_thaliana</td>\n",
       "      <td>Zea_mays;Hordeum_vulgare</td>\n",
       "    </tr>\n",
       "    <tr>\n",
       "      <th>2</th>\n",
       "      <td>Expanded in barley compared to maize</td>\n",
       "      <td>Hordeum_vulgare</td>\n",
       "      <td>Zea_mays</td>\n",
       "    </tr>\n",
       "  </tbody>\n",
       "</table>\n",
       "</div>"
      ],
      "text/plain": [
       "                                                    name  \\\n",
       "hypothesis                                                 \n",
       "1           Expanded in Arabidopsis compared to Monocots   \n",
       "2                   Expanded in barley compared to maize   \n",
       "\n",
       "                     expanded_in               compared_to  \n",
       "hypothesis                                                  \n",
       "1           Arabidopsis_thaliana  Zea_mays;Hordeum_vulgare  \n",
       "2                Hordeum_vulgare                  Zea_mays  "
      ]
     },
     "execution_count": 140,
     "metadata": {},
     "output_type": "execute_result"
    }
   ],
   "source": [
    "pd.DataFrame(hypotheses[[\"name\", \"expanded_in\", \"compared_to\"]])"
   ]
  },
  {
   "cell_type": "code",
   "execution_count": 141,
   "metadata": {},
   "outputs": [
    {
     "data": {
      "text/html": [
       "<div>\n",
       "<style scoped>\n",
       "    .dataframe tbody tr th:only-of-type {\n",
       "        vertical-align: middle;\n",
       "    }\n",
       "\n",
       "    .dataframe tbody tr th {\n",
       "        vertical-align: top;\n",
       "    }\n",
       "\n",
       "    .dataframe thead th {\n",
       "        text-align: right;\n",
       "    }\n",
       "</style>\n",
       "<table border=\"1\" class=\"dataframe\">\n",
       "  <thead>\n",
       "    <tr style=\"text-align: right;\">\n",
       "      <th></th>\n",
       "      <th>name</th>\n",
       "      <th>expanded_in</th>\n",
       "      <th>compared_to</th>\n",
       "    </tr>\n",
       "    <tr>\n",
       "      <th>hypothesis</th>\n",
       "      <th></th>\n",
       "      <th></th>\n",
       "      <th></th>\n",
       "    </tr>\n",
       "  </thead>\n",
       "  <tbody>\n",
       "    <tr>\n",
       "      <th>1</th>\n",
       "      <td>Expanded in Arabidopsis compared to Monocots</td>\n",
       "      <td>Arabidopsis_thaliana</td>\n",
       "      <td>Zea_mays;Hordeum_vulgare</td>\n",
       "    </tr>\n",
       "  </tbody>\n",
       "</table>\n",
       "</div>"
      ],
      "text/plain": [
       "                                                    name  \\\n",
       "hypothesis                                                 \n",
       "1           Expanded in Arabidopsis compared to Monocots   \n",
       "\n",
       "                     expanded_in               compared_to  \n",
       "hypothesis                                                  \n",
       "1           Arabidopsis_thaliana  Zea_mays;Hordeum_vulgare  "
      ]
     },
     "execution_count": 141,
     "metadata": {},
     "output_type": "execute_result"
    }
   ],
   "source": [
    "hypotheses[[\"name\", \"expanded_in\", \"compared_to\"]].loc[['1']]"
   ]
  },
  {
   "cell_type": "code",
   "execution_count": 164,
   "metadata": {
    "scrolled": true
   },
   "outputs": [
    {
     "data": {
      "text/html": [
       "<div>\n",
       "<style scoped>\n",
       "    .dataframe tbody tr th:only-of-type {\n",
       "        vertical-align: middle;\n",
       "    }\n",
       "\n",
       "    .dataframe tbody tr th {\n",
       "        vertical-align: top;\n",
       "    }\n",
       "\n",
       "    .dataframe thead th {\n",
       "        text-align: right;\n",
       "    }\n",
       "</style>\n",
       "<table border=\"1\" class=\"dataframe\">\n",
       "  <thead>\n",
       "    <tr style=\"text-align: right;\">\n",
       "      <th></th>\n",
       "      <th>hypothesis</th>\n",
       "      <th>name</th>\n",
       "      <th>expanded_in</th>\n",
       "      <th>compared_to</th>\n",
       "    </tr>\n",
       "    <tr>\n",
       "      <th>hypothesis</th>\n",
       "      <th></th>\n",
       "      <th></th>\n",
       "      <th></th>\n",
       "      <th></th>\n",
       "    </tr>\n",
       "  </thead>\n",
       "  <tbody>\n",
       "    <tr>\n",
       "      <th>1</th>\n",
       "      <td>1</td>\n",
       "      <td>Expanded in Arabidopsis compared to Monocots</td>\n",
       "      <td>Arabidopsis_thaliana</td>\n",
       "      <td>Zea_mays;Hordeum_vulgare</td>\n",
       "    </tr>\n",
       "    <tr>\n",
       "      <th>2</th>\n",
       "      <td>2</td>\n",
       "      <td>Expanded in barley compared to maize</td>\n",
       "      <td>Hordeum_vulgare</td>\n",
       "      <td>Zea_mays</td>\n",
       "    </tr>\n",
       "  </tbody>\n",
       "</table>\n",
       "</div>"
      ],
      "text/plain": [
       "           hypothesis                                          name  \\\n",
       "hypothesis                                                            \n",
       "1                   1  Expanded in Arabidopsis compared to Monocots   \n",
       "2                   2          Expanded in barley compared to maize   \n",
       "\n",
       "                     expanded_in               compared_to  \n",
       "hypothesis                                                  \n",
       "1           Arabidopsis_thaliana  Zea_mays;Hordeum_vulgare  \n",
       "2                Hordeum_vulgare                  Zea_mays  "
      ]
     },
     "execution_count": 164,
     "metadata": {},
     "output_type": "execute_result"
    }
   ],
   "source": [
    "def get_ind_hypothesis(hypothesis_num):\n",
    "    \"\"\"Get individual hypotheses as a one-row pandas dataframe. \"\"\"\n",
    "    ih = hypotheses.loc[hypothesis_num]\n",
    "    return ih\n",
    "get_ind_hypothesis(a)"
   ]
  },
  {
   "cell_type": "code",
   "execution_count": 111,
   "metadata": {},
   "outputs": [
    {
     "data": {
      "text/plain": [
       "['FS/longest_isoforms/Arabidopsis_thaliana.fa',\n",
       " 'FS/longest_isoforms/Zea_mays.fa',\n",
       " 'FS/longest_isoforms/Hordeum_vulgare.fa']"
      ]
     },
     "execution_count": 111,
     "metadata": {},
     "output_type": "execute_result"
    }
   ],
   "source": [
    "# preparing hypothesis fasta files\n",
    "path_prefix = 'FS/longest_isoforms/'\n",
    "suffix = '.fa'\n",
    "\n",
    "exp = hypotheses.loc['expanded_in' , '1']\n",
    "ct = hypotheses.loc['compared_to' , '1']\n",
    "\n",
    "# split by \";\", if no \";\" then transform string to single-element list (so concatenation works)\n",
    "if exp.count(\";\") > 0:\n",
    "    exp = str.split(exp, \";\")\n",
    "else:\n",
    "    exp = [exp]\n",
    "if ct.count(\";\") > 0:\n",
    "    ct = str.split(ct, \";\")\n",
    "else:\n",
    "    ct = [ct]\n",
    "\n",
    "output = exp + ct   \n",
    "    \n",
    "    \n",
    "# last step: removing duplicate entries\n",
    "# https://www.w3schools.com/python/python_howto_remove_duplicates.asp\n",
    "output = list( dict.fromkeys(output) ) \n",
    "\n",
    "output = [path_prefix + x + suffix for x in output]\n",
    "\n",
    "output"
   ]
  }
 ],
 "metadata": {
  "kernelspec": {
   "display_name": "Python 3 (ipykernel)",
   "language": "python",
   "name": "python3"
  },
  "language_info": {
   "codemirror_mode": {
    "name": "ipython",
    "version": 3
   },
   "file_extension": ".py",
   "mimetype": "text/x-python",
   "name": "python",
   "nbconvert_exporter": "python",
   "pygments_lexer": "ipython3",
   "version": "3.8.10"
  }
 },
 "nbformat": 4,
 "nbformat_minor": 4
}
